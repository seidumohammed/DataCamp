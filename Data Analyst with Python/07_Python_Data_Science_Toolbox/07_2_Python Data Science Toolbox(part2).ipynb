{
 "cells": [
  {
   "cell_type": "markdown",
   "id": "7972625c-cc2d-491c-a43a-585d53110f69",
   "metadata": {},
   "source": [
    "# Python Data Science Toolbox (Part 2)"
   ]
  },
  {
   "cell_type": "markdown",
   "id": "8b783aca-5ffc-436a-b50b-ab05a7d1c6cb",
   "metadata": {},
   "source": [
    "# 1. Using iterators in PythonLand\n",
    "**You'll learn all about iterators and iterables, which you have already worked with when writing for loops. You'll learn some handy functions that will allow you to effectively work with iterators. And you’ll finish the chapter with a use case that is pertinent to the world of data science and dealing with large amounts of data—in this case, data from Twitter that you will load in chunks using iterators.**"
   ]
  },
  {
   "cell_type": "markdown",
   "id": "be82d3b0-d3d8-445e-b514-4c5a51aa329f",
   "metadata": {},
   "source": [
    "## Iterators vs Iterables\n",
    "- An ***iterable*** is an object that can return an *iterator*.\n",
    "- An ***iterator*** is an object that keeps state and produces the next value when you call `next()` on it."
   ]
  },
  {
   "cell_type": "markdown",
   "id": "c6df245c-1923-485c-a2a9-3b13b7ece583",
   "metadata": {},
   "source": [
    "## Iterating over iterables (1)\n",
    "In this exercise, you will reinforce your knowledge about these by iterating over and printing from iterables and iterators.\n",
    "\n",
    "You are provided with a list of strings `flash`. You will practice iterating over the list by using a `for` loop. You will also create an iterator for the list and access the values from the iterator.\n",
    "\n",
    "- Create a `for` loop to loop over `flash` and print the values in the list. Use `person` as the loop variable."
   ]
  },
  {
   "cell_type": "code",
   "execution_count": 1,
   "id": "844da43a-0f26-4941-93bb-e484ef977dd5",
   "metadata": {},
   "outputs": [
    {
     "name": "stdout",
     "output_type": "stream",
     "text": [
      "jay garrick\n",
      "barry allen\n",
      "wally west\n",
      "bart allen\n"
     ]
    }
   ],
   "source": [
    "# Create a list of strings: flash\n",
    "flash = ['jay garrick', 'barry allen', 'wally west', 'bart allen']\n",
    "\n",
    "# Print each list item in flash using a for loop\n",
    "for person in flash:\n",
    "    print(person)"
   ]
  },
  {
   "cell_type": "markdown",
   "id": "f259be66-5085-4f01-ab61-49e852d878fa",
   "metadata": {},
   "source": [
    "- Create an iterator for the list `flash` and assign the result to `superhero`.\n",
    "- Print each of the items from `superhero` using `next()` 4 times."
   ]
  },
  {
   "cell_type": "code",
   "execution_count": 2,
   "id": "58071f59-a3b3-41ff-afee-b2409d2fc3dc",
   "metadata": {},
   "outputs": [
    {
     "name": "stdout",
     "output_type": "stream",
     "text": [
      "jay garrick\n",
      "barry allen\n",
      "wally west\n",
      "bart allen\n"
     ]
    }
   ],
   "source": [
    "# Create an iterator for flash: superhero\n",
    "superhero = iter(flash)\n",
    "\n",
    "# Print each item from the iterator\n",
    "print(next(superhero))\n",
    "print(next(superhero))\n",
    "print(next(superhero))\n",
    "print(next(superhero))"
   ]
  },
  {
   "cell_type": "markdown",
   "id": "deff036c-6b11-4a72-8fd7-72519113c7e4",
   "metadata": {},
   "source": [
    "## Iterating over iterables (2)\n",
    "Not all iterables are *actual lists*. A couple of examples that we looked at are *strings* and the use of the `range()` function. In this exercise, we will focus on the `range()` function.\n",
    "\n",
    "You can use `range()` in a `for` loop as *if* it's a list to be iterated over:\n",
    "```python\n",
    "for i in range(5):\n",
    "    print(i)\n",
    "```\n",
    "Recall that `range()` doesn't actually create the list; instead, it creates a range object with an iterator that produces the values until it reaches the limit (in the example, until the value 4). If `range()` created the actual list, calling it with a value of 10<sup>100</sup> may not work, especially since a number as big as that may go over a regular computer's memory. The value 10<sup>100</sup> is actually what's called a **Googol** which is a 1 followed by a hundred 0s. That's a huge number!\n",
    "\n",
    "Your task for this exercise is to show that calling `range()` with 10<sup>100</sup> won't actually pre-create the list."
   ]
  },
  {
   "cell_type": "markdown",
   "id": "48f3c879-0a57-436c-aaab-be3c435301b8",
   "metadata": {},
   "source": [
    "- Create an **iterator** object `small_value` over `range(3)` using the function `iter()`."
   ]
  },
  {
   "cell_type": "code",
   "execution_count": 3,
   "id": "660b5340-abea-4aab-a6a9-ab3f1ca138ac",
   "metadata": {},
   "outputs": [
    {
     "name": "stdout",
     "output_type": "stream",
     "text": [
      "0\n",
      "1\n",
      "2\n"
     ]
    }
   ],
   "source": [
    "# Create an iterator for range(3): small_value\n",
    "small_value = iter(range(3))\n",
    "\n",
    "# Print the values in small_value\n",
    "print(next(small_value))\n",
    "print(next(small_value))\n",
    "print(next(small_value))"
   ]
  },
  {
   "cell_type": "markdown",
   "id": "4942e177-9ba2-46ff-854f-7d452d094e4e",
   "metadata": {},
   "source": [
    "- Using a `for` loop, iterate over `range(3)`, printing the value for every iteration. Use `num` as the loop variable."
   ]
  },
  {
   "cell_type": "code",
   "execution_count": 4,
   "id": "02622350-3d94-4123-9075-1bd4fab44b45",
   "metadata": {},
   "outputs": [
    {
     "name": "stdout",
     "output_type": "stream",
     "text": [
      "0\n",
      "1\n",
      "2\n"
     ]
    }
   ],
   "source": [
    "# Loop over range(3) and print the values\n",
    "for i in range(3):\n",
    "    print(i)"
   ]
  },
  {
   "cell_type": "markdown",
   "id": "1421ddb2-7371-48c3-aff7-4a02f7df50d5",
   "metadata": {},
   "source": [
    "- Create an **iterator** object `googol` over `range(10 ** 100)`."
   ]
  },
  {
   "cell_type": "code",
   "execution_count": 5,
   "id": "d0af7bb6-10b4-4c66-aead-a648a838f7f6",
   "metadata": {},
   "outputs": [
    {
     "name": "stdout",
     "output_type": "stream",
     "text": [
      "0\n",
      "1\n",
      "2\n",
      "3\n",
      "4\n"
     ]
    }
   ],
   "source": [
    "# Create an iterator for range(10 ** 100): googol\n",
    "googol = iter(range(10 ** 100))\n",
    "\n",
    "# Print the first 5 values from googol\n",
    "print(next(googol))\n",
    "print(next(googol))\n",
    "print(next(googol))\n",
    "print(next(googol))\n",
    "print(next(googol))"
   ]
  },
  {
   "cell_type": "markdown",
   "id": "075c7a58-f885-43c4-b036-7e3f9c9857f0",
   "metadata": {},
   "source": [
    "## Iterators as function arguments\n",
    "You've been using the `iter()` function to get an iterator object, as well as the `next()` function to retrieve the values one by one from the iterator object.\n",
    "\n",
    "There are also functions that take iterators and iterables as arguments. For example, the `list()` and `sum()` functions return a list and the sum of elements, respectively.\n",
    "\n",
    "In this exercise, you will use these functions by passing an iterable from `range()` and then printing the results of the function calls."
   ]
  },
  {
   "cell_type": "markdown",
   "id": "9ef1866c-e784-4fcb-bb5f-80b4f4accbed",
   "metadata": {},
   "source": [
    "- Create a `range` object that would produce the values from 10 to 20 using `range()`. Assign the result to `values`."
   ]
  },
  {
   "cell_type": "code",
   "execution_count": 6,
   "id": "f41d7abe-c795-4e1a-ad96-d3e9d3b9a374",
   "metadata": {},
   "outputs": [
    {
     "name": "stdout",
     "output_type": "stream",
     "text": [
      "range(10, 21)\n"
     ]
    }
   ],
   "source": [
    "# Create a range object: values\n",
    "values = range(10, 21)\n",
    "\n",
    "# Print the range object\n",
    "print(values)"
   ]
  },
  {
   "cell_type": "markdown",
   "id": "a6354139-9ebc-4569-a8bb-c9c1e600025c",
   "metadata": {},
   "source": [
    "- Use the `list()` function to create a list of values from the range object `values`. Assign the result to `values_list`."
   ]
  },
  {
   "cell_type": "code",
   "execution_count": 7,
   "id": "08c59c6b-e492-48ad-b9fd-d5db1eb4d7d8",
   "metadata": {},
   "outputs": [
    {
     "name": "stdout",
     "output_type": "stream",
     "text": [
      "[10, 11, 12, 13, 14, 15, 16, 17, 18, 19, 20]\n"
     ]
    }
   ],
   "source": [
    "# Create a list of integers: values_list\n",
    "values_list = list(values)\n",
    "\n",
    "# Print values_list\n",
    "print(values_list)"
   ]
  },
  {
   "cell_type": "markdown",
   "id": "06ec0068-b885-4419-8bbc-fc99b4cc69c0",
   "metadata": {},
   "source": [
    "- Use the `sum()` function to get the sum of the values from 10 to 20 from the range object `values`. Assign the result to `values_sum`."
   ]
  },
  {
   "cell_type": "code",
   "execution_count": 8,
   "id": "a274e529-c5db-4e83-9e37-ad484234bddc",
   "metadata": {},
   "outputs": [
    {
     "name": "stdout",
     "output_type": "stream",
     "text": [
      "165\n"
     ]
    }
   ],
   "source": [
    "# Get the sum of values: values_sum\n",
    "values_sum = sum(values)\n",
    "\n",
    "# Print values_sum\n",
    "print(values_sum)"
   ]
  },
  {
   "cell_type": "markdown",
   "id": "81555d4e-76c7-40b5-a7aa-d8e84ebfc09c",
   "metadata": {},
   "source": [
    "## Using enumerate\n",
    "`enumerate()` returns an `enumerate` object that produces a sequence of tuples, and each of the tuples is an *index-value* pair.\n",
    "\n",
    "In this exercise, you are given a list of strings `mutants` and you will practice using `enumerate()` on it by printing out a list of tuples and unpacking the tuples using a `for` loop."
   ]
  },
  {
   "cell_type": "markdown",
   "id": "2c4ebdf1-0038-4983-b2fc-b43e49b2ef40",
   "metadata": {},
   "source": [
    "- Create a list of tuples from `mutants` and assign the result to `mutant_list`. Make sure you generate the tuples using `enumerate()` and turn the result from it into a list using `list()`."
   ]
  },
  {
   "cell_type": "code",
   "execution_count": 9,
   "id": "e946a4b1-6c9e-4a47-9109-a838f5a15993",
   "metadata": {},
   "outputs": [
    {
     "name": "stdout",
     "output_type": "stream",
     "text": [
      "[(0, 'charles xavier'), (1, 'bobby drake'), (2, 'kurt wagner'), (3, 'max eisenhardt'), (4, 'kitty pryde')]\n"
     ]
    }
   ],
   "source": [
    "# Create a list of strings: mutants\n",
    "mutants = ['charles xavier', \n",
    "            'bobby drake', \n",
    "            'kurt wagner', \n",
    "            'max eisenhardt', \n",
    "            'kitty pryde']\n",
    "\n",
    "# Create a list of tuples: mutant_list\n",
    "mutant_list = list(enumerate(mutants))\n",
    "\n",
    "# Print the list of tuples\n",
    "print(mutant_list)"
   ]
  },
  {
   "cell_type": "markdown",
   "id": "8fe692d8-5de0-4c05-bd55-9a8b2fe98697",
   "metadata": {},
   "source": [
    "- Complete the first `for` loop by unpacking the tuples generated by calling `enumerate()` on `mutants`. Use `index1` for the index and `value1` for the value when unpacking the tuple."
   ]
  },
  {
   "cell_type": "code",
   "execution_count": 10,
   "id": "1c95b241-d9e2-498c-a473-6ad2812ddec2",
   "metadata": {},
   "outputs": [
    {
     "name": "stdout",
     "output_type": "stream",
     "text": [
      "0 charles xavier\n",
      "1 bobby drake\n",
      "2 kurt wagner\n",
      "3 max eisenhardt\n",
      "4 kitty pryde\n"
     ]
    }
   ],
   "source": [
    "# Unpack and print the tuple pairs\n",
    "for index1, value1 in enumerate(mutants):\n",
    "    print(index1, value1)"
   ]
  },
  {
   "cell_type": "markdown",
   "id": "664cb3d9-ec56-49ea-937a-170f01f86e6a",
   "metadata": {},
   "source": [
    "- Complete the second `for` loop similarly as with the first, but this time change the starting index to start from `1` by passing it in as an argument to the `start` parameter of `enumerate()`. Use `index2` for the index and `value2` for the value when unpacking the tuple."
   ]
  },
  {
   "cell_type": "code",
   "execution_count": 12,
   "id": "056e1308-57d0-4c26-98bb-30ea1a670dc9",
   "metadata": {},
   "outputs": [
    {
     "name": "stdout",
     "output_type": "stream",
     "text": [
      "1 charles xavier\n",
      "2 bobby drake\n",
      "3 kurt wagner\n",
      "4 max eisenhardt\n",
      "5 kitty pryde\n"
     ]
    }
   ],
   "source": [
    "# Change the start index\n",
    "for index2, value2 in enumerate(mutants, start=1):\n",
    "    print(index2, value2)"
   ]
  },
  {
   "cell_type": "markdown",
   "id": "55f4d82a-60bf-4254-854c-536b84644a04",
   "metadata": {},
   "source": [
    "## Using zip\n",
    "Another interesting function that you've learned is `zip()`, which takes any number of iterables and returns a `zip` object that is an iterator of tuples. If you wanted to print the values of a `zip` object, you can convert it into a list and then print it. Printing just a `zip` object will not return the values unless you unpack it first. In this exercise, you will explore this for yourself.\n",
    "\n",
    "First, you will use `list()` and `zip()` on these lists to generate a list of tuples. Then, you will create a `zip` object using `zip()`. Finally, you will unpack this `zip` object in a `for` loop to print the values in each tuple. Observe the different output generated by printing the list of tuples, then the `zip` object, and finally, the tuple values in the `for` loop."
   ]
  },
  {
   "cell_type": "code",
   "execution_count": 15,
   "id": "636998c0-66e0-46bf-8b34-3a36559d7216",
   "metadata": {},
   "outputs": [],
   "source": [
    "mutants = ['charles xavier', 'bobby drake', 'kurt wagner', 'max eisenhardt', 'kitty pryde']\n",
    "\n",
    "aliases = ['prof x', 'iceman', 'nightcrawler', 'magneto', 'shadowcat']\n",
    "\n",
    "powers = ['telepathy', 'thermokinesis', 'teleportation', 'magnetokinesis', 'intangibility'] "
   ]
  },
  {
   "cell_type": "markdown",
   "id": "9dc81ff6-a809-47fb-8993-0653d5d71399",
   "metadata": {},
   "source": [
    "- Using `zip()` with `list()`, create a list of *tuples* from the three lists `mutants`, `aliases`, and `powers` (in that order) and assign the result to `mutant_data`."
   ]
  },
  {
   "cell_type": "code",
   "execution_count": 16,
   "id": "fd5eeed0-d3de-4dcb-9404-c4111234f1e7",
   "metadata": {},
   "outputs": [
    {
     "name": "stdout",
     "output_type": "stream",
     "text": [
      "[('charles xavier', 'prof x', 'telepathy'), ('bobby drake', 'iceman', 'thermokinesis'), ('kurt wagner', 'nightcrawler', 'teleportation'), ('max eisenhardt', 'magneto', 'magnetokinesis'), ('kitty pryde', 'shadowcat', 'intangibility')]\n"
     ]
    }
   ],
   "source": [
    "# Create a list of tuples: mutant_data\n",
    "mutant_data = list(zip(mutants, aliases, powers))\n",
    "\n",
    "# Print the list of tuples\n",
    "print(mutant_data)"
   ]
  },
  {
   "cell_type": "markdown",
   "id": "4a2aa648-df33-412c-82db-9742f80f21ea",
   "metadata": {},
   "source": [
    "- Using `zip()`, create a *zip object* called `mutant_zip` from the three lists `mutants`, `aliases`, and `powers`."
   ]
  },
  {
   "cell_type": "code",
   "execution_count": 17,
   "id": "a5ae57cb-2bc8-454f-bbe1-3c52356870a9",
   "metadata": {},
   "outputs": [
    {
     "name": "stdout",
     "output_type": "stream",
     "text": [
      "<zip object at 0x00000296053BEA80>\n"
     ]
    }
   ],
   "source": [
    "# Create a zip object using the three lists: mutant_zip\n",
    "mutant_zip = zip(mutants, aliases, powers)\n",
    "\n",
    "# Print the zip object\n",
    "print(mutant_zip)"
   ]
  },
  {
   "cell_type": "markdown",
   "id": "6914f2ef-07a2-436c-ad11-ec3779706b72",
   "metadata": {},
   "source": [
    "- Complete the `for` loop by unpacking the `zip` object you created and printing the tuple values. Use `value1`, `value2`, `value3` for the values from each of `mutants`, `aliases`, and `powers`, in that order."
   ]
  },
  {
   "cell_type": "code",
   "execution_count": 18,
   "id": "0b5a3e59-588a-4371-b62d-fc74bdddfd75",
   "metadata": {},
   "outputs": [
    {
     "name": "stdout",
     "output_type": "stream",
     "text": [
      "charles xavier prof x telepathy\n",
      "bobby drake iceman thermokinesis\n",
      "kurt wagner nightcrawler teleportation\n",
      "max eisenhardt magneto magnetokinesis\n",
      "kitty pryde shadowcat intangibility\n"
     ]
    }
   ],
   "source": [
    "# Unpack the zip object and print the tuple values\n",
    "for value1,value2,value3 in mutant_zip:\n",
    "    print(value1, value2, value3)"
   ]
  },
  {
   "cell_type": "markdown",
   "id": "d0e00424-3ed6-4b0b-922f-116bb31210d8",
   "metadata": {},
   "source": [
    "## Using * and zip to 'unzip'\n",
    "Let's play around with `zip()` a little more. There is no *unzip* function for doing the reverse of what `zip()` does. We can, however, reverse what has been zipped together by using `zip()` with a little help from `*`!`*` unpacks an iterable such as a list or a tuple into positional arguments in a function call.\n",
    "\n",
    "In this exercise, you will use `*` in a call to `zip()` to unpack the tuples produced by `zip()`."
   ]
  },
  {
   "cell_type": "code",
   "execution_count": 24,
   "id": "f654a6e5-b7be-4b59-91fc-0a78d40896e5",
   "metadata": {},
   "outputs": [],
   "source": [
    "mutants = ('charles xavier', 'bobby drake', 'kurt wagner', 'max eisenhardt', 'kitty pryde')\n",
    "\n",
    "powers = ('telepathy', 'thermokinesis', 'teleportation', 'magnetokinesis', 'intangibility')"
   ]
  },
  {
   "cell_type": "markdown",
   "id": "f5ddeb3e-b986-4cfb-8d8a-3ad34776778d",
   "metadata": {},
   "source": [
    "- Create a `zip` object by using `zip()` on `mutants` and `powers`, in that order. Assign the result to `z1`.\n",
    "- Print the tuples in `z1` by unpacking them into positional arguments using the `*` operator in a `print()` call."
   ]
  },
  {
   "cell_type": "code",
   "execution_count": 25,
   "id": "1a46ed7a-6a7f-4a8e-89d9-416a8c524742",
   "metadata": {},
   "outputs": [
    {
     "name": "stdout",
     "output_type": "stream",
     "text": [
      "<zip object at 0x00000296053D3B80>\n"
     ]
    }
   ],
   "source": [
    "# Create a zip object from mutants and powers: z1\n",
    "z1 = zip(mutants, powers)\n",
    "\n",
    "# Print the tuples in z1 by unpacking with *\n",
    "print(z1)"
   ]
  },
  {
   "cell_type": "markdown",
   "id": "758d4eef-cd1f-422e-860b-d3ae116c72b0",
   "metadata": {},
   "source": [
    "- Because the previous `print()` call would have exhausted the elements in `z1`, recreate the `zip` object you defined earlier and assign the result again to `z1`.\n",
    "- 'Unzip' the tuples in `z1` by unpacking them into positional arguments using the `*` operator in a `zip()` call. Assign the results to `result1` and `result2`, in that order.\n",
    "- The last `print()` statements prints the output of comparing `result1` to `mutants` and `result2` to `powers`. See if the unpacked `result1` and `result2` are equivalent to `mutants` and `powers`, respectively."
   ]
  },
  {
   "cell_type": "code",
   "execution_count": 27,
   "id": "330057aa-5567-4bb1-baba-cc0cdc148de2",
   "metadata": {},
   "outputs": [
    {
     "name": "stdout",
     "output_type": "stream",
     "text": [
      "True\n",
      "True\n"
     ]
    }
   ],
   "source": [
    "# Re-create a zip object from mutants and powers: z1\n",
    "z1 = zip(mutants, powers)\n",
    "\n",
    "# 'Unzip' the tuples in z1 by unpacking with * and zip(): result1, result2\n",
    "result1, result2 = zip(*z1)\n",
    "\n",
    "# Check if unpacked tuples are equivalent to original tuples\n",
    "print(result1 == mutants)\n",
    "print(result2 == powers)"
   ]
  },
  {
   "cell_type": "markdown",
   "id": "41d043be-b4a2-48d0-b8c0-33743809f428",
   "metadata": {},
   "source": [
    "## Processing large amounts of Twitter data\n",
    "Sometimes, the data we have to process reaches a size that is too much for a computer's memory to handle. This is a common problem faced by data scientists. A solution to this is to process an entire data source chunk by chunk, instead of a single go all at once.\n",
    "\n",
    "In this exercise, you will do just that. You will process a large csv file of Twitter data in the same way that you processed `'tweets.csv'` in Bringing it all together exercises of the prequel course, but this time, working on it in chunks of 10 entries at a time.\n",
    "\n",
    "*Be aware that this is real data from Twitter and as such there is always a risk that it may contain profanity or other offensive content (in this exercise, and any following exercises that also use real Twitter data).*"
   ]
  },
  {
   "cell_type": "markdown",
   "id": "ecff38b6-2465-46fb-ae1f-90dfd5ea0a1a",
   "metadata": {},
   "source": [
    "- Initialize an empty dictionary `counts_dict` for storing the results of processing the Twitter data.\n",
    "- Iterate over the `'tweets.csv'` file by using a `for` loop. Use the loop variable `chunk` and iterate over the call to `pd.read_csv()` with a `chunksize` of 10.\n",
    "- In the inner loop, iterate over the column `'lang'` in `chunk` by using a `for` loop. Use the loop variable `entry`."
   ]
  },
  {
   "cell_type": "code",
   "execution_count": 1,
   "id": "bc081473-6e37-440a-aff1-507fb4b3fcf8",
   "metadata": {},
   "outputs": [
    {
     "name": "stdout",
     "output_type": "stream",
     "text": [
      "{'en': 97, 'et': 1, 'und': 2}\n"
     ]
    }
   ],
   "source": [
    "import pandas as pd\n",
    "\n",
    "# Initialize an empty dictionary: counts_dict\n",
    "counts_dict = {}\n",
    "\n",
    "# Iterate over the file chunk by chunk\n",
    "for chunk in pd.read_csv('tweets.csv', chunksize=10):\n",
    "\n",
    "    # Iterate over the column in DataFrame\n",
    "    for entry in chunk['lang']:\n",
    "        if entry in counts_dict.keys():\n",
    "            counts_dict[entry] += 1\n",
    "        else:\n",
    "            counts_dict[entry] = 1\n",
    "\n",
    "# Print the populated dictionary\n",
    "print(counts_dict)"
   ]
  },
  {
   "cell_type": "markdown",
   "id": "0ba67e05-c3e0-4472-9a25-eb887f2dd526",
   "metadata": {},
   "source": [
    "## Extracting information for large amounts of Twitter data\n",
    "It's good to know how to process a file in smaller, more manageable chunks, but it can become very tedious having to write and rewrite the same code for the same task each time. In this exercise, you will be making your code more *reusable* by putting your work in the last exercise in a *function* definition."
   ]
  },
  {
   "cell_type": "markdown",
   "id": "2ef21c7c-8797-44b6-b217-25cfaca7118b",
   "metadata": {},
   "source": [
    "- Define the function `count_entries()`, which has 3 parameters. The first parameter is `csv_file` for the filename, the second is `c_size` for the chunk size, and the last is `colname` for the column name.\n",
    "- Iterate over the file in `csv_file` file by using a `for` loop. Use the loop variable `chunk` and iterate over the call to `pd.read_csv()`, passing `c_size` to `chunksize`.\n",
    "- In the inner loop, iterate over the column given by `colname` in `chunk` by using a `for` loop. Use the loop variable `entry`.\n",
    "- Call the `count_entries()` function by passing to it the filename `'tweets.csv'`, the size of chunks `10`, and the name of the column to count, `'lang'`. Assign the result of the call to the variable `result_counts`."
   ]
  },
  {
   "cell_type": "code",
   "execution_count": 30,
   "id": "c7e96cac-51c2-4a88-acc9-6ac91b6be476",
   "metadata": {},
   "outputs": [
    {
     "name": "stdout",
     "output_type": "stream",
     "text": [
      "{'en': 97, 'et': 1, 'und': 2}\n"
     ]
    }
   ],
   "source": [
    "# Define count_entries()\n",
    "def count_entries(csv_file, c_size, colname):\n",
    "    \"\"\"Return a dictionary with counts of occurrences as value for each key.\"\"\"\n",
    "    \n",
    "    # Initialize an empty dictionary: counts_dict\n",
    "    counts_dict = {}\n",
    "\n",
    "    # Iterate over the file chunk by chunk\n",
    "    for chunk in pd.read_csv(csv_file, chunksize=c_size):\n",
    "\n",
    "        # Iterate over the column in DataFrame\n",
    "        for entry in chunk[colname]:\n",
    "            if entry in counts_dict.keys():\n",
    "                counts_dict[entry] += 1\n",
    "            else:\n",
    "                counts_dict[entry] = 1\n",
    "\n",
    "    # Return counts_dict\n",
    "    return counts_dict\n",
    "\n",
    "# Call count_entries(): result_counts\n",
    "result_counts = count_entries('tweets.csv', 10, 'lang')\n",
    "\n",
    "# Print result_counts\n",
    "print(result_counts)\n"
   ]
  },
  {
   "cell_type": "markdown",
   "id": "c8a6b641-a9ae-4c04-9635-71f12694cbf8",
   "metadata": {},
   "source": [
    "---"
   ]
  },
  {
   "cell_type": "markdown",
   "id": "22a92ac1-83ac-434c-904d-103e93fbcbc2",
   "metadata": {},
   "source": [
    "# 2. List comprehensions and generators\n",
    "**In this chapter, you'll build on your knowledge of iterators and be introduced to list comprehensions, which allow you to create complicated lists—and lists of lists—in one line of code! List comprehensions can dramatically simplify your code and make it more efficient, and will become a vital part of your Python data science toolbox. You'll then learn about generators, which are extremely helpful when working with large sequences of data that you may not want to store in memory, but instead generate on the fly.**"
   ]
  },
  {
   "cell_type": "markdown",
   "id": "64f46376-627e-461c-be58-963280a0a1cd",
   "metadata": {},
   "source": [
    "## Write a basic list comprehension\n",
    "You will write a list comprehension and identify the output that will be produced.\n",
    "\n",
    "The list:\n",
    "```python\n",
    "doctor = ['house', 'cuddy', 'chase', 'thirteen', 'wilson']\n",
    "```\n",
    "How would a list comprehension that produces a list of the **first character** of each string in `doctor` look like?"
   ]
  },
  {
   "cell_type": "code",
   "execution_count": 31,
   "id": "1968b1e6-18e2-4135-a4cd-e416a2d2979c",
   "metadata": {},
   "outputs": [
    {
     "data": {
      "text/plain": [
       "['h', 'c', 'c', 't', 'w']"
      ]
     },
     "execution_count": 31,
     "metadata": {},
     "output_type": "execute_result"
    }
   ],
   "source": [
    "doctor = ['house', 'cuddy', 'chase', 'thirteen', 'wilson']\n",
    "[doc[0] for doc in doctor]"
   ]
  },
  {
   "cell_type": "markdown",
   "id": "f1098162-0472-450c-9d76-2666e87832a9",
   "metadata": {},
   "source": [
    "## List comprehension over iterables\n",
    "List comprehensions can be built over iterables. Given the following objects below, which of these can we build list comprehensions over?\n",
    "```python\n",
    "doctor = ['house', 'cuddy', 'chase', 'thirteen', 'wilson']\n",
    "\n",
    "range(50)\n",
    "\n",
    "underwood = 'After all, we are nothing more or less than what we choose to reveal.'\n",
    "\n",
    "jean = '24601'\n",
    "\n",
    "flash = ['jay garrick', 'barry allen', 'wally west', 'bart allen']\n",
    "\n",
    "valjean = 24601\n",
    "```"
   ]
  },
  {
   "cell_type": "markdown",
   "id": "0a40fd39-ba75-4837-9986-c9623d0959ae",
   "metadata": {},
   "source": [
    "1. ~You can build list comprehensions over all the objects except the string of number characters `jean`.~\n",
    "\n",
    "2. ~You can build list comprehensions over all the objects except the string lists `doctor` and `flash`.~\n",
    "\n",
    "3. ~You can build list comprehensions over all the objects except `range(50)`.~\n",
    "\n",
    "4. You can build list comprehensions over all the objects except the integer object `valjean`.\n",
    "\n",
    "**Answer: 4.**\n",
    "(1) strings, even strings of number characters, are iterable. \n",
    "(2) lists of string objects are iterable. \n",
    "(3) you can build list comprehensions over `range(50)`."
   ]
  },
  {
   "cell_type": "markdown",
   "id": "e96830fe-5dde-4717-aa70-b87ba0222011",
   "metadata": {},
   "source": [
    "Writing list comprehensions\n",
    "Your job in this exercise is to write a list comprehension that produces a list of the squares of the numbers ranging from 0 to 9.\n",
    "\n",
    "- Using the range of numbers from `0` to `9` as your iterable and `i` as your iterator variable, write a list comprehension that produces a list of numbers consisting of the squared values of `i`."
   ]
  },
  {
   "cell_type": "code",
   "execution_count": 3,
   "id": "aee8f151-3a7f-4867-9548-f6ecb9264489",
   "metadata": {},
   "outputs": [
    {
     "name": "stdout",
     "output_type": "stream",
     "text": [
      "[0, 1, 4, 9, 16, 25, 36, 49, 64, 81]\n"
     ]
    }
   ],
   "source": [
    "# Create list comprehension: squares\n",
    "squares = [i ** 2 for i in range(0, 10)]\n",
    "print(squares)"
   ]
  },
  {
   "cell_type": "markdown",
   "id": "ff698171-cc92-4c85-ba0c-6ccd1fe5bb71",
   "metadata": {},
   "source": [
    "## Nested list comprehensions\n",
    "In this exercise, you will be writing a list comprehension *within* another list comprehension, or nested list comprehensions. It sounds a little tricky, but you can do it!\n",
    "\n",
    "Let's step aside for a while from strings. One of the ways in which lists can be used are in representing multi-dimension objects such as **matrices**. Matrices can be represented as a list of lists in Python. For example a 5 x 5 matrix with values `0` to `4` in each row can be written as:\n",
    "```python\n",
    "matrix = [[0, 1, 2, 3, 4],\n",
    "          [0, 1, 2, 3, 4],\n",
    "          [0, 1, 2, 3, 4],\n",
    "          [0, 1, 2, 3, 4],\n",
    "          [0, 1, 2, 3, 4]]\n",
    "```\n",
    "Your task is to recreate this matrix by using nested listed comprehensions. Recall that you can create one of the rows of the matrix with a single list comprehension. To create the list of lists, you simply have to supply the list comprehension as the **output expression** of the overall list comprehension:\n",
    "\n",
    "`[` `[`*output expression*`]` `for` *iterator variable* `in` *iterable*`]`\n",
    "\n",
    "Note that here, the **output expression** is itself a list comprehension."
   ]
  },
  {
   "cell_type": "markdown",
   "id": "7e16168e-a5d0-44e0-968d-ac81b09c4f0d",
   "metadata": {},
   "source": [
    "- In the inner list comprehension - that is, the **output expression** of the nested list comprehension - create a list of values from `0` to `4` using `range()`. Use `col` as the iterator variable.\n",
    "- In the **iterable** part of your nested list comprehension, use `range()` to count 5 rows - that is, create a list of values from `0` to `4`. Use `row` as the iterator variable; note that you won't be needing this variable to create values in the list of lists."
   ]
  },
  {
   "cell_type": "code",
   "execution_count": 4,
   "id": "392a38c3-ba77-49b1-9ccf-280cdf7bfea4",
   "metadata": {},
   "outputs": [
    {
     "name": "stdout",
     "output_type": "stream",
     "text": [
      "[0, 1, 2, 3, 4]\n",
      "[0, 1, 2, 3, 4]\n",
      "[0, 1, 2, 3, 4]\n",
      "[0, 1, 2, 3, 4]\n",
      "[0, 1, 2, 3, 4]\n"
     ]
    }
   ],
   "source": [
    "# Create a 5 x 5 matrix using a list of lists: matrix\n",
    "matrix = [[col for col in range(0, 5)] for row in range(0, 5)]\n",
    "\n",
    "# Print the matrix\n",
    "for row in matrix:\n",
    "    print(row)"
   ]
  },
  {
   "cell_type": "markdown",
   "id": "59b37b82-3973-450f-aa75-ec3403225db6",
   "metadata": {},
   "source": [
    "## Using conditionals in comprehensions (1)\n",
    "You've been using list comprehensions to build lists of values, sometimes using operations to create these values.\n",
    "\n",
    "An interesting mechanism in list comprehensions is that you can also create lists with values that meet only a certain condition. One way of doing this is by using conditionals on iterator variables. In this exercise, you will do exactly that!\n",
    "\n",
    "Recall from the video that you can apply a conditional statement to test the iterator variable by adding an `if` statement in the optional *predicate expression* part after the `for` statement in the comprehension:\n",
    "\n",
    "`[` *output expression* `for` *iterator variable* `in` *iterable* `if` *predicate expression* `]`\n",
    "\n",
    "You will use this recipe to write a list comprehension for this exercise. You are given a list of strings `fellowship` and, using a list comprehension, you will create a list that only includes the members of `fellowship` that have 7 characters or more."
   ]
  },
  {
   "cell_type": "code",
   "execution_count": 6,
   "id": "233eb5c0-11d3-4af8-97cb-bf596766f083",
   "metadata": {},
   "outputs": [],
   "source": [
    "fellowship = ['frodo', 'samwise', 'merry', 'aragorn', 'legolas', 'boromir', 'gimli']"
   ]
  },
  {
   "cell_type": "markdown",
   "id": "bf51275a-6cc0-4c44-82ab-e230d2ed16ca",
   "metadata": {},
   "source": [
    "- Use `member` as the iterator variable in the list comprehension. For the conditional, use `len()` to evaluate the iterator variable. Note that you only want strings with 7 characters or more."
   ]
  },
  {
   "cell_type": "code",
   "execution_count": 7,
   "id": "d5f42cdf-e110-42dd-a45c-78d38c786a16",
   "metadata": {},
   "outputs": [
    {
     "name": "stdout",
     "output_type": "stream",
     "text": [
      "['samwise', 'aragorn', 'legolas', 'boromir']\n"
     ]
    }
   ],
   "source": [
    "# Create list comprehension: new_fellowship\n",
    "new_fellowship = [member for member in fellowship if len(member) >= 7]\n",
    "\n",
    "# Print the new list\n",
    "print(new_fellowship)"
   ]
  },
  {
   "cell_type": "markdown",
   "id": "05df301d-90e9-4833-b8cd-df9c81753957",
   "metadata": {},
   "source": [
    "## Using conditionals in comprehensions (2)\n",
    "In the previous exercise, you used an `if` conditional statement in the *predicate expression* part of a list comprehension to evaluate an iterator variable. In this exercise, you will use an `if-else` statement on the *output expression* of the list.\n",
    "\n",
    "You will work on the same list, `fellowship` and, using a list comprehension and an `if-else` conditional statement in the output expression, create a list that keeps members of `fellowship` with 7 or more characters and replaces others with an empty string. Use `member` as the iterator variable in the list comprehension."
   ]
  },
  {
   "cell_type": "markdown",
   "id": "be32d0c9-2083-4998-9af8-f0f665b52082",
   "metadata": {},
   "source": [
    "- In the output expression, keep the string as-is **if** the number of characters is >= 7, **else** replace it with an empty string - that is, `''` or `\"\"`."
   ]
  },
  {
   "cell_type": "code",
   "execution_count": 8,
   "id": "7a1842ce-bae4-407e-9c86-79e65ae241b6",
   "metadata": {},
   "outputs": [
    {
     "name": "stdout",
     "output_type": "stream",
     "text": [
      "['', 'samwise', '', 'aragorn', 'legolas', 'boromir', '']\n"
     ]
    }
   ],
   "source": [
    "# Create list comprehension: new_fellowship\n",
    "new_fellowship = [member if len(member) >=7 else '' for member in fellowship]\n",
    "\n",
    "# Print the new list\n",
    "print(new_fellowship)"
   ]
  },
  {
   "cell_type": "markdown",
   "id": "4930654c-895e-4b19-83ec-7f4118bd3665",
   "metadata": {},
   "source": [
    "## Dict comprehensions\n",
    "Comprehensions aren't relegated merely to the world of lists. There are many other objects you can build using comprehensions, such as dictionaries, pervasive objects in Data Science. You will create a dictionary using the comprehension syntax for this exercise. In this case, the comprehension is called a **dict comprehension**.\n",
    "\n",
    "Recall that the main difference between a *list comprehension* and a *dict comprehension* is the use of curly braces `{}` instead of `[]`. Additionally, members of the dictionary are created using a colon `:`, as in `<key> : <value>`.\n",
    "\n",
    "You are given a list of strings `fellowship` and, using a **dict comprehension**, create a dictionary with the members of the list as the keys and the length of each string as the corresponding values."
   ]
  },
  {
   "cell_type": "markdown",
   "id": "801bbcba-2e26-4413-b6a1-7f44bdc9849c",
   "metadata": {},
   "source": [
    "- Create a dict comprehension where the key is a string in `fellowship` and the value is the length of the string. Remember to use the syntax `<key> : <value>` in the output expression part of the comprehension to create the members of the dictionary. Use `member` as the iterator variable."
   ]
  },
  {
   "cell_type": "code",
   "execution_count": 9,
   "id": "5969d186-b08d-4350-b478-9d3f8570c7bf",
   "metadata": {},
   "outputs": [
    {
     "name": "stdout",
     "output_type": "stream",
     "text": [
      "{'frodo': 5, 'samwise': 7, 'merry': 5, 'aragorn': 7, 'legolas': 7, 'boromir': 7, 'gimli': 5}\n"
     ]
    }
   ],
   "source": [
    "# Create dict comprehension: new_fellowship\n",
    "new_fellowship = {member : len(member) for member in fellowship}\n",
    "\n",
    "# Print the new dictionary\n",
    "print(new_fellowship)"
   ]
  },
  {
   "cell_type": "markdown",
   "id": "40f2e571-0407-4097-a421-157e55c4e37f",
   "metadata": {},
   "source": [
    "## List comprehensions vs generators\n",
    "List comprehensions and generator expressions look very similar in their syntax, except for the use of parentheses `()` in generator expressions and brackets `[]` in list comprehensions.\n",
    "\n",
    "In this exercise, you will recall the difference between list comprehensions and generators. To help with that task, the following code:"
   ]
  },
  {
   "cell_type": "code",
   "execution_count": 10,
   "id": "7e21dd47-79ec-4d52-b916-7349708ab75b",
   "metadata": {},
   "outputs": [],
   "source": [
    "# List of strings\n",
    "fellowship = ['frodo', 'samwise', 'merry', 'aragorn', 'legolas', 'boromir', 'gimli']\n",
    "\n",
    "# List comprehension\n",
    "fellow1 = [member for member in fellowship if len(member) >= 7]\n",
    "\n",
    "# Generator expression\n",
    "fellow2 = (member for member in fellowship if len(member) >= 7)"
   ]
  },
  {
   "cell_type": "markdown",
   "id": "98c6a3f9-73ef-41a2-a34b-81b015926e80",
   "metadata": {},
   "source": [
    "Select from the options below the best description for the difference between list comprehensions and generators.\n",
    "\n",
    "1. ~List comprehensions and generators are not different at all; they are just different ways of writing the same thing.~\n",
    "\n",
    "2. A list comprehension produces a list as output, a generator produces a generator object.\n",
    "\n",
    "3. ~A list comprehension produces a list as output that can be iterated over, a generator produces a generator object that can't be iterated over.~\n",
    "\n",
    "**Answer: 2.** "
   ]
  },
  {
   "cell_type": "code",
   "execution_count": 20,
   "id": "67dc7354-388c-4e26-8cf2-8ec509eb1afb",
   "metadata": {},
   "outputs": [
    {
     "name": "stdout",
     "output_type": "stream",
     "text": [
      "fellow1: <class 'list'> - ['samwise', 'aragorn', 'legolas', 'boromir'] \n",
      "fellow2: <class 'generator'> - <generator object <genexpr> at 0x0000021B6FF75A50>\n"
     ]
    }
   ],
   "source": [
    "print('fellow1:', type(fellow1), '-' ,fellow1, '\\nfellow2:', type(fellow2), '-' ,fellow2)"
   ]
  },
  {
   "cell_type": "markdown",
   "id": "dbcf85f9-e698-4f27-b640-bd8ae6c8ffbb",
   "metadata": {},
   "source": [
    "## Write your own generator expressions\n",
    "In this exercise, you will practice building generator expressions on your own.\n",
    "\n",
    "Recall that generator expressions basically have the same syntax as list comprehensions, except that it uses parentheses `()` instead of brackets `[]`. Furthermore, if you have ever iterated over a dictionary with `.items()`, or used the `range()` function, for example, you have already encountered and used generators before, without knowing it. When you use these functions, Python creates generators for you behind the scenes.\n",
    "\n",
    "Now, you will start simple by creating a generator object that produces numeric values."
   ]
  },
  {
   "cell_type": "markdown",
   "id": "ff0cee0d-cb88-44bf-bfa0-b0893960f174",
   "metadata": {},
   "source": [
    "- Create a generator object that will produce values from `0` to `30`. Assign the result to `result` and use `num` as the iterator variable in the generator expression.\n",
    "- Print the first `5` values by using `next()` appropriately in `print()`."
   ]
  },
  {
   "cell_type": "code",
   "execution_count": 21,
   "id": "c68a5f0a-09d6-47e3-ba77-de91996bd088",
   "metadata": {},
   "outputs": [
    {
     "name": "stdout",
     "output_type": "stream",
     "text": [
      "0\n",
      "1\n",
      "2\n",
      "3\n",
      "4\n"
     ]
    }
   ],
   "source": [
    "# Create generator object: result\n",
    "result = (i for i in range(0, 31))\n",
    "\n",
    "# Print the first 5 values\n",
    "print(next(result))\n",
    "print(next(result))\n",
    "print(next(result))\n",
    "print(next(result))\n",
    "print(next(result))"
   ]
  },
  {
   "cell_type": "markdown",
   "id": "35b33853-3c71-44b6-89e7-b4d7dd47b82a",
   "metadata": {},
   "source": [
    "- Print the rest of the values by using a `for` loop to iterate over the generator object."
   ]
  },
  {
   "cell_type": "code",
   "execution_count": 22,
   "id": "a7a6a998-9fda-4d7b-9819-c2eb2641b23e",
   "metadata": {},
   "outputs": [
    {
     "name": "stdout",
     "output_type": "stream",
     "text": [
      "5\n",
      "6\n",
      "7\n",
      "8\n",
      "9\n",
      "10\n",
      "11\n",
      "12\n",
      "13\n",
      "14\n",
      "15\n",
      "16\n",
      "17\n",
      "18\n",
      "19\n",
      "20\n",
      "21\n",
      "22\n",
      "23\n",
      "24\n",
      "25\n",
      "26\n",
      "27\n",
      "28\n",
      "29\n",
      "30\n"
     ]
    }
   ],
   "source": [
    "# Print the rest of the values\n",
    "for value in result:\n",
    "    print(value)"
   ]
  },
  {
   "cell_type": "markdown",
   "id": "47660054-f27d-4bd9-944b-c7709de918b8",
   "metadata": {},
   "source": [
    "## Changing the output in generator expressions\n",
    "In this exercise, you will push this idea a little further by adding to the output expression of a generator expression. Because generator expressions and list comprehensions are so alike in syntax, this should be a familiar task for you.\n",
    "\n",
    "You are given a list of strings `lannister` and, using a generator expression, create a generator object that you will iterate over to print its values."
   ]
  },
  {
   "cell_type": "code",
   "execution_count": 23,
   "id": "1f78accf-e639-48c0-bfcb-863c2a2dfbfd",
   "metadata": {},
   "outputs": [],
   "source": [
    "lannister = ['cersei', 'jaime', 'tywin', 'tyrion', 'joffrey']"
   ]
  },
  {
   "cell_type": "markdown",
   "id": "93b2944b-fd8b-41fb-8393-ef42c0837673",
   "metadata": {},
   "source": [
    "- Write a generator expression that will generate the **lengths** of each string in `lannister`. Use `person` as the iterator variable. Assign the result to `lengths`.\n",
    "- Supply the correct iterable in the `for` loop for printing the values in the generator object."
   ]
  },
  {
   "cell_type": "code",
   "execution_count": 24,
   "id": "fd182ed5-bd78-4c72-8e60-24fcb3ab2e24",
   "metadata": {},
   "outputs": [
    {
     "name": "stdout",
     "output_type": "stream",
     "text": [
      "6\n",
      "5\n",
      "5\n",
      "6\n",
      "7\n"
     ]
    }
   ],
   "source": [
    "# Create a generator object: lengths\n",
    "lengths = (len(person) for person in lannister)\n",
    "\n",
    "# Iterate over and print the values in lengths\n",
    "for value in lengths:\n",
    "    print(value)"
   ]
  },
  {
   "cell_type": "markdown",
   "id": "127f81da-16aa-4540-829d-645e471a15c3",
   "metadata": {},
   "source": [
    "## Build a generator\n",
    "In previous exercises, you've dealt mainly with writing generator expressions, which uses comprehension syntax. Being able to use comprehension syntax for generator expressions made your work so much easier.\n",
    "\n",
    "Now, not only are there generator expressions, there are *generator functions* as well. **Generator functions** are functions that, like generator expressions, yield a series of values, instead of returning a single value. A generator function is defined as you do a regular function, but whenever it generates a value, it uses the keyword `yield` instead of `return`.\n",
    "\n",
    "In this exercise, you will create a generator function with a similar mechanism as the generator expression you defined in the previous exercise:\n",
    "\n",
    "```python\n",
    "lengths = (len(person) for person in lannister)\n",
    "```"
   ]
  },
  {
   "cell_type": "markdown",
   "id": "692698c4-b174-4987-8eed-9f5fb8cd7b87",
   "metadata": {},
   "source": [
    "- Write the function header for the function `get_lengths()` that has a single parameter, `input_list`.\n",
    "- In the `for` loop in the function definition, `yield` the *length* of the strings in `input_list`.\n",
    "- Write the iterable part of the `for` loop for printing the values generated by the `get_lengths()` generator function. Supply the call to `get_lengths()`, passing in the list `lannister`."
   ]
  },
  {
   "cell_type": "code",
   "execution_count": 25,
   "id": "3c23b786-0e38-45fe-aa52-89ab7437bdbc",
   "metadata": {},
   "outputs": [
    {
     "name": "stdout",
     "output_type": "stream",
     "text": [
      "6\n",
      "5\n",
      "5\n",
      "6\n",
      "7\n"
     ]
    }
   ],
   "source": [
    "# Define generator function get_lengths\n",
    "def get_lengths(input_list):\n",
    "    \"\"\"Generator function that yields the length of the strings in input_list.\"\"\"\n",
    "\n",
    "    # Yield the length of a string\n",
    "    for person in input_list:\n",
    "        yield len(person)\n",
    "\n",
    "# Print the values generated by get_lengths()\n",
    "for value in get_lengths(lannister):\n",
    "    print(value)"
   ]
  },
  {
   "cell_type": "markdown",
   "id": "6e210e6a-40f0-42a2-8bcd-1986f9e7eb1c",
   "metadata": {},
   "source": [
    "## List comprehensions for time-stamped data\n",
    "You will now make use of what you've learned from this chapter to solve a simple data extraction problem. You will also be introduced to a data structure, the pandas **Series**, in this exercise. We won't elaborate on it much here, but what you should know is that it is a data structure that you will be working with a lot of times when analyzing data from pandas DataFrames. You can think of DataFrame columns as single-dimension arrays called Series.\n",
    "\n",
    "In this exercise, you will be using a list comprehension to extract the time from time-stamped Twitter data. "
   ]
  },
  {
   "cell_type": "code",
   "execution_count": 26,
   "id": "1ac68fe1-0885-4621-ad28-0ce09d4a7eee",
   "metadata": {},
   "outputs": [],
   "source": [
    "import pandas as pd\n",
    "tweets_df = pd.read_csv('tweets.csv')"
   ]
  },
  {
   "cell_type": "markdown",
   "id": "91e31eaf-4d24-4d17-ae91-1d380a86cff8",
   "metadata": {},
   "source": [
    "- Extract the column `'created_at'` from `tweets_df` and assign the result to `tweet_time`. Fun fact: the extracted column in `tweet_time` here is a Series data structure.\n",
    "- Create a list comprehension that extracts the time from each row in `tweet_time`. Each row is a string that represents a timestamp, and you will access the *12th to 19th characters* in the string to extract the time. Use `entry` as the *iterator variable* and assign the result to `tweet_clock_time`."
   ]
  },
  {
   "cell_type": "code",
   "execution_count": 33,
   "id": "e0ade734-4674-4fdd-9294-bc91c9b06296",
   "metadata": {},
   "outputs": [
    {
     "name": "stdout",
     "output_type": "stream",
     "text": [
      "['23:40:17', '23:40:17', '23:40:17', '23:40:17', '23:40:17', '23:40:17', '23:40:18', '23:40:17', '23:40:18', '23:40:18', '23:40:18', '23:40:17', '23:40:18', '23:40:18', '23:40:17', '23:40:18', '23:40:18', '23:40:17', '23:40:18', '23:40:17', '23:40:18', '23:40:18', '23:40:18', '23:40:18', '23:40:17', '23:40:18', '23:40:18', '23:40:17', '23:40:18', '23:40:18', '23:40:18', '23:40:18', '23:40:18', '23:40:18', '23:40:18', '23:40:18', '23:40:18', '23:40:18', '23:40:18', '23:40:18', '23:40:18', '23:40:18', '23:40:18', '23:40:18', '23:40:18', '23:40:18', '23:40:18', '23:40:18', '23:40:18', '23:40:18', '23:40:18', '23:40:18', '23:40:18', '23:40:18', '23:40:18', '23:40:18', '23:40:18', '23:40:18', '23:40:18', '23:40:18', '23:40:19', '23:40:18', '23:40:18', '23:40:18', '23:40:19', '23:40:19', '23:40:19', '23:40:18', '23:40:19', '23:40:19', '23:40:19', '23:40:18', '23:40:19', '23:40:19', '23:40:19', '23:40:18', '23:40:19', '23:40:19', '23:40:19', '23:40:19', '23:40:19', '23:40:19', '23:40:19', '23:40:19', '23:40:19', '23:40:19', '23:40:19', '23:40:19', '23:40:19', '23:40:19', '23:40:19', '23:40:19', '23:40:19', '23:40:19', '23:40:19', '23:40:19', '23:40:19', '23:40:19', '23:40:19', '23:40:19']\n"
     ]
    }
   ],
   "source": [
    "# Extract the created_at column from tweets_df: tweet_time\n",
    "tweet_time = tweets_df['created_at']\n",
    "\n",
    "# Extract the clock time: tweet_clock_time\n",
    "tweet_clock_time = [entry[11:19] for entry in tweet_time]\n",
    "\n",
    "# Print the extracted times\n",
    "print(tweet_clock_time)"
   ]
  },
  {
   "cell_type": "markdown",
   "id": "64840110-45bb-48bc-8193-071df0ec0711",
   "metadata": {},
   "source": [
    "## Conditional list comprehensions for time-stamped data\n",
    "You've successfully extracted the data of interest, the time, from a pandas DataFrame. Let's tweak your work further by adding a conditional that further specifies which entries to select.\n",
    "\n",
    "In this exercise, you will be using a list comprehension to extract the time from time-stamped Twitter data. You will add a conditional expression to the list comprehension so that you only select the times in which `entry[17:19]` is equal to `'19'`."
   ]
  },
  {
   "cell_type": "markdown",
   "id": "5d449d45-46d6-4088-b9d5-1a35099863dc",
   "metadata": {},
   "source": [
    "- Extract the column `'created_at'` from `tweets_df` and assign the result to `tweet_time`.\n",
    "- Create a list comprehension that extracts the time from each row in `tweet_time`. Each row is a string that represents a timestamp, and you will access the *12th to 19th characters* in the string to extract the time. Use `entry` as the iterator variable and assign the result to `tweet_clock_time`. Additionally, add a conditional expression that checks whether `entry[17:19]` is equal to `'19'`."
   ]
  },
  {
   "cell_type": "code",
   "execution_count": 34,
   "id": "e1b35808-5c7e-4491-bca6-f98d492004b2",
   "metadata": {},
   "outputs": [
    {
     "name": "stdout",
     "output_type": "stream",
     "text": [
      "['23:40:19', '23:40:19', '23:40:19', '23:40:19', '23:40:19', '23:40:19', '23:40:19', '23:40:19', '23:40:19', '23:40:19', '23:40:19', '23:40:19', '23:40:19', '23:40:19', '23:40:19', '23:40:19', '23:40:19', '23:40:19', '23:40:19', '23:40:19', '23:40:19', '23:40:19', '23:40:19', '23:40:19', '23:40:19', '23:40:19', '23:40:19', '23:40:19', '23:40:19', '23:40:19', '23:40:19', '23:40:19', '23:40:19', '23:40:19']\n"
     ]
    }
   ],
   "source": [
    "# Extract the created_at column from tweets_df: tweet_time\n",
    "tweet_time = tweets_df['created_at']\n",
    "\n",
    "# Extract the clock time: tweet_clock_time\n",
    "tweet_clock_time = [entry[11:19] for entry in tweet_time if entry[17:19] == '19']\n",
    "\n",
    "# Print the extracted times\n",
    "print(tweet_clock_time)"
   ]
  },
  {
   "cell_type": "markdown",
   "id": "e4000a29-6e8c-4b67-ab2c-558ed8b5cb82",
   "metadata": {},
   "source": [
    "---"
   ]
  },
  {
   "cell_type": "markdown",
   "id": "53c3aed3-e9d5-4c7b-922b-fa1edccf421d",
   "metadata": {},
   "source": [
    "# 3. Bringing it all together\n",
    "**This chapter will allow you to apply your newly acquired skills toward wrangling and extracting meaningful information from a real-world dataset—the World Bank's World Development Indicators. You'll have the chance to write your own functions and list comprehensions as you work with iterators and generators to solidify your Python data science chops.**"
   ]
  },
  {
   "cell_type": "markdown",
   "id": "7414fc01-5aff-4dec-b3a7-bd2fa4d4d012",
   "metadata": {},
   "source": [
    "## Dictionaries for data science\n",
    "For this exercise, you'll use what you've learned about the `zip()` function and combine two lists into a dictionary.\n",
    "\n",
    "These lists are actually extracted from a [bigger dataset file of world development indicators from the World Bank](https://datacatalog.worldbank.org/dataset/world-development-indicators)."
   ]
  },
  {
   "cell_type": "markdown",
   "id": "e28b26d1-29d7-4b05-a32a-4ccaffca6d2e",
   "metadata": {},
   "source": [
    "The first list `feature_names` contains header names of the dataset and the second list `row_vals` contains actual values of a row from the dataset, corresponding to each of the header names."
   ]
  },
  {
   "cell_type": "code",
   "execution_count": 4,
   "id": "baf41f67-5512-4bd0-900f-d557bc1fcda5",
   "metadata": {},
   "outputs": [],
   "source": [
    "feature_names = ['CountryName', 'CountryCode', 'IndicatorName', \n",
    "                 'IndicatorCode', 'Year', 'Value']\n",
    "row_vals = ['Arab World', 'ARB', 'Adolescent fertility rate (births per 1,000 women ages 15-19)', \n",
    "            'SP.ADO.TFRT', '1960', '133.56090740552298']"
   ]
  },
  {
   "cell_type": "markdown",
   "id": "6cbfff33-a144-4ec1-94c1-f083850caf39",
   "metadata": {},
   "source": [
    "- Create a zip object by calling `zip()` and passing to it `feature_names` and `row_vals`. Assign the result to `zipped_lists`.\n",
    "- Create a dictionary from the `zipped_lists` zip object by calling `dict()` with `zipped_lists`. Assign the resulting dictionary to `rs_dict`."
   ]
  },
  {
   "cell_type": "code",
   "execution_count": 5,
   "id": "9ac98e79-81ec-4629-913a-127106ed1b72",
   "metadata": {},
   "outputs": [
    {
     "name": "stdout",
     "output_type": "stream",
     "text": [
      "{'CountryName': 'Arab World', 'CountryCode': 'ARB', 'IndicatorName': 'Adolescent fertility rate (births per 1,000 women ages 15-19)', 'IndicatorCode': 'SP.ADO.TFRT', 'Year': '1960', 'Value': '133.56090740552298'}\n"
     ]
    }
   ],
   "source": [
    "# Zip lists: zipped_lists\n",
    "zipped_lists = zip(feature_names, row_vals)\n",
    "\n",
    "# Create a dictionary: rs_dict\n",
    "rs_dict = dict(zipped_lists)\n",
    "\n",
    "# Print the dictionary\n",
    "print(rs_dict)"
   ]
  },
  {
   "cell_type": "markdown",
   "id": "990ed382-4d9b-47cd-905b-6348c4abdc71",
   "metadata": {},
   "source": [
    "## Writing a function to help you\n",
    "Suppose you needed to repeat the same process done in the previous exercise to many, many rows of data. Rewriting your code again and again could become very tedious, repetitive, and unmaintainable.\n",
    "\n",
    "In this exercise, you will create a function to house the code you wrote earlier to make things easier and much more concise. Why? This way, you only need to call the function and supply the appropriate lists to create your dictionaries."
   ]
  },
  {
   "cell_type": "markdown",
   "id": "51163934-b82d-4cdd-b01b-2e699d9032b4",
   "metadata": {},
   "source": [
    "- Define the function `lists2dict()` with two parameters: first is `list1` and second is `list2`.\n",
    "- Return the resulting dictionary `rs_dict` in `lists2dict()`.\n",
    "- Call the `lists2dict()` function with the arguments `feature_names` and `row_vals`. Assign the result of the function call to `rs_fxn`."
   ]
  },
  {
   "cell_type": "code",
   "execution_count": 6,
   "id": "3ff62b3d-abfe-4da3-bc1a-3c9b798b4bd2",
   "metadata": {},
   "outputs": [
    {
     "name": "stdout",
     "output_type": "stream",
     "text": [
      "{'CountryName': 'Arab World', 'CountryCode': 'ARB', 'IndicatorName': 'Adolescent fertility rate (births per 1,000 women ages 15-19)', 'IndicatorCode': 'SP.ADO.TFRT', 'Year': '1960', 'Value': '133.56090740552298'}\n"
     ]
    }
   ],
   "source": [
    "# Define lists2dict()\n",
    "def lists2dict(list1, list2):\n",
    "    \"\"\"Return a dictionary where list1 provides the keys and list2 provides the values.\"\"\"\n",
    "\n",
    "    # Zip lists: zipped_lists\n",
    "    zipped_lists = zip(list1, list2)\n",
    "\n",
    "    # Create a dictionary: rs_dict\n",
    "    rs_dict = dict(zipped_lists)\n",
    "\n",
    "    # Return the dictionary\n",
    "    return rs_dict\n",
    "\n",
    "# Call lists2dict: rs_fxn\n",
    "rs_fxn = lists2dict(feature_names, row_vals)\n",
    "\n",
    "# Print rs_fxn\n",
    "print(rs_fxn)"
   ]
  },
  {
   "cell_type": "markdown",
   "id": "1efb94d6-66bd-4bc5-958f-b8fe384960a9",
   "metadata": {},
   "source": [
    "## Using a list comprehension\n",
    "This time, you're going to use the `lists2dict()` function you defined in the last exercise to turn a bunch of lists into a list of dictionaries with the help of a list comprehension.\n",
    "\n",
    "Your goal is to use a list comprehension to generate a list of dicts, where the keys are the header names and the values are the row entries.\n",
    "\n",
    "There is `row_lists`, which is a list of lists, where each sublist is a list of actual values of a row from the dataset."
   ]
  },
  {
   "cell_type": "code",
   "execution_count": 7,
   "id": "7c109aa9-2b6f-48e6-b188-7f64fa52929e",
   "metadata": {
    "tags": []
   },
   "outputs": [],
   "source": [
    "row_lists = [['Arab World', 'ARB', 'Adolescent fertility rate (births per 1,000 women ages 15-19)', 'SP.ADO.TFRT', '1960', '133.56090740552298'], ['Arab World', 'ARB', 'Age dependency ratio (% of working-age population)', 'SP.POP.DPND', '1960', '87.7976011532547'],['Arab World', 'ARB', 'Age dependency ratio, old (% of working-age population)', 'SP.POP.DPND.OL', '1960', '6.634579191565161'],['Arab World', 'ARB', 'Age dependency ratio, young (% of working-age population)', 'SP.POP.DPND.YG', '1960', '81.02332950839141'],['Arab World', 'ARB', 'Arms exports (SIPRI trend indicator values)', 'MS.MIL.XPRT.KD', '1960', '3000000.0'],['Arab World', 'ARB', 'Arms imports (SIPRI trend indicator values)', 'MS.MIL.MPRT.KD', '1960', '538000000.0'],['Arab World', 'ARB', 'Birth rate, crude (per 1,000 people)', 'SP.DYN.CBRT.IN', '1960', '47.697888095096395'],['Arab World', 'ARB', 'CO2 emissions (kt)', 'EN.ATM.CO2E.KT', '1960', '59563.9892169935'],['Arab World', 'ARB', 'CO2 emissions (metric tons per capita)', 'EN.ATM.CO2E.PC', '1960', '0.6439635478877049'],['Arab World', 'ARB', 'CO2 emissions from gaseous fuel consumption (% of total)', 'EN.ATM.CO2E.GF.ZS', '1960', '5.041291753975099'],['Arab World', 'ARB', 'CO2 emissions from liquid fuel consumption (% of total)', 'EN.ATM.CO2E.LF.ZS', '1960', '84.8514729446567'],['Arab World', 'ARB', 'CO2 emissions from liquid fuel consumption (kt)', 'EN.ATM.CO2E.LF.KT', '1960', '49541.707291032304'],['Arab World', 'ARB', 'CO2 emissions from solid fuel consumption (% of total)', 'EN.ATM.CO2E.SF.ZS', '1960', '4.72698138789597'],['Arab World', 'ARB', 'Death rate, crude (per 1,000 people)', 'SP.DYN.CDRT.IN', '1960', '19.7544519237187'],['Arab World', 'ARB', 'Fertility rate, total (births per woman)', 'SP.DYN.TFRT.IN', '1960', '6.92402738655897'],['Arab World', 'ARB', 'Fixed telephone subscriptions', 'IT.MLT.MAIN', '1960', '406833.0'],['Arab World', 'ARB', 'Fixed telephone subscriptions (per 100 people)', 'IT.MLT.MAIN.P2', '1960', '0.6167005703199'],['Arab World', 'ARB', 'Hospital beds (per 1,000 people)', 'SH.MED.BEDS.ZS', '1960', '1.9296220724398703'],['Arab World', 'ARB', 'International migrant stock (% of population)', 'SM.POP.TOTL.ZS', '1960', '2.9906371279862403'],['Arab World', 'ARB', 'International migrant stock, total', 'SM.POP.TOTL', '1960', '3324685.0']]"
   ]
  },
  {
   "cell_type": "markdown",
   "id": "f8a7b8ea-4554-4aa2-ab44-3e6052894123",
   "metadata": {},
   "source": [
    "Your goal is to use a list comprehension to generate a list of dicts, where the *keys* are the header names and the *values* are the row entries."
   ]
  },
  {
   "cell_type": "markdown",
   "id": "37f66a52-57f6-4e0c-8644-22164abea006",
   "metadata": {},
   "source": [
    "- Inspect the contents of `row_lists` by printing the first two lists in `row_lists`."
   ]
  },
  {
   "cell_type": "code",
   "execution_count": 8,
   "id": "c2e9bf7d-d3ae-4fc2-a0e2-8f868712516b",
   "metadata": {},
   "outputs": [
    {
     "name": "stdout",
     "output_type": "stream",
     "text": [
      "['Arab World', 'ARB', 'Adolescent fertility rate (births per 1,000 women ages 15-19)', 'SP.ADO.TFRT', '1960', '133.56090740552298']\n",
      "['Arab World', 'ARB', 'Age dependency ratio (% of working-age population)', 'SP.POP.DPND', '1960', '87.7976011532547']\n"
     ]
    }
   ],
   "source": [
    "# Print the first two lists in row_lists\n",
    "print(row_lists[0])\n",
    "print(row_lists[1])"
   ]
  },
  {
   "cell_type": "markdown",
   "id": "9befe8a6-d9ec-4dd3-a4e5-6487be9923fb",
   "metadata": {},
   "source": [
    "- Create a list comprehension that generates a dictionary using `lists2dict()` for each sublist in `row_lists`. The keys are from the `feature_names` list and the values are the row entries in `row_lists`. Use `sublist` as your iterator variable and assign the resulting list of dictionaries to `list_of_dicts`.\n",
    "- Look at the first two dictionaries in `list_of_dicts` by printing them out."
   ]
  },
  {
   "cell_type": "code",
   "execution_count": 9,
   "id": "bfb5c02a-3856-4c13-9159-094aa6590116",
   "metadata": {},
   "outputs": [
    {
     "name": "stdout",
     "output_type": "stream",
     "text": [
      "{'CountryName': 'Arab World', 'CountryCode': 'ARB', 'IndicatorName': 'Adolescent fertility rate (births per 1,000 women ages 15-19)', 'IndicatorCode': 'SP.ADO.TFRT', 'Year': '1960', 'Value': '133.56090740552298'}\n",
      "{'CountryName': 'Arab World', 'CountryCode': 'ARB', 'IndicatorName': 'Age dependency ratio (% of working-age population)', 'IndicatorCode': 'SP.POP.DPND', 'Year': '1960', 'Value': '87.7976011532547'}\n"
     ]
    }
   ],
   "source": [
    "# Turn list of lists into list of dicts: list_of_dicts\n",
    "list_of_dicts = [lists2dict(feature_names, sublist) for sublist in row_lists]\n",
    "\n",
    "# Print the first two dictionaries in list_of_dicts\n",
    "print(list_of_dicts[0])\n",
    "print(list_of_dicts[1])"
   ]
  },
  {
   "cell_type": "markdown",
   "id": "989919da-b3ab-485e-91db-59f14193dd9d",
   "metadata": {},
   "source": [
    "## Turning this all into a DataFrame\n",
    "You've zipped lists together, created a function to house your code, and even used the function in a list comprehension to generate a list of dictionaries. That was a lot of work and you did a great job!\n",
    "\n",
    "You will now use all of these to convert the list of dictionaries into a pandas DataFrame. You will see how convenient it is to generate a DataFrame from dictionaries with the `DataFrame()` function from the pandas package."
   ]
  },
  {
   "cell_type": "markdown",
   "id": "86257f9d-478e-4e5a-ad6d-1896b03d6e3d",
   "metadata": {},
   "source": [
    "- Create a DataFrame from the list of dictionaries in `list_of_dicts` by calling `pd.DataFrame()`. Assign the resulting DataFrame to `df`.\n",
    "- Inspect the contents of `df` printing the head of the DataFrame. Head of the DataFrame `df` can be accessed by calling `df.head()`."
   ]
  },
  {
   "cell_type": "code",
   "execution_count": 11,
   "id": "da89dc7b-58a9-4a40-bafa-ab5e4651f047",
   "metadata": {},
   "outputs": [
    {
     "data": {
      "text/html": [
       "<div>\n",
       "<style scoped>\n",
       "    .dataframe tbody tr th:only-of-type {\n",
       "        vertical-align: middle;\n",
       "    }\n",
       "\n",
       "    .dataframe tbody tr th {\n",
       "        vertical-align: top;\n",
       "    }\n",
       "\n",
       "    .dataframe thead th {\n",
       "        text-align: right;\n",
       "    }\n",
       "</style>\n",
       "<table border=\"1\" class=\"dataframe\">\n",
       "  <thead>\n",
       "    <tr style=\"text-align: right;\">\n",
       "      <th></th>\n",
       "      <th>CountryName</th>\n",
       "      <th>CountryCode</th>\n",
       "      <th>IndicatorName</th>\n",
       "      <th>IndicatorCode</th>\n",
       "      <th>Year</th>\n",
       "      <th>Value</th>\n",
       "    </tr>\n",
       "  </thead>\n",
       "  <tbody>\n",
       "    <tr>\n",
       "      <th>0</th>\n",
       "      <td>Arab World</td>\n",
       "      <td>ARB</td>\n",
       "      <td>Adolescent fertility rate (births per 1,000 wo...</td>\n",
       "      <td>SP.ADO.TFRT</td>\n",
       "      <td>1960</td>\n",
       "      <td>133.56090740552298</td>\n",
       "    </tr>\n",
       "    <tr>\n",
       "      <th>1</th>\n",
       "      <td>Arab World</td>\n",
       "      <td>ARB</td>\n",
       "      <td>Age dependency ratio (% of working-age populat...</td>\n",
       "      <td>SP.POP.DPND</td>\n",
       "      <td>1960</td>\n",
       "      <td>87.7976011532547</td>\n",
       "    </tr>\n",
       "    <tr>\n",
       "      <th>2</th>\n",
       "      <td>Arab World</td>\n",
       "      <td>ARB</td>\n",
       "      <td>Age dependency ratio, old (% of working-age po...</td>\n",
       "      <td>SP.POP.DPND.OL</td>\n",
       "      <td>1960</td>\n",
       "      <td>6.634579191565161</td>\n",
       "    </tr>\n",
       "    <tr>\n",
       "      <th>3</th>\n",
       "      <td>Arab World</td>\n",
       "      <td>ARB</td>\n",
       "      <td>Age dependency ratio, young (% of working-age ...</td>\n",
       "      <td>SP.POP.DPND.YG</td>\n",
       "      <td>1960</td>\n",
       "      <td>81.02332950839141</td>\n",
       "    </tr>\n",
       "    <tr>\n",
       "      <th>4</th>\n",
       "      <td>Arab World</td>\n",
       "      <td>ARB</td>\n",
       "      <td>Arms exports (SIPRI trend indicator values)</td>\n",
       "      <td>MS.MIL.XPRT.KD</td>\n",
       "      <td>1960</td>\n",
       "      <td>3000000.0</td>\n",
       "    </tr>\n",
       "  </tbody>\n",
       "</table>\n",
       "</div>"
      ],
      "text/plain": [
       "  CountryName CountryCode                                      IndicatorName  \\\n",
       "0  Arab World         ARB  Adolescent fertility rate (births per 1,000 wo...   \n",
       "1  Arab World         ARB  Age dependency ratio (% of working-age populat...   \n",
       "2  Arab World         ARB  Age dependency ratio, old (% of working-age po...   \n",
       "3  Arab World         ARB  Age dependency ratio, young (% of working-age ...   \n",
       "4  Arab World         ARB        Arms exports (SIPRI trend indicator values)   \n",
       "\n",
       "    IndicatorCode  Year               Value  \n",
       "0     SP.ADO.TFRT  1960  133.56090740552298  \n",
       "1     SP.POP.DPND  1960    87.7976011532547  \n",
       "2  SP.POP.DPND.OL  1960   6.634579191565161  \n",
       "3  SP.POP.DPND.YG  1960   81.02332950839141  \n",
       "4  MS.MIL.XPRT.KD  1960           3000000.0  "
      ]
     },
     "execution_count": 11,
     "metadata": {},
     "output_type": "execute_result"
    }
   ],
   "source": [
    "import pandas as pd\n",
    "\n",
    "# Turn list of lists into list of dicts: list_of_dicts\n",
    "list_of_dicts = [lists2dict(feature_names, sublist) for sublist in row_lists]\n",
    "\n",
    "# Turn list of dicts into a DataFrame: df\n",
    "df = pd.DataFrame(list_of_dicts)\n",
    "\n",
    "# Print the head of the DataFrame\n",
    "df.head()"
   ]
  },
  {
   "cell_type": "markdown",
   "id": "8a6405bf-20bd-4567-9735-32af177b9dc8",
   "metadata": {},
   "source": [
    "## Processing data in chunks (1)\n",
    "Sometimes, data sources can be so large in size that storing the entire dataset in memory becomes too resource-intensive. In this exercise, you will process the first 1000 rows of a file line by line, to create a dictionary of the counts of how many times each country appears in a column in the dataset."
   ]
  },
  {
   "cell_type": "markdown",
   "id": "0fa13e7f-2d65-49c4-999d-7611bc0e3d1b",
   "metadata": {},
   "source": [
    "- Use `open()` to bind the csv file `'world_dev_ind.csv'` as `file` in the context manager.\n",
    "- Complete the `for` loop so that it iterates **1000** times to perform the loop body and process only the first 1000 rows of data of the file."
   ]
  },
  {
   "cell_type": "code",
   "execution_count": 6,
   "id": "c89fd511-c1bb-4709-bbab-1a3137aa5372",
   "metadata": {
    "tags": []
   },
   "outputs": [
    {
     "name": "stdout",
     "output_type": "stream",
     "text": [
      "{'Arab World': 80, 'Caribbean small states': 77, 'Central Europe and the Baltics': 71, 'East Asia & Pacific (all income levels)': 122, 'East Asia & Pacific (developing only)': 123, 'Euro area': 119, 'Europe & Central Asia (all income levels)': 109, 'Europe & Central Asia (developing only)': 89, 'European Union': 116, 'Fragile and conflict affected situations': 76, 'Heavily indebted poor countries (HIPC)': 18}\n"
     ]
    }
   ],
   "source": [
    "# Open a connection to the file\n",
    "with open('world_dev_ind.csv') as file:\n",
    "\n",
    "    # Skip the column names\n",
    "    file.readline()\n",
    "\n",
    "    # Initialize an empty dictionary: counts_dict\n",
    "    counts_dict = {}\n",
    "\n",
    "    # Process only the first 1000 rows\n",
    "    for j in range(0, 1000):\n",
    "\n",
    "        # Split the current line into a list: line\n",
    "        line = file.readline().split(',')\n",
    "\n",
    "        # Get the value for the first column: first_col\n",
    "        first_col = line[0]\n",
    "\n",
    "        # If the column value is in the dict, increment its value\n",
    "        if first_col in counts_dict.keys():\n",
    "            counts_dict[first_col] += 1\n",
    "\n",
    "        # Else, add to the dict and set value to 1\n",
    "        else:\n",
    "            counts_dict[first_col] = 1\n",
    "\n",
    "# Print the resulting dictionary\n",
    "print(counts_dict)"
   ]
  },
  {
   "cell_type": "markdown",
   "id": "995973bb-34c3-4611-973b-09a5e29b2235",
   "metadata": {},
   "source": [
    "## Writing a generator to load data in chunks (2)\n",
    "In the previous exercise, you processed a file line by line for a given number of lines. What if, however, you want to do this for the entire file?\n",
    "\n",
    "In this case, it would be useful to use generators. **Generators** allow users to [lazily evaluate](https://www.blog.pythonlibrary.org/2014/01/27/python-201-an-intro-to-generators/) data. This concept of lazy evaluation is useful when you have to deal with very large datasets because it lets you generate values in an efficient manner by *yielding* only chunks of data at a time instead of the whole thing at once.\n",
    "\n",
    "In this exercise, you will define a generator function `read_large_file()` that produces a generator object which yields a single line from a file each time `next()` is called on it. \n",
    "\n",
    "Note that when you open a connection to a file, the resulting file object is already a generator! So out in the wild, you won't have to explicitly create generator objects in cases such as this. However, for pedagogical reasons, we are having you practice how to do this here with the `read_large_file()` function."
   ]
  },
  {
   "cell_type": "markdown",
   "id": "0f016524-a9ea-409f-8cea-fd2e11a3480a",
   "metadata": {},
   "source": [
    "- In the function `read_large_file()`, read a line from `file_object` by using the method `readline()`. Assign the result to `data`.\n",
    "- In the function `read_large_file()`, `yield` the line read from the file `data`.\n",
    "- In the context manager, create a generator object `gen_file` by calling your generator function `read_large_file()` and passing `file` to it.\n",
    "- Print the first three lines produced by the generator object `gen_file` using `next()`."
   ]
  },
  {
   "cell_type": "code",
   "execution_count": 7,
   "id": "e4d47fc5-3266-4b62-94aa-e0aab7b33660",
   "metadata": {
    "tags": []
   },
   "outputs": [
    {
     "name": "stdout",
     "output_type": "stream",
     "text": [
      "CountryName,CountryCode,IndicatorName,IndicatorCode,Year,Value\n",
      "\n",
      "Arab World,ARB,\"Adolescent fertility rate (births per 1,000 women ages 15-19)\",SP.ADO.TFRT,1960,133.5609074\n",
      "\n",
      "Arab World,ARB,Age dependency ratio (% of working-age population),SP.POP.DPND,1960,87.79760115\n",
      "\n"
     ]
    }
   ],
   "source": [
    "# Define read_large_file()\n",
    "def read_large_file(file_object):\n",
    "    \"\"\"A generator function to read a large file lazily.\"\"\"\n",
    "\n",
    "    # Loop indefinitely until the end of the file\n",
    "    while True:\n",
    "\n",
    "        # Read a line from the file: data\n",
    "        data = file_object.readline()\n",
    "\n",
    "        # Break if this is the end of the file\n",
    "        if not data:\n",
    "            break\n",
    "\n",
    "        # Yield the line of data\n",
    "        yield data\n",
    "        \n",
    "# Open a connection to the file\n",
    "with open('world_dev_ind.csv') as file:\n",
    "\n",
    "    # Create a generator object for the file: gen_file\n",
    "    gen_file = read_large_file(file)\n",
    "\n",
    "    # Print the first three lines of the file\n",
    "    print(next(gen_file))\n",
    "    print(next(gen_file))\n",
    "    print(next(gen_file))"
   ]
  },
  {
   "cell_type": "markdown",
   "id": "eadc4e9d-60ad-499b-ba81-4c65f2ec817b",
   "metadata": {},
   "source": [
    "*Note that since a file object is already a generator, you don't have to explicitly create a generator object with your* `read_large_file()` *function. However, it is still good to practice how to create generators*"
   ]
  },
  {
   "cell_type": "markdown",
   "id": "6f209b9f-2d32-444f-9aee-0b4ff2137c74",
   "metadata": {},
   "source": [
    "## Writing a generator to load data in chunks (3)\n",
    "Great! You've just created a generator function that you can use to help you process large files.\n",
    "\n",
    "Now let's use your generator function to process the World Bank dataset like you did previously. You will process the file line by line, to create a dictionary of the counts of how many times each country appears in a column in the dataset. For this exercise, however, you won't process just 1000 rows of data, you'll process the entire dataset!"
   ]
  },
  {
   "cell_type": "markdown",
   "id": "8e55e245-4b69-4534-9416-68c427db2192",
   "metadata": {},
   "source": [
    "- Bind the file `'world_ind_pop_data.csv'` to `file` in the context manager with `open()`.\n",
    "- Complete the `for` loop so that it iterates over the generator from the call to `read_large_file()` to process all the rows of the file."
   ]
  },
  {
   "cell_type": "code",
   "execution_count": 8,
   "id": "d305cd96-448f-4de1-ad08-e3c9e0725f24",
   "metadata": {},
   "outputs": [
    {
     "name": "stdout",
     "output_type": "stream",
     "text": [
      "{'CountryName': 1, 'Arab World': 80, 'Caribbean small states': 77, 'Central Europe and the Baltics': 71, 'East Asia & Pacific (all income levels)': 122, 'East Asia & Pacific (developing only)': 123, 'Euro area': 119, 'Europe & Central Asia (all income levels)': 109, 'Europe & Central Asia (developing only)': 89, 'European Union': 116, 'Fragile and conflict affected situations': 76, 'Heavily indebted poor countries (HIPC)': 99, 'High income': 119}\n"
     ]
    }
   ],
   "source": [
    "# Initialize an empty dictionary: counts_dict\n",
    "counts_dict = {}\n",
    "\n",
    "# Open a connection to the file\n",
    "with open('world_dev_ind.csv') as file:\n",
    "\n",
    "    # Iterate over the generator from read_large_file()\n",
    "    for line in read_large_file(file):\n",
    "\n",
    "        row = line.split(',')\n",
    "        first_col = row[0]\n",
    "\n",
    "        if first_col in counts_dict.keys():\n",
    "            counts_dict[first_col] += 1\n",
    "        else:\n",
    "            counts_dict[first_col] = 1\n",
    "\n",
    "# Print            \n",
    "print(counts_dict)"
   ]
  },
  {
   "cell_type": "markdown",
   "id": "14c7e1ec-602d-4d27-8cae-7d15d0452572",
   "metadata": {},
   "source": [
    "## Writing an iterator to load data in chunks (1)\n",
    "Another way to read data too large to store in memory in chunks is to read the file in as DataFrames of a certain length, say, 100. For example, with the pandas package (imported as `pd`), you can do `pd.read_csv(filename, chunksize=100)`. This creates an iterable **reader object**, which means that you can use `next()` on it.\n",
    "\n",
    "In this exercise, you will read a file in small DataFrame chunks with `read_csv()`. You're going to use the World Bank Indicators data `'world_ind_pop_data.csv'` to look at the urban population indicator for numerous countries and years."
   ]
  },
  {
   "cell_type": "markdown",
   "id": "53eae913-ac64-4f1f-8d35-6d3447e24112",
   "metadata": {},
   "source": [
    "- Use `pd.read_csv()` to read in `'world_ind_pop_data.csv'` in chunks of size 10. Assign the result to `df_reader`.\n",
    "- Print the first two chunks from `df_reader`."
   ]
  },
  {
   "cell_type": "code",
   "execution_count": 4,
   "id": "043a8226-12d5-4d1d-b3ff-e4bcc2270e2d",
   "metadata": {},
   "outputs": [
    {
     "name": "stdout",
     "output_type": "stream",
     "text": [
      "                                 CountryName CountryCode  Year  \\\n",
      "0                                 Arab World         ARB  1960   \n",
      "1                     Caribbean small states         CSS  1960   \n",
      "2             Central Europe and the Baltics         CEB  1960   \n",
      "3    East Asia & Pacific (all income levels)         EAS  1960   \n",
      "4      East Asia & Pacific (developing only)         EAP  1960   \n",
      "5                                  Euro area         EMU  1960   \n",
      "6  Europe & Central Asia (all income levels)         ECS  1960   \n",
      "7    Europe & Central Asia (developing only)         ECA  1960   \n",
      "8                             European Union         EUU  1960   \n",
      "9   Fragile and conflict affected situations         FCS  1960   \n",
      "\n",
      "   Total Population  Urban population (% of total)  \n",
      "0      9.249590e+07                      31.285384  \n",
      "1      4.190810e+06                      31.597490  \n",
      "2      9.140158e+07                      44.507921  \n",
      "3      1.042475e+09                      22.471132  \n",
      "4      8.964930e+08                      16.917679  \n",
      "5      2.653965e+08                      62.096947  \n",
      "6      6.674890e+08                      55.378977  \n",
      "7      1.553174e+08                      38.066129  \n",
      "8      4.094985e+08                      61.212898  \n",
      "9      1.203546e+08                      17.891972  \n",
      "                                      CountryName CountryCode  Year  \\\n",
      "10         Heavily indebted poor countries (HIPC)         HPC  1960   \n",
      "11                                    High income         HIC  1960   \n",
      "12                           High income: nonOECD         NOC  1960   \n",
      "13                              High income: OECD         OEC  1960   \n",
      "14  Latin America & Caribbean (all income levels)         LCN  1960   \n",
      "15    Latin America & Caribbean (developing only)         LAC  1960   \n",
      "16   Least developed countries: UN classification         LDC  1960   \n",
      "17                            Low & middle income         LMY  1960   \n",
      "18                                     Low income         LIC  1960   \n",
      "19                            Lower middle income         LMC  1960   \n",
      "\n",
      "    Total Population  Urban population (% of total)  \n",
      "10      1.624912e+08                      12.236046  \n",
      "11      9.075975e+08                      62.680332  \n",
      "12      1.866767e+08                      56.107863  \n",
      "13      7.209208e+08                      64.285435  \n",
      "14      2.205642e+08                      49.284688  \n",
      "15      1.776822e+08                      44.863308  \n",
      "16      2.410728e+08                       9.616261  \n",
      "17      2.127373e+09                      21.272894  \n",
      "18      1.571884e+08                      11.498396  \n",
      "19      9.429116e+08                      19.810513  \n"
     ]
    }
   ],
   "source": [
    "# Initialize reader object: df_reader\n",
    "df_reader = pd.read_csv('world_ind_pop_data.csv', chunksize=10)\n",
    "\n",
    "# Print two chunks\n",
    "print(next(df_reader))\n",
    "print(next(df_reader))"
   ]
  },
  {
   "cell_type": "markdown",
   "id": "4b51b95b-4a92-4375-8dd0-f1022a338b18",
   "metadata": {},
   "source": [
    "## Writing an iterator to load data in chunks (2)\n",
    "In the previous exercise, you used `read_csv()` to read in DataFrame chunks from a large dataset. In this exercise, you will read in a file using a bigger DataFrame chunk size and then process the data from the first chunk.\n",
    "\n",
    "To process the data, you will create another DataFrame composed of only the rows from a specific country. You will then zip together two of the columns from the new DataFrame, `'Total Population'` and `'Urban population (% of total)'`. Finally, you will create a list of tuples from the zip object, where each tuple is composed of a value from each of the two columns mentioned."
   ]
  },
  {
   "cell_type": "markdown",
   "id": "1d70ea32-28d5-4759-a135-8784fb707c97",
   "metadata": {},
   "source": [
    "- Use `pd.read_csv()` to read in the file in `'world_ind_pop_data.csv'` in chunks of size `1000`. Assign the result to `urb_pop_reader`.\n",
    "- Get the **first** DataFrame chunk from the iterable `urb_pop_reader` and assign this to `df_urb_pop`."
   ]
  },
  {
   "cell_type": "code",
   "execution_count": 10,
   "id": "e4d001bc-c4d0-4dff-8e0d-ae9102273102",
   "metadata": {},
   "outputs": [
    {
     "name": "stdout",
     "output_type": "stream",
     "text": [
      "                               CountryName CountryCode  Year  \\\n",
      "0                               Arab World         ARB  1960   \n",
      "1                   Caribbean small states         CSS  1960   \n",
      "2           Central Europe and the Baltics         CEB  1960   \n",
      "3  East Asia & Pacific (all income levels)         EAS  1960   \n",
      "4    East Asia & Pacific (developing only)         EAP  1960   \n",
      "\n",
      "   Total Population  Urban population (% of total)  \n",
      "0      9.249590e+07                      31.285384  \n",
      "1      4.190810e+06                      31.597490  \n",
      "2      9.140158e+07                      44.507921  \n",
      "3      1.042475e+09                      22.471132  \n",
      "4      8.964930e+08                      16.917679  \n"
     ]
    }
   ],
   "source": [
    "# Initialize reader object: urb_pop_reader\n",
    "urb_pop_reader = pd.read_csv('world_ind_pop_data.csv', chunksize=1000)\n",
    "\n",
    "# Get the first DataFrame chunk: df_urb_pop\n",
    "df_urb_pop = next(urb_pop_reader)\n",
    "\n",
    "# Check out the head of the DataFrame\n",
    "print(df_urb_pop.head())"
   ]
  },
  {
   "cell_type": "markdown",
   "id": "72634c9d-a33a-4551-b96e-deb6c14a0e19",
   "metadata": {},
   "source": [
    "- Select only the rows of `df_urb_pop` that have a `'CountryCode'` of `'CEB'`. To do this, compare whether `df_urb_pop['CountryCode']` is **equal** to `'CEB'` within the square brackets in `df_urb_pop[____]`.\n",
    "- Using `zip()`, zip together the `'Total Population'` and `'Urban population (% of total)'` columns of `df_pop_ceb`. Assign the resulting zip object to `pops`."
   ]
  },
  {
   "cell_type": "code",
   "execution_count": 12,
   "id": "3875a49f-5f25-44bb-a880-1b877304fb96",
   "metadata": {},
   "outputs": [
    {
     "name": "stdout",
     "output_type": "stream",
     "text": [
      "[(91401583.0, 44.5079211390026), (92237118.0, 45.206665319194), (93014890.0, 45.866564696018), (93845749.0, 46.5340927663649), (94722599.0, 47.2087429803526)]\n"
     ]
    }
   ],
   "source": [
    "# Check out specific country: df_pop_ceb\n",
    "df_pop_ceb = df_urb_pop[df_urb_pop['CountryCode'] == 'CEB']\n",
    "\n",
    "# Zip DataFrame columns of interest: pops\n",
    "pops = zip(df_pop_ceb['Total Population'], df_pop_ceb['Urban population (% of total)'])\n",
    "\n",
    "# Turn zip object into list: pops_list\n",
    "pops_list = list(pops)\n",
    "\n",
    "# Print pops_list\n",
    "print(pops_list)"
   ]
  },
  {
   "cell_type": "markdown",
   "id": "85440c46-0855-4185-8b29-a1fffc87f601",
   "metadata": {},
   "source": [
    "## Writing an iterator to load data in chunks (3)\n",
    "You're getting used to reading and processing data in chunks by now. Let's push your skills a little further by adding a column to a DataFrame.\n",
    "\n",
    "Starting from the code of the previous exercise, you will be using a *list comprehension* to create the values for a new column `'Total Urban Population'` from the list of tuples that you generated earlier. Recall from the previous exercise that the first and second elements of each tuple consist of, respectively, values from the columns `'Total Population'` and `'Urban population (% of total)'`. The values in this new column `'Total Urban Population'`, therefore, are the product of the first and second element in each tuple. Furthermore, because the 2nd element is a percentage, you need to divide the entire result by `100`, or alternatively, multiply it by `0.01`.\n",
    "\n",
    "You will also plot the data from this new column to create a visualization of the urban population data."
   ]
  },
  {
   "cell_type": "markdown",
   "id": "02ba9a5a-668d-4e1b-8fae-f5015dd548b6",
   "metadata": {},
   "source": [
    "- Write a list comprehension to generate a list of values from `pops_list` for the new column `'Total Urban Population'`. The *output expression* should be the product of the first and second element in each tuple in `pops_list`. Because the 2nd element is a percentage, you also need to either multiply the result by `0.01` or divide it by `100`. In addition, note that the column `'Total Urban Population'` should only be able to take on integer values. To ensure this, make sure you cast the *output expression* to an integer with `int()`.\n",
    "- Create a *scatter* plot where the x-axis are values from the `'Year'` column and the y-axis are values from the `'Total Urban Population'` column."
   ]
  },
  {
   "cell_type": "code",
   "execution_count": 15,
   "id": "78f129ef-f07e-4709-8bd7-96e678371fec",
   "metadata": {},
   "outputs": [
    {
     "name": "stderr",
     "output_type": "stream",
     "text": [
      "<ipython-input-15-7d11ffe39854>:12: SettingWithCopyWarning: \n",
      "A value is trying to be set on a copy of a slice from a DataFrame.\n",
      "Try using .loc[row_indexer,col_indexer] = value instead\n",
      "\n",
      "See the caveats in the documentation: https://pandas.pydata.org/pandas-docs/stable/user_guide/indexing.html#returning-a-view-versus-a-copy\n",
      "  df_pop_ceb['Total Urban Population'] = [int(pops[0] * pops[1] * 0.01) for pops in pops_list]\n"
     ]
    },
    {
     "data": {
      "image/png": "[encoded data removed]",
      "text/plain": [
       "<Figure size 432x288 with 1 Axes>"
      ]
     },
     "metadata": {
      "needs_background": "light"
     },
     "output_type": "display_data"
    }
   ],
   "source": [
    "import matplotlib.pyplot as plt\n",
    "\n",
    "# Code from previous exercise\n",
    "urb_pop_reader = pd.read_csv('world_ind_pop_data.csv', chunksize=1000)\n",
    "df_urb_pop = next(urb_pop_reader)\n",
    "df_pop_ceb = df_urb_pop[df_urb_pop['CountryCode'] == 'CEB']\n",
    "pops = zip(df_pop_ceb['Total Population'], \n",
    "           df_pop_ceb['Urban population (% of total)'])\n",
    "pops_list = list(pops)\n",
    "\n",
    "# Use list comprehension to create new DataFrame column 'Total Urban Population'\n",
    "df_pop_ceb['Total Urban Population'] = [int(pops[0] * pops[1] * 0.01) for pops in pops_list]\n",
    "\n",
    "# Plot urban population data\n",
    "df_pop_ceb.plot(kind='scatter', x='Year', y='Total Urban Population')\n",
    "plt.show()"
   ]
  },
  {
   "cell_type": "markdown",
   "id": "9630bd70-28e9-430d-a2de-34d33010388c",
   "metadata": {},
   "source": [
    "## Writing an iterator to load data in chunks (4)\n",
    "In the previous exercises, you've only processed the data from the first DataFrame chunk. This time, you will aggregate the results over all the DataFrame chunks in the dataset. This basically means you will be processing the **entire** dataset now. This is neat because you're going to be able to process the entire large dataset by just working on smaller pieces of it!"
   ]
  },
  {
   "cell_type": "markdown",
   "id": "3440df6a-4cfe-453e-b97b-ce24c84b46a3",
   "metadata": {},
   "source": [
    "- Initialize an empty DataFrame data using `pd.DataFrame()`.\n",
    "- In the `for` loop, iterate over `urb_pop_reader` to be able to process all the DataFrame chunks in the dataset.\n",
    "- Using the method `append()` of the DataFrame `data`, append `df_pop_ceb` to `data`."
   ]
  },
  {
   "cell_type": "code",
   "execution_count": 16,
   "id": "0d8ca78c-1d89-4d19-9f63-262dc2371f43",
   "metadata": {},
   "outputs": [
    {
     "name": "stderr",
     "output_type": "stream",
     "text": [
      "<ipython-input-16-524c8211b5d9>:21: SettingWithCopyWarning: \n",
      "A value is trying to be set on a copy of a slice from a DataFrame.\n",
      "Try using .loc[row_indexer,col_indexer] = value instead\n",
      "\n",
      "See the caveats in the documentation: https://pandas.pydata.org/pandas-docs/stable/user_guide/indexing.html#returning-a-view-versus-a-copy\n",
      "  df_pop_ceb['Total Urban Population'] = [int(tup[0] * tup[1] * 0.01) for tup in pops_list]\n"
     ]
    },
    {
     "data": {
      "image/png": "[encoded data removed]",
      "text/plain": [
       "<Figure size 432x288 with 1 Axes>"
      ]
     },
     "metadata": {
      "needs_background": "light"
     },
     "output_type": "display_data"
    }
   ],
   "source": [
    "# Initialize reader object: urb_pop_reader\n",
    "urb_pop_reader = pd.read_csv('world_ind_pop_data.csv', chunksize=1000)\n",
    "\n",
    "# Initialize empty DataFrame: data\n",
    "data = pd.DataFrame()\n",
    "\n",
    "# Iterate over each DataFrame chunk\n",
    "for df_urb_pop in urb_pop_reader:\n",
    "\n",
    "    # Check out specific country: df_pop_ceb\n",
    "    df_pop_ceb = df_urb_pop[df_urb_pop['CountryCode'] == 'CEB']\n",
    "\n",
    "    # Zip DataFrame columns of interest: pops\n",
    "    pops = zip(df_pop_ceb['Total Population'],\n",
    "                df_pop_ceb['Urban population (% of total)'])\n",
    "\n",
    "    # Turn zip object into list: pops_list\n",
    "    pops_list = list(pops)\n",
    "\n",
    "    # Use list comprehension to create new DataFrame column 'Total Urban Population'\n",
    "    df_pop_ceb['Total Urban Population'] = [int(tup[0] * tup[1] * 0.01) for tup in pops_list]\n",
    "    \n",
    "    # Append DataFrame chunk to data: data\n",
    "    data = data.append(df_pop_ceb)\n",
    "\n",
    "# Plot urban population data\n",
    "data.plot(kind='scatter', x='Year', y='Total Urban Population')\n",
    "plt.show()\n"
   ]
  },
  {
   "cell_type": "markdown",
   "id": "eb89628e-0588-4a88-a12f-9645d965deac",
   "metadata": {},
   "source": [
    "## Writing an iterator to load data in chunks (5)\n",
    "This is the last leg. You've learned a lot about processing a large dataset in chunks. In this last exercise, you will put all the code for processing the data into a single function so that you can reuse the code without having to rewrite the same things all over again.\n",
    "\n",
    "You're going to define the function `plot_pop()` which takes two arguments: the filename of the file to be processed, and the country code of the rows you want to process in the dataset.\n",
    "\n",
    "Because all of the previous code you've written in the previous exercises will be housed in `plot_pop()`, calling the function already does the following:\n",
    "\n",
    "Loading of the file chunk by chunk,\n",
    "Creating the new column of urban population values, and\n",
    "Plotting the urban population data.\n",
    "That's a lot of work, but the function now makes it convenient to repeat the same process for whatever file and country code you want to process and visualize!"
   ]
  },
  {
   "cell_type": "markdown",
   "id": "ace5e057-2186-4d57-a1a9-410b02b02c88",
   "metadata": {},
   "source": [
    "- Define the function `plot_pop()` that has two arguments: first is `filename` for the file to process and second is `country_code` for the country to be processed in the dataset.\n",
    "- Call `plot_pop()` to process the data for country code `'CEB'` in the file `'ind_pop_data.csv'`.\n",
    "- Call `plot_pop()` to process the data for country code `'ARB'` in the file `'ind_pop_data.csv'`."
   ]
  },
  {
   "cell_type": "code",
   "execution_count": 17,
   "id": "a18b1f02-a07e-44ef-bf44-d3c564bee721",
   "metadata": {},
   "outputs": [],
   "source": [
    "# Define plot_pop()\n",
    "def plot_pop(filename, country_code):\n",
    "\n",
    "    # Initialize reader object: urb_pop_reader\n",
    "    urb_pop_reader = pd.read_csv(filename, chunksize=1000)\n",
    "\n",
    "    # Initialize empty DataFrame: data\n",
    "    data = pd.DataFrame()\n",
    "    \n",
    "    # Iterate over each DataFrame chunk\n",
    "    for df_urb_pop in urb_pop_reader:\n",
    "        # Check out specific country: df_pop_ceb\n",
    "        df_pop_ceb = df_urb_pop[df_urb_pop['CountryCode'] == country_code]\n",
    "\n",
    "        # Zip DataFrame columns of interest: pops\n",
    "        pops = zip(df_pop_ceb['Total Population'],\n",
    "                    df_pop_ceb['Urban population (% of total)'])\n",
    "\n",
    "        # Turn zip object into list: pops_list\n",
    "        pops_list = list(pops)\n",
    "\n",
    "        # Use list comprehension to create new DataFrame column 'Total Urban Population'\n",
    "        df_pop_ceb['Total Urban Population'] = [int(tup[0] * tup[1] * 0.01) for tup in pops_list]\n",
    "    \n",
    "        # Append DataFrame chunk to data: data\n",
    "        data = data.append(df_pop_ceb)\n",
    "\n",
    "    # Plot urban population data\n",
    "    data.plot(kind='scatter', x='Year', y='Total Urban Population')\n",
    "    plt.show()\n",
    "\n",
    "# Set the filename: fn\n",
    "fn = 'world_ind_pop_data.csv'"
   ]
  },
  {
   "cell_type": "code",
   "execution_count": 18,
   "id": "8ece6692-5570-4a4b-a2c0-c9a71009fb0f",
   "metadata": {},
   "outputs": [
    {
     "name": "stderr",
     "output_type": "stream",
     "text": [
      "<ipython-input-17-f5c074dbc96e>:23: SettingWithCopyWarning: \n",
      "A value is trying to be set on a copy of a slice from a DataFrame.\n",
      "Try using .loc[row_indexer,col_indexer] = value instead\n",
      "\n",
      "See the caveats in the documentation: https://pandas.pydata.org/pandas-docs/stable/user_guide/indexing.html#returning-a-view-versus-a-copy\n",
      "  df_pop_ceb['Total Urban Population'] = [int(tup[0] * tup[1] * 0.01) for tup in pops_list]\n"
     ]
    },
    {
     "data": {
      "image/png": "[encoded data removed]",
      "text/plain": [
       "<Figure size 432x288 with 1 Axes>"
      ]
     },
     "metadata": {
      "needs_background": "light"
     },
     "output_type": "display_data"
    }
   ],
   "source": [
    "# Call plot_pop for country code 'CEB'\n",
    "plot_pop(fn, 'CEB')"
   ]
  },
  {
   "cell_type": "code",
   "execution_count": 19,
   "id": "a7d7262d-eec7-460c-8dec-ca3b754a7bcd",
   "metadata": {},
   "outputs": [
    {
     "name": "stderr",
     "output_type": "stream",
     "text": [
      "<ipython-input-17-f5c074dbc96e>:23: SettingWithCopyWarning: \n",
      "A value is trying to be set on a copy of a slice from a DataFrame.\n",
      "Try using .loc[row_indexer,col_indexer] = value instead\n",
      "\n",
      "See the caveats in the documentation: https://pandas.pydata.org/pandas-docs/stable/user_guide/indexing.html#returning-a-view-versus-a-copy\n",
      "  df_pop_ceb['Total Urban Population'] = [int(tup[0] * tup[1] * 0.01) for tup in pops_list]\n"
     ]
    },
    {
     "data": {
      "image/png": "[encoded data removed]",
      "text/plain": [
       "<Figure size 432x288 with 1 Axes>"
      ]
     },
     "metadata": {
      "needs_background": "light"
     },
     "output_type": "display_data"
    }
   ],
   "source": [
    "# Call plot_pop for country code 'ARB'\n",
    "plot_pop(fn, 'ARB')"
   ]
  },
  {
   "cell_type": "markdown",
   "id": "c0795e1d-29c3-4434-bd22-45a0880a9dba",
   "metadata": {},
   "source": [
    "*The journey doesn't end here! If you have enjoyed working with this data, you can continue exploring it using the pre-processed version available on* [Kaggle](https://www.kaggle.com/worldbank/world-development-indicators)."
   ]
  },
  {
   "cell_type": "code",
   "execution_count": null,
   "id": "87c2779e-506d-4e59-a72c-b095f3b00959",
   "metadata": {},
   "outputs": [],
   "source": []
  }
 ],
 "metadata": {
  "kernelspec": {
   "display_name": "Python 3",
   "language": "python",
   "name": "python3"
  },
  "language_info": {
   "codemirror_mode": {
    "name": "ipython",
    "version": 3
   },
   "file_extension": ".py",
   "mimetype": "text/x-python",
   "name": "python",
   "nbconvert_exporter": "python",
   "pygments_lexer": "ipython3",
   "version": "3.8.8"
  }
 },
 "nbformat": 4,
 "nbformat_minor": 5
}
