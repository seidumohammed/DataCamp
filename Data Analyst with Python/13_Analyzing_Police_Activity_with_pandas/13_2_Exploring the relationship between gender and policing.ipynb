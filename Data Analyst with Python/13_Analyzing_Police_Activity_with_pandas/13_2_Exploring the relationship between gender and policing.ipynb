{
 "cells": [
  {
   "cell_type": "markdown",
   "id": "1b33e862-7def-49a5-9c1f-78724504327f",
   "metadata": {},
   "source": [
    "# 2. Exploring the relationship between gender and policing\n",
    "**Does the gender of a driver have an impact on police behavior during a traffic stop? In this chapter, you will explore that question while practicing filtering, grouping, method chaining, Boolean math, string methods, and more!**"
   ]
  },
  {
   "cell_type": "code",
   "execution_count": 3,
   "id": "4ab1973a-d4e8-447b-8847-ee4eff1d5ec8",
   "metadata": {},
   "outputs": [],
   "source": [
    "import pandas as pd\n",
    "ri = pd.read_csv('police.csv')\n",
    "\n",
    "ri.drop(['county_name', 'state'], axis='columns', inplace=True)\n",
    "ri.dropna(subset=['driver_gender'], inplace=True)\n",
    "\n",
    "ri['is_arrested'] = ri.is_arrested.astype('bool')\n",
    "\n",
    "combined = ri.stop_date.str.cat(ri.stop_time, sep=' ')\n",
    "ri['stop_datetime'] = pd.to_datetime(combined)\n",
    "\n",
    "ri.set_index('stop_datetime', inplace=True)"
   ]
  },
  {
   "cell_type": "markdown",
   "id": "2a467722-87cd-494a-925e-1f280320f06a",
   "metadata": {},
   "source": [
    "## Do the genders commit different violations?\n",
    "In this chapter, you'll use the dataset to explore the relationship between gender and policing, and you'll practice figuring out how to use pandas to answer specific questions.\n",
    " \n",
    "### Counting unique values (1)\n",
    "Let's start by discussing a few methods that will help with the analysis. \n",
    "\n",
    "The first method is `value_counts()`, which counts the unique values in a Series. It's best suited for a column that contains categorical rather than numerical data. \n",
    "\n",
    "For example, we can apply `value_counts()` to the stop_outcome column, which contains the outcome of each traffic stop."
   ]
  },
  {
   "cell_type": "code",
   "execution_count": 4,
   "id": "caace6f7-92ab-4401-8688-fef65098b4c4",
   "metadata": {},
   "outputs": [
    {
     "data": {
      "text/plain": [
       "Citation            77091\n",
       "Warning              5136\n",
       "Arrest Driver        2735\n",
       "No Action             624\n",
       "N/D                   607\n",
       "Arrest Passenger      343\n",
       "Name: stop_outcome, dtype: int64"
      ]
     },
     "execution_count": 4,
     "metadata": {},
     "output_type": "execute_result"
    }
   ],
   "source": [
    "ri.stop_outcome.value_counts()"
   ]
  },
  {
   "cell_type": "markdown",
   "id": "85001278-87ac-4508-8ae3-9da0ff5d79fd",
   "metadata": {},
   "source": [
    "The results are displayed in descending order, so you can see that the most common outcome is a citation, also known as a ticket, and the second most common outcome is a `warning`.\n",
    "\n",
    "### Counting unique values (2)\n",
    "Because `value_counts()` outputs a pandas Series, you can take the sum of this Series by simply adding the `sum()` method on the end. This is known as method chaining, a powerful technique."
   ]
  },
  {
   "cell_type": "code",
   "execution_count": 5,
   "id": "da2a61ad-fd4d-401b-9772-fc58f888da54",
   "metadata": {},
   "outputs": [
    {
     "data": {
      "text/plain": [
       "86536"
      ]
     },
     "execution_count": 5,
     "metadata": {},
     "output_type": "execute_result"
    }
   ],
   "source": [
    "ri.stop_outcome.value_counts().sum()"
   ]
  },
  {
   "cell_type": "markdown",
   "id": "2ab67bf2-0b19-4d05-a1ef-39282c056348",
   "metadata": {},
   "source": [
    "The `sum()` of the `value_counts()` is actually equal to the number of rows in the DataFrame, which will be the case for any Series that has no missing values."
   ]
  },
  {
   "cell_type": "code",
   "execution_count": 6,
   "id": "a14a848f-4370-4837-82ed-8bb801c9f4bf",
   "metadata": {},
   "outputs": [
    {
     "data": {
      "text/plain": [
       "(86536, 13)"
      ]
     },
     "execution_count": 6,
     "metadata": {},
     "output_type": "execute_result"
    }
   ],
   "source": [
    "ri.shape"
   ]
  },
  {
   "cell_type": "markdown",
   "id": "c51767bd-35d3-47c8-93ff-f9557befa5bb",
   "metadata": {},
   "source": [
    "### Expressing counts as proportions\n",
    "Rather than examining the raw counts, you might prefer to see the stop outcomes as proportions of the total. So if you wanted to know what percentage of traffic stops ended in a citation, you would divide the number of citations by the total number of outcomes and get 0.89, or 89%."
   ]
  },
  {
   "cell_type": "code",
   "execution_count": 8,
   "id": "11a011ec-b5bc-4368-ad09-5594b7c80d31",
   "metadata": {},
   "outputs": [
    {
     "data": {
      "text/plain": [
       "Citation            77091\n",
       "Warning              5136\n",
       "Arrest Driver        2735\n",
       "No Action             624\n",
       "N/D                   607\n",
       "Arrest Passenger      343\n",
       "Name: stop_outcome, dtype: int64"
      ]
     },
     "execution_count": 8,
     "metadata": {},
     "output_type": "execute_result"
    }
   ],
   "source": [
    "ri.stop_outcome.value_counts()"
   ]
  },
  {
   "cell_type": "code",
   "execution_count": 9,
   "id": "b9ed1da8-a2df-47dc-8b87-5bff3cdb09e5",
   "metadata": {},
   "outputs": [
    {
     "data": {
      "text/plain": [
       "0.8908546731995932"
      ]
     },
     "execution_count": 9,
     "metadata": {},
     "output_type": "execute_result"
    }
   ],
   "source": [
    "77091/86536"
   ]
  },
  {
   "cell_type": "markdown",
   "id": "45359490-8e56-418b-8f5d-459445b85431",
   "metadata": {},
   "source": [
    "Rather than doing these calculations manually, you can instead set the `normalize` parameter of `value_counts()` to be `True`, and it will output proportions instead of counts. "
   ]
  },
  {
   "cell_type": "code",
   "execution_count": 10,
   "id": "ce6ad2ca-2056-4ed4-b518-bd0e5a1a249a",
   "metadata": {},
   "outputs": [
    {
     "data": {
      "text/plain": [
       "Citation            0.890855\n",
       "Warning             0.059351\n",
       "Arrest Driver       0.031605\n",
       "No Action           0.007211\n",
       "N/D                 0.007014\n",
       "Arrest Passenger    0.003964\n",
       "Name: stop_outcome, dtype: float64"
      ]
     },
     "execution_count": 10,
     "metadata": {},
     "output_type": "execute_result"
    }
   ],
   "source": [
    "ri.stop_outcome.value_counts(normalize=True)"
   ]
  },
  {
   "cell_type": "markdown",
   "id": "0c5fd6c9-96fb-4282-9fc9-b11685f7b02c",
   "metadata": {},
   "source": [
    "Citations are 89%, warnings are 6%, driver arrests are 3%, and so on.\n",
    "\n",
    "### Filtering DataFrame rows\n",
    "Let's now take a look at the `value_counts()` for a different column, driver_race. You can see that there are five unique categories present. "
   ]
  },
  {
   "cell_type": "code",
   "execution_count": 11,
   "id": "9fc80243-35ef-4b7c-8f62-65c6e857494e",
   "metadata": {},
   "outputs": [
    {
     "data": {
      "text/plain": [
       "White       61870\n",
       "Black       12285\n",
       "Hispanic     9727\n",
       "Asian        2389\n",
       "Other         265\n",
       "Name: driver_race, dtype: int64"
      ]
     },
     "execution_count": 11,
     "metadata": {},
     "output_type": "execute_result"
    }
   ],
   "source": [
    "ri.driver_race.value_counts()"
   ]
  },
  {
   "cell_type": "markdown",
   "id": "3f5314b6-1b36-4ab0-beba-8b7b6e5fb85a",
   "metadata": {},
   "source": [
    "If you wanted to filter the DataFrame to only include drivers of a particular race, such as White, you would write that as a condition and put it inside brackets. We'll save the result in a new object. "
   ]
  },
  {
   "cell_type": "code",
   "execution_count": 13,
   "id": "beba8501-cb7b-4d17-bbda-936b5a480455",
   "metadata": {},
   "outputs": [
    {
     "data": {
      "text/plain": [
       "(61870, 13)"
      ]
     },
     "execution_count": 13,
     "metadata": {},
     "output_type": "execute_result"
    }
   ],
   "source": [
    "white = ri[ri.driver_race == 'White']\n",
    "white.shape"
   ]
  },
  {
   "cell_type": "markdown",
   "id": "b90aa70b-3bf8-4d20-b25e-2832de15d29b",
   "metadata": {},
   "source": [
    "The shape of the new DataFrame is 61,870 rows, because that's the number of White drivers in the dataset, and 13 columns. You can now analyze this smaller DataFrame separately.\n",
    "\n",
    "### Comparing stop outcomes for two groups\n",
    "For example, you could repeat the analysis of stop outcomes, but focus on White drivers only. Like before, you select the `stop_outcome` column and then chain the `value_counts()` method on the end. "
   ]
  },
  {
   "cell_type": "code",
   "execution_count": 14,
   "id": "b2383913-05dc-401c-887f-fccfc2f5dab1",
   "metadata": {},
   "outputs": [
    {
     "data": {
      "text/plain": [
       "Citation            0.902263\n",
       "Warning             0.057508\n",
       "Arrest Driver       0.024018\n",
       "No Action           0.007031\n",
       "N/D                 0.006433\n",
       "Arrest Passenger    0.002748\n",
       "Name: stop_outcome, dtype: float64"
      ]
     },
     "execution_count": 14,
     "metadata": {},
     "output_type": "execute_result"
    }
   ],
   "source": [
    "white.stop_outcome.value_counts(normalize=True)"
   ]
  },
  {
   "cell_type": "markdown",
   "id": "63b298b1-e2d1-409f-95c9-38bff925fa7c",
   "metadata": {},
   "source": [
    "You could compare these results with the outcomes for another race, such as Asian, simply by changing the condition inside the brackets and then repeating the calculation. "
   ]
  },
  {
   "cell_type": "code",
   "execution_count": 15,
   "id": "f8b8e33a-6284-41ad-bf02-5c03d3cf1f84",
   "metadata": {},
   "outputs": [
    {
     "data": {
      "text/plain": [
       "Citation            0.922980\n",
       "Warning             0.045207\n",
       "Arrest Driver       0.017581\n",
       "No Action           0.008372\n",
       "N/D                 0.004186\n",
       "Arrest Passenger    0.001674\n",
       "Name: stop_outcome, dtype: float64"
      ]
     },
     "execution_count": 15,
     "metadata": {},
     "output_type": "execute_result"
    }
   ],
   "source": [
    "asian = ri[ri.driver_race == 'Asian']\n",
    "asian.stop_outcome.value_counts(normalize=True)"
   ]
  },
  {
   "cell_type": "markdown",
   "id": "a5a1ee57-9f7a-437b-be2e-6aa1a42ad12d",
   "metadata": {},
   "source": [
    "If you compare these two sets of numbers, you can see that the stop outcomes are fairly similar for these two groups.\n",
    "\n",
    "If doing the same analysis for others two race groups, Black and Hispanic,"
   ]
  },
  {
   "cell_type": "code",
   "execution_count": 16,
   "id": "bc13ac31-ef36-4a29-86a2-6296d5ff31e8",
   "metadata": {},
   "outputs": [
    {
     "data": {
      "text/plain": [
       "Citation            0.857224\n",
       "Warning             0.065120\n",
       "Arrest Driver       0.054294\n",
       "N/D                 0.008547\n",
       "Arrest Passenger    0.008303\n",
       "No Action           0.006512\n",
       "Name: stop_outcome, dtype: float64"
      ]
     },
     "execution_count": 16,
     "metadata": {},
     "output_type": "execute_result"
    }
   ],
   "source": [
    "black = ri[ri.driver_race == 'Black']\n",
    "black.stop_outcome.value_counts(normalize=True)"
   ]
  },
  {
   "cell_type": "code",
   "execution_count": 17,
   "id": "a595034f-fc58-461a-b09b-faa3c6be85c0",
   "metadata": {},
   "outputs": [
    {
     "data": {
      "text/plain": [
       "Citation            0.852061\n",
       "Warning             0.067441\n",
       "Arrest Driver       0.055310\n",
       "N/D                 0.009458\n",
       "No Action           0.008841\n",
       "Arrest Passenger    0.006888\n",
       "Name: stop_outcome, dtype: float64"
      ]
     },
     "execution_count": 17,
     "metadata": {},
     "output_type": "execute_result"
    }
   ],
   "source": [
    "hispanic = ri[ri.driver_race == 'Hispanic']\n",
    "hispanic.stop_outcome.value_counts(normalize=True)"
   ]
  },
  {
   "cell_type": "markdown",
   "id": "e5558301-4f32-4ed9-92b1-383bf329fb59",
   "metadata": {},
   "source": [
    " the stop outcomes are similar for these two groups."
   ]
  },
  {
   "cell_type": "markdown",
   "id": "5950376f-84e8-46f0-ba80-cb320eeb726c",
   "metadata": {},
   "source": [
    "## Examining traffic violations\n",
    "Before comparing the violations being committed by each gender, you should examine the violations committed by all drivers to get a baseline understanding of the data.\n",
    "\n",
    "In this exercise, you'll count the unique values in the `violation` column, and then separately express those counts as proportions.\n",
    "\n",
    "- Count the unique values in the `violation` column of the `ri` DataFrame, to see what violations are being committed by all drivers.\n",
    "- Express the violation counts as proportions of the total.\n"
   ]
  },
  {
   "cell_type": "code",
   "execution_count": 19,
   "id": "1aa16013-2613-4543-8179-171dc36e75ef",
   "metadata": {},
   "outputs": [
    {
     "name": "stdout",
     "output_type": "stream",
     "text": [
      "Speeding               48423\n",
      "Moving violation       16224\n",
      "Equipment              10921\n",
      "Other                   4409\n",
      "Registration/plates     3703\n",
      "Seat belt               2856\n",
      "Name: violation, dtype: int64\n"
     ]
    }
   ],
   "source": [
    "# Count the unique values in 'violation'\n",
    "print(ri.violation.value_counts())"
   ]
  },
  {
   "cell_type": "code",
   "execution_count": 20,
   "id": "2fd7a0b5-4625-4b5d-8a50-5536c57e1822",
   "metadata": {},
   "outputs": [
    {
     "name": "stdout",
     "output_type": "stream",
     "text": [
      "Speeding               0.559571\n",
      "Moving violation       0.187483\n",
      "Equipment              0.126202\n",
      "Other                  0.050950\n",
      "Registration/plates    0.042791\n",
      "Seat belt              0.033004\n",
      "Name: violation, dtype: float64\n"
     ]
    }
   ],
   "source": [
    "# Express the counts as proportions\n",
    "print(ri.violation.value_counts(normalize=True))"
   ]
  },
  {
   "cell_type": "markdown",
   "id": "b0666db6-62a4-48e4-85a3-c233c8faf53b",
   "metadata": {},
   "source": [
    "*More than half of all violations are for speeding, followed by other moving violations and equipment violations.*"
   ]
  },
  {
   "cell_type": "markdown",
   "id": "44579c3e-5399-4bcb-93d8-c2ef9a1f2575",
   "metadata": {},
   "source": [
    "## Comparing violations by gender\n",
    "The question we're trying to answer is whether male and female drivers tend to commit different types of traffic violations.\n",
    "\n",
    "In this exercise, you'll first create a DataFrame for each gender, and then analyze the violations in each DataFrame separately.\n",
    "\n",
    "- Create a DataFrame, `female`, that only contains rows in which `driver_gender` is `'F'`.\n",
    "- Create a DataFrame, `male`, that only contains rows in which `driver_gender` is `'M'`.\n",
    "- Count the violations committed by female drivers and express them as proportions.\n",
    "- Count the violations committed by male drivers and express them as proportions."
   ]
  },
  {
   "cell_type": "code",
   "execution_count": 21,
   "id": "b46ab096-4bda-4e57-8c0d-98f440c20793",
   "metadata": {},
   "outputs": [
    {
     "name": "stdout",
     "output_type": "stream",
     "text": [
      "Speeding               0.658114\n",
      "Moving violation       0.138218\n",
      "Equipment              0.105199\n",
      "Registration/plates    0.044418\n",
      "Other                  0.029738\n",
      "Seat belt              0.024312\n",
      "Name: violation, dtype: float64\n"
     ]
    }
   ],
   "source": [
    "# Create a DataFrame of female drivers\n",
    "female = ri[ri.driver_gender == 'F']\n",
    "\n",
    "# Create a DataFrame of male drivers\n",
    "male = ri[ri.driver_gender == 'M']\n",
    "\n",
    "# Compute the violations by female drivers (as proportions)\n",
    "print(female.violation.value_counts(normalize=True))"
   ]
  },
  {
   "cell_type": "code",
   "execution_count": 22,
   "id": "445dd22b-9524-40f0-a6ee-84b090527a05",
   "metadata": {},
   "outputs": [
    {
     "name": "stdout",
     "output_type": "stream",
     "text": [
      "Speeding               0.522243\n",
      "Moving violation       0.206144\n",
      "Equipment              0.134158\n",
      "Other                  0.058985\n",
      "Registration/plates    0.042175\n",
      "Seat belt              0.036296\n",
      "Name: violation, dtype: float64\n"
     ]
    }
   ],
   "source": [
    "# Compute the violations by male drivers (as proportions)\n",
    "print(male.violation.value_counts(normalize=True))"
   ]
  },
  {
   "cell_type": "markdown",
   "id": "5fde785b-8c07-4cc0-9bf5-90ce6797b0d5",
   "metadata": {},
   "source": [
    "*About two-thirds of female traffic stops are for speeding, whereas stops of males are more balanced among the six categories.*\n",
    "\n",
    "*This doesn't mean that females speed more often than males, however, since we didn't take into account the number of stops or drivers.*"
   ]
  },
  {
   "cell_type": "markdown",
   "id": "b9ed7107-1122-4d54-9c17-1e017a6ab685",
   "metadata": {},
   "source": [
    "---\n",
    "## Does gender affect who gets a ticket for speeding?\n",
    "In this section, we'll narrow our focus to the relationship between gender and stop outcomes for one specific violation, namely speeding.\n",
    " \n",
    "### Filtering by multiple conditions (1)\n",
    "We'll need to use one additional technique for this analysis, namely filtering a DataFrame by multiple conditions. \n",
    "\n",
    "In the last exercise, you used a single condition, driver_gender equals F, to create a DataFrame of female drivers. It has 23,774 rows because that's the number of rows in the ri DataFrame that satisfy this condition."
   ]
  },
  {
   "cell_type": "code",
   "execution_count": 23,
   "id": "5dea760b-2c6b-45a2-b45a-6a4157a0f0d3",
   "metadata": {},
   "outputs": [
    {
     "data": {
      "text/plain": [
       "(23774, 13)"
      ]
     },
     "execution_count": 23,
     "metadata": {},
     "output_type": "execute_result"
    }
   ],
   "source": [
    "female.shape"
   ]
  },
  {
   "cell_type": "markdown",
   "id": "68995c4b-c1f5-4fb0-aa9a-40b859816ff7",
   "metadata": {},
   "source": [
    "### Filtering by multiple conditions (2)\n",
    "What if we wanted to create a second DataFrame of female drivers, but only those who were arrested? We simply add a second condition to the filter, namely that the `is_arrested` column equals True. Notice that each condition is surrounded by parentheses, and there is an `&` between the two conditions, which represents the logical `AND` operator."
   ]
  },
  {
   "cell_type": "code",
   "execution_count": 26,
   "id": "c4a78af1-e375-45f9-852e-1a8c8e03de7a",
   "metadata": {},
   "outputs": [
    {
     "data": {
      "text/plain": [
       "(669, 13)"
      ]
     },
     "execution_count": 26,
     "metadata": {},
     "output_type": "execute_result"
    }
   ],
   "source": [
    "female_and_arrested = ri[(ri.driver_gender == 'F') & (ri.is_arrested == True)]\n",
    "female_and_arrested.shape"
   ]
  },
  {
   "cell_type": "markdown",
   "id": "18cedbfa-0938-4b31-a6fb-84d33d4c0f7f",
   "metadata": {},
   "source": [
    "The second DataFrame is much smaller because it only includes rows that satisfy both conditions, meaning that it only includes female drivers who were also arrested.\n",
    "\n",
    "### Filtering by multiple conditions (3)\n",
    "When filtering a DataFrame by multiple conditions, another option is to use the vertical pipe character between the two conditions. The `|` represents the logical `OR` operator, which indicates that a row should be included in the DataFrame if it meets either condition. "
   ]
  },
  {
   "cell_type": "code",
   "execution_count": 27,
   "id": "4874b7a5-4682-4f3a-aeb3-67580dca70eb",
   "metadata": {},
   "outputs": [
    {
     "data": {
      "text/plain": [
       "(26183, 13)"
      ]
     },
     "execution_count": 27,
     "metadata": {},
     "output_type": "execute_result"
    }
   ],
   "source": [
    "female_or_arrested = ri[(ri.driver_gender == 'F') | (ri.is_arrested == True)]\n",
    "female_or_arrested.shape"
   ]
  },
  {
   "cell_type": "markdown",
   "id": "a56eee17-95de-4c33-adbd-ee987ed484f9",
   "metadata": {},
   "source": [
    "This DataFrame is larger than the last one because it includes all females regardless of whether they were arrested, as well as all drivers who were arrested, regardless of whether they are female.\n",
    "\n",
    "### Rules for filtering by multiple conditions\n",
    "Here's a quick summary of the rules for filtering DataFrames by multiple conditions. \n",
    "\n",
    "- Use the `&` to only include rows that satisfy both conditions.\n",
    "- Use the `|` to include rows that satisfy either condition. \n",
    "- Each condition must be surrounded by parentheses. \n",
    "- Conditions can check for equality(`==`), inequality(`!=`), greater than, less than, and so on. And you can use more than two conditions to create a filter.\n",
    "\n",
    "### Correlation, not causation\n",
    "In the next exercises, you'll analyze the relationship between gender and stop outcome when a driver is pulled over for speeding. In other words, you're examining the data to assess whether there is a correlation between these two attributes. However, it's important to note that we're not going to draw any conclusions about causation during this course, since we don't have the data or the expertise required to do so. Instead, we're simply exploring the relationships between different attributes in the dataset."
   ]
  },
  {
   "cell_type": "markdown",
   "id": "db02753c-8d29-4513-95c7-32d124c9bc56",
   "metadata": {},
   "source": [
    "## Comparing speeding outcomes by gender\n",
    "When a driver is pulled over for speeding, many people believe that gender has an impact on whether the driver will receive a ticket or a warning. Can you find evidence of this in the dataset?\n",
    "\n",
    "First, you'll create two DataFrames of drivers who were stopped for speeding: one containing females and the other containing males.\n",
    "\n",
    "Then, for each gender, you'll use the `stop_outcome` column to calculate what percentage of stops resulted in a \"Citation\" (meaning a ticket) versus a \"Warning\".\n",
    "\n",
    "- Create a DataFrame, `female_and_speeding`, that only includes female drivers who were stopped for speeding.\n",
    "- Create a DataFrame, `male_and_speeding`, that only includes male drivers who were stopped for speeding.\n",
    "- Count the stop outcomes for the female drivers and express them as proportions.\n",
    "- Count the stop outcomes for the male drivers and express them as proportions."
   ]
  },
  {
   "cell_type": "code",
   "execution_count": 28,
   "id": "91b7706c-b49d-4a9b-a81d-1b06394160ab",
   "metadata": {},
   "outputs": [
    {
     "name": "stdout",
     "output_type": "stream",
     "text": [
      "Citation            0.952192\n",
      "Warning             0.040074\n",
      "Arrest Driver       0.005752\n",
      "N/D                 0.000959\n",
      "Arrest Passenger    0.000639\n",
      "No Action           0.000383\n",
      "Name: stop_outcome, dtype: float64\n"
     ]
    }
   ],
   "source": [
    "# Create a DataFrame of female drivers stopped for speeding\n",
    "female_and_speeding = ri[(ri.driver_gender == 'F') & (ri.violation == 'Speeding')]\n",
    "\n",
    "# Create a DataFrame of male drivers stopped for speeding\n",
    "male_and_speeding = ri[(ri.driver_gender == 'M') & (ri.violation == 'Speeding')]\n",
    "\n",
    "# Compute the stop outcomes for female drivers (as proportions)\n",
    "print(female_and_speeding.stop_outcome.value_counts(normalize=True))"
   ]
  },
  {
   "cell_type": "code",
   "execution_count": 29,
   "id": "5a6fbebf-9e58-42b3-bb26-d25d7f848063",
   "metadata": {},
   "outputs": [
    {
     "name": "stdout",
     "output_type": "stream",
     "text": [
      "Citation            0.944595\n",
      "Warning             0.036184\n",
      "Arrest Driver       0.015895\n",
      "Arrest Passenger    0.001281\n",
      "No Action           0.001068\n",
      "N/D                 0.000976\n",
      "Name: stop_outcome, dtype: float64\n"
     ]
    }
   ],
   "source": [
    "# Compute the stop outcomes for male drivers (as proportions)\n",
    "print(male_and_speeding.stop_outcome.value_counts(normalize=True))"
   ]
  },
  {
   "cell_type": "markdown",
   "id": "df6aa54e-5247-4f61-81a7-523c2890617d",
   "metadata": {},
   "source": [
    "*The numbers are similar for males and females: about 95% of stops for speeding result in a ticket. Thus, the data fails to show that gender has an impact on who gets a ticket for speeding.*"
   ]
  },
  {
   "cell_type": "markdown",
   "id": "5fb6c9ea-136e-428f-83cb-404424a41c12",
   "metadata": {},
   "source": [
    "---\n",
    "## Does gender affect whose vehicle is searched?\n",
    "During a traffic stop, the police officer sometimes conducts a search of the vehicle. Does the driver's gender affect whether their vehicle is searched? Let's review a few pandas techniques that will help us to answer this question.\n",
    "\n",
    "### Math with Boolean values\n",
    "We previously used the `isnull()` method to generate a DataFrame of `True` and `False` values, and then took the `sum()` to count the missing values in each column. "
   ]
  },
  {
   "cell_type": "code",
   "execution_count": 30,
   "id": "e938b06f-9c00-46b4-97c4-4c2faf589549",
   "metadata": {},
   "outputs": [
    {
     "data": {
      "text/plain": [
       "stop_date                 0\n",
       "stop_time                 0\n",
       "driver_gender             0\n",
       "driver_race               0\n",
       "violation_raw             0\n",
       "violation                 0\n",
       "search_conducted          0\n",
       "search_type           83229\n",
       "stop_outcome              0\n",
       "is_arrested               0\n",
       "stop_duration             0\n",
       "drugs_related_stop        0\n",
       "district                  0\n",
       "dtype: int64"
      ]
     },
     "execution_count": 30,
     "metadata": {},
     "output_type": "execute_result"
    }
   ],
   "source": [
    "ri.isnull().sum()"
   ]
  },
  {
   "cell_type": "markdown",
   "id": "75f98016-be60-43e9-bb6c-e61cc6aa427a",
   "metadata": {},
   "source": [
    "This worked because True values were treated as ones and False values were treated as zeros. \n",
    "\n",
    "Now we'll use the NumPy library to demonstrate a different operation, namely the mean. If you take the `mean()` of the list `0 1 0 0` you'll get 0.25, calculated as 1 divided by 4. "
   ]
  },
  {
   "cell_type": "code",
   "execution_count": 31,
   "id": "e94e6f64-349d-46c8-8b90-8983af9c634a",
   "metadata": {},
   "outputs": [
    {
     "data": {
      "text/plain": [
       "0.25"
      ]
     },
     "execution_count": 31,
     "metadata": {},
     "output_type": "execute_result"
    }
   ],
   "source": [
    "import numpy as np\n",
    "np.mean([0, 1, 0, 0])"
   ]
  },
  {
   "cell_type": "markdown",
   "id": "23b7d7a4-36ba-4330-8441-c97b0816bb84",
   "metadata": {},
   "source": [
    "Similarly, if you take the `mean()` of the list `False True False False`, you'll also get 0.25. "
   ]
  },
  {
   "cell_type": "code",
   "execution_count": 32,
   "id": "4a4c829e-1bf6-48c6-bd2a-882f385534f3",
   "metadata": {},
   "outputs": [
    {
     "data": {
      "text/plain": [
       "0.25"
      ]
     },
     "execution_count": 32,
     "metadata": {},
     "output_type": "execute_result"
    }
   ],
   "source": [
    "np.mean([False, True, False, False])"
   ]
  },
  {
   "cell_type": "markdown",
   "id": "6c21a6a1-f33a-432e-86f7-640c04a5cd11",
   "metadata": {},
   "source": [
    "Thus, the mean of a Boolean Series represents the percentage of values that are `True`.\n",
    "\n",
    "### Taking the mean of a Boolean Series\n",
    "Now, let's see a real example of why it's useful to be able to take the mean of a Boolean Series. \n",
    "\n",
    "First, calculate the percentage of stops that result in an arrest using the `value_counts()` method. "
   ]
  },
  {
   "cell_type": "code",
   "execution_count": 34,
   "id": "11761264-d508-4b87-8cab-2174a8bb31c3",
   "metadata": {},
   "outputs": [
    {
     "data": {
      "text/plain": [
       "False    0.964431\n",
       "True     0.035569\n",
       "Name: is_arrested, dtype: float64"
      ]
     },
     "execution_count": 34,
     "metadata": {},
     "output_type": "execute_result"
    }
   ],
   "source": [
    "ri.is_arrested.value_counts(normalize=True)"
   ]
  },
  {
   "cell_type": "markdown",
   "id": "4ad50537-89f3-46b7-9f35-b6e84197e102",
   "metadata": {},
   "source": [
    "The arrest rate is around 3.6% since that's the percentage of True values. Note that this would work on an object column or a Boolean column. But we can get the same result more easily by taking the `mean()` of the `is_arrested` Series. "
   ]
  },
  {
   "cell_type": "code",
   "execution_count": 35,
   "id": "8cc92195-5e70-48a2-8d6a-a1a80efeec7c",
   "metadata": {},
   "outputs": [
    {
     "data": {
      "text/plain": [
       "0.0355690117407784"
      ]
     },
     "execution_count": 35,
     "metadata": {},
     "output_type": "execute_result"
    }
   ],
   "source": [
    "ri.is_arrested.mean()"
   ]
  },
  {
   "cell_type": "markdown",
   "id": "4c420ed2-58b2-47a1-8a89-0cea6ba1f077",
   "metadata": {},
   "source": [
    "This method only works because the data type is Boolean. "
   ]
  },
  {
   "cell_type": "code",
   "execution_count": 36,
   "id": "7ab82257-1dfb-4feb-ba1a-a85ee4891d2c",
   "metadata": {},
   "outputs": [
    {
     "data": {
      "text/plain": [
       "dtype('bool')"
      ]
     },
     "execution_count": 36,
     "metadata": {},
     "output_type": "execute_result"
    }
   ],
   "source": [
    "ri.is_arrested.dtype"
   ]
  },
  {
   "cell_type": "markdown",
   "id": "f19cf23b-3858-4540-b5e3-815453762b73",
   "metadata": {},
   "source": [
    "This is exactly why the data type of this Series was changed from object to Boolean before.\n",
    "\n",
    "### Comparing groups using groupby (1)\n",
    "The second technique we'll review is `groupby()`. \n",
    "\n",
    "Let's pretend that you wanted to study the arrest rate by police district. You can see that there are six districts by using the Series method `unique()`. "
   ]
  },
  {
   "cell_type": "code",
   "execution_count": 37,
   "id": "e67248ad-d2ae-4dce-a77c-155b793d84cf",
   "metadata": {},
   "outputs": [
    {
     "data": {
      "text/plain": [
       "array(['Zone X4', 'Zone K3', 'Zone X1', 'Zone X3', 'Zone K1', 'Zone K2'],\n",
       "      dtype=object)"
      ]
     },
     "execution_count": 37,
     "metadata": {},
     "output_type": "execute_result"
    }
   ],
   "source": [
    "ri.district.unique()"
   ]
  },
  {
   "cell_type": "markdown",
   "id": "46447615-55d4-499b-843d-b4e47307c0dd",
   "metadata": {},
   "source": [
    "One approach we've used to compare groups is to filter the DataFrame by each group, and then perform a calculation on each subset. So to calculate the arrest rate in `Zone K1`, we would filter by that district, select the `is_arrested` column, and then take the `mean()`. "
   ]
  },
  {
   "cell_type": "code",
   "execution_count": 38,
   "id": "257685d8-14a6-4ca8-b484-baeb6f584e26",
   "metadata": {},
   "outputs": [
    {
     "data": {
      "text/plain": [
       "0.024349083895853423"
      ]
     },
     "execution_count": 38,
     "metadata": {},
     "output_type": "execute_result"
    }
   ],
   "source": [
    "ri[ri.district == 'Zone K1'].is_arrested.mean()"
   ]
  },
  {
   "cell_type": "markdown",
   "id": "ec695030-e2fe-4aaa-b552-57c5d722bd32",
   "metadata": {},
   "source": [
    "The arrest rate is about 2.4%, which is lower than the overall arrest rate of 3.6%.\n",
    "\n",
    "### Comparing groups using groupby (2)\n",
    "Next we calculate the arrest rate in `Zone K2`, "
   ]
  },
  {
   "cell_type": "code",
   "execution_count": 39,
   "id": "e32c68bd-8ff2-4327-b4b9-4fb76c761984",
   "metadata": {},
   "outputs": [
    {
     "data": {
      "text/plain": [
       "0.030800588834786546"
      ]
     },
     "execution_count": 39,
     "metadata": {},
     "output_type": "execute_result"
    }
   ],
   "source": [
    "ri[ri.district == 'Zone K2'].is_arrested.mean()"
   ]
  },
  {
   "cell_type": "markdown",
   "id": "ddeb242f-14ef-4ec6-8122-c0c49e04e7ef",
   "metadata": {},
   "source": [
    "which is about 3.1%. \n",
    "\n",
    "But rather than repeating this process for all six districts, we can instead group by the district column, which will perform the same calculation for all districts at once. "
   ]
  },
  {
   "cell_type": "code",
   "execution_count": 40,
   "id": "684f9fb8-8fac-41c3-a2e2-60617ddc3f80",
   "metadata": {},
   "outputs": [
    {
     "data": {
      "text/plain": [
       "district\n",
       "Zone K1    0.024349\n",
       "Zone K2    0.030801\n",
       "Zone K3    0.032311\n",
       "Zone X1    0.023494\n",
       "Zone X3    0.034871\n",
       "Zone X4    0.048038\n",
       "Name: is_arrested, dtype: float64"
      ]
     },
     "execution_count": 40,
     "metadata": {},
     "output_type": "execute_result"
    }
   ],
   "source": [
    "ri.groupby('district').is_arrested.mean()"
   ]
  },
  {
   "cell_type": "markdown",
   "id": "2ca40495-8964-489b-a363-1e7289d56f9e",
   "metadata": {},
   "source": [
    "You can see a noticeably higher arrest rate in `Zone X4`.\n",
    "\n",
    "### Grouping by multiple categories\n",
    "You can also group by multiple categories at once. For example, you can group by district and gender by passing it as a list of strings. "
   ]
  },
  {
   "cell_type": "code",
   "execution_count": 41,
   "id": "24598c00-5932-4085-b5cd-e8921a28ffea",
   "metadata": {},
   "outputs": [
    {
     "data": {
      "text/plain": [
       "district  driver_gender\n",
       "Zone K1   F                0.019169\n",
       "          M                0.026588\n",
       "Zone K2   F                0.022196\n",
       "          M                0.034285\n",
       "Zone K3   F                0.025156\n",
       "          M                0.034961\n",
       "Zone X1   F                0.019646\n",
       "          M                0.024563\n",
       "Zone X3   F                0.027188\n",
       "          M                0.038166\n",
       "Zone X4   F                0.042149\n",
       "          M                0.049956\n",
       "Name: is_arrested, dtype: float64"
      ]
     },
     "execution_count": 41,
     "metadata": {},
     "output_type": "execute_result"
    }
   ],
   "source": [
    "ri.groupby(['district', 'driver_gender']).is_arrested.mean()"
   ]
  },
  {
   "cell_type": "markdown",
   "id": "45d1c4a2-85ca-4726-b218-3e1b7a337c9e",
   "metadata": {},
   "source": [
    "This computes the arrest rate for every combination of district and gender. In other words, you can see the arrest rate for males and females in each district separately. \n",
    "\n",
    "Note that if you reverse the ordering of the items in the list, grouping first by gender and then by district, the calculations will be the same but the presentation of the results will be different."
   ]
  },
  {
   "cell_type": "code",
   "execution_count": 42,
   "id": "5dc74359-ccfd-426a-befb-15dfcd9d82cf",
   "metadata": {},
   "outputs": [
    {
     "data": {
      "text/plain": [
       "driver_gender  district\n",
       "F              Zone K1     0.019169\n",
       "               Zone K2     0.022196\n",
       "               Zone K3     0.025156\n",
       "               Zone X1     0.019646\n",
       "               Zone X3     0.027188\n",
       "               Zone X4     0.042149\n",
       "M              Zone K1     0.026588\n",
       "               Zone K2     0.034285\n",
       "               Zone K3     0.034961\n",
       "               Zone X1     0.024563\n",
       "               Zone X3     0.038166\n",
       "               Zone X4     0.049956\n",
       "Name: is_arrested, dtype: float64"
      ]
     },
     "execution_count": 42,
     "metadata": {},
     "output_type": "execute_result"
    }
   ],
   "source": [
    "ri.groupby(['driver_gender', 'district']).is_arrested.mean()"
   ]
  },
  {
   "cell_type": "markdown",
   "id": "cb7f5cee-ec81-4bfc-a2fe-b5979d91cb62",
   "metadata": {},
   "source": [
    " You can use whichever option makes it easier for you to understand the results."
   ]
  },
  {
   "cell_type": "markdown",
   "id": "57ef9f15-b207-4b2d-a45a-c59c2d2b43a7",
   "metadata": {},
   "source": [
    "## Calculating the search rate\n",
    "During a traffic stop, the police officer sometimes conducts a search of the vehicle. In this exercise, you'll calculate the percentage of all stops in the `ri` DataFrame that result in a vehicle search, also known as the search rate.\n",
    "\n",
    "- Check the data type of `search_conducted` to confirm that it's a Boolean Series.\n",
    "- Calculate the search rate by counting the Series values and expressing them as proportions.\n",
    "- Calculate the search rate by taking the mean of the Series. (It should match the proportion of `True` values calculated above.)"
   ]
  },
  {
   "cell_type": "code",
   "execution_count": 44,
   "id": "56933dcb-3787-47f7-bf52-28917c5c6df9",
   "metadata": {},
   "outputs": [
    {
     "name": "stdout",
     "output_type": "stream",
     "text": [
      "bool\n"
     ]
    }
   ],
   "source": [
    "# Check the data type of 'search_conducted'\n",
    "print(ri.search_conducted.dtype)"
   ]
  },
  {
   "cell_type": "code",
   "execution_count": 45,
   "id": "267b4fb9-f87f-4883-9ea2-8153f0fb77ec",
   "metadata": {},
   "outputs": [
    {
     "name": "stdout",
     "output_type": "stream",
     "text": [
      "False    0.961785\n",
      "True     0.038215\n",
      "Name: search_conducted, dtype: float64\n"
     ]
    }
   ],
   "source": [
    "# Calculate the search rate by counting the values\n",
    "print(ri.search_conducted.value_counts(normalize=True))"
   ]
  },
  {
   "cell_type": "code",
   "execution_count": 46,
   "id": "8cae30d5-e5ae-4a61-a2a9-13aba33eed1f",
   "metadata": {},
   "outputs": [
    {
     "name": "stdout",
     "output_type": "stream",
     "text": [
      "0.0382153092354627\n"
     ]
    }
   ],
   "source": [
    "# Calculate the search rate by taking the mean\n",
    "print(ri.search_conducted.mean())"
   ]
  },
  {
   "cell_type": "markdown",
   "id": "cbdd7c25-2be1-4a52-a518-81dee2e3bfdd",
   "metadata": {},
   "source": [
    "*It looks like the search rate is about 3.8%.*"
   ]
  },
  {
   "cell_type": "markdown",
   "id": "6a1abcf1-a11e-4e35-8509-7ef3f9c4406e",
   "metadata": {},
   "source": [
    "## Comparing search rates by gender\n",
    "In this exercise, you'll compare the rates at which female and male drivers are searched during a traffic stop. Remember that the vehicle search rate across all stops is about 3.8%.\n",
    "\n",
    "First, you'll filter the DataFrame by gender and calculate the search rate for each group separately. Then, you'll perform the same calculation for both genders at once using a `.groupby()`.\n",
    "\n",
    "- Filter the DataFrame to only include female drivers, and then calculate the search rate by taking the mean of `search_conducted`."
   ]
  },
  {
   "cell_type": "code",
   "execution_count": 47,
   "id": "cc6adb81-0eef-4a75-a24a-35f470a63a6e",
   "metadata": {},
   "outputs": [
    {
     "name": "stdout",
     "output_type": "stream",
     "text": [
      "0.019180617481282074\n"
     ]
    }
   ],
   "source": [
    "# Calculate the search rate for female drivers\n",
    "print(ri[ri.driver_gender == 'F'].search_conducted.mean())"
   ]
  },
  {
   "cell_type": "markdown",
   "id": "ca26f39b-6565-4438-81cc-3418e3b5d5d6",
   "metadata": {},
   "source": [
    "- Filter the DataFrame to only include male drivers, and then repeat the search rate calculation."
   ]
  },
  {
   "cell_type": "code",
   "execution_count": 48,
   "id": "fc05d707-0b56-46fa-be5e-f878e6f5f2ee",
   "metadata": {},
   "outputs": [
    {
     "name": "stdout",
     "output_type": "stream",
     "text": [
      "0.04542557598546892\n"
     ]
    }
   ],
   "source": [
    "# Calculate the search rate for male drivers\n",
    "print(ri[ri.driver_gender == 'M'].search_conducted.mean())"
   ]
  },
  {
   "cell_type": "markdown",
   "id": "daaba3d6-7735-4f7e-bf03-bba8271496f5",
   "metadata": {},
   "source": [
    "- Group by driver gender to calculate the search rate for both groups simultaneously. (It should match the previous results.)"
   ]
  },
  {
   "cell_type": "code",
   "execution_count": 49,
   "id": "059bdecb-f835-46a4-91df-46f915358400",
   "metadata": {},
   "outputs": [
    {
     "name": "stdout",
     "output_type": "stream",
     "text": [
      "driver_gender\n",
      "F    0.019181\n",
      "M    0.045426\n",
      "Name: search_conducted, dtype: float64\n"
     ]
    }
   ],
   "source": [
    "# Calculate the search rate for both groups simultaneously\n",
    "print(ri.groupby('driver_gender').search_conducted.mean())"
   ]
  },
  {
   "cell_type": "markdown",
   "id": "a23cc935-1825-4de7-8fcc-f9908630b732",
   "metadata": {},
   "source": [
    "*Male drivers are searched more than twice as often as female drivers.*\n",
    "\n",
    "*Why might this be?*"
   ]
  },
  {
   "cell_type": "markdown",
   "id": "7b28cfd0-f3ef-492d-a7ef-e12b1031add2",
   "metadata": {},
   "source": [
    "## Adding a second factor to the analysis\n",
    "Even though the search rate for males is much higher than for females, it's possible that the difference is mostly due to a second factor.\n",
    "\n",
    "For example, you might hypothesize that the search rate varies by violation type, and the difference in search rate between males and females is because they tend to commit different violations.\n",
    "\n",
    "You can test this hypothesis by examining the search rate for each combination of gender and violation. If the hypothesis was true, you would find that males and females are searched at about the same rate for each violation. Find out below if that's the case!"
   ]
  },
  {
   "cell_type": "markdown",
   "id": "44fbef5e-48a3-46f0-b854-a4a08f207d1f",
   "metadata": {},
   "source": [
    "- Use a `.groupby()` to calculate the search rate for each combination of gender and violation. Are males and females searched at about the same rate for each violation?"
   ]
  },
  {
   "cell_type": "code",
   "execution_count": 50,
   "id": "685f53cc-ee6c-4ed9-89fd-45823b198fc6",
   "metadata": {},
   "outputs": [
    {
     "name": "stdout",
     "output_type": "stream",
     "text": [
      "driver_gender  violation          \n",
      "F              Equipment              0.039984\n",
      "               Moving violation       0.039257\n",
      "               Other                  0.041018\n",
      "               Registration/plates    0.054924\n",
      "               Seat belt              0.017301\n",
      "               Speeding               0.008309\n",
      "M              Equipment              0.071496\n",
      "               Moving violation       0.061524\n",
      "               Other                  0.046191\n",
      "               Registration/plates    0.108802\n",
      "               Seat belt              0.035119\n",
      "               Speeding               0.027885\n",
      "Name: search_conducted, dtype: float64\n"
     ]
    }
   ],
   "source": [
    "# Calculate the search rate for each combination of gender and violation\n",
    "print(ri.groupby(['driver_gender', 'violation']).search_conducted.mean())"
   ]
  },
  {
   "cell_type": "markdown",
   "id": "52351dc4-d1ce-48d2-861c-eae847fff86f",
   "metadata": {},
   "source": [
    "- Reverse the ordering to group by violation before gender. The results may be easier to compare when presented this way."
   ]
  },
  {
   "cell_type": "code",
   "execution_count": 51,
   "id": "66f40296-5f59-4871-9849-623bbdef9a55",
   "metadata": {},
   "outputs": [
    {
     "name": "stdout",
     "output_type": "stream",
     "text": [
      "violation            driver_gender\n",
      "Equipment            F                0.039984\n",
      "                     M                0.071496\n",
      "Moving violation     F                0.039257\n",
      "                     M                0.061524\n",
      "Other                F                0.041018\n",
      "                     M                0.046191\n",
      "Registration/plates  F                0.054924\n",
      "                     M                0.108802\n",
      "Seat belt            F                0.017301\n",
      "                     M                0.035119\n",
      "Speeding             F                0.008309\n",
      "                     M                0.027885\n",
      "Name: search_conducted, dtype: float64\n"
     ]
    }
   ],
   "source": [
    "# Reverse the ordering to group by violation before gender\n",
    "print(ri.groupby(['violation', 'driver_gender']).search_conducted.mean())"
   ]
  },
  {
   "cell_type": "markdown",
   "id": "6a788843-58f8-4542-a0aa-86520eaa10c2",
   "metadata": {},
   "source": [
    "*For all types of violations, the search rate is higher for males than for females, disproving our hypothesis.*"
   ]
  },
  {
   "cell_type": "markdown",
   "id": "f4bb523d-b5d0-4586-b253-63d443ea1aa0",
   "metadata": {},
   "source": [
    "---\n",
    "## Does gender affect who is frisked during a search?\n",
    "In this section, we'll take a look at what happens during a search.\n",
    "\n",
    "### Examining the search types\n",
    "The `search_conducted` field is True if there's a search during a traffic stop, and False otherwise. "
   ]
  },
  {
   "cell_type": "code",
   "execution_count": 53,
   "id": "a57ef603-8c4e-463a-98b4-e705bfa9fb58",
   "metadata": {},
   "outputs": [
    {
     "data": {
      "text/plain": [
       "False    83229\n",
       "True      3307\n",
       "Name: search_conducted, dtype: int64"
      ]
     },
     "execution_count": 53,
     "metadata": {},
     "output_type": "execute_result"
    }
   ],
   "source": [
    "ri.search_conducted.value_counts()"
   ]
  },
  {
   "cell_type": "markdown",
   "id": "c135e3f6-0218-4fe9-b57e-87981e1d32f5",
   "metadata": {},
   "source": [
    "There's also a related field, `search_type`, that contains additional information about the search. "
   ]
  },
  {
   "cell_type": "code",
   "execution_count": 55,
   "id": "1311e859-c242-4e33-9a88-f9506cf4fa6c",
   "metadata": {},
   "outputs": [
    {
     "data": {
      "text/plain": [
       "NaN                                                         83229\n",
       "Incident to Arrest                                           1290\n",
       "Probable Cause                                                924\n",
       "Inventory                                                     219\n",
       "Reasonable Suspicion                                          214\n",
       "Protective Frisk                                              164\n",
       "Incident to Arrest,Inventory                                  123\n",
       "Incident to Arrest,Probable Cause                             100\n",
       "Probable Cause,Reasonable Suspicion                            54\n",
       "Incident to Arrest,Inventory,Probable Cause                    35\n",
       "Probable Cause,Protective Frisk                                35\n",
       "Incident to Arrest,Protective Frisk                            33\n",
       "Inventory,Probable Cause                                       25\n",
       "Protective Frisk,Reasonable Suspicion                          19\n",
       "Incident to Arrest,Inventory,Protective Frisk                  18\n",
       "Incident to Arrest,Probable Cause,Protective Frisk             13\n",
       "Inventory,Protective Frisk                                     12\n",
       "Incident to Arrest,Reasonable Suspicion                         8\n",
       "Probable Cause,Protective Frisk,Reasonable Suspicion            5\n",
       "Incident to Arrest,Probable Cause,Reasonable Suspicion          5\n",
       "Incident to Arrest,Inventory,Reasonable Suspicion               4\n",
       "Incident to Arrest,Protective Frisk,Reasonable Suspicion        2\n",
       "Inventory,Reasonable Suspicion                                  2\n",
       "Inventory,Protective Frisk,Reasonable Suspicion                 1\n",
       "Inventory,Probable Cause,Reasonable Suspicion                   1\n",
       "Inventory,Probable Cause,Protective Frisk                       1\n",
       "Name: search_type, dtype: int64"
      ]
     },
     "execution_count": 55,
     "metadata": {},
     "output_type": "execute_result"
    }
   ],
   "source": [
    "ri.search_type.value_counts(dropna=False)"
   ]
  },
  {
   "cell_type": "markdown",
   "id": "19bc6264-0276-4d68-8776-4589b1dd165f",
   "metadata": {},
   "source": [
    "Notice that the `search_type` field has 83,229 missing values, which is identical to the number of False values in the `search_conducted` field. That's because any time a search is not conducted, there's no information to record about a search, and thus the `search_type` will be missing. Note that the `value_counts()` method excludes missing values by default, and so we specified `dropna=False` in order to see the missing values.\n",
    "\n",
    "### Examining the search types\n",
    "There are only five possible values for `search_type`, "
   ]
  },
  {
   "cell_type": "code",
   "execution_count": 56,
   "id": "39ee01b1-fca6-4e94-a028-809cb3704d33",
   "metadata": {},
   "outputs": [
    {
     "data": {
      "text/plain": [
       "Incident to Arrest                                          1290\n",
       "Probable Cause                                               924\n",
       "Inventory                                                    219\n",
       "Reasonable Suspicion                                         214\n",
       "Protective Frisk                                             164\n",
       "Incident to Arrest,Inventory                                 123\n",
       "Incident to Arrest,Probable Cause                            100\n",
       "Probable Cause,Reasonable Suspicion                           54\n",
       "Probable Cause,Protective Frisk                               35\n",
       "Incident to Arrest,Inventory,Probable Cause                   35\n",
       "Incident to Arrest,Protective Frisk                           33\n",
       "Inventory,Probable Cause                                      25\n",
       "Protective Frisk,Reasonable Suspicion                         19\n",
       "Incident to Arrest,Inventory,Protective Frisk                 18\n",
       "Incident to Arrest,Probable Cause,Protective Frisk            13\n",
       "Inventory,Protective Frisk                                    12\n",
       "Incident to Arrest,Reasonable Suspicion                        8\n",
       "Probable Cause,Protective Frisk,Reasonable Suspicion           5\n",
       "Incident to Arrest,Probable Cause,Reasonable Suspicion         5\n",
       "Incident to Arrest,Inventory,Reasonable Suspicion              4\n",
       "Inventory,Reasonable Suspicion                                 2\n",
       "Incident to Arrest,Protective Frisk,Reasonable Suspicion       2\n",
       "Inventory,Probable Cause,Reasonable Suspicion                  1\n",
       "Inventory,Protective Frisk,Reasonable Suspicion                1\n",
       "Inventory,Probable Cause,Protective Frisk                      1\n",
       "Name: search_type, dtype: int64"
      ]
     },
     "execution_count": 56,
     "metadata": {},
     "output_type": "execute_result"
    }
   ],
   "source": [
    "ri.search_type.value_counts()"
   ]
  },
  {
   "cell_type": "markdown",
   "id": "53102f72-d763-45c7-8a49-8857c9987225",
   "metadata": {},
   "source": [
    "which you can see at the top of the `value_counts()` output: Incident to Arrest, Probable Cause, Inventory, Reasonable Suspicion, and Protective Frisk. But sometimes, multiple values are relevant for a single traffic stop, in which case they're **separated by commas**. \n",
    "\n",
    "Let's focus on Inventory, meaning searches in which the police took an inventory of the vehicle. Looking at the third line of the `value_counts()` output, we see 219, which is the number of searches in which Inventory was the only search type. \n",
    "\n",
    "But what if we wanted to know the total number of times in which an inventory was done during a search? We'd also have to include any stops in which Inventory was one of multiple search types. To do this, we'll use a string method.\n",
    "\n",
    "### Searching for a string (1)\n",
    "We'll use a string method called `contains()` that checks whether a string is present in each element of a given column. It returns `True` if the string is found, and `False` if it's not found. We also specify `na=False`, which tells the `contains()` method to return `False` when it finds a missing value in the search_type column. We'll save the results in a new column called inventory."
   ]
  },
  {
   "cell_type": "code",
   "execution_count": 57,
   "id": "417efc92-5953-4a83-89a8-33fdab27d51c",
   "metadata": {},
   "outputs": [],
   "source": [
    "ri['inventory'] = ri.search_type.str.contains('Inventory', na=False)"
   ]
  },
  {
   "cell_type": "markdown",
   "id": "a2474dc6-48e0-4721-8c84-75bb535dc9f0",
   "metadata": {},
   "source": [
    "### Searching for a string (2)\n",
    "As expected, the data type of the column is Boolean. "
   ]
  },
  {
   "cell_type": "code",
   "execution_count": 59,
   "id": "1f077256-979b-4245-ac99-62a96eebec08",
   "metadata": {},
   "outputs": [
    {
     "data": {
      "text/plain": [
       "dtype('bool')"
      ]
     },
     "execution_count": 59,
     "metadata": {},
     "output_type": "execute_result"
    }
   ],
   "source": [
    "ri.inventory.dtype"
   ]
  },
  {
   "cell_type": "markdown",
   "id": "f3d1cfa9-cf55-4cb4-983f-5b104a09b41b",
   "metadata": {},
   "source": [
    "To be clear, a `True` value in this column means that an inventory was done during a search, and a `False` value means it was not. We can take the `sum()` of the inventory column to see that an inventory was done during 441 searches."
   ]
  },
  {
   "cell_type": "code",
   "execution_count": 60,
   "id": "fdfa5490-50a6-451a-b7a2-8e2a1196f425",
   "metadata": {},
   "outputs": [
    {
     "data": {
      "text/plain": [
       "441"
      ]
     },
     "execution_count": 60,
     "metadata": {},
     "output_type": "execute_result"
    }
   ],
   "source": [
    "ri.inventory.sum()"
   ]
  },
  {
   "cell_type": "markdown",
   "id": "235a7e6e-b601-489c-9404-d41933634bd2",
   "metadata": {},
   "source": [
    "This includes the 219 stops in which Inventory was the only search type, plus additional stops in which Inventory was one of multiple search types.\n",
    "\n",
    "### Calculating the inventory rate\n",
    "What if we wanted to calculate the percentage of searches which included an inventory? You might think this would be as simple as taking the `mean()` of the inventory column,"
   ]
  },
  {
   "cell_type": "code",
   "execution_count": 61,
   "id": "dfcf2d6c-420f-4270-bb4b-64d64522c137",
   "metadata": {},
   "outputs": [
    {
     "data": {
      "text/plain": [
       "0.0050961449570121106"
      ]
     },
     "execution_count": 61,
     "metadata": {},
     "output_type": "execute_result"
    }
   ],
   "source": [
    "ri.inventory.mean()"
   ]
  },
  {
   "cell_type": "markdown",
   "id": "bc6a2ce1-9f3a-4eb8-8235-e80663af1a8d",
   "metadata": {},
   "source": [
    "and the answer would be about 0.5%. But what's wrong with this calculation? \n",
    "\n",
    "0.5% is the percentage of all traffic stops which resulted in an inventory, including those stops in which a search was not even done. \n",
    "\n",
    "Instead, we first need to filter the DataFrame to only include those rows in which a search was done, and then take the `mean()` of the inventory column."
   ]
  },
  {
   "cell_type": "code",
   "execution_count": 62,
   "id": "a43e9435-001f-4402-ac4b-8027ba6d57d6",
   "metadata": {},
   "outputs": [
    {
     "data": {
      "text/plain": [
       "0.13335349259147264"
      ]
     },
     "execution_count": 62,
     "metadata": {},
     "output_type": "execute_result"
    }
   ],
   "source": [
    "searched = ri[ri.search_conducted == True]\n",
    "searched.inventory.mean()"
   ]
  },
  {
   "cell_type": "markdown",
   "id": "3f2e9d19-db9b-496b-adcf-6b04aa38bc90",
   "metadata": {},
   "source": [
    "The correct answer is that 13.3% of searches included an inventory. \n",
    "\n",
    "This is a vastly different result, and it highlights the importance of carefully choosing which rows are relevant before doing a calculation."
   ]
  },
  {
   "cell_type": "markdown",
   "id": "9f8dc72c-4733-4039-9b1d-0b3bd287b5e1",
   "metadata": {},
   "source": [
    "## Counting protective frisks\n",
    "During a vehicle search, the police officer may pat down the driver to check if they have a weapon. This is known as a \"protective frisk.\"\n",
    "\n",
    "In this exercise, you'll first check to see how many times \"Protective Frisk\" was the only search type. Then, you'll use a string method to locate all instances in which the driver was frisked."
   ]
  },
  {
   "cell_type": "markdown",
   "id": "e20015b5-ec15-47e9-a5b7-70e989a60311",
   "metadata": {},
   "source": [
    "- Count the `search_type` values in the ri DataFrame to see how many times \"Protective Frisk\" was the only search type."
   ]
  },
  {
   "cell_type": "code",
   "execution_count": 64,
   "id": "ea6f26d3-bd42-4506-8df6-8cd249854466",
   "metadata": {},
   "outputs": [
    {
     "name": "stdout",
     "output_type": "stream",
     "text": [
      "Incident to Arrest                                          1290\n",
      "Probable Cause                                               924\n",
      "Inventory                                                    219\n",
      "Reasonable Suspicion                                         214\n",
      "Protective Frisk                                             164\n",
      "Incident to Arrest,Inventory                                 123\n",
      "Incident to Arrest,Probable Cause                            100\n",
      "Probable Cause,Reasonable Suspicion                           54\n",
      "Probable Cause,Protective Frisk                               35\n",
      "Incident to Arrest,Inventory,Probable Cause                   35\n",
      "Incident to Arrest,Protective Frisk                           33\n",
      "Inventory,Probable Cause                                      25\n",
      "Protective Frisk,Reasonable Suspicion                         19\n",
      "Incident to Arrest,Inventory,Protective Frisk                 18\n",
      "Incident to Arrest,Probable Cause,Protective Frisk            13\n",
      "Inventory,Protective Frisk                                    12\n",
      "Incident to Arrest,Reasonable Suspicion                        8\n",
      "Probable Cause,Protective Frisk,Reasonable Suspicion           5\n",
      "Incident to Arrest,Probable Cause,Reasonable Suspicion         5\n",
      "Incident to Arrest,Inventory,Reasonable Suspicion              4\n",
      "Inventory,Reasonable Suspicion                                 2\n",
      "Incident to Arrest,Protective Frisk,Reasonable Suspicion       2\n",
      "Inventory,Probable Cause,Reasonable Suspicion                  1\n",
      "Inventory,Protective Frisk,Reasonable Suspicion                1\n",
      "Inventory,Probable Cause,Protective Frisk                      1\n",
      "Name: search_type, dtype: int64\n"
     ]
    }
   ],
   "source": [
    "# Count the 'search_type' values\n",
    "print(ri.search_type.value_counts())"
   ]
  },
  {
   "cell_type": "markdown",
   "id": "fa1e65ad-7058-4867-a88a-737b9506505f",
   "metadata": {},
   "source": [
    "- Create a new column, `frisk`, that is True if `search_type` contains the string `\"Protective Frisk\"` and `False` otherwise."
   ]
  },
  {
   "cell_type": "code",
   "execution_count": 68,
   "id": "4b8b8658-3e44-477a-8567-fb7a6c4ede6e",
   "metadata": {},
   "outputs": [],
   "source": [
    "# Check if 'search_type' contains the string 'Protective Frisk'\n",
    "ri['frisk'] = ri.search_type.str.contains('Protective Frisk', na=False)"
   ]
  },
  {
   "cell_type": "markdown",
   "id": "407e8c13-25d5-4786-afdc-c96f7c18d53f",
   "metadata": {},
   "source": [
    "- Check the data type of `frisk` to confirm that it's a Boolean Series."
   ]
  },
  {
   "cell_type": "code",
   "execution_count": 69,
   "id": "5cf4f94f-db70-471e-b04b-c3e6b0a40b10",
   "metadata": {},
   "outputs": [
    {
     "name": "stdout",
     "output_type": "stream",
     "text": [
      "bool\n"
     ]
    }
   ],
   "source": [
    "# Check the data type of 'frisk'\n",
    "print(ri.frisk.dtype)"
   ]
  },
  {
   "cell_type": "markdown",
   "id": "d7ff3724-55a2-48c0-8b5c-3accaf31351e",
   "metadata": {},
   "source": [
    "- Take the sum of `frisk` to count the total number of frisks."
   ]
  },
  {
   "cell_type": "code",
   "execution_count": 70,
   "id": "a0c98a07-3c21-4c3c-b27c-519e17b707a9",
   "metadata": {},
   "outputs": [
    {
     "name": "stdout",
     "output_type": "stream",
     "text": [
      "303\n"
     ]
    }
   ],
   "source": [
    "# Take the sum of 'frisk'\n",
    "print(ri.frisk.sum())"
   ]
  },
  {
   "cell_type": "markdown",
   "id": "475bff0c-9304-465c-99d8-a6b6552c6408",
   "metadata": {},
   "source": [
    "*It looks like there were 303 drivers who were frisked.*\n",
    "\n",
    "*Next, you'll examine whether gender affects who is frisked.*"
   ]
  },
  {
   "cell_type": "markdown",
   "id": "39d86269-b68f-4441-b69c-696a034cef54",
   "metadata": {},
   "source": [
    "## Comparing frisk rates by gender\n",
    "In this exercise, you'll compare the rates at which female and male drivers are frisked during a search. Are males frisked more often than females, perhaps because police officers consider them to be higher risk?\n",
    "\n",
    "Before doing any calculations, it's important to filter the DataFrame to only include the relevant subset of data, namely stops in which a search was conducted.\n",
    "\n",
    "- Create a DataFrame, `searched`, that only contains rows in which `search_conducted` is `True`."
   ]
  },
  {
   "cell_type": "code",
   "execution_count": 71,
   "id": "c87ba5a0-54f7-4b26-99a7-5015252c949f",
   "metadata": {},
   "outputs": [],
   "source": [
    "# Create a DataFrame of stops in which a search was conducted\n",
    "searched = ri[ri.search_conducted == True]"
   ]
  },
  {
   "cell_type": "markdown",
   "id": "f43b2c8a-b602-4ea5-aa09-096b9b5a5886",
   "metadata": {},
   "source": [
    "- Take the mean of the `frisk` column to find out what percentage of searches included a frisk."
   ]
  },
  {
   "cell_type": "code",
   "execution_count": 72,
   "id": "3fbab022-221b-4715-aa8f-0362c3154d72",
   "metadata": {},
   "outputs": [
    {
     "name": "stdout",
     "output_type": "stream",
     "text": [
      "0.09162382824312065\n"
     ]
    }
   ],
   "source": [
    "# Calculate the overall frisk rate by taking the mean of 'frisk'\n",
    "print(searched.frisk.mean())"
   ]
  },
  {
   "cell_type": "markdown",
   "id": "16add1c2-2eb9-448d-9e11-8c26411e2687",
   "metadata": {},
   "source": [
    "- Calculate the frisk rate for each gender using a `.groupby()`."
   ]
  },
  {
   "cell_type": "code",
   "execution_count": 74,
   "id": "69677dbe-3351-4e32-9f4c-bfd2927b0339",
   "metadata": {},
   "outputs": [
    {
     "name": "stdout",
     "output_type": "stream",
     "text": [
      "driver_gender\n",
      "F    0.074561\n",
      "M    0.094353\n",
      "Name: frisk, dtype: float64\n"
     ]
    }
   ],
   "source": [
    "# Calculate the frisk rate for each gender\n",
    "print(searched.groupby('driver_gender').frisk.mean())"
   ]
  },
  {
   "cell_type": "markdown",
   "id": "e69f86ff-4937-4c17-952a-bdd2ec1e007a",
   "metadata": {},
   "source": [
    "*The frisk rate is higher for males than for females, though we can't conclude that this difference is caused by the driver's gender.*"
   ]
  },
  {
   "cell_type": "code",
   "execution_count": null,
   "id": "1c1283fb-bce3-4149-b34b-88483a637c45",
   "metadata": {},
   "outputs": [],
   "source": []
  },
  {
   "cell_type": "code",
   "execution_count": null,
   "id": "37584095-e874-4271-a2bf-f19a1a07dc47",
   "metadata": {},
   "outputs": [],
   "source": []
  }
 ],
 "metadata": {
  "kernelspec": {
   "display_name": "Python 3",
   "language": "python",
   "name": "python3"
  },
  "language_info": {
   "codemirror_mode": {
    "name": "ipython",
    "version": 3
   },
   "file_extension": ".py",
   "mimetype": "text/x-python",
   "name": "python",
   "nbconvert_exporter": "python",
   "pygments_lexer": "ipython3",
   "version": "3.8.8"
  }
 },
 "nbformat": 4,
 "nbformat_minor": 5
}
