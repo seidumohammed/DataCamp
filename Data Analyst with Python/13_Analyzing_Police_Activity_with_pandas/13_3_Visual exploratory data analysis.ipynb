{
 "cells": [
  {
   "cell_type": "markdown",
   "id": "763da01c-a92e-46ce-921b-9e6b4dcbe54c",
   "metadata": {},
   "source": [
    "# 3. Visual exploratory data analysis\n",
    "**Are you more likely to get arrested at a certain time of day? Are drug-related stops on the rise? In this chapter, you will answer these and other questions by analyzing the dataset visually, since plots can help you to understand trends in a way that examining the raw data cannot.**"
   ]
  },
  {
   "cell_type": "code",
   "execution_count": 1,
   "id": "39a95815-c78c-442b-88b4-d9a05a298d66",
   "metadata": {},
   "outputs": [],
   "source": [
    "import pandas as pd\n",
    "ri = pd.read_csv('police.csv')\n",
    "\n",
    "ri.drop(['county_name', 'state'], axis='columns', inplace=True)\n",
    "ri.dropna(subset=['driver_gender'], inplace=True)\n",
    "\n",
    "ri['is_arrested'] = ri.is_arrested.astype('bool')\n",
    "\n",
    "combined = ri.stop_date.str.cat(ri.stop_time, sep=' ')\n",
    "ri['stop_datetime'] = pd.to_datetime(combined)\n",
    "\n",
    "ri.set_index('stop_datetime', inplace=True)"
   ]
  },
  {
   "cell_type": "markdown",
   "id": "19965d24-e014-4904-8ac7-c9fc49086f17",
   "metadata": {},
   "source": [
    "## Does time of day affect arrest rate?\n",
    "In this chapter, you'll explore and analyze the dataset visually using plots.\n",
    "\n",
    "### Analyzing datetime data\n",
    "In chapter 1, we worked with a small DataFrame of Apple stock prices. We're going to use it here again, but this time it includes two days each from the first three months of 2018. There's also a new column, volume, that displays the number of Apple shares traded that day.\n",
    "```python\n",
    "apple\n",
    "```\n",
    "```\n",
    "    price    volume        date_and_time\n",
    "0  174.35  20567800  2018-01-08 16:00:00\n",
    "1  174.33  21584000  2018-01-09 16:00:00\n",
    "2  155.15  54390500  2018-02-08 16:00:00\n",
    "3  156.41  70672600  2018-02-09 16:00:00\n",
    "4  176.94  23774100  2018-03-08 16:00:00\n",
    "5  179.98  32185200  2018-03-09 16:00:00\n",
    "```\n",
    "\n",
    "### Accessing datetime attributes (1)\n",
    "You might recall that we converted the `date_and_time` column to pandas datetime format. \n",
    "```python\n",
    "apple.dtypes\n",
    "```\n",
    "```\n",
    "price                  float64\n",
    "volume                   int64\n",
    "date_and_time   datetime64[ns]\n",
    "```\n",
    "Because of datetime format, you actually have access to special date-based attributes via the dt accessor. \n",
    "\n",
    "For example, you can access the month as an integer by using the `dt.month` attribute. There are many other similar attributes available, such as week, dayofweek, hour, minute, and so on.\n",
    "```python\n",
    "apple.date_and_time.dt.month\n",
    "```\n",
    "```\n",
    "0   1\n",
    "1   1\n",
    "2   2\n",
    "3   2\n",
    "...\n",
    "```\n",
    "\n",
    "### Accessing datetime attributes (2)\n",
    "Similar to our traffic stops dataset, we can set the `date_and_time` column as the DataFrame index. Because of its data type, it is now a DatetimeIndex. \n",
    "```python\n",
    "apple.set_index('date_and__time', inplace=True)\n",
    "apple.index\n",
    "```\n",
    "```\n",
    "DatetimeIndex(['2018-01-08 16:00:00', '2018-01-09 16:00:00', \n",
    "               '2018-02-08 16:00:00', '2018-02-09 16:00:00', \n",
    "               '2018-03-08 16:00:00', '2018-03-09 16:00:00'], \n",
    "             dtype='datetime64[ns]', name='date_and_time', freq=None)\n",
    "```\n",
    "\n",
    "We can still access the same datetime attributes, such as month, and we get the same result as before, but we no longer have to use the `dt` accessor.\n",
    "```python\n",
    "apple.index.month\n",
    "```\n",
    "```\n",
    "Int64Index([1, 1, 2, 2, 3, 3], dtype='int64', name='date_and_time')\n",
    "```\n",
    "\n",
    "### Calculating the monthly mean price\n",
    "Let's examine the price column of the apple DataFrame. If we wanted to calculate the mean price for all rows, we would simply use the `mean()` method. \n",
    "```python\n",
    "apple.price.mean()\n",
    "```\n",
    "```\n",
    "169.52666666666667\n",
    "```\n",
    "\n",
    "But what if we wanted to calculate the mean price for each month? One idea would be to use a `groupby()` operation, but we can't group by month as a string since it's not a column in the DataFrame. \n",
    "\n",
    "Instead, we would group by `apple.index.month`, and then take the `mean()` of the price column.\n",
    "```python\n",
    "apple.groupby(apple.index.month).price.mean()\n",
    "```\n",
    "```\n",
    "date_and_time\n",
    "1   174.34\n",
    "2   155.78\n",
    "3   178.46\n",
    "Name: price, dtype: float64\n",
    "```\n",
    "\n",
    "This operation outputs a Series, in which the index is the month number and the values are the mean prices. We'll go ahead and save this Series as an object called `monthly_price`.\n",
    "\n",
    "```python\n",
    "monthly_price = apple.groupby(apple.index.month).price.mean()\n",
    "```\n",
    "\n",
    "### Plotting the monthly mean price\n",
    "Let's say that we wanted to plot this data in order to visually examine the monthly price trends. \n",
    "\n",
    "We would start by importing `matplotlib.pyplot as plt`. \n",
    "```python\n",
    "import matplotlib.pyplot as plt\n",
    "```\n",
    "\n",
    "Then, we call the `plot()` method on the `monthly_price` Series. The default plot for a Series is a line plot, which uses the Series index on the x-axis and the Series values on the y-axis. Finally, we'll label the axes and provide a title for the plot, and then use the `show()` function to display the plot.\n",
    "\n",
    "```python\n",
    "monthly_price.plot()\n",
    "\n",
    "plt.xlabel('Month')\n",
    "plt.ylabel('Price')\n",
    "plt.title('Monthly mean stock price for Apple')\n",
    "\n",
    "plt.show()\n",
    "```\n",
    "\n",
    "### Line plot\n",
    "It would be very simple plot in this case, but you can imagine that with a much larger dataset, this plot could help you to understand the price trends in a way that examining the raw data could not."
   ]
  },
  {
   "cell_type": "markdown",
   "id": "130e5196-c8f2-4517-afd9-b9dfe052a1f4",
   "metadata": {},
   "source": [
    "## Calculating the hourly arrest rate\n",
    "When a police officer stops a driver, a small percentage of those stops ends in an arrest. This is known as the arrest rate. In this exercise, you'll find out whether the arrest rate varies by time of day.\n",
    "\n",
    "First, you'll calculate the arrest rate across all stops in the `ri` DataFrame. Then, you'll calculate the hourly arrest rate by using the `hour` attribute of the index. The `hour` ranges from 0 to 23, in which:\n",
    "\n",
    "    0 = midnight\n",
    "    12 = noon\n",
    "    23 = 11 PM\n",
    "\n",
    "- Take the mean of the `is_arrested` column to calculate the overall arrest rate."
   ]
  },
  {
   "cell_type": "code",
   "execution_count": 2,
   "id": "9920674f-f90d-4300-a951-5b3fb533a0ad",
   "metadata": {},
   "outputs": [
    {
     "name": "stdout",
     "output_type": "stream",
     "text": [
      "0.0355690117407784\n"
     ]
    }
   ],
   "source": [
    "# Calculate the overall arrest rate\n",
    "print(ri.is_arrested.mean())"
   ]
  },
  {
   "cell_type": "markdown",
   "id": "d5433ecb-7706-4b56-98ea-e021c0f388b5",
   "metadata": {},
   "source": [
    "- Group by the `hour` attribute of the DataFrame index to calculate the hourly arrest rate.\n",
    "- Save the hourly arrest rate Series as a new object, `hourly_arrest_rate`."
   ]
  },
  {
   "cell_type": "code",
   "execution_count": 3,
   "id": "3f8342b9-9fd5-4600-b41c-cad4a29f91d9",
   "metadata": {},
   "outputs": [
    {
     "name": "stdout",
     "output_type": "stream",
     "text": [
      "stop_datetime\n",
      "0     0.051431\n",
      "1     0.064932\n",
      "2     0.060798\n",
      "3     0.060549\n",
      "4     0.048000\n",
      "5     0.042781\n",
      "6     0.013813\n",
      "7     0.013032\n",
      "8     0.021854\n",
      "9     0.025206\n",
      "10    0.028213\n",
      "11    0.028897\n",
      "12    0.037399\n",
      "13    0.030776\n",
      "14    0.030605\n",
      "15    0.030679\n",
      "16    0.035281\n",
      "17    0.040619\n",
      "18    0.038204\n",
      "19    0.032245\n",
      "20    0.038107\n",
      "21    0.064541\n",
      "22    0.048666\n",
      "23    0.047592\n",
      "Name: is_arrested, dtype: float64\n"
     ]
    }
   ],
   "source": [
    "# Calculate the hourly arrest rate\n",
    "print(ri.groupby(ri.index.hour).is_arrested.mean())\n",
    "\n",
    "# Save the hourly arrest rate\n",
    "hourly_arrest_rate = ri.groupby(ri.index.hour).is_arrested.mean()"
   ]
  },
  {
   "cell_type": "markdown",
   "id": "4a00a2ee-43da-4344-891a-426e2c513fc2",
   "metadata": {},
   "source": [
    "## Plotting the hourly arrest rate\n",
    "In this exercise, you'll create a line plot from the `hourly_arrest_rate` object. A line plot is appropriate in this case because you're showing how a quantity changes over time.\n",
    "\n",
    "This plot should help you to spot some trends that may not have been obvious when examining the raw numbers.\n",
    "\n",
    "- Import `matplotlib.pyplot` using the alias `plt`.\n",
    "- Create a line plot of `hourly_arrest_rate` using the `.plot()` method.\n",
    "- Label the x-axis as `'Hour'`, label the y-axis as `'Arrest Rate'`, and title the plot `'Arrest Rate by Time of Day'`.\n",
    "- Display the plot using the `.show()` function."
   ]
  },
  {
   "cell_type": "code",
   "execution_count": 4,
   "id": "d86bce40-ca3a-4270-8cc9-aba6153bb320",
   "metadata": {},
   "outputs": [
    {
     "data": {
      "image/png": "[encoded data removed]",
      "text/plain": [
       "<Figure size 432x288 with 1 Axes>"
      ]
     },
     "metadata": {
      "needs_background": "light"
     },
     "output_type": "display_data"
    }
   ],
   "source": [
    "# Import matplotlib.pyplot as plt\n",
    "import matplotlib.pyplot as plt\n",
    "\n",
    "# Create a line plot of 'hourly_arrest_rate'\n",
    "hourly_arrest_rate.plot()\n",
    "\n",
    "# Add the xlabel, ylabel, and title\n",
    "plt.xlabel('Hour')\n",
    "plt.ylabel('Arrest Rate')\n",
    "plt.title('Arrest Rate by Time of Day')\n",
    "\n",
    "# Display the plot\n",
    "plt.show()"
   ]
  },
  {
   "cell_type": "markdown",
   "id": "6a47f7d5-0397-4a11-a854-568981b03391",
   "metadata": {},
   "source": [
    "*The arrest rate has a significant spike overnight, and then dips in the early morning hours.*"
   ]
  },
  {
   "cell_type": "markdown",
   "id": "113f59ee-a228-42cb-b3b7-1e5e420935c8",
   "metadata": {},
   "source": [
    "## Are drug-related stops on the rise?\n",
    "In this section, we'll use subplots to help us examine the relationship between two variables over time.\n",
    "\n",
    "###  Resampling the price\n",
    "Let's return to our DataFrame of Apple stock prices. We calculated the mean price for each month using a `groupby()` operation. \n",
    "```python\n",
    "apple.groupby(apple.index.month).price.mean()\n",
    "```\n",
    "```\n",
    "date_and_time\n",
    "1   174.34\n",
    "2   155.78\n",
    "3   178.46\n",
    "```\n",
    "\n",
    "There's actually an alternative method, known as resampling, that we can use to accomplish the same task. \n",
    "\n",
    "Resampling is when you change the frequency of your time series observations. In this case, we'll resample the price column by month, represented by the capital letter M, and then chain the `mean()` method onto the end. \n",
    "```python\n",
    "apple.price.resample('M').mean()\n",
    "```\n",
    "```\n",
    "date_and_time\n",
    "2018-01-31   174.34\n",
    "2018-02-28   155.78\n",
    "2018-03-31   178.46\n",
    "...\n",
    "```\n",
    "\n",
    "The output is identical to the `groupby()` operation, except that the index consists of the last day of each month, rather than just the integers 1, 2, and 3.\n",
    "\n",
    "### Resampling the volume\n",
    "As a reminder, the apple DataFrame also has a volume column that displays the number of Apple shares traded that day. \n",
    "```python\n",
    "apple\n",
    "```\n",
    "```\n",
    "date_and_time         price    volume\n",
    "2018-01-08 16:00:00  174.34  20567800\n",
    "2018-01-09 16:00:00  155.78  21584000\n",
    "2018-02-08 16:00:00  178.46  54390500\n",
    "...\n",
    "```\n",
    "\n",
    "Let's resample that column, to calculate the mean daily volume for each month. \n",
    "\n",
    "```python\n",
    "apple.volume.resample('M').mean()\n",
    "```\n",
    "```\n",
    "date_and_time\n",
    "2018-01-31   21075900\n",
    "2018-02-28   62531550\n",
    "2018-03-31   27979650\n",
    "...\n",
    "```\n",
    "\n",
    "One thing worth noticing is that the output has the same index as the last resampling operation, since both price and volume were resampled at the same frequency.\n",
    "\n",
    "### Concatenating price and volume\n",
    "Now that we've resampled both the price and volume data, we're going to combine the results into a single DataFrame so that we can study the relationship between price and volume. \n",
    "\n",
    "First, we'll save the two resampled Series as separate objects. One is called `monthly_price` and the other is called `monthly_volume`. \n",
    "```python\n",
    "monthly_price = apple.price.resample('M').mean()\n",
    "monthly_volume = apple.volume.resample('M').mean()\n",
    "```\n",
    "\n",
    "Then, we'll combine these two objects using the `concat()` function, which concatenates pandas objects along a specified axis. In this case, we want them to be combined along the `columns` axis, meaning that we want them side-by-side. \n",
    "```python\n",
    "pd.concat([monthly_price, monthly_volume], axis='columns')\n",
    "```\n",
    "```\n",
    "date_and_time   price    volume\n",
    "2018-01-31     174.34  21075900\n",
    "2018-02-28     155.78  62531550\n",
    "2018-03-31     178.46  27979650\n",
    "...\n",
    "```\n",
    "\n",
    "Notice that they aligned along their shared index. We'll save this new DataFrame as an object called `monthly`.\n",
    "```python\n",
    "monthly = pd.concat([monthly_price, monthly_volume], axis='columns')\n",
    "```\n",
    "\n",
    "### Plotting price and volume (1)\n",
    "To visualize the relationship between price and volume, we simply call the `plot()` method on the monthly DataFrame. \n",
    "```python\n",
    "monthly.plot()\n",
    "plt.show()\n",
    "```\n",
    "\n",
    "`pandas` outputs a single line plot in which each line represents one of the two columns. Because it's a single plot, the two lines are sharing both the x and y axes. It makes sense for the x-axis to be shared, since we want to compare price and volume by month. But sharing the y-axis is problematic, because price and volume are on such different scales: price is in the hundreds, and volume is in the tens of millions, represented by the 1e7 notation at the top of the y-axis. Because of the different scales, we can't actually see the price trend.\n",
    "\n",
    "### Plotting price and volume (2)\n",
    "The solution to this problem is to set the subplots parameter to True, which results in two separate plots with independent y axes. \n",
    "```python\n",
    "monthly.plot(subplots=True)\n",
    "plt.show()\n",
    "```\n",
    "Now we can clearly see the monthly trends for both price and volume. They appear to have an inverse relationship, though we wouldn't actually draw that conclusion without having a lot more data."
   ]
  },
  {
   "cell_type": "markdown",
   "id": "d564bda0-d23e-4cb1-8cda-bcf5e8aaa5af",
   "metadata": {},
   "source": [
    "## Plotting drug-related stops\n",
    "In a small portion of traffic stops, drugs are found in the vehicle during a search. In this exercise, you'll assess whether these drug-related stops are becoming more common over time.\n",
    "\n",
    "The Boolean column `drugs_related_stop` indicates whether drugs were found during a given stop. You'll calculate the annual drug rate by resampling this column, and then you'll use a line plot to visualize how the rate has changed over time."
   ]
  },
  {
   "cell_type": "markdown",
   "id": "531c6abc-4f7e-4e8b-83dc-0c9f0f606cf3",
   "metadata": {},
   "source": [
    "- Calculate the annual rate of drug-related stops by resampling the `drugs_related_stop` column (on the `'A'` frequency) and taking the mean.\n",
    "- Save the annual drug rate Series as a new object, `annual_drug_rate`."
   ]
  },
  {
   "cell_type": "code",
   "execution_count": 5,
   "id": "f7b79f95-8f01-4df8-bba3-c89a1114369f",
   "metadata": {},
   "outputs": [
    {
     "name": "stdout",
     "output_type": "stream",
     "text": [
      "stop_datetime\n",
      "2005-12-31    0.006501\n",
      "2006-12-31    0.007258\n",
      "2007-12-31    0.007970\n",
      "2008-12-31    0.007505\n",
      "2009-12-31    0.009889\n",
      "2010-12-31    0.010081\n",
      "2011-12-31    0.009731\n",
      "2012-12-31    0.009921\n",
      "2013-12-31    0.013094\n",
      "2014-12-31    0.013826\n",
      "2015-12-31    0.012266\n",
      "Freq: A-DEC, Name: drugs_related_stop, dtype: float64\n"
     ]
    }
   ],
   "source": [
    "# Calculate the annual rate of drug-related stops\n",
    "print(ri.drugs_related_stop.resample('A').mean())\n",
    "\n",
    "# Save the annual rate of drug-related stops\n",
    "annual_drug_rate = ri.drugs_related_stop.resample('A').mean()"
   ]
  },
  {
   "cell_type": "markdown",
   "id": "b941c6bc-c8b1-4b4a-986e-e419038be5ed",
   "metadata": {},
   "source": [
    "- Create a line plot of `annual_drug_rate` using the `.plot()` method.\n",
    "- Display the plot using the `.show()` function."
   ]
  },
  {
   "cell_type": "code",
   "execution_count": 6,
   "id": "7827bc79-adac-449d-a336-d949d1ec388b",
   "metadata": {},
   "outputs": [
    {
     "data": {
      "image/png": "[encoded data removed]",
      "text/plain": [
       "<Figure size 432x288 with 1 Axes>"
      ]
     },
     "metadata": {
      "needs_background": "light"
     },
     "output_type": "display_data"
    }
   ],
   "source": [
    "# Create a line plot of 'annual_drug_rate'\n",
    "annual_drug_rate.plot()\n",
    "\n",
    "# Display the plot\n",
    "plt.show()"
   ]
  },
  {
   "cell_type": "markdown",
   "id": "b49b38be-033a-48e5-b02f-d362c9356953",
   "metadata": {},
   "source": [
    "*The rate of drug-related stops nearly doubled over the course of 10 years. Why might that be the case?*"
   ]
  },
  {
   "cell_type": "markdown",
   "id": "f97af55a-a990-4cd5-89a3-9586c6dfc4e5",
   "metadata": {},
   "source": [
    "## Comparing drug and search rates\n",
    "As you saw in the last exercise, the rate of drug-related stops increased significantly between 2005 and 2015. You might hypothesize that the rate of vehicle searches was also increasing, which would have led to an increase in drug-related stops even if more drivers were not carrying drugs.\n",
    "\n",
    "You can test this hypothesis by calculating the annual search rate, and then plotting it against the annual drug rate. If the hypothesis is true, then you'll see both rates increasing over time.\n",
    "\n",
    "- Calculate the annual search rate by resampling the `search_conducted` column, and save the result as `annual_search_rate`.\n",
    "- Concatenate `annual_drug_rate` and `annual_search_rate` along the columns axis, and save the result as `annual`.\n",
    "- Create subplots of the drug and search rates from the `annual` DataFrame.\n",
    "- Display the subplots."
   ]
  },
  {
   "cell_type": "code",
   "execution_count": 7,
   "id": "9313b71b-dabb-4675-9451-0b20eb381d5c",
   "metadata": {},
   "outputs": [
    {
     "data": {
      "image/png": "[encoded data removed]",
      "text/plain": [
       "<Figure size 432x288 with 2 Axes>"
      ]
     },
     "metadata": {
      "needs_background": "light"
     },
     "output_type": "display_data"
    }
   ],
   "source": [
    "# Calculate and save the annual search rate\n",
    "annual_search_rate = ri.search_conducted.resample('A').mean()\n",
    "\n",
    "# Concatenate 'annual_drug_rate' and 'annual_search_rate'\n",
    "annual = pd.concat([annual_drug_rate, annual_search_rate], axis='columns')\n",
    "\n",
    "# Create subplots from 'annual'\n",
    "annual.plot(subplots=True)\n",
    "\n",
    "# Display the subplots\n",
    "plt.show()"
   ]
  },
  {
   "cell_type": "markdown",
   "id": "a8ef74b9-b52f-415f-a6a2-ef0a2dc616e4",
   "metadata": {},
   "source": [
    "*The rate of drug-related stops increased even though the search rate decreased, disproving our hypothesis.*"
   ]
  },
  {
   "cell_type": "markdown",
   "id": "ce10ef5b-8884-4859-98e4-0e0296f14a1e",
   "metadata": {},
   "source": [
    "---\n",
    "## What violations are caught in each district?\n",
    "Now, we're going to make different types of plots from DataFrames.\n",
    "\n",
    "### Computing a frequency table\n",
    "One pandas function that might be new to you is `crosstab()`, short for cross-tabulation. To use `crosstab()`, you pass it two pandas Series that represent categories, and it outputs a frequency table in the form of a DataFrame. You can think of a frequency table as a tally of how many times each combination of values occurs in the dataset. In this case, we passed `driver_race` and `driver_gender` to `crosstab()`, and it tells us how many rows contain each combination of race and gender. "
   ]
  },
  {
   "cell_type": "code",
   "execution_count": 8,
   "id": "16385153-d2fe-4b2b-80c6-77ef31f2b50d",
   "metadata": {},
   "outputs": [
    {
     "data": {
      "text/html": [
       "<div>\n",
       "<style scoped>\n",
       "    .dataframe tbody tr th:only-of-type {\n",
       "        vertical-align: middle;\n",
       "    }\n",
       "\n",
       "    .dataframe tbody tr th {\n",
       "        vertical-align: top;\n",
       "    }\n",
       "\n",
       "    .dataframe thead th {\n",
       "        text-align: right;\n",
       "    }\n",
       "</style>\n",
       "<table border=\"1\" class=\"dataframe\">\n",
       "  <thead>\n",
       "    <tr style=\"text-align: right;\">\n",
       "      <th>driver_gender</th>\n",
       "      <th>F</th>\n",
       "      <th>M</th>\n",
       "    </tr>\n",
       "    <tr>\n",
       "      <th>driver_race</th>\n",
       "      <th></th>\n",
       "      <th></th>\n",
       "    </tr>\n",
       "  </thead>\n",
       "  <tbody>\n",
       "    <tr>\n",
       "      <th>Asian</th>\n",
       "      <td>551</td>\n",
       "      <td>1838</td>\n",
       "    </tr>\n",
       "    <tr>\n",
       "      <th>Black</th>\n",
       "      <td>2681</td>\n",
       "      <td>9604</td>\n",
       "    </tr>\n",
       "    <tr>\n",
       "      <th>Hispanic</th>\n",
       "      <td>1953</td>\n",
       "      <td>7774</td>\n",
       "    </tr>\n",
       "    <tr>\n",
       "      <th>Other</th>\n",
       "      <td>53</td>\n",
       "      <td>212</td>\n",
       "    </tr>\n",
       "    <tr>\n",
       "      <th>White</th>\n",
       "      <td>18536</td>\n",
       "      <td>43334</td>\n",
       "    </tr>\n",
       "  </tbody>\n",
       "</table>\n",
       "</div>"
      ],
      "text/plain": [
       "driver_gender      F      M\n",
       "driver_race                \n",
       "Asian            551   1838\n",
       "Black           2681   9604\n",
       "Hispanic        1953   7774\n",
       "Other             53    212\n",
       "White          18536  43334"
      ]
     },
     "execution_count": 8,
     "metadata": {},
     "output_type": "execute_result"
    }
   ],
   "source": [
    "pd.crosstab(ri.driver_race, ri.driver_gender)"
   ]
  },
  {
   "cell_type": "markdown",
   "id": "74d5395e-6cd4-4289-b19d-8eb8b78893a3",
   "metadata": {},
   "source": [
    "For example, 551 Asian female drivers were stopped, which you can verify by filtering the DataFrame and checking the shape. "
   ]
  },
  {
   "cell_type": "code",
   "execution_count": 9,
   "id": "1af226d9-493b-4abf-bed5-6330e80b3711",
   "metadata": {},
   "outputs": [
    {
     "data": {
      "text/plain": [
       "(551, 13)"
      ]
     },
     "execution_count": 9,
     "metadata": {},
     "output_type": "execute_result"
    }
   ],
   "source": [
    "ri[(ri.driver_race == 'Asian') & (ri.driver_gender == 'F')].shape"
   ]
  },
  {
   "cell_type": "markdown",
   "id": "1b1cdaa1-c9c0-432c-98cd-2b4e0121b5f7",
   "metadata": {},
   "source": [
    "Notice that race is along the index of the DataFrame and gender is along the columns, though you could transpose the DataFrame by reversing the order in which race and gender are passed to `crosstab()`. Let's go ahead and save the frequency table as an object called table.\n"
   ]
  },
  {
   "cell_type": "code",
   "execution_count": 10,
   "id": "c3d8ef6c-dbac-47ce-a2a2-d4d2ef79f579",
   "metadata": {},
   "outputs": [],
   "source": [
    "table = pd.crosstab(ri.driver_race, ri.driver_gender)"
   ]
  },
  {
   "cell_type": "markdown",
   "id": "5087aaf3-156e-44d8-80ea-826c10a10275",
   "metadata": {},
   "source": [
    "### Selecting a DataFrame slice\n",
    "The `loc` accessor allows you to select portions of a DataFrame by label. Given our frequency table, let's pretend we wanted to select the Asian through Hispanic rows only. Using loc, we can extract this slice of the DataFrame by specifying the starting and ending labels, separated by a colon. "
   ]
  },
  {
   "cell_type": "code",
   "execution_count": 11,
   "id": "1a208872-24a5-4b92-bff8-c5dfd8c0e92d",
   "metadata": {},
   "outputs": [
    {
     "data": {
      "text/html": [
       "<div>\n",
       "<style scoped>\n",
       "    .dataframe tbody tr th:only-of-type {\n",
       "        vertical-align: middle;\n",
       "    }\n",
       "\n",
       "    .dataframe tbody tr th {\n",
       "        vertical-align: top;\n",
       "    }\n",
       "\n",
       "    .dataframe thead th {\n",
       "        text-align: right;\n",
       "    }\n",
       "</style>\n",
       "<table border=\"1\" class=\"dataframe\">\n",
       "  <thead>\n",
       "    <tr style=\"text-align: right;\">\n",
       "      <th>driver_gender</th>\n",
       "      <th>F</th>\n",
       "      <th>M</th>\n",
       "    </tr>\n",
       "    <tr>\n",
       "      <th>driver_race</th>\n",
       "      <th></th>\n",
       "      <th></th>\n",
       "    </tr>\n",
       "  </thead>\n",
       "  <tbody>\n",
       "    <tr>\n",
       "      <th>Asian</th>\n",
       "      <td>551</td>\n",
       "      <td>1838</td>\n",
       "    </tr>\n",
       "    <tr>\n",
       "      <th>Black</th>\n",
       "      <td>2681</td>\n",
       "      <td>9604</td>\n",
       "    </tr>\n",
       "    <tr>\n",
       "      <th>Hispanic</th>\n",
       "      <td>1953</td>\n",
       "      <td>7774</td>\n",
       "    </tr>\n",
       "  </tbody>\n",
       "</table>\n",
       "</div>"
      ],
      "text/plain": [
       "driver_gender     F     M\n",
       "driver_race              \n",
       "Asian           551  1838\n",
       "Black          2681  9604\n",
       "Hispanic       1953  7774"
      ]
     },
     "execution_count": 11,
     "metadata": {},
     "output_type": "execute_result"
    }
   ],
   "source": [
    "table.loc['Asian':'Hispanic']"
   ]
  },
  {
   "cell_type": "markdown",
   "id": "8793f3cb-e7ce-4084-af7b-cf6f836011b0",
   "metadata": {},
   "source": [
    "Let's overwrite our existing table object with this smaller DataFrame."
   ]
  },
  {
   "cell_type": "code",
   "execution_count": 12,
   "id": "61c5b75e-faa0-40aa-9997-7a42e6facca5",
   "metadata": {},
   "outputs": [],
   "source": [
    "table = table.loc['Asian':'Hispanic']"
   ]
  },
  {
   "cell_type": "markdown",
   "id": "6bb26e15-4d1f-4999-87bd-e0097a709dbd",
   "metadata": {},
   "source": [
    "### Creating a line plot\n",
    "If we plot the table object, we'll get a line plot by default, in which the index is along the x-axis and each column becomes a line."
   ]
  },
  {
   "cell_type": "code",
   "execution_count": 13,
   "id": "8e671c94-7f26-4154-8005-a7d93bbf6ef1",
   "metadata": {},
   "outputs": [
    {
     "data": {
      "image/png": "[encoded data removed]",
      "text/plain": [
       "<Figure size 432x288 with 1 Axes>"
      ]
     },
     "metadata": {
      "needs_background": "light"
     },
     "output_type": "display_data"
    }
   ],
   "source": [
    "table.plot()\n",
    "plt.show()"
   ]
  },
  {
   "cell_type": "markdown",
   "id": "487592d0-b6d5-4b88-861c-fce85b5ff9ab",
   "metadata": {},
   "source": [
    "However, a line plot is not appropriate in this case because it implies a change in time along the x-axis, whereas the x-axis actually represents three distinct categories.\n",
    "\n",
    "### Creating a bar plot\n",
    "By specifying `kind='bar'`, you can create a bar plot, which is much more appropriate than a line plot for comparing categorical data."
   ]
  },
  {
   "cell_type": "code",
   "execution_count": 14,
   "id": "06eb7fa2-fc21-4f22-88b3-ed4a9a73e9bb",
   "metadata": {},
   "outputs": [
    {
     "data": {
      "image/png": "[encoded data removed]",
      "text/plain": [
       "<Figure size 432x288 with 1 Axes>"
      ]
     },
     "metadata": {
      "needs_background": "light"
     },
     "output_type": "display_data"
    }
   ],
   "source": [
    "table.plot(kind='bar')\n",
    "plt.show()"
   ]
  },
  {
   "cell_type": "markdown",
   "id": "939a234b-9691-4ef1-b2b4-946dcf66575d",
   "metadata": {},
   "source": [
    " With this plot, the numbers in our frequency table have been converted to bars for which the height represents the magnitude. Each gender has been assigned a color, and the two gender bars for each race are placed next to one another. The bar plot makes it especially easy to see the gender difference within each race. For all three races, we see that the number of males stopped is far greater than the number of females stopped.\n",
    "\n",
    "### Stacking the bars\n",
    "A variation of the bar plot is the stacked bar plot, which you can generate by adding the argument `stacked=True`."
   ]
  },
  {
   "cell_type": "code",
   "execution_count": 15,
   "id": "a97353e8-2d12-487f-b19e-a33358478068",
   "metadata": {},
   "outputs": [
    {
     "data": {
      "image/png": "[encoded data removed]",
      "text/plain": [
       "<Figure size 432x288 with 1 Axes>"
      ]
     },
     "metadata": {
      "needs_background": "light"
     },
     "output_type": "display_data"
    }
   ],
   "source": [
    "table.plot(kind='bar', stacked=True)\n",
    "plt.show()"
   ]
  },
  {
   "cell_type": "markdown",
   "id": "d8cdde91-be6c-4b94-9c0a-5c5c7a4883fe",
   "metadata": {},
   "source": [
    "For each race, the two gender bars are now stacked on top of one another. \n",
    "\n",
    "The strength of this plot is that it helps you to see the total stops for each race, which was not as obvious when the bars were side-by-side. \n",
    "\n",
    "By emphasizing the totals, however, this plot slightly deemphasizes the individual components of each bar, and makes those components harder to compare against one another. \n",
    "\n",
    "Neither type of bar plot is right or wrong, rather you should choose the plot that best helps to answer the question you're asking."
   ]
  },
  {
   "cell_type": "markdown",
   "id": "947ea6ef-5a9c-449d-b1fa-70d697bb3b4b",
   "metadata": {},
   "source": [
    "## Tallying violations by district\n",
    "The state of Rhode Island is broken into six police districts, also known as zones. How do the zones compare in terms of what violations are caught by police?\n",
    "\n",
    "In this exercise, you'll create a frequency table to determine how many violations of each type took place in each of the six zones. Then, you'll filter the table to focus on the \"K\" zones, which you'll examine further in the next exercise."
   ]
  },
  {
   "cell_type": "markdown",
   "id": "91fb2cad-7395-467f-ae89-575786cce389",
   "metadata": {},
   "source": [
    "- Create a frequency table from the `ri` DataFrame's `district` and `violation` columns using the `pd.crosstab()` function.\n",
    "- Save the frequency table as a new object, `all_zones`."
   ]
  },
  {
   "cell_type": "code",
   "execution_count": 16,
   "id": "3a719d19-f4c3-48ab-a817-635238e3e4fb",
   "metadata": {},
   "outputs": [
    {
     "name": "stdout",
     "output_type": "stream",
     "text": [
      "violation  Equipment  Moving violation  Other  Registration/plates  Seat belt  \\\n",
      "district                                                                        \n",
      "Zone K1          672              1254    290                  120          0   \n",
      "Zone K2         2061              2962    942                  768        481   \n",
      "Zone K3         2302              2898    705                  695        638   \n",
      "Zone X1          296               671    143                   38         74   \n",
      "Zone X3         2049              3086    769                  671        820   \n",
      "Zone X4         3541              5353   1560                 1411        843   \n",
      "\n",
      "violation  Speeding  \n",
      "district             \n",
      "Zone K1        5960  \n",
      "Zone K2       10448  \n",
      "Zone K3       12322  \n",
      "Zone X1        1119  \n",
      "Zone X3        8779  \n",
      "Zone X4        9795  \n"
     ]
    }
   ],
   "source": [
    "# Create a frequency table of districts and violations\n",
    "print(pd.crosstab(ri.district, ri.violation))\n",
    "\n",
    "# Save the frequency table as 'all_zones'\n",
    "all_zones = pd.crosstab(ri.district, ri.violation)"
   ]
  },
  {
   "cell_type": "markdown",
   "id": "51ff443f-d59e-432d-b989-d2583797d4e2",
   "metadata": {},
   "source": [
    "- Select rows `'Zone K1'` through `'Zone K3'` from `all_zones` using the `.loc[]` accessor.\n",
    "- Save the smaller table as a new object, `k_zones`."
   ]
  },
  {
   "cell_type": "code",
   "execution_count": 18,
   "id": "543db538-bc9d-4dc7-a8e3-a4ebafbb041d",
   "metadata": {},
   "outputs": [
    {
     "name": "stdout",
     "output_type": "stream",
     "text": [
      "violation  Equipment  Moving violation  Other  Registration/plates  Seat belt  \\\n",
      "district                                                                        \n",
      "Zone K1          672              1254    290                  120          0   \n",
      "Zone K2         2061              2962    942                  768        481   \n",
      "Zone K3         2302              2898    705                  695        638   \n",
      "\n",
      "violation  Speeding  \n",
      "district             \n",
      "Zone K1        5960  \n",
      "Zone K2       10448  \n",
      "Zone K3       12322  \n"
     ]
    }
   ],
   "source": [
    "# Select rows 'Zone K1' through 'Zone K3'\n",
    "print(all_zones.loc['Zone K1':'Zone K3'])\n",
    "\n",
    "# Save the smaller table as 'k_zones'\n",
    "k_zones = all_zones.loc['Zone K1':'Zone K3']"
   ]
  },
  {
   "cell_type": "markdown",
   "id": "91793ac0-4aef-496b-8c9c-edfe44494b99",
   "metadata": {},
   "source": [
    "## Plotting violations by district\n",
    "Now that you've created a frequency table focused on the \"K\" zones, you'll visualize the data to help you compare what violations are being caught in each zone.\n",
    "\n",
    "First you'll create a bar plot, which is an appropriate plot type since you're comparing categorical data. Then you'll create a stacked bar plot in order to get a slightly different look at the data. Which plot do you find to be more insightful?"
   ]
  },
  {
   "cell_type": "markdown",
   "id": "e4292bb5-3c18-4f5a-831f-fc7159f355d5",
   "metadata": {},
   "source": [
    "- Create a bar plot of `k_zones`.\n",
    "- Display the plot and examine it. What do you notice about each of the zones?"
   ]
  },
  {
   "cell_type": "code",
   "execution_count": 19,
   "id": "997300a7-9db5-42ce-b839-6f06489ebba7",
   "metadata": {},
   "outputs": [
    {
     "data": {
      "image/png": "[encoded data removed]",
      "text/plain": [
       "<Figure size 432x288 with 1 Axes>"
      ]
     },
     "metadata": {
      "needs_background": "light"
     },
     "output_type": "display_data"
    }
   ],
   "source": [
    "# Create a bar plot of 'k_zones'\n",
    "k_zones.plot(kind='bar')\n",
    "\n",
    "# Display the plot\n",
    "plt.show()"
   ]
  },
  {
   "cell_type": "markdown",
   "id": "617065f4-a615-4c3d-a66b-6af7d5b21abd",
   "metadata": {},
   "source": [
    "- Create a stacked bar plot of `k_zones`.\n",
    "- Display the plot and examine it. Do you notice anything different about the data than you did previously?"
   ]
  },
  {
   "cell_type": "code",
   "execution_count": 20,
   "id": "9aa38ae2-c855-4a91-8436-4aefb283d8e8",
   "metadata": {},
   "outputs": [
    {
     "data": {
      "image/png": "[encoded data removed]",
      "text/plain": [
       "<Figure size 432x288 with 1 Axes>"
      ]
     },
     "metadata": {
      "needs_background": "light"
     },
     "output_type": "display_data"
    }
   ],
   "source": [
    "# Create a stacked bar plot of 'k_zones'\n",
    "k_zones.plot(kind='bar', stacked=True)\n",
    "\n",
    "# Display the plot\n",
    "plt.show()"
   ]
  },
  {
   "cell_type": "markdown",
   "id": "36284954-09a4-44f6-97c1-b066f93ae40e",
   "metadata": {},
   "source": [
    "*The vast majority of traffic stops in Zone K1 are for speeding, and Zones K2 and K3 are remarkably similar to one another in terms of violations.*"
   ]
  },
  {
   "cell_type": "markdown",
   "id": "b6810f5a-d91c-4bbd-9ee9-9d7a74468271",
   "metadata": {},
   "source": [
    "---\n",
    "## How long might you be stopped for a violation?\n",
    "In this section, we'll start by learning how to translate strings into data that can be analyzed numerically, and then we'll learn a few easy ways to improve our plots.\n",
    "\n",
    "### Analyzing an object column\n",
    "Let's return again to our DataFrame of Apple stock prices. \n",
    "```python\n",
    "apple\n",
    "```\n",
    "```\n",
    "date_and_time         price    volume  change\n",
    "2018-01-08 16:00:00  174.34  20567800    down\n",
    "...                     ...       ...     ...\n",
    "2018-02-08 16:00:00  178.46  54390500      up\n",
    "...\n",
    "```\n",
    "\n",
    "A new column called change has been added to the DataFrame. It indicates whether the stock price went up or down compared to the previous trading day. \n",
    "\n",
    "Let's pretend we wanted to calculate how often the price went up. \n",
    "- One way to do this would be to create a Boolean column that is `True` if the price went up, and `False` otherwise. \n",
    "- Then we could easily calculate how often the price went up by taking the mean of the Boolean column. \n",
    "\n",
    "But how would we create this column? The change column has the object data type because it contains strings, and previously we've used the `astype()` method to convert strings to numbers or Booleans. However, `astype()` only works when pandas can infer how the conversion should be done, and that's not the case here. We'll need to find a different technique.\n",
    "\n",
    "### Mapping one set of values to another\n",
    "When you need to map one set of values to another, you can use the Series `map()` method. You provide it with **a dictionary that maps the values you currently have to the values that you want**. \n",
    "\n",
    "In this case, we want to map \"up\" to `True` and \"down\" to `False`, so we'll create a dictionary called mapping that specifies this. \n",
    "\n",
    "Then, we'll use the `map()` method on the change column, pass it the `mapping` object, and store the result in a new column `called is_up`. When we print the DataFrame, you'll see that the `is_up` column contains `True` when the change column says up, and `False` when the change column says down. \n",
    "\n",
    "```python\n",
    "mapping = {'up':True, 'down':False}\n",
    "apple['is_up'] = apple.change.map(mapping)\n",
    "apple\n",
    "```\n",
    "```\n",
    "date_and_time         price    volume  change  is_up\n",
    "2018-01-08 16:00:00  174.34  20567800    down  False\n",
    "...                     ...       ...     ...    ...\n",
    "2018-02-08 16:00:00  178.46  54390500      up   True\n",
    "...\n",
    "```\n",
    "\n",
    "Now that we have a Boolean column, we can calculate how often the price went up by taking the `mean()` of that column. \n",
    "```python\n",
    "apple.is_up.mean()\n",
    "```\n",
    "```\n",
    "0.5\n",
    "```\n",
    "The answer is that it went up 50% of the time.\n",
    "\n",
    "### Calculating the search rate\n",
    "Now we're going to return to our DataFrame of traffic stops, and shift to a completely separate topic. \n",
    "\n",
    "Let's say that we wanted to visualize how often searches were performed after each type of violation. We would group by violation, and then take the `mean()` of `search_conducted`. "
   ]
  },
  {
   "cell_type": "code",
   "execution_count": 21,
   "id": "0a924bcc-1284-4596-9305-1a6028d3a523",
   "metadata": {},
   "outputs": [
    {
     "data": {
      "text/plain": [
       "violation\n",
       "Equipment              0.064280\n",
       "Moving violation       0.057014\n",
       "Other                  0.045362\n",
       "Registration/plates    0.093438\n",
       "Seat belt              0.031513\n",
       "Speeding               0.021560\n",
       "Name: search_conducted, dtype: float64"
      ]
     },
     "execution_count": 21,
     "metadata": {},
     "output_type": "execute_result"
    }
   ],
   "source": [
    "ri.groupby('violation').search_conducted.mean()"
   ]
  },
  {
   "cell_type": "markdown",
   "id": "b3616f37-c3c5-4f63-94d7-c09c0abd7270",
   "metadata": {},
   "source": [
    "This calculates the `search_rate` for each of the six violation types, and returns a Series that is sorted in alphabetical order by violation. We'll save this as an object named `search_rate`."
   ]
  },
  {
   "cell_type": "code",
   "execution_count": 22,
   "id": "4f24978d-3ed7-4ad0-8aa6-26ce292daf26",
   "metadata": {},
   "outputs": [],
   "source": [
    "search_rate = ri.groupby('violation').search_conducted.mean()"
   ]
  },
  {
   "cell_type": "markdown",
   "id": "54a2c90e-651b-409f-bcc4-578c794aec41",
   "metadata": {},
   "source": [
    "### Creating a bar plot\n",
    "To visualize the search rate, we'll create a bar plot since we're comparing the search rate across categories."
   ]
  },
  {
   "cell_type": "code",
   "execution_count": 25,
   "id": "f14258b9-a242-4b4c-847d-e3982c3afe7d",
   "metadata": {},
   "outputs": [
    {
     "data": {
      "image/png": "[encoded data removed]",
      "text/plain": [
       "<Figure size 432x288 with 1 Axes>"
      ]
     },
     "metadata": {
      "needs_background": "light"
     },
     "output_type": "display_data"
    }
   ],
   "source": [
    "search_rate.plot(kind='bar')\n",
    "plt.show()"
   ]
  },
  {
   "cell_type": "markdown",
   "id": "7d6fabac-1318-480f-a6bd-cfeb6ad09d4e",
   "metadata": {},
   "source": [
    "The violations are displayed on the x-axis, and the search rate is on the y-axis. This plot looks okay, but there are two simple changes we can make that will make this plot more effective.\n",
    "\n",
    "### Ordering the bars (1)\n",
    "The first improvement we can make is to **order the bars from left to right by size**, which will make the plot easier to understand. All we need to do is to use the `sort_values()` method to sort the `search_rate` Series in ascending order."
   ]
  },
  {
   "cell_type": "code",
   "execution_count": 26,
   "id": "c6b35284-2efa-4e1a-bcb6-678f7f58a110",
   "metadata": {},
   "outputs": [
    {
     "data": {
      "text/plain": [
       "violation\n",
       "Speeding               0.021560\n",
       "Seat belt              0.031513\n",
       "Other                  0.045362\n",
       "Moving violation       0.057014\n",
       "Equipment              0.064280\n",
       "Registration/plates    0.093438\n",
       "Name: search_conducted, dtype: float64"
      ]
     },
     "execution_count": 26,
     "metadata": {},
     "output_type": "execute_result"
    }
   ],
   "source": [
    "search_rate.sort_values()"
   ]
  },
  {
   "cell_type": "markdown",
   "id": "d282e173-f5de-460f-93b0-590943f182f3",
   "metadata": {},
   "source": [
    "### Ordering the bars (2)\n",
    "Then, when we call the plot method on the sorted data, the bars are now ordered."
   ]
  },
  {
   "cell_type": "code",
   "execution_count": 27,
   "id": "f7accd4a-e941-49fa-9e5e-630b7b63ac60",
   "metadata": {},
   "outputs": [
    {
     "data": {
      "image/png": "[encoded data removed]",
      "text/plain": [
       "<Figure size 432x288 with 1 Axes>"
      ]
     },
     "metadata": {
      "needs_background": "light"
     },
     "output_type": "display_data"
    }
   ],
   "source": [
    "search_rate.sort_values().plot(kind='bar')\n",
    "plt.show()"
   ]
  },
  {
   "cell_type": "markdown",
   "id": "2dacedde-341e-400a-8d69-37a1ea7dc138",
   "metadata": {},
   "source": [
    "This makes it easy to see which violations have the highest and the lowest search rates.\n",
    "\n",
    "### Rotating the bars\n",
    "The second improvement we can make is to **change the kind argument from bar to `barh`, which will rotate the bars so that they're horizontal**. This makes it much easier to read the labels for each bar."
   ]
  },
  {
   "cell_type": "code",
   "execution_count": 28,
   "id": "13727347-a527-4ebe-bc9c-be33e1f1a5d2",
   "metadata": {},
   "outputs": [
    {
     "data": {
      "image/png": "[encoded data removed]",
      "text/plain": [
       "<Figure size 432x288 with 1 Axes>"
      ]
     },
     "metadata": {
      "needs_background": "light"
     },
     "output_type": "display_data"
    }
   ],
   "source": [
    "search_rate.sort_values().plot(kind='barh')\n",
    "plt.show()"
   ]
  },
  {
   "cell_type": "markdown",
   "id": "0d830162-0917-4519-b05c-a8df0fb4e1d6",
   "metadata": {},
   "source": [
    "## Converting stop durations to numbers\n",
    "In the traffic stops dataset, the `stop_duration` column tells you approximately how long the driver was detained by the officer. Unfortunately, the durations are stored as strings, such as `'0-15 Min'`. How can you make this data easier to analyze?\n",
    "\n",
    "In this exercise, you'll convert the stop durations to integers. Because the precise durations are not available, you'll have to estimate the numbers using reasonable values:\n",
    "\n",
    "  Convert `'0-15 Min'` to `8`\n",
    "\n",
    "  Convert `'16-30 Min'` to `23`\n",
    "\n",
    "  Convert `'30+ Min'` to `45`"
   ]
  },
  {
   "cell_type": "markdown",
   "id": "ba4d8873-1b7a-4831-aaa6-0bbd05aeaa5a",
   "metadata": {},
   "source": [
    "- Print the unique values in the `stop_duration` column."
   ]
  },
  {
   "cell_type": "code",
   "execution_count": 29,
   "id": "9b7af10c-8e0b-4c24-a437-14a33af7d5d2",
   "metadata": {},
   "outputs": [
    {
     "name": "stdout",
     "output_type": "stream",
     "text": [
      "['0-15 Min' '16-30 Min' '30+ Min']\n"
     ]
    }
   ],
   "source": [
    "# Print the unique values in 'stop_duration'\n",
    "print(ri.stop_duration.unique())"
   ]
  },
  {
   "cell_type": "markdown",
   "id": "c0bf2420-e0de-496c-816e-4af491914b85",
   "metadata": {},
   "source": [
    "- Create a dictionary called `mapping` that maps the `stop_duration` strings to the integers specified above.\n",
    "- Convert the `stop_duration` strings to integers using the `mapping`, and store the results in a new column called `stop_minutes`.\n",
    "- Print the unique values in the `stop_minutes` column, to verify that the durations were properly converted to integers."
   ]
  },
  {
   "cell_type": "code",
   "execution_count": 31,
   "id": "4ae921ae-7071-4153-a5fc-a637fcac2c65",
   "metadata": {},
   "outputs": [
    {
     "name": "stdout",
     "output_type": "stream",
     "text": [
      "[ 8 23 45]\n"
     ]
    }
   ],
   "source": [
    "# Create a dictionary that maps strings to integers\n",
    "mapping = {'0-15 Min': 8, '16-30 Min':23, '30+ Min': 45}\n",
    "\n",
    "# Convert the 'stop_duration' strings to integers using the 'mapping'\n",
    "ri['stop_minutes'] = ri.stop_duration.map(mapping)\n",
    "\n",
    "# Print the unique values in 'stop_minutes'\n",
    "print(ri.stop_minutes.unique())"
   ]
  },
  {
   "cell_type": "markdown",
   "id": "30a9edf0-8194-4556-9a13-3fbea5104ce0",
   "metadata": {},
   "source": [
    "## Plotting stop length\n",
    "If you were stopped for a particular violation, how long might you expect to be detained?\n",
    "\n",
    "In this exercise, you'll visualize the average length of time drivers are stopped for each type of violation. Rather than using the `violation` column in this exercise, you'll use `violation_raw` since it contains more detailed descriptions of the violations."
   ]
  },
  {
   "cell_type": "markdown",
   "id": "e206427e-e390-4c65-bbba-1bae1f644c6b",
   "metadata": {},
   "source": [
    "- For each value in the `ri` DataFrame's `violation_raw` column, calculate the mean number of `stop_minutes` that a driver is detained.\n",
    "- Save the resulting Series as a new object, `stop_length`."
   ]
  },
  {
   "cell_type": "code",
   "execution_count": 32,
   "id": "ee98b60e-1ccf-4941-ba3e-f25049502b4e",
   "metadata": {},
   "outputs": [
    {
     "name": "stdout",
     "output_type": "stream",
     "text": [
      "violation_raw\n",
      "APB                                 17.967033\n",
      "Call for Service                    22.124371\n",
      "Equipment/Inspection Violation      11.445655\n",
      "Motorist Assist/Courtesy            17.741463\n",
      "Other Traffic Violation             13.844490\n",
      "Registration Violation              13.736970\n",
      "Seatbelt Violation                   9.662815\n",
      "Special Detail/Directed Patrol      15.123632\n",
      "Speeding                            10.581562\n",
      "Suspicious Person                   14.910714\n",
      "Violation of City/Town Ordinance    13.254144\n",
      "Warrant                             24.055556\n",
      "Name: stop_minutes, dtype: float64\n"
     ]
    }
   ],
   "source": [
    "# Calculate the mean 'stop_minutes' for each value in 'violation_raw'\n",
    "print(ri.groupby('violation_raw').stop_minutes.mean())\n",
    "\n",
    "# Save the resulting Series as 'stop_length'\n",
    "stop_length = ri.groupby('violation_raw').stop_minutes.mean()"
   ]
  },
  {
   "cell_type": "markdown",
   "id": "db216018-6786-4468-8277-eefc3002eb36",
   "metadata": {},
   "source": [
    "- Sort `stop_length` by its values, and then visualize it using a horizontal bar plot.\n",
    "- Display the plot."
   ]
  },
  {
   "cell_type": "code",
   "execution_count": 33,
   "id": "36588c4a-360b-4c44-9438-3697761909b9",
   "metadata": {},
   "outputs": [
    {
     "data": {
      "image/png": "[encoded data removed]",
      "text/plain": [
       "<Figure size 432x288 with 1 Axes>"
      ]
     },
     "metadata": {
      "needs_background": "light"
     },
     "output_type": "display_data"
    }
   ],
   "source": [
    "# Sort 'stop_length' by its values and create a horizontal bar plot\n",
    "stop_length.sort_values().plot(kind='barh')\n",
    "\n",
    "# Display the plot\n",
    "plt.show()"
   ]
  },
  {
   "cell_type": "code",
   "execution_count": null,
   "id": "14f5d98c-f303-48c6-bd31-7a369222d1f8",
   "metadata": {},
   "outputs": [],
   "source": []
  },
  {
   "cell_type": "code",
   "execution_count": null,
   "id": "0714197a-6d77-4cb5-b83e-33f5869e40aa",
   "metadata": {},
   "outputs": [],
   "source": []
  }
 ],
 "metadata": {
  "kernelspec": {
   "display_name": "Python 3",
   "language": "python",
   "name": "python3"
  },
  "language_info": {
   "codemirror_mode": {
    "name": "ipython",
    "version": 3
   },
   "file_extension": ".py",
   "mimetype": "text/x-python",
   "name": "python",
   "nbconvert_exporter": "python",
   "pygments_lexer": "ipython3",
   "version": "3.8.8"
  }
 },
 "nbformat": 4,
 "nbformat_minor": 5
}
