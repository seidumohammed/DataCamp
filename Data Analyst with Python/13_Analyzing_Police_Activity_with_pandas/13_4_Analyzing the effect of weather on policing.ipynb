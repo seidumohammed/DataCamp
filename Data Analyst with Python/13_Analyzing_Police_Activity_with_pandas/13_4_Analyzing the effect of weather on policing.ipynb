{
 "cells": [
  {
   "cell_type": "markdown",
   "id": "1877a576-d88c-4c83-bc8d-ca6a2f42ff17",
   "metadata": {},
   "source": [
    "# 4. Analyzing the effect of weather on policing\n",
    "**In this chapter, you will use a second dataset to explore the impact of weather conditions on police behavior during traffic stops. You will practice merging and reshaping datasets, assessing whether a data source is trustworthy, working with categorical data, and other advanced skills.**"
   ]
  },
  {
   "cell_type": "code",
   "execution_count": 1,
   "id": "eafd2cb6-d2fd-47d0-8b90-d6773d6e82c8",
   "metadata": {},
   "outputs": [],
   "source": [
    "import pandas as pd\n",
    "ri = pd.read_csv('police.csv')\n",
    "\n",
    "ri.drop(['county_name', 'state'], axis='columns', inplace=True)\n",
    "ri.dropna(subset=['driver_gender'], inplace=True)\n",
    "\n",
    "ri['is_arrested'] = ri.is_arrested.astype('bool')\n",
    "\n",
    "combined = ri.stop_date.str.cat(ri.stop_time, sep=' ')\n",
    "ri['stop_datetime'] = pd.to_datetime(combined)\n",
    "\n",
    "ri.set_index('stop_datetime', inplace=True)"
   ]
  },
  {
   "cell_type": "markdown",
   "id": "6f0ae1d0-5712-4760-b1f8-a43c14a0bc20",
   "metadata": {},
   "source": [
    "## Exploring the weather dataset\n",
    "In this chapter, you'll be working with a new dataset to help you determine if weather conditions have an impact on police behavior.\n",
    "\n",
    "### Introduction to the dataset\n",
    "The weather data you'll be using was collected by the National Centers for Environmental Information. Our hypothesis is that weather conditions impact police behavior during traffic stops, so ideally we would look up the historical weather at the location of each stop. However, the traffic stops dataset does not specify stop location, so we're going to use the data from a single weather station near the center of Rhode Island. This is not ideal, but Rhode Island is the smallest US state and so a single station will still give us a general idea of the weather throughout the state.\n",
    "\n",
    "### Examining the columns\n",
    "Let's read the weather dataset into a DataFrame using `read_csv()`, and then look at the head. "
   ]
  },
  {
   "cell_type": "code",
   "execution_count": 3,
   "id": "c0e51a15-37c3-495c-a17b-26c5db074336",
   "metadata": {},
   "outputs": [
    {
     "name": "stdout",
     "output_type": "stream",
     "text": [
      "       STATION        DATE  TAVG  TMIN  TMAX  AWND  WSF2  WT01  WT02  WT03  \\\n",
      "0  USW00014765  2005-01-01  44.0    35    53  8.95  25.1   1.0   NaN   NaN   \n",
      "1  USW00014765  2005-01-02  36.0    28    44  9.40  14.1   NaN   NaN   NaN   \n",
      "2  USW00014765  2005-01-03  49.0    44    53  6.93  17.0   1.0   NaN   NaN   \n",
      "3  USW00014765  2005-01-04  42.0    39    45  6.93  16.1   1.0   NaN   NaN   \n",
      "4  USW00014765  2005-01-05  36.0    28    43  7.83  17.0   1.0   NaN   NaN   \n",
      "\n",
      "   ...  WT11  WT13  WT14  WT15  WT16  WT17  WT18  WT19  WT21  WT22  \n",
      "0  ...   NaN   1.0   NaN   NaN   NaN   NaN   NaN   NaN   NaN   NaN  \n",
      "1  ...   NaN   NaN   NaN   NaN   1.0   NaN   1.0   NaN   NaN   NaN  \n",
      "2  ...   NaN   1.0   NaN   NaN   1.0   NaN   NaN   NaN   NaN   NaN  \n",
      "3  ...   NaN   1.0   1.0   NaN   1.0   NaN   NaN   NaN   NaN   NaN  \n",
      "4  ...   NaN   1.0   NaN   NaN   1.0   NaN   1.0   NaN   NaN   NaN  \n",
      "\n",
      "[5 rows x 27 columns]\n"
     ]
    }
   ],
   "source": [
    "weather = pd.read_csv('weather.csv')\n",
    "print(weather.head())"
   ]
  },
  {
   "cell_type": "markdown",
   "id": "79c5ac05-b4a5-425e-87ed-4c7196596c8d",
   "metadata": {},
   "source": [
    "You can see that the station column lists the station ID, and there's one row for each date. There are three columns related to temperature(`TAVG`, `TMIN`, `TMAX`), two columns related to wind speed(`AWND`, `WSF2`), and 20 columns related to the presence of certain bad weather conditions(`WT01`...`WT22`).\n",
    "\n",
    "### Examining the wind speed\n",
    "Before using a new dataset, it's a good practice to explore the data to check that the values seem reasonable. If you don't find anything unreasonable, then you gain increased confidence that the data is trustworthy. \n",
    "\n",
    "For example, let's take a look at the two columns related to wind speed. \n"
   ]
  },
  {
   "cell_type": "code",
   "execution_count": 4,
   "id": "6642b37c-9fb4-43c3-ac76-2ea2af05a7d8",
   "metadata": {},
   "outputs": [
    {
     "name": "stdout",
     "output_type": "stream",
     "text": [
      "   AWND  WSF2\n",
      "0  8.95  25.1\n",
      "1  9.40  14.1\n",
      "2  6.93  17.0\n",
      "3  6.93  16.1\n",
      "4  7.83  17.0\n"
     ]
    }
   ],
   "source": [
    "print(weather[['AWND', 'WSF2']].head())"
   ]
  },
  {
   "cell_type": "markdown",
   "id": "cc7eb012-ebb8-4953-8747-3cfceebb06ce",
   "metadata": {},
   "source": [
    "`AWND` is average wind speed in miles per hour, and `WSF2` is the fastest 2-minute wind speed, meaning the fastest wind speed during any 2-minute period. We can use the `describe()` method on these two columns to see summary statistics including the minimum, maximum, and 25th through 75th percentiles."
   ]
  },
  {
   "cell_type": "code",
   "execution_count": 7,
   "id": "e7ae346b-7e47-4c63-b978-9cd808db7869",
   "metadata": {},
   "outputs": [
    {
     "name": "stdout",
     "output_type": "stream",
     "text": [
      "              AWND         WSF2\n",
      "count  4017.000000  4017.000000\n",
      "mean      8.593707    19.274782\n",
      "std       3.364601     5.623866\n",
      "min       0.220000     4.900000\n",
      "25%       6.260000    15.000000\n",
      "50%       8.050000    17.900000\n",
      "75%      10.290000    21.900000\n",
      "max      26.840000    48.100000\n"
     ]
    }
   ],
   "source": [
    "print(weather[['AWND', 'WSF2']].describe())"
   ]
  },
  {
   "cell_type": "markdown",
   "id": "cdcab18a-841d-4839-acde-35559542ca70",
   "metadata": {},
   "source": [
    " Notice that the minimum values are above zero, and the fastest wind speed values are greater than the average wind speed values. Also, the numbers seem reasonable given that they are measured in miles per hour. These are all simple signs that the data is trustworthy.\n",
    "\n",
    "### Creating a box plot\n",
    "Another way to examine these values is with a box plot, by specifying kind equals box when plotting."
   ]
  },
  {
   "cell_type": "code",
   "execution_count": 8,
   "id": "96625281-51a4-4e77-9ae7-134460692591",
   "metadata": {},
   "outputs": [
    {
     "data": {
      "image/png": "[encoded data removed]",
      "text/plain": [
       "<Figure size 432x288 with 1 Axes>"
      ]
     },
     "metadata": {
      "needs_background": "light"
     },
     "output_type": "display_data"
    }
   ],
   "source": [
    "import matplotlib.pyplot as plt\n",
    "weather[['AWND', 'WSF2']].plot(kind='box')\n",
    "plt.show()"
   ]
  },
  {
   "cell_type": "markdown",
   "id": "b0476b9d-00f2-45e3-bdeb-dcf07cb4fe90",
   "metadata": {},
   "source": [
    "This is essentially a visual representation of the summary statistics, in that the box represents the 25th through 75th percentiles, and the lines below and above the box represent the minimum and maximum values, excluding the outliers represented by circles. Again, our goal here is simply to validate that the data looks reasonable.\n",
    "\n",
    "### Creating a histogram (1)\n",
    "It would also be useful to validate that the fastest wind speed values are greater than the average values for every single row. We'll do this by subtracting the average speed from the fastest speed and storing the results in a new column."
   ]
  },
  {
   "cell_type": "code",
   "execution_count": 9,
   "id": "5d02f1aa-4917-4fe3-a99b-7f129d7ed94b",
   "metadata": {},
   "outputs": [],
   "source": [
    "weather['WDIFF'] = weather.WSF2 - weather.AWND"
   ]
  },
  {
   "cell_type": "markdown",
   "id": "886353fd-1925-47f9-88ed-08b127b92919",
   "metadata": {},
   "source": [
    " We'll visualize the new column using a histogram so that we can see its distribution. "
   ]
  },
  {
   "cell_type": "code",
   "execution_count": 11,
   "id": "8dfb1909-a3da-4f8d-9893-ac9244e77422",
   "metadata": {},
   "outputs": [
    {
     "data": {
      "image/png": "[encoded data removed]",
      "text/plain": [
       "<Figure size 432x288 with 1 Axes>"
      ]
     },
     "metadata": {
      "needs_background": "light"
     },
     "output_type": "display_data"
    }
   ],
   "source": [
    "weather.WDIFF.plot(kind='hist')\n",
    "plt.show()"
   ]
  },
  {
   "cell_type": "markdown",
   "id": "347638f3-9c5a-494f-b4f9-15f3ca3c537f",
   "metadata": {},
   "source": [
    "There are no values below zero, which is a good sign. But because there are some extreme values, it's hard to clearly see the shape of the distribution.\n",
    "\n",
    "### Creating a histogram (2)\n",
    "We can make the shape more clear by changing the number of histogram `bins` to `20`."
   ]
  },
  {
   "cell_type": "code",
   "execution_count": 12,
   "id": "4a7c09a3-1349-4d41-adab-c3b592393712",
   "metadata": {},
   "outputs": [
    {
     "data": {
      "image/png": "[encoded data removed]",
      "text/plain": [
       "<Figure size 432x288 with 1 Axes>"
      ]
     },
     "metadata": {
      "needs_background": "light"
     },
     "output_type": "display_data"
    }
   ],
   "source": [
    "weather.WDIFF.plot(kind='hist', bins=20)\n",
    "plt.show()"
   ]
  },
  {
   "cell_type": "markdown",
   "id": "21de67d5-b765-42a9-b59e-4ac76ec6c60c",
   "metadata": {},
   "source": [
    "This creates more narrow bins than the default value of 10. We can now see that the difference between the fastest and average wind speed values has an approximately normal shape. Many natural phenomena have a normal distribution, and so this shape is another sign that the dataset is trustworthy."
   ]
  },
  {
   "cell_type": "markdown",
   "id": "b14bfd6a-7c94-465a-ba29-b625113befe9",
   "metadata": {},
   "source": [
    "## Plotting the temperature\n",
    "In this exercise, you'll examine the temperature columns from the weather dataset to assess whether the data seems trustworthy. First you'll print the summary statistics, and then you'll visualize the data using a box plot.\n",
    "\n",
    "When deciding whether the values seem reasonable, keep in mind that the temperature is measured in degrees Fahrenheit, not Celsius!"
   ]
  },
  {
   "cell_type": "markdown",
   "id": "7838e217-a7dc-4a9f-84c5-115331b278fd",
   "metadata": {},
   "source": [
    "- Select the temperature columns (`TMIN`, `TAVG`, `TMAX`) and print their summary statistics using the `.describe()` method.\n",
    "- Create a box plot to visualize the temperature columns.\n",
    "- Display the plot."
   ]
  },
  {
   "cell_type": "code",
   "execution_count": 15,
   "id": "468d7cd7-03f0-4e93-9b46-dcb5e54b0306",
   "metadata": {},
   "outputs": [
    {
     "name": "stdout",
     "output_type": "stream",
     "text": [
      "              TMIN         TAVG         TMAX\n",
      "count  4017.000000  1217.000000  4017.000000\n",
      "mean     43.484441    52.493016    61.268608\n",
      "std      17.020298    17.830714    18.199517\n",
      "min      -5.000000     6.000000    15.000000\n",
      "25%      30.000000    39.000000    47.000000\n",
      "50%      44.000000    54.000000    62.000000\n",
      "75%      58.000000    68.000000    77.000000\n",
      "max      77.000000    86.000000   102.000000\n"
     ]
    },
    {
     "name": "stderr",
     "output_type": "stream",
     "text": [
      "C:\\Users\\sj501\\anaconda3\\lib\\site-packages\\numpy\\core\\_asarray.py:102: VisibleDeprecationWarning: Creating an ndarray from ragged nested sequences (which is a list-or-tuple of lists-or-tuples-or ndarrays with different lengths or shapes) is deprecated. If you meant to do this, you must specify 'dtype=object' when creating the ndarray.\n",
      "  return array(a, dtype, copy=False, order=order)\n"
     ]
    },
    {
     "data": {
      "image/png": "[encoded data removed]",
      "text/plain": [
       "<Figure size 432x288 with 1 Axes>"
      ]
     },
     "metadata": {
      "needs_background": "light"
     },
     "output_type": "display_data"
    }
   ],
   "source": [
    "# Describe the temperature columns\n",
    "print(weather[['TMIN', 'TAVG', 'TMAX']].describe())\n",
    "\n",
    "# Create a box plot of the temperature columns\n",
    "weather[['TMIN', 'TAVG', 'TMAX']].plot(kind='box')\n",
    "\n",
    "# Display the plot\n",
    "plt.show()"
   ]
  },
  {
   "cell_type": "markdown",
   "id": "9ceed88c-9837-4b4d-8661-09f83c93f52a",
   "metadata": {},
   "source": [
    "*The temperature data looks good so far: the `TAVG` values are in between `TMIN` and `TMAX`, and the measurements and ranges seem reasonable.*"
   ]
  },
  {
   "cell_type": "markdown",
   "id": "ce77d4f1-7902-4582-a4e9-d404de7e2120",
   "metadata": {},
   "source": [
    "## Plotting the temperature difference\n",
    "In this exercise, you'll continue to assess whether the dataset seems trustworthy by plotting the difference between the maximum and minimum temperatures.\n",
    "\n",
    "What do you notice about the resulting histogram? Does it match your expectations, or do you see anything unusual?\n",
    "\n",
    "- Create a new column in the `weather` DataFrame named `TDIFF` that represents the difference between the maximum and minimum temperatures.\n",
    "- Print the summary statistics for `TDIFF` using the `.describe()` method."
   ]
  },
  {
   "cell_type": "code",
   "execution_count": 17,
   "id": "ca9bd262-2777-47b4-9767-edc86681ea19",
   "metadata": {},
   "outputs": [
    {
     "name": "stdout",
     "output_type": "stream",
     "text": [
      "count    4017.000000\n",
      "mean       17.784167\n",
      "std         6.350720\n",
      "min         2.000000\n",
      "25%        14.000000\n",
      "50%        18.000000\n",
      "75%        22.000000\n",
      "max        43.000000\n",
      "Name: TDIFF, dtype: float64\n"
     ]
    }
   ],
   "source": [
    "# Create a 'TDIFF' column that represents temperature difference\n",
    "weather['TDIFF'] = weather.TMAX - weather.TMIN\n",
    "\n",
    "# Describe the 'TDIFF' column\n",
    "print(weather.TDIFF.describe())"
   ]
  },
  {
   "cell_type": "markdown",
   "id": "09b7bb0d-fb0a-49e2-8b88-3570172e25f5",
   "metadata": {},
   "source": [
    "- Create a histogram with 20 bins to visualize `TDIFF`.\n",
    "- Display the plot."
   ]
  },
  {
   "cell_type": "code",
   "execution_count": 18,
   "id": "ee0d7d20-795f-4bf5-8379-7be0e5f06a95",
   "metadata": {},
   "outputs": [
    {
     "data": {
      "image/png": "[encoded data removed]",
      "text/plain": [
       "<Figure size 432x288 with 1 Axes>"
      ]
     },
     "metadata": {
      "needs_background": "light"
     },
     "output_type": "display_data"
    }
   ],
   "source": [
    "# Create a histogram with 20 bins to visualize 'TDIFF'\n",
    "weather.TDIFF.plot(kind='hist', bins=20)\n",
    "\n",
    "# Display the plot\n",
    "plt.show()"
   ]
  },
  {
   "cell_type": "markdown",
   "id": "fc343adb-1809-43bb-9fc2-31f8e3bbadde",
   "metadata": {},
   "source": [
    "*The `TDIFF` column has no negative values and its distribution is approximately normal, both of which are signs that the data is trustworthy.*"
   ]
  },
  {
   "cell_type": "markdown",
   "id": "220d6a3f-7116-4c21-afee-d3c380aaf4d5",
   "metadata": {},
   "source": [
    "---\n",
    "## Categorizing the weather\n",
    "Now that we've reviewed the weather dataset and concluded that it's a trustworthy source, we can start preparing it for analysis. But first, let's review a few pandas techniques we'll be using.\n",
    "\n",
    "### Selecting a DataFrame slice (1)"
   ]
  },
  {
   "cell_type": "code",
   "execution_count": 19,
   "id": "7c4721e5-53a6-4955-b414-ddb27770c089",
   "metadata": {},
   "outputs": [
    {
     "data": {
      "text/plain": [
       "(4017, 29)"
      ]
     },
     "execution_count": 19,
     "metadata": {},
     "output_type": "execute_result"
    }
   ],
   "source": [
    "weather.shape"
   ]
  },
  {
   "cell_type": "code",
   "execution_count": 20,
   "id": "6d5e5da4-b1db-4137-979a-431b404c14f8",
   "metadata": {},
   "outputs": [
    {
     "data": {
      "text/plain": [
       "Index(['STATION', 'DATE', 'TAVG', 'TMIN', 'TMAX', 'AWND', 'WSF2', 'WT01',\n",
       "       'WT02', 'WT03', 'WT04', 'WT05', 'WT06', 'WT07', 'WT08', 'WT09', 'WT10',\n",
       "       'WT11', 'WT13', 'WT14', 'WT15', 'WT16', 'WT17', 'WT18', 'WT19', 'WT21',\n",
       "       'WT22', 'WDIFF', 'TDIFF'],\n",
       "      dtype='object')"
      ]
     },
     "execution_count": 20,
     "metadata": {},
     "output_type": "execute_result"
    }
   ],
   "source": [
    "weather.columns"
   ]
  },
  {
   "cell_type": "markdown",
   "id": "5d5420b3-ed0f-4299-8e8b-20be1cb14bd1",
   "metadata": {},
   "source": [
    "The weather DataFrame has 4,017 rows and 28 columns. Let's say that we wanted to copy the three temperature columns to a new DataFrame called `temp`. How might we do this?\n",
    "\n",
    "### Selecting a DataFrame slice (2)\n",
    "You might recall that the loc accessor allows you to extract a DataFrame slice by specifying the starting and ending labels of your desired selection. In this case, we'll select all rows (represented by the first colon) and the columns `TAVG` through `TMAX` and save them to `temp`. "
   ]
  },
  {
   "cell_type": "code",
   "execution_count": 21,
   "id": "2ce178d0-51ae-464b-bcb8-9d556df3ed59",
   "metadata": {
    "tags": []
   },
   "outputs": [
    {
     "data": {
      "text/plain": [
       "(4017, 3)"
      ]
     },
     "execution_count": 21,
     "metadata": {},
     "output_type": "execute_result"
    }
   ],
   "source": [
    "temp = weather.loc[:, 'TAVG':'TMAX']\n",
    "temp.shape"
   ]
  },
  {
   "cell_type": "code",
   "execution_count": 22,
   "id": "7d9d38f0-e549-42c9-9ac0-4696fd3f9182",
   "metadata": {},
   "outputs": [
    {
     "data": {
      "text/plain": [
       "Index(['TAVG', 'TMIN', 'TMAX'], dtype='object')"
      ]
     },
     "execution_count": 22,
     "metadata": {},
     "output_type": "execute_result"
    }
   ],
   "source": [
    "temp.columns"
   ]
  },
  {
   "cell_type": "markdown",
   "id": "a07ce26e-f9eb-4726-8edb-2127f326d748",
   "metadata": {},
   "source": [
    "You can see that the temp DataFrame contains all 4,017 rows but just 3 columns. This method is particularly useful when you need to select a large number of columns that are side-by-side.\n",
    "\n",
    "### DataFrame operations\n",
    "Let's take a look at the head of `temp`."
   ]
  },
  {
   "cell_type": "code",
   "execution_count": 23,
   "id": "b4244fab-f4bc-4110-9401-adf308e46e4e",
   "metadata": {},
   "outputs": [
    {
     "name": "stdout",
     "output_type": "stream",
     "text": [
      "   TAVG  TMIN  TMAX\n",
      "0  44.0    35    53\n",
      "1  36.0    28    44\n",
      "2  49.0    44    53\n",
      "3  42.0    39    45\n",
      "4  36.0    28    43\n"
     ]
    }
   ],
   "source": [
    "print(temp.head())"
   ]
  },
  {
   "cell_type": "markdown",
   "id": "ba5b8cc9-3920-40aa-a572-f16170bb909d",
   "metadata": {},
   "source": [
    "What would happen if you used the `sum()` method on the DataFrame? `pandas` will actually return the sum of each of the three columns."
   ]
  },
  {
   "cell_type": "code",
   "execution_count": 24,
   "id": "d895bd80-b5c4-4f6a-b2cc-ceaf50b849e8",
   "metadata": {},
   "outputs": [
    {
     "data": {
      "text/plain": [
       "TAVG     63884.0\n",
       "TMIN    174677.0\n",
       "TMAX    246116.0\n",
       "dtype: float64"
      ]
     },
     "execution_count": 24,
     "metadata": {},
     "output_type": "execute_result"
    }
   ],
   "source": [
    "temp.sum()"
   ]
  },
  {
   "cell_type": "markdown",
   "id": "0e054412-98c7-4052-9edc-472c49311986",
   "metadata": {},
   "source": [
    "But what if you wanted to calculate the sum of each row? You can do this by specifying `axis=columns`, and you'll see that each value is the sum of the three temperature values in that row."
   ]
  },
  {
   "cell_type": "code",
   "execution_count": 26,
   "id": "857ad14c-aae6-4017-890c-72fe36f0a2e3",
   "metadata": {},
   "outputs": [
    {
     "data": {
      "text/plain": [
       "0    132.0\n",
       "1    108.0\n",
       "2    146.0\n",
       "3    126.0\n",
       "4    107.0\n",
       "dtype: float64"
      ]
     },
     "execution_count": 26,
     "metadata": {},
     "output_type": "execute_result"
    }
   ],
   "source": [
    "temp.sum(axis='columns').head()"
   ]
  },
  {
   "cell_type": "markdown",
   "id": "3b5bc14b-1267-4563-8c19-4b6cdb12073b",
   "metadata": {},
   "source": [
    "You may find it confusing that specifying the columns axis leads pandas to calculate row sums. But for mathematical operations, the axis specifies the array dimension that is being aggregated, and aggregating the columns is how you combine the data for each row.\n",
    "\n",
    "### Mapping one set of values to another\n",
    "Let's return to the traffic stops dataset and the `stop_duration` column. "
   ]
  },
  {
   "cell_type": "code",
   "execution_count": 42,
   "id": "20046825-5526-486d-b4cc-87c213047e0f",
   "metadata": {},
   "outputs": [
    {
     "data": {
      "text/plain": [
       "array(['0-15 Min', '16-30 Min', '30+ Min'], dtype=object)"
      ]
     },
     "execution_count": 42,
     "metadata": {},
     "output_type": "execute_result"
    }
   ],
   "source": [
    "ri.stop_duration.unique()"
   ]
  },
  {
   "cell_type": "markdown",
   "id": "328a9299-963b-4793-be6e-6c116415ec96",
   "metadata": {},
   "source": [
    "You can map one set of values to another using the Series `map()` method. \n",
    "\n",
    "In this case, we'll create a dictionary that maps the stop_duration values to the strings short, medium, and long. Then we'll use the `map()` method to create a column called `stop_length`. "
   ]
  },
  {
   "cell_type": "code",
   "execution_count": 43,
   "id": "280b65da-2944-44f7-bdd4-f57cdc4f0ac6",
   "metadata": {},
   "outputs": [
    {
     "data": {
      "text/plain": [
       "dtype('O')"
      ]
     },
     "execution_count": 43,
     "metadata": {},
     "output_type": "execute_result"
    }
   ],
   "source": [
    "mapping = {'0-15 Min':'short', '16-30 Min':'medium', '30+ Min':'long'}\n",
    "ri['stop_length'] = ri.stop_duration.map(mapping)\n",
    "ri.stop_length.dtype"
   ]
  },
  {
   "cell_type": "markdown",
   "id": "a8735c1a-695b-4d99-a741-c1c5a003bd87",
   "metadata": {},
   "source": [
    "The `stop_length` column has the object data type since it contains string data.\n",
    "\n",
    "### Changing data type from object to category (1)"
   ]
  },
  {
   "cell_type": "code",
   "execution_count": 44,
   "id": "52d6649a-7843-44de-a371-3fdbd430c859",
   "metadata": {},
   "outputs": [
    {
     "data": {
      "text/plain": [
       "array(['short', 'medium', 'long'], dtype=object)"
      ]
     },
     "execution_count": 44,
     "metadata": {},
     "output_type": "execute_result"
    }
   ],
   "source": [
    "ri.stop_length.unique()"
   ]
  },
  {
   "cell_type": "markdown",
   "id": "41111f05-a5e9-4b26-a69c-4928b375843c",
   "metadata": {},
   "source": [
    "Whenever you have an object column with a small number of possible values, as is the case here, you may want to change its data type to category. The main reason to use the **category type** is that it **stores the data more efficiently** than the object type. Another reason is that it **allows you to specify a logical order for the categories**. Before we change the data type of the `stop_length Series`, we'll use a Series method to calculate its current memory usage, which is over 6 megabytes."
   ]
  },
  {
   "cell_type": "code",
   "execution_count": 45,
   "id": "35441e4f-4601-4dfb-b96d-a7487f56b7b0",
   "metadata": {},
   "outputs": [
    {
     "data": {
      "text/plain": [
       "6068041"
      ]
     },
     "execution_count": 45,
     "metadata": {},
     "output_type": "execute_result"
    }
   ],
   "source": [
    "ri.stop_length.memory_usage(deep=True)"
   ]
  },
  {
   "cell_type": "markdown",
   "id": "7c9ae6b2-ae42-463b-aad3-dfe81fe392ed",
   "metadata": {},
   "source": [
    "### Changing data type from object to category (2)\n",
    "To change the data type, we first create a Python list called `cats` that defines the logical order of the categories. "
   ]
  },
  {
   "cell_type": "code",
   "execution_count": 46,
   "id": "cca56de1-4af6-47e3-8cdc-db8773c3fefb",
   "metadata": {},
   "outputs": [],
   "source": [
    "cats = ['short', 'medium', 'long']"
   ]
  },
  {
   "cell_type": "markdown",
   "id": "78e22182-30fc-4456-9529-d24ac0fa0db8",
   "metadata": {},
   "source": [
    "Second, we use the `astype()` method to specify the new data type."
   ]
  },
  {
   "cell_type": "code",
   "execution_count": 47,
   "id": "cf041eef-003d-4bff-be4d-039cac908ce4",
   "metadata": {},
   "outputs": [],
   "source": [
    "from pandas.api.types import CategoricalDtype\n",
    "cat_type = CategoricalDtype(categories=cats, ordered=True)\n",
    "ri['stop_length'] = ri.stop_length.astype(cat_type)"
   ]
  },
  {
   "cell_type": "markdown",
   "id": "e590f4cc-a519-4748-8cc5-976da4d3990f",
   "metadata": {},
   "source": [
    " We also specify that it should be ordered, and the cats list defines the ordering. By changing the data type, you can see that the memory usage of this column has been changed to around 7.7 megabytes.\n"
   ]
  },
  {
   "cell_type": "code",
   "execution_count": 48,
   "id": "04ffe448-72d2-4672-bcff-34a73a010dcc",
   "metadata": {},
   "outputs": [
    {
     "data": {
      "text/plain": [
       "779118"
      ]
     },
     "execution_count": 48,
     "metadata": {},
     "output_type": "execute_result"
    }
   ],
   "source": [
    "ri.stop_length.memory_usage(deep=True)"
   ]
  },
  {
   "cell_type": "markdown",
   "id": "bac1c8b3-11e4-4891-8497-9837843fa0de",
   "metadata": {},
   "source": [
    "### Using ordered categories (1)\n",
    "Let's take a look at the head of this column."
   ]
  },
  {
   "cell_type": "code",
   "execution_count": 49,
   "id": "8223e91f-ce6c-4cfa-9ba0-4abe5ec5ef52",
   "metadata": {},
   "outputs": [
    {
     "name": "stdout",
     "output_type": "stream",
     "text": [
      "stop_datetime\n",
      "2005-01-04 12:55:00     short\n",
      "2005-01-23 23:15:00     short\n",
      "2005-02-17 04:15:00     short\n",
      "2005-02-20 17:15:00    medium\n",
      "2005-02-24 01:20:00     short\n",
      "Name: stop_length, dtype: category\n",
      "Categories (3, object): ['short' < 'medium' < 'long']\n"
     ]
    }
   ],
   "source": [
    "print(ri.stop_length.head())"
   ]
  },
  {
   "cell_type": "markdown",
   "id": "0e6e9ece-c78b-449a-a08c-1de3ab476267",
   "metadata": {},
   "source": [
    " In the bottom two lines, you can see that the `dtype` is now category and the categories are ordered from short to long. Because of the ordering, you can now use comparison operators with this column.\n",
    "\n",
    "### Using ordered categories (2)\n",
    "For example, you can specify that `stop_length` is greater than short in order to filter the DataFrame to only include medium or long stops."
   ]
  },
  {
   "cell_type": "code",
   "execution_count": 50,
   "id": "4ce35954-a70d-4347-a320-acc4b780c1d3",
   "metadata": {},
   "outputs": [
    {
     "data": {
      "text/plain": [
       "(16959, 14)"
      ]
     },
     "execution_count": 50,
     "metadata": {},
     "output_type": "execute_result"
    }
   ],
   "source": [
    "ri[ri.stop_length > 'short'].shape"
   ]
  },
  {
   "cell_type": "markdown",
   "id": "81b25633-8cf3-4c52-92e7-f9ebc60ae496",
   "metadata": {},
   "source": [
    " In addition, pandas will automatically sort ordered categories logically rather than alphabetically, "
   ]
  },
  {
   "cell_type": "code",
   "execution_count": 51,
   "id": "c99b624a-497c-4923-9257-ba9701346410",
   "metadata": {},
   "outputs": [
    {
     "data": {
      "text/plain": [
       "stop_length\n",
       "short     0.013654\n",
       "medium    0.093595\n",
       "long      0.261572\n",
       "Name: is_arrested, dtype: float64"
      ]
     },
     "execution_count": 51,
     "metadata": {},
     "output_type": "execute_result"
    }
   ],
   "source": [
    "ri.groupby('stop_length').is_arrested.mean()"
   ]
  },
  {
   "cell_type": "markdown",
   "id": "07545cb9-cae3-4c94-809c-b1380e16e724",
   "metadata": {},
   "source": [
    "which can make the results of a calculation easier to understand."
   ]
  },
  {
   "cell_type": "markdown",
   "id": "69d4360c-fb01-4b6a-9017-911d0a8da237",
   "metadata": {},
   "source": [
    "## Counting bad weather conditions\n",
    "The `weather` DataFrame contains 20 columns that start with `'WT'`, each of which represents a bad weather condition. For example:\n",
    "\n",
    "`WT05` indicates \"Hail\"\n",
    "\n",
    "`WT11` indicates \"High or damaging winds\"\n",
    "\n",
    "`WT17` indicates \"Freezing rain\"\n",
    "\n",
    "For every row in the dataset, each `WT` column contains either a `1` (meaning the condition was present that day) or `NaN` (meaning the condition was not present).\n",
    "\n",
    "In this exercise, you'll quantify \"how bad\" the weather was each day by counting the number of `1` values in each row."
   ]
  },
  {
   "cell_type": "markdown",
   "id": "297852bc-dfb7-466d-a53c-6faf30ff29b9",
   "metadata": {},
   "source": [
    "- Copy the columns `WT01` through `WT22` from `weather` to a new DataFrame named `WT`.\n",
    "- Calculate the sum of each row in `WT`, and store the results in a new `weather` column named `bad_conditions`.\n",
    "- Replace any missing values in `bad_conditions` with a `0`.\n",
    "- Create a histogram to visualize `bad_conditions`, and then display the plot."
   ]
  },
  {
   "cell_type": "code",
   "execution_count": 52,
   "id": "16296f94-f8ff-4365-9856-c6195d7c4f08",
   "metadata": {},
   "outputs": [
    {
     "data": {
      "image/png": "[encoded data removed]",
      "text/plain": [
       "<Figure size 432x288 with 1 Axes>"
      ]
     },
     "metadata": {
      "needs_background": "light"
     },
     "output_type": "display_data"
    }
   ],
   "source": [
    "# Copy 'WT01' through 'WT22' to a new DataFrame\n",
    "WT = weather.loc[:, 'WT01':'WT22']\n",
    "\n",
    "# Calculate the sum of each row in 'WT'\n",
    "weather['bad_conditions'] = WT.sum(axis='columns')\n",
    "\n",
    "# Replace missing values in 'bad_conditions' with '0'\n",
    "weather['bad_conditions'] = weather.bad_conditions.fillna(0).astype('int')\n",
    "\n",
    "# Create a histogram to visualize 'bad_conditions'\n",
    "weather.bad_conditions.plot(kind='hist')\n",
    "\n",
    "# Display the plot\n",
    "plt.show()"
   ]
  },
  {
   "cell_type": "markdown",
   "id": "0b9583d2-c819-4d68-9510-839a79bf78b0",
   "metadata": {},
   "source": [
    "*It looks like many days didn't have any bad weather conditions, and only a small portion of days had more than four bad weather conditions.*"
   ]
  },
  {
   "cell_type": "markdown",
   "id": "bc3fb414-a2cf-4e2f-abfb-77d98ffbbf7c",
   "metadata": {},
   "source": [
    "## Rating the weather conditions\n",
    "In the previous exercise, you counted the number of bad weather conditions each day. In this exercise, you'll use the counts to create a rating system for the weather.\n",
    "\n",
    "The counts range from 0 to 9, and should be converted to ratings as follows:\n",
    "\n",
    "Convert `0` to `'good'`\n",
    "\n",
    "Convert `1` through `4` to `'bad'`\n",
    "\n",
    "Convert `5` through `9` to `'worse'`\n",
    "\n",
    "- Count the unique values in the `bad_conditions` column and sort the index."
   ]
  },
  {
   "cell_type": "code",
   "execution_count": 53,
   "id": "eb716887-09ee-4093-9f1f-2541536e4aea",
   "metadata": {},
   "outputs": [
    {
     "name": "stdout",
     "output_type": "stream",
     "text": [
      "0    1749\n",
      "1     613\n",
      "2     367\n",
      "3     380\n",
      "4     476\n",
      "5     282\n",
      "6     101\n",
      "7      41\n",
      "8       4\n",
      "9       4\n",
      "Name: bad_conditions, dtype: int64\n"
     ]
    }
   ],
   "source": [
    "# Count the unique values in 'bad_conditions' and sort the index\n",
    "print(weather.bad_conditions.value_counts().sort_index())"
   ]
  },
  {
   "cell_type": "markdown",
   "id": "080b2b7d-aac7-49b3-8e22-302176654058",
   "metadata": {},
   "source": [
    "- Create a dictionary called `mapping` that maps the `bad_conditions` integers to strings as specified above.\n",
    "- Convert the `bad_conditions` integers to strings using the `mapping` and store the results in a new column called `rating`.\n",
    "- Count the unique values in `rating` to verify that the integers were properly converted to strings."
   ]
  },
  {
   "cell_type": "code",
   "execution_count": 54,
   "id": "cdd1e6bd-d090-4ad8-96a6-785027c179f0",
   "metadata": {},
   "outputs": [
    {
     "name": "stdout",
     "output_type": "stream",
     "text": [
      "bad      1836\n",
      "good     1749\n",
      "worse     432\n",
      "Name: rating, dtype: int64\n"
     ]
    }
   ],
   "source": [
    "# Create a dictionary that maps integers to strings\n",
    "mapping = {0:'good', 1:'bad', 2:'bad', 3:'bad', 4:'bad', 5:'worse', 6:'worse', 7:'worse', 8:'worse', 9:'worse'}\n",
    "\n",
    "# Convert the 'bad_conditions' integers to strings using the 'mapping'\n",
    "weather['rating'] = weather.bad_conditions.map(mapping)\n",
    "\n",
    "# Count the unique values in 'rating'\n",
    "print(weather.rating.value_counts())"
   ]
  },
  {
   "cell_type": "markdown",
   "id": "3012bbad-d4a0-4f6d-b42b-9afd8c6d7169",
   "metadata": {},
   "source": [
    "*This rating system should make the weather condition data easier to understand.*"
   ]
  },
  {
   "cell_type": "markdown",
   "id": "a018d939-0193-4042-8712-aaf2605a6ed0",
   "metadata": {},
   "source": [
    "## Changing the data type to category\n",
    "Since the `rating` column only has a few possible values, you'll change its data type to category in order to store the data more efficiently. You'll also specify a logical order for the categories, which will be useful for future exercises.\n",
    "\n",
    "- Create a list object called `cats` that lists the weather ratings in a logical order: `'good'`, `'bad'`, `'worse'`.\n",
    "- Change the data type of the `rating` column from object to category. Make sure to use the `cats` list to define the category ordering.\n",
    "- Examine the head of the `rating` column to confirm that the categories are logically ordered."
   ]
  },
  {
   "cell_type": "code",
   "execution_count": 56,
   "id": "5ca6603e-ab81-4be0-a928-7e72f71fdda9",
   "metadata": {},
   "outputs": [
    {
     "name": "stdout",
     "output_type": "stream",
     "text": [
      "0    bad\n",
      "1    bad\n",
      "2    bad\n",
      "3    bad\n",
      "4    bad\n",
      "Name: rating, dtype: category\n",
      "Categories (3, object): ['good' < 'bad' < 'worse']\n"
     ]
    }
   ],
   "source": [
    "# Create a list of weather ratings in logical order\n",
    "cats = ['good', 'bad', 'worse']\n",
    "\n",
    "# Change the data type of 'rating' to category\n",
    "cat_type = CategoricalDtype(categories=cats, ordered=True)\n",
    "weather['rating'] = weather.rating.astype(cat_type)\n",
    "\n",
    "# Examine the head of 'rating'\n",
    "print(weather.rating.head())"
   ]
  },
  {
   "cell_type": "markdown",
   "id": "4524c932-1770-46cb-84bf-fc946e45b720",
   "metadata": {},
   "source": [
    "*The `rating` column will be used to analyze the effects of weather on police behavior.*"
   ]
  },
  {
   "cell_type": "markdown",
   "id": "46057b04-5d74-48b7-ba46-8c1345297a98",
   "metadata": {},
   "source": [
    "---\n",
    "## Merging datasets\n",
    "Now that we've assigned a rating to the weather conditions each day, we need to merge that data with the traffic stop data so that we can analyze the relationship between weather and police behavior. Let's review how to merge two DataFrames.\n",
    "\n",
    "### Preparing the first DataFrame\n",
    "We'll return to the DataFrame of Apple stock prices.\n",
    "```python\n",
    "apple\n",
    "```\n",
    "```\n",
    "                        date   time   price\n",
    "date_and_time                        \n",
    "2018-02-14 09:30:00  2/14/18   9:30  163.04  \n",
    "2018-02-14 16:00:00  2/14/18  16:00  167.37 \n",
    "2018-02-15 09:30:00  2/15/18   9:30  169.79\n",
    "2018-02-15 16:00:00  2/15/18  16:00  172.99  \n",
    "```\n",
    "\n",
    "This time, the opening price at 9:30 AM and closing price at 4:00 PM are listed for each day in separate rows. Shortly, we're going to merge the apple DataFrame with another DataFrame. Because the index will be lost during the merge, we want to save it by moving it to a DataFrame column. We'll do this by using the `reset_index()` method and specifying that the operation should occur in place.  \n",
    "```python\n",
    "apple.reset_index(inplace=True)\n",
    "apple\n",
    "```\n",
    "```                     \n",
    "        date_and_time     date   time   price                      \n",
    "0 2018-02-14 09:30:00  2/14/18   9:30  163.04  \n",
    "1 2018-02-14 16:00:00  2/14/18  16:00  167.37 \n",
    "2 2018-02-15 09:30:00  2/15/18   9:30  169.79\n",
    "3 2018-02-15 16:00:00  2/15/18  16:00  172.99  \n",
    "```\n",
    "\n",
    "You can see that `date_and_time` is now a DataFrame column, and the index is now the default integer index.\n",
    "\n",
    "### Preparing the second DataFrame\n",
    "The second DataFrame we're working with is called `high_low`, and it contains the highest and lowest prices the Apple stock reached each day.\n",
    "```python\n",
    "high_low\n",
    "```\n",
    "```\n",
    "     DATE    HIGH     LOW\n",
    "0 2/14/18  167.54  162.88\n",
    "1 2/15/18  173.09  169.00\n",
    "2 2/16/18  174.82  171.77\n",
    "```\n",
    "\n",
    "We'd like to include the high data in the apple DataFrame, which we can do by merging the DataFrames. For the merge operation, we only need two columns from `high_low`: the date column, since it's the column on which the DataFrames will be joined, and the high column, since it's the column of interest. Thus, we'll create a new DataFrame called high that only includes these two columns.\n",
    "```python\n",
    "high = high[['DATE', 'HIGH']]\n",
    "```\n",
    "```\n",
    "     DATE    HIGH\n",
    "0 2/14/18  167.54\n",
    "1 2/15/18  173.09\n",
    "2 2/16/18  174.82\n",
    "```\n",
    "\n",
    "\n",
    "### Merging the DataFrames\n",
    "To merge the apple and high DataFrames, we'll use the `pd.merge()` function and save the result as `apple_high`.\n",
    "```python\n",
    "apple_high = pd.merge(left=apple, right=high,\n",
    "                      left_on='date', right_on='DATE',\n",
    "                      how='left')\n",
    "```\n",
    "\n",
    "Let's review the five arguments. \n",
    "- First, we specified the left and right DataFrames. Apple is defined as left and high is defined as right because we wanted to join the high DataFrame onto the apple DataFrame. \n",
    "- Next, we specified the columns on which to join the DataFrames. Both DataFrames have a column containing the date, but we had to specify them separately because the column name is lowercase in the left DataFrame and uppercase in the right DataFrame. \n",
    "- Finally, we specified the type of join. We used a left join in order to keep all of the rows from the left DataFrame regardless of whether there were matches in the right DataFrame.\n",
    "\n",
    "### Comparing the DataFrames\n",
    "Let's compare the merged DataFrame with the original two DataFrames. \n",
    "```python\n",
    "apple_high\n",
    "```\n",
    "```\n",
    "        date_and_time     date   time   price     DATE    HIGH                      \n",
    "0 2018-02-14 09:30:00  2/14/18   9:30  163.04  2/14/18  167.54  \n",
    "1 2018-02-14 16:00:00  2/14/18  16:00  167.37  2/14/18  167.54\n",
    "2 2018-02-15 09:30:00  2/15/18   9:30  169.79  2/15/18  173.09 \n",
    "3 2018-02-15 16:00:00  2/15/18  16:00  172.99  2/15/18  173.09 \n",
    "```\n",
    "\n",
    "The first four columns of `apple_high` are identical to `apple`. The data in the final two columns of `apple_high` came from the `high` DataFrame. Because the apple DataFrame contained two rows each from February 14 and 15, the high value of each of those dates appears twice in the `apple_high` DataFrame. But since the apple DataFrame did not contain any rows from February 16, the February 16 value from the high DataFrame was ignored.\n",
    "\n",
    "### Setting the index\n",
    "Since the merge is complete, we'll set the `date_and_time` column as the index of the `apple_high` DataFrame. \n",
    "```python\n",
    "apple_high.set_index('date_and_time', inplace=True)\n",
    "```\n",
    "```\n",
    "                        date   time   price     DATE    HIGH   \n",
    "date_and_time                     \n",
    "2018-02-14 09:30:00  2/14/18   9:30  163.04  2/14/18  167.54  \n",
    "2018-02-14 16:00:00  2/14/18  16:00  167.37  2/14/18  167.54\n",
    "2018-02-15 09:30:00  2/15/18   9:30  169.79  2/15/18  173.09 \n",
    "2018-02-15 16:00:00  2/15/18  16:00  172.99  2/15/18  173.09 \n",
    "```\n",
    "\n",
    "This replaces the default index and reduces the number of columns to five."
   ]
  },
  {
   "cell_type": "markdown",
   "id": "b376cb27-adc1-41eb-ae95-b20daef4b1d8",
   "metadata": {},
   "source": [
    "## Preparing the DataFrames\n",
    "In this exercise, you'll prepare the traffic stop and weather rating DataFrames so that they're ready to be merged:\n",
    "\n",
    "1. With the `ri` DataFrame, you'll move the `stop_datetime` index to a column since the index will be lost during the merge.\n",
    "2. With the `weather` DataFrame, you'll select the `DATE` and `rating` columns and put them in a new DataFrame."
   ]
  },
  {
   "cell_type": "markdown",
   "id": "92012855-a389-438d-abff-d52576e3283f",
   "metadata": {},
   "source": [
    "- Reset the index of the `ri` DataFrame.\n",
    "- Examine the head of `ri` to verify that `stop_datetime` is now a DataFrame column, and the index is now the default integer index."
   ]
  },
  {
   "cell_type": "code",
   "execution_count": 58,
   "id": "8577b08e-9849-449c-ab04-7fda8e42f272",
   "metadata": {},
   "outputs": [
    {
     "name": "stdout",
     "output_type": "stream",
     "text": [
      "   index       stop_datetime   stop_date stop_time driver_gender driver_race  \\\n",
      "0      0 2005-01-04 12:55:00  2005-01-04     12:55             M       White   \n",
      "1      1 2005-01-23 23:15:00  2005-01-23     23:15             M       White   \n",
      "2      2 2005-02-17 04:15:00  2005-02-17     04:15             M       White   \n",
      "3      3 2005-02-20 17:15:00  2005-02-20     17:15             M       White   \n",
      "4      4 2005-02-24 01:20:00  2005-02-24     01:20             F       White   \n",
      "\n",
      "                    violation_raw  violation  search_conducted search_type  \\\n",
      "0  Equipment/Inspection Violation  Equipment             False         NaN   \n",
      "1                        Speeding   Speeding             False         NaN   \n",
      "2                        Speeding   Speeding             False         NaN   \n",
      "3                Call for Service      Other             False         NaN   \n",
      "4                        Speeding   Speeding             False         NaN   \n",
      "\n",
      "    stop_outcome  is_arrested stop_duration  drugs_related_stop district  \\\n",
      "0       Citation        False      0-15 Min               False  Zone X4   \n",
      "1       Citation        False      0-15 Min               False  Zone K3   \n",
      "2       Citation        False      0-15 Min               False  Zone X4   \n",
      "3  Arrest Driver         True     16-30 Min               False  Zone X1   \n",
      "4       Citation        False      0-15 Min               False  Zone X3   \n",
      "\n",
      "  stop_length  \n",
      "0       short  \n",
      "1       short  \n",
      "2       short  \n",
      "3      medium  \n",
      "4       short  \n"
     ]
    }
   ],
   "source": [
    "# Reset the index of 'ri'\n",
    "ri.reset_index(inplace=True)\n",
    "\n",
    "# Examine the head of 'ri'\n",
    "print(ri.head())"
   ]
  },
  {
   "cell_type": "markdown",
   "id": "8a77e9a6-ac39-4fc3-b8fe-26409ae7d8f4",
   "metadata": {},
   "source": [
    "- Create a new DataFrame named `weather_rating` that contains only the `DATE` and `rating` columns from the `weather` DataFrame.\n",
    "- Examine the head of `weather_rating` to verify that it contains the proper columns."
   ]
  },
  {
   "cell_type": "code",
   "execution_count": 59,
   "id": "cef6d0b8-9e27-4ebf-add3-c50ba307955d",
   "metadata": {},
   "outputs": [
    {
     "name": "stdout",
     "output_type": "stream",
     "text": [
      "         DATE rating\n",
      "0  2005-01-01    bad\n",
      "1  2005-01-02    bad\n",
      "2  2005-01-03    bad\n",
      "3  2005-01-04    bad\n",
      "4  2005-01-05    bad\n"
     ]
    }
   ],
   "source": [
    "# Create a DataFrame from the 'DATE' and 'rating' columns\n",
    "weather_rating = weather[['DATE', 'rating']]\n",
    "\n",
    "# Examine the head of 'weather_rating'\n",
    "print(weather_rating.head())"
   ]
  },
  {
   "cell_type": "markdown",
   "id": "3e1b5e0d-18a3-41fb-a147-7009b61a34fa",
   "metadata": {},
   "source": [
    "*The ri and weather_rating DataFrames are now ready to be merged.*"
   ]
  },
  {
   "cell_type": "markdown",
   "id": "dbf2d041-d0c3-41a0-aede-fbc056c5872f",
   "metadata": {},
   "source": [
    "## Merging the DataFrames\n",
    "In this exercise, you'll merge the `ri` and `weather_rating` DataFrames into a new DataFrame, `ri_weather`.\n",
    "\n",
    "The DataFrames will be joined using the stop_date column from `ri` and the `DATE` column from `weather_rating`. Thankfully the date formatting matches exactly, which is not always the case.\n",
    "\n",
    "Once the merge is complete, you'll set `stop_datetime` as the index, which is the column you saved in the previous exercise."
   ]
  },
  {
   "cell_type": "markdown",
   "id": "32d425fa-a76a-4f8b-95c0-bc6139d285dd",
   "metadata": {},
   "source": [
    "- Examine the shape of the `ri` DataFrame."
   ]
  },
  {
   "cell_type": "code",
   "execution_count": 60,
   "id": "d606c066-b3df-44f2-92f3-d1411c3ef9c4",
   "metadata": {},
   "outputs": [
    {
     "name": "stdout",
     "output_type": "stream",
     "text": [
      "(86536, 16)\n"
     ]
    }
   ],
   "source": [
    "# Examine the shape of 'ri'\n",
    "print(ri.shape)"
   ]
  },
  {
   "cell_type": "markdown",
   "id": "1e999ed5-61a5-4df0-bc19-a433a6b8c85d",
   "metadata": {},
   "source": [
    "- Merge the `ri` and `weather_rating` DataFrames using a left join.\n",
    "- Examine the shape of `ri_weather` to confirm that it has two more columns but the same number of rows as `ri`.\n",
    "- Replace the index of `ri_weather` with the `stop_datetime` column."
   ]
  },
  {
   "cell_type": "code",
   "execution_count": 61,
   "id": "d767f079-5aae-4e6a-ba2d-9672e1f20bdc",
   "metadata": {},
   "outputs": [
    {
     "name": "stdout",
     "output_type": "stream",
     "text": [
      "(86536, 18)\n"
     ]
    }
   ],
   "source": [
    "# Merge 'ri' and 'weather_rating' using a left join\n",
    "ri_weather = pd.merge(left=ri, right=weather_rating, left_on='stop_date', right_on='DATE', how='left')\n",
    "\n",
    "# Examine the shape of 'ri_weather'\n",
    "print(ri_weather.shape)\n",
    "\n",
    "# Set 'stop_datetime' as the index of 'ri_weather'\n",
    "ri_weather.set_index('stop_datetime', inplace=True)"
   ]
  },
  {
   "cell_type": "markdown",
   "id": "41528cfa-07ea-4365-bc79-1e9dbd683358",
   "metadata": {},
   "source": [
    "*`ri_weather` will be used to analyze the relationship between weather conditions and police behavior.*"
   ]
  },
  {
   "cell_type": "markdown",
   "id": "2159ff2b-3930-4816-8fcc-50e656d70abc",
   "metadata": {},
   "source": [
    "---\n",
    "## Does weather affect the arrest rate?\n",
    "Now that we've merged the weather and traffic stop data, we can analyze the relationship between weather and police behavior.\n",
    "\n",
    "### Driver gender and vehicle searches\n",
    "In a previous chapter, we investigated the relationship between driver gender and vehicle searches. \n",
    "\n",
    "First, we calculated the percentage of all stops that led to a search by taking the `mean()` of the Boolean Series `search_conducted`. "
   ]
  },
  {
   "cell_type": "code",
   "execution_count": 63,
   "id": "ecea2804-1306-4752-8c9a-a2ff3d91d4af",
   "metadata": {},
   "outputs": [
    {
     "data": {
      "text/plain": [
       "0.0382153092354627"
      ]
     },
     "execution_count": 63,
     "metadata": {},
     "output_type": "execute_result"
    }
   ],
   "source": [
    "ri.search_conducted.mean()"
   ]
  },
  {
   "cell_type": "markdown",
   "id": "35606b57-e106-4fc8-8c70-82cef2f98fe4",
   "metadata": {},
   "source": [
    "This is called the search rate. \n",
    "\n",
    "Then, we compared the search rates for male and female drivers by using a `groupby()` on `driver_gender` before taking the `mean()` of search_conducted. "
   ]
  },
  {
   "cell_type": "code",
   "execution_count": 64,
   "id": "18c15937-94d5-4b43-ad2b-892606fabc2c",
   "metadata": {},
   "outputs": [
    {
     "data": {
      "text/plain": [
       "driver_gender\n",
       "F    0.019181\n",
       "M    0.045426\n",
       "Name: search_conducted, dtype: float64"
      ]
     },
     "execution_count": 64,
     "metadata": {},
     "output_type": "execute_result"
    }
   ],
   "source": [
    "ri.groupby('driver_gender').search_conducted.mean()"
   ]
  },
  {
   "cell_type": "markdown",
   "id": "ea5df9ef-e7ed-49ee-b998-e2ee0d9a5853",
   "metadata": {},
   "source": [
    "We found that male drivers are searched more than twice as often as female drivers.\n",
    "\n",
    "### Driver gender and vehicle searches\n",
    "Finally, we added violation to the `groupby()` operation. \n",
    "\n"
   ]
  },
  {
   "cell_type": "code",
   "execution_count": 65,
   "id": "fbc29fe0-5c1b-4b71-97a2-1cac89b37bd2",
   "metadata": {},
   "outputs": [
    {
     "data": {
      "text/plain": [
       "violation            driver_gender\n",
       "Equipment            F                0.039984\n",
       "                     M                0.071496\n",
       "Moving violation     F                0.039257\n",
       "                     M                0.061524\n",
       "Other                F                0.041018\n",
       "                     M                0.046191\n",
       "Registration/plates  F                0.054924\n",
       "                     M                0.108802\n",
       "Seat belt            F                0.017301\n",
       "                     M                0.035119\n",
       "Speeding             F                0.008309\n",
       "                     M                0.027885\n",
       "Name: search_conducted, dtype: float64"
      ]
     },
     "execution_count": 65,
     "metadata": {},
     "output_type": "execute_result"
    }
   ],
   "source": [
    "ri.groupby(['violation', 'driver_gender']).search_conducted.mean()"
   ]
  },
  {
   "cell_type": "markdown",
   "id": "cfe8a21c-a69d-4682-8bc2-3aea97b0f27a",
   "metadata": {},
   "source": [
    "Our hypothesis was that search rate varies by violation type, and the difference in search rate between males and females is perhaps because they tend to commit different violations. **The results disproved our hypothesis**, because the search rate is higher for males than for females across all violations. This doesn't prove a causal link between gender and vehicles searches, but it does show a correlation.\n",
    "\n",
    "### Examining a multi-indexed Series\n",
    "Let's save the results of the previous operation as new object called search_rate, and print it out again."
   ]
  },
  {
   "cell_type": "code",
   "execution_count": 66,
   "id": "1b9a7865-70e1-4c79-956a-d7310fc8549c",
   "metadata": {},
   "outputs": [
    {
     "data": {
      "text/plain": [
       "violation            driver_gender\n",
       "Equipment            F                0.039984\n",
       "                     M                0.071496\n",
       "Moving violation     F                0.039257\n",
       "                     M                0.061524\n",
       "Other                F                0.041018\n",
       "                     M                0.046191\n",
       "Registration/plates  F                0.054924\n",
       "                     M                0.108802\n",
       "Seat belt            F                0.017301\n",
       "                     M                0.035119\n",
       "Speeding             F                0.008309\n",
       "                     M                0.027885\n",
       "Name: search_conducted, dtype: float64"
      ]
     },
     "execution_count": 66,
     "metadata": {},
     "output_type": "execute_result"
    }
   ],
   "source": [
    "search_rate = ri.groupby(['violation', 'driver_gender']).search_conducted.mean()\n",
    "search_rate"
   ]
  },
  {
   "cell_type": "markdown",
   "id": "81bd3351-2ebc-4d09-812e-92d5de146d90",
   "metadata": {},
   "source": [
    " What type of object is this? It may look like a DataFrame because of its structure, but it's actually a pandas Series that has a MultiIndex."
   ]
  },
  {
   "cell_type": "code",
   "execution_count": 68,
   "id": "9372e305-cb66-49e4-80e7-04e84df3bc48",
   "metadata": {},
   "outputs": [
    {
     "data": {
      "text/plain": [
       "pandas.core.series.Series"
      ]
     },
     "execution_count": 68,
     "metadata": {},
     "output_type": "execute_result"
    }
   ],
   "source": [
    "type(search_rate)"
   ]
  },
  {
   "cell_type": "code",
   "execution_count": 69,
   "id": "bbe63edb-7afe-42cf-ac1b-9f5c819157c0",
   "metadata": {},
   "outputs": [
    {
     "data": {
      "text/plain": [
       "pandas.core.indexes.multi.MultiIndex"
      ]
     },
     "execution_count": 69,
     "metadata": {},
     "output_type": "execute_result"
    }
   ],
   "source": [
    "type(search_rate.index)"
   ]
  },
  {
   "cell_type": "markdown",
   "id": "e0976819-04dc-496e-9f6a-07c9a47aa4ae",
   "metadata": {},
   "source": [
    "`violation` and `driver_gender` are not columns, rather they're the names of the index levels. You've seen the MultiIndex before in the context of a DataFrame. With a DataFrame, which is normally two dimensions, the MultiIndex adds a third dimension. With a Series, which is normally one dimension, the MultiIndex adds a second dimension.\n",
    "\n",
    "### Working with a multi-indexed Series\n",
    "Let's print out the `search_rate` Series again."
   ]
  },
  {
   "cell_type": "code",
   "execution_count": 70,
   "id": "9822a83d-9d54-4692-94ea-3113b3ae7d89",
   "metadata": {},
   "outputs": [
    {
     "data": {
      "text/plain": [
       "violation            driver_gender\n",
       "Equipment            F                0.039984\n",
       "                     M                0.071496\n",
       "Moving violation     F                0.039257\n",
       "                     M                0.061524\n",
       "Other                F                0.041018\n",
       "                     M                0.046191\n",
       "Registration/plates  F                0.054924\n",
       "                     M                0.108802\n",
       "Seat belt            F                0.017301\n",
       "                     M                0.035119\n",
       "Speeding             F                0.008309\n",
       "                     M                0.027885\n",
       "Name: search_conducted, dtype: float64"
      ]
     },
     "execution_count": 70,
     "metadata": {},
     "output_type": "execute_result"
    }
   ],
   "source": [
    "search_rate"
   ]
  },
  {
   "cell_type": "markdown",
   "id": "a2de9a07-c0e4-489c-87d3-3a5d6ede6c94",
   "metadata": {},
   "source": [
    " Working with a multi-indexed Series is actually very similar to working with a DataFrame. You can think of the outer index level, violation, as the DataFrame rows, and the inner index level, driver_gender, as the DataFrame columns. \n",
    " \n",
    "For example, we can use the `loc` accessor to select the Equipment row. "
   ]
  },
  {
   "cell_type": "code",
   "execution_count": 71,
   "id": "d07967a8-f872-405f-b835-c1a824d06a56",
   "metadata": {},
   "outputs": [
    {
     "data": {
      "text/plain": [
       "driver_gender\n",
       "F    0.039984\n",
       "M    0.071496\n",
       "Name: search_conducted, dtype: float64"
      ]
     },
     "execution_count": 71,
     "metadata": {},
     "output_type": "execute_result"
    }
   ],
   "source": [
    "search_rate.loc['Equipment']"
   ]
  },
  {
   "cell_type": "markdown",
   "id": "a6793836-9d5e-49bb-8236-03c82ffb01d6",
   "metadata": {},
   "source": [
    "This returns the search rate by gender for equipment violations only. Or, we can specify the Equipment row and the Male column to select a particular value in the Series."
   ]
  },
  {
   "cell_type": "code",
   "execution_count": 72,
   "id": "3ed82651-20d4-405a-b6d1-6a163d389f0e",
   "metadata": {},
   "outputs": [
    {
     "data": {
      "text/plain": [
       "0.07149643705463182"
      ]
     },
     "execution_count": 72,
     "metadata": {},
     "output_type": "execute_result"
    }
   ],
   "source": [
    "search_rate.loc['Equipment', 'M']"
   ]
  },
  {
   "cell_type": "markdown",
   "id": "7345b7ab-87ea-42af-8899-5b4575207b95",
   "metadata": {},
   "source": [
    "### Converting a multi-indexed Series to a DataFrame\n",
    "You might think that if a multi-indexed Series is similar to a DataFrame, then there should be a way to convert one to the other. In fact, if you `unstack()` the search_rate Series, it actually results in a DataFrame."
   ]
  },
  {
   "cell_type": "code",
   "execution_count": 74,
   "id": "3370c09c-3bed-402f-b5c3-3c2a694c5b0e",
   "metadata": {},
   "outputs": [
    {
     "name": "stdout",
     "output_type": "stream",
     "text": [
      "driver_gender               F         M\n",
      "violation                              \n",
      "Equipment            0.039984  0.071496\n",
      "Moving violation     0.039257  0.061524\n",
      "Other                0.041018  0.046191\n",
      "Registration/plates  0.054924  0.108802\n",
      "Seat belt            0.017301  0.035119\n",
      "Speeding             0.008309  0.027885\n"
     ]
    }
   ],
   "source": [
    "print(search_rate.unstack())"
   ]
  },
  {
   "cell_type": "code",
   "execution_count": 75,
   "id": "6f8febfa-1d68-49c4-9fb0-16e7f4db100e",
   "metadata": {},
   "outputs": [
    {
     "data": {
      "text/plain": [
       "pandas.core.frame.DataFrame"
      ]
     },
     "execution_count": 75,
     "metadata": {},
     "output_type": "execute_result"
    }
   ],
   "source": [
    "type(search_rate.unstack())"
   ]
  },
  {
   "cell_type": "markdown",
   "id": "a803b391-3b90-4e43-9942-557bd75286aa",
   "metadata": {},
   "source": [
    "This is a useful technique any time you have a Series with a MultiIndex, since you're probably more comfortable manipulating a DataFrame. You might also think that there should be an easy way to create this DataFrame without using a `groupby` and an `unstack`.\n",
    "\n",
    "### Converting a multi-indexed Series to a DataFrame\n",
    "In fact, you can use a `pivot_table` to produce the exact same DataFrame. `violation` is the `index`, `driver_gender` is the `columns`, and the mean of `search_conducted` is the `values`."
   ]
  },
  {
   "cell_type": "code",
   "execution_count": 77,
   "id": "a2c4ed18-41d7-43fe-85ff-61fd8e6991ea",
   "metadata": {},
   "outputs": [
    {
     "name": "stdout",
     "output_type": "stream",
     "text": [
      "driver_gender               F         M\n",
      "violation                              \n",
      "Equipment            0.039984  0.071496\n",
      "Moving violation     0.039257  0.061524\n",
      "Other                0.041018  0.046191\n",
      "Registration/plates  0.054924  0.108802\n",
      "Seat belt            0.017301  0.035119\n",
      "Speeding             0.008309  0.027885\n"
     ]
    }
   ],
   "source": [
    "print(ri.pivot_table(index='violation', columns='driver_gender', values='search_conducted'))"
   ]
  },
  {
   "cell_type": "markdown",
   "id": "659697c5-148d-430f-9c75-de643cffebd4",
   "metadata": {},
   "source": [
    "Recall that `mean()` is the default aggregation function for a pivot table, but you can choose another function instead."
   ]
  },
  {
   "cell_type": "markdown",
   "id": "71df1da5-e1b8-437d-a387-8e2cf9bcb255",
   "metadata": {},
   "source": [
    "## Comparing arrest rates by weather rating\n",
    "Do police officers arrest drivers more often when the weather is bad? Find out below!\n",
    "\n",
    "First, you'll calculate the overall arrest rate.\n",
    "\n",
    "Then, you'll calculate the arrest rate for each of the weather ratings you previously assigned.\n",
    "\n",
    "Finally, you'll add violation type as a second factor in the analysis, to see if that accounts for any differences in the arrest rate.\n",
    "\n",
    "Since you previously defined a logical order for the weather categories, `good < bad < worse`, they will be sorted that way in the results."
   ]
  },
  {
   "cell_type": "markdown",
   "id": "242b229f-af17-4d6f-8ebe-bbba4eeb5007",
   "metadata": {},
   "source": [
    "- Calculate the overall arrest rate by taking the mean of the `is_arrested` Series."
   ]
  },
  {
   "cell_type": "code",
   "execution_count": 78,
   "id": "a0ffc8a6-aacd-4860-86c6-32f498ace6b8",
   "metadata": {},
   "outputs": [
    {
     "name": "stdout",
     "output_type": "stream",
     "text": [
      "0.0355690117407784\n"
     ]
    }
   ],
   "source": [
    "# Calculate the overall arrest rate\n",
    "print(ri_weather.is_arrested.mean())"
   ]
  },
  {
   "cell_type": "markdown",
   "id": "79de3d10-a0f7-4748-9621-0c2c1abf9e60",
   "metadata": {},
   "source": [
    "- Calculate the arrest rate for each weather `rating` using a `.groupby()`."
   ]
  },
  {
   "cell_type": "code",
   "execution_count": 79,
   "id": "d95e4cc1-ec6c-4559-aadb-66b0c4dd9a37",
   "metadata": {},
   "outputs": [
    {
     "name": "stdout",
     "output_type": "stream",
     "text": [
      "rating\n",
      "good     0.033715\n",
      "bad      0.036261\n",
      "worse    0.041667\n",
      "Name: is_arrested, dtype: float64\n"
     ]
    }
   ],
   "source": [
    "# Calculate the arrest rate for each 'rating'\n",
    "print(ri_weather.groupby('rating').is_arrested.mean())"
   ]
  },
  {
   "cell_type": "markdown",
   "id": "dffdb5aa-0e5b-455f-b28c-d470750e1d6f",
   "metadata": {},
   "source": [
    "- Calculate the arrest rate for each combination of `violation` and `rating`. How do the arrest rates differ by group?"
   ]
  },
  {
   "cell_type": "code",
   "execution_count": 80,
   "id": "35de9beb-47c3-4501-a63b-91e96a39b119",
   "metadata": {},
   "outputs": [
    {
     "name": "stdout",
     "output_type": "stream",
     "text": [
      "violation            rating\n",
      "Equipment            good      0.059007\n",
      "                     bad       0.066311\n",
      "                     worse     0.097357\n",
      "Moving violation     good      0.056227\n",
      "                     bad       0.058050\n",
      "                     worse     0.065860\n",
      "Other                good      0.076966\n",
      "                     bad       0.087443\n",
      "                     worse     0.062893\n",
      "Registration/plates  good      0.081574\n",
      "                     bad       0.098160\n",
      "                     worse     0.115625\n",
      "Seat belt            good      0.028587\n",
      "                     bad       0.022493\n",
      "                     worse     0.000000\n",
      "Speeding             good      0.013405\n",
      "                     bad       0.013314\n",
      "                     worse     0.016886\n",
      "Name: is_arrested, dtype: float64\n"
     ]
    }
   ],
   "source": [
    "# Calculate the arrest rate for each 'violation' and 'rating'\n",
    "print(ri_weather.groupby(['violation', 'rating']).is_arrested.mean())"
   ]
  },
  {
   "cell_type": "markdown",
   "id": "7e7825a9-9225-461e-9d87-3571dffa26b5",
   "metadata": {},
   "source": [
    "*The arrest rate increases as the weather gets worse, and that trend persists across many of the violation types. This doesn't prove a causal link, but it's quite an interesting result.*"
   ]
  },
  {
   "cell_type": "markdown",
   "id": "972025d6-99a0-41e9-8b49-c2ddcd9a300c",
   "metadata": {},
   "source": [
    "## Selecting from a multi-indexed Series\n",
    "The output of a single `.groupby()` operation on multiple columns is a Series with a MultiIndex. Working with this type of object is similar to working with a DataFrame:\n",
    "\n",
    "The outer index level is like the DataFrame rows.\n",
    "The inner index level is like the DataFrame columns.\n",
    "In this exercise, you'll practice accessing data from a multi-indexed Series using the `.loc[]` accessor."
   ]
  },
  {
   "cell_type": "markdown",
   "id": "f2f2ec83-36de-4cef-b02f-0a21679b2784",
   "metadata": {},
   "source": [
    "- Save the output of the `.groupby()` operation from the last exercise as a new object, `arrest_rate`.\n",
    "- Print the `arrest_rate` Series and examine it."
   ]
  },
  {
   "cell_type": "code",
   "execution_count": 81,
   "id": "4025c9f0-f9e4-453f-850b-fd2ed51930ce",
   "metadata": {},
   "outputs": [
    {
     "name": "stdout",
     "output_type": "stream",
     "text": [
      "violation            rating\n",
      "Equipment            good      0.059007\n",
      "                     bad       0.066311\n",
      "                     worse     0.097357\n",
      "Moving violation     good      0.056227\n",
      "                     bad       0.058050\n",
      "                     worse     0.065860\n",
      "Other                good      0.076966\n",
      "                     bad       0.087443\n",
      "                     worse     0.062893\n",
      "Registration/plates  good      0.081574\n",
      "                     bad       0.098160\n",
      "                     worse     0.115625\n",
      "Seat belt            good      0.028587\n",
      "                     bad       0.022493\n",
      "                     worse     0.000000\n",
      "Speeding             good      0.013405\n",
      "                     bad       0.013314\n",
      "                     worse     0.016886\n",
      "Name: is_arrested, dtype: float64\n"
     ]
    }
   ],
   "source": [
    "# Save the output of the groupby operation from the last exercise\n",
    "arrest_rate = ri_weather.groupby(['violation', 'rating']).is_arrested.mean()\n",
    "\n",
    "# Print the 'arrest_rate' Series\n",
    "print(arrest_rate)"
   ]
  },
  {
   "cell_type": "markdown",
   "id": "df79ad5a-76f8-4563-84e2-f68528644274",
   "metadata": {},
   "source": [
    "- Print the arrest rate for moving violations in bad weather."
   ]
  },
  {
   "cell_type": "code",
   "execution_count": 82,
   "id": "3350bb8e-8ba8-4a61-9edd-3c38d08cae5f",
   "metadata": {},
   "outputs": [
    {
     "name": "stdout",
     "output_type": "stream",
     "text": [
      "0.05804964058049641\n"
     ]
    }
   ],
   "source": [
    "# Print the arrest rate for moving violations in bad weather\n",
    "print(arrest_rate.loc['Moving violation', 'bad'])"
   ]
  },
  {
   "cell_type": "markdown",
   "id": "3a66496a-eafd-4c5a-9dae-4b21e58a2cd1",
   "metadata": {},
   "source": [
    "- Print the arrest rates for speeding violations in all three weather conditions."
   ]
  },
  {
   "cell_type": "code",
   "execution_count": 83,
   "id": "c5e626d2-b89b-4bc8-bf30-621280ff45a3",
   "metadata": {},
   "outputs": [
    {
     "name": "stdout",
     "output_type": "stream",
     "text": [
      "rating\n",
      "good     0.013405\n",
      "bad      0.013314\n",
      "worse    0.016886\n",
      "Name: is_arrested, dtype: float64\n"
     ]
    }
   ],
   "source": [
    "# Print the arrest rates for speeding violations in all three weather conditions\n",
    "print(arrest_rate.loc['Speeding'])"
   ]
  },
  {
   "cell_type": "markdown",
   "id": "fdc9ddb9-a333-402d-a0db-6b712ae5789a",
   "metadata": {},
   "source": [
    "## Reshaping the arrest rate data\n",
    "In this exercise, you'll start by reshaping the `arrest_rate` Series into a DataFrame. This is a useful step when working with any multi-indexed Series, since it enables you to access the full range of DataFrame methods.\n",
    "\n",
    "Then, you'll create the exact same DataFrame using a pivot table. This is a great example of how pandas often gives you more than one way to reach the same result."
   ]
  },
  {
   "cell_type": "markdown",
   "id": "033394ec-2036-41fd-a990-59153e1f901f",
   "metadata": {},
   "source": [
    "- Unstack the `arrest_rate` Series to reshape it into a DataFrame."
   ]
  },
  {
   "cell_type": "code",
   "execution_count": 85,
   "id": "df17749c-ccf8-4534-a286-70638b769459",
   "metadata": {},
   "outputs": [
    {
     "name": "stdout",
     "output_type": "stream",
     "text": [
      "rating                   good       bad     worse\n",
      "violation                                        \n",
      "Equipment            0.059007  0.066311  0.097357\n",
      "Moving violation     0.056227  0.058050  0.065860\n",
      "Other                0.076966  0.087443  0.062893\n",
      "Registration/plates  0.081574  0.098160  0.115625\n",
      "Seat belt            0.028587  0.022493  0.000000\n",
      "Speeding             0.013405  0.013314  0.016886\n"
     ]
    }
   ],
   "source": [
    "# Unstack the 'arrest_rate' Series into a DataFrame\n",
    "print(arrest_rate.unstack())"
   ]
  },
  {
   "cell_type": "markdown",
   "id": "2e1a220f-42f5-4d76-b7a8-e4d9a9e79cae",
   "metadata": {},
   "source": [
    "- Create the exact same DataFrame using a pivot table. Each of the three `.pivot_table()` parameters should be specified as one of the `ri_weather` columns."
   ]
  },
  {
   "cell_type": "code",
   "execution_count": 86,
   "id": "5feceee7-76c0-4b1d-8d4a-bde2002a818c",
   "metadata": {},
   "outputs": [
    {
     "name": "stdout",
     "output_type": "stream",
     "text": [
      "rating                   good       bad     worse\n",
      "violation                                        \n",
      "Equipment            0.059007  0.066311  0.097357\n",
      "Moving violation     0.056227  0.058050  0.065860\n",
      "Other                0.076966  0.087443  0.062893\n",
      "Registration/plates  0.081574  0.098160  0.115625\n",
      "Seat belt            0.028587  0.022493  0.000000\n",
      "Speeding             0.013405  0.013314  0.016886\n"
     ]
    }
   ],
   "source": [
    "# Create the same DataFrame using a pivot table\n",
    "print(ri_weather.pivot_table(index='violation', columns='rating', values='is_arrested'))"
   ]
  },
  {
   "cell_type": "code",
   "execution_count": 98,
   "id": "2b06745b-b80f-4c7d-9b8f-4ffc0370bb3e",
   "metadata": {},
   "outputs": [
    {
     "data": {
      "image/png": "[encoded data removed]",
      "text/plain": [
       "<Figure size 432x288 with 1 Axes>"
      ]
     },
     "metadata": {
      "needs_background": "light"
     },
     "output_type": "display_data"
    }
   ],
   "source": [
    "arrest_rate.unstack().sort_values(by='worse').plot(kind='barh')\n",
    "plt.show()"
   ]
  }
 ],
 "metadata": {
  "kernelspec": {
   "display_name": "Python 3",
   "language": "python",
   "name": "python3"
  },
  "language_info": {
   "codemirror_mode": {
    "name": "ipython",
    "version": 3
   },
   "file_extension": ".py",
   "mimetype": "text/x-python",
   "name": "python",
   "nbconvert_exporter": "python",
   "pygments_lexer": "ipython3",
   "version": "3.8.8"
  }
 },
 "nbformat": 4,
 "nbformat_minor": 5
}
