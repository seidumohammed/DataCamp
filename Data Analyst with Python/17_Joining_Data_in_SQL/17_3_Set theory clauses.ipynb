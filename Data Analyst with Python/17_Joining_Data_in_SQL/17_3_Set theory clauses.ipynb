{
 "cells": [
  {
   "cell_type": "markdown",
   "id": "658d5169-59ef-4ba2-8ac0-0b3d63c9dd86",
   "metadata": {},
   "source": [
    "# 3. Set theory clauses\n",
    "**In this chapter, you'll learn more about set theory using Venn diagrams and get an introduction to union, union all, intersect, and except clauses. You'll finish by investigating semi joins and anti joins, which provide a nice introduction to subqueries.**"
   ]
  },
  {
   "cell_type": "code",
   "execution_count": 1,
   "id": "def99674-1b24-4da7-bbd1-89d86a7dc12e",
   "metadata": {},
   "outputs": [],
   "source": [
    "%load_ext sql\n",
    "%sql sqlite://"
   ]
  },
  {
   "cell_type": "markdown",
   "id": "f7313bcf-d0a7-446d-85c5-5f3ce3932177",
   "metadata": {},
   "source": [
    "## State of the UNION\n",
    "Next are set theory clauses. We'll focus on the operations of `UNION` and `UNION ALL`. In addition to joining diagrams, in this chapter, you'll also see how Venn diagrams can be used to represent set operations. Let's begin with these Venn diagrams now.\n",
    "\n",
    "![](https://encrypted-tbn0.gstatic.com/images?q=tbn:ANd9GcTWsR4KMIchYhAmiAfrw4Tx8q_2JDYQl1aF4w&usqp=CAU)\n",
    "\n",
    "### Set Theory Venn Diagrams\n",
    "You can think of each circle as representing a table of data. The shading represents what is included in the result of the set operation from each table.\n",
    "\n",
    "- `UNION` includes every record in both tables but **DOES NOT double count** those that are in both tables. \n",
    "- `UNION ALL` includes every record in both tables and **DOES replicate** those that are in both tables. This is why the center is shaded black. \n",
    "\n",
    "The two diagrams on the bottom represent only subsets of data being selected. \n",
    "\n",
    "- `INTERSECT` results in only those records found in both of the two tables. \n",
    "- `EXCEPT` results in only those records in one table **BUT NOT** the other. \n",
    "\n",
    "Let's investigate what `UNION` looks like as a joining diagram.\n",
    "\n",
    "### UNION diagram\n",
    "You have two tables with names `left_one` and `right_one`. The \"one\" here corresponds to each table only having one field. If you run a `UNION` on these two fields you get each record appearing in either table, but notice that the id values of 1 and 4 in `right_one` are not included again in the `UNION` since they were already found in the `left_one` table.\n"
   ]
  },
  {
   "cell_type": "code",
   "execution_count": 2,
   "id": "6af4e668-7068-4337-a7df-541e46040280",
   "metadata": {},
   "outputs": [],
   "source": [
    "%sql sqlite:////Users/sj501/Documents/Jupyter/Jupyter_lab/17_Joining_Data_in_SQL/diagrams.sqlite"
   ]
  },
  {
   "cell_type": "code",
   "execution_count": 3,
   "id": "07096c30-df2f-4282-b018-89c5e382ab5e",
   "metadata": {},
   "outputs": [
    {
     "name": "stdout",
     "output_type": "stream",
     "text": [
      "   sqlite://\n",
      " * sqlite:////Users/sj501/Documents/Jupyter/Jupyter_lab/17_Joining_Data_in_SQL/diagrams.sqlite\n",
      "Done.\n"
     ]
    },
    {
     "data": {
      "text/html": [
       "<table>\n",
       "    <tr>\n",
       "        <th>id</th>\n",
       "    </tr>\n",
       "    <tr>\n",
       "        <td>1</td>\n",
       "    </tr>\n",
       "    <tr>\n",
       "        <td>2</td>\n",
       "    </tr>\n",
       "    <tr>\n",
       "        <td>3</td>\n",
       "    </tr>\n",
       "    <tr>\n",
       "        <td>4</td>\n",
       "    </tr>\n",
       "    <tr>\n",
       "        <td>1</td>\n",
       "    </tr>\n",
       "    <tr>\n",
       "        <td>4</td>\n",
       "    </tr>\n",
       "    <tr>\n",
       "        <td>5</td>\n",
       "    </tr>\n",
       "    <tr>\n",
       "        <td>6</td>\n",
       "    </tr>\n",
       "    <tr>\n",
       "        <td>1</td>\n",
       "    </tr>\n",
       "    <tr>\n",
       "        <td>2</td>\n",
       "    </tr>\n",
       "    <tr>\n",
       "        <td>3</td>\n",
       "    </tr>\n",
       "    <tr>\n",
       "        <td>A</td>\n",
       "    </tr>\n",
       "    <tr>\n",
       "        <td>B</td>\n",
       "    </tr>\n",
       "    <tr>\n",
       "        <td>C</td>\n",
       "    </tr>\n",
       "</table>"
      ],
      "text/plain": [
       "[(1,),\n",
       " (2,),\n",
       " (3,),\n",
       " (4,),\n",
       " (1,),\n",
       " (4,),\n",
       " (5,),\n",
       " (6,),\n",
       " (1,),\n",
       " (2,),\n",
       " (3,),\n",
       " ('A',),\n",
       " ('B',),\n",
       " ('C',)]"
      ]
     },
     "execution_count": 3,
     "metadata": {},
     "output_type": "execute_result"
    }
   ],
   "source": [
    "%sql SELECT * FROM left_one;"
   ]
  },
  {
   "cell_type": "code",
   "execution_count": 4,
   "id": "ef9aaff4-19af-4f67-9d2e-56b64f6380a3",
   "metadata": {},
   "outputs": [
    {
     "name": "stdout",
     "output_type": "stream",
     "text": [
      "   sqlite://\n",
      " * sqlite:////Users/sj501/Documents/Jupyter/Jupyter_lab/17_Joining_Data_in_SQL/diagrams.sqlite\n",
      "Done.\n"
     ]
    },
    {
     "data": {
      "text/html": [
       "<table>\n",
       "    <tr>\n",
       "        <th>id</th>\n",
       "        <th>val</th>\n",
       "    </tr>\n",
       "    <tr>\n",
       "        <td>1</td>\n",
       "        <td>L1</td>\n",
       "    </tr>\n",
       "    <tr>\n",
       "        <td>2</td>\n",
       "        <td>L2</td>\n",
       "    </tr>\n",
       "    <tr>\n",
       "        <td>3</td>\n",
       "        <td>L3</td>\n",
       "    </tr>\n",
       "    <tr>\n",
       "        <td>4</td>\n",
       "        <td>L4</td>\n",
       "    </tr>\n",
       "    <tr>\n",
       "        <td>1</td>\n",
       "        <td>R1</td>\n",
       "    </tr>\n",
       "    <tr>\n",
       "        <td>4</td>\n",
       "        <td>R2</td>\n",
       "    </tr>\n",
       "    <tr>\n",
       "        <td>5</td>\n",
       "        <td>R3</td>\n",
       "    </tr>\n",
       "    <tr>\n",
       "        <td>6</td>\n",
       "        <td>R4</td>\n",
       "    </tr>\n",
       "    <tr>\n",
       "        <td>1</td>\n",
       "        <td>R1</td>\n",
       "    </tr>\n",
       "    <tr>\n",
       "        <td>1</td>\n",
       "        <td>R2</td>\n",
       "    </tr>\n",
       "    <tr>\n",
       "        <td>4</td>\n",
       "        <td>R3</td>\n",
       "    </tr>\n",
       "    <tr>\n",
       "        <td>5</td>\n",
       "        <td>R4</td>\n",
       "    </tr>\n",
       "    <tr>\n",
       "        <td>6</td>\n",
       "        <td>R5</td>\n",
       "    </tr>\n",
       "</table>"
      ],
      "text/plain": [
       "[(1, 'L1'),\n",
       " (2, 'L2'),\n",
       " (3, 'L3'),\n",
       " (4, 'L4'),\n",
       " (1, 'R1'),\n",
       " (4, 'R2'),\n",
       " (5, 'R3'),\n",
       " (6, 'R4'),\n",
       " (1, 'R1'),\n",
       " (1, 'R2'),\n",
       " (4, 'R3'),\n",
       " (5, 'R4'),\n",
       " (6, 'R5')]"
      ]
     },
     "execution_count": 4,
     "metadata": {},
     "output_type": "execute_result"
    }
   ],
   "source": [
    "%sql SELECT * FROM right_one;"
   ]
  },
  {
   "cell_type": "code",
   "execution_count": 5,
   "id": "cec18177-f294-4892-9d8b-251ef32b6194",
   "metadata": {},
   "outputs": [
    {
     "name": "stdout",
     "output_type": "stream",
     "text": [
      "   sqlite://\n",
      " * sqlite:////Users/sj501/Documents/Jupyter/Jupyter_lab/17_Joining_Data_in_SQL/diagrams.sqlite\n",
      "Done.\n"
     ]
    },
    {
     "data": {
      "text/html": [
       "<table>\n",
       "    <tr>\n",
       "        <th>id</th>\n",
       "    </tr>\n",
       "    <tr>\n",
       "        <td>1</td>\n",
       "    </tr>\n",
       "    <tr>\n",
       "        <td>2</td>\n",
       "    </tr>\n",
       "    <tr>\n",
       "        <td>3</td>\n",
       "    </tr>\n",
       "    <tr>\n",
       "        <td>4</td>\n",
       "    </tr>\n",
       "    <tr>\n",
       "        <td>5</td>\n",
       "    </tr>\n",
       "    <tr>\n",
       "        <td>6</td>\n",
       "    </tr>\n",
       "    <tr>\n",
       "        <td>A</td>\n",
       "    </tr>\n",
       "    <tr>\n",
       "        <td>B</td>\n",
       "    </tr>\n",
       "    <tr>\n",
       "        <td>C</td>\n",
       "    </tr>\n",
       "</table>"
      ],
      "text/plain": [
       "[(1,), (2,), (3,), (4,), (5,), (6,), ('A',), ('B',), ('C',)]"
      ]
     },
     "execution_count": 5,
     "metadata": {},
     "output_type": "execute_result"
    }
   ],
   "source": [
    "%%sql\n",
    "SELECT id FROM left_one\n",
    "UNION\n",
    "SELECT id FROM right_one;"
   ]
  },
  {
   "cell_type": "markdown",
   "id": "1b2c519d-071b-4c90-8548-4c06933ea1eb",
   "metadata": {},
   "source": [
    "### UNION ALL diagram\n",
    "By contrast (with the same two tables `left_one` and `right_one`), `UNION ALL` includes all duplicates in its result. "
   ]
  },
  {
   "cell_type": "code",
   "execution_count": 6,
   "id": "9b6373d2-0f68-4d3d-8bae-288e6c0c2119",
   "metadata": {},
   "outputs": [
    {
     "name": "stdout",
     "output_type": "stream",
     "text": [
      "   sqlite://\n",
      " * sqlite:////Users/sj501/Documents/Jupyter/Jupyter_lab/17_Joining_Data_in_SQL/diagrams.sqlite\n",
      "Done.\n"
     ]
    },
    {
     "data": {
      "text/html": [
       "<table>\n",
       "    <tr>\n",
       "        <th>id</th>\n",
       "    </tr>\n",
       "    <tr>\n",
       "        <td>1</td>\n",
       "    </tr>\n",
       "    <tr>\n",
       "        <td>2</td>\n",
       "    </tr>\n",
       "    <tr>\n",
       "        <td>3</td>\n",
       "    </tr>\n",
       "    <tr>\n",
       "        <td>4</td>\n",
       "    </tr>\n",
       "    <tr>\n",
       "        <td>1</td>\n",
       "    </tr>\n",
       "    <tr>\n",
       "        <td>4</td>\n",
       "    </tr>\n",
       "    <tr>\n",
       "        <td>5</td>\n",
       "    </tr>\n",
       "    <tr>\n",
       "        <td>6</td>\n",
       "    </tr>\n",
       "    <tr>\n",
       "        <td>1</td>\n",
       "    </tr>\n",
       "    <tr>\n",
       "        <td>2</td>\n",
       "    </tr>\n",
       "    <tr>\n",
       "        <td>3</td>\n",
       "    </tr>\n",
       "    <tr>\n",
       "        <td>A</td>\n",
       "    </tr>\n",
       "    <tr>\n",
       "        <td>B</td>\n",
       "    </tr>\n",
       "    <tr>\n",
       "        <td>C</td>\n",
       "    </tr>\n",
       "    <tr>\n",
       "        <td>1</td>\n",
       "    </tr>\n",
       "    <tr>\n",
       "        <td>2</td>\n",
       "    </tr>\n",
       "    <tr>\n",
       "        <td>3</td>\n",
       "    </tr>\n",
       "    <tr>\n",
       "        <td>4</td>\n",
       "    </tr>\n",
       "    <tr>\n",
       "        <td>1</td>\n",
       "    </tr>\n",
       "    <tr>\n",
       "        <td>4</td>\n",
       "    </tr>\n",
       "    <tr>\n",
       "        <td>5</td>\n",
       "    </tr>\n",
       "    <tr>\n",
       "        <td>6</td>\n",
       "    </tr>\n",
       "    <tr>\n",
       "        <td>1</td>\n",
       "    </tr>\n",
       "    <tr>\n",
       "        <td>1</td>\n",
       "    </tr>\n",
       "    <tr>\n",
       "        <td>4</td>\n",
       "    </tr>\n",
       "    <tr>\n",
       "        <td>5</td>\n",
       "    </tr>\n",
       "    <tr>\n",
       "        <td>6</td>\n",
       "    </tr>\n",
       "</table>"
      ],
      "text/plain": [
       "[(1,),\n",
       " (2,),\n",
       " (3,),\n",
       " (4,),\n",
       " (1,),\n",
       " (4,),\n",
       " (5,),\n",
       " (6,),\n",
       " (1,),\n",
       " (2,),\n",
       " (3,),\n",
       " ('A',),\n",
       " ('B',),\n",
       " ('C',),\n",
       " (1,),\n",
       " (2,),\n",
       " (3,),\n",
       " (4,),\n",
       " (1,),\n",
       " (4,),\n",
       " (5,),\n",
       " (6,),\n",
       " (1,),\n",
       " (1,),\n",
       " (4,),\n",
       " (5,),\n",
       " (6,)]"
      ]
     },
     "execution_count": 6,
     "metadata": {},
     "output_type": "execute_result"
    }
   ],
   "source": [
    "%%sql\n",
    "SELECT id FROM left_one\n",
    "UNION ALL\n",
    "SELECT id FROM right_one;"
   ]
  },
  {
   "cell_type": "markdown",
   "id": "28d2f210-5fef-491d-a69f-bcc382506037",
   "metadata": {},
   "source": [
    "If it were the case that `right_one` had these same four values and also one more value of 1 for id, you'd see three entries for 1 in the resulting `UNION ALL`. Let's check out the SQL syntax using the leaders database for both `UNION` and `UNION ALL`, but first you'll see one more table in the leaders database."
   ]
  },
  {
   "cell_type": "code",
   "execution_count": 7,
   "id": "5655414d-2b69-4937-a388-f005d6c0cd83",
   "metadata": {},
   "outputs": [],
   "source": [
    "%sql sqlite:////Users/sj501/Documents/Jupyter/Jupyter_lab/17_Joining_Data_in_SQL/leaders.sqlite"
   ]
  },
  {
   "cell_type": "code",
   "execution_count": 8,
   "id": "858915cb-439f-45a7-bea0-2f36c098d0f6",
   "metadata": {},
   "outputs": [
    {
     "name": "stdout",
     "output_type": "stream",
     "text": [
      "   sqlite://\n",
      "   sqlite:////Users/sj501/Documents/Jupyter/Jupyter_lab/17_Joining_Data_in_SQL/diagrams.sqlite\n",
      " * sqlite:////Users/sj501/Documents/Jupyter/Jupyter_lab/17_Joining_Data_in_SQL/leaders.sqlite\n",
      "Done.\n"
     ]
    },
    {
     "data": {
      "text/html": [
       "<table>\n",
       "    <tr>\n",
       "        <th>country</th>\n",
       "        <th>continent</th>\n",
       "        <th>monarch</th>\n",
       "    </tr>\n",
       "    <tr>\n",
       "        <td>Brunei</td>\n",
       "        <td>Asia</td>\n",
       "        <td>Hassanal Bolkiah</td>\n",
       "    </tr>\n",
       "    <tr>\n",
       "        <td>Oman</td>\n",
       "        <td>Asia</td>\n",
       "        <td>Qaboos bin Said al Said</td>\n",
       "    </tr>\n",
       "    <tr>\n",
       "        <td>Norway</td>\n",
       "        <td>Europe</td>\n",
       "        <td>Harald V</td>\n",
       "    </tr>\n",
       "    <tr>\n",
       "        <td>Spain</td>\n",
       "        <td>Europe</td>\n",
       "        <td>Felipe VI</td>\n",
       "    </tr>\n",
       "</table>"
      ],
      "text/plain": [
       "[('Brunei', 'Asia', 'Hassanal Bolkiah'),\n",
       " ('Oman', 'Asia', 'Qaboos bin Said al Said'),\n",
       " ('Norway', 'Europe', 'Harald V'),\n",
       " ('Spain', 'Europe', 'Felipe VI')]"
      ]
     },
     "execution_count": 8,
     "metadata": {},
     "output_type": "execute_result"
    }
   ],
   "source": [
    "%%sql\n",
    "SELECT *\n",
    "FROM monarchs;"
   ]
  },
  {
   "cell_type": "markdown",
   "id": "8865492a-fb32-40b4-96cb-c787de1933f3",
   "metadata": {},
   "source": [
    "### monarchs table\n",
    "Check out the `monarchs` table in the `leaders` database that we will use in examples here. The table lists the `country`, `continent`, and the name of the `monarch` for that country. Do some of these names look familiar based on the other tables you've seen? They should! We'll come back to this.\n",
    "\n",
    "### All prime ministers and monarchs\n",
    "You can use `UNION` on the `prime_ministers` and `monarchs` table to show all of the different prime ministers and monarchs in these two tables. The `country` field is also included here for reference. Note that the `prime_minister` field has been aliased `as leader`. In fact, the resulting field from the `UNION will` have the name of leader. That's an important property of the set theory clauses you will see in this chapter. The fields included in the operation must be of the same data type since they come back as just a single field. You can't stack a number on top of a character field in other words.\n"
   ]
  },
  {
   "cell_type": "code",
   "execution_count": 9,
   "id": "d62158bc-428f-4486-b08a-459d02422505",
   "metadata": {},
   "outputs": [
    {
     "name": "stdout",
     "output_type": "stream",
     "text": [
      "   sqlite://\n",
      "   sqlite:////Users/sj501/Documents/Jupyter/Jupyter_lab/17_Joining_Data_in_SQL/diagrams.sqlite\n",
      " * sqlite:////Users/sj501/Documents/Jupyter/Jupyter_lab/17_Joining_Data_in_SQL/leaders.sqlite\n",
      "Done.\n"
     ]
    },
    {
     "data": {
      "text/html": [
       "<table>\n",
       "    <tr>\n",
       "        <th>leader</th>\n",
       "        <th>country</th>\n",
       "    </tr>\n",
       "    <tr>\n",
       "        <td>Malcolm Turnbull</td>\n",
       "        <td>Australia</td>\n",
       "    </tr>\n",
       "    <tr>\n",
       "        <td>Hassanal Bolkiah</td>\n",
       "        <td>Brunei</td>\n",
       "    </tr>\n",
       "    <tr>\n",
       "        <td>Sherif Ismail</td>\n",
       "        <td>Egypt</td>\n",
       "    </tr>\n",
       "    <tr>\n",
       "        <td>Jack Guy Lafontant</td>\n",
       "        <td>Haiti</td>\n",
       "    </tr>\n",
       "    <tr>\n",
       "        <td>Narendra Modi</td>\n",
       "        <td>India</td>\n",
       "    </tr>\n",
       "    <tr>\n",
       "        <td>Erna Solberg</td>\n",
       "        <td>Norway</td>\n",
       "    </tr>\n",
       "    <tr>\n",
       "        <td>Harald V</td>\n",
       "        <td>Norway</td>\n",
       "    </tr>\n",
       "    <tr>\n",
       "        <td>Qaboos bin Said al Said</td>\n",
       "        <td>Oman</td>\n",
       "    </tr>\n",
       "    <tr>\n",
       "        <td>Antonio Costa</td>\n",
       "        <td>Portugal</td>\n",
       "    </tr>\n",
       "    <tr>\n",
       "        <td>Felipe VI</td>\n",
       "        <td>Spain</td>\n",
       "    </tr>\n",
       "    <tr>\n",
       "        <td>Mariano Rajoy</td>\n",
       "        <td>Spain</td>\n",
       "    </tr>\n",
       "    <tr>\n",
       "        <td>Nguyen Xuan Phuc</td>\n",
       "        <td>Vietnam</td>\n",
       "    </tr>\n",
       "</table>"
      ],
      "text/plain": [
       "[('Malcolm Turnbull', 'Australia'),\n",
       " ('Hassanal Bolkiah', 'Brunei'),\n",
       " ('Sherif Ismail', 'Egypt'),\n",
       " ('Jack Guy Lafontant', 'Haiti'),\n",
       " ('Narendra Modi', 'India'),\n",
       " ('Erna Solberg', 'Norway'),\n",
       " ('Harald V', 'Norway'),\n",
       " ('Qaboos bin Said al Said', 'Oman'),\n",
       " ('Antonio Costa', 'Portugal'),\n",
       " ('Felipe VI', 'Spain'),\n",
       " ('Mariano Rajoy', 'Spain'),\n",
       " ('Nguyen Xuan Phuc', 'Vietnam')]"
      ]
     },
     "execution_count": 9,
     "metadata": {},
     "output_type": "execute_result"
    }
   ],
   "source": [
    "%%sql\n",
    "SELECT prime_minister AS leader, country\n",
    "FROM prime_ministers\n",
    "UNION\n",
    "SELECT monarch, country\n",
    "FROM monarchs\n",
    "ORDER BY country;"
   ]
  },
  {
   "cell_type": "markdown",
   "id": "4e84cdf7-eeab-4354-a2ae-40230781915c",
   "metadata": {},
   "source": [
    "### Resulting table from UNION\n",
    "Our resulting table from the `UNION` gives all the leaders and their corresponding country. Does something stand out to you here?\n",
    "\n",
    "### UNION ALL with leaders\n",
    "The countries of Brunei and Oman were listed only once in the `UNION` table. These countries have monarchs that also act as prime ministers. This can be seen in the `UNION ALL` results. You've seen"
   ]
  },
  {
   "cell_type": "code",
   "execution_count": 10,
   "id": "2157aa01-0554-4bf3-b389-1c2705495b8c",
   "metadata": {},
   "outputs": [
    {
     "name": "stdout",
     "output_type": "stream",
     "text": [
      "   sqlite://\n",
      "   sqlite:////Users/sj501/Documents/Jupyter/Jupyter_lab/17_Joining_Data_in_SQL/diagrams.sqlite\n",
      " * sqlite:////Users/sj501/Documents/Jupyter/Jupyter_lab/17_Joining_Data_in_SQL/leaders.sqlite\n",
      "Done.\n"
     ]
    },
    {
     "data": {
      "text/html": [
       "<table>\n",
       "    <tr>\n",
       "        <th>leader</th>\n",
       "        <th>country</th>\n",
       "    </tr>\n",
       "    <tr>\n",
       "        <td>Malcolm Turnbull</td>\n",
       "        <td>Australia</td>\n",
       "    </tr>\n",
       "    <tr>\n",
       "        <td>Hassanal Bolkiah</td>\n",
       "        <td>Brunei</td>\n",
       "    </tr>\n",
       "    <tr>\n",
       "        <td>Hassanal Bolkiah</td>\n",
       "        <td>Brunei</td>\n",
       "    </tr>\n",
       "    <tr>\n",
       "        <td>Sherif Ismail</td>\n",
       "        <td>Egypt</td>\n",
       "    </tr>\n",
       "    <tr>\n",
       "        <td>Jack Guy Lafontant</td>\n",
       "        <td>Haiti</td>\n",
       "    </tr>\n",
       "    <tr>\n",
       "        <td>Narendra Modi</td>\n",
       "        <td>India</td>\n",
       "    </tr>\n",
       "    <tr>\n",
       "        <td>Erna Solberg</td>\n",
       "        <td>Norway</td>\n",
       "    </tr>\n",
       "    <tr>\n",
       "        <td>Harald V</td>\n",
       "        <td>Norway</td>\n",
       "    </tr>\n",
       "    <tr>\n",
       "        <td>Qaboos bin Said al Said</td>\n",
       "        <td>Oman</td>\n",
       "    </tr>\n",
       "    <tr>\n",
       "        <td>Qaboos bin Said al Said</td>\n",
       "        <td>Oman</td>\n",
       "    </tr>\n",
       "    <tr>\n",
       "        <td>Antonio Costa</td>\n",
       "        <td>Portugal</td>\n",
       "    </tr>\n",
       "    <tr>\n",
       "        <td>Mariano Rajoy</td>\n",
       "        <td>Spain</td>\n",
       "    </tr>\n",
       "    <tr>\n",
       "        <td>Felipe VI</td>\n",
       "        <td>Spain</td>\n",
       "    </tr>\n",
       "    <tr>\n",
       "        <td>Nguyen Xuan Phuc</td>\n",
       "        <td>Vietnam</td>\n",
       "    </tr>\n",
       "</table>"
      ],
      "text/plain": [
       "[('Malcolm Turnbull', 'Australia'),\n",
       " ('Hassanal Bolkiah', 'Brunei'),\n",
       " ('Hassanal Bolkiah', 'Brunei'),\n",
       " ('Sherif Ismail', 'Egypt'),\n",
       " ('Jack Guy Lafontant', 'Haiti'),\n",
       " ('Narendra Modi', 'India'),\n",
       " ('Erna Solberg', 'Norway'),\n",
       " ('Harald V', 'Norway'),\n",
       " ('Qaboos bin Said al Said', 'Oman'),\n",
       " ('Qaboos bin Said al Said', 'Oman'),\n",
       " ('Antonio Costa', 'Portugal'),\n",
       " ('Mariano Rajoy', 'Spain'),\n",
       " ('Felipe VI', 'Spain'),\n",
       " ('Nguyen Xuan Phuc', 'Vietnam')]"
      ]
     },
     "execution_count": 10,
     "metadata": {},
     "output_type": "execute_result"
    }
   ],
   "source": [
    "%%sql\n",
    "SELECT prime_minister AS leader, country\n",
    "FROM prime_ministers\n",
    "UNION ALL\n",
    "SELECT monarch, country\n",
    "FROM monarchs\n",
    "ORDER BY country;"
   ]
  },
  {
   "cell_type": "markdown",
   "id": "101ee2b4-1397-4579-9d1c-3b7af9fd2395",
   "metadata": {},
   "source": [
    "## Union\n",
    "You have two new tables, `economies2010` and `economies2015`, available to you. The `economies` table is also included for reference."
   ]
  },
  {
   "cell_type": "code",
   "execution_count": 11,
   "id": "0a098f93-f44f-45a6-9796-c757cbfa245c",
   "metadata": {},
   "outputs": [],
   "source": [
    "%sql sqlite:////Users/sj501/Documents/Jupyter/Jupyter_lab/17_Joining_Data_in_SQL/countries.sqlite"
   ]
  },
  {
   "cell_type": "markdown",
   "id": "651b293d-934d-4c87-821d-c814f98127ef",
   "metadata": {},
   "source": [
    "- Combine the two new tables into one table containing all of the fields in `economies2010`.\n",
    "- Sort this resulting single table by country code and then by year, both in ascending order."
   ]
  },
  {
   "cell_type": "code",
   "execution_count": 12,
   "id": "6c1ffb59-9a27-46a8-9700-2daf4155daff",
   "metadata": {},
   "outputs": [
    {
     "name": "stdout",
     "output_type": "stream",
     "text": [
      "   sqlite://\n",
      " * sqlite:////Users/sj501/Documents/Jupyter/Jupyter_lab/17_Joining_Data_in_SQL/countries.sqlite\n",
      "   sqlite:////Users/sj501/Documents/Jupyter/Jupyter_lab/17_Joining_Data_in_SQL/diagrams.sqlite\n",
      "   sqlite:////Users/sj501/Documents/Jupyter/Jupyter_lab/17_Joining_Data_in_SQL/leaders.sqlite\n",
      "Done.\n"
     ]
    },
    {
     "data": {
      "text/html": [
       "<table>\n",
       "    <tr>\n",
       "        <th>code</th>\n",
       "        <th>year</th>\n",
       "        <th>income_group</th>\n",
       "        <th>gross_savings</th>\n",
       "    </tr>\n",
       "    <tr>\n",
       "        <td>AFG</td>\n",
       "        <td>2010</td>\n",
       "        <td>Low income</td>\n",
       "        <td>37.133</td>\n",
       "    </tr>\n",
       "    <tr>\n",
       "        <td>AFG</td>\n",
       "        <td>2015</td>\n",
       "        <td>Low income</td>\n",
       "        <td>21.466</td>\n",
       "    </tr>\n",
       "    <tr>\n",
       "        <td>AGO</td>\n",
       "        <td>2010</td>\n",
       "        <td>Upper middle income</td>\n",
       "        <td>23.534</td>\n",
       "    </tr>\n",
       "    <tr>\n",
       "        <td>AGO</td>\n",
       "        <td>2015</td>\n",
       "        <td>Upper middle income</td>\n",
       "        <td>-0.425</td>\n",
       "    </tr>\n",
       "    <tr>\n",
       "        <td>ALB</td>\n",
       "        <td>2010</td>\n",
       "        <td>Upper middle income</td>\n",
       "        <td>20.011</td>\n",
       "    </tr>\n",
       "    <tr>\n",
       "        <td>ALB</td>\n",
       "        <td>2015</td>\n",
       "        <td>Upper middle income</td>\n",
       "        <td>13.84</td>\n",
       "    </tr>\n",
       "    <tr>\n",
       "        <td>ARE</td>\n",
       "        <td>2010</td>\n",
       "        <td>High income</td>\n",
       "        <td>27.073</td>\n",
       "    </tr>\n",
       "    <tr>\n",
       "        <td>ARE</td>\n",
       "        <td>2015</td>\n",
       "        <td>High income</td>\n",
       "        <td>34.106</td>\n",
       "    </tr>\n",
       "    <tr>\n",
       "        <td>ARG</td>\n",
       "        <td>2010</td>\n",
       "        <td>Upper middle income</td>\n",
       "        <td>17.361</td>\n",
       "    </tr>\n",
       "    <tr>\n",
       "        <td>ARG</td>\n",
       "        <td>2015</td>\n",
       "        <td>Upper middle income</td>\n",
       "        <td>14.111</td>\n",
       "    </tr>\n",
       "</table>"
      ],
      "text/plain": [
       "[('AFG', 2010, 'Low income', 37.133),\n",
       " ('AFG', 2015, 'Low income', 21.466),\n",
       " ('AGO', 2010, 'Upper middle income', 23.534),\n",
       " ('AGO', 2015, 'Upper middle income', -0.425),\n",
       " ('ALB', 2010, 'Upper middle income', 20.011),\n",
       " ('ALB', 2015, 'Upper middle income', 13.84),\n",
       " ('ARE', 2010, 'High income', 27.073),\n",
       " ('ARE', 2015, 'High income', 34.106),\n",
       " ('ARG', 2010, 'Upper middle income', 17.361),\n",
       " ('ARG', 2015, 'Upper middle income', 14.111)]"
      ]
     },
     "execution_count": 12,
     "metadata": {},
     "output_type": "execute_result"
    }
   ],
   "source": [
    "%%sql\n",
    "SELECT * FROM economies2010\n",
    "UNION\n",
    "SELECT * FROM economies2015\n",
    "ORDER BY code, year\n",
    "LIMIT 10;"
   ]
  },
  {
   "cell_type": "markdown",
   "id": "3700af76-6cbe-48dc-bdde-a04caf9bbd19",
   "metadata": {},
   "source": [
    "```\n",
    "Showing 10 out of 380 rows\n",
    "```"
   ]
  },
  {
   "cell_type": "markdown",
   "id": "ba1f8307-2ca3-4f3b-b8c6-f26a97ca7e0d",
   "metadata": {},
   "source": [
    "## Union (2)\n",
    "`UNION` can also be used to determine all occurrences of a field across multiple tables. Try out this exercise with no starter code."
   ]
  },
  {
   "cell_type": "markdown",
   "id": "d89d316f-3314-42df-8b96-9403cffe8f0f",
   "metadata": {},
   "source": [
    "- Determine all (non-duplicated) country codes in either the `cities` or the `currencies` table. The result should be a table with only one field called `country_code`.\n",
    "- Sort by `country_code` in alphabetical order."
   ]
  },
  {
   "cell_type": "code",
   "execution_count": 13,
   "id": "127ca4b6-231c-4083-a7d9-f5e899729e88",
   "metadata": {},
   "outputs": [
    {
     "name": "stdout",
     "output_type": "stream",
     "text": [
      "   sqlite://\n",
      " * sqlite:////Users/sj501/Documents/Jupyter/Jupyter_lab/17_Joining_Data_in_SQL/countries.sqlite\n",
      "   sqlite:////Users/sj501/Documents/Jupyter/Jupyter_lab/17_Joining_Data_in_SQL/diagrams.sqlite\n",
      "   sqlite:////Users/sj501/Documents/Jupyter/Jupyter_lab/17_Joining_Data_in_SQL/leaders.sqlite\n",
      "Done.\n"
     ]
    },
    {
     "data": {
      "text/html": [
       "<table>\n",
       "    <tr>\n",
       "        <th>country_code</th>\n",
       "    </tr>\n",
       "    <tr>\n",
       "        <td>ABW</td>\n",
       "    </tr>\n",
       "    <tr>\n",
       "        <td>AFG</td>\n",
       "    </tr>\n",
       "    <tr>\n",
       "        <td>AGO</td>\n",
       "    </tr>\n",
       "    <tr>\n",
       "        <td>AIA</td>\n",
       "    </tr>\n",
       "    <tr>\n",
       "        <td>ALB</td>\n",
       "    </tr>\n",
       "    <tr>\n",
       "        <td>AND</td>\n",
       "    </tr>\n",
       "    <tr>\n",
       "        <td>ARE</td>\n",
       "    </tr>\n",
       "    <tr>\n",
       "        <td>ARG</td>\n",
       "    </tr>\n",
       "    <tr>\n",
       "        <td>ARM</td>\n",
       "    </tr>\n",
       "    <tr>\n",
       "        <td>ATG</td>\n",
       "    </tr>\n",
       "</table>"
      ],
      "text/plain": [
       "[('ABW',),\n",
       " ('AFG',),\n",
       " ('AGO',),\n",
       " ('AIA',),\n",
       " ('ALB',),\n",
       " ('AND',),\n",
       " ('ARE',),\n",
       " ('ARG',),\n",
       " ('ARM',),\n",
       " ('ATG',)]"
      ]
     },
     "execution_count": 13,
     "metadata": {},
     "output_type": "execute_result"
    }
   ],
   "source": [
    "%%sql\n",
    "SELECT country_code FROM cities\n",
    "UNION\n",
    "SELECT code FROM currencies\n",
    "ORDER BY country_code\n",
    "LIMIT 10;"
   ]
  },
  {
   "cell_type": "markdown",
   "id": "ceaafa10-7577-45cd-b766-2b62b10679cf",
   "metadata": {},
   "source": [
    "```\n",
    "Showing 10 out of 205 rows\n",
    "```"
   ]
  },
  {
   "cell_type": "markdown",
   "id": "c2457f83-49bd-4f14-9d60-d83efe99cdc9",
   "metadata": {},
   "source": [
    "## Union all\n",
    "As you saw, duplicates were removed from the previous two exercises by using `UNION`.\n",
    "\n",
    "To include duplicates, you can use `UNION ALL`."
   ]
  },
  {
   "cell_type": "markdown",
   "id": "1ad20ef1-baee-4f5a-ad29-f82b5d10c8c8",
   "metadata": {},
   "source": [
    "- Determine all combinations (include duplicates) of country code and year that exist in either the `economies` or the `populations` tables. Order by `code` then `year`.\n",
    "- The result of the query should only have two columns/fields. Think about how many records this query should result in."
   ]
  },
  {
   "cell_type": "code",
   "execution_count": 14,
   "id": "63ddc471-c69c-4101-811c-bfb1a1467714",
   "metadata": {},
   "outputs": [
    {
     "name": "stdout",
     "output_type": "stream",
     "text": [
      "   sqlite://\n",
      " * sqlite:////Users/sj501/Documents/Jupyter/Jupyter_lab/17_Joining_Data_in_SQL/countries.sqlite\n",
      "   sqlite:////Users/sj501/Documents/Jupyter/Jupyter_lab/17_Joining_Data_in_SQL/diagrams.sqlite\n",
      "   sqlite:////Users/sj501/Documents/Jupyter/Jupyter_lab/17_Joining_Data_in_SQL/leaders.sqlite\n",
      "Done.\n"
     ]
    },
    {
     "data": {
      "text/html": [
       "<table>\n",
       "    <tr>\n",
       "        <th>code</th>\n",
       "        <th>year</th>\n",
       "    </tr>\n",
       "    <tr>\n",
       "        <td>ABW</td>\n",
       "        <td>2010</td>\n",
       "    </tr>\n",
       "    <tr>\n",
       "        <td>ABW</td>\n",
       "        <td>2015</td>\n",
       "    </tr>\n",
       "    <tr>\n",
       "        <td>AFG</td>\n",
       "        <td>2010</td>\n",
       "    </tr>\n",
       "    <tr>\n",
       "        <td>AFG</td>\n",
       "        <td>2010</td>\n",
       "    </tr>\n",
       "    <tr>\n",
       "        <td>AFG</td>\n",
       "        <td>2015</td>\n",
       "    </tr>\n",
       "    <tr>\n",
       "        <td>AFG</td>\n",
       "        <td>2015</td>\n",
       "    </tr>\n",
       "    <tr>\n",
       "        <td>AGO</td>\n",
       "        <td>2010</td>\n",
       "    </tr>\n",
       "    <tr>\n",
       "        <td>AGO</td>\n",
       "        <td>2010</td>\n",
       "    </tr>\n",
       "    <tr>\n",
       "        <td>AGO</td>\n",
       "        <td>2015</td>\n",
       "    </tr>\n",
       "    <tr>\n",
       "        <td>AGO</td>\n",
       "        <td>2015</td>\n",
       "    </tr>\n",
       "</table>"
      ],
      "text/plain": [
       "[('ABW', 2010),\n",
       " ('ABW', 2015),\n",
       " ('AFG', 2010),\n",
       " ('AFG', 2010),\n",
       " ('AFG', 2015),\n",
       " ('AFG', 2015),\n",
       " ('AGO', 2010),\n",
       " ('AGO', 2010),\n",
       " ('AGO', 2015),\n",
       " ('AGO', 2015)]"
      ]
     },
     "execution_count": 14,
     "metadata": {},
     "output_type": "execute_result"
    }
   ],
   "source": [
    "%%sql\n",
    "SELECT code, year FROM economies\n",
    "UNION All\n",
    "SELECT country_code, year FROM populations\n",
    "ORDER BY code, year\n",
    "LIMIT 10;"
   ]
  },
  {
   "cell_type": "markdown",
   "id": "ffe15bc6-048c-4e2b-a9ca-279cbaa09905",
   "metadata": {},
   "source": [
    "```\n",
    "Showing 10 out of 814 rows\n",
    "```\n",
    "\n",
    "*Can you spot some duplicates in the query result?* **YES**"
   ]
  },
  {
   "cell_type": "markdown",
   "id": "236bcdb7-3706-47f1-8ea7-aa085f62439d",
   "metadata": {},
   "source": [
    "---\n",
    "## INTERSECTional data science\n",
    "You saw with `UNION` and `UNION ALL` via examples that they do not do quite the same thing as what a join does. They only bind fields on top of one another in the two tables. The set theory clause `INTERSECT` works in a similar fashion to `UNION` and `UNION ALL`, but remember from the Venn diagram that `INTERSECT` only includes those records in common to both tables and fields selected. Let's investigate the diagram for `INTERSECT` and the corresponding SQL code to achieve it.\n",
    "\n",
    "### INTERSECT diagram and SQL code\n",
    "The result of the `INTERSECT` on `left_one` and `right_one` is only the records in common to both `left_one` and `right_one`. "
   ]
  },
  {
   "cell_type": "code",
   "execution_count": 15,
   "id": "0a65b0da-1dba-400e-9fe2-9efdc19a39a5",
   "metadata": {},
   "outputs": [],
   "source": [
    "%sql sqlite:////Users/sj501/Documents/Jupyter/Jupyter_lab/17_Joining_Data_in_SQL/diagrams.sqlite"
   ]
  },
  {
   "cell_type": "code",
   "execution_count": 16,
   "id": "66cab2a5-18cd-4231-9a0b-c103106e9bb6",
   "metadata": {},
   "outputs": [
    {
     "name": "stdout",
     "output_type": "stream",
     "text": [
      "   sqlite://\n",
      "   sqlite:////Users/sj501/Documents/Jupyter/Jupyter_lab/17_Joining_Data_in_SQL/countries.sqlite\n",
      " * sqlite:////Users/sj501/Documents/Jupyter/Jupyter_lab/17_Joining_Data_in_SQL/diagrams.sqlite\n",
      "   sqlite:////Users/sj501/Documents/Jupyter/Jupyter_lab/17_Joining_Data_in_SQL/leaders.sqlite\n",
      "Done.\n"
     ]
    },
    {
     "data": {
      "text/html": [
       "<table>\n",
       "    <tr>\n",
       "        <th>id</th>\n",
       "    </tr>\n",
       "    <tr>\n",
       "        <td>1</td>\n",
       "    </tr>\n",
       "    <tr>\n",
       "        <td>2</td>\n",
       "    </tr>\n",
       "    <tr>\n",
       "        <td>3</td>\n",
       "    </tr>\n",
       "    <tr>\n",
       "        <td>4</td>\n",
       "    </tr>\n",
       "    <tr>\n",
       "        <td>5</td>\n",
       "    </tr>\n",
       "    <tr>\n",
       "        <td>6</td>\n",
       "    </tr>\n",
       "</table>"
      ],
      "text/plain": [
       "[(1,), (2,), (3,), (4,), (5,), (6,)]"
      ]
     },
     "execution_count": 16,
     "metadata": {},
     "output_type": "execute_result"
    }
   ],
   "source": [
    "%%sql\n",
    "SELECT id FROM left_one\n",
    "INTERSECT\n",
    "SELECT id FROM right_one;"
   ]
  },
  {
   "cell_type": "markdown",
   "id": "e5345506-b2f7-4e65-8d9e-5228619b16dc",
   "metadata": {},
   "source": [
    "Let's next see how you could use `INTERSECT` to determine all countries having both a prime minister and a president.\n",
    "\n",
    "### Prime minister and president countries\n",
    "The code for each of these set operations has a similar layout. You first select which fields you'd like to include in your first table, and then you specify the name of the first table. Next you specify the set operation to perform. Lastly, you denote which fields in the second table you'd like to include and then the name of the second table. The result of the query is the four countries with both a prime minister and a president in the leaders database."
   ]
  },
  {
   "cell_type": "code",
   "execution_count": 17,
   "id": "c36229b5-77ec-42ca-a27a-567c06ff5cf7",
   "metadata": {},
   "outputs": [],
   "source": [
    "%sql sqlite:////Users/sj501/Documents/Jupyter/Jupyter_lab/17_Joining_Data_in_SQL/leaders.sqlite"
   ]
  },
  {
   "cell_type": "code",
   "execution_count": 18,
   "id": "d0bc2d7a-867d-4784-993c-44da4a39b1ad",
   "metadata": {},
   "outputs": [
    {
     "name": "stdout",
     "output_type": "stream",
     "text": [
      "   sqlite://\n",
      "   sqlite:////Users/sj501/Documents/Jupyter/Jupyter_lab/17_Joining_Data_in_SQL/countries.sqlite\n",
      "   sqlite:////Users/sj501/Documents/Jupyter/Jupyter_lab/17_Joining_Data_in_SQL/diagrams.sqlite\n",
      " * sqlite:////Users/sj501/Documents/Jupyter/Jupyter_lab/17_Joining_Data_in_SQL/leaders.sqlite\n",
      "Done.\n"
     ]
    },
    {
     "data": {
      "text/html": [
       "<table>\n",
       "    <tr>\n",
       "        <th>country</th>\n",
       "    </tr>\n",
       "    <tr>\n",
       "        <td>Egypt</td>\n",
       "    </tr>\n",
       "    <tr>\n",
       "        <td>Haiti</td>\n",
       "    </tr>\n",
       "    <tr>\n",
       "        <td>Portugal</td>\n",
       "    </tr>\n",
       "    <tr>\n",
       "        <td>Vietnam</td>\n",
       "    </tr>\n",
       "</table>"
      ],
      "text/plain": [
       "[('Egypt',), ('Haiti',), ('Portugal',), ('Vietnam',)]"
      ]
     },
     "execution_count": 18,
     "metadata": {},
     "output_type": "execute_result"
    }
   ],
   "source": [
    "%%sql\n",
    "SELECT country FROM prime_ministers\n",
    "INTERSECT\n",
    "SELECT country FROM presidents;"
   ]
  },
  {
   "cell_type": "markdown",
   "id": "aa5b9586-ebce-428e-96d6-5946c35a3b76",
   "metadata": {},
   "source": [
    "### INTERSECT on two fields\n",
    "Next, let's think about what would happen if we tried to select two columns instead of one from our previous example. The code shown does just that. What will be the result of this query? Will this also give you the names of the countries that have both a prime minister and a president? "
   ]
  },
  {
   "cell_type": "code",
   "execution_count": 19,
   "id": "3e3bd117-f19a-4858-a6c4-90d53170371f",
   "metadata": {},
   "outputs": [
    {
     "name": "stdout",
     "output_type": "stream",
     "text": [
      "   sqlite://\n",
      "   sqlite:////Users/sj501/Documents/Jupyter/Jupyter_lab/17_Joining_Data_in_SQL/countries.sqlite\n",
      "   sqlite:////Users/sj501/Documents/Jupyter/Jupyter_lab/17_Joining_Data_in_SQL/diagrams.sqlite\n",
      " * sqlite:////Users/sj501/Documents/Jupyter/Jupyter_lab/17_Joining_Data_in_SQL/leaders.sqlite\n",
      "Done.\n"
     ]
    },
    {
     "data": {
      "text/html": [
       "<table>\n",
       "    <tr>\n",
       "        <th>country</th>\n",
       "        <th>leader</th>\n",
       "    </tr>\n",
       "</table>"
      ],
      "text/plain": [
       "[]"
      ]
     },
     "execution_count": 19,
     "metadata": {},
     "output_type": "execute_result"
    }
   ],
   "source": [
    "%%sql\n",
    "SELECT country, prime_minister AS leader\n",
    "FROM prime_ministers\n",
    "INTERSECT\n",
    "SELECT country, president\n",
    "FROM presidents;"
   ]
  },
  {
   "cell_type": "markdown",
   "id": "14a67696-eaf8-4bbb-80b8-f28407f041fd",
   "metadata": {},
   "source": [
    "The actual result is an empty table. Why is that? When `INTERSECT` looks at two columns it includes both columns in the search. So it didn't find any countries with prime ministers `AND` presidents having the same name. `INTERSECT` looks for RECORDS in common, not individual key fields like what a join does to match. This is an important distinction."
   ]
  },
  {
   "cell_type": "markdown",
   "id": "38568276-7a30-43a6-882d-697f18663938",
   "metadata": {},
   "source": [
    "## Intersect\n",
    "`UNION ALL` will extract all records from two tables, while `INTERSECT` will only return records that both tables have in common. In this exercise, you will create a similar query as before, however, this time you will look at the records in common for country code and year for the `economies` and `populations` tables.\n",
    "\n",
    "Note the number of records from the result of this query compared to the similar `UNION ALL` query result of 814 records."
   ]
  },
  {
   "cell_type": "markdown",
   "id": "f8d1e7f1-cc77-4f39-b653-6cc4fa4713bc",
   "metadata": {},
   "source": [
    "- Use `INTERSECT` to determine the records in common for country code and year for the `economies` and `populations` tables.\n",
    "- Again, order by `code` and then by `year`, both in ascending order."
   ]
  },
  {
   "cell_type": "code",
   "execution_count": 20,
   "id": "1fa88161-5cda-44ec-a22b-b504c18b9377",
   "metadata": {},
   "outputs": [],
   "source": [
    "%sql sqlite:////Users/sj501/Documents/Jupyter/Jupyter_lab/17_Joining_Data_in_SQL/countries.sqlite"
   ]
  },
  {
   "cell_type": "code",
   "execution_count": 21,
   "id": "39a124d6-9642-4dfc-8a90-201055b06754",
   "metadata": {
    "tags": []
   },
   "outputs": [
    {
     "name": "stdout",
     "output_type": "stream",
     "text": [
      "   sqlite://\n",
      " * sqlite:////Users/sj501/Documents/Jupyter/Jupyter_lab/17_Joining_Data_in_SQL/countries.sqlite\n",
      "   sqlite:////Users/sj501/Documents/Jupyter/Jupyter_lab/17_Joining_Data_in_SQL/diagrams.sqlite\n",
      "   sqlite:////Users/sj501/Documents/Jupyter/Jupyter_lab/17_Joining_Data_in_SQL/leaders.sqlite\n",
      "Done.\n"
     ]
    },
    {
     "data": {
      "text/html": [
       "<table>\n",
       "    <tr>\n",
       "        <th>code</th>\n",
       "        <th>year</th>\n",
       "    </tr>\n",
       "    <tr>\n",
       "        <td>AFG</td>\n",
       "        <td>2010</td>\n",
       "    </tr>\n",
       "    <tr>\n",
       "        <td>AFG</td>\n",
       "        <td>2015</td>\n",
       "    </tr>\n",
       "    <tr>\n",
       "        <td>AGO</td>\n",
       "        <td>2010</td>\n",
       "    </tr>\n",
       "    <tr>\n",
       "        <td>AGO</td>\n",
       "        <td>2015</td>\n",
       "    </tr>\n",
       "    <tr>\n",
       "        <td>ALB</td>\n",
       "        <td>2010</td>\n",
       "    </tr>\n",
       "    <tr>\n",
       "        <td>ALB</td>\n",
       "        <td>2015</td>\n",
       "    </tr>\n",
       "    <tr>\n",
       "        <td>ARE</td>\n",
       "        <td>2010</td>\n",
       "    </tr>\n",
       "    <tr>\n",
       "        <td>ARE</td>\n",
       "        <td>2015</td>\n",
       "    </tr>\n",
       "    <tr>\n",
       "        <td>ARG</td>\n",
       "        <td>2010</td>\n",
       "    </tr>\n",
       "    <tr>\n",
       "        <td>ARG</td>\n",
       "        <td>2015</td>\n",
       "    </tr>\n",
       "</table>"
      ],
      "text/plain": [
       "[('AFG', 2010),\n",
       " ('AFG', 2015),\n",
       " ('AGO', 2010),\n",
       " ('AGO', 2015),\n",
       " ('ALB', 2010),\n",
       " ('ALB', 2015),\n",
       " ('ARE', 2010),\n",
       " ('ARE', 2015),\n",
       " ('ARG', 2010),\n",
       " ('ARG', 2015)]"
      ]
     },
     "execution_count": 21,
     "metadata": {},
     "output_type": "execute_result"
    }
   ],
   "source": [
    "%%sql\n",
    "SELECT code, year FROM economies\n",
    "INTERSECT\n",
    "SELECT country_code, year FROM populations\n",
    "ORDER BY code, year\n",
    "LIMIT 10;"
   ]
  },
  {
   "cell_type": "markdown",
   "id": "c9a50442-9314-497f-b08d-031a309bad90",
   "metadata": {
    "tags": []
   },
   "source": [
    "```\n",
    "Showing 10 out of 434 rows\n",
    "```"
   ]
  },
  {
   "cell_type": "markdown",
   "id": "39091dbb-6feb-439d-b9f9-6bef929ce133",
   "metadata": {},
   "source": [
    "## Intersect (2)\n",
    "As you think about major world cities and their corresponding country, you may ask *which countries also have a city with the same name as their country name?*"
   ]
  },
  {
   "cell_type": "markdown",
   "id": "19782dfc-b43d-4d48-a582-15c8974bb03c",
   "metadata": {},
   "source": [
    "- Use `INTERSECT` to answer this question with `countries` and `cities`."
   ]
  },
  {
   "cell_type": "code",
   "execution_count": 22,
   "id": "ea82abd6-b309-4305-b159-dcc125e5f424",
   "metadata": {},
   "outputs": [
    {
     "name": "stdout",
     "output_type": "stream",
     "text": [
      "   sqlite://\n",
      " * sqlite:////Users/sj501/Documents/Jupyter/Jupyter_lab/17_Joining_Data_in_SQL/countries.sqlite\n",
      "   sqlite:////Users/sj501/Documents/Jupyter/Jupyter_lab/17_Joining_Data_in_SQL/diagrams.sqlite\n",
      "   sqlite:////Users/sj501/Documents/Jupyter/Jupyter_lab/17_Joining_Data_in_SQL/leaders.sqlite\n",
      "Done.\n"
     ]
    },
    {
     "data": {
      "text/html": [
       "<table>\n",
       "    <tr>\n",
       "        <th>country_name</th>\n",
       "    </tr>\n",
       "    <tr>\n",
       "        <td>Hong Kong</td>\n",
       "    </tr>\n",
       "    <tr>\n",
       "        <td>Singapore</td>\n",
       "    </tr>\n",
       "</table>"
      ],
      "text/plain": [
       "[('Hong Kong',), ('Singapore',)]"
      ]
     },
     "execution_count": 22,
     "metadata": {},
     "output_type": "execute_result"
    }
   ],
   "source": [
    "%%sql\n",
    "SELECT country_name FROM countries\n",
    "INTERSECT\n",
    "SELECT name FROM cities;"
   ]
  },
  {
   "cell_type": "markdown",
   "id": "c2c601a7-b3b5-49c2-a3ab-7c499791fb80",
   "metadata": {},
   "source": [
    "---\n",
    "## EXCEPTional\n",
    "You've made it to the last of the four set theory clauses in this course. `EXCEPT` allows you to include only the records that are in one table, but not the other. Let's mix things up and look into the SQL code and result first and then dive into the diagram.\n",
    "\n",
    "### Monarchs that aren't prime ministers\n",
    "You saw earlier that there are some monarchs that also act as the prime minister for their country. One way to determine those monarchs in the `monarchs` table that do not also hold the title of prime minister is to use the `EXCEPT` clause. \n",
    "\n",
    "This SQL query selects the monarch field from monarchs and then looks for common entries with the `prime_ministers` field, while also keeping track of the country for each leader."
   ]
  },
  {
   "cell_type": "code",
   "execution_count": 23,
   "id": "171149a0-3433-49cf-8423-6bd2d091c698",
   "metadata": {},
   "outputs": [],
   "source": [
    "%sql sqlite:////Users/sj501/Documents/Jupyter/Jupyter_lab/17_Joining_Data_in_SQL/leaders.sqlite"
   ]
  },
  {
   "cell_type": "code",
   "execution_count": 25,
   "id": "ca0b6556-4db1-48c7-91e2-676ff0badd2a",
   "metadata": {},
   "outputs": [
    {
     "name": "stdout",
     "output_type": "stream",
     "text": [
      "   sqlite://\n",
      "   sqlite:////Users/sj501/Documents/Jupyter/Jupyter_lab/17_Joining_Data_in_SQL/countries.sqlite\n",
      "   sqlite:////Users/sj501/Documents/Jupyter/Jupyter_lab/17_Joining_Data_in_SQL/diagrams.sqlite\n",
      " * sqlite:////Users/sj501/Documents/Jupyter/Jupyter_lab/17_Joining_Data_in_SQL/leaders.sqlite\n",
      "Done.\n"
     ]
    },
    {
     "data": {
      "text/html": [
       "<table>\n",
       "    <tr>\n",
       "        <th>monarch</th>\n",
       "        <th>country</th>\n",
       "    </tr>\n",
       "    <tr>\n",
       "        <td>Felipe VI</td>\n",
       "        <td>Spain</td>\n",
       "    </tr>\n",
       "    <tr>\n",
       "        <td>Harald V</td>\n",
       "        <td>Norway</td>\n",
       "    </tr>\n",
       "</table>"
      ],
      "text/plain": [
       "[('Felipe VI', 'Spain'), ('Harald V', 'Norway')]"
      ]
     },
     "execution_count": 25,
     "metadata": {},
     "output_type": "execute_result"
    }
   ],
   "source": [
    "%%sql\n",
    "SELECT monarch, country FROM monarchs\n",
    "EXCEPT\n",
    "SELECT prime_minister, country\n",
    "FROM prime_ministers;"
   ]
  },
  {
   "cell_type": "markdown",
   "id": "1b6c6332-42c0-4799-a3c4-39626bb4fe44",
   "metadata": {},
   "source": [
    "You can see in the resulting query that only the two European monarchs are not also prime ministers in the leaders database.\n",
    "\n",
    "### EXCEPT diagram\n",
    "This diagram gives the structure of `EXCEPT` clauses. \n",
    "\n",
    "![](https://www.sqlservertutorial.net/wp-content/uploads/SQL-Server-EXCEPT-illustration.png)\n",
    "\n",
    "Only the records that appear in the left table **BUT DO NOT** appear in the right table are included."
   ]
  },
  {
   "cell_type": "markdown",
   "id": "d071511d-b609-4339-9d4d-3b5e1a0531ae",
   "metadata": {},
   "source": [
    "## Except\n",
    "Get the names of cities in `cities` which are not noted as capital cities in `countries` as a single field result.\n",
    "\n",
    "Note that there are some countries in the world that are not included in the `countries` table, which will result in some cities not being labeled as capital cities when in fact they are."
   ]
  },
  {
   "cell_type": "markdown",
   "id": "c63cbf26-37d2-4aa4-9f51-94f820b11803",
   "metadata": {},
   "source": [
    "- Order the resulting field in ascending order.\n",
    "- Can you spot the city/cities that are actually capital cities which this query misses?"
   ]
  },
  {
   "cell_type": "code",
   "execution_count": 34,
   "id": "71de50db-b68b-476e-b0a4-9a577692d8f3",
   "metadata": {},
   "outputs": [],
   "source": [
    "%sql sqlite:////Users/sj501/Documents/Jupyter/Jupyter_lab/17_Joining_Data_in_SQL/countries.sqlite"
   ]
  },
  {
   "cell_type": "code",
   "execution_count": 27,
   "id": "db64d5ee-d63e-43c4-9ca1-82afef301703",
   "metadata": {},
   "outputs": [
    {
     "name": "stdout",
     "output_type": "stream",
     "text": [
      "   sqlite://\n",
      " * sqlite:////Users/sj501/Documents/Jupyter/Jupyter_lab/17_Joining_Data_in_SQL/countries.sqlite\n",
      "   sqlite:////Users/sj501/Documents/Jupyter/Jupyter_lab/17_Joining_Data_in_SQL/diagrams.sqlite\n",
      "   sqlite:////Users/sj501/Documents/Jupyter/Jupyter_lab/17_Joining_Data_in_SQL/leaders.sqlite\n",
      "Done.\n"
     ]
    },
    {
     "data": {
      "text/html": [
       "<table>\n",
       "    <tr>\n",
       "        <th>name</th>\n",
       "    </tr>\n",
       "    <tr>\n",
       "        <td>Abidjan</td>\n",
       "    </tr>\n",
       "    <tr>\n",
       "        <td>Ahmedabad</td>\n",
       "    </tr>\n",
       "    <tr>\n",
       "        <td>Alexandria</td>\n",
       "    </tr>\n",
       "    <tr>\n",
       "        <td>Almaty</td>\n",
       "    </tr>\n",
       "    <tr>\n",
       "        <td>Auckland</td>\n",
       "    </tr>\n",
       "    <tr>\n",
       "        <td>Bandung</td>\n",
       "    </tr>\n",
       "    <tr>\n",
       "        <td>Barcelona</td>\n",
       "    </tr>\n",
       "    <tr>\n",
       "        <td>Barranquilla</td>\n",
       "    </tr>\n",
       "    <tr>\n",
       "        <td>Basra</td>\n",
       "    </tr>\n",
       "    <tr>\n",
       "        <td>Belo Horizonte</td>\n",
       "    </tr>\n",
       "</table>"
      ],
      "text/plain": [
       "[('Abidjan',),\n",
       " ('Ahmedabad',),\n",
       " ('Alexandria',),\n",
       " ('Almaty',),\n",
       " ('Auckland',),\n",
       " ('Bandung',),\n",
       " ('Barcelona',),\n",
       " ('Barranquilla',),\n",
       " ('Basra',),\n",
       " ('Belo Horizonte',)]"
      ]
     },
     "execution_count": 27,
     "metadata": {},
     "output_type": "execute_result"
    }
   ],
   "source": [
    "%%sql\n",
    "SELECT name FROM cities\n",
    "EXCEPT\n",
    "SELECT capital FROM countries\n",
    "ORDER BY name\n",
    "LIMIT 10;"
   ]
  },
  {
   "cell_type": "markdown",
   "id": "e073f8bf-cfb3-45a6-b30d-b6981ec5d2b3",
   "metadata": {},
   "source": [
    "```\n",
    "Showing 10 out of 170 rows\n",
    "```"
   ]
  },
  {
   "cell_type": "markdown",
   "id": "2d8e94e1-4204-4621-a697-3b9b11c05bf3",
   "metadata": {},
   "source": [
    "## Except (2)\n",
    "Now you will complete the previous query in reverse!\n",
    "\n",
    "Determine the names of capital cities that are **not** listed in the `cities` table."
   ]
  },
  {
   "cell_type": "markdown",
   "id": "b6b19f64-1e73-44d3-ba55-e6cbf269f7f6",
   "metadata": {},
   "source": [
    "- Order by `capital` in ascending order.\n",
    "- The `cities` table contains information about 236 of the world's most populous cities. The result of your query may surprise you in terms of the number of capital cities that **do not** appear in this list."
   ]
  },
  {
   "cell_type": "code",
   "execution_count": 31,
   "id": "d10756b6-7afe-45cd-86c8-38c534d353bf",
   "metadata": {},
   "outputs": [
    {
     "name": "stdout",
     "output_type": "stream",
     "text": [
      "   sqlite://\n",
      " * sqlite:////Users/sj501/Documents/Jupyter/Jupyter_lab/17_Joining_Data_in_SQL/countries.sqlite\n",
      "   sqlite:////Users/sj501/Documents/Jupyter/Jupyter_lab/17_Joining_Data_in_SQL/diagrams.sqlite\n",
      "   sqlite:////Users/sj501/Documents/Jupyter/Jupyter_lab/17_Joining_Data_in_SQL/leaders.sqlite\n",
      "Done.\n"
     ]
    },
    {
     "data": {
      "text/html": [
       "<table>\n",
       "    <tr>\n",
       "        <th>capital</th>\n",
       "    </tr>\n",
       "    <tr>\n",
       "        <td>Agana</td>\n",
       "    </tr>\n",
       "    <tr>\n",
       "        <td>Amman</td>\n",
       "    </tr>\n",
       "    <tr>\n",
       "        <td>Amsterdam</td>\n",
       "    </tr>\n",
       "    <tr>\n",
       "        <td>Andorra la Vella</td>\n",
       "    </tr>\n",
       "    <tr>\n",
       "        <td>Antananarivo</td>\n",
       "    </tr>\n",
       "    <tr>\n",
       "        <td>Apia</td>\n",
       "    </tr>\n",
       "    <tr>\n",
       "        <td>Ashgabat</td>\n",
       "    </tr>\n",
       "    <tr>\n",
       "        <td>Asmara</td>\n",
       "    </tr>\n",
       "    <tr>\n",
       "        <td>Astana</td>\n",
       "    </tr>\n",
       "    <tr>\n",
       "        <td>Asuncion</td>\n",
       "    </tr>\n",
       "</table>"
      ],
      "text/plain": [
       "[('Agana',),\n",
       " ('Amman',),\n",
       " ('Amsterdam',),\n",
       " ('Andorra la Vella',),\n",
       " ('Antananarivo',),\n",
       " ('Apia',),\n",
       " ('Ashgabat',),\n",
       " ('Asmara',),\n",
       " ('Astana',),\n",
       " ('Asuncion',)]"
      ]
     },
     "execution_count": 31,
     "metadata": {},
     "output_type": "execute_result"
    }
   ],
   "source": [
    "%%sql\n",
    "SELECT capital FROM countries\n",
    "WHERE capital IS NOT NULL\n",
    "EXCEPT\n",
    "SELECT name FROM cities\n",
    "ORDER BY capital\n",
    "LIMIT 10;"
   ]
  },
  {
   "cell_type": "markdown",
   "id": "07c29490-e6bd-4dd7-85be-66085d57661e",
   "metadata": {},
   "source": [
    "---\n",
    "## Semi-joins and Anti-joins\n",
    " The six joins you've worked with so far are all additive joins in that they add columns to the original \"left\" table. The name of all six: 1. INNER JOIN, 2. self-join, 3. LEFT JOIN, 4. RIGHT JOIN, 5. FULL JOIN, and 6. CROSS JOIN.\n",
    "\n",
    "### Building up to a semi-join\n",
    "The last two joins we will cover use a right table to determine which records to keep in the left table. In other words, you use these last two joins (semi-join and anti-join) in a way similar to a `WHERE` clause dependent on the values of a second table. Let's try out some examples of semi-joins and anti-joins and then return to the diagrams for each. Suppose that you are interested in determining the presidents of countries that gained independence before 1800. Let's first determine which countries this corresponds to in the states table."
   ]
  },
  {
   "cell_type": "code",
   "execution_count": 37,
   "id": "32dc388f-6002-4dae-b19b-90b8d0f1c1fa",
   "metadata": {},
   "outputs": [],
   "source": [
    "%sql sqlite:////Users/sj501/Documents/Jupyter/Jupyter_lab/17_Joining_Data_in_SQL/leaders.sqlite"
   ]
  },
  {
   "cell_type": "code",
   "execution_count": 38,
   "id": "54237db6-ae88-4bb4-8cca-f6e1c2f893f6",
   "metadata": {},
   "outputs": [
    {
     "name": "stdout",
     "output_type": "stream",
     "text": [
      "   sqlite://\n",
      "   sqlite:////Users/sj501/Documents/Jupyter/Jupyter_lab/17_Joining_Data_in_SQL/countries.sqlite\n",
      "   sqlite:////Users/sj501/Documents/Jupyter/Jupyter_lab/17_Joining_Data_in_SQL/diagrams.sqlite\n",
      " * sqlite:////Users/sj501/Documents/Jupyter/Jupyter_lab/17_Joining_Data_in_SQL/leaders.sqlite\n",
      "Done.\n"
     ]
    },
    {
     "data": {
      "text/html": [
       "<table>\n",
       "    <tr>\n",
       "        <th>name</th>\n",
       "    </tr>\n",
       "    <tr>\n",
       "        <td>Portugal</td>\n",
       "    </tr>\n",
       "    <tr>\n",
       "        <td>Spain</td>\n",
       "    </tr>\n",
       "</table>"
      ],
      "text/plain": [
       "[('Portugal',), ('Spain',)]"
      ]
     },
     "execution_count": 38,
     "metadata": {},
     "output_type": "execute_result"
    }
   ],
   "source": [
    "%%sql\n",
    "SELECT name\n",
    "FROM states\n",
    "WHERE indep_year < 1800;"
   ]
  },
  {
   "cell_type": "markdown",
   "id": "7178f238-31bd-4b8f-a6ef-f540c2ad3006",
   "metadata": {},
   "source": [
    "Recall from your knowledge of SQL before you knew anything about `JOIN`s how this could be done. To get only the countries meeting this condition you can use the `WHERE` clause. \n",
    "\n",
    "### Another step towards the semi-join\n",
    "We'll next set up the other part of the query to get the presidents we want. What code is needed to retrieve the `president`, `country`, and `continent` columns from the `presidents` table in that order?\n"
   ]
  },
  {
   "cell_type": "code",
   "execution_count": 39,
   "id": "920c9fd2-2cf7-4855-84cf-78039d0abe50",
   "metadata": {},
   "outputs": [
    {
     "name": "stdout",
     "output_type": "stream",
     "text": [
      "   sqlite://\n",
      "   sqlite:////Users/sj501/Documents/Jupyter/Jupyter_lab/17_Joining_Data_in_SQL/countries.sqlite\n",
      "   sqlite:////Users/sj501/Documents/Jupyter/Jupyter_lab/17_Joining_Data_in_SQL/diagrams.sqlite\n",
      " * sqlite:////Users/sj501/Documents/Jupyter/Jupyter_lab/17_Joining_Data_in_SQL/leaders.sqlite\n",
      "Done.\n"
     ]
    },
    {
     "data": {
      "text/html": [
       "<table>\n",
       "    <tr>\n",
       "        <th>president</th>\n",
       "        <th>country</th>\n",
       "        <th>continent</th>\n",
       "    </tr>\n",
       "    <tr>\n",
       "        <td>Abdel Fattah el-Sisi</td>\n",
       "        <td>Egypt</td>\n",
       "        <td>Africa</td>\n",
       "    </tr>\n",
       "    <tr>\n",
       "        <td>Marcelo Rebelo de Sousa</td>\n",
       "        <td>Portugal</td>\n",
       "        <td>Europe</td>\n",
       "    </tr>\n",
       "    <tr>\n",
       "        <td>Jovenel Moise</td>\n",
       "        <td>Haiti</td>\n",
       "        <td>North America</td>\n",
       "    </tr>\n",
       "    <tr>\n",
       "        <td>Jose Mujica</td>\n",
       "        <td>Uruguay</td>\n",
       "        <td>South America</td>\n",
       "    </tr>\n",
       "    <tr>\n",
       "        <td>Ellen Johnson Sirleaf</td>\n",
       "        <td>Liberia</td>\n",
       "        <td>Africa</td>\n",
       "    </tr>\n",
       "    <tr>\n",
       "        <td>Michelle Bachelet</td>\n",
       "        <td>Chile</td>\n",
       "        <td>South America</td>\n",
       "    </tr>\n",
       "    <tr>\n",
       "        <td>Tran Dai Quang</td>\n",
       "        <td>Vietnam</td>\n",
       "        <td>Asia</td>\n",
       "    </tr>\n",
       "</table>"
      ],
      "text/plain": [
       "[('Abdel Fattah el-Sisi', 'Egypt', 'Africa'),\n",
       " ('Marcelo Rebelo de Sousa', 'Portugal', 'Europe'),\n",
       " ('Jovenel Moise', 'Haiti', 'North America'),\n",
       " ('Jose Mujica', 'Uruguay', 'South America'),\n",
       " ('Ellen Johnson Sirleaf', 'Liberia', 'Africa'),\n",
       " ('Michelle Bachelet', 'Chile', 'South America'),\n",
       " ('Tran Dai Quang', 'Vietnam', 'Asia')]"
      ]
     },
     "execution_count": 39,
     "metadata": {},
     "output_type": "execute_result"
    }
   ],
   "source": [
    "%%sql\n",
    "SELECT president, country, continent\n",
    "FROM presidents"
   ]
  },
  {
   "cell_type": "markdown",
   "id": "ee0f3d69-2ffb-4fbf-87d2-64269fd0d2cc",
   "metadata": {},
   "source": [
    "Now we need to use this result with the one in the previous slide to further filter the country field in the presidents table to give us the correct result. Let's see how this might be done next.\n",
    "\n",
    "### Finish the semi-join (an intro to subqueries)\n",
    "In the first query of this example, we determined that Portugal and Spain were both independent before 1800. In the second query, we determined how to display the table in a nice form to answer our question. In order to combine the two tables together we will again use a `WHERE` clause and then use the first query as the condition to check in the `WHERE` clause. Check it out.\n"
   ]
  },
  {
   "cell_type": "code",
   "execution_count": 40,
   "id": "eccd4fc4-e90f-47be-8a5b-05b6b44f3a52",
   "metadata": {},
   "outputs": [
    {
     "name": "stdout",
     "output_type": "stream",
     "text": [
      "   sqlite://\n",
      "   sqlite:////Users/sj501/Documents/Jupyter/Jupyter_lab/17_Joining_Data_in_SQL/countries.sqlite\n",
      "   sqlite:////Users/sj501/Documents/Jupyter/Jupyter_lab/17_Joining_Data_in_SQL/diagrams.sqlite\n",
      " * sqlite:////Users/sj501/Documents/Jupyter/Jupyter_lab/17_Joining_Data_in_SQL/leaders.sqlite\n",
      "Done.\n"
     ]
    },
    {
     "data": {
      "text/html": [
       "<table>\n",
       "    <tr>\n",
       "        <th>president</th>\n",
       "        <th>country</th>\n",
       "        <th>continent</th>\n",
       "    </tr>\n",
       "    <tr>\n",
       "        <td>Marcelo Rebelo de Sousa</td>\n",
       "        <td>Portugal</td>\n",
       "        <td>Europe</td>\n",
       "    </tr>\n",
       "</table>"
      ],
      "text/plain": [
       "[('Marcelo Rebelo de Sousa', 'Portugal', 'Europe')]"
      ]
     },
     "execution_count": 40,
     "metadata": {},
     "output_type": "execute_result"
    }
   ],
   "source": [
    "%%sql\n",
    "SELECT president, country, continent\n",
    "FROM presidents\n",
    "WHERE country IN\n",
    "    (SELECT name\n",
    "    FROM states\n",
    "    WHERE indep_year < 1800);"
   ]
  },
  {
   "cell_type": "markdown",
   "id": "8beadc55-2356-4e49-beb5-3b7b38106a87",
   "metadata": {},
   "source": [
    "This is your first example of a subquery: a query that sits inside of another query. \n",
    "\n",
    "What does this give as a result? Is it the presidents of Spain and of Portugal? Since Spain does not have a president, it is not included here and only the Portuguese president is listed. The semi-join chooses records in the first table where a condition **IS** met in a second table. An anti-join chooses records in the first table where a condition **IS NOT** met in the second table. How might you determine countries in the Americas founded after 1800?\n",
    "\n",
    "### An anti-join\n",
    "```sql\n",
    "SELECT president, country, continent\n",
    "FROM presidents\n",
    "WHERE ___ LIKE '___'\n",
    "    AND country ___ IN\n",
    "        (SELECT name\n",
    "         FROM states\n",
    "         WHERE indep_year < 1800);\n",
    "```\n",
    "Using the code from the previous example, you only need to add a few pieces of code. So what goes in the blanks? \n",
    "\n",
    "Fill in the `WHERE` clause by choosing only those continents ending in America and then fill in the other space with a **NOT** to exclude those countries in the subquery. ### The result of the anti-join\n",
    "The presidents of countries in the Americas founded after 1800 are given in the table.\n",
    "\n",
    "### Semi-join and anti-join diagrams\n",
    "The semi-join matches records by key field in the right table with those in the left. It then picks out only the rows in the left table that match that condition. The anti-join picks out those columns in the left table that do not match the condition on the right table. Semi-joins and anti-joins don't have the same built-in SQL syntax that INNER JOIN and LEFT JOIN have. They are useful tools in filtering one table's records on the records of another table."
   ]
  },
  {
   "cell_type": "code",
   "execution_count": 42,
   "id": "905a881b-4e66-48da-b5f8-27824cfbd505",
   "metadata": {},
   "outputs": [
    {
     "name": "stdout",
     "output_type": "stream",
     "text": [
      "   sqlite://\n",
      "   sqlite:////Users/sj501/Documents/Jupyter/Jupyter_lab/17_Joining_Data_in_SQL/countries.sqlite\n",
      "   sqlite:////Users/sj501/Documents/Jupyter/Jupyter_lab/17_Joining_Data_in_SQL/diagrams.sqlite\n",
      " * sqlite:////Users/sj501/Documents/Jupyter/Jupyter_lab/17_Joining_Data_in_SQL/leaders.sqlite\n",
      "Done.\n"
     ]
    },
    {
     "data": {
      "text/html": [
       "<table>\n",
       "    <tr>\n",
       "        <th>president</th>\n",
       "        <th>country</th>\n",
       "        <th>continent</th>\n",
       "    </tr>\n",
       "    <tr>\n",
       "        <td>Jovenel Moise</td>\n",
       "        <td>Haiti</td>\n",
       "        <td>North America</td>\n",
       "    </tr>\n",
       "    <tr>\n",
       "        <td>Jose Mujica</td>\n",
       "        <td>Uruguay</td>\n",
       "        <td>South America</td>\n",
       "    </tr>\n",
       "    <tr>\n",
       "        <td>Michelle Bachelet</td>\n",
       "        <td>Chile</td>\n",
       "        <td>South America</td>\n",
       "    </tr>\n",
       "</table>"
      ],
      "text/plain": [
       "[('Jovenel Moise', 'Haiti', 'North America'),\n",
       " ('Jose Mujica', 'Uruguay', 'South America'),\n",
       " ('Michelle Bachelet', 'Chile', 'South America')]"
      ]
     },
     "execution_count": 42,
     "metadata": {},
     "output_type": "execute_result"
    }
   ],
   "source": [
    "%%sql\n",
    "SELECT president, country, continent\n",
    "FROM presidents\n",
    "WHERE continent LIKE '%America'\n",
    "    AND country NOT IN\n",
    "        (SELECT name\n",
    "         FROM states\n",
    "         WHERE indep_year < 1800);"
   ]
  },
  {
   "cell_type": "markdown",
   "id": "409b2785-8824-4ff8-9886-93b2719f0e87",
   "metadata": {},
   "source": [
    "### The result of the anti-join\n",
    "The presidents of countries in the Americas founded after 1800 are given in the table.\n",
    "\n",
    "### Semi-join and anti-join diagrams\n",
    "![](https://encrypted-tbn0.gstatic.com/images?q=tbn:ANd9GcTWMJdmwvrnjUtkAUD-ZAGFgByMyalJp5odvA&usqp=CAU)\n",
    "\n",
    "The semi-join matches records by key field in the right table with those in the left. It then picks out only the rows in the left table that match that condition. The anti-join picks out those columns in the left table that do not match the condition on the right table. Semi-joins and anti-joins don't have the same built-in SQL syntax that `INNER JOIN` and `LEFT JOIN` have. They are useful tools in filtering one table's records on the records of another table."
   ]
  },
  {
   "cell_type": "markdown",
   "id": "b98f04c3-447a-41b1-bfcc-d0d1d20e19eb",
   "metadata": {},
   "source": [
    "## Semi-join\n",
    "You are now going to use the concept of a semi-join to identify languages spoken in the Middle East."
   ]
  },
  {
   "cell_type": "markdown",
   "id": "7492120e-0dac-43e6-aa0a-8017450a1d89",
   "metadata": {},
   "source": [
    "- Begin by selecting all country codes in the Middle East as a single field result using `SELECT`, `FROM`, and `WHERE`."
   ]
  },
  {
   "cell_type": "code",
   "execution_count": 44,
   "id": "d2300666-8e60-4f97-be76-54ea5b721227",
   "metadata": {},
   "outputs": [],
   "source": [
    "%sql sqlite:////Users/sj501/Documents/Jupyter/Jupyter_lab/17_Joining_Data_in_SQL/countries.sqlite"
   ]
  },
  {
   "cell_type": "code",
   "execution_count": 45,
   "id": "337a839b-ae65-4b44-b281-40f477093a7f",
   "metadata": {},
   "outputs": [
    {
     "name": "stdout",
     "output_type": "stream",
     "text": [
      "   sqlite://\n",
      " * sqlite:////Users/sj501/Documents/Jupyter/Jupyter_lab/17_Joining_Data_in_SQL/countries.sqlite\n",
      "   sqlite:////Users/sj501/Documents/Jupyter/Jupyter_lab/17_Joining_Data_in_SQL/diagrams.sqlite\n",
      "   sqlite:////Users/sj501/Documents/Jupyter/Jupyter_lab/17_Joining_Data_in_SQL/leaders.sqlite\n",
      "Done.\n"
     ]
    },
    {
     "data": {
      "text/html": [
       "<table>\n",
       "    <tr>\n",
       "        <th>code</th>\n",
       "    </tr>\n",
       "    <tr>\n",
       "        <td>ARE</td>\n",
       "    </tr>\n",
       "    <tr>\n",
       "        <td>ARM</td>\n",
       "    </tr>\n",
       "    <tr>\n",
       "        <td>AZE</td>\n",
       "    </tr>\n",
       "    <tr>\n",
       "        <td>BHR</td>\n",
       "    </tr>\n",
       "    <tr>\n",
       "        <td>GEO</td>\n",
       "    </tr>\n",
       "    <tr>\n",
       "        <td>IRQ</td>\n",
       "    </tr>\n",
       "    <tr>\n",
       "        <td>ISR</td>\n",
       "    </tr>\n",
       "    <tr>\n",
       "        <td>YEM</td>\n",
       "    </tr>\n",
       "    <tr>\n",
       "        <td>JOR</td>\n",
       "    </tr>\n",
       "    <tr>\n",
       "        <td>KWT</td>\n",
       "    </tr>\n",
       "    <tr>\n",
       "        <td>CYP</td>\n",
       "    </tr>\n",
       "    <tr>\n",
       "        <td>LBN</td>\n",
       "    </tr>\n",
       "    <tr>\n",
       "        <td>OMN</td>\n",
       "    </tr>\n",
       "    <tr>\n",
       "        <td>QAT</td>\n",
       "    </tr>\n",
       "    <tr>\n",
       "        <td>SAU</td>\n",
       "    </tr>\n",
       "    <tr>\n",
       "        <td>SYR</td>\n",
       "    </tr>\n",
       "    <tr>\n",
       "        <td>TUR</td>\n",
       "    </tr>\n",
       "    <tr>\n",
       "        <td>PSE</td>\n",
       "    </tr>\n",
       "</table>"
      ],
      "text/plain": [
       "[('ARE',),\n",
       " ('ARM',),\n",
       " ('AZE',),\n",
       " ('BHR',),\n",
       " ('GEO',),\n",
       " ('IRQ',),\n",
       " ('ISR',),\n",
       " ('YEM',),\n",
       " ('JOR',),\n",
       " ('KWT',),\n",
       " ('CYP',),\n",
       " ('LBN',),\n",
       " ('OMN',),\n",
       " ('QAT',),\n",
       " ('SAU',),\n",
       " ('SYR',),\n",
       " ('TUR',),\n",
       " ('PSE',)]"
      ]
     },
     "execution_count": 45,
     "metadata": {},
     "output_type": "execute_result"
    }
   ],
   "source": [
    "%%sql\n",
    "SELECT code FROM countries\n",
    "WHERE region = 'Middle East';"
   ]
  },
  {
   "cell_type": "markdown",
   "id": "a111ae05-877b-4671-af6e-1750b7b7db10",
   "metadata": {},
   "source": [
    "- Select only unique languages by name appearing in the `languages` table.\n",
    "- Order the resulting single field table by `name` in ascending order."
   ]
  },
  {
   "cell_type": "code",
   "execution_count": 47,
   "id": "bbcb0b9b-3cd8-4e8b-aa4b-c7e5d1836a31",
   "metadata": {},
   "outputs": [
    {
     "name": "stdout",
     "output_type": "stream",
     "text": [
      "   sqlite://\n",
      " * sqlite:////Users/sj501/Documents/Jupyter/Jupyter_lab/17_Joining_Data_in_SQL/countries.sqlite\n",
      "   sqlite:////Users/sj501/Documents/Jupyter/Jupyter_lab/17_Joining_Data_in_SQL/diagrams.sqlite\n",
      "   sqlite:////Users/sj501/Documents/Jupyter/Jupyter_lab/17_Joining_Data_in_SQL/leaders.sqlite\n",
      "Done.\n"
     ]
    },
    {
     "data": {
      "text/html": [
       "<table>\n",
       "    <tr>\n",
       "        <th>name</th>\n",
       "    </tr>\n",
       "    <tr>\n",
       "        <td>Afar</td>\n",
       "    </tr>\n",
       "    <tr>\n",
       "        <td>Afrikaans</td>\n",
       "    </tr>\n",
       "    <tr>\n",
       "        <td>Akyem</td>\n",
       "    </tr>\n",
       "    <tr>\n",
       "        <td>Albanian</td>\n",
       "    </tr>\n",
       "    <tr>\n",
       "        <td>Alsatian</td>\n",
       "    </tr>\n",
       "    <tr>\n",
       "        <td>Amerindian</td>\n",
       "    </tr>\n",
       "    <tr>\n",
       "        <td>Amharic</td>\n",
       "    </tr>\n",
       "    <tr>\n",
       "        <td>Angolar</td>\n",
       "    </tr>\n",
       "    <tr>\n",
       "        <td>Antiguan creole</td>\n",
       "    </tr>\n",
       "    <tr>\n",
       "        <td>Arabic</td>\n",
       "    </tr>\n",
       "</table>"
      ],
      "text/plain": [
       "[('Afar',),\n",
       " ('Afrikaans',),\n",
       " ('Akyem',),\n",
       " ('Albanian',),\n",
       " ('Alsatian',),\n",
       " ('Amerindian',),\n",
       " ('Amharic',),\n",
       " ('Angolar',),\n",
       " ('Antiguan creole',),\n",
       " ('Arabic',)]"
      ]
     },
     "execution_count": 47,
     "metadata": {},
     "output_type": "execute_result"
    }
   ],
   "source": [
    "%%sql\n",
    "SELECT DISTINCT name\n",
    "FROM languages\n",
    "ORDER BY name\n",
    "LIMIT 10;"
   ]
  },
  {
   "cell_type": "markdown",
   "id": "966aa21d-ad07-42f0-b386-2ffca47f872a",
   "metadata": {},
   "source": [
    "```\n",
    "Showing 10 out of 396 rows\n",
    "```"
   ]
  },
  {
   "cell_type": "markdown",
   "id": "7edc721a-872f-428f-8d9f-de21d2d57c06",
   "metadata": {},
   "source": [
    "- Combine the previous two queries into one query by adding a `WHERE IN` statement to the `SELECT DISTINCT` query to determine the unique languages spoken in the Middle East.\n",
    "- Order the result by `name` in ascending order."
   ]
  },
  {
   "cell_type": "code",
   "execution_count": 49,
   "id": "2ce2790e-bf3e-4e2a-9977-1a60e1e05709",
   "metadata": {},
   "outputs": [
    {
     "name": "stdout",
     "output_type": "stream",
     "text": [
      "   sqlite://\n",
      " * sqlite:////Users/sj501/Documents/Jupyter/Jupyter_lab/17_Joining_Data_in_SQL/countries.sqlite\n",
      "   sqlite:////Users/sj501/Documents/Jupyter/Jupyter_lab/17_Joining_Data_in_SQL/diagrams.sqlite\n",
      "   sqlite:////Users/sj501/Documents/Jupyter/Jupyter_lab/17_Joining_Data_in_SQL/leaders.sqlite\n",
      "Done.\n"
     ]
    },
    {
     "data": {
      "text/html": [
       "<table>\n",
       "    <tr>\n",
       "        <th>name</th>\n",
       "    </tr>\n",
       "    <tr>\n",
       "        <td>Arabic</td>\n",
       "    </tr>\n",
       "    <tr>\n",
       "        <td>Aramaic</td>\n",
       "    </tr>\n",
       "    <tr>\n",
       "        <td>Armenian</td>\n",
       "    </tr>\n",
       "    <tr>\n",
       "        <td>Azerbaijani</td>\n",
       "    </tr>\n",
       "    <tr>\n",
       "        <td>Azeri</td>\n",
       "    </tr>\n",
       "    <tr>\n",
       "        <td>Baluchi</td>\n",
       "    </tr>\n",
       "    <tr>\n",
       "        <td>Bulgarian</td>\n",
       "    </tr>\n",
       "    <tr>\n",
       "        <td>Circassian</td>\n",
       "    </tr>\n",
       "    <tr>\n",
       "        <td>English</td>\n",
       "    </tr>\n",
       "    <tr>\n",
       "        <td>Farsi</td>\n",
       "    </tr>\n",
       "</table>"
      ],
      "text/plain": [
       "[('Arabic',),\n",
       " ('Aramaic',),\n",
       " ('Armenian',),\n",
       " ('Azerbaijani',),\n",
       " ('Azeri',),\n",
       " ('Baluchi',),\n",
       " ('Bulgarian',),\n",
       " ('Circassian',),\n",
       " ('English',),\n",
       " ('Farsi',)]"
      ]
     },
     "execution_count": 49,
     "metadata": {},
     "output_type": "execute_result"
    }
   ],
   "source": [
    "%%sql\n",
    "SELECT DISTINCT name\n",
    "FROM languages\n",
    "WHERE code IN\n",
    "    (SELECT code\n",
    "    FROM countries\n",
    "    WHERE region = 'Middle East')\n",
    "ORDER BY name\n",
    "LIMIT 10;"
   ]
  },
  {
   "cell_type": "markdown",
   "id": "ae4778a1-e38b-4bed-a4c3-e343bc07c11a",
   "metadata": {},
   "source": [
    "```\n",
    "Showing 10 out of 27 rows\n",
    "```"
   ]
  },
  {
   "cell_type": "markdown",
   "id": "40b3e615-a26f-4edd-98b2-83407df42e59",
   "metadata": {},
   "source": [
    "## Relating semi-join to a tweaked inner join\n",
    "Let's revisit the code from the previous exercise, which retrieves languages spoken in the Middle East.\n",
    "```sql\n",
    "SELECT DISTINCT name\n",
    "FROM languages\n",
    "WHERE code IN\n",
    "  (SELECT code\n",
    "   FROM countries\n",
    "   WHERE region = 'Middle East')\n",
    "ORDER BY name;\n",
    "```\n",
    "Sometimes problems solved with semi-joins can also be solved using an inner join.\n",
    "```sql\n",
    "SELECT languages.name AS language\n",
    "FROM languages\n",
    "INNER JOIN countries\n",
    "ON languages.code = countries.code\n",
    "WHERE region = 'Middle East'\n",
    "ORDER BY language;\n",
    "```\n",
    "This inner join isn't quite right. \n",
    "\n",
    "What is missing from this second code block to get it to match with the correct answer produced by the first block?\n",
    "\n",
    "1. ~`HAVING` instead of `WHERE`~\n",
    "2. **`DISTINCT`**\n",
    "3. ~`UNIQUE`~\n",
    "\n",
    "**Answer: 2** *There's no use on retrieving 'Arabic' multiple times; you only care about* `DISTINCT` *languages here.*\n",
    "\n",
    "```sql\n",
    "SELECT DISTINCT languages.name AS language\n",
    "FROM languages\n",
    "INNER JOIN countries\n",
    "ON languages.code = countries.code\n",
    "WHERE region = 'Middle East'\n",
    "ORDER BY language;\n",
    "```"
   ]
  },
  {
   "cell_type": "markdown",
   "id": "f0c10d69-c9cd-4960-8e0a-9b74f6d9c12c",
   "metadata": {},
   "source": [
    "## Diagnosing problems using anti-join\n",
    "Another powerful join in SQL is the anti-join. It is particularly useful in identifying which records are causing an incorrect number of records to appear in join queries.\n",
    "\n",
    "You will also see another example of a subquery here, as you saw in the first exercise on semi-joins. Your goal is to identify the currencies used in Oceanian countries!"
   ]
  },
  {
   "cell_type": "markdown",
   "id": "4c24d7bb-42cb-420a-83ab-1e044759dfdd",
   "metadata": {},
   "source": [
    "- Begin by determining the number of countries in `countries` that are listed in Oceania using `SELECT`, `FROM`, and `WHERE`."
   ]
  },
  {
   "cell_type": "code",
   "execution_count": 51,
   "id": "e5d621ef-e732-4a03-91a5-c9de65e35674",
   "metadata": {},
   "outputs": [
    {
     "name": "stdout",
     "output_type": "stream",
     "text": [
      "   sqlite://\n",
      " * sqlite:////Users/sj501/Documents/Jupyter/Jupyter_lab/17_Joining_Data_in_SQL/countries.sqlite\n",
      "   sqlite:////Users/sj501/Documents/Jupyter/Jupyter_lab/17_Joining_Data_in_SQL/diagrams.sqlite\n",
      "   sqlite:////Users/sj501/Documents/Jupyter/Jupyter_lab/17_Joining_Data_in_SQL/leaders.sqlite\n",
      "Done.\n"
     ]
    },
    {
     "data": {
      "text/html": [
       "<table>\n",
       "    <tr>\n",
       "        <th>num_of_countries</th>\n",
       "    </tr>\n",
       "    <tr>\n",
       "        <td>19</td>\n",
       "    </tr>\n",
       "</table>"
      ],
      "text/plain": [
       "[(19,)]"
      ]
     },
     "execution_count": 51,
     "metadata": {},
     "output_type": "execute_result"
    }
   ],
   "source": [
    "%%sql\n",
    "SELECT COUNT(*) AS num_of_countries\n",
    "FROM countries\n",
    "WHERE continent = 'Oceania';"
   ]
  },
  {
   "cell_type": "markdown",
   "id": "f97e0a3d-426a-4980-9d02-6ed105e513d3",
   "metadata": {},
   "source": [
    "- Complete an inner join with `countries AS c1` on the left and `currencies AS c2` on the right to get the different currencies used in the countries of Oceania.\n",
    "- Match `ON` the `code` field in the two tables.\n",
    "- Include the country `code`, country `name`, and `basic_unit AS currency`.\n",
    "\n",
    "Observe the query result and make note of how many *different* countries are listed here."
   ]
  },
  {
   "cell_type": "code",
   "execution_count": 55,
   "id": "1eccb27b-5063-4e36-b2db-2987d75e013b",
   "metadata": {},
   "outputs": [
    {
     "name": "stdout",
     "output_type": "stream",
     "text": [
      "   sqlite://\n",
      " * sqlite:////Users/sj501/Documents/Jupyter/Jupyter_lab/17_Joining_Data_in_SQL/countries.sqlite\n",
      "   sqlite:////Users/sj501/Documents/Jupyter/Jupyter_lab/17_Joining_Data_in_SQL/diagrams.sqlite\n",
      "   sqlite:////Users/sj501/Documents/Jupyter/Jupyter_lab/17_Joining_Data_in_SQL/leaders.sqlite\n",
      "Done.\n"
     ]
    },
    {
     "data": {
      "text/html": [
       "<table>\n",
       "    <tr>\n",
       "        <th>code</th>\n",
       "        <th>country_name</th>\n",
       "        <th>currency</th>\n",
       "    </tr>\n",
       "    <tr>\n",
       "        <td>AUS</td>\n",
       "        <td>Australia</td>\n",
       "        <td>Australian dollar</td>\n",
       "    </tr>\n",
       "    <tr>\n",
       "        <td>KIR</td>\n",
       "        <td>Kiribati</td>\n",
       "        <td>Australian dollar</td>\n",
       "    </tr>\n",
       "    <tr>\n",
       "        <td>MHL</td>\n",
       "        <td>Marshall Islands</td>\n",
       "        <td>United States dollar</td>\n",
       "    </tr>\n",
       "    <tr>\n",
       "        <td>NRU</td>\n",
       "        <td>Nauru</td>\n",
       "        <td>Australian dollar</td>\n",
       "    </tr>\n",
       "    <tr>\n",
       "        <td>PLW</td>\n",
       "        <td>Palau</td>\n",
       "        <td>United States dollar</td>\n",
       "    </tr>\n",
       "    <tr>\n",
       "        <td>PNG</td>\n",
       "        <td>Papua New Guinea</td>\n",
       "        <td>Papua New Guinean kina</td>\n",
       "    </tr>\n",
       "    <tr>\n",
       "        <td>PYF</td>\n",
       "        <td>French Polynesia</td>\n",
       "        <td>CFP franc</td>\n",
       "    </tr>\n",
       "    <tr>\n",
       "        <td>SLB</td>\n",
       "        <td>Solomon Islands</td>\n",
       "        <td>Solomon Islands dollar</td>\n",
       "    </tr>\n",
       "    <tr>\n",
       "        <td>WSM</td>\n",
       "        <td>Samoa</td>\n",
       "        <td>Samoan tala</td>\n",
       "    </tr>\n",
       "    <tr>\n",
       "        <td>TON</td>\n",
       "        <td>Tonga</td>\n",
       "        <td>Tongan paʻanga</td>\n",
       "    </tr>\n",
       "</table>"
      ],
      "text/plain": [
       "[('AUS', 'Australia', 'Australian dollar'),\n",
       " ('KIR', 'Kiribati', 'Australian dollar'),\n",
       " ('MHL', 'Marshall Islands', 'United States dollar'),\n",
       " ('NRU', 'Nauru', 'Australian dollar'),\n",
       " ('PLW', 'Palau', 'United States dollar'),\n",
       " ('PNG', 'Papua New Guinea', 'Papua New Guinean kina'),\n",
       " ('PYF', 'French Polynesia', 'CFP franc'),\n",
       " ('SLB', 'Solomon Islands', 'Solomon Islands dollar'),\n",
       " ('WSM', 'Samoa', 'Samoan tala'),\n",
       " ('TON', 'Tonga', 'Tongan paʻanga')]"
      ]
     },
     "execution_count": 55,
     "metadata": {},
     "output_type": "execute_result"
    }
   ],
   "source": [
    "%%sql\n",
    "SELECT c1.code, country_name, basic_unit AS currency\n",
    "FROM countries AS c1\n",
    "INNER JOIN currencies AS c2\n",
    "    ON c1.code = c2.code\n",
    "WHERE continent = 'Oceania'\n",
    "LIMIT 10;"
   ]
  },
  {
   "cell_type": "markdown",
   "id": "16722739-e81d-463f-963a-e2453810f889",
   "metadata": {},
   "source": [
    "```\n",
    "Showing 10 out of 15 rows\n",
    "```"
   ]
  },
  {
   "cell_type": "markdown",
   "id": "3a65baa5-292c-4c77-8723-b201ddcae2a9",
   "metadata": {},
   "source": [
    "Note that not all countries in Oceania were listed in the resulting inner join with `currencies`. Use an anti-join to determine which countries were not included.\n",
    "\n",
    "- Use `NOT IN` and (`SELECT code FROM currencies`) as a subquery to get the country code and country name for the Oceanian countries that are not included in the `currencies` table."
   ]
  },
  {
   "cell_type": "code",
   "execution_count": 57,
   "id": "21249b90-80f5-457d-a48f-a8d890aeeb7f",
   "metadata": {},
   "outputs": [
    {
     "name": "stdout",
     "output_type": "stream",
     "text": [
      "   sqlite://\n",
      " * sqlite:////Users/sj501/Documents/Jupyter/Jupyter_lab/17_Joining_Data_in_SQL/countries.sqlite\n",
      "   sqlite:////Users/sj501/Documents/Jupyter/Jupyter_lab/17_Joining_Data_in_SQL/diagrams.sqlite\n",
      "   sqlite:////Users/sj501/Documents/Jupyter/Jupyter_lab/17_Joining_Data_in_SQL/leaders.sqlite\n",
      "Done.\n"
     ]
    },
    {
     "data": {
      "text/html": [
       "<table>\n",
       "    <tr>\n",
       "        <th>code</th>\n",
       "        <th>country_name</th>\n",
       "    </tr>\n",
       "    <tr>\n",
       "        <td>ASM</td>\n",
       "        <td>American Samoa</td>\n",
       "    </tr>\n",
       "    <tr>\n",
       "        <td>FJI</td>\n",
       "        <td>Fiji Islands</td>\n",
       "    </tr>\n",
       "    <tr>\n",
       "        <td>GUM</td>\n",
       "        <td>Guam</td>\n",
       "    </tr>\n",
       "    <tr>\n",
       "        <td>FSM</td>\n",
       "        <td>Micronesia, Federated States of</td>\n",
       "    </tr>\n",
       "    <tr>\n",
       "        <td>MNP</td>\n",
       "        <td>Northern Mariana Islands</td>\n",
       "    </tr>\n",
       "</table>"
      ],
      "text/plain": [
       "[('ASM', 'American Samoa'),\n",
       " ('FJI', 'Fiji Islands'),\n",
       " ('GUM', 'Guam'),\n",
       " ('FSM', 'Micronesia, Federated States of'),\n",
       " ('MNP', 'Northern Mariana Islands')]"
      ]
     },
     "execution_count": 57,
     "metadata": {},
     "output_type": "execute_result"
    }
   ],
   "source": [
    "%%sql\n",
    "SELECT code, country_name\n",
    "FROM countries\n",
    "WHERE continent = 'Oceania'\n",
    "    AND code NOT IN\n",
    "        (SELECT code\n",
    "        FROM currencies);"
   ]
  },
  {
   "cell_type": "markdown",
   "id": "9273cf94-b907-418b-8ed0-fcf56f6504e8",
   "metadata": {},
   "source": [
    "## Set theory challenge\n",
    "You've now made your way to the challenge problem for this third chapter. Your task here will be to incorporate two of `UNION`/`UNION ALL`/`INTERSECT`/`EXCEPT` to solve a challenge involving three tables.\n",
    "\n",
    "In addition, you will use a subquery as you have in the last two exercises."
   ]
  },
  {
   "cell_type": "markdown",
   "id": "24c49814-e300-4f85-bc1d-9370645a15dd",
   "metadata": {},
   "source": [
    "- Identify the country codes that are included in either `economies` or `currencies` but not in `populations`.\n",
    "- Use that result to determine the names of cities in the countries that match the specification in the previous instruction."
   ]
  },
  {
   "cell_type": "code",
   "execution_count": 58,
   "id": "1bde37e6-852c-46da-9c65-13b152f269c7",
   "metadata": {},
   "outputs": [
    {
     "name": "stdout",
     "output_type": "stream",
     "text": [
      "   sqlite://\n",
      " * sqlite:////Users/sj501/Documents/Jupyter/Jupyter_lab/17_Joining_Data_in_SQL/countries.sqlite\n",
      "   sqlite:////Users/sj501/Documents/Jupyter/Jupyter_lab/17_Joining_Data_in_SQL/diagrams.sqlite\n",
      "   sqlite:////Users/sj501/Documents/Jupyter/Jupyter_lab/17_Joining_Data_in_SQL/leaders.sqlite\n",
      "Done.\n"
     ]
    },
    {
     "data": {
      "text/html": [
       "<table>\n",
       "    <tr>\n",
       "        <th>name</th>\n",
       "    </tr>\n",
       "    <tr>\n",
       "        <td>Bucharest</td>\n",
       "    </tr>\n",
       "    <tr>\n",
       "        <td>Kaohsiung</td>\n",
       "    </tr>\n",
       "    <tr>\n",
       "        <td>New Taipei City</td>\n",
       "    </tr>\n",
       "    <tr>\n",
       "        <td>Taichung</td>\n",
       "    </tr>\n",
       "    <tr>\n",
       "        <td>Tainan</td>\n",
       "    </tr>\n",
       "    <tr>\n",
       "        <td>Taipei</td>\n",
       "    </tr>\n",
       "</table>"
      ],
      "text/plain": [
       "[('Bucharest',),\n",
       " ('Kaohsiung',),\n",
       " ('New Taipei City',),\n",
       " ('Taichung',),\n",
       " ('Tainan',),\n",
       " ('Taipei',)]"
      ]
     },
     "execution_count": 58,
     "metadata": {},
     "output_type": "execute_result"
    }
   ],
   "source": [
    "%%sql\n",
    "SELECT name\n",
    "FROM cities AS c1\n",
    "WHERE country_code IN\n",
    "    (SELECT e.code FROM economies AS e\n",
    "    UNION ALL\n",
    "    SELECT c2.code FROM currencies AS c2\n",
    "    EXCEPT\n",
    "    SELECT p.country_code FROM populations AS p\n",
    "    );"
   ]
  },
  {
   "cell_type": "code",
   "execution_count": null,
   "id": "1eabdb4f-9568-4882-81d3-e5cf82de3822",
   "metadata": {},
   "outputs": [],
   "source": []
  },
  {
   "cell_type": "code",
   "execution_count": null,
   "id": "6e652b28-4711-4c18-a37c-35c4578c2c27",
   "metadata": {},
   "outputs": [],
   "source": []
  }
 ],
 "metadata": {
  "kernelspec": {
   "display_name": "Python 3",
   "language": "python",
   "name": "python3"
  },
  "language_info": {
   "codemirror_mode": {
    "name": "ipython",
    "version": 3
   },
   "file_extension": ".py",
   "mimetype": "text/x-python",
   "name": "python",
   "nbconvert_exporter": "python",
   "pygments_lexer": "ipython3",
   "version": "3.8.8"
  }
 },
 "nbformat": 4,
 "nbformat_minor": 5
}
