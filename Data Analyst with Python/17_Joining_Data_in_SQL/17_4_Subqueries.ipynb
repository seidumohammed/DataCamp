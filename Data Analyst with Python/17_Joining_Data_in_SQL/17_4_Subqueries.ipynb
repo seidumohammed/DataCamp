{
 "cells": [
  {
   "cell_type": "markdown",
   "id": "7efcdc8f-e501-4d75-b32b-9ee1be4c9ce2",
   "metadata": {},
   "source": [
    "# 4. Subqueries\n",
    "**In this chapter, you'll learn how to use nested queries and you'll use what you’ve learned in this course to solve three challenge problems.**"
   ]
  },
  {
   "cell_type": "code",
   "execution_count": 1,
   "id": "34c66467-b600-4629-a09a-3afa0680a200",
   "metadata": {},
   "outputs": [],
   "source": [
    "%load_ext sql\n",
    "%sql sqlite://"
   ]
  },
  {
   "cell_type": "markdown",
   "id": "452a334c-18f4-411d-ad4a-45f9c235c856",
   "metadata": {},
   "source": [
    "## Subqueries inside WHERE and SELECT clauses\n",
    "This chapter is focused on embedding queries inside of queries. These are called nested queries and also known as subqueries as you saw in Chapter 3. The most common type of subquery is one inside of a `WHERE` statement. Let's check out another one of these now with a little bit of setting up to do first, of course.\n",
    "\n",
    "### Subquery inside WHERE clause set-up\n",
    "You've seen many examples of using a subquery inside a `WHERE` clause already with the semi-join and anti-join examples and exercises you just completed. With the `WHERE` clause being the most common place for a subquery to be found, it's important that you see just one more example of doing so. With this being the final chapter, it's time to unveil the remaining fields in the states table. \n",
    "\n",
    "Note that the `continent` field is not shown to display all the fields here. The `fert_rate` field gives an estimate for the average number of babies born per woman in each country. The `women_parli_perc` field gives the percentage of women in the elected federal parliament for each country. Across these 13 countries, how would you determine the average fertility rate?\n",
    "\n",
    "### Average fert_rate\n",
    "We will use the average fertility rate as part of a subquery. Recall how this is done. The average babies born to women across these countries is 2-point-28 children."
   ]
  },
  {
   "cell_type": "code",
   "execution_count": 2,
   "id": "f65ee7b1-951e-4623-bf45-df3f7a4d5eaf",
   "metadata": {},
   "outputs": [],
   "source": [
    "%sql sqlite:////Users/sj501/Documents/Jupyter/Jupyter_lab/17_Joining_Data_in_SQL/leaders.sqlite"
   ]
  },
  {
   "cell_type": "code",
   "execution_count": 3,
   "id": "15d62e6f-e929-4609-8929-2a51a214d9d8",
   "metadata": {},
   "outputs": [
    {
     "name": "stdout",
     "output_type": "stream",
     "text": [
      "   sqlite://\n",
      " * sqlite:////Users/sj501/Documents/Jupyter/Jupyter_lab/17_Joining_Data_in_SQL/leaders.sqlite\n",
      "Done.\n"
     ]
    },
    {
     "data": {
      "text/html": [
       "<table>\n",
       "    <tr>\n",
       "        <th>AVG(fert_rate)</th>\n",
       "    </tr>\n",
       "    <tr>\n",
       "        <td>2.2838461538461536</td>\n",
       "    </tr>\n",
       "</table>"
      ],
      "text/plain": [
       "[(2.2838461538461536,)]"
      ]
     },
     "execution_count": 3,
     "metadata": {},
     "output_type": "execute_result"
    }
   ],
   "source": [
    "%%sql\n",
    "SELECT AVG(fert_rate)\n",
    "FROM states;"
   ]
  },
  {
   "cell_type": "markdown",
   "id": "74725f1e-9e85-4af4-a8eb-b3ce1acb71f6",
   "metadata": {},
   "source": [
    "### Asian countries below average `fert_rate`\n",
    "Let's use the previous slide's query as a subquery to determine Asian countries that fall under this average. You'll see the code in a couple steps. First we select the country name and the fertility rate for Asian countries.\n",
    "\n",
    "Next, we want to choose records where `fert_rate` is smaller than What comes next?\n",
    "\n",
    "The subquery is to get the average fertility rate! And now we can check out our result to make sure it makes sense.\n",
    "\n",
    "It appears so. These are the two Asian countries we were looking for with fertility rates below 2-point-28 babies per woman."
   ]
  },
  {
   "cell_type": "code",
   "execution_count": 4,
   "id": "33fb74a6-cd45-422a-a849-4bb0fecf56b3",
   "metadata": {},
   "outputs": [
    {
     "name": "stdout",
     "output_type": "stream",
     "text": [
      "   sqlite://\n",
      " * sqlite:////Users/sj501/Documents/Jupyter/Jupyter_lab/17_Joining_Data_in_SQL/leaders.sqlite\n",
      "Done.\n"
     ]
    },
    {
     "data": {
      "text/html": [
       "<table>\n",
       "    <tr>\n",
       "        <th>name</th>\n",
       "        <th>fert_rate</th>\n",
       "    </tr>\n",
       "    <tr>\n",
       "        <td>Brunei</td>\n",
       "        <td>1.96</td>\n",
       "    </tr>\n",
       "    <tr>\n",
       "        <td>Vietnam</td>\n",
       "        <td>1.7</td>\n",
       "    </tr>\n",
       "</table>"
      ],
      "text/plain": [
       "[('Brunei', 1.96), ('Vietnam', 1.7)]"
      ]
     },
     "execution_count": 4,
     "metadata": {},
     "output_type": "execute_result"
    }
   ],
   "source": [
    "%%sql\n",
    "SELECT name, fert_rate\n",
    "FROM states\n",
    "WHERE continent = 'Asia'\n",
    "    AND fert_rate <\n",
    "        (SELECT AVG(fert_rate)\n",
    "        FROM states);"
   ]
  },
  {
   "cell_type": "markdown",
   "id": "87a5b5a2-e2e5-4f26-a9a8-afb4bcfbd72b",
   "metadata": {},
   "source": [
    "\n",
    "\n",
    "### Subqueries inside SELECT clauses - setup\n",
    "The second most common type of a subquery is inside of a SELECT clause. The task here is to count the number of countries listed in the states table for each continent in the `prime_ministers` table. Let's again take the stepwise approach to setting up the problem. What does this code do?"
   ]
  },
  {
   "cell_type": "code",
   "execution_count": 5,
   "id": "c8894462-84bb-41f0-9c63-747490919ed9",
   "metadata": {},
   "outputs": [
    {
     "name": "stdout",
     "output_type": "stream",
     "text": [
      "   sqlite://\n",
      " * sqlite:////Users/sj501/Documents/Jupyter/Jupyter_lab/17_Joining_Data_in_SQL/leaders.sqlite\n",
      "Done.\n"
     ]
    },
    {
     "data": {
      "text/html": [
       "<table>\n",
       "    <tr>\n",
       "        <th>continent</th>\n",
       "    </tr>\n",
       "    <tr>\n",
       "        <td>Africa</td>\n",
       "    </tr>\n",
       "    <tr>\n",
       "        <td>Europe</td>\n",
       "    </tr>\n",
       "    <tr>\n",
       "        <td>Asia</td>\n",
       "    </tr>\n",
       "    <tr>\n",
       "        <td>North America</td>\n",
       "    </tr>\n",
       "    <tr>\n",
       "        <td>Oceania</td>\n",
       "    </tr>\n",
       "</table>"
      ],
      "text/plain": [
       "[('Africa',), ('Europe',), ('Asia',), ('North America',), ('Oceania',)]"
      ]
     },
     "execution_count": 5,
     "metadata": {},
     "output_type": "execute_result"
    }
   ],
   "source": [
    "%%sql\n",
    "SELECT DISTINCT continent\n",
    "FROM prime_ministers;"
   ]
  },
  {
   "cell_type": "markdown",
   "id": "6660d36c-2ce7-4724-b3af-dd13631e7c7a",
   "metadata": {},
   "source": [
    "It gives each of the five continents in the prime_ministers table. Let's keep building our answer in the next slide.\n",
    "\n",
    "### Subquery inside SELECT clause - complete\n",
    "Next is determining the counts of the number of countries in states for each of the continents in the last slide. Combining a `COUNT` clause with a `WHERE` statement matching the continent fields in the two tables gets us there. \n",
    "\n",
    "Let's check out the code and then discuss a bit further. The subquery involving states also can reference the prime_ministers table in the main query. Any time you do a subquery inside a `SELECT` statement like this, you need to give the subquery an alias like `countries_num` here. Please pause the video here and carefully review this code. The result of this query comes next."
   ]
  },
  {
   "cell_type": "code",
   "execution_count": 6,
   "id": "7a084fe4-324c-469b-acf7-b1157090615f",
   "metadata": {},
   "outputs": [
    {
     "name": "stdout",
     "output_type": "stream",
     "text": [
      "   sqlite://\n",
      " * sqlite:////Users/sj501/Documents/Jupyter/Jupyter_lab/17_Joining_Data_in_SQL/leaders.sqlite\n",
      "Done.\n"
     ]
    },
    {
     "data": {
      "text/html": [
       "<table>\n",
       "    <tr>\n",
       "        <th>continent</th>\n",
       "        <th>countries_num</th>\n",
       "    </tr>\n",
       "    <tr>\n",
       "        <td>Africa</td>\n",
       "        <td>2</td>\n",
       "    </tr>\n",
       "    <tr>\n",
       "        <td>Europe</td>\n",
       "        <td>3</td>\n",
       "    </tr>\n",
       "    <tr>\n",
       "        <td>Asia</td>\n",
       "        <td>4</td>\n",
       "    </tr>\n",
       "    <tr>\n",
       "        <td>North America</td>\n",
       "        <td>1</td>\n",
       "    </tr>\n",
       "    <tr>\n",
       "        <td>Oceania</td>\n",
       "        <td>1</td>\n",
       "    </tr>\n",
       "</table>"
      ],
      "text/plain": [
       "[('Africa', 2),\n",
       " ('Europe', 3),\n",
       " ('Asia', 4),\n",
       " ('North America', 1),\n",
       " ('Oceania', 1)]"
      ]
     },
     "execution_count": 6,
     "metadata": {},
     "output_type": "execute_result"
    }
   ],
   "source": [
    "%%sql\n",
    "SELECT DISTINCT continent,\n",
    "    (SELECT COUNT(*)\n",
    "    FROM states\n",
    "    WHERE prime_ministers.continent = states.continent) AS countries_num\n",
    "FROM prime_ministers;"
   ]
  },
  {
   "cell_type": "markdown",
   "id": "ebf0d1d8-18e6-4f8c-b5c3-f72808ea5870",
   "metadata": {},
   "source": [
    "It's kinda like magic that this works, huh?! If you haven't discovered it already, there are often many different ways to solve problems with SQL queries. You could use a carefully constructed `JOIN` to achieve this same result, for example."
   ]
  },
  {
   "cell_type": "markdown",
   "id": "bdb25f17-2dfd-49fa-8cf5-e3c8a2a6da85",
   "metadata": {},
   "source": [
    "## Subquery inside where\n",
    "You'll now try to figure out which countries had high average life expectancies (at the country level) in 2015."
   ]
  },
  {
   "cell_type": "markdown",
   "id": "a922e3fe-b215-4c6b-9bbd-736a23d62504",
   "metadata": {},
   "source": [
    "- Begin by calculating the average life expectancy across all countries for 2015."
   ]
  },
  {
   "cell_type": "code",
   "execution_count": 7,
   "id": "cb62cafc-c2c4-411e-bcb1-8957f47f4ffd",
   "metadata": {},
   "outputs": [],
   "source": [
    "%sql sqlite:////Users/sj501/Documents/Jupyter/Jupyter_lab/17_Joining_Data_in_SQL/countries.sqlite"
   ]
  },
  {
   "cell_type": "code",
   "execution_count": 8,
   "id": "d2dd3a31-5871-4a30-9966-69a939882521",
   "metadata": {},
   "outputs": [
    {
     "name": "stdout",
     "output_type": "stream",
     "text": [
      "   sqlite://\n",
      " * sqlite:////Users/sj501/Documents/Jupyter/Jupyter_lab/17_Joining_Data_in_SQL/countries.sqlite\n",
      "   sqlite:////Users/sj501/Documents/Jupyter/Jupyter_lab/17_Joining_Data_in_SQL/leaders.sqlite\n",
      "Done.\n"
     ]
    },
    {
     "data": {
      "text/html": [
       "<table>\n",
       "    <tr>\n",
       "        <th>AVG(life_expectancy)</th>\n",
       "    </tr>\n",
       "    <tr>\n",
       "        <td>71.67634158659767</td>\n",
       "    </tr>\n",
       "</table>"
      ],
      "text/plain": [
       "[(71.67634158659767,)]"
      ]
     },
     "execution_count": 8,
     "metadata": {},
     "output_type": "execute_result"
    }
   ],
   "source": [
    "%%sql\n",
    "SELECT AVG(life_expectancy)\n",
    "FROM populations\n",
    "WHERE year = 2015;"
   ]
  },
  {
   "cell_type": "markdown",
   "id": "55979981-37bd-4a20-a88b-4e73e3372284",
   "metadata": {},
   "source": [
    "- Recall that you can use SQL to do calculations for you. Suppose we wanted only records that were above `1.15 * 100` in terms of life expectancy for 2015:\n",
    "```sql\n",
    "SELECT *\n",
    "  FROM populations\n",
    "WHERE life_expectancy > 1.15 * 100\n",
    "  AND year = 2015;\n",
    "```\n",
    "Select all fields from `populations` with records corresponding to larger than 1.15 times the average you calculated in the first task for 2015. In other words, change the `100` in the example above with a subquery."
   ]
  },
  {
   "cell_type": "code",
   "execution_count": 9,
   "id": "5fb883e0-ed04-4443-ab40-295352f4ebf8",
   "metadata": {},
   "outputs": [
    {
     "name": "stdout",
     "output_type": "stream",
     "text": [
      "   sqlite://\n",
      " * sqlite:////Users/sj501/Documents/Jupyter/Jupyter_lab/17_Joining_Data_in_SQL/countries.sqlite\n",
      "   sqlite:////Users/sj501/Documents/Jupyter/Jupyter_lab/17_Joining_Data_in_SQL/leaders.sqlite\n",
      "Done.\n"
     ]
    },
    {
     "data": {
      "text/html": [
       "<table>\n",
       "    <tr>\n",
       "        <th>pop_id</th>\n",
       "        <th>country_code</th>\n",
       "        <th>year</th>\n",
       "        <th>fertility_rate</th>\n",
       "        <th>life_expectancy</th>\n",
       "        <th>size</th>\n",
       "    </tr>\n",
       "    <tr>\n",
       "        <td>21</td>\n",
       "        <td>AUS</td>\n",
       "        <td>2015</td>\n",
       "        <td>1.833</td>\n",
       "        <td>82.4512195121951</td>\n",
       "        <td>23789752</td>\n",
       "    </tr>\n",
       "    <tr>\n",
       "        <td>376</td>\n",
       "        <td>CHE</td>\n",
       "        <td>2015</td>\n",
       "        <td>1.54</td>\n",
       "        <td>83.1975609756098</td>\n",
       "        <td>8281430</td>\n",
       "    </tr>\n",
       "    <tr>\n",
       "        <td>356</td>\n",
       "        <td>ESP</td>\n",
       "        <td>2015</td>\n",
       "        <td>1.32</td>\n",
       "        <td>83.3804878048781</td>\n",
       "        <td>46443994</td>\n",
       "    </tr>\n",
       "    <tr>\n",
       "        <td>134</td>\n",
       "        <td>FRA</td>\n",
       "        <td>2015</td>\n",
       "        <td>2.01</td>\n",
       "        <td>82.6707317073171</td>\n",
       "        <td>66538391</td>\n",
       "    </tr>\n",
       "    <tr>\n",
       "        <td>170</td>\n",
       "        <td>HKG</td>\n",
       "        <td>2015</td>\n",
       "        <td>1.195</td>\n",
       "        <td>84.2780487804878</td>\n",
       "        <td>7305700</td>\n",
       "    </tr>\n",
       "    <tr>\n",
       "        <td>174</td>\n",
       "        <td>ISL</td>\n",
       "        <td>2015</td>\n",
       "        <td>1.93</td>\n",
       "        <td>82.8609756097561</td>\n",
       "        <td>330815</td>\n",
       "    </tr>\n",
       "    <tr>\n",
       "        <td>190</td>\n",
       "        <td>ITA</td>\n",
       "        <td>2015</td>\n",
       "        <td>1.37</td>\n",
       "        <td>83.490243902439</td>\n",
       "        <td>60730582</td>\n",
       "    </tr>\n",
       "    <tr>\n",
       "        <td>194</td>\n",
       "        <td>JPN</td>\n",
       "        <td>2015</td>\n",
       "        <td>1.46</td>\n",
       "        <td>83.8436585365854</td>\n",
       "        <td>126958472</td>\n",
       "    </tr>\n",
       "    <tr>\n",
       "        <td>340</td>\n",
       "        <td>SGP</td>\n",
       "        <td>2015</td>\n",
       "        <td>1.24</td>\n",
       "        <td>82.5951219512195</td>\n",
       "        <td>5535002</td>\n",
       "    </tr>\n",
       "    <tr>\n",
       "        <td>374</td>\n",
       "        <td>SWE</td>\n",
       "        <td>2015</td>\n",
       "        <td>1.88</td>\n",
       "        <td>82.5512195121951</td>\n",
       "        <td>9799186</td>\n",
       "    </tr>\n",
       "</table>"
      ],
      "text/plain": [
       "[(21, 'AUS', 2015, '1.833', '82.4512195121951', 23789752),\n",
       " (376, 'CHE', 2015, '1.54', '83.1975609756098', 8281430),\n",
       " (356, 'ESP', 2015, '1.32', '83.3804878048781', 46443994),\n",
       " (134, 'FRA', 2015, '2.01', '82.6707317073171', 66538391),\n",
       " (170, 'HKG', 2015, '1.195', '84.2780487804878', 7305700),\n",
       " (174, 'ISL', 2015, '1.93', '82.8609756097561', 330815),\n",
       " (190, 'ITA', 2015, '1.37', '83.490243902439', 60730582),\n",
       " (194, 'JPN', 2015, '1.46', '83.8436585365854', 126958472),\n",
       " (340, 'SGP', 2015, '1.24', '82.5951219512195', 5535002),\n",
       " (374, 'SWE', 2015, '1.88', '82.5512195121951', 9799186)]"
      ]
     },
     "execution_count": 9,
     "metadata": {},
     "output_type": "execute_result"
    }
   ],
   "source": [
    "%%sql\n",
    "SELECT * FROM populations\n",
    "WHERE life_expectancy >\n",
    "  1.15 * \n",
    "  (SELECT AVG(life_expectancy)\n",
    "  FROM populations\n",
    "  WHERE year = 2015)\n",
    "  AND year = 2015;"
   ]
  },
  {
   "cell_type": "markdown",
   "id": "55164f40-529c-4f84-9081-4ad20a5e4f93",
   "metadata": {},
   "source": [
    "## Subquery inside where (2)\n",
    "Use your knowledge of subqueries in `WHERE` to get the urban area population for only capital cities."
   ]
  },
  {
   "cell_type": "markdown",
   "id": "2f9b94cc-9c9e-4ed5-9eab-c02b8616ea8e",
   "metadata": {},
   "source": [
    "- Make use of the `capital` field in the `countries` table in your subquery.\n",
    "- Select the city name, country code, and urban area population fields."
   ]
  },
  {
   "cell_type": "code",
   "execution_count": 10,
   "id": "666b8cee-69f1-49df-ad42-425fa7c14aac",
   "metadata": {},
   "outputs": [
    {
     "name": "stdout",
     "output_type": "stream",
     "text": [
      "   sqlite://\n",
      " * sqlite:////Users/sj501/Documents/Jupyter/Jupyter_lab/17_Joining_Data_in_SQL/countries.sqlite\n",
      "   sqlite:////Users/sj501/Documents/Jupyter/Jupyter_lab/17_Joining_Data_in_SQL/leaders.sqlite\n",
      "Done.\n"
     ]
    },
    {
     "data": {
      "text/html": [
       "<table>\n",
       "    <tr>\n",
       "        <th>name</th>\n",
       "        <th>country_code</th>\n",
       "        <th>urbanarea_pop</th>\n",
       "    </tr>\n",
       "    <tr>\n",
       "        <td>Beijing</td>\n",
       "        <td>CHN</td>\n",
       "        <td>21516000</td>\n",
       "    </tr>\n",
       "    <tr>\n",
       "        <td>Dhaka</td>\n",
       "        <td>BGD</td>\n",
       "        <td>14543124</td>\n",
       "    </tr>\n",
       "    <tr>\n",
       "        <td>Tokyo</td>\n",
       "        <td>JPN</td>\n",
       "        <td>13513734</td>\n",
       "    </tr>\n",
       "    <tr>\n",
       "        <td>Moscow</td>\n",
       "        <td>RUS</td>\n",
       "        <td>12197596</td>\n",
       "    </tr>\n",
       "    <tr>\n",
       "        <td>Cairo</td>\n",
       "        <td>EGY</td>\n",
       "        <td>10230350</td>\n",
       "    </tr>\n",
       "    <tr>\n",
       "        <td>Kinshasa</td>\n",
       "        <td>COD</td>\n",
       "        <td>10130000</td>\n",
       "    </tr>\n",
       "    <tr>\n",
       "        <td>Jakarta</td>\n",
       "        <td>IDN</td>\n",
       "        <td>10075310</td>\n",
       "    </tr>\n",
       "    <tr>\n",
       "        <td>Seoul</td>\n",
       "        <td>KOR</td>\n",
       "        <td>9995784</td>\n",
       "    </tr>\n",
       "    <tr>\n",
       "        <td>Mexico City</td>\n",
       "        <td>MEX</td>\n",
       "        <td>8974724</td>\n",
       "    </tr>\n",
       "    <tr>\n",
       "        <td>Lima</td>\n",
       "        <td>PER</td>\n",
       "        <td>8852000</td>\n",
       "    </tr>\n",
       "</table>"
      ],
      "text/plain": [
       "[('Beijing', 'CHN', 21516000),\n",
       " ('Dhaka', 'BGD', 14543124),\n",
       " ('Tokyo', 'JPN', 13513734),\n",
       " ('Moscow', 'RUS', 12197596),\n",
       " ('Cairo', 'EGY', 10230350),\n",
       " ('Kinshasa', 'COD', 10130000),\n",
       " ('Jakarta', 'IDN', 10075310),\n",
       " ('Seoul', 'KOR', 9995784),\n",
       " ('Mexico City', 'MEX', 8974724),\n",
       " ('Lima', 'PER', 8852000)]"
      ]
     },
     "execution_count": 10,
     "metadata": {},
     "output_type": "execute_result"
    }
   ],
   "source": [
    "%%sql\n",
    "SELECT name, country_code, urbanarea_pop\n",
    "FROM cities\n",
    "WHERE name IN\n",
    "  (SELECT capital\n",
    "   FROM countries)\n",
    "ORDER BY urbanarea_pop DESC\n",
    "LIMIT 10;"
   ]
  },
  {
   "cell_type": "markdown",
   "id": "551877ce-a35c-447e-8545-bee7e6817c3a",
   "metadata": {},
   "source": [
    "## Subquery inside select\n",
    "In this exercise, you'll see how some queries can be written using either a join or a subquery.\n",
    "\n",
    "You have seen previously how to use `GROUP BY` with aggregate functions and an inner join to get summarized information from multiple tables.\n",
    "\n",
    "The code given in the first query selects the top nine countries in terms of number of cities appearing in the `cities` table. Recall that this corresponds to the most populous cities in the world. Your task will be to convert the second query to get the same result as the provided code."
   ]
  },
  {
   "cell_type": "code",
   "execution_count": 17,
   "id": "13600fdf-8170-4e2a-9841-5027c3fb1aab",
   "metadata": {},
   "outputs": [
    {
     "name": "stdout",
     "output_type": "stream",
     "text": [
      "   sqlite://\n",
      " * sqlite:////Users/sj501/Documents/Jupyter/Jupyter_lab/17_Joining_Data_in_SQL/countries.sqlite\n",
      "   sqlite:////Users/sj501/Documents/Jupyter/Jupyter_lab/17_Joining_Data_in_SQL/leaders.sqlite\n",
      "Done.\n"
     ]
    },
    {
     "data": {
      "text/html": [
       "<table>\n",
       "    <tr>\n",
       "        <th>country</th>\n",
       "        <th>cities_num</th>\n",
       "    </tr>\n",
       "    <tr>\n",
       "        <td>China</td>\n",
       "        <td>36</td>\n",
       "    </tr>\n",
       "    <tr>\n",
       "        <td>India</td>\n",
       "        <td>18</td>\n",
       "    </tr>\n",
       "    <tr>\n",
       "        <td>Japan</td>\n",
       "        <td>11</td>\n",
       "    </tr>\n",
       "    <tr>\n",
       "        <td>Brazil</td>\n",
       "        <td>10</td>\n",
       "    </tr>\n",
       "    <tr>\n",
       "        <td>Pakistan</td>\n",
       "        <td>9</td>\n",
       "    </tr>\n",
       "    <tr>\n",
       "        <td>United States</td>\n",
       "        <td>9</td>\n",
       "    </tr>\n",
       "    <tr>\n",
       "        <td>Indonesia</td>\n",
       "        <td>7</td>\n",
       "    </tr>\n",
       "    <tr>\n",
       "        <td>Russian Federation</td>\n",
       "        <td>7</td>\n",
       "    </tr>\n",
       "    <tr>\n",
       "        <td>South Korea</td>\n",
       "        <td>7</td>\n",
       "    </tr>\n",
       "</table>"
      ],
      "text/plain": [
       "[('China', 36),\n",
       " ('India', 18),\n",
       " ('Japan', 11),\n",
       " ('Brazil', 10),\n",
       " ('Pakistan', 9),\n",
       " ('United States', 9),\n",
       " ('Indonesia', 7),\n",
       " ('Russian Federation', 7),\n",
       " ('South Korea', 7)]"
      ]
     },
     "execution_count": 17,
     "metadata": {},
     "output_type": "execute_result"
    }
   ],
   "source": [
    "%%sql\n",
    "SELECT countries.country_name AS country, COUNT(*) AS cities_num\n",
    "  FROM cities\n",
    "    INNER JOIN countries\n",
    "    ON countries.code = cities.country_code\n",
    "GROUP BY country\n",
    "ORDER BY cities_num DESC, country\n",
    "LIMIT 9;"
   ]
  },
  {
   "cell_type": "markdown",
   "id": "e7d4e39e-ef07-4e21-9f20-3caceb5ad5a7",
   "metadata": {},
   "source": [
    "- Convert the `GROUP BY` code to use a subquery inside of `SELECT` by filling in the blanks to get a result that matches the one given using the `GROUP BY` code in the first query.\n",
    "- Again, sort the result by `cities_num` descending and then by `country` ascending."
   ]
  },
  {
   "cell_type": "code",
   "execution_count": 18,
   "id": "6aef171e-006c-45ae-9733-dd8f3a7954a8",
   "metadata": {},
   "outputs": [
    {
     "name": "stdout",
     "output_type": "stream",
     "text": [
      "   sqlite://\n",
      " * sqlite:////Users/sj501/Documents/Jupyter/Jupyter_lab/17_Joining_Data_in_SQL/countries.sqlite\n",
      "   sqlite:////Users/sj501/Documents/Jupyter/Jupyter_lab/17_Joining_Data_in_SQL/leaders.sqlite\n",
      "Done.\n"
     ]
    },
    {
     "data": {
      "text/html": [
       "<table>\n",
       "    <tr>\n",
       "        <th>country</th>\n",
       "        <th>cities_num</th>\n",
       "    </tr>\n",
       "    <tr>\n",
       "        <td>China</td>\n",
       "        <td>36</td>\n",
       "    </tr>\n",
       "    <tr>\n",
       "        <td>India</td>\n",
       "        <td>18</td>\n",
       "    </tr>\n",
       "    <tr>\n",
       "        <td>Japan</td>\n",
       "        <td>11</td>\n",
       "    </tr>\n",
       "    <tr>\n",
       "        <td>Brazil</td>\n",
       "        <td>10</td>\n",
       "    </tr>\n",
       "    <tr>\n",
       "        <td>Pakistan</td>\n",
       "        <td>9</td>\n",
       "    </tr>\n",
       "    <tr>\n",
       "        <td>United States</td>\n",
       "        <td>9</td>\n",
       "    </tr>\n",
       "    <tr>\n",
       "        <td>Indonesia</td>\n",
       "        <td>7</td>\n",
       "    </tr>\n",
       "    <tr>\n",
       "        <td>Russian Federation</td>\n",
       "        <td>7</td>\n",
       "    </tr>\n",
       "    <tr>\n",
       "        <td>South Korea</td>\n",
       "        <td>7</td>\n",
       "    </tr>\n",
       "</table>"
      ],
      "text/plain": [
       "[('China', 36),\n",
       " ('India', 18),\n",
       " ('Japan', 11),\n",
       " ('Brazil', 10),\n",
       " ('Pakistan', 9),\n",
       " ('United States', 9),\n",
       " ('Indonesia', 7),\n",
       " ('Russian Federation', 7),\n",
       " ('South Korea', 7)]"
      ]
     },
     "execution_count": 18,
     "metadata": {},
     "output_type": "execute_result"
    }
   ],
   "source": [
    "%%sql\n",
    "SELECT countries.country_name AS country,\n",
    "  (SELECT COUNT(*)\n",
    "   FROM cities\n",
    "   WHERE countries.code = cities.country_code) AS cities_num\n",
    "FROM countries\n",
    "ORDER BY cities_num DESC, country\n",
    "LIMIT 9;"
   ]
  },
  {
   "cell_type": "markdown",
   "id": "3bb4535d-0c38-438a-83e0-eb8ce6e57b39",
   "metadata": {},
   "source": [
    "---\n",
    "## Subquery inside FROM clause\n",
    "The last basic type of a subquery exists inside of a `FROM` clause. A motivating example pertaining to the percentage of women in parliament will be used now to help you understand this style of subquery. Let's dig in!\n",
    "\n",
    "### Build-up\n",
    "First, let's determine the maximum percentage of women in parliament for each continent listed in states. Recall that this query will only work if you include continent as one of the fields in the `SELECT` clause since we are grouping based on that field. "
   ]
  },
  {
   "cell_type": "code",
   "execution_count": 23,
   "id": "906613b0-4b18-4dc4-acb5-865cfe873ad3",
   "metadata": {},
   "outputs": [],
   "source": [
    "%sql sqlite:////Users/sj501/Documents/Jupyter/Jupyter_lab/17_Joining_Data_in_SQL/leaders.sqlite"
   ]
  },
  {
   "cell_type": "code",
   "execution_count": 26,
   "id": "8341ea38-8876-48f8-8c42-75acad44e2ae",
   "metadata": {},
   "outputs": [
    {
     "name": "stdout",
     "output_type": "stream",
     "text": [
      "   sqlite://\n",
      "   sqlite:////Users/sj501/Documents/Jupyter/Jupyter_lab/17_Joining_Data_in_SQL/countries.sqlite\n",
      " * sqlite:////Users/sj501/Documents/Jupyter/Jupyter_lab/17_Joining_Data_in_SQL/leaders.sqlite\n",
      "Done.\n"
     ]
    },
    {
     "data": {
      "text/html": [
       "<table>\n",
       "    <tr>\n",
       "        <th>continent</th>\n",
       "        <th>max_perc</th>\n",
       "    </tr>\n",
       "    <tr>\n",
       "        <td>Europe</td>\n",
       "        <td>39.6</td>\n",
       "    </tr>\n",
       "    <tr>\n",
       "        <td>Oceania</td>\n",
       "        <td>32.74</td>\n",
       "    </tr>\n",
       "    <tr>\n",
       "        <td>Asia</td>\n",
       "        <td>24.0</td>\n",
       "    </tr>\n",
       "    <tr>\n",
       "        <td>South America</td>\n",
       "        <td>22.31</td>\n",
       "    </tr>\n",
       "    <tr>\n",
       "        <td>Africa</td>\n",
       "        <td>14.9</td>\n",
       "    </tr>\n",
       "    <tr>\n",
       "        <td>North America</td>\n",
       "        <td>2.74</td>\n",
       "    </tr>\n",
       "</table>"
      ],
      "text/plain": [
       "[('Europe', 39.6),\n",
       " ('Oceania', 32.74),\n",
       " ('Asia', 24.0),\n",
       " ('South America', 22.31),\n",
       " ('Africa', 14.9),\n",
       " ('North America', 2.74)]"
      ]
     },
     "execution_count": 26,
     "metadata": {},
     "output_type": "execute_result"
    }
   ],
   "source": [
    "%%sql\n",
    "SELECT continent, MAX(women_parli_perc) AS max_perc\n",
    "FROM states\n",
    "GROUP BY continent\n",
    "ORDER BY max_perc DESC;"
   ]
  },
  {
   "cell_type": "markdown",
   "id": "c07c47f5-bf30-46eb-bae8-69ac6472c7fc",
   "metadata": {},
   "source": [
    "Let's check out the result. We see that Europe has the largest value and North America has the smallest value for the countries listed in the states table.\n",
    "\n",
    "### Focusing on records in monarchs\n",
    "What if you weren't interested in all continents, but specifically those in the monarchs table. You haven't seen this yet in the course but you can include multiple tables in a `FROM` clause by adding a comma between them. Let's investigate a way to get the continents only in monarchs using this new trick."
   ]
  },
  {
   "cell_type": "code",
   "execution_count": 31,
   "id": "9506c569-72b8-4752-8660-9b1d52de41e9",
   "metadata": {},
   "outputs": [
    {
     "name": "stdout",
     "output_type": "stream",
     "text": [
      "   sqlite://\n",
      "   sqlite:////Users/sj501/Documents/Jupyter/Jupyter_lab/17_Joining_Data_in_SQL/countries.sqlite\n",
      " * sqlite:////Users/sj501/Documents/Jupyter/Jupyter_lab/17_Joining_Data_in_SQL/leaders.sqlite\n",
      "Done.\n"
     ]
    },
    {
     "data": {
      "text/html": [
       "<table>\n",
       "    <tr>\n",
       "        <th>continent</th>\n",
       "    </tr>\n",
       "    <tr>\n",
       "        <td>Asia</td>\n",
       "    </tr>\n",
       "    <tr>\n",
       "        <td>Asia</td>\n",
       "    </tr>\n",
       "    <tr>\n",
       "        <td>Asia</td>\n",
       "    </tr>\n",
       "    <tr>\n",
       "        <td>Asia</td>\n",
       "    </tr>\n",
       "    <tr>\n",
       "        <td>Asia</td>\n",
       "    </tr>\n",
       "    <tr>\n",
       "        <td>Asia</td>\n",
       "    </tr>\n",
       "    <tr>\n",
       "        <td>Asia</td>\n",
       "    </tr>\n",
       "    <tr>\n",
       "        <td>Asia</td>\n",
       "    </tr>\n",
       "    <tr>\n",
       "        <td>Europe</td>\n",
       "    </tr>\n",
       "    <tr>\n",
       "        <td>Europe</td>\n",
       "    </tr>\n",
       "    <tr>\n",
       "        <td>Europe</td>\n",
       "    </tr>\n",
       "    <tr>\n",
       "        <td>Europe</td>\n",
       "    </tr>\n",
       "    <tr>\n",
       "        <td>Europe</td>\n",
       "    </tr>\n",
       "    <tr>\n",
       "        <td>Europe</td>\n",
       "    </tr>\n",
       "</table>"
      ],
      "text/plain": [
       "[('Asia',),\n",
       " ('Asia',),\n",
       " ('Asia',),\n",
       " ('Asia',),\n",
       " ('Asia',),\n",
       " ('Asia',),\n",
       " ('Asia',),\n",
       " ('Asia',),\n",
       " ('Europe',),\n",
       " ('Europe',),\n",
       " ('Europe',),\n",
       " ('Europe',),\n",
       " ('Europe',),\n",
       " ('Europe',)]"
      ]
     },
     "execution_count": 31,
     "metadata": {},
     "output_type": "execute_result"
    }
   ],
   "source": [
    "%%sql\n",
    "SELECT monarchs.continent\n",
    "FROM monarchs, states\n",
    "WHERE monarchs.continent = states.continent\n",
    "ORDER BY monarchs.continent;"
   ]
  },
  {
   "cell_type": "markdown",
   "id": "ac3338d0-725c-4d8d-b6e8-fb0cccf1e1d8",
   "metadata": {},
   "source": [
    " We have at least part of our answer here, but how do we get rid of those duplicate entries? And what about the maximum column?\n",
    "\n",
    "### Finishing off the subquery\n",
    "To get Asia and Europe to appear only once, use the `DISTINCT` command in your `SELECT` statement. But now how do you get that maximum column to also come along with Asia and Europe? Instead of including states in the `FROM` clause, include the subquery instead and alias it with a name like subquery. There you have it. That's how to include a subquery as a temporary table in your `FROM` clause."
   ]
  },
  {
   "cell_type": "code",
   "execution_count": 34,
   "id": "96a57ca0-639b-45d5-93f3-74fa825162a6",
   "metadata": {},
   "outputs": [
    {
     "name": "stdout",
     "output_type": "stream",
     "text": [
      "   sqlite://\n",
      "   sqlite:////Users/sj501/Documents/Jupyter/Jupyter_lab/17_Joining_Data_in_SQL/countries.sqlite\n",
      " * sqlite:////Users/sj501/Documents/Jupyter/Jupyter_lab/17_Joining_Data_in_SQL/leaders.sqlite\n",
      "Done.\n"
     ]
    },
    {
     "data": {
      "text/html": [
       "<table>\n",
       "    <tr>\n",
       "        <th>continent</th>\n",
       "        <th>max_perc</th>\n",
       "    </tr>\n",
       "    <tr>\n",
       "        <td>Asia</td>\n",
       "        <td>24.0</td>\n",
       "    </tr>\n",
       "    <tr>\n",
       "        <td>Europe</td>\n",
       "        <td>39.6</td>\n",
       "    </tr>\n",
       "</table>"
      ],
      "text/plain": [
       "[('Asia', 24.0), ('Europe', 39.6)]"
      ]
     },
     "execution_count": 34,
     "metadata": {},
     "output_type": "execute_result"
    }
   ],
   "source": [
    "%%sql\n",
    "SELECT DISTINCT monarchs.continent, subquery.max_perc\n",
    "FROM monarchs,\n",
    "    (SELECT continent, MAX(women_parli_perc) AS max_perc\n",
    "    FROM states\n",
    "    GROUP BY continent) AS subquery\n",
    "WHERE monarchs.continent = subquery.continent\n",
    "ORDER BY monarchs.continent;"
   ]
  },
  {
   "cell_type": "markdown",
   "id": "c9fbc181-0b35-406c-8394-b526b875e2ac",
   "metadata": {},
   "source": [
    "## Subquery inside from\n",
    "The last type of subquery you will work with is one inside of `FROM`.\n",
    "\n",
    "You will use this to determine the number of languages spoken for each country, identified by the country's local name. (Note this may be different than the `name` field and is stored in the `local_name` field.)"
   ]
  },
  {
   "cell_type": "markdown",
   "id": "dd8e901e-8cd4-4355-b8ad-0d7dcec9fa5b",
   "metadata": {},
   "source": [
    "- Begin by determining for each country code how many `languages` are listed in the languages table using `SELECT`, `FROM`, and `GROUP BY`.\n",
    "- Alias the aggregated field as `lang_num`."
   ]
  },
  {
   "cell_type": "code",
   "execution_count": 36,
   "id": "7684c07b-9aaa-4f53-9817-6f5f1701a725",
   "metadata": {},
   "outputs": [],
   "source": [
    "%sql sqlite:////Users/sj501/Documents/Jupyter/Jupyter_lab/17_Joining_Data_in_SQL/countries.sqlite"
   ]
  },
  {
   "cell_type": "code",
   "execution_count": 37,
   "id": "28c7befe-f42d-4394-95f1-5989003339ac",
   "metadata": {},
   "outputs": [
    {
     "name": "stdout",
     "output_type": "stream",
     "text": [
      "   sqlite://\n",
      " * sqlite:////Users/sj501/Documents/Jupyter/Jupyter_lab/17_Joining_Data_in_SQL/countries.sqlite\n",
      "   sqlite:////Users/sj501/Documents/Jupyter/Jupyter_lab/17_Joining_Data_in_SQL/leaders.sqlite\n",
      "Done.\n"
     ]
    },
    {
     "data": {
      "text/html": [
       "<table>\n",
       "    <tr>\n",
       "        <th>code</th>\n",
       "        <th>lang_num</th>\n",
       "    </tr>\n",
       "    <tr>\n",
       "        <td>ABW</td>\n",
       "        <td>7</td>\n",
       "    </tr>\n",
       "    <tr>\n",
       "        <td>AFG</td>\n",
       "        <td>4</td>\n",
       "    </tr>\n",
       "    <tr>\n",
       "        <td>AGO</td>\n",
       "        <td>12</td>\n",
       "    </tr>\n",
       "    <tr>\n",
       "        <td>AIA</td>\n",
       "        <td>1</td>\n",
       "    </tr>\n",
       "    <tr>\n",
       "        <td>ALB</td>\n",
       "        <td>4</td>\n",
       "    </tr>\n",
       "    <tr>\n",
       "        <td>AND</td>\n",
       "        <td>4</td>\n",
       "    </tr>\n",
       "    <tr>\n",
       "        <td>ARE</td>\n",
       "        <td>5</td>\n",
       "    </tr>\n",
       "    <tr>\n",
       "        <td>ARG</td>\n",
       "        <td>6</td>\n",
       "    </tr>\n",
       "    <tr>\n",
       "        <td>ARM</td>\n",
       "        <td>3</td>\n",
       "    </tr>\n",
       "    <tr>\n",
       "        <td>ASM</td>\n",
       "        <td>5</td>\n",
       "    </tr>\n",
       "</table>"
      ],
      "text/plain": [
       "[('ABW', 7),\n",
       " ('AFG', 4),\n",
       " ('AGO', 12),\n",
       " ('AIA', 1),\n",
       " ('ALB', 4),\n",
       " ('AND', 4),\n",
       " ('ARE', 5),\n",
       " ('ARG', 6),\n",
       " ('ARM', 3),\n",
       " ('ASM', 5)]"
      ]
     },
     "execution_count": 37,
     "metadata": {},
     "output_type": "execute_result"
    }
   ],
   "source": [
    "%%sql\n",
    "SELECT code, COUNT(*) AS lang_num\n",
    "FROM languages\n",
    "GROUP BY code\n",
    "LIMIT 10;"
   ]
  },
  {
   "cell_type": "markdown",
   "id": "fcd238af-7f87-40d1-a70e-b6107207dc41",
   "metadata": {},
   "source": [
    "```\n",
    "Showing 10 out of 212 rows\n",
    "```"
   ]
  },
  {
   "cell_type": "markdown",
   "id": "a7670206-a4a8-49b8-b880-71ab4fe93306",
   "metadata": {},
   "source": [
    "- Include the previous query (aliased as `subquery`) as a subquery in the `FROM` clause of a new query.\n",
    "- Select the local name of the country from `countries`.\n",
    "- Also, select `lang_num` from `subquery`.\n",
    "- Make sure to use `WHERE` appropriately to match `code` in `countries` and in `subquery`.\n",
    "- Sort by `lang_num` in descending order."
   ]
  },
  {
   "cell_type": "code",
   "execution_count": 38,
   "id": "e84c4675-87dd-4e9b-beda-c90932222754",
   "metadata": {},
   "outputs": [
    {
     "name": "stdout",
     "output_type": "stream",
     "text": [
      "   sqlite://\n",
      " * sqlite:////Users/sj501/Documents/Jupyter/Jupyter_lab/17_Joining_Data_in_SQL/countries.sqlite\n",
      "   sqlite:////Users/sj501/Documents/Jupyter/Jupyter_lab/17_Joining_Data_in_SQL/leaders.sqlite\n",
      "Done.\n"
     ]
    },
    {
     "data": {
      "text/html": [
       "<table>\n",
       "    <tr>\n",
       "        <th>local_name</th>\n",
       "        <th>lang_num</th>\n",
       "    </tr>\n",
       "    <tr>\n",
       "        <td>Zambia</td>\n",
       "        <td>19</td>\n",
       "    </tr>\n",
       "    <tr>\n",
       "        <td>YeItyop´iya</td>\n",
       "        <td>16</td>\n",
       "    </tr>\n",
       "    <tr>\n",
       "        <td>Zimbabwe</td>\n",
       "        <td>16</td>\n",
       "    </tr>\n",
       "    <tr>\n",
       "        <td>Bharat/India</td>\n",
       "        <td>14</td>\n",
       "    </tr>\n",
       "    <tr>\n",
       "        <td>Nepal</td>\n",
       "        <td>14</td>\n",
       "    </tr>\n",
       "    <tr>\n",
       "        <td>South Africa</td>\n",
       "        <td>13</td>\n",
       "    </tr>\n",
       "    <tr>\n",
       "        <td>Mali</td>\n",
       "        <td>13</td>\n",
       "    </tr>\n",
       "    <tr>\n",
       "        <td>France</td>\n",
       "        <td>13</td>\n",
       "    </tr>\n",
       "    <tr>\n",
       "        <td>Angola</td>\n",
       "        <td>12</td>\n",
       "    </tr>\n",
       "    <tr>\n",
       "        <td>Malawi</td>\n",
       "        <td>12</td>\n",
       "    </tr>\n",
       "</table>"
      ],
      "text/plain": [
       "[('Zambia', 19),\n",
       " ('YeItyop´iya', 16),\n",
       " ('Zimbabwe', 16),\n",
       " ('Bharat/India', 14),\n",
       " ('Nepal', 14),\n",
       " ('South Africa', 13),\n",
       " ('Mali', 13),\n",
       " ('France', 13),\n",
       " ('Angola', 12),\n",
       " ('Malawi', 12)]"
      ]
     },
     "execution_count": 38,
     "metadata": {},
     "output_type": "execute_result"
    }
   ],
   "source": [
    "%%sql\n",
    "SELECT countries.local_name, subquery.lang_num\n",
    "FROM countries,\n",
    "  \t(SELECT code, COUNT(*) AS lang_num\n",
    "  \t FROM languages\n",
    "  \t GROUP BY code) AS subquery\n",
    "\n",
    "WHERE countries.code = subquery.code\n",
    "ORDER BY lang_num DESC\n",
    "LIMIT 10;"
   ]
  },
  {
   "cell_type": "markdown",
   "id": "b68258a0-e100-4ecb-8fe3-99bf30591729",
   "metadata": {},
   "source": [
    "```\n",
    "Showing 10 out of 198 rows\n",
    "```"
   ]
  },
  {
   "cell_type": "markdown",
   "id": "6a0b9158-07c2-42a2-b1b4-706eb5ac35cf",
   "metadata": {},
   "source": [
    "## Advanced subquery\n",
    "You can also nest multiple subqueries to answer even more specific questions.\n",
    "\n",
    "In this exercise, for each of the six continents listed in 2015, you'll identify which country had the maximum inflation rate, and how high it was, using multiple subqueries. The table result of your final query should look something like the following, where anything between `<` `>` will be filled in with appropriate values:\n",
    "```\n",
    "+------------+---------------+-------------------+\n",
    "| name       | continent     | inflation_rate    |\n",
    "|------------+---------------+-------------------|\n",
    "| <country1> | North America | <max_inflation1>  |\n",
    "| <country2> | Africa        | <max_inflation2>  |\n",
    "| <country3> | Oceania       | <max_inflation3>  |\n",
    "| <country4> | Europe        | <max_inflation4>  |\n",
    "| <country5> | South America | <max_inflation5>  |\n",
    "| <country6> | Asia          | <max_inflation6>  |\n",
    "+------------+---------------+-------------------+\n",
    "```\n",
    "Again, there are multiple ways to get to this solution using only joins, but the focus here is on showing you an introduction into advanced subqueries.\n",
    "\n",
    "- Create an `INNER JOIN` with `countries` on the left and `economies` on the right with `USING`, without aliasing your tables or columns.\n",
    "- Retrieve the country's name, continent, and inflation rate for 2015."
   ]
  },
  {
   "cell_type": "code",
   "execution_count": 40,
   "id": "55d13a8f-3f72-4e1a-8f53-f4f1f9caa0ec",
   "metadata": {},
   "outputs": [
    {
     "name": "stdout",
     "output_type": "stream",
     "text": [
      "   sqlite://\n",
      " * sqlite:////Users/sj501/Documents/Jupyter/Jupyter_lab/17_Joining_Data_in_SQL/countries.sqlite\n",
      "   sqlite:////Users/sj501/Documents/Jupyter/Jupyter_lab/17_Joining_Data_in_SQL/leaders.sqlite\n",
      "Done.\n"
     ]
    },
    {
     "data": {
      "text/html": [
       "<table>\n",
       "    <tr>\n",
       "        <th>country_name</th>\n",
       "        <th>continent</th>\n",
       "        <th>inflation_rate</th>\n",
       "    </tr>\n",
       "    <tr>\n",
       "        <td>Afghanistan</td>\n",
       "        <td>Asia</td>\n",
       "        <td>-1.549</td>\n",
       "    </tr>\n",
       "    <tr>\n",
       "        <td>Angola</td>\n",
       "        <td>Africa</td>\n",
       "        <td>10.287</td>\n",
       "    </tr>\n",
       "    <tr>\n",
       "        <td>Albania</td>\n",
       "        <td>Europe</td>\n",
       "        <td>1.896</td>\n",
       "    </tr>\n",
       "    <tr>\n",
       "        <td>United Arab Emirates</td>\n",
       "        <td>Asia</td>\n",
       "        <td>4.07</td>\n",
       "    </tr>\n",
       "    <tr>\n",
       "        <td>Argentina</td>\n",
       "        <td>South America</td>\n",
       "        <td>None</td>\n",
       "    </tr>\n",
       "    <tr>\n",
       "        <td>Armenia</td>\n",
       "        <td>Asia</td>\n",
       "        <td>3.731</td>\n",
       "    </tr>\n",
       "    <tr>\n",
       "        <td>Antigua and Barbuda</td>\n",
       "        <td>North America</td>\n",
       "        <td>0.969</td>\n",
       "    </tr>\n",
       "    <tr>\n",
       "        <td>Australia</td>\n",
       "        <td>Oceania</td>\n",
       "        <td>1.461</td>\n",
       "    </tr>\n",
       "    <tr>\n",
       "        <td>Austria</td>\n",
       "        <td>Europe</td>\n",
       "        <td>0.81</td>\n",
       "    </tr>\n",
       "    <tr>\n",
       "        <td>Azerbaijan</td>\n",
       "        <td>Asia</td>\n",
       "        <td>4.049</td>\n",
       "    </tr>\n",
       "</table>"
      ],
      "text/plain": [
       "[('Afghanistan', 'Asia', '-1.549'),\n",
       " ('Angola', 'Africa', '10.287'),\n",
       " ('Albania', 'Europe', '1.896'),\n",
       " ('United Arab Emirates', 'Asia', '4.07'),\n",
       " ('Argentina', 'South America', None),\n",
       " ('Armenia', 'Asia', '3.731'),\n",
       " ('Antigua and Barbuda', 'North America', '0.969'),\n",
       " ('Australia', 'Oceania', '1.461'),\n",
       " ('Austria', 'Europe', '0.81'),\n",
       " ('Azerbaijan', 'Asia', '4.049')]"
      ]
     },
     "execution_count": 40,
     "metadata": {},
     "output_type": "execute_result"
    }
   ],
   "source": [
    "%%sql\n",
    "SELECT country_name, continent, inflation_rate\n",
    "FROM countries\n",
    "    INNER JOIN economies\n",
    "        ON countries.code = economies.code\n",
    "WHERE year = 2015\n",
    "LIMIT 10;"
   ]
  },
  {
   "cell_type": "markdown",
   "id": "228480bb-c8a1-411d-9a04-d0d50ba61d26",
   "metadata": {},
   "source": [
    "```\n",
    "Showing 10 out of 184 rows\n",
    "```"
   ]
  },
  {
   "cell_type": "markdown",
   "id": "d2536572-4645-423c-b6b9-a448d86490de",
   "metadata": {},
   "source": [
    "- Select the maximum inflation rate in 2015 `AS max_inf` grouped by continent using the previous step's query as a subquery in the `FROM` clause.\n",
    "    - Thus, in your subquery you should:\n",
    "        - Create an inner join with `countries` on the left and `economies` on the right with `USING` (without aliasing your tables or columns).\n",
    "        - Retrieve the country name, continent, and inflation rate for 2015.\n",
    "        - Alias the subquery as `subquery`.\n",
    "- This will result in the six maximum inflation rates in 2015 for the six continents as one field table. Make sure to not include `continent` in the outer `SELECT` statement."
   ]
  },
  {
   "cell_type": "code",
   "execution_count": 59,
   "id": "2e5efd78-e4bb-4207-abee-f86273d9b92a",
   "metadata": {},
   "outputs": [
    {
     "name": "stdout",
     "output_type": "stream",
     "text": [
      "   sqlite://\n",
      " * sqlite:////Users/sj501/Documents/Jupyter/Jupyter_lab/17_Joining_Data_in_SQL/countries.sqlite\n",
      "   sqlite:////Users/sj501/Documents/Jupyter/Jupyter_lab/17_Joining_Data_in_SQL/leaders.sqlite\n",
      "Done.\n"
     ]
    },
    {
     "data": {
      "text/html": [
       "<table>\n",
       "    <tr>\n",
       "        <th>max_inf</th>\n",
       "    </tr>\n",
       "    <tr>\n",
       "        <td>21.858</td>\n",
       "    </tr>\n",
       "    <tr>\n",
       "        <td>39.403</td>\n",
       "    </tr>\n",
       "    <tr>\n",
       "        <td>48.684</td>\n",
       "    </tr>\n",
       "    <tr>\n",
       "        <td>7.524</td>\n",
       "    </tr>\n",
       "    <tr>\n",
       "        <td>9.784</td>\n",
       "    </tr>\n",
       "    <tr>\n",
       "        <td>121.738</td>\n",
       "    </tr>\n",
       "</table>"
      ],
      "text/plain": [
       "[(21.858,), (39.403,), (48.684,), (7.524,), (9.784,), (121.738,)]"
      ]
     },
     "execution_count": 59,
     "metadata": {},
     "output_type": "execute_result"
    }
   ],
   "source": [
    "%%sql\n",
    "SELECT MAX(cast(inflation_rate as unsigned)) AS max_inf\n",
    "FROM (\n",
    "    SELECT country_name, continent, inflation_rate\n",
    "    FROM countries\n",
    "        INNER JOIN economies\n",
    "            USING (code)\n",
    "    WHERE year = 2015) AS subquery\n",
    "GROUP BY continent;"
   ]
  },
  {
   "cell_type": "markdown",
   "id": "97272a9e-7736-4de6-a3dd-dfcf1cbea3ba",
   "metadata": {},
   "source": [
    "- Now it's time to append your second query to your first query using `AND` and `IN` to obtain the name of the country, its continent, and the maximum inflation rate for each continent in 2015.\n",
    "- For the sake of practice, change all joining conditions to use `ON` instead of `USING`."
   ]
  },
  {
   "cell_type": "code",
   "execution_count": 60,
   "id": "d029648c-2795-4210-8aee-fdc743cd4db4",
   "metadata": {},
   "outputs": [
    {
     "name": "stdout",
     "output_type": "stream",
     "text": [
      "   sqlite://\n",
      " * sqlite:////Users/sj501/Documents/Jupyter/Jupyter_lab/17_Joining_Data_in_SQL/countries.sqlite\n",
      "   sqlite:////Users/sj501/Documents/Jupyter/Jupyter_lab/17_Joining_Data_in_SQL/leaders.sqlite\n",
      "Done.\n"
     ]
    },
    {
     "data": {
      "text/html": [
       "<table>\n",
       "    <tr>\n",
       "        <th>country_name</th>\n",
       "        <th>continent</th>\n",
       "        <th>inflation_rate</th>\n",
       "    </tr>\n",
       "    <tr>\n",
       "        <td>Haiti</td>\n",
       "        <td>North America</td>\n",
       "        <td>7.524</td>\n",
       "    </tr>\n",
       "    <tr>\n",
       "        <td>Malawi</td>\n",
       "        <td>Africa</td>\n",
       "        <td>21.858</td>\n",
       "    </tr>\n",
       "    <tr>\n",
       "        <td>Nauru</td>\n",
       "        <td>Oceania</td>\n",
       "        <td>9.784</td>\n",
       "    </tr>\n",
       "    <tr>\n",
       "        <td>Ukraine</td>\n",
       "        <td>Europe</td>\n",
       "        <td>48.684</td>\n",
       "    </tr>\n",
       "    <tr>\n",
       "        <td>Venezuela</td>\n",
       "        <td>South America</td>\n",
       "        <td>121.738</td>\n",
       "    </tr>\n",
       "    <tr>\n",
       "        <td>Yemen</td>\n",
       "        <td>Asia</td>\n",
       "        <td>39.403</td>\n",
       "    </tr>\n",
       "</table>"
      ],
      "text/plain": [
       "[('Haiti', 'North America', '7.524'),\n",
       " ('Malawi', 'Africa', '21.858'),\n",
       " ('Nauru', 'Oceania', '9.784'),\n",
       " ('Ukraine', 'Europe', '48.684'),\n",
       " ('Venezuela', 'South America', '121.738'),\n",
       " ('Yemen', 'Asia', '39.403')]"
      ]
     },
     "execution_count": 60,
     "metadata": {},
     "output_type": "execute_result"
    }
   ],
   "source": [
    "%%sql\n",
    "SELECT country_name, continent, inflation_rate\n",
    "FROM countries\n",
    "    INNER JOIN economies\n",
    "        ON countries.code = economies.code\n",
    "WHERE year = 2015\n",
    "    AND inflation_rate IN (\n",
    "        SELECT MAX(cast(inflation_rate as unsigned)) AS max_inf\n",
    "        FROM (\n",
    "             SELECT country_name, continent, inflation_rate\n",
    "             FROM countries\n",
    "             INNER JOIN economies\n",
    "             ON countries.code = economies.code\n",
    "             WHERE year = 2015) AS subquery\n",
    "        GROUP BY continent);"
   ]
  },
  {
   "cell_type": "markdown",
   "id": "a2141d7e-b4d0-4871-a5b3-08db65e6ae4f",
   "metadata": {},
   "source": [
    "*This code works since each of the six maximum inflation rate values occur only once in the 2015 data. Think about whether this particular code involving subqueries would work in cases where there are ties for the maximum inflation rate values.*"
   ]
  },
  {
   "cell_type": "markdown",
   "id": "06536e2e-30b7-4d69-a7fc-b63a99c9dbb0",
   "metadata": {},
   "source": [
    "## Subquery challenge\n",
    "Let's test your understanding of the subqueries with a challenge problem! Use a subquery to get 2015 economic data for countries that do **not** have `gov_form` of `'Constitutional Monarchy'` or\n",
    "`'Republic'` in their `gov_form`.\n",
    "\n",
    "Here, `gov_form` stands for the form of the government for each country. Review the different entries for `gov_form` in the `countries` table.\n",
    "\n",
    "- Select the country code, inflation rate, and unemployment rate.\n",
    "- Order by inflation rate ascending.\n",
    "- Do not use table aliasing in this exercise."
   ]
  },
  {
   "cell_type": "code",
   "execution_count": 62,
   "id": "1369e595-8466-4011-ac6b-e0689550db24",
   "metadata": {},
   "outputs": [
    {
     "name": "stdout",
     "output_type": "stream",
     "text": [
      "   sqlite://\n",
      " * sqlite:////Users/sj501/Documents/Jupyter/Jupyter_lab/17_Joining_Data_in_SQL/countries.sqlite\n",
      "   sqlite:////Users/sj501/Documents/Jupyter/Jupyter_lab/17_Joining_Data_in_SQL/leaders.sqlite\n",
      "Done.\n"
     ]
    },
    {
     "data": {
      "text/html": [
       "<table>\n",
       "    <tr>\n",
       "        <th>code</th>\n",
       "        <th>inflation_rate</th>\n",
       "        <th>unemployment_rate</th>\n",
       "    </tr>\n",
       "    <tr>\n",
       "        <td>AFG</td>\n",
       "        <td>-1.549</td>\n",
       "        <td>None</td>\n",
       "    </tr>\n",
       "    <tr>\n",
       "        <td>CHE</td>\n",
       "        <td>-1.14</td>\n",
       "        <td>3.178</td>\n",
       "    </tr>\n",
       "    <tr>\n",
       "        <td>PRI</td>\n",
       "        <td>-0.751</td>\n",
       "        <td>12</td>\n",
       "    </tr>\n",
       "    <tr>\n",
       "        <td>ROU</td>\n",
       "        <td>-0.596</td>\n",
       "        <td>6.812</td>\n",
       "    </tr>\n",
       "    <tr>\n",
       "        <td>BRN</td>\n",
       "        <td>-0.423</td>\n",
       "        <td>6.9</td>\n",
       "    </tr>\n",
       "    <tr>\n",
       "        <td>TON</td>\n",
       "        <td>-0.283</td>\n",
       "        <td>None</td>\n",
       "    </tr>\n",
       "    <tr>\n",
       "        <td>OMN</td>\n",
       "        <td>0.065</td>\n",
       "        <td>None</td>\n",
       "    </tr>\n",
       "    <tr>\n",
       "        <td>TLS</td>\n",
       "        <td>0.553</td>\n",
       "        <td>None</td>\n",
       "    </tr>\n",
       "    <tr>\n",
       "        <td>BEL</td>\n",
       "        <td>0.62</td>\n",
       "        <td>8.492</td>\n",
       "    </tr>\n",
       "    <tr>\n",
       "        <td>CAN</td>\n",
       "        <td>1.132</td>\n",
       "        <td>6.9</td>\n",
       "    </tr>\n",
       "</table>"
      ],
      "text/plain": [
       "[('AFG', '-1.549', None),\n",
       " ('CHE', '-1.14', '3.178'),\n",
       " ('PRI', '-0.751', '12'),\n",
       " ('ROU', '-0.596', '6.812'),\n",
       " ('BRN', '-0.423', '6.9'),\n",
       " ('TON', '-0.283', None),\n",
       " ('OMN', '0.065', None),\n",
       " ('TLS', '0.553', None),\n",
       " ('BEL', '0.62', '8.492'),\n",
       " ('CAN', '1.132', '6.9')]"
      ]
     },
     "execution_count": 62,
     "metadata": {},
     "output_type": "execute_result"
    }
   ],
   "source": [
    "%%sql\n",
    "SELECT code, inflation_rate, unemployment_rate\n",
    "FROM economies\n",
    "WHERE year = 2015 AND code NOT IN\n",
    "  \t(SELECT code\n",
    "  \t FROM countries\n",
    "  \t WHERE (gov_form = 'Constitutional Monarchy' \n",
    "            OR gov_form LIKE '%Republic%'))\n",
    "ORDER BY cast(inflation_rate as unsigned)\n",
    "LIMIT 10;"
   ]
  },
  {
   "cell_type": "markdown",
   "id": "edb44df7-e00f-4493-856a-e715e952b346",
   "metadata": {},
   "source": [
    "```\n",
    "Showing 10 out of 26 rows\n",
    "```"
   ]
  },
  {
   "cell_type": "markdown",
   "id": "48831a31-35c5-4230-8f67-1a2e678d9f8d",
   "metadata": {},
   "source": [
    "---\n",
    "## Course review\n",
    "Before you tackle the three challenge problems, let's review the main topics covered throughout the course.\n",
    "\n",
    "### Types of joins\n",
    "In SQL, a join combines columns from one or more tables in a relational database via a lookup process. There are four different types of joins you learned about in this course. \n",
    "1. an `INNER JOIN` is also denoted as just JOIN in SQL. A special case of an `INNER JOIN` you explored is called a self-join. \n",
    "2. there are three `OUTER JOIN`s denoted as `LEFT JOIN` (or `LEFT OUTER JOIN`), `RIGHT JOIN` (or `RIGHT OUTER JOIN`), and `FULL JOIN` (or `FULL OUTER JOIN`). \n",
    "3. you worked with `CROSS JOIN`s to create all possible combinations between two tables. \n",
    "4. you investigated semi-joins and anti-joins. Remember that words appearing in ALL capital letters correspond to the joins having simple SQL syntax. Self-joins, semi-joins, and anti-joins don't have built-in SQL syntax.\n",
    "\n",
    "### INNER JOIN vs LEFT JOIN\n",
    "An `INNER JOIN` keeps only the records in which the key field (or fields) is in both tables. A `LEFT JOIN` keeps all the records in fields specified in the left table and includes the matches in the right table based on the key field or fields. Key field values that don't match in the right table are included as missing data in the resulting table of a `LEFT JOIN`.\n",
    "\n",
    "### RIGHT JOIN vs FULL JOIN\n",
    "A `RIGHT JOIN` keeps all the records specified in the right table and includes the matches from the key field (or fields) in the left table. Those that don't match are included as missing values in the resulting table from the `RIGHT JOIN` query. A `FULL JOIN` is a combination of a `LEFT JOIN` and a `RIGHT JOIN` showing exactly which values appear in both tables and those that appear in only one or the other table.\n",
    "\n",
    "### CROSS JOIN with code\n",
    "A `CROSS JOIN` matches all records from fields specified in one table with all records from fields specified in another table. Remember that a `CROSS JOIN` does not have an `ON` or `USING` clause, but otherwise looks very similar to the code for an `INNER JOIN`, `LEFT JOIN`, `RIGHT JOIN`, or `FULL JOIN`.\n",
    "\n",
    "### Set Theory Clauses\n",
    "Recall that `UNION` includes every record in both tables but **DOES NOT** double count those that are in both tables whereas `UNION ALL` **DOES** replicate those that are in both tables. `INTERSECT` gives only those records found in both of the two tables. `EXCEPT` gives only those records in one table **BUT NOT** the other.\n",
    "\n",
    "### Semi-joins and Anti-joins\n",
    "When you'd like to filter your first table based on conditions set on a second table, you should use a semi-join to accomplish your task. If instead you'd like to filter your first table based on conditions **NOT** being met on a second table, you should use an anti-join. Anti-joins are particularly useful in diagnosing problems with other joins in terms of getting fewer or more records than you expected.\n",
    "\n",
    "### Types of basic subqueries\n",
    "The most common type of subquery is done inside of a `WHERE` clause. The next most frequent types of subqueries are inside `SELECT` clauses and inside `FROM` clauses. As you'll see in the challenge exercises, subqueries can also find their way into the ON statement of a join in ways similar to what you've seen inside `WHERE` clauses too."
   ]
  },
  {
   "cell_type": "markdown",
   "id": "2ce90534-4dca-4df7-be12-f6f9ec33502e",
   "metadata": {},
   "source": [
    "## Final challenge\n",
    " The next three exercises will test your knowledge of the content covered in this course and apply many of the ideas you've seen to difficult problems. \n",
    "\n",
    "In this exercise, you'll need to get the country names and other 2015 data in the `economies` table and the `countries` table for **Central American countries with an official language**.\n",
    "\n",
    "- Select unique country names. Also select the total investment and imports fields.\n",
    "- Use a left join with `countries` on the left. (An inner join would also work, but please use a left join here.)\n",
    "- Match on `code` in the two tables `AND` use a subquery inside of `ON` to choose the appropriate `languages` records.\n",
    "- Order by country name ascending.\n",
    "- Use table aliasing but **not** field aliasing in this exercise."
   ]
  },
  {
   "cell_type": "code",
   "execution_count": 70,
   "id": "6324cff4-f5b9-4522-8c8d-d44ebbd561a0",
   "metadata": {},
   "outputs": [
    {
     "name": "stdout",
     "output_type": "stream",
     "text": [
      "   sqlite://\n",
      " * sqlite:////Users/sj501/Documents/Jupyter/Jupyter_lab/17_Joining_Data_in_SQL/countries.sqlite\n",
      "   sqlite:////Users/sj501/Documents/Jupyter/Jupyter_lab/17_Joining_Data_in_SQL/leaders.sqlite\n",
      "Done.\n"
     ]
    },
    {
     "data": {
      "text/html": [
       "<table>\n",
       "    <tr>\n",
       "        <th>country_name</th>\n",
       "        <th>total_investment</th>\n",
       "        <th>imports</th>\n",
       "    </tr>\n",
       "    <tr>\n",
       "        <td>Belize</td>\n",
       "        <td>22.014</td>\n",
       "        <td>6.743</td>\n",
       "    </tr>\n",
       "    <tr>\n",
       "        <td>Costa Rica</td>\n",
       "        <td>20.218</td>\n",
       "        <td>4.629</td>\n",
       "    </tr>\n",
       "    <tr>\n",
       "        <td>El Salvador</td>\n",
       "        <td>13.983</td>\n",
       "        <td>8.193</td>\n",
       "    </tr>\n",
       "    <tr>\n",
       "        <td>Guatemala</td>\n",
       "        <td>13.433</td>\n",
       "        <td>15.124</td>\n",
       "    </tr>\n",
       "    <tr>\n",
       "        <td>Honduras</td>\n",
       "        <td>24.633</td>\n",
       "        <td>9.353</td>\n",
       "    </tr>\n",
       "    <tr>\n",
       "        <td>Nicaragua</td>\n",
       "        <td>31.862</td>\n",
       "        <td>11.665</td>\n",
       "    </tr>\n",
       "    <tr>\n",
       "        <td>Panama</td>\n",
       "        <td>46.557</td>\n",
       "        <td>5.898</td>\n",
       "    </tr>\n",
       "</table>"
      ],
      "text/plain": [
       "[('Belize', '22.014', 6.743),\n",
       " ('Costa Rica', '20.218', 4.629),\n",
       " ('El Salvador', '13.983', 8.193),\n",
       " ('Guatemala', '13.433', 15.124),\n",
       " ('Honduras', '24.633', 9.353),\n",
       " ('Nicaragua', '31.862', 11.665),\n",
       " ('Panama', '46.557', 5.898)]"
      ]
     },
     "execution_count": 70,
     "metadata": {},
     "output_type": "execute_result"
    }
   ],
   "source": [
    "%%sql\n",
    "SELECT DISTINCT country_name, total_investment, imports\n",
    "FROM countries AS c\n",
    "    LEFT JOIN economies AS e\n",
    "        ON (c.code = e.code \n",
    "            AND c.code IN (\n",
    "                SELECT l.code\n",
    "                FROM languages AS l\n",
    "                WHERE official = 'TRUE'\n",
    "            ))\n",
    "WHERE region = 'Central America' AND year = 2015\n",
    "ORDER BY country_name;"
   ]
  },
  {
   "cell_type": "markdown",
   "id": "c13604fe-0c0f-4e8b-8d65-40d3a2df11c9",
   "metadata": {},
   "source": [
    "## Final challenge (2)\n",
    "Let's ease up a bit and calculate the average fertility rate for each region in 2015.\n",
    "\n",
    "- Include the name of region, its continent, and average fertility rate aliased as `avg_fert_rate`.\n",
    "- Sort based on `avg_fert_rate` ascending.\n",
    "- Remember that you'll need to `GROUP BY` all fields that aren't included in the aggregate function of `SELECT`."
   ]
  },
  {
   "cell_type": "code",
   "execution_count": 72,
   "id": "70fe1d01-11a4-4b4e-a6bf-88d1ab5cd1fe",
   "metadata": {},
   "outputs": [
    {
     "name": "stdout",
     "output_type": "stream",
     "text": [
      "   sqlite://\n",
      " * sqlite:////Users/sj501/Documents/Jupyter/Jupyter_lab/17_Joining_Data_in_SQL/countries.sqlite\n",
      "   sqlite:////Users/sj501/Documents/Jupyter/Jupyter_lab/17_Joining_Data_in_SQL/leaders.sqlite\n",
      "Done.\n"
     ]
    },
    {
     "data": {
      "text/html": [
       "<table>\n",
       "    <tr>\n",
       "        <th>region</th>\n",
       "        <th>continent</th>\n",
       "        <th>avg_fert_rate</th>\n",
       "    </tr>\n",
       "    <tr>\n",
       "        <td>Southern Europe</td>\n",
       "        <td>Europe</td>\n",
       "        <td>1.4261</td>\n",
       "    </tr>\n",
       "    <tr>\n",
       "        <td>Eastern Europe</td>\n",
       "        <td>Europe</td>\n",
       "        <td>1.4908888888888887</td>\n",
       "    </tr>\n",
       "    <tr>\n",
       "        <td>Baltic Countries</td>\n",
       "        <td>Europe</td>\n",
       "        <td>1.6033333333333333</td>\n",
       "    </tr>\n",
       "    <tr>\n",
       "        <td>Eastern Asia</td>\n",
       "        <td>Asia</td>\n",
       "        <td>1.6207142857142856</td>\n",
       "    </tr>\n",
       "    <tr>\n",
       "        <td>Western Europe</td>\n",
       "        <td>Europe</td>\n",
       "        <td>1.6324999999999998</td>\n",
       "    </tr>\n",
       "    <tr>\n",
       "        <td>North America</td>\n",
       "        <td>North America</td>\n",
       "        <td>1.7657500000000002</td>\n",
       "    </tr>\n",
       "    <tr>\n",
       "        <td>British Islands</td>\n",
       "        <td>Europe</td>\n",
       "        <td>1.875</td>\n",
       "    </tr>\n",
       "    <tr>\n",
       "        <td>Nordic Countries</td>\n",
       "        <td>Europe</td>\n",
       "        <td>1.8933333333333333</td>\n",
       "    </tr>\n",
       "    <tr>\n",
       "        <td>Australia and New Zealand</td>\n",
       "        <td>Oceania</td>\n",
       "        <td>1.9115</td>\n",
       "    </tr>\n",
       "    <tr>\n",
       "        <td>Caribbean</td>\n",
       "        <td>North America</td>\n",
       "        <td>1.9505714285714284</td>\n",
       "    </tr>\n",
       "    <tr>\n",
       "        <td>Southeast Asia</td>\n",
       "        <td>Asia</td>\n",
       "        <td>2.1559999999999997</td>\n",
       "    </tr>\n",
       "    <tr>\n",
       "        <td>South America</td>\n",
       "        <td>South America</td>\n",
       "        <td>2.27475</td>\n",
       "    </tr>\n",
       "    <tr>\n",
       "        <td>Central America</td>\n",
       "        <td>North America</td>\n",
       "        <td>2.326375</td>\n",
       "    </tr>\n",
       "    <tr>\n",
       "        <td>Middle East</td>\n",
       "        <td>Asia</td>\n",
       "        <td>2.547055555555555</td>\n",
       "    </tr>\n",
       "    <tr>\n",
       "        <td>Southern and Central Asia</td>\n",
       "        <td>Asia</td>\n",
       "        <td>2.6341428571428573</td>\n",
       "    </tr>\n",
       "    <tr>\n",
       "        <td>Micronesia</td>\n",
       "        <td>Oceania</td>\n",
       "        <td>2.86475</td>\n",
       "    </tr>\n",
       "    <tr>\n",
       "        <td>Northern Africa</td>\n",
       "        <td>Africa</td>\n",
       "        <td>2.908166666666667</td>\n",
       "    </tr>\n",
       "    <tr>\n",
       "        <td>Southern Africa</td>\n",
       "        <td>Africa</td>\n",
       "        <td>2.9908</td>\n",
       "    </tr>\n",
       "    <tr>\n",
       "        <td>Melanesia</td>\n",
       "        <td>Oceania</td>\n",
       "        <td>3.1358</td>\n",
       "    </tr>\n",
       "    <tr>\n",
       "        <td>Polynesia</td>\n",
       "        <td>Oceania</td>\n",
       "        <td>3.2443333333333335</td>\n",
       "    </tr>\n",
       "    <tr>\n",
       "        <td>Eastern Africa</td>\n",
       "        <td>Africa</td>\n",
       "        <td>4.386705882352941</td>\n",
       "    </tr>\n",
       "    <tr>\n",
       "        <td>Western Africa</td>\n",
       "        <td>Africa</td>\n",
       "        <td>4.960125000000001</td>\n",
       "    </tr>\n",
       "    <tr>\n",
       "        <td>Central Africa</td>\n",
       "        <td>Africa</td>\n",
       "        <td>4.967888888888889</td>\n",
       "    </tr>\n",
       "</table>"
      ],
      "text/plain": [
       "[('Southern Europe', 'Europe', 1.4261),\n",
       " ('Eastern Europe', 'Europe', 1.4908888888888887),\n",
       " ('Baltic Countries', 'Europe', 1.6033333333333333),\n",
       " ('Eastern Asia', 'Asia', 1.6207142857142856),\n",
       " ('Western Europe', 'Europe', 1.6324999999999998),\n",
       " ('North America', 'North America', 1.7657500000000002),\n",
       " ('British Islands', 'Europe', 1.875),\n",
       " ('Nordic Countries', 'Europe', 1.8933333333333333),\n",
       " ('Australia and New Zealand', 'Oceania', 1.9115),\n",
       " ('Caribbean', 'North America', 1.9505714285714284),\n",
       " ('Southeast Asia', 'Asia', 2.1559999999999997),\n",
       " ('South America', 'South America', 2.27475),\n",
       " ('Central America', 'North America', 2.326375),\n",
       " ('Middle East', 'Asia', 2.547055555555555),\n",
       " ('Southern and Central Asia', 'Asia', 2.6341428571428573),\n",
       " ('Micronesia', 'Oceania', 2.86475),\n",
       " ('Northern Africa', 'Africa', 2.908166666666667),\n",
       " ('Southern Africa', 'Africa', 2.9908),\n",
       " ('Melanesia', 'Oceania', 3.1358),\n",
       " ('Polynesia', 'Oceania', 3.2443333333333335),\n",
       " ('Eastern Africa', 'Africa', 4.386705882352941),\n",
       " ('Western Africa', 'Africa', 4.960125000000001),\n",
       " ('Central Africa', 'Africa', 4.967888888888889)]"
      ]
     },
     "execution_count": 72,
     "metadata": {},
     "output_type": "execute_result"
    }
   ],
   "source": [
    "%%sql\n",
    "SELECT region, continent, AVG(fertility_rate) AS avg_fert_rate\n",
    "FROM countries AS c\n",
    "    INNER JOIN populations AS p\n",
    "        ON c.code = p.country_code\n",
    "WHERE year = 2015\n",
    "GROUP BY region, continent\n",
    "ORDER BY avg_fert_rate;"
   ]
  },
  {
   "cell_type": "markdown",
   "id": "05c8d30b-fc71-424d-b471-7807f15309e4",
   "metadata": {},
   "source": [
    "```\n",
    "Showing 10 out of 23 rows\n",
    "```"
   ]
  },
  {
   "cell_type": "markdown",
   "id": "65ed0d0e-1dd4-407e-87d3-1d112231950e",
   "metadata": {},
   "source": [
    "*It seems that the average fertility rate is lowest in Southern Europe and highest in Central Africa.*"
   ]
  },
  {
   "cell_type": "markdown",
   "id": "b0063aae-236c-4cc0-b71c-71aef0f5884f",
   "metadata": {},
   "source": [
    "## Final challenge (3)\n",
    "You are now tasked with determining the top 10 capital cities in Europe and the Americas in terms of a calculated percentage using `city_proper_pop` and `metroarea_pop` in `cities`.\n",
    "\n",
    "Do not use table aliasing in this exercise.\n",
    "\n",
    "- Select the city name, country code, city proper population, and metro area population.\n",
    "- Calculate the percentage of metro area population composed of city proper population for each city in `cities`, aliased as `city_perc`.\n",
    "- Focus only on capital cities in Europe and the Americas in a subquery.\n",
    "- Make sure to exclude records with missing data on metro area population.\n",
    "- Order the result by `city_perc` descending.\n",
    "- Then determine the top 10 capital cities in Europe and the Americas in terms of this `city_perc` percentage."
   ]
  },
  {
   "cell_type": "code",
   "execution_count": 79,
   "id": "c80439b5-f08b-4b64-992b-dc767efe88d6",
   "metadata": {},
   "outputs": [
    {
     "name": "stdout",
     "output_type": "stream",
     "text": [
      "   sqlite://\n",
      " * sqlite:////Users/sj501/Documents/Jupyter/Jupyter_lab/17_Joining_Data_in_SQL/countries.sqlite\n",
      "   sqlite:////Users/sj501/Documents/Jupyter/Jupyter_lab/17_Joining_Data_in_SQL/leaders.sqlite\n",
      "Done.\n"
     ]
    },
    {
     "data": {
      "text/html": [
       "<table>\n",
       "    <tr>\n",
       "        <th>name</th>\n",
       "        <th>country_code</th>\n",
       "        <th>city_proper_pop</th>\n",
       "        <th>metroarea_pop</th>\n",
       "        <th>city_perc</th>\n",
       "    </tr>\n",
       "    <tr>\n",
       "        <td>Lima</td>\n",
       "        <td>PER</td>\n",
       "        <td>8852000</td>\n",
       "        <td>10750000</td>\n",
       "        <td>82</td>\n",
       "    </tr>\n",
       "    <tr>\n",
       "        <td>Bogota</td>\n",
       "        <td>COL</td>\n",
       "        <td>7878783</td>\n",
       "        <td>9800000</td>\n",
       "        <td>80</td>\n",
       "    </tr>\n",
       "    <tr>\n",
       "        <td>Moscow</td>\n",
       "        <td>RUS</td>\n",
       "        <td>12197596</td>\n",
       "        <td>16170000</td>\n",
       "        <td>75</td>\n",
       "    </tr>\n",
       "    <tr>\n",
       "        <td>Vienna</td>\n",
       "        <td>AUT</td>\n",
       "        <td>1863881</td>\n",
       "        <td>2600000</td>\n",
       "        <td>71</td>\n",
       "    </tr>\n",
       "    <tr>\n",
       "        <td>Montevideo</td>\n",
       "        <td>URY</td>\n",
       "        <td>1305082</td>\n",
       "        <td>1947604</td>\n",
       "        <td>67</td>\n",
       "    </tr>\n",
       "    <tr>\n",
       "        <td>Caracas</td>\n",
       "        <td>VEN</td>\n",
       "        <td>1943901</td>\n",
       "        <td>2923959</td>\n",
       "        <td>66</td>\n",
       "    </tr>\n",
       "    <tr>\n",
       "        <td>Rome</td>\n",
       "        <td>ITA</td>\n",
       "        <td>2877215</td>\n",
       "        <td>4353775</td>\n",
       "        <td>66</td>\n",
       "    </tr>\n",
       "    <tr>\n",
       "        <td>Brasilia</td>\n",
       "        <td>BRA</td>\n",
       "        <td>2556149</td>\n",
       "        <td>3919864</td>\n",
       "        <td>65</td>\n",
       "    </tr>\n",
       "    <tr>\n",
       "        <td>London</td>\n",
       "        <td>GBR</td>\n",
       "        <td>8673713</td>\n",
       "        <td>13879757</td>\n",
       "        <td>62</td>\n",
       "    </tr>\n",
       "    <tr>\n",
       "        <td>Budapest</td>\n",
       "        <td>HUN</td>\n",
       "        <td>1759407</td>\n",
       "        <td>2927944</td>\n",
       "        <td>60</td>\n",
       "    </tr>\n",
       "</table>"
      ],
      "text/plain": [
       "[('Lima', 'PER', 8852000, '10750000', 82),\n",
       " ('Bogota', 'COL', 7878783, '9800000', 80),\n",
       " ('Moscow', 'RUS', 12197596, '16170000', 75),\n",
       " ('Vienna', 'AUT', 1863881, '2600000', 71),\n",
       " ('Montevideo', 'URY', 1305082, '1947604', 67),\n",
       " ('Caracas', 'VEN', 1943901, '2923959', 66),\n",
       " ('Rome', 'ITA', 2877215, '4353775', 66),\n",
       " ('Brasilia', 'BRA', 2556149, '3919864', 65),\n",
       " ('London', 'GBR', 8673713, '13879757', 62),\n",
       " ('Budapest', 'HUN', 1759407, '2927944', 60)]"
      ]
     },
     "execution_count": 79,
     "metadata": {},
     "output_type": "execute_result"
    }
   ],
   "source": [
    "%%sql\n",
    "SELECT name, country_code, city_proper_pop, metroarea_pop, \n",
    "       city_proper_pop * 100 / metroarea_pop AS city_perc\n",
    "FROM cities\n",
    "WHERE name IN \n",
    "    (SELECT capital\n",
    "     FROM countries\n",
    "     WHERE (continent = 'Europe'\n",
    "        OR continent LIKE '%America'))\n",
    "       AND metroarea_pop IS NOT NULL\n",
    "ORDER BY city_perc DESC\n",
    "LIMIT 10;"
   ]
  },
  {
   "cell_type": "code",
   "execution_count": null,
   "id": "90670e2a-f3e2-4cf5-b9d5-0c28019f2438",
   "metadata": {},
   "outputs": [],
   "source": []
  }
 ],
 "metadata": {
  "kernelspec": {
   "display_name": "Python 3",
   "language": "python",
   "name": "python3"
  },
  "language_info": {
   "codemirror_mode": {
    "name": "ipython",
    "version": 3
   },
   "file_extension": ".py",
   "mimetype": "text/x-python",
   "name": "python",
   "nbconvert_exporter": "python",
   "pygments_lexer": "ipython3",
   "version": "3.8.8"
  }
 },
 "nbformat": 4,
 "nbformat_minor": 5
}
