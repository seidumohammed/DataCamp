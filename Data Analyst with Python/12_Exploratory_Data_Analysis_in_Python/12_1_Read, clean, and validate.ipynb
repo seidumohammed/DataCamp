{
 "cells": [
  {
   "cell_type": "markdown",
   "id": "e2bea54c-8d8a-46ce-ac07-8c905af4a295",
   "metadata": {},
   "source": [
    "# 1. Read, clean, and validate\n",
    "**The first step of almost any data project is to read the data, check for errors and special cases, and prepare data for analysis. This is exactly what you'll do in this chapter, while working with a dataset obtained from the National Survey of Family Growth.**"
   ]
  },
  {
   "cell_type": "markdown",
   "id": "c95c9f42-7f2a-4983-929f-7e3d08ce960c",
   "metadata": {},
   "source": [
    "## DataFrames and Series\n",
    "### Using data to answer questions\n",
    "As a first example, we'll start with a simple question: \n",
    "\n",
    "- What is the average birth weight of babies in the United States? \n",
    "\n",
    "To answer a question like this, we have to\n",
    "- find an appropriate dataset or run an experiment to collect it\n",
    "- get the data into our development environment\n",
    "- prepare it for analysis, which involves cleaning and validation\n",
    "\n",
    "### National Survey of Family Growth (NSFG)\n",
    "For this question we'll use data from the National Survey of Family Growth, which is available from the National Center for Health Statistics. The 2013-2015 dataset includes information about a representative sample of women in the U.S. and their children.\n",
    "\n",
    "### Reading data\n",
    "The Python module we'll use to read and analyze data is Pandas, which we'll import as `pd`. Pandas can read data in most common formats, including CSV, Excel, and the format the NSFG data is in, HDF5. "
   ]
  },
  {
   "cell_type": "code",
   "execution_count": 1,
   "id": "3e43fa9a-cc50-42da-b9b2-188ce87a819b",
   "metadata": {},
   "outputs": [
    {
     "data": {
      "text/plain": [
       "pandas.core.frame.DataFrame"
      ]
     },
     "execution_count": 1,
     "metadata": {},
     "output_type": "execute_result"
    }
   ],
   "source": [
    "import pandas as pd\n",
    "nsfg = pd.read_hdf('nsfg.hdf5', 'nsfg')\n",
    "type(nsfg)"
   ]
  },
  {
   "cell_type": "markdown",
   "id": "bb3756ad-faf7-4b04-92fe-686b7ddfc6ac",
   "metadata": {},
   "source": [
    "The result from `read_hdf()` is a DataFrame, which is the primary data structure Pandas uses to store data."
   ]
  },
  {
   "cell_type": "code",
   "execution_count": 2,
   "id": "ccf45342-f331-4e5b-b4d0-91edb2249855",
   "metadata": {},
   "outputs": [
    {
     "name": "stdout",
     "output_type": "stream",
     "text": [
      "   caseid  outcome  birthwgt_lb1  birthwgt_oz1  prglngth  nbrnaliv  agecon  \\\n",
      "0   60418        1           5.0           4.0        40       1.0    2000   \n",
      "1   60418        1           4.0          12.0        36       1.0    2291   \n",
      "2   60418        1           5.0           4.0        36       1.0    3241   \n",
      "3   60419        6           NaN           NaN        33       NaN    3650   \n",
      "4   60420        1           8.0          13.0        41       1.0    2191   \n",
      "\n",
      "   agepreg  hpagelb  wgt2013_2015  \n",
      "0   2075.0     22.0   3554.964843  \n",
      "1   2358.0     25.0   3554.964843  \n",
      "2   3308.0     52.0   3554.964843  \n",
      "3      NaN      NaN   2484.535358  \n",
      "4   2266.0     24.0   2903.782914  \n"
     ]
    }
   ],
   "source": [
    "print(nsfg.head())"
   ]
  },
  {
   "cell_type": "markdown",
   "id": "757e47a5-df8b-4b48-b4fa-1f0e3f426a0a",
   "metadata": {},
   "source": [
    "`head()` shows the first 5 rows of the DataFrame, which contains one row for each pregnancy for each of the women who participated in the survey, and one column for each variable."
   ]
  },
  {
   "cell_type": "markdown",
   "id": "24b9c6a2-b35c-439f-8e0a-aacc1b6f5161",
   "metadata": {},
   "source": [
    "### Columns and rows\n",
    "The DataFrame has an attribute called shape, which is the number of rows and columns; there are 9358 rows in this dataset, one for each pregnancy, and 10 columns, one for each variable."
   ]
  },
  {
   "cell_type": "code",
   "execution_count": 3,
   "id": "ead99568-3aed-4ff0-87bc-6eefac35cfb8",
   "metadata": {},
   "outputs": [
    {
     "data": {
      "text/plain": [
       "(9358, 10)"
      ]
     },
     "execution_count": 3,
     "metadata": {},
     "output_type": "execute_result"
    }
   ],
   "source": [
    "nsfg.shape"
   ]
  },
  {
   "cell_type": "markdown",
   "id": "12a314ee-023d-4ea7-ab2b-d85ad787f25a",
   "metadata": {},
   "source": [
    "The DataFrame also has an attribute called `columns`, which is an Index."
   ]
  },
  {
   "cell_type": "code",
   "execution_count": 4,
   "id": "8f8be9e7-dcd0-44e2-bab8-0eb3e64bf87e",
   "metadata": {},
   "outputs": [
    {
     "data": {
      "text/plain": [
       "Index(['caseid', 'outcome', 'birthwgt_lb1', 'birthwgt_oz1', 'prglngth',\n",
       "       'nbrnaliv', 'agecon', 'agepreg', 'hpagelb', 'wgt2013_2015'],\n",
       "      dtype='object')"
      ]
     },
     "execution_count": 4,
     "metadata": {},
     "output_type": "execute_result"
    }
   ],
   "source": [
    "nsfg.columns"
   ]
  },
  {
   "cell_type": "markdown",
   "id": "15befaab-9285-46b8-bdb9-06b29dd1aad6",
   "metadata": {},
   "source": [
    "That's another Pandas data structure, similar to a list; in this case it's a list of variables names, which are strings. Based on the names, you might be able to guess what some of the variables are, but in general you have to read the documentation.\n",
    "\n",
    "--\n",
    "\n",
    "This figure shows an entry from the codebook for birthwgt_lb1, which is the weight in pounds of the first baby from this pregnancy, for cases of live birth.\n",
    "\n",
    "#### BIRTHWGT_LB1 (46-47)\n",
    "**Variable Type**: raw\n",
    "**BD-3**: How much did(BABY'S NAME/this 1st baby) weigh at birth? (POUNDS)\n",
    "\n",
    "value | label | Total\n",
    ":---|:---|---:\n",
    ". | INAPPLICABLE | 2873\n",
    "0.5 | UNDER 6 POUNDS | 936\n",
    "6 | 6 POUNDS | 1666\n",
    "7 | 7 POUNDS | 2146\n",
    "8 | 8 POUNDS | 1168\n",
    "9-95 | 9 POUNDS OR MORE | 474\n",
    "98 | Refused | 1\n",
    "99 | Don't know | 94\n",
    " | **Total** | **9358**\n",
    "\n",
    "In many ways a DataFrame is like a Python dictionary, where the variable names are the keys and the columns are the values. \n",
    " \n",
    "### Each column is a Series\n",
    "You can select a column from a DataFrame using the bracket operator, with a string as the key. The result is a Series, which is another Pandas data structure. In this case the Series contains the birth weights, in pounds, of the live births (or in the case of multiple births, the first baby)."
   ]
  },
  {
   "cell_type": "code",
   "execution_count": 5,
   "id": "8a622cfa-10cc-49dc-a288-0854ef32a35d",
   "metadata": {},
   "outputs": [
    {
     "data": {
      "text/plain": [
       "pandas.core.series.Series"
      ]
     },
     "execution_count": 5,
     "metadata": {},
     "output_type": "execute_result"
    }
   ],
   "source": [
    "pounds = nsfg['birthwgt_lb1']\n",
    "type(pounds)"
   ]
  },
  {
   "cell_type": "markdown",
   "id": "f72494c2-4ea4-41cb-b663-0bf888f7ec6b",
   "metadata": {},
   "source": [
    "`head()` shows the first five values in the series, the name of the series, and the datatype; float64 means that these values are 64-bit floating-point numbers. \n"
   ]
  },
  {
   "cell_type": "code",
   "execution_count": 6,
   "id": "58ab34f3-7cfd-44c0-9cba-7bd391e526ff",
   "metadata": {},
   "outputs": [
    {
     "data": {
      "text/plain": [
       "0    5.0\n",
       "1    4.0\n",
       "2    5.0\n",
       "3    NaN\n",
       "4    8.0\n",
       "Name: birthwgt_lb1, dtype: float64"
      ]
     },
     "execution_count": 6,
     "metadata": {},
     "output_type": "execute_result"
    }
   ],
   "source": [
    "pounds.head()"
   ]
  },
  {
   "cell_type": "markdown",
   "id": "4566a2e6-5fb7-41e9-8e25-278c3e6c0aac",
   "metadata": {},
   "source": [
    "Notice that one of the values is NaN, which stands for \"Not a Number\". NaN is a special value that can indicate invalid or missing data. In this example, the pregnancy did not end in live birth, so birth weight is inapplicable."
   ]
  },
  {
   "cell_type": "markdown",
   "id": "71c46de9-1314-4210-8842-f27718d26103",
   "metadata": {},
   "source": [
    "## Read the codebook\n",
    "When you work with datasets like the NSFG, it is important to read the documentation carefully. If you interpret a variable incorrectly, you can generate nonsense results and never realize it. So before you start coding, you'll need to get familiar with the NSFG codebook, which describes every variable.\n",
    "\n",
    "Here is the documentation from the NSFG codebook for \"BIRTHWGT_OZ1\":\n",
    "#### BIRTHWGT_OZ1 (48-49)\n",
    "**Variable Type**: raw\n",
    "**BD-3**: How much did(BABY'S NAME/this 1st baby) weigh at birth? (OUNCES)\n",
    "\n",
    "value | label | Total\n",
    ":---|:---|---:\n",
    ". | INAPPLICABLE | 2967\n",
    "0-15 | 0-15 OUNCES | 6355\n",
    "98 | Refused | 1\n",
    "99 | Don't know | 35\n",
    " | **Total** | **9358**\n",
    "\n",
    "\n",
    "**Universe**: Applicable if pregnancy resulted in live birth (progoutcome = 1) and R did not say \"don't know\" or \"refused\" on the pounds question (BD-3 BIRTHWGT LB1 NE DK/RF)\n",
    "\n",
    "- How many respondents refused to answer this question?\n",
    "\n",
    "1. **1**\n",
    "2. ~35~\n",
    "3. ~48-49~\n",
    "4. ~2967~\n",
    "\n",
    "**Answer: 1.**\n"
   ]
  },
  {
   "cell_type": "markdown",
   "id": "1431b011-68b1-4a57-998e-6ba413882e04",
   "metadata": {},
   "source": [
    "## Exploring the NSFG data\n",
    "To get the number of rows and columns in a DataFrame, you can read its `shape` attribute.\n",
    "\n",
    "To get the column names, you can read the `columns` attribute. The result is an Index, which is a Pandas data structure that is similar to a list.\n",
    "\n",
    "- Select the column `'birthwgt_oz1'` and assign it to a new variable called `ounces`.\n",
    "- Display the first 5 elements of `ounces`."
   ]
  },
  {
   "cell_type": "code",
   "execution_count": 7,
   "id": "5b1b2ac5-c457-4051-ae45-4dcdd3dcb229",
   "metadata": {},
   "outputs": [
    {
     "name": "stdout",
     "output_type": "stream",
     "text": [
      "0     4.0\n",
      "1    12.0\n",
      "2     4.0\n",
      "3     NaN\n",
      "4    13.0\n",
      "Name: birthwgt_oz1, dtype: float64\n"
     ]
    }
   ],
   "source": [
    "# Select column birthwgt_oz1: ounces\n",
    "ounces = nsfg['birthwgt_oz1']\n",
    "\n",
    "# Print the first 5 elements of ounces\n",
    "print(ounces.head())"
   ]
  },
  {
   "cell_type": "markdown",
   "id": "bb1eede5-605c-4d64-8a83-5bf2b0a81849",
   "metadata": {},
   "source": [
    "---"
   ]
  },
  {
   "cell_type": "markdown",
   "id": "f2878c58-a226-4653-96af-f6d61c5bbef3",
   "metadata": {},
   "source": [
    "## Clean and Validate\n",
    "### Value counts\n",
    "Before we do anything with this data, we have to validate it. One part of validation is confirming that we are interpreting the data correctly. We can use `value_counts()` to see what values appear in pounds and how many times each value appears. \n",
    "\n",
    "By default, the results are sorted with the most frequent value first, so I use `sort_index()` to sort them by value instead, with the lightest babies first and heaviest babies last. "
   ]
  },
  {
   "cell_type": "code",
   "execution_count": 8,
   "id": "b21262c4-c212-458f-99a7-2337644a1e21",
   "metadata": {},
   "outputs": [
    {
     "data": {
      "text/plain": [
       "0.0        6\n",
       "1.0       34\n",
       "2.0       47\n",
       "3.0       67\n",
       "4.0      196\n",
       "5.0      586\n",
       "6.0     1666\n",
       "7.0     2146\n",
       "8.0     1168\n",
       "9.0      363\n",
       "10.0      82\n",
       "11.0      17\n",
       "12.0       7\n",
       "13.0       2\n",
       "14.0       2\n",
       "17.0       1\n",
       "98.0       1\n",
       "99.0      94\n",
       "Name: birthwgt_lb1, dtype: int64"
      ]
     },
     "execution_count": 8,
     "metadata": {},
     "output_type": "execute_result"
    }
   ],
   "source": [
    "pounds.value_counts().sort_index()"
   ]
  },
  {
   "cell_type": "markdown",
   "id": "1442c9a0-b349-4e1f-a4bb-421dd6bc8599",
   "metadata": {},
   "source": [
    "As we'd expect, the most frequent values are 6-8 pounds, but there are some very light babies, a few very heavy babies, and two values, 98, and 99, that indicate missing data."
   ]
  },
  {
   "cell_type": "markdown",
   "id": "7da4880c-be0e-4b42-87b0-fb195f530dde",
   "metadata": {},
   "source": [
    "### Value counts\n",
    "We can validate the results by comparing them to the codebook, which lists the values and their frequencies. \n",
    "\n",
    "#### BIRTHWGT_LB1 (46-47)\n",
    "**Variable Type**: raw\n",
    "**BD-3**: How much did(BABY'S NAME/this 1st baby) weigh at birth? (POUNDS)\n",
    "\n",
    "value | label | Total\n",
    ":---|:---|---:\n",
    ". | INAPPLICABLE | 2873\n",
    "0.5 | UNDER 6 POUNDS | 936\n",
    "6 | 6 POUNDS | 1666\n",
    "7 | 7 POUNDS | 2146\n",
    "8 | 8 POUNDS | 1168\n",
    "9-95 | 9 POUNDS OR MORE | 474\n",
    "98 | Refused | 1\n",
    "99 | Don't know | 94\n",
    " | **Total** | **9358**\n",
    "\n",
    "The results here agree with the codebook, so we have some confidence that we are reading and interpreting the data correctly."
   ]
  },
  {
   "cell_type": "markdown",
   "id": "55b241d2-d429-4732-9d27-2336ec0e64c0",
   "metadata": {},
   "source": [
    "### Describe\n",
    "Another way to validate the data is with `describe()`, which computes summary statistics like the *mean*, *standard deviation*, *min*, and *max*. Here are the results for pounds. \n"
   ]
  },
  {
   "cell_type": "code",
   "execution_count": 9,
   "id": "eb218c9f-56bd-4693-9cd8-bf68608ba838",
   "metadata": {},
   "outputs": [
    {
     "data": {
      "text/plain": [
       "count    6485.000000\n",
       "mean        8.055204\n",
       "std        11.178893\n",
       "min         0.000000\n",
       "25%         6.000000\n",
       "50%         7.000000\n",
       "75%         8.000000\n",
       "max        99.000000\n",
       "Name: birthwgt_lb1, dtype: float64"
      ]
     },
     "execution_count": 9,
     "metadata": {},
     "output_type": "execute_result"
    }
   ],
   "source": [
    "pounds.describe()"
   ]
  },
  {
   "cell_type": "markdown",
   "id": "e84ce747-da58-4ceb-a376-3c0a3333e087",
   "metadata": {},
   "source": [
    "*count* is the number of values. The *minimum* and *maximum* values are 0 and 99, and the 50th percentile, which is the *median*, is 7. The *mean* is about 8.05, but that doesn't mean much because it includes the special values 98 and 99. Before we can really compute the *mean*, we have to replace those values with NaN to represent missing data."
   ]
  },
  {
   "cell_type": "markdown",
   "id": "f6607a2d-a834-4179-9e38-ea5b3cfd6cc1",
   "metadata": {},
   "source": [
    "### Replace\n",
    "The `replace()` method does what we want; it takes a list of values we want to replace and the value we want to replace them with. `np.nan` means we are getting the special value NaN from the NumPy library, which is imported as `np`. "
   ]
  },
  {
   "cell_type": "code",
   "execution_count": 10,
   "id": "7a675742-e7f6-4396-b0eb-6fe2cfe696a0",
   "metadata": {},
   "outputs": [
    {
     "data": {
      "text/plain": [
       "6.703286384976526"
      ]
     },
     "execution_count": 10,
     "metadata": {},
     "output_type": "execute_result"
    }
   ],
   "source": [
    "import numpy as np\n",
    "pounds = pounds.replace([98, 99], np.nan)\n",
    "pounds.mean()"
   ]
  },
  {
   "cell_type": "markdown",
   "id": "91241f93-739d-42ad-87a1-d47a604b30d0",
   "metadata": {},
   "source": [
    "The result from `replace()` is a new Series, which I assign back to pounds. Remember that the mean of the original series was about 8 point 05 pounds. The mean of the new series is about 6 point 7 pounds. It makes a big difference when you remove a few 99-pound babies. \n",
    "\n",
    "Instead of making a new Series, you can call `replace()` with `inplace=True`, which modifies the existing Series \"in place\", that is, without making a copy. Here's what that looks like for ounces. "
   ]
  },
  {
   "cell_type": "code",
   "execution_count": 11,
   "id": "a40c7b39-2e2e-49bb-84f3-f25747e97b8d",
   "metadata": {},
   "outputs": [
    {
     "data": {
      "text/plain": [
       "6.694099134539733"
      ]
     },
     "execution_count": 11,
     "metadata": {},
     "output_type": "execute_result"
    }
   ],
   "source": [
    "ounces.replace([98, 99], np.nan, inplace=True)\n",
    "ounces.mean()"
   ]
  },
  {
   "cell_type": "markdown",
   "id": "fd5a8f89-6f0c-4101-b240-6b5739cf5470",
   "metadata": {},
   "source": [
    "Since we didn't make a new series, we don't have to assign it back to ounces."
   ]
  },
  {
   "cell_type": "markdown",
   "id": "99ec3573-a7f5-4bd5-b412-f306d632cc92",
   "metadata": {},
   "source": [
    "### Arithmetic with Series\n",
    "Now we want to combine pounds and ounces into a single Series that contains total birth weight. Arithmetic operators work with Series objects; so, to convert from ounces to pounds, we can divide by 16 (there are 16 ounces in a pound). Then we can add the two Series objects to get the total. Here are the results. "
   ]
  },
  {
   "cell_type": "code",
   "execution_count": 12,
   "id": "037ddb0b-e549-4847-aebe-ce1aec7e7197",
   "metadata": {},
   "outputs": [
    {
     "data": {
      "text/plain": [
       "count    6355.000000\n",
       "mean        7.120978\n",
       "std         1.422236\n",
       "min         0.000000\n",
       "25%         6.375000\n",
       "50%         7.187500\n",
       "75%         8.000000\n",
       "max        17.937500\n",
       "dtype: float64"
      ]
     },
     "execution_count": 12,
     "metadata": {},
     "output_type": "execute_result"
    }
   ],
   "source": [
    "birth_weight = pounds + ounces / 16.0\n",
    "birth_weight.describe()"
   ]
  },
  {
   "cell_type": "markdown",
   "id": "72e1cfd2-97f6-4562-9527-142abb4ccc58",
   "metadata": {},
   "source": [
    "The mean is about 7 point 1, which is a little more than what we got before we added in the ounces part. \n",
    "\n",
    "Now we're close to answering our original question, the average birth weight for babies in the U.S."
   ]
  },
  {
   "cell_type": "markdown",
   "id": "f423e66d-d199-4324-aa72-a77e5458eefb",
   "metadata": {},
   "source": [
    "## Validate a variable\n",
    "In the NSFG dataset, the variable `'outcome'` encodes the outcome of each pregnancy as shown below:\n",
    "\n",
    "value | label\n",
    ":---|:---\n",
    "1 | Live birth\n",
    "2 | Induced abortion\n",
    "3 | Stillbirth\n",
    "4 | Miscarriage\n",
    "5 | Ectopic pregnancy\n",
    "6 | Current pregnancy\n",
    "\n",
    "*Q. How many pregnancies in this dataset ended with a live birth?*"
   ]
  },
  {
   "cell_type": "code",
   "execution_count": 13,
   "id": "67c09b03-eeae-43b9-a1c5-2f44b9d0c4a4",
   "metadata": {},
   "outputs": [
    {
     "data": {
      "text/plain": [
       "1    6489\n",
       "2     947\n",
       "3      86\n",
       "4    1469\n",
       "5     118\n",
       "6     249\n",
       "Name: outcome, dtype: int64"
      ]
     },
     "execution_count": 13,
     "metadata": {},
     "output_type": "execute_result"
    }
   ],
   "source": [
    "nsfg['outcome'].value_counts().sort_index()"
   ]
  },
  {
   "cell_type": "markdown",
   "id": "843924d9-8873-41fa-af30-3fb54b761eb0",
   "metadata": {},
   "source": [
    "1. **6489**\n",
    "2. ~9538~\n",
    "3. ~1469~\n",
    "4. ~6~\n",
    "\n",
    "**Answer: 1.**"
   ]
  },
  {
   "cell_type": "markdown",
   "id": "d60d657b-b764-4f54-9410-f0b58c93d9cd",
   "metadata": {},
   "source": [
    "## Clean a variable\n",
    "In the NSFG dataset, the variable `'nbrnaliv'` records the number of babies born alive at the end of a pregnancy.\n",
    "\n",
    "If you use `.value_counts()` to view the responses, you'll see that the value `8` appears once, and if you consult the codebook, you'll see that this value indicates that the respondent refused to answer the question.\n",
    "\n",
    "Your job in this exercise is to replace this value with `np.nan`. Recall from the video how Allen replaced the values `98` and `99` in the `ounces` column using the `.replace()` method:\n",
    "```python\n",
    "ounces.replace([98, 99], np.nan, inplace=True)\n",
    "```\n",
    "\n",
    "- In the `'nbrnaliv'` column, replace the value `8`, in place, with the special value `NaN`.\n",
    "- Confirm that the value `8` no longer appears in this column by printing the values and their frequencies."
   ]
  },
  {
   "cell_type": "code",
   "execution_count": 14,
   "id": "53b19a0a-b486-491c-ad93-3d555416db5c",
   "metadata": {},
   "outputs": [
    {
     "name": "stdout",
     "output_type": "stream",
     "text": [
      "1.0    6379\n",
      "2.0     100\n",
      "3.0       5\n",
      "Name: nbrnaliv, dtype: int64\n"
     ]
    }
   ],
   "source": [
    "# Replace the value 8 with NaN\n",
    "nsfg['nbrnaliv'].replace(8, np.nan, inplace=True)\n",
    "\n",
    "# Print the values and their frequencies\n",
    "print(nsfg['nbrnaliv'].value_counts())"
   ]
  },
  {
   "cell_type": "markdown",
   "id": "6e18e702-41f8-4ef6-95b5-7e31b9cc669c",
   "metadata": {},
   "source": [
    "## Compute a variable\n",
    "For each pregnancy in the NSFG dataset, the variable `'agecon'` encodes the respondent's age at conception, and `'agepreg'` the respondent's age at the end of the pregnancy.\n",
    "\n",
    "Both variables are recorded as integers with two implicit decimal places, so the value `2575` means that the respondent's age was `25.75`.\n",
    "\n",
    "- Select `'agecon'` and `'agepreg'`, divide them by `100`, and assign them to the local variables `agecon` and `agepreg`."
   ]
  },
  {
   "cell_type": "code",
   "execution_count": 15,
   "id": "f839f2ee-cc99-4099-988f-1dd15edd30be",
   "metadata": {},
   "outputs": [],
   "source": [
    "# Select the columns and divide by 100\n",
    "agecon = nsfg['agecon'] / 100\n",
    "agepreg = nsfg['agepreg'] / 100"
   ]
  },
  {
   "cell_type": "markdown",
   "id": "b7367a0d-7a75-4ecc-b14a-9a3d01e345f6",
   "metadata": {},
   "source": [
    "- Compute the difference, which is an estimate of the duration of the pregnancy. Keep in mind that for each pregnancy, `agepreg` will be larger than `agecon`."
   ]
  },
  {
   "cell_type": "code",
   "execution_count": 16,
   "id": "fae323ad-a7dd-4038-b33f-36df5d67d98b",
   "metadata": {},
   "outputs": [],
   "source": [
    "# Compute the difference\n",
    "preg_length = agepreg - agecon"
   ]
  },
  {
   "cell_type": "markdown",
   "id": "b1914b8c-37d4-4ae9-9384-a9d4eec188fe",
   "metadata": {},
   "source": [
    "- Use `.describe()` to compute the mean duration and other summary statistics."
   ]
  },
  {
   "cell_type": "code",
   "execution_count": 17,
   "id": "caaf8697-97a0-45cd-9c8f-bbd74db3989b",
   "metadata": {},
   "outputs": [
    {
     "name": "stdout",
     "output_type": "stream",
     "text": [
      "count    9109.000000\n",
      "mean        0.552069\n",
      "std         0.271479\n",
      "min         0.000000\n",
      "25%         0.250000\n",
      "50%         0.670000\n",
      "75%         0.750000\n",
      "max         0.920000\n",
      "dtype: float64\n"
     ]
    }
   ],
   "source": [
    "# Compute summary statistics\n",
    "print(preg_length.describe())"
   ]
  },
  {
   "cell_type": "markdown",
   "id": "a1e57ae0-51b1-446f-a480-31a9835ce8ad",
   "metadata": {},
   "source": [
    "*A variable that's computed from other variables is sometimes called a 'recode'. It's now time to get back to the motivating question for this chapter: what is the average birth weight for babies in the U.S.?*"
   ]
  },
  {
   "cell_type": "markdown",
   "id": "464f0c10-b86c-4591-ae71-e19b34da1137",
   "metadata": {},
   "source": [
    "---"
   ]
  },
  {
   "cell_type": "markdown",
   "id": "60c1e811-0416-4161-86c8-f39ec5a9ef3d",
   "metadata": {
    "tags": []
   },
   "source": [
    "## Filter and visualize\n",
    "### Histogram\n",
    "In the previous lesson, we used data from the NSFG to compute birth weight in pounds and we stored the result in a Series called `birth_weight`. \n",
    "\n",
    "Let's see what the distribution of those values looks like. \n",
    "\n",
    "We'll use the pyplot submodule from the matplotlib visualization library, which we import as `plt`. "
   ]
  },
  {
   "cell_type": "code",
   "execution_count": 18,
   "id": "af2e9c0a-23d0-463a-9daf-bf9186da3452",
   "metadata": {},
   "outputs": [],
   "source": [
    "import matplotlib.pyplot as plt"
   ]
  },
  {
   "cell_type": "markdown",
   "id": "d423e697-615f-4c89-b6d3-58a7093923d2",
   "metadata": {},
   "source": [
    "Pyplot provides `hist()`, which takes a Series and plots a histogram; that is, it shows the values and how often they appear. \n",
    "\n",
    "However, pyplot doesn't work with NaNs, so we have to use `dropna()`, which makes a new Series that contains only the valid values. \n",
    "\n",
    "The second argument, `bins`, tells hist to divide the range of weights into 30 intervals, called \"bins\", and count how many values fall in each bin. `hist()` takes other arguments that specify the type and appearance of the histogram.\n",
    "\n",
    "To label the axes we'll use `xlabel()` and `ylabel()`, and finally, to display the plot, we'll use `plt.show()`."
   ]
  },
  {
   "cell_type": "code",
   "execution_count": 19,
   "id": "3de73208-34ac-4df2-8f61-07d13a06b6f2",
   "metadata": {},
   "outputs": [
    {
     "data": {
      "image/png": "[encoded data removed]",
      "text/plain": [
       "<Figure size 432x288 with 1 Axes>"
      ]
     },
     "metadata": {
      "needs_background": "light"
     },
     "output_type": "display_data"
    }
   ],
   "source": [
    "plt.hist(birth_weight.dropna(), bins=30)\n",
    "\n",
    "plt.xlabel('Birth weight (lb)')\n",
    "plt.ylabel('Fraction of births')\n",
    "plt.show()"
   ]
  },
  {
   "cell_type": "markdown",
   "id": "597d72ad-a143-4a1c-ae1a-c11e95d8c647",
   "metadata": {},
   "source": [
    "Here's what the results look like. \n",
    "\n",
    "The x-axis is birth weight in pounds, divided into 30 bins. \n",
    "\n",
    "The y-axis is the number of births in each bin. \n",
    "\n",
    "The distribution looks a little like a bell curve, but the tail is longer on the left than on the right; that is, there are more light babies than heavy babies. That makes sense because the distribution includes some babies that were born preterm. The most common duration for pregnancy is 39 weeks, which is \"full term\"; \"preterm\" is usually defined to be less than 37 weeks.\n",
    "\n",
    "### Boolean Series\n",
    "To see which babies are preterm, we can use the prglngth column, which records pregnancy length in weeks. "
   ]
  },
  {
   "cell_type": "code",
   "execution_count": 20,
   "id": "d05a5ce9-baf3-4f37-b9cb-7aa86f3a99f1",
   "metadata": {},
   "outputs": [],
   "source": [
    "preterm = nsfg['prglngth'] < 37"
   ]
  },
  {
   "cell_type": "markdown",
   "id": "e1cc20a9-59fd-46e8-8e17-49e931fa39d4",
   "metadata": {},
   "source": [
    "When you compare a Series to a value, the result is a Boolean Series; that is, each element is a Boolean value, True or False. In this case, it's True for each preterm baby and False otherwise. \n",
    "\n",
    "We can use `head()` to see the first 5 elements."
   ]
  },
  {
   "cell_type": "code",
   "execution_count": 21,
   "id": "cd64ae7f-6e7f-49f6-9eac-37f42a5880dc",
   "metadata": {},
   "outputs": [
    {
     "data": {
      "text/plain": [
       "0    False\n",
       "1     True\n",
       "2     True\n",
       "3     True\n",
       "4    False\n",
       "Name: prglngth, dtype: bool"
      ]
     },
     "execution_count": 21,
     "metadata": {},
     "output_type": "execute_result"
    }
   ],
   "source": [
    "preterm.head()"
   ]
  },
  {
   "cell_type": "markdown",
   "id": "32acd0d2-726f-473e-b451-b601f4f69991",
   "metadata": {},
   "source": [
    "If you compute the sum of a Boolean Series, it treats True as `1` and False as `0`, so the sum is the number of Trues, which is the number of preterm babies, about 3700. "
   ]
  },
  {
   "cell_type": "code",
   "execution_count": 22,
   "id": "9dc00af0-aed9-45a6-af3c-5e914f794a92",
   "metadata": {},
   "outputs": [
    {
     "data": {
      "text/plain": [
       "3742"
      ]
     },
     "execution_count": 22,
     "metadata": {},
     "output_type": "execute_result"
    }
   ],
   "source": [
    "preterm.sum()"
   ]
  },
  {
   "cell_type": "markdown",
   "id": "53fa6640-760d-46cc-8846-cf1b117855f0",
   "metadata": {},
   "source": [
    "If you compute the mean, you get the fraction of Trues; in this case, it's close to 0.4; that is, about 40% of the births in this dataset are preterm."
   ]
  },
  {
   "cell_type": "code",
   "execution_count": 23,
   "id": "adbcbd4c-ea96-441d-9116-21b0fdbd86ce",
   "metadata": {},
   "outputs": [
    {
     "data": {
      "text/plain": [
       "0.39987176747168196"
      ]
     },
     "execution_count": 23,
     "metadata": {},
     "output_type": "execute_result"
    }
   ],
   "source": [
    "preterm.mean()"
   ]
  },
  {
   "cell_type": "markdown",
   "id": "b5590ee7-a157-4d5c-97f2-93bf4e3aadc7",
   "metadata": {},
   "source": [
    "### Filtering\n",
    "We can use a Boolean Series as a filter; that is, we can select only rows that satisfy a condition or meet some criteria. \n",
    "\n",
    "For example, we can use preterm and the bracket operator to select values from `birth_weight`, so `preterm_weight` contains birth weights for preterm babies. "
   ]
  },
  {
   "cell_type": "code",
   "execution_count": 24,
   "id": "07dad32c-1722-4fe8-a13e-1c49291128ff",
   "metadata": {},
   "outputs": [
    {
     "data": {
      "text/plain": [
       "5.577598314606742"
      ]
     },
     "execution_count": 24,
     "metadata": {},
     "output_type": "execute_result"
    }
   ],
   "source": [
    "preterm_weight = birth_weight[preterm]\n",
    "preterm_weight.mean()"
   ]
  },
  {
   "cell_type": "markdown",
   "id": "efc741e4-32d9-4aa9-8a9d-58251352f16b",
   "metadata": {},
   "source": [
    "To select full-term babies, we can use the tilde operator, which is \"logical NOT\" or inverse; it makes the Trues false and the Falses true. "
   ]
  },
  {
   "cell_type": "code",
   "execution_count": 25,
   "id": "6b1e881c-7098-4ac4-8129-6abe358bf240",
   "metadata": {},
   "outputs": [
    {
     "data": {
      "text/plain": [
       "7.372323879231473"
      ]
     },
     "execution_count": 25,
     "metadata": {},
     "output_type": "execute_result"
    }
   ],
   "source": [
    "full_term_weight = birth_weight[~preterm]\n",
    "full_term_weight.mean()"
   ]
  },
  {
   "cell_type": "markdown",
   "id": "7b0371af-0ff4-479f-85b3-bc64cff35c49",
   "metadata": {},
   "source": [
    "Not surprisingly, full term babies are heavier, on average, than preterm babies.\n",
    "\n",
    "If you have two Boolean Series, you can use logical operators to combine them; `&` is the logical AND operator, and `|` or pipe is logical OR."
   ]
  },
  {
   "cell_type": "markdown",
   "id": "c94499a8-c242-4388-bd50-68096ba70ed2",
   "metadata": {},
   "source": [
    "### Resampling\n",
    "There's one more thing we have to do before we can answer our question: resampling.\n",
    "\n",
    "The **NSFG is not exactly representative** of the U.S. population; by design, **some groups are** more likely to appear in the sample than others; they are **\"oversampled\"**. \n",
    "\n",
    "Oversampling helps to ensure that you have enough people in every subgroup to get reliable statistics, but it makes the analysis a little more complicated. \n",
    "\n",
    "However, we can correct for oversampling by resampling using `resample_rows_weighted()`."
   ]
  },
  {
   "cell_type": "markdown",
   "id": "32b9a14e-a57c-4dd2-a622-86b15dcdb311",
   "metadata": {},
   "source": [
    "## Make a histogram\n",
    "Histograms are one of the most useful tools in exploratory data analysis. They quickly give you an overview of the distribution of a variable, that is, what values the variable can have, and how many times each value appears.\n",
    "\n",
    "As we saw in a previous exercise, the NSFG dataset includes a variable `'agecon'` that records age at conception for each pregnancy. Here, you're going to plot a histogram of this variable. You'll use the `bins` parameter, and also a new parameter - `histtype` - which you can read more about [here](https://matplotlib.org/api/_as_gen/matplotlib.pyplot.hist.html) in the `matplotlib` documentation.\n",
    "\n",
    "- Plot a histogram of `ageco` with `20` bins."
   ]
  },
  {
   "cell_type": "code",
   "execution_count": 26,
   "id": "3ae143fa-1582-41c7-aa2a-4414f59886c1",
   "metadata": {},
   "outputs": [
    {
     "data": {
      "image/png": "[encoded data removed]",
      "text/plain": [
       "<Figure size 432x288 with 1 Axes>"
      ]
     },
     "metadata": {
      "needs_background": "light"
     },
     "output_type": "display_data"
    }
   ],
   "source": [
    "# Plot the histogram\n",
    "plt.hist(agecon, bins=20)\n",
    "\n",
    "# Label the axes\n",
    "plt.xlabel('Age at conception')\n",
    "plt.ylabel('Number of pregnancies')\n",
    "\n",
    "# Show the figure\n",
    "plt.show()"
   ]
  },
  {
   "cell_type": "markdown",
   "id": "4e1728cb-33c5-4c20-8e6f-e7d174093a3d",
   "metadata": {},
   "source": [
    "- Adapt your code to make an unfilled histogram by setting the parameter `histtype` to be `'step'`."
   ]
  },
  {
   "cell_type": "code",
   "execution_count": 27,
   "id": "a7063b60-9a1f-42c3-b0cd-cb295d7aa506",
   "metadata": {},
   "outputs": [
    {
     "data": {
      "image/png": "[encoded data removed]",
      "text/plain": [
       "<Figure size 432x288 with 1 Axes>"
      ]
     },
     "metadata": {
      "needs_background": "light"
     },
     "output_type": "display_data"
    }
   ],
   "source": [
    "# Plot the histogram\n",
    "plt.hist(agecon, bins=20, histtype='step')\n",
    "\n",
    "# Label the axes\n",
    "plt.xlabel('Age at conception')\n",
    "plt.ylabel('Number of pregnancies')\n",
    "\n",
    "# Show the figure\n",
    "plt.show()"
   ]
  },
  {
   "cell_type": "markdown",
   "id": "dbdcda6d-3df9-4223-8d67-79003e57cc32",
   "metadata": {},
   "source": [
    "## Compute birth weight\n",
    "Now let's pull together the steps in this chapter to compute the average birth weight for full-term babies.\n",
    "\n",
    "I've provided a function, `resample_rows_weighted`, that takes the NSFG data and resamples it using the sampling weights in `wgt2013_2015`. The result is a sample that is representative of the U.S. population.\n",
    "\n",
    "Then I extract `birthwgt_lb1` and `birthwgt_oz1`, replace special codes with NaN, and compute total birth weight in pounds, `birth_weight`.\n",
    "\n",
    "```python\n",
    "# Resample the data\n",
    "nsfg = resample_rows_weighted(nsfg, 'wgt2013_2015')\n",
    "\n",
    "# Clean the weight variables\n",
    "pounds = nsfg['birthwgt_lb1'].replace([98, 99], np.nan)\n",
    "ounces = nsfg['birthwgt_oz1'].replace([98, 99], np.nan)\n",
    "\n",
    "# Compute total birth weight\n",
    "birth_weight = pounds + ounces/16\n",
    "```"
   ]
  },
  {
   "cell_type": "markdown",
   "id": "0128c76c-bd25-4158-9a17-0e3e3e65d9a4",
   "metadata": {},
   "source": [
    "- Make a Boolean Series called `full_term` that is true for babies with `'prglngth'` greater than or equal to 37 weeks.\n",
    "- Use `full_term` and `birth_weight` to select birth weight in pounds for full-term babies. Store the result in `full_term_weight`.\n",
    "- Compute the mean weight of full-term babies."
   ]
  },
  {
   "cell_type": "code",
   "execution_count": 28,
   "id": "6d593244-08b5-4bd8-a791-a72b36432aed",
   "metadata": {},
   "outputs": [
    {
     "name": "stdout",
     "output_type": "stream",
     "text": [
      "7.372323879231473\n"
     ]
    }
   ],
   "source": [
    "# Create a Boolean Series for full-term babies\n",
    "full_term = nsfg['prglngth'] >= 37\n",
    "\n",
    "# Select the weights of full-term babies\n",
    "full_term_weight = birth_weight[full_term]\n",
    "\n",
    "# Compute the mean weight of full-term babies\n",
    "print(full_term_weight.mean())"
   ]
  },
  {
   "cell_type": "markdown",
   "id": "499d43fb-bc34-449a-9dd4-5823913c08ed",
   "metadata": {},
   "source": [
    "## Filter\n",
    "In the previous exercise, you computed the mean birth weight for full-term babies; you filtered out preterm babies because their distribution of weight is different.\n",
    "\n",
    "The distribution of weight is also different for multiple births, like twins and triplets. In this exercise, you'll filter them out, too, and see what effect it has on the mean.\n",
    "\n",
    "- Use the variable `'nbrnaliv'` to make a Boolean Series that is `True` for single births (where `'nbrnaliv'` equals `1`) and `False` otherwise.\n",
    "- Use Boolean Series and logical operators to select single, full-term babies and compute their mean birth weight.\n",
    "- For comparison, select multiple, full-term babies and compute their mean birth weight."
   ]
  },
  {
   "cell_type": "code",
   "execution_count": 29,
   "id": "a835165c-87ad-42f0-830b-787b296838f3",
   "metadata": {},
   "outputs": [
    {
     "name": "stdout",
     "output_type": "stream",
     "text": [
      "Single full-term mean: 7.385643450184502\n",
      "Multiple full-term mean: 5.768055555555556\n"
     ]
    }
   ],
   "source": [
    "# Filter full-term babies\n",
    "full_term = nsfg['prglngth'] >= 37\n",
    "\n",
    "# Filter single births\n",
    "single = nsfg['nbrnaliv'] == 1\n",
    "\n",
    "# Compute birth weight for single full-term babies\n",
    "single_full_term_weight = birth_weight[full_term & single]\n",
    "print('Single full-term mean:', single_full_term_weight.mean())\n",
    "\n",
    "# Compute birth weight for multiple full-term babies\n",
    "mult_full_term_weight = birth_weight[full_term & ~single]\n",
    "print('Multiple full-term mean:', mult_full_term_weight.mean())\n"
   ]
  },
  {
   "cell_type": "markdown",
   "id": "69b1a978-569a-4e43-ab6f-112208fd1297",
   "metadata": {},
   "source": [
    "*Now that we have clean data, we're ready to explore.*"
   ]
  }
 ],
 "metadata": {
  "kernelspec": {
   "display_name": "Python 3",
   "language": "python",
   "name": "python3"
  },
  "language_info": {
   "codemirror_mode": {
    "name": "ipython",
    "version": 3
   },
   "file_extension": ".py",
   "mimetype": "text/x-python",
   "name": "python",
   "nbconvert_exporter": "python",
   "pygments_lexer": "ipython3",
   "version": "3.8.8"
  }
 },
 "nbformat": 4,
 "nbformat_minor": 5
}
