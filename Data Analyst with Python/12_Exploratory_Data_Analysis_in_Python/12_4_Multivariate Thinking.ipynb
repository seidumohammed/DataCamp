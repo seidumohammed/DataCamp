{
 "cells": [
  {
   "cell_type": "markdown",
   "id": "357d7957-8f8f-4498-a10b-8981d8410d52",
   "metadata": {},
   "source": [
    "# 4. Multivariate Thinking\n",
    "**Explore multivariate relationships using multiple regression to describe non-linear relationships and logistic regression to explain and predict binary variables.**"
   ]
  },
  {
   "cell_type": "markdown",
   "id": "97b9b916-c8d5-443b-a260-842c557ecb24",
   "metadata": {
    "tags": []
   },
   "source": [
    "## Limits of simple regression\n",
    "Regression is not symmetric; the regression of A onto B is not the same as the regression of B onto A.\n",
    "\n",
    "A might cause B, or B might cause A, or there might be other factors that cause both A and B. Regression alone can't tell you which way it goes.\n",
    "\n",
    "### Multiple regression\n",
    "However, we have tools for teasing apart relationships among multiple variables; one of the most important is multiple regression.\n",
    "\n",
    "SciPy doesn't do multiple regression, so we have to switch to a new library, StatsModels. Here's the import statement. "
   ]
  },
  {
   "cell_type": "code",
   "execution_count": 1,
   "id": "3276c4aa-42dd-408b-aea8-97cea6a1e6f1",
   "metadata": {},
   "outputs": [],
   "source": [
    "import statsmodels.formula.api as smf"
   ]
  },
  {
   "cell_type": "markdown",
   "id": "26193277-7f42-4c51-80cd-757e88995c93",
   "metadata": {},
   "source": [
    "And here's how we use it."
   ]
  },
  {
   "cell_type": "code",
   "execution_count": 2,
   "id": "253d7859-3160-4bc4-98e8-004c98111c7b",
   "metadata": {},
   "outputs": [],
   "source": [
    "import pandas as pd\n",
    "brfss = pd.read_hdf('brfss.hdf5', 'brfss')"
   ]
  },
  {
   "cell_type": "code",
   "execution_count": 3,
   "id": "7d29584b-582e-420f-b0fa-78af880dd3cc",
   "metadata": {},
   "outputs": [
    {
     "data": {
      "text/plain": [
       "Intercept    5.450700\n",
       "_VEGESU1     0.204935\n",
       "dtype: float64"
      ]
     },
     "execution_count": 3,
     "metadata": {},
     "output_type": "execute_result"
    }
   ],
   "source": [
    "results = smf.ols('INCOME2 ~ _VEGESU1', data=brfss).fit()\n",
    "results.params"
   ]
  },
  {
   "cell_type": "markdown",
   "id": "bd5aa6ac-26cc-420c-b062-72b3c738063b",
   "metadata": {},
   "source": [
    "`ols` stands for \"ordinary least squares\", another name for regression. The first argument is a formula string that specifies that we want to regress income as a function of vegetable consumption. The second argument is the BRFSS DataFrame. The names in the formula correspond to columns in the DataFrame. The result from `ols()` represents the model; we have to run  `.fit()` to get the results. \n",
    "\n",
    "The results object contains a lot of information, but the first thing we'll look at is params, which contains the estimated slope and intercept. And we get the same results we got from SciPy."
   ]
  },
  {
   "cell_type": "markdown",
   "id": "27e1123a-0e00-48ba-9497-f46a96f46745",
   "metadata": {},
   "source": [
    "## Regression and causation\n",
    "In the BRFSS dataset, there is a strong relationship between vegetable consumption and income. The income of people who eat 8 servings of vegetables per day is double the income of people who eat none, on average.\n",
    "\n",
    "Which of the following conclusions can we draw from this data?\n",
    "\n",
    "    A. Eating a good diet leads to better health and higher income.\n",
    "    B. People with higher income can afford a better diet.\n",
    "    C. People with high income are more likely to be vegetarians."
   ]
  },
  {
   "cell_type": "markdown",
   "id": "a7446a65-cbbc-41d3-8832-df38ae6f9129",
   "metadata": {},
   "source": [
    "1. ~A only.~\n",
    "2. ~B only.~\n",
    "3. ~B and C.~\n",
    "4. **None of them.**\n",
    "\n",
    "**Answer: 4.** *This data is consistent with all of these conclusions, but **it does not provide conclusive evidence for any of them**.*\n"
   ]
  },
  {
   "cell_type": "code",
   "execution_count": 4,
   "id": "10361fae-8fbb-44c9-bebe-2a7f326291b6",
   "metadata": {},
   "outputs": [
    {
     "name": "stdout",
     "output_type": "stream",
     "text": [
      "LinregressResult(slope=0.06988048092105006, intercept=1.5287786243363113, rvalue=0.11967005884864092, pvalue=1.378503916249654e-238, stderr=0.0021109763563323305, intercept_stderr=0.013196467544093591)\n",
      "Intercept    1.528779\n",
      "INCOME2      0.069880\n",
      "dtype: float64\n"
     ]
    }
   ],
   "source": [
    "from scipy.stats import linregress\n",
    "import statsmodels.formula.api as smf\n",
    "\n",
    "# Run regression with linregress\n",
    "subset = brfss.dropna(subset=['INCOME2', '_VEGESU1'])\n",
    "xs = subset['INCOME2']\n",
    "ys = subset['_VEGESU1']\n",
    "res = linregress(xs, ys)\n",
    "print(res)\n",
    "\n",
    "# Run regression with StatsModels\n",
    "results = smf.ols('_VEGESU1 ~ INCOME2', data=brfss).fit()\n",
    "print(results.params)"
   ]
  },
  {
   "cell_type": "markdown",
   "id": "e105ee6c-b3f4-41a4-8960-477ba7ab3f45",
   "metadata": {},
   "source": [
    "*When starting working with a new library, checks like this help ensure that I am doing it right.*"
   ]
  },
  {
   "cell_type": "markdown",
   "id": "89b04575-a0ee-4dc3-920f-276eb4a3a7d3",
   "metadata": {},
   "source": [
    "---"
   ]
  },
  {
   "cell_type": "markdown",
   "id": "a84e50ae-e3b1-41d3-9da0-32dc04be42ac",
   "metadata": {},
   "source": [
    "## Multiple regression\n",
    "###  Income and education\n",
    "First, load the GSS data."
   ]
  },
  {
   "cell_type": "code",
   "execution_count": 5,
   "id": "5019e0e2-2e06-49a3-8c8c-11147e44519f",
   "metadata": {},
   "outputs": [],
   "source": [
    "gss = pd.read_hdf('gss.hdf5', 'gss')"
   ]
  },
  {
   "cell_type": "markdown",
   "id": "8d34469d-2f8b-4efb-830f-64762b9e4292",
   "metadata": {},
   "source": [
    "Then run a regression of real income as a function of years of education. \n",
    "\n",
    "The first argument of `ols()` is a formula that specifies the variables in the regression. On the left, realinc is the variable we are trying to predict; on the right, educ is the variable for using to inform the predictions. And here are the results."
   ]
  },
  {
   "cell_type": "code",
   "execution_count": 6,
   "id": "18384458-3f41-428c-9260-873a90d0e1ca",
   "metadata": {},
   "outputs": [
    {
     "data": {
      "text/plain": [
       "Intercept   -11539.147837\n",
       "educ          3586.523659\n",
       "dtype: float64"
      ]
     },
     "execution_count": 6,
     "metadata": {},
     "output_type": "execute_result"
    }
   ],
   "source": [
    "results = smf.ols('realinc ~ educ', data=gss).fit()\n",
    "results.params"
   ]
  },
  {
   "cell_type": "markdown",
   "id": "843b56c6-0f8d-4290-a12f-3e9c3aff67d5",
   "metadata": {},
   "source": [
    "The estimated slope is 3586, which means that each additional year of education is associated with an increase of almost $3600 of income. But income also depends on age, so it would be good to include that in the model, too.\n",
    "\n",
    "### Adding age\n",
    "Here's how. On the right side of the formula, it is possible to list as many variables as like, in this case, there are `educ` and `age`. The plus sign indicates that we expect the contributions of the two variables to be additive, which is a common assumption for models like this. Here are the results. "
   ]
  },
  {
   "cell_type": "code",
   "execution_count": 7,
   "id": "809a64b8-18ed-4ae0-81f0-c249bbdcd035",
   "metadata": {},
   "outputs": [
    {
     "data": {
      "text/plain": [
       "Intercept   -16117.275684\n",
       "educ          3655.166921\n",
       "age             83.731804\n",
       "dtype: float64"
      ]
     },
     "execution_count": 7,
     "metadata": {},
     "output_type": "execute_result"
    }
   ],
   "source": [
    "results = smf.ols('realinc ~ educ + age', data=gss).fit()\n",
    "results.params"
   ]
  },
  {
   "cell_type": "markdown",
   "id": "80a48105-49a5-484b-bf99-e3d50f0fca6e",
   "metadata": {},
   "source": [
    "The estimated slope for education is 3655, a little more than in the previous model. The estimated slope for age is only about $80 per year, which is surprisingly small."
   ]
  },
  {
   "cell_type": "markdown",
   "id": "63e440e9-5aa3-40b7-b3f8-36db78ca7aeb",
   "metadata": {},
   "source": [
    "###  Income and age\n",
    "To see what's going on, let's look more closely at the relationship between income and age. I'll use `groupby()`, which is a Pandas feature we haven't seen before, to divide the DataFrame into age groups. "
   ]
  },
  {
   "cell_type": "code",
   "execution_count": 8,
   "id": "5bb6a30b-a27c-425c-bf4d-2689bf4de522",
   "metadata": {},
   "outputs": [
    {
     "data": {
      "text/plain": [
       "<pandas.core.groupby.generic.DataFrameGroupBy object at 0x000001BCFB7E5C70>"
      ]
     },
     "execution_count": 8,
     "metadata": {},
     "output_type": "execute_result"
    }
   ],
   "source": [
    "grouped = gss.groupby('age')\n",
    "grouped"
   ]
  },
  {
   "cell_type": "markdown",
   "id": "6f94199c-3594-4132-80b0-c815757b503e",
   "metadata": {},
   "source": [
    "The result is a GroupBy object that contains one group for each value of age. The GroupBy object behaves like a DataFrame in many ways. It is possible to use brackets to select a column, like realinc in this example, and then invoke a method like `mean()`. "
   ]
  },
  {
   "cell_type": "code",
   "execution_count": 9,
   "id": "ed5d994a-b980-442e-b2e1-b57f295a5c3b",
   "metadata": {},
   "outputs": [],
   "source": [
    "mean_income_by_age = grouped['realinc'].mean()"
   ]
  },
  {
   "cell_type": "markdown",
   "id": "b93ce4cf-b5dd-4d3e-8e95-b0d8c707eb09",
   "metadata": {},
   "source": [
    "The result is a Pandas series that contains the mean income for each age group, which we can plot like this."
   ]
  },
  {
   "cell_type": "code",
   "execution_count": 10,
   "id": "7479bc5f-622e-40ef-bf08-52e16ab1be22",
   "metadata": {},
   "outputs": [
    {
     "data": {
      "image/png": "[encoded data removed]",
      "text/plain": [
       "<Figure size 432x288 with 1 Axes>"
      ]
     },
     "metadata": {
      "needs_background": "light"
     },
     "output_type": "display_data"
    }
   ],
   "source": [
    "import matplotlib.pyplot as plt\n",
    "plt.plot(mean_income_by_age, 'o', alpha=0.5)\n",
    "plt.xlabel('Age (years)')\n",
    "plt.ylabel('Income (1896 $)')\n",
    "plt.show()"
   ]
  },
  {
   "cell_type": "markdown",
   "id": "e64d62de-efa1-4fa8-948f-dacac0b689ea",
   "metadata": {},
   "source": [
    "### Mean income over age\n",
    "Here's the result. Average income increases from age 20 to age 50, then starts to fall. And that explains why the estimated slope is so small, because the relationship is non-linear.\n",
    "\n",
    "Remember that correlation and simple regression can't measure non-linear relationships. **But multiple regression can.**"
   ]
  },
  {
   "cell_type": "markdown",
   "id": "2071aaf0-dc7f-415c-a856-0cf81e77f471",
   "metadata": {},
   "source": [
    "### Adding a quadratic term\n",
    "To describe a non-linear relationship, one option is to add a new variable that is a non-linear combination of other variables. \n",
    "\n",
    "As an example, let's create a new variable called `age2` that equals age squared. Now we can run a regression with both `age` and `age2` on the right side. And here are the results. "
   ]
  },
  {
   "cell_type": "code",
   "execution_count": 11,
   "id": "94816ed1-9317-419f-9e31-e108ae8a7ab7",
   "metadata": {},
   "outputs": [
    {
     "data": {
      "text/plain": [
       "Intercept   -48058.679679\n",
       "educ          3442.447178\n",
       "age           1748.232631\n",
       "age2           -17.437552\n",
       "dtype: float64"
      ]
     },
     "execution_count": 11,
     "metadata": {},
     "output_type": "execute_result"
    }
   ],
   "source": [
    "gss['age2'] = gss['age']**2\n",
    "\n",
    "model = smf.ols('realinc ~ educ + age + age2', data=gss)\n",
    "results = model.fit()\n",
    "results.params"
   ]
  },
  {
   "cell_type": "markdown",
   "id": "e7487e12-5f1a-48b7-9244-6f7f1f72a567",
   "metadata": {},
   "source": [
    "The slope associated with age is substantial, about $1700 per year. The slope associated with `age2` is about -17, which is harder to interpret."
   ]
  },
  {
   "cell_type": "markdown",
   "id": "bd4f8fb8-636e-42e5-ba84-6a7b4264eb2c",
   "metadata": {},
   "source": [
    "## Plot income and education\n",
    "To get a closer look at the relationship between income and education, let's use the variable `'educ'` to group the data, then plot mean income in each group.\n",
    "\n",
    "- Group `gss` by `'educ'`. Store the result in grouped.\n",
    "- From `grouped`, extract `'realinc'` and compute the mean.\n",
    "- Plot `mean_income_by_educ` as a scatter plot. Specify `'o'` and `alpha=0.5`."
   ]
  },
  {
   "cell_type": "code",
   "execution_count": 12,
   "id": "088d1eca-b6ca-4046-bd6e-a22f89bb0058",
   "metadata": {},
   "outputs": [
    {
     "data": {
      "image/png": "[encoded data removed]",
      "text/plain": [
       "<Figure size 432x288 with 1 Axes>"
      ]
     },
     "metadata": {
      "needs_background": "light"
     },
     "output_type": "display_data"
    }
   ],
   "source": [
    "# Group by educ\n",
    "grouped = gss.groupby('educ')\n",
    "\n",
    "# Compute mean income in each group\n",
    "mean_income_by_educ = grouped['realinc'].mean()\n",
    "\n",
    "# Plot mean income as a scatter plot\n",
    "plt.plot(mean_income_by_educ, 'o', alpha=0.5)\n",
    "\n",
    "# Label the axes\n",
    "plt.xlabel('Education (years)')\n",
    "plt.ylabel('Income (1986 $)')\n",
    "plt.show()"
   ]
  },
  {
   "cell_type": "markdown",
   "id": "278bd69e-d40b-446f-b769-898c8f5be5d2",
   "metadata": {},
   "source": [
    "*It looks like the relationship between income and education is non-linear.*"
   ]
  },
  {
   "cell_type": "markdown",
   "id": "11cb488c-0434-4416-9527-211a7ef43a64",
   "metadata": {},
   "source": [
    "## Non-linear model of education\n",
    "The graph above exercise suggests that the relationship between income and education is non-linear. So let's try fitting a non-linear model.\n",
    "\n",
    "- Add a column named `'educ2'` to the `gss` DataFrame; it should contain the values from `'educ'` squared.\n",
    "- Run a regression model that uses `'educ'`, `'educ2'`, `'age'`, and `'age2'` to predict `'realinc'`."
   ]
  },
  {
   "cell_type": "code",
   "execution_count": 13,
   "id": "b54c021a-34e0-459b-a95b-9a3de40500ad",
   "metadata": {},
   "outputs": [
    {
     "name": "stdout",
     "output_type": "stream",
     "text": [
      "Intercept   -23241.884034\n",
      "educ          -528.309369\n",
      "educ2          159.966740\n",
      "age           1696.717149\n",
      "age2           -17.196984\n",
      "dtype: float64\n"
     ]
    }
   ],
   "source": [
    "import statsmodels.formula.api as smf\n",
    "\n",
    "# Add a new column with educ squared\n",
    "gss['educ2'] = gss['educ']**2\n",
    "\n",
    "# Run a regression model with educ, educ2, age, and age2\n",
    "results = smf.ols('realinc ~ educ + educ2 + age + age2', data=gss).fit()\n",
    "\n",
    "# Print the estimated parameters\n",
    "print(results.params)"
   ]
  },
  {
   "cell_type": "markdown",
   "id": "53b6d1d2-c674-4788-8515-ba62a4696f8e",
   "metadata": {},
   "source": [
    "*The slope associated with `educ2` is positive, so the model curves upward.*"
   ]
  },
  {
   "cell_type": "markdown",
   "id": "0e2a1183-c416-4df6-8424-9b91474bcb6f",
   "metadata": {},
   "source": [
    "---"
   ]
  },
  {
   "cell_type": "markdown",
   "id": "76ceeb13-afe9-4a01-8319-ded73bd390c2",
   "metadata": {},
   "source": [
    "## Visualizing regression results\n",
    "Here, let's see a way to interpret them visually, and to validate them against data.\n",
    "\n",
    "### Modeling income and age\n",
    "Here's the model from the previous exercise. First, create new variables for educ squared and age squared. Then run the regression model with `educ`, `educ2`, `age`, and `age2`. And here are the results. "
   ]
  },
  {
   "cell_type": "code",
   "execution_count": 15,
   "id": "3663d858-5d6c-4edc-934a-8eb2ead1b4f1",
   "metadata": {},
   "outputs": [
    {
     "data": {
      "text/plain": [
       "Intercept   -23241.884034\n",
       "educ          -528.309369\n",
       "educ2          159.966740\n",
       "age           1696.717149\n",
       "age2           -17.196984\n",
       "dtype: float64"
      ]
     },
     "execution_count": 15,
     "metadata": {},
     "output_type": "execute_result"
    }
   ],
   "source": [
    "gss['age2'] = gss['age']**2\n",
    "gss['educ2'] = gss['educ']**2\n",
    "\n",
    "model = smf.ols('realinc ~ educ + educ2 + age + age2', data=gss)\n",
    "results = model.fit()\n",
    "results.params"
   ]
  },
  {
   "cell_type": "markdown",
   "id": "116ea7e8-29ca-48b5-8f0e-fcccf247c915",
   "metadata": {},
   "source": [
    "The parameters are hard to interpret. Fortunately, don't have to -- sometimes the best way to understand a model is by looking at its predictions rather than its parameters."
   ]
  },
  {
   "cell_type": "markdown",
   "id": "f9143b34-e28f-4d92-9b54-17d8cbeb9247",
   "metadata": {},
   "source": [
    "### Generating predictions\n",
    "The regression results object provides a method called `predict()` that uses the model to generate predictions. It takes a DataFrame as a parameter and returns a Series with a prediction for each row in the DataFrame. \n",
    "\n",
    "To use it, create a new DataFrame with age running from 18 to 85, and `age2` set to age squared. "
   ]
  },
  {
   "cell_type": "code",
   "execution_count": 19,
   "id": "0368d17d-a79b-45e3-9f34-b6a573329e5f",
   "metadata": {},
   "outputs": [],
   "source": [
    "import numpy as np\n",
    "df = pd.DataFrame()\n",
    "df['age'] = np.linspace(18, 85)\n",
    "df['age2'] = df['age']**2"
   ]
  },
  {
   "cell_type": "markdown",
   "id": "f5080c36-f7d1-4da9-aa01-ec189f26680f",
   "metadata": {},
   "source": [
    "Next, pick a level for `educ`, like 12 years, which is the most common value. "
   ]
  },
  {
   "cell_type": "code",
   "execution_count": 20,
   "id": "89a09555-dfa1-4f77-aea4-bc79cf53cfb5",
   "metadata": {},
   "outputs": [],
   "source": [
    "df['educ'] = 12\n",
    "df['educ2'] = df['educ']**2"
   ]
  },
  {
   "cell_type": "markdown",
   "id": "8f7dfbf4-1d0e-48e9-9e2f-14717cdc9945",
   "metadata": {},
   "source": [
    "When assigning a single value to a column in a DataFrame, Pandas makes a copy for each respondent. Then it's possible to use results to predict the average income for each age group, holding education constant."
   ]
  },
  {
   "cell_type": "code",
   "execution_count": 21,
   "id": "91d9bc10-64af-4684-99e7-55daf376cdb5",
   "metadata": {},
   "outputs": [],
   "source": [
    "pred12 = results.predict(df)"
   ]
  },
  {
   "cell_type": "markdown",
   "id": "e4e9992e-786f-4eb6-a96f-671767ae2f31",
   "metadata": {},
   "source": [
    "### Plotting predictions\n",
    "The result from `predict()` is a Series with one prediction for each row. So it's possible to can plot it like this, with age on the x-axis and the predicted income for each age group on the y-axis. \n",
    "\n",
    "It's possible to can plot the data for comparison, and should label the axes, as always."
   ]
  },
  {
   "cell_type": "code",
   "execution_count": 25,
   "id": "d06eebf8-32bf-4ae8-898d-2e81d86a40df",
   "metadata": {},
   "outputs": [
    {
     "data": {
      "image/png": "[encoded data removed]",
      "text/plain": [
       "<Figure size 432x288 with 1 Axes>"
      ]
     },
     "metadata": {
      "needs_background": "light"
     },
     "output_type": "display_data"
    }
   ],
   "source": [
    "plt.plot(df['age'], pred12, label='High school')\n",
    "\n",
    "plt.plot(mean_income_by_age, 'o', alpha=0.5)\n",
    "\n",
    "plt.xlabel('Age (years)')\n",
    "plt.ylabel('Income (1986, $)')\n",
    "plt.legend()\n",
    "plt.show()"
   ]
  },
  {
   "cell_type": "markdown",
   "id": "400c8bb9-5495-41c4-ac07-f27b254fad9b",
   "metadata": {},
   "source": [
    "### Comparing with data\n",
    "Here are the results. The orange dots show the average income in each age group. The blue line shows the predictions generated by the model, holding education constant. This plot shows the shape of the model, a downward-facing parabola."
   ]
  },
  {
   "cell_type": "markdown",
   "id": "41f382bf-6c77-4f6e-bfed-ba1ab09ea945",
   "metadata": {},
   "source": [
    "### Levels of education\n",
    "It's possible to do the same thing with other levels of education, like 14 years, which is the nominal time to earn an Associate's degree, "
   ]
  },
  {
   "cell_type": "code",
   "execution_count": 30,
   "id": "e4600adf-24b2-41f4-8c4a-6783dc7361d0",
   "metadata": {},
   "outputs": [],
   "source": [
    "df['educ'] = 14\n",
    "df['educ2'] = df['educ']**2\n",
    "pred14 = results.predict(df)"
   ]
  },
  {
   "cell_type": "markdown",
   "id": "d66a9977-2e2f-4d0c-a17e-65e44b9352ce",
   "metadata": {},
   "source": [
    "and 16 years, which is the nominal time to earn a Bachelor's degree."
   ]
  },
  {
   "cell_type": "code",
   "execution_count": 31,
   "id": "00b7455c-f774-4f7a-b898-975350fc27e3",
   "metadata": {},
   "outputs": [],
   "source": [
    "df['educ'] = 16\n",
    "df['educ2'] = df['educ']**2\n",
    "pred16 = results.predict(df)"
   ]
  },
  {
   "cell_type": "markdown",
   "id": "c4836ca3-3440-49df-9b69-143671c4cad4",
   "metadata": {},
   "source": [
    "### Interpreting the results\n",
    "And here are the results."
   ]
  },
  {
   "cell_type": "code",
   "execution_count": 34,
   "id": "f06ff0cd-3e3c-42a6-aaf7-d9927388ebb7",
   "metadata": {},
   "outputs": [
    {
     "data": {
      "image/png": "[encoded data removed]",
      "text/plain": [
       "<Figure size 432x288 with 1 Axes>"
      ]
     },
     "metadata": {
      "needs_background": "light"
     },
     "output_type": "display_data"
    }
   ],
   "source": [
    "plt.plot(mean_income_by_age, 'o', alpha=0.5, label='realinc')\n",
    "plt.plot(df['age'], pred12, label='High school')\n",
    "plt.plot(df['age'], pred14, label='Associate')\n",
    "plt.plot(df['age'], pred16, label='Bachelor')\n",
    "\n",
    "plt.xlabel('Age (years)')\n",
    "plt.ylabel('Income (1986, $)')\n",
    "plt.legend()\n",
    "plt.show()"
   ]
  },
  {
   "cell_type": "markdown",
   "id": "341e11aa-8aba-48ec-aba0-471da8e3e3af",
   "metadata": {},
   "source": [
    "The lines show mean income, as predicted by the model, as a function of age, for three levels of education. This visualization helps validate the model since we can compare the predictions with the data. And it helps us interpret the model since we can see the separate contributions of age and education."
   ]
  },
  {
   "cell_type": "markdown",
   "id": "63dcaf2f-6326-459a-93de-55618a57a7b0",
   "metadata": {},
   "source": [
    "## Making predictions\n",
    "At this point, we have a model that predicts income using age, education, and sex.\n",
    "\n",
    "Let's see what it predicts for different levels of education, holding `age` constant.\n",
    "\n",
    "- Using `np.linspace()`, add a variable named `'educ'` to `df` with a range of values from `0` to `20`.\n",
    "- Add a variable named `'age'` with the constant value `30`.\n",
    "- Use `df` to generate predicted income as a function of education."
   ]
  },
  {
   "cell_type": "code",
   "execution_count": 35,
   "id": "965fa80a-2ec4-45fc-b415-c9c5edd0d590",
   "metadata": {},
   "outputs": [
    {
     "name": "stdout",
     "output_type": "stream",
     "text": [
      "0    12182.344976\n",
      "1    11993.358518\n",
      "2    11857.672098\n",
      "3    11775.285717\n",
      "4    11746.199374\n",
      "dtype: float64\n"
     ]
    }
   ],
   "source": [
    "# Run a regression model with educ, educ2, age, and age2\n",
    "results = smf.ols('realinc ~ educ + educ2 + age + age2', data=gss).fit()\n",
    "\n",
    "# Make the DataFrame\n",
    "df = pd.DataFrame()\n",
    "df['educ'] = np.linspace(0, 20)\n",
    "df['age'] = 30\n",
    "df['educ2'] = df['educ']**2\n",
    "df['age2'] = df['age']**2\n",
    "\n",
    "# Generate and plot the predictions\n",
    "pred = results.predict(df)\n",
    "print(pred.head())"
   ]
  },
  {
   "cell_type": "markdown",
   "id": "0085a4ea-0579-442e-8508-0cb349166155",
   "metadata": {},
   "source": [
    "*Next, let's see what the results look like.*"
   ]
  },
  {
   "cell_type": "markdown",
   "id": "b81ac38c-f8ef-4bf0-a38b-c97965c23355",
   "metadata": {},
   "source": [
    "## Visualizing predictions\n",
    "Now let's visualize the results from the previous exercise!\n",
    "\n",
    "- Plot `mean_income_by_educ` using circles (`'o'`). Specify an `alpha` of `0.5`.\n",
    "- Plot the prediction results with a line, with `df['educ']` on the x-axis and `pred` on the y-axis."
   ]
  },
  {
   "cell_type": "code",
   "execution_count": 36,
   "id": "6a3f07a0-995a-4056-9c1d-9f50087b3f33",
   "metadata": {},
   "outputs": [
    {
     "data": {
      "image/png": "[encoded data removed]",
      "text/plain": [
       "<Figure size 432x288 with 1 Axes>"
      ]
     },
     "metadata": {
      "needs_background": "light"
     },
     "output_type": "display_data"
    }
   ],
   "source": [
    "# Plot mean income in each age group\n",
    "plt.clf()\n",
    "grouped = gss.groupby('educ')\n",
    "mean_income_by_educ = grouped['realinc'].mean()\n",
    "plt.plot(mean_income_by_educ, 'o', alpha=0.5)\n",
    "\n",
    "# Plot the predictions\n",
    "pred = results.predict(df)\n",
    "plt.plot(df['educ'], pred, label='Age 30')\n",
    "\n",
    "# Label axes\n",
    "plt.xlabel('Education (years)')\n",
    "plt.ylabel('Income (1986 $)')\n",
    "plt.legend()\n",
    "plt.show()"
   ]
  },
  {
   "cell_type": "markdown",
   "id": "39708439-321a-4b70-b758-be07f381e3ca",
   "metadata": {},
   "source": [
    "*Looks like this model captures the relationship pretty well.*"
   ]
  },
  {
   "cell_type": "markdown",
   "id": "99dd65ee-7a27-4e5c-964f-ca732cd27074",
   "metadata": {},
   "source": [
    "---"
   ]
  },
  {
   "cell_type": "markdown",
   "id": "b26bfa5b-aec8-4666-b16e-cf8558633c5f",
   "metadata": {},
   "source": [
    "## Logistic regression\n",
    "### Categorical variables\n",
    "To understand logistic regression, have to start with categorical variables. Most of the variables have been used so far - like income, age, and education - are **numerical**. \n",
    "\n",
    "But variables like sex and race are **categorical**; that is, each respondent belongs to one of a specified set of categories.\n",
    "\n",
    "With StatsModels, it is easy to include a categorical variable as part of a regression model. Here's how. \n",
    "\n",
    "In the formula string, the letter `C` indicates that `sex` is a **categorical variable**. And here are the results. \n"
   ]
  },
  {
   "cell_type": "code",
   "execution_count": 37,
   "id": "ae9a3fc0-4bbd-4011-a751-4b12dc7d86ce",
   "metadata": {},
   "outputs": [
    {
     "data": {
      "text/plain": [
       "Intercept     -22369.453641\n",
       "C(sex)[T.2]    -4156.113865\n",
       "educ            -310.247419\n",
       "educ2            150.514091\n",
       "age             1703.047502\n",
       "age2             -17.238711\n",
       "dtype: float64"
      ]
     },
     "execution_count": 37,
     "metadata": {},
     "output_type": "execute_result"
    }
   ],
   "source": [
    "formula = 'realinc ~ educ + educ2 + age + age2 + C(sex)'\n",
    "results = smf.ols(formula, data=gss).fit()\n",
    "results.params"
   ]
  },
  {
   "cell_type": "markdown",
   "id": "09aa6873-c3a8-46f0-a50e-5519f3dcaf8b",
   "metadata": {},
   "source": [
    "The regression treats the value `sex=1`, which is male, as the default, and reports the difference associated with the value `sex=2`, which is female. So this result indicates that income for women is about $4100 less than for men, after controlling for age and education."
   ]
  },
  {
   "cell_type": "markdown",
   "id": "d26434ce-3453-4ecc-bdfa-6e53c6f0a16e",
   "metadata": {},
   "source": [
    "### Boolean variable\n",
    "If a categorical variable has only two values, it's called a boolean variable. \n",
    "\n",
    "For example, one of the questions in the General Social Survey asks *\"Would you favor or oppose a law which would require a person to obtain a police permit before he or she could buy a gun?\"*\n",
    "\n",
    "The variable is called `gunlaw`, and here are the values. "
   ]
  },
  {
   "cell_type": "code",
   "execution_count": 38,
   "id": "2f2de6c6-2c5a-4df8-92e5-3221228705bc",
   "metadata": {},
   "outputs": [
    {
     "data": {
      "text/plain": [
       "1.0    30918\n",
       "2.0     9632\n",
       "Name: gunlaw, dtype: int64"
      ]
     },
     "execution_count": 38,
     "metadata": {},
     "output_type": "execute_result"
    }
   ],
   "source": [
    "gss['gunlaw'].value_counts()"
   ]
  },
  {
   "cell_type": "markdown",
   "id": "4ee6c79d-0de6-40e7-bc46-47e087c0c37d",
   "metadata": {},
   "source": [
    "`1` means *yes* and `2` means *no*, so most respondents are in favor. \n",
    "\n",
    "To explore the relationship between this variable and factors like age, sex, and education, it's possible to use logistic regression. StatsModels provides logistic regression, but to use it, have to recode the variable so 1 means yes and 0 means no. it's possible to do that by replacing 2 with 0. And we can check the results."
   ]
  },
  {
   "cell_type": "code",
   "execution_count": 40,
   "id": "4969b800-79e3-4ee3-a22a-066758867359",
   "metadata": {},
   "outputs": [
    {
     "data": {
      "text/plain": [
       "1.0    30918\n",
       "0.0     9632\n",
       "Name: gunlaw, dtype: int64"
      ]
     },
     "execution_count": 40,
     "metadata": {},
     "output_type": "execute_result"
    }
   ],
   "source": [
    "gss['gunlaw'].replace([2], [0], inplace=True)\n",
    "\n",
    "gss['gunlaw'].value_counts()"
   ]
  },
  {
   "cell_type": "markdown",
   "id": "73db65e3-6082-4f69-94d0-774f06d3441c",
   "metadata": {},
   "source": [
    "### Logistic regression\n",
    "Now it's possible to run the regression. \n",
    "\n",
    "Instead of `ols()`, use `logit()`, which is named for the logit function, which is related to logistic regression. Other than that, everything is the same as what have seen before. And here are the results."
   ]
  },
  {
   "cell_type": "code",
   "execution_count": 42,
   "id": "41c2bbce-453b-4340-bb39-13a57cd4622a",
   "metadata": {},
   "outputs": [
    {
     "name": "stdout",
     "output_type": "stream",
     "text": [
      "Optimization terminated successfully.\n",
      "         Current function value: 0.533674\n",
      "         Iterations 6\n"
     ]
    },
    {
     "data": {
      "text/plain": [
       "Intercept      1.653862\n",
       "C(sex)[T.2]    0.757249\n",
       "age           -0.018849\n",
       "age2           0.000189\n",
       "educ          -0.124373\n",
       "educ2          0.006653\n",
       "dtype: float64"
      ]
     },
     "execution_count": 42,
     "metadata": {},
     "output_type": "execute_result"
    }
   ],
   "source": [
    "formula = 'gunlaw ~ age + age2 + educ + educ2 + C(sex)'\n",
    "results = smf.logit(formula, data=gss).fit()\n",
    "\n",
    "results.params"
   ]
  },
  {
   "cell_type": "markdown",
   "id": "e6d3c8bd-5303-4a40-a074-932b883f57be",
   "metadata": {},
   "source": [
    "The parameters are in the form of \"log odds\", which is not familiar with. Won't explain them in detail here, except to say that positive values are associated with things that make the outcome more likely; negative values make the outcome less likely. For example, the parameter associated with `sex=2` is `0.75`, which indicates that women are more likely to support this form of gun control. To see how much more likely, generate and plot predictions, as done with linear regression.\n",
    "\n",
    "### Generating predictions\n",
    "As an example, predictions for different ages and sexes will be generated, with education held constant. First need a DataFrame with `age` and `educ`. "
   ]
  },
  {
   "cell_type": "code",
   "execution_count": 46,
   "id": "88440a1d-9130-4396-b390-b282e10e1958",
   "metadata": {},
   "outputs": [],
   "source": [
    "df = pd.DataFrame()\n",
    "df['age'] = np.linspace(18, 89)\n",
    "df['educ'] = 12"
   ]
  },
  {
   "cell_type": "markdown",
   "id": "51a3a9e5-04a3-49e7-818c-74c172c3c5c0",
   "metadata": {},
   "source": [
    "Then can compute `age2` and `educ2`."
   ]
  },
  {
   "cell_type": "code",
   "execution_count": 47,
   "id": "7da693d6-c203-4f5a-83b2-c5cff990031a",
   "metadata": {},
   "outputs": [],
   "source": [
    "df['age2'] = df['age']**2\n",
    "df['educ2'] = df['educ']**2"
   ]
  },
  {
   "cell_type": "markdown",
   "id": "225ce925-d8b9-4784-b281-28f15337e88d",
   "metadata": {},
   "source": [
    "Here, it's possible to generate predictions for men like this. "
   ]
  },
  {
   "cell_type": "code",
   "execution_count": 52,
   "id": "6cf9f432-a9bd-4428-8831-0652d3956091",
   "metadata": {},
   "outputs": [],
   "source": [
    "df['sex'] = 1\n",
    "pred1 = results.predict(df)"
   ]
  },
  {
   "cell_type": "markdown",
   "id": "e31f4e51-dda0-4867-864c-fd50001c9813",
   "metadata": {},
   "source": [
    "And for women like this."
   ]
  },
  {
   "cell_type": "code",
   "execution_count": 53,
   "id": "a9e70adb-d009-42be-a101-c76751712765",
   "metadata": {},
   "outputs": [],
   "source": [
    "df['sex'] = 2\n",
    "pred2 = results.predict(df)"
   ]
  },
  {
   "cell_type": "markdown",
   "id": "b5125d74-ea50-458b-8ff9-9a67ec5ba344",
   "metadata": {},
   "source": [
    "### Visualizing results\n",
    "Now, to visualize the results, start by plotting the data. As done before, the respondents into age groups and compute the mean in each group will be divided. The mean of a binary variable is the fraction of people in favor. Now the predictions can be predicted, for men and women, as a function of age. And label the axes."
   ]
  },
  {
   "cell_type": "code",
   "execution_count": 55,
   "id": "1c44b12b-99e8-40ea-99dd-aa331db5caa7",
   "metadata": {},
   "outputs": [
    {
     "data": {
      "image/png": "[encoded data removed]",
      "text/plain": [
       "<Figure size 432x288 with 1 Axes>"
      ]
     },
     "metadata": {
      "needs_background": "light"
     },
     "output_type": "display_data"
    }
   ],
   "source": [
    "grouped = gss.groupby('age')\n",
    "favor_by_age = grouped['gunlaw'].mean()\n",
    "plt.plot(favor_by_age, 'o', alpha=0.5, label='favor')\n",
    "\n",
    "plt.plot(df['age'], pred1, label='Male')\n",
    "plt.plot(df['age'], pred2, label='Female')\n",
    "\n",
    "plt.xlabel('Age')\n",
    "plt.ylabel('Probability of favoring gun law')\n",
    "plt.legend()\n",
    "plt.show()"
   ]
  },
  {
   "cell_type": "markdown",
   "id": "8c156ee2-61f1-4d93-858b-d192bf858e11",
   "metadata": {},
   "source": [
    "### Gun laws and age\n",
    "Here's what it looks like. According to the model, people near age 50 are least likely to support gun control (at least as this question was posed). And women are more likely to support it than men, by almost 15 percentage points.\n",
    "\n",
    "Indeed, logistic regression is a powerful tool for exploring relationships between a binary variable and the factors that predict it. "
   ]
  },
  {
   "cell_type": "markdown",
   "id": "d414c2f1-0a34-4581-9e11-54f796086e99",
   "metadata": {},
   "source": [
    "## Predicting a binary variable\n",
    "Let's use logistic regression to predict a binary variable. Specifically, we'll use age, sex, and education level to predict support for legalizing cannabis (marijuana) in the U.S.\n",
    "\n",
    "In the GSS dataset, the variable `grass` records the answer to the question *\"Do you think the use of marijuana should be made legal or not?\"*\n",
    "\n",
    "- Fill in the parameters of `smf.logit()` to predict `grass` using the variables `age`, `age2`, `educ`, and `educ2`, along with `sex` as a categorical variable."
   ]
  },
  {
   "cell_type": "code",
   "execution_count": 56,
   "id": "0c628d04-4231-4982-9e39-736d4075ad15",
   "metadata": {},
   "outputs": [
    {
     "name": "stdout",
     "output_type": "stream",
     "text": [
      "Optimization terminated successfully.\n",
      "         Current function value: 0.588510\n",
      "         Iterations 6\n"
     ]
    },
    {
     "data": {
      "text/plain": [
       "Intercept     -1.685223\n",
       "C(sex)[T.2]   -0.384611\n",
       "age           -0.034756\n",
       "age2           0.000192\n",
       "educ           0.221860\n",
       "educ2         -0.004163\n",
       "dtype: float64"
      ]
     },
     "execution_count": 56,
     "metadata": {},
     "output_type": "execute_result"
    }
   ],
   "source": [
    "# Recode grass\n",
    "gss['grass'].replace(2, 0, inplace=True)\n",
    "\n",
    "# Run logistic regression\n",
    "results = smf.logit('grass ~ age + age2 + educ + educ2 + C(sex)', data=gss).fit()\n",
    "results.params"
   ]
  },
  {
   "cell_type": "markdown",
   "id": "44e3df37-7c9d-495e-a5a8-64cae7a509ca",
   "metadata": {},
   "source": [
    "- Add a column called `educ` and set it to 12 years; then compute a second column, `educ2`, which is the square of `educ`."
   ]
  },
  {
   "cell_type": "code",
   "execution_count": 57,
   "id": "af584cf8-e949-46bb-9169-51071d7f32a0",
   "metadata": {},
   "outputs": [],
   "source": [
    "# Make a DataFrame with a range of ages\n",
    "df = pd.DataFrame()\n",
    "df['age'] = np.linspace(18, 89)\n",
    "df['age2'] = df['age']**2\n",
    "\n",
    "# Set the education level to 12\n",
    "df['educ'] = 12\n",
    "df['educ2'] = df['educ']**2"
   ]
  },
  {
   "cell_type": "markdown",
   "id": "397f9a7b-2b43-4fc6-958f-e2fcf3dea73f",
   "metadata": {},
   "source": [
    "- Generate separate predictions for men and women."
   ]
  },
  {
   "cell_type": "code",
   "execution_count": 58,
   "id": "c96db1bb-a9ff-4bf2-b2a6-b77f37a1fb90",
   "metadata": {},
   "outputs": [],
   "source": [
    "# Generate predictions for men and women\n",
    "df['sex'] = 1\n",
    "pred1 = results.predict(df)\n",
    "\n",
    "df['sex'] = 2\n",
    "pred2 = results.predict(df)"
   ]
  },
  {
   "cell_type": "markdown",
   "id": "53a5edc7-2394-4205-a300-40683a56e631",
   "metadata": {},
   "source": [
    "- Fill in the missing code to compute the mean of `'grass'` for each age group, and then the arguments of `plt.plot()` to plot `pred2` versus `df['age']` with the label `'Female'`."
   ]
  },
  {
   "cell_type": "code",
   "execution_count": 60,
   "id": "93f9da62-bede-4a10-8090-07e601233bf2",
   "metadata": {},
   "outputs": [
    {
     "data": {
      "image/png": "[encoded data removed]",
      "text/plain": [
       "<Figure size 432x288 with 1 Axes>"
      ]
     },
     "metadata": {
      "needs_background": "light"
     },
     "output_type": "display_data"
    }
   ],
   "source": [
    "plt.clf()\n",
    "grouped = gss.groupby('age')\n",
    "favor_by_age = grouped['grass'].mean()\n",
    "plt.plot(favor_by_age, 'o', alpha=0.5, label='grass')\n",
    "\n",
    "plt.plot(df['age'], pred1, label='Male')\n",
    "plt.plot(df['age'], pred2, label='Female')\n",
    "\n",
    "plt.xlabel('Age')\n",
    "plt.ylabel('Probability of favoring legalization')\n",
    "plt.legend()\n",
    "plt.show()"
   ]
  },
  {
   "cell_type": "markdown",
   "id": "ddc936d7-be2e-4fff-bbd3-954e1c4d51d5",
   "metadata": {},
   "source": [
    "---"
   ]
  },
  {
   "cell_type": "markdown",
   "id": "0b8c704b-893e-4ec5-8761-724b9b97ee87",
   "metadata": {},
   "source": [
    "## Summary\n",
    "### Exploratory Data Analusis\n",
    "- Import, clean, and validate\n",
    "- Visualize distributions\n",
    "- Explore relationships between variables\n",
    "- Explore multivariate relationships\n",
    "\n",
    "### CDF, PMF, and KDE\n",
    "- Use CDFs for exploration\n",
    "- Use PMFs if there are a small number of unique values\n",
    "- Use KDE if there are a lot of values"
   ]
  },
  {
   "cell_type": "code",
   "execution_count": null,
   "id": "7e93f24c-b6a4-44b2-a3ce-c85aaef130a6",
   "metadata": {},
   "outputs": [],
   "source": []
  }
 ],
 "metadata": {
  "kernelspec": {
   "display_name": "Python 3",
   "language": "python",
   "name": "python3"
  },
  "language_info": {
   "codemirror_mode": {
    "name": "ipython",
    "version": 3
   },
   "file_extension": ".py",
   "mimetype": "text/x-python",
   "name": "python",
   "nbconvert_exporter": "python",
   "pygments_lexer": "ipython3",
   "version": "3.8.8"
  }
 },
 "nbformat": 4,
 "nbformat_minor": 5
}
