{
 "cells": [
  {
   "cell_type": "markdown",
   "id": "8fe8b770-cf19-4de8-92c4-0cfb8ad28a13",
   "metadata": {},
   "source": [
    "# 2. Distributions\n",
    "**In the first chapter, having cleaned and validated your data, you began exploring it by using histograms to visualize distributions. In this chapter, you'll learn how to represent distributions using Probability Mass Functions (PMFs) and Cumulative Distribution Functions (CDFs). You'll learn when to use each of them, and why, while working with a new dataset obtained from the General Social Survey.**"
   ]
  },
  {
   "cell_type": "markdown",
   "id": "d1185c47-25d5-4d6a-969a-13ffd74a7afc",
   "metadata": {},
   "source": [
    "## Probability mass functions\n",
    "### GSS\n",
    "The **General Social Survey**, or **GSS**, has run annually since 1972; it surveys a representative sample of the **adult population in the U.S**. and **asks questions about demographics and beliefs about social and political issues**. It is **widely used by politicians, policy makers, and researchers**.\n",
    "\n",
    "### Read the data\n",
    "The GSS contains hundreds of variables. It's been selected just a few and already cleaned and validated, so we just have to read the file, like this. If you run `gss.head()`, you can see the first few rows."
   ]
  },
  {
   "cell_type": "code",
   "execution_count": 1,
   "id": "aa3ff20c-f92c-48b5-a12b-3829ca10921c",
   "metadata": {},
   "outputs": [
    {
     "data": {
      "text/html": [
       "<div>\n",
       "<style scoped>\n",
       "    .dataframe tbody tr th:only-of-type {\n",
       "        vertical-align: middle;\n",
       "    }\n",
       "\n",
       "    .dataframe tbody tr th {\n",
       "        vertical-align: top;\n",
       "    }\n",
       "\n",
       "    .dataframe thead th {\n",
       "        text-align: right;\n",
       "    }\n",
       "</style>\n",
       "<table border=\"1\" class=\"dataframe\">\n",
       "  <thead>\n",
       "    <tr style=\"text-align: right;\">\n",
       "      <th></th>\n",
       "      <th>year</th>\n",
       "      <th>age</th>\n",
       "      <th>cohort</th>\n",
       "      <th>sex</th>\n",
       "      <th>race</th>\n",
       "      <th>educ</th>\n",
       "      <th>realinc</th>\n",
       "      <th>gunlaw</th>\n",
       "      <th>grass</th>\n",
       "      <th>wtssall</th>\n",
       "    </tr>\n",
       "  </thead>\n",
       "  <tbody>\n",
       "    <tr>\n",
       "      <th>0</th>\n",
       "      <td>1972</td>\n",
       "      <td>26.0</td>\n",
       "      <td>1946.0</td>\n",
       "      <td>1</td>\n",
       "      <td>1</td>\n",
       "      <td>18.0</td>\n",
       "      <td>13537.0</td>\n",
       "      <td>2.0</td>\n",
       "      <td>NaN</td>\n",
       "      <td>0.8893</td>\n",
       "    </tr>\n",
       "    <tr>\n",
       "      <th>1</th>\n",
       "      <td>1972</td>\n",
       "      <td>38.0</td>\n",
       "      <td>1934.0</td>\n",
       "      <td>2</td>\n",
       "      <td>1</td>\n",
       "      <td>12.0</td>\n",
       "      <td>18951.0</td>\n",
       "      <td>1.0</td>\n",
       "      <td>NaN</td>\n",
       "      <td>0.4446</td>\n",
       "    </tr>\n",
       "    <tr>\n",
       "      <th>2</th>\n",
       "      <td>1972</td>\n",
       "      <td>57.0</td>\n",
       "      <td>1915.0</td>\n",
       "      <td>1</td>\n",
       "      <td>1</td>\n",
       "      <td>12.0</td>\n",
       "      <td>30458.0</td>\n",
       "      <td>1.0</td>\n",
       "      <td>NaN</td>\n",
       "      <td>1.3339</td>\n",
       "    </tr>\n",
       "    <tr>\n",
       "      <th>3</th>\n",
       "      <td>1972</td>\n",
       "      <td>61.0</td>\n",
       "      <td>1911.0</td>\n",
       "      <td>2</td>\n",
       "      <td>1</td>\n",
       "      <td>14.0</td>\n",
       "      <td>37226.0</td>\n",
       "      <td>1.0</td>\n",
       "      <td>NaN</td>\n",
       "      <td>0.8893</td>\n",
       "    </tr>\n",
       "    <tr>\n",
       "      <th>4</th>\n",
       "      <td>1972</td>\n",
       "      <td>59.0</td>\n",
       "      <td>1913.0</td>\n",
       "      <td>1</td>\n",
       "      <td>1</td>\n",
       "      <td>12.0</td>\n",
       "      <td>30458.0</td>\n",
       "      <td>2.0</td>\n",
       "      <td>NaN</td>\n",
       "      <td>0.8893</td>\n",
       "    </tr>\n",
       "  </tbody>\n",
       "</table>\n",
       "</div>"
      ],
      "text/plain": [
       "   year   age  cohort  sex  race  educ  realinc  gunlaw  grass  wtssall\n",
       "0  1972  26.0  1946.0    1     1  18.0  13537.0     2.0    NaN   0.8893\n",
       "1  1972  38.0  1934.0    2     1  12.0  18951.0     1.0    NaN   0.4446\n",
       "2  1972  57.0  1915.0    1     1  12.0  30458.0     1.0    NaN   1.3339\n",
       "3  1972  61.0  1911.0    2     1  14.0  37226.0     1.0    NaN   0.8893\n",
       "4  1972  59.0  1913.0    1     1  12.0  30458.0     2.0    NaN   0.8893"
      ]
     },
     "execution_count": 1,
     "metadata": {},
     "output_type": "execute_result"
    }
   ],
   "source": [
    "import pandas as pd\n",
    "\n",
    "gss = pd.read_hdf('gss.hdf5', 'gss')\n",
    "\n",
    "gss.head()"
   ]
  },
  {
   "cell_type": "markdown",
   "id": "f697f991-6d16-45fc-b776-45e931de9e62",
   "metadata": {},
   "source": [
    "### Histogram\n",
    "To get started with this dataset, let's look at the distribution of educ, which records the number of years of education for each respondent. First I'll select a column from the DataFrame. We've already seen one way to visualize a distribution, a histogram. Here's the code that generates it, and here's the histogram for this variable. "
   ]
  },
  {
   "cell_type": "code",
   "execution_count": 2,
   "id": "a2e66e3f-3cb8-49b9-833e-bd102aeebb5c",
   "metadata": {},
   "outputs": [
    {
     "data": {
      "image/png": "[encoded data removed]",
      "text/plain": [
       "<Figure size 432x288 with 1 Axes>"
      ]
     },
     "metadata": {
      "needs_background": "light"
     },
     "output_type": "display_data"
    }
   ],
   "source": [
    "import matplotlib.pyplot as plt\n",
    "educ= gss['educ']\n",
    "plt.hist(educ.dropna(), label='educ')\n",
    "plt.show()"
   ]
  },
  {
   "cell_type": "markdown",
   "id": "3a3354cc-7a83-41dc-988e-d6406eaed54e",
   "metadata": {},
   "source": [
    "Based on the histogram, we can see the general shape of the distribution and the central tendency - it looks like the peak is near 12 years of education. But a histogram is not the best way to visualize this distribution.\n",
    "\n",
    "### PMF\n",
    "An alternative is a **probability mass function**, or **PMF**, that contains the unique values in the dataset and how often each one appears. It's provided as a class called `Pmf` that computes a probability mass function. This class is based on a Pandas Series and it provides some methods that aren't in Pandas. \n",
    "\n",
    "The first argument can be any kind of sequence; in this case, it's a Series object. The second argument indicates that we don't want to normalize this PMF. It'll be explain what that means soon.\n",
    "\n",
    "<!--\n",
    "```python\n",
    "pmf_educ = Pmf(educ, normalize=False)\n",
    "pmf_educ.head()\n",
    "```\n",
    "```\n",
    "0.0    566\n",
    "1.0    118\n",
    "2.0    292\n",
    "3.0    686\n",
    "4.0    746\n",
    "Name: educ, dtype: int64\n",
    "```\n",
    "-->"
   ]
  },
  {
   "cell_type": "code",
   "execution_count": 3,
   "id": "a26fb561-1991-4f15-a688-44f0bd62887f",
   "metadata": {},
   "outputs": [
    {
     "data": {
      "text/html": [
       "<div>\n",
       "<style scoped>\n",
       "    .dataframe tbody tr th:only-of-type {\n",
       "        vertical-align: middle;\n",
       "    }\n",
       "\n",
       "    .dataframe tbody tr th {\n",
       "        vertical-align: top;\n",
       "    }\n",
       "\n",
       "    .dataframe thead th {\n",
       "        text-align: right;\n",
       "    }\n",
       "</style>\n",
       "<table border=\"1\" class=\"dataframe\">\n",
       "  <thead>\n",
       "    <tr style=\"text-align: right;\">\n",
       "      <th></th>\n",
       "      <th>probs</th>\n",
       "    </tr>\n",
       "  </thead>\n",
       "  <tbody>\n",
       "    <tr>\n",
       "      <th>0.0</th>\n",
       "      <td>144</td>\n",
       "    </tr>\n",
       "    <tr>\n",
       "      <th>1.0</th>\n",
       "      <td>38</td>\n",
       "    </tr>\n",
       "    <tr>\n",
       "      <th>2.0</th>\n",
       "      <td>151</td>\n",
       "    </tr>\n",
       "  </tbody>\n",
       "</table>\n",
       "</div>"
      ],
      "text/plain": [
       "0.0    144\n",
       "1.0     38\n",
       "2.0    151\n",
       "Name: , dtype: int64"
      ]
     },
     "execution_count": 3,
     "metadata": {},
     "output_type": "execute_result"
    }
   ],
   "source": [
    "from empiricaldist import Pmf\n",
    "pmf_educ = Pmf.from_seq(educ, normalize=False)\n",
    "pmf_educ.head()"
   ]
  },
  {
   "cell_type": "markdown",
   "id": "8b74d825-833e-4357-87e4-2e7fa70f5333",
   "metadata": {},
   "source": [
    "The result is a Series that contains the values on the left and the counts on the right. \n",
    "\n",
    "You can use the bracket operator to look up a value in a Pmf and get a count. \n",
    "<!--\n",
    "```python\n",
    "pmf_educ[12]\n",
    "```\n",
    "```\n",
    "47689\n",
    "```\n",
    "-->"
   ]
  },
  {
   "cell_type": "code",
   "execution_count": 4,
   "id": "8a40cd73-e2c7-43be-ae2f-f406e796d6d4",
   "metadata": {},
   "outputs": [
    {
     "data": {
      "text/plain": [
       "19145"
      ]
     },
     "execution_count": 4,
     "metadata": {},
     "output_type": "execute_result"
    }
   ],
   "source": [
    "pmf_educ[12]"
   ]
  },
  {
   "cell_type": "markdown",
   "id": "9ec43dae-770a-4934-8324-a689947fc535",
   "metadata": {},
   "source": [
    "This example shows that there are a lot of respondents with 12 years of education, which is the most frequent value."
   ]
  },
  {
   "cell_type": "markdown",
   "id": "2f51af07-bd66-4115-8141-b2193951d303",
   "metadata": {},
   "source": [
    "### Normalize\n",
    "Usually when we make a PMF, we want to know the fraction of respondents with each value, rather than the counts. We can do that by setting `normalize=True`; then we get a normalized PMF, that is, a PMF where the frequencies add up to 1. \n",
    "<!--\n",
    "```python\n",
    "pmf_educ = Pmf(educ, normalize=True)\n",
    "\n",
    "pmf_educ.head()\n",
    "```\n",
    "```\n",
    "0.0    0.003663\n",
    "1.0    0.000764\n",
    "2.0    0.001890\n",
    "3.0    0.004440\n",
    "4.0    0.004828\n",
    "Name: educ, dtype: int64\n",
    "```\n",
    "-->"
   ]
  },
  {
   "cell_type": "code",
   "execution_count": 5,
   "id": "3652bbc7-1a91-4117-8eb5-36fac7a14bd4",
   "metadata": {},
   "outputs": [
    {
     "data": {
      "text/html": [
       "<div>\n",
       "<style scoped>\n",
       "    .dataframe tbody tr th:only-of-type {\n",
       "        vertical-align: middle;\n",
       "    }\n",
       "\n",
       "    .dataframe tbody tr th {\n",
       "        vertical-align: top;\n",
       "    }\n",
       "\n",
       "    .dataframe thead th {\n",
       "        text-align: right;\n",
       "    }\n",
       "</style>\n",
       "<table border=\"1\" class=\"dataframe\">\n",
       "  <thead>\n",
       "    <tr style=\"text-align: right;\">\n",
       "      <th></th>\n",
       "      <th>probs</th>\n",
       "    </tr>\n",
       "  </thead>\n",
       "  <tbody>\n",
       "    <tr>\n",
       "      <th>0.0</th>\n",
       "      <td>0.002311</td>\n",
       "    </tr>\n",
       "    <tr>\n",
       "      <th>1.0</th>\n",
       "      <td>0.000610</td>\n",
       "    </tr>\n",
       "    <tr>\n",
       "      <th>2.0</th>\n",
       "      <td>0.002424</td>\n",
       "    </tr>\n",
       "  </tbody>\n",
       "</table>\n",
       "</div>"
      ],
      "text/plain": [
       "0.0    0.002311\n",
       "1.0    0.000610\n",
       "2.0    0.002424\n",
       "Name: , dtype: float64"
      ]
     },
     "execution_count": 5,
     "metadata": {},
     "output_type": "execute_result"
    }
   ],
   "source": [
    "pmf_educ = Pmf.from_seq(educ, normalize=True)\n",
    "pmf_educ.head()"
   ]
  },
  {
   "cell_type": "markdown",
   "id": "b25b8b6b-8f1d-4249-9543-ac5e3f3048e9",
   "metadata": {},
   "source": [
    "Now if we use the bracket operator, the result is a fraction. \n",
    "<!--\n",
    "```python\n",
    "pmf_educ[12]\n",
    "```\n",
    "```\n",
    "0.30863869940587907\n",
    "```\n",
    "-->"
   ]
  },
  {
   "cell_type": "code",
   "execution_count": 6,
   "id": "a993f456-2965-4a6e-be3e-7cdc83a6d3ad",
   "metadata": {},
   "outputs": [
    {
     "data": {
      "text/plain": [
       "0.3072836414997432"
      ]
     },
     "execution_count": 6,
     "metadata": {},
     "output_type": "execute_result"
    }
   ],
   "source": [
    "pmf_educ[12]"
   ]
  },
  {
   "cell_type": "markdown",
   "id": "dc80a104-2e29-4e1a-bfac-b66fe6bdf7a8",
   "metadata": {},
   "source": [
    "In this example, the fraction of people with 12 years of education is 0.3073, a little more than 30%.\n",
    "\n",
    "### Plot\n",
    "The Pmf class provides a `bar()` method that plots a PMF as a bar chart. And here's what it looks like. "
   ]
  },
  {
   "cell_type": "code",
   "execution_count": 7,
   "id": "3e676d54-bec3-4a16-9092-0b60ad77d87b",
   "metadata": {},
   "outputs": [
    {
     "data": {
      "image/png": "[encoded data removed]",
      "text/plain": [
       "<Figure size 432x288 with 1 Axes>"
      ]
     },
     "metadata": {
      "needs_background": "light"
     },
     "output_type": "display_data"
    }
   ],
   "source": [
    "pmf_educ.bar(label='educ')\n",
    "plt.xlabel('Years of education')\n",
    "plt.ylabel('PMF')\n",
    "plt.show()"
   ]
  },
  {
   "cell_type": "markdown",
   "id": "d0c697e2-49c9-4d27-9046-c7bdc2927460",
   "metadata": {},
   "source": [
    "In this figure, we can see more clearly that the most common value is 12 years, but there are also peaks at 14 and 16, which correspond to two and four years of college.\n",
    "\n",
    "### Histogram vs. PMF\n",
    "For this data, the PMF is probably a better choice than the histogram. The PMF shows all unique values, so we can see exactly where the peaks are. Because the histogram puts values into bins, it obscures some details. In this example, we can't see the peaks at 14 and 16 years."
   ]
  },
  {
   "cell_type": "markdown",
   "id": "50399c6e-69aa-46fa-915b-e109efda22ef",
   "metadata": {},
   "source": [
    "## Make a PMF\n",
    "In this exercise, you'll focus on one variable in this dataset, `'year'`, which represents the year each respondent was interviewed.\n",
    "\n",
    "- Make a PMF for `year` with `normalize=False` and display the result."
   ]
  },
  {
   "cell_type": "code",
   "execution_count": 8,
   "id": "20d2e6fc-7f61-4aea-bc51-3685ff40c5be",
   "metadata": {},
   "outputs": [
    {
     "name": "stdout",
     "output_type": "stream",
     "text": [
      "1972    1613\n",
      "1973    1504\n",
      "1974    1484\n",
      "1975    1490\n",
      "1976    1499\n",
      "1977    1530\n",
      "1978    1532\n",
      "1980    1468\n",
      "1982    1860\n",
      "1983    1599\n",
      "1984    1473\n",
      "1985    1534\n",
      "1986    1470\n",
      "1987    1819\n",
      "1988    1481\n",
      "1989    1537\n",
      "1990    1372\n",
      "1991    1517\n",
      "1993    1606\n",
      "1994    2992\n",
      "1996    2904\n",
      "1998    2832\n",
      "2000    2817\n",
      "2002    2765\n",
      "2004    2812\n",
      "2006    4510\n",
      "2008    2023\n",
      "2010    2044\n",
      "2012    1974\n",
      "2014    2538\n",
      "2016    2867\n",
      "Name: , dtype: int64\n"
     ]
    }
   ],
   "source": [
    "# Compute the PMF for year\n",
    "pmf_year = Pmf.from_seq(gss['year'], normalize=False)\n",
    "\n",
    "# Print the result\n",
    "print(pmf_year)"
   ]
  },
  {
   "cell_type": "markdown",
   "id": "59b7d3b2-82eb-44de-823e-3f38b5ed8db7",
   "metadata": {},
   "source": [
    "## Plot a PMF\n",
    "Now let's plot a PMF for the age of the respondents in the GSS dataset. The variable `'age'` contains respondents' age in years.\n",
    "- Select the `'age'` column from the `gss` DataFrame and store the result in `age`.\n",
    "- Make a normalized PMF of `age`. Store the result in `pmf_age`.\n",
    "- Plot `pmf_age` as a bar chart."
   ]
  },
  {
   "cell_type": "code",
   "execution_count": 9,
   "id": "49073f67-2922-47cf-a92f-2770d4cfaa31",
   "metadata": {},
   "outputs": [],
   "source": [
    "# Select the age column\n",
    "age = gss['age']\n",
    "\n",
    "# Make a PMF of age\n",
    "pmf_age = Pmf.from_seq(age)"
   ]
  },
  {
   "cell_type": "code",
   "execution_count": 10,
   "id": "46c5ad83-119d-475a-bbd8-e6de6d03d90c",
   "metadata": {},
   "outputs": [
    {
     "data": {
      "image/png": "[encoded data removed]",
      "text/plain": [
       "<Figure size 432x288 with 1 Axes>"
      ]
     },
     "metadata": {
      "needs_background": "light"
     },
     "output_type": "display_data"
    }
   ],
   "source": [
    "# Plot the PMF\n",
    "pmf_age.bar(label='pmf_age')\n",
    "\n",
    "# Label the axes\n",
    "plt.xlabel('Age')\n",
    "plt.ylabel('PMF')\n",
    "plt.show()"
   ]
  },
  {
   "cell_type": "markdown",
   "id": "1ec82334-b7c2-429e-92eb-85eeb77b2a39",
   "metadata": {},
   "source": [
    "*You could also use* `pmf_age.plot()` *to plot the Pmf as a line plot.*"
   ]
  },
  {
   "cell_type": "markdown",
   "id": "0305f4dc-7ff7-42d6-8a51-f53cdc7fe18f",
   "metadata": {},
   "source": [
    "---"
   ]
  },
  {
   "cell_type": "markdown",
   "id": "e01cb670-afc8-4276-84c4-b0db869e641c",
   "metadata": {},
   "source": [
    "## Cumulative distribution functions\n",
    "We'll see another way to represent a distribution, the cumulative distribution function, or CDF. CDFs are useful for some computations; they are also a great way to visualize and compare distributions.\n",
    "\n",
    "### From PMF to CDF\n",
    "If you draw a random element from a distribution:\n",
    "- **PMF** (Probability Mass Function) is the probability that you get exactly x\n",
    "- **CDF** (Cumulative Distribution Function) is the probability that you get a value <= x\n",
    "for a given value of x.\n",
    "\n",
    "### Example\n",
    "```\n",
    "PMF of {1, 2, 2, 3, 5}\n",
    "PMF(1) = 1/5\n",
    "PMF(2) = 2/5\n",
    "PMF(3) = 1/5\n",
    "PMF(5) = 1/5\n",
    "\n",
    "CDF is the cumulative sum of the PMF.\n",
    "CDF(1) = 1/5\n",
    "CDF(2) = 3/5\n",
    "CDF(3) = 4/5\n",
    "CDF(5) = 1\n",
    "```\n",
    "As a small example, suppose the distribution only has 5 elements, 1, 2, 2, 3, and 5. The PMF says that the probability of value 1 is 1/5; the probability of value 2 is 2/5, and the probabilities for 3 and 5 are 1/5. The CDF is the cumulative sum of the probabilities from the PMF. For example, the CDF of 2 is three fifths, because three out of 5 values in the distribution are less than or equal to 2. The CDF of 5 is 1, or 100%, because all of the values in the distribution are less than or equal to 5.\n",
    "\n",
    "### Make and plot a CDF\n",
    "As a function, Cdf takes any kind of sequence and returns a new Cdf object. In this example, the sequence is the ages of respondents in the General Social Survey. The Cdf provides plot, which plots the CDF as a line. "
   ]
  },
  {
   "cell_type": "code",
   "execution_count": 11,
   "id": "f780b9f8-a2d7-4077-ae2a-fade6533c4c7",
   "metadata": {},
   "outputs": [
    {
     "data": {
      "image/png": "[encoded data removed]",
      "text/plain": [
       "<Figure size 432x288 with 1 Axes>"
      ]
     },
     "metadata": {
      "needs_background": "light"
     },
     "output_type": "display_data"
    }
   ],
   "source": [
    "from empiricaldist import Cdf\n",
    "cdf = Cdf.from_seq(gss['age'])\n",
    "cdf.plot()\n",
    "plt.xlabel('Age')\n",
    "plt.ylabel('CDF')\n",
    "plt.show()"
   ]
  },
  {
   "cell_type": "markdown",
   "id": "de49c439-a6b1-4e66-98a6-8413a662e0a0",
   "metadata": {},
   "source": [
    "Here's what it looks like. The x-axis is the ages, from 18 to 89. The y-axis is the cumulative probabilities, from 0 to 1.\n",
    "\n",
    "### Evaluating the CDF\n",
    "The Cdf object can be used as a function, so if you give it an age, it returns the corresponding probability. In this example, the age is the quantity, q, which is 51. The corresponding probability is p, which is 0.66. That means that about 66% of the respondents are 51 years old or younger. <!--The arrow in the figure shows how you could read this value from the CDF, at least approximately.-->"
   ]
  },
  {
   "cell_type": "code",
   "execution_count": 12,
   "id": "efc607cc-3b72-4917-82e3-88c5215cd544",
   "metadata": {},
   "outputs": [
    {
     "name": "stdout",
     "output_type": "stream",
     "text": [
      "0.6602013455146835\n"
     ]
    }
   ],
   "source": [
    "q = 51\n",
    "p = cdf(q)\n",
    "print(p)"
   ]
  },
  {
   "cell_type": "markdown",
   "id": "e9d6dd4b-66f4-4de0-9b3a-270e094670dd",
   "metadata": {},
   "source": [
    "### Evaluating the inverse CDF\n",
    "The CDF is an invertible function, which means that if you have a probability, p, you can look up the corresponding quantity, q. \n",
    "\n",
    "In this example, I look up the probability 0.25, which returns 30. That means that 25% of the respondents are age 30 or less. Another way to say the same thing is \"age 30 is the 25th percentile of this distribution\". "
   ]
  },
  {
   "cell_type": "code",
   "execution_count": 13,
   "id": "99075904-5370-44b3-b458-a21ef398cb34",
   "metadata": {},
   "outputs": [
    {
     "name": "stdout",
     "output_type": "stream",
     "text": [
      "30.0\n"
     ]
    }
   ],
   "source": [
    "p = 0.25\n",
    "q = cdf.inverse(p)\n",
    "print(q)"
   ]
  },
  {
   "cell_type": "markdown",
   "id": "2d05f034-f7b4-4931-aeaf-fb408cbce030",
   "metadata": {},
   "source": [
    "I also look up probability 0.75, which returns 57, so 75% of the respondents are 57 or younger. <!-- Again, the arrows in the figure show how you could read these values from the CDF.-->"
   ]
  },
  {
   "cell_type": "code",
   "execution_count": 14,
   "id": "b0375da6-f0f9-40fc-abaf-c7493f8df991",
   "metadata": {
    "tags": []
   },
   "outputs": [
    {
     "name": "stdout",
     "output_type": "stream",
     "text": [
      "57.0\n"
     ]
    }
   ],
   "source": [
    "p = 0.75\n",
    "q = cdf.inverse(p)\n",
    "print(q)"
   ]
  },
  {
   "cell_type": "markdown",
   "id": "9bd257a0-a267-4b7d-9228-af643d8466d7",
   "metadata": {},
   "source": [
    "By the way, the distance from the 25th to the 75th percentile is called the interquartile range, or IQR. It measures the spread of the distribution, so it is similar to standard deviation or variance. Because it is based on percentiles, it doesn't get thrown off by extreme values or outliers, the way variance does. So IQR can be more \"robust\" than variance, which means it works well even if there are errors in the data or extreme values."
   ]
  },
  {
   "cell_type": "markdown",
   "id": "3949aed8-e9ed-47ea-862a-a0bb0114eec6",
   "metadata": {},
   "source": [
    "## Make a CDF\n",
    "In this exercise, you'll make a CDF and use it to determine the fraction of respondents in the GSS dataset who are OLDER than 30.\n",
    "\n",
    "- Select the `'age'` column. Store the result in `age`.\n",
    "- Compute the CDF of `age`. Store the result in `cdf_age`.\n",
    "- Calculate the CDF of `30`."
   ]
  },
  {
   "cell_type": "code",
   "execution_count": 15,
   "id": "db7e6d54-f05a-442e-8e35-6da886d0f640",
   "metadata": {},
   "outputs": [
    {
     "name": "stdout",
     "output_type": "stream",
     "text": [
      "0.2539137136526389\n"
     ]
    }
   ],
   "source": [
    "# Select the age column\n",
    "age = gss['age']\n",
    "\n",
    "# Compute the CDF of age\n",
    "cdf_age = Cdf.from_seq(age)\n",
    "\n",
    "# Calculate the CDF of 30\n",
    "print(cdf_age[30])"
   ]
  },
  {
   "cell_type": "markdown",
   "id": "10e8d831-b704-4410-af5b-6ae0eec24dda",
   "metadata": {},
   "source": [
    "### Question\n",
    "What fraction of the respondents in the GSS dataset are OLDER than 30?\n",
    "\n",
    "1. **Approximately 75%**\n",
    "2. ~Approximately 65%~\n",
    "3. ~Approximately 45%~\n",
    "4. ~Approximately 25%~\n",
    "\n",
    "**Answer: 1.**"
   ]
  },
  {
   "cell_type": "markdown",
   "id": "89b3da2b-ef2e-4ddf-9329-233266515109",
   "metadata": {},
   "source": [
    "## Compute IQR\n",
    "The interquartile range (IQR) is the difference between the 75th and 25th percentiles. It is a measure of variability that is robust in the presence of errors or extreme values.\n",
    "\n",
    "In this exercise, you'll compute the interquartile range of income in the GSS dataset. Income is stored in the `'realinc'` column.\n",
    "\n",
    "- Calculate the 75th percentile of income and store it in `percentile_75th`.\n",
    "- Calculate the 25th percentile of income and store it in `percentile_25th`.\n",
    "- Calculate the interquartile range of income. Store the result in `iqr`."
   ]
  },
  {
   "cell_type": "code",
   "execution_count": 16,
   "id": "f867f8b6-5971-4cfc-8706-1f6122e4dd31",
   "metadata": {},
   "outputs": [
    {
     "data": {
      "text/html": [
       "<div>\n",
       "<style scoped>\n",
       "    .dataframe tbody tr th:only-of-type {\n",
       "        vertical-align: middle;\n",
       "    }\n",
       "\n",
       "    .dataframe tbody tr th {\n",
       "        vertical-align: top;\n",
       "    }\n",
       "\n",
       "    .dataframe thead th {\n",
       "        text-align: right;\n",
       "    }\n",
       "</style>\n",
       "<table border=\"1\" class=\"dataframe\">\n",
       "  <thead>\n",
       "    <tr style=\"text-align: right;\">\n",
       "      <th></th>\n",
       "      <th>probs</th>\n",
       "    </tr>\n",
       "  </thead>\n",
       "  <tbody>\n",
       "    <tr>\n",
       "      <th>234.0</th>\n",
       "      <td>0.000414</td>\n",
       "    </tr>\n",
       "    <tr>\n",
       "      <th>236.5</th>\n",
       "      <td>0.000955</td>\n",
       "    </tr>\n",
       "    <tr>\n",
       "      <th>245.0</th>\n",
       "      <td>0.001333</td>\n",
       "    </tr>\n",
       "  </tbody>\n",
       "</table>\n",
       "</div>"
      ],
      "text/plain": [
       "234.0    0.000414\n",
       "236.5    0.000955\n",
       "245.0    0.001333\n",
       "Name: , dtype: float64"
      ]
     },
     "execution_count": 16,
     "metadata": {},
     "output_type": "execute_result"
    }
   ],
   "source": [
    "cdf_income = Cdf.from_seq(gss['realinc'])\n",
    "cdf_income.head()"
   ]
  },
  {
   "cell_type": "code",
   "execution_count": 17,
   "id": "1cb0e8d8-dc30-4496-9875-aec83bfe064e",
   "metadata": {},
   "outputs": [
    {
     "name": "stdout",
     "output_type": "stream",
     "text": [
      "29676.0\n"
     ]
    }
   ],
   "source": [
    "# Calculate the 75th percentile \n",
    "percentile_75th = cdf_income.inverse(0.75)\n",
    "\n",
    "# Calculate the 25th percentile\n",
    "percentile_25th = cdf_income.inverse(0.25)\n",
    "\n",
    "# Calculate the interquartile range\n",
    "iqr = percentile_75th - percentile_25th\n",
    "\n",
    "# Print the interquartile range\n",
    "print(iqr)"
   ]
  },
  {
   "cell_type": "markdown",
   "id": "fc2147b3-7c2e-4dc9-a704-7ee4d3fc4192",
   "metadata": {},
   "source": [
    "### Question\n",
    "What is the interquartile range (IQR) of income in the GSS datset?\n",
    "\n",
    "1. **Approximately 29676**\n",
    "2. ~Approximately 26015~\n",
    "3. ~Approximately 34702~\n",
    "4. ~Approximately 30655~\n",
    "\n",
    "**Answer: 1.**"
   ]
  },
  {
   "cell_type": "markdown",
   "id": "8438259e-8662-4421-a015-5e2d0a9ea9ff",
   "metadata": {},
   "source": [
    "## Plot a CDF\n",
    "The distribution of income in almost every country is long-tailed; that is, there are a small number of people with very high incomes.\n",
    "\n",
    "In the GSS dataset, the variable `'realinc'` represents total household income, converted to 1986 dollars. We can get a sense of the shape of this distribution by plotting the CDF.\n",
    "\n",
    "- Select `'realinc'` from the `gss` dataset.\n",
    "- Make a Cdf object called `cdf_income`.\n",
    "- Create a plot of `cdf_income` using `.plot()`."
   ]
  },
  {
   "cell_type": "code",
   "execution_count": 18,
   "id": "34aac7cc-ea1e-46ff-a2c8-60b74918d1bf",
   "metadata": {},
   "outputs": [
    {
     "data": {
      "image/png": "[encoded data removed]",
      "text/plain": [
       "<Figure size 432x288 with 1 Axes>"
      ]
     },
     "metadata": {
      "needs_background": "light"
     },
     "output_type": "display_data"
    }
   ],
   "source": [
    "# Select realinc\n",
    "income = gss['realinc']\n",
    "\n",
    "# Make the CDF\n",
    "cdf_income = Cdf.from_seq(income)\n",
    "\n",
    "# Plot it\n",
    "cdf_income.plot()\n",
    "\n",
    "# Label the axes\n",
    "plt.xlabel('Income (1986 USD)')\n",
    "plt.ylabel('CDF')\n",
    "plt.show()"
   ]
  },
  {
   "cell_type": "markdown",
   "id": "79d087b9-dd0f-4133-b36c-bba9e32fde80",
   "metadata": {},
   "source": [
    "---"
   ]
  },
  {
   "cell_type": "markdown",
   "id": "ca8d6352-fb4a-4206-b713-c8b227b2f9f9",
   "metadata": {},
   "source": [
    "## Comparing distributions\n",
    "So far we've seen two ways to represent distributions, PMFs and CDFs. In this lesson, we'll use PMFs and CDFs to compare distributions, and we'll see the pros and cons of each.\n",
    "\n",
    "### Multiple PMFs\n",
    "One way to compare distributions is to plot multiple PMFs on the same axes. For example, suppose we want to compare the distribution of age for male and female respondents. \n",
    "\n",
    "First I'll create a boolean Series that's true for male respondents. And I'll extract the age column. Now I can select ages for the male and female respondents. And plot a Pmf for each."
   ]
  },
  {
   "cell_type": "code",
   "execution_count": 35,
   "id": "491eaae3-b09a-4145-9c37-2459eed5d474",
   "metadata": {},
   "outputs": [
    {
     "data": {
      "image/png": "[encoded data removed]",
      "text/plain": [
       "<Figure size 432x288 with 1 Axes>"
      ]
     },
     "metadata": {
      "needs_background": "light"
     },
     "output_type": "display_data"
    }
   ],
   "source": [
    "male = gss['sex'] == 1\n",
    "age = gss['age']\n",
    "\n",
    "male_age = age[male]\n",
    "female_age = age[~male]\n",
    "\n",
    "Pmf.from_seq(male_age).plot(label='Male')\n",
    "Pmf.from_seq(female_age).plot(label='Female')\n",
    "\n",
    "plt.xlabel('Age (years)')\n",
    "plt.ylabel('Count (PMF)')\n",
    "plt.legend()\n",
    "plt.show()"
   ]
  },
  {
   "cell_type": "markdown",
   "id": "c2d68b84-d4be-402f-9e45-1d221e4523f7",
   "metadata": {},
   "source": [
    "Here's the result. It looks like there are more men in their twenties, maybe. And there are more women in their 70s and 80s. In between, the plot is pretty noisy; most of these differences are just random variations.\n",
    "\n",
    "We can do the same thing with CDFs. Here's the code: everything is the same except I replaced Pmf with Cdf."
   ]
  },
  {
   "cell_type": "code",
   "execution_count": 36,
   "id": "c5b22533-7459-469e-8293-95d612ecf677",
   "metadata": {},
   "outputs": [
    {
     "data": {
      "image/png": "[encoded data removed]",
      "text/plain": [
       "<Figure size 432x288 with 1 Axes>"
      ]
     },
     "metadata": {
      "needs_background": "light"
     },
     "output_type": "display_data"
    }
   ],
   "source": [
    "Cdf.from_seq(male_age).plot(label='Male')\n",
    "Cdf.from_seq(female_age).plot(label='Female')\n",
    "\n",
    "plt.xlabel('Age (years)')\n",
    "plt.ylabel('Count (CDF)')\n",
    "plt.legend()\n",
    "plt.show()"
   ]
  },
  {
   "cell_type": "markdown",
   "id": "5ebd1fc4-ecfc-471f-90a0-74b015a4f47b",
   "metadata": {},
   "source": [
    "And here is the result. In general, CDFs are smoother than PMFs. Because they smooth out randomness, we can often get a better view of real differences between distributions. In this case, the lines overlap over the whole range; that is, the distributions are nearly identical. But we can see the blue line to the left of the orange line across the distribution, which shows that men are younger at every percentile. Or, another way to think of it: for every age, the fraction of men below that age is more than the fraction of women below that age. But not by very much.\n",
    "\n",
    "### Income distribution\n",
    "As another example, let's look at household income and compare the distribution before and after 1995 (1995 is chosen because it's roughly the midpoint of the survey). \n",
    "\n",
    "###  Income PMFs\n",
    "The variable realinc represents household income in 1986 dollars. I'll make a boolean Series to select respondents interviewed before 1995. Now I can plot the PMFs. And label the axes."
   ]
  },
  {
   "cell_type": "code",
   "execution_count": 37,
   "id": "4a29e723-c381-4fa7-8480-38853cec2e0d",
   "metadata": {},
   "outputs": [
    {
     "data": {
      "image/png": "[encoded data removed]",
      "text/plain": [
       "<Figure size 432x288 with 1 Axes>"
      ]
     },
     "metadata": {
      "needs_background": "light"
     },
     "output_type": "display_data"
    }
   ],
   "source": [
    "income = gss['realinc']\n",
    "pre95 = gss['year'] < 1995\n",
    "\n",
    "Pmf.from_seq(income[pre95]).plot(label='Before 1995')\n",
    "Pmf.from_seq(income[~pre95]).plot(label='After 1995')\n",
    "\n",
    "plt.xlabel('Income (1986 USD)')\n",
    "plt.ylabel('PMF')\n",
    "plt.legend()\n",
    "plt.show()"
   ]
  },
  {
   "cell_type": "markdown",
   "id": "a049af73-c2c6-4af1-9592-01af9da3fcf0",
   "metadata": {},
   "source": [
    "Here's what it looks like. There are a lot of unique values in this distribution, and none of them appear very often. The PMF is so noisy, we can't really see the shape of the distribution. It looks like there are more people with high incomes after 1995, but it's hard to tell. We can get a clearer picture with a CDF."
   ]
  },
  {
   "cell_type": "markdown",
   "id": "e71b8604-abfd-4c42-9bca-c71cda8baeda",
   "metadata": {},
   "source": [
    "### Income CDFs\n",
    "Here's the code to generate the CDFs."
   ]
  },
  {
   "cell_type": "code",
   "execution_count": 38,
   "id": "0b1d9665-6a2a-4b77-b2db-2ab55cfe0cf1",
   "metadata": {},
   "outputs": [
    {
     "data": {
      "image/png": "[encoded data removed]",
      "text/plain": [
       "<Figure size 432x288 with 1 Axes>"
      ]
     },
     "metadata": {
      "needs_background": "light"
     },
     "output_type": "display_data"
    }
   ],
   "source": [
    "Cdf.from_seq(income[pre95]).plot(label='Before 1995')\n",
    "Cdf.from_seq(income[~pre95]).plot(label='After 1995')\n",
    "\n",
    "plt.xlabel('Income (1986 USD)')\n",
    "plt.ylabel('PMF')\n",
    "plt.legend()\n",
    "plt.show()"
   ]
  },
  {
   "cell_type": "markdown",
   "id": "0b0a13a5-f5de-4d02-996f-07ba3b1f5b43",
   "metadata": {},
   "source": [
    "And here are the results. Below $30,000 the CDFs are almost identical; above that, we can see that the orange distribution is shifted to the right. In other words, the fraction of people with high incomes is about the same, but the income of high earners has increased.\n",
    "\n",
    "In general, for exploratory analysis CDFs is recommended. They give you a clear view of the distribution, without too much noise, and they are good for comparing distributions, especially if you have more than two."
   ]
  },
  {
   "cell_type": "markdown",
   "id": "18f4f3b8-c0ef-4221-af3c-fe6fcbfd4ce3",
   "metadata": {},
   "source": [
    "## Distribution of education\n",
    "Let's begin comparing incomes for different levels of education in the `gss` dataset. The variable `educ` represents the respondent's years of education.\n",
    "\n",
    "- Q. What fraction of respondents report that they have 12 years of education or fewer?"
   ]
  },
  {
   "cell_type": "code",
   "execution_count": 23,
   "id": "c188511c-f301-48cd-91b2-818bd4f97e0d",
   "metadata": {},
   "outputs": [
    {
     "data": {
      "text/plain": [
       "0.5322611710323575"
      ]
     },
     "execution_count": 23,
     "metadata": {},
     "output_type": "execute_result"
    }
   ],
   "source": [
    "years = gss['educ']\n",
    "\n",
    "Cdf.from_seq(years)[12]"
   ]
  },
  {
   "cell_type": "markdown",
   "id": "1c547798-d2eb-4edc-9f83-92f5a6dc6c27",
   "metadata": {},
   "source": [
    "1. ~Approximately 22%~\n",
    "2. ~Approximately 31%~\n",
    "3. ~Approximately 47%~\n",
    "4. **Approximately 53%**"
   ]
  },
  {
   "cell_type": "markdown",
   "id": "1c2eb81d-6d4a-432b-8ce2-2570f4a24921",
   "metadata": {},
   "source": [
    "## Extract education levels\n",
    "Let's create Boolean Series to identify respondents with different levels of education.\n",
    "\n",
    "In the U.S, 12 years of education usually means the respondent has completed high school (secondary education). A respondent with 14 years of education has probably completed an associate degree (two years of college); someone with 16 years has probably completed a bachelor's degree (four years of college).\n",
    "\n",
    "- Complete the line that identifies respondents with associate degrees, that is, people with 14 or more years of education but less than 16.\n",
    "- Complete the line that identifies respondents with 12 or fewer years of education.\n",
    "- Confirm that the mean of `high` is the fraction we computed in the previous exercise, about 53%."
   ]
  },
  {
   "cell_type": "code",
   "execution_count": 24,
   "id": "13a39e4f-84b5-4435-9f84-cafa337dc862",
   "metadata": {},
   "outputs": [
    {
     "name": "stdout",
     "output_type": "stream",
     "text": [
      "0.5308807991547402\n"
     ]
    }
   ],
   "source": [
    "# Select educ\n",
    "educ = gss['educ']\n",
    "\n",
    "# Bachelor's degree\n",
    "bach = (educ >= 16)\n",
    "\n",
    "# Associate degree\n",
    "assc = (educ >= 14) & (educ < 16)\n",
    "\n",
    "# High school (12 or fewer years of education)\n",
    "high = (educ <= 12)\n",
    "print(high.mean())"
   ]
  },
  {
   "cell_type": "markdown",
   "id": "21027fe4-6ec2-4e85-8cf4-eaed2464f823",
   "metadata": {},
   "source": [
    "## Plot income CDFs\n",
    "Let's now see what the distribution of income looks like for people with different education levels. You can do this by plotting the CDFs. Recall how Allen plotted the income CDFs of respondents interviewed before and after 1995:\n",
    "```python\n",
    "Cdf(income[pre95]).plot(label='Before 1995')\n",
    "Cdf(income[~pre95]).plot(label='After 1995')\n",
    "```\n",
    "You can assume that Boolean Series have been defined, as in the previous exercise, to identify respondents with different education levels: `high`, `assc`, and `bach`.\n",
    "- Plot the CDFs."
   ]
  },
  {
   "cell_type": "code",
   "execution_count": 27,
   "id": "27663e03-8f1f-48c8-ae14-ff4d613bacd8",
   "metadata": {},
   "outputs": [
    {
     "data": {
      "image/png": "[encoded data removed]",
      "text/plain": [
       "<Figure size 432x288 with 1 Axes>"
      ]
     },
     "metadata": {
      "needs_background": "light"
     },
     "output_type": "display_data"
    }
   ],
   "source": [
    "income = gss['realinc']\n",
    "\n",
    "# Plot the CDFs\n",
    "Cdf.from_seq(income[high]).plot(label='High school')\n",
    "Cdf.from_seq(income[assc]).plot(label='Associate')\n",
    "Cdf.from_seq(income[bach]).plot(label='Bachelor')\n",
    "\n",
    "# Label the axes\n",
    "plt.xlabel('Income (1986 USD)')\n",
    "plt.ylabel('CDF')\n",
    "plt.legend()\n",
    "plt.show()"
   ]
  },
  {
   "cell_type": "markdown",
   "id": "b566a7d6-e71e-48b6-89f0-c7e8c37f7f2a",
   "metadata": {},
   "source": [
    "*It might not be surprising that people with more education have higher incomes, but looking at these distributions, we can see where the differences are.*"
   ]
  },
  {
   "cell_type": "markdown",
   "id": "61a49e81-50d9-4eec-a4e4-32a540962ba6",
   "metadata": {},
   "source": [
    "---"
   ]
  },
  {
   "cell_type": "markdown",
   "id": "1f1a6efd-8bc9-40f2-90ea-0993996f0d03",
   "metadata": {},
   "source": [
    "## Modeling distributions\n",
    "In the previous lesson we used PMFs and CDFs to plot and compare distributions. We saw that PMFs don't work very well when the data have a large number of unique values. In this lesson you'll learn about probability density functions, or PDFs, and learn how to estimate PDFs from data.\n",
    "\n",
    "### The normal distribution\n",
    "Let's start with the normal distribution, also called the Gaussian distribution. It turns out that many things we measure in the world have distributions that are well approximated by a normal distribution. To get a sense of what the normal distribution looks like, I'll use the NumPy random module to generate 1000 random values from a normal distribution. And plot their CDF. "
   ]
  },
  {
   "cell_type": "code",
   "execution_count": 28,
   "id": "1f154ed2-cedd-49d0-af04-ad4ae859983c",
   "metadata": {},
   "outputs": [
    {
     "data": {
      "text/plain": [
       "<AxesSubplot:>"
      ]
     },
     "execution_count": 28,
     "metadata": {},
     "output_type": "execute_result"
    },
    {
     "data": {
      "image/png": "[encoded data removed]",
      "text/plain": [
       "<Figure size 432x288 with 1 Axes>"
      ]
     },
     "metadata": {
      "needs_background": "light"
     },
     "output_type": "display_data"
    }
   ],
   "source": [
    "import numpy as np\n",
    "sample = np.random.normal(size=1000)\n",
    "Cdf.from_seq(sample).plot()"
   ]
  },
  {
   "cell_type": "markdown",
   "id": "9a0a73c5-551f-4259-96be-6298115e8dcb",
   "metadata": {},
   "source": [
    "This sigmoid shape is what we expect to see with values from a normal distribution.\n",
    "\n",
    "### The normal CDF\n",
    "SciPy provides an object called norm that represents the normal distribution. I'll use `np.linspace()` to create an array of equally-spaced points from -3 to 3. `norm(0, 1)` creates an object that represents a normal distribution with mean 0 and standard deviation 1. `.cdf()` evaluates the CDF of the normal distribution. I'll plot the results with a gray line. And then plot the CDF of the sample again.\n"
   ]
  },
  {
   "cell_type": "code",
   "execution_count": 34,
   "id": "6bb0b525-0bd1-4def-bdf5-0fd142c1143c",
   "metadata": {},
   "outputs": [
    {
     "data": {
      "image/png": "[encoded data removed]",
      "text/plain": [
       "<Figure size 432x288 with 1 Axes>"
      ]
     },
     "metadata": {
      "needs_background": "light"
     },
     "output_type": "display_data"
    }
   ],
   "source": [
    "from scipy.stats import norm\n",
    "\n",
    "xs = np.linspace(-3, 3)\n",
    "ys = norm(0, 1).cdf(xs)\n",
    "\n",
    "plt.plot(xs, ys, color='gray', label='Cdf')\n",
    "\n",
    "Cdf.from_seq(sample).plot()\n",
    "\n",
    "plt.xlabel('Normal random value')\n",
    "plt.ylabel('CDF')\n",
    "plt.legend()\n",
    "plt.show()"
   ]
  },
  {
   "cell_type": "markdown",
   "id": "a63507bb-2738-4285-8a34-5d78507c7f19",
   "metadata": {},
   "source": [
    "### Comparing CDFs\n",
    "Here's the result. The CDF from the sample is pretty close to the normal CDF over the whole range. If this were real data, we would conclude that the normal distribution is a good model for the data.\n",
    "\n",
    "### The bell curve\n",
    "The norm object also provides `.pdf()`, which evaluates the probability density function, or PDF. And here's what that looks like. "
   ]
  },
  {
   "cell_type": "code",
   "execution_count": 41,
   "id": "b7813308-ddf1-4d18-a2b3-86fd1d49e442",
   "metadata": {},
   "outputs": [
    {
     "data": {
      "image/png": "[encoded data removed]",
      "text/plain": [
       "<Figure size 432x288 with 1 Axes>"
      ]
     },
     "metadata": {
      "needs_background": "light"
     },
     "output_type": "display_data"
    }
   ],
   "source": [
    "xs = np.linspace(-3, 3)\n",
    "ys = norm(0, 1).pdf(xs)\n",
    "plt.plot(xs, ys, color='gray')\n",
    "plt.xlabel('Normal random value')\n",
    "plt.ylabel('PDF')\n",
    "plt.show()"
   ]
  },
  {
   "cell_type": "markdown",
   "id": "18058f07-551e-461c-aecf-1c148d5d9be1",
   "metadata": {},
   "source": [
    "It's the classic bell curve. Unfortunately, if we compare this PDF to the PMF of the sample, it doesn't work very well.\n",
    "\n",
    "### Sample PMF\n",
    "Here's what it looks like. The PMF of the sample is a flat line across the bottom. In the random sample, every value is unique, so they all have the same probability, one in 1000. However, we can use the points in the sample to estimate the PDF of the distribution they came from. This process is called kernel density estimation, or KDE. It's a way of getting from a PMF, a probability mass function, to a PDF, a probability density function.\n",
    "\n",
    "### KDE plot\n",
    "To generate a KDE plot, we'll use the Seaborn library for data visualization, which I import as `sns`. Seaborn provides kdeplot, which takes the sample, estimates the PDF, and plots it. Here's what it looks like.\n"
   ]
  },
  {
   "cell_type": "code",
   "execution_count": 42,
   "id": "26796752-9715-4612-83c1-e9a4c26debd8",
   "metadata": {},
   "outputs": [
    {
     "data": {
      "text/plain": [
       "<AxesSubplot:ylabel='Density'>"
      ]
     },
     "execution_count": 42,
     "metadata": {},
     "output_type": "execute_result"
    },
    {
     "data": {
      "image/png": "[encoded data removed]",
      "text/plain": [
       "<Figure size 432x288 with 1 Axes>"
      ]
     },
     "metadata": {
      "needs_background": "light"
     },
     "output_type": "display_data"
    }
   ],
   "source": [
    "import seaborn as sns\n",
    "sns.kdeplot(sample)"
   ]
  },
  {
   "cell_type": "markdown",
   "id": "c877a479-c9fa-4c34-8e68-d5b3033154aa",
   "metadata": {},
   "source": [
    "### KDE and PDF\n",
    "Now we can compare the KDE plot and the normal PDF. Here's the code. There's nothing there we haven't already seen. And here's the result."
   ]
  },
  {
   "cell_type": "code",
   "execution_count": 45,
   "id": "e8a141f1-a102-43ee-9f40-b11c7bb9f8ad",
   "metadata": {},
   "outputs": [
    {
     "data": {
      "text/plain": [
       "<AxesSubplot:ylabel='Density'>"
      ]
     },
     "execution_count": 45,
     "metadata": {},
     "output_type": "execute_result"
    },
    {
     "data": {
      "image/png": "[encoded data removed]",
      "text/plain": [
       "<Figure size 432x288 with 1 Axes>"
      ]
     },
     "metadata": {
      "needs_background": "light"
     },
     "output_type": "display_data"
    }
   ],
   "source": [
    "xs = np.linspace(-3, 3)\n",
    "ys = norm.pdf(xs)\n",
    "plt.plot(xs, ys, color='gray')\n",
    "sns.kdeplot(sample)"
   ]
  },
  {
   "cell_type": "markdown",
   "id": "91705167-ea27-4351-a0a5-9531c74808a1",
   "metadata": {},
   "source": [
    "The KDE plot matches the normal PDF pretty well, although the differences look bigger when we compare PDFs than they did with the CDFs. On one hand, that means that the PDF is a more sensitive way to look for differences, but often it is too sensitive. It's hard to tell whether apparent differences mean anything, or if they are just random, as in this case.\n",
    "\n",
    "### PMF, CDF, KDE\n",
    "To summarize, we've seen three ways to visualize distributions, PMFs, CDFs, and KDE. \n",
    "\n",
    "In general, I **use CDFs** when I am **exploring data**. I think they give the best view of what's going on without getting distracted by noise. The biggest drawback of CDFs is that they are less well known. If I am presenting results to an audience unfamiliar with CDFs, I'll **use PMFs** for **distributions with a small number of unique values** and **KDE if there are a lot of values**."
   ]
  },
  {
   "cell_type": "markdown",
   "id": "fdf7bc0a-eb0f-40cb-bfc2-f5c89124274f",
   "metadata": {},
   "source": [
    "## Distribution of income\n",
    "In many datasets, the distribution of income is approximately lognormal, which means that the logarithms of the incomes fit a normal distribution. We'll see whether that's true for the GSS data. As a first step, you'll compute the mean and standard deviation of the log of incomes using NumPy's `np.log10()` function.\n",
    "\n",
    "Then, you'll use the computed mean and standard deviation to make a `norm` object using the [`scipy.stats.norm()`](https://docs.scipy.org/doc/scipy/reference/generated/scipy.stats.norm.html) function.\n",
    "\n",
    "- Extract `'realinc'` from `gss` and compute its logarithm using `np.log10()`.\n",
    "- Compute the mean and standard deviation of the result.\n",
    "- Make a `norm` object by passing the computed mean and standard deviation to `norm()`."
   ]
  },
  {
   "cell_type": "code",
   "execution_count": 48,
   "id": "e0251c14-d39c-4313-942b-d43a7dad9e49",
   "metadata": {},
   "outputs": [
    {
     "name": "stdout",
     "output_type": "stream",
     "text": [
      "4.371148677933652 0.4290082383271419\n"
     ]
    }
   ],
   "source": [
    "# Extract realinc and compute its log\n",
    "income = gss['realinc']\n",
    "log_income = np.log10(income)\n",
    "\n",
    "# Compute mean and standard deviation\n",
    "mean = log_income.mean()\n",
    "std = log_income.std()\n",
    "print(mean, std)\n",
    "\n",
    "# Make a norm object\n",
    "from scipy.stats import norm\n",
    "dist = norm(mean, std)"
   ]
  },
  {
   "cell_type": "markdown",
   "id": "ad94e258-82b5-4fd3-8cd4-b94b935d21cd",
   "metadata": {},
   "source": [
    "*Now we can plot the model and the observed distribution and see where they differ.*"
   ]
  },
  {
   "cell_type": "markdown",
   "id": "5fc9b08b-688d-4e39-bdf1-11cb6dcdbb57",
   "metadata": {},
   "source": [
    "## Comparing CDFs\n",
    "To see whether the distribution of income is well modeled by a lognormal distribution, we'll compare the CDF of the logarithm of the data to a normal distribution with the same mean and standard deviation. These variables from the previous exercise are available for use:\n",
    "```python\n",
    "# Extract realinc and compute its log\n",
    "log_income = np.log10(gss['realinc'])\n",
    "\n",
    "# Compute mean and standard deviation\n",
    "mean, std = log_income.mean(), log_income.std()\n",
    "\n",
    "# Make a norm object\n",
    "from scipy.stats import norm\n",
    "dist = norm(mean, std)\n",
    "```\n",
    "`dist` is a `scipy.stats.norm` object with the same mean and standard deviation as the data. It provides `.cdf()`, which evaluates the normal cumulative distribution function.\n",
    "\n",
    "Be careful with capitalization: `Cdf()`, with an uppercase `C`, creates `Cdf` objects. `dist.cdf()`, with a lowercase `c`, evaluates the normal cumulative distribution function.\n",
    "\n",
    "- Evaluate the normal cumulative distribution function using `dist.cdf`.\n",
    "- Use the `Cdf()` function to compute the CDF of `log_income`.\n",
    "- Plot the result."
   ]
  },
  {
   "cell_type": "code",
   "execution_count": 49,
   "id": "c00c3f46-848e-4c6c-8b4a-3429eaaf12a6",
   "metadata": {},
   "outputs": [
    {
     "data": {
      "image/png": "[encoded data removed]",
      "text/plain": [
       "<Figure size 432x288 with 1 Axes>"
      ]
     },
     "metadata": {
      "needs_background": "light"
     },
     "output_type": "display_data"
    }
   ],
   "source": [
    "# Evaluate the model CDF\n",
    "xs = np.linspace(2, 5.5)\n",
    "ys = dist.cdf(xs)\n",
    "\n",
    "# Plot the model CDF\n",
    "plt.clf()\n",
    "plt.plot(xs, ys, color='gray')\n",
    "\n",
    "# Create and plot the Cdf of log_income\n",
    "Cdf.from_seq(log_income).plot()\n",
    "    \n",
    "# Label the axes\n",
    "plt.xlabel('log10 of realinc')\n",
    "plt.ylabel('CDF')\n",
    "plt.show()"
   ]
  },
  {
   "cell_type": "markdown",
   "id": "a9bc49be-6aa1-44e8-ab6d-67ee53bb11e6",
   "metadata": {},
   "source": [
    "*The lognormal model is a pretty good fit for the data, but clearly not a perfect match. That's what real data is like; sometimes it doesn't fit the model.*"
   ]
  },
  {
   "cell_type": "markdown",
   "id": "4ecd46d6-d954-499e-9669-3035d880c257",
   "metadata": {},
   "source": [
    "## Comparing PDFs\n",
    "In the previous exercise, we used CDFs to see if the distribution of income is lognormal. We can make the same comparison using a PDF and KDE. That's what you'll do in this exercise!\n",
    "\n",
    "As before, the `norm` object `dist` is available in your workspace:\n",
    "```python\n",
    "from scipy.stats import norm\n",
    "dist = norm(mean, std)\n",
    "```\n",
    "Just as all `norm` objects have a `.cdf()` method, they also have a `.pdf()` method.\n",
    "\n",
    "To create a KDE plot, you can use Seaborn's [`kdeplot()`](https://seaborn.pydata.org/generated/seaborn.kdeplot.html) function.\n",
    "\n",
    "- Evaluate the normal PDF using `dist`, which is a `norm` object with the same mean and standard deviation as the data.\n",
    "- Make a KDE plot of the logarithms of the incomes, using `log_income`, which is a Series object."
   ]
  },
  {
   "cell_type": "code",
   "execution_count": 51,
   "id": "50707174-a896-41e1-a88d-4229b04e30ea",
   "metadata": {},
   "outputs": [
    {
     "data": {
      "image/png": "[encoded data removed]",
      "text/plain": [
       "<Figure size 432x288 with 1 Axes>"
      ]
     },
     "metadata": {
      "needs_background": "light"
     },
     "output_type": "display_data"
    }
   ],
   "source": [
    "# Evaluate the normal PDF\n",
    "xs = np.linspace(2, 5.5)\n",
    "ys = dist.pdf(xs)\n",
    "\n",
    "# Plot the model PDF\n",
    "plt.clf()\n",
    "plt.plot(xs, ys, color='gray')\n",
    "\n",
    "# Plot the data KDE\n",
    "sns.kdeplot(log_income, label='realinc')\n",
    "\n",
    "# Label the axes\n",
    "plt.xlabel('log10 of realinc')\n",
    "plt.ylabel('PDF')\n",
    "plt.legend()\n",
    "plt.show()"
   ]
  }
 ],
 "metadata": {
  "kernelspec": {
   "display_name": "Python 3",
   "language": "python",
   "name": "python3"
  },
  "language_info": {
   "codemirror_mode": {
    "name": "ipython",
    "version": 3
   },
   "file_extension": ".py",
   "mimetype": "text/x-python",
   "name": "python",
   "nbconvert_exporter": "python",
   "pygments_lexer": "ipython3",
   "version": "3.8.8"
  }
 },
 "nbformat": 4,
 "nbformat_minor": 5
}
