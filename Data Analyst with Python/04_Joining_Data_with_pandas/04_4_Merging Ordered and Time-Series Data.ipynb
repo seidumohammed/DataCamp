{
 "cells": [
  {
   "cell_type": "markdown",
   "id": "1b4688c1-7e2b-40b0-b2c7-1137f0ab0868",
   "metadata": {},
   "source": [
    "# Merging Ordered and Time-Series Data\n",
    "**In this final chapter, you’ll step up a gear and learn to apply pandas' specialized methods for merging time-series and ordered data together with real-world financial and economic data from the city of Chicago. You’ll also learn how to query resulting tables using a SQL-style format, and unpivot data using the melt method.**"
   ]
  },
  {
   "cell_type": "code",
   "execution_count": 1,
   "id": "e2399b23-11cb-4c22-b4cb-bd7a05bdcb39",
   "metadata": {},
   "outputs": [],
   "source": [
    "import pandas as pd\n",
    "import numpy as np\n",
    "import matplotlib.pyplot as plt"
   ]
  },
  {
   "cell_type": "markdown",
   "id": "a78c0838-5187-4cf6-87c3-e2a9968d688e",
   "metadata": {},
   "source": [
    "## Correlation between GDP and S&P500\n",
    "In this exercise, you want to analyze stock returns from the S&P 500. You believe there may be a relationship between the returns of the S&P 500 and the GDP of the US. Merge the different datasets together to compute the correlation."
   ]
  },
  {
   "cell_type": "code",
   "execution_count": 24,
   "id": "49f76446-9b36-429b-bf92-5089905cf953",
   "metadata": {},
   "outputs": [],
   "source": [
    "sp500 = pd.read_csv('S&P500.csv')\n",
    "US_gdp = pd.read_pickle('US_gdp.p')"
   ]
  },
  {
   "cell_type": "markdown",
   "id": "8ddce0bd-da52-4cfc-9895-62d348de0a0e",
   "metadata": {},
   "source": [
    "**Instruction 1**\n",
    "\n",
    "- Use `merge_ordered()` to merge `gdp` and `sp500` using a left join on `year` and `Date`. Save the results as `gdp_sp500`.\n",
    "- Print `gdp_sp500` and look at the returns for the `year 2018`."
   ]
  },
  {
   "cell_type": "code",
   "execution_count": 25,
   "id": "0178edcf-7a69-4d6a-bfb2-31a4be396f77",
   "metadata": {},
   "outputs": [
    {
     "data": {
      "text/html": [
       "<div>\n",
       "<style scoped>\n",
       "    .dataframe tbody tr th:only-of-type {\n",
       "        vertical-align: middle;\n",
       "    }\n",
       "\n",
       "    .dataframe tbody tr th {\n",
       "        vertical-align: top;\n",
       "    }\n",
       "\n",
       "    .dataframe thead th {\n",
       "        text-align: right;\n",
       "    }\n",
       "</style>\n",
       "<table border=\"1\" class=\"dataframe\">\n",
       "  <thead>\n",
       "    <tr style=\"text-align: right;\">\n",
       "      <th></th>\n",
       "      <th>country code</th>\n",
       "      <th>year</th>\n",
       "      <th>gdp</th>\n",
       "      <th>Date</th>\n",
       "      <th>Returns</th>\n",
       "    </tr>\n",
       "  </thead>\n",
       "  <tbody>\n",
       "    <tr>\n",
       "      <th>0</th>\n",
       "      <td>USA</td>\n",
       "      <td>2010</td>\n",
       "      <td>1.499210e+13</td>\n",
       "      <td>2010.0</td>\n",
       "      <td>12.78</td>\n",
       "    </tr>\n",
       "    <tr>\n",
       "      <th>1</th>\n",
       "      <td>USA</td>\n",
       "      <td>2011</td>\n",
       "      <td>1.554260e+13</td>\n",
       "      <td>2011.0</td>\n",
       "      <td>0.00</td>\n",
       "    </tr>\n",
       "    <tr>\n",
       "      <th>2</th>\n",
       "      <td>USA</td>\n",
       "      <td>2012</td>\n",
       "      <td>1.619700e+13</td>\n",
       "      <td>2012.0</td>\n",
       "      <td>13.41</td>\n",
       "    </tr>\n",
       "    <tr>\n",
       "      <th>3</th>\n",
       "      <td>USA</td>\n",
       "      <td>2012</td>\n",
       "      <td>1.619700e+13</td>\n",
       "      <td>2012.0</td>\n",
       "      <td>13.41</td>\n",
       "    </tr>\n",
       "    <tr>\n",
       "      <th>4</th>\n",
       "      <td>USA</td>\n",
       "      <td>2013</td>\n",
       "      <td>1.678480e+13</td>\n",
       "      <td>2013.0</td>\n",
       "      <td>29.60</td>\n",
       "    </tr>\n",
       "    <tr>\n",
       "      <th>5</th>\n",
       "      <td>USA</td>\n",
       "      <td>2014</td>\n",
       "      <td>1.752170e+13</td>\n",
       "      <td>2014.0</td>\n",
       "      <td>11.39</td>\n",
       "    </tr>\n",
       "    <tr>\n",
       "      <th>6</th>\n",
       "      <td>USA</td>\n",
       "      <td>2015</td>\n",
       "      <td>1.821930e+13</td>\n",
       "      <td>2015.0</td>\n",
       "      <td>-0.73</td>\n",
       "    </tr>\n",
       "    <tr>\n",
       "      <th>7</th>\n",
       "      <td>USA</td>\n",
       "      <td>2016</td>\n",
       "      <td>1.870720e+13</td>\n",
       "      <td>2016.0</td>\n",
       "      <td>9.54</td>\n",
       "    </tr>\n",
       "    <tr>\n",
       "      <th>8</th>\n",
       "      <td>USA</td>\n",
       "      <td>2017</td>\n",
       "      <td>1.948540e+13</td>\n",
       "      <td>2017.0</td>\n",
       "      <td>19.42</td>\n",
       "    </tr>\n",
       "    <tr>\n",
       "      <th>9</th>\n",
       "      <td>USA</td>\n",
       "      <td>2018</td>\n",
       "      <td>2.049410e+13</td>\n",
       "      <td>NaN</td>\n",
       "      <td>NaN</td>\n",
       "    </tr>\n",
       "  </tbody>\n",
       "</table>\n",
       "</div>"
      ],
      "text/plain": [
       "  country code  year           gdp    Date  Returns\n",
       "0          USA  2010  1.499210e+13  2010.0    12.78\n",
       "1          USA  2011  1.554260e+13  2011.0     0.00\n",
       "2          USA  2012  1.619700e+13  2012.0    13.41\n",
       "3          USA  2012  1.619700e+13  2012.0    13.41\n",
       "4          USA  2013  1.678480e+13  2013.0    29.60\n",
       "5          USA  2014  1.752170e+13  2014.0    11.39\n",
       "6          USA  2015  1.821930e+13  2015.0    -0.73\n",
       "7          USA  2016  1.870720e+13  2016.0     9.54\n",
       "8          USA  2017  1.948540e+13  2017.0    19.42\n",
       "9          USA  2018  2.049410e+13     NaN      NaN"
      ]
     },
     "execution_count": 25,
     "metadata": {},
     "output_type": "execute_result"
    }
   ],
   "source": [
    "# Use merge_ordered() to merge gdp and sp500 on year and Date\n",
    "gdp_sp500 = pd.merge_ordered(US_gdp, sp500, left_on='year'\n",
    "                             , right_on='Date', how='left')\n",
    "\n",
    "# Print gdp_sp500\n",
    "gdp_sp500"
   ]
  },
  {
   "cell_type": "markdown",
   "id": "75434b8a-5c83-4efd-8e07-9b02ca6a8073",
   "metadata": {},
   "source": [
    "**Instuction 2**\n",
    "\n",
    "- Use `merge_ordered()`, again similar to before, to merge `gdp` and `sp500` use the function's ability to interpolate missing data to forward fill the missing value for returns, assigning this table to the variable `gdp_sp500`."
   ]
  },
  {
   "cell_type": "code",
   "execution_count": 26,
   "id": "c4c8581a-af54-4224-988f-a6fbd57dcbe9",
   "metadata": {},
   "outputs": [
    {
     "data": {
      "text/html": [
       "<div>\n",
       "<style scoped>\n",
       "    .dataframe tbody tr th:only-of-type {\n",
       "        vertical-align: middle;\n",
       "    }\n",
       "\n",
       "    .dataframe tbody tr th {\n",
       "        vertical-align: top;\n",
       "    }\n",
       "\n",
       "    .dataframe thead th {\n",
       "        text-align: right;\n",
       "    }\n",
       "</style>\n",
       "<table border=\"1\" class=\"dataframe\">\n",
       "  <thead>\n",
       "    <tr style=\"text-align: right;\">\n",
       "      <th></th>\n",
       "      <th>country code</th>\n",
       "      <th>year</th>\n",
       "      <th>gdp</th>\n",
       "      <th>Date</th>\n",
       "      <th>Returns</th>\n",
       "    </tr>\n",
       "  </thead>\n",
       "  <tbody>\n",
       "    <tr>\n",
       "      <th>0</th>\n",
       "      <td>USA</td>\n",
       "      <td>2010</td>\n",
       "      <td>1.499210e+13</td>\n",
       "      <td>2010</td>\n",
       "      <td>12.78</td>\n",
       "    </tr>\n",
       "    <tr>\n",
       "      <th>1</th>\n",
       "      <td>USA</td>\n",
       "      <td>2011</td>\n",
       "      <td>1.554260e+13</td>\n",
       "      <td>2011</td>\n",
       "      <td>0.00</td>\n",
       "    </tr>\n",
       "    <tr>\n",
       "      <th>2</th>\n",
       "      <td>USA</td>\n",
       "      <td>2012</td>\n",
       "      <td>1.619700e+13</td>\n",
       "      <td>2012</td>\n",
       "      <td>13.41</td>\n",
       "    </tr>\n",
       "    <tr>\n",
       "      <th>3</th>\n",
       "      <td>USA</td>\n",
       "      <td>2012</td>\n",
       "      <td>1.619700e+13</td>\n",
       "      <td>2012</td>\n",
       "      <td>13.41</td>\n",
       "    </tr>\n",
       "    <tr>\n",
       "      <th>4</th>\n",
       "      <td>USA</td>\n",
       "      <td>2013</td>\n",
       "      <td>1.678480e+13</td>\n",
       "      <td>2013</td>\n",
       "      <td>29.60</td>\n",
       "    </tr>\n",
       "    <tr>\n",
       "      <th>5</th>\n",
       "      <td>USA</td>\n",
       "      <td>2014</td>\n",
       "      <td>1.752170e+13</td>\n",
       "      <td>2014</td>\n",
       "      <td>11.39</td>\n",
       "    </tr>\n",
       "    <tr>\n",
       "      <th>6</th>\n",
       "      <td>USA</td>\n",
       "      <td>2015</td>\n",
       "      <td>1.821930e+13</td>\n",
       "      <td>2015</td>\n",
       "      <td>-0.73</td>\n",
       "    </tr>\n",
       "    <tr>\n",
       "      <th>7</th>\n",
       "      <td>USA</td>\n",
       "      <td>2016</td>\n",
       "      <td>1.870720e+13</td>\n",
       "      <td>2016</td>\n",
       "      <td>9.54</td>\n",
       "    </tr>\n",
       "    <tr>\n",
       "      <th>8</th>\n",
       "      <td>USA</td>\n",
       "      <td>2017</td>\n",
       "      <td>1.948540e+13</td>\n",
       "      <td>2017</td>\n",
       "      <td>19.42</td>\n",
       "    </tr>\n",
       "    <tr>\n",
       "      <th>9</th>\n",
       "      <td>USA</td>\n",
       "      <td>2018</td>\n",
       "      <td>2.049410e+13</td>\n",
       "      <td>2017</td>\n",
       "      <td>19.42</td>\n",
       "    </tr>\n",
       "  </tbody>\n",
       "</table>\n",
       "</div>"
      ],
      "text/plain": [
       "  country code  year           gdp  Date  Returns\n",
       "0          USA  2010  1.499210e+13  2010    12.78\n",
       "1          USA  2011  1.554260e+13  2011     0.00\n",
       "2          USA  2012  1.619700e+13  2012    13.41\n",
       "3          USA  2012  1.619700e+13  2012    13.41\n",
       "4          USA  2013  1.678480e+13  2013    29.60\n",
       "5          USA  2014  1.752170e+13  2014    11.39\n",
       "6          USA  2015  1.821930e+13  2015    -0.73\n",
       "7          USA  2016  1.870720e+13  2016     9.54\n",
       "8          USA  2017  1.948540e+13  2017    19.42\n",
       "9          USA  2018  2.049410e+13  2017    19.42"
      ]
     },
     "execution_count": 26,
     "metadata": {},
     "output_type": "execute_result"
    }
   ],
   "source": [
    "# Use merge_ordered() to merge gdp and sp500, interpolate missing value\n",
    "gdp_sp500 = pd.merge_ordered(US_gdp, sp500, left_on='year', right_on='Date'\n",
    "                             , how='left', fill_method='ffill')\n",
    "\n",
    "# Print gdp_sp500\n",
    "gdp_sp500"
   ]
  },
  {
   "cell_type": "markdown",
   "id": "f5531b50-fdbd-4c4c-8e88-edbe634ee26e",
   "metadata": {},
   "source": [
    "**Instruction 3**\n",
    "- Subset the `gdp_sp500` table, select the `gdp` and `returns` columns, and save as `gdp_returns`.\n",
    "- Print the correlation matrix of the `gdp_returns` table."
   ]
  },
  {
   "cell_type": "code",
   "execution_count": 27,
   "id": "2bc4bc2a-7f85-4479-9474-23d0c8f4c34a",
   "metadata": {},
   "outputs": [
    {
     "data": {
      "text/html": [
       "<div>\n",
       "<style scoped>\n",
       "    .dataframe tbody tr th:only-of-type {\n",
       "        vertical-align: middle;\n",
       "    }\n",
       "\n",
       "    .dataframe tbody tr th {\n",
       "        vertical-align: top;\n",
       "    }\n",
       "\n",
       "    .dataframe thead th {\n",
       "        text-align: right;\n",
       "    }\n",
       "</style>\n",
       "<table border=\"1\" class=\"dataframe\">\n",
       "  <thead>\n",
       "    <tr style=\"text-align: right;\">\n",
       "      <th></th>\n",
       "      <th>gdp</th>\n",
       "      <th>Returns</th>\n",
       "    </tr>\n",
       "  </thead>\n",
       "  <tbody>\n",
       "    <tr>\n",
       "      <th>gdp</th>\n",
       "      <td>1.000000</td>\n",
       "      <td>0.212173</td>\n",
       "    </tr>\n",
       "    <tr>\n",
       "      <th>Returns</th>\n",
       "      <td>0.212173</td>\n",
       "      <td>1.000000</td>\n",
       "    </tr>\n",
       "  </tbody>\n",
       "</table>\n",
       "</div>"
      ],
      "text/plain": [
       "              gdp   Returns\n",
       "gdp      1.000000  0.212173\n",
       "Returns  0.212173  1.000000"
      ]
     },
     "execution_count": 27,
     "metadata": {},
     "output_type": "execute_result"
    }
   ],
   "source": [
    "# Subset the gdp and returns columns\n",
    "gdp_returns = gdp_sp500[['gdp', 'Returns']]\n",
    "\n",
    "# Print gdp_returns correlation\n",
    "gdp_returns.corr()"
   ]
  },
  {
   "cell_type": "markdown",
   "id": "9842efd9-63d4-4e97-87e8-d2a399d1f640",
   "metadata": {},
   "source": [
    "*The correlation of 0.21 between the GDP and S&P500 is low to moderate at best.*"
   ]
  },
  {
   "cell_type": "markdown",
   "id": "e25ecb24-e868-4a07-97c4-a76928567451",
   "metadata": {},
   "source": [
    "## Phillips curve using `merge_ordered()`\n",
    "There is an economic theory developed by *A. W. Phillips* which states that inflation and unemployment have an inverse relationship. The theory claims that with economic growth comes inflation, which in turn should lead to more jobs and less unemployment.\n",
    "\n",
    "You will take two tables of data from the U.S. Bureau of Labor Statistics, containing unemployment and inflation data over different periods, and create a Phillips curve. The tables have different frequencies. One table has a data entry every six months, while the other has a data entry every month. You will need to use the entries where you have data within both tables."
   ]
  },
  {
   "cell_type": "code",
   "execution_count": 19,
   "id": "242524ef-27ea-4586-9df6-b49da4dba379",
   "metadata": {},
   "outputs": [],
   "source": [
    "unemployment = pd.read_pickle('unemployment.p')\n",
    "inflation = pd.read_pickle('inflation.p')"
   ]
  },
  {
   "cell_type": "code",
   "execution_count": 20,
   "id": "0eb9070d-d45b-4596-a079-575f927f16f5",
   "metadata": {},
   "outputs": [
    {
     "data": {
      "text/html": [
       "<div>\n",
       "<style scoped>\n",
       "    .dataframe tbody tr th:only-of-type {\n",
       "        vertical-align: middle;\n",
       "    }\n",
       "\n",
       "    .dataframe tbody tr th {\n",
       "        vertical-align: top;\n",
       "    }\n",
       "\n",
       "    .dataframe thead th {\n",
       "        text-align: right;\n",
       "    }\n",
       "</style>\n",
       "<table border=\"1\" class=\"dataframe\">\n",
       "  <thead>\n",
       "    <tr style=\"text-align: right;\">\n",
       "      <th></th>\n",
       "      <th>date</th>\n",
       "      <th>unemployment_rate</th>\n",
       "    </tr>\n",
       "  </thead>\n",
       "  <tbody>\n",
       "    <tr>\n",
       "      <th>0</th>\n",
       "      <td>2013-06-01</td>\n",
       "      <td>7.5</td>\n",
       "    </tr>\n",
       "  </tbody>\n",
       "</table>\n",
       "</div>"
      ],
      "text/plain": [
       "         date  unemployment_rate\n",
       "0  2013-06-01                7.5"
      ]
     },
     "execution_count": 20,
     "metadata": {},
     "output_type": "execute_result"
    }
   ],
   "source": [
    "unemployment.head(1)"
   ]
  },
  {
   "cell_type": "code",
   "execution_count": 21,
   "id": "d11a3f25-05a2-4c0e-9f39-9a253a6164af",
   "metadata": {},
   "outputs": [
    {
     "data": {
      "text/html": [
       "<div>\n",
       "<style scoped>\n",
       "    .dataframe tbody tr th:only-of-type {\n",
       "        vertical-align: middle;\n",
       "    }\n",
       "\n",
       "    .dataframe tbody tr th {\n",
       "        vertical-align: top;\n",
       "    }\n",
       "\n",
       "    .dataframe thead th {\n",
       "        text-align: right;\n",
       "    }\n",
       "</style>\n",
       "<table border=\"1\" class=\"dataframe\">\n",
       "  <thead>\n",
       "    <tr style=\"text-align: right;\">\n",
       "      <th></th>\n",
       "      <th>date</th>\n",
       "      <th>cpi</th>\n",
       "      <th>seriesid</th>\n",
       "      <th>data_type</th>\n",
       "    </tr>\n",
       "  </thead>\n",
       "  <tbody>\n",
       "    <tr>\n",
       "      <th>0</th>\n",
       "      <td>2014-01-01</td>\n",
       "      <td>235.288</td>\n",
       "      <td>CUSR0000SA0</td>\n",
       "      <td>SEASONALLY ADJUSTED INDEX</td>\n",
       "    </tr>\n",
       "  </tbody>\n",
       "</table>\n",
       "</div>"
      ],
      "text/plain": [
       "         date      cpi     seriesid                  data_type\n",
       "0  2014-01-01  235.288  CUSR0000SA0  SEASONALLY ADJUSTED INDEX"
      ]
     },
     "execution_count": 21,
     "metadata": {},
     "output_type": "execute_result"
    }
   ],
   "source": [
    "inflation.head(1)"
   ]
  },
  {
   "cell_type": "markdown",
   "id": "a38bd91b-5bb8-4233-be67-e4c9c7fdca50",
   "metadata": {},
   "source": [
    "- Use `merge_ordered()` to merge the `inflation` and `unemployment` tables on `date` with an inner join, and save the results as `inflation_unemploy`.\n",
    "- Print the `inflation_unemploy` variable."
   ]
  },
  {
   "cell_type": "code",
   "execution_count": 22,
   "id": "de1ce6d1-a65f-419b-a6df-5798f6da39c3",
   "metadata": {},
   "outputs": [
    {
     "data": {
      "text/html": [
       "<div>\n",
       "<style scoped>\n",
       "    .dataframe tbody tr th:only-of-type {\n",
       "        vertical-align: middle;\n",
       "    }\n",
       "\n",
       "    .dataframe tbody tr th {\n",
       "        vertical-align: top;\n",
       "    }\n",
       "\n",
       "    .dataframe thead th {\n",
       "        text-align: right;\n",
       "    }\n",
       "</style>\n",
       "<table border=\"1\" class=\"dataframe\">\n",
       "  <thead>\n",
       "    <tr style=\"text-align: right;\">\n",
       "      <th></th>\n",
       "      <th>date</th>\n",
       "      <th>cpi</th>\n",
       "      <th>seriesid</th>\n",
       "      <th>data_type</th>\n",
       "      <th>unemployment_rate</th>\n",
       "    </tr>\n",
       "  </thead>\n",
       "  <tbody>\n",
       "    <tr>\n",
       "      <th>0</th>\n",
       "      <td>2014-01-01</td>\n",
       "      <td>235.288</td>\n",
       "      <td>CUSR0000SA0</td>\n",
       "      <td>SEASONALLY ADJUSTED INDEX</td>\n",
       "      <td>6.7</td>\n",
       "    </tr>\n",
       "    <tr>\n",
       "      <th>1</th>\n",
       "      <td>2014-06-01</td>\n",
       "      <td>237.231</td>\n",
       "      <td>CUSR0000SA0</td>\n",
       "      <td>SEASONALLY ADJUSTED INDEX</td>\n",
       "      <td>6.1</td>\n",
       "    </tr>\n",
       "    <tr>\n",
       "      <th>2</th>\n",
       "      <td>2015-01-01</td>\n",
       "      <td>234.718</td>\n",
       "      <td>CUSR0000SA0</td>\n",
       "      <td>SEASONALLY ADJUSTED INDEX</td>\n",
       "      <td>5.6</td>\n",
       "    </tr>\n",
       "    <tr>\n",
       "      <th>3</th>\n",
       "      <td>2015-06-01</td>\n",
       "      <td>237.684</td>\n",
       "      <td>CUSR0000SA0</td>\n",
       "      <td>SEASONALLY ADJUSTED INDEX</td>\n",
       "      <td>5.3</td>\n",
       "    </tr>\n",
       "    <tr>\n",
       "      <th>4</th>\n",
       "      <td>2016-01-01</td>\n",
       "      <td>237.833</td>\n",
       "      <td>CUSR0000SA0</td>\n",
       "      <td>SEASONALLY ADJUSTED INDEX</td>\n",
       "      <td>5.0</td>\n",
       "    </tr>\n",
       "    <tr>\n",
       "      <th>5</th>\n",
       "      <td>2016-06-01</td>\n",
       "      <td>240.167</td>\n",
       "      <td>CUSR0000SA0</td>\n",
       "      <td>SEASONALLY ADJUSTED INDEX</td>\n",
       "      <td>4.9</td>\n",
       "    </tr>\n",
       "    <tr>\n",
       "      <th>6</th>\n",
       "      <td>2017-01-01</td>\n",
       "      <td>243.780</td>\n",
       "      <td>CUSR0000SA0</td>\n",
       "      <td>SEASONALLY ADJUSTED INDEX</td>\n",
       "      <td>4.7</td>\n",
       "    </tr>\n",
       "    <tr>\n",
       "      <th>7</th>\n",
       "      <td>2017-06-01</td>\n",
       "      <td>244.182</td>\n",
       "      <td>CUSR0000SA0</td>\n",
       "      <td>SEASONALLY ADJUSTED INDEX</td>\n",
       "      <td>4.3</td>\n",
       "    </tr>\n",
       "    <tr>\n",
       "      <th>8</th>\n",
       "      <td>2018-01-01</td>\n",
       "      <td>248.884</td>\n",
       "      <td>CUSR0000SA0</td>\n",
       "      <td>SEASONALLY ADJUSTED INDEX</td>\n",
       "      <td>4.1</td>\n",
       "    </tr>\n",
       "    <tr>\n",
       "      <th>9</th>\n",
       "      <td>2018-06-01</td>\n",
       "      <td>251.134</td>\n",
       "      <td>CUSR0000SA0</td>\n",
       "      <td>SEASONALLY ADJUSTED INDEX</td>\n",
       "      <td>4.0</td>\n",
       "    </tr>\n",
       "  </tbody>\n",
       "</table>\n",
       "</div>"
      ],
      "text/plain": [
       "         date      cpi     seriesid                  data_type  \\\n",
       "0  2014-01-01  235.288  CUSR0000SA0  SEASONALLY ADJUSTED INDEX   \n",
       "1  2014-06-01  237.231  CUSR0000SA0  SEASONALLY ADJUSTED INDEX   \n",
       "2  2015-01-01  234.718  CUSR0000SA0  SEASONALLY ADJUSTED INDEX   \n",
       "3  2015-06-01  237.684  CUSR0000SA0  SEASONALLY ADJUSTED INDEX   \n",
       "4  2016-01-01  237.833  CUSR0000SA0  SEASONALLY ADJUSTED INDEX   \n",
       "5  2016-06-01  240.167  CUSR0000SA0  SEASONALLY ADJUSTED INDEX   \n",
       "6  2017-01-01  243.780  CUSR0000SA0  SEASONALLY ADJUSTED INDEX   \n",
       "7  2017-06-01  244.182  CUSR0000SA0  SEASONALLY ADJUSTED INDEX   \n",
       "8  2018-01-01  248.884  CUSR0000SA0  SEASONALLY ADJUSTED INDEX   \n",
       "9  2018-06-01  251.134  CUSR0000SA0  SEASONALLY ADJUSTED INDEX   \n",
       "\n",
       "   unemployment_rate  \n",
       "0                6.7  \n",
       "1                6.1  \n",
       "2                5.6  \n",
       "3                5.3  \n",
       "4                5.0  \n",
       "5                4.9  \n",
       "6                4.7  \n",
       "7                4.3  \n",
       "8                4.1  \n",
       "9                4.0  "
      ]
     },
     "execution_count": 22,
     "metadata": {},
     "output_type": "execute_result"
    }
   ],
   "source": [
    "# Use merge_ordered() to merge inflation, unemployment with inner join\n",
    "inflation_unemploy = pd.merge_ordered(inflation, unemployment, on='date'\n",
    "                                      , how='inner', fill_method='ffill')\n",
    "\n",
    "# Print inflation_unemploy \n",
    "inflation_unemploy"
   ]
  },
  {
   "cell_type": "markdown",
   "id": "ce2f740d-4c56-4c29-b53c-85eb87530b3d",
   "metadata": {},
   "source": [
    "- Using `inflation_unemploy`, create a *scatter plot* with `unemployment_rate` on the horizontal axis and `cpi` (inflation) on the vertical axis."
   ]
  },
  {
   "cell_type": "code",
   "execution_count": 23,
   "id": "8fe4dab8-eb66-4e7d-9d98-eb751abbf51f",
   "metadata": {},
   "outputs": [
    {
     "data": {
      "image/png": "[encoded data removed]",
      "text/plain": [
       "<Figure size 432x288 with 1 Axes>"
      ]
     },
     "metadata": {
      "needs_background": "light"
     },
     "output_type": "display_data"
    }
   ],
   "source": [
    "# Plot a scatter plot of unemployment_rate vs cpi of inflation_unemploy\n",
    "inflation_unemploy.plot('unemployment_rate', 'cpi', kind='scatter')\n",
    "plt.show()"
   ]
  },
  {
   "cell_type": "markdown",
   "id": "67280331-55c8-4d47-b5d0-576fc0973ba3",
   "metadata": {},
   "source": [
    "## `merge_ordered()` caution, multiple columns\n",
    "When using `merge_ordered()` to merge on multiple columns, the order is important when you combine it with the forward fill feature. The function sorts the merge on columns in the order provided. In this exercise, we will merge GDP and population data from the World Bank for the Australia and Sweden, reversing the order of the merge on columns. The frequency of the series are different, the GDP values are quarterly, and the population is yearly. Use the forward fill feature to fill in the missing data. Depending on the order provided, the fill forward will use unintended data to fill in the missing values."
   ]
  },
  {
   "cell_type": "code",
   "execution_count": 31,
   "id": "fa673e60-da4d-4cc5-8e14-f0ec3c978a4f",
   "metadata": {},
   "outputs": [],
   "source": [
    "gdp = pd.read_pickle('gdp.p')\n",
    "pop = pd.read_pickle('population.p')"
   ]
  },
  {
   "cell_type": "code",
   "execution_count": 32,
   "id": "42b2952e-39a1-4be6-9de6-49b3656df965",
   "metadata": {},
   "outputs": [
    {
     "data": {
      "text/html": [
       "<div>\n",
       "<style scoped>\n",
       "    .dataframe tbody tr th:only-of-type {\n",
       "        vertical-align: middle;\n",
       "    }\n",
       "\n",
       "    .dataframe tbody tr th {\n",
       "        vertical-align: top;\n",
       "    }\n",
       "\n",
       "    .dataframe thead th {\n",
       "        text-align: right;\n",
       "    }\n",
       "</style>\n",
       "<table border=\"1\" class=\"dataframe\">\n",
       "  <thead>\n",
       "    <tr style=\"text-align: right;\">\n",
       "      <th></th>\n",
       "      <th>date</th>\n",
       "      <th>country</th>\n",
       "      <th>gdp</th>\n",
       "      <th>series_code</th>\n",
       "    </tr>\n",
       "  </thead>\n",
       "  <tbody>\n",
       "    <tr>\n",
       "      <th>0</th>\n",
       "      <td>1990-01-01</td>\n",
       "      <td>Australia</td>\n",
       "      <td>158051.1324</td>\n",
       "      <td>NYGDPMKTPSAKD</td>\n",
       "    </tr>\n",
       "  </tbody>\n",
       "</table>\n",
       "</div>"
      ],
      "text/plain": [
       "        date    country          gdp    series_code\n",
       "0 1990-01-01  Australia  158051.1324  NYGDPMKTPSAKD"
      ]
     },
     "execution_count": 32,
     "metadata": {},
     "output_type": "execute_result"
    }
   ],
   "source": [
    "gdp.head(1)"
   ]
  },
  {
   "cell_type": "code",
   "execution_count": 33,
   "id": "4d9f7ca9-cf0d-4edc-a009-32e2f71753a6",
   "metadata": {},
   "outputs": [
    {
     "data": {
      "text/html": [
       "<div>\n",
       "<style scoped>\n",
       "    .dataframe tbody tr th:only-of-type {\n",
       "        vertical-align: middle;\n",
       "    }\n",
       "\n",
       "    .dataframe tbody tr th {\n",
       "        vertical-align: top;\n",
       "    }\n",
       "\n",
       "    .dataframe thead th {\n",
       "        text-align: right;\n",
       "    }\n",
       "</style>\n",
       "<table border=\"1\" class=\"dataframe\">\n",
       "  <thead>\n",
       "    <tr style=\"text-align: right;\">\n",
       "      <th></th>\n",
       "      <th>date</th>\n",
       "      <th>country</th>\n",
       "      <th>pop</th>\n",
       "      <th>series_code</th>\n",
       "    </tr>\n",
       "  </thead>\n",
       "  <tbody>\n",
       "    <tr>\n",
       "      <th>0</th>\n",
       "      <td>1990-01-01</td>\n",
       "      <td>Australia</td>\n",
       "      <td>17065100</td>\n",
       "      <td>SP.POP.TOTL</td>\n",
       "    </tr>\n",
       "  </tbody>\n",
       "</table>\n",
       "</div>"
      ],
      "text/plain": [
       "        date    country       pop  series_code\n",
       "0 1990-01-01  Australia  17065100  SP.POP.TOTL"
      ]
     },
     "execution_count": 33,
     "metadata": {},
     "output_type": "execute_result"
    }
   ],
   "source": [
    "pop.head(1)"
   ]
  },
  {
   "cell_type": "markdown",
   "id": "31b7d4fb-bf9b-485c-bcae-e556fb4364f0",
   "metadata": {},
   "source": [
    "**Instruction 1**\n",
    "- Use `merge_ordered()` on `gdp` and `pop`, merging on columns `date` and `country` with the fill feature, save to `ctry_date`."
   ]
  },
  {
   "cell_type": "code",
   "execution_count": 38,
   "id": "059effba-99f0-4059-ac85-628918184617",
   "metadata": {},
   "outputs": [
    {
     "data": {
      "text/html": [
       "<div>\n",
       "<style scoped>\n",
       "    .dataframe tbody tr th:only-of-type {\n",
       "        vertical-align: middle;\n",
       "    }\n",
       "\n",
       "    .dataframe tbody tr th {\n",
       "        vertical-align: top;\n",
       "    }\n",
       "\n",
       "    .dataframe thead th {\n",
       "        text-align: right;\n",
       "    }\n",
       "</style>\n",
       "<table border=\"1\" class=\"dataframe\">\n",
       "  <thead>\n",
       "    <tr style=\"text-align: right;\">\n",
       "      <th></th>\n",
       "      <th>date</th>\n",
       "      <th>country</th>\n",
       "      <th>gdp</th>\n",
       "      <th>series_code_x</th>\n",
       "      <th>pop</th>\n",
       "      <th>series_code_y</th>\n",
       "    </tr>\n",
       "  </thead>\n",
       "  <tbody>\n",
       "    <tr>\n",
       "      <th>0</th>\n",
       "      <td>1990-01-01</td>\n",
       "      <td>Australia</td>\n",
       "      <td>158051.13240</td>\n",
       "      <td>NYGDPMKTPSAKD</td>\n",
       "      <td>17065100</td>\n",
       "      <td>SP.POP.TOTL</td>\n",
       "    </tr>\n",
       "    <tr>\n",
       "      <th>1</th>\n",
       "      <td>1990-01-01</td>\n",
       "      <td>Sweden</td>\n",
       "      <td>79837.84599</td>\n",
       "      <td>NYGDPMKTPSAKD</td>\n",
       "      <td>8558835</td>\n",
       "      <td>SP.POP.TOTL</td>\n",
       "    </tr>\n",
       "    <tr>\n",
       "      <th>2</th>\n",
       "      <td>1990-04-01</td>\n",
       "      <td>Australia</td>\n",
       "      <td>158263.58160</td>\n",
       "      <td>NYGDPMKTPSAKD</td>\n",
       "      <td>8558835</td>\n",
       "      <td>SP.POP.TOTL</td>\n",
       "    </tr>\n",
       "    <tr>\n",
       "      <th>3</th>\n",
       "      <td>1990-04-01</td>\n",
       "      <td>Sweden</td>\n",
       "      <td>80582.28597</td>\n",
       "      <td>NYGDPMKTPSAKD</td>\n",
       "      <td>8558835</td>\n",
       "      <td>SP.POP.TOTL</td>\n",
       "    </tr>\n",
       "    <tr>\n",
       "      <th>4</th>\n",
       "      <td>1990-07-01</td>\n",
       "      <td>Australia</td>\n",
       "      <td>157329.27900</td>\n",
       "      <td>NYGDPMKTPSAKD</td>\n",
       "      <td>8558835</td>\n",
       "      <td>SP.POP.TOTL</td>\n",
       "    </tr>\n",
       "    <tr>\n",
       "      <th>5</th>\n",
       "      <td>1990-07-01</td>\n",
       "      <td>Sweden</td>\n",
       "      <td>79974.36017</td>\n",
       "      <td>NYGDPMKTPSAKD</td>\n",
       "      <td>8558835</td>\n",
       "      <td>SP.POP.TOTL</td>\n",
       "    </tr>\n",
       "    <tr>\n",
       "      <th>6</th>\n",
       "      <td>1990-09-01</td>\n",
       "      <td>Australia</td>\n",
       "      <td>158240.67810</td>\n",
       "      <td>NYGDPMKTPSAKD</td>\n",
       "      <td>8558835</td>\n",
       "      <td>SP.POP.TOTL</td>\n",
       "    </tr>\n",
       "    <tr>\n",
       "      <th>7</th>\n",
       "      <td>1990-09-01</td>\n",
       "      <td>Sweden</td>\n",
       "      <td>80106.49738</td>\n",
       "      <td>NYGDPMKTPSAKD</td>\n",
       "      <td>8558835</td>\n",
       "      <td>SP.POP.TOTL</td>\n",
       "    </tr>\n",
       "    <tr>\n",
       "      <th>8</th>\n",
       "      <td>1991-01-01</td>\n",
       "      <td>Australia</td>\n",
       "      <td>156195.95350</td>\n",
       "      <td>NYGDPMKTPSAKD</td>\n",
       "      <td>17284000</td>\n",
       "      <td>SP.POP.TOTL</td>\n",
       "    </tr>\n",
       "    <tr>\n",
       "      <th>9</th>\n",
       "      <td>1991-01-01</td>\n",
       "      <td>Sweden</td>\n",
       "      <td>79524.24192</td>\n",
       "      <td>NYGDPMKTPSAKD</td>\n",
       "      <td>8617375</td>\n",
       "      <td>SP.POP.TOTL</td>\n",
       "    </tr>\n",
       "    <tr>\n",
       "      <th>10</th>\n",
       "      <td>1991-04-01</td>\n",
       "      <td>Australia</td>\n",
       "      <td>155989.03270</td>\n",
       "      <td>NYGDPMKTPSAKD</td>\n",
       "      <td>8617375</td>\n",
       "      <td>SP.POP.TOTL</td>\n",
       "    </tr>\n",
       "    <tr>\n",
       "      <th>11</th>\n",
       "      <td>1991-04-01</td>\n",
       "      <td>Sweden</td>\n",
       "      <td>79073.05901</td>\n",
       "      <td>NYGDPMKTPSAKD</td>\n",
       "      <td>8617375</td>\n",
       "      <td>SP.POP.TOTL</td>\n",
       "    </tr>\n",
       "    <tr>\n",
       "      <th>12</th>\n",
       "      <td>1991-07-01</td>\n",
       "      <td>Australia</td>\n",
       "      <td>156635.85760</td>\n",
       "      <td>NYGDPMKTPSAKD</td>\n",
       "      <td>8617375</td>\n",
       "      <td>SP.POP.TOTL</td>\n",
       "    </tr>\n",
       "    <tr>\n",
       "      <th>13</th>\n",
       "      <td>1991-07-01</td>\n",
       "      <td>Sweden</td>\n",
       "      <td>79084.77036</td>\n",
       "      <td>NYGDPMKTPSAKD</td>\n",
       "      <td>8617375</td>\n",
       "      <td>SP.POP.TOTL</td>\n",
       "    </tr>\n",
       "    <tr>\n",
       "      <th>14</th>\n",
       "      <td>1991-09-01</td>\n",
       "      <td>Australia</td>\n",
       "      <td>156744.05660</td>\n",
       "      <td>NYGDPMKTPSAKD</td>\n",
       "      <td>8617375</td>\n",
       "      <td>SP.POP.TOTL</td>\n",
       "    </tr>\n",
       "    <tr>\n",
       "      <th>15</th>\n",
       "      <td>1991-09-01</td>\n",
       "      <td>Sweden</td>\n",
       "      <td>79740.60625</td>\n",
       "      <td>NYGDPMKTPSAKD</td>\n",
       "      <td>8617375</td>\n",
       "      <td>SP.POP.TOTL</td>\n",
       "    </tr>\n",
       "    <tr>\n",
       "      <th>16</th>\n",
       "      <td>1992-01-01</td>\n",
       "      <td>Australia</td>\n",
       "      <td>157916.08110</td>\n",
       "      <td>NYGDPMKTPSAKD</td>\n",
       "      <td>17495000</td>\n",
       "      <td>SP.POP.TOTL</td>\n",
       "    </tr>\n",
       "    <tr>\n",
       "      <th>17</th>\n",
       "      <td>1992-01-01</td>\n",
       "      <td>Sweden</td>\n",
       "      <td>79390.92175</td>\n",
       "      <td>NYGDPMKTPSAKD</td>\n",
       "      <td>8668067</td>\n",
       "      <td>SP.POP.TOTL</td>\n",
       "    </tr>\n",
       "    <tr>\n",
       "      <th>18</th>\n",
       "      <td>1992-04-01</td>\n",
       "      <td>Australia</td>\n",
       "      <td>159047.82710</td>\n",
       "      <td>NYGDPMKTPSAKD</td>\n",
       "      <td>8668067</td>\n",
       "      <td>SP.POP.TOTL</td>\n",
       "    </tr>\n",
       "    <tr>\n",
       "      <th>19</th>\n",
       "      <td>1992-04-01</td>\n",
       "      <td>Sweden</td>\n",
       "      <td>79060.28298</td>\n",
       "      <td>NYGDPMKTPSAKD</td>\n",
       "      <td>8668067</td>\n",
       "      <td>SP.POP.TOTL</td>\n",
       "    </tr>\n",
       "    <tr>\n",
       "      <th>20</th>\n",
       "      <td>1992-07-01</td>\n",
       "      <td>Australia</td>\n",
       "      <td>160658.17600</td>\n",
       "      <td>NYGDPMKTPSAKD</td>\n",
       "      <td>8668067</td>\n",
       "      <td>SP.POP.TOTL</td>\n",
       "    </tr>\n",
       "    <tr>\n",
       "      <th>21</th>\n",
       "      <td>1992-07-01</td>\n",
       "      <td>Sweden</td>\n",
       "      <td>78904.60477</td>\n",
       "      <td>NYGDPMKTPSAKD</td>\n",
       "      <td>8668067</td>\n",
       "      <td>SP.POP.TOTL</td>\n",
       "    </tr>\n",
       "    <tr>\n",
       "      <th>22</th>\n",
       "      <td>1992-09-01</td>\n",
       "      <td>Australia</td>\n",
       "      <td>163960.22070</td>\n",
       "      <td>NYGDPMKTPSAKD</td>\n",
       "      <td>8668067</td>\n",
       "      <td>SP.POP.TOTL</td>\n",
       "    </tr>\n",
       "    <tr>\n",
       "      <th>23</th>\n",
       "      <td>1992-09-01</td>\n",
       "      <td>Sweden</td>\n",
       "      <td>76996.83684</td>\n",
       "      <td>NYGDPMKTPSAKD</td>\n",
       "      <td>8668067</td>\n",
       "      <td>SP.POP.TOTL</td>\n",
       "    </tr>\n",
       "    <tr>\n",
       "      <th>24</th>\n",
       "      <td>1993-01-01</td>\n",
       "      <td>Australia</td>\n",
       "      <td>165097.49510</td>\n",
       "      <td>NYGDPMKTPSAKD</td>\n",
       "      <td>17667000</td>\n",
       "      <td>SP.POP.TOTL</td>\n",
       "    </tr>\n",
       "    <tr>\n",
       "      <th>25</th>\n",
       "      <td>1993-01-01</td>\n",
       "      <td>Sweden</td>\n",
       "      <td>75783.58777</td>\n",
       "      <td>NYGDPMKTPSAKD</td>\n",
       "      <td>8718561</td>\n",
       "      <td>SP.POP.TOTL</td>\n",
       "    </tr>\n",
       "    <tr>\n",
       "      <th>26</th>\n",
       "      <td>1993-04-01</td>\n",
       "      <td>Australia</td>\n",
       "      <td>166027.05900</td>\n",
       "      <td>NYGDPMKTPSAKD</td>\n",
       "      <td>8718561</td>\n",
       "      <td>SP.POP.TOTL</td>\n",
       "    </tr>\n",
       "    <tr>\n",
       "      <th>27</th>\n",
       "      <td>1993-04-01</td>\n",
       "      <td>Sweden</td>\n",
       "      <td>76708.54823</td>\n",
       "      <td>NYGDPMKTPSAKD</td>\n",
       "      <td>8718561</td>\n",
       "      <td>SP.POP.TOTL</td>\n",
       "    </tr>\n",
       "    <tr>\n",
       "      <th>28</th>\n",
       "      <td>1993-07-01</td>\n",
       "      <td>Australia</td>\n",
       "      <td>166203.17860</td>\n",
       "      <td>NYGDPMKTPSAKD</td>\n",
       "      <td>8718561</td>\n",
       "      <td>SP.POP.TOTL</td>\n",
       "    </tr>\n",
       "    <tr>\n",
       "      <th>29</th>\n",
       "      <td>1993-07-01</td>\n",
       "      <td>Sweden</td>\n",
       "      <td>77662.01816</td>\n",
       "      <td>NYGDPMKTPSAKD</td>\n",
       "      <td>8718561</td>\n",
       "      <td>SP.POP.TOTL</td>\n",
       "    </tr>\n",
       "    <tr>\n",
       "      <th>30</th>\n",
       "      <td>1993-09-01</td>\n",
       "      <td>Australia</td>\n",
       "      <td>169279.34790</td>\n",
       "      <td>NYGDPMKTPSAKD</td>\n",
       "      <td>8718561</td>\n",
       "      <td>SP.POP.TOTL</td>\n",
       "    </tr>\n",
       "    <tr>\n",
       "      <th>31</th>\n",
       "      <td>1993-09-01</td>\n",
       "      <td>Sweden</td>\n",
       "      <td>77703.30364</td>\n",
       "      <td>NYGDPMKTPSAKD</td>\n",
       "      <td>8718561</td>\n",
       "      <td>SP.POP.TOTL</td>\n",
       "    </tr>\n",
       "  </tbody>\n",
       "</table>\n",
       "</div>"
      ],
      "text/plain": [
       "         date    country           gdp  series_code_x       pop series_code_y\n",
       "0  1990-01-01  Australia  158051.13240  NYGDPMKTPSAKD  17065100   SP.POP.TOTL\n",
       "1  1990-01-01     Sweden   79837.84599  NYGDPMKTPSAKD   8558835   SP.POP.TOTL\n",
       "2  1990-04-01  Australia  158263.58160  NYGDPMKTPSAKD   8558835   SP.POP.TOTL\n",
       "3  1990-04-01     Sweden   80582.28597  NYGDPMKTPSAKD   8558835   SP.POP.TOTL\n",
       "4  1990-07-01  Australia  157329.27900  NYGDPMKTPSAKD   8558835   SP.POP.TOTL\n",
       "5  1990-07-01     Sweden   79974.36017  NYGDPMKTPSAKD   8558835   SP.POP.TOTL\n",
       "6  1990-09-01  Australia  158240.67810  NYGDPMKTPSAKD   8558835   SP.POP.TOTL\n",
       "7  1990-09-01     Sweden   80106.49738  NYGDPMKTPSAKD   8558835   SP.POP.TOTL\n",
       "8  1991-01-01  Australia  156195.95350  NYGDPMKTPSAKD  17284000   SP.POP.TOTL\n",
       "9  1991-01-01     Sweden   79524.24192  NYGDPMKTPSAKD   8617375   SP.POP.TOTL\n",
       "10 1991-04-01  Australia  155989.03270  NYGDPMKTPSAKD   8617375   SP.POP.TOTL\n",
       "11 1991-04-01     Sweden   79073.05901  NYGDPMKTPSAKD   8617375   SP.POP.TOTL\n",
       "12 1991-07-01  Australia  156635.85760  NYGDPMKTPSAKD   8617375   SP.POP.TOTL\n",
       "13 1991-07-01     Sweden   79084.77036  NYGDPMKTPSAKD   8617375   SP.POP.TOTL\n",
       "14 1991-09-01  Australia  156744.05660  NYGDPMKTPSAKD   8617375   SP.POP.TOTL\n",
       "15 1991-09-01     Sweden   79740.60625  NYGDPMKTPSAKD   8617375   SP.POP.TOTL\n",
       "16 1992-01-01  Australia  157916.08110  NYGDPMKTPSAKD  17495000   SP.POP.TOTL\n",
       "17 1992-01-01     Sweden   79390.92175  NYGDPMKTPSAKD   8668067   SP.POP.TOTL\n",
       "18 1992-04-01  Australia  159047.82710  NYGDPMKTPSAKD   8668067   SP.POP.TOTL\n",
       "19 1992-04-01     Sweden   79060.28298  NYGDPMKTPSAKD   8668067   SP.POP.TOTL\n",
       "20 1992-07-01  Australia  160658.17600  NYGDPMKTPSAKD   8668067   SP.POP.TOTL\n",
       "21 1992-07-01     Sweden   78904.60477  NYGDPMKTPSAKD   8668067   SP.POP.TOTL\n",
       "22 1992-09-01  Australia  163960.22070  NYGDPMKTPSAKD   8668067   SP.POP.TOTL\n",
       "23 1992-09-01     Sweden   76996.83684  NYGDPMKTPSAKD   8668067   SP.POP.TOTL\n",
       "24 1993-01-01  Australia  165097.49510  NYGDPMKTPSAKD  17667000   SP.POP.TOTL\n",
       "25 1993-01-01     Sweden   75783.58777  NYGDPMKTPSAKD   8718561   SP.POP.TOTL\n",
       "26 1993-04-01  Australia  166027.05900  NYGDPMKTPSAKD   8718561   SP.POP.TOTL\n",
       "27 1993-04-01     Sweden   76708.54823  NYGDPMKTPSAKD   8718561   SP.POP.TOTL\n",
       "28 1993-07-01  Australia  166203.17860  NYGDPMKTPSAKD   8718561   SP.POP.TOTL\n",
       "29 1993-07-01     Sweden   77662.01816  NYGDPMKTPSAKD   8718561   SP.POP.TOTL\n",
       "30 1993-09-01  Australia  169279.34790  NYGDPMKTPSAKD   8718561   SP.POP.TOTL\n",
       "31 1993-09-01     Sweden   77703.30364  NYGDPMKTPSAKD   8718561   SP.POP.TOTL"
      ]
     },
     "execution_count": 38,
     "metadata": {},
     "output_type": "execute_result"
    }
   ],
   "source": [
    "# Merge gdp and pop on date and country with fill and notice rows 2 and 3\n",
    "ctry_date = pd.merge_ordered(gdp, pop, on=['date', 'country'], fill_method='ffill')\n",
    "\n",
    "ctry_date"
   ]
  },
  {
   "cell_type": "markdown",
   "id": "339abdb9-2716-4195-98fe-ad0dd667c112",
   "metadata": {},
   "source": [
    "**Instruction 2**\n",
    "- Perform the same merge of `gdp` and `pop`, but join on `country` and `date` (**reverse of instruction 1**) with the fill feature, saving this as `date_ctry`."
   ]
  },
  {
   "cell_type": "code",
   "execution_count": 39,
   "id": "a5d8da6b-4e5d-4f50-baf2-401665ee1700",
   "metadata": {},
   "outputs": [
    {
     "data": {
      "text/html": [
       "<div>\n",
       "<style scoped>\n",
       "    .dataframe tbody tr th:only-of-type {\n",
       "        vertical-align: middle;\n",
       "    }\n",
       "\n",
       "    .dataframe tbody tr th {\n",
       "        vertical-align: top;\n",
       "    }\n",
       "\n",
       "    .dataframe thead th {\n",
       "        text-align: right;\n",
       "    }\n",
       "</style>\n",
       "<table border=\"1\" class=\"dataframe\">\n",
       "  <thead>\n",
       "    <tr style=\"text-align: right;\">\n",
       "      <th></th>\n",
       "      <th>date</th>\n",
       "      <th>country</th>\n",
       "      <th>gdp</th>\n",
       "      <th>series_code_x</th>\n",
       "      <th>pop</th>\n",
       "      <th>series_code_y</th>\n",
       "    </tr>\n",
       "  </thead>\n",
       "  <tbody>\n",
       "    <tr>\n",
       "      <th>0</th>\n",
       "      <td>1990-01-01</td>\n",
       "      <td>Australia</td>\n",
       "      <td>158051.13240</td>\n",
       "      <td>NYGDPMKTPSAKD</td>\n",
       "      <td>17065100</td>\n",
       "      <td>SP.POP.TOTL</td>\n",
       "    </tr>\n",
       "    <tr>\n",
       "      <th>1</th>\n",
       "      <td>1990-04-01</td>\n",
       "      <td>Australia</td>\n",
       "      <td>158263.58160</td>\n",
       "      <td>NYGDPMKTPSAKD</td>\n",
       "      <td>17065100</td>\n",
       "      <td>SP.POP.TOTL</td>\n",
       "    </tr>\n",
       "    <tr>\n",
       "      <th>2</th>\n",
       "      <td>1990-07-01</td>\n",
       "      <td>Australia</td>\n",
       "      <td>157329.27900</td>\n",
       "      <td>NYGDPMKTPSAKD</td>\n",
       "      <td>17065100</td>\n",
       "      <td>SP.POP.TOTL</td>\n",
       "    </tr>\n",
       "    <tr>\n",
       "      <th>3</th>\n",
       "      <td>1990-09-01</td>\n",
       "      <td>Australia</td>\n",
       "      <td>158240.67810</td>\n",
       "      <td>NYGDPMKTPSAKD</td>\n",
       "      <td>17065100</td>\n",
       "      <td>SP.POP.TOTL</td>\n",
       "    </tr>\n",
       "    <tr>\n",
       "      <th>4</th>\n",
       "      <td>1991-01-01</td>\n",
       "      <td>Australia</td>\n",
       "      <td>156195.95350</td>\n",
       "      <td>NYGDPMKTPSAKD</td>\n",
       "      <td>17284000</td>\n",
       "      <td>SP.POP.TOTL</td>\n",
       "    </tr>\n",
       "    <tr>\n",
       "      <th>5</th>\n",
       "      <td>1991-04-01</td>\n",
       "      <td>Australia</td>\n",
       "      <td>155989.03270</td>\n",
       "      <td>NYGDPMKTPSAKD</td>\n",
       "      <td>17284000</td>\n",
       "      <td>SP.POP.TOTL</td>\n",
       "    </tr>\n",
       "    <tr>\n",
       "      <th>6</th>\n",
       "      <td>1991-07-01</td>\n",
       "      <td>Australia</td>\n",
       "      <td>156635.85760</td>\n",
       "      <td>NYGDPMKTPSAKD</td>\n",
       "      <td>17284000</td>\n",
       "      <td>SP.POP.TOTL</td>\n",
       "    </tr>\n",
       "    <tr>\n",
       "      <th>7</th>\n",
       "      <td>1991-09-01</td>\n",
       "      <td>Australia</td>\n",
       "      <td>156744.05660</td>\n",
       "      <td>NYGDPMKTPSAKD</td>\n",
       "      <td>17284000</td>\n",
       "      <td>SP.POP.TOTL</td>\n",
       "    </tr>\n",
       "    <tr>\n",
       "      <th>8</th>\n",
       "      <td>1992-01-01</td>\n",
       "      <td>Australia</td>\n",
       "      <td>157916.08110</td>\n",
       "      <td>NYGDPMKTPSAKD</td>\n",
       "      <td>17495000</td>\n",
       "      <td>SP.POP.TOTL</td>\n",
       "    </tr>\n",
       "    <tr>\n",
       "      <th>9</th>\n",
       "      <td>1992-04-01</td>\n",
       "      <td>Australia</td>\n",
       "      <td>159047.82710</td>\n",
       "      <td>NYGDPMKTPSAKD</td>\n",
       "      <td>17495000</td>\n",
       "      <td>SP.POP.TOTL</td>\n",
       "    </tr>\n",
       "    <tr>\n",
       "      <th>10</th>\n",
       "      <td>1992-07-01</td>\n",
       "      <td>Australia</td>\n",
       "      <td>160658.17600</td>\n",
       "      <td>NYGDPMKTPSAKD</td>\n",
       "      <td>17495000</td>\n",
       "      <td>SP.POP.TOTL</td>\n",
       "    </tr>\n",
       "    <tr>\n",
       "      <th>11</th>\n",
       "      <td>1992-09-01</td>\n",
       "      <td>Australia</td>\n",
       "      <td>163960.22070</td>\n",
       "      <td>NYGDPMKTPSAKD</td>\n",
       "      <td>17495000</td>\n",
       "      <td>SP.POP.TOTL</td>\n",
       "    </tr>\n",
       "    <tr>\n",
       "      <th>12</th>\n",
       "      <td>1993-01-01</td>\n",
       "      <td>Australia</td>\n",
       "      <td>165097.49510</td>\n",
       "      <td>NYGDPMKTPSAKD</td>\n",
       "      <td>17667000</td>\n",
       "      <td>SP.POP.TOTL</td>\n",
       "    </tr>\n",
       "    <tr>\n",
       "      <th>13</th>\n",
       "      <td>1993-04-01</td>\n",
       "      <td>Australia</td>\n",
       "      <td>166027.05900</td>\n",
       "      <td>NYGDPMKTPSAKD</td>\n",
       "      <td>17667000</td>\n",
       "      <td>SP.POP.TOTL</td>\n",
       "    </tr>\n",
       "    <tr>\n",
       "      <th>14</th>\n",
       "      <td>1993-07-01</td>\n",
       "      <td>Australia</td>\n",
       "      <td>166203.17860</td>\n",
       "      <td>NYGDPMKTPSAKD</td>\n",
       "      <td>17667000</td>\n",
       "      <td>SP.POP.TOTL</td>\n",
       "    </tr>\n",
       "    <tr>\n",
       "      <th>15</th>\n",
       "      <td>1993-09-01</td>\n",
       "      <td>Australia</td>\n",
       "      <td>169279.34790</td>\n",
       "      <td>NYGDPMKTPSAKD</td>\n",
       "      <td>17667000</td>\n",
       "      <td>SP.POP.TOTL</td>\n",
       "    </tr>\n",
       "    <tr>\n",
       "      <th>16</th>\n",
       "      <td>1990-01-01</td>\n",
       "      <td>Sweden</td>\n",
       "      <td>79837.84599</td>\n",
       "      <td>NYGDPMKTPSAKD</td>\n",
       "      <td>8558835</td>\n",
       "      <td>SP.POP.TOTL</td>\n",
       "    </tr>\n",
       "    <tr>\n",
       "      <th>17</th>\n",
       "      <td>1990-04-01</td>\n",
       "      <td>Sweden</td>\n",
       "      <td>80582.28597</td>\n",
       "      <td>NYGDPMKTPSAKD</td>\n",
       "      <td>8558835</td>\n",
       "      <td>SP.POP.TOTL</td>\n",
       "    </tr>\n",
       "    <tr>\n",
       "      <th>18</th>\n",
       "      <td>1990-07-01</td>\n",
       "      <td>Sweden</td>\n",
       "      <td>79974.36017</td>\n",
       "      <td>NYGDPMKTPSAKD</td>\n",
       "      <td>8558835</td>\n",
       "      <td>SP.POP.TOTL</td>\n",
       "    </tr>\n",
       "    <tr>\n",
       "      <th>19</th>\n",
       "      <td>1990-09-01</td>\n",
       "      <td>Sweden</td>\n",
       "      <td>80106.49738</td>\n",
       "      <td>NYGDPMKTPSAKD</td>\n",
       "      <td>8558835</td>\n",
       "      <td>SP.POP.TOTL</td>\n",
       "    </tr>\n",
       "    <tr>\n",
       "      <th>20</th>\n",
       "      <td>1991-01-01</td>\n",
       "      <td>Sweden</td>\n",
       "      <td>79524.24192</td>\n",
       "      <td>NYGDPMKTPSAKD</td>\n",
       "      <td>8617375</td>\n",
       "      <td>SP.POP.TOTL</td>\n",
       "    </tr>\n",
       "    <tr>\n",
       "      <th>21</th>\n",
       "      <td>1991-04-01</td>\n",
       "      <td>Sweden</td>\n",
       "      <td>79073.05901</td>\n",
       "      <td>NYGDPMKTPSAKD</td>\n",
       "      <td>8617375</td>\n",
       "      <td>SP.POP.TOTL</td>\n",
       "    </tr>\n",
       "    <tr>\n",
       "      <th>22</th>\n",
       "      <td>1991-07-01</td>\n",
       "      <td>Sweden</td>\n",
       "      <td>79084.77036</td>\n",
       "      <td>NYGDPMKTPSAKD</td>\n",
       "      <td>8617375</td>\n",
       "      <td>SP.POP.TOTL</td>\n",
       "    </tr>\n",
       "    <tr>\n",
       "      <th>23</th>\n",
       "      <td>1991-09-01</td>\n",
       "      <td>Sweden</td>\n",
       "      <td>79740.60625</td>\n",
       "      <td>NYGDPMKTPSAKD</td>\n",
       "      <td>8617375</td>\n",
       "      <td>SP.POP.TOTL</td>\n",
       "    </tr>\n",
       "    <tr>\n",
       "      <th>24</th>\n",
       "      <td>1992-01-01</td>\n",
       "      <td>Sweden</td>\n",
       "      <td>79390.92175</td>\n",
       "      <td>NYGDPMKTPSAKD</td>\n",
       "      <td>8668067</td>\n",
       "      <td>SP.POP.TOTL</td>\n",
       "    </tr>\n",
       "    <tr>\n",
       "      <th>25</th>\n",
       "      <td>1992-04-01</td>\n",
       "      <td>Sweden</td>\n",
       "      <td>79060.28298</td>\n",
       "      <td>NYGDPMKTPSAKD</td>\n",
       "      <td>8668067</td>\n",
       "      <td>SP.POP.TOTL</td>\n",
       "    </tr>\n",
       "    <tr>\n",
       "      <th>26</th>\n",
       "      <td>1992-07-01</td>\n",
       "      <td>Sweden</td>\n",
       "      <td>78904.60477</td>\n",
       "      <td>NYGDPMKTPSAKD</td>\n",
       "      <td>8668067</td>\n",
       "      <td>SP.POP.TOTL</td>\n",
       "    </tr>\n",
       "    <tr>\n",
       "      <th>27</th>\n",
       "      <td>1992-09-01</td>\n",
       "      <td>Sweden</td>\n",
       "      <td>76996.83684</td>\n",
       "      <td>NYGDPMKTPSAKD</td>\n",
       "      <td>8668067</td>\n",
       "      <td>SP.POP.TOTL</td>\n",
       "    </tr>\n",
       "    <tr>\n",
       "      <th>28</th>\n",
       "      <td>1993-01-01</td>\n",
       "      <td>Sweden</td>\n",
       "      <td>75783.58777</td>\n",
       "      <td>NYGDPMKTPSAKD</td>\n",
       "      <td>8718561</td>\n",
       "      <td>SP.POP.TOTL</td>\n",
       "    </tr>\n",
       "    <tr>\n",
       "      <th>29</th>\n",
       "      <td>1993-04-01</td>\n",
       "      <td>Sweden</td>\n",
       "      <td>76708.54823</td>\n",
       "      <td>NYGDPMKTPSAKD</td>\n",
       "      <td>8718561</td>\n",
       "      <td>SP.POP.TOTL</td>\n",
       "    </tr>\n",
       "    <tr>\n",
       "      <th>30</th>\n",
       "      <td>1993-07-01</td>\n",
       "      <td>Sweden</td>\n",
       "      <td>77662.01816</td>\n",
       "      <td>NYGDPMKTPSAKD</td>\n",
       "      <td>8718561</td>\n",
       "      <td>SP.POP.TOTL</td>\n",
       "    </tr>\n",
       "    <tr>\n",
       "      <th>31</th>\n",
       "      <td>1993-09-01</td>\n",
       "      <td>Sweden</td>\n",
       "      <td>77703.30364</td>\n",
       "      <td>NYGDPMKTPSAKD</td>\n",
       "      <td>8718561</td>\n",
       "      <td>SP.POP.TOTL</td>\n",
       "    </tr>\n",
       "  </tbody>\n",
       "</table>\n",
       "</div>"
      ],
      "text/plain": [
       "         date    country           gdp  series_code_x       pop series_code_y\n",
       "0  1990-01-01  Australia  158051.13240  NYGDPMKTPSAKD  17065100   SP.POP.TOTL\n",
       "1  1990-04-01  Australia  158263.58160  NYGDPMKTPSAKD  17065100   SP.POP.TOTL\n",
       "2  1990-07-01  Australia  157329.27900  NYGDPMKTPSAKD  17065100   SP.POP.TOTL\n",
       "3  1990-09-01  Australia  158240.67810  NYGDPMKTPSAKD  17065100   SP.POP.TOTL\n",
       "4  1991-01-01  Australia  156195.95350  NYGDPMKTPSAKD  17284000   SP.POP.TOTL\n",
       "5  1991-04-01  Australia  155989.03270  NYGDPMKTPSAKD  17284000   SP.POP.TOTL\n",
       "6  1991-07-01  Australia  156635.85760  NYGDPMKTPSAKD  17284000   SP.POP.TOTL\n",
       "7  1991-09-01  Australia  156744.05660  NYGDPMKTPSAKD  17284000   SP.POP.TOTL\n",
       "8  1992-01-01  Australia  157916.08110  NYGDPMKTPSAKD  17495000   SP.POP.TOTL\n",
       "9  1992-04-01  Australia  159047.82710  NYGDPMKTPSAKD  17495000   SP.POP.TOTL\n",
       "10 1992-07-01  Australia  160658.17600  NYGDPMKTPSAKD  17495000   SP.POP.TOTL\n",
       "11 1992-09-01  Australia  163960.22070  NYGDPMKTPSAKD  17495000   SP.POP.TOTL\n",
       "12 1993-01-01  Australia  165097.49510  NYGDPMKTPSAKD  17667000   SP.POP.TOTL\n",
       "13 1993-04-01  Australia  166027.05900  NYGDPMKTPSAKD  17667000   SP.POP.TOTL\n",
       "14 1993-07-01  Australia  166203.17860  NYGDPMKTPSAKD  17667000   SP.POP.TOTL\n",
       "15 1993-09-01  Australia  169279.34790  NYGDPMKTPSAKD  17667000   SP.POP.TOTL\n",
       "16 1990-01-01     Sweden   79837.84599  NYGDPMKTPSAKD   8558835   SP.POP.TOTL\n",
       "17 1990-04-01     Sweden   80582.28597  NYGDPMKTPSAKD   8558835   SP.POP.TOTL\n",
       "18 1990-07-01     Sweden   79974.36017  NYGDPMKTPSAKD   8558835   SP.POP.TOTL\n",
       "19 1990-09-01     Sweden   80106.49738  NYGDPMKTPSAKD   8558835   SP.POP.TOTL\n",
       "20 1991-01-01     Sweden   79524.24192  NYGDPMKTPSAKD   8617375   SP.POP.TOTL\n",
       "21 1991-04-01     Sweden   79073.05901  NYGDPMKTPSAKD   8617375   SP.POP.TOTL\n",
       "22 1991-07-01     Sweden   79084.77036  NYGDPMKTPSAKD   8617375   SP.POP.TOTL\n",
       "23 1991-09-01     Sweden   79740.60625  NYGDPMKTPSAKD   8617375   SP.POP.TOTL\n",
       "24 1992-01-01     Sweden   79390.92175  NYGDPMKTPSAKD   8668067   SP.POP.TOTL\n",
       "25 1992-04-01     Sweden   79060.28298  NYGDPMKTPSAKD   8668067   SP.POP.TOTL\n",
       "26 1992-07-01     Sweden   78904.60477  NYGDPMKTPSAKD   8668067   SP.POP.TOTL\n",
       "27 1992-09-01     Sweden   76996.83684  NYGDPMKTPSAKD   8668067   SP.POP.TOTL\n",
       "28 1993-01-01     Sweden   75783.58777  NYGDPMKTPSAKD   8718561   SP.POP.TOTL\n",
       "29 1993-04-01     Sweden   76708.54823  NYGDPMKTPSAKD   8718561   SP.POP.TOTL\n",
       "30 1993-07-01     Sweden   77662.01816  NYGDPMKTPSAKD   8718561   SP.POP.TOTL\n",
       "31 1993-09-01     Sweden   77703.30364  NYGDPMKTPSAKD   8718561   SP.POP.TOTL"
      ]
     },
     "execution_count": 39,
     "metadata": {},
     "output_type": "execute_result"
    }
   ],
   "source": [
    "# Merge gdp and pop on country and date with fill\n",
    "ctry_date = pd.merge_ordered(gdp, pop, on=['country', 'date'], fill_method='ffill')\n",
    "\n",
    "ctry_date"
   ]
  },
  {
   "cell_type": "markdown",
   "id": "624c6c81-333f-4a73-ac5c-d26247268df7",
   "metadata": {},
   "source": [
    "*When merging on `date` first, the table is sorted by `date` then `country`. When forward fill is applied, Sweden's population value in January is used to fill in the missing values for both Australia and the Sweden for the remainder of the year. This is not what we want. The fill forward is using unintended data to fill in the missing values. **However**, when merging on `country` first, the table is sorted by `country` then `date`, so the forward fill is applied appropriately in this situation.*"
   ]
  },
  {
   "cell_type": "markdown",
   "id": "34b93ccd-84d1-4d9f-bede-726d071c1f9c",
   "metadata": {},
   "source": [
    "## Using `merge_asof()` to study stocks\n",
    "You have a feed of stock market prices that you record. You attempt to track the price every five minutes. Still, due to some network latency, the prices you record are roughly every 5 minutes. You pull your price logs for three banks, *JP Morgan* (JPM), *Wells Fargo* (WFC), and *Bank Of America* (BAC). You want to know how the price change of the two other banks compare to *JP Morgan*. Therefore, you will need to merge these three logs into one table. Afterward, you will use the `pandas` `.diff()` method to compute the price change over time. Finally, plot the price changes so you can review your analysis."
   ]
  },
  {
   "cell_type": "code",
   "execution_count": 43,
   "id": "657a5b93-51c1-4128-b4f4-2546f2001cb0",
   "metadata": {},
   "outputs": [],
   "source": [
    "jpm = pd.read_pickle('jpm.p')\n",
    "wells = pd.read_pickle('wells.p')\n",
    "bac = pd.read_pickle('bac.p')"
   ]
  },
  {
   "cell_type": "markdown",
   "id": "4212de49-1aaa-4f0c-935a-e52da62f901b",
   "metadata": {},
   "source": [
    "- Use `merge_asof()` to merge `jpm` (left table) and `wells` together on the `date_time` column, where the rows with the **nearest times** are matched, and with `suffixes=('', '_wells')`. Save to `jpm_wells`."
   ]
  },
  {
   "cell_type": "code",
   "execution_count": 45,
   "id": "6af72392-6307-4397-96fa-fe20efecbbf1",
   "metadata": {},
   "outputs": [],
   "source": [
    "# Use merge_asof() to merge jpm and wells\n",
    "jpm_wells = pd.merge_asof(jpm, wells, on='date_time'\n",
    "                          , suffixes=('', '_wells')\n",
    "                          , direction='nearest')"
   ]
  },
  {
   "cell_type": "markdown",
   "id": "00412575-11f1-41d0-8836-a58d7965c7a7",
   "metadata": {},
   "source": [
    "- Use `merge_asof()` to merge `jpm_wells` (left table) and `bac` together on the `date_time` column, where the rows with the closest times are matched, and with `suffixes=('_jpm', '_bac')`. Save to `jpm_wells_bac`."
   ]
  },
  {
   "cell_type": "code",
   "execution_count": 46,
   "id": "b2668662-36fa-4647-bc67-b8c49653b825",
   "metadata": {},
   "outputs": [],
   "source": [
    "# Use merge_asof() to merge jpm_wells and bac\n",
    "jpm_wells_bac = pd.merge_asof(jpm_wells, bac, on='date_time'\n",
    "                              , suffixes=('_jpm', '_bac')\n",
    "                              , direction='nearest')"
   ]
  },
  {
   "cell_type": "markdown",
   "id": "ef13280c-d9de-4158-8a67-bb7ac9294fff",
   "metadata": {},
   "source": [
    "- Using `price_diffs`, create a line plot of the close price of JPM, WFC, and BAC only."
   ]
  },
  {
   "cell_type": "code",
   "execution_count": 47,
   "id": "3a599e83-e27f-46e3-8173-1a7a0f85d3a5",
   "metadata": {},
   "outputs": [
    {
     "data": {
      "image/png": "[encoded data removed]",
      "text/plain": [
       "<Figure size 432x288 with 1 Axes>"
      ]
     },
     "metadata": {
      "needs_background": "light"
     },
     "output_type": "display_data"
    }
   ],
   "source": [
    "# Compute price diff\n",
    "price_diffs = jpm_wells_bac.diff()\n",
    "\n",
    "# Plot the price diff of the close of jpm, wells and bac only\n",
    "price_diffs.plot(y=['close_jpm', 'close_wells', 'close_bac'])\n",
    "plt.show()"
   ]
  },
  {
   "cell_type": "markdown",
   "id": "7684ee87-1117-456a-a570-2e49d5ee8d44",
   "metadata": {},
   "source": [
    "*The price change for these bank stocks was roughly the same, although the price change for JP Morgan was more variable.* \n",
    "\n",
    "- The critical point here is that the `merge_asof()` function is very useful in performing the fuzzy matching between the timestamps of all the tables."
   ]
  },
  {
   "cell_type": "markdown",
   "id": "aa6a93a0-efcb-4a6c-b587-cc162a842017",
   "metadata": {},
   "source": [
    "## Using `merge_asof()` to create dataset\n",
    "The `merge_asof()` function can be used to create datasets where you have a table of start and stop dates, and you want to use them to create a flag in another table. There is `gdp_80`, which is a table of quarterly GDP values of the US during the 1980s. Additionally, the table `recession_80` has been given. It holds the starting date of every US recession since 1980, and the date when the recession was declared to be over. Use `merge_asof()` to merge the tables and create a status flag if a quarter was during a recession. Finally, to check your work, plot the data in a bar chart."
   ]
  },
  {
   "cell_type": "code",
   "execution_count": 51,
   "id": "99caabbe-25f7-49a4-95a9-1f6895843818",
   "metadata": {},
   "outputs": [],
   "source": [
    "gdp_80 = pd.read_pickle('gdp_80.p')\n",
    "recession_80 = pd.read_pickle('recession_80.p')"
   ]
  },
  {
   "cell_type": "markdown",
   "id": "114118c3-11cb-464b-9f61-836022d4aa19",
   "metadata": {},
   "source": [
    "- Using `merge_asof()`, merge `gdp_80` and `recession_80` on `date`, with `gdp` as the left table. Save to the variable `gdp_recession`."
   ]
  },
  {
   "cell_type": "code",
   "execution_count": 53,
   "id": "be23db68-a497-4194-8eac-f2272e34be0d",
   "metadata": {},
   "outputs": [],
   "source": [
    "# Merge gdp_80 and recession_80 on date using merge_asof()\n",
    "gdp_recession = pd.merge_asof(gdp_80, recession_80, on='date')"
   ]
  },
  {
   "cell_type": "markdown",
   "id": "4d9b3079-d96f-462c-91b7-6530d8cca0c2",
   "metadata": {},
   "source": [
    "- Create a `list` using a list comprehension and a conditional expression, named `is_recession`, where for each row if the `gdp_recession['econ_status']` value is equal to 'recession' then enter `'r'` else `'g'`."
   ]
  },
  {
   "cell_type": "code",
   "execution_count": 54,
   "id": "dc5918a8-a881-4c60-8489-b09c671bd1c5",
   "metadata": {},
   "outputs": [],
   "source": [
    "# Create a list based on the row value of gdp_recession['econ_status']\n",
    "is_recession = ['r' if s=='recession' else 'g' for s in gdp_recession['econ_status']]"
   ]
  },
  {
   "cell_type": "markdown",
   "id": "bdc0f6ca-8dc0-49a3-a535-97b224b49b0e",
   "metadata": {},
   "source": [
    "- Using `gdp_recession`, plot a bar chart of `gdp` versus `date`, setting the `color` argument equal to `is_recession`."
   ]
  },
  {
   "cell_type": "code",
   "execution_count": 57,
   "id": "bf9872ed-04d5-4196-9004-89b2b4931f01",
   "metadata": {},
   "outputs": [
    {
     "data": {
      "image/png": "[encoded data removed]",
      "text/plain": [
       "<Figure size 432x288 with 1 Axes>"
      ]
     },
     "metadata": {
      "needs_background": "light"
     },
     "output_type": "display_data"
    }
   ],
   "source": [
    "# Plot a bar chart of gdp_recession\n",
    "gdp_recession.plot(kind='bar', y='gdp', x='date'\n",
    "                   ,color=is_recession, rot=90)\n",
    "plt.show()"
   ]
  },
  {
   "cell_type": "markdown",
   "id": "0b3b7caa-c27f-441e-8d8b-26276e170a50",
   "metadata": {},
   "source": [
    "*There were a number of quarters early in the 1980s where a recession was an issue.*\n",
    "- `merge_asof()` allowed us to quickly add a flag to the `gdp_80` dataset by matching between two different dates, in one line of code. If we were to perform the same task using subsetting, it would have taken a lot more code."
   ]
  },
  {
   "cell_type": "markdown",
   "id": "68fab8d9-2428-4f64-9912-153ea51e522b",
   "metadata": {},
   "source": [
    "## `merge_asof()` and `merge_ordered()` differences\n",
    "The `merge_asof()` and `merge_ordered()` functions are similar in the type of merge they perform and the input arguments they use. \n",
    "\n",
    "`merge_asof()` | both | `merge_ordered()`\n",
    ":---|:---|:---\n",
    "Atfer matching two tables, if there are missing values at the top of the table from the right table, this functin can fill them in. | Can be used when working with orderd or time-series data. | If it cannot match the rows of the tables exactly, it can use forward fill to interpolate the missing data.\n",
    "Has and argument that can be set to `'forward'` to select the first row in the righr table whose key column is greater than or equal to the left's | Can set the suffix for overlapping column names. | Allows for a right join during the merge.\n",
    "Can be used to do fuzzy matching of dates between tables. | |"
   ]
  },
  {
   "cell_type": "markdown",
   "id": "76189d72-f19d-4773-b39e-5cb0d36a79d5",
   "metadata": {},
   "source": [
    "## Subsetting rows with `.query()`\n",
    "In this exercise, you will revisit GDP and population data for Australia and Sweden from the World Bank and expand on it using the `.query()` method. You'll merge the two tables and compute the GDP per capita. Afterwards, you'll use the `.query()` method to sub-select the rows and create a plot. Recall that you will need to merge on multiple columns in the proper order."
   ]
  },
  {
   "cell_type": "code",
   "execution_count": 58,
   "id": "0d8d4d20-b1ee-4fcc-b3ca-c830e325b77d",
   "metadata": {},
   "outputs": [
    {
     "data": {
      "text/html": [
       "<div>\n",
       "<style scoped>\n",
       "    .dataframe tbody tr th:only-of-type {\n",
       "        vertical-align: middle;\n",
       "    }\n",
       "\n",
       "    .dataframe tbody tr th {\n",
       "        vertical-align: top;\n",
       "    }\n",
       "\n",
       "    .dataframe thead th {\n",
       "        text-align: right;\n",
       "    }\n",
       "</style>\n",
       "<table border=\"1\" class=\"dataframe\">\n",
       "  <thead>\n",
       "    <tr style=\"text-align: right;\">\n",
       "      <th></th>\n",
       "      <th>date</th>\n",
       "      <th>country</th>\n",
       "      <th>gdp</th>\n",
       "      <th>series_code</th>\n",
       "    </tr>\n",
       "  </thead>\n",
       "  <tbody>\n",
       "    <tr>\n",
       "      <th>0</th>\n",
       "      <td>1990-01-01</td>\n",
       "      <td>Australia</td>\n",
       "      <td>158051.1324</td>\n",
       "      <td>NYGDPMKTPSAKD</td>\n",
       "    </tr>\n",
       "  </tbody>\n",
       "</table>\n",
       "</div>"
      ],
      "text/plain": [
       "        date    country          gdp    series_code\n",
       "0 1990-01-01  Australia  158051.1324  NYGDPMKTPSAKD"
      ]
     },
     "execution_count": 58,
     "metadata": {},
     "output_type": "execute_result"
    }
   ],
   "source": [
    "gdp.head(1)"
   ]
  },
  {
   "cell_type": "code",
   "execution_count": 59,
   "id": "dc2fd2b2-f43b-463a-9a41-818b5e9c9433",
   "metadata": {},
   "outputs": [
    {
     "data": {
      "text/html": [
       "<div>\n",
       "<style scoped>\n",
       "    .dataframe tbody tr th:only-of-type {\n",
       "        vertical-align: middle;\n",
       "    }\n",
       "\n",
       "    .dataframe tbody tr th {\n",
       "        vertical-align: top;\n",
       "    }\n",
       "\n",
       "    .dataframe thead th {\n",
       "        text-align: right;\n",
       "    }\n",
       "</style>\n",
       "<table border=\"1\" class=\"dataframe\">\n",
       "  <thead>\n",
       "    <tr style=\"text-align: right;\">\n",
       "      <th></th>\n",
       "      <th>date</th>\n",
       "      <th>country</th>\n",
       "      <th>pop</th>\n",
       "      <th>series_code</th>\n",
       "    </tr>\n",
       "  </thead>\n",
       "  <tbody>\n",
       "    <tr>\n",
       "      <th>0</th>\n",
       "      <td>1990-01-01</td>\n",
       "      <td>Australia</td>\n",
       "      <td>17065100</td>\n",
       "      <td>SP.POP.TOTL</td>\n",
       "    </tr>\n",
       "  </tbody>\n",
       "</table>\n",
       "</div>"
      ],
      "text/plain": [
       "        date    country       pop  series_code\n",
       "0 1990-01-01  Australia  17065100  SP.POP.TOTL"
      ]
     },
     "execution_count": 59,
     "metadata": {},
     "output_type": "execute_result"
    }
   ],
   "source": [
    "pop.head(1)"
   ]
  },
  {
   "cell_type": "markdown",
   "id": "ef72a3e8-ede3-49f0-b86e-8d2babf28cab",
   "metadata": {},
   "source": [
    "- Use `merge_ordered()` on `gdp` and `pop` on columns `country` and `date` with the fill feature, save to `gdp_pop`."
   ]
  },
  {
   "cell_type": "code",
   "execution_count": 62,
   "id": "c691c8a9-543e-46ad-b503-5b915d382f3a",
   "metadata": {},
   "outputs": [],
   "source": [
    "# Merge gdp and pop on date and country with fill\n",
    "gdp_pop = pd.merge_ordered(gdp, pop, on=['country', 'date'], fill_method='ffill')"
   ]
  },
  {
   "cell_type": "markdown",
   "id": "2265d7f8-c31c-4595-a75f-c88dbe04a9f6",
   "metadata": {},
   "source": [
    "- Add a column named `gdp_per_capita` to `gdp_pop` that divides `gdp` by `pop`."
   ]
  },
  {
   "cell_type": "code",
   "execution_count": 63,
   "id": "3e57f3ce-b3d7-4498-a3af-0cf02c5d2cac",
   "metadata": {},
   "outputs": [],
   "source": [
    "# Add a column named gdp_per_capita to gdp_pop that divides the gdp by pop\n",
    "gdp_pop['gdp_per_capita'] = gdp_pop['gdp'] / gdp_pop['pop']"
   ]
  },
  {
   "cell_type": "markdown",
   "id": "840dfa9e-97a0-40ad-b91c-24f2fa41b236",
   "metadata": {},
   "source": [
    "- Pivot `gdp_pop` so `values='gdp_per_capita'`, `index='date'`, and `columns='country'`, save as `gdp_pivot`."
   ]
  },
  {
   "cell_type": "code",
   "execution_count": 64,
   "id": "598cbb9d-87cc-46e1-ba02-c5304d92cef6",
   "metadata": {},
   "outputs": [],
   "source": [
    "# Pivot table of gdp_per_capita, where index is date and columns is country\n",
    "gdp_pivot = gdp_pop.pivot_table(values='gdp_per_capita', index='date', columns='country')"
   ]
  },
  {
   "cell_type": "markdown",
   "id": "f62c6bd1-1a18-4d93-925a-772c9884697b",
   "metadata": {},
   "source": [
    "- Use `.query()` to select rows from `gdp_pivot` where `date` is greater than equal to `\"1991-01-01\"`. Save as `recent_gdp_pop`."
   ]
  },
  {
   "cell_type": "code",
   "execution_count": 65,
   "id": "604cba32-2575-432a-a3cb-d8003b255ef8",
   "metadata": {},
   "outputs": [
    {
     "data": {
      "image/png": "[encoded data removed]",
      "text/plain": [
       "<Figure size 432x288 with 1 Axes>"
      ]
     },
     "metadata": {
      "needs_background": "light"
     },
     "output_type": "display_data"
    }
   ],
   "source": [
    "# Select dates equal to or greater than 1991-01-01\n",
    "recent_gdp_pop = gdp_pivot.query('date >= \"1991-01-01\"')\n",
    "\n",
    "# Plot recent_gdp_pop\n",
    "recent_gdp_pop.plot(rot=90)\n",
    "plt.show()"
   ]
  },
  {
   "cell_type": "markdown",
   "id": "cbe91442-b259-45a1-8b6f-f624b0547f54",
   "metadata": {},
   "source": [
    "*We can see from the plot that the per capita GDP of Australia passed Sweden in 1992.*\n",
    "- By using the `.query()` method, We were able to select the appropriate rows easily. The `.query()` method is easy to read and straightforward."
   ]
  },
  {
   "cell_type": "markdown",
   "id": "5c98675d-1e9f-439a-95af-750d33980f7e",
   "metadata": {},
   "source": [
    "## Using `.melt()` to reshape government data\n",
    "The US Bureau of Labor Statistics (BLS) often provides data series in an easy-to-read format - it has a separate column for each month, and each year is a different row. Unfortunately, this wide format makes it difficult to plot this information over time. In this exercise, you will reshape a table of US unemployment rate data from the BLS into a form you can plot using `.melt()`. You will need to add a date column to the table and sort by it to plot the data correctly."
   ]
  },
  {
   "cell_type": "code",
   "execution_count": 69,
   "id": "9a4d92b6-a9ce-4548-8833-26b0f6fba6b8",
   "metadata": {},
   "outputs": [
    {
     "data": {
      "text/html": [
       "<div>\n",
       "<style scoped>\n",
       "    .dataframe tbody tr th:only-of-type {\n",
       "        vertical-align: middle;\n",
       "    }\n",
       "\n",
       "    .dataframe tbody tr th {\n",
       "        vertical-align: top;\n",
       "    }\n",
       "\n",
       "    .dataframe thead th {\n",
       "        text-align: right;\n",
       "    }\n",
       "</style>\n",
       "<table border=\"1\" class=\"dataframe\">\n",
       "  <thead>\n",
       "    <tr style=\"text-align: right;\">\n",
       "      <th></th>\n",
       "      <th>year</th>\n",
       "      <th>jan</th>\n",
       "      <th>feb</th>\n",
       "      <th>mar</th>\n",
       "      <th>apr</th>\n",
       "      <th>may</th>\n",
       "      <th>jun</th>\n",
       "      <th>jul</th>\n",
       "      <th>aug</th>\n",
       "      <th>sep</th>\n",
       "      <th>oct</th>\n",
       "      <th>nov</th>\n",
       "      <th>dec</th>\n",
       "    </tr>\n",
       "  </thead>\n",
       "  <tbody>\n",
       "    <tr>\n",
       "      <th>0</th>\n",
       "      <td>2010</td>\n",
       "      <td>9.8</td>\n",
       "      <td>9.8</td>\n",
       "      <td>9.9</td>\n",
       "      <td>9.9</td>\n",
       "      <td>9.6</td>\n",
       "      <td>9.4</td>\n",
       "      <td>9.4</td>\n",
       "      <td>9.5</td>\n",
       "      <td>9.5</td>\n",
       "      <td>9.4</td>\n",
       "      <td>9.8</td>\n",
       "      <td>9.3</td>\n",
       "    </tr>\n",
       "    <tr>\n",
       "      <th>1</th>\n",
       "      <td>2011</td>\n",
       "      <td>9.1</td>\n",
       "      <td>9.0</td>\n",
       "      <td>9.0</td>\n",
       "      <td>9.1</td>\n",
       "      <td>9.0</td>\n",
       "      <td>9.1</td>\n",
       "      <td>9.0</td>\n",
       "      <td>9.0</td>\n",
       "      <td>9.0</td>\n",
       "      <td>8.8</td>\n",
       "      <td>8.6</td>\n",
       "      <td>8.5</td>\n",
       "    </tr>\n",
       "  </tbody>\n",
       "</table>\n",
       "</div>"
      ],
      "text/plain": [
       "   year  jan  feb  mar  apr  may  jun  jul  aug  sep  oct  nov  dec\n",
       "0  2010  9.8  9.8  9.9  9.9  9.6  9.4  9.4  9.5  9.5  9.4  9.8  9.3\n",
       "1  2011  9.1  9.0  9.0  9.1  9.0  9.1  9.0  9.0  9.0  8.8  8.6  8.5"
      ]
     },
     "execution_count": 69,
     "metadata": {},
     "output_type": "execute_result"
    }
   ],
   "source": [
    "ur_wide = pd.read_pickle('ur_wide.p')\n",
    "ur_wide.head(2)"
   ]
  },
  {
   "cell_type": "markdown",
   "id": "3e8a63eb-9306-429b-b218-e52af04f0c1f",
   "metadata": {},
   "source": [
    "- Use `.melt()` to unpivot all of the columns of `ur_wide` except `year` and ensure that the columns with the months and values are named `month` and `unempl_rate`, respectively. Save the result as `ur_tall`."
   ]
  },
  {
   "cell_type": "code",
   "execution_count": 70,
   "id": "fa700b9f-b7ba-47d0-8f91-12179d0e0433",
   "metadata": {},
   "outputs": [],
   "source": [
    "# unpivot everything besides the year column\n",
    "ur_tall = ur_wide.melt(id_vars='year', var_name='month', value_name='unempl_rate')"
   ]
  },
  {
   "cell_type": "markdown",
   "id": "b011ce6a-feb3-496c-9cc2-665f25545340",
   "metadata": {},
   "source": [
    "- Add a column to `ur_tall` named `date` which combines the `year` and `month` columns as *year-month* format into a larger string, and converts it to a date data type."
   ]
  },
  {
   "cell_type": "code",
   "execution_count": 71,
   "id": "bda85a17-9618-4993-aebf-1fe2b239147a",
   "metadata": {},
   "outputs": [],
   "source": [
    "# Create a date column using the month and year columns of ur_tall\n",
    "ur_tall['date'] = pd.to_datetime(ur_tall['year'] + '-' + ur_tall['month'])"
   ]
  },
  {
   "cell_type": "markdown",
   "id": "0dd5a409-7890-4046-8b6d-b4844a51fb26",
   "metadata": {},
   "source": [
    "- Sort `ur_tall` by `date` and save as `ur_sorted`.\n",
    "- Using `ur_sorted`, plot `unempl_rate` on the y-axis and `date` on the x-axis."
   ]
  },
  {
   "cell_type": "code",
   "execution_count": 72,
   "id": "3a7af315-63eb-48cd-b45b-8c5a7d01ce45",
   "metadata": {},
   "outputs": [
    {
     "data": {
      "image/png": "[encoded data removed]",
      "text/plain": [
       "<Figure size 432x288 with 1 Axes>"
      ]
     },
     "metadata": {
      "needs_background": "light"
     },
     "output_type": "display_data"
    }
   ],
   "source": [
    "# Sort ur_tall by date in ascending order\n",
    "ur_sorted = ur_tall.sort_values('date')\n",
    "\n",
    "# Plot the unempl_rate by date\n",
    "ur_sorted.plot('date', 'unempl_rate', kind='line')\n",
    "plt.show()"
   ]
  },
  {
   "cell_type": "markdown",
   "id": "84f7ee7e-bb4b-4410-ac5b-065bef54bfb9",
   "metadata": {},
   "source": [
    "*The plot shows a steady decrease in the unemployment rate with an increase near the end. This increase is likely the effect of the COVID-19 pandemic and its impact on shutting down most of the US economy.*\n",
    "- In general, data is often provided (*especially by governments*) in a format that is easily read by people but not by machines. The `.melt()` method is a handy tool for reshaping data into a useful form."
   ]
  },
  {
   "cell_type": "markdown",
   "id": "27cc1827-58db-458c-869e-019e1c502ba2",
   "metadata": {},
   "source": [
    "## Using `.melt()` for stocks vs bond performance\n",
    "It is widespread knowledge that the price of bonds is inversely related to the price of stocks. In this last exercise, you'll review many of the topics in this chapter to confirm this. You have been given a table of percent change of the US 10-year treasury bond price. It is in a wide format where there is a separate column for each year. You will need to use the `.melt()` method to reshape this table.\n",
    "\n",
    "Additionally, you will use the `.query()` method to filter out unneeded data. You will merge this table with a table of the percent change of the Dow Jones Industrial stock index price. Finally, you will plot data."
   ]
  },
  {
   "cell_type": "code",
   "execution_count": 77,
   "id": "1fd15e30-65db-4691-94a7-27894e6b8fca",
   "metadata": {},
   "outputs": [],
   "source": [
    "ten_yr = pd.read_pickle('ten_yr.p')\n",
    "dji = pd.read_pickle('dji.p')"
   ]
  },
  {
   "cell_type": "markdown",
   "id": "17b41d83-79a6-49f3-bb1a-dc9bb876f34e",
   "metadata": {},
   "source": [
    "- Use `.melt()` on `ten_yr` to unpivot everything except the `metric` column, setting `var_name='date'` and `value_name='close'`. Save the result to `bond_perc`."
   ]
  },
  {
   "cell_type": "code",
   "execution_count": 78,
   "id": "c97f0336-abd7-4cab-a016-7fefaa8f01e1",
   "metadata": {},
   "outputs": [],
   "source": [
    "# Use melt on ten_yr, unpivot everything besides the metric column\n",
    "bond_perc = ten_yr.melt(id_vars='metric', var_name='date', value_name='close')"
   ]
  },
  {
   "cell_type": "markdown",
   "id": "21bc14bc-3a8a-45de-8d10-87f9ee24cc7d",
   "metadata": {},
   "source": [
    "- Using the `.query()` method, select only those rows were `metric` equals `'close'`, and save to `bond_perc_close`."
   ]
  },
  {
   "cell_type": "code",
   "execution_count": 79,
   "id": "0edb9b7a-8a81-4b14-92ea-289eb6be105f",
   "metadata": {},
   "outputs": [],
   "source": [
    "# Use query on bond_perc to select only the rows where metric=close\n",
    "bond_perc_close = bond_perc.query('metric == \"close\"')"
   ]
  },
  {
   "cell_type": "markdown",
   "id": "9486ee7a-076c-4a73-8f0f-7c9811af7b33",
   "metadata": {},
   "source": [
    "- Use `merge_ordered()` to merge `dji` (left table) and `bond_perc_close` on `date` with an inner join, and set `suffixes` equal to `('_dow', '_bond')`. Save the result to `dow_bond`.\n",
    "- Using `dow_bond`, plot only the Dow and bond values."
   ]
  },
  {
   "cell_type": "code",
   "execution_count": 80,
   "id": "ac953f6b-8a89-415a-9438-f4d99be6568c",
   "metadata": {},
   "outputs": [
    {
     "data": {
      "image/png": "[encoded data removed]",
      "text/plain": [
       "<Figure size 432x288 with 1 Axes>"
      ]
     },
     "metadata": {
      "needs_background": "light"
     },
     "output_type": "display_data"
    }
   ],
   "source": [
    "# Merge (ordered) dji and bond_perc_close on date with an inner join\n",
    "dow_bond = pd.merge_ordered(dji, bond_perc_close, on='date'\n",
    "                            , how='inner', suffixes=('_dow', '_bond'))\n",
    "\n",
    "# Plot only the close_dow and close_bond columns\n",
    "dow_bond.plot(y=['close_dow', 'close_bond'], x='date', rot=90)\n",
    "plt.show()"
   ]
  },
  {
   "cell_type": "markdown",
   "id": "1227c077-5bf9-4b8d-9d7c-8bf1406a2929",
   "metadata": {},
   "source": [
    "*The plot confirms that the bond and stock prices are inversely correlated. Often as the price of stocks increases, the price for bonds decreases.*"
   ]
  },
  {
   "cell_type": "code",
   "execution_count": null,
   "id": "d2db881d-3454-485b-85a6-bfae7525b8d9",
   "metadata": {},
   "outputs": [],
   "source": []
  }
 ],
 "metadata": {
  "kernelspec": {
   "display_name": "Python 3",
   "language": "python",
   "name": "python3"
  },
  "language_info": {
   "codemirror_mode": {
    "name": "ipython",
    "version": 3
   },
   "file_extension": ".py",
   "mimetype": "text/x-python",
   "name": "python",
   "nbconvert_exporter": "python",
   "pygments_lexer": "ipython3",
   "version": "3.8.8"
  }
 },
 "nbformat": 4,
 "nbformat_minor": 5
}
