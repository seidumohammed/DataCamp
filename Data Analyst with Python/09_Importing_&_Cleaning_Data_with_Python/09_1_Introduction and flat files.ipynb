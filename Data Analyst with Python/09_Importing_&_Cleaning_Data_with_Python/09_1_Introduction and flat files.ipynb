{
 "cells": [
  {
   "cell_type": "markdown",
   "id": "84eb1176-79fd-4b2f-b232-e5cf3f4754a3",
   "metadata": {},
   "source": [
    "# 1. Introduction and flat files\n",
    "**In this chapter, you'll learn how to import data into Python from all types of flat files, which are a simple and prevalent form of data storage. You've previously learned how to use NumPy and pandas—you will learn how to use these packages to import flat files and customize your imports.**"
   ]
  },
  {
   "cell_type": "markdown",
   "id": "bb72c64d-057e-4a6d-864d-c1b2a5b68027",
   "metadata": {},
   "source": [
    "### Reading a text file\n",
    "\n",
    "```python\n",
    "txt_file = 'filename.txt'\n",
    "file = open(txt_file, mode='r') # 'r' is to read\n",
    "text = file.read()\n",
    "file.close()\n",
    "```"
   ]
  },
  {
   "cell_type": "markdown",
   "id": "24c63b80-422a-4f16-8494-17dca045dcf0",
   "metadata": {},
   "source": [
    "### Printing a text file\n",
    "\n",
    "```python\n",
    "print(text)\n",
    "```"
   ]
  },
  {
   "cell_type": "markdown",
   "id": "793e2af9-54d0-4a71-a6c8-c1f3711cb244",
   "metadata": {},
   "source": [
    "### Writing to a file\n",
    "\n",
    "```python\n",
    "txt_file = 'filename.txt'\n",
    "file = open(txt_file, mode='w') # 'w' is to write\n",
    "file.close()\n",
    "```\n"
   ]
  },
  {
   "cell_type": "markdown",
   "id": "c6fb4212-700e-4fcc-ab13-48dcd6d3f40c",
   "metadata": {},
   "source": [
    "### Context manager with\n",
    "\n",
    "```python\n",
    "with open('filename.txt', 'r') as file:\n",
    "    print(file.read())\n",
    "```\n",
    "\n",
    "Using a `with` statement. This allows you to create a context in which you can execute commands with the file open. Once out of this clause/context, the file is no longer open and, for this reason, with is called a Context Manager. What you're doing here is called 'binding' a variable in the context manager construct; while still within this construct, the variable file will be bound to `open(filename, 'r')`. \n",
    "\n",
    "It is best practice to use the with statement as you never have to concern yourself with closing the files again."
   ]
  },
  {
   "cell_type": "markdown",
   "id": "3704abc0-2c97-40d0-9eef-34d75ce06c6e",
   "metadata": {},
   "source": [
    "## Importing entire text files\n",
    "In this exercise, you'll be working with the file `moby_dick.txt`. It is a text file that contains the opening sentences of Moby Dick, one of the great American novels! Here you'll get experience opening a text file, printing its contents to the shell and, finally, closing it."
   ]
  },
  {
   "cell_type": "markdown",
   "id": "4e2bfc2d-f0c8-4423-86b2-97f3ec5bb383",
   "metadata": {},
   "source": [
    "- Open the file `moby_dick.txt` as read-only and store it in the variable `file`. Make sure to pass the filename enclosed in quotation marks `''`.\n",
    "- Print the contents of the file to the shell using the `print()` function. You'll need to apply the method `read()` to the object `file`."
   ]
  },
  {
   "cell_type": "code",
   "execution_count": 7,
   "id": "02c23d02-2b32-4d4a-9168-0aed8f7a3c65",
   "metadata": {},
   "outputs": [
    {
     "name": "stdout",
     "output_type": "stream",
     "text": [
      "CHAPTER 1. Loomings.\n",
      "\n",
      "Call me Ishmael. Some years ago--never mind how long precisely--having\n",
      "little or no money in my purse, and nothing particular to interest me on\n",
      "shore, I thought I would sail about a little and see the watery part of\n",
      "the world. It is a way I have of driving off the spleen and regulating\n",
      "the circulation. Whenever I find myself growing grim about the mouth;\n",
      "whenever it is a damp, drizzly November in my soul; whenever I find\n",
      "myself involuntarily pausing before coffin warehouses, and bringing up\n",
      "the rear of every funeral I meet; and especially whenever my hypos get\n",
      "such an upper hand of me, that it requires a strong moral principle to\n",
      "prevent me from deliberately stepping into the street, and methodically\n",
      "knocking people's hats off--then, I account it high time to get to sea\n",
      "as soon as I can. This is my substitute for pistol and ball. With a\n",
      "philosophical flourish Cato throws himself upon his sword; I quietly\n",
      "take to the ship. There is nothing surprising in this. If they but knew\n",
      "it, almost all men in their degree, some time or other, cherish very\n",
      "nearly the same feelings towards the ocean with me.\n"
     ]
    }
   ],
   "source": [
    "# Open a file: file\n",
    "file = open('moby_dick.txt', mode='r')\n",
    "\n",
    "# Print it\n",
    "print(file.read())"
   ]
  },
  {
   "cell_type": "markdown",
   "id": "ccbbc39f-acd0-4443-acfd-613badb9f00f",
   "metadata": {},
   "source": [
    "- Check whether the file is closed by executing `print(file.closed)`."
   ]
  },
  {
   "cell_type": "code",
   "execution_count": 4,
   "id": "5ecc18e5-d050-4743-861b-85dd646347f5",
   "metadata": {},
   "outputs": [
    {
     "name": "stdout",
     "output_type": "stream",
     "text": [
      "False\n"
     ]
    }
   ],
   "source": [
    "# Check whether file is closed\n",
    "print(file.closed)"
   ]
  },
  {
   "cell_type": "markdown",
   "id": "841ce9be-8698-4ccf-acc2-828c10c6b1ea",
   "metadata": {},
   "source": [
    "- Close the file using the `close()` method.\n",
    "- Check again that the file is closed as you did above."
   ]
  },
  {
   "cell_type": "code",
   "execution_count": 5,
   "id": "1f75846b-83b7-46a1-b17f-304134253c55",
   "metadata": {},
   "outputs": [
    {
     "name": "stdout",
     "output_type": "stream",
     "text": [
      "True\n"
     ]
    }
   ],
   "source": [
    "# Close file\n",
    "file.close()\n",
    "\n",
    "# Check whether file is closed\n",
    "print(file.closed)"
   ]
  },
  {
   "cell_type": "markdown",
   "id": "db3c51dc-de3d-4ae2-8000-96150154b303",
   "metadata": {},
   "source": [
    "## Importing text files line by line\n",
    "For large files, we may not want to print all of their content to the shell: you may wish to print only the first few lines. Enter the `readline()` method, which allows you to do this. When a file called `file` is open, you can print out the first line by executing `file.readline()`. If you execute the same command again, the second line will print, and so on."
   ]
  },
  {
   "cell_type": "markdown",
   "id": "e9e6fb28-23e5-4d9b-b0c8-0a6fa2d34084",
   "metadata": {},
   "source": [
    "- Open `moby_dick.txt` using the `with context manager and the variable `file`.\n",
    "- **Print the first three lines** of the file to the shell by using `readline()` three times within the context manager."
   ]
  },
  {
   "cell_type": "code",
   "execution_count": 8,
   "id": "26915f61-653c-4729-ac04-ce74328ff161",
   "metadata": {},
   "outputs": [
    {
     "name": "stdout",
     "output_type": "stream",
     "text": [
      "CHAPTER 1. Loomings.\n",
      "\n",
      "\n",
      "\n",
      "Call me Ishmael. Some years ago--never mind how long precisely--having\n",
      "\n"
     ]
    }
   ],
   "source": [
    "# Read & print the first 3 lines\n",
    "with open('moby_dick.txt') as file:\n",
    "    print(file.readline())\n",
    "    print(file.readline())\n",
    "    print(file.readline())"
   ]
  },
  {
   "cell_type": "markdown",
   "id": "b3159808-17e5-4ab8-8ceb-c2f21ca28023",
   "metadata": {},
   "source": [
    "---"
   ]
  },
  {
   "cell_type": "markdown",
   "id": "8e02c5c4-e45d-4a2c-a6df-2c154e60ac4e",
   "metadata": {},
   "source": [
    "## The importance of flat files in data science\n",
    "\n",
    "### Flat files\n",
    "- Text files containing records\n",
    "- That is, table data, without structured relationships\n",
    "- Record: row of fields or attributes\n",
    "\n",
    "### Header\n",
    "A flat file can have a header, which is a row that occurs as the first row and describes the contents of the data columns or states what the corresponding attributes or features in each column are. It will be important to know whether or not your file has a header as it may alter your data import. The reason that flat files are so important in data science is that data scientists really honestly like to think in records or rows of attributes.\n",
    "\n",
    "### File extension\n",
    "- `.csv` - Comma separeated balues\n",
    "- `.txt` - Text file\n",
    "- commas, tabs - Delimiters\n",
    "\n",
    "### How do we import flat files?\n",
    "- Two main packages: NumPy, pandas"
   ]
  },
  {
   "cell_type": "markdown",
   "id": "8cbb1b80-b02b-479e-b56b-810834894ae3",
   "metadata": {},
   "source": [
    "### Pop quiz: examples of flat files\n",
    "Test your knowledge by answering the following question: which of these file types below is an example of a flat file?\n",
    "\n",
    "1. A `.csv` file\n",
    "2. A tab-delimited `.txt`\n",
    "3. ~~A relational database (e.g. PostgreSQL)~~\n",
    "\n",
    "**Answer: 1, 2**\n",
    "\n",
    "### Pop quiz: what exactly are flat files?\n",
    "Which of the following statements about flat files is incorrect?\n",
    "\n",
    "1. Flat files consist of rows and each row is called a record.\n",
    "2. ~~Flat files consist of multiple tables with structured relationships between the tables.~~\n",
    "3. A record in a flat file is composed of *fields* or *attributes*, each of which contains at most one item of information.\n",
    "4. Flat files are pervasive in data science.\n",
    "\n",
    "**Answer: 2**\n",
    "\n"
   ]
  },
  {
   "cell_type": "markdown",
   "id": "27bc502f-62f1-46bb-a74e-921ae68523fe",
   "metadata": {},
   "source": [
    "## Importing flat files using NumPy\n",
    "What if you now want to import a flat file and assign it to a variable? If all the data are numerical, you can use the package **numpy** to import the data as a numpy array. \n",
    "\n",
    "### Why NumPy?\n",
    "- NumPy arrays: standard for storing numerical data - efficient, fast and clean.\n",
    "- Essential for other packages: e.g. scikit-learn(a popular Machine Learning package for Python)\n",
    "- Has built-in functinos that make importing data as arrays far easier and more efficient:\n",
    "    - `loadtxt()`\n",
    "    - `genfromtxt()`"
   ]
  },
  {
   "cell_type": "markdown",
   "id": "e0340138-f2b1-4ee4-909d-ae1da14fa997",
   "metadata": {},
   "source": [
    "### Importing flat files using NumPy\n",
    "\n",
    "```python\n",
    "import numpy as np\n",
    "file = 'filename.txt'\n",
    "data = np.loadtxt(file, delimiter=',')\n",
    "data\n",
    "```\n",
    "\n",
    "Note that the default delimiter is any white space so we’ll usually need to specify it explicitly."
   ]
  },
  {
   "cell_type": "markdown",
   "id": "5cb2d185-c00f-4485-8abf-e7dc10a59695",
   "metadata": {},
   "source": [
    "### Customizing NumPy import\n",
    "If, for example, the data consists of numerics and the header has strings in it, you will want to skip the first row by calling loadtxt with the argument `skiprows=1`. And if you want only the 1st and 3rd columns of the data, you’ll want to set `secols=[0, 2]`.\n",
    "\n",
    "```python\n",
    "import numpy as np\n",
    "file = 'filename.txt'\n",
    "data = np.loadtxt(file, delimiter=',', skiprows=1, usecols=[0, 2])\n",
    "data\n",
    "```\n",
    "\n"
   ]
  },
  {
   "cell_type": "markdown",
   "id": "4d2694b8-56f6-4cd3-8f1a-4a9e9e6a908d",
   "metadata": {},
   "source": [
    "You can also import different datatypes into NumPy arrays: for example, setting the argument `dtyper=str` will ensure that all entries are imported as strings. `loadtxt()` is great for basic cases, but tends to break down when we have mixed datatypes.\n",
    "\n",
    "```python\n",
    "data = np.loadtxt(filename, delimiter=',', dtyper=str)\n",
    "```"
   ]
  },
  {
   "cell_type": "markdown",
   "id": "ff52a6aa-cafc-4304-8ef7-60a85f95df5e",
   "metadata": {},
   "source": [
    "## Using NumPy to import flat files\n",
    "In this exercise, you're now going to load the MNIST digit recognition dataset using the numpy function `loadtxt()` and see just how easy it can be:\n",
    "\n",
    "The first argument will be the filename.\n",
    "The second will be the delimiter which, in this case, is a comma."
   ]
  },
  {
   "cell_type": "markdown",
   "id": "1be859fe-994a-4b50-a50a-fa32ecf35577",
   "metadata": {},
   "source": [
    "- Fill in the arguments of `np.loadtxt()` by passing `file` and a comma `','` for the delimiter.\n",
    "- Fill in the argument of `print()` to print the type of the object `digits`. Use the function `type()`.\n",
    "- Execute the rest of the code to visualize one of the rows of the data."
   ]
  },
  {
   "cell_type": "code",
   "execution_count": 1,
   "id": "0a94ed05-37fa-4431-8baa-e36fd567a47b",
   "metadata": {},
   "outputs": [
    {
     "name": "stdout",
     "output_type": "stream",
     "text": [
      "<class 'numpy.ndarray'>\n"
     ]
    }
   ],
   "source": [
    "# Import package\n",
    "import numpy as np\n",
    "import matplotlib.pyplot as plt\n",
    "\n",
    "# Assign filename to variable: file\n",
    "file = 'mnist_digits.csv'\n",
    "\n",
    "# Load file as array: digits\n",
    "digits = np.loadtxt(file, delimiter=',')\n",
    "\n",
    "# Print datatype of digits\n",
    "print(type(digits))"
   ]
  },
  {
   "cell_type": "code",
   "execution_count": 2,
   "id": "ba2b8293-a330-4fd9-b83e-02d3630883ed",
   "metadata": {},
   "outputs": [
    {
     "data": {
      "image/png": "[encoded data removed]",
      "text/plain": [
       "<Figure size 432x288 with 1 Axes>"
      ]
     },
     "metadata": {
      "needs_background": "light"
     },
     "output_type": "display_data"
    }
   ],
   "source": [
    "# Select and reshape a row\n",
    "im = digits[21, 1:]\n",
    "im_sq = np.reshape(im, (28, 28))\n",
    "\n",
    "# Plot reshaped data\n",
    "plt.imshow(im_sq, cmap='Greys', interpolation='nearest')\n",
    "plt.show()\n"
   ]
  },
  {
   "cell_type": "markdown",
   "id": "1f117ffe-ecf9-4832-b06b-9a51a4a6d39f",
   "metadata": {},
   "source": [
    "## Customizing your NumPy import\n",
    "What if there are rows, such as a header, that you don't want to import? What if your file has a delimiter other than a comma? What if you only wish to import particular columns?\n",
    "\n",
    "There are a number of arguments that `np.loadtxt()` takes that you'll find useful:\n",
    "\n",
    "delimiter changes the delimiter that `loadtxt()` is expecting.\n",
    "- You can use `','` for comma-delimited.\n",
    "- You can use `'\\t'` for tab-delimited.\n",
    "- `skiprows` allows you to specify how many rows (not indices) you wish to skip\n",
    "- `usecols` takes a list of the indices of the columns you wish to keep."
   ]
  },
  {
   "cell_type": "markdown",
   "id": "20aa1833-7c37-494a-83e4-f2a72de89297",
   "metadata": {},
   "source": [
    "- Complete the arguments of `np.loadtxt()`: the file you're importing is tab-delimited, you want to skip the first row and you only want to import the first and third columns.\n",
    "- Complete the argument of the `print()` call in order to print the entire array that you just imported."
   ]
  },
  {
   "cell_type": "code",
   "execution_count": 17,
   "id": "10b51b73-290d-4fc7-b6cd-1e2aa7667ed2",
   "metadata": {},
   "outputs": [
    {
     "name": "stdout",
     "output_type": "stream",
     "text": [
      "[[1. 0.]\n",
      " [0. 0.]\n",
      " [1. 0.]\n",
      " [4. 0.]\n",
      " [0. 0.]\n",
      " [0. 0.]\n",
      " [7. 0.]\n",
      " [3. 0.]\n",
      " [5. 0.]\n",
      " [3. 0.]\n",
      " [8. 0.]\n",
      " [9. 0.]\n",
      " [1. 0.]\n",
      " [3. 0.]\n",
      " [3. 0.]\n",
      " [1. 0.]\n",
      " [2. 0.]\n",
      " [0. 0.]\n",
      " [7. 0.]\n",
      " [5. 0.]\n",
      " [8. 0.]\n",
      " [6. 0.]\n",
      " [2. 0.]\n",
      " [0. 0.]\n",
      " [2. 0.]\n",
      " [3. 0.]\n",
      " [6. 0.]\n",
      " [9. 0.]\n",
      " [9. 0.]\n",
      " [7. 0.]\n",
      " [8. 0.]\n",
      " [9. 0.]\n",
      " [4. 0.]\n",
      " [9. 0.]\n",
      " [2. 0.]\n",
      " [1. 0.]\n",
      " [3. 0.]\n",
      " [1. 0.]\n",
      " [1. 0.]\n",
      " [4. 0.]\n",
      " [9. 0.]\n",
      " [1. 0.]\n",
      " [4. 0.]\n",
      " [4. 0.]\n",
      " [2. 0.]\n",
      " [6. 0.]\n",
      " [3. 0.]\n",
      " [7. 0.]\n",
      " [7. 0.]\n",
      " [4. 0.]\n",
      " [7. 0.]\n",
      " [5. 0.]\n",
      " [1. 0.]\n",
      " [9. 0.]\n",
      " [0. 0.]\n",
      " [2. 0.]\n",
      " [2. 0.]\n",
      " [3. 0.]\n",
      " [9. 0.]\n",
      " [1. 0.]\n",
      " [1. 0.]\n",
      " [1. 0.]\n",
      " [5. 0.]\n",
      " [0. 0.]\n",
      " [6. 0.]\n",
      " [3. 0.]\n",
      " [4. 0.]\n",
      " [8. 0.]\n",
      " [1. 0.]\n",
      " [0. 0.]\n",
      " [3. 0.]\n",
      " [9. 0.]\n",
      " [6. 0.]\n",
      " [2. 0.]\n",
      " [6. 0.]\n",
      " [4. 0.]\n",
      " [7. 0.]\n",
      " [1. 0.]\n",
      " [4. 0.]\n",
      " [1. 0.]\n",
      " [5. 0.]\n",
      " [4. 0.]\n",
      " [8. 0.]\n",
      " [9. 0.]\n",
      " [2. 0.]\n",
      " [9. 0.]\n",
      " [9. 0.]\n",
      " [8. 0.]\n",
      " [9. 0.]\n",
      " [6. 0.]\n",
      " [3. 0.]\n",
      " [6. 0.]\n",
      " [4. 0.]\n",
      " [6. 0.]\n",
      " [2. 0.]\n",
      " [9. 0.]\n",
      " [1. 0.]\n",
      " [2. 0.]\n",
      " [0. 0.]\n",
      " [5. 0.]]\n"
     ]
    }
   ],
   "source": [
    "# Import numpy\n",
    "import numpy as np\n",
    "\n",
    "# Assign the filename: file\n",
    "file = 'digits_header.txt'\n",
    "\n",
    "# Load the data: data\n",
    "data = np.loadtxt(file, delimiter='\\t', skiprows=1, usecols=[0, 2])\n",
    "\n",
    "# Print data\n",
    "print(data)\n"
   ]
  },
  {
   "cell_type": "markdown",
   "id": "9a8894d5-95b0-4df0-abf0-4c5eb91a4345",
   "metadata": {},
   "source": [
    "## Importing different datatypes\n",
    "The file `seaslug.txt` has a text header, consisting of strings\n",
    "is tab-delimited.\n",
    "These data consists of percentage of sea slug larvae that had metamorphosed in a given time period. \n",
    "\n",
    "Due to the header, if you tried to import it as-is using `np.loadtxt()`, Python would throw you a `ValueError` and tell you that it `could not convert string to float`. \n",
    "\n",
    "There are two ways to deal with this: firstly, you can set the data type argument `dtype` equal to `str` (for string).\n",
    "\n",
    "Alternatively, you can skip the first row as we have seen before, using the `skiprows` argument."
   ]
  },
  {
   "cell_type": "markdown",
   "id": "0967359f-8fb8-4ee2-87ec-132b670c3773",
   "metadata": {},
   "source": [
    "- Complete the first call to `np.loadtxt()` by passing `file` as the first argument.\n",
    "- Execute `print(data[0])` to print the first element of data."
   ]
  },
  {
   "cell_type": "code",
   "execution_count": 3,
   "id": "380ec406-c453-49d2-8408-afaad494f525",
   "metadata": {},
   "outputs": [
    {
     "name": "stdout",
     "output_type": "stream",
     "text": [
      "['Time' 'Percent']\n"
     ]
    }
   ],
   "source": [
    "# Assign filename: file\n",
    "file = 'seaslug.txt'\n",
    "\n",
    "# Import file: data\n",
    "data = np.loadtxt(file, delimiter='\\t', dtype=str)\n",
    "\n",
    "# Print the first element of data\n",
    "print(data[0])"
   ]
  },
  {
   "cell_type": "markdown",
   "id": "93d43e6e-d705-4346-8181-eb1a233c1a04",
   "metadata": {},
   "source": [
    "- Complete the second call to `np.loadtxt()`. The file you're importing is tab-delimited, the datatype is `float`, and you want to skip the first row.\n",
    "- Print the 10th element of `data_float` by completing the `print()` command. Be guided by the previous `print()` call."
   ]
  },
  {
   "cell_type": "code",
   "execution_count": 9,
   "id": "2908a311-6885-496b-b074-9560e578a59f",
   "metadata": {},
   "outputs": [
    {
     "name": "stdout",
     "output_type": "stream",
     "text": [
      "[0.    0.357]\n"
     ]
    }
   ],
   "source": [
    "# Import data as floats and skip the first row: data_float\n",
    "data_float = np.loadtxt(file, delimiter='\\t', dtype=float, skiprows=1)\n",
    "\n",
    "# Print the 10th element of data_float\n",
    "print(data_float[9])"
   ]
  },
  {
   "cell_type": "markdown",
   "id": "4f3d6be3-5cae-47ed-a7cc-8bd1532f8595",
   "metadata": {},
   "source": [
    "- Visualize the data."
   ]
  },
  {
   "cell_type": "code",
   "execution_count": 10,
   "id": "6188313c-3300-4bef-ae6c-1cf8e3872d4c",
   "metadata": {},
   "outputs": [
    {
     "data": {
      "image/png": "[encoded data removed]",
      "text/plain": [
       "<Figure size 432x288 with 1 Axes>"
      ]
     },
     "metadata": {
      "needs_background": "light"
     },
     "output_type": "display_data"
    }
   ],
   "source": [
    "# Plot a scatterplot of the data\n",
    "plt.scatter(data_float[:, 0], data_float[:, 1])\n",
    "plt.xlabel('time (min.)')\n",
    "plt.ylabel('percentage of larvae')\n",
    "plt.show()"
   ]
  },
  {
   "cell_type": "markdown",
   "id": "d4715706-b090-4012-af27-58058a804814",
   "metadata": {},
   "source": [
    "## Working with mixed datatypes (1)\n",
    "Much of the time you will need to import datasets which have different datatypes in different columns; one column may contain strings and another floats, for example. The function `np.loadtxt()` will freak at this. There is another function, `np.genfromtxt()`, which can handle such structures. If we pass `dtype=None` to it, it will figure out what types each column should be.\n",
    "\n",
    "Import `'titanic.csv'` using the function `np.genfromtxt()` as follows:"
   ]
  },
  {
   "cell_type": "code",
   "execution_count": 16,
   "id": "9037adae-4a4b-491d-a2f3-c0a578e08896",
   "metadata": {
    "collapsed": true,
    "jupyter": {
     "outputs_hidden": true
    },
    "tags": []
   },
   "outputs": [
    {
     "name": "stderr",
     "output_type": "stream",
     "text": [
      "<ipython-input-16-44bb271bbc8b>:1: VisibleDeprecationWarning: Reading unicode strings without specifying the encoding argument is deprecated. Set the encoding, use None for the system default.\n",
      "  data = np.genfromtxt('titanic.csv', delimiter=',', names=True, dtype=None)\n"
     ]
    }
   ],
   "source": [
    "data = np.genfromtxt('titanic.csv', delimiter=',', names=True, dtype=None)"
   ]
  },
  {
   "cell_type": "markdown",
   "id": "9375eb75-d718-4859-a181-c7e314e564ce",
   "metadata": {},
   "source": [
    "Here, the first argument is the filename, the second specifies the delimiter `,` and the third argument names tells us there is a header. Because the data are of different types, `data` is an object called a [structured array](https://numpy.org/doc/stable/user/basics.rec.html). Because numpy arrays have to contain elements that are all the same type, the structured array solves this by being a 1D array, where each element of the array is a row of the flat file imported. You can test this by checking out the array's shape in the shell by executing `np.shape(data)`.\n",
    "\n",
    "Accessing rows and columns of structured arrays is super-intuitive: to get the ith row, merely execute `data[i]` and to get the column with name `'Fare'`, execute `data['Fare']`.\n",
    "\n",
    "After importing the Titanic data as a structured array (as per the instructions above), print the entire column with the name `Survived` to the shell. What are the last 4 values of this column?"
   ]
  },
  {
   "cell_type": "code",
   "execution_count": 12,
   "id": "121b7fdf-a89f-4623-9024-f88fba84fe51",
   "metadata": {},
   "outputs": [
    {
     "data": {
      "text/plain": [
       "array([0, 1, 1, 1, 0, 0, 0, 0, 1, 1, 1, 1, 0, 0, 0, 1, 0, 1, 0, 1, 0, 1,\n",
       "       1, 1, 0, 1, 0, 0, 1, 0, 0, 1, 1, 0, 0, 0, 1, 0, 0, 1, 0, 0, 0, 1,\n",
       "       1, 0, 0, 1, 0, 0, 0, 0, 1, 1, 0, 1, 1, 0, 1, 0, 0, 1, 0, 0, 0, 1,\n",
       "       1, 0, 1, 0, 0, 0, 0, 0, 1, 0, 0, 0, 1, 1, 0, 1, 1, 0, 1, 1, 0, 0,\n",
       "       1, 0, 0, 0, 0, 0, 0, 0, 0, 1, 1, 0, 0, 0, 0, 0, 0, 0, 1, 1, 0, 1,\n",
       "       0, 0, 0, 0, 0, 0, 0, 0, 0, 0, 0, 0, 0, 1, 0, 1, 0, 1, 1, 0, 0, 0,\n",
       "       0, 1, 0, 0, 1, 0, 0, 0, 0, 1, 1, 0, 0, 0, 1, 0, 0, 0, 0, 1, 0, 0,\n",
       "       0, 0, 1, 0, 0, 0, 0, 1, 0, 0, 0, 1, 1, 0, 0, 0, 0, 0, 1, 0, 0, 0,\n",
       "       0, 0, 0, 0, 0, 0, 0, 1, 1, 0, 1, 1, 0, 0, 1, 0, 1, 1, 1, 1, 0, 0,\n",
       "       1, 0, 0, 0, 0, 0, 1, 0, 0, 1, 1, 1, 0, 1, 0, 0, 0, 1, 1, 0, 1, 0,\n",
       "       1, 0, 0, 0, 1, 0, 1, 0, 0, 0, 1, 0, 0, 1, 0, 0, 0, 1, 0, 0, 0, 1,\n",
       "       0, 0, 0, 0, 0, 1, 1, 0, 0, 0, 0, 0, 0, 1, 1, 1, 1, 1, 0, 1, 0, 0,\n",
       "       0, 0, 0, 1, 1, 1, 0, 1, 1, 0, 1, 1, 0, 0, 0, 1, 0, 0, 0, 1, 0, 0,\n",
       "       1, 0, 1, 1, 1, 1, 0, 0, 0, 0, 0, 0, 1, 1, 1, 1, 0, 1, 0, 1, 1, 1,\n",
       "       0, 1, 1, 1, 0, 0, 0, 1, 1, 0, 1, 1, 0, 0, 1, 1, 0, 1, 0, 1, 1, 1,\n",
       "       1, 0, 0, 0, 1, 0, 0, 1, 1, 0, 1, 1, 0, 0, 0, 1, 1, 1, 1, 0, 0, 0,\n",
       "       0, 0, 0, 0, 1, 0, 1, 1, 0, 0, 0, 0, 0, 0, 1, 1, 1, 1, 1, 0, 0, 0,\n",
       "       0, 1, 1, 0, 0, 0, 1, 1, 0, 1, 0, 0, 0, 1, 0, 1, 1, 1, 0, 1, 1, 0,\n",
       "       0, 0, 0, 1, 1, 0, 0, 0, 0, 0, 0, 1, 0, 0, 0, 0, 1, 0, 1, 0, 1, 1,\n",
       "       0, 0, 0, 0, 0, 0, 0, 0, 1, 1, 0, 1, 1, 1, 1, 0, 0, 1, 0, 1, 0, 0,\n",
       "       1, 0, 0, 1, 1, 1, 1, 1, 1, 1, 0, 0, 0, 1, 0, 1, 0, 1, 1, 0, 1, 0,\n",
       "       0, 0, 0, 0, 0, 0, 0, 1, 0, 0, 1, 1, 0, 0, 0, 0, 0, 1, 0, 0, 0, 1,\n",
       "       1, 0, 1, 0, 0, 1, 0, 0, 0, 0, 0, 0, 1, 0, 0, 0, 0, 0, 0, 0, 1, 0,\n",
       "       1, 1, 0, 1, 1, 0, 1, 1, 0, 0, 1, 0, 1, 0, 1, 0, 0, 1, 0, 0, 1, 0,\n",
       "       0, 0, 1, 0, 0, 1, 0, 1, 0, 1, 0, 1, 1, 0, 0, 1, 0, 0, 1, 1, 0, 1,\n",
       "       1, 0, 0, 1, 1, 0, 1, 0, 1, 1, 0, 0, 0, 0, 0, 0, 0, 0, 0, 1, 1, 1,\n",
       "       1, 1, 0, 0, 1, 1, 0, 1, 1, 1, 0, 0, 0, 1, 0, 1, 0, 0, 0, 1, 0, 0,\n",
       "       0, 0, 1, 0, 0, 1, 1, 0, 0, 0, 1, 0, 0, 1, 1, 1, 0, 0, 1, 0, 0, 1,\n",
       "       0, 0, 1, 0, 0, 1, 1, 0, 0, 0, 0, 1, 0, 0, 1, 0, 1, 0, 0, 1, 0, 0,\n",
       "       0, 0, 0, 1, 0, 1, 1, 1, 0, 1, 0, 1, 0, 1, 0, 1, 0, 0, 0, 0, 0, 0,\n",
       "       1, 0, 0, 0, 1, 0, 0, 0, 0, 1, 1, 0, 0, 1, 0, 0, 0, 1, 0, 1, 0, 1,\n",
       "       0, 0, 0, 0, 0, 0, 0, 1, 1, 1, 1, 0, 0, 0, 0, 1, 0, 0, 1, 1, 0, 0,\n",
       "       0, 0, 1, 1, 1, 1, 1, 0, 1, 0, 0, 0, 1, 1, 0, 0, 1, 0, 0, 0, 1, 0,\n",
       "       1, 1, 0, 0, 1, 0, 0, 0, 0, 0, 0, 1, 0, 0, 1, 0, 1, 0, 1, 0, 0, 1,\n",
       "       0, 0, 1, 1, 0, 0, 1, 1, 0, 0, 0, 1, 0, 0, 1, 1, 0, 1, 0, 0, 0, 0,\n",
       "       0, 0, 0, 0, 1, 0, 0, 1, 0, 1, 1, 1, 0, 0, 0, 0, 1, 0, 1, 0, 0, 0,\n",
       "       0, 0, 0, 0, 1, 1, 0, 0, 0, 1, 1, 1, 1, 0, 0, 0, 0, 1, 0, 0, 0, 0,\n",
       "       0, 0, 0, 0, 0, 0, 1, 1, 0, 1, 0, 0, 0, 1, 1, 1, 1, 1, 0, 0, 0, 1,\n",
       "       0, 0, 1, 1, 0, 0, 1, 0, 0, 0, 0, 0, 0, 1, 0, 0, 0, 1, 0, 1, 1, 1,\n",
       "       1, 0, 0, 0, 1, 0, 0, 1, 1, 0, 0, 1, 0, 1, 0, 0, 1, 1, 0, 0, 0, 1,\n",
       "       1, 0, 0, 0, 0, 0, 0, 1, 0, 1, 0])"
      ]
     },
     "execution_count": 12,
     "metadata": {},
     "output_type": "execute_result"
    }
   ],
   "source": [
    "data['Survived']"
   ]
  },
  {
   "cell_type": "markdown",
   "id": "62029d8f-8db6-4a7f-9179-26328570e738",
   "metadata": {},
   "source": [
    "**Answer: 1,0,1,0**"
   ]
  },
  {
   "cell_type": "markdown",
   "id": "611badca-c61f-4c3c-9c7c-4433263a7978",
   "metadata": {},
   "source": [
    "## Working with mixed datatypes (2)\n",
    "You have just used `np.genfromtxt()` to import data containing mixed datatypes. There is also another function `np.recfromcsv()` that behaves similarly to `np.genfromtxt()`, except that its default `dtype` is `None`. In this exercise, you'll practice using this to achieve the same result."
   ]
  },
  {
   "cell_type": "markdown",
   "id": "01199e2b-c803-4d4a-85d5-cc2dd7bfc051",
   "metadata": {},
   "source": [
    "- Import `titanic.csv` using the function `np.recfromcsv()` and assign it to the variable, `d`. You'll only need to pass `file` to it because it has the defaults `delimiter=','` and `names=True` in addition to `dtype=None`\n",
    "- Run the remaining code to print the first three entries of the resulting array `d`."
   ]
  },
  {
   "cell_type": "code",
   "execution_count": 14,
   "id": "bc92f25e-35f4-4a7c-8d6a-fda2a0c20b45",
   "metadata": {},
   "outputs": [
    {
     "name": "stdout",
     "output_type": "stream",
     "text": [
      "[(1, 0, 3, b'male', 22., 1, 0, b'A/5 21171',  7.25  , b'', b'S')\n",
      " (2, 1, 1, b'female', 38., 1, 0, b'PC 17599', 71.2833, b'C85', b'C')\n",
      " (3, 1, 3, b'female', 26., 0, 0, b'STON/O2. 3101282',  7.925 , b'', b'S')]\n"
     ]
    }
   ],
   "source": [
    "# Assign the filename: file\n",
    "file = 'titanic.csv'\n",
    "\n",
    "# Import file using np.recfromcsv: d\n",
    "d = np.recfromcsv(file)\n",
    "\n",
    "# Print out first three entries of d\n",
    "print(d[:3])\n"
   ]
  },
  {
   "cell_type": "markdown",
   "id": "83de5784-8932-4f71-9cd6-1c7ca8ca54dd",
   "metadata": {},
   "source": [
    "---"
   ]
  },
  {
   "cell_type": "markdown",
   "id": "26e685d2-070f-43bc-b1c3-1930c5173018",
   "metadata": {},
   "source": [
    "## Importing flat files using pandas\n",
    "NumPy arrays are incredibly powerful and serve a number of essential purposes, they cannot fulfill one of the most basic needs of a Data Scientist.\n",
    "\n",
    "### What a data scientist needs\n",
    "- Two-dimensional labeled data structure(S)\n",
    "- Columns of potentially different types\n",
    "- Manipulate, slice, reshaped, groupby, join, merge\n",
    "- Perform statistics\n",
    "- Work with times series data\n",
    "\n",
    "### Pandas and the DataFrame\n",
    "- What problem does pandas solve?\n",
    "    - \"Python has long been great for data munging and preparation, but less so for data analysis and modeling. pandas helps fill this gap, enabling you to carry out your entire data analysis workflow in Python without having to switch to a more domain specific language like R.\"\n",
    "    \n",
    "The data structure most relevant to the data manipulation and analysis workflow that pandas offers is the dataframe and it is the Pythonic analogue of R’s dataframe.\n",
    "\n",
    "As Hadley Wickham (Statistician and Chief Scientist at RStudio Inc.) said, \"A matrix has rows and columns. A data frame has observations and variables.\""
   ]
  },
  {
   "cell_type": "markdown",
   "id": "3a0da5c7-61ce-4b5f-b80e-d6f4b623caaa",
   "metadata": {},
   "source": [
    "### Manipulating pandas DataFrames\n",
    "- Exploratory data analusis\n",
    "- Data wrangling\n",
    "- Data preprocessing\n",
    "- Building models\n",
    "- Visualization\n",
    "- Standard and best practice to use pandas"
   ]
  },
  {
   "cell_type": "markdown",
   "id": "306d70c6-f528-41f1-ba6e-df11340120a2",
   "metadata": {},
   "source": [
    "## Using pandas to import flat files as DataFrames (1)\n",
    "In the last exercise, you were able to import flat files containing columns with different datatypes as `numpy` arrays. However, the `DataFrame` object in pandas is a more appropriate structure in which to store such data and, thankfully, we can easily import files of mixed data types as DataFrames using the pandas functions `read_csv()` and `read_table()`."
   ]
  },
  {
   "cell_type": "markdown",
   "id": "17c5d58f-dd8e-4d9b-a038-3dc9a1736efe",
   "metadata": {},
   "source": [
    "- Import the `pandas` package using the alias `pd`.\n",
    "- Read `titanic.csv` into a DataFrame called `df`.\n",
    "- In a `print()` call, view the head of the DataFrame."
   ]
  },
  {
   "cell_type": "code",
   "execution_count": 18,
   "id": "6c88b12f-6f07-40a0-87b1-c51da4d101ba",
   "metadata": {},
   "outputs": [
    {
     "data": {
      "text/html": [
       "<div>\n",
       "<style scoped>\n",
       "    .dataframe tbody tr th:only-of-type {\n",
       "        vertical-align: middle;\n",
       "    }\n",
       "\n",
       "    .dataframe tbody tr th {\n",
       "        vertical-align: top;\n",
       "    }\n",
       "\n",
       "    .dataframe thead th {\n",
       "        text-align: right;\n",
       "    }\n",
       "</style>\n",
       "<table border=\"1\" class=\"dataframe\">\n",
       "  <thead>\n",
       "    <tr style=\"text-align: right;\">\n",
       "      <th></th>\n",
       "      <th>PassengerId</th>\n",
       "      <th>Survived</th>\n",
       "      <th>Pclass</th>\n",
       "      <th>Sex</th>\n",
       "      <th>Age</th>\n",
       "      <th>SibSp</th>\n",
       "      <th>Parch</th>\n",
       "      <th>Ticket</th>\n",
       "      <th>Fare</th>\n",
       "      <th>Cabin</th>\n",
       "      <th>Embarked</th>\n",
       "    </tr>\n",
       "  </thead>\n",
       "  <tbody>\n",
       "    <tr>\n",
       "      <th>0</th>\n",
       "      <td>1</td>\n",
       "      <td>0</td>\n",
       "      <td>3</td>\n",
       "      <td>male</td>\n",
       "      <td>22.0</td>\n",
       "      <td>1</td>\n",
       "      <td>0</td>\n",
       "      <td>A/5 21171</td>\n",
       "      <td>7.2500</td>\n",
       "      <td>NaN</td>\n",
       "      <td>S</td>\n",
       "    </tr>\n",
       "    <tr>\n",
       "      <th>1</th>\n",
       "      <td>2</td>\n",
       "      <td>1</td>\n",
       "      <td>1</td>\n",
       "      <td>female</td>\n",
       "      <td>38.0</td>\n",
       "      <td>1</td>\n",
       "      <td>0</td>\n",
       "      <td>PC 17599</td>\n",
       "      <td>71.2833</td>\n",
       "      <td>C85</td>\n",
       "      <td>C</td>\n",
       "    </tr>\n",
       "    <tr>\n",
       "      <th>2</th>\n",
       "      <td>3</td>\n",
       "      <td>1</td>\n",
       "      <td>3</td>\n",
       "      <td>female</td>\n",
       "      <td>26.0</td>\n",
       "      <td>0</td>\n",
       "      <td>0</td>\n",
       "      <td>STON/O2. 3101282</td>\n",
       "      <td>7.9250</td>\n",
       "      <td>NaN</td>\n",
       "      <td>S</td>\n",
       "    </tr>\n",
       "    <tr>\n",
       "      <th>3</th>\n",
       "      <td>4</td>\n",
       "      <td>1</td>\n",
       "      <td>1</td>\n",
       "      <td>female</td>\n",
       "      <td>35.0</td>\n",
       "      <td>1</td>\n",
       "      <td>0</td>\n",
       "      <td>113803</td>\n",
       "      <td>53.1000</td>\n",
       "      <td>C123</td>\n",
       "      <td>S</td>\n",
       "    </tr>\n",
       "    <tr>\n",
       "      <th>4</th>\n",
       "      <td>5</td>\n",
       "      <td>0</td>\n",
       "      <td>3</td>\n",
       "      <td>male</td>\n",
       "      <td>35.0</td>\n",
       "      <td>0</td>\n",
       "      <td>0</td>\n",
       "      <td>373450</td>\n",
       "      <td>8.0500</td>\n",
       "      <td>NaN</td>\n",
       "      <td>S</td>\n",
       "    </tr>\n",
       "  </tbody>\n",
       "</table>\n",
       "</div>"
      ],
      "text/plain": [
       "   PassengerId  Survived  Pclass     Sex   Age  SibSp  Parch  \\\n",
       "0            1         0       3    male  22.0      1      0   \n",
       "1            2         1       1  female  38.0      1      0   \n",
       "2            3         1       3  female  26.0      0      0   \n",
       "3            4         1       1  female  35.0      1      0   \n",
       "4            5         0       3    male  35.0      0      0   \n",
       "\n",
       "             Ticket     Fare Cabin Embarked  \n",
       "0         A/5 21171   7.2500   NaN        S  \n",
       "1          PC 17599  71.2833   C85        C  \n",
       "2  STON/O2. 3101282   7.9250   NaN        S  \n",
       "3            113803  53.1000  C123        S  \n",
       "4            373450   8.0500   NaN        S  "
      ]
     },
     "metadata": {},
     "output_type": "display_data"
    }
   ],
   "source": [
    "# Import pandas as pd\n",
    "import pandas as pd\n",
    "\n",
    "# Assign the filename: file\n",
    "file = 'titanic.csv'\n",
    "\n",
    "# Read the file into a DataFrame: df\n",
    "df = pd.read_csv(file)\n",
    "\n",
    "# View the head of the DataFrame\n",
    "display(df.head())"
   ]
  },
  {
   "cell_type": "markdown",
   "id": "3dd05607-746a-4e72-b123-cf1eeb615880",
   "metadata": {},
   "source": [
    "## Using pandas to import flat files as DataFrames (2)\n",
    "In the last exercise, you were able to import flat files into a `pandas` DataFrame. As a bonus, it is then straightforward to retrieve the corresponding `numpy` array using the attribute `values`. You'll now have a chance to do this using the MNIST dataset, which is available as `mnist_digits.csv`"
   ]
  },
  {
   "cell_type": "markdown",
   "id": "9013bfc1-9094-4090-b625-964ab2daf3c0",
   "metadata": {},
   "source": [
    "- Import the first 5 rows of the file into a DataFrame using the function `pd.read_csv()` and assign the result to `data`. You'll need to use the arguments `nrows` and `header` (there is no header in this file).\n",
    "- Build a `numpy` array from the resulting DataFrame in `data` and assign to `data_array`.\n",
    "- Execute `print(type(data_array))` to print the datatype of `data_array`."
   ]
  },
  {
   "cell_type": "code",
   "execution_count": 22,
   "id": "82d7e96c-64a7-460e-84d7-dc2c2c58d97f",
   "metadata": {},
   "outputs": [
    {
     "name": "stdout",
     "output_type": "stream",
     "text": [
      "<class 'numpy.ndarray'>\n"
     ]
    }
   ],
   "source": [
    "# Assign the filename: file\n",
    "file = 'mnist_digits.csv'\n",
    "\n",
    "# Read the first 5 rows of the file into a DataFrame: data\n",
    "data = pd.read_csv(file, nrows=5, header=None).head()\n",
    "\n",
    "# Build a numpy array from the DataFrame: data_array\n",
    "data_array = data.values\n",
    "\n",
    "# Print the datatype of data_array to the shell\n",
    "print(type(data_array))"
   ]
  },
  {
   "cell_type": "markdown",
   "id": "fddfb523-0195-4a35-a0cd-ac49fc93e653",
   "metadata": {},
   "source": [
    "## Customizing your pandas import\n",
    "The `pandas` package is also great at dealing with many of the issues you will encounter when importing data as a data scientist, such as comments occurring in flat files, empty lines and missing values. Note that missing values are also commonly referred to as `NA` or `NaN`. To wrap up this chapter, you're now going to import a slightly corrupted copy of the Titanic dataset `titanic_corrupt.txt`, which contains comments after the character `'#'` is tab-delimited."
   ]
  },
  {
   "cell_type": "markdown",
   "id": "38a38d86-025b-4d1c-a04f-1a30791a0940",
   "metadata": {},
   "source": [
    "- Complete the `sep` (the `pandas` version of `delim`), `comment` and `na_values` arguments of `pd.read_csv()`. `comment` takes characters that comments occur after in the file, which in this case is `'#'`. `na_values` takes a list of strings to recognize as `NA`/`NaN`, in this case the string `'Nothing'`.\n",
    "- Execute the rest of the code to print the head of the resulting DataFrame and plot the histogram of the `'Age'` of passengers aboard the Titanic."
   ]
  },
  {
   "cell_type": "code",
   "execution_count": 28,
   "id": "107fb53b-2287-4eab-9f52-9526936c5042",
   "metadata": {},
   "outputs": [
    {
     "data": {
      "text/html": [
       "<div>\n",
       "<style scoped>\n",
       "    .dataframe tbody tr th:only-of-type {\n",
       "        vertical-align: middle;\n",
       "    }\n",
       "\n",
       "    .dataframe tbody tr th {\n",
       "        vertical-align: top;\n",
       "    }\n",
       "\n",
       "    .dataframe thead th {\n",
       "        text-align: right;\n",
       "    }\n",
       "</style>\n",
       "<table border=\"1\" class=\"dataframe\">\n",
       "  <thead>\n",
       "    <tr style=\"text-align: right;\">\n",
       "      <th></th>\n",
       "      <th>PassengerId</th>\n",
       "      <th>Survived</th>\n",
       "      <th>Pclass</th>\n",
       "      <th>Sex</th>\n",
       "      <th>Age</th>\n",
       "      <th>SibSp</th>\n",
       "      <th>Parch</th>\n",
       "      <th>Ticket</th>\n",
       "      <th>Fare</th>\n",
       "      <th>Cabin</th>\n",
       "      <th>Embarked</th>\n",
       "    </tr>\n",
       "  </thead>\n",
       "  <tbody>\n",
       "    <tr>\n",
       "      <th>0</th>\n",
       "      <td>1</td>\n",
       "      <td>0</td>\n",
       "      <td>3</td>\n",
       "      <td>male</td>\n",
       "      <td>22.0</td>\n",
       "      <td>1</td>\n",
       "      <td>0</td>\n",
       "      <td>A/5 21171</td>\n",
       "      <td>7.250</td>\n",
       "      <td>NaN</td>\n",
       "      <td>S</td>\n",
       "    </tr>\n",
       "    <tr>\n",
       "      <th>1</th>\n",
       "      <td>2</td>\n",
       "      <td>1</td>\n",
       "      <td>1</td>\n",
       "      <td>female</td>\n",
       "      <td>38.0</td>\n",
       "      <td>1</td>\n",
       "      <td>0</td>\n",
       "      <td>PC 17599</td>\n",
       "      <td>NaN</td>\n",
       "      <td>NaN</td>\n",
       "      <td>NaN</td>\n",
       "    </tr>\n",
       "    <tr>\n",
       "      <th>2</th>\n",
       "      <td>3</td>\n",
       "      <td>1</td>\n",
       "      <td>3</td>\n",
       "      <td>female</td>\n",
       "      <td>26.0</td>\n",
       "      <td>0</td>\n",
       "      <td>0</td>\n",
       "      <td>STON/O2. 3101282</td>\n",
       "      <td>7.925</td>\n",
       "      <td>NaN</td>\n",
       "      <td>S</td>\n",
       "    </tr>\n",
       "    <tr>\n",
       "      <th>3</th>\n",
       "      <td>4</td>\n",
       "      <td>1</td>\n",
       "      <td>1</td>\n",
       "      <td>female</td>\n",
       "      <td>35.0</td>\n",
       "      <td>1</td>\n",
       "      <td>0</td>\n",
       "      <td>113803</td>\n",
       "      <td>53.100</td>\n",
       "      <td>C123</td>\n",
       "      <td>S</td>\n",
       "    </tr>\n",
       "    <tr>\n",
       "      <th>4</th>\n",
       "      <td>5</td>\n",
       "      <td>0</td>\n",
       "      <td>3</td>\n",
       "      <td>male</td>\n",
       "      <td>35.0</td>\n",
       "      <td>0</td>\n",
       "      <td>0</td>\n",
       "      <td>373450</td>\n",
       "      <td>8.050</td>\n",
       "      <td>NaN</td>\n",
       "      <td>S</td>\n",
       "    </tr>\n",
       "  </tbody>\n",
       "</table>\n",
       "</div>"
      ],
      "text/plain": [
       "   PassengerId  Survived  Pclass     Sex   Age  SibSp  Parch  \\\n",
       "0            1         0       3    male  22.0      1      0   \n",
       "1            2         1       1  female  38.0      1      0   \n",
       "2            3         1       3  female  26.0      0      0   \n",
       "3            4         1       1  female  35.0      1      0   \n",
       "4            5         0       3    male  35.0      0      0   \n",
       "\n",
       "             Ticket    Fare Cabin Embarked  \n",
       "0         A/5 21171   7.250   NaN       S   \n",
       "1          PC 17599     NaN   NaN      NaN  \n",
       "2  STON/O2. 3101282   7.925   NaN        S  \n",
       "3            113803  53.100  C123        S  \n",
       "4            373450   8.050   NaN        S  "
      ]
     },
     "metadata": {},
     "output_type": "display_data"
    },
    {
     "data": {
      "image/png": "[encoded data removed]",
      "text/plain": [
       "<Figure size 432x288 with 1 Axes>"
      ]
     },
     "metadata": {
      "needs_background": "light"
     },
     "output_type": "display_data"
    }
   ],
   "source": [
    "# Import matplotlib.pyplot as plt\n",
    "import matplotlib.pyplot as plt\n",
    "\n",
    "# Assign filename: file\n",
    "file = 'titanic_corrupt.txt'\n",
    "\n",
    "# Import file: data\n",
    "data = pd.read_csv(file, sep='\\t', comment='#', na_values='Nothing')\n",
    "\n",
    "# View the head of the DataFrame\n",
    "display(data.head())\n",
    "\n",
    "# Plot 'Age' variable in a histogram\n",
    "pd.DataFrame.hist(data[['Age']])\n",
    "plt.xlabel('Age (years)')\n",
    "plt.ylabel('count')\n",
    "plt.show()\n"
   ]
  },
  {
   "cell_type": "code",
   "execution_count": null,
   "id": "c5b05337-dcf9-4be1-ba76-28a104ee02a7",
   "metadata": {},
   "outputs": [],
   "source": []
  }
 ],
 "metadata": {
  "kernelspec": {
   "display_name": "Python 3",
   "language": "python",
   "name": "python3"
  },
  "language_info": {
   "codemirror_mode": {
    "name": "ipython",
    "version": 3
   },
   "file_extension": ".py",
   "mimetype": "text/x-python",
   "name": "python",
   "nbconvert_exporter": "python",
   "pygments_lexer": "ipython3",
   "version": "3.8.8"
  }
 },
 "nbformat": 4,
 "nbformat_minor": 5
}
