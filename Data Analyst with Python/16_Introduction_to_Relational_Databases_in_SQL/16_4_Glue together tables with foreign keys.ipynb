{
 "cells": [
  {
   "cell_type": "markdown",
   "id": "9714b46a-8a07-4cc0-a25a-541abb632cc7",
   "metadata": {},
   "source": [
    "# 4. Glue together tables with foreign keys\n",
    "**In the final chapter, you'll leverage foreign keys to connect tables and establish relationships that will greatly benefit your data quality. And you'll run ad hoc analyses on your new database.**"
   ]
  },
  {
   "cell_type": "markdown",
   "id": "58186b5b-9ba3-4a5a-ac74-8ea9dea6a9cd",
   "metadata": {},
   "source": [
    "## Model 1:N relationships with foreign keys\n",
    "Now it's time to make use of key constraints.\n",
    "\n",
    "### The current database model\n",
    "Here's your current database model. The three entity types `professors`, `organizations`, and `universities` all have primary keys – but `affiliations` doesn't, for a specific reason that will be revealed in this chapter.\n",
    "\n",
    "### The next database model\n",
    "Next up, you'll model a so-called relationship type between `professors` and `universities`. As you know, in your database, each professor works for a university. In the ER diagram, this is drawn with a rhombus. The small numbers specify the cardinality of the relationship: a professor works for at most one university, while a university can have any number of professors working for it – even zero.\n",
    "\n",
    "### Implementing relationships with foreign keys\n",
    "Such relationships are implemented with foreign keys. Foreign keys are designated columns that point to a primary key of another table. There are some restrictions for foreign keys. First, the domain and the data type must be the same as one of the primary key. Secondly, only foreign key values are allowed that exist as values in the primary key of the referenced table. This is the actual foreign key constraint, also called \"referential integrity\". You'll dig into referential integrity at the end of this chapter. Lastly, a foreign key is not necessarily an actual key, because duplicates and `NULL` values are allowed. \n",
    "\n",
    "### A query\n",
    "As you can see, the column `university_shortname` of `professors` has the same domain as the `id` column of the `universities` table. If you go through each record of `professors`, you can always find the respective `id` in the `universities` table. So both criteria for a foreign key in the table `professors` referencing `universities` are fulfilled. Also, you see that `university_shortname` is not really a key because there are duplicates. For example, the id `EPF` and `UBE` occur three times each.\n",
    "\n",
    "### Specifying foreign keys\n",
    "When you create a new table, you can specify a foreign key similarly to a primary key. Let's look at two example tables. First, we create a `manufacturers` table with a primary key called `name`. Then we create a table `cars`, that also has a primary key, called `model`. As each car is produced by a certain manufacturer, it makes sense to also add a foreign key to this table. We do that by writing the `REFERENCES` keyword, followed by the referenced table and its primary key in brackets. From now on, only cars with valid and existing manufacturers may be entered into that table. Trying to enter models with manufacturers that are not yet stored in the `manufacturers` table won't be possible, thanks to the foreign key constraint.\n",
    "```sql\n",
    "CREATE TABLE manufactures (\n",
    "\tname varchar(255) PRIMARY KEY);\n",
    "\n",
    "INSERT INTO manufacturers\n",
    "VALUES ('Ford'), ('VW'), ('GM');\n",
    "\n",
    "CREATE TABLE cars (\n",
    "\tmodel varchar(255) PRIMARY KEY,\n",
    "\tmanufacturer_name varchar(255) REFERENCES manufacturers (name));\n",
    "\n",
    "INSERT INTO cars\n",
    "VALUES ('Ranger', 'Ford'), ('Beetle', 'VW');\n",
    "```\n",
    "\n",
    "### Specifying foreign keys to existing tables\n",
    "Again, the syntax for adding foreign keys to existing tables is the same as the one for adding primary keys and unique constraints.\n",
    "```sql\n",
    "ALTER TABLE a\n",
    "ADD CONSTRAINT a_fkey FOREIGN KEY (b_id) REFERENCES b (id);\n",
    "```"
   ]
  },
  {
   "cell_type": "markdown",
   "id": "6bbbd056-2e2f-44a7-8dab-8f850d3e131d",
   "metadata": {},
   "source": [
    "## REFERENCE a table with a FOREIGN KEY\n",
    "In your database, you want the `professors` table to reference the `universities` table. You can do that by specifying a column in `professors` table that references a column in the `universities` table.\n",
    "\n",
    "The syntax for that looks like this:\n",
    "```sql\n",
    "ALTER TABLE a \n",
    "ADD CONSTRAINT a_fkey FOREIGN KEY (b_id) REFERENCES b (id);\n",
    "```\n",
    "Table `a` should now refer to table `b`, via `b_id`, which points to `id`. `a_fkey` is, as usual, a constraint name you can choose on your own.\n",
    "\n",
    "Pay attention to the **naming convention** employed here: Usually, a foreign key referencing another primary key with name `id` is named `x_id`, where `x` is the name of the referencing table in the singular form."
   ]
  },
  {
   "cell_type": "markdown",
   "id": "3fe383e2-f397-466e-ad01-cc0448223c68",
   "metadata": {},
   "source": [
    "- Rename the `university_shortname` column to `university_id` in `professors`."
   ]
  },
  {
   "cell_type": "markdown",
   "id": "4380b0ff-c3ab-455a-afba-b28f0128a6db",
   "metadata": {},
   "source": [
    "```sql\n",
    "-- Rename the university_shortname column\n",
    "ALTER TABLE professors\n",
    "RENAME university_shortname TO university_id;\n",
    "```"
   ]
  },
  {
   "cell_type": "markdown",
   "id": "e8c9cc2a-7cbc-4471-a18a-143c35f4361c",
   "metadata": {},
   "source": [
    "- Add a foreign key on `university_id` column in `professors` that references the `id` column in `universities`.\n",
    "- Name this foreign key `professors_fkey`."
   ]
  },
  {
   "cell_type": "markdown",
   "id": "429aa573-9625-4037-80cd-2c20554a9447",
   "metadata": {},
   "source": [
    "```sql\n",
    "-- Add a foreign key on professors referencing universities\n",
    "ALTER TABLE professors \n",
    "ADD CONSTRAINT professors_fkey FOREIGN KEY (university_id) REFERENCES universities (id);\n",
    "```"
   ]
  },
  {
   "cell_type": "markdown",
   "id": "321afd49-a4ac-43cf-8549-a4fab3e84a5f",
   "metadata": {},
   "source": [
    "*Now, the `professors` table has a link to the `universities` table. Each professor belongs to exactly one university.*"
   ]
  },
  {
   "cell_type": "markdown",
   "id": "92e3cde8-ace7-424e-af24-74e32c77c41a",
   "metadata": {},
   "source": [
    "## Explore foreign key constraints\n",
    "Foreign key constraints help you to keep order in your database mini-world. In your database, for instance, only professors belonging to Swiss universities should be allowed, as only Swiss universities are part of the `universities` table.\n",
    "\n",
    "The foreign key on `professors` referencing `universities` you just created thus makes sure that only existing universities can be specified when inserting new data. Let's test this."
   ]
  },
  {
   "cell_type": "markdown",
   "id": "23532bf0-4c3c-428a-bbca-91be6c60bb25",
   "metadata": {},
   "source": [
    "- Run the sample code and have a look at the error message."
   ]
  },
  {
   "cell_type": "markdown",
   "id": "22752446-d898-4099-a3cc-08248e8f5709",
   "metadata": {},
   "source": [
    "```sql\n",
    "-- Try to insert a new professor\n",
    "INSERT INTO professors (firstname, lastname, university_id)\n",
    "VALUES ('Albert', 'Einstein', 'MIT');\n",
    "```"
   ]
  },
  {
   "cell_type": "markdown",
   "id": "b235a5e2-b367-487e-b5a1-56109f1736a3",
   "metadata": {},
   "source": [
    "```\n",
    "insert or update on table \"professors\" violates foreign key constraint \"professors_fkey\"\n",
    "DETAIL:  Key (university_id)=(MIT) is not present in table \"universities\".\n",
    "```"
   ]
  },
  {
   "cell_type": "markdown",
   "id": "2a7b6f50-1a8a-4c4a-8f63-6a1dbcf9d47e",
   "metadata": {},
   "source": [
    "- Correct the `university_id` so that it actually reflects where Albert Einstein wrote his dissertation and became a professor – at the University of Zurich (UZH)."
   ]
  },
  {
   "cell_type": "markdown",
   "id": "faea979c-e731-4f05-bbf6-59d37a1a2295",
   "metadata": {},
   "source": [
    "```sql\n",
    "INSERT INTO professors (firstname, lastname, university_id)\n",
    "VALUES ('Albert', 'Einstein', 'UZH');\n",
    "```"
   ]
  },
  {
   "cell_type": "markdown",
   "id": "7c9b934b-2b06-4dc9-8f88-cdef0f64d093",
   "metadata": {},
   "source": [
    "*As you can see, inserting a professor with non-existing university IDs violates the foreign key constraint you've just added. This also makes sure that all universities are spelled equally – adding to data consistency.*"
   ]
  },
  {
   "cell_type": "markdown",
   "id": "7ead65b0-ad49-4604-927b-962a39ebccaa",
   "metadata": {},
   "source": [
    "## JOIN tables linked by a foreign key\n",
    "Let's join these two tables to analyze the data further.\n",
    "\n",
    "Here's a quick recap on how joins generally work:\n",
    "```sql\n",
    "SELECT ...\n",
    "FROM table_a\n",
    "JOIN table_b\n",
    "ON ...\n",
    "WHERE ...\n",
    "```\n",
    "While foreign keys and primary keys are not strictly necessary for join queries, they greatly help by telling you what to expect. For instance, you can be sure that records referenced from table A will always be present in table B – so a join from table A will always find something in table B. If not, the foreign key constraint would be violated."
   ]
  },
  {
   "cell_type": "markdown",
   "id": "7205759c-ed70-400b-bb53-346014f27df7",
   "metadata": {},
   "source": [
    "- `JOIN` `professor`s with `universities` on `professors.university_id = universities.id`, i.e., retain all records where the foreign key of `professors` is equal to the primary key of `universities`.\n",
    "- Filter for `university_city = 'Zurich'`."
   ]
  },
  {
   "cell_type": "markdown",
   "id": "71261143-0296-4206-a4bf-632b71529fb0",
   "metadata": {},
   "source": [
    "```sql\n",
    "-- Select all professors working for universities in the city of Zurich\n",
    "SELECT professors.lastname, universities.id, universities.university_city\n",
    "FROM professors\n",
    "JOIN universities\n",
    "ON professors.university_id = universities.id\n",
    "WHERE universities.university_city = 'Zurich';\n",
    "```"
   ]
  },
  {
   "cell_type": "markdown",
   "id": "c66f59d0-3cef-4626-a5cf-719e88a15860",
   "metadata": {},
   "source": [
    "```\n",
    "lastname | id  | university_city\n",
    "---------|-----|----------------\n",
    "Abhari   | ETH | Zurich\n",
    "Axhausen | ETH | Zurich\n",
    "Baschera | ETH | Zurich\n",
    "Basin    | ETH | Zurich\n",
    "Bechtold | ETH | Zurich\n",
    "...        ...   ...\n",
    "Widmayer | ETH | Zurich\n",
    "Widmer   | ETH | Zurich\n",
    "Wolfrum  | ETH | Zurich\n",
    "Wüest    | ETH | Zurich\n",
    "von Krogh| ETH | Zurich\n",
    "\n",
    "Showing 72 out of 72 rows\n",
    "```"
   ]
  },
  {
   "cell_type": "markdown",
   "id": "792567fd-90c7-40b5-adf2-5e9f8fa29625",
   "metadata": {},
   "source": [
    "---\n",
    "## Model more complex relationships\n",
    "In the last few exercises, you made your first steps in modeling and implementing 1:N-relationships. Now it's time to look at more complex relationships between tables.\n",
    "\n",
    "### The current database model\n",
    "So you've added a 1:N-relationship between professors and universities. Such relationships have to be implemented with one foreign key in the table that has at most one foreign entity associated. In this case, that's the `professors` table, as professors cannot have more than one university associated. Now, what about affiliations? We know that a professor can have more than one affiliation with organizations, for instance, as a chairman of a bank and as a president of a golf club. On the other hand, organizations can also have more than one professor connected to them. Let's look at the entity-relationship diagram that models this.\n",
    "\n",
    "### The final database model\n",
    "There are a couple of things that are new. First of all, a new relationship between organizations and professors was added. This is an N:M relationship, not an 1:N relationship as with professors and universities. This depicts the fact that a professor can be affiliated with more than one organization and vice versa. Also, it has an own attribute, the function. Remember that each affiliation comes with a function, for instance, \"chairman\". The second thing you'll notice is that the affiliations entity type disappeared altogether. For clarity, I still included it in the diagram, but it's no longer needed. However, you'll still have four tables: Three for the entities \"professors\", \"universities\" and \"organizations\", and one for the N:M-relationship between \"professors\" and \"organizations\".\n",
    "\n",
    "### How to implement N:M-relationships\n",
    "Such a relationship is implemented with an ordinary database table that contains two foreign keys that point to both connected entities. \n",
    "\n",
    "In this case, that's a foreign key pointing to the `professors.id` column, and one pointing to the `organizations.id` column. Also, additional attributes, in this case `function`, need to be included. If you were to create that relationship table from scratch, you would define it as shown. Note that `professor_id` is stored as `integer`, as the primary key it refers to has the type `serial`, which is also an integer. On the other hand, `organization_id` has `varchar(256)` as type, conforming to the primary key in the `organizations` table. One last thing: Notice that **no primary key is defined** here because a professor can theoretically have multiple functions in one organization. One could define the combination of all three attributes as the primary key in order to have some form of unique constraint in that table, but that would be a bit over the top.\n",
    "```sql\n",
    "CREATE TABLE affiliations (\n",
    "    professor_id integer REFERENCES professors (id),\n",
    "    organization_id varchar(256) REFERENCES organizations (id),\n",
    "    function varchar(256)\n",
    ");\n",
    "```"
   ]
  },
  {
   "cell_type": "markdown",
   "id": "92b4c9f0-8453-45c7-a832-623e7c721043",
   "metadata": {},
   "source": [
    "## Add foreign keys to the \"affiliations\" table\n",
    "At the moment, the `affiliations` table has the structure {`firstname`, `lastname`, `function`, `organization`}, as you can see in the preview at the bottom right. In the next three exercises, you're going to turn this table into the form {`professor_id`, `organization_id`, `function`}, with `professor_id` and `organization_id` being foreign keys that point to the respective tables.\n",
    "\n",
    "You're going to transform the `affiliations` table *in-place*, i.e., without creating a temporary table to cache your intermediate results."
   ]
  },
  {
   "cell_type": "markdown",
   "id": "6eaaaee8-ae12-454e-813d-b659b962c624",
   "metadata": {},
   "source": [
    "- Add a `professor_id` column with `integer` data type to `affiliations`, and declare it to be a foreign key that references the `id` column in `professors`."
   ]
  },
  {
   "cell_type": "markdown",
   "id": "6351e7de-5f58-407a-b7b3-68a3350a7306",
   "metadata": {},
   "source": [
    "```sql\n",
    "-- Add a professor_id column\n",
    "ALTER TABLE affiliations\n",
    "ADD COLUMN professor_id integer REFERENCES professors (id);\n",
    "```"
   ]
  },
  {
   "cell_type": "markdown",
   "id": "7f86b017-e753-4d80-894f-4b384ee4d8f3",
   "metadata": {},
   "source": [
    "- Rename the `organization` column in `affiliations` to `organization_id`."
   ]
  },
  {
   "cell_type": "markdown",
   "id": "665a41c3-ded7-4b00-a3c9-068215e2b88e",
   "metadata": {},
   "source": [
    "```sql\n",
    "-- Rename the organization column to organization_id\n",
    "ALTER TABLE affiliations\n",
    "RENAME organization TO organization_id;\n",
    "```"
   ]
  },
  {
   "cell_type": "markdown",
   "id": "a0013f49-13f8-404c-bccc-18b6312cb558",
   "metadata": {},
   "source": [
    "- Add a foreign key constraint on `organization_id` so that it references the `id` column in `organizations`."
   ]
  },
  {
   "cell_type": "markdown",
   "id": "faa56585-cdbd-4de3-992b-9d8fb181607f",
   "metadata": {},
   "source": [
    "```sql\n",
    "-- Add a foreign key on organization_id\n",
    "ALTER TABLE affiliations\n",
    "ADD CONSTRAINT affiliations_organization_fkey FOREIGN KEY (organization_id) REFERENCES organizations (id);\n",
    "```"
   ]
  },
  {
   "cell_type": "markdown",
   "id": "98a5b1b2-7e80-40f3-8ea0-5ddd059df488",
   "metadata": {},
   "source": [
    "*Making `organization_id` a foreign key worked flawlessly because these organizations actually exist in the `organizations` table. That was only the first part, though. Now it's time to update `professor_id` in `affiliations` – so that it correctly refers to the corresponding professors.*"
   ]
  },
  {
   "cell_type": "markdown",
   "id": "ea55746c-8868-473d-9c60-9432363cb87b",
   "metadata": {},
   "source": [
    "## Populate the \"professor_id\" column\n",
    "Now it's time to also populate `professors_id`. You'll take the ID directly from `professors`.\n",
    "\n",
    "Here's a way to update columns of a table based on values in another table:\n",
    "```sql\n",
    "UPDATE table_a\n",
    "SET column_to_update = table_b.column_to_update_from\n",
    "FROM table_b\n",
    "WHERE condition1 AND condition2 AND ...;\n",
    "```\n",
    "This query does the following:\n",
    "\n",
    "1. For each row in `table_a`, find the corresponding row in `table_b` where `condition1`, `condition2`, etc., are met.\n",
    "2. Set the value of `column_to_update` to the value of `column_to_update_from` (from that corresponding row).\n",
    "\n",
    "The conditions usually compare other columns of both tables, e.g. `table_a.some_column = table_b.some_column`. Of course, this query only makes sense if there is only one matching row in `table_b`."
   ]
  },
  {
   "cell_type": "markdown",
   "id": "4e1ddd83-4bdb-411f-a617-82e761e9f45e",
   "metadata": {},
   "source": [
    "- First, have a look at the current state of `affiliations` by fetching 5 rows and all columns."
   ]
  },
  {
   "cell_type": "markdown",
   "id": "0cc164ad-7c1a-4ad9-b64c-5a56de93ba89",
   "metadata": {},
   "source": [
    "```sql\n",
    "-- Have a look at the 5 first rows of affiliations\n",
    "SELECT * \n",
    "FROM affiliations\n",
    "LIMIT 5;\n",
    "```"
   ]
  },
  {
   "cell_type": "markdown",
   "id": "5be7bb0e-b89a-4af6-a27b-77e7eb3a774c",
   "metadata": {},
   "source": [
    "```\n",
    "firstname       | lastname | function                                         | organization_id                | professor_id\n",
    "----------------|----------|--------------------------------------------------|--------------------------------|-------------\n",
    "Karl            | Aberer   | Chairman of L3S Advisory Board                   | L3S Advisory Board             | null\n",
    "Karl            | Aberer   | Member Conseil of Zeno-Karl Schindler Foundation | Zeno-Karl Schindler Foundation | null\n",
    "Karl            | Aberer   | Member of Conseil Fondation IDIAP                | Fondation IDIAP                | null\n",
    "Karl            | Aberer   | Panel Member                                     | SNF Ambizione Program          | null\n",
    "Reza Shokrollah | Abhari   | Aufsichtsratsmandat                              | PNE Wind AG                    | null\n",
    "```"
   ]
  },
  {
   "cell_type": "markdown",
   "id": "7889bcfb-3361-4453-97c0-b59939639ef3",
   "metadata": {},
   "source": [
    "- Update the `professor_id` column with the corresponding value of the `id` column in `professors`.\n",
    "*\"Corresponding\" means rows in `professors` where the `firstname` and `lastname` are identical to the ones in `affiliations`.*"
   ]
  },
  {
   "cell_type": "markdown",
   "id": "8f99333e-8f13-4dfb-bdc1-cbc9f9ed21db",
   "metadata": {},
   "source": [
    "```sql\n",
    "-- Set professor_id to professors.id where firstname, lastname correspond to rows in professors\n",
    "UPDATE affiliations\n",
    "SET professor_id = professors.id\n",
    "FROM professors\n",
    "WHERE affiliations.firstname = professors.firstname \n",
    "    AND affiliations.lastname = professors.lastname;\n",
    "```"
   ]
  },
  {
   "cell_type": "markdown",
   "id": "5e07f2ed-0cad-4077-b903-ab7c6a209c2c",
   "metadata": {},
   "source": [
    "- Check out the first 5 rows and all columns of `affiliations` again. Have the `professor_id`s been correctly matched?"
   ]
  },
  {
   "cell_type": "markdown",
   "id": "2d62f7a8-3950-4265-9662-0bc438ea2172",
   "metadata": {},
   "source": [
    "```sql\n",
    "-- Have a look at the 10 first rows of affiliations again\n",
    "SELECT *\n",
    "FROM affiliations\n",
    "LIMIT 5;\n",
    "```"
   ]
  },
  {
   "cell_type": "markdown",
   "id": "ca81474c-1e05-47e3-a451-f3e535980adb",
   "metadata": {},
   "source": [
    "```\n",
    "firstname | lastname   | function                      | organization_id                                                                            | professor_id\n",
    "----------|------------|-------------------------------|--------------------------------------------------------------------------------------------|--------------\n",
    "Peter     | Schneemann | NA                            | CIHA                                                                                       | 442\n",
    "Heinz     | Zimmermann | Mitglied des Stiftungsrates   | Stiftung zur Förderung des Schweizerischen Wirtschaftsarchivs am WWZ der Universität Basel | 539\n",
    "Heinz     | Zimmermann | Mitglied des Verwaltungsrates | Remaco AG, Basel                                                                           | 539\n",
    "Heinz     | Zimmermann | Mitglied des Verwaltungsrates | Versicherung der Schweizer Ärzte, Bern                                                     | 539\n",
    "Heinz     | Zimmermann | Mitglied des Verwaltungsrates | vescore Solutions, St. Gallen                                                              | 539\n",
    "```"
   ]
  },
  {
   "cell_type": "markdown",
   "id": "4659dcd1-ca00-43cc-9476-cc0c237a36d0",
   "metadata": {},
   "source": [
    "*As you can see, the correct `professors.id` has been inserted into `professor_id` for each record, thanks to the matching `firstname` and `lastname` in both tables.*"
   ]
  },
  {
   "cell_type": "markdown",
   "id": "edcd2ff6-92d6-4787-a806-1c6fc3bcf9f0",
   "metadata": {},
   "source": [
    "## Drop \"firstname\" and \"lastname\"\n",
    "The `firstname` and `lastname` columns of `affiliations` were used to establish a link to the `professors` table in the last exercise – so the appropriate professor IDs could be copied over. This only worked because there is exactly one corresponding professor for each row in `affiliations`. In other words: {`firstname`, `lastname`} is a candidate key of `professors` – a unique combination of columns.\n",
    "\n",
    "It isn't one in `affiliations` though, because, as said in the video, professors can have more than one affiliation.\n",
    "\n",
    "Because `professors` are referenced by `professor_id` now, the `firstname` and `lastname` columns are no longer needed, so it's time to drop them. After all, one of the goals of a database is to reduce redundancy where possible."
   ]
  },
  {
   "cell_type": "markdown",
   "id": "790e7e9d-31dd-4020-a0e3-61422612abec",
   "metadata": {},
   "source": [
    "- Drop the `firstname` and `lastname` columns from the `affiliations` table."
   ]
  },
  {
   "cell_type": "markdown",
   "id": "3a55ab8b-80cc-42a4-8118-c250875674ef",
   "metadata": {},
   "source": [
    "```sql\n",
    "-- Drop the firstname column\n",
    "ALTER TABLE affiliations\n",
    "DROP COLUMN firstname;\n",
    "\n",
    "-- Drop the lastname column\n",
    "ALTER TABLE affiliations\n",
    "DROP COLUMN lastname;\n",
    "```"
   ]
  },
  {
   "cell_type": "markdown",
   "id": "4e9fb5df-1a65-403a-9037-e7cef2ceedb2",
   "metadata": {},
   "source": [
    "*Now the `affiliations` table that models the N:M-relationship between `professors` and `organizations` is finally complete.*"
   ]
  },
  {
   "cell_type": "markdown",
   "id": "488e0fdf-e280-4505-9ac7-99467a627f87",
   "metadata": {},
   "source": [
    "## Referential integrity\n",
    "We'll now talk about one of the most important concepts in database systems: **referential integrity**. \n",
    "\n",
    "It's a very simple concept that states that a record referencing another record in another table must always refer to an existing record. \n",
    "\n",
    "In other words: **A record in table A cannot point to a record in table B that does not exist**. Referential integrity is a constraint that always concerns **two tables**, and is **enforced through foreign keys**, as you've seen in the previous lessons of this chapter. So if you define a foreign key in the table `professors` referencing the table `universities`, referential integrity is held from `professors` to `universities`.\n",
    "\n",
    "### Referential integrity violations\n",
    "Referential integrity can be violated in two ways. \n",
    "\n",
    "Let's say table A references table B. So if a record in table B that is already referenced from table A is deleted, you have a violation. \n",
    "\n",
    "On the other hand, if you try to insert a record in table A that refers to something that does not exist in table B, you also violate the principle. And that's the main reason for foreign keys – they will throw errors and stop you from accidentally doing these things.\n",
    "\n",
    "### Dealing with violations\n",
    "However, throwing an error is not the only option. If you specify a foreign key on a column, you can actually tell the database system what should happen if an entry in the referenced table is deleted. By default, the `ON DELETE NO ACTION` keyword is automatically appended to a foreign key definition, like in the example here. \n",
    "```sql\n",
    "CREATE TABLE a (\n",
    "    id integer PRIMARY KEY,\n",
    "    column_a varchar(64),\n",
    "    ...,\n",
    "    b_id integer REFERENCES b (id) ON DELETE NO ACTION\n",
    ");\n",
    "```\n",
    "\n",
    "This means that if you try to delete a record in table B which is referenced from table A, the system will throw an error. \n",
    "\n",
    "However, there are other options. For example, there's the `CASCADE` option, which will first allow the deletion of the record in table B, and then will automatically delete all referencing records in table A. So that deletion is cascaded.\n",
    "```sql\n",
    "CREATE TABLE a (\n",
    "    id integer PRIMARY KEY,\n",
    "    column_a varchar(64),\n",
    "    ...,\n",
    "    b_id integer REFERENCES b (id) ON DELETE CASCADE\n",
    ");\n",
    "```\n",
    "\n",
    "### Dealing with violations, contd.\n",
    "There are even more options. The `RESTRICT` option is almost identical to the `NO ACTION` option. The differences are technical and beyond the scope of this course. More interesting is the `SET NULL` option. It will set the value of the foreign key for this record to `NULL`. The `SET DEFAULT` option only works if you have specified a default value for a column. It automatically changes the referencing column to a certain default value if the referenced record is deleted. Setting default values is also beyond the scope of this course, but this option is still good to know."
   ]
  },
  {
   "cell_type": "markdown",
   "id": "8a210c28-448e-443b-8a89-cea55fdf8b83",
   "metadata": {},
   "source": [
    "## Referential integrity violations\n",
    "Given the current state of your database, what happens if you execute the following SQL statement?\n",
    "```sql\n",
    "DELETE FROM universities WHERE id = 'EPF';\n",
    "```"
   ]
  },
  {
   "cell_type": "markdown",
   "id": "c7038847-bda2-4ee2-8c6f-2f72b38faa96",
   "metadata": {},
   "source": [
    "```\n",
    "update or delete on table \"universities\" violates foreign key constraint \"professors_fkey\" on table \"professors\"\n",
    "DETAIL:  Key (id)=(EPF) is still referenced from table \"professors\".\n",
    "```"
   ]
  },
  {
   "cell_type": "markdown",
   "id": "aac0751e-e40c-422f-b117-4483e4c8c8c1",
   "metadata": {},
   "source": [
    "1. ~It throws an error because the university with ID \"EPF\" does not exist.~\n",
    "2. ~The university with ID \"EPF\" is deleted.~\n",
    "3. ~It fails because referential integrity from `universities` to `professors` is violated.~\n",
    "4. **It fails because referential integrity from `professors` to `universities` is violated.**\n",
    "\n",
    "**Answer: 4** *You defined a foreign key on `professors.university_id` that references `universities.id`, so referential integrity is said to hold from `professors` to `universities`.*"
   ]
  },
  {
   "cell_type": "markdown",
   "id": "2deb3a59-d1eb-4505-955e-40eee3877874",
   "metadata": {},
   "source": [
    "## Change the referential integrity behavior of a key\n",
    "So far, you implemented three foreign key constraints:\n",
    "\n",
    "1. `professors.university_id` to `universities.id`\n",
    "2. `affiliations.organization_id` to `organizations.id`\n",
    "3. `affiliations.professor_id` to `professors.id`\n",
    "\n",
    "These foreign keys currently have the behavior `ON DELETE NO ACTION`. Here, you're going to change that behavior for the column referencing `organizations` from `affiliations`. If an organization is deleted, all its affiliations (by any professor) should also be deleted.\n",
    "\n",
    "Altering a key constraint doesn't work with `ALTER COLUMN`. Instead, you have to **`DROP` the key constraint** and then **`ADD` a new one** with a different `ON DELETE` behavior.\n",
    "\n",
    "For deleting constraints, though, you need to know their name. This information is also stored in `information_schema`."
   ]
  },
  {
   "cell_type": "markdown",
   "id": "adfac435-7a45-4403-a6bc-68fa3de2ecb9",
   "metadata": {},
   "source": [
    "- Have a look at the existing foreign key constraints by querying `table_constraints` in `information_schema`."
   ]
  },
  {
   "cell_type": "markdown",
   "id": "979fd990-5cb2-49cf-be15-dc20a5e2e77a",
   "metadata": {},
   "source": [
    "```sql\n",
    "-- Identify the correct constraint name\n",
    "SELECT constraint_name, table_name, constraint_type\n",
    "FROM information_schema.table_constraints\n",
    "WHERE constraint_type = 'FOREIGN KEY';\n",
    "```"
   ]
  },
  {
   "cell_type": "markdown",
   "id": "d8d7b1ef-57ec-4cb2-896f-347f785d66ae",
   "metadata": {},
   "source": [
    "```\n",
    "constraint_name                   | table_name   | constraint_type\n",
    "----------------------------------|--------------|----------------\n",
    "affiliations_organization_id_fkey | affiliations | FOREIGN KEY\n",
    "affiliations_professor_id_fkey    | affiliations | FOREIGN KEY\n",
    "professors_fkey                   | professors   | FOREIGN KEY\n",
    "```"
   ]
  },
  {
   "cell_type": "markdown",
   "id": "0fb4d746-47ab-4624-baa1-89ead39af86f",
   "metadata": {},
   "source": [
    "- Delete the `affiliations_organization_id_fkey` foreign key constraint in `affiliations`."
   ]
  },
  {
   "cell_type": "markdown",
   "id": "ac54d331-c13d-480d-b195-21818467b725",
   "metadata": {},
   "source": [
    "```sql\n",
    "-- Drop the right foreign key constraint\n",
    "ALTER TABLE affiliations\n",
    "DROP CONSTRAINT affiliations_organization_id_fkey;\n",
    "```"
   ]
  },
  {
   "cell_type": "markdown",
   "id": "1896b2ca-1e42-485e-a6fa-39a0ccf34c62",
   "metadata": {},
   "source": [
    "- Add a new foreign key to `affiliations` that `CASCADE`s deletion if a referenced record is deleted from `organizations`. Name it `affiliations_organization_id_fkey`."
   ]
  },
  {
   "cell_type": "markdown",
   "id": "d8dd8d28-a1a6-40c0-9cb6-6f06b513ea62",
   "metadata": {},
   "source": [
    "```sql\n",
    "-- Add a new foreign key constraint from affiliations to organizations which cascades deletion\n",
    "ALTER TABLE affiliations\n",
    "ADD CONSTRAINT affiliations_organization_id_fkey FOREIGN KEY (organization_id) REFERENCES organizations (id) ON DELETE CASCADE;\n",
    "```"
   ]
  },
  {
   "cell_type": "markdown",
   "id": "8dc14f4b-dc68-4cc1-9521-b0c02b2e2e59",
   "metadata": {},
   "source": [
    "- Run the `DELETE` and `SELECT` queries to double check that the deletion cascade actually works."
   ]
  },
  {
   "cell_type": "markdown",
   "id": "ef471d08-570e-494f-a8d5-57a93ad8b277",
   "metadata": {},
   "source": [
    "```sql\n",
    "-- Delete an organization \n",
    "DELETE FROM organizations \n",
    "WHERE id = 'CUREM';\n",
    "\n",
    "-- Check that no more affiliations with this organization exist\n",
    "SELECT * FROM affiliations\n",
    "WHERE organization_id = 'CUREM';\n",
    "```"
   ]
  },
  {
   "cell_type": "markdown",
   "id": "5894ded4-3e0c-4fe6-8666-398f4f21e08a",
   "metadata": {},
   "source": [
    "```\n",
    "function   | organization_id   | professor_id\n",
    "-----------|-------------------|--------------\n",
    "```"
   ]
  },
  {
   "cell_type": "markdown",
   "id": "4fc8c768-b4d9-41b9-8b2c-08d29a62c9f1",
   "metadata": {},
   "source": [
    "*As you can see, whenever an organization referenced by an affiliation is deleted, the affiliations also gets deleted. It is your job as database designer to judge whether this is a sensible configuration. Sometimes, setting values to `NULL` or to restrict deletion altogether might make more sense.*"
   ]
  },
  {
   "cell_type": "markdown",
   "id": "4b79be61-87cf-4b4b-9484-e1beb0f2e84f",
   "metadata": {},
   "source": [
    "---\n",
    "## Roundup\n",
    "Let's quickly revise what you've done throughout this course.\n",
    "\n",
    "### How you've transformed the database\n",
    "You started with a simple table with a lot of redundancy. You might be used to such tables when working with flat files like CSVs or Excel files. Throughout the course, you transformed it step by step into the database schema on the right – only by executing SQL queries. You've defined column data types, added primary keys and foreign keys, and through that, specified relationships between tables. All these measures will guarantee better data consistency and therefore quality. This is especially helpful if you add new data to the database but also makes analyzing the data easier.\n",
    "\n",
    "### The database ecosystem\n",
    "To go further from here, it's useful to look at the bigger picture for a minute. In this course, you've transformed a database. You did that with PostgreSQL, which is also called a \"Database Management System\", or DBMS. The DBMS and one or more databases together form the \"Database System\". The DBMS exposes a query interface where you can run ad-hoc analyses and queries with SQL. However, you can also access this interface through other client applications. You could, for example, program a Python script that connects to the database, loads data from it, and visualizes it.\n",
    "\n",
    "In the remainder of this course, you'll no longer manipulate data in your database system, but employ some analysis queries on your database. This will be a quick repetition of what you've learned in previous SQL courses such as \"Intro to SQL for Data Science\", but it will also demonstrate the advantages of having a database instead of a flat file in the first place."
   ]
  },
  {
   "cell_type": "markdown",
   "id": "d31f1df2-c4f7-4d26-9fe1-ef6bd7b8cf3d",
   "metadata": {},
   "source": [
    "## Count affiliations per university\n",
    "Now that your data is ready for analysis, let's run some exemplary SQL queries on the database. You'll now use already known concepts such as grouping by columns and joining tables.\n",
    "\n",
    "In this exercise, you will find out which university has the most affiliations (through its professors). For that, you need both `affiliations` and `professors` tables, as the latter also holds the `university_id`.\n",
    "\n",
    "As a quick repetition, remember that joins have the following structure:\n",
    "```sql\n",
    "SELECT table_a.column1, table_a.column2, table_b.column1, ... \n",
    "FROM table_a\n",
    "JOIN table_b \n",
    "ON table_a.column = table_b.column\n",
    "```\n",
    "This results in a combination of `table_a` and `table_b`, but only with rows where `table_a.column` is equal to `table_b.column`."
   ]
  },
  {
   "cell_type": "markdown",
   "id": "2c4fb1a6-c317-488f-b791-3a10cf4a5e0a",
   "metadata": {},
   "source": [
    "- Count the number of total affiliations by university.\n",
    "- Sort the result by that count, in descending order."
   ]
  },
  {
   "cell_type": "markdown",
   "id": "9a498b47-6c7c-4cf6-9186-26be81b8ce84",
   "metadata": {},
   "source": [
    "```sql\n",
    "-- Count the total number of affiliations per university\n",
    "SELECT COUNT(*), professors.university_id \n",
    "FROM affiliations\n",
    "JOIN professors\n",
    "ON affiliations.professor_id = professors.id\n",
    "-- Group by the university ids of professors\n",
    "GROUP BY professors.university_id \n",
    "ORDER BY count DESC;\n",
    "```"
   ]
  },
  {
   "cell_type": "markdown",
   "id": "16c5b5e0-c6df-45db-a334-7623bb7a02a6",
   "metadata": {},
   "source": [
    "```\n",
    "count | university_id\n",
    "------|--------------\n",
    "579   | EPF\n",
    "273   | USG\n",
    "162   | UBE\n",
    "133   | ETH\n",
    "75    | UBA\n",
    "40    | UFR\n",
    "36    | UNE\n",
    "35    | ULA\n",
    "33    | UGE\n",
    "7     | UZH\n",
    "4     | USI\n",
    "```"
   ]
  },
  {
   "cell_type": "markdown",
   "id": "c90ef160-857e-4763-b8c9-6bbee3880805",
   "metadata": {},
   "source": [
    "*As you can see, the count of affiliations is completely different from university to university.*"
   ]
  },
  {
   "cell_type": "markdown",
   "id": "1e347523-674d-4488-b3b7-bd71ae7aef73",
   "metadata": {},
   "source": [
    "## Join all the tables together\n",
    "In this last exercise, your task is to *find the university city of the professor with the most affiliations in the sector \"Media & communication\"*.\n",
    "\n",
    "For this,\n",
    "\n",
    "1. you need to join all the tables,\n",
    "2. group by some column,\n",
    "3. and then use selection criteria to get only the rows in the correct sector.\n",
    "\n",
    "Let's do this in three steps!"
   ]
  },
  {
   "cell_type": "markdown",
   "id": "f77f4db1-8cfe-4490-8ef1-5be886bdcd71",
   "metadata": {},
   "source": [
    "- Join all tables in the database (starting with `affiliations`, `professors`, `organizations`, and `universities`) and look at the result."
   ]
  },
  {
   "cell_type": "markdown",
   "id": "5dd1cb08-fc58-490f-89d9-2e89dd27a296",
   "metadata": {},
   "source": [
    "```sql\n",
    "-- Join all tables\n",
    "SELECT *\n",
    "FROM affiliations\n",
    "JOIN professors\n",
    "ON affiliations.professor_id = professors.id\n",
    "JOIN organizations\n",
    "ON affiliations.organization_id = organizations.id\n",
    "JOIN universities\n",
    "ON professors.university_id = universities.id;\n",
    "```"
   ]
  },
  {
   "cell_type": "markdown",
   "id": "232b4be6-d090-4d54-86b2-a6632d23e3cf",
   "metadata": {},
   "source": [
    "- Now group the result by organization sector, professor, and university city.\n",
    "- Count the resulting number of rows."
   ]
  },
  {
   "cell_type": "markdown",
   "id": "299a7fdf-7b13-4fbc-9251-59916077ebe8",
   "metadata": {},
   "source": [
    "```sql\n",
    "-- Group the table by organization sector, professor ID and university city\n",
    "SELECT COUNT(*), organizations.organization_sector, professors.id, universities.university_city\n",
    "FROM affiliations\n",
    "JOIN professors\n",
    "ON affiliations.professor_id = professors.id\n",
    "JOIN organizations\n",
    "ON affiliations.organization_id = organizations.id\n",
    "JOIN universities\n",
    "ON professors.university_id = universities.id\n",
    "GROUP BY organizations.organization_sector, professors.id, universities.university_city;\n",
    "```"
   ]
  },
  {
   "cell_type": "markdown",
   "id": "2390ee07-644f-4481-a591-ed01c7c1c150",
   "metadata": {},
   "source": [
    "```\n",
    "count | organization_sector                                        | id  | university_city\n",
    "------|------------------------------------------------------------|-----|----------------\n",
    "1     | Not classifiable                                           | 47  | Basel\n",
    "2     | Media & communication                                      | 361 | Saint Gallen\n",
    "1     | Education & research                                       | 140 | Zurich\n",
    "2     | Industry, construction & agriculture                       | 536 | Saint Gallen\n",
    "1     | Politics, administration, justice system & security sector | 188 | Lausanne\n",
    "1     | Consulting, public relations, legal & trust                | 12  | Saint Gallen\n",
    "1     | Society, Social, Culture & Sports                          | 290 | Bern\n",
    "1     | Education & research                                       | 356 | Lausanne\n",
    "1     | Education & research                                       | 94  | Bern\n",
    "1     | Commerce, trade & services                                 | 489 | Lausanne\n",
    "...\n",
    "Showing 10 out of 929 rows\n",
    "```\n",
    "\n"
   ]
  },
  {
   "cell_type": "markdown",
   "id": "4cc3bce3-62bb-42cd-a59d-18e54c57b44a",
   "metadata": {},
   "source": [
    "- Only retain rows with \"Media & communication\" as organization sector, and sort the table by count, in descending order."
   ]
  },
  {
   "cell_type": "markdown",
   "id": "68522f9c-0a26-412b-bdfc-65acb69df8bc",
   "metadata": {},
   "source": [
    "```sql\n",
    "-- Filter the table and sort it\n",
    "SELECT COUNT(*), organizations.organization_sector, \n",
    "professors.id, universities.university_city\n",
    "FROM affiliations\n",
    "JOIN professors\n",
    "ON affiliations.professor_id = professors.id\n",
    "JOIN organizations\n",
    "ON affiliations.organization_id = organizations.id\n",
    "JOIN universities\n",
    "ON professors.university_id = universities.id\n",
    "WHERE organizations.organization_sector = 'Media & communication'\n",
    "GROUP BY organizations.organization_sector, professors.id, universities.university_city\n",
    "ORDER BY count DESC;\n",
    "```"
   ]
  },
  {
   "cell_type": "markdown",
   "id": "efd45ac1-49c6-4ac9-a4a5-9c5ed518d4b0",
   "metadata": {},
   "source": [
    "```\n",
    "count | organization_sector   | id  | university_city\n",
    "------|-----------------------|-----|----------------\n",
    "4     | Media & communication | 538 | Lausanne\n",
    "3     | Media & communication | 365 | Saint Gallen\n",
    "3     | Media & communication | 36  | Lausanne\n",
    "2     | Media & communication | 329 | Zurich\n",
    "2     | Media & communication | 523 | Saint Gallen\n",
    "2     | Media & communication | 425 | Lausanne\n",
    "2     | Media & communication | 505 | Lausanne\n",
    "2     | Media & communication | 42  | Saint Gallen\n",
    "2     | Media & communication | 361 | Saint Gallen\n",
    "1     | Media & communication | 261 | Lausanne\n",
    "...\n",
    "Showing 10 out of 35 rows\n",
    "```"
   ]
  },
  {
   "cell_type": "markdown",
   "id": "9fe89edc-1876-4b14-9b39-0ec25ae7f6c6",
   "metadata": {},
   "source": [
    "*The professor with `id` 538 has the most affiliations in the \"Media & communication\" sector, and he or she lives in the city of Lausanne. Thanks to your database design, you can be sure that the data you've just queried is consistent. Of course, you could also put `university_city` and `organization_sector` in their own tables, making the data model even more formal. However, in database design, you have to strike a balance between modeling overhead, desired data consistency, and usability for queries like the one you've just wrote.*"
   ]
  }
 ],
 "metadata": {
  "kernelspec": {
   "display_name": "Python 3",
   "language": "python",
   "name": "python3"
  },
  "language_info": {
   "codemirror_mode": {
    "name": "ipython",
    "version": 3
   },
   "file_extension": ".py",
   "mimetype": "text/x-python",
   "name": "python",
   "nbconvert_exporter": "python",
   "pygments_lexer": "ipython3",
   "version": "3.8.8"
  }
 },
 "nbformat": 4,
 "nbformat_minor": 5
}
