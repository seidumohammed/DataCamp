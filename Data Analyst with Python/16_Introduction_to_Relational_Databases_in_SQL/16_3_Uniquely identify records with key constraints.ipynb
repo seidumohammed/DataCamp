{
 "cells": [
  {
   "cell_type": "markdown",
   "id": "5634519c-9be1-4cc3-8cba-a1ce9b6c8239",
   "metadata": {},
   "source": [
    "# 3. Uniquely identify records with key constraints\n",
    "**Now let’s get into the best practices of database engineering. It's time to add primary and foreign keys to the tables. These are two of the most important concepts in databases, and are the building blocks you’ll use to establish relationships between tables.**"
   ]
  },
  {
   "cell_type": "markdown",
   "id": "1048d7c1-6ebc-434e-bbe3-88013e966a12",
   "metadata": {},
   "source": [
    "## Keys and superkeys\n",
    "Let's discuss key constraints. They are a very important concept in database systems, so we'll spend a whole chapter on them.\n",
    "\n",
    "### The current database model\n",
    "Let's have a look at your current database model first. In the last chapter, you specified attribute constraints, first and foremost data types. You also set not-null and unique constraints on certain attributes. This didn't actually change the structure of the model, so it still looks the same.\n",
    "\n",
    "### The database model with primary keys\n",
    "By the end of this chapter, the database will look slightly different. You'll add so-called primary keys to three different tables. You'll name them `id`. In the entity-relationship diagram, keys are denoted by underlined attribute names. Notice that you'll add a whole new attribute to the `professors` table, and you'll modify existing columns of the `organizations` and `universities` tables.\n",
    "\n",
    "### What is a key?\n",
    "Before we go into the nitty-gritty of what a primary key actually is, let's look at keys in general. Typically a database table has an attribute, or a combination of multiple attributes, whose values are unique across the whole table. Such attributes identify a record uniquely. Normally, a table, as a whole, only contains unique records, meaning that the combination of all attributes is a key in itself. However, it's not called a key, but a **superkey**, if attributes from that combination can be removed, and the attributes still uniquely identify records. If all possible attributes have been removed but the records are still uniquely identifiable by the remaining attributes, we speak of a minimal superkey. This is the actual key. So a **key** is always minimal. Let's look at an example.\n",
    "\n",
    "### An example\n",
    "Here's an example that I found in a textbook on database systems.\n",
    "```\n",
    "     license_no     | serial_no |    make    |  model  | year\n",
    "--------------------+-----------+------------+---------+------\n",
    " Texas ABC-739      | A69352    | Ford       | Mustang |    2\n",
    " Florida TVP-347    | B43696    | Oldsmobile | Cutlass |    5\n",
    " New York MPO-22    | X83554    | Oldsmobile | Delta   |    1\n",
    " California 432-TFY | C43742    | Mercedes   | 190-D   |   99\n",
    " California RSK-629 | Y82935    | Toyota     | Camry   |    4\n",
    " Texas RSK-629      | U028365   | Jaguar     | XJS     |    4\n",
    "```\n",
    "Obviously, the table shows six different cars, so the combination of all attributes is a superkey. If we remove the `year` attribute from the superkey, the six records are still unique, so it's still a superkey. Actually, there are a lot of possible superkeys in this example.\n",
    "\n",
    "However, there are only four minimal superkeys, and these are `license_no`, `serial_no`, and `model`, as well as the combination of `make` and `year`. Remember that superkeys are minimal if no attributes can be removed without losing the uniqueness property. This is trivial for K1 to 3, as they only consist of a single attribute. Also, if we remove `year` from K4, `make` would contain duplicates, and would, therefore, be no longer suited as key. These four minimal superkeys are also called candidate keys. Why candidate keys? In the end, there can only be one key for the table, which has to be chosen from the candidates. "
   ]
  },
  {
   "cell_type": "markdown",
   "id": "d24941a8-efae-44da-96c2-894b074f0620",
   "metadata": {},
   "source": [
    "## Get to know SELECT COUNT DISTINCT\n",
    "Your database doesn't have any defined keys so far, and you don't know which columns or combinations of columns are suited as keys.\n",
    "\n",
    "There's a simple way of finding out whether a certain column (or a combination) contains only unique values – and thus identifies the records in the table.\n",
    "\n",
    "You already know the `SELECT DISTINCT` query. Now you just have to wrap everything within the `COUNT()` function and PostgreSQL will return the number of unique rows for the given columns:\n",
    "```sql\n",
    "SELECT COUNT(DISTINCT(column_a, column_b, ...))\n",
    "FROM table;\n",
    "```"
   ]
  },
  {
   "cell_type": "markdown",
   "id": "8fdaeeed-912e-4bd9-b007-8b5d8a178bc5",
   "metadata": {},
   "source": [
    "- First, find out the number of rows in `universities`."
   ]
  },
  {
   "cell_type": "markdown",
   "id": "419d3c01-17a6-4179-9fbd-c5f6edf075f5",
   "metadata": {},
   "source": [
    "```sql\n",
    "-- Count the number of rows in universities\n",
    "SELECT COUNT(*) \n",
    "FROM universities;\n",
    "```"
   ]
  },
  {
   "cell_type": "markdown",
   "id": "e78e48c0-2d70-4d7a-b9f3-a179ffab4129",
   "metadata": {},
   "source": [
    "```\n",
    "11\n",
    "```"
   ]
  },
  {
   "cell_type": "markdown",
   "id": "13884c95-f280-43e2-a06f-d940bd0d590a",
   "metadata": {},
   "source": [
    "- Then, find out how many unique values there are in the `university_city` column."
   ]
  },
  {
   "cell_type": "markdown",
   "id": "3e794c7e-ec7c-42e3-8aca-127eb073c31e",
   "metadata": {},
   "source": [
    "```sql\n",
    "-- Count the number of distinct values in the university_city column\n",
    "SELECT COUNT(DISTINCT(university_city)) \n",
    "FROM universities;\n",
    "```"
   ]
  },
  {
   "cell_type": "markdown",
   "id": "58e52be6-b646-480b-bcc9-d9633475c7ef",
   "metadata": {},
   "source": [
    "```\n",
    "9\n",
    "```"
   ]
  },
  {
   "cell_type": "markdown",
   "id": "4c918976-1c00-420a-8270-80350a05afa8",
   "metadata": {},
   "source": [
    "*So, obviously, the university_city column wouldn't lend itself as a key. Why? Because there are only 9 distinct values, but the table has 11 rows.*"
   ]
  },
  {
   "cell_type": "markdown",
   "id": "3c046c23-3a94-48c3-9f00-b3b261ac95a2",
   "metadata": {},
   "source": [
    "## Identify keys with SELECT COUNT DISTINCT\n",
    "There's a very basic way of finding out what qualifies for a key in an existing, populated table:\n",
    "\n",
    "1. Count the distinct records for all possible combinations of columns. If the resulting number `x` equals the number of all rows in the table for a combination, you have discovered a superkey.\n",
    "\n",
    "2. Then remove one column after another until you can no longer remove columns without seeing the number `x` decrease. If that is the case, you have discovered a (candidate) key.\n",
    "\n",
    "The table `professors` has 551 rows. It has only one possible candidate key, which is a combination of two attributes. You might want to try different combinations using the \"Run code\" button. Once you have found the solution, you can submit your answer."
   ]
  },
  {
   "cell_type": "markdown",
   "id": "566699d5-74c2-4278-85ef-7c80816b0238",
   "metadata": {},
   "source": [
    "- Using the above steps, identify the *candidate* key by trying out different combination of columns."
   ]
  },
  {
   "cell_type": "markdown",
   "id": "3df376b0-c294-49ce-a8ca-7ba67840306b",
   "metadata": {},
   "source": [
    "```sql\n",
    "-- Try out different combinations\n",
    "SELECT COUNT(DISTINCT(firstname, lastname)) \n",
    "FROM professors;\n",
    "```"
   ]
  },
  {
   "cell_type": "markdown",
   "id": "d3a49e3a-d835-4720-b2c7-daab69a72b7d",
   "metadata": {},
   "source": [
    "```\n",
    "count\n",
    "-----\n",
    "551\n",
    "```"
   ]
  },
  {
   "cell_type": "markdown",
   "id": "ce4588ae-0b6f-4763-8263-7d241c3a882e",
   "metadata": {},
   "source": [
    "*Indeed, the only combination that uniquely identifies professors is `{firstname, lastname}`. `{firstname, lastname, university_shortname}` is a superkey, and all other combinations give duplicate values.*"
   ]
  },
  {
   "cell_type": "markdown",
   "id": "f28ba97c-fcfc-44b0-8d66-ced64cf718c0",
   "metadata": {},
   "source": [
    "---\n",
    "## Primary keys\n",
    "Now it's time to look at an actual use case for superkeys, keys, and candidate keys.\n",
    "\n",
    "### Primary keys\n",
    "Primary keys are one of the most important concepts in database design. Almost every database table should have a primary key – chosen by you from the set of candidate keys. The main purpose, as already explained, is uniquely identifying records in a table. This makes it easier to reference these records from other tables, for instance – a concept you will go through in the next and last chapter. You might have already guessed it, but primary keys need to be defined on columns that don't accept duplicate or null values. Lastly, primary key constraints are time-invariant, meaning that they must hold for the current data in the table – but also for any future data that the table might hold. It is therefore wise to choose columns where values will always be unique and not null.\n",
    "\n",
    "### Specifying primary keys\n",
    "So these two tables accept exactly the same data, however, the latter has an explicit primary key specified. \n",
    "```sql\n",
    "CREATE TABLE products (\n",
    "\tproduct_no integer UNIQUE NIT NULL,\n",
    "\tname text,\n",
    "\tprice numeric\n",
    ");\n",
    "CREATE TABLE products (\n",
    "\tproduct_no integer PRIMARY KEY,\n",
    "\tname text,\n",
    "\tprice numeric\n",
    ");\n",
    "```\n",
    "\n",
    "As you can see, specifying primary keys upon table creation is very easy. Primary keys can also be specified like so: This notation is necessary if you want to designate more than one column as the primary key. Beware, that's still only one primary key, it is just formed by the combination of two columns. Ideally, though, primary keys consist of as few columns as possible.\n",
    "```sql\n",
    "CREATE TABLE example (\n",
    "\ta integer,\n",
    "\tb integer,\n",
    "\tc integer,\n",
    "\tPRIMARY KEY (a, c)\n",
    ");\n",
    "```\n",
    "Adding primary key constraints to existing tables is the same procedure as adding unique constraints, which you might remember from the last chapter. As with unique constraints, you have to give the constraint a certain name.\n",
    "```sql\n",
    "ALTER TABLE table_name\n",
    "ADD CONSTRAINT some_name PRIMARY KEY (column_name)\n",
    "```\n",
    "\n",
    "### Your database\n",
    "In the exercises that follow, you will add primary keys to the tables \"universities\" and \"organizations\". You will add a special type of primary key, a so-called surrogate key, to the table \"professors\" in the last part of this chapter."
   ]
  },
  {
   "cell_type": "markdown",
   "id": "357c7dd0-ebbc-40e1-b538-f83a1ead228a",
   "metadata": {},
   "source": [
    "## Identify the primary key\n",
    "As the database designer, you have to make a wise choice as to which column should be the primary key.\n",
    "```\n",
    "     license_no     | serial_no |    make    |  model  | year\n",
    "--------------------+-----------+------------+---------+------\n",
    " Texas ABC-739      | A69352    | Ford       | Mustang |    2\n",
    " Florida TVP-347    | B43696    | Oldsmobile | Cutlass |    5\n",
    " New York MPO-22    | X83554    | Oldsmobile | Delta   |    1\n",
    " California 432-TFY | C43742    | Mercedes   | 190-D   |   99\n",
    " California RSK-629 | Y82935    | Toyota     | Camry   |    4\n",
    " Texas RSK-629      | U028365   | Jaguar     | XJS     |    4\n",
    "```\n",
    "Which of the following column or column combinations could best serve as primary key?\n",
    "\n",
    "1. ~PK = {make}~\n",
    "2. ~PK = {model, year}~\n",
    "3. **PK = {license_no}**\n",
    "4. ~PK = {year, make}~\n",
    "\n",
    "**Answer: 3** *A primary key consisting solely of \"license_no\" is probably the wisest choice, as license numbers are certainly unique across all registered cars in a country.*"
   ]
  },
  {
   "cell_type": "markdown",
   "id": "36d9e94c-7ab8-4ee7-a7d6-53c8193ebdb7",
   "metadata": {},
   "source": [
    "## ADD key CONSTRAINTs to the tables\n",
    "Two of the tables in your database already have well-suited candidate keys consisting of one column each: `organizations` and `universities` with the `organization` and `university_shortname` columns, respectively.\n",
    "\n",
    "In this exercise, you'll rename these columns to `id` using the `RENAME COLUMN` command and then specify primary key constraints for them. This is as straightforward as adding unique constraints.\n",
    "```sql\n",
    "ALTER TABLE table_name\n",
    "ADD CONSTRAINT some_name PRIMARY KEY (column_name)\n",
    "```\n",
    "Note that you can also specify more than one column in the brackets."
   ]
  },
  {
   "cell_type": "markdown",
   "id": "a0e81c72-a6b0-4a58-b513-d9142eee7104",
   "metadata": {},
   "source": [
    "```sql\n",
    "-- Rename the organization column to id\n",
    "ALTER TABLE  organizations\n",
    "RENAME organization TO id;\n",
    "\n",
    "-- Make id a primary key\n",
    "ALTER TABLE organizations\n",
    "ADD CONSTRAINT organization_pk PRIMARY KEY (id);\n",
    "```"
   ]
  },
  {
   "cell_type": "markdown",
   "id": "5ec17028-2b09-43e8-8884-673e2bc7cb72",
   "metadata": {},
   "source": [
    "- Rename the `university_shortname` column to `id` in `universities`.\n",
    "- Make `id` a primary key and name it `university_pk`."
   ]
  },
  {
   "cell_type": "markdown",
   "id": "0cec12b8-56b4-4aa7-9b13-5b96a830d59c",
   "metadata": {},
   "source": [
    "```sql\n",
    "-- Rename the university_shortname column to id\n",
    "ALTER TABLE universities\n",
    "RENAME university_shortname TO id;\n",
    "\n",
    "-- Make id a primary key\n",
    "ALTER TABLE universities\n",
    "ADD CONSTRAINT university_pk PRIMARY KEY (id);\n",
    "```"
   ]
  },
  {
   "cell_type": "markdown",
   "id": "4d1e5116-02e4-448e-b80f-9bf1a9cd7904",
   "metadata": {},
   "source": [
    "*Let's tackle the last table that needs a primary key right now: `professors`. However, things are going to be different this time, because you'll add a so-called surrogate key.*"
   ]
  },
  {
   "cell_type": "markdown",
   "id": "cbb2bf30-c69e-4145-bc6a-1780d74f5a17",
   "metadata": {},
   "source": [
    "---\n",
    "## Surrogate keys\n",
    "Surrogate keys are sort of an artificial primary key. In other words, they are not based on a native column in your data, but on a column that just exists for the sake of having a primary key. Why would you need that?\n",
    "\n",
    "### Surrogate keys\n",
    "There are several reasons for creating an artificial surrogate key. As mentioned before, **a primary key is ideally constructed from as few columns as possible**. Secondly, **the primary key of a record should never change over time**. If you define an artificial primary key, ideally consisting of a unique number or string, you can be sure that this number stays the same for each record. Other attributes might change, but the primary key always has the same value for a given record.\n",
    "\n",
    "### An example\n",
    "Let's look back at the example. \n",
    "```\n",
    "     license_no     | serial_no |    make    |  model  | color\n",
    "--------------------+-----------+------------+---------+------\n",
    " Texas ABC-739      | A69352    | Ford       | Mustang | blue\n",
    " Florida TVP-347    | B43696    | Oldsmobile | Cutlass | black\n",
    " New York MPO-22    | X83554    | Oldsmobile | Delta   | silver\n",
    " California 432-TFY | C43742    | Mercedes   | 190-D   | champagne\n",
    " California RSK-629 | Y82935    | Toyota     | Camry   | red\n",
    " Texas RSK-629      | U028365   | Jaguar     | XJS     | blue\n",
    "```\n",
    "I altered it slightly and added the `color` column. In this table, the `license_no` column would be suited as the primary key – the license number is unlikely to change over time, not like the color column, for example, which might change if the car is repainted. So there's no need for a surrogate key here. However, let's say there were only these three attributes in the table. \n",
    "```\n",
    "    make    |  model  | color\n",
    "------------+---------+------\n",
    " Ford       | Mustang | blue\n",
    " Oldsmobile | Cutlass | black\n",
    " Oldsmobile | Delta   | silver\n",
    " Mercedes   | 190-D   | champagne\n",
    " Toyota     | Camry   | red\n",
    " Jaguar     | XJS     | blue\n",
    "```\n",
    "The only sensible primary key would be the combination of `make` and `model`, but that's two columns for the primary key.\n",
    "\n",
    "### Adding a surrogate key with serial data type\n",
    "You could add a new surrogate key column, called `id`, to solve this problem. \n",
    "```sql\n",
    "ALTER TABLE cars\n",
    "ADD COLUMN id serial PRIMARY KEY;\n",
    "```\n",
    "Actually, there's a special data type in PostgreSQL that allows the addition of auto-incrementing numbers to an existing table: the `serial` type. It is specified just like any other data type. Once you add a column with the `serial` type, all the records in your table will be numbered. Whenever you add a new record to the table, it will automatically get a number that does not exist yet. There are similar data types in other database management systems, like MySQL.\n",
    "```sql\n",
    "INSERT INTO cars\n",
    "VALUES('Volkswagen', 'Blitz', 'black');\n",
    "```\n",
    "```\n",
    "    make    |  model  | color       | id\n",
    "------------+---------+-------------+------\n",
    " Ford       | Mustang | blue        | 1\n",
    " Oldsmobile | Cutlass | black       | 2\n",
    " Oldsmobile | Delta   | silver      | 3\n",
    " Mercedes   | 190-D   | champagne   | 4\n",
    " Toyota     | Camry   | red         | 5\n",
    " Jaguar     | XJS     | blue        | 6\n",
    " Volkswagen | Blitz  | black        | 7\n",
    "```\n",
    "\n",
    "Also, if you try to specify an ID that already exists, the primary key constraint will prevent you from doing so. So, after all, the `id` column uniquely identifies each record in this table – which is very useful, for example, when you want to refer to these records from another table. \n",
    "```sql\n",
    "INSERT INTO cars\n",
    "VALUES ('Opel', 'Astra', 'green', 1);\n",
    "```\n",
    "```\n",
    "duplicate key value violates unique constraint \"id_pkey\"\n",
    "DETAIL: key (id)=(1) already exists.\n",
    "```\n",
    "\n",
    "### Another type of surrogate key\n",
    "Another strategy for creating a surrogate key is to combine two existing columns into a new one. In this example, we first add a new column with the `varchar` data type. We then `UPDATE` that column with the concatenation of two existing columns. The `CONCAT` function glues together the values of two or more existing columns. Lastly, we turn that new column into a surrogate primary key.\n",
    "```sql\n",
    "ALTER TABLE table_name\n",
    "ADD COLUMN column_c varchar(256);\n",
    "\n",
    "UPDATE table_name\n",
    "SET column_c = CONCAT(column_a, column_b);\n",
    "\n",
    "ALTER TABLE table_name\n",
    "ADD CONSTRAINT pk PRIMARY KEY (column_c);\n",
    "```\n",
    "\n",
    "### Your database\n",
    "In the exercises, you'll add a surrogate key to the `professors` table, because the existing attributes are not really suited as primary key. Theoretically, there could be more than one professor with the same name working for one university, resulting in duplicates. With an auto-incrementing `id` column as the primary key, you make sure that each professor can be uniquely referred to. This was not necessary for organizations and universities, as their names can be assumed to be unique across these tables. In other words: It is unlikely that two organizations with the same name exist, solely for trademark reasons. The same goes for universities.\n"
   ]
  },
  {
   "cell_type": "markdown",
   "id": "14ea1429-14d2-4183-8752-a9df59cdde5d",
   "metadata": {},
   "source": [
    "## Add a SERIAL surrogate key\n",
    "Since there's no single column candidate key in `professors` (only a composite key candidate consisting of `firstname`, `lastname`), you'll add a new column `id` to that table.\n",
    "\n",
    "This column has a special data type `serial`, which turns the column into an auto-incrementing number. This means that, whenever you add a new professor to the table, it will automatically get an `id` that does not exist yet in the table: a perfect primary key."
   ]
  },
  {
   "cell_type": "markdown",
   "id": "5695f844-886f-4831-8376-211b74254b4a",
   "metadata": {},
   "source": [
    "- Add a new column `id` with data type `serial` to the `professors` table."
   ]
  },
  {
   "cell_type": "markdown",
   "id": "638722a3-2eca-4a85-a638-065d7d664f1a",
   "metadata": {},
   "source": [
    "```sql\n",
    "-- Add the new column to the table\n",
    "ALTER TABLE professors \n",
    "ADD COLUMN id serial;\n",
    "```"
   ]
  },
  {
   "cell_type": "markdown",
   "id": "302447c6-de3b-434e-b795-379accc505b8",
   "metadata": {},
   "source": [
    "- Make `id` a primary key and name it `professors_pkey`."
   ]
  },
  {
   "cell_type": "markdown",
   "id": "202eeebe-bec2-472e-83b7-558a3bc0aa42",
   "metadata": {},
   "source": [
    "```sql\n",
    "-- Make id a primary key\n",
    "ALTER TABLE professors \n",
    "ADD CONSTRAINT professors_pkey PRIMARY KEY (id);\n",
    "```"
   ]
  },
  {
   "cell_type": "markdown",
   "id": "5a45af97-1b66-4cfb-abd0-b7e33b68d986",
   "metadata": {},
   "source": [
    "- Write a query that returns all the columns and 10 rows from `professors`."
   ]
  },
  {
   "cell_type": "markdown",
   "id": "50388f7a-19fe-4c45-a820-ffcd3ca9b767",
   "metadata": {},
   "source": [
    "```sql\n",
    "-- Have a look at the first 10 rows of professors\n",
    "SELECT *\n",
    "FROM professors\n",
    "LIMIT 10;\n",
    "```"
   ]
  },
  {
   "cell_type": "markdown",
   "id": "5e948293-0134-4571-a2a0-d851310f2612",
   "metadata": {},
   "source": [
    "```\n",
    "firstname       | lastname    | university_shortname | id\n",
    "----------------|-------------|----------------------|----\n",
    "Karl            | Aberer      | EPF                  | 1\n",
    "Reza Shokrollah | Abhari      | ETH                  | 2\n",
    "Georges         | Abou Jaoudé | EPF                  | 3\n",
    "Hugues          | Abriel      | UBE                  | 4\n",
    "Daniel          | Aebersold   | UBE                  | 5\n",
    "Marcelo         | Aebi        | ULA                  | 6\n",
    "Christoph       | Aebi        | UBE                  | 7\n",
    "Patrick         | Aebischer   | EPF                  | 8\n",
    "Stephan         | Aier        | USG                  | 9\n",
    "Anastasia       | Ailamaki    | EPF                  | 10\n",
    "```"
   ]
  },
  {
   "cell_type": "markdown",
   "id": "241914a1-72ff-47c0-a907-66f9cbff075b",
   "metadata": {},
   "source": [
    "*As you can see, PostgreSQL has automatically numbered the rows with the `id` column, which now functions as a (surrogate) primary key – it uniquely identifies professors.*"
   ]
  },
  {
   "cell_type": "markdown",
   "id": "838171c9-ef5c-4f76-a42c-673600675ecc",
   "metadata": {},
   "source": [
    "## CONCATenate columns to a surrogate key\n",
    "Another strategy to add a surrogate key to an existing table is to concatenate existing columns with the `CONCAT()` function.\n",
    "\n",
    "Let's think of the following example table:\n",
    "```sql\n",
    "CREATE TABLE cars (\n",
    " make varchar(64) NOT NULL,\n",
    " model varchar(64) NOT NULL,\n",
    " mpg integer NOT NULL\n",
    ")\n",
    "```\n",
    "The table is populated with 10 rows of *completely fictional* data.\n",
    "\n",
    "Unfortunately, the table doesn't have a primary key yet. None of the columns consists of only unique values, so some columns can be combined to form a key.\n",
    "\n",
    "In the course of the following exercises, you will combine `make` and `model` into such a surrogate key."
   ]
  },
  {
   "cell_type": "markdown",
   "id": "1a12caef-72ff-47a3-8168-11d80542553a",
   "metadata": {},
   "source": [
    "- Count the number of distinct rows with a combination of the `make` and `model` columns."
   ]
  },
  {
   "cell_type": "markdown",
   "id": "dbf93018-88c4-4204-97c6-a57cc9bb1239",
   "metadata": {},
   "source": [
    "```sql\n",
    "-- Count the number of distinct rows with columns make, model\n",
    "SELECT COUNT(DISTINCT(make, model))\n",
    "FROM cars;\n",
    "```"
   ]
  },
  {
   "cell_type": "markdown",
   "id": "7a3d11a5-9b81-41a8-9213-947e02cd33ec",
   "metadata": {},
   "source": [
    "```\n",
    "count\n",
    "-----\n",
    "10\n",
    "```"
   ]
  },
  {
   "cell_type": "markdown",
   "id": "a54ac43d-e54d-4419-8452-fc1a355c8d52",
   "metadata": {},
   "source": [
    "- Add a new column `id` with the data type `varchar(128)`."
   ]
  },
  {
   "cell_type": "markdown",
   "id": "11d94e72-c6b5-451e-9cb5-47beec397f40",
   "metadata": {},
   "source": [
    "```sql\n",
    "-- Add the id column\n",
    "ALTER TABLE cars\n",
    "ADD COLUMN id varchar(128);\n",
    "```"
   ]
  },
  {
   "cell_type": "markdown",
   "id": "a80905f9-3276-4fb4-a392-8676aab5d702",
   "metadata": {},
   "source": [
    "- Concatenate `make` and `model` into `id` using an `UPDATE table_name SET column_name = ...` query and the `CONCAT()` function."
   ]
  },
  {
   "cell_type": "markdown",
   "id": "ab2c23de-538e-48f4-9ea6-465fa2e7bc49",
   "metadata": {},
   "source": [
    "```sql\n",
    "-- Update id with make + model\n",
    "UPDATE cars\n",
    "SET id = CONCAT(make, model);\n",
    "```"
   ]
  },
  {
   "cell_type": "markdown",
   "id": "981e1384-928b-4685-84c3-a3e2090c9556",
   "metadata": {},
   "source": [
    "- Make `id` a primary key and name it `id_pk`."
   ]
  },
  {
   "cell_type": "markdown",
   "id": "5e168112-5b33-4352-9f0c-5f6fcc8d6e92",
   "metadata": {},
   "source": [
    "```sql\n",
    "-- Make id a primary key\n",
    "ALTER TABLE cars\n",
    "ADD CONSTRAINT id_pk PRIMARY KEY(id);\n",
    "\n",
    "-- Have a look at the table\n",
    "SELECT * FROM cars;\n",
    "```"
   ]
  },
  {
   "cell_type": "markdown",
   "id": "287ce010-5171-4dc8-b977-80f33425f8ec",
   "metadata": {},
   "source": [
    "```\n",
    "make       | model     | mpg | id\n",
    "-----------|-----------|-----|--------------------\n",
    "Subaru     | Forester  | 24  | SubaruForester\n",
    "Opel       | Astra     | 45  | OpelAstra\n",
    "Opel       | Vectra    | 40  | OpelVectra\n",
    "Ford       | Avenger   | 30  | FordAvenger\n",
    "Ford       | Galaxy    | 30  | FordGalaxy\n",
    "Toyota     | Prius     | 50  | ToyotaPrius\n",
    "Toyota     | Speedster | 30  | ToyotaSpeedster\n",
    "Toyota     | Galaxy    | 20  | ToyotaGalaxy\n",
    "Mitsubishi | Forester  | 10  | MitsubishiForester\n",
    "Mitsubishi | Galaxy    | 30  | MitsubishiGalaxy\n",
    "```"
   ]
  },
  {
   "cell_type": "markdown",
   "id": "cae96e71-78b1-47f3-85b3-c403bfc08fb8",
   "metadata": {},
   "source": [
    "*Let's look into another method of adding a surrogate key now.*"
   ]
  },
  {
   "cell_type": "markdown",
   "id": "f78cffd2-1f67-4960-8b0e-481d285b1244",
   "metadata": {},
   "source": [
    "## Test your knowledge before advancing\n",
    "Before you move on to the next chapter, let's quickly review what you've learned so far about attributes and key constraints.\n",
    "\n",
    "Let's think of an entity type \"student\". A student has:\n",
    "\n",
    "1. a **last name** consisting of *up to 128* characters (required),\n",
    "2. a unique **social security number**, consisting only of integers, that should serve as a key,\n",
    "3. a **phone number** of *fixed length 12*, consisting of numbers and characters (but some students don't have one)."
   ]
  },
  {
   "cell_type": "markdown",
   "id": "3c9d3bbc-604b-47bd-8d2c-9f81ca17f4b2",
   "metadata": {},
   "source": [
    "- Given the above description of a student entity, create a table `students` with the correct column types.\n",
    "- Add a `PRIMARY KEY` for the social security number `ssn`."
   ]
  },
  {
   "cell_type": "markdown",
   "id": "125b90c3-2149-428e-beda-58e2b9348194",
   "metadata": {},
   "source": [
    "```sql\n",
    "-- Create the table\n",
    "CREATE TABLE students (\n",
    "  last_name varchar(128) NOT NULL,\n",
    "  ssn integer PRIMARY KEY,\n",
    "  phone_no char(12)\n",
    ");\n",
    "```"
   ]
  }
 ],
 "metadata": {
  "kernelspec": {
   "display_name": "Python 3",
   "language": "python",
   "name": "python3"
  },
  "language_info": {
   "codemirror_mode": {
    "name": "ipython",
    "version": 3
   },
   "file_extension": ".py",
   "mimetype": "text/x-python",
   "name": "python",
   "nbconvert_exporter": "python",
   "pygments_lexer": "ipython3",
   "version": "3.8.8"
  }
 },
 "nbformat": 4,
 "nbformat_minor": 5
}
