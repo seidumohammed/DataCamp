{
 "cells": [
  {
   "cell_type": "markdown",
   "id": "cb0cba85-68b3-4eeb-b4c2-df07a18e39b7",
   "metadata": {},
   "source": [
    "# 2. Enforce data consistency with attribute constraints\n",
    "**After building a simple database, it's now time to make use of the features. You'll specify data types in columns, enforce column uniqueness, and disallow NULL values in this chapter.**"
   ]
  },
  {
   "cell_type": "markdown",
   "id": "fd4d0738-3c3d-4dc0-99ff-6be33760f213",
   "metadata": {},
   "source": [
    "## Better data quality with constraints\n",
    "### Better data quality with constraints\n",
    "So far you've learned how to set up a simple database that consists of multiple tables. Apart from storing different entity types, such as professors, in different tables, you haven't made much use of database features. In the end, the idea of a database is to push data into a certain structure – a pre-defined model, where you enforce data types, relationships, and other rules. Generally, these rules are called integrity constraints, although different names exist.\n",
    "\n",
    "### Integrity constraints\n",
    "Integrity constraints can roughly be divided into three types.\n",
    "\n",
    "The most simple ones are probably the so-called **attribute constraints**. For example, a certain attribute, represented through a database column, could have the integer data type, allowing only for integers to be stored in this column. \n",
    "\n",
    "Secondly, there are so-called **key constraints**. Primary keys, for example, uniquely identify each record, or row, of a database table. \n",
    "\n",
    "Lastly, there are **referential integrity constraints**. In short, they glue different database tables together. \n",
    "\n",
    "### Why constraints?\n",
    "So why should you know about **constraints**? Well, they press the data into a certain form. With good constraints in place, people who type in birthdates, for example, have to enter them in always the same form. Data entered by humans is often very tedious to pre-process. So **constraints give you consistency**, meaning that a row in a certain table has exactly the same form as the next row, and so forth. All in all, they help to solve a lot of data quality issues. While enforcing constraints on human-entered data is difficult and tedious, database management systems can be a great help. In the next chapters and exercises, you'll explore how.\n",
    "\n",
    "### Data types as attribute constraints\n",
    "You'll start with attribute constraints in this chapter. In its simplest form, attribute constraints are data types that can be specified for each column of a table. Here you see the beginning of a list of all data types in PostgreSQL.\n",
    "\n",
    "Name | Aliases | Description\n",
    ":---|:---|:---\n",
    "bigint | int8 | signed eight-byte integer\n",
    "bigserial | serail8 | autoincrementing eight-byte integer\n",
    "bit \\[ (*n*) ] | - | fixed-length bit string\n",
    "bit varying \\[ (*n*) ] | varbit \\[ (*n*) ] | variable-length bit string\n",
    "boolean | bool | logical Boolean (ture/false)\n",
    "box | - | rectangular box on a plane\n",
    "bytea | - | binary data (\"byte array\")\n",
    "... | ... | ...\n",
    "cidr | - | IPv4 or IPv6 network address\n",
    "\n",
    "\n",
    "There are basic data types for numbers, such as `bigint`, or strings of characters, such as `character varying`. There are also more high-level data types like `cidr`, which can be used for IP addresses. Implementing such a type on a column would disallow anything that doesn't fit the structure of an IP.\n",
    "\n",
    "### Dealing with data types (casting)\n",
    "Data types also restrict possible SQL operations on the stored data. For example, it is impossible to calculate a product from an integer *and* a text column, as shown here in the example. \n",
    "```sql\n",
    "CREATE TABLE weather (\n",
    "    temperature integer,\n",
    "    wind_speed text);\n",
    "SELECT temperature * wind_speed AS wind_chill\n",
    "FROM weather;\n",
    "```\n",
    "The text column `wind_speed` may store numbers, but PostgreSQL doesn't know how to use text in a calculation.\n",
    "```\n",
    "operator does not exist: interger * text\n",
    "HINT: No operator matches the given name and argument type(s).\n",
    "You might need to add explict type casts.\n",
    "```\n",
    "\n",
    "The solution for this is type casts, that is, on-the-fly type conversions. In this case, you can use the `CAST` function, followed by the column name, the AS keyword, and the desired data type, and PostgreSQL will turn `wind_speed` into an integer right before the calculation.\n",
    "```sql\n",
    "SELECT temperature * CAST(wind_speed AS integer) AS wind_chill\n",
    "FROM weather;\n",
    "```"
   ]
  },
  {
   "cell_type": "markdown",
   "id": "85bac323-c391-435b-884b-70418d2a52ad",
   "metadata": {},
   "source": [
    "## Types of database constraints\n",
    "Which of the followings are used to enforce a database constraint?\n",
    "1. **Foreign keys**\n",
    "2. ~SQL aggregate functions~\n",
    "3. **The BIGINT data type**\n",
    "4. **Primary keys**\n",
    "\n",
    "*SQL aggregate functions are not used to enforce constraints, but to do calculations on data.*"
   ]
  },
  {
   "cell_type": "markdown",
   "id": "ddfb94fd-433c-4c88-9ad8-3627f9119a07",
   "metadata": {},
   "source": [
    "## Conforming with data types\n",
    "For demonstration purposes, I created a fictional database table that only holds three records. The columns have the data types `date`, `integer`, and `text`, respectively.\n",
    "```sql\n",
    "CREATE TABLE transactions (\n",
    " transaction_date date, \n",
    " amount integer,\n",
    " fee text\n",
    ");\n",
    "```\n",
    "Have a look at the contents of the `transactions` table.\n",
    "\n",
    "The `transaction_date` accepts `date` values. According to [the PostgreSQL documentation](https://www.postgresql.org/docs/10/datatype-datetime.html#DATATYPE-DATETIME-INPUT), it accepts values in the form of `YYYY-MM-DD`, `DD/MM/YY`, and so forth.\n",
    "\n",
    "Both columns `amount` and `fee` appear to be numeric, however, the latter is modeled as `text`."
   ]
  },
  {
   "cell_type": "markdown",
   "id": "0195df54-f444-408b-be7b-8c6b090e5e1d",
   "metadata": {},
   "source": [
    "- Execute the given sample code.\n",
    "- As it doesn't work, have a look at the error message and correct the statement accordingly – then execute it again."
   ]
  },
  {
   "cell_type": "markdown",
   "id": "15c639d0-8527-4ebb-b651-f6ade5c4d867",
   "metadata": {},
   "source": [
    "```sql\n",
    "-- Let's add a record to the table\n",
    "INSERT INTO transactions (transaction_date, amount, fee) \n",
    "VALUES ('2018-24-09', 5454, '30');\n",
    "\n",
    "-- Doublecheck the contents\n",
    "SELECT *\n",
    "FROM transactions;\n",
    "```"
   ]
  },
  {
   "cell_type": "markdown",
   "id": "65b53fca-6669-4d08-8b77-d637cfa3a963",
   "metadata": {},
   "source": [
    "```\n",
    "date/time field value out of range: \"2018-24-09\"\n",
    "LINE 3: VALUES ('2018-24-09', 5454, '30');\n",
    "                ^\n",
    "HINT:  Perhaps you need a different \"datestyle\" setting.\n",
    "```"
   ]
  },
  {
   "cell_type": "markdown",
   "id": "8de11c58-d4fd-4b52-a520-0023218ea395",
   "metadata": {},
   "source": [
    "```sql\n",
    "-- Let's add a record to the table\n",
    "INSERT INTO transactions (transaction_date, amount, fee) \n",
    "VALUES ('2018-09-24', 5454, '30');\n",
    "\n",
    "-- Doublecheck the contents\n",
    "SELECT *\n",
    "FROM transactions;\n",
    "```\n"
   ]
  },
  {
   "cell_type": "markdown",
   "id": "60a80cbe-7f12-4784-b188-22d9af31efba",
   "metadata": {},
   "source": [
    "```\n",
    "transaction_date | amount | fee\n",
    "-----------------|--------|----\n",
    "1999-01-08       | 500    | 20\n",
    "2001-02-20       | 403    | 15\n",
    "2001-03-20       | 3430   | 35\n",
    "2018-09-24       | 5454   | 30\n",
    "```"
   ]
  },
  {
   "cell_type": "markdown",
   "id": "6509810b-c039-461d-868e-ffaccbc5fc5a",
   "metadata": {},
   "source": [
    "*You can see that data types provide certain restrictions on how data can be entered into a table. This may be tedious at the moment of insertion, but saves a lot of headache in the long run.*"
   ]
  },
  {
   "cell_type": "markdown",
   "id": "533682a3-d47c-431a-bf36-1b550c90ebe8",
   "metadata": {},
   "source": [
    "## Type CASTs\n",
    "Type casts are a possible solution for data type issues. If you know that a certain column stores numbers as `text`, you can cast the column to a numeric form, i.e. to `integer`.\n",
    "```sql\n",
    "SELECT CAST(some_column AS integer)\n",
    "FROM table;\n",
    "```\n",
    "Now, the `some_column` column is temporarily represented as `integer` instead of `text`, meaning that you can perform numeric calculations on the column."
   ]
  },
  {
   "cell_type": "markdown",
   "id": "37cf4ac2-4e9d-4c27-8759-c0c84bc856f2",
   "metadata": {},
   "source": [
    "- Execute the given sample code.\n",
    "- As it doesn't work, add an `integer` type cast at the right place and execute it again."
   ]
  },
  {
   "cell_type": "markdown",
   "id": "4dfd397b-9deb-474b-b919-4137cc1de2e9",
   "metadata": {},
   "source": [
    "```sql\n",
    "-- Calculate the net amount as amount + fee\n",
    "SELECT transaction_date, amount + fee AS net_amount \n",
    "FROM transactions;\n",
    "```"
   ]
  },
  {
   "cell_type": "markdown",
   "id": "93ab3f55-94b1-4695-8319-3e41fe6485d9",
   "metadata": {},
   "source": [
    "```\n",
    "operator does not exist: integer + text\n",
    "LINE 2: SELECT transaction_date, amount + fee AS net_amount \n",
    "                                        ^\n",
    "HINT:  No operator matches the given name and argument types. You might need to add explicit type casts.\n",
    "```"
   ]
  },
  {
   "cell_type": "markdown",
   "id": "a468ed5d-1c55-470c-b786-a3c799b02e9d",
   "metadata": {},
   "source": [
    "```sql\n",
    "-- Calculate the net amount as amount + fee\n",
    "SELECT transaction_date, CAST(amount AS integer) + CAST(fee AS integer) AS net_amount \n",
    "FROM transactions;\n",
    "```"
   ]
  },
  {
   "cell_type": "markdown",
   "id": "b5497ced-898a-46a3-bf0e-7204c5d7f34f",
   "metadata": {},
   "source": [
    "```\n",
    "transaction_date | net_amount\n",
    "-----------------|-----------\n",
    "1999-01-08       | 520\n",
    "2001-02-20       | 418\n",
    "2001-03-20       | 3465\n",
    "2018-09-24       | 5484\n",
    "```"
   ]
  },
  {
   "cell_type": "markdown",
   "id": "f5cb9012-13ba-48bc-874c-6772448bcdc6",
   "metadata": {},
   "source": [
    "*Sometimes, type casts are necessary to work with data. However, it is better to store columns in the right data type from the first place.*"
   ]
  },
  {
   "cell_type": "markdown",
   "id": "2cff2406-86a9-454c-9144-263e318b22f7",
   "metadata": {},
   "source": [
    "## Working with data types\n",
    "Working with data types is straightforward in a database management system like PostgreSQL.\n",
    "\n",
    "### Working with data types\n",
    "As said before, data types are attribute constraints and are therefore implemented for single columns of a table. They define the so-called \"domain\" of values in a column, that means, what form these values can take – and what not. Therefore, they also define what operations are possible with the values in the column, as you saw in the previous exercises. Of course, through this, consistent storage is enforced, so a street number will always be an actual number, and a postal code will always have no more than 6 digits, according to your conventions. This greatly helps with data quality.\n",
    "\n",
    "### The most common types\n",
    "Here are the most common types in PostgreSQL. Note that these types are specific to PostgreSQL but appear in many other database management systems as well, and they mostly conform to the SQL standard. \n",
    "\n",
    "The `text` type allows characters strings of any length, while the `varchar` and `char` types specify a maximum number of characters, or a character string of fixed length, respectively. You'll use these two for your database. The `boolean` type allows for two boolean values, for example, `true` and `false` or `1` and `0`, and for a third unknown value, expressed through `NULL`.\n",
    "\n",
    "Then there are various formats for `date` and `time` calculations, also with `timezone` support. `numeric` is a general type for any sort of numbers with arbitrary precision, while `integer` allows only whole numbers in a certain range. If that range is not enough for your numbers, there's also `bigint` for larger numbers.\n",
    "\n",
    "### Specifying types upon table creation\n",
    "Here's an example of how types are specified upon table creation. Let's say the social security number, `ssn`, should be stored as an integer as it only contains whole numbers. The name may be a string with a maximum of 64 characters, which might or might not be enough. The date of birth, `dob`, is naturally stored as a date, while the average grade is a numeric value with a precision of 3 and a scale of 2, meaning that numbers with a total of three digits and two digits after the fractional point are allowed. Lastly, the information whether the tuition of the student was paid is, of course, a boolean one, as it can be either true or false.\n",
    "```sql\n",
    "CREATE TABLE students (\n",
    "    ssn integer,\n",
    "    name varchar(64),\n",
    "    dob date,\n",
    "    average_grade numeric(3, 2), --e.g. 5.54\n",
    "    tuition_paid boolean\n",
    ");\n",
    "```\n",
    "\n",
    "### Alter types after table creation\n",
    "Altering types after table creation is also straightforward, just use the shown `ALTER TABLE ALTER COLUMN` statement. \n",
    "```sql\n",
    "ALTER TABLE students\n",
    "ALTER COLUMN name\n",
    "TYPE varchar(128)\n",
    "```\n",
    "\n",
    "In this case, the maximum name length is extended to 128 characters. Sometimes it may be necessary to truncate column values or transform them in any other way, so they fit with the new data type. Then you can use the `USING` keyword, and specify a transformation that should happen before the type is altered. Let's say you'd want to turn the `average_grade` column into an integer type. Normally, PostgreSQL would just keep the part of the number before the fractional point. With `USING`, you can tell it to round the number to the nearest integer, for example.\n",
    "```sql\n",
    "ALTER TABLE students\n",
    "ALTER COLUMN average_grade\n",
    "TYPE integer\n",
    "-- Turns 5.54 into 6, not 5, before type conversion\n",
    "USING ROUND(average_grade)\n",
    "```"
   ]
  },
  {
   "cell_type": "markdown",
   "id": "0327b7fe-6602-4e3f-9be1-10ac41394651",
   "metadata": {},
   "source": [
    "## Change types with ALTER COLUMN\n",
    "The syntax for changing the data type of a column is straightforward. The following code changes the data type of the `column_nam`e column in `table_name` to `varchar(10)`:\n",
    "```sql\n",
    "ALTER TABLE table_name\n",
    "ALTER COLUMN column_name\n",
    "TYPE varchar(10)\n",
    "```\n",
    "Now it's time to start adding constraints to the database."
   ]
  },
  {
   "cell_type": "markdown",
   "id": "fbf30a94-ecb4-4a90-bc97-217e818eae6a",
   "metadata": {},
   "source": [
    "- Have a look at the distinct `university_shortname` values in the `professors` table and take note of the length of the strings."
   ]
  },
  {
   "cell_type": "markdown",
   "id": "6c708c10-204c-487d-9920-bf0e6e9ec323",
   "metadata": {},
   "source": [
    "```sql\n",
    "-- Select the university_shortname column\n",
    "SELECT DISTINCT(university_shortname) \n",
    "FROM professors;\n",
    "```"
   ]
  },
  {
   "cell_type": "markdown",
   "id": "d3a018ee-41c6-43c3-bdba-83c0c7868692",
   "metadata": {},
   "source": [
    "```\n",
    "university_shortname\n",
    "--------------------\n",
    "ULA\n",
    "UNE\n",
    "EPF\n",
    "UBA\n",
    "USG\n",
    "UBE\n",
    "UZH\n",
    "UGE\n",
    "UFR\n",
    "USI\n",
    "ETH\n",
    "```"
   ]
  },
  {
   "cell_type": "markdown",
   "id": "c17b32ce-fb22-4fb3-a27d-ef9ac002d2e8",
   "metadata": {},
   "source": [
    "- Now specify a fixed-length character type with the correct length for `university_shortname`."
   ]
  },
  {
   "cell_type": "markdown",
   "id": "496aadc0-979a-4644-a160-c965fc321211",
   "metadata": {},
   "source": [
    "```sql\n",
    "-- Specify the correct fixed-length character type\n",
    "ALTER TABLE professors\n",
    "ALTER COLUMN university_shortname\n",
    "TYPE char(3);\n",
    "```"
   ]
  },
  {
   "cell_type": "markdown",
   "id": "bc396b77-8c13-4575-b333-21a57f2dba53",
   "metadata": {},
   "source": [
    "- Change the type of the `firstname` column to `varchar(64)`."
   ]
  },
  {
   "cell_type": "markdown",
   "id": "a7f58aa6-b060-4ae5-acac-1295509b90e6",
   "metadata": {},
   "source": [
    "```sql\n",
    "-- Change the type of firstname\n",
    "ALTER TABLE professors\n",
    "ALTER COLUMN firstname\n",
    "TYPE varchar(64);\n",
    "```"
   ]
  },
  {
   "cell_type": "markdown",
   "id": "37aad98c-da69-447a-a543-e8e406e663af",
   "metadata": {},
   "source": [
    "## Convert types USING a function\n",
    "If you don't want to reserve too much space for a certain `varchar` column, you can truncate the values before converting its type.\n",
    "\n",
    "For this, you can use the following syntax:\n",
    "```sql\n",
    "ALTER TABLE table_name\n",
    "ALTER COLUMN column_name\n",
    "TYPE varchar(x)\n",
    "USING SUBSTRING(column_name FROM 1 FOR x)\n",
    "```\n",
    "You should read it like this: Because you want to reserve only `x` characters for `column_name`, you have to retain a `SUBSTRING` of every value, i.e. the first `x` characters of it, and throw away the rest. This way, the values will fit the `varchar(x)` requirement."
   ]
  },
  {
   "cell_type": "markdown",
   "id": "4c30068e-5438-4f7b-b1ee-b2b74a6470b9",
   "metadata": {},
   "source": [
    "- Run the sample code as is and take note of the error.\n",
    "- Now use `SUBSTRING()` to reduce `firstname` to 16 characters so its type can be altered to `varchar(16)`."
   ]
  },
  {
   "cell_type": "markdown",
   "id": "845c2171-1a04-43ce-a6fa-7edb8900a79f",
   "metadata": {},
   "source": [
    "```sql\n",
    "-- Convert the values in firstname to a max. of 16 characters\n",
    "ALTER TABLE professors \n",
    "ALTER COLUMN firstname \n",
    "TYPE varchar(16)\n",
    "USING SUBSTRING(firstname FROM 1 FOR 16)\n",
    "```"
   ]
  },
  {
   "cell_type": "markdown",
   "id": "ca0a7b39-312c-436f-bd76-64a46fcde84a",
   "metadata": {},
   "source": [
    "*However, it's best not to truncate any values in your database, so we'll revert this column to `varchar(64)`.*"
   ]
  },
  {
   "cell_type": "markdown",
   "id": "d727c51d-0d64-421d-8e00-bb1d398e657d",
   "metadata": {},
   "source": [
    "---\n",
    "## The not-null and unique constraints\n",
    "In the last part of this chapter, you'll get to know two special attribute constraints: the not-null and unique constraints.\n",
    "\n",
    "### The not-null constraint\n",
    "As the name already says, the not-null constraint disallows any `NULL` values on a given column. This **must hold true for the existing state of the database**, but **also for any future state**. Therefore, you can only specify a not-null constraint on a column that doesn't hold any `NULL` values yet. And: It won't be possible to insert `NULL` values in the future.\n",
    "\n",
    "### What does NULL mean?\n",
    "Before I go on explaining how to specify not-null constraints, I want you to think about `NULL` values. What do they actually mean to you? There's no clear definition. `NULL` can mean a couple of things, for example, that the value is unknown, or does not exist at all. It can also be possible that a value does not apply to the column. Let's look into an example.\n",
    "\n",
    "### What does NULL mean? An example\n",
    "Let's say we define a table `students`. \n",
    "```sql\n",
    "CREATE TABLE students (\n",
    "\tssn integer not null,\n",
    "\tlastname varchar(64) not null,\n",
    "\thome_phone integer,\n",
    "\toffice_phone integer\n",
    ");\n",
    "```\n",
    "\n",
    "The first two columns for the social security number and the last name cannot be `NULL`, which makes sense: this should be known and apply to every student. The `home_phone` and `office_phone` columns though should allow for null values – which is the default, by the way. Why? First of all, these numbers can be unknown, for any reason, or simply not exist, because a student might not have a phone. Also, some values just don't apply: Some students might not have an office, so they don't have an office phone, and so forth. So, one important take away is that two `NULL` values must not have the same meaning. This also means that comparing `NULL` with `NULL always results in a `FALSE` value.\n",
    "\n",
    "### How to add or remove a not-null constraint\n",
    "You've just seen how to add a not-null constraint to certain columns when creating a table. \n",
    "```sql\n",
    "ALTER TABLE students\n",
    "ALTER COLUMN home_phone\n",
    "SET NOT NULL;\n",
    "```\n",
    "Just add `not null` after the respective columns. But you can also add and remove not-null constraints to and from existing tables. To add a not-null constraint to an existing table, you can use the `ALTER COLUMN SET NOT NULL` syntax as shown here. Similarly, to remove a not-null constraint, you can use `ALTER COLUMN DROP NOT NULL`.\n",
    "```sql\n",
    "ALTER TABLE students\n",
    "ALTER COLUMN ssn\n",
    "SET NOT NULL;\n",
    "```\n",
    "\n",
    "### The unique constraint\n",
    "The unique constraint on a column makes sure that there are no duplicates in a column. So any given value in a column can only exist once. This, for example, makes sense for university short names, as storing universities more than once leads to unnecessary redundancy. However, it doesn't make sense for university cities, as two universities can co-exist in the same city. Just as with the not-null constraint, you can only add a unique constraint if the column doesn't hold any duplicates before you apply it.\n",
    "\n",
    "### Adding unique constraints\n",
    "Here's how to create columns with unique constraints. Just add the `UNIQUE` keyword after the respective table column. \n",
    "```sql\n",
    "CREATE TABLE table_name (\n",
    "\tcolumn_name UNIQUE\n",
    ");\n",
    "```\n",
    "You can also add a unique constraint to an existing table. For that, you have to use the `ADD CONSTRAINT` syntax. This is different from adding a `NOT NULL` constraint. \n",
    "```sql\n",
    "ALTER TABLE table_name\n",
    "ADD CONSTRAINT some_name UNIQUE(column_name);\n",
    "```\n",
    "However, it's a pattern that frequently occurs. You'll see plenty of other examples of `ADD CONSTRAINT` in the remainder of this course.\n"
   ]
  },
  {
   "cell_type": "markdown",
   "id": "2555f053-f0c0-4218-9564-2b707ab4916e",
   "metadata": {},
   "source": [
    "## Disallow NULL values with SET NOT NULL\n",
    "The `professors` table is almost ready now. However, it still allows for `NULL`s to be entered. Although some information might be missing about some professors, there's certainly columns that *always* need to be specified."
   ]
  },
  {
   "cell_type": "markdown",
   "id": "edd18bfd-b13a-4eb4-a3eb-1b94d3e718a2",
   "metadata": {},
   "source": [
    "- Add a not-null constraint for the `firstname` column."
   ]
  },
  {
   "cell_type": "markdown",
   "id": "e4885186-c2a7-4df0-a0fa-f7712f37e4fa",
   "metadata": {},
   "source": [
    "```sql\n",
    "-- Disallow NULL values in firstname\n",
    "ALTER TABLE professors \n",
    "ALTER COLUMN firstname SET NOT NULL;\n",
    "```"
   ]
  },
  {
   "cell_type": "markdown",
   "id": "d0bcdc10-871d-4aa4-812b-03a107416956",
   "metadata": {},
   "source": [
    "- Add a not-null constraint for the `lastname` column."
   ]
  },
  {
   "cell_type": "markdown",
   "id": "e6de3be5-20fb-4c8b-b50b-e61adfa55438",
   "metadata": {},
   "source": [
    "```sql\n",
    "-- Disallow NULL values in lastname\n",
    "ALTER TABLE professors\n",
    "ALTER COLUMN lastname SET NOT NULL\n",
    "```"
   ]
  },
  {
   "cell_type": "markdown",
   "id": "ab73bcfd-0ed7-4523-ae48-54f08d792263",
   "metadata": {},
   "source": [
    "## Make your columns UNIQUE with ADD CONSTRAINT\n",
    "As seen in the video, you add the `UNIQUE` keyword after the `column_name` that should be unique. This, of course, only works for *new* tables:\n",
    "```sql\n",
    "CREATE TABLE table_name (\n",
    " column_name UNIQUE\n",
    ");\n",
    "```\n",
    "If you want to add a unique constraint to an *existing* table, you do it like that:\n",
    "```sql\n",
    "ALTER TABLE table_name\n",
    "ADD CONSTRAINT some_name UNIQUE(column_name);\n",
    "```\n",
    "Note that this is different from the `ALTER COLUMN` syntax for the not-null constraint. Also, you have to give the constraint a name `some_name`."
   ]
  },
  {
   "cell_type": "markdown",
   "id": "1ea87f37-1203-4413-9e8e-533855deb0fe",
   "metadata": {},
   "source": [
    "- Add a unique constraint to the `university_shortname` column in `universities`. Give it the name `university_shortname_unq`."
   ]
  },
  {
   "cell_type": "markdown",
   "id": "df811c99-24ea-49d8-937b-e62d10fa02b3",
   "metadata": {},
   "source": [
    "```sql\n",
    "-- Make universities.university_shortname unique\n",
    "ALTER TABLE universities\n",
    "ADD CONSTRAINT university_shortname_unq UNIQUE(university_shortname);\n",
    "```"
   ]
  },
  {
   "cell_type": "markdown",
   "id": "b6a3384d-13d8-45f5-b435-899751ed858e",
   "metadata": {},
   "source": [
    "- Add a unique constraint to the `organization` column in `organizations`. Give it the name `organization_unq`."
   ]
  },
  {
   "cell_type": "markdown",
   "id": "3fbd2711-ea8d-47e5-809c-346b87adb4c2",
   "metadata": {},
   "source": [
    "```sql\n",
    "-- Make organizations.organization unique\n",
    "ALTER TABLE organizations\n",
    "ADD CONSTRAINT organization_unq UNIQUE(organization)\n",
    "```"
   ]
  },
  {
   "cell_type": "markdown",
   "id": "5fc9997c-99bf-4294-bab0-ee26660cd884",
   "metadata": {},
   "source": [
    "*Making sure `universities.university_shortname` and `organizations.organization` only contain unique values is a prerequisite for turning them into so-called primary keys.*"
   ]
  },
  {
   "cell_type": "markdown",
   "id": "506ee48f-c5a6-4e90-8cb9-3fd2a2951d72",
   "metadata": {},
   "source": []
  }
 ],
 "metadata": {
  "kernelspec": {
   "display_name": "Python 3",
   "language": "python",
   "name": "python3"
  },
  "language_info": {
   "codemirror_mode": {
    "name": "ipython",
    "version": 3
   },
   "file_extension": ".py",
   "mimetype": "text/x-python",
   "name": "python",
   "nbconvert_exporter": "python",
   "pygments_lexer": "ipython3",
   "version": "3.8.8"
  }
 },
 "nbformat": 4,
 "nbformat_minor": 5
}
