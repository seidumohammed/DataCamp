{
 "cells": [
  {
   "cell_type": "markdown",
   "id": "076045b6-2e1f-4f89-8716-10af134d700b",
   "metadata": {},
   "source": [
    "# 1. Your first database\n",
    "**In this chapter, you'll create your very first database with a set of simple SQL commands. Next, you'll migrate data from existing flat tables into that database. You'll also learn how meta-information about a database can be queried.**"
   ]
  },
  {
   "cell_type": "markdown",
   "id": "85f4af6e-f395-4e2d-9c99-23c3a713afd8",
   "metadata": {},
   "source": [
    "- Instructor: Timo Grossenbacher, data journalist in Switzerland\n",
    "\n",
    "## Introduction to relational databases\n",
    "In this course, you will see why using relational databases has many advantages over using flat files like CSVs or Excel sheets. You'll learn how to create such databases, and bring into force their most prominent features.\n",
    "\n",
    "###  Investigating universities in Switzerland\n",
    "Let me tell you a little story first. As a data journalist, I try to uncover corruption, misconduct and other newsworthy stuff with data. A couple of years ago I researched secondary employment of Swiss university professors. It turns out a lot of them have more than one side job besides their university duty, being paid by big companies like banks and insurances. So I discovered more than 1500 external employments and visualized them in an interactive graphic.\n",
    "Also, I had to account for certain specialties, for example, that a professor can work for different universities; or that a third-party company can have multiple professors working for them. In order to analyze the data, I needed to make sure its quality was good and stayed good throughout the process. That's why I stored my data in a database, whose quite complex design you can see in the right graphic. All these rectangles were turned into database tables.\n",
    "\n",
    "###  A relational database:\n",
    "But why did I use a database? A database models **real-life *entities*** like `professors` and `universities` by storing them in **tables**. Each table only contains data from a single entity type. This **reduces redundancy** by storing entities only once – for example, there only needs to be one row of data containing the details of a certain company. Lastly, a database can be used to model *relationships* between entities. You can define exactly how entities relate to each other. For instance, a `professor` can work at multiple `universities` and `companies`, while a `company` can employ more than one `professor`.\n",
    "\n",
    "### Throughout this course you will:\n",
    "Throughout this course, you will actually **work with the same real-life data used during my investigation**. You'll start from a single table of data and build a full-blown relational database from it, column by column, table by table. \n",
    "\n",
    "By doing so, you'll get to know ***constraints***, ***keys***, and ***referential integrity***. These three concepts help preserve data quality in databases. By the end of the course, you'll know how to use them. In order to get going, you'll just need a basic understanding of SQL – which can also be used to build and maintain databases, not just for querying data.\n",
    "\n",
    "### Your first duty: Have a look at the PostgreSQL database\n",
    "I've already created a single PostgreSQL database table containing all the raw data for this course. In the next few exercises, I want you to have a look at that table. For that, you'll need to retrieve your SQL knowledge and query the `information_schema` database, which is available in PostgreSQL by default.\n",
    "\n",
    "```sql\n",
    "SELECT table_schema, table_name\n",
    "FROM information_schema.tables;\n",
    "```\n",
    "\n",
    "`information_schema` is actually some sort of meta-database that holds information about your current database. It's not PostgreSQL specific and also available in other database management systems like MySQL or SQL Server. This `information_schema` database holds various information in different tables, for example in the `tables` table.\n",
    "\n",
    "```\n",
    "   table_schema   |         table_name\n",
    "------------------|-----------------------------\n",
    "pg_catalog        | pg_statistic\n",
    "pg_catalog        | pg_type\n",
    "pg_catalog        | pg_policy\n",
    "pg_catalog        | pg_authid\n",
    "pg_catalog        | pg_shadow\n",
    "public            | university_professors\n",
    "pg_catalog        | pg_settings\n",
    "...\n",
    "```\n",
    "\n",
    "### Have a look at the columns of a certain table\n",
    "`information_schema` also holds information about columns in the `columns` table. Once you know the name of a table, you can query its columns by accessing the `columns` table. \n",
    "```sql\n",
    "SELECT table_name, column_name, data_type\n",
    "FROM information_schema.columns\n",
    "WHERE table_name = 'pg_congif';\n",
    "```\n",
    "```\n",
    "table_name | columns_name | data_type\n",
    "-----------|--------------|-----------\n",
    "pg_config  | name         | text\n",
    "pg_config  | setting      | text\n",
    "```\n",
    "\n",
    "Here, for example, you see that the system table `pg_config` has only two columns – supposedly for storing name-value pairs."
   ]
  },
  {
   "cell_type": "markdown",
   "id": "a72fc1bc-57d4-4e1c-bdcf-f0154aa70534",
   "metadata": {},
   "source": [
    "## Query information_schema with SELECT\n",
    "`information_schema` is a meta-database that holds information about your current database. `information_schema` has multiple tables you can query with the known `SELECT * FROM syntax`:\n",
    "\n",
    "    - tables: information about all tables in your current database\n",
    "    - columns: information about all columns in all of the tables in your current database\n",
    "\n",
    "In this exercise, you'll only need information from the `'public'` schema, which is specified as the column `table_schema` of the `tables` and `columns` tables. The `'public'` schema holds information about user-defined tables and databases. The other types of `table_schema` hold system information – for this course, you're only interested in user-defined stuff.\n",
    "\n",
    "- Get information on all table names in the current database, while limiting your query to the `'public'` `table_schema`."
   ]
  },
  {
   "cell_type": "markdown",
   "id": "eaa9fcda-b796-4d1d-b513-95ab811261b8",
   "metadata": {},
   "source": [
    "```SQL\n",
    "-- Query the right table in information_schema\n",
    "SELECT table_name \n",
    "FROM information_schema.tables\n",
    "-- Specify the correct table_schema value\n",
    "WHERE table_schema = 'public';\n",
    "```"
   ]
  },
  {
   "cell_type": "markdown",
   "id": "7c659b41-7f95-4534-a785-321d7aace135",
   "metadata": {},
   "source": [
    "```\n",
    "table_name\n",
    "----------------------\n",
    "university_professors\n",
    "```"
   ]
  },
  {
   "cell_type": "markdown",
   "id": "7464d44e-39e2-4c08-b910-66eb1082ad95",
   "metadata": {},
   "source": [
    "- Now have a look at the columns in `university_professors` by selecting all entries in `information_schema.columns` that correspond to that table."
   ]
  },
  {
   "cell_type": "markdown",
   "id": "6153c90d-fc2b-4931-b27a-b3b275b2ce27",
   "metadata": {},
   "source": [
    "```sql\n",
    "-- Query the right table in information_schema to get columns\n",
    "SELECT column_name, data_type \n",
    "FROM information_schema.columns\n",
    "WHERE table_name = 'university_professors' \n",
    "    AND table_schema = 'public';\n",
    "```"
   ]
  },
  {
   "cell_type": "markdown",
   "id": "bfd9405c-6e85-416d-9014-423ce596967d",
   "metadata": {},
   "source": [
    "```\n",
    "column_name          | data_type\n",
    "---------------------|----------\n",
    "firstname            | text\n",
    "lastname             | text\n",
    "university           | text\n",
    "university_shortname | text\n",
    "university_city      | text\n",
    "function             | text\n",
    "organization         | text\n",
    "organization_sector  | text\n",
    "```"
   ]
  },
  {
   "cell_type": "markdown",
   "id": "e97d7e3f-c5fc-4e85-9d07-a1ca5b49201f",
   "metadata": {},
   "source": [
    "- Finally, print the first five rows of the `university_professors` table."
   ]
  },
  {
   "cell_type": "markdown",
   "id": "34516c83-5d57-4998-9d50-72fe812a4a01",
   "metadata": {},
   "source": [
    "```sql\n",
    "-- Query the first five rows of our table\n",
    "SELECT * \n",
    "FROM university_professors \n",
    "LIMIT 5;\n",
    "```"
   ]
  },
  {
   "cell_type": "markdown",
   "id": "548ddfce-3153-401c-ac78-64aa51db3aed",
   "metadata": {},
   "source": [
    "```\n",
    "firstname       | lastname | university   | university_shortname | university_city | function                                         | organization                   | organization_sector\n",
    "----------------|----------|--------------|----------------------|-----------------|--------------------------------------------------|--------------------------------|------------------------------\n",
    "Karl            | Aberer   | ETH Lausanne | EPF                  | Lausanne        | Chairman of L3S Advisory Board                   | L3S Advisory Board             | Education & research\n",
    "Karl            | Aberer   | ETH Lausanne | EPF                  | Lausanne        | Member Conseil of Zeno-Karl Schindler Foundation | Zeno-Karl Schindler Foundation | Education & research\n",
    "Karl            | Aberer   | ETH Lausanne | EPF                  | Lausanne        | Member of Conseil Fondation IDIAP                | Fondation IDIAP                | Education & research\n",
    "Karl            | Aberer   | ETH Lausanne | EPF                  | Lausanne        | Panel Member                                     | SNF Ambizione Program          | Education & research\n",
    "Reza Shokrollah | Abhari   | ETH Zürich   | ETH                  | Zurich          | Aufsichtsratsmandat                              | PNE Wind AG                    | Energy, environment & mobility\n",
    "```"
   ]
  },
  {
   "cell_type": "markdown",
   "id": "84464c6f-4827-434c-91ec-350726c97aa4",
   "metadata": {},
   "source": [
    "*You're now familiar with the pre-existing `university_professors` table, which holds information on all kinds of entities. You'll migrate data from this table to other tables in the upcoming lessons.*"
   ]
  },
  {
   "cell_type": "markdown",
   "id": "12edcf1c-55b7-47d0-9ec9-ae6b7fd10e60",
   "metadata": {},
   "source": [
    "---\n",
    "## Tables: At the core of every database\n",
    "Let's delve into one of the most important concepts behind databases: **tables**.\n",
    "\n",
    "### Redundancy in the university_professors table\n",
    "You might have noticed that there's some redundancy in the `university_professors` table. Let's have a look at the first three records, for example.\n",
    "```sql\n",
    "SELECT * FROM\n",
    "FROM university_professors\n",
    "LIMIT 3;\n",
    "```\n",
    "```\n",
    "-[ RECORD 1 ]--------+-------------------------------------------------\n",
    "firstname            | Karl\n",
    "lastname             | Aberer\n",
    "university           | ETH Lausanne\n",
    "university_shortname | EPF\n",
    "university_city      | Lausanne\n",
    "function             | Chairman of L3S Advisory Board\n",
    "organization         | L3S Advisory Board\n",
    "organization_sector  | Education & research\n",
    "-[ RECORD 2 ]--------+-------------------------------------------------\n",
    "firstname            | Karl\n",
    "lastname             | Aberer\n",
    "university           | ETH Lausanne\n",
    "university_shortname | EPF\n",
    "university_city      | Lausanne\n",
    "function             | Member Conseil of Zeno-Karl Schindler Foundation\n",
    "organization         | Zeno-Karl Schindler Foundation\n",
    "organization_sector  | Education & research\n",
    "-[ RECORD 3 ]--------+-------------------------------------------------\n",
    "firstname            | Karl\n",
    "lastname             | Aberer\n",
    "university           | ETH Lausanne\n",
    "university_shortname | EPF\n",
    "university_city      | Lausanne\n",
    "function             | Member of Conseil Fondation IDIAP\n",
    "organization         | Fondation IDIAP\n",
    "organization_sector  | Education & research\n",
    "```\n",
    "\n",
    "As you can see, this professor is repeated in the first three records. Also, his university, the \"`ETH Lausanne`, is repeated a couple of times – because he only works for this university. However, he seems to have affiliations with at least three different organizations. So, there's a certain redundancy in that table. The reason for this is that the table actually contains entities of at least three different types. Let's have a look at these entity types.\n",
    "\n",
    "Actually the table stores professors, highlighted in blue, universities, highlighted in green, and organizations, highlighted in brown. There's also this column called \"function\" which denotes the role the professor plays at a certain organization. More on that later.\n",
    "\n",
    "~### Currently: One \"entity type\" in the database~\n",
    "~Let's look at the current database once again. The graphic used here is called an entity-relationship diagram. Squares denote so-called entity types, while circles connected to these denote attributes (or columns). So far, we have only modeled one so-called entity type – `university_professors`. However, we discovered that this table actually holds many different entity types...~\n",
    "\n",
    "~### A better database model with three entity types~\n",
    "~...so this updated entity-relationship model on the right side would be better suited. It represents three entity types, \"professors\", \"universities\", and \"organizations\" in their own tables, with respective attributes. This reduces redundancy, as professors, unlike now, need to be stored only once. Note that, for each professor, the respective university is also denoted through the \"university_shortname\" attribute. However, one original attribute, the \"function\", is still missing.~\n",
    "\n",
    "~### A better database model with four entity types~\n",
    "~As you know, this database contains affiliations of professors with third-party organizations. The attribute \"function\" gives some extra information to that affiliation. For instance, somebody might act as chairman for a certain third-party organization. So the best idea at the moment is to store these affiliations in their own table – it connects professors with their respective organizations, where they have a certain function.~\n",
    "\n",
    "### Create new tables with CREATE TABLE\n",
    "The first thing you need to do now is to create four empty tables for professors, universities, organizations, and affiliations. This is quite easy with SQL – you'll use the `CREATE TABLE` command for that. At the minimum, this command requires a table name and one or more columns with their respective data types.\n",
    "```sql\n",
    "CREATE TABLE table_name (\n",
    "    column_a data_type,\n",
    "    column_b data_type,\n",
    "    column_c data_type,\n",
    "    );\n",
    "```\n",
    "\n",
    "For example, you could create a `weather` table with three aptly named columns. After each column name, you must specify the data type. \n",
    "```sql\n",
    "CREATE TABLE weather (\n",
    "    clouds text,\n",
    "    temperature numeric,\n",
    "    weather_station char(5)\n",
    "    );\n",
    "```\n",
    "There are many different types, and you will discover some in the remainder of this course. For example, you could specify a text column, a numeric column, and a column that requires fixed-length character strings with 5 characters each."
   ]
  },
  {
   "cell_type": "markdown",
   "id": "ec50a721-f18b-4ca3-bb19-2d6cf3abebc2",
   "metadata": {},
   "source": [
    "## CREATE TABLEs\n",
    "You'll now start implementing a better database model. For this, you'll create tables for the `professors` and `universities` entity types. The other tables will be created for you.\n",
    "\n",
    "The syntax for creating simple tables is as follows:\n",
    "```sql\n",
    "CREATE TABLE table_name (\n",
    "    column_a data_type,\n",
    "    column_b data_type, \n",
    "    column_c data_type\n",
    ");\n",
    "```\n",
    "- Create a table `professors` with two `text` columns: `firstname` and `lastname`."
   ]
  },
  {
   "cell_type": "markdown",
   "id": "ccac2d93-8603-44cf-806e-8c619492dce3",
   "metadata": {},
   "source": [
    "```sql\n",
    "-- Create a table for the professors entity type\n",
    "CREATE TABLE professors (\n",
    " firstname text,\n",
    " lastname text\n",
    ");\n",
    "```"
   ]
  },
  {
   "cell_type": "markdown",
   "id": "5e88b408-b9ae-470b-b2a3-2f2b2df5f265",
   "metadata": {},
   "source": [
    "- Create a table `universities` with three `text` columns: `university_shortname`, `university`, and `university_city`."
   ]
  },
  {
   "cell_type": "markdown",
   "id": "9b8a5f3e-1dd3-4e2b-945e-475f02bf8541",
   "metadata": {},
   "source": [
    "```sql\n",
    "-- Create a table for the universities entity type\n",
    "CREATE TABLE universities (\n",
    "    university_shortname text,\n",
    "    university text,\n",
    "    university_city text\n",
    ");\n",
    "```"
   ]
  },
  {
   "cell_type": "markdown",
   "id": "0b03a6a7-eadd-462d-85a4-c4b4416ac192",
   "metadata": {},
   "source": [
    "## ADD a COLUMN with ALTER TABLE\n",
    "- Alter `professors` to add the text column `university_shortname`."
   ]
  },
  {
   "cell_type": "markdown",
   "id": "5ad1bf84-65a9-4a3b-a296-56d2155631c6",
   "metadata": {},
   "source": [
    "```sql\n",
    "-- Add the university_shortname column\n",
    "ALTER TABLE professors\n",
    "ADD COLUMN university_shortname text;\n",
    "```"
   ]
  },
  {
   "cell_type": "markdown",
   "id": "7ff88bba-30d3-4496-95b7-3bf5f5c812fd",
   "metadata": {},
   "source": [
    "---\n",
    "## Update your database as the structure changes\n",
    "###  Only store DISTINCT data in the new tables\n",
    "One advantage of splitting up `university_professors` into several tables is the reduced redundancy. As of now, `university_professors` holds 1377 entries.\n",
    "```sql\n",
    "SELECT COUNT(*)\n",
    "FROM university_professors;\n",
    "```\n",
    "```\n",
    "count\n",
    "-----\n",
    "1377\n",
    "```\n",
    "\n",
    "However, there are only 1287 distinct organizations, as this query shows. Therefore, you only need to store 1287 distinct organizations in the new `organizations` table.\n",
    "```sql\n",
    "SELECT COUNT(DISTINCT organization)\n",
    "FROM university_professors;\n",
    "```\n",
    "```\n",
    "count\n",
    "-----\n",
    "1287\n",
    "```\n",
    "\n",
    "### INSERT DISTINCT records INTO the new tables\n",
    "In order to copy data from an existing table to a new one, you can use the `INSERT INTO SELECT DISTINCT` pattern. After `INSERT INTO`, you specify the name of the target table – `organizations` in this case. Then you select the columns that should be copied over from the source table – `unviversity_professors` in this case. You use the `DISTINCT` keyword to only copy over distinct organizations. \n",
    "```sql\n",
    "INSERT INTO organizations\n",
    "SELECT DISTINCT organization,\n",
    "    organization_sector\n",
    "FROM university_professors;\n",
    "```\n",
    "```\n",
    "Output: INSERT 0 1287\n",
    "```\n",
    "\n",
    "As the output shows, only 1287 records are inserted into the `organizations` table. \n",
    "\n",
    "If you just used `INSERT INTO SELECT`, **without** the `DISTINCT` keyword, duplicate records would be copied over as well. \n",
    "```sql\n",
    "INSERT INTO organizations\n",
    "SELECT organization,\n",
    "    organization_sector\n",
    "FROM university_professors;\n",
    "```\n",
    "```\n",
    "Output: INSERT 0 1377\n",
    "```\n",
    "\n",
    "In the following exercises, you will migrate your data to the four new tables.\n",
    "\n",
    "### The INSERT INTO statement\n",
    "By the way, this is the normal use case for `INSERT INTO` – where you insert values manually. `INSERT INTO` is followed by the table name and an optional list of columns which should be filled with data. Then follows the `VALUES` keyword and the actual values you want to insert.\n",
    "```sql\n",
    "INSERT INTO table_name (column_a, column_b)\n",
    "VALUES ('value_a', 'value_b');\n",
    "```\n",
    "\n",
    "### RENAME a COLUMN in affiliations\n",
    "Before you start migrating the table, you need to fix some stuff! In the last lesson, I created the `affiliations` table for you. Unfortunately, I made a mistake in this process. Can you spot it? \n",
    "```sql\n",
    "CREATE TABLE affiliations (\n",
    "    firstname text,\n",
    "    lastname text,\n",
    "    university_shortname text,\n",
    "    function text,\n",
    "    organisation text\n",
    ");\n",
    "```\n",
    "\n",
    "The way the `organisation` column is spelled is not consistent with the American-style spelling of this table, using an `s` instead of a `z`. \n",
    "\n",
    "You can correct this with the known `ALTER TABLE` syntax. \n",
    "You do this with the `RENAME COLUMN` command by specifying the old column name first and then the new column name, i.e., `RENAME COLUMN old_name TO new_name`.\n",
    "```sql\n",
    "ALTER TABLE table_name\n",
    "RENAME COLUMN old_name TO new_name;\n",
    "```\n",
    "\n",
    "### DROP a COLUMN in affiliations\n",
    "Also, the `university_shortname` column is not even needed here. \n",
    "```sql\n",
    "CREATE TABLE affiliations (\n",
    "    firstname text,\n",
    "    lastname text,\n",
    "    university_shortname text,\n",
    "    function text,\n",
    "    organization text\n",
    ");\n",
    "```\n",
    "So I want you to delete it. The syntax for this is again very simple, you use a `DROP COLUMN` command followed by the name of the column. \n",
    "```sql\n",
    "ALTER TABLE table_name\n",
    "DROP COLUMN column_name;\n",
    "```\n",
    "Dropping columns is straightforward when the tables are still empty, so it's not too late to fix this error. But why is it an error in the first place?\n",
    "\n",
    "### A professor is uniquely identified by firstname, lastname only\n",
    "Well, I queried the `university_professors` table and saw that there are 551 unique combinations of first names, last names, and associated universities.\n",
    "```sql\n",
    "SELECT DISTINCT firstname, lastname, university_shortname\n",
    "FROM university_professors\n",
    "ORDER BY lastnames;\n",
    "```\n",
    " I then queried the table again and only looked for unique combinations of first and last names. \n",
    "```sql\n",
    "SELECT DISTINCT firstname, lastname\n",
    "FROM university_professors\n",
    "ORDER BY lastnames;\n",
    "```\n",
    " \n",
    "Turns out, this is also 551 records. This means that the columns `firstname` and `lastname` uniquely identify a professor.\n",
    "\n",
    "So the `university_shortname` column is not needed in order to reference a professor in the affiliations table. You can remove it, and this will reduce the redundancy in your database again. In other words: The columns `firstname`, `lastname`, `function`, and `organization` are enough to store the affiliation a professor has with a certain organization."
   ]
  },
  {
   "cell_type": "markdown",
   "id": "5d0ba43d-00b9-4aff-9daf-cd5a7d5def0b",
   "metadata": {},
   "source": [
    "## RENAME and DROP COLUMNs in affiliations\n",
    "The still empty affiliations table has some flaws. In this exercise, you'll correct them as mentioned above.\n",
    "\n",
    "You'll use the following queries:\n",
    "\n",
    "To rename columns:\n",
    "```sql\n",
    "ALTER TABLE table_name\n",
    "RENAME COLUMN old_name TO new_name;\n",
    "```\n",
    "To delete columns:\n",
    "```sql\n",
    "ALTER TABLE table_name\n",
    "DROP COLUMN column_name;\n",
    "```"
   ]
  },
  {
   "cell_type": "markdown",
   "id": "d845f632-fb8d-4e88-a400-5f1e056f5b0e",
   "metadata": {},
   "source": [
    "- Rename the `organisation` column to `organization` in `affiliations`."
   ]
  },
  {
   "cell_type": "markdown",
   "id": "f1995dc6-5d85-45ec-a790-0523ee6d7a54",
   "metadata": {},
   "source": [
    "```sql\n",
    "-- Rename the organisation column\n",
    "ALTER TABLE affiliations\n",
    "RENAME COLUMN organisation TO organization;\n",
    "```"
   ]
  },
  {
   "cell_type": "markdown",
   "id": "1da500d9-b5cd-4820-b68f-877c047a4f86",
   "metadata": {},
   "source": [
    "- Delete the `university_shortname` column in `affiliations`."
   ]
  },
  {
   "cell_type": "markdown",
   "id": "5658be95-b354-4b24-8756-e0919e9ed454",
   "metadata": {},
   "source": [
    "```sql\n",
    "-- Delete the university_shortname column\n",
    "ALTER TABLE affiliations\n",
    "DROP COLUMN university_shortname;\n",
    "```"
   ]
  },
  {
   "cell_type": "markdown",
   "id": "8990af79-23f3-47dc-ab94-b3d0b62a5850",
   "metadata": {},
   "source": [
    "## Migrate data with INSERT INTO SELECT DISTINCT\n",
    "Now it's finally time to migrate the data into the new tables. You'll use the following pattern:\n",
    "\n",
    "```sql\n",
    "INSERT INTO ... \n",
    "SELECT DISTINCT ... \n",
    "FROM ...;\n",
    "```\n",
    "It can be broken up into two parts:\n",
    "\n",
    "*First part*:\n",
    "```sql\n",
    "SELECT DISTINCT column_name1, column_name2, ... \n",
    "FROM table_a;\n",
    "```\n",
    "This selects all distinct values in table `table_a` – nothing new for you.\n",
    "\n",
    "*Second part*:\n",
    "```sql\n",
    "INSERT INTO table_b ...;\n",
    "```\n",
    "Take this part and append it to the first, so it inserts all distinct rows from `table_a` into `table_b`.\n",
    "\n",
    "**One last thing**: It is important that you run all of the code at the same time once you have filled out the blanks."
   ]
  },
  {
   "cell_type": "markdown",
   "id": "e3f9e1dd-160c-477f-9eb7-d299a6c637f1",
   "metadata": {},
   "source": [
    "- Insert all `DISTINCT` professors from `university_professors` into `professors`."
   ]
  },
  {
   "cell_type": "markdown",
   "id": "56e14d7a-bdd5-4a6b-a74c-87c95d3524d1",
   "metadata": {},
   "source": [
    "```sql\n",
    "-- Insert unique professors into the new table\n",
    "INSERT INTO professors \n",
    "SELECT DISTINCT firstname, lastname, university_shortname \n",
    "FROM university_professors;\n",
    "```"
   ]
  },
  {
   "cell_type": "markdown",
   "id": "c0f65a97-d2d5-49db-8310-4f4c1bec682d",
   "metadata": {},
   "source": [
    "- Insert all `DISTINCT` affiliations into `affiliations` from `university_professors`."
   ]
  },
  {
   "cell_type": "markdown",
   "id": "60b82568-11e1-4f7e-be76-9487972b2076",
   "metadata": {},
   "source": [
    "```sql\n",
    "-- Insert unique affiliations into the new table\n",
    "INSERT INTO affiliations \n",
    "SELECT DISTINCT firstname, lastname, function, organization \n",
    "FROM university_professors;\n",
    "```"
   ]
  },
  {
   "cell_type": "markdown",
   "id": "2e89c8b5-1e71-41a2-843d-34dd39a43da1",
   "metadata": {},
   "source": [
    "*There are 1377 distinct combinations of professors and organisations in the dataset. We'll migrate the other two tables `universities` and `organizations` for you. The last thing to do in this chapter is to delete the no longer needed `university_professors` table.*"
   ]
  },
  {
   "cell_type": "markdown",
   "id": "14ba9e29-abdf-4968-a423-c7b02aa0b087",
   "metadata": {},
   "source": [
    "## Delete tables with DROP TABLE\n",
    "Obviously, the `university_professors` table is now no longer needed and can safely be deleted.\n",
    "\n",
    "For table deletion, you can use the simple command:\n",
    "```sql\n",
    "DROP TABLE table_name;\n",
    "```"
   ]
  },
  {
   "cell_type": "markdown",
   "id": "34776b78-c0e8-493e-a6e9-64c3f6df2487",
   "metadata": {},
   "source": [
    "- Delete the `university_professors` table."
   ]
  },
  {
   "cell_type": "markdown",
   "id": "b4ac83b7-9a3f-477f-87d6-889808e9064f",
   "metadata": {},
   "source": [
    "```sql\n",
    "-- Delete the university_professors table\n",
    "DROP TABLE university_professors;\n",
    "```"
   ]
  },
  {
   "cell_type": "markdown",
   "id": "0f98ee1b-b1ed-44b2-8c00-071c47369607",
   "metadata": {},
   "source": []
  }
 ],
 "metadata": {
  "kernelspec": {
   "display_name": "Python 3",
   "language": "python",
   "name": "python3"
  },
  "language_info": {
   "codemirror_mode": {
    "name": "ipython",
    "version": 3
   },
   "file_extension": ".py",
   "mimetype": "text/x-python",
   "name": "python",
   "nbconvert_exporter": "python",
   "pygments_lexer": "ipython3",
   "version": "3.8.8"
  }
 },
 "nbformat": 4,
 "nbformat_minor": 5
}
