{
 "cells": [
  {
   "cell_type": "markdown",
   "id": "ed652db2-96be-49ba-9000-24f7d532df72",
   "metadata": {},
   "source": [
    "# 2. Interacting with APIs to import data from the web\n",
    "**In this chapter, you will gain a deeper understanding of how to import data from the web. You will learn the basics of extracting data from APIs, gain insight on the importance of APIs, and practice extracting data by diving into the OMDB and Library of Congress APIs.**"
   ]
  },
  {
   "cell_type": "markdown",
   "id": "673a08b0-ec39-4ae9-b879-c269242ab39c",
   "metadata": {},
   "source": [
    "## Introduction to APIs and JSONs\n",
    "### APIs\n",
    "- Application Programming Interface\n",
    "- Protocols and routines\n",
    "    - Building and interacting with software applications\n",
    "    - ex) [OMDb API (the Open Movie Datavase API)](https://www.omdbapi.com/)\n",
    "\n",
    "### JSONs\n",
    "- JavaScript Object Notation\n",
    "- Real-time server-to-browser communication that wouldn't necessarily rely on Flash or Java and was first specified\n",
    "- Popularized by Douglas Crockford, an American programmer and entrepreneur\n",
    "- Human readable\n",
    "\n",
    "### Loading JSONs in Python\n",
    "```python\n",
    "import json\n",
    "with open('data.json', 'r') as json_file:\n",
    "    json_data = json.load(json_file)\n",
    "```\n",
    "```python\n",
    "type(json_data)\n",
    "```\n",
    "```\n",
    "dict\n",
    "```\n",
    "\n",
    "### Exploring JSONs in Python\n",
    "```python\n",
    "for key, value in json_data.items():\n",
    "    print(key + ':', value)\n",
    "```"
   ]
  },
  {
   "cell_type": "markdown",
   "id": "c42aaecb-c3a2-4398-aae5-80c59454ace5",
   "metadata": {},
   "source": [
    "## Pop quiz: What exactly is a JSON?\n",
    "Which of the following is **NOT** true of the JSON file format?\n",
    "\n",
    "1. JSONs consist of key-value pairs.\n",
    "2. JSONs are human-readable.\n",
    "3. The JSON file format arose out of a growing need for real-time server-to-browser communication.\n",
    "4. ~~The function `json.load()` will load the JSON into Python as a `list`.~~\n",
    "5. The function `json.load()` will load the JSON into Python as a `dictionary`.\n",
    "\n",
    "**Answer: 4**"
   ]
  },
  {
   "cell_type": "markdown",
   "id": "7ca07585-ca64-47a5-9979-39b0acb41e26",
   "metadata": {},
   "source": [
    "## Loading and exploring a JSON\n",
    "Now that you know what a JSON is, you'll load one into your Python environment and explore it yourself. Here, you'll load the JSON `'a_movie.json'` into the variable `json_data`, which will be a dictionary. You'll then explore the JSON contents by printing the key-value pairs of `json_data` to the shell."
   ]
  },
  {
   "cell_type": "markdown",
   "id": "7268eb02-0b6e-4573-a0ce-106d36e69f6c",
   "metadata": {},
   "source": [
    "- Load the JSON `'a_movie.json'` into the variable `json_data` *within the context* provided by the `with` statement. To do so, use the function `json.load()` *within the context manager*.\n",
    "- Use a `for` loop to print all key-value pairs in the dictionary `json_data`. Recall that you can access a value in a dictionary using the syntax: *dictionary*`[`key`]`."
   ]
  },
  {
   "cell_type": "code",
   "execution_count": 6,
   "id": "5f712c5b-178a-41b4-a2ef-fe7916ab6de2",
   "metadata": {},
   "outputs": [
    {
     "name": "stdout",
     "output_type": "stream",
     "text": [
      "Title:  The Social Network\n",
      "Year:  2010\n",
      "Rated:  PG-13\n",
      "Released:  01 Oct 2010\n",
      "Runtime:  120 min\n",
      "Genre:  Biography, Drama\n",
      "Director:  David Fincher\n",
      "Writer:  Aaron Sorkin (screenplay), Ben Mezrich (book)\n",
      "Actors:  Jesse Eisenberg, Rooney Mara, Bryan Barter, Dustin Fitzsimons\n",
      "Plot:  As Harvard student Mark Zuckerberg creates the social networking site that would become known as Facebook, he is sued by the twins who claimed he stole their idea, and by the co-founder who was later squeezed out of the business.\n",
      "Language:  English, French\n",
      "Country:  USA\n",
      "Awards:  Won 3 Oscars. Another 169 wins & 186 nominations.\n",
      "Poster:  https://m.media-amazon.com/images/M/MV5BOGUyZDUxZjEtMmIzMC00MzlmLTg4MGItZWJmMzBhZjE0Mjc1XkEyXkFqcGdeQXVyMTMxODk2OTU@._V1_SX300.jpg\n",
      "Ratings:  [{'Source': 'Internet Movie Database', 'Value': '7.7/10'}, {'Source': 'Rotten Tomatoes', 'Value': '96%'}, {'Source': 'Metacritic', 'Value': '95/100'}]\n",
      "Metascore:  95\n",
      "imdbRating:  7.7\n",
      "imdbVotes:  641,968\n",
      "imdbID:  tt1285016\n",
      "Type:  movie\n",
      "DVD:  05 Jun 2012\n",
      "BoxOffice:  $96,962,694\n",
      "Production:  Scott Rudin Productions, Michael De Luca, Trigger Street Productions\n",
      "Website:  N/A\n",
      "Response:  True\n"
     ]
    }
   ],
   "source": [
    "import json\n",
    "\n",
    "# Load JSON: json_data\n",
    "with open('a_movie.json') as json_file:\n",
    "    json_data = json.load(json_file)\n",
    "\n",
    "# Print each key-value pair in json_data\n",
    "for k in json_data.keys():\n",
    "    print(k + ': ', json_data[k])"
   ]
  },
  {
   "cell_type": "markdown",
   "id": "3dfdf565-dc53-4bd3-9cca-16739059cc10",
   "metadata": {},
   "source": [
    "---"
   ]
  },
  {
   "cell_type": "markdown",
   "id": "ad8855d2-1ba4-4299-9939-1700f1d168bf",
   "metadata": {},
   "source": [
    "## APIs and interacting with the world wide web\n",
    "JSONs are everywhere and one of the main motivating reasons for getting to know how to work with them as a Data Scientist is that much of the data that you'll get from APIs are packaged as JSONs.\n",
    "\n",
    "### What is an API?\n",
    "- Set of protocols and routines\n",
    "- Bunch of code\n",
    "    - Allows two software programs to communicate with each other\n",
    "    \n",
    "### What was that URL?\n",
    "- http - making an HTTP request\n",
    "- www.ombdapi.com - querying the OMBD API\n",
    "- `?t=hackers`\n",
    "    - Query string\n",
    "    - Return data for a movie with title (t) 'Hackers'\n",
    "       - `http://www.ombdapi.com/?t=hackers`"
   ]
  },
  {
   "cell_type": "markdown",
   "id": "8b692262-b144-496f-aa64-48a39ebff999",
   "metadata": {},
   "source": [
    "## Pop quiz: What's an API?\n",
    "Which of the following statements about APIs is **NOT** true?\n",
    "\n",
    "1. An API is a set of protocols and routines for building and interacting with software applications.\n",
    "2. API is an acronym and is short for Application Program interface.\n",
    "3. It is common to pull data from APIs in the JSON file format.\n",
    "4. ~~All APIs transmit data only in the JSON file format.~~\n",
    "5. An API is a bunch of code that allows two software programs to communicate with each other.\n",
    "\n",
    "**Answer: 4**"
   ]
  },
  {
   "cell_type": "markdown",
   "id": "67ae52da-4884-4232-b3e8-afccf66c5705",
   "metadata": {},
   "source": [
    "## API requests\n",
    "Now it's your turn to pull some movie data down from the Open Movie Database (OMDB) using their API. The movie you'll query the API about is *The Social Network*. To query the API about the movie *Hackers*, the query string is `'http://www.omdbapi.com/?t=hackers'` and has a single argument `t=hackers`.\n",
    "\n",
    "Note: recently, OMDB has changed their API: you now also have to specify an API key. This means you'll have to add another argument to the URL: `apikey=72bc447a`."
   ]
  },
  {
   "cell_type": "markdown",
   "id": "3fff084c-bfb1-45ec-bde4-37668697ee4d",
   "metadata": {},
   "source": [
    "- Import the `requests` package.\n",
    "- Assign to the variable `url` the URL of interest in order to query `'http://www.omdbapi.com'` for the data corresponding to the movie *The Social Network*. The *query string* should have two arguments: `apikey=72bc447a` and `t=the+social+network`. You can combine them as follows: `apikey=72bc447a&t=the+social+network`.\n",
    "- Print the text of the response object `r` by using its `text` attribute and passing the result to the `print()` function."
   ]
  },
  {
   "cell_type": "code",
   "execution_count": 3,
   "id": "065bce3e-602c-4f63-bf08-8c9577bfd77c",
   "metadata": {},
   "outputs": [
    {
     "name": "stdout",
     "output_type": "stream",
     "text": [
      "{\"Title\":\"The Social Network\",\"Year\":\"2010\",\"Rated\":\"PG-13\",\"Released\":\"01 Oct 2010\",\"Runtime\":\"120 min\",\"Genre\":\"Biography, Drama\",\"Director\":\"David Fincher\",\"Writer\":\"Aaron Sorkin (screenplay), Ben Mezrich (book)\",\"Actors\":\"Jesse Eisenberg, Rooney Mara, Bryan Barter, Dustin Fitzsimons\",\"Plot\":\"As Harvard student Mark Zuckerberg creates the social networking site that would become known as Facebook, he is sued by the twins who claimed he stole their idea, and by the co-founder who was later squeezed out of the business.\",\"Language\":\"English, French\",\"Country\":\"USA\",\"Awards\":\"Won 3 Oscars. Another 169 wins & 186 nominations.\",\"Poster\":\"https://m.media-amazon.com/images/M/MV5BOGUyZDUxZjEtMmIzMC00MzlmLTg4MGItZWJmMzBhZjE0Mjc1XkEyXkFqcGdeQXVyMTMxODk2OTU@._V1_SX300.jpg\",\"Ratings\":[{\"Source\":\"Internet Movie Database\",\"Value\":\"7.7/10\"},{\"Source\":\"Rotten Tomatoes\",\"Value\":\"96%\"},{\"Source\":\"Metacritic\",\"Value\":\"95/100\"}],\"Metascore\":\"95\",\"imdbRating\":\"7.7\",\"imdbVotes\":\"641,968\",\"imdbID\":\"tt1285016\",\"Type\":\"movie\",\"DVD\":\"05 Jun 2012\",\"BoxOffice\":\"$96,962,694\",\"Production\":\"Scott Rudin Productions, Michael De Luca, Trigger Street Productions\",\"Website\":\"N/A\",\"Response\":\"True\"}\n"
     ]
    }
   ],
   "source": [
    "# Import requests package\n",
    "import requests\n",
    "\n",
    "# Assign URL to variable: url\n",
    "url = 'http://www.omdbapi.com/?apikey=72bc447a&t=the+social+network'\n",
    "\n",
    "# Package the request, send the request and catch the response: r\n",
    "r = requests.get(url)\n",
    "\n",
    "# Print the text of the response\n",
    "print(r.text)\n"
   ]
  },
  {
   "cell_type": "markdown",
   "id": "d4fced1c-f7a4-491a-9904-9b4114d3d0ae",
   "metadata": {},
   "source": [
    "## JSON–from the web to Python\n",
    "You've just queried your first API programmatically in Python and printed the text of the response to the shell. However, as you know, your response is actually a JSON, so you can do one step better and decode the JSON. You can then print the key-value pairs of the resulting dictionary."
   ]
  },
  {
   "cell_type": "markdown",
   "id": "e8183ec8-469a-4d6d-9a9d-b033509e1d6a",
   "metadata": {},
   "source": [
    "- Pass the variable `url` to the `requests.get()` function in order to send the relevant request and catch the response, assigning the resultant response message to the variable `r`.\n",
    "- Apply the `json()` method to the response object `r` and store the resulting dictionary in the variable `json_data`.\n",
    "- Print the key-value pairs of the dictionary `json_data`."
   ]
  },
  {
   "cell_type": "code",
   "execution_count": 7,
   "id": "6fc306d6-7d4d-4ea6-b4cd-ef43eb28ec65",
   "metadata": {},
   "outputs": [
    {
     "name": "stdout",
     "output_type": "stream",
     "text": [
      "Title:  The Social Network\n",
      "Year:  2010\n",
      "Rated:  PG-13\n",
      "Released:  01 Oct 2010\n",
      "Runtime:  120 min\n",
      "Genre:  Biography, Drama\n",
      "Director:  David Fincher\n",
      "Writer:  Aaron Sorkin (screenplay), Ben Mezrich (book)\n",
      "Actors:  Jesse Eisenberg, Rooney Mara, Bryan Barter, Dustin Fitzsimons\n",
      "Plot:  As Harvard student Mark Zuckerberg creates the social networking site that would become known as Facebook, he is sued by the twins who claimed he stole their idea, and by the co-founder who was later squeezed out of the business.\n",
      "Language:  English, French\n",
      "Country:  USA\n",
      "Awards:  Won 3 Oscars. Another 169 wins & 186 nominations.\n",
      "Poster:  https://m.media-amazon.com/images/M/MV5BOGUyZDUxZjEtMmIzMC00MzlmLTg4MGItZWJmMzBhZjE0Mjc1XkEyXkFqcGdeQXVyMTMxODk2OTU@._V1_SX300.jpg\n",
      "Ratings:  [{'Source': 'Internet Movie Database', 'Value': '7.7/10'}, {'Source': 'Rotten Tomatoes', 'Value': '96%'}, {'Source': 'Metacritic', 'Value': '95/100'}]\n",
      "Metascore:  95\n",
      "imdbRating:  7.7\n",
      "imdbVotes:  641,968\n",
      "imdbID:  tt1285016\n",
      "Type:  movie\n",
      "DVD:  05 Jun 2012\n",
      "BoxOffice:  $96,962,694\n",
      "Production:  Scott Rudin Productions, Michael De Luca, Trigger Street Productions\n",
      "Website:  N/A\n",
      "Response:  True\n"
     ]
    }
   ],
   "source": [
    "# Import package\n",
    "import requests\n",
    "\n",
    "# Assign URL to variable: url\n",
    "url = 'http://www.omdbapi.com/?apikey=72bc447a&t=social+network'\n",
    "\n",
    "# Package the request, send the request and catch the response: r\n",
    "r = requests.get(url)\n",
    "\n",
    "# Decode the JSON data into a dictionary: json_data\n",
    "json_data = r.json()\n",
    "\n",
    "# Print each key-value pair in json_data\n",
    "for k in json_data.keys():\n",
    "    print(k + ': ', json_data[k])\n"
   ]
  },
  {
   "cell_type": "markdown",
   "id": "88136289-b938-44e2-b7af-4867494a8986",
   "metadata": {},
   "source": [
    "## Checking out the Wikipedia API\n",
    "We're going to throw one more API: the Wikipedia API (documented [here](https://www.mediawiki.org/wiki/API:Main_page)). You'll figure out how to find and extract information from the Wikipedia page for *Pizza*. What gets a bit wild here is that your query will return nested JSONs, that is, JSONs with JSONs, but Python can handle that because it will translate them into dictionaries within dictionaries.\n",
    "\n",
    "The URL that requests the relevant query from the Wikipedia API is `https://en.wikipedia.org/w/api.php?action=query&prop=extracts&format=json&exintro=&titles=pizza`"
   ]
  },
  {
   "cell_type": "markdown",
   "id": "654a554e-22b8-4597-a748-5fb2dd8f9701",
   "metadata": {},
   "source": [
    "- Assign the relevant URL to the variable `url`.\n",
    "- Apply the `json()` method to the response object `r` and store the resulting dictionary in the variable `json_data`.\n",
    "- The variable `pizza_extract` holds the HTML of an extract from Wikipedia's *Pizza* page as a string; use the function `print()` to print this string."
   ]
  },
  {
   "cell_type": "code",
   "execution_count": 9,
   "id": "85dff1ac-1caf-4e5e-821f-4d3967223271",
   "metadata": {},
   "outputs": [
    {
     "name": "stdout",
     "output_type": "stream",
     "text": [
      "<link rel=\"mw-deduplicated-inline-style\" href=\"mw-data:TemplateStyles:r1033289096\">\n",
      "<p class=\"mw-empty-elt\">\n",
      "</p>\n",
      "<p><b>Pizza</b> (<small>Italian: </small><span title=\"Representation in the International Phonetic Alphabet (IPA)\">[ˈpittsa]</span>, <small>Neapolitan: </small><span title=\"Representation in the International Phonetic Alphabet (IPA)\">[ˈpittsə]</span>) is an Italian dish consisting of a usually round, flattened base of leavened wheat-based dough topped with tomatoes, cheese, and often various other ingredients (such as anchovies, mushrooms, onions, olives, pineapple, meat, etc.), which is then baked at a high temperature, traditionally in a wood-fired oven. A small pizza is sometimes called a pizzetta. A person who makes pizza is known as a <b>pizzaiolo</b>.\n",
      "</p><p>In Italy, pizza served in formal settings, such as at a restaurant, is presented unsliced, and is eaten with the use of a knife and fork. In casual settings, however, it is cut into wedges to be eaten while held in the hand.\n",
      "</p><p>The term <i>pizza</i> was first recorded in the 10th century in a Latin manuscript from the Southern Italian town of Gaeta in Lazio, on the border with Campania. Modern pizza was invented in Naples, and the dish and its variants have since become popular in many countries. It has become one of the most popular foods in the world and a common fast food item in Europe and North America, available at pizzerias (restaurants specializing in pizza),  restaurants offering Mediterranean cuisine, and via pizza delivery. Many companies sell ready-baked frozen pizzas to be reheated in an ordinary home oven.\n",
      "</p><p>The <i>Associazione Verace Pizza Napoletana</i> (lit. True Neapolitan Pizza Association) is a non-profit organization founded in 1984 with headquarters in Naples that aims to promote traditional Neapolitan pizza. In 2009, upon Italy's request, Neapolitan pizza was registered with the European Union as a Traditional Speciality Guaranteed dish, and in 2017 the art of its making was included on UNESCO's list of intangible cultural heritage.</p>\n",
      "\n",
      "<!-- \n",
      "NewPP limit report\n",
      "Parsed by mw2404\n",
      "Cached time: 20210721183813\n",
      "Cache expiry: 1814400\n",
      "Reduced expiry: false\n",
      "Complications: [vary‐revision‐exists, vary‐revision‐sha1]\n",
      "CPU time usage: 0.415 seconds\n",
      "Real time usage: 0.608 seconds\n",
      "Preprocessor visited node count: 1047/1000000\n",
      "Post‐expand include size: 41727/2097152 bytes\n",
      "Template argument size: 1240/2097152 bytes\n",
      "Highest expansion depth: 17/40\n",
      "Expensive parser function count: 3/500\n",
      "Unstrip recursion depth: 0/20\n",
      "Unstrip post‐expand size: 18949/5000000 bytes\n",
      "Lua time usage: 0.255/10.000 seconds\n",
      "Lua memory usage: 5460885/52428800 bytes\n",
      "Number of Wikibase entities loaded: 1/400\n",
      "-->\n",
      "<!--\n",
      "Transclusion expansion time report (%,ms,calls,template)\n",
      "100.00%  560.395      1 -total\n",
      " 28.69%  160.762      1 Template:OED\n",
      " 15.26%   85.490      1 Template:Short_description\n",
      " 14.85%   83.228      1 Template:Infobox_food\n",
      " 13.41%   75.130      1 Template:Infobox\n",
      " 10.71%   60.029      1 Template:Pizza\n",
      " 10.15%   56.883      1 Template:Sidebar_with_collapsible_lists\n",
      "  9.38%   52.589      1 Template:Unbulleted_list\n",
      "  8.57%   48.000      1 Template:Pagetype\n",
      "  7.33%   41.086      1 Template:Pp-semi-indef\n",
      "-->\n"
     ]
    }
   ],
   "source": [
    "# Import package\n",
    "import requests\n",
    "\n",
    "# Assign URL to variable: url\n",
    "url = 'https://en.wikipedia.org/w/api.php?action=query&prop=extracts&format=json&exintro=&titles=pizza'\n",
    "\n",
    "# Package the request, send the request and catch the response: r\n",
    "r = requests.get(url)\n",
    "\n",
    "# Decode the JSON data into a dictionary: json_data\n",
    "json_data = r.json()\n",
    "\n",
    "# Print the Wikipedia page extract\n",
    "pizza_extract = json_data['query']['pages']['24768']['extract']\n",
    "print(pizza_extract)\n"
   ]
  },
  {
   "cell_type": "code",
   "execution_count": null,
   "id": "2a9db0e3-42f5-496d-9299-f52f4d7446ef",
   "metadata": {},
   "outputs": [],
   "source": []
  }
 ],
 "metadata": {
  "kernelspec": {
   "display_name": "Python 3",
   "language": "python",
   "name": "python3"
  },
  "language_info": {
   "codemirror_mode": {
    "name": "ipython",
    "version": 3
   },
   "file_extension": ".py",
   "mimetype": "text/x-python",
   "name": "python",
   "nbconvert_exporter": "python",
   "pygments_lexer": "ipython3",
   "version": "3.8.8"
  }
 },
 "nbformat": 4,
 "nbformat_minor": 5
}
