{
 "cells": [
  {
   "cell_type": "markdown",
   "id": "4afe6a6b-47b8-4a47-a7ba-768af99024a2",
   "metadata": {},
   "source": [
    "# 3. Diving deep into the Twitter API\n",
    "**In this chapter, you will consolidate your knowledge of interacting with APIs in a deep dive into the Twitter streaming API. You'll learn how to stream real-time Twitter data, and how to analyze and visualize it.**"
   ]
  },
  {
   "cell_type": "markdown",
   "id": "9dfbddc7-64ad-4d05-be30-e3abc756082f",
   "metadata": {},
   "source": [
    "## The Twitter API and Authentication\n",
    "### Access the Twitter API\n",
    "One of the first major differences between the Twitter API and all the APIs you have seen so far is that you were able to access all the others anonymously and Twitter requires that you have an account.\n",
    "\n",
    "In order gain access to the Twitter API, one needs to create a twitter account if you don't already have one, log into Twitter Apps and click \"Create a New App\" - you'll need to agree to a variety of terms and conditions here, then, go to your \"Keys and Access Tokens\" tab and Copy your API key, your API secret, your Access Token and your Access Token secret.\n",
    "\n",
    "These are the Authentication credentials that will allow you to access the Twitter API from Python.\n",
    "\n",
    "### Twitter has a number of APIs\n",
    "Firstly, they have a **REST API**; we won't go into the gory details of REST APIs here but I'll say two things:\n",
    "  1. REST is short for Representational State Transfer\n",
    "  2. Twitter's REST API allows the user to \"read and write Twitter data\"\n",
    "  \n",
    "In order \"monitor or process Tweets in real-time\", that is, to stream Twitter data, however, we'll want to use Twitter's **Streaming API**. In particular, we'll use the public stream, which Twitter's API documentation states \"Streams of the public data flowing through Twitter.\" \n",
    "\n",
    "The Public Stream itself contains a number of options. As we want to read and process tweets, we'll want to use the **GET statuses/sample API**, which \"Returns a small random sample of all public statuses.\" If you wanted to access absolutely \"All public statuses\", you would need to use Twitter's Firehose API, which is not publicly available and would most likely cost you a pretty penny.\n",
    "\n",
    "### Tweets are returned as JSONs\n",
    "Tweets are returned to us as JSONs and they contain numerous possible fields. You can get tweet text, user, language, time of tweet, among many other fields. \n",
    "\n",
    "### Using Tweepy: Authentication handler\n",
    "For first-time Python tweet-streamers, I usually recommend the package tweepy, which has a nice balance of usability and capability.\n",
    "\n",
    "`tw_auth.py`\n",
    "\n",
    "```python\n",
    "import tweepy, json\n",
    "access_token = \"...\"\n",
    "access_token_secret = \"...\"\n",
    "consumer_key = \"...\"\n",
    "consumer_secret = \"...\"\n",
    "auth = tweepy.OAuthHandler(consumer_key, consumer_secret)\n",
    "auth.set_access_token(access_token, access_token_secret)\n",
    "```\n",
    "\n",
    "### Tweepy: define stream listener class\n",
    "After this, you'll need to define you Twitter stream listener Class.\n",
    "\n",
    "`st_class.py`\n",
    "\n",
    "```python\n",
    "class MyStreamListener(tweepy.StreamListener):\n",
    "    def __init__(self, api=None):\n",
    "        super(MyStreamListener, self).__init__()\n",
    "        self.num_tweets = 0\n",
    "        self.file = open(\"tweets.txt\", \"w\")\n",
    "    def on_status(self, status):\n",
    "        tweet =status._json\n",
    "        self.file.write(json.dumps(tweet) + '\\\\n')\n",
    "        tweet_list.append(status)\n",
    "        self.num_tweets += 1\n",
    "        if self.num_tweets < 100:\n",
    "            return True\n",
    "        else:\n",
    "            return False\n",
    "        self.file.close()\n",
    "```\n",
    "\n",
    "### Using Tweepy: stream tweets\n",
    "`tweets.py`\n",
    "\n",
    "```python\n",
    "# Create Streaming object and authenticate\n",
    "l = MyStreamListener()\n",
    "stream = tweepy.Stream(auth, l)\n",
    "# This line filters Twitter Streams to capture data by keywords:\n",
    "stream.filter(track=['apples', 'oranges']\n",
    "```"
   ]
  },
  {
   "cell_type": "markdown",
   "id": "6e41963f-d8a5-4e42-9aa4-b60d0fa7a4de",
   "metadata": {},
   "source": [
    "## API Authentication\n",
    "The package tweepy is great at handling all the Twitter API OAuth Authentication details for you. All you need to do is pass it your authentication credentials.\n",
    "\n",
    "Your task is to pass these credentials to tweepy's OAuth handler."
   ]
  },
  {
   "cell_type": "markdown",
   "id": "2d3601a3-f265-4f82-a737-27645d1137df",
   "metadata": {},
   "source": [
    "- Import the package `tweepy`.\n",
    "- Pass the parameters `consumer_key` and `consumer_secret` to the function `tweepy.OAuthHandler()`.\n",
    "- Complete the passing of OAuth credentials to the OAuth handler `auth` by applying to it the method `set_access_token()`, along with arguments `access_token` and `access_token_secret`."
   ]
  },
  {
   "cell_type": "code",
   "execution_count": null,
   "id": "a7bad156-a98f-4960-9e6c-99e2734a65fe",
   "metadata": {},
   "outputs": [],
   "source": [
    "# Import package\n",
    "import tweepy\n",
    "\n",
    "# Store OAuth authentication credentials in relevant variables\n",
    "access_token = \".....\"\n",
    "access_token_secret = \".....\"\n",
    "consumer_key = \".....\"\n",
    "consumer_secret = \".....\"\n",
    "\n",
    "# Pass OAuth details to tweepy's OAuth handler\n",
    "auth = tweepy.OAuthHandler(consumer_key, consumer_secret)\n",
    "auth.set_access_token(access_token, access_token_secret)"
   ]
  },
  {
   "cell_type": "markdown",
   "id": "0b60397a-4583-4928-9342-ad7547437bd5",
   "metadata": {},
   "source": [
    "## Streaming tweets\n",
    "Now that you have set up your authentication credentials, it is time to stream some tweets.\n",
    "\n",
    "You can find the code for the tweet stream listener class [here](https://gist.github.com/hugobowne/18f1c0c0709ed1a52dc5bcd462ac69f4).\n",
    "\n",
    "Your task is to create the `Stream` object and to filter tweets according to particular keywords."
   ]
  },
  {
   "cell_type": "code",
   "execution_count": null,
   "id": "42ab8ab9-9714-4681-b1f8-4fb5ea612ff9",
   "metadata": {},
   "outputs": [],
   "source": [
    "class MyStreamListener(tweepy.StreamListener):\n",
    "    def __init__(self, api=None):\n",
    "        super(MyStreamListener, self).__init__()\n",
    "        self.num_tweets = 0\n",
    "        self.file = open(\"tweets.txt\", \"w\")\n",
    "\n",
    "    def on_status(self, status):\n",
    "        tweet = status._json\n",
    "        self.file.write(json.dumps(tweet) + '\\n')\n",
    "        self.num_tweets += 1\n",
    "        if self.num_tweets < 100:\n",
    "            return True\n",
    "        else:\n",
    "            return False\n",
    "        self.file.close()\n",
    "\n",
    "    def on_error(self, status):\n",
    "        print(status)"
   ]
  },
  {
   "cell_type": "markdown",
   "id": "0ee09c65-8d33-4037-b0c3-9d775dacaefc",
   "metadata": {},
   "source": [
    "- Create your `Stream` object with authentication by passing `tweepy.Stream()` the authentication handler `auth` and the Stream listener `l`;\n",
    "- To filter Twitter streams, pass to the `track` argument in `stream.filter()` a list containing the desired keywords `'clinton'`, `'trump'`, `'sanders'`, and `'cruz'`."
   ]
  },
  {
   "cell_type": "code",
   "execution_count": null,
   "id": "2411d17a-1a03-4e98-984d-e61fcfc0a754",
   "metadata": {},
   "outputs": [],
   "source": [
    "# Initialize Stream listener\n",
    "l = MyStreamListener()\n",
    "\n",
    "# Create your Stream object with authentication\n",
    "stream = tweepy.Stream(auth, l)\n",
    "\n",
    "# Filter Twitter Streams to capture data by the keywords:\n",
    "stream.filter(track=['clinton', 'trump', 'sanders', 'cruz'])"
   ]
  },
  {
   "cell_type": "markdown",
   "id": "0b9fc19d-b314-4929-a26c-84e1b1bf9489",
   "metadata": {},
   "source": [
    "## Load and explore your Twitter data\n",
    "Now that you've got your Twitter data sitting locally in a text file, it's time to explore it! This is what you'll do in the next few interactive exercises. In this exercise, you'll read the Twitter data into a list: `tweets_data`.\n",
    "\n",
    "Be aware that this is real data from Twitter and as such there is always a risk that it may contain profanity or other offensive content"
   ]
  },
  {
   "cell_type": "markdown",
   "id": "8130c9e9-c2d0-45cc-ad2a-aa10c4e3c21d",
   "metadata": {},
   "source": [
    "- Assign the filename `'tweets.txt'` to the variable `tweets_data_path`.\n",
    "- Initialize `tweets_data` as an empty list to store the tweets in.\n",
    "- Within the `for` loop initiated by `for line in tweets_file`:, load each tweet into a variable, `tweet`, using `json.loads()`, then append `tweet` to `tweets_data` using the `append()` method.\n",
    "- Check out the keys of the first tweet dictionary printed."
   ]
  },
  {
   "cell_type": "code",
   "execution_count": 3,
   "id": "9c45fc48-c395-4f72-bbc6-79a3337b55ea",
   "metadata": {},
   "outputs": [
    {
     "name": "stdout",
     "output_type": "stream",
     "text": [
      "dict_keys(['in_reply_to_user_id', 'created_at', 'filter_level', 'truncated', 'possibly_sensitive', 'timestamp_ms', 'user', 'text', 'extended_entities', 'in_reply_to_status_id', 'entities', 'favorited', 'retweeted', 'is_quote_status', 'id', 'favorite_count', 'retweeted_status', 'in_reply_to_status_id_str', 'in_reply_to_user_id_str', 'id_str', 'in_reply_to_screen_name', 'coordinates', 'lang', 'place', 'contributors', 'geo', 'retweet_count', 'source'])\n"
     ]
    }
   ],
   "source": [
    "# Import package\n",
    "import json\n",
    "\n",
    "# String of path to file: tweets_data_path\n",
    "tweets_data_path = 'tweets.txt'\n",
    "\n",
    "# Initialize empty list to store tweets: tweets_data\n",
    "tweets_data = []\n",
    "\n",
    "# Open connection to file\n",
    "tweets_file = open(tweets_data_path, 'r')\n",
    "\n",
    "# Read in tweets and store in list: tweets_data\n",
    "for line in tweets_file:\n",
    "    tweet = json.loads(line)\n",
    "    tweets_data.append(tweet)\n",
    "\n",
    "# Close connection to file\n",
    "tweets_file.close()\n",
    "\n",
    "# Print the keys of the first tweet dict\n",
    "print(tweets_data[0].keys())\n"
   ]
  },
  {
   "cell_type": "markdown",
   "id": "a25bedee-96ed-4f83-8a42-8f1d90c190c0",
   "metadata": {},
   "source": [
    "## Twitter data to DataFrame\n",
    "Now you have the Twitter data in a list of dictionaries, `tweets_data`, where each dictionary corresponds to a single tweet. Next, you're going to extract the text and language of each tweet. The text in a tweet, `t1`, is stored as the value `t1['text']`; similarly, the language is stored in `t1['lang']`. Your task is to build a DataFrame in which each row is a tweet and the columns are `'text'` and `'lang'`."
   ]
  },
  {
   "cell_type": "markdown",
   "id": "529fd14a-f457-4dc2-9947-c77ad1b7666b",
   "metadata": {},
   "source": [
    "- Use `pd.DataFrame()` to construct a DataFrame of tweet texts and languages; to do so, the first argument should be `tweets_data`, a list of dictionaries. The second argument to `pd.DataFrame()` is a *list* of the keys you wish to have as columns. Assign the result of the `pd.DataFrame()` call to `df`.\n",
    "- Print the head of the DataFrame."
   ]
  },
  {
   "cell_type": "code",
   "execution_count": 14,
   "id": "af5261a8-3ffa-4eb7-b5b1-b63375a1a27b",
   "metadata": {},
   "outputs": [
    {
     "name": "stdout",
     "output_type": "stream",
     "text": [
      "                                                text lang\n",
      "0  RT @bpolitics: .@krollbondrating's Christopher...   en\n",
      "1  RT @HeidiAlpine: @dmartosko Cruz video found.....   en\n",
      "2  Njihuni me Zonjën Trump !!! | Ekskluzive https...   et\n",
      "3  Your an idiot she shouldn't have tried to grab...   en\n",
      "4  RT @AlanLohner: The anti-American D.C. elites ...   en\n"
     ]
    }
   ],
   "source": [
    "# Import package\n",
    "import pandas as pd\n",
    "\n",
    "# Build DataFrame of tweet texts and languages\n",
    "df = pd.DataFrame(tweets_data, columns=['text','lang'])\n",
    "\n",
    "# Print head of DataFrame\n",
    "print(df.head())"
   ]
  },
  {
   "cell_type": "markdown",
   "id": "08fb8213-9a00-4027-9c45-98a2b2abaec9",
   "metadata": {},
   "source": [
    "## A little bit of Twitter text analysis\n",
    "Now that you have your DataFrame of tweets set up, you're going to do a bit of text analysis to count how many tweets contain the words `'clinton'`, `'trump'`, `'sanders'` and `'cruz'`. \n",
    "\n",
    "For this exercise, use the following function `word_in_text()`, which will tell you whether the first argument (a word) occurs within the 2nd argument (a tweet)."
   ]
  },
  {
   "cell_type": "code",
   "execution_count": 9,
   "id": "f6d0eae4-a987-4536-adc8-641143ce0144",
   "metadata": {},
   "outputs": [],
   "source": [
    "import re\n",
    "\n",
    "def word_in_text(word, text):\n",
    "    word = word.lower()\n",
    "    text = text.lower()\n",
    "    match = re.search(word, text)\n",
    "\n",
    "    if match:\n",
    "        return True\n",
    "    return False"
   ]
  },
  {
   "cell_type": "markdown",
   "id": "764113b8-ca06-408d-9063-f92260ddcb36",
   "metadata": {},
   "source": [
    "You're going to iterate over the rows of the DataFrame and calculate how many tweets contain each of our keywords! The list of objects for each candidate has been initialized to 0."
   ]
  },
  {
   "cell_type": "markdown",
   "id": "ed08f3cc-db47-4824-923a-f4dae2440e2f",
   "metadata": {},
   "source": [
    "- Within the `for` loop `for index, row in df.iterrows()`:, the code currently increases the value of `clinton` by `1` each time a tweet (text row) mentioning 'Clinton' is encountered; complete the code so that the same happens for `trump`, `sanders` and `cruz`."
   ]
  },
  {
   "cell_type": "code",
   "execution_count": 10,
   "id": "9ae0809d-f0ae-4bf2-b26e-152aaeb3134f",
   "metadata": {},
   "outputs": [],
   "source": [
    "# Initialize list to store tweet counts\n",
    "[clinton, trump, sanders, cruz] = [0, 0, 0, 0]\n",
    "\n",
    "# Iterate through df, counting the number of tweets in which\n",
    "# each candidate is mentioned\n",
    "for index, row in df.iterrows():\n",
    "    clinton += word_in_text('clinton', row['text'])\n",
    "    trump += word_in_text('trump', row['text'])\n",
    "    sanders += word_in_text('sanders', row['text'])\n",
    "    cruz += word_in_text('cruz', row['text'])"
   ]
  },
  {
   "cell_type": "markdown",
   "id": "cf1e3209-6a24-4927-98f2-b57b8d744b34",
   "metadata": {},
   "source": [
    "## Plotting your Twitter data\n",
    "Now that you have the number of tweets that each candidate was mentioned in, you can plot a bar chart of this data. You'll use the statistical data visualization library [`seaborn`](https://stanford.edu/~mwaskom/software/seaborn/), which you may not have seen before, but we'll guide you through. You'll first import `seaborn` as `sns`. You'll then construct a barplot of the data using `sns.barplot`, passing it two arguments:\n",
    "\n",
    "1. a list of *labels* and\n",
    "2. a list containing the variables you wish to plot (`clinton`, `trump` and so on.)"
   ]
  },
  {
   "cell_type": "markdown",
   "id": "0dff395b-bc36-46b1-8157-32b7a8d09ad0",
   "metadata": {},
   "source": [
    "- Import both `matplotlib.pyplot` and `seaborn` using the aliases `plt` and `sns`, respectively.\n",
    "- Complete the arguments of `sns.barplot`:\n",
    "    - The first argument should be the list of labels to appear on the x-axis (created in the previous step).\n",
    "    - The second argument should be a list of the variables you wish to plot, as produced in the previous exercise (i.e. a list containing `clinton`, `trump`, etc)."
   ]
  },
  {
   "cell_type": "code",
   "execution_count": 13,
   "id": "0a0f5cfd-3112-411f-a734-5d399fa8b5d1",
   "metadata": {},
   "outputs": [
    {
     "name": "stderr",
     "output_type": "stream",
     "text": [
      "C:\\Users\\sj501\\anaconda3\\lib\\site-packages\\seaborn\\_decorators.py:36: FutureWarning: Pass the following variables as keyword args: x, y. From version 0.12, the only valid positional argument will be `data`, and passing other arguments without an explicit keyword will result in an error or misinterpretation.\n",
      "  warnings.warn(\n"
     ]
    },
    {
     "data": {
      "image/png": "[encoded data removed]",
      "text/plain": [
       "<Figure size 432x288 with 1 Axes>"
      ]
     },
     "metadata": {},
     "output_type": "display_data"
    }
   ],
   "source": [
    "# Import packages\n",
    "import matplotlib.pyplot as plt\n",
    "import seaborn as sns\n",
    "\n",
    "# Set seaborn style\n",
    "sns.set(color_codes=True)\n",
    "\n",
    "# Create a list of labels:cd\n",
    "cd = ['clinton', 'trump', 'sanders', 'cruz']\n",
    "\n",
    "# Plot the bar chart\n",
    "ax = sns.barplot(cd, [clinton, trump, sanders, cruz])\n",
    "ax.set(ylabel=\"count\")\n",
    "plt.show()\n"
   ]
  },
  {
   "cell_type": "code",
   "execution_count": null,
   "id": "ef4f36a3-bd1f-4eab-a785-0230d92ceca7",
   "metadata": {},
   "outputs": [],
   "source": []
  }
 ],
 "metadata": {
  "kernelspec": {
   "display_name": "Python 3",
   "language": "python",
   "name": "python3"
  },
  "language_info": {
   "codemirror_mode": {
    "name": "ipython",
    "version": 3
   },
   "file_extension": ".py",
   "mimetype": "text/x-python",
   "name": "python",
   "nbconvert_exporter": "python",
   "pygments_lexer": "ipython3",
   "version": "3.8.8"
  }
 },
 "nbformat": 4,
 "nbformat_minor": 5
}
