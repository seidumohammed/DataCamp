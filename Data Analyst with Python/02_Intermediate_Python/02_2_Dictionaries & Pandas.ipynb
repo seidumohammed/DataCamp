{
 "cells": [
  {
   "cell_type": "markdown",
   "id": "f98c9633-d8ce-438d-a78f-3cb7c404ef50",
   "metadata": {},
   "source": [
    "# Dictionaries & Pandas\n",
    "**Learn about the dictionary, an alternative to the Python list, and the pandas DataFrame, the de facto standard to work with tabular data in Python. You will get hands-on practice with creating and manipulating datasets, and you’ll learn how to access the information you need from these data structures.**"
   ]
  },
  {
   "cell_type": "markdown",
   "id": "0de61a08-5267-4fed-b039-c683daf68a44",
   "metadata": {},
   "source": [
    "## Dictionary Manipulation (1)\n",
    "If you know how to access a dictionary, you can also assign a new value to it. To add a new key-value pair to `europe` you can use something like this:\n",
    "\n",
    "`europe['iceland'] = 'reykjavik'`\n",
    "\n",
    "- Add the key `'italy'` with the value `'rome'` to europe.\n",
    "- To assert that `'italy'` is now a key in `europe`, print out `'italy' in europe`.\n",
    "- Add another key:value pair to `europe`: `'poland'` is the key, `'warsaw'` is the corresponding value.\n",
    "- Print out `europe`."
   ]
  },
  {
   "cell_type": "code",
   "execution_count": 2,
   "id": "22304139-3a02-483f-accd-c2cd3c2d62fb",
   "metadata": {},
   "outputs": [
    {
     "name": "stdout",
     "output_type": "stream",
     "text": [
      "True\n",
      "{'spain': 'madrid', 'france': 'paris', 'germany': 'berlin', 'norway': 'oslo', 'italy': 'rome', 'poland': 'warsaw'}\n"
     ]
    }
   ],
   "source": [
    "# Definition of dictionary\n",
    "europe = {'spain':'madrid', 'france':'paris', 'germany':'berlin', 'norway':'oslo' }\n",
    "\n",
    "# Add italy to europe\n",
    "europe['italy'] = 'rome'\n",
    "\n",
    "# Print out italy in europe\n",
    "print('italy' in europe)\n",
    "\n",
    "# Add poland to europe\n",
    "europe['poland'] = 'warsaw'\n",
    "\n",
    "# Print europe\n",
    "print(europe)"
   ]
  },
  {
   "cell_type": "markdown",
   "id": "e003d8cb-168f-48c6-b264-83370c118c2d",
   "metadata": {},
   "source": [
    "## Dictionary Manipulation (2)\n",
    "Somebody thought it would be funny to mess with your accurately generated dictionary. An adapted version of the `europe` dictionary is available in the script.\n",
    "\n",
    "Can you clean up? Do not do this by adapting the definition of `europe`, but by adding Python commands to the script to update and remove key:value pairs.\n",
    "\n",
    "- The capital of Germany is not `'bonn'`; it's `'berlin'`. Update its value.\n",
    "- Australia is not in Europe, Austria is! Remove the key `'australia'` from `europe`.\n",
    "- Print out `europe` to see if your cleaning work paid off."
   ]
  },
  {
   "cell_type": "code",
   "execution_count": 3,
   "id": "cd062292-f71b-4122-bdeb-75f68646ee2d",
   "metadata": {},
   "outputs": [
    {
     "name": "stdout",
     "output_type": "stream",
     "text": [
      "{'spain': 'madrid', 'france': 'paris', 'germany': 'berlin', 'norway': 'oslo', 'italy': 'rome', 'poland': 'warsaw'}\n"
     ]
    }
   ],
   "source": [
    "# Definition of dictionary\n",
    "europe = {'spain':'madrid', 'france':'paris', 'germany':'bonn',\n",
    "          'norway':'oslo', 'italy':'rome', 'poland':'warsaw',\n",
    "          'australia':'vienna' }\n",
    "\n",
    "# Update capital of germany\n",
    "europe['germany'] = 'berlin'\n",
    "\n",
    "# Remove australia\n",
    "del europe['australia']\n",
    "\n",
    "# Print europe\n",
    "print(europe)"
   ]
  },
  {
   "cell_type": "markdown",
   "id": "e7531d82-d184-43dd-969f-4855f7b3c889",
   "metadata": {},
   "source": [
    "## Dictionariception\n",
    "Remember lists? They could contain anything, even other lists. Well, for dictionaries the same holds. Dictionaries can contain key:value pairs where the values are again dictionaries.\n",
    "\n",
    "As an example, have a look at the script where another version of `europe` - the dictionary you've been working with all along - is coded. The keys are still the country names, but the values are dictionaries that contain more information than just the capital.\n",
    "\n",
    "It's perfectly possible to chain square brackets to select elements. To fetch the population for Spain from `europe`, for example, you need:\n",
    "\n",
    "`europe['spain']['population']`\n",
    "\n",
    "- Use chained square brackets to select and print out the capital of France.\n",
    "- Create a dictionary, named `data`, with the keys `'capital'` and `'population'`. Set them to `'rome'` and `59.83`, respectively.\n",
    "- Add a new key-value pair to `europe`; the key is `'italy'` and the value is `data`, the dictionary you just built."
   ]
  },
  {
   "cell_type": "code",
   "execution_count": 4,
   "id": "1f8f549a-1c2e-4600-8408-6305e33f14b5",
   "metadata": {},
   "outputs": [
    {
     "name": "stdout",
     "output_type": "stream",
     "text": [
      "paris\n",
      "{'spain': {'capital': 'madrid', 'population': 46.77}, 'france': {'capital': 'paris', 'population': 66.03}, 'germany': {'capital': 'berlin', 'population': 80.62}, 'norway': {'capital': 'oslo', 'population': 5.084}, 'italy': {'capital': 'rome', 'population': 59.83}}\n"
     ]
    }
   ],
   "source": [
    "# Dictionary of dictionaries\n",
    "europe = { 'spain': { 'capital':'madrid', 'population':46.77 },\n",
    "           'france': { 'capital':'paris', 'population':66.03 },\n",
    "           'germany': { 'capital':'berlin', 'population':80.62 },\n",
    "           'norway': { 'capital':'oslo', 'population':5.084 } }\n",
    "\n",
    "# Print out the capital of France\n",
    "print(europe['france']['capital'])\n",
    "\n",
    "# Create sub-dictionary data\n",
    "data = {'italy': {'capital': 'rome', 'population': 59.83}}\n",
    "\n",
    "# Add data to europe under key 'italy'\n",
    "europe.update(data)\n",
    "\n",
    "# Print europe\n",
    "print(europe)"
   ]
  },
  {
   "cell_type": "markdown",
   "id": "7fdf2b3a-78bb-42b2-a523-af41f630c79d",
   "metadata": {},
   "source": [
    "## Dictionary to DataFrame (1)\n",
    "Pandas is an open source library, providing high-performance, easy-to-use data structures and data analysis tools for Python. Sounds promising!\n",
    "\n",
    "The DataFrame is one of Pandas' most important data structures. It's basically a way to store tabular data where you can label the rows and the columns. One way to build a DataFrame is from a dictionary.\n",
    "\n",
    "In the exercises that follow you will be working with vehicle data from different countries. Each observation corresponds to a country and the columns give information about the number of vehicles per capita, whether people drive left or right, and so on.\n",
    "\n",
    "Three lists are defined in the script:\n",
    "\n",
    "`names`, containing the country names for which data is available.\n",
    "`dr`, a list with booleans that tells whether people drive left or right in the corresponding country.\n",
    "`cpc`, the number of motor vehicles per 1000 people in the corresponding country.\n",
    "Each dictionary key is a column label and each value is a list which contains the column elements.\n",
    "\n",
    "- Import `pandas` as `pd`.\n",
    "- Use the pre-defined lists to create a dictionary called `my_dict`. There should be three key value pairs:\n",
    "    - key `'country'` and value `names`.\n",
    "    - key `'drives_right'` and value `dr`.\n",
    "    - key `'cars_per_cap'` and value `cpc`.\n",
    "- Use `pd.DataFrame()` to turn your dict into a DataFrame called `cars`.\n",
    "- Print out `cars` and see how beautiful it is."
   ]
  },
  {
   "cell_type": "code",
   "execution_count": 5,
   "id": "31e82222-7145-471b-9e87-c49d3b73baee",
   "metadata": {},
   "outputs": [
    {
     "name": "stdout",
     "output_type": "stream",
     "text": [
      "         country  drives_right  cars_per_cap\n",
      "0  United States          True           809\n",
      "1      Australia         False           731\n",
      "2          Japan         False           588\n",
      "3          India         False            18\n",
      "4         Russia          True           200\n",
      "5        Morocco          True            70\n",
      "6          Egypt          True            45\n"
     ]
    }
   ],
   "source": [
    "# Pre-defined lists\n",
    "names = ['United States', 'Australia', 'Japan', 'India', 'Russia', 'Morocco', 'Egypt']\n",
    "dr =  [True, False, False, False, True, True, True]\n",
    "cpc = [809, 731, 588, 18, 200, 70, 45]\n",
    "\n",
    "# Import pandas as pd\n",
    "import pandas as pd\n",
    "\n",
    "# Create dictionary my_dict with three key:value pairs: my_dict\n",
    "my_dict = {'country': names, 'drives_right': dr, 'cars_per_cap': cpc}\n",
    "\n",
    "# Build a DataFrame cars from my_dict: cars\n",
    "cars = pd.DataFrame(my_dict)\n",
    "\n",
    "# Print cars\n",
    "print(cars)"
   ]
  },
  {
   "cell_type": "markdown",
   "id": "a2f2974c-12e4-4c1c-a7cc-a42ad7d31402",
   "metadata": {},
   "source": [
    "## Dictionary to DataFrame (2)\n",
    "The Python code that solves the previous exercise is included in the script. Have you noticed that the row labels (i.e. the labels for the different observations) were automatically set to integers from 0 up to 6?\n",
    "\n",
    "To solve this a list `row_labels` has been created. You can use it to specify the row labels of the `cars` DataFrame. You do this by setting the index attribute of cars, that you can access as `cars.index`.\n",
    "\n",
    "- Specify the row labels by setting `cars.index` equal to `row_labels`.\n",
    "- Print out `cars` again and check if the row labels are correct this time."
   ]
  },
  {
   "cell_type": "code",
   "execution_count": 7,
   "id": "6028c840-917a-4be0-a904-1546745cbaa7",
   "metadata": {},
   "outputs": [
    {
     "name": "stdout",
     "output_type": "stream",
     "text": [
      "           country  drives_right  cars_per_cap\n",
      "US   United States          True           809\n",
      "AUS      Australia         False           731\n",
      "JPN          Japan         False           588\n",
      "IN           India         False            18\n",
      "RU          Russia          True           200\n",
      "MOR        Morocco          True            70\n",
      "EG           Egypt          True            45\n"
     ]
    }
   ],
   "source": [
    "import pandas as pd\n",
    "\n",
    "# Build cars DataFrame\n",
    "names = ['United States', 'Australia', 'Japan', 'India', 'Russia', 'Morocco', 'Egypt']\n",
    "dr =  [True, False, False, False, True, True, True]\n",
    "cpc = [809, 731, 588, 18, 200, 70, 45]\n",
    "cars_dict = { 'country':names, 'drives_right':dr, 'cars_per_cap':cpc }\n",
    "cars = pd.DataFrame(cars_dict)\n",
    "\n",
    "# Definition of row_labels\n",
    "row_labels = ['US', 'AUS', 'JPN', 'IN', 'RU', 'MOR', 'EG']\n",
    "\n",
    "# Specify row labels of cars\n",
    "cars.index = row_labels\n",
    "\n",
    "# Print cars again\n",
    "print(cars)"
   ]
  },
  {
   "cell_type": "markdown",
   "id": "91809517-4469-401e-b6e1-d45694a2f363",
   "metadata": {},
   "source": [
    "## CSV to DataFrame (1)\n",
    "Putting data in a dictionary and then building a DataFrame works, but it's not very efficient. What if you're dealing with millions of observations? In those cases, the data is typically available as files with a regular structure. One of those file types is the CSV file, which is short for \"comma-separated values\".\n",
    "\n",
    "To import CSV data into Python as a Pandas DataFrame you can use `read_csv()`.\n",
    "\n",
    "Let's explore this function with the same cars data from the previous exercises. This time, however, the data is available in a CSV file, named `cars.csv`. It is available in your current working directory, so the path to the file is simply `'cars.csv'`.\n",
    "\n",
    "- To import CSV files you still need the `pandas` package: import it as `pd`.\n",
    "- Use `pd.read_csv()` to import `cars.csv` data as a DataFrame. Store this dataframe as `cars`.\n",
    "- Print out `cars`."
   ]
  },
  {
   "cell_type": "code",
   "execution_count": 9,
   "id": "b5a7d117-549e-4032-af79-8248cde0903f",
   "metadata": {},
   "outputs": [
    {
     "name": "stdout",
     "output_type": "stream",
     "text": [
      "  Unnamed: 0  cars_per_cap        country  drives_right\n",
      "0         US           809  United States          True\n",
      "1        AUS           731      Australia         False\n",
      "2        JAP           588          Japan         False\n",
      "3         IN            18          India         False\n",
      "4         RU           200         Russia          True\n",
      "5        MOR            70        Morocco          True\n",
      "6         EG            45          Egypt          True\n"
     ]
    }
   ],
   "source": [
    "# Import pandas as pd\n",
    "import pandas as pd\n",
    "\n",
    "# Import the cars.csv data: cars\n",
    "cars = pd.read_csv('cars.csv')\n",
    "\n",
    "# Print out cars\n",
    "print(cars)"
   ]
  },
  {
   "cell_type": "markdown",
   "id": "9d283b2d-649d-4173-bf8a-b9e3315ac86b",
   "metadata": {},
   "source": [
    "## CSV to DataFrame (2)\n",
    "Your `read_csv()` call to import the CSV data didn't generate an error, but the output is not entirely what we wanted. The row labels were imported as another column without a name.\n",
    "\n",
    "Remember `index_col`, an argument of `read_csv()`, that you can use to specify which column in the CSV file should be used as a row label? Well, that's exactly what you need here!\n",
    "\n",
    "Can you make the appropriate changes to fix the data import?\n",
    "\n",
    "- Run the code with Run Code and assert that the first column should actually be used as row labels.\n",
    "- Specify the `index_col` argument inside `pd.read_csv()`: set it to `0`, so that the first column is used as row labels.\n",
    "- Has the printout of `cars` improved now?"
   ]
  },
  {
   "cell_type": "code",
   "execution_count": 11,
   "id": "55922ef9-19f9-4c6c-9ef9-d5610143d6ad",
   "metadata": {},
   "outputs": [
    {
     "name": "stdout",
     "output_type": "stream",
     "text": [
      "     cars_per_cap        country  drives_right\n",
      "US            809  United States          True\n",
      "AUS           731      Australia         False\n",
      "JAP           588          Japan         False\n",
      "IN             18          India         False\n",
      "RU            200         Russia          True\n",
      "MOR            70        Morocco          True\n",
      "EG             45          Egypt          True\n"
     ]
    }
   ],
   "source": [
    "# Fix import by including index_col\n",
    "cars = pd.read_csv('cars.csv', index_col=0)\n",
    "\n",
    "# Print out cars\n",
    "print(cars)"
   ]
  },
  {
   "cell_type": "markdown",
   "id": "009d9af2-c8ba-4d50-a06e-4f2bd2ea08f0",
   "metadata": {},
   "source": [
    "## Square Brackets (1)\n",
    "\n",
    "To select only the `cars_per_cap` column from `cars`, you can use:\n",
    "```python\n",
    "cars['cars_per_cap']\n",
    "cars[['cars_per_cap']]\n",
    "```\n",
    "The single bracket version gives a Pandas Series, the double bracket version gives a Pandas DataFrame.\n",
    "\n",
    "- Use single square brackets to print out the `country` column of `cars` as a Pandas Series.\n",
    "- Use double square brackets to print out the `country` column of `cars` as a Pandas DataFrame.\n",
    "- Use double square brackets to print out a DataFrame with both the `country` and `drives_right` columns of `cars`, in this order."
   ]
  },
  {
   "cell_type": "code",
   "execution_count": 14,
   "id": "8bf567d8-a7b2-46d1-9f4d-c2dd872cc18f",
   "metadata": {},
   "outputs": [
    {
     "name": "stdout",
     "output_type": "stream",
     "text": [
      "US     United States\n",
      "AUS        Australia\n",
      "JAP            Japan\n",
      "IN             India\n",
      "RU            Russia\n",
      "MOR          Morocco\n",
      "EG             Egypt\n",
      "Name: country, dtype: object\n",
      "           country\n",
      "US   United States\n",
      "AUS      Australia\n",
      "JAP          Japan\n",
      "IN           India\n",
      "RU          Russia\n",
      "MOR        Morocco\n",
      "EG           Egypt\n",
      "           country  drives_right\n",
      "US   United States          True\n",
      "AUS      Australia         False\n",
      "JAP          Japan         False\n",
      "IN           India         False\n",
      "RU          Russia          True\n",
      "MOR        Morocco          True\n",
      "EG           Egypt          True\n"
     ]
    }
   ],
   "source": [
    "# Print out country column as Pandas Series\n",
    "print(cars['country'])\n",
    "\n",
    "# Print out country column as Pandas DataFrame\n",
    "print(cars[['country']])\n",
    "\n",
    "# Print out DataFrame with country and drives_right columns\n",
    "print(cars[['country', 'drives_right']])"
   ]
  },
  {
   "cell_type": "markdown",
   "id": "8565f6e0-eff7-44a2-a5c8-535600e9bfc5",
   "metadata": {},
   "source": [
    "## Square Brackets (2)\n",
    "Square brackets can do more than just selecting columns. You can also use them to get rows, or observations, from a DataFrame. The following call selects the first five rows from the `cars` DataFrame:\n",
    "```python\n",
    "cars[0:5]\n",
    "```\n",
    "The result is another DataFrame containing only the rows you specified.\n",
    "\n",
    "Pay attention: You can only select rows using square brackets if you specify a slice, like `0:4`. Also, you're using the integer indexes of the rows here, not the row labels!\n",
    "\n",
    "- Select the first 3 observations from `cars` and print them out.\n",
    "- Select the fourth, fifth and sixth observation, corresponding to row indexes 3, 4 and 5, and print them out."
   ]
  },
  {
   "cell_type": "code",
   "execution_count": 16,
   "id": "526f023e-9d4b-43eb-8815-cfec0370d339",
   "metadata": {},
   "outputs": [
    {
     "name": "stdout",
     "output_type": "stream",
     "text": [
      "     cars_per_cap        country  drives_right\n",
      "US            809  United States          True\n",
      "AUS           731      Australia         False\n",
      "JAP           588          Japan         False\n",
      "     cars_per_cap  country  drives_right\n",
      "IN             18    India         False\n",
      "RU            200   Russia          True\n",
      "MOR            70  Morocco          True\n",
      "EG             45    Egypt          True\n"
     ]
    }
   ],
   "source": [
    "# Print out first 3 observations\n",
    "print(cars[:3])\n",
    "\n",
    "# Print out fourth, fifth and sixth observation\n",
    "print(cars[3:7])"
   ]
  },
  {
   "cell_type": "markdown",
   "id": "147dd139-b050-41f5-829a-c5dc4587f8cd",
   "metadata": {},
   "source": [
    "## loc and iloc (1)\n",
    "With `loc` and `iloc` you can do practically any data selection operation on DataFrames you can think of. \n",
    "- `loc` is label-based, which means that you have to specify rows and columns based on their row and column labels. \n",
    "- `iloc` is integer index based, so you have to specify rows and columns by their integer index like you did in the previous exercise.\n",
    "\n",
    "Each pair of commands here gives the same result.\n",
    "```python\n",
    "cars.loc['RU']\n",
    "cars.iloc[4]\n",
    "\n",
    "cars.loc[['RU']]\n",
    "cars.iloc[[4]]\n",
    "\n",
    "cars.loc[['RU', 'AUS']]\n",
    "cars.iloc[[4, 1]]\n",
    "```\n",
    "\n",
    "- Use `loc` or `iloc` to select the observation corresponding to Japan as a Series. The label of this row is `JAP`, the index is `2`. Make sure to print the resulting Series.\n",
    "- Use `loc` or `iloc` to select the observations for Australia and Egypt as a DataFrame. Make sure to print the resulting DataFrame."
   ]
  },
  {
   "cell_type": "code",
   "execution_count": 37,
   "id": "7f20c86d-5af3-44be-b95b-eabeb21f57ff",
   "metadata": {},
   "outputs": [
    {
     "name": "stdout",
     "output_type": "stream",
     "text": [
      "cars_per_cap      588\n",
      "country         Japan\n",
      "drives_right    False\n",
      "Name: JAP, dtype: object\n",
      "     cars_per_cap    country  drives_right\n",
      "AUS           731  Australia         False\n",
      "EG             45      Egypt          True\n"
     ]
    }
   ],
   "source": [
    "# Print out observation for Japan\n",
    "print(cars.loc['JAP'])\n",
    "# or\n",
    "# print(cars.iloc[2])\n",
    "\n",
    "# Print out observations for Australia and Egypt\n",
    "print(cars.loc[['AUS', 'EG']])\n",
    "# or\n",
    "# print(cars.iloc[[1, 6]])"
   ]
  },
  {
   "cell_type": "markdown",
   "id": "42daec13-c58f-4f97-a1cc-fc4f6029598b",
   "metadata": {},
   "source": [
    "## loc and iloc (2)\n",
    "`loc` and `iloc` also allow you to select both rows and columns from a DataFrame. To experiment, try out the following commands in the IPython Shell. Again, paired commands produce the same result.\n",
    "\n",
    "```python\n",
    "cars.loc['IN', 'cars_per_cap']\n",
    "cars.iloc[3, 0]\n",
    "\n",
    "cars.loc[['IN', 'RU'], 'cars_per_cap']\n",
    "cars.iloc[[3, 4], 0]\n",
    "\n",
    "cars.loc[['IN', 'RU'], ['cars_per_cap', 'country']]\n",
    "cars.iloc[[3, 4], [0, 1]]\n",
    "```\n",
    "\n",
    "- Print out the `drives_right` value of the row corresponding to Morocco (its row label is `MOR`)\n",
    "- Print out a sub-DataFrame, containing the observations for Russia and Morocco and the columns `country` and `drives_right`."
   ]
  },
  {
   "cell_type": "code",
   "execution_count": 29,
   "id": "55524c72-711d-4d79-a635-cb351fb2bf5d",
   "metadata": {},
   "outputs": [
    {
     "name": "stdout",
     "output_type": "stream",
     "text": [
      "True\n",
      "     country  drives_right\n",
      "RU    Russia          True\n",
      "MOR  Morocco          True\n"
     ]
    }
   ],
   "source": [
    "# Print out drives_right value of Morocco\n",
    "print(cars.loc['MOR', 'drives_right'])\n",
    "\n",
    "# Print sub-DataFrame\n",
    "print(cars.loc[['RU', 'MOR'], ['country', 'drives_right']])"
   ]
  },
  {
   "cell_type": "markdown",
   "id": "69f066a9-5bcb-4746-83b4-3d6e6e023101",
   "metadata": {},
   "source": [
    "## loc and iloc (3)\n",
    "It's also possible to select only columns with `loc` and `iloc`. In both cases, you simply put a slice going from beginning to end in front of the comma:\n",
    "```python\n",
    "cars.loc[:, 'country']\n",
    "cars.iloc[:, 1]\n",
    "\n",
    "cars.loc[:, ['country','drives_right']]\n",
    "cars.iloc[:, [1, 2]]\n",
    "```\n",
    "\n",
    "- Print out the `drives_right` column as a Series using `loc` or `iloc`.\n",
    "- Print out the `drives_right` column as a DataFrame using `loc` or `iloc`.\n",
    "- Print out both the `cars_per_cap` and `drives_right` column as a DataFrame using `loc` or `iloc`."
   ]
  },
  {
   "cell_type": "code",
   "execution_count": 38,
   "id": "0e8a0082-3701-4ea3-9ea8-39d9d64606f4",
   "metadata": {},
   "outputs": [
    {
     "name": "stdout",
     "output_type": "stream",
     "text": [
      "US      True\n",
      "AUS    False\n",
      "JAP    False\n",
      "IN     False\n",
      "RU      True\n",
      "MOR     True\n",
      "EG      True\n",
      "Name: drives_right, dtype: bool\n",
      "     drives_right\n",
      "US           True\n",
      "AUS         False\n",
      "JAP         False\n",
      "IN          False\n",
      "RU           True\n",
      "MOR          True\n",
      "EG           True\n",
      "     cars_per_cap  drives_right\n",
      "US            809          True\n",
      "AUS           731         False\n",
      "JAP           588         False\n",
      "IN             18         False\n",
      "RU            200          True\n",
      "MOR            70          True\n",
      "EG             45          True\n"
     ]
    }
   ],
   "source": [
    "# Print out drives_right column as Series\n",
    "print(cars.loc[:, 'drives_right'])\n",
    "# or \n",
    "#print(cars.iloc[:, 2])\n",
    "\n",
    "# Print out drives_right column as DataFrame\n",
    "print(cars.loc[:, ['drives_right']])\n",
    "# or\n",
    "# print(cars.iloc[:, [2]])\n",
    "\n",
    "# Print out cars_per_cap and drives_right as DataFrame\n",
    "print(cars.loc[:, ['cars_per_cap', 'drives_right']])\n",
    "# or\n",
    "# print(cars.iloc[:, [0, 2]])"
   ]
  }
 ],
 "metadata": {
  "kernelspec": {
   "display_name": "Python 3",
   "language": "python",
   "name": "python3"
  },
  "language_info": {
   "codemirror_mode": {
    "name": "ipython",
    "version": 3
   },
   "file_extension": ".py",
   "mimetype": "text/x-python",
   "name": "python",
   "nbconvert_exporter": "python",
   "pygments_lexer": "ipython3",
   "version": "3.8.8"
  }
 },
 "nbformat": 4,
 "nbformat_minor": 5
}
