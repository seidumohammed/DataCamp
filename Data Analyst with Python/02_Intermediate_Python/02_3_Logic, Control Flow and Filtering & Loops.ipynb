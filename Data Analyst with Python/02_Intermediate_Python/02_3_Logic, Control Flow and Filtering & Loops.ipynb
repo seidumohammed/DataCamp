{
 "cells": [
  {
   "cell_type": "markdown",
   "id": "662e16c5-bbff-4483-9286-f269869c82c3",
   "metadata": {},
   "source": [
    "# Logic, Control Flow and Filtering\n",
    "**Boolean logic is the foundation of decision-making in Python programs. Learn about different comparison operators, how to combine them with Boolean operators, and how to use the Boolean outcomes in control structures. You'll also learn to filter data in pandas DataFrames using logic.**"
   ]
  },
  {
   "cell_type": "markdown",
   "id": "4fa480fa-dca3-4ad8-8bca-85ac741d2c9e",
   "metadata": {},
   "source": [
    "## Compare arrays\n",
    "Out of the box, you can also use comparison operators with Numpy arrays.\n",
    "\n",
    "Remember `areas`, the list of area measurements for different rooms in your house from Introduction to Python? This time there's two Numpy arrays: `my_house` and `your_house`. They both contain the areas for the kitchen, living room, bedroom and bathroom in the same order, so you can compare them.\n",
    "\n",
    "Using comparison operators, generate boolean arrays that answer the following questions:\n",
    "\n",
    "- Which areas in `my_house` are greater than or equal to `18`?\n",
    "- You can also compare two Numpy arrays element-wise. Which areas in `my_house` are smaller than the ones in `your_house`?\n",
    "- Make sure to wrap both commands in a `print()` statement so that you can inspect the output!"
   ]
  },
  {
   "cell_type": "code",
   "execution_count": 2,
   "id": "3d22e4ac-3c39-43d6-9ef9-444209bd4b37",
   "metadata": {},
   "outputs": [
    {
     "name": "stdout",
     "output_type": "stream",
     "text": [
      "[ True  True False False]\n",
      "[False  True  True False]\n"
     ]
    }
   ],
   "source": [
    "# Create arrays\n",
    "import numpy as np\n",
    "my_house = np.array([18.0, 20.0, 10.75, 9.50])\n",
    "your_house = np.array([14.0, 24.0, 14.25, 9.0])\n",
    "\n",
    "# my_house greater than or equal to 18\n",
    "print(my_house >= 18)\n",
    "\n",
    "# my_house less than your_house\n",
    "print(my_house < your_house)"
   ]
  },
  {
   "cell_type": "markdown",
   "id": "216ff7a0-37df-4996-bde4-95ea41381afd",
   "metadata": {},
   "source": [
    "## Boolean operators with Numpy\n",
    "Before, the operational operators like `<` and `>=` worked with Numpy arrays out of the box. Unfortunately, this is not true for the boolean operators `and`, `or`, and `not`.\n",
    "\n",
    "To use these operators with Numpy, you will need `np.logical_and()`, `np.logical_or()` and `np.logical_not()`. Here's an example on the `my_house` and `your_house` arrays from before to give you an idea:\n",
    "\n",
    "```python\n",
    "np.logical_and(my_house > 13, \n",
    "               your_house < 15)\n",
    "```\n",
    "\n",
    "- Generate boolean arrays that answer the following questions:\n",
    "    - Which areas in `my_house` are greater than `18.5` or smaller than `10`?\n",
    "    - Which areas are smaller than `11` in both `my_house` and `your_house`? Make sure to wrap both commands in `print()` statement, so that you can inspect the output."
   ]
  },
  {
   "cell_type": "code",
   "execution_count": 4,
   "id": "547e2db7-a10b-4319-8976-ffa0b645ddcf",
   "metadata": {},
   "outputs": [
    {
     "name": "stdout",
     "output_type": "stream",
     "text": [
      "[False  True False  True]\n",
      "[False False False  True]\n"
     ]
    }
   ],
   "source": [
    "# Create arrays\n",
    "import numpy as np\n",
    "my_house = np.array([18.0, 20.0, 10.75, 9.50])\n",
    "your_house = np.array([14.0, 24.0, 14.25, 9.0])\n",
    "\n",
    "# my_house greater than 18.5 or smaller than 10\n",
    "print(np.logical_or(my_house > 18.5, my_house < 10))\n",
    "\n",
    "# Both my_house and your_house smaller than 11\n",
    "print(np.logical_and(my_house < 11, your_house < 11))"
   ]
  },
  {
   "cell_type": "markdown",
   "id": "b4d1cb51-7a62-47c8-91ec-e8d39ec0875c",
   "metadata": {},
   "source": [
    "## Driving right (1)\n",
    "Remember that `cars` dataset, containing the cars per 1000 people (`cars_per_cap`) and whether people drive right (`drives_right`) for different countries (`country`)? \n",
    "\n",
    "Let's start simple and try to find all observations in `cars` where `drives_right` is `True`.\n",
    "\n",
    "`drives_right` is a boolean column, so you'll have to extract it as a Series and then use this boolean Series to select observations from `cars`.\n",
    "\n",
    "- Extract the `drives_right` column as a Pandas Series and store it as `dr`.\n",
    "- Use `dr`, a boolean Series, to subset the cars DataFrame. Store the resulting selection in `sel`.\n",
    "- Print `sel`, and assert that `drives_right` is `True` for all observations."
   ]
  },
  {
   "cell_type": "code",
   "execution_count": 6,
   "id": "b0ad5d7f-b9fe-4e23-bda3-838f245316e4",
   "metadata": {},
   "outputs": [
    {
     "name": "stdout",
     "output_type": "stream",
     "text": [
      "     cars_per_cap        country  drives_right\n",
      "US            809  United States          True\n",
      "RU            200         Russia          True\n",
      "MOR            70        Morocco          True\n",
      "EG             45          Egypt          True\n"
     ]
    }
   ],
   "source": [
    "# Import cars data\n",
    "import pandas as pd\n",
    "cars = pd.read_csv('cars.csv', index_col = 0)\n",
    "\n",
    "# Extract drives_right column as Series: dr\n",
    "dr = cars['drives_right'] == True\n",
    "\n",
    "# Use dr to subset cars: sel\n",
    "sel = cars[dr]\n",
    "\n",
    "# Print sel\n",
    "print(sel)"
   ]
  },
  {
   "cell_type": "markdown",
   "id": "1c3827e2-88bc-4b4b-b063-b9fe7cf172a3",
   "metadata": {},
   "source": [
    "## Driving right (2)\n",
    "The code in the previous example worked fine, but you actually unnecessarily created a new variable `dr`. You can achieve the same result without this intermediate variable. Put the code that computes `dr` straight into the square brackets that select observations from `cars`.\n",
    "\n",
    "- Convert the code to a one-liner that calculates the variable `sel` as before."
   ]
  },
  {
   "cell_type": "code",
   "execution_count": 11,
   "id": "61787e3a-b269-48a4-a58b-9681c482b865",
   "metadata": {},
   "outputs": [
    {
     "name": "stdout",
     "output_type": "stream",
     "text": [
      "     cars_per_cap        country  drives_right\n",
      "US            809  United States          True\n",
      "RU            200         Russia          True\n",
      "MOR            70        Morocco          True\n",
      "EG             45          Egypt          True\n"
     ]
    }
   ],
   "source": [
    "# Convert code to a one-liner\n",
    "sel = cars[cars['drives_right'] == True]\n",
    "\n",
    "# Print sel\n",
    "print(sel)"
   ]
  },
  {
   "cell_type": "markdown",
   "id": "ddbd5a3e-2ed6-4def-b494-fb7943e61e6c",
   "metadata": {},
   "source": [
    "## Cars per capita (1)\n",
    "Let's stick to the `cars` data some more. This time you want to find out which countries have a high cars per capita figure. In other words, in which countries do many people have a car, or maybe multiple cars.\n",
    "\n",
    "Similar to the previous example, you'll want to build up a boolean Series, that you can then use to subset the `cars` DataFrame to select certain observations. If you want to do this in a one-liner, that's perfectly fine!\n",
    "\n",
    "- Select the `cars_per_cap` column from `cars` as a Pandas Series and store it as `cpc`.\n",
    "- Use `cpc` in combination with a comparison operator and `500`. You want to end up with a boolean Series that's `True` if the corresponding country has a `cars_per_cap` of more than `500` and `False` otherwise. Store this boolean Series as `many_cars`.\n",
    "- Use `many_cars` to subset `cars`, similar to what you did before. Store the result as `car_maniac`.\n",
    "- Print out `car_maniac` to see if you got it right."
   ]
  },
  {
   "cell_type": "code",
   "execution_count": 14,
   "id": "eac370e9-8227-4a8a-a45b-f51e7c522a1d",
   "metadata": {},
   "outputs": [
    {
     "name": "stdout",
     "output_type": "stream",
     "text": [
      "     cars_per_cap        country  drives_right\n",
      "US            809  United States          True\n",
      "AUS           731      Australia         False\n",
      "JAP           588          Japan         False\n"
     ]
    }
   ],
   "source": [
    "# Create car_maniac: observations that have a cars_per_cap over 500\n",
    "cpc = cars['cars_per_cap']\n",
    "many_cars = cpc > 500\n",
    "car_maniac = cars[many_cars]\n",
    "\n",
    "# Print car_maniac\n",
    "print(car_maniac)"
   ]
  },
  {
   "cell_type": "markdown",
   "id": "a6ad665a-edd6-42f2-9424-ce1917afda2d",
   "metadata": {},
   "source": [
    "## Cars per capita (2)\n",
    "Remember about `np.logical_and()`, `np.logical_or()` and `np.logical_not()`, the Numpy variants of the `and`, `or` and `not` operators? You can also use them on Pandas Series to do more advanced filtering operations.\n",
    "\n",
    "Take this example that selects the observations that have a `cars_per_cap` between 10 and 80. Try out these lines of code step by step to see what's happening.\n",
    "```python\n",
    "cpc = cars['cars_per_cap']\n",
    "between = np.logical_and(cpc > 10, cpc < 80)\n",
    "medium = cars[between]\n",
    "```\n",
    "\n",
    "- Use the code sample provided to create a DataFrame `medium`, that includes all the observations of `cars` that have a `cars_per_cap` between `100` and `500`.\n",
    "- Print out `medium`."
   ]
  },
  {
   "cell_type": "code",
   "execution_count": 17,
   "id": "3399617f-87b5-48e7-9230-1fd1b82c4283",
   "metadata": {},
   "outputs": [
    {
     "name": "stdout",
     "output_type": "stream",
     "text": [
      "    cars_per_cap country  drives_right\n",
      "RU           200  Russia          True\n"
     ]
    }
   ],
   "source": [
    "# Create medium: observations with cars_per_cap between 100 and 500\n",
    "cpc = cars['cars_per_cap']\n",
    "between = np.logical_and(cpc > 100, cpc < 500)\n",
    "medium = cars[between]\n",
    "\n",
    "# Print medium\n",
    "print(medium)"
   ]
  },
  {
   "cell_type": "markdown",
   "id": "309d9d42-34bc-4071-840c-1a7cb00a6aaa",
   "metadata": {},
   "source": [
    "---"
   ]
  },
  {
   "cell_type": "markdown",
   "id": "3137348d-1b58-43e0-8b35-e4a2f55a3c38",
   "metadata": {},
   "source": [
    "# Loops\n",
    "**There are several techniques you can use to repeatedly execute Python code. While loops are like repeated if statements, the for loop iterates over all kinds of data structures. Learn all about them in this chapter.**"
   ]
  },
  {
   "cell_type": "markdown",
   "id": "fbd125f8-ce88-4927-8acd-e49f9f92e4f4",
   "metadata": {},
   "source": [
    "## Loop over list of lists\n",
    "Remember the `house` variable from the Intro to Python course? Have a look at its definition in the script. It's basically a list of lists, where each sublist contains the name and area of a room in your house.\n",
    "\n",
    "It's up to you to build a `for` loop from scratch this time!\n",
    "\n",
    "- Write a `for` loop that goes through each sublist of `house` and prints out `the x is y sqm`, where x is the name of the room and y is the area of the room."
   ]
  },
  {
   "cell_type": "code",
   "execution_count": 18,
   "id": "9aae941d-8fce-4cc2-a0e7-7ddfc35cb9a6",
   "metadata": {},
   "outputs": [
    {
     "name": "stdout",
     "output_type": "stream",
     "text": [
      "the hallway is 11.25 spm\n",
      "the kitchen is 18.0 spm\n",
      "the living room is 20.0 spm\n",
      "the bedroom is 10.75 spm\n",
      "the bathroom is 9.5 spm\n"
     ]
    }
   ],
   "source": [
    "# house list of lists\n",
    "house = [[\"hallway\", 11.25], \n",
    "         [\"kitchen\", 18.0], \n",
    "         [\"living room\", 20.0], \n",
    "         [\"bedroom\", 10.75], \n",
    "         [\"bathroom\", 9.50]]\n",
    "         \n",
    "# Build a for loop from scratch\n",
    "for item in house:\n",
    "    print('the ' + item[0] + ' is ' + str(item[1]) + ' spm')"
   ]
  },
  {
   "cell_type": "markdown",
   "id": "0e2aeca5-6914-449e-852a-4d6ffbe9b615",
   "metadata": {},
   "source": [
    "## Loop over dictionary\n",
    "In Python 3, you need the `items()` method to loop over a dictionary:\n",
    "\n",
    "```python\n",
    "world = { \"afghanistan\":30.55, \n",
    "          \"albania\":2.77,\n",
    "          \"algeria\":39.21 }\n",
    "\n",
    "for key, value in world.items() :\n",
    "    print(key + \" -- \" + str(value))\n",
    "```\n",
    "\n",
    "Remember the `europe` dictionary that contained the names of some European countries as key and their capitals as corresponding value? Go ahead and write a loop to iterate over it!\n",
    "\n",
    "- Write a `for` loop that goes through each key:value pair of `europe`. On each iteration, `\"the capital of x is y\"` should be printed out, where x is the key and y is the value of the pair."
   ]
  },
  {
   "cell_type": "code",
   "execution_count": 19,
   "id": "60b17883-dfff-4b6a-a4cc-3e76327a0c83",
   "metadata": {},
   "outputs": [
    {
     "name": "stdout",
     "output_type": "stream",
     "text": [
      "the capital of spain is madrid\n",
      "the capital of france is paris\n",
      "the capital of germany is berlin\n",
      "the capital of norway is oslo\n",
      "the capital of italy is rome\n",
      "the capital of poland is warsaw\n",
      "the capital of austria is vienna\n"
     ]
    }
   ],
   "source": [
    "# Definition of dictionary\n",
    "europe = {'spain':'madrid', 'france':'paris', 'germany':'berlin',\n",
    "          'norway':'oslo', 'italy':'rome', 'poland':'warsaw', 'austria':'vienna' }\n",
    "          \n",
    "# Iterate over europe\n",
    "for key, value in europe.items():\n",
    "    print('the capital of ' + key + ' is ' + value)"
   ]
  },
  {
   "cell_type": "markdown",
   "id": "bd6d57a3-9aaa-4a18-9573-c3c2000bd354",
   "metadata": {},
   "source": [
    "## Loop over DataFrame (1)\n",
    "Iterating over a Pandas DataFrame is typically done with the `iterrows()` method. Used in a `for` loop, every observation is iterated over and on every iteration the row label and actual row contents are available:\n",
    "```python\n",
    "for lab, row in brics.iterrows() :\n",
    "    ...\n",
    "```\n",
    "In this and the following exercises you will be working on the `cars` DataFrame. It contains information on the cars per capita and whether people drive right or left for seven countries in the world.\n",
    "\n",
    "- Write a `for` loop that iterates over the rows of `cars` and on each iteration perform two `print()` calls: one to print out the row label and one to print out all of the rows contents."
   ]
  },
  {
   "cell_type": "code",
   "execution_count": 20,
   "id": "98a49131-7997-4131-93e5-25ff96196470",
   "metadata": {},
   "outputs": [
    {
     "name": "stdout",
     "output_type": "stream",
     "text": [
      "US\n",
      "cars_per_cap              809\n",
      "country         United States\n",
      "drives_right             True\n",
      "Name: US, dtype: object\n",
      "AUS\n",
      "cars_per_cap          731\n",
      "country         Australia\n",
      "drives_right        False\n",
      "Name: AUS, dtype: object\n",
      "JAP\n",
      "cars_per_cap      588\n",
      "country         Japan\n",
      "drives_right    False\n",
      "Name: JAP, dtype: object\n",
      "IN\n",
      "cars_per_cap       18\n",
      "country         India\n",
      "drives_right    False\n",
      "Name: IN, dtype: object\n",
      "RU\n",
      "cars_per_cap       200\n",
      "country         Russia\n",
      "drives_right      True\n",
      "Name: RU, dtype: object\n",
      "MOR\n",
      "cars_per_cap         70\n",
      "country         Morocco\n",
      "drives_right       True\n",
      "Name: MOR, dtype: object\n",
      "EG\n",
      "cars_per_cap       45\n",
      "country         Egypt\n",
      "drives_right     True\n",
      "Name: EG, dtype: object\n"
     ]
    }
   ],
   "source": [
    "# Iterate over rows of cars\n",
    "for lab, row in cars.iterrows():\n",
    "    print(lab)\n",
    "    print(row)"
   ]
  },
  {
   "cell_type": "markdown",
   "id": "2dbbd7d7-19ce-423d-a937-1f4a32266a5c",
   "metadata": {},
   "source": [
    "## Loop over DataFrame (2)\n",
    "The row data that's generated by `iterrows()` on every run is a Pandas Series. This format is not very convenient to print out. Luckily, you can easily select variables from the Pandas Series using square brackets:\n",
    "```python\n",
    "for lab, row in brics.iterrows() :\n",
    "    print(row['country'])\n",
    "```\n",
    "\n",
    "- Using the iterators `lab` and `row`, adapt the code in the for loop such that the first iteration prints out `\"US: 809\"`, the second iteration `\"AUS: 731\"`, and so on.\n",
    "- The output should be in the form `\"country: cars_per_cap\"`. Make sure to print out this exact string (with the correct spacing).\n",
    "    - *You can use `str()` to convert your integer data to a string so that you can print it in conjunction with the country label.*"
   ]
  },
  {
   "cell_type": "code",
   "execution_count": 21,
   "id": "9130f819-a6c2-4b6b-88ed-c26c41eeed14",
   "metadata": {},
   "outputs": [
    {
     "name": "stdout",
     "output_type": "stream",
     "text": [
      "US: 809\n",
      "AUS: 731\n",
      "JAP: 588\n",
      "IN: 18\n",
      "RU: 200\n",
      "MOR: 70\n",
      "EG: 45\n"
     ]
    }
   ],
   "source": [
    "# Adapt for loop\n",
    "for lab, row in cars.iterrows():\n",
    "    print(lab + ': ' + str(row[0]))"
   ]
  },
  {
   "cell_type": "markdown",
   "id": "dd69e127-34fb-44b3-9f09-1db3bd666686",
   "metadata": {},
   "source": [
    "## Add column (1)\n",
    "```python\n",
    "for lab, row in brics.iterrows() :\n",
    "    brics.loc[lab, \"name_length\"] = len(row[\"country\"])\n",
    "```\n",
    "You can do similar things on the cars DataFrame.\n",
    "\n",
    "- Use a `for` loop to add a new column, named `COUNTRY`, that contains a uppercase version of the country names in the `\"country\"` column. You can use the string method `upper()` for this.\n",
    "- To see if your code worked, print out `cars`. Don't indent this code, so that it's not part of the `for` loop."
   ]
  },
  {
   "cell_type": "code",
   "execution_count": 24,
   "id": "8136d8df-ea0a-4347-936a-ccaf9e2fe109",
   "metadata": {},
   "outputs": [
    {
     "name": "stdout",
     "output_type": "stream",
     "text": [
      "     cars_per_cap        country  drives_right        COUNTRY\n",
      "US            809  United States          True  UNITED STATES\n",
      "AUS           731      Australia         False      AUSTRALIA\n",
      "JAP           588          Japan         False          JAPAN\n",
      "IN             18          India         False          INDIA\n",
      "RU            200         Russia          True         RUSSIA\n",
      "MOR            70        Morocco          True        MOROCCO\n",
      "EG             45          Egypt          True          EGYPT\n"
     ]
    }
   ],
   "source": [
    "# Import cars data\n",
    "import pandas as pd\n",
    "cars = pd.read_csv('cars.csv', index_col = 0)\n",
    "\n",
    "# Code for loop that adds COUNTRY column\n",
    "for lab, row in cars.iterrows():\n",
    "    cars.loc[lab, 'COUNTRY'] = row['country'].upper()\n",
    "\n",
    "# Print cars\n",
    "print(cars)"
   ]
  },
  {
   "cell_type": "markdown",
   "id": "6fb482fd-baa9-4ea7-b63d-471b5a125060",
   "metadata": {},
   "source": [
    "## Add column (2)\n",
    "Using `iterrows()` to iterate over every observation of a Pandas DataFrame is easy to understand, but not very efficient. On every iteration, you're creating a new Pandas Series.\n",
    "\n",
    "If you want to add a column to a DataFrame by calling a function on another column, the `iterrows()` method in combination with a `for` loop is not the preferred way to go. Instead, you'll want to use `apply()`.\n",
    "\n",
    "Compare the `iterrows()` version with the `apply()` version to get the same result in the `brics` DataFrame:\n",
    "```python\n",
    "for lab, row in brics.iterrows() :\n",
    "    brics.loc[lab, \"name_length\"] = len(row[\"country\"])\n",
    "\n",
    "brics[\"name_length\"] = brics[\"country\"].apply(len)\n",
    "```\n",
    "We can do a similar thing to call the `upper()` method on every name in the `country` column. However, `upper()` is a **method**, so we'll need a slightly different approach:\n",
    "\n",
    "- Replace the `for` loop with a one-liner that uses `.apply(str.upper)`. The call should give the same result: a column `COUNTRY` should be added to `cars`, containing an uppercase version of the country names.\n",
    "- As usual, print out `cars` to see the fruits of your hard labor"
   ]
  },
  {
   "cell_type": "code",
   "execution_count": 25,
   "id": "7579331b-a91d-4fc3-84ee-88d143bfc8fa",
   "metadata": {},
   "outputs": [
    {
     "name": "stdout",
     "output_type": "stream",
     "text": [
      "     cars_per_cap        country  drives_right        COUNTRY\n",
      "US            809  United States          True  UNITED STATES\n",
      "AUS           731      Australia         False      AUSTRALIA\n",
      "JAP           588          Japan         False          JAPAN\n",
      "IN             18          India         False          INDIA\n",
      "RU            200         Russia          True         RUSSIA\n",
      "MOR            70        Morocco          True        MOROCCO\n",
      "EG             45          Egypt          True          EGYPT\n"
     ]
    }
   ],
   "source": [
    "# Import cars data\n",
    "import pandas as pd\n",
    "cars = pd.read_csv('cars.csv', index_col = 0)\n",
    "\n",
    "# Use .apply(str.upper)\n",
    "cars['COUNTRY'] = cars['country'].apply(str.upper)\n",
    "\n",
    "print(cars)"
   ]
  }
 ],
 "metadata": {
  "kernelspec": {
   "display_name": "Python 3",
   "language": "python",
   "name": "python3"
  },
  "language_info": {
   "codemirror_mode": {
    "name": "ipython",
    "version": 3
   },
   "file_extension": ".py",
   "mimetype": "text/x-python",
   "name": "python",
   "nbconvert_exporter": "python",
   "pygments_lexer": "ipython3",
   "version": "3.8.8"
  }
 },
 "nbformat": 4,
 "nbformat_minor": 5
}
