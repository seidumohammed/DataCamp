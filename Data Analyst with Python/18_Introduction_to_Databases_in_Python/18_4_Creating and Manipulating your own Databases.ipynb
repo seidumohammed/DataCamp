{
 "cells": [
  {
   "cell_type": "markdown",
   "id": "d5258c18-a43f-4fb5-8cf7-7357f90acb86",
   "metadata": {},
   "source": [
    "# 4. Creating and Manipulating your own Databases\n",
    "**In the previous chapters, you interacted with existing databases and queried them in different ways. Now, you will learn how to build your own databases and keep them updated.**"
   ]
  },
  {
   "cell_type": "markdown",
   "id": "fe8f40c7-dcc6-40fe-9f65-b97a67356ac0",
   "metadata": {},
   "source": [
    "## Creating databases and tables\n",
    "It's now time to learn how to create databases and tables.\n",
    "\n",
    "### Creating databases\n",
    "Creating databases is different for every database type, and it often requires the use of a command line tool or management application. All these tools are beyond the scope of this class. However with SQLite, if you supply a filename that does not exist to the create_engine method, it will create that file which creates the database.\n",
    "\n",
    "### Building a table\n",
    "In this example, we are creating a table to store data about our `employees`. We've already created an engine and metadata. We want to store the `employee`'s `id`, `name`, `salary`, and `active` status. \n",
    "\n",
    "We start by importing everything we need. This includes the Table and Column objects along with any SQL Data types we want to use in our columns. There are many SQL Data types, and the SQLAlchemy documentation is a great place to see all the ones that are available. Next, we use the Table object to create a table named employees, in our metadata with a few columns. The first column is the id column and we made it an integer type to store the employees id. Next we have the name column which is a String that can be up to 255 characters long. Next we have the salary column which is a decimal type to hold the employees yearly salary. The last column is the active column which is a Boolean to let us know if they are still actively employed. We store that table object as employees. Now, we use the `create_all` method on the metadata objects and pass it the engine to create the table in the database itself. Finally, we use the `table_names` method of the engine to verify that the table was created."
   ]
  },
  {
   "cell_type": "code",
   "execution_count": 28,
   "id": "665481be-3a71-4b8d-9289-fc040c642a6c",
   "metadata": {},
   "outputs": [
    {
     "data": {
      "text/plain": [
       "['employees']"
      ]
     },
     "execution_count": 28,
     "metadata": {},
     "output_type": "execute_result"
    }
   ],
   "source": [
    "from sqlalchemy import create_engine, MetaData, Table, Column, String, Integer, Numeric, Boolean\n",
    "\n",
    "engine = create_engine('sqlite:///')\n",
    "metadata = MetaData()\n",
    "\n",
    "employees = Table('employees', metadata,\n",
    "                  Column('id', Integer()),\n",
    "                  Column('name', String(255)),\n",
    "                  Column('salary', Numeric()),\n",
    "                  Column('active', Boolean()))\n",
    "metadata.create_all(engine)\n",
    "engine.table_names()   "
   ]
  },
  {
   "cell_type": "markdown",
   "id": "a7ab4ebb-96bb-4b57-bfb3-c64cb8aa8355",
   "metadata": {
    "tags": []
   },
   "source": [
    "\n",
    "### Creating tables\n",
    "As you saw in the prior example, creating tables can be done with SQLAlchemy just like queries. We will still use the Table object similar to how we used it for reflection. We'll just remove the `autoload` keyword arguments and replace them with the Column objects we want to exist in the table. Once we have our table object, we can use the metadata's `create_all` method and the engine to create the table in the actual database. While it's easy to create tables with SQLAlchemy, if you want to make changes to an existing table structure, such as adding or removing columns, you'll need to build raw SQL ALTER statements or use a tool like Alembic, which is outside the scope of this course.\n",
    "\n",
    "### Creating tables - additional column options\n",
    "In addition to Columns having a type, they can also have constraints and defaults that are additional keyword arguments to the Column object. With constraints we can require that a column be `unique` or specify that a column can not be empty or null. There other more complex constraints as well that can be used to require any Boolean condition you can imagine. `Default` sets the initial value of a field if one is not supplied during an insert statement. Let's create a table with some constraints.\n",
    "\n",
    "### Building a table with additional options\n",
    "We're going to create the same employees table; however, we want to make sure the name column is unique and not allowed to be empty. We established a default salary of 100.00, and also set active to be True by default. Finally, we check to see what constraints are on the table using the constraints attribute. We can see that our desired constraints and defaults are in place.\n"
   ]
  },
  {
   "cell_type": "code",
   "execution_count": 63,
   "id": "8bba73cb-503e-46be-8dc4-73cb0c364e04",
   "metadata": {},
   "outputs": [
    {
     "data": {
      "text/plain": [
       "{CheckConstraint(<sqlalchemy.sql.elements.BinaryExpression object at 0x0000015E2F07FE80>, name='_unnamed_', table=Table('employees', MetaData(bind=None), Column('id', Integer(), table=<employees>), Column('name', String(length=255), table=<employees>, nullable=False), Column('salary', Numeric(), table=<employees>, default=ColumnDefault(100.0)), Column('active', Boolean(), table=<employees>, default=ColumnDefault(True)), schema=None), _create_rule=<sqlalchemy.util.langhelpers.portable_instancemethod object at 0x0000015E2F007C80>, _type_bound=True),\n",
       " PrimaryKeyConstraint(),\n",
       " UniqueConstraint(Column('name', String(length=255), table=<employees>, nullable=False))}"
      ]
     },
     "execution_count": 63,
     "metadata": {},
     "output_type": "execute_result"
    }
   ],
   "source": [
    "engine = create_engine('sqlite:///')\n",
    "metadata = MetaData()\n",
    "employees = Table('employees', metadata,\n",
    "                  Column('id', Integer()),\n",
    "                  Column('name', String(255), unique=True, nullable=False),\n",
    "                  Column('salary', Numeric(), default=100.00),\n",
    "                  Column('active', Boolean(), default=True))\n",
    "metadata.create_all(engine)\n",
    "employees.constraints"
   ]
  },
  {
   "cell_type": "markdown",
   "id": "57dd6932-71a2-48e3-bd9e-39a87f0d1adb",
   "metadata": {},
   "source": [
    "## Creating tables with SQLAlchemy\n",
    "Previously, you used the `Table` object to reflect a table from an *existing* database, but what if you wanted to create a *new* table? You'd still use the `Table` object; however, you'd need to replace the `autoload` and `autoload_with` parameters with Column objects.\n",
    "\n",
    "The `Column` object takes a name, a SQLAlchemy type with an optional format, and optional keyword arguments for different constraints.\n",
    "\n",
    "When defining the table, recall how to pass in `255` as the maximum length of a String by using `Column('name', String(255))`.\n",
    "\n",
    "After defining the table, you can create the table in the database by using the `.create_all()` method on metadata and supplying the engine as the only parameter."
   ]
  },
  {
   "cell_type": "markdown",
   "id": "9dd5eebf-6fb3-4e84-a47e-10c338177cf9",
   "metadata": {},
   "source": [
    "- Import `Table`, `Column`, `String`, `Integer`, `Float`, `Boolean` from `sqlalchemy`.\n",
    "- Build a new table called `data` with columns `'name'` (`String(255)`), `'count'` (`Integer()`), `'amount'`(`Float()`), and `'valid'` (`Boolean()`) columns. The second argument of `Table()` needs to be `metadata`.\n",
    "- Create the table in the database by passing `engine` to `metadata.create_all()`."
   ]
  },
  {
   "cell_type": "code",
   "execution_count": 2,
   "id": "d40f6df3-84eb-4e9a-9f85-99b5f669157a",
   "metadata": {},
   "outputs": [],
   "source": [
    "# Import create_engine, MetaData, and Table\n",
    "from sqlalchemy import create_engine, MetaData\n",
    "\n",
    "# Create engine: engine\n",
    "engine = create_engine('sqlite:///')\n",
    "\n",
    "# Create a metadata object: metadata\n",
    "metadata = MetaData()"
   ]
  },
  {
   "cell_type": "code",
   "execution_count": 3,
   "id": "0e91610d-aea9-45a7-8470-308f474b71ad",
   "metadata": {},
   "outputs": [
    {
     "name": "stdout",
     "output_type": "stream",
     "text": [
      "Table('data', MetaData(bind=None), Column('name', String(length=255), table=<data>), Column('count', Integer(), table=<data>), Column('amount', Float(), table=<data>), Column('valid', Boolean(), table=<data>), schema=None)\n"
     ]
    }
   ],
   "source": [
    "# Import Table, Column, String, Integer, Float, Boolean from sqlalchemy\n",
    "from sqlalchemy import Table, Column, String, Integer, Float, Boolean\n",
    "\n",
    "# Define a new table with a name, count, amount, and valid column: data\n",
    "data = Table('data', metadata,\n",
    "             Column('name', String(255)),\n",
    "             Column('count', Integer()),\n",
    "             Column('amount', Float()),\n",
    "             Column('valid', Boolean())\n",
    ")\n",
    "\n",
    "# Use the metadata to create the table\n",
    "metadata.create_all(engine)\n",
    "\n",
    "# Print table details\n",
    "print(repr(data))"
   ]
  },
  {
   "cell_type": "markdown",
   "id": "f277b0e0-bafa-4383-b4ed-a3f145ae92ba",
   "metadata": {},
   "source": [
    "## Constraints and data defaults\n",
    "You're now going to practice creating a table with some constraints. Often, you'll need to make sure that a column is unique, nullable, a positive value, or related to a column in another table. This is where constraints come in.\n",
    "\n",
    "In addition to constraints, you can also set a default value for the column if no data is passed to it via the `default` keyword on the column."
   ]
  },
  {
   "cell_type": "markdown",
   "id": "3a2e40ee-73d1-4c90-804c-9f5d1feae2c0",
   "metadata": {},
   "source": [
    "- Build a new table called data with a unique `name` (String), `count` (Integer) defaulted to `1`, `amount` (Float), and `valid` (Boolean) defaulted to `False`.\n",
    "- Create the table in the database and to print the table details for `data`."
   ]
  },
  {
   "cell_type": "code",
   "execution_count": 15,
   "id": "bb37d30a-1ba9-44f6-8c07-40778ad08cc8",
   "metadata": {},
   "outputs": [
    {
     "data": {
      "text/plain": [
       "[]"
      ]
     },
     "execution_count": 15,
     "metadata": {},
     "output_type": "execute_result"
    }
   ],
   "source": [
    "from sqlalchemy import Table, Column, String, Integer, Float, Boolean\n",
    "\n",
    "metadata.drop_all(engine)\n",
    "engine.table_names()"
   ]
  },
  {
   "cell_type": "code",
   "execution_count": 46,
   "id": "67f9ee9e-b2fd-46ce-8003-4214c1618424",
   "metadata": {},
   "outputs": [],
   "source": [
    "# Create engine: engine\n",
    "engine = create_engine('sqlite:///')\n",
    "\n",
    "# Create a metadata object: metadata\n",
    "metadata = MetaData()"
   ]
  },
  {
   "cell_type": "code",
   "execution_count": 47,
   "id": "0c046652-4a26-48dd-8de1-211c03fa9003",
   "metadata": {},
   "outputs": [
    {
     "name": "stdout",
     "output_type": "stream",
     "text": [
      "Table('data', MetaData(bind=None), Column('name', String(length=255), table=<data>), Column('count', Integer(), table=<data>, default=ColumnDefault(1)), Column('amount', Float(), table=<data>), Column('valid', Boolean(), table=<data>, default=ColumnDefault(False)), schema=None)\n"
     ]
    }
   ],
   "source": [
    "# Define a new table with a name, count, amount, and valid column: data\n",
    "data = Table('data', metadata,\n",
    "             Column('name', String(255), unique=True),\n",
    "             Column('count', Integer(), default=1),\n",
    "             Column('amount', Float()),\n",
    "             Column('valid', Boolean(), default=False)\n",
    "            )\n",
    "\n",
    "# Use the metadata to create the table\n",
    "metadata.create_all(engine)\n",
    "\n",
    "# Print the table details\n",
    "print(repr(metadata.tables['data']))"
   ]
  },
  {
   "cell_type": "markdown",
   "id": "93786fc5-2ff0-430a-9463-12f5dbea9db9",
   "metadata": {},
   "source": [
    "---\n",
    "## Inserting data into a table\n",
    "With our table created, we are ready to insert some data into the table.\n",
    "\n",
    "### Adding data to a table\n",
    "We do this with an `insert()` statement. `insert()` takes a table name as an argument, and then all the values we want to insert are added in a `values` clause as `column=value` pairs. The insert doesn't return any rows, so we don't need to use a fetch method after executing the statement. Let's insert a record into our employees table.\n",
    "\n",
    "### Inserting one row\n",
    "After we've created the engine, established the connection, and created or reflected the table, we import the insert statement from sqlalchemy. Next, we build an insert statement for the employees table with the following values. We'll set the id column to `1`, and the name column to Jason. We'll give Jason a salary of 1 and make him an active employee. With our insert statement built, we can now execute the statement and store the result proxy it returns. Remember the insert statement doesn't return any rows; however, we can use the `rowcount` attribute of the result proxy to see how many rows where inserted.\n"
   ]
  },
  {
   "cell_type": "code",
   "execution_count": 64,
   "id": "8ad3c7c6-4ae5-4b8f-b594-3d1f5b3d4705",
   "metadata": {},
   "outputs": [
    {
     "name": "stdout",
     "output_type": "stream",
     "text": [
      "1\n"
     ]
    }
   ],
   "source": [
    "from sqlalchemy import insert\n",
    "\n",
    "stmt = insert(employees).values(id=1, name='Jason',\n",
    "                               salary=1.00, active=True)\n",
    "connection = engine.connect()\n",
    "result_proxy = connection.execute(stmt)\n",
    "print(result_proxy.rowcount)"
   ]
  },
  {
   "cell_type": "markdown",
   "id": "20db1b91-f027-49ad-ac86-17c09d16be12",
   "metadata": {},
   "source": [
    "### Inserting multiple rows\n",
    "It is also possible to insert multiple records at one with an insert statement by building an insert statement without the values clause. Then we build a list of dictionaries to represent our column=value pairs for each record. Finally, we pass both the insert statement and the list of dictionaries to the connection's execute method which will insert all the records in the list. Let's add some more employees with a multiple insert statement.\n",
    "\n",
    "We start by building an insert statement for the employees table without a values clause. Next, we build a list of dictionaries, one dictionary for each record we want to insert. I typically call this list `values_list` to make its purpose clear. Each dictionary has the columns and associated values we want to insert. We pass both the insert statement and the list of dictionaries to the execute method on connection. Again there is no need to call a fetch method since an insert returns no rows. Finally, we use the `rowcount` attribute of the result proxy to check how many records were inserted."
   ]
  },
  {
   "cell_type": "code",
   "execution_count": 65,
   "id": "4012c8ea-abd4-4445-9a45-05c36d49ff0f",
   "metadata": {},
   "outputs": [
    {
     "name": "stdout",
     "output_type": "stream",
     "text": [
      "2\n"
     ]
    }
   ],
   "source": [
    "stmt = insert(employees)\n",
    "values_list = [{'id':2, 'name': 'Rebecca',\n",
    "               'salary': 2.00, 'active': True},\n",
    "              {'id': 3, 'name': 'Bob',\n",
    "              'salary': 0.00, 'active': False}]\n",
    "result_proxy = connection.execute(stmt, values_list)\n",
    "print(result_proxy.rowcount)"
   ]
  },
  {
   "cell_type": "markdown",
   "id": "f4f20249-9a80-4f3c-bf53-a813ce435b1b",
   "metadata": {},
   "source": [
    "## Inserting a single row\n",
    "There are several ways to perform an insert with SQLAlchemy; however, we are going to focus on the one that follows the same pattern as the `select` statement.\n",
    "\n",
    "It uses an `insert` statement where you specify the table as an argument, and supply the data you wish to insert into the value via the `.values()` method as keyword arguments. For example, if `my_table` contains columns `my_col_1` and `my_col_2`, then `insert(my_table).values(my_col_1=5, my_col_2=\"Example\")` will create a row in `my_table` with the value in `my_col_1` equal to 5 and value in `my_col_2` equal to `\"Example\"`.\n",
    "\n",
    "Notice the difference in syntax: when appending a `where` statement to an existing statement, we include *the name of the table* as well as the name of the column, for example `new_stmt = old_stmt.where(my_tbl.columns.my_col == 15)`. This is necessary because the existing statement might involve several tables.\n",
    "\n",
    "On the other hand, you can only `insert` a record into a single table, so you do not need to include the name of the table when using `values()` to insert, e.g. `stmt = insert(my_table).values(my_col = 10)`.\n",
    "\n",
    "Here, the name of the table is `data`. You can run `repr(data)` in the console to examine the structure of the table."
   ]
  },
  {
   "cell_type": "markdown",
   "id": "d9f58547-1671-4071-9e1e-87df887a0b18",
   "metadata": {},
   "source": [
    "- Import `insert` and `select` from the `sqlalchemy` module.\n",
    "- Build an insert statement `insert_stmt` for the `data` table to set `name` to `'Anna'`, `count` to `1`, `amount` to `1000.00`, and `valid` to `True`.\n",
    "- Execute `insert_stmt` with the `connection` and store the `results`.\n",
    "- Print the `.rowcount` attribute of `results` to see how many records were inserted.\n",
    "- Build a select statement to query `data` for the record with the `name` of `'Anna'`.\n",
    "- Print the results of executing the select statement."
   ]
  },
  {
   "cell_type": "code",
   "execution_count": 50,
   "id": "bd321845-01c5-4054-a28b-da2dc1b998ae",
   "metadata": {},
   "outputs": [
    {
     "name": "stdout",
     "output_type": "stream",
     "text": [
      "1\n"
     ]
    }
   ],
   "source": [
    "# Import insert and select from sqlalchemy\n",
    "from sqlalchemy import insert, select\n",
    "\n",
    "# Build an insert statement to insert a record into the data table: insert_stmt\n",
    "insert_stmt = insert(data).values(name='Anna', \n",
    "                                  count=1, amount=1000.00, valid=True)\n",
    "\n",
    "# Execute the insert statement via the connection: results\n",
    "connection = engine.connect()\n",
    "results = connection.execute(insert_stmt)\n",
    "\n",
    "# Print result rowcount\n",
    "print(results.rowcount)"
   ]
  },
  {
   "cell_type": "code",
   "execution_count": 51,
   "id": "d0183b58-7945-4f15-8ec9-815bcc843c7b",
   "metadata": {},
   "outputs": [
    {
     "name": "stdout",
     "output_type": "stream",
     "text": [
      "('Anna', 1, 1000.0, True)\n"
     ]
    }
   ],
   "source": [
    "# Build a select statement to validate the insert: select_stmt\n",
    "select_stmt = select([data]).where(data.columns.name == 'Anna')\n",
    "\n",
    "# Print the result of executing the query.\n",
    "print(connection.execute(select_stmt).first())"
   ]
  },
  {
   "cell_type": "markdown",
   "id": "e7a84620-955a-4848-81ea-80a6f0507dfd",
   "metadata": {},
   "source": [
    "## Inserting multiple records at once\n",
    "It's time to practice inserting multiple records at once!\n",
    "\n",
    "When inserting multiple records at once, you do not use the `.values()` method. Instead, you'll want to first build a list of dictionaries that represents the data you want to insert, with keys being the names of the columns. in the `.execute()` method, you can pair this list of dictionaries with an `insert` statement, which will insert all the records in your list of dictionaries."
   ]
  },
  {
   "cell_type": "markdown",
   "id": "1557e214-0705-4bbd-b702-30f1881b9447",
   "metadata": {},
   "source": [
    "- Build a list of dictionaries called `values_list` with two dictionaries. In the first dictionary set `name` to `'James'`, `count` to `1`, `amount` to `800.00`, and `valid` to `True`. In the second dictionary of the list, set `name` to `'Taylor'`, `count` to `1`, `amount` to `750.00`, and `valid` to `False`.\n",
    "- Build an `insert` statement for the `data` table for a multiple insert, save it as `stmt`.\n",
    "- Execute `stmt` with the `values_list` via `connection` and store the `results`. Make sure `values_list` is the second argument to `.execute()`.\n",
    "- Print the `rowcount` of the `results`."
   ]
  },
  {
   "cell_type": "code",
   "execution_count": 52,
   "id": "869e32a8-5e63-4746-a778-51129edb8fa8",
   "metadata": {},
   "outputs": [
    {
     "name": "stdout",
     "output_type": "stream",
     "text": [
      "2\n"
     ]
    }
   ],
   "source": [
    "# Build a list of dictionaries: values_list\n",
    "values_list = [\n",
    "    {'name': 'James', 'count': 1, 'amount': 800.00, 'valid': True},\n",
    "    {'name': 'Taylor', 'count': 1, 'amount': 750.00, 'valid': False}\n",
    "]\n",
    "\n",
    "# Build an insert statement for the data table: stmt\n",
    "stmt = insert(data)\n",
    "\n",
    "# Execute stmt with the values_list: results\n",
    "results = connection.execute(stmt, values_list)\n",
    "\n",
    "# Print rowcount\n",
    "print(results.rowcount)"
   ]
  },
  {
   "cell_type": "markdown",
   "id": "7ac052fb-3c14-494e-b13e-91dc09726ac4",
   "metadata": {},
   "source": [
    "## Loading a CSV into a table\n",
    "You've done a great job so far at inserting data into tables! You're now going to learn how to load the contents of a CSV file into a table.\n",
    "\n",
    "One way to do that would be to read a CSV file line by line, create a dictionary from each line, and then use `insert()`, like you did in the previous exercise.\n",
    "\n",
    "But there is a faster way using `pandas`. You can read a CSV file into a DataFrame using the `read_csv()` function (this function should be familiar to you, but you can run `help(pd.read_csv)` in the console to refresh your memory!). Then, you can call the [`.to_sql()`](https://pandas.pydata.org/pandas-docs/stable/reference/api/pandas.DataFrame.to_sql.html) method on the DataFrame to load it into a SQL table in a database. The columns of the DataFrame should match the columns of the SQL table.\n",
    "\n",
    "`.to_sql()` has many parameters, but in this exercise we will use the following:\n",
    "- `name` is the name of the SQL table (as a string).\n",
    "- `con` is the connection to the database that you will use to upload the data.\n",
    "- `if_exists` specifies how to behave if the table already exists in the database; possible values are `\"fail\"`, `\"replace\"`, and `\"append\"`.\n",
    "- `index` (`True` or `False`) specifies whether to write the DataFrame's index as a column.\n",
    "\n",
    "In this exercise, you will upload the data contained in the `census.csv` file into an existing table `\"census\"`. The `connection` to the database has already been created for you."
   ]
  },
  {
   "cell_type": "markdown",
   "id": "71e489b3-652e-4c32-a2ad-003fa041f5fb",
   "metadata": {},
   "source": [
    "- Use `pd.read_csv()` to load the `\"census.csv\" `file into a DataFrame. Set the `header` parameter to `None` since the file doesn't have a header row.\n",
    "- Rename the columns of `census_df` to `\"state\"`, `\"sex\"`, `\"age\"`, `\"pop2000\"`, and `\"pop2008\"` to match the columns of the `\"census\"` table in the database."
   ]
  },
  {
   "cell_type": "code",
   "execution_count": 58,
   "id": "1cdcc79a-c2c0-460c-9141-6a4be6004857",
   "metadata": {},
   "outputs": [],
   "source": [
    "# import pandas\n",
    "import pandas as pd\n",
    "\n",
    "# read census.csv into a DataFrame : census_df\n",
    "census_df = pd.read_csv('census.csv', header=None)\n",
    "\n",
    "# rename the columns of the census DataFrame\n",
    "census_df.columns = ['state', 'sex', 'age', 'pop2000', 'pop2008']"
   ]
  },
  {
   "cell_type": "markdown",
   "id": "d85df352-1f11-4fb3-9a65-69927daafb1b",
   "metadata": {},
   "source": [
    "- Use the `.to_sql()` method on `census_df` to **append** the data to the `\"census\"` table in the database using the `connection`.\n",
    "\n",
    "- Since `\"census\"` already exists in the database, you will need to specify an appropriate value for the `if_exists` parameter."
   ]
  },
  {
   "cell_type": "code",
   "execution_count": 72,
   "id": "81a8d86c-03a3-4170-a6a3-78a5d5a3f93d",
   "metadata": {},
   "outputs": [],
   "source": [
    "# import pandas\n",
    "import pandas as pd\n",
    "\n",
    "# read census.csv into a DataFrame : census_df\n",
    "census_df = pd.read_csv(\"census.csv\", header=None)\n",
    "\n",
    "# rename the columns of the census DataFrame\n",
    "census_df.columns = ['state', 'sex', 'age', 'pop2000', 'pop2008']\n",
    "\n",
    "# append the data from census_df to the \"census\" table via connection\n",
    "census_df.to_sql(name='census', con=connection, \n",
    "                 if_exists='append', index=False)"
   ]
  },
  {
   "cell_type": "markdown",
   "id": "2fb0b3db-a127-44fd-b508-7d39e4391d66",
   "metadata": {},
   "source": [
    "*The* `pandas` *package provides us with an efficient way to load a DataFrames into a SQL table. If you would create and execute a statement to select all records* `from` *census, you would see that there are 8772 rows in the table.*"
   ]
  },
  {
   "cell_type": "code",
   "execution_count": 74,
   "id": "7a8502e4-c282-44b0-b126-df054020363b",
   "metadata": {},
   "outputs": [
    {
     "name": "stdout",
     "output_type": "stream",
     "text": [
      "[(8772,)]\n"
     ]
    }
   ],
   "source": [
    "stmt = 'SELECT COUNT(*) FROM census'\n",
    "result_proxy = connection.execute(stmt)\n",
    "results = result_proxy.fetchall()\n",
    "print(results)"
   ]
  },
  {
   "cell_type": "markdown",
   "id": "e76fce63-1b5d-4f05-91b9-f7fd2c0f4d99",
   "metadata": {},
   "source": [
    "---\n",
    "## Updating data in a table\n",
    "It's also possible to edit update data in a database.\n",
    "\n",
    "### Updating data in a table\n",
    "This is done using the `update` statement. The update statement works just like an `insert`, but it has an additional `where` clause to determine which records will be updated. The `values` clause contains only the `column=value` pairs we want to change.\n",
    "\n",
    "### Updating one row\n",
    "In this example, I want to make the employee with the `ID` of `3` an active employee. I start by importing the update statement from sqlalchemy. Next I build an update statement for the employees table that, uses a `where` clause to target employee 3 and then in the values clause sets them active. Next I execute the statement and print the `rowcount` to make sure that only 1 employee was updated.\n"
   ]
  },
  {
   "cell_type": "code",
   "execution_count": 66,
   "id": "0128263c-43a4-4cfb-8c3a-af503d191b01",
   "metadata": {},
   "outputs": [
    {
     "name": "stdout",
     "output_type": "stream",
     "text": [
      "1\n"
     ]
    }
   ],
   "source": [
    "from sqlalchemy import update\n",
    "stmt = update(employees)\n",
    "stmt = stmt.where(employees.columns.id == 3)\n",
    "stmt = stmt.values(active=True)\n",
    "result_proxy = connection.execute(stmt)\n",
    "print(result_proxy.rowcount)"
   ]
  },
  {
   "cell_type": "markdown",
   "id": "6e263d64-ca64-4c44-a1b4-9960435574c4",
   "metadata": {},
   "source": [
    "\n",
    "### Updating multiple rows\n",
    "It's possible to update multiple records by having a `where` clause that would target multiple records. Because this is so easy to do, I always advise you to check the rowcount and make sure the right number of records were updated.\n",
    "\n",
    "### Inserting multiple rows\n",
    "In this example, we need to set all active employees to be inactive and with a salary of 0. We start by building an update statement for the employees table with a where clause that matches all active employees. Then we update the active and salary columns with the changes. Next we execute the statement and finally print the rowcount to make sure I updated the proper number of employees."
   ]
  },
  {
   "cell_type": "code",
   "execution_count": 67,
   "id": "db9ab1b1-82f7-4640-babf-5292965d01ff",
   "metadata": {},
   "outputs": [
    {
     "name": "stdout",
     "output_type": "stream",
     "text": [
      "3\n"
     ]
    }
   ],
   "source": [
    "stmt = update(employees)\n",
    "stmt = stmt.where(employees.columns.active == True)\n",
    "stmt = stmt.values(active=False, salary=0.00)\n",
    "result_proxy = connection.execute(stmt)\n",
    "print(result_proxy.rowcount)"
   ]
  },
  {
   "cell_type": "markdown",
   "id": "c2c278d2-fb1b-4f6f-9f1e-8d3c153baf9f",
   "metadata": {},
   "source": [
    "### Correlated updates\n",
    "We have already restored all the employees back to the prior active status and previous salaries, and now we want to pay all our employees the same amount.\n",
    "\n",
    "We start by building a select statement to select the maximum salary we currently pay any employee. Next we build an update statement for the employees table **without** a `where` clause so it will update every record. In the values clause we set the salary column to the select statement. When we execute the statement, it will find the maximum salary in the table using the `new_salary` select statement and that maximum salary will be used as the value for the salary field in the update statement that affects every record in the table. We can see when we print the `rowcount` that it affected all three employees.\n"
   ]
  },
  {
   "cell_type": "code",
   "execution_count": 69,
   "id": "78651256-fd7e-499d-8d45-25bf0aae12e9",
   "metadata": {},
   "outputs": [
    {
     "name": "stdout",
     "output_type": "stream",
     "text": [
      "3\n"
     ]
    }
   ],
   "source": [
    "from sqlalchemy import desc\n",
    "new_salary = select([employees.columns.salary])\n",
    "new_salary = new_salary.order_by(\n",
    "        desc(employees.columns.salary))\n",
    "new_salary = new_salary.limit(1)\n",
    "stmt = update(employees)\n",
    "stmt = stmt.values(salary=new_salary)\n",
    "result_proxy = connection.execute(stmt)\n",
    "print(result_proxy.rowcount)"
   ]
  },
  {
   "cell_type": "markdown",
   "id": "bbd4599b-aaef-41c0-852c-fe43df11c1df",
   "metadata": {},
   "source": [
    "When you use a `select` statement to get the value to be used in an update statement as we did in the previous example, this is called a Correlated Update. A correlated update is often used to select data from another table or the maximum value of a column to use as the value of the update."
   ]
  },
  {
   "cell_type": "markdown",
   "id": "3abeaf05-e803-4aea-b05a-fd0bc234cd35",
   "metadata": {},
   "source": [
    "## Updating individual records\n",
    "The `update` statement is very similar to an `insert` statement. For example, you can update all wages in the `employees` table as follows:\n",
    "```python\n",
    "stmt = update(employees).values(wage=100.00)\n",
    "```\n",
    "The `update` statement also typically uses a `where` clause to help us determine what data to update. For example, to only update the record for the employee with ID 15, you would append the previous statement as follows:\n",
    "```python\n",
    "stmt = stmt.where(employees.id == 15)\n",
    "```\n",
    "You'll be using the FIPS state code here, which is appropriated by the U.S. government to identify U.S. states and certain other associated areas.\n",
    "\n",
    "For your convenience, the names of the tables and columns of interest in this exercise are: `state_fact` (Table), `name` (Column), and `fips_state` (Column)."
   ]
  },
  {
   "cell_type": "markdown",
   "id": "aa4e5693-69fa-48f5-bdfb-890d3107951f",
   "metadata": {},
   "source": [
    "- Build a statement to *select* all columns from the `state_fact` table where the value in the `name` column is `'New York'`. Call it `select_stmt`.\n",
    "- Fetch all the results and assign them to `results`.\n",
    "- Print the results and the `fips_state` column of the first row of the results."
   ]
  },
  {
   "cell_type": "markdown",
   "id": "1bb99340-7cc6-4151-a3ae-30e4bd46dc7e",
   "metadata": {},
   "source": [
    "```python\n",
    "# Build a select statement: select_stmt\n",
    "select_stmt = select([state_fact]).where(state_fact.columns.name == 'New York')\n",
    "\n",
    "# Execute select_stmt and fetch the results\n",
    "results = connection.execute(select_stmt).fetchall()\n",
    "\n",
    "# Print the results of executing the select_stmt\n",
    "print(results)\n",
    "\n",
    "# Print the FIPS code for the first row of the result\n",
    "print(results[0]['fips_state'])\n",
    "```"
   ]
  },
  {
   "cell_type": "markdown",
   "id": "ee7aac2d-c447-4174-9498-9edabc2b358c",
   "metadata": {},
   "source": [
    "```\n",
    "[('32', 'New York', 'NY', 'USA', 'state', '10', 'current', 'occupied', '', '0', 'N.Y.', 'II', '1', 'Northeast', '2', 'Mid-Atlantic', '2')]\n",
    "\n",
    "0\n",
    "```"
   ]
  },
  {
   "cell_type": "markdown",
   "id": "6f941060-a17e-430e-8c4b-fc2e251d375b",
   "metadata": {},
   "source": [
    "- Notice that there is only one record in `state_fact` for the state of New York. It currently has the FIPS code of `0`.\n",
    "    - Build an `update` statement to change the `fips_state` column code to `36`, save it as `update_stmt`.\n",
    "    - Use a `where` clause to filter for states with the `name` of `'New York'` in the `state_fact` table.\n",
    "    - Execute `update_stmt` via the `connection` and save the output as `update_results`."
   ]
  },
  {
   "cell_type": "markdown",
   "id": "ec2d51a8-25cd-4cb2-a511-551a6ce915d7",
   "metadata": {},
   "source": [
    "```python\n",
    "# Build a statement to update the fips_state to 36: update_stmt\n",
    "update_stmt = update(state_fact).values(fips_state = 36)\n",
    "\n",
    "# Append a where clause to limit it to records for New York state\n",
    "update_stmt = update_stmt.where(state_fact.columns.name == 'New York')\n",
    "\n",
    "# Execute the update statement: update_results\n",
    "update_results = connection.execute(update_stmt)\n",
    "```"
   ]
  },
  {
   "cell_type": "markdown",
   "id": "4aab35c7-4fc2-4f29-a040-026e79cf78d7",
   "metadata": {},
   "source": [
    "- Now you will confirm that the record for New York was updated by selecting all the records for New York from `state_fact` and repeating what you did before.\n",
    "    - Execute `select_stmt` again, fetch all the results, and assign them to `new_results`. Print the `new_results` and the `fips_state` column of the first row of the `new_results`."
   ]
  },
  {
   "cell_type": "markdown",
   "id": "50eea91a-8f8b-4568-bab2-2838b2a448d7",
   "metadata": {},
   "source": [
    "```python\n",
    "# Execute select_stmt again and fetch the new results\n",
    "new_results = connection.execute(select_stmt).fetchall()\n",
    "\n",
    "# Print the new_results\n",
    "print(new_results)\n",
    "\n",
    "# Print the FIPS code for the first row of the new_results\n",
    "print(new_results[0]['fips_state'])\n",
    "```\n",
    "\n",
    "```\n",
    "[('32', 'New York', 'NY', 'USA', 'state', '10', 'current', 'occupied', '', '36', 'N.Y.', 'II', '1', 'Northeast', '2', 'Mid-Atlantic', '2')]\n",
    "\n",
    "36\n",
    "```"
   ]
  },
  {
   "cell_type": "markdown",
   "id": "b1c5ee41-a609-4d4e-85dc-35744c8255cb",
   "metadata": {},
   "source": [
    "## Updating multiple records\n",
    "As Jason discussed in the video, by using a `where` clause that selects more records, you can update multiple records at once. Unlike inserting, updating multiple records works exactly the same way as updating a single record (as long as you are updating them with the same value). It's time now to practice this.\n",
    "\n",
    "For your convenience, the names of the tables and columns of interest in this exercise are: `state_fact` (Table), `notes` (Column), and `census_region_name` (Column)."
   ]
  },
  {
   "cell_type": "markdown",
   "id": "970b237b-b2ad-4b59-bc0d-0b2afbb237e0",
   "metadata": {},
   "source": [
    "- Build an `update` statement to update the `notes` column in the `state_fact` table to `'The Wild West'`. Save it as `stmt`.\n",
    "- Use a `where` clause to filter for records that have `'West'` in the `census_region_name` column of the `state_fact` table.\n",
    "- Execute `stmt_west` via the `connection` and save the output as `results`.\n",
    "- Print `rowcount` of the `results`."
   ]
  },
  {
   "cell_type": "markdown",
   "id": "2dc995da-e4da-4789-9115-331c0116ef14",
   "metadata": {},
   "source": [
    "```python\n",
    "# Build a statement to update the notes to 'The Wild West': stmt\n",
    "stmt = update(state_fact).values(notes='The Wild West')\n",
    "\n",
    "# Append a where clause to match the West census region records: stmt_west\n",
    "stmt_west = stmt.where(state_fact.columns.census_region_name == 'West')\n",
    "\n",
    "# Execute the statement: results\n",
    "results = connection.execute(stmt_west)\n",
    "\n",
    "# Print rowcount\n",
    "print(results.rowcount)\n",
    "```\n",
    "```\n",
    "\n",
    "13\n",
    "```"
   ]
  },
  {
   "cell_type": "markdown",
   "id": "c086f091-b774-4d5e-9d32-5724a6d5ddb4",
   "metadata": {},
   "source": [
    "## Correlated updates\n",
    "You can also update records with data from a select statement. This is called a correlated update. It works by defining a `select` statement that returns the value you want to update the record with and assigning that select statement as the value in `update`.\n",
    "\n",
    "You'll be using a `flat_census` in this exercise as the target of your correlated update. The `flat_census` table is a summarized copy of your census table, and contains, in particular, the `fips_state` columns."
   ]
  },
  {
   "cell_type": "markdown",
   "id": "1b9c82a1-1fb6-432e-a7c3-351b6005aefe",
   "metadata": {},
   "source": [
    "- Build a statement to select the `name` column from `state_fact`. Save the statement as `fips_stmt`.\n",
    "- Append a where clause to `fips_stmt` that matches `fips_state` from the `state_fact` table with `fips_code` in the `flat_census` table.\n",
    "- Build an update statement to set the `state_name` in `flat_census` to `fips_stmt`. Save the statement as `update_stmt`.\n",
    "- Execute `update_stmt`, store the `results` and print the `rowcount` of `results`."
   ]
  },
  {
   "cell_type": "markdown",
   "id": "966c7cba-20fd-4cab-b556-4dd7ed58a3a6",
   "metadata": {},
   "source": [
    "```python\n",
    "# Build a statement to select name from state_fact: fips_stmt\n",
    "fips_stmt = select([state_fact.columns.name])\n",
    "\n",
    "# Append a where clause to match the fips_state to flat_census fips_code: fips_stmt\n",
    "fips_stmt = fips_stmt.where(state_fact.columns.fips_state ==\n",
    "                            flat_census.columns.fips_code)\n",
    "\n",
    "# Build an update statement to set the name to fips_stmt_where: update_stmt\n",
    "update_stmt = update(flat_census).values(state_name=fips_stmt)\n",
    "\n",
    "# Execute update_stmt: results\n",
    "results = connection.execute(update_stmt)\n",
    "\n",
    "# Print rowcount\n",
    "print(results.rowcount)\n",
    "```\n",
    "```\n",
    "\n",
    "51\n",
    "```"
   ]
  },
  {
   "cell_type": "markdown",
   "id": "4165ea84-29be-404a-bf74-7638faab65d7",
   "metadata": {},
   "source": [
    "---\n",
    "## Deleting data from a database\n",
    "###  Deleting data from a table\n",
    "First to delete data from a table, we use the `delete()` statement. The `delete()` statement targets a table and uses a `where()` clause to determine which rows to delete. It's not simple or fast to restore large databases or tables if you delete them so be very cautious when using the delete statement.\n",
    "\n",
    "### Deleting all data from a table\n",
    "In this example, we are going to delete all the data from a table named `extra_employees`. We start by importing the delete statement. next we're going to build a select statement to count the records in the `extra_employees` table in order to make sure that we delete the correct number of records. We execute the statement and use the scalar fetch method to get just the number of records back. \n",
    "\n",
    "```python\n",
    "from sqlalchemy import delete\n",
    "stmt = select([func.count(extra_employees.columns.id)])\n",
    "connection.execute(stmt).scalar()\n",
    "```\n",
    "```\n",
    "\n",
    "3\n",
    "```\n",
    "\n",
    "Then we build a `delete()` statement that targets the `extra_employees` table without a `where` clause. Now we execute the `delete()` statement and check the row count to make sure it matches the count from our `select()` statement.\n",
    "```python\n",
    "delete_stmt = delete(extra_employees)\n",
    "result_proxy = connection.execute(delete_stmt)\n",
    "result_proxy.rowcount\n",
    "```\n",
    "```\n",
    "\n",
    "3\n",
    "```\n",
    "\n",
    "### Deleting specific rows\n",
    "We can delete specific rows by using a where clause on the `delete()` statement. Remember much like update, it's import to check the rowcount to make sure you didn't accidentally delete too many rows.\n",
    "\n",
    "Here we are removing employee 3 from the employees table. We begin by building a `delete()` statement for the `employees` table and use a `where` clause to target the employee with the ID of 3. Then we execute the statement and check the row count to make sure we only removed one record.\n",
    "```python\n",
    "stmt = delete(employees).where(employees.columns.id == 3)\n",
    "result_proxy = connection.execute(stmt)\n",
    "result_proxy.rowcount\n",
    "```\n",
    "```\n",
    "\n",
    "1\n",
    "```\n",
    "\n",
    "### Dropping a table completely\n",
    "Sometimes, you need to delete the table itself from the database, this is done with the `drop()` method on the table. We pass the engine in as an argument to specify which database we are dropping the table from. Dropping a table only removes it and the data it holds from the database, and does not remove it from metadata or our table object.\n",
    "\n",
    "### Dropping a table\n",
    "In this example, we are going to drop the `extra_employees` table. We call the drop method on the table and pass it the engine that points to our database. Finally, we verify that it was deleted by using the exists method with the engine to check if it is still there.\n",
    "```python\n",
    "extra_employees.drop(engine)\n",
    "print(extra_employees.exists(engine)\n",
    "```\n",
    "```\n",
    "\n",
    "False\n",
    "```\n",
    "\n",
    "### Dropping all the tables\n",
    "It's also possible to drop all the tables in a database by using the `drop_all()` method on the metadata object. It works exactly the same as the drop method, except it affects all tables in the database.\n",
    "\n",
    "So to completely empty the database we are using, we call the `drop_all()` method and pass in the engine to specify which database we are working on. Finally when we check the `table_names` on the engine object, we can see that there are no more tables.\n",
    "```python\n",
    "metadata.drop_all(engine)\n",
    "engine.table_names()\n",
    "```\n",
    "```\n",
    "\n",
    "[]\n",
    "```"
   ]
  },
  {
   "cell_type": "markdown",
   "id": "c2f60311-2c06-4743-8edc-83f9b99a2435",
   "metadata": {},
   "source": [
    "## Deleting all the records from a table\n",
    "Often, you'll need to empty a table of all of its records so you can reload the data. You can do this with a `delete` statement with just the table as an argument. For example, the table `extra_employees` is deleted by executing as follows:\n",
    "```python\n",
    "delete_stmt = delete(extra_employees)\n",
    "result_proxy = connection.execute(delete_stmt)\n",
    "```\n",
    "Do be careful, though, as deleting cannot be undone."
   ]
  },
  {
   "cell_type": "markdown",
   "id": "04386fab-a33a-4d91-ae92-c1f7b971f866",
   "metadata": {},
   "source": [
    "- Import `delete` and `select` from sqlalchemy.\n",
    "- Build a `delete` statement to remove all the data from the `census` table. Save it as `delete_stmt`.\n",
    "- Execute `delete_stmt` via the `connection` and save the `results`.\n",
    "- `Select` all remaining rows from the `census` table and print the result to confirm that the table is now empty."
   ]
  },
  {
   "cell_type": "markdown",
   "id": "f51b30c9-627e-4b7b-ade8-2a2621c24a54",
   "metadata": {},
   "source": [
    "```python\n",
    "# Import delete, select\n",
    "from sqlalchemy import delete, select\n",
    "\n",
    "# Build a statement to empty the census table: stmt\n",
    "delete_stmt = delete(census)\n",
    "\n",
    "# Execute the statement: results\n",
    "results = connection.execute(delete_stmt)\n",
    "\n",
    "# Print affected rowcount\n",
    "print(results.rowcount)\n",
    "\n",
    "# Build a statement to select all records from the census table : select_stmt\n",
    "select_stmt = select([census])\n",
    "\n",
    "# Print the results of executing the statement to verify there are no rows\n",
    "print(connection.execute(select_stmt).fetchall())\n",
    "```\n",
    "```\n",
    "\n",
    "8772\n",
    "\n",
    "[]\n",
    "```"
   ]
  },
  {
   "cell_type": "markdown",
   "id": "0ef10701-7d9a-42d1-918d-36f19c1d62b9",
   "metadata": {},
   "source": [
    "## Deleting specific records\n",
    "By using a `where()` clause, you can target the `delete` statement to remove only certain records. For example, all rows from the `employees` table that had `id` 3 is deleted with the following delete statement:\n",
    "```python\n",
    "delete(employees).where(employees.columns.id == 3) \n",
    "```\n",
    "Here you'll delete ALL rows which have `'M'` in the `sex` column and `36` in the `age` column. We have included code at the start which computes the total number of these rows. It is important to make sure that this is the number of rows that you actually delete."
   ]
  },
  {
   "cell_type": "markdown",
   "id": "39d0b975-e22c-4df6-8cc3-4ef3b0e4fd3a",
   "metadata": {},
   "source": [
    "- Build a `delete` statement to remove data from the `census` table. Save it as `delete_stmt`.\n",
    "- Append a `where` clause to `delete_stmt` that contains an `and_` to filter for rows which have `'M'` in the `sex` column **AND** `36` in the `age` column.\n",
    "- Execute the delete statement.\n",
    "- Print the `rowcount` of the `results`, as well as `to_delete`, which returns the number of rows that should be deleted. These should match and this is an important sanity check."
   ]
  },
  {
   "cell_type": "markdown",
   "id": "00067fac-3ed6-4fa3-befc-f088ae44631d",
   "metadata": {},
   "source": [
    "```python\n",
    "# Build a statement to count records using the sex column for Men ('M') age 36: count_stmt\n",
    "count_stmt = select([func.count(census.columns.sex)]).where(\n",
    "    and_(census.columns.sex == 'M',\n",
    "         census.columns.age == 36)\n",
    ")\n",
    "\n",
    "# Execute the select statement and use the scalar() fetch method to save the record count\n",
    "to_delete = connection.execute(count_stmt).scalar()\n",
    "\n",
    "# Build a statement to delete records from the census table: delete_stmt\n",
    "delete_stmt = delete(census)\n",
    "\n",
    "# Append a where clause to target Men ('M') age 36: delete_stmt\n",
    "delete_stmt = delete_stmt.where(\n",
    "    and_(census.columns.sex == 'M',\n",
    "         census.columns.age == 36)\n",
    ")\n",
    "\n",
    "# Execute the statement: results\n",
    "results = connection.execute(delete_stmt)\n",
    "\n",
    "# Print affected rowcount and to_delete record count, make sure they match\n",
    "print(results.rowcount, to_delete)\n",
    "```\n",
    "```\n",
    "\n",
    "51 51\n",
    "```"
   ]
  },
  {
   "cell_type": "markdown",
   "id": "2302a5da-fef3-48b5-957d-ab31ba43bfff",
   "metadata": {},
   "source": [
    "## Deleting a table completely\n",
    "You're now going to practice dropping individual tables from a database with the `.drop()` method, as well as *all* tables in a database with the `.drop_all()` method.\n",
    "\n",
    "As Spider-Man's Uncle Ben said: With great power, comes great responsibility. Do be careful when deleting tables, as it's not simple or fast to restore large databases! Remember, you can check to see if a table exists on an `engine` with the `.exists(engine)` method."
   ]
  },
  {
   "cell_type": "markdown",
   "id": "99abd3b0-caa2-4afe-b2e2-cd583bddbbe3",
   "metadata": {},
   "source": [
    "- Drop the `state_fact` table by applying the method `.drop()` to it and passing it the argument `engine` *(in fact, `engine` will be the sole argument for **every** function/method in this exercise.)*\n",
    "- Check to see if `state_fact` exists via `print`. Use the `.exists()` method with `engine` as the argument.\n",
    "- Drop all the tables via the `metadata` using the `.drop_all()` method.\n",
    "- Use a print statement to check if the `census` table exists."
   ]
  },
  {
   "cell_type": "markdown",
   "id": "59693209-6422-4d96-ba97-65a04c14180b",
   "metadata": {},
   "source": [
    "```python\n",
    "# Drop the state_fact table\n",
    "state_fact.drop(engine)\n",
    "\n",
    "# Check to see if state_fact exists\n",
    "print(state_fact.exists(engine))\n",
    "```\n",
    "```\n",
    "\n",
    "False\n",
    "\n",
    "```\n",
    "```python\n",
    "# Drop all tables\n",
    "metadata.drop_all(engine)\n",
    "\n",
    "# Check to see if census exists\n",
    "print(engine.table_names())\n",
    "```\n",
    "```\n",
    "\n",
    "[]\n",
    "```"
   ]
  }
 ],
 "metadata": {
  "kernelspec": {
   "display_name": "Python 3",
   "language": "python",
   "name": "python3"
  },
  "language_info": {
   "codemirror_mode": {
    "name": "ipython",
    "version": 3
   },
   "file_extension": ".py",
   "mimetype": "text/x-python",
   "name": "python",
   "nbconvert_exporter": "python",
   "pygments_lexer": "ipython3",
   "version": "3.8.8"
  }
 },
 "nbformat": 4,
 "nbformat_minor": 5
}
