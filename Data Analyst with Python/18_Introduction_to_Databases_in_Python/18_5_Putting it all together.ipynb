{
 "cells": [
  {
   "cell_type": "markdown",
   "id": "e984d2a5-f0d3-4874-b322-5c4586a3292a",
   "metadata": {},
   "source": [
    "# 5. Putting it all together\n",
    "**Bring together all of the skills you acquired in the previous chapters to work on a real-life project. From connecting to a database and populating it, to reading and querying it.**"
   ]
  },
  {
   "cell_type": "markdown",
   "id": "6d8116e3-334c-4c64-bfbe-82f85723bb3c",
   "metadata": {},
   "source": [
    "It's time to put all your effort so far to good use on a census case study.\n",
    "\n",
    "### Census case study\n",
    "The case study is broken down into three parts. \n",
    "1. we are going to prepare SQLAlchemy and the database. \n",
    "2. we will load the data into the database. \n",
    "3. we solve a few data science type problems with our query knowledge.\n",
    "\n",
    "### Part 1: preparing SQLAlchemy and the database\n",
    "For part 1 we are going to focus on preparing SQLAlchemy and the database. You might remember this example from Chapter 1. We import `create_engine` and `Metadata`, then create the engine and initialize the metadata.\n",
    "```python\n",
    "from sqlalchemy import create_engine, MetaData\n",
    "engine = create_engine('sqlite:///census_nyc.sqlite')\n",
    "metadata = MetaData()\n",
    "```\n",
    "\n",
    "### Part 1: preparing SQLAlchemy and the database\n",
    "Then we will build the census table to hold our data. You might remember the employees table we built in Chapter 4. We begin by importing the `Table` and `Column` objects along with all the types we are going to use in our table. Next we define our Table using the Table object by giving it a name, the metadata object, and then each of the columns we want in our table. Finally we create the table in the database by using the create all method on the metadata with the engine.\n",
    "```python\n",
    "from sqlalchemy import Table, Column, String, Integer, Numeric, Boolean\n",
    "\n",
    "engine = create_engine('sqlite:///')\n",
    "metadata = MetaData()\n",
    "\n",
    "employees = Table('employees', metadata,\n",
    "                  Column('id', Integer()),\n",
    "                  Column('name', String(255)),\n",
    "                  Column('salary', Numeric()),\n",
    "                  Column('active', Boolean()))\n",
    "metadata.create_all(engine)\n",
    "```"
   ]
  },
  {
   "cell_type": "markdown",
   "id": "f0be1770-b1a8-498e-9123-80d17a618f12",
   "metadata": {},
   "source": [
    "## Setup the engine and metadata\n",
    "In this exercise, your job is to create an engine to the database that will be used in this chapter. Then, you need to initialize its metadata.\n",
    "\n",
    "Recall how you did this in Chapter 1 by leveraging `create_engine()` and `MetaData()`."
   ]
  },
  {
   "cell_type": "markdown",
   "id": "7ba28900-3121-40d2-a355-9b3de999c452",
   "metadata": {},
   "source": [
    "- Import `create_engine` and `MetaData` from `sqlalchemy`.\n",
    "- Create an `engine` to the chapter 5 database by using `'sqlite:///chapter5.sqlite'` as the connection string.\n",
    "- Create a MetaData object as `metadata`."
   ]
  },
  {
   "cell_type": "code",
   "execution_count": 1,
   "id": "9dc723d3-9c7f-4137-a8de-b2bbe70da31c",
   "metadata": {},
   "outputs": [],
   "source": [
    "# Import create_engine, MetaData\n",
    "from sqlalchemy import create_engine, MetaData\n",
    "\n",
    "# Define an engine to connect to chapter5.sqlite: engine\n",
    "engine = create_engine('sqlite:///chapter5.sqlite')\n",
    "\n",
    "# Initialize MetaData: metadata\n",
    "metadata = MetaData()"
   ]
  },
  {
   "cell_type": "markdown",
   "id": "3cc7d785-35b4-4987-9878-d51fb405a9f3",
   "metadata": {},
   "source": [
    "## Create the table to the database\n",
    "Having setup the engine and initialized the metadata, you will now define the `census` table object and then create it in the database using the `metadata` and `engine` from the previous exercise. To create it in the database, you will have to use the `.create_all()` method on the `metadata` with `engine` as the argument."
   ]
  },
  {
   "cell_type": "markdown",
   "id": "354352dc-2012-4983-a1e1-0c98c22d9691",
   "metadata": {},
   "source": [
    "- Import `Table`, `Column`, `String`, and `Integer` from `sqlalchemy`.\n",
    "- Define a `census` table with the following columns:\n",
    "    - `'state'` - String - length of 30\n",
    "    - `'sex'` - String - length of 1\n",
    "    - `'age'` - Integer\n",
    "    - `'pop2000'` - Integer\n",
    "    - `'pop2008'` - Integer\n",
    "- Create the table in the database using the `metadata` and `engine`."
   ]
  },
  {
   "cell_type": "code",
   "execution_count": 2,
   "id": "19415ee5-6342-490f-8069-8669954fbfb1",
   "metadata": {},
   "outputs": [],
   "source": [
    "# Import Table, Column, String, and Integer\n",
    "from sqlalchemy import Table, Column, String, Integer\n",
    "\n",
    "# Build a census table: census\n",
    "census = Table('census', metadata,\n",
    "               Column('state', String(30)),\n",
    "               Column('sex', String(1)),\n",
    "               Column('age', Integer),\n",
    "               Column('pop2000', Integer),\n",
    "               Column('pop2008', Integer))\n",
    "\n",
    "# Create the table in the database\n",
    "metadata.create_all(engine)"
   ]
  },
  {
   "cell_type": "markdown",
   "id": "25a8a786-370a-4638-a843-ae5f77ba5ea8",
   "metadata": {},
   "source": [
    "---\n",
    "## Populating the database\n",
    "With our table in place, we can now load the data into it. The US Census Agency gave us a CSV file full of data that we need to load into the table.\n",
    "\n",
    "### Part 2: populating the database\n",
    "We'll start that by building a `values_list` like we did in chapter 4 with this exercise. \n",
    "```python\n",
    "values_list = []\n",
    "for row in csv_reader:\n",
    "    data = {'state': row[0], 'sex': row[1], 'age': row[2],\n",
    "           'pop2000': row[3], 'pop2008': row[4]}\n",
    "    values_list.append(data)\n",
    "```\n",
    "We begin by defining an empty list then looping over the rows of the CSV. Then we build a dictionary for each CSV row that has the data for that row matched up with the column we want to store it in. Then we append the dictionary to the values list.\n",
    "\n",
    "### Part 2: Populating the Database\n",
    "Now we can insert that `values_list` as we did in Chapter 4 like this example. We we start by importing the `insert` statement. Then we build an insert statement for our table, finally we use the execute method on our connection with the statement and values list to insert the data into the table.\n",
    "```python\n",
    "from sqlalchemy import insert\n",
    "stmt = insert(employees)\n",
    "result_proxy = connection.execute(stmt, values_list)\n",
    "print(result_proxy.rowcount)\n",
    "```\n",
    "```\n",
    "\n",
    "2\n",
    "```\n",
    "To review how many rows were inserted, we use the `rowcount` method of the `ResultProxy`."
   ]
  },
  {
   "cell_type": "markdown",
   "id": "9bc87c0c-e965-4a6c-a16a-79b6da5e2d2d",
   "metadata": {},
   "source": [
    "## Reading the data from the CSV\n",
    "Leverage the Python CSV module from the standard library and load the data into a list of dictionaries."
   ]
  },
  {
   "cell_type": "markdown",
   "id": "13428a14-e284-4bd1-a378-6253152e10b8",
   "metadata": {},
   "source": [
    "- Create an empty list called `values_list`.\n",
    "- Iterate over the rows of `csv_reader` with a for loop, creating a dictionary called `data` for each row and append it to `values_list`.\n",
    "    - Within the for loop, `row` will be a list whose entries are `'state'`, `'sex'`, `'age'`, `'pop2000'` and `'pop2008'` (in that order)."
   ]
  },
  {
   "cell_type": "code",
   "execution_count": 15,
   "id": "214ea265-d135-4293-a6e6-7e6a7e4dd467",
   "metadata": {},
   "outputs": [],
   "source": [
    "import csv\n",
    "\n",
    "csv_reader = csv.reader(open('census.csv'))\n",
    "\n",
    "# Create an empty list: values_list\n",
    "values_list = []\n",
    "\n",
    "# Iterate over the rows\n",
    "for row in csv_reader:\n",
    "    # Create a dictionary with the values\n",
    "    data = {'state': row[0], 'sex': row[1], 'age': row[2], \n",
    "            'pop2000': row[3], 'pop2008': row[4]}\n",
    "    # Append the dictionary to the values list\n",
    "    values_list.append(data)"
   ]
  },
  {
   "cell_type": "markdown",
   "id": "79421a8c-e17f-4023-b425-6f2beac8cf81",
   "metadata": {},
   "source": [
    "## Load data from a list into the Table\n",
    "Using the multiple insert pattern, in this exercise, you will load the data from `values_list` into the table."
   ]
  },
  {
   "cell_type": "markdown",
   "id": "e7e0bbb8-abfd-4fde-9fca-d33b29dc0bcb",
   "metadata": {},
   "source": [
    "- Import `insert` from `sqlalchemy`.\n",
    "- Build an insert statement for the `census` table.\n",
    "- Execute the statement `stmt` along with `values_list`. You will need to pass them both as arguments to `connection.execute()`.\n",
    "- Print the `rowcount` attribute of `results`."
   ]
  },
  {
   "cell_type": "code",
   "execution_count": 16,
   "id": "eb08bd89-6292-45de-a5cf-2f7dcd21df73",
   "metadata": {},
   "outputs": [
    {
     "name": "stdout",
     "output_type": "stream",
     "text": [
      "8772\n"
     ]
    }
   ],
   "source": [
    "# Import insert\n",
    "from sqlalchemy import insert\n",
    "\n",
    "# Build insert statement: stmt\n",
    "stmt = insert(census)\n",
    "\n",
    "# Use values_list to insert data: results\n",
    "results = connection.execute(stmt, values_list)\n",
    "\n",
    "# Print rowcount\n",
    "print(results.rowcount)"
   ]
  },
  {
   "cell_type": "markdown",
   "id": "89e61ab1-2507-4dcf-933d-1946d0336331",
   "metadata": {},
   "source": [
    "---\n",
    "## Querying the database\n",
    "### Part 3: answering data science questions with queries\n",
    "Here is an example of how we calculated an average in an exercise from Chapter 3. We began by importing the select statement. Next we built a select statement that creates a weighted average. We do this by summing the result of multiplying the age with the population and dividing that by the sum of the total population and labeling that average age. Next we grouped by the sex column to determine the average `age` for each `sex`. Finally, we executed the query and fetched all the results.\n",
    "```python\n",
    "from sqlalchemy import select\n",
    "stmt = select([census.columns.sex,\n",
    "               (func.sum(census.columns.pop2008 *\n",
    "                         census.columns.age) /\n",
    "                func.sum(census.columns.pop2008)\n",
    "               ). label('avarage_age')])\n",
    "stmt = stmt.group_by(census.columns.sex)\n",
    "resutls = connection.execute(stmt).fetchall()\n",
    "```\n",
    "\n",
    "### Part 3: answering data science questions with queries\n",
    "We learned how to calculate a percentage by using the case and cast clauses in Chapter 3. We begin by importing `case`, `cast`, and `Float`. Then we build a select statement that calculates the sum of the `pop2008` column in cases where the state is New York. Then we divided that by the sum of the total population which is cast to a Float so we would get Decimal values. Finally, we multiplied by 100 to get a percentage and labeled it `ny_percent`.\n",
    "```python\n",
    "from sqlalchemy import case, cast, Float\n",
    "stmt = select([\n",
    "        (func.sum(\n",
    "            case([\n",
    "                (census.columns.state == 'New York',\n",
    "                census.columns.pop2008)\n",
    "            ], else_=0)) /\n",
    "        cast(func.sum(census.columns.pop2008),\n",
    "            Float) * 100). label('ny_percent')])\n",
    "```\n",
    "\n",
    "Also from Chapter 3, we learned how calculate the difference between two columns grouped by another column. We start by building a `select` statement, that selects the column we want to determine the change by, which in this case is `age`. Then we calculate the difference between the population in 2008 and in 2000, and we label that `pop_change`. Remember to wrap the difference calculation in parentheses so you can label it. Next, we order by `pop_change` and finally we limit it to just 5 results.\n",
    "```python\n",
    "stmt = select([census.columns.age,\n",
    "              (census.columns.pop2008 -\n",
    "               census.columns.pop2000).label('pop_chage')\n",
    "              ])\n",
    "stmt = stmt.order_by('pop_change')\n",
    "stmt = stmt.limit(5)\n",
    "```"
   ]
  },
  {
   "cell_type": "markdown",
   "id": "d3ae2c1c-4f4b-4984-8b95-73b3ebbef394",
   "metadata": {},
   "source": [
    "## Determine the average age by population\n",
    "To calculate a weighted average, we first find the total sum of weights multiplied by the values we're averaging, then divide by the sum of all the weights.\n",
    "\n",
    "For example, if we wanted to find a weighted average of `data = [10, 30, 50]` weighted by `weights = [2,4,6]`, we would compute *(2*10 + 4*30 + 6*50) / (2+4+6)*, or `sum(weights * data) / sum(weights)`.\n",
    "\n",
    "In this exercise, however, you will make use of **`func.sum()`** together with select to `select` the weighted average of a column from a table. You will still work with the `census` data, and you will compute the average of age weighted by state population in the year 2000, and then group this weighted average by sex."
   ]
  },
  {
   "cell_type": "markdown",
   "id": "46f8df35-d5c4-48cd-a99f-be5478f21892",
   "metadata": {},
   "source": [
    "- Import `select` and `func` from `sqlalchemy`.\n",
    "- Write a statement to `select` the average of age (`age`) weighted by population in **2000** (`pop2000`) from `census`."
   ]
  },
  {
   "cell_type": "code",
   "execution_count": 17,
   "id": "1aa82953-7cf1-4a22-bf41-4d6d8e8abac4",
   "metadata": {},
   "outputs": [],
   "source": [
    "# Import select and func\n",
    "from sqlalchemy import select, func\n",
    "\n",
    "# Select the average of age weighted by pop2000\n",
    "stmt = select([func.sum(census.columns.pop2000 *\n",
    "                        census.columns.age) /\n",
    "               func.sum(census.columns.pop2000)])"
   ]
  },
  {
   "cell_type": "markdown",
   "id": "b6e3e2bb-b5b4-4c92-bbba-28e612254a4b",
   "metadata": {},
   "source": [
    "- Modify the select statement to alias the new column with weighted average as `'average_age'` using `.label()`."
   ]
  },
  {
   "cell_type": "code",
   "execution_count": 18,
   "id": "1de6a547-3a54-49aa-911e-a20d156e5a94",
   "metadata": {},
   "outputs": [],
   "source": [
    "\n",
    "# Import select and func\n",
    "from sqlalchemy import select, func\n",
    "\n",
    "# Relabel the new column as average_age\n",
    "stmt = select([(func.sum(census.columns.pop2000 * \n",
    "                         census.columns.age) / \n",
    "                func.sum(census.columns.pop2000)).label('average_age')\n",
    "\t\t\t  ])"
   ]
  },
  {
   "cell_type": "markdown",
   "id": "53164d0a-19e5-4368-94ed-089170436421",
   "metadata": {},
   "source": [
    "- Modify the select statement to select the `sex` column of `census` in addition to the weighted average, with the `sex` column coming first.\n",
    "- Group by the `sex` column of `census`."
   ]
  },
  {
   "cell_type": "code",
   "execution_count": 19,
   "id": "24b702d8-63b4-4f4f-a9b1-246752b6eead",
   "metadata": {},
   "outputs": [],
   "source": [
    "# Import select and func\n",
    "from sqlalchemy import select, func\n",
    "\n",
    "# Add the sex column to the select statement\n",
    "stmt = select([census.columns.sex,\n",
    "                (func.sum(census.columns.pop2000 * \n",
    "                          census.columns.age) / \n",
    "                 func.sum(census.columns.pop2000)).label('average_age'),               \n",
    "\t\t\t  ])\n",
    "\n",
    "# Group by sex\n",
    "stmt = stmt.group_by(census.columns.sex)"
   ]
  },
  {
   "cell_type": "markdown",
   "id": "6a869358-245d-4f3f-a2cd-c089579302b7",
   "metadata": {},
   "source": [
    "- Execute the statement on the `connection` and fetch all the results.\n",
    "- Loop over the results and print the values in the `sex` and `average_age` columns for each record in the results."
   ]
  },
  {
   "cell_type": "code",
   "execution_count": 20,
   "id": "0ae717af-2641-4169-bd5a-33030378891a",
   "metadata": {},
   "outputs": [
    {
     "name": "stdout",
     "output_type": "stream",
     "text": [
      "F 37\n",
      "M 34\n"
     ]
    }
   ],
   "source": [
    "\n",
    "# Import select and func\n",
    "from sqlalchemy import select, func\n",
    "\n",
    "# Select sex and average age weighted by 2000 population\n",
    "stmt = select([census.columns.sex,\n",
    "               (func.sum(census.columns.pop2000 * \n",
    "                         census.columns.age) / \n",
    "                func.sum(census.columns.pop2000)).label('average_age')\n",
    "              ])\n",
    "\n",
    "# Group by sex\n",
    "stmt = stmt.group_by(census.columns.sex)\n",
    "\n",
    "# Execute the query and fetch all the results\n",
    "connection = engine.connect()\n",
    "results = connection.execute(stmt).fetchall()\n",
    "\n",
    "# Print the sex and average age column for each result\n",
    "for result in results:\n",
    "    print(result.sex, result.average_age)"
   ]
  },
  {
   "cell_type": "markdown",
   "id": "23eb8c12-e7d8-4143-8e3b-b4c73e4652e2",
   "metadata": {},
   "source": [
    "## Determine the percentage of population by gender and state\n",
    "In this exercise, you will write a query to determine the percentage of the population in 2000 that comprised of women. You will group this query by state."
   ]
  },
  {
   "cell_type": "markdown",
   "id": "d3ade023-835a-4af8-9695-ba81bf058cd3",
   "metadata": {},
   "source": [
    "- Import `case`, `cast` and `Float` from `sqlalchemy`.\n",
    "- Define a statement to select `state` and the percentage of women in 2000.\n",
    "    - Inside `func.sum()`, use `case()` to select women (using the `sex` column) from `pop2000`. Remember to specify `else_=0` if the `sex` is not `'F'`.\n",
    "    - To get the percentage, divide the number of women in the year 2000 by the overall population in 2000. Cast the divisor - `census.columns.pop2000` - to `Float` before multiplying by 100.\n",
    "- Group the query by `state`.\n",
    "- Execute the query and store it as `results`.\n",
    "- Print `state` and `percent_female` for each record."
   ]
  },
  {
   "cell_type": "code",
   "execution_count": 25,
   "id": "b57c2c96-e8d0-46a4-8db6-d43f816ebd0f",
   "metadata": {},
   "outputs": [
    {
     "name": "stdout",
     "output_type": "stream",
     "text": [
      "District of Columbia 53.129626141738385\n",
      "Rhode Island 52.07343391902215\n",
      "Maryland 51.93575549972231\n",
      "Mississippi 51.92229481794672\n",
      "Massachusetts 51.843023571316785\n",
      "New York 51.83453865150073\n",
      "Alabama 51.832407770179465\n",
      "Louisiana 51.75351596554121\n",
      "Pennsylvania 51.74043473051053\n",
      "South Carolina 51.73072129765755\n",
      "Connecticut 51.66816507130644\n",
      "Virginia 51.657252447241795\n",
      "Delaware 51.61109733558627\n",
      "New Jersey 51.51713956125773\n",
      "Maine 51.50570813418951\n",
      "North Carolina 51.482262322084594\n",
      "Missouri 51.46888602639692\n",
      "Ohio 51.46550350015544\n",
      "Tennessee 51.430689699449275\n",
      "West Virginia 51.40042318092286\n",
      "Florida 51.36488001165242\n",
      "Kentucky 51.32687036927168\n",
      "Arkansas 51.26992846221834\n",
      "Hawaii 51.118011836915514\n",
      "Georgia 51.11408350339436\n",
      "Oklahoma 51.11362457075227\n",
      "Illinois 51.11224234802867\n",
      "New Mexico 51.0471720798335\n",
      "Vermont 51.018573209949466\n",
      "Michigan 50.97246518318712\n",
      "Indiana 50.95480313297678\n",
      "Iowa 50.950398342534264\n",
      "Nebraska 50.8584549336086\n",
      "New Hampshire 50.858019844961746\n",
      "Kansas 50.821864107754735\n",
      "Wisconsin 50.61486452653393\n",
      "South Dakota 50.52583581373275\n",
      "Washington 50.518565087218334\n",
      "Texas 50.515721664207966\n",
      "North Dakota 50.50069363231332\n",
      "Minnesota 50.49332944301148\n",
      "Oregon 50.4294670361772\n",
      "California 50.35233214901979\n",
      "Montana 50.32202690728538\n",
      "Arizona 50.22361303057914\n",
      "Idaho 49.98972623903102\n",
      "Utah 49.97295275106927\n",
      "Wyoming 49.94595542648306\n",
      "Colorado 49.84767060299562\n",
      "Nevada 49.36736361384359\n",
      "Alaska 49.301497893484594\n"
     ]
    }
   ],
   "source": [
    "\n",
    "# import case, cast and Float from sqlalchemy\n",
    "from sqlalchemy import case, cast, Float, desc\n",
    "\n",
    "# Build a query to calculate the percentage of women in 2000: stmt\n",
    "stmt = select([census.columns.state, \n",
    "               (func.sum(\n",
    "                   case([\n",
    "                       (census.columns.sex == 'F', \n",
    "                        census.columns.pop2000)\n",
    "                   ], else_=0)) /\n",
    "                cast(func.sum(census.columns.pop2000), \n",
    "                     Float) * 100).label('percent_female')\n",
    "])\n",
    "\n",
    "# Group By state\n",
    "stmt = stmt.group_by(census.columns.state)\n",
    "\n",
    "stmt = stmt.order_by(desc('percent_female'))\n",
    "\n",
    "# Execute the query and store the results: results\n",
    "results = connection.execute(stmt).fetchall()\n",
    "\n",
    "# Print the percentage\n",
    "for result in results:\n",
    "    print(result.state, result.percent_female)"
   ]
  },
  {
   "cell_type": "markdown",
   "id": "51e47cb2-0fb6-4291-b8e7-cad6e0e66792",
   "metadata": {},
   "source": [
    "*Interestingly, the District of Columbia had the highest percentage of women in 2000, while Alaska had the highest percentage of males.*"
   ]
  },
  {
   "cell_type": "markdown",
   "id": "e427cad7-f0fc-4fb9-baf5-d12bd74dbd21",
   "metadata": {},
   "source": [
    "## Determine the difference by state from the 2000 and 2008 censuses\n",
    "In this final exercise, you will write a query to calculate the states that changed the most in population. You will limit your query to display only the top 10 states."
   ]
  },
  {
   "cell_type": "markdown",
   "id": "ee5126a4-e6d2-44db-83cd-ab82c88fdea2",
   "metadata": {},
   "source": [
    "- Build a statement to:\n",
    "    - Select `state`.\n",
    "    - Calculate the difference in population between 2008 (`pop2008`) and 2000 (`pop2000`).\n",
    "- Group the query by `census.columns.state` using the `.group_by()` method on `stmt`.\n",
    "- Order by `'pop_change'` in descending order using the `.order_by()` method with the `desc()` function on `'pop_change'`.\n",
    "- ~Limit the query to the top `10` states using the `.limit()` method.~\n",
    "- Execute the query and store it as `results`.\n",
    "- Print the state and the population change for each result. "
   ]
  },
  {
   "cell_type": "code",
   "execution_count": 27,
   "id": "eb192716-9b99-4cb6-9fbc-2e91ce77b59f",
   "metadata": {},
   "outputs": [
    {
     "name": "stdout",
     "output_type": "stream",
     "text": [
      "Texas:40137\n",
      "California:35406\n",
      "Florida:21954\n",
      "Arizona:14377\n",
      "Georgia:13357\n",
      "North Carolina:11574\n",
      "Virginia:6639\n",
      "Colorado:6425\n",
      "Utah:5934\n",
      "Illinois:5412\n",
      "Nevada:5367\n",
      "Washington:4666\n",
      "Tennessee:4621\n",
      "Missouri:4547\n",
      "Minnesota:3763\n",
      "Oklahoma:3677\n",
      "Pennsylvania:3384\n",
      "South Carolina:3360\n",
      "Wisconsin:2945\n",
      "Oregon:2817\n",
      "Maryland:2551\n",
      "Arkansas:2549\n",
      "Idaho:2500\n",
      "Indiana:2336\n",
      "New Mexico:2095\n",
      "Kentucky:2021\n",
      "Nebraska:1924\n",
      "Iowa:1915\n",
      "Mississippi:1864\n",
      "New York:1851\n",
      "New Jersey:1773\n",
      "Kansas:1772\n",
      "Ohio:1585\n",
      "Alabama:1576\n",
      "Hawaii:1454\n",
      "South Dakota:990\n",
      "Montana:960\n",
      "Delaware:858\n",
      "Wyoming:830\n",
      "Alaska:740\n",
      "District of Columbia:659\n",
      "North Dakota:585\n",
      "West Virginia:537\n",
      "Maine:358\n",
      "Rhode Island:197\n",
      "New Hampshire:189\n",
      "Vermont:7\n",
      "Massachusetts:-242\n",
      "Louisiana:-300\n",
      "Connecticut:-392\n",
      "Michigan:-2592\n"
     ]
    }
   ],
   "source": [
    "# Build query to return state name and population difference from 2008 to 2000\n",
    "stmt = select([census.columns.state, \n",
    "               (census.columns.pop2008-\n",
    "                census.columns.pop2000).label('pop_change')\n",
    "])\n",
    "\n",
    "# Group by State\n",
    "stmt = stmt.group_by(census.columns.state)\n",
    "\n",
    "# Order by Population Change\n",
    "stmt = stmt.order_by(desc('pop_change'))\n",
    "\n",
    "# Limit to top 10\n",
    "##stmt = stmt.limit(10)\n",
    "\n",
    "# Use connection to execute the statement and fetch all results\n",
    "results = connection.execute(stmt).fetchall()\n",
    "\n",
    "# Print the state and population change for each record\n",
    "for result in results:\n",
    "    print('{}:{}'.format(result.state, result.pop_change))"
   ]
  },
  {
   "cell_type": "code",
   "execution_count": null,
   "id": "6d9a3bdb-7e34-416c-b4cc-798dcb990590",
   "metadata": {},
   "outputs": [],
   "source": []
  }
 ],
 "metadata": {
  "kernelspec": {
   "display_name": "Python 3",
   "language": "python",
   "name": "python3"
  },
  "language_info": {
   "codemirror_mode": {
    "name": "ipython",
    "version": 3
   },
   "file_extension": ".py",
   "mimetype": "text/x-python",
   "name": "python",
   "nbconvert_exporter": "python",
   "pygments_lexer": "ipython3",
   "version": "3.8.8"
  }
 },
 "nbformat": 4,
 "nbformat_minor": 5
}
