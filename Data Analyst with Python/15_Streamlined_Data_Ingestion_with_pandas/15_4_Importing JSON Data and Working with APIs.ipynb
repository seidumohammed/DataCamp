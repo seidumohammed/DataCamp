{
 "cells": [
  {
   "cell_type": "markdown",
   "id": "2398632c-2f4d-4301-a4b3-f0581f86664d",
   "metadata": {},
   "source": [
    "# 4. Importing JSON Data and Working with APIs\n",
    "**Learn how to work with JSON data and web APIs by exploring a public dataset and getting cafe recommendations from Yelp. End by learning some techniques to combine datasets once they have been loaded into data frames.**"
   ]
  },
  {
   "cell_type": "markdown",
   "id": "4a75b3b8-a268-4b54-b392-cc174fdf6abc",
   "metadata": {},
   "source": [
    "## Introduction to JSON\n",
    "In this chapter, we'll shift our focus to data in Javascript Object Notation, or JSON, data.\n",
    "\n",
    "### Javascript Object Notation (JSON)\n",
    "As the name implies, JSON is based on Javascript, but popular programming languages have versions of the data structures JSONs use, making them easy for programs to generate and parse while still being human-readable. And because of Javascript's role in web development, JSON is a common format for transmitting data through the web. Unlike data frames, JSON data is not tabular. This makes for more efficient data storage -- if a value doesn't exist for a record, the attribute can be omitted instead of storing it with a null value. In other words, records don't all have to have the same set of attributes. Instead, data is organized into collections of objects. Objects resemble Python dictionaries: they're enclosed in curly braces and contain attribute-value pairs. One last feature of JSONs is that they can be nested -- values themselves can be objects, or lists of objects.\n",
    "\n",
    "### Reading JSON Data\n",
    "You can guess the pandas function to load a JSON into a data frame -- it's `read_json()`. Read JSON takes a string of the path to the JSON to load. This path can be to a file saved on a computer or a URL ending in dot JSON. Alternatively, you can supply JSON data directly as a string. As with flat files and spreadsheets, pandas guesses attribute data types, but you can specify them with a dictionary of column names and values and the dtype argument. JSON data can be laid out in various ways, so there is an orient keyword argument to flag uncommon layouts.\n",
    "\n",
    "### Data Orientation\n",
    "Since JSON data isn't tabular, pandas makes assumptions about how it's arranged, or oriented, to load it into a data frame. pandas automatically detects record and column orientations, which you'll encounter most often. Let's see what they look like.\n",
    "\n",
    "### Record Orientation\n",
    "A record-oriented JSON consists of a list of dictionaries, each translating to a table record. For example, this JSON of causes of death from New York City's open data site is record oriented.\n",
    "\n",
    "### Column Orientation\n",
    "To reduce file size by not repeating attribute names, a JSON may be column-oriented. The entire JSON is a dictionary. Keys are column names. Values are lists of values for that column, or dictionaries of row indices and column values, like in this rearranged version of the death causes data.\n",
    "\n",
    "### Specifying Orientation\n",
    "However, other orientations are possible. This version of the death data is split oriented, with different lists for column names, indices, and values. Let's load it to a data frame.\n",
    "\n",
    "We import pandas, then load the data with read JSON, specifying orientation by passing one of a set of documented string values to the orient keyword argument. \n",
    "```python\n",
    "import pandas ad pd\n",
    "death_causes = pd.read_json('nyc_death_causes.json', orient='split')\n",
    "```\n",
    "When we print the data, it looks like it loaded correctly."
   ]
  },
  {
   "cell_type": "code",
   "execution_count": 1,
   "id": "7dca07ab-62e9-4e78-919e-6a581af2b359",
   "metadata": {},
   "outputs": [
    {
     "name": "stdout",
     "output_type": "stream",
     "text": [
      "       adult_families_in_shelter  adults_in_families_with_children_in_shelter  \\\n",
      "count                1000.000000                                  1000.000000   \n",
      "mean                 2074.955000                                 16487.932000   \n",
      "std                   148.020238                                   848.363772   \n",
      "min                  1796.000000                                 14607.000000   \n",
      "25%                  1906.000000                                 15831.500000   \n",
      "50%                  2129.000000                                 16836.000000   \n",
      "75%                  2172.250000                                 17118.250000   \n",
      "max                  2356.000000                                 17733.000000   \n",
      "\n",
      "       children_in_families_with_children_in_shelter  \\\n",
      "count                                    1000.000000   \n",
      "mean                                    23273.873000   \n",
      "std                                       926.243984   \n",
      "min                                     21291.000000   \n",
      "25%                                     22666.000000   \n",
      "50%                                     23285.500000   \n",
      "75%                                     23610.000000   \n",
      "max                                     25490.000000   \n",
      "\n",
      "       families_with_children_in_shelter  \\\n",
      "count                         1000.00000   \n",
      "mean                         11588.83500   \n",
      "std                            626.41371   \n",
      "min                          10261.00000   \n",
      "25%                          11060.00000   \n",
      "50%                          11743.00000   \n",
      "75%                          12146.00000   \n",
      "max                          12413.00000   \n",
      "\n",
      "       individuals_in_adult_families_in_shelter  single_adult_men_in_shelter  \\\n",
      "count                                1000.00000                  1000.000000   \n",
      "mean                                 4368.05400                  8299.773000   \n",
      "std                                   299.05424                   766.782607   \n",
      "min                                  3811.00000                  6949.000000   \n",
      "25%                                  4026.00000                  7590.500000   \n",
      "50%                                  4473.00000                  8458.500000   \n",
      "75%                                  4567.00000                  8883.250000   \n",
      "max                                  4944.00000                  9599.000000   \n",
      "\n",
      "       single_adult_women_in_shelter  total_adults_in_shelter  \\\n",
      "count                    1000.000000              1000.000000   \n",
      "mean                     3173.107000             32328.857000   \n",
      "std                       353.227146              2150.583637   \n",
      "min                      2588.000000             28127.000000   \n",
      "25%                      2790.000000             30184.250000   \n",
      "50%                      3185.000000             33142.000000   \n",
      "75%                      3538.000000             33940.750000   \n",
      "max                      3779.000000             35294.000000   \n",
      "\n",
      "       total_children_in_shelter  \\\n",
      "count                1000.000000   \n",
      "mean                23273.882000   \n",
      "std                   926.247187   \n",
      "min                 21291.000000   \n",
      "25%                 22666.000000   \n",
      "50%                 23285.500000   \n",
      "75%                 23610.000000   \n",
      "max                 25490.000000   \n",
      "\n",
      "       total_individuals_in_families_with_children_in_shelter_  \\\n",
      "count                                        1000.000000         \n",
      "mean                                        39761.805000         \n",
      "std                                          1677.972788         \n",
      "min                                         35902.000000         \n",
      "25%                                         38775.500000         \n",
      "50%                                         40026.000000         \n",
      "75%                                         40529.500000         \n",
      "max                                         43208.000000         \n",
      "\n",
      "       total_individuals_in_shelter  total_single_adults_in_shelter  \n",
      "count                   1000.000000                      1000.00000  \n",
      "mean                   55602.739000                     11472.88000  \n",
      "std                     2745.294235                      1113.66412  \n",
      "min                    49462.000000                      9610.00000  \n",
      "25%                    53196.500000                     10381.75000  \n",
      "50%                    56713.500000                     11633.50000  \n",
      "75%                    57872.250000                     12437.50000  \n",
      "max                    59068.000000                     13270.00000  \n"
     ]
    }
   ],
   "source": [
    "# Load pandas as pd\n",
    "import pandas as pd\n",
    "\n",
    "# Load the daily report to a data frame\n",
    "pop_in_shelters = pd.read_json('dhs_daily_report.json')\n",
    "\n",
    "# View summary stats about pop_in_shelters\n",
    "print(pop_in_shelters.describe())"
   ]
  },
  {
   "cell_type": "markdown",
   "id": "d4524273-9aff-4030-b737-124b77ff9e0b",
   "metadata": {},
   "source": [
    "*When getting data from a URL, like with open data portals, be mindful of how much data is being pulled and how often you do it. Requesting lots of data can strain shared resources.*"
   ]
  },
  {
   "cell_type": "markdown",
   "id": "e6ee6732-add2-425b-94b7-86648494f6b1",
   "metadata": {},
   "source": [
    "## Work with JSON orientations\n",
    "JSON isn't a tabular format, so `pandas` makes assumptions about its orientation when loading data. Most JSON data you encounter will be in orientations that `pandas` can automatically transform into a data frame.\n",
    "\n",
    "Sometimes, like in this modified version of the Department of Homeless Services Daily Report, data is oriented differently. To reduce the file size, it has been `split` formatted. You'll see what happens when you try to load it normally versus with the `orient` keyword argument. The `try/except` block will alert you if there are errors loading the data.\n",
    "\n",
    "- Try loading `dhs_report_reformatted.json` without any keyword arguments.\n",
    "\n",
    "```python\n",
    "try:\n",
    "    # Load the JSON without keyword arguments\n",
    "    df = pd.read_json('dhs_report_reformatted.json')\n",
    "    \n",
    "    # Plot total population in shelters over time\n",
    "    df[\"date_of_census\"] = pd.to_datetime(df[\"date_of_census\"])\n",
    "    df.plot(x=\"date_of_census\", \n",
    "            y=\"total_individuals_in_shelter\")\n",
    "    plt.show()\n",
    "    \n",
    "except ValueError:\n",
    "    print(\"pandas could not parse the JSON.\")\n",
    "```\n",
    "```\n",
    "pandas could not parse the JSON.\n",
    "```\n",
    "\n",
    "- Load `dhs_report_reformatted.json` to a data frame with `orient` specified.\n",
    "\n",
    "```python\n",
    "try:\n",
    "    # Load the JSON with orient specified\n",
    "    df = pd.read_json(\"dhs_report_reformatted.json\",\n",
    "                      orient='split')\n",
    "    \n",
    "    # Plot total population in shelters over time\n",
    "    df[\"date_of_census\"] = pd.to_datetime(df[\"date_of_census\"])\n",
    "    df.plot(x=\"date_of_census\", \n",
    "            y=\"total_individuals_in_shelter\")\n",
    "    plt.show()\n",
    "    \n",
    "except ValueError:\n",
    "    print(\"pandas could not parse the JSON.\")\n",
    "```"
   ]
  },
  {
   "cell_type": "code",
   "execution_count": 3,
   "id": "dc39b9d8-2e65-42f1-aae4-9438170ad967",
   "metadata": {},
   "outputs": [],
   "source": [
    "import matplotlib.pyplot as plt"
   ]
  },
  {
   "cell_type": "code",
   "execution_count": 4,
   "id": "edf4d6a6-9e90-4b76-b05e-11e0bf95455c",
   "metadata": {
    "tags": []
   },
   "outputs": [
    {
     "data": {
      "image/png": "[encoded data removed]",
      "text/plain": [
       "<Figure size 432x288 with 1 Axes>"
      ]
     },
     "metadata": {
      "needs_background": "light"
     },
     "output_type": "display_data"
    }
   ],
   "source": [
    "try:\n",
    "    # Load the JSON without keyword arguments\n",
    "    df = pd.read_json('dhs_daily_report.json')\n",
    "    \n",
    "    # Plot total population in shelters over time\n",
    "    df[\"date_of_census\"] = pd.to_datetime(df[\"date_of_census\"])\n",
    "    df.plot(x=\"date_of_census\", \n",
    "            y=\"total_individuals_in_shelter\")\n",
    "    plt.show()\n",
    "    \n",
    "except ValueError:\n",
    "    print(\"pandas could not parse the JSON.\")"
   ]
  },
  {
   "cell_type": "markdown",
   "id": "f47b763a-ebf6-4928-b6a1-8e732a4b3c1d",
   "metadata": {},
   "source": [
    "*In this case, `pandas` could not parse the JSON at all without the `orient` keyword. For some other orientations, like index-oriented data, the data will load with transposed column and index names.*"
   ]
  },
  {
   "cell_type": "markdown",
   "id": "0d083015-9da1-4a38-af46-e83804c2848c",
   "metadata": {},
   "source": [
    "---\n",
    "## Introduction to APIs\n",
    "In this lesson, we'll turn our attention to working with web application programming interfaces, or APIs, the most common source of JSON data.\n",
    "\n",
    "### Application Programming Interfaces\n",
    "An application programming interface is a defined way for an application to communicate with other programs, and vice versa. They let programmers get data from an application without having to know about that application's database architecture. One caveat -- APIs are shared resources, and often limit how much data you can get in a specified timeframe. Using an API to get data is like using a catalog to order products. The catalog shows what's available and provides order instructions.\n",
    "\n",
    "You send a properly formed order to the right address and get back what you asked for. Similarly, an API provides an endpoint to send requests to, and documentation describes what a request should look like, such as parameters to include.\n",
    "\n",
    "### Requests\n",
    "While there are Python libraries geared towards popular APIs, we'll use the Requests library in this course. Requests lets users send and get data from any URL, so it's not tied to any particular API. The function to retrieve data from a URL, logically, is `requests.get()`.\n",
    "\n",
    "### requests.get()\n",
    "`requests.get(url_string)` gets data from, and has optional keyword arguments that are useful for working with APIs. The `params` keyword lets you pass a dictionary of parameter names and values to customize API requests. The `headers` keyword also takes a dictionary of names and values. If the API you're using requires a user authentication key, it would be passed in the header. The result is a `response` object, containing data and metadata. We need to use the `response.json()` method to get just the JSON data.\n",
    "\n",
    "### response.json() and pandas\n",
    "Importantly, the `response.json()` returns a dictionary, which `read_json()` can't parse -- it expects a string. To load the data to a data frame, we need to use `pd.DataFrame()` instead.\n",
    "\n",
    "### Yelp Business Search API\n",
    "We'll use Requests to work with data from Yelp. Yelp lets users submit ratings and reviews for businesses and makes that data available via its APIs.\n",
    "\n",
    "In the API documentation, we see the endpoint URL,\n",
    "```python\n",
    "GET https://api.yelp.com/v3/businesses/search\n",
    "```\n",
    "\n",
    "optional and required parameters to use in a request, and even a sample response. \n",
    "```\n",
    "{\n",
    "    \"total\":8228,\n",
    "    \"businesses\":[\n",
    "    {\n",
    "        \"rating\":4,\n",
    "        \"price\": \"$\",\n",
    "        \"phone\": \"+14152520800\",\n",
    "        \"id\": \"E8RJKjfdcwgtyoPMjQ_Olg\",\n",
    "        \"alias\": \"four-barrel-coffee-san-francisco\",\n",
    "...\n",
    "```\n",
    "\n",
    "Note that if we want business details, the data we need is nested under the businesses key."
   ]
  },
  {
   "cell_type": "markdown",
   "id": "44cc24e8-c9ee-42e9-a79c-1ca61f734e13",
   "metadata": {},
   "source": [
    "### Making Requests\n",
    "Let's get data from the API about bookstores in San Francisco, California. We import pandas and the Requests library, then create a variable for the API endpoint. The API documentation indicated required parameters and authorization, so we also set up a dictionary of request parameter fields and values, plus a headers dictionary of authorization info. API keys are strings used to identify the program calling the API and confirm it can make the call. They are sensitive information, so it's hidden behind the API key variable here. We pass the API url, params, and headers to requests get, and store the result as response.\n",
    "\n",
    "```python\n",
    "import requests\n",
    "import pandas as pd\n",
    "\n",
    "api_url = \"https://api.yelp.com/v3/businesses/search\"\n",
    "# Set up parameter dictionary according to documentation\n",
    "params = {\"term\": \"bookstore\",\n",
    "         \"location\": \"San Francisco\"}\n",
    "# Set up header dicitionary w/ API key according to documentation\n",
    "headers = {\"Authorization\": \"Bearer {}\".format(api_key)}\n",
    "\n",
    "# Call the API\n",
    "response = requests.get(api_url,\n",
    "                       params=params,\n",
    "                       headers=headers)\n",
    "```"
   ]
  },
  {
   "cell_type": "markdown",
   "id": "30ea3485-63dd-47ac-b5b4-35be04fedccc",
   "metadata": {},
   "source": [
    "### Parsing Responses\n",
    "Since responses contain data and metadata, we use the JSON method to isolate the data. Let's check it before loading it to a data frame. We have a dictionary, with the information we want in a list under the businesses key. \n",
    "```python\n",
    "# Isolate the JSON data from the response object\n",
    "data = response.json()\n",
    "print(data)\n",
    "```\n",
    "\n",
    "We pass data businesses to pd DataFrame, not read JSON, to create the data frame. When we check the head, we see we did get business details.\n",
    "```python\n",
    "# Load businesses data to a data frame\n",
    "bookstores = pd.DataFrame(data['businesses'])\n",
    "print(bookstores)\n",
    "```"
   ]
  },
  {
   "cell_type": "markdown",
   "id": "9200b9f5-ccd6-42bc-bbb7-f0c556a3b490",
   "metadata": {},
   "source": [
    "## Get data from an API\n",
    "In this exercise, you'll use `requests.get()` to query the Yelp Business Search API for cafes in New York City. `requests.get()` needs a URL to get data from. The Yelp API also needs search parameters and authorization headers passed to the `params` and `headers` keyword arguments, respectively.\n",
    "\n",
    "You'll need to extract the data from the response with its `json()` method, and pass it to `pandas`'s `DataFrame()` function to make a data frame. Note that the necessary data is under the dictionary key `\"businesses\"`.\n",
    "\n",
    "- Get data about New York City cafes from the Yelp API (`api_url`) with `requests.get()`. The necessary `params` and `headers` information has been provided.\n",
    "- Extract the JSON data from the response with its `json()` method, and assign it to `data`.\n",
    "- Load the cafe listings to the data frame `cafes` with `pandas`'s `DataFrame()` function. The listings are under the `\"businesses\"` key in data.\n",
    "- Print the data frame's `dtypes` to see what information you're getting."
   ]
  },
  {
   "cell_type": "markdown",
   "id": "1f793ce5-3da5-4ee2-b950-6ee325311f59",
   "metadata": {},
   "source": [
    "```python\n",
    "api_url = 'https://api.yelp.com/v3/businesses/search'\n",
    "\n",
    "# Get data about NYC cafes from the Yelp API\n",
    "response = requests.get(api_url, \n",
    "                        headers=headers, \n",
    "                        params=params)\n",
    "\n",
    "# Extract JSON data from the response\n",
    "data = response.json()\n",
    "\n",
    "# Load data to a data frame\n",
    "cafes = pd.DataFrame(data['businesses'])\n",
    "\n",
    "# View the data's dtypes\n",
    "print(cafes.dtypes)\n",
    "```"
   ]
  },
  {
   "cell_type": "markdown",
   "id": "735cde93-804e-4ae5-8c26-73b7c181d465",
   "metadata": {},
   "source": [
    "```\n",
    "alias             object\n",
    "categories        object\n",
    "coordinates       object\n",
    "display_phone     object\n",
    "distance         float64\n",
    "id                object\n",
    "image_url         object\n",
    "is_closed           bool\n",
    "location          object\n",
    "name              object\n",
    "phone             object\n",
    "price             object\n",
    "rating           float64\n",
    "review_count       int64\n",
    "transactions      object\n",
    "url               object\n",
    "dtype: object\n",
    "```"
   ]
  },
  {
   "cell_type": "markdown",
   "id": "ea647604-9905-44d4-bc42-ae7a6a4f284c",
   "metadata": {},
   "source": [
    "## Set API parameters\n",
    "Formatting parameters to get the data you need is an integral part of working with APIs. These parameters can be passed to the `get()` function's `params` keyword argument as a dictionary.\n",
    "\n",
    "The Yelp API requires the `location` parameter be set. It also lets users supply a `term` to search for. You'll use these parameters to get data about cafes in NYC, then process the result to create a data frame.\n",
    "\n",
    "- Create a dictionary, `parameters`, with the `term` and `location` parameters set to search for `\"cafe\"`s in `\"NYC\"`.\n",
    "- Query the Yelp API (`api_url`) with `requests`'s `get()` function and the `headers` and `params` keyword arguments set. Save the result as `response`.\n",
    "- Extract the JSON data from `response` with the appropriate method. Save the result as `data`.\n",
    "- Load the `\"businesses\"` values in `data` to the data frame `cafes` and print the head."
   ]
  },
  {
   "cell_type": "markdown",
   "id": "fd2f65a1-ffdf-4137-b8fa-21f82e0d12ab",
   "metadata": {},
   "source": [
    "```python\n",
    "# Create dictionary to query API for cafes in NYC\n",
    "parameters = {'term': 'cafe',\n",
    "          \t  'location': 'NYC'}\n",
    "\n",
    "# Query the Yelp API with headers and params set\n",
    "response = requests.get(api_url,\n",
    "                        headers=headers,\n",
    "                        params=parameters)\n",
    "\n",
    "# Extract JSON data from response\n",
    "data = response.json()\n",
    "\n",
    "# Load \"businesses\" values to a data frame and print head\n",
    "cafes = pd.DataFrame(data['businesses'])\n",
    "print(cafes.head())\n",
    "```"
   ]
  },
  {
   "cell_type": "markdown",
   "id": "93919129-6c21-4777-9c2a-edebdf42ae38",
   "metadata": {},
   "source": [
    "```\n",
    "                         alias                                         categories                                        coordinates   display_phone     distance  ... price rating  review_count  \\\n",
    "0       white-noise-brooklyn-2     [{'alias': 'coffee', 'title': 'Coffee & Tea'}]  {'latitude': 40.6893582571548, 'longitude': -7...                  1856.127036  ...   NaN    4.5            15   \n",
    "1          devocion-brooklyn-3  [{'alias': 'coffee', 'title': 'Coffee & Tea'},...     {'latitude': 40.68857, 'longitude': -73.98334}  (718) 285-6180  2087.816949  ...    $$    4.0            73   \n",
    "2   coffee-project-ny-new-york     [{'alias': 'coffee', 'title': 'Coffee & Tea'}]     {'latitude': 40.72699, 'longitude': -73.98922}  (212) 228-7888  2435.843426  ...    $$    4.5           630   \n",
    "3  spreadhouse-cafe-new-york-3  [{'alias': 'cafes', 'title': 'Cafes'}, {'alias...     {'latitude': 40.71891, 'longitude': -73.98585}  (646) 524-6353  1657.232800  ...     $    4.0           380   \n",
    "4             usagi-ny-dumbo-7  [{'alias': 'bookstores', 'title': 'Bookstores'...     {'latitude': 40.70383, 'longitude': -73.98691}  (718) 801-8037   635.781863  ...    $$    4.5            57   \n",
    "\n",
    "  transactions                                                url  \n",
    "0           []  https://www.yelp.com/biz/white-noise-brooklyn-...  \n",
    "1           []  https://www.yelp.com/biz/devocion-brooklyn-3?a...  \n",
    "2           []  https://www.yelp.com/biz/coffee-project-ny-new...  \n",
    "3           []  https://www.yelp.com/biz/spreadhouse-cafe-new-...  \n",
    "4           []  https://www.yelp.com/biz/usagi-ny-dumbo-7?adju...  \n",
    "\n",
    "[5 rows x 16 columns]\n",
    "```"
   ]
  },
  {
   "cell_type": "markdown",
   "id": "b2ca7353-ceef-432f-ba48-92a8860717c7",
   "metadata": {},
   "source": [
    "*Notice that some of the values are themselves dictionaries, making them hard to analyze.*"
   ]
  },
  {
   "cell_type": "markdown",
   "id": "c63d9e0e-7761-4d28-a912-7704acabae1f",
   "metadata": {},
   "source": [
    "## Set request headers\n",
    "Many APIs require users provide an API key, obtained by registering for the service. Keys typically are passed in the request header, rather than as parameters.\n",
    "\n",
    "The [Yelp API documentation](https://www.yelp.com/developers/documentation/v3/authentication) says \"To authenticate API calls with the API Key, set the `Authorization` HTTP header value as `Bearer API_KEY`.\"\n",
    "\n",
    "You'll set up a dictionary to pass this information to `get()`, call the API for the highest-rated cafes in NYC, and parse the response.Set request headers\n",
    "\n",
    "- Create a dictionary, `headers`, that passes the formatted key string to the `\"Authorization\"` header value.\n",
    "- Query the Yelp API (`api_url`) with `get()` and the necessary headers and parameters. Save the result as `response`.\n",
    "- Extract the JSON data from `response`. Save the result as `data`.\n",
    "- Load the `\"businesses\"` values in `data` to the data frame `cafes` and print the `names` column."
   ]
  },
  {
   "cell_type": "markdown",
   "id": "63e7fc20-dee5-4490-a618-0a0a22f65ee8",
   "metadata": {},
   "source": [
    "```python\n",
    "# Create dictionary that passes Authorization and key string\n",
    "headers = {'Authorization': \"Bearer {}\".format(api_key)}\n",
    "\n",
    "# Query the Yelp API with headers and params set\n",
    "response = requests.get(api_url,\n",
    "                        headers=headers,\n",
    "                        params=params)\n",
    "\n",
    "# Extract JSON data from response\n",
    "data = response.json()\n",
    "\n",
    "# Load \"businesses\" values to a data frame and print names\n",
    "cafes = pd.DataFrame(data['businesses'])\n",
    "print(cafes.name)\n",
    "```"
   ]
  },
  {
   "cell_type": "markdown",
   "id": "f3d2c6a8-f544-4056-8d44-d095a73b66bf",
   "metadata": {},
   "source": [
    "```\n",
    "0             Coffee Project NY\n",
    "1                Urban Backyard\n",
    "2              Saltwater Coffee\n",
    "3                 Bird & Branch\n",
    "4                  Bibble & Sip\n",
    "5             Coffee Project NY\n",
    "6                        Burrow\n",
    "7                   Cafe Patoro\n",
    "8                     Sweatshop\n",
    "9                       Round K\n",
    "10               Kobrick Coffee\n",
    "11            Kaigo Coffee Room\n",
    "12              Absolute Coffee\n",
    "13                     Devocion\n",
    "14                The Uncommons\n",
    "15                      Butler \n",
    "16              Cafe Hanamizuki\n",
    "17    Brooklyn Roasting Company\n",
    "18             Takahachi Bakery\n",
    "19              Happy Bones NYC\n",
    "Name: name, dtype: object\n",
    "```"
   ]
  },
  {
   "cell_type": "markdown",
   "id": "566be2c1-8007-4445-b99a-c6c6f3735a9f",
   "metadata": {},
   "source": [
    "*API keys are employed to track and moderate API usage. Be sure to keep keys private.*"
   ]
  },
  {
   "cell_type": "markdown",
   "id": "5a3749e5-bef9-4f8f-b5e1-74b2bb5b9530",
   "metadata": {},
   "source": [
    "---\n",
    "## Working with nested JSONs\n",
    "In the previous lessons, we focused on getting data from JSON files and APIs. Now, we'll turn our attention to restructuring nested JSON data.\n",
    "\n",
    "### Nested JSONs\n",
    "Recall that JSONs contain objects with attribute-value pairs. A JSON is nested when a value is itself an object.\n",
    "\n",
    "The Yelp data has several examples of nesting.\n",
    "\n",
    "- The coordinates and location attributes have objects for values.\n",
    "- Categories' values are lists of objects.\n",
    "\n",
    "And these records are all nested under businesses.\n",
    "\n",
    "Checking these columns in our data frame, we see dictionaries. \n",
    "```python\n",
    "# Print columns containing nested data\n",
    "print(bookstores[['categories', 'coordinates', 'location']].head(3))\n",
    "```\n",
    "\n",
    "The data would be easier to work with if nested attributes were in their own columns. Fortunately, pandas has a function to flatten nested JSONs. Unfortunately, it's in a submodule that doesn't normally load when importing pandas.\n",
    "\n",
    "### pandas.io.json\n",
    "The `pandas.io.json` submodule contains functions for reading and writing JSON beyond those in the primary pandas package, but it has to be imported explicitly. We'll use its `json.normalize()` function to flatten nested data. JSON normalize takes a dictionary or list of dictionaries. This means that JSONs that load with `pd.DataFrame()` will load with JSON normalize. It returns a data frame. Nested attribute column names follow the default pattern `attribute.nestedattribute`. The dot separator interferes with pandas' dot notation for column selection, so it's advisable to specify a different separator, like underscore, with the `sep` argument.\n",
    "\n",
    "### Loading Nested JSON Data\n",
    "Let's use JSON normalize to flatten nested data as we load it. We import pandas and Requests, plus JSON normalize from pandas dot io dot json. We create a variable for the API endpoint, as well as header and parameter dictionaries. Then we pass those to requests get, and isolate the data with the response's JSON method.\n",
    "```python\n",
    "import pandas as pd\n",
    "import requests\n",
    "from pandas.io.json import json_normalize\n",
    "\n",
    "# Set up headers, parameters, and API endpoint\n",
    "api_url = 'https://api.yelp.com/v3/businesses/search'\n",
    "headers = {'Authorization': 'Bearer {}'.format(api_key)}\n",
    "paras = {'term': 'bookstore',\n",
    "         'location': 'San Francisco'}\n",
    "\n",
    "# Make the API call and extracy the JSON data\n",
    "response = requests.get(api_url,\n",
    "                        headers=headers,\n",
    "                        params=params)\n",
    "data = response.json()\n",
    "```\n",
    "We pass the data nested under businesses to JSON normalize, specifying underscores as the separator, and assign the resulting data frame to bookstores. Printing the data frame's column names shows that nested attributes have their own columns, like coordinates underscore latitude.\n",
    "```python\n",
    "# Flatten data and load to data frame, with _ separators\n",
    "bookstores = json_normalize(data['businesses'], sep='_')\n",
    "print(list(bookstores))\n",
    "```\n",
    "\n",
    "### Deeply Nested Data\n",
    "Categories, however, is still nested.\n",
    "```python\n",
    "print(bookstores.categories.head())\n",
    "```\n",
    "There are a few approaches for deeply nested data. You may write a custom flattening function, or decide it's irrelevant to the analysis and leave it be. Another option is to use `json.normalize`'s `record_path`, `meta`, and `meta_prefix` arguments. Record path takes a string or list of strings of attributes to the nested data, like listing folders in a file path. Meta takes a list of higher-level attributes to include in the resulting data frame. Nested data can be flattened by passing their record paths as sub-lists. To make clear what came from where and avoid duplicate column names, specify a meta prefix.\n",
    "\n",
    "Let's see this in action with categories. We pass the businesses data to JSON normalize, and specify the separator. We set record path to categories. We get business names, aliases, ratings and coordinates with the meta argument. To flatten coordinates, we supply sub-lists containing paths to latitude and longitude. Businesses and categories both have alias columns, so we set a meta prefix to differentiate them.\n",
    "```python\n",
    "# Flatten categories data, bring in business details\n",
    "df = json_normalize(data['businesses'],\n",
    "                    sep='_',\n",
    "                    record_path='categories',\n",
    "                    meta=['name',\n",
    "                          'alias',\n",
    "                          'rating',\n",
    "                          ['coordinates', 'latitude'],\n",
    "                          ['coordinates', 'longitude']],\n",
    "                    meta_prefix='biz_')\n",
    "```\n",
    "\n",
    "Viewing the data, we see it's totally flat, but businesses with multiple categories repeat. Depending on the use case, this may be fine, or duplicates may need to be removed."
   ]
  },
  {
   "cell_type": "markdown",
   "id": "02e6cc26-5431-410e-b729-01b6539f2c83",
   "metadata": {},
   "source": [
    "## Flatten nested JSONs\n",
    "A feature of JSON data is that it can be nested: an attribute's value can consist of attribute-value pairs. This nested data is more useful unpacked, or flattened, into its own data frame columns. The `pandas.io.json` submodule has a function, `json_normalize()`, that does exactly this.\n",
    "\n",
    "The Yelp API response data is nested. Your job is to flatten out the next level of data in the `coordinates` and `location` columns.\n",
    "\n",
    "- Load the `json_normalize()` function from `pandas`' `io.json` submodule.\n",
    "- Isolate the JSON data from `response` and assign it to `data`.\n",
    "- Use `json_normalize()` to flatten and load the businesses data to a data frame, `cafes`. Set the `sep` argument to use underscores (`_`), rather than periods.\n",
    "- Show the data head."
   ]
  },
  {
   "cell_type": "markdown",
   "id": "f9e03ee9-9c5a-4e31-b386-285d60704e32",
   "metadata": {},
   "source": [
    "```python\n",
    "# Load json_normalize()\n",
    "from pandas.io.json import json_normalize\n",
    "\n",
    "# Isolate the JSON data from the API response\n",
    "data = response.json()\n",
    "\n",
    "# Flatten business data into a data frame, replace separator\n",
    "cafes = json_normalize(data['businesses'], sep='_')\n",
    "\n",
    "# View data\n",
    "print(cafes.head())\n",
    "```"
   ]
  },
  {
   "cell_type": "markdown",
   "id": "2c95310f-edca-4dc7-aba4-06c5581d24bd",
   "metadata": {},
   "source": [
    "```\n",
    "                         alias                                         categories  coordinates_latitude  coordinates_longitude   display_phone  ...  price rating review_count  transactions  \\\n",
    "0       white-noise-brooklyn-2     [{'alias': 'coffee', 'title': 'Coffee & Tea'}]             40.689358             -73.988415                  ...    NaN    4.5           15            []   \n",
    "1          devocion-brooklyn-3  [{'alias': 'coffee', 'title': 'Coffee & Tea'},...             40.688570             -73.983340  (718) 285-6180  ...     $$    4.0           73            []   \n",
    "2   coffee-project-ny-new-york     [{'alias': 'coffee', 'title': 'Coffee & Tea'}]             40.726990             -73.989220  (212) 228-7888  ...     $$    4.5          630            []   \n",
    "3  spreadhouse-cafe-new-york-3  [{'alias': 'cafes', 'title': 'Cafes'}, {'alias...             40.718910             -73.985850  (646) 524-6353  ...      $    4.0          380            []   \n",
    "4             usagi-ny-dumbo-7  [{'alias': 'bookstores', 'title': 'Bookstores'...             40.703830             -73.986910  (718) 801-8037  ...     $$    4.5           57            []   \n",
    "\n",
    "                                                 url  \n",
    "0  https://www.yelp.com/biz/white-noise-brooklyn-...  \n",
    "1  https://www.yelp.com/biz/devocion-brooklyn-3?a...  \n",
    "2  https://www.yelp.com/biz/coffee-project-ny-new...  \n",
    "3  https://www.yelp.com/biz/spreadhouse-cafe-new-...  \n",
    "4  https://www.yelp.com/biz/usagi-ny-dumbo-7?adju...  \n",
    "\n",
    "[5 rows x 24 columns]\n",
    "```"
   ]
  },
  {
   "cell_type": "markdown",
   "id": "89c30288-0311-48aa-8dc6-45e131a6ac87",
   "metadata": {},
   "source": [
    "*Notice that by accessing `data['businesses']` we're already working one level down the nested structure. data itself could be flattened with `json_normalize()`.*"
   ]
  },
  {
   "cell_type": "markdown",
   "id": "62939ee9-1156-4521-9aa6-7c0c86ca0246",
   "metadata": {},
   "source": [
    "## Handle deeply nested data\n",
    "Last exercise, you flattened data nested down one level. Here, you'll unpack more deeply nested data.\n",
    "\n",
    "The `categories` attribute in the Yelp API response contains lists of objects. To flatten this data, you'll employ `json_normalize()` arguments to specify the path to `categories` and pick other attributes to include in the data frame. You should also change the separator to facilitate column selection and prefix the other attributes to prevent column name collisions. We'll work through this in steps.\n",
    "\n",
    "- Use `json_normalize()` to flatten records under the `businesses` key in `data`, setting underscores (`_`) as separators."
   ]
  },
  {
   "cell_type": "markdown",
   "id": "94d809ef-efef-4784-ac0f-43b8e3dc1940",
   "metadata": {},
   "source": [
    "```python\n",
    "# Flatten businesses records and set underscore separators\n",
    "flat_cafes = json_normalize(data['businesses'], sep='_')\n",
    "\n",
    "# View the data\n",
    "print(flat_cafes.head())\n",
    "```"
   ]
  },
  {
   "cell_type": "markdown",
   "id": "9687b938-966e-4e14-a1e2-685ef957a1b5",
   "metadata": {},
   "source": [
    "```\n",
    "                         alias                                         categories  coordinates_latitude  coordinates_longitude   display_phone  ...  price rating review_count  transactions  \\\n",
    "0       white-noise-brooklyn-2     [{'alias': 'coffee', 'title': 'Coffee & Tea'}]             40.689358             -73.988415                  ...    NaN    4.5           15            []   \n",
    "1          devocion-brooklyn-3  [{'alias': 'coffee', 'title': 'Coffee & Tea'},...             40.688570             -73.983340  (718) 285-6180  ...     $$    4.0           73            []   \n",
    "2   coffee-project-ny-new-york     [{'alias': 'coffee', 'title': 'Coffee & Tea'}]             40.726990             -73.989220  (212) 228-7888  ...     $$    4.5          630            []   \n",
    "3  spreadhouse-cafe-new-york-3  [{'alias': 'cafes', 'title': 'Cafes'}, {'alias...             40.718910             -73.985850  (646) 524-6353  ...      $    4.0          380            []   \n",
    "4             usagi-ny-dumbo-7  [{'alias': 'bookstores', 'title': 'Bookstores'...             40.703830             -73.986910  (718) 801-8037  ...     $$    4.5           57            []   \n",
    "    \n",
    "                                                 url  \n",
    "0  https://www.yelp.com/biz/white-noise-brooklyn-...  \n",
    "1  https://www.yelp.com/biz/devocion-brooklyn-3?a...  \n",
    "2  https://www.yelp.com/biz/coffee-project-ny-new...  \n",
    "3  https://www.yelp.com/biz/spreadhouse-cafe-new-...  \n",
    "4  https://www.yelp.com/biz/usagi-ny-dumbo-7?adju...  \n",
    "    \n",
    "[5 rows x 24 columns]\n",
    "```"
   ]
  },
  {
   "cell_type": "markdown",
   "id": "3974ed5a-d61d-44a5-bba6-76a8629a026a",
   "metadata": {},
   "source": [
    "- Specify the `record_path` to the `categories` data."
   ]
  },
  {
   "cell_type": "markdown",
   "id": "2a174ed6-0bfb-46c2-ae10-c68e4253a6d0",
   "metadata": {},
   "source": [
    "```python\n",
    "# Specify record path to get categories data\n",
    "flat_cafes = json_normalize(data['businesses'],\n",
    "                            sep='_',\n",
    "                    \t\trecord_path='categories')\n",
    "\n",
    "# View the data\n",
    "print(flat_cafes.head())\n",
    "```"
   ]
  },
  {
   "cell_type": "markdown",
   "id": "9b58081e-44fd-41bb-8a14-01b220addfb7",
   "metadata": {},
   "source": [
    "```\n",
    "              alias              title\n",
    "0            coffee       Coffee & Tea\n",
    "1            coffee       Coffee & Tea\n",
    "2  coffeeroasteries  Coffee Roasteries\n",
    "3             cafes              Cafes\n",
    "4            coffee       Coffee & Tea\n",
    "```"
   ]
  },
  {
   "cell_type": "markdown",
   "id": "3f84b91d-a1b1-43e6-a2f6-26e1084e2ec1",
   "metadata": {},
   "source": [
    "- Set the `meta` keyword argument to get business `name`, `alias`, `rating`, and the attributes nested under `coordinates`: `latitude` and `longitude`.\n",
    "- Add `\"biz_\"` as a `meta_prefix` to prevent duplicate column names."
   ]
  },
  {
   "cell_type": "markdown",
   "id": "9b4ba30c-64e0-45bf-9471-4fedd8467da9",
   "metadata": {},
   "source": [
    "```python\n",
    "# Load other business attributes and set meta prefix\n",
    "flat_cafes = json_normalize(data['businesses'],\n",
    "                            sep='_',\n",
    "                    \t\trecord_path='categories',\n",
    "                    \t\tmeta=['name', \n",
    "                                  'alias',  \n",
    "                                  'rating',\n",
    "                          \t\t  ['coordinates', 'latitude'], \n",
    "                          \t\t  ['coordinates', 'longitude']],\n",
    "                    \t\tmeta_prefix='biz_')\n",
    "\n",
    "# View the data\n",
    "print(flat_cafes.head())\n",
    "```"
   ]
  },
  {
   "cell_type": "markdown",
   "id": "bea67a45-2a28-4818-8b20-a4d1c306cffb",
   "metadata": {},
   "source": [
    "```\n",
    "              alias              title           biz_name                   biz_alias  biz_rating  biz_coordinates_latitude  biz_coordinates_longitude\n",
    "0            coffee       Coffee & Tea        White Noise      white-noise-brooklyn-2         4.5                 40.689358                 -73.988415\n",
    "1            coffee       Coffee & Tea           Devocion         devocion-brooklyn-3         4.0                 40.688570                 -73.983340\n",
    "2  coffeeroasteries  Coffee Roasteries           Devocion         devocion-brooklyn-3         4.0                 40.688570                 -73.983340\n",
    "3             cafes              Cafes           Devocion         devocion-brooklyn-3         4.0                 40.688570                 -73.983340\n",
    "4            coffee       Coffee & Tea  Coffee Project NY  coffee-project-ny-new-york         4.5                 40.726990                 -73.989220\n",
    "```"
   ]
  },
  {
   "cell_type": "markdown",
   "id": "040019f3-c3c6-4f77-982e-b86ee2288467",
   "metadata": {},
   "source": [
    "*Naming meta columns can get tedious for datasets with many attributes, and code is susceptible to breaking if column names or nesting levels change. In such cases, you may have to write a custom function and employ techniques like recursion to handle the data.*"
   ]
  },
  {
   "cell_type": "markdown",
   "id": "b2837219-efb3-4fe5-810c-e72d1ac6869c",
   "metadata": {},
   "source": [
    "---\n",
    "## Combining multiple datasets\n",
    "So far, you've built pipelines to individual data sources. However, projects commonly draw data from multiple places. In this lesson, we'll step back from JSON to look at pandas methods for combining datasets.\n",
    "\n",
    "### Appending\n",
    "You encountered the method for adding rows from one data frame to another when compiling multiple spreadsheets -- it's `append()`. Append is a data frame method that takes the data frame to add on as an argument. This syntax looks like `df1.append(df2)`. If the data frames use pandas' default index of row numbers, you should also set append's `ignore_index` parameter to `True` so that the resulting data frame has relabeled rows, rather than two row 0s, two row 1s, and so on.\n",
    "```python\n",
    "# Get first 20 bookstore results\n",
    "params = {'term': 'bookstore',\n",
    "         'location': 'San Francisco'}\n",
    "first_results = requests.get(api_url,\n",
    "                             headers=headers,\n",
    "                             params=params).json()\n",
    "\n",
    "first_20_bookstores = json_normalize(first_results['businesses'],\n",
    "                                     sep='_')\n",
    "print(frist_20_bookstores.shape)\n",
    "```\n",
    "APIs commonly limit the number of records returned in a single call to manage resource usage. The Yelp API returns 20 records at a time by default, but we can set the offset parameter to get the next 20.\n",
    "```python\n",
    "# Get the next 20 bookstore\n",
    "params['offset'] = 20\n",
    "next_results = requests.get(api_url,\n",
    "                             headers=headers,\n",
    "                             params=params).json()\n",
    "\n",
    "next_20_bookstores = json_normalize(next_results['businesses'],\n",
    "                                     sep='_')\n",
    "print(next_20_bookstores.shape)\n",
    "```\n",
    "From there, we append the second data frame to the first, setting ignore index to true to relabel rows. We can print the name column to confirm the resulting data frame has 40 stores.\n",
    "```python\n",
    "# Put bookstore datasets together, renumber rows\n",
    "bookstores = first_20_bookstores.append(next_20_bookstores,\n",
    "                                        ignore_index=True)\n",
    "print(bookstores)\n",
    "```\n",
    "```\n",
    "0                     City Lights Bookstore\n",
    "1                    Alexander Book Company\n",
    "2                         Borderlands Books\n",
    "3                           Alley cat Books\n",
    "4                           Dog Eared Books\n",
    "...                                     ...\n",
    "35                             Forest Books\n",
    "36       San Francisco Center For The Books\n",
    "37                   KingSpoke - Book Store\n",
    "38                    Eastwind Books & Arts\n",
    "39                              My Favorite\n",
    "Name: name, dtype: object\n",
    "```\n",
    "\n",
    "### Merging\n",
    "Another way to combine data is by adding columns along a shared key column, like in the SQL joins covered last chapter. While SQL joins are only an option for tables in the same database server, `pandas` has its own way to join data -- `merge()`.\n",
    "\n",
    "`merge()` is both a pandas function, like read csv, and a data frame method, like append. We'll use the data frame method, which takes the name of the other data frame to merge. It also needs strings of the columns to merge on. If key column names match in both data frames, you can specify the name with the `on` keyword argument. If they're different, use `left_on` and `right_on` to specify keys in the first and second data frames, respectively. Note that the key columns must be the same data type for the merge to work properly.\n",
    "\n",
    "Let's illustrate with simplified versions of the call counts and weather datasets. \n",
    "```python\n",
    "call_counts.head()\n",
    "```\n",
    "```\n",
    "  created_date  call_counts\n",
    "0   01/01/2018         4597\n",
    "1   01/02/2018         4362\n",
    "2   01/03/2018         3045\n",
    "3   01/04/2018         3374\n",
    "4   01/05/2018         4333\n",
    "```\n",
    "```python\n",
    "weather.head()\n",
    "```\n",
    "```\n",
    "         date   tmax   tmin\n",
    "0  12/01/2017     52     42\n",
    "1  12/02/2017     48     39\n",
    "2  12/03/2017     48     42\n",
    "3  12/04/2017     51     40\n",
    "4  12/05/2017     61     50\n",
    "```\n",
    "\n",
    "They each have a date column, which we can use as the merge key.\n",
    "\n",
    "We pass weather to call counts' merge method, specifying to merge on created date in call counts and date in weather, and check the head to confirm the merge worked.\n",
    "```python\n",
    "# Merge weather into call counts on date columns\n",
    "merged = call_counts.merge(weather,\n",
    "                           left_on='created_date',\n",
    "                           right_on='date')\n",
    "print(merged)\n",
    "```\n",
    "```\n",
    "  created_date  call_counts        date   tmax   tmin\n",
    "0   01/01/2018         4597  12/01/2018     19      7\n",
    "1   01/02/2018         4362  12/02/2018     26     13\n",
    "2   01/03/2018         3045  12/03/2018     30     16\n",
    "3   01/04/2018         3374  12/04/2018     29     19\n",
    "4   01/05/2018         4333  12/05/2018     19      9\n",
    "```\n",
    "\n",
    "Let's take a closer look at the result. By default, `merge()` returns only rows with key values that exist in both datasets. There aren't call counts for December, so none of the December weather data appears here. The call and weather data have what is called a one-to-one relationship -- each call count record can be linked to only one weather record by date, and vice versa -- so the result has one record for each date in both datasets. If you merge data where a record in one data frame can be linked to multiple records in the other, the result will have one row for each possible link.\n",
    "\n",
    "Append and merge are just the tip of the iceberg when it comes to pandas' data wrangling capabilities, but they're useful functions to start with, especially when combined with all the other tools you have for building data pipelines. "
   ]
  },
  {
   "cell_type": "markdown",
   "id": "fb6b6ca1-b03a-4e55-a97b-31448848d25e",
   "metadata": {},
   "source": [
    "## Append data frames\n",
    "In this exercise, you’ll practice appending records by creating a dataset of the 100 highest-rated cafes in New York City according to Yelp.\n",
    "\n",
    "APIs often limit the amount of data returned, since sending large datasets can be time- and resource-intensive. The Yelp Business Search API limits the results returned in a call to 50 records. However, the `offset` parameter lets a user retrieve results starting after a specified number. By modifying the offset, we can get results 1-50 in one call and 51-100 in another. Then, we can append the data frames.\n",
    "\n",
    "The 50 top-rated cafes are already in a data frame, `top_50_cafes`."
   ]
  },
  {
   "cell_type": "markdown",
   "id": "a20cbccd-0e08-4922-8f59-b7f24760e2f9",
   "metadata": {},
   "source": [
    "- Add an `\"offset\"` parameter to `params` so that the Yelp API call will get cafes 51-100.\n",
    "- Append the results of the API call to `top_50_cafes`, setting `ignore_index` so rows will be renumbered.\n",
    "- Print the shape of the resulting data frame, `cafes`, to confirm there are 100 records."
   ]
  },
  {
   "cell_type": "markdown",
   "id": "bcabf118-e4b4-4789-b938-c117714f2b3a",
   "metadata": {},
   "source": [
    "```python\n",
    "# Add an offset parameter to get cafes 51-100\n",
    "params = {\"term\": \"cafe\", \n",
    "          \"location\": \"NYC\",\n",
    "          \"sort_by\": \"rating\", \n",
    "          \"limit\": 50,\n",
    "          \"offset\": 50}\n",
    "\n",
    "result = requests.get(api_url, headers=headers, params=params)\n",
    "next_50_cafes = json_normalize(result.json()[\"businesses\"])\n",
    "\n",
    "# Append the results, setting ignore_index to renumber rows\n",
    "cafes = top_50_cafes.append(next_50_cafes, ignore_index=True)\n",
    "\n",
    "# Print shape of cafes\n",
    "print(cafes.shape)\n",
    "```"
   ]
  },
  {
   "cell_type": "markdown",
   "id": "77b10d53-c2df-4b09-9e5b-a1b07e2e2bd4",
   "metadata": {},
   "source": [
    "```\n",
    "(100, 24)\n",
    "```"
   ]
  },
  {
   "cell_type": "markdown",
   "id": "12238e35-bedd-4aeb-975c-791398630b18",
   "metadata": {},
   "source": [
    "*If you were putting multiple data frames together, one option would be to start with an empty data frame and use a for or while loop to append additional ones.*"
   ]
  },
  {
   "cell_type": "markdown",
   "id": "696f76e5-4ca6-4d83-aadc-bbf7bbe07c5b",
   "metadata": {},
   "source": [
    "## Merge data frames\n",
    "In the last exercise, you built a dataset of the top 100 cafes in New York City according to Yelp. Now, you'll combine that with demographic data to investigate which neighborhood has the most good cafes per capita.\n",
    "\n",
    "To do this, you'll merge two datasets with the DataFrame `merge()` method. The first, `crosswalk`, is a crosswalk between ZIP codes and Public Use Micro Data Sample Areas (PUMAs), which are aggregates of census tracts and correspond roughly to NYC neighborhoods. Then, you'll merge in `pop_data`, which contains 2016 population estimates for each PUMA."
   ]
  },
  {
   "cell_type": "markdown",
   "id": "7b5fb751-1ab8-487b-9932-8c226574a79f",
   "metadata": {},
   "source": [
    "### Question\n",
    "Explore the `cafes` and `crosswalk` data frames in the console. Which columns should be used as join keys?"
   ]
  },
  {
   "cell_type": "markdown",
   "id": "87a16b37-9ce5-4119-8e6f-af06e6cf4d48",
   "metadata": {},
   "source": [
    "```python\n",
    "print(cafes.dtypes)\n",
    "```"
   ]
  },
  {
   "cell_type": "markdown",
   "id": "41e734ac-075b-4442-83ac-777e5a26da41",
   "metadata": {},
   "source": [
    "```\n",
    "alias                        object\n",
    "categories                   object\n",
    "coordinates_latitude        float64\n",
    "coordinates_longitude       float64\n",
    "display_phone                object\n",
    "distance                    float64\n",
    "id                           object\n",
    "image_url                    object\n",
    "is_closed                      bool\n",
    "location_address1            object\n",
    "location_address2            object\n",
    "location_address3            object\n",
    "location_city                object\n",
    "location_country             object\n",
    "location_display_address     object\n",
    "location_state               object\n",
    "location_zip_code            object\n",
    "name                         object\n",
    "phone                        object\n",
    "price                        object\n",
    "rating                      float64\n",
    "review_count                  int64\n",
    "transactions                 object\n",
    "url                          object\n",
    "dtype: object\n",
    "```"
   ]
  },
  {
   "cell_type": "markdown",
   "id": "3ea6b273-a371-4d2d-932d-e79ca32b3cca",
   "metadata": {},
   "source": [
    "```python\n",
    "print(crosswalk.dtypes)\n",
    "```"
   ]
  },
  {
   "cell_type": "markdown",
   "id": "649f25e0-7148-4dd9-820b-97c971b7ee24",
   "metadata": {},
   "source": [
    "```\n",
    "zipcode       object\n",
    "ziptype       object\n",
    "postalcity    object\n",
    "zcta5          int64\n",
    "bcode          int64\n",
    "note          object\n",
    "puma          object\n",
    "pumaname      object\n",
    "dtype: object\n",
    "```"
   ]
  },
  {
   "cell_type": "markdown",
   "id": "2d366688-3a3c-44c3-871d-f1212f14f194",
   "metadata": {},
   "source": [
    "1. ~`location_zip_code` in `cafes` and `zcta5` in `crosswalk`~\n",
    "2. ~`zipcode` in both~\n",
    "3. ~`location.zipcode` in `cafes` and `zipcode` in `crosswalk`~\n",
    "4. **`location_zip_code` in `cafes` and `zipcode` in `crosswalk`**\n",
    "\n",
    "**Answer: 4**"
   ]
  },
  {
   "cell_type": "markdown",
   "id": "e089bb7a-5776-4f37-a1ad-681e7f32b2f1",
   "metadata": {},
   "source": [
    "### Question\n",
    "Explore the `crosswalk` and `pop_data` data frames in the console. Which columns should be used as join keys?"
   ]
  },
  {
   "cell_type": "markdown",
   "id": "7f29b341-fa00-4c33-8208-620e929d56f5",
   "metadata": {},
   "source": [
    "```python\n",
    "print(crosswalk.dtypes)\n",
    "```"
   ]
  },
  {
   "cell_type": "markdown",
   "id": "736e70b0-8384-4884-99bf-02a9edde328d",
   "metadata": {},
   "source": [
    "```\n",
    "zipcode       object\n",
    "ziptype       object\n",
    "postalcity    object\n",
    "zcta5          int64\n",
    "bcode          int64\n",
    "note          object\n",
    "puma          object\n",
    "pumaname      object\n",
    "dtype: object\n",
    "```"
   ]
  },
  {
   "cell_type": "markdown",
   "id": "5dafd5eb-98cf-4326-b3e2-e0393f08c3de",
   "metadata": {},
   "source": [
    "```python\n",
    "print(pop_data.dtypes)\n",
    "```"
   ]
  },
  {
   "cell_type": "markdown",
   "id": "dee19554-bc25-4ce0-b855-8c448c54c05a",
   "metadata": {},
   "source": [
    "```\n",
    "geo_type              object\n",
    "geog_name             object\n",
    "puma                  object\n",
    "borough               object\n",
    "total_pop_estimate    object\n",
    "total_pop_moe         object\n",
    "dtype: object\n",
    "```"
   ]
  },
  {
   "cell_type": "markdown",
   "id": "fa7e2054-cfa7-4bdd-933d-2ebb664d6524",
   "metadata": {},
   "source": [
    "1. ~`pumaname` in `crosswalk` and `puma` in `pop_data`~\n",
    "2. **`puma` in both**\n",
    "3. ~`zipcode` in both~\n",
    "4. ~`pumaname` in `crosswalk` and `geog_name` in `pop_data`~\n",
    "\n",
    "**Answer: 2**"
   ]
  },
  {
   "cell_type": "markdown",
   "id": "59ba11e9-a945-420f-923f-7a3fa6961b6c",
   "metadata": {},
   "source": [
    "- Use the DataFrame method to merge `cafes` and `crosswalk` on `location_zip_code` and `zipcode`, respectively. Assign the result to `cafes_with_pumas`.\n",
    "- Merge `pop_data` into `cafes_with_pumas` on their `puma` fields. Save the result as `cafes_with_pop`."
   ]
  },
  {
   "cell_type": "markdown",
   "id": "d2a62ca1-c689-4222-b0e0-e39fb8892dd8",
   "metadata": {},
   "source": [
    "```python\n",
    "# Merge crosswalk into cafes on their zip code fields\n",
    "cafes_with_pumas = cafes.merge(crosswalk,\n",
    "                               left_on='location_zip_code',\n",
    "                               right_on='zipcode')\n",
    "\n",
    "# Merge pop_data into cafes_with_pumas on puma field\n",
    "cafes_with_pop = cafes_with_pumas.merge(pop_data, \n",
    "                                        left_on='puma', \n",
    "                                        right_on='puma')\n",
    "\n",
    "# View the data\n",
    "print(cafes_with_pop.head())\n",
    "```"
   ]
  },
  {
   "cell_type": "markdown",
   "id": "ae1539b0-152d-44ab-a290-1e8f33d59ded",
   "metadata": {},
   "source": [
    "```\n",
    "                        alias                                         categories  coordinates_latitude  coordinates_longitude   display_phone  ...  geo_type  \\\n",
    "0  coffee-project-ny-new-york     [{'alias': 'coffee', 'title': 'Coffee & Tea'}]             40.726990             -73.989220  (212) 228-7888  ...  PUMA2010   \n",
    "1   saltwater-coffee-new-york     [{'alias': 'coffee', 'title': 'Coffee & Tea'}]             40.730458             -73.983918  (917) 881-2245  ...  PUMA2010   \n",
    "2   daily-provisions-new-york  [{'alias': 'cafes', 'title': 'Cafes'}, {'alias...             40.737680             -73.987668  (212) 488-1505  ...  PUMA2010   \n",
    "3              mud-new-york-3  [{'alias': 'coffee', 'title': 'Coffee & Tea'},...             40.729050             -73.986680  (212) 228-9074  ...  PUMA2010   \n",
    "4  coffee-project-ny-new-york     [{'alias': 'coffee', 'title': 'Coffee & Tea'}]             40.726990             -73.989220  (212) 228-7888  ...  PUMA2010   \n",
    "    \n",
    "                                           geog_name    borough  total_pop_estimate total_pop_moe  \n",
    "0  NYC-Manhattan Community District 3--Chinatown ...  Manhattan              160709          3289  \n",
    "1  NYC-Manhattan Community District 3--Chinatown ...  Manhattan              160709          3289  \n",
    "2  NYC-Manhattan Community District 3--Chinatown ...  Manhattan              160709          3289  \n",
    "3  NYC-Manhattan Community District 3--Chinatown ...  Manhattan              160709          3289  \n",
    "4  NYC-Manhattan Community District 3--Chinatown ...  Manhattan              160709          3289  \n",
    "    \n",
    "[5 rows x 37 columns]\n",
    "```"
   ]
  },
  {
   "cell_type": "markdown",
   "id": "90a3fc55-e437-4d20-b045-958fdf0c275a",
   "metadata": {},
   "source": [
    "*You've built a pretty sophisticated pipeline that translates geographies to link data from multiple sources. While postal codes are a commonly used areal unit, there are often more meaningful ways to group spatial data, such as by neighborhood here.*"
   ]
  },
  {
   "cell_type": "markdown",
   "id": "27c1abb1-809c-4492-95b5-5ca2e2bcbcf4",
   "metadata": {},
   "source": []
  },
  {
   "cell_type": "markdown",
   "id": "b35a622a-0065-4451-832f-ec3cbf928332",
   "metadata": {},
   "source": []
  },
  {
   "cell_type": "markdown",
   "id": "bbe6d4ba-563b-4434-b6dd-34013f788622",
   "metadata": {},
   "source": []
  },
  {
   "cell_type": "markdown",
   "id": "9346ffd4-4396-46ca-9e65-122a09b139ea",
   "metadata": {},
   "source": []
  }
 ],
 "metadata": {
  "kernelspec": {
   "display_name": "Python 3",
   "language": "python",
   "name": "python3"
  },
  "language_info": {
   "codemirror_mode": {
    "name": "ipython",
    "version": 3
   },
   "file_extension": ".py",
   "mimetype": "text/x-python",
   "name": "python",
   "nbconvert_exporter": "python",
   "pygments_lexer": "ipython3",
   "version": "3.8.8"
  }
 },
 "nbformat": 4,
 "nbformat_minor": 5
}
