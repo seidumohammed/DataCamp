{
 "cells": [
  {
   "cell_type": "markdown",
   "id": "df6c4fdc-e930-408b-bce4-2ccb3a207f55",
   "metadata": {},
   "source": [
    "# 2. Importing Data From Excel Files\n",
    "**Automate data imports from that staple of office life, Excel files. Import part or all of a workbook and ensure boolean and datetime data are properly loaded, all while learning about how other people are learning to code.**"
   ]
  },
  {
   "cell_type": "markdown",
   "id": "f23a0121-b483-4e35-a7f1-ebcb71682b85",
   "metadata": {},
   "source": [
    "## Introduction to spreadsheets\n",
    "In this chapter, you will learn how to build pipelines to data stored in spreadsheets, plus additional data wrangling techniques.\n",
    "\n",
    "### Spreadsheets\n",
    "Spreadsheets, also called Excel files, are ubiquitous today. If you ever worked with them, the data frame structure probably looked familiar. Like data frames, spreadsheets organize information in tables, with cells of data in rows and columns. Unlike data frames and flat files, spreadsheets can have formulas with automatically updating results. Spreadsheets also support formatting that flat files do not. While data frames can be formatted for presentation purposes, like in Jupyter notebooks, pandas does not import spreadsheet formatting, so check that spreadsheets you want to load do not use formatting to convey important information. Or better yet, export them without formatting. Finally, an Excel file or workbook can have multiple spreadsheets.\n",
    "\n",
    "### Loading Spreadsheets\n",
    "At its simplest, reading data from a spreadsheet resembles reading a flat file, just with its own function: `read_excel()`. Let's demonstrate with an Excel file of responses from FreeCodeCamp's New Developer Survey, which asks new developers about their employment, education, job goals, and learning resources used. This file has been modified to make it easier to practice with, but you can grab the full dataset from Kaggle or FreeCodeCamp's GitHub. Previewing the file in a spreadsheet program, we see that it's pretty straightforward: tabular data with no formatting.\n",
    "\n",
    "As always, we first import pandas as pd, then pass the spreadsheet path as a string to pd dot read Excel and assign the result to a variable. \n",
    "```python\n",
    "import pandas as pd\n",
    "\n",
    "# Read the Excel file\n",
    "survey_data = pd.read_excel('fcc_survey.xlsx')\n",
    "```\n",
    "\n",
    "### Loading Select Columns and Rows\n",
    "Of course, not all spreadsheets are so simple, and formatting features that help human readers can make it trickier to read by machine. Spreadsheets commonly contain non-tabular information, such as metadata headers or have smaller tables of information, like this invoice. Fortunately, read Excel, like read CSV, has keyword arguments to select columns and skip or limit rows to get only the cells you want.\n",
    "\n",
    "`read_excel()` shares many parameters with `read_csv()`, but some work slightly differently, so check pandas documentation if you're unsure. `nrows` is the same, taking an integer of rows to load. `read_excel()`'s `skiprows` argument is also similar: it takes either a number of rows to skip at the beginning, or a list of row numbers to skip. Finally, `read_excel()`'s `usecols` argument accepts a list of either column numbers or column names, or a function to decide whether to load a column, just like read CSV's usecols. However, it also accepts an integer of columns to load, or a string of Excel column letter or ranges, like \"A:P\".\n",
    "\n",
    "Let's use these arguments to get a subset of survey response data, focusing on employment. The columns are organized alphabetically, with job-related variables in columns W through AB and income in AR. Also note that this version of the data has a two-row header providing links to the source that we'll want to exclude.\n",
    "\n",
    "We load the data with read Excel as before, but set `skiprows` to 2 to exclude the metadata. Since we know which column letters we want, we can pass the range and standalone income column as a single string to `usecols`. \n",
    "```python\n",
    "# Read columns W-AB and AR of file, skipping metadata header\n",
    "survey_data = pd.read_excel('fcc_survey_with_headers.xlsx',\n",
    "                           skiprows=2,\n",
    "                           usecols='W:AB, AR')\n",
    "```\n",
    "\n",
    "Checking the data frame, we see there are only a few columns loaded, and no metadata."
   ]
  },
  {
   "cell_type": "markdown",
   "id": "21751396-8b16-4843-b801-7797d576fa64",
   "metadata": {},
   "source": [
    "## Get data from a spreadsheet\n",
    "In this exercise, you'll create a data frame from a \"base case\" Excel file: one with a single sheet of tabular data. The `fcc_survey.xlsx` file here has a sample of responses from FreeCodeCamp's annual New Developer Survey. This survey asks participants about their demographics, education, work and home life, plus questions about how they're learning to code. Let's load all of it.\n",
    "\n",
    "- Read in `fcc_survey.xlsx` and assign it to the variable `survey_responses`.\n",
    "- Print the first few records of `survey_responses`."
   ]
  },
  {
   "cell_type": "code",
   "execution_count": 1,
   "id": "e23cdd03-7690-48bb-b8cf-ce331af219cb",
   "metadata": {},
   "outputs": [
    {
     "name": "stdout",
     "output_type": "stream",
     "text": [
      "   FreeCodeCamp New Developer Survey Responses, 2016        Unnamed: 1  \\\n",
      "0  Source: https://www.kaggle.com/freecodecamp/20...               NaN   \n",
      "1                                                Age  AttendedBootcamp   \n",
      "2                                                 28                 0   \n",
      "3                                                 22                 0   \n",
      "4                                                 19                 0   \n",
      "\n",
      "       Unnamed: 2         Unnamed: 3    Unnamed: 4         Unnamed: 5  \\\n",
      "0             NaN                NaN           NaN                NaN   \n",
      "1  BootcampFinish  BootcampLoanYesNo  BootcampName  BootcampRecommend   \n",
      "2             NaN                NaN           NaN                NaN   \n",
      "3             NaN                NaN           NaN                NaN   \n",
      "4             NaN                NaN           NaN                NaN   \n",
      "\n",
      "       Unnamed: 6                     Unnamed: 7            Unnamed: 8  \\\n",
      "0             NaN                            NaN                   NaN   \n",
      "1  ChildrenNumber                 CityPopulation  CodeEventConferences   \n",
      "2             NaN  between 100,000 and 1 million                   NaN   \n",
      "3             NaN  between 100,000 and 1 million                   NaN   \n",
      "4             NaN            more than 1 million                   NaN   \n",
      "\n",
      "             Unnamed: 9  ...          Unnamed: 88         Unnamed: 89  \\\n",
      "0                   NaN  ...                  NaN                 NaN   \n",
      "1  CodeEventDjangoGirls  ...  ResourcePluralSight  ResourceSkillCrush   \n",
      "2                   NaN  ...                  NaN                 NaN   \n",
      "3                   NaN  ...                  NaN                 NaN   \n",
      "4                   NaN  ...                  NaN                 NaN   \n",
      "\n",
      "             Unnamed: 90        Unnamed: 91      Unnamed: 92    Unnamed: 93  \\\n",
      "0                    NaN                NaN              NaN            NaN   \n",
      "1  ResourceStackOverflow  ResourceTreehouse  ResourceUdacity  ResourceUdemy   \n",
      "2                    NaN                NaN              NaN            NaN   \n",
      "3                    NaN                NaN              NaN              1   \n",
      "4                    NaN                NaN              NaN            NaN   \n",
      "\n",
      "         Unnamed: 94                              Unnamed: 95  Unnamed: 96  \\\n",
      "0                NaN                                      NaN          NaN   \n",
      "1  ResourceW3Schools                             SchoolDegree  SchoolMajor   \n",
      "2                NaN           some college credit, no degree          NaN   \n",
      "3                NaN           some college credit, no degree          NaN   \n",
      "4                NaN  high school diploma or equivalent (GED)          NaN   \n",
      "\n",
      "      Unnamed: 97  \n",
      "0             NaN  \n",
      "1  StudentDebtOwe  \n",
      "2           20000  \n",
      "3             NaN  \n",
      "4             NaN  \n",
      "\n",
      "[5 rows x 98 columns]\n"
     ]
    }
   ],
   "source": [
    "# Load pandas as pd\n",
    "import pandas as pd\n",
    "\n",
    "# Read spreadsheet and assign it to survey_responses\n",
    "survey_responses = pd.read_excel('fcc_survey.xlsx')\n",
    "\n",
    "# View the head of the data frame\n",
    "print(survey_responses.head())"
   ]
  },
  {
   "cell_type": "markdown",
   "id": "3cfa8bed-d4ce-4014-ac5d-b30a6d9d4872",
   "metadata": {},
   "source": [
    "*Depending on how and why an Excel file was generated, you might find spreadsheet imports as painless as this. Excel files created for human readers can get quite complicated, with headers, charts, and multiple tables on a sheet.*"
   ]
  },
  {
   "cell_type": "markdown",
   "id": "de44c5ff-19db-4983-b294-d9c0f6569209",
   "metadata": {},
   "source": [
    "## Load a portion of a spreadsheet\n",
    "Spreadsheets meant to be read by people often have multiple tables, e.g., a small business might keep an inventory workbook with tables for different product types on a single sheet. Even tabular data may have header rows of metadata, like the New Developer Survey data here. While the metadata is useful, we don't want it in a data frame.\n",
    "\n",
    "You'll use `read_excel()`'s `skiprows` keyword to get just the data. You'll also create a string to pass to `usecols` to get only columns AD and AW through BA, about future job goals.\n",
    "\n",
    "- Create a single string, `col_string`, specifying that `pandas` should load column `AD` and the range `AW` through `BA`.\n",
    "- Load `fcc_survey.xlsx`, setting `skiprows` and `usecols` to skip the first two rows of metadata and get only the columns in `col_string`.\n",
    "- View the selected column names in the resulting data frame."
   ]
  },
  {
   "cell_type": "code",
   "execution_count": 3,
   "id": "d93d5def-1738-467e-888c-2cf9a9f9a998",
   "metadata": {},
   "outputs": [
    {
     "name": "stdout",
     "output_type": "stream",
     "text": [
      "Index(['ExpectedEarning', 'JobApplyWhen', 'JobPref', 'JobRelocateYesNo',\n",
      "       'JobRoleInterest', 'JobWherePref'],\n",
      "      dtype='object')\n"
     ]
    }
   ],
   "source": [
    "# Create string of lettered columns to load\n",
    "col_string = 'AD, AW:BA'\n",
    "\n",
    "# Load data with skiprows and usecols set\n",
    "survey_responses = pd.read_excel(\"fcc_survey.xlsx\", \n",
    "                                 skiprows=2, \n",
    "                                 usecols=col_string)\n",
    "\n",
    "# View the names of the columns selected\n",
    "print(survey_responses.columns)"
   ]
  },
  {
   "cell_type": "markdown",
   "id": "130d30eb-7693-4ded-903e-a511109cdbe3",
   "metadata": {},
   "source": [
    "*If you need to get a table of data from a sheet with multiple tables on it, you can use `skiprows`, `nrows`, and `usecols` together to delineate which cells of data to read in.*"
   ]
  },
  {
   "cell_type": "markdown",
   "id": "c9aaef1d-bb68-4d38-a794-d6d0d9f11969",
   "metadata": {},
   "source": [
    "---\n",
    "## Getting data from multiple worksheets\n",
    "You can now create data frames from a single spreadsheet, or from parts of one. It's fairly common for Excel files to contain multiple sheets of data though. In this lesson, you'll learn how to specify sheets to get data from, as well as a workflow to combine multiple sheets into a single data frame.\n",
    "\n",
    "### Selecting Sheets to Load\n",
    "Although the terms \"spreadsheet\" and \"Excel file\" are often used interchangeably, an Excel file can be a workbook with multiple sheets, containing data as well as charts and metadata. We'll focus on sheets with tabular data. By default, `read_excel()` pulls data from the first sheet in a workbook only. This behavior can be changed with the `sheet_name` keyword argument. Sheet name accepts the name of the desired sheet as a string, an integer indicating the desired sheet's position in the workbook, or a list containing any combination of sheet names and position numbers to read. Two things to note are that sheets are zero-indexed, and that if you load multiple sheets at once, any other arguments passed to `read_excel()` apply to all sheets. For example, if you set `nrows` to 50, the first 50 rows of each sheet listed in sheet name will be loaded. If sheets need different parameters, load them with separate read Excel calls.\n",
    "\n",
    "### Selecting Sheets to Load\n",
    "The New Developer Survey file actually contains two sheets: one with responses from 2016, another with responses from 2017. We already got 2016's data, since it's the first sheet. Let's get 2017's.\n",
    "\n",
    "### Loading Select Sheets\n",
    "To get the second sheet containing 2017's responses, we can either pass its position index, `1`, to `sheet_name`, or the actual `sheet_name`, `'2017'`. Either method gets the same results, as shown when we check if the two data frames are equal.\n",
    "```python\n",
    "# Get the second sheet by position index\n",
    "survey_data_sheet2 = pd.read_excel('fcc_survey.xlsx',\n",
    "                                   sheet_name=1)\n",
    "\n",
    "# Get the second sheet by name\n",
    "survey_data_2017 = pd.read_excel('fcc_survey.xlsx', \n",
    "                                 sheet_name='2017')\n",
    "\n",
    "print(survey_data_sheet2.equals(survey_data_2017))\n",
    "```\n",
    "```\n",
    "True\n",
    "```\n",
    "\n",
    "### Loading All Sheets\n",
    "What if we wanted to get all sheets in a workbook at once? We could list them all, but the easier way is to pass `None` to `sheet_name`. Let's do this for the survey data and check the data type of the result. \n",
    "```python\n",
    "survey_responses = pd.read_excel('fcc_survey.xlsx', \n",
    "                                 sheet_name=None)\n",
    "\n",
    "print(type(survey_responses))\n",
    "```\n",
    "```\n",
    "<class 'collections.OrderedDict'>\n",
    "```\n",
    "\n",
    "Instead of getting a data frame, we got an ordered dictionary. Iterating through the items reveals that the keys are sheet names, and the values are data frames for each sheet.\n",
    "```python\n",
    "for key, value in survey_responses.items():\n",
    "    print(key, type(value))\n",
    "```\n",
    "```\n",
    "2016 <class 'pandas.core.frame.DataFrame'>\n",
    "2017 <class 'pandas.core.frame.DataFrame'>\n",
    "```\n",
    "\n",
    "### Putting It All Together\n",
    "We have one data frame per sheet, which is great if sheets have different columns or describe different subjects. For the survey data, each sheet has the same columns, just for different years. Let's combine them into one data frame. First, we create an empty data frame, all responses. Then, we loop through the items in the survey responses dictionary. Remember, each value is a data frame corresponding to a worksheet, and each key is a sheet name. For each data frame, we add a column, Year, containing the sheet name, so we know which dataset a record came from. Finally, we append the data frames to all responses. We can check unique values in the year column to confirm that all responses has both years. \n",
    "```python\n",
    "# Create empty data frame to hold all loaded sheets\n",
    "all_responses = pd.DataFrame()\n",
    "\n",
    "# Iterate through data frames in dictionary\n",
    "for sheet_name, frame in survey_responses.items():\n",
    "    # Add a column so we know which year data is from\n",
    "    frame['Year'] = sheet_name\n",
    "    \n",
    "    # Add each data frame to all_responses\n",
    "    all_responses = all_responses.append(frame)\n",
    "\n",
    "# View years in data\n",
    "print(all_responses.Year.unique())\n",
    "```\n",
    "```\n",
    "['2016', '2017']\n",
    "```\n",
    "In this case, we only combined two sheets, so we could have appended one to the other, but looping has the advantage of working for any number of sheets."
   ]
  },
  {
   "cell_type": "markdown",
   "id": "01017fcd-9327-4998-87f4-738065bd8e39",
   "metadata": {},
   "source": [
    "## Select a single sheet\n",
    "An Excel workbook may contain multiple sheets of related data. The New Developer Survey response workbook has sheets for different years. Because `read_excel()` loads only the first sheet by default, you've already gotten survey responses for 2016. Now, you'll create a data frame of 2017 responses using `read_excel()`'s `sheet_name` argument in a couple different ways.\n",
    "\n",
    "- Create a data frame from the second workbook sheet by passing the sheet's position to `sheet_name`."
   ]
  },
  {
   "cell_type": "code",
   "execution_count": 11,
   "id": "a64085b0-f299-4a92-ad04-b5c631bf9d04",
   "metadata": {},
   "outputs": [
    {
     "data": {
      "image/png": "[encoded data removed]",
      "text/plain": [
       "<Figure size 432x288 with 1 Axes>"
      ]
     },
     "metadata": {
      "needs_background": "light"
     },
     "output_type": "display_data"
    }
   ],
   "source": [
    "import matplotlib.pyplot as plt\n",
    "\n",
    "# Create df from second worksheet by referencing its position\n",
    "responses_2017 = pd.read_excel(\"fcc_survey.xlsx\",\n",
    "                               skiprows=2, \n",
    "                               usecols=col_string,\n",
    "                               sheet_name=1)\n",
    "\n",
    "# Graph where people would like to get a developer job\n",
    "job_prefs = responses_2017.groupby(\"JobPref\").JobPref.count()\n",
    "job_prefs.plot.barh()\n",
    "plt.show()"
   ]
  },
  {
   "cell_type": "markdown",
   "id": "518bfb50-5645-4d77-84ab-b6faf2686332",
   "metadata": {},
   "source": [
    "- Create a data frame from the `2017` sheet by providing the sheet's name to `read_excel()`."
   ]
  },
  {
   "cell_type": "code",
   "execution_count": 12,
   "id": "226cd5e2-9e66-40b5-90a0-0fdb22662495",
   "metadata": {},
   "outputs": [
    {
     "data": {
      "image/png": "[encoded data removed]",
      "text/plain": [
       "<Figure size 432x288 with 1 Axes>"
      ]
     },
     "metadata": {
      "needs_background": "light"
     },
     "output_type": "display_data"
    }
   ],
   "source": [
    "# Create df from second worksheet by referencing its name\n",
    "responses_2017 = pd.read_excel(\"fcc_survey.xlsx\",\n",
    "                               skiprows=2, \n",
    "                               usecols=col_string,\n",
    "                               sheet_name='2017')\n",
    "\n",
    "# Graph where people would like to get a developer job\n",
    "job_prefs = responses_2017.groupby(\"JobPref\").JobPref.count()\n",
    "job_prefs.plot.barh()\n",
    "plt.show()"
   ]
  },
  {
   "cell_type": "markdown",
   "id": "62a8ecac-f71d-4321-915a-eec86a76bda4",
   "metadata": {},
   "source": [
    "*Although it's possible to get multiple spreadsheets in an Excel file with one call to `read_excel()`, it can make more sense to use multiple calls if sheets contain very different data or layouts. That way, you can customize other arguments for each sheet.*"
   ]
  },
  {
   "cell_type": "markdown",
   "id": "d1b7ca8e-0141-49b7-8235-a69b77367304",
   "metadata": {},
   "source": [
    "## Select multiple sheets\n",
    "So far, you've read Excel files one sheet at a time, which lets you customize import arguments for each sheet. But if an Excel file has some sheets that you want loaded with the same parameters, you can get them in one go by passing a list of their names or indices to `read_excel()`'s `sheet_name` keyword. To get them all, pass `None`. You'll practice both methods to get data from `fcc_survey.xlsx`, which has multiple sheets of similarly-formatted data."
   ]
  },
  {
   "cell_type": "markdown",
   "id": "3c892bee-90d4-4ff4-9db9-7c932d8ba6d5",
   "metadata": {},
   "source": [
    "- Load both the `2016` and `2017` sheets by name with a list and one call to `read_excel()`."
   ]
  },
  {
   "cell_type": "code",
   "execution_count": 14,
   "id": "3e9a70a9-f127-4723-8971-13f9a25d755c",
   "metadata": {},
   "outputs": [
    {
     "name": "stdout",
     "output_type": "stream",
     "text": [
      "<class 'dict'>\n"
     ]
    }
   ],
   "source": [
    "# Load both the 2016 and 2017 sheets by name\n",
    "all_survey_data = pd.read_excel(\"fcc_survey.xlsx\",\n",
    "                                sheet_name=['2016', '2017'])\n",
    "\n",
    "# View the data type of all_survey_data\n",
    "print(type(all_survey_data))"
   ]
  },
  {
   "cell_type": "markdown",
   "id": "95d90804-b666-4e83-9d72-08d5631ac8e1",
   "metadata": {},
   "source": [
    "- Load the `2016` sheet by its position (`0`) and `2017` by name. Note the sheet names in the result."
   ]
  },
  {
   "cell_type": "code",
   "execution_count": 16,
   "id": "be410b51-a4d2-4511-8a68-e580bdc3e85c",
   "metadata": {},
   "outputs": [
    {
     "name": "stdout",
     "output_type": "stream",
     "text": [
      "dict_keys([0, '2017'])\n"
     ]
    }
   ],
   "source": [
    "# Load all sheets in the Excel file\n",
    "all_survey_data = pd.read_excel(\"fcc_survey.xlsx\",\n",
    "                                sheet_name=[0, '2017'])\n",
    "\n",
    "# View the sheet names in all_survey_data\n",
    "print(all_survey_data.keys())"
   ]
  },
  {
   "cell_type": "markdown",
   "id": "44d7f953-1d70-4fbb-955a-49a734234a90",
   "metadata": {},
   "source": [
    "- Load all sheets in the Excel file without listing them all."
   ]
  },
  {
   "cell_type": "code",
   "execution_count": 17,
   "id": "9167874b-eb77-4072-bb65-92a524d4f3ba",
   "metadata": {},
   "outputs": [
    {
     "name": "stdout",
     "output_type": "stream",
     "text": [
      "dict_keys(['2016', '2017'])\n"
     ]
    }
   ],
   "source": [
    "# Load all sheets in the Excel file\n",
    "all_survey_data = pd.read_excel(\"fcc_survey.xlsx\",\n",
    "                                sheet_name=None)\n",
    "\n",
    "# View the sheet names in all_survey_data\n",
    "print(all_survey_data.keys())"
   ]
  },
  {
   "cell_type": "markdown",
   "id": "9ef6905a-82e8-434f-ba29-cb9d570c91ef",
   "metadata": {},
   "source": [
    "*Notice that if you load a sheet by its index position, the resulting data frame's name is also the index number, not the sheet name.*"
   ]
  },
  {
   "cell_type": "markdown",
   "id": "5466bda3-cb4c-4744-9068-50928d2ff573",
   "metadata": {},
   "source": [
    "## Work with multiple spreadsheets\n",
    "Workbooks meant primarily for human readers, not machines, may store data about a single subject across multiple sheets. For example, a file may have a different sheet of transactions for each region or year in which a business operated.\n",
    "\n",
    "The FreeCodeCamp New Developer Survey file is set up similarly, with samples of responses from different years in different sheets. Your task here is to compile them in one data frame for analysis.\n",
    "\n",
    "All sheets have been read into the ordered dictionary `responses`, where sheet names are keys and data frames are values, so you can get data frames with the `values()` method.\n",
    "\n",
    "- Create an empty data frame, `all_responses`.\n",
    "- Set up a `for` loop to iterate through the values in the `responses` dictionary.\n",
    "- Append each data frame to `all_responses` and reassign the result to the same variable name."
   ]
  },
  {
   "cell_type": "code",
   "execution_count": 26,
   "id": "34acab40-9a7b-4224-b710-b42e155374a8",
   "metadata": {},
   "outputs": [
    {
     "name": "stdout",
     "output_type": "stream",
     "text": [
      "Adding 1000 rows\n",
      "Adding 1000 rows\n"
     ]
    },
    {
     "data": {
      "image/png": "[encoded data removed]",
      "text/plain": [
       "<Figure size 432x288 with 1 Axes>"
      ]
     },
     "metadata": {
      "needs_background": "light"
     },
     "output_type": "display_data"
    }
   ],
   "source": [
    "responses = pd.read_excel('fcc_survey.xlsx', \n",
    "                          skiprows=2, \n",
    "                          usecols=col_string,\n",
    "                          sheet_name=None)\n",
    "\n",
    "# Create an empty data frame\n",
    "all_responses = pd.DataFrame()\n",
    "\n",
    "# Set up for loop to iterate through values in responses\n",
    "for df in responses.values():\n",
    "  # Print the number of rows being added\n",
    "  print(\"Adding {} rows\".format(df.shape[0]))\n",
    "  # Append df to all_responses, assign result\n",
    "  all_responses = all_responses.append(df)\n",
    "\n",
    "# Graph statuses when apply job in sample\n",
    "counts = all_responses.groupby(\"JobApplyWhen\").JobApplyWhen.count()\n",
    "counts.plot.barh()\n",
    "plt.show()"
   ]
  },
  {
   "cell_type": "markdown",
   "id": "48fa49b6-2e1b-4622-94c2-87b4242ed75e",
   "metadata": {},
   "source": [
    "*You compiled similar spreadsheets into one dataset. This method works well when you know your spreadsheets use the same column names. If they don't, you can end up with lots of NA values where column names don't align.*"
   ]
  },
  {
   "cell_type": "markdown",
   "id": "5b368d4e-e9b4-455a-9b61-9552e9eae5b3",
   "metadata": {},
   "source": [
    "---\n",
    "## Modifying imports: true/false data\n",
    "In this course, you've mostly handled string and numeric data. This lesson focuses on another data type, Booleans, and special considerations for working with them.\n",
    "\n",
    "### Boolean Data\n",
    "A Boolean variable has only two possible values: `True` or `False`, which makes them convenient for tasks like filtering. Despite this simplicity, Booleans can be tricky. We'll use a subset of the New Developer Survey data to focus on them. This version only has an ID column, and columns for whether the respondent attended a programming bootcamp and if they took out a loan for it.\n",
    "\n",
    "True and false are represented in a few ways for demonstration purposes: zeros and ones, which are common among people with coding experience, Trues and Falses, and yeses and nos, which tend to appear in surveys and forms.\n",
    "\n",
    "### pandas and Booleans\n",
    "Let's load this data with no additional arguments and check dtypes. pandas interpreted no columns as Boolean! Even True/False columns were loaded as floats. Let's investigate.\n",
    "```python\n",
    "bootcamp_date = pd.read_excel('fcc_survey_booleans.xlsx')\n",
    "print(bootcamp_data.dtypes)\n",
    "```\n",
    "```\n",
    "ID.x                     object\n",
    "AttendedBootcamp        float64\n",
    "AttendedBootcampYesNo    object\n",
    "AttendedBootcampTF      float64\n",
    "BootcampLoan            float64\n",
    "LoanYesNo                object\n",
    "LoanTF                  float64\n",
    "dtype: object\n",
    "```\n",
    "\n",
    "First, let's sum the data frame's columns to see how many Trues each float column has. Recall that these columns code `True` as `1` and `False` as `0`. \n",
    "```python\n",
    "# count True values\n",
    "print(bootcamp_data.sum())\n",
    "```\n",
    "```\n",
    "AttendedBootcamp        38\n",
    "AttendedBootcampTF      38\n",
    "BootcampLoan            14\n",
    "LoanTF                  14\n",
    "dtype: object\n",
    "```\n",
    "\n",
    "In our data subset, 38 attended a bootcamp and 14 took out a loan for it. \n",
    "\n",
    "Let's also check how many values in each column are missing by summing the results of is NA. \n",
    "```python\n",
    "# Count NAs\n",
    "print(bootcamp_data.isna().sum())\n",
    "```\n",
    "```\n",
    "ID.x                        0\n",
    "AttendedBootcamp            0\n",
    "AttendedBootcampYesNo       0\n",
    "AttendedBootcampTF          0\n",
    "BootcampLoan              964\n",
    "LoanYesNo                 964\n",
    "LoanTF                    964\n",
    "dtype: int64\n",
    "```\n",
    "\n",
    "\n",
    "Every record has a value for bootcamp attendance, but most of the loan values are blank, even for some students who attended a bootcamp.\n",
    "\n",
    "Now let's cast these columns as Booleans with the dtype argument. read Excel's dtype works exactly like read CSV's, so we pass a dictionary specifying which columns should be Boolean. \n",
    "```python\n",
    "# Load data, casting True/False columns as Boolean\n",
    "bool_data = pd.read_excel('fcc_survey_booleans.xlsx',\n",
    "                          dtype={'AttendedBootcamp': bool,\n",
    "                                 'AttendedBootcampYesNo': bool,\n",
    "                                 'AttendedBootcampTF': bool,\n",
    "                                 'BootcampLoan': bool,\n",
    "                                 'LoanYesNo': bool,\n",
    "                                 'LoanTF': bool})\n",
    "\n",
    "print(bool_date.dtypes)\n",
    "```\n",
    "```\n",
    "ID.x                     object\n",
    "AttendedBootcamp           bool\n",
    "AttendedBootcampYesNo      bool\n",
    "AttendedBootcampTF         bool\n",
    "BootcampLoan               bool\n",
    "LoanYesNo                  bool\n",
    "LoanTF                     bool\n",
    "dtype: object\n",
    "```\n",
    "\n",
    "Checking dtypes, it looks like it worked.\n",
    "```python\n",
    "# count True values\n",
    "print(bool_data.sum())\n",
    "```\n",
    "```\n",
    "AttendedBootcamp         38\n",
    "AttendedBootcampYesNo  1000\n",
    "AttendedBootcampTF       38\n",
    "BootcampLoan            978\n",
    "LoanYesNo              1000\n",
    "LoanTF                  978\n",
    "dtype: object\n",
    "```\n",
    "```python\n",
    "# Count NA values\n",
    "print(bool_data.isna().sum())\n",
    "```\n",
    "```\n",
    "ID.x                        0\n",
    "AttendedBootcamp            0\n",
    "AttendedBootcampYesNo       0\n",
    "AttendedBootcampTF          0\n",
    "BootcampLoan                0\n",
    "LoanYesNo                   0\n",
    "LoanTF                      0\n",
    "dtype: int64\n",
    "```\n",
    "\n",
    "Checking counts of True values reveals issues. The loan columns have too many Trues, and the yes/no ones are all True. Checking NA values by column, we see there aren't any.\n",
    "\n",
    "What happened? `pandas` automatically loads `True`/`False` columns as floats, but that can be changed with `dtype`. Boolean values must be either `True` or `False`, so **NAs were re-coded as `True`**. While pandas recognized that zeros and ones are `False` and `True`, respectively, it did not know what to do with Yes and No, so they were all coded as `True`.\n",
    "\n",
    "### Setting Custom True/False Values\n",
    "We can solve the issue of the yes/no columns being misinterpreted with `read_excel()`'s `true_values` and false values arguments. Each takes a list of values that pandas should treat as `True` or `False` when they appear in Boolean columns. Values in non-Boolean columns are not converted.\n",
    "\n",
    "Let's pass \"Yes\" and \"No\" as single-item lists to true values and false values.\n",
    "```python\n",
    "# Load data, casting True/False columns as Boolean\n",
    "bool_data = pd.read_excel('fcc_survey_booleans.xlsx',\n",
    "                          dtype={'AttendedBootcamp': bool,\n",
    "                                 'AttendedBootcampYesNo': bool,\n",
    "                                 'AttendedBootcampTF': bool,\n",
    "                                 'BootcampLoan': bool,\n",
    "                                 'LoanYesNo': bool,\n",
    "                                 'LoanTF': bool},\n",
    "                          true_values=['Yes'],\n",
    "                          false_values=['No'])\n",
    "```\n",
    "Then, we check True counts with the sum method. \n",
    "```python\n",
    "print(bool_date.sum())\n",
    "```\n",
    "```\n",
    "AttendedBootcamp         38\n",
    "AttendedBootcampYesNo    38\n",
    "AttendedBootcampTF       38\n",
    "BootcampLoan            978\n",
    "LoanYesNo               978\n",
    "LoanTF                  978\n",
    "dtype: object\n",
    "```\n",
    "\n",
    "Now the yes/no columns match their counterparts. But there is still the issue of NA's being coded as `True`.\n",
    "\n",
    "### Boolean Considerations\n",
    "What to do depends on the data. In our case, we don't want fake Trues, so we might decide to keep the loan columns as floats. Things to consider when casting a column as Boolean include the presence of NA values, how the column will be used in the analysis, the consequences of fake True values, and whether alternative representations like floats would do."
   ]
  },
  {
   "cell_type": "markdown",
   "id": "b26c40ac-1f43-4fa5-aa25-1a5f571d481f",
   "metadata": {},
   "source": [
    "## Set Boolean columns\n",
    "Datasets may have columns that are most accurately modeled as Boolean values. However, `pandas` usually loads these as floats by default, since defaulting to Booleans may have undesired effects like turning NA values into `True`s.\n",
    "\n",
    "`fcc_survey_subset.xlsx` contains a string ID column and several True/False columns indicating financial stressors. You'll evaluate which non-ID columns have no NA values and therefore can be set as Boolean, then tell `read_excel()` to load them as such with the `dtype` argument.\n",
    "\n",
    "- Count NA values in each column of `survey_data` with `isna()` and `sum()`. Note which columns besides `ID.x`, if any, have zero NAs.\n",
    "\n",
    "```python\n",
    "# Load the data\n",
    "survey_data = pd.read_excel(\"fcc_survey_subset.xlsx\")\n",
    "\n",
    "# Count NA values in each column\n",
    "print(survey_data.isna().sum())\n",
    "```\n",
    "```\n",
    "ID.x                        0\n",
    "HasDebt                     0\n",
    "HasFinancialDependents      7\n",
    "HasHomeMortgage           499\n",
    "HasStudentDebt            502\n",
    "dtype: int64\n",
    "```\n"
   ]
  },
  {
   "cell_type": "markdown",
   "id": "b91440be-4941-46f3-96f1-45ad0c87870e",
   "metadata": {},
   "source": [
    "- Set `read_excel()`'s `dtype` argument to load the `HasDebt` column as Boolean data.\n",
    "- Supply the Boolean column name to the print statement to view financial burdens by group.\n",
    "\n",
    "```python\n",
    "# Set dtype to load appropriate column(s) as Boolean data\n",
    "survey_data = pd.read_excel(\"fcc_survey_subset.xlsx\",\n",
    "                            dtype={'HasDebt': bool})\n",
    "\n",
    "# View financial burdens by Boolean group\n",
    "print(survey_data.groupby('HasDebt').sum())\n",
    "```\n",
    "```\n",
    "         HasFinancialDependents  HasHomeMortgage  HasStudentDebt\n",
    "HasDebt                                                         \n",
    "False                     112.0              0.0             0.0\n",
    "True                      205.0            151.0           281.0\n",
    "```"
   ]
  },
  {
   "cell_type": "markdown",
   "id": "6589de37-da3e-4267-95f4-63baea8e6708",
   "metadata": {},
   "source": [
    "*Modeling True/False data as Booleans can streamline some data manipulation functions and keep spurious summary statistics, like quartile values, from being calculated. If you want to make a column with NA values Boolean, you can load the data, impute missing values, then re-cast the column as Boolean.*"
   ]
  },
  {
   "cell_type": "markdown",
   "id": "81c4c435-4a15-4c03-99c0-dfe9a913d622",
   "metadata": {},
   "source": [
    "## Set custom true/false values\n",
    "In Boolean columns, `pandas` automatically recognizes certain values, like \"TRUE\" and 1, as `True`, and others, like \"FALSE\" and 0, as `False`. Some datasets, like survey data, can use unrecognized values, such as \"Yes\" and \"No\".\n",
    "\n",
    "For practice purposes, some Boolean columns in the New Developer Survey have been coded this way. You'll make sure they're properly interpreted with the help of the `true_values` and `false_values` arguments.\n",
    "\n",
    "- Load the Excel file, specifying `\"Yes\"` as a true value and `\"No\"` as a false value."
   ]
  },
  {
   "cell_type": "markdown",
   "id": "baac5cd9-1b65-4037-b6fa-24446d30eaa6",
   "metadata": {},
   "source": [
    "```python\n",
    "# Load file with Yes as a True value and No as a False value\n",
    "survey_subset = pd.read_excel(\"fcc_survey_yn_data.xlsx\",\n",
    "                              dtype={\"HasDebt\": bool,\n",
    "                                     \"AttendedBootCampYesNo\": bool},\n",
    "                              true_values=['Yes'],\n",
    "                              false_values=['No'])\n",
    "\n",
    "# View the data\n",
    "print(survey_subset.head())\n",
    "```\n",
    "\n",
    "```\n",
    "                               ID.x  AttendedBootCampYesNo  HasDebt  HasFinancialDependents  HasHomeMortgage  HasStudentDebt\n",
    "0  cef35615d61b202f1dc794ef2746df14                  False     True                     1.0              0.0             1.0\n",
    "1  323e5a113644d18185c743c241407754                  False    False                     0.0              NaN             NaN\n",
    "2  b29a1027e5cd062e654a63764157461d                  False    False                     0.0              NaN             NaN\n",
    "3  04a11e4bcb573a1261eb0d9948d32637                  False     True                     0.0              0.0             1.0\n",
    "4  9368291c93d5d5f5c8cdb1a575e18bec                  False     True                     0.0              0.0             0.0\n",
    "```"
   ]
  },
  {
   "cell_type": "markdown",
   "id": "5022766e-1915-4b48-9fd3-357ce2574e09",
   "metadata": {},
   "source": [
    "*Building a data pipeline that sets Boolean dtypes and uses custom true and false values requires being very familiar with the data. It's a good idea to import the data as-is and explore it before doing so.*"
   ]
  },
  {
   "cell_type": "markdown",
   "id": "1fdcf650-4110-44bd-a18b-956d950cf019",
   "metadata": {},
   "source": [
    "---\n",
    "## Modifying imports: parsing dates\n",
    "You've now worked with numeric, string, and Boolean data. This lesson will focus on one last data type you're likely to encounter: datetimes.\n",
    "\n",
    "### Date and Time Data\n",
    "How computers handle dates and times is a rich topic, but what you need to know for now is that Python stores them as a special data type, datetime. Datetimes can be translated into myriad text representations, and there is a common set of codes used to describe how datetimes are formatted as strings.\n",
    "\n",
    "### pandas and Datetimes\n",
    "By default, pandas loads datetime data as objects. If you want to arrange records by time, select within a timespan, or calculate intervals, though, you'll need datetime columns. We use the parse dates keyword argument, not dtype, to specify datetime columns. `parse_dates` accepts a list of column names or numbers to parse. It also accepts a list of lists, where each sub-list is a group of columns that should be combined and parsed as one, such as separate day, month, and year columns. Finally, to combine columns, parse them, and store the result as a new column, you can supply a dictionary, where each key is a new column name and each value is a list of columns to parse.\n",
    "\n",
    "Let's see this with the New Developer Survey data, whose datetime columns have been modified for demonstration purposes.\n",
    "\n",
    "Part1StartTime and Part1Endtime have data in standard year-month-day-hour-minute-second format.\n",
    "\n",
    "Part2StartTime's data has been split into date and time columns.\n",
    "\n",
    "Part2EndTime is in a nonstandard format.\n",
    "\n",
    "### Parsing Dates\n",
    "To parse the dates in standard format, we pass the column names in a list to read Excel's parse dates argument.\n",
    "\n",
    "```python\n",
    "# List columns of dates to parse\n",
    "date_cols = ['Part1StartTime', 'Part1EndTime']\n",
    "\n",
    "# Load file, parsing standard datetime columns\n",
    "survey_df = pd.read_exvel('fcc_survey.xlsx',\n",
    "                          parse_dates=date_cols)\n",
    "```\n",
    "\n",
    "When we check the dtypes of the timestamp columns, we see the two columns were parsed successfully.\n",
    "\n",
    "```python\n",
    "# check data types of timestamp columns\n",
    "print(survey_df[['Part1StartTime',\n",
    "                 'Part1EndTime',\n",
    "                 'Part2StartDate',\n",
    "                 'Part2StartTime',\n",
    "                 'Part2EndTime']].dtypes)\n",
    "```\n",
    "\n",
    "```\n",
    "Part1StartTime   datetime64[ns]\n",
    "Part1EndTime     datetime64[ns]\n",
    "Part2StartDate           object\n",
    "Part2StartTime           object\n",
    "Part2EndTime             object\n",
    "dtype: object\n",
    "```\n",
    "\n",
    "To parse the split-up timestamp columns, we can add a list within the list, containing `Part2StartDate` and `Part2StartTime`, and pass that to parse dates. pandas creates a new combined datetime column, `Part2StartDate_Part2StartTime`.\n",
    "\n",
    "```python\n",
    "# List columns of dates to parse\n",
    "date_cols = ['Part1StartTime',\n",
    "             'Part1EndTime',\n",
    "             [['Part2StartDate', 'Part2StartTime']]]\n",
    "\n",
    "# Load file, parsing standard and split datetime columns\n",
    "survey_df = pd.read_excel('fcc_survey.xlsx',\n",
    "                          parse_dates=date_cols)\n",
    "\n",
    "print(survey_df.head(3))\n",
    "```\n",
    "\n",
    "```\n",
    "  Part2StartDate_Part2StartTime   Age   ...   SchoolMajor  StudentDebtOwe\n",
    "0           2016-03-29 21:24:57  28.0   ...           NaN           20000\n",
    "1           2016-03-29 21:27:14  22.0   ...           NaN             NaN\n",
    "2           2016-03-29 21:27:13  19.0   ...           NaN             NaN\n",
    "```\n",
    "\n",
    "But to control the column names, let's create a dictionary, pass that instead, and view the resulting column.\n",
    "\n",
    "```python\n",
    "# List columns of dates to parse\n",
    "date_cols = ['Part1Start': 'Part1StartTime',\n",
    "             'Part1End': 'Part1EndTime',\n",
    "             'Part2Start' : [['Part2StartDate', \n",
    "                              'Part2StartTime']]]\n",
    "\n",
    "# Load file, parsing standard and split datetime columns\n",
    "survey_df = pd.read_excel('fcc_survey.xlsx',\n",
    "                          parse_dates=date_cols)\n",
    "\n",
    "print(survey_df.Part2Start.head(3))\n",
    "```\n",
    "\n",
    "```\n",
    "0  2016-03-29 21:24:57\n",
    "1  2016-03-29 21:27:14\n",
    "2  2016-03-29 21:27:13\n",
    "NAme: Part2Start, dtype: datatime64[ns]\n",
    "```\n",
    "\n",
    "### Non-Standard Dates\n",
    "However, `parse_dates` only works if the data is in a format that pandas understands. If you try to parse unusually-formatted dates with `parse_dates`, like 123199 for December 31, 1999, you'll get the columns back as strings. Instead, convert nonstandard dates after import with pandas' `to_datetime()` method. To datetime takes the data frame and column to convert, plus a `format` argument containing a string that describes how the data is formatted.\n",
    "\n",
    "### Datetime Formatting\n",
    "Datetime formatting is described with a set of codes. strftime.org is a valuable reference for them all.\n",
    "\n",
    "Some important codes are the ones for four-digit year, zero-padded month, zero-padded day, hour on the 24-hour clock, zero-padded minute, and zero-padded second.\n",
    "\n",
    "Code | Meaning | Example\n",
    ":---|:---|:---\n",
    "`%Y` | Year (4-digit) | 1999\n",
    "`%m` | Month (zero-padded) | 03\n",
    "`%d` | Day (zero-padded) | 01\n",
    "`%H` | Hour (24-hour clock) | 21\n",
    "`%M` | Minute (zero-padded) | 09\n",
    "`%S` | Second (zero-padded) | 05\n",
    "\n",
    "### Parsing Non-Standard Dates\n",
    "Let's use to datetime to parse Part2EndTime. We review the data to build the string format description: `%m%d%Y %H:%M:%S`. We pass the data frame and column to pd to datetime, and supply the format string to the format keyword argument. We reassign the result back to Part2EndTime.\n",
    "```python\n",
    "format_string = '%m%d%Y %H:%M:%S'\n",
    "survey_df['Part2EndTime'] = pd.to_datetime(survey_df['Part2EndTime'],\n",
    "                                           format=format_string)\n",
    "```\n",
    "\n",
    "When we check the column, we see the dates were parsed correctly.\n",
    "\n",
    "```python\n",
    "print(survey_df.Part2EndTime.head())\n",
    "```\n",
    "\n",
    "```\n",
    "0  2016-03-29 21:27:25\n",
    "1  2016-03-29 21:29:10\n",
    "2  2016-03-29 21:28:21\n",
    "3  2016-03-29 21:30:51\n",
    "4  2016-03-29 21:31:54\n",
    "NAme: Part2EndTime, dtype: datatime64[ns]\n",
    "```"
   ]
  },
  {
   "cell_type": "markdown",
   "id": "f208ff8c-4248-4a34-9c71-3b6180a4c6f1",
   "metadata": {},
   "source": [
    "## Parse simple dates\n",
    "`pandas` does not infer that columns contain datetime data; it interprets them as object or string data unless told otherwise. Correctly modeling datetimes is easy when they are in a standard format -- we can use the `parse_dates` argument to tell `read_excel()` to read columns as datetime data.\n",
    "\n",
    "The New Developer Survey responses contain some columns with easy-to-parse timestamps. In this exercise, you'll make sure they're the right data type.\n",
    "\n",
    "- Load `fcc_survey.xlsx`, making sure that the `Part1StartTime` column is parsed as datetime data.\n",
    "- View the first few values of the `survey_data.Part1StartTime` to make sure it contains datetimes.\n",
    "\n",
    "```python\n",
    "# Load file, with Part1StartTime parsed as datetime data\n",
    "survey_data = pd.read_excel(\"fcc_survey.xlsx\", parse_dates=['Part1StartTime'])\n",
    "\n",
    "# Print first few values of Part1StartTime\n",
    "print(survey_data.Part1StartTime.head())\n",
    "```\n",
    "\n",
    "```\n",
    "0   2016-03-29 21:23:13\n",
    "1   2016-03-29 21:24:59\n",
    "2   2016-03-29 21:25:37\n",
    "3   2016-03-29 21:21:37\n",
    "4   2016-03-29 21:26:22\n",
    "Name: Part1StartTime, dtype: datetime64[ns]\n",
    "```"
   ]
  },
  {
   "cell_type": "markdown",
   "id": "5a85fecb-b491-49cf-abe8-f9fbd4ccbd15",
   "metadata": {},
   "source": [
    "*`pandas` can automatically parse many common date and time formats. It can even parse standalone times, without dates, but the parsed times will have the date the code was run.*"
   ]
  },
  {
   "cell_type": "markdown",
   "id": "2fd72307-4bb3-4e2a-b968-c1d4ae8eabc3",
   "metadata": {},
   "source": [
    "## Get datetimes from multiple columns\n",
    "Sometimes, datetime data is split across columns. A dataset might have a date and a time column, or a date may be split into year, month, and day columns.\n",
    "\n",
    "A column in this version of the survey data has been split so that dates are in one column, `Part2StartDate`, and times are in another, `Part2StartTime`. Your task is to use `read_excel()`'s `parse_dates` argument to combine them into one datetime column with a new name.\n",
    "\n",
    "- Create a dictionary, `datetime_cols` indicating that the new column `Part2Start` should consist of `Part2StartDate` and `Part2StartTime`.\n",
    "- Load the survey response file, supplying the dictionary to the `parse_dates` argument to create a new `Part2Start` column.\n",
    "- View summary statistics about the new `Part2Start` column with the `describe()` method."
   ]
  },
  {
   "cell_type": "markdown",
   "id": "1b4377e7-6249-4d5b-9566-3f774d28e40c",
   "metadata": {},
   "source": [
    "```python\n",
    "# Create dict of columns to combine into new datetime column\n",
    "datetime_cols = {'Part2Start': ['Part2StartDate', 'Part2StartTime']}\n",
    "\n",
    "\n",
    "# Load file, supplying the dict to parse_dates\n",
    "survey_data = pd.read_excel('fcc_survey_dts.xlsx',\n",
    "                            parse_dates=datetime_cols)\n",
    "\n",
    "# View summary statistics about Part2Start\n",
    "print(survey_data.Part2Start.describe())\n",
    "```\n",
    "```\n",
    "count                    1000\n",
    "unique                    985\n",
    "top       2016-03-30 01:29:27\n",
    "freq                        2\n",
    "first     2016-03-29 21:24:57\n",
    "last      2016-03-30 09:08:18\n",
    "Name: Part2Start, dtype: object\n",
    "```"
   ]
  },
  {
   "cell_type": "markdown",
   "id": "f92ea1c7-f839-44ff-8114-8ff1051df70e",
   "metadata": {},
   "source": [
    "*Note that the keys in a dictionary passed to `parse_dates` cannot be names of columns already in the data frame. Also, when combining columns to parse, their order in the list does not matter.*"
   ]
  },
  {
   "cell_type": "markdown",
   "id": "91f15dc0-c618-4a2f-9f8c-22c0760a76ef",
   "metadata": {},
   "source": [
    "## Parse non-standard date formats\n",
    "So far, you've parsed dates that `pandas` could interpret automatically. But if a date is in a non-standard format, like 19991231 for December 31, 1999, it can't be parsed at the import stage. Instead, use `pd.to_datetime()` to convert strings to dates after import.\n",
    "\n",
    "The New Developer Survey data has been loaded as `survey_data` but contains an unparsed datetime field. We'll use `to_datetime()` to convert it, passing in the column to convert and a string representing the date format used.\n",
    "\n",
    "For more on date format codes, see [this reference](http://strftime.org/). Some common codes are year (`%Y`), month (`%m`), day (`%d`), hour (`%H`), minute (`%M`), and second (`%S`).\n",
    "\n",
    "#### Question\n",
    "Examine `survey_data`'s `Part2EndTime` column to see the data type and date format. \n",
    "```python\n",
    "print(survey_data.Part2EndTime.head(1))\n",
    "```\n",
    "```\n",
    "0    03292016 21:27:25\n",
    "Name: Part2EndTime, dtype: object\n",
    "```\n",
    "\n",
    "Choose the code that describes the date format in `Part2EndTime`.\n",
    "\n",
    "1. ~`%m%d%Y %H%M%S`~\n",
    "2. ~`%m%d%y %H:%M:%S`~\n",
    "3. **`%m%d%Y %H:%M:%S`**\n",
    "4. ~`%M%D%Y %h:%m:%s`~"
   ]
  },
  {
   "cell_type": "markdown",
   "id": "3c58fb28-5238-4536-845a-f27b5c5ebf1a",
   "metadata": {},
   "source": [
    "- Parse `Part2EndTime` using `pd.to_datetime()`, the `format` keyword argument, and the format string you just identified. Assign the result back to the `Part2EndTime` column.\n",
    "\n",
    "```python\n",
    "# Parse datetimes and assign result back to Part2EndTime\n",
    "survey_data['Part2EndTime'] = pd.to_datetime(survey_data['Part2EndTime'], format='%m%d%Y %H:%M:%S')\n",
    "```\n",
    "\n",
    "- Print the head of `Part2EndTime` to confirm the column now contains datetime values.\n",
    "\n",
    "```python\n",
    "# Parse datetimes and assign result back to Part2EndTime\n",
    "survey_data[\"Part2EndTime\"] = pd.to_datetime(survey_data[\"Part2EndTime\"], format=\"%m%d%Y %H:%M:%S\")\n",
    "\n",
    "# Print first few values of Part2EndTime\n",
    "print(survey_data.Part2EndTime.head())\n",
    "```\n",
    "\n",
    "```\n",
    "0   2016-03-29 21:27:25\n",
    "1   2016-03-29 21:29:10\n",
    "2   2016-03-29 21:28:21\n",
    "3   2016-03-29 21:30:51\n",
    "4   2016-03-29 21:31:54\n",
    "Name: Part2EndTime, dtype: datetime64[ns]\n",
    "```"
   ]
  },
  {
   "cell_type": "markdown",
   "id": "b1d379a7-4bf8-438e-988f-ad1bc383e726",
   "metadata": {},
   "source": [
    "*Datetime information comes in a variety of formats, and having the skills to parse them lets you perform time-specific operations like calculating intervals.*"
   ]
  },
  {
   "cell_type": "code",
   "execution_count": null,
   "id": "42fdd6ce-c647-4aef-9b22-6d85410f47d6",
   "metadata": {},
   "outputs": [],
   "source": []
  }
 ],
 "metadata": {
  "kernelspec": {
   "display_name": "Python 3",
   "language": "python",
   "name": "python3"
  },
  "language_info": {
   "codemirror_mode": {
    "name": "ipython",
    "version": 3
   },
   "file_extension": ".py",
   "mimetype": "text/x-python",
   "name": "python",
   "nbconvert_exporter": "python",
   "pygments_lexer": "ipython3",
   "version": "3.8.8"
  }
 },
 "nbformat": 4,
 "nbformat_minor": 5
}
