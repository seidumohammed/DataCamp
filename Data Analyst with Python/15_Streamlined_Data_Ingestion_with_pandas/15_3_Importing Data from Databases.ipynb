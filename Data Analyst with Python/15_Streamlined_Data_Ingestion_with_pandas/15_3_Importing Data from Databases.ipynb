{
 "cells": [
  {
   "cell_type": "markdown",
   "id": "3f578061-7517-41a0-a372-c3969be25785",
   "metadata": {},
   "source": [
    "# 3. Importing Data from Databases\n",
    "**Combine pandas with the powers of SQL to find out just how many problems New Yorkers have with their housing. This chapter features introductory SQL topics like WHERE clauses, aggregate functions, and basic joins.**\n",
    "\n",
    "## Introduction to databases\n",
    "In this chapter, you'll learn to build pipelines to relational databases, which underpin the information systems of many organizations.\n",
    "\n",
    "### Relational Databases\n",
    "Relational databases organize data about entities in tables, with rows representing instances of entities and columns of attributes. This probably sounds familiar -- data frames, flat files, and many Excel sheets arrange data similarly. Relational databases differ in that tables can be linked, or related, via unique record identifiers, or keys. Databases handle more data and support more simultaneous users than spreadsheets or flat files. They also offer more data quality controls, like enforcing column data types. And we interface with databases via a specific language: Structured Query Language, or SQL.\n",
    "\n",
    "### Common Relational Databases\n",
    "Common relational databases include Microsoft SQL Server, Oracle, PostgreSQL, and SQLite, which this course uses. Unlike the others, SQLite databases are stored as regular, self-contained computer files, just as CSVs and Excel files are, making them great for sharing data.\n",
    "\n",
    "### Connecting to Databases\n",
    "Reading data from a database is a two-step process. We first make a way to connect to a database then query it with SQL and pandas.\n",
    "\n",
    "### Creating a Database Engine\n",
    "To do this, we'll use the `SQLAlchemy` library, which has tools to work with many major relational databases. Specifically, we'll use `SQLAlchemy`'s `create_engine()` function. Create engine takes a string URL to a database and makes an engine object that manages database connections. URLs follow a pattern that varies slightly depending on the database. For SQLite, the pattern is `sqlite:///filename.db`.\n",
    "\n",
    "### Querying Databases\n",
    "Once we create the database engine, we can pull data with pandas' read SQL function. \n",
    "```python\n",
    "pd.read_sql(query, engine)\n",
    "```\n",
    "Read SQL needs two arguments. The first is a string of either a SQL query, or, to load a whole table, just the table name. The second argument is a way to connect to the database. We'll supply the engine we made here.\n",
    "\n",
    "### SQL Review: SELECT\n",
    "Let's take a minute to review SQL select statements, which are used to query databases. The basic syntax is `SELECT column_names FROM table_name`. This will get all rows for the specified columns. To get all rows and all columns, use `SELECT * FROM tabel_name` A note about code style: keywords like \"select\" and \"from\" are not case sensitive, but it's conventional to type them in **all capital letters**. It's also best practice to mark the end of a SQL statement with a semicolon(;).\n",
    "\n",
    "### Getting Data from a Database\n",
    "Now let's put all this together to fetch weather data from a SQLite database containing information about New York City. We import pandas as pd, plus the create engine function from SQLAlchemy. Then we make the engine object, passing the database URL string, sqlite colon slash slash slash data dot db, to the create engine function. "
   ]
  },
  {
   "cell_type": "code",
   "execution_count": 3,
   "id": "c4bf60aa-e3ea-480c-b146-5e683ce3248e",
   "metadata": {},
   "outputs": [],
   "source": [
    "# Load pandas and sqlalchemy's create_engine\n",
    "import pandas as pd\n",
    "from sqlalchemy import create_engine\n",
    "\n",
    "# Create database engine to manage connections\n",
    "engine = create_engine('sqlite:///data.db')\n",
    "\n",
    "# Load entire weather table by table name\n",
    "weather = pd.read_sql('weather', engine)"
   ]
  },
  {
   "cell_type": "markdown",
   "id": "2ff8f3ba-84e5-4dcb-bdb7-a2b37e93238e",
   "metadata": {},
   "source": [
    "Since we want everything in the weather table, we can make the first argument to read SQL the table name as a string, or we can use the SQL statement \"select star from weather\" as the first argument. We also supply the engine object as the second argument. Then we can check out our new data frame."
   ]
  },
  {
   "cell_type": "code",
   "execution_count": 4,
   "id": "6e9c06c8-fe9d-40d5-8f82-1285610600da",
   "metadata": {},
   "outputs": [
    {
     "name": "stdout",
     "output_type": "stream",
     "text": [
      "       station                         name  latitude  longitude  elevation  \\\n",
      "0  USW00094728  NY CITY CENTRAL PARK, NY US  40.77898  -73.96925       42.7   \n",
      "1  USW00094728  NY CITY CENTRAL PARK, NY US  40.77898  -73.96925       42.7   \n",
      "2  USW00094728  NY CITY CENTRAL PARK, NY US  40.77898  -73.96925       42.7   \n",
      "3  USW00094728  NY CITY CENTRAL PARK, NY US  40.77898  -73.96925       42.7   \n",
      "4  USW00094728  NY CITY CENTRAL PARK, NY US  40.77898  -73.96925       42.7   \n",
      "\n",
      "         date     month  awnd  prcp  snow tavg  tmax  tmin  \n",
      "0  12/01/2017  December  5.37  0.00   0.0         52    42  \n",
      "1  12/02/2017  December  3.13  0.00   0.0         48    39  \n",
      "2  12/03/2017  December  2.01  0.00   0.0         48    42  \n",
      "3  12/04/2017  December  3.58  0.00   0.0         51    40  \n",
      "4  12/05/2017  December  6.71  0.75   0.0         61    50  \n"
     ]
    }
   ],
   "source": [
    "# Load entire weather table with SQL\n",
    "weather = pd.read_sql('SELECT * FROM weather', engine)\n",
    "\n",
    "print(weather.head())"
   ]
  },
  {
   "cell_type": "markdown",
   "id": "9cc67bfc-f535-42b0-a1e7-fdba3615882e",
   "metadata": {},
   "source": [
    "## Connect to a database\n",
    "In order to get data from a database with `pandas`, you first need to be able to connect to one. In this exercise, you'll practice creating a database engine to manage connections to a database, `data.db`. To do this, you'll use `sqlalchemy`'s `create_engine()` function.\n",
    "\n",
    "`create_engine()` needs a string URL to the database. For SQLite databases, that string consists of `\"sqlite:///\"`, then the database file name."
   ]
  },
  {
   "cell_type": "markdown",
   "id": "6491c12e-1115-416f-9ff8-7dadd0e836d6",
   "metadata": {},
   "source": [
    "- Use `create_engine()` to make a database engine for `data.db`.\n",
    "- Run the last line of code to show the names of the tables in the database."
   ]
  },
  {
   "cell_type": "code",
   "execution_count": 5,
   "id": "d90ac9a4-c314-4d36-8fcd-b5024fe7972f",
   "metadata": {},
   "outputs": [
    {
     "name": "stdout",
     "output_type": "stream",
     "text": [
      "['boro_census', 'hpd311calls', 'weather']\n"
     ]
    }
   ],
   "source": [
    "# Import sqlalchemy's create_engine() function\n",
    "from sqlalchemy import create_engine\n",
    "\n",
    "# Create the database engine\n",
    "engine = create_engine('sqlite:///data.db')\n",
    "\n",
    "# View the tables in the database\n",
    "print(engine.table_names())"
   ]
  },
  {
   "cell_type": "markdown",
   "id": "96c77c29-2e5a-4554-a010-28c911ef11d7",
   "metadata": {},
   "source": [
    "*`sqlalchemy` is a powerful library that can be used with `pandas` to both query databases for analysis and write results back to database tables.*"
   ]
  },
  {
   "cell_type": "markdown",
   "id": "4bb93b5c-ebe9-4add-a00c-9f7758f3853f",
   "metadata": {},
   "source": [
    "## Load entire tables\n",
    "In the last exercise, you saw that `data.db` has two tables. `weather` has historical weather data for New York City. `hpd311calls` is a subset of call records made to the city's 311 help line about housing issues.\n",
    "\n",
    "In this exercise, you'll use the `read_sql()` function in `pandas` to load both tables. `read_sql()` accepts a string of either a SQL query to run, or a table to load. It also needs a way to connect to the database, like the `engine` in the provided code."
   ]
  },
  {
   "cell_type": "markdown",
   "id": "d72d75f5-4a5a-455a-9473-855b5fecaa2a",
   "metadata": {},
   "source": [
    "- Use `read_sql()` to load the `hpd311calls` table by name, without any SQL."
   ]
  },
  {
   "cell_type": "code",
   "execution_count": 6,
   "id": "e27edfa8-1027-4db7-8e50-af40e075932b",
   "metadata": {},
   "outputs": [
    {
     "name": "stdout",
     "output_type": "stream",
     "text": [
      "  unique_key created_date agency  complaint_type incident_zip  \\\n",
      "0   38070822   01/01/2018    HPD  HEAT/HOT WATER        10468   \n",
      "1   38065299   01/01/2018    HPD        PLUMBING        10003   \n",
      "2   38066653   01/01/2018    HPD  HEAT/HOT WATER        10452   \n",
      "3   38070264   01/01/2018    HPD  HEAT/HOT WATER        10032   \n",
      "4   38072466   01/01/2018    HPD  HEAT/HOT WATER        11213   \n",
      "\n",
      "       incident_address community_board    borough  \n",
      "0    2786 JEROME AVENUE        07 BRONX      BRONX  \n",
      "1  323 EAST   12 STREET    03 MANHATTAN  MANHATTAN  \n",
      "2  1235 GRAND CONCOURSE        04 BRONX      BRONX  \n",
      "3  656 WEST  171 STREET    12 MANHATTAN  MANHATTAN  \n",
      "4       1030 PARK PLACE     08 BROOKLYN   BROOKLYN  \n"
     ]
    }
   ],
   "source": [
    "# Create the database engine\n",
    "engine = create_engine('sqlite:///data.db')\n",
    "\n",
    "# Load hpd311calls without any SQL\n",
    "hpd_calls = pd.read_sql('hpd311calls', engine)\n",
    "\n",
    "# View the first few rows of data\n",
    "print(hpd_calls.head())"
   ]
  },
  {
   "cell_type": "markdown",
   "id": "0d97f812-b9b1-4aa3-8db2-b902b8a13d18",
   "metadata": {},
   "source": [
    "- Use `read_sql()` and a `SELECT * ...` SQL query to load the entire `weather` table."
   ]
  },
  {
   "cell_type": "code",
   "execution_count": 7,
   "id": "6cb93b18-e736-4de0-8f91-0cda016dabae",
   "metadata": {},
   "outputs": [
    {
     "name": "stdout",
     "output_type": "stream",
     "text": [
      "       station                         name  latitude  longitude  elevation  \\\n",
      "0  USW00094728  NY CITY CENTRAL PARK, NY US  40.77898  -73.96925       42.7   \n",
      "1  USW00094728  NY CITY CENTRAL PARK, NY US  40.77898  -73.96925       42.7   \n",
      "2  USW00094728  NY CITY CENTRAL PARK, NY US  40.77898  -73.96925       42.7   \n",
      "3  USW00094728  NY CITY CENTRAL PARK, NY US  40.77898  -73.96925       42.7   \n",
      "4  USW00094728  NY CITY CENTRAL PARK, NY US  40.77898  -73.96925       42.7   \n",
      "\n",
      "         date     month  awnd  prcp  snow tavg  tmax  tmin  \n",
      "0  12/01/2017  December  5.37  0.00   0.0         52    42  \n",
      "1  12/02/2017  December  3.13  0.00   0.0         48    39  \n",
      "2  12/03/2017  December  2.01  0.00   0.0         48    42  \n",
      "3  12/04/2017  December  3.58  0.00   0.0         51    40  \n",
      "4  12/05/2017  December  6.71  0.75   0.0         61    50  \n"
     ]
    }
   ],
   "source": [
    "# Create the database engine\n",
    "engine = create_engine(\"sqlite:///data.db\")\n",
    "\n",
    "# Create a SQL query to load the entire weather table\n",
    "query = \"\"\"\n",
    "SELECT * \n",
    "  FROM weather;\n",
    "\"\"\"\n",
    "\n",
    "# Load weather with the SQL query\n",
    "weather = pd.read_sql(query, engine)\n",
    "\n",
    "# View the first few rows of data\n",
    "print(weather.head())"
   ]
  },
  {
   "cell_type": "markdown",
   "id": "511ee6a2-eec0-47fa-b6d6-66e988481529",
   "metadata": {},
   "source": [
    "*While it's convenient to load tables by name alone, using SQL queries makes it possible to fine-tune imports at the data acquisition phase of an analysis project.*"
   ]
  },
  {
   "cell_type": "markdown",
   "id": "fe2d4313-ad72-4f96-8937-6d0cdde29de2",
   "metadata": {},
   "source": [
    "---\n",
    "## Refining imports with SQL queries\n",
    "Now that you know how to connect to a database and query it with pandas, let's focus on refining imports with different SQL queries.\n",
    "\n",
    "### SELECTing Columns\n",
    "pandas' read SQL function has fewer arguments than read Excel or read CSV, but SQL lets you customize data imports in even more ways. The last lesson mentioned one such way. Specifying columns in a select statement lets you load only variables you are interested in studying, akin to usecols in read Excel and read CSV. \n",
    "\n",
    "The statement \"select date, t average from weather\", \n",
    "```sql\n",
    "SELECT date, tavg\n",
    "FROM weather;\n",
    "```\n",
    "for example, gets only the date and average temperatures in the weather table.\n",
    "\n",
    "### WHERE Clauses\n",
    "The other common way to selectively get data with SQL is by using a where clause to filter rows. The syntax looks like \"select columns from table where\" a given condition or conditions are met.\n",
    "\n",
    "### Filtering by Numbers\n",
    "To import records based on numeric values, we can use standard operators to compare numbers: equals, greater than and greater than or equal to, less than and less than or equal to, and not equal to. Note that SQL's equality and inequality operators differ from Python's. The weather data contains Fahrenheit temperatures, so the SQL query to get all days with a high temperature above freezing would be \"select star from weather where t max is greater than 32.\"\n",
    "```sql\n",
    "SELECT *\n",
    "FROM weather\n",
    "WHERE tmax > 32;\n",
    "```\n",
    "\n",
    "### Filtering Text\n",
    "Where clauses can also filter text. To match a string exactly, use the equal sign followed by the text to match in single quotes. Note that string matching is case sensitive. To get call records about incidents in the borough of Brooklyn, for example, the query would be \"select star from hpd311calls where borough equals Brooklyn\", with Brooklyn in single quotes.\n",
    "```sql\n",
    "/* Get records about incidents in Brooklyn */\n",
    "SELECT *\n",
    "FROM hpd311calls\n",
    "WHERE borough = 'BROOKYN';\n",
    "```\n",
    "\n",
    "### SQL and pandas\n",
    "Let's combine SQL and Python to get Brooklyn calls. As before, we import pandas and SQLalchemy's create engine function. We pass create engine the URL to data dot db and assign the result to engine. Since our SQL queries are getting more complicated, we'll write out the query first and assign it to the variable \"query.\" Wrapping the string in triple quotes lets us split it between multiple lines so it's easier to read. Then we pass the query and engine to read SQL. When we check the unique borough values in the resulting data frame, we see there are only Brooklyn calls."
   ]
  },
  {
   "cell_type": "code",
   "execution_count": 9,
   "id": "a4b09dbb-a634-499a-ab54-17f9fddf6215",
   "metadata": {},
   "outputs": [
    {
     "name": "stdout",
     "output_type": "stream",
     "text": [
      "['BROOKLYN']\n"
     ]
    }
   ],
   "source": [
    "# Create database engine\n",
    "engine = create_engine('sqlite:///data.db')\n",
    "\n",
    "# Write query to get records from Brooklyn\n",
    "query = \"\"\"\n",
    "SELECT *\n",
    "FROM hpd311calls\n",
    "WHERE borough = 'BROOKLYN';\n",
    "\"\"\"\n",
    "\n",
    "# Query the database\n",
    "brooklyn_calls = pd.read_sql(query, engine)\n",
    "print( brooklyn_calls.borough.unique())"
   ]
  },
  {
   "cell_type": "markdown",
   "id": "3b5805ff-1e5d-4ac4-ac88-4b30758fa6b1",
   "metadata": {},
   "source": [
    "### Combining Conditions: AND\n",
    "We can even combine conditions with SQL's and and or operators. And returns only records where all conditions are true. For example, if we create the query \"select star from hpd311calls where borough equals Bronx and complaint type equals plumbing\", then pass the query and engine to read SQL, we get the 2,016 call records about plumbing from the Bronx.\n"
   ]
  },
  {
   "cell_type": "code",
   "execution_count": 11,
   "id": "dd1b8a16-a0ec-4132-a53d-7cfcba6e882d",
   "metadata": {},
   "outputs": [
    {
     "name": "stdout",
     "output_type": "stream",
     "text": [
      "(2016, 8)\n"
     ]
    }
   ],
   "source": [
    "# Write query to get records about plumbing in the Bronx\n",
    "and_query = \"\"\"\n",
    "SELECT *\n",
    "  FROM hpd311calls\n",
    " WHERE borough = 'BRONX'\n",
    "   AND complaint_type = 'PLUMBING';\n",
    "\"\"\"\n",
    "\n",
    "# Get calls about plumbing issues in the Bronx\n",
    "bx_plumbing_calls = pd.read_sql(and_query, engine)\n",
    "\n",
    "# Check record count\n",
    "print(bx_plumbing_calls.shape)"
   ]
  },
  {
   "cell_type": "markdown",
   "id": "bfc3d809-f12a-45ec-89d1-71df094a75d5",
   "metadata": {},
   "source": [
    "\n",
    "### Combining Conditions: OR\n",
    "The or operator returns records with at least one met condition. If we change our query to get records that are about plumbing or water leaks, we get 10,684 records that meet one or both conditions."
   ]
  },
  {
   "cell_type": "code",
   "execution_count": 12,
   "id": "4f7a5689-9076-40e2-84e1-f51831a8e6cd",
   "metadata": {},
   "outputs": [
    {
     "name": "stdout",
     "output_type": "stream",
     "text": [
      "(10684, 8)\n"
     ]
    }
   ],
   "source": [
    "# Write query to get records about water leaks or plumbing\n",
    "or_query = \"\"\"\n",
    "SELECT *\n",
    "  FROM hpd311calls\n",
    " WHERE complaint_type = 'WATER LEAK'\n",
    "    OR complaint_type = 'PLUMBING';\n",
    "\"\"\"\n",
    "\n",
    "# Get calls about plumbing issues in the Bronx\n",
    "leaks_or_plumbing = pd.read_sql(or_query, engine)\n",
    "\n",
    "# Check record count\n",
    "print(leaks_or_plumbing.shape)"
   ]
  },
  {
   "cell_type": "markdown",
   "id": "84ba1d18-6172-4e58-bb8d-f67a3635fd88",
   "metadata": {},
   "source": [
    "## Selecting columns with SQL\n",
    "Datasets can contain columns that are not required for an analysis, like the `weather` table in `data.db` does. Some, such as elevation, are redundant, since all observations occurred at the same place, while others contain variables we are not interested in. After making a database engine, you'll write a query to `SELECT `only the date and temperature columns, and pass both to `read_sql()` to make a data frame of high and low temperature readings.\n",
    "\n",
    "**Note**: The SQL checker is quite picky about column positions and expects fields to be selected in the specified order."
   ]
  },
  {
   "cell_type": "markdown",
   "id": "9520d249-57eb-4fee-9d39-f1e240c50956",
   "metadata": {},
   "source": [
    "- Create a database engine for `data.db`.\n",
    "- Write a SQL query that `SELECT`s the `date`, `tmax`, and `tmin` columns from the `weather` table.\n",
    "- Make a data frame by passing the query and engine to `read_sql()` and assign the resulting data frame to `temperatures`."
   ]
  },
  {
   "cell_type": "code",
   "execution_count": 13,
   "id": "3c33a503-3658-4bd5-8fb2-a1c9409a1eed",
   "metadata": {},
   "outputs": [
    {
     "name": "stdout",
     "output_type": "stream",
     "text": [
      "           date  tmax  tmin\n",
      "0    12/01/2017    52    42\n",
      "1    12/02/2017    48    39\n",
      "2    12/03/2017    48    42\n",
      "3    12/04/2017    51    40\n",
      "4    12/05/2017    61    50\n",
      "..          ...   ...   ...\n",
      "116  03/27/2018    47    34\n",
      "117  03/28/2018    52    38\n",
      "118  03/29/2018    53    49\n",
      "119  03/30/2018    62    44\n",
      "120  03/31/2018    58    39\n",
      "\n",
      "[121 rows x 3 columns]\n"
     ]
    }
   ],
   "source": [
    "# Create database engine for data.db\n",
    "engine = create_engine('sqlite:///data.db')\n",
    "\n",
    "# Write query to get date, tmax, and tmin from weather\n",
    "query = \"\"\"\n",
    "SELECT date, \n",
    "       tmax, \n",
    "       tmin\n",
    "  FROM weather;\n",
    "\"\"\"\n",
    "\n",
    "# Make a data frame by passing query and engine to read_sql()\n",
    "temperatures = pd.read_sql(query, engine)\n",
    "\n",
    "# View the resulting data frame\n",
    "print(temperatures)"
   ]
  },
  {
   "cell_type": "markdown",
   "id": "2fd6f95b-0a10-4e66-8a26-e351828c81d3",
   "metadata": {},
   "source": [
    "*Selecting columns is useful when you only want a few columns from a table. If you want most of the columns, it may be easier to load them all and then use `pandas` to drop unwanted columns.*"
   ]
  },
  {
   "cell_type": "markdown",
   "id": "1f7df388-2018-4d8a-ae6a-3feeb0f11e97",
   "metadata": {},
   "source": [
    "## Selecting rows\n",
    "SQL `WHERE` clauses return records whose values meet the given criteria. Passing such a query to `read_sql()` results in a data frame loaded with only records we are interested in, so there is less filtering to do later on.\n",
    "\n",
    "The `hpd311calls` table in `data.db` has data on calls about various housing issues, from maintenance problems to information requests. In this exercise, you'll use SQL to focus on calls about safety.\n",
    "\n",
    "- Create a query that selects all columns of records in `hpd311calls` that have `'SAFETY'` as their `complaint_type`.\n",
    "- Use `read_sql()` to query the database and assign the result to the variable `safety_calls`.\n",
    "- Run the last section of code to create a graph of safety call counts in each borough."
   ]
  },
  {
   "cell_type": "code",
   "execution_count": 14,
   "id": "f3c6d689-d62e-466b-8894-d2d7f7cce15a",
   "metadata": {},
   "outputs": [
    {
     "data": {
      "image/png": "[encoded data removed]",
      "text/plain": [
       "<Figure size 432x288 with 1 Axes>"
      ]
     },
     "metadata": {
      "needs_background": "light"
     },
     "output_type": "display_data"
    }
   ],
   "source": [
    "import matplotlib.pyplot as plt\n",
    "\n",
    "# Create query to get hpd311calls records about safety\n",
    "query = \"\"\"\n",
    "SELECT *\n",
    "  FROM hpd311calls\n",
    " WHERE complaint_type = 'SAFETY';\n",
    "\"\"\"\n",
    "\n",
    "# Query the database and assign result to safety_calls\n",
    "safety_calls = pd.read_sql(query, engine)\n",
    "\n",
    "# Graph the number of safety calls by borough\n",
    "call_counts = safety_calls.groupby('borough').unique_key.count()\n",
    "call_counts.plot.barh()\n",
    "plt.show()"
   ]
  },
  {
   "cell_type": "markdown",
   "id": "78382fa5-69f1-4f7c-bf77-c37a69e4543c",
   "metadata": {},
   "source": [
    "*Filtering data before importing can help you focus on specific records, but it can also be used as a data cleaning technique to exclude records with known errors or missing values.*"
   ]
  },
  {
   "cell_type": "markdown",
   "id": "30bacbe9-200d-4428-bd4c-745e2ae13c7b",
   "metadata": {},
   "source": [
    "## Filtering on multiple conditions\n",
    "So far, you've selectively imported records that met a single condition, but it's also common to filter datasets on multiple criteria. In this exercise, you'll do just that.\n",
    "\n",
    "The `weather` table contains daily high and low temperatures and precipitation amounts for New York City. Let's focus on inclement weather, where there was either an inch or more of snow or the high was at or below freezing (32° Fahrenheit). To do this, you'll need to build a query that uses the `OR` operator to look at values in both columns.\n",
    "\n",
    "- Create a query that selects records in `weather` where `tmax` is less than or equal to 32 degrees `OR` `snow` is greater than or equal to 1 inch.\n",
    "- Use `read_sql()` to query the database and assign the result to the variable `wintry_days`.\n",
    "- View summary statistics with the `describe()` method to make sure all records in the data frame meet the given criteria."
   ]
  },
  {
   "cell_type": "code",
   "execution_count": 15,
   "id": "a78eef28-26ea-43a7-a527-783ae38dc86a",
   "metadata": {},
   "outputs": [
    {
     "name": "stdout",
     "output_type": "stream",
     "text": [
      "           latitude     longitude     elevation       awnd      prcp  \\\n",
      "count  2.500000e+01  2.500000e+01  2.500000e+01  25.000000  25.00000   \n",
      "mean   4.077898e+01 -7.396925e+01  4.270000e+01   7.739600   0.17600   \n",
      "std    2.175584e-14  4.351168e-14  1.450389e-14   2.621778   0.36947   \n",
      "min    4.077898e+01 -7.396925e+01  4.270000e+01   3.130000   0.00000   \n",
      "25%    4.077898e+01 -7.396925e+01  4.270000e+01   5.820000   0.00000   \n",
      "50%    4.077898e+01 -7.396925e+01  4.270000e+01   7.830000   0.00000   \n",
      "75%    4.077898e+01 -7.396925e+01  4.270000e+01   9.170000   0.09000   \n",
      "max    4.077898e+01 -7.396925e+01  4.270000e+01  12.970000   1.41000   \n",
      "\n",
      "            snow       tmax       tmin  \n",
      "count  25.000000  25.000000  25.000000  \n",
      "mean    1.332000  27.320000  17.160000  \n",
      "std     2.685256   7.122266   7.673982  \n",
      "min     0.000000  13.000000   5.000000  \n",
      "25%     0.000000  22.000000  11.000000  \n",
      "50%     0.000000  28.000000  17.000000  \n",
      "75%     1.200000  31.000000  20.000000  \n",
      "max     9.800000  40.000000  33.000000  \n"
     ]
    }
   ],
   "source": [
    "# Create query for records with max temps <= 32 or snow >= 1\n",
    "query = \"\"\"\n",
    "SELECT *\n",
    "  FROM weather\n",
    " WHERE tmax <= 32\n",
    "    OR snow >= 1;\n",
    "\"\"\"\n",
    "\n",
    "# Query database and assign result to wintry_days\n",
    "wintry_days = pd.read_sql(query, engine)\n",
    "\n",
    "# View summary stats about the temperatures\n",
    "print(wintry_days.describe())"
   ]
  },
  {
   "cell_type": "markdown",
   "id": "4c3b834c-8117-4f74-a00b-282c67b63d60",
   "metadata": {},
   "source": [
    "*`SELECT` statements can use multiple `AND` and `OR` operators to filter data. Like arithmetic, you can control the order of operations with parentheses.*"
   ]
  },
  {
   "cell_type": "markdown",
   "id": "92de3268-84fb-42b3-9dcd-414d73ba63ec",
   "metadata": {},
   "source": [
    "---\n",
    "## More complex SQL queries\n",
    "The SQL we've used so far mimics the functionality of `pandas` keyword arguments like `usecols` and `skiprows`. In this lesson, we'll take advantage of SQL's features to wrangle data in ways that cannot be done at the import stage using pandas alone.\n",
    "\n",
    "### Getting DISTINCT Values\n",
    "In an analysis, you might need unique values in a column, or unique combinations of values across several columns. Examples include getting unique values to check data quality and creating crosswalks between values to combine datasets. Alternatively, data might have duplicate records that should be excluded. Pandas has tools to do this wrangling in data frames, but it can be done with SQL during import using select distinct. The syntax is \"select distinct column names from table\". To remove duplicate records, select distinct on all columns with the query \"select distinct star from table\". For another example, if we wanted to map buildings with housing complaints, we could use the query \"select distinct incident address, borough from hpd311calls\" to get unique street addresses and boroughs.\n",
    "\n",
    "```sql\n",
    "/* Get unique street addresses and boroughs */\n",
    "SELECT DISTINCT incident_address, borough\n",
    "  FROM hpd311calls;\n",
    "```\n",
    "\n",
    "\n",
    "\n",
    "### Aggregate Functions\n",
    "Other times, you might not be interested in the details of individual records, particularly when visualizing data. You can query the database directly for descriptive statistics with aggregate functions like sum, average, max, min, and count.\n",
    "\n",
    "The first four functions all take a single column name in parentheses. For example, the query \"select average t max from weather\", with tmax in parentheses, returns the average daily high temperature. Count is a little different. While it can accept a single column name, you can do things like get the number of rows that fit a query with count star, or even get the number of unique values in a column with count distinct and the column name.\n",
    "\n",
    "### GROUP BY\n",
    "Aggregate functions return a single number on their own. More likely, you want data summarized by categories, such as average high temperatures by month or counts of plumbing complaints by borough. In that case, add a group by clause after the select statement and where clauses. Remember to select the column you're grouping by as well as the aggregate function -- otherwise you'll end up with unlabeled summary figures for each group. The query to get counts of plumbing complaints by borough, for example, would be \"select borough, count star from hpd311calls where complaint type equals plumbing, group by borough\"\n",
    "```sql\n",
    "/* Get counts of plumbing calls by borough */\n",
    "SELECT borough,\n",
    "       COUNT(*)\n",
    "  FROM hpd311calls\n",
    " WHERE complaint_type = 'PLUMBING'\n",
    " GROUP BY borough;\n",
    "```\n",
    "\n",
    "### Counting by Groups\n",
    "Let's see what the results of that query look like in a data frame. With the necessary libraries imported, we create the engine, write out the query, then pass the query and engine to pandas' read SQL function.\n",
    "\n",
    "When we check the results, we see we have a neat summary data frame ready for plotting."
   ]
  },
  {
   "cell_type": "code",
   "execution_count": 16,
   "id": "a7549ac5-4d4a-4b90-9be7-27b9d00dc667",
   "metadata": {},
   "outputs": [
    {
     "name": "stdout",
     "output_type": "stream",
     "text": [
      "         borough  COUNT(*)\n",
      "0          BRONX      2016\n",
      "1       BROOKLYN      2702\n",
      "2      MANHATTAN      1413\n",
      "3         QUEENS       808\n",
      "4  STATEN ISLAND       178\n"
     ]
    }
   ],
   "source": [
    "# Create database engine\n",
    "engine = create_engine('sqlite:///data.db')\n",
    "\n",
    "# Write query to get plumbing call counts by borough\n",
    "query = \"\"\"\n",
    "SELECT borough, COUNT(*)\n",
    "  FROM hpd311calls\n",
    " WHERE complaint_type = 'PLUMBING'\n",
    " GROUP BY borough;\n",
    "\"\"\"\n",
    "\n",
    "# Query database and create data frame\n",
    "plumbing_call_counts = pd.read_sql(query, engine)\n",
    "\n",
    "print(plumbing_call_counts)"
   ]
  },
  {
   "cell_type": "markdown",
   "id": "81b63ad7-0954-4148-a4e6-611412333bb4",
   "metadata": {},
   "source": [
    "## Getting distinct values\n",
    "Sometimes an analysis doesn't need every record, but rather unique values in one or more columns. Duplicate values can be removed after loading data into a data frame, but it can also be done at import with SQL's `DISTINCT` keyword.\n",
    "\n",
    "Since `hpd311calls` contains data about housing issues, we would expect most records to have a borough listed. Let's test this assumption by querying unique `complaint_type`/`borough` combinations.\n",
    "\n",
    "**Note**: The SQL checker is quite picky about column positions and expects fields to be selected in the specified order."
   ]
  },
  {
   "cell_type": "markdown",
   "id": "6f483adb-19c7-41f2-b5e3-70a0f3acaf17",
   "metadata": {},
   "source": [
    "- Create a query that gets `DISTINCT` values for `borough` and `complaint_type` (in that order) from `hpd311calls`.\n",
    "- Use `read_sql()` to load the results of the query to a data frame, `issues_and_boros`.\n",
    "- Print the data frame to check if the assumption that all issues besides literature requests appear with boroughs listed."
   ]
  },
  {
   "cell_type": "code",
   "execution_count": 17,
   "id": "5b817ce6-c238-4c2a-98b5-ad0a6df351a1",
   "metadata": {},
   "outputs": [
    {
     "name": "stdout",
     "output_type": "stream",
     "text": [
      "          borough    complaint_type\n",
      "0           BRONX    HEAT/HOT WATER\n",
      "1       MANHATTAN          PLUMBING\n",
      "2       MANHATTAN    HEAT/HOT WATER\n",
      "3        BROOKLYN    HEAT/HOT WATER\n",
      "4          QUEENS    HEAT/HOT WATER\n",
      "..            ...               ...\n",
      "60      MANHATTAN  OUTSIDE BUILDING\n",
      "61      MANHATTAN          ELEVATOR\n",
      "62       BROOKLYN  OUTSIDE BUILDING\n",
      "63  STATEN ISLAND            SAFETY\n",
      "64  STATEN ISLAND  OUTSIDE BUILDING\n",
      "\n",
      "[65 rows x 2 columns]\n"
     ]
    }
   ],
   "source": [
    "# Create query for unique combinations of borough and complaint_type\n",
    "query = \"\"\"\n",
    "SELECT DISTINCT borough, complaint_type\n",
    "  FROM hpd311calls;\n",
    "\"\"\"\n",
    "\n",
    "# Load results of query to a data frame\n",
    "issues_and_boros = pd.read_sql(query, engine)\n",
    "\n",
    "# Check assumption about issues and boroughs\n",
    "print(issues_and_boros)"
   ]
  },
  {
   "cell_type": "markdown",
   "id": "01333eaf-c6dd-45cd-a3ee-44718b3eeeb8",
   "metadata": {},
   "source": [
    "*Looks like the only issues with no borough are requests for information, rather than housing complaints, which is okay. `SELECT DISTINCT` queries can be an easy way to find data quality issues like misspelled values or combinations of values that violate assumptions.*"
   ]
  },
  {
   "cell_type": "markdown",
   "id": "50af4f2b-ef52-410c-87ea-9099b0566edc",
   "metadata": {},
   "source": [
    "## Counting in groups\n",
    "In previous exercises, you pulled data from tables, then summarized the resulting data frames in `pandas` to create graphs. By using `COUNT` and `GROUP BY` in a SQL query, we can pull those summary figures from the database directly.\n",
    "\n",
    "The `hpd311calls` table has a column, `complaint_type`, that categorizes call records by issue, such as heating or plumbing. In order to graph call volumes by issue, you'll write a SQL query that `COUNT`s records by complaint type.\n",
    "\n",
    "- Create a SQL query that gets the `complaint_type` column and counts of all records from `hpd311calls`, grouped by `complaint_type`.\n",
    "- Create a data frame with `read_sql()` of call counts by issue, `calls_by_issue`.\n",
    "- Run the last section of code to graph the number of calls for each housing issue."
   ]
  },
  {
   "cell_type": "code",
   "execution_count": 18,
   "id": "867cdd13-9306-4c54-a8e2-87a178b664bd",
   "metadata": {},
   "outputs": [
    {
     "data": {
      "image/png": "[encoded data removed]",
      "text/plain": [
       "<Figure size 432x288 with 1 Axes>"
      ]
     },
     "metadata": {
      "needs_background": "light"
     },
     "output_type": "display_data"
    }
   ],
   "source": [
    "# Create query to get call counts by complaint_type\n",
    "query = \"\"\"\n",
    "SELECT complaint_type, \n",
    "       COUNT(*)\n",
    "  FROM hpd311calls\n",
    " GROUP BY complaint_type;\n",
    "\"\"\"\n",
    "\n",
    "# Create data frame of call counts by issue\n",
    "calls_by_issue = pd.read_sql(query, engine)\n",
    "\n",
    "# Graph the number of calls for each housing issue\n",
    "calls_by_issue.plot.barh(x='complaint_type')\n",
    "plt.show()"
   ]
  },
  {
   "cell_type": "markdown",
   "id": "c12c9446-8042-4ca6-87ff-a742af0dd96e",
   "metadata": {},
   "source": [
    "*Calls about heat and hot water issues vastly outnumber calls about all other issues. The data subset in the table comes from the winter, so this makes sense.*"
   ]
  },
  {
   "cell_type": "markdown",
   "id": "08cc1048-bb3f-4865-982d-9a2d065e3363",
   "metadata": {},
   "source": [
    "## Working with aggregate functions\n",
    "If a table contains data with higher granularity than is needed for an analysis, it can make sense to summarize the data with SQL aggregate functions before importing it. For example, if you have data of flood event counts by month but precipitation data by day, you may decide to `SUM` precipitation by month.\n",
    "\n",
    "The `weather` table contains daily readings for four months. In this exercise, you'll practice summarizing weather by month with the `MAX`, `MIN`, and `SUM` functions.\n",
    "\n",
    "- Create a query to pass to `read_sql()` that will get months and the `MAX` value of `tmax` by `month` from `weather`."
   ]
  },
  {
   "cell_type": "code",
   "execution_count": 19,
   "id": "7abe3efc-ca5a-4e4f-9818-c1cee003735e",
   "metadata": {},
   "outputs": [
    {
     "name": "stdout",
     "output_type": "stream",
     "text": [
      "      month  MAX(tmax)\n",
      "0  December         61\n",
      "1  February         78\n",
      "2   January         61\n",
      "3     March         62\n"
     ]
    }
   ],
   "source": [
    "# Create a query to get month and max tmax by month\n",
    "query = \"\"\"\n",
    "SELECT month, \n",
    "       MAX(tmax)\n",
    "  FROM weather \n",
    " GROUP BY month;\n",
    "\"\"\"\n",
    "\n",
    "# Get data frame of monthly weather stats\n",
    "weather_by_month = pd.read_sql(query, engine)\n",
    "\n",
    "# View weather stats by month\n",
    "print(weather_by_month)"
   ]
  },
  {
   "cell_type": "markdown",
   "id": "557320f2-54c1-4caa-a919-8d96f5d3f6e2",
   "metadata": {},
   "source": [
    "- Modify the query to also get the `MIN` `tmin` value for each `month`."
   ]
  },
  {
   "cell_type": "code",
   "execution_count": 20,
   "id": "f20fd61f-2be4-46dc-b5c2-b695c2790bd3",
   "metadata": {},
   "outputs": [
    {
     "name": "stdout",
     "output_type": "stream",
     "text": [
      "      month  MAX(tmax)  MIN(tmin)\n",
      "0  December         61          9\n",
      "1  February         78         16\n",
      "2   January         61          5\n",
      "3     March         62         27\n"
     ]
    }
   ],
   "source": [
    "# Create a query to get month, max tmax, and min tmin by month\n",
    "query = \"\"\"\n",
    "SELECT month, \n",
    "\t   MAX(tmax), \n",
    "       MIN(tmin)\n",
    "  FROM weather \n",
    " GROUP BY month;\n",
    "\"\"\"\n",
    "\n",
    "# Get data frame of monthly weather stats\n",
    "weather_by_month = pd.read_sql(query, engine)\n",
    "\n",
    "# View weather stats by month\n",
    "print(weather_by_month)"
   ]
  },
  {
   "cell_type": "markdown",
   "id": "a3f8c5aa-c54c-4af2-abf1-c44efc47f7b2",
   "metadata": {},
   "source": [
    "- Modify the query to also get the total precipitation (`prcp`) for each `month`."
   ]
  },
  {
   "cell_type": "code",
   "execution_count": 21,
   "id": "20602e88-68aa-4446-aa79-f4637b9e958a",
   "metadata": {},
   "outputs": [
    {
     "name": "stdout",
     "output_type": "stream",
     "text": [
      "      month  MAX(tmax)  MIN(tmin)  SUM(prcp)\n",
      "0  December         61          9       2.21\n",
      "1  February         78         16       5.83\n",
      "2   January         61          5       2.18\n",
      "3     March         62         27       5.17\n"
     ]
    }
   ],
   "source": [
    "# Create query to get temperature and precipitation by month\n",
    "query = \"\"\"\n",
    "SELECT month, \n",
    "       MAX(tmax), \n",
    "       MIN(tmin),\n",
    "       SUM(prcp)\n",
    "  FROM weather \n",
    " GROUP BY month;\n",
    "\"\"\"\n",
    "\n",
    "# Get data frame of monthly weather stats\n",
    "weather_by_month = pd.read_sql(query, engine)\n",
    "\n",
    "# View weather stats by month\n",
    "print(weather_by_month)"
   ]
  },
  {
   "cell_type": "markdown",
   "id": "34858d06-7106-477a-a4d8-a611a1d18531",
   "metadata": {},
   "source": [
    "*Aggregate functions can be a useful way to summarize large datasets. Different database management systems even have SQL functions for statistics like standard deviation and percentiles, though these are non-standard and vendor-specific.*"
   ]
  },
  {
   "cell_type": "markdown",
   "id": "51521a83-d614-4cbf-8727-2c168b2dcf7f",
   "metadata": {},
   "source": [
    "---\n",
    "## Loading multiple tables with joins\n",
    "One feature of relational databases is that tables can be linked to one another via unique record identifiers, or keys. This lets users combine tables into custom datasets with SQL joins, which we'll explore in this lesson.\n",
    "\n",
    "### Keys\n",
    "As mentioned, records typically have keys that uniquely identify them. At their simplest, keys can be automatically assigned row numbers, like in the 311 call data, but they can also carry meaning, like university course numbers. When records include other tables' keys, you can bring in, or join, data from the referenced table.\n",
    "\n",
    "For example, given a column of instructor ID numbers and a professor table, we can then join in professors' names. When building data pipelines, this means you're not limited to working with a single table's columns.\n",
    "\n",
    "### Joining Tables\n",
    "Let's join weather data to 311 call records to study if certain problems are exacerbated by weather conditions. Both tables contain date columns as text, with unique dates in the weather table, so they'll be the join key.\n",
    "\n",
    "First, we select star from hpd311calls to get all columns there. Star will also get all columns from weather once we join it.\n",
    "\n",
    "Then we join weather on hpd311calls dot created date equals weather dot date, which are the key columns. We use dot notation to specify the table and column when querying multiple tables. Two things to note here: join, by default, only returns records with key values that appear in both tables. And key columns must be the same data type or nothing will match.\n",
    "```sql\n",
    "SELECT *\n",
    "  FROM hpd311calls\n",
    "  JOIN weather\n",
    "    ON hpd311calls.created_date = weather.date;\n",
    "```\n",
    "\n",
    "### Joining and Filtering\n",
    "We can incorporate a where clause after the join to refine the dataset. Here, we filter the data to focus on heat and hot water calls, which probably spike in cold weather.\n",
    "```sql\n",
    "/* Get only heat/hot water calls and join in weather data */\n",
    "SELECT *\n",
    " FROM hpd311calls\n",
    " JOIN weather\n",
    "   ON hpd311calls.created_date = weather.date\n",
    "WHERE hpd311calls.complaint_type = 'HEAT/HOT WATER';\n",
    "```\n",
    "It's even possible to summarize data and then join additional columns. Imagine we wanted to compare call counts by borough against census data about population and housing in another table, boro census. Let's build the query in parts. We first get call counts by borough by selecting `hpd311calls.borough` and count star from hpd311calls, grouping by hpd311calls dot borough. Because both tables have borough columns, we have to specify the table here.\n",
    "```sql\n",
    "/* Get call counts by borough */\n",
    "SELECT hpd311calls.borough,\n",
    "\t   COUNT(*)\n",
    "  FROM hpd311calls\n",
    " GROUP BY hpd311calls.borough;\n",
    "```\n",
    "\n",
    "### Joining and Aggregating\n",
    "The boro census table has more columns than we need, so we also select its total population and housing units columns. Notice that we don't have to list boro census in the from clause.\n",
    "\n",
    "Finally, we add the join clause between the from and group by clauses, joining on the borough columns.\n",
    "```sql\n",
    "/* Get call counts by borough\n",
    "   and join in population and housing counts */\n",
    "SELECT hpd311calls.borough,\n",
    "       COUNT(*),\n",
    "\t   boro_census.total_population,\n",
    "\t   boro_census.housing_units\n",
    " FROM hpd311calls\n",
    "      JOIN boro_census\n",
    "\t  ON hpd311calls.borough = boro_census.borough\n",
    "GROUP BY hpd311calls.borough;\n",
    "```\n",
    "Let's pass this query and the database engine to read SQL and check out the results. Looks like the Bronx is overrepresented in our call data.\n"
   ]
  },
  {
   "cell_type": "code",
   "execution_count": 23,
   "id": "f78e51b8-0d7b-4266-9776-d6b5411ca0a4",
   "metadata": {},
   "outputs": [
    {
     "name": "stdout",
     "output_type": "stream",
     "text": [
      "         borough  COUNT(*)  total_population  housing_units\n",
      "0          BRONX     29874           1455846         524488\n",
      "1       BROOKLYN     31722           2635121        1028383\n",
      "2      MANHATTAN     20196           1653877         872645\n",
      "3         QUEENS     11384           2339280         850422\n",
      "4  STATEN ISLAND      1322            475948         179179\n"
     ]
    }
   ],
   "source": [
    "query = \"\"\"\n",
    "SELECT hpd311calls.borough,\n",
    "       COUNT(*),\n",
    "       boro_census.total_population,\n",
    "       boro_census.housing_units\n",
    " FROM hpd311calls\n",
    "      JOIN boro_census\n",
    "      ON hpd311calls.borough = boro_census.borough\n",
    "GROUP BY hpd311calls.borough;\n",
    "\"\"\"\n",
    "\n",
    "call_counts = pd.read_sql(query, engine)\n",
    "print(call_counts)"
   ]
  },
  {
   "cell_type": "markdown",
   "id": "965205ac-40e9-42bf-96b9-8cf3d7ecf45c",
   "metadata": {},
   "source": [
    "\n",
    "### Review\n",
    "As you can tell, SQL queries can get complicated. Let's review the order of keywords. First comes the select statement, including aggregate functions, and the table you're selecting from. Then a join clause if there is one. Then the where clause, if any. Last comes group by."
   ]
  },
  {
   "cell_type": "markdown",
   "id": "0e9abfe3-2302-4278-a856-52b82baa66d8",
   "metadata": {},
   "source": [
    "## Joining tables\n",
    "Tables in relational databases usually have key columns of unique record identifiers. This lets us build pipelines that combine tables using SQL's `JOIN` operation, instead of having to combine data after importing it.\n",
    "\n",
    "The records in `hpd311calls` often concern issues, like leaks or heating problems, that are exacerbated by weather conditions. In this exercise, you'll join `weather` data to call records along their common date columns to get everything in one data frame. You can assume these columns have the same data type.\n",
    "\n",
    "**Note**: The SQL checker is picky about join table order -- it expects specific tables on the left and the right.\n",
    "\n",
    "- Complete the query to join `weather` to `hpd311calls` by their `date` and `created_date` columns, respectively.\n",
    "- Query the database and assign the resulting data frame to `calls_with_weather`.\n",
    "- Print the first few rows of `calls_with_weather` to confirm all columns were joined."
   ]
  },
  {
   "cell_type": "code",
   "execution_count": 24,
   "id": "3e31f929-221c-4370-93be-04a58d06557c",
   "metadata": {},
   "outputs": [
    {
     "name": "stdout",
     "output_type": "stream",
     "text": [
      "  unique_key created_date agency  complaint_type incident_zip  \\\n",
      "0   38070822   01/01/2018    HPD  HEAT/HOT WATER        10468   \n",
      "1   38065299   01/01/2018    HPD        PLUMBING        10003   \n",
      "2   38066653   01/01/2018    HPD  HEAT/HOT WATER        10452   \n",
      "3   38070264   01/01/2018    HPD  HEAT/HOT WATER        10032   \n",
      "4   38072466   01/01/2018    HPD  HEAT/HOT WATER        11213   \n",
      "\n",
      "       incident_address community_board    borough      station  \\\n",
      "0    2786 JEROME AVENUE        07 BRONX      BRONX  USW00094728   \n",
      "1  323 EAST   12 STREET    03 MANHATTAN  MANHATTAN  USW00094728   \n",
      "2  1235 GRAND CONCOURSE        04 BRONX      BRONX  USW00094728   \n",
      "3  656 WEST  171 STREET    12 MANHATTAN  MANHATTAN  USW00094728   \n",
      "4       1030 PARK PLACE     08 BROOKLYN   BROOKLYN  USW00094728   \n",
      "\n",
      "                          name  ...  longitude  elevation        date  \\\n",
      "0  NY CITY CENTRAL PARK, NY US  ...  -73.96925       42.7  01/01/2018   \n",
      "1  NY CITY CENTRAL PARK, NY US  ...  -73.96925       42.7  01/01/2018   \n",
      "2  NY CITY CENTRAL PARK, NY US  ...  -73.96925       42.7  01/01/2018   \n",
      "3  NY CITY CENTRAL PARK, NY US  ...  -73.96925       42.7  01/01/2018   \n",
      "4  NY CITY CENTRAL PARK, NY US  ...  -73.96925       42.7  01/01/2018   \n",
      "\n",
      "     month  awnd  prcp  snow  tavg tmax  tmin  \n",
      "0  January  7.83   0.0   0.0         19     7  \n",
      "1  January  7.83   0.0   0.0         19     7  \n",
      "2  January  7.83   0.0   0.0         19     7  \n",
      "3  January  7.83   0.0   0.0         19     7  \n",
      "4  January  7.83   0.0   0.0         19     7  \n",
      "\n",
      "[5 rows x 21 columns]\n"
     ]
    }
   ],
   "source": [
    "# Query to join weather to call records by date columns\n",
    "query = \"\"\"\n",
    "SELECT * \n",
    "  FROM hpd311calls\n",
    "       JOIN weather \n",
    "       ON hpd311calls.created_date = weather.date;\n",
    "\"\"\"\n",
    "\n",
    "# Create data frame of joined tables\n",
    "calls_with_weather = pd.read_sql(query, engine)\n",
    "\n",
    "# View the data frame to make sure all columns were joined\n",
    "print(calls_with_weather.head())"
   ]
  },
  {
   "cell_type": "markdown",
   "id": "92d00b9f-2f39-4206-930b-dc76bb238dec",
   "metadata": {},
   "source": [
    "*The joins you perform in this course only return records whose key values appear in both tables, which is why the resulting data frames have values for all columns. But there are other kinds of joins that can return records that don't have a match.*"
   ]
  },
  {
   "cell_type": "markdown",
   "id": "e6a2cb95-8861-4ec5-9ae4-4291c9fd1818",
   "metadata": {},
   "source": [
    "## Joining and filtering\n",
    "Just as you might not always want all the data in a single table, you might not want all columns and rows that result from a `JOIN`. In this exercise, you'll use SQL to refine a data import.\n",
    "\n",
    "Weather exacerbates some housing problems more than others. Your task is to focus on water leak reports in `hpd311calls` and assemble a dataset that includes the day's precipitation levels from `weather` to see if there is any relationship between the two. The provided SQL gets all columns in `hpd311calls`, but you'll need to modify it to get the necessary `weather` column and filter rows with a `WHERE` clause.\n",
    "\n",
    "- Complete `query` to get the `prcp` column in `weather` and join `weather` to `hpd311calls` on their `date` and `created_date` columns, respectively.\n",
    "- Use `read_sql()` to load the results of the query into the `leak_calls` data frame."
   ]
  },
  {
   "cell_type": "code",
   "execution_count": 25,
   "id": "1d6cd474-83f8-4a1d-bbbf-535b98a99dd6",
   "metadata": {},
   "outputs": [
    {
     "name": "stdout",
     "output_type": "stream",
     "text": [
      "  unique_key created_date agency  complaint_type incident_zip  \\\n",
      "0   38070822   01/01/2018    HPD  HEAT/HOT WATER        10468   \n",
      "1   38065299   01/01/2018    HPD        PLUMBING        10003   \n",
      "2   38066653   01/01/2018    HPD  HEAT/HOT WATER        10452   \n",
      "3   38070264   01/01/2018    HPD  HEAT/HOT WATER        10032   \n",
      "4   38072466   01/01/2018    HPD  HEAT/HOT WATER        11213   \n",
      "\n",
      "       incident_address community_board    borough  prcp  \n",
      "0    2786 JEROME AVENUE        07 BRONX      BRONX   0.0  \n",
      "1  323 EAST   12 STREET    03 MANHATTAN  MANHATTAN   0.0  \n",
      "2  1235 GRAND CONCOURSE        04 BRONX      BRONX   0.0  \n",
      "3  656 WEST  171 STREET    12 MANHATTAN  MANHATTAN   0.0  \n",
      "4       1030 PARK PLACE     08 BROOKLYN   BROOKLYN   0.0  \n"
     ]
    }
   ],
   "source": [
    "# Query to get hpd311calls and precipitation values\n",
    "query = \"\"\"\n",
    "SELECT hpd311calls.*, weather.prcp\n",
    "  FROM hpd311calls\n",
    "  JOIN weather\n",
    "       ON hpd311calls.created_date = weather.date;\"\"\"\n",
    "\n",
    "# Load query results into the leak_calls data frame\n",
    "leak_calls = pd.read_sql(query, engine)\n",
    "\n",
    "# View the data frame\n",
    "print(leak_calls.head())"
   ]
  },
  {
   "cell_type": "markdown",
   "id": "f2f28f22-7a4e-47df-99a2-b61705fe14a2",
   "metadata": {},
   "source": [
    "- Modify `query` to get only rows that have `'WATER LEAK'` as their `complaint_type`."
   ]
  },
  {
   "cell_type": "code",
   "execution_count": 26,
   "id": "0583d4f6-a2b5-4ae2-86f9-7a4a38fd6a7b",
   "metadata": {},
   "outputs": [
    {
     "name": "stdout",
     "output_type": "stream",
     "text": [
      "  unique_key created_date agency complaint_type incident_zip  \\\n",
      "0   38074305   01/01/2018    HPD     WATER LEAK        11212   \n",
      "1   38078748   01/01/2018    HPD     WATER LEAK        10458   \n",
      "2   38081097   01/01/2018    HPD     WATER LEAK        11221   \n",
      "3   38077874   01/01/2018    HPD     WATER LEAK        11418   \n",
      "4   38081110   01/01/2018    HPD     WATER LEAK        11420   \n",
      "\n",
      "          incident_address community_board   borough  prcp  \n",
      "0     1026 WILLMOHR STREET     17 BROOKLYN  BROOKLYN   0.0  \n",
      "1       2700 MARION AVENUE        07 BRONX     BRONX   0.0  \n",
      "2  192 MALCOLM X BOULEVARD     03 BROOKLYN  BROOKLYN   0.0  \n",
      "3    129-11 JAMAICA AVENUE       09 QUEENS    QUEENS   0.0  \n",
      "4        111-17 133 STREET       10 QUEENS    QUEENS   0.0  \n"
     ]
    }
   ],
   "source": [
    "# Query to get water leak calls and daily precipitation\n",
    "query = \"\"\"\n",
    "SELECT hpd311calls.*, weather.prcp\n",
    "  FROM hpd311calls\n",
    "  JOIN weather\n",
    "       ON hpd311calls.created_date = weather.date\n",
    " WHERE hpd311calls.complaint_type = 'WATER LEAK';\"\"\"\n",
    "\n",
    "# Load query results into the leak_calls data frame\n",
    "leak_calls = pd.read_sql(query, engine)\n",
    "\n",
    "# View the data frame\n",
    "print(leak_calls.head())"
   ]
  },
  {
   "cell_type": "markdown",
   "id": "dd114e2a-5a4e-4e13-9cca-e3d6a96518e6",
   "metadata": {},
   "source": [
    "*How you go about constructing a complicated SQL query can depend on what operators you need and how big the tables you're working with are. If your tables are very big, you may decide to filter or aggregate the data first before attempting a join.*"
   ]
  },
  {
   "cell_type": "markdown",
   "id": "92d7a0aa-e711-41f1-9f13-ca19cdfe3dd2",
   "metadata": {},
   "source": [
    "## oining, filtering, and aggregating\n",
    "In this exercise, you'll use what you've learned to assemble a dataset to investigate how the number of heating complaints to New York City's 311 line varies with temperature.\n",
    "\n",
    "In addition to the `hpd311calls` table, `data.db` has a `weather` table with daily high and low temperature readings for NYC. We want to get each day's count of heat/hot water calls with temperatures joined in. This can be done in one query, which we'll build in parts.\n",
    "\n",
    "In part one, we'll get just the data we want from `hpd311calls`. Then, in part two, we'll modify the query to join in `weather` data.\n",
    "\n",
    "- Complete the query to get `created_date` and counts of records whose `complaint_type` is `HEAT/HOT WATER` from `hpd311calls` by date.\n",
    "- Create a data frame, `df`, containing the results of the query."
   ]
  },
  {
   "cell_type": "code",
   "execution_count": 27,
   "id": "31b49d28-0f35-434d-a97d-02bacdb204bd",
   "metadata": {},
   "outputs": [
    {
     "name": "stdout",
     "output_type": "stream",
     "text": [
      "  created_date  COUNT(*)\n",
      "0   01/01/2018      4597\n",
      "1   01/02/2018      4362\n",
      "2   01/03/2018      3045\n",
      "3   01/04/2018      3374\n",
      "4   01/05/2018      4333\n"
     ]
    }
   ],
   "source": [
    "# Query to get heat/hot water call counts by created_date\n",
    "query = \"\"\"\n",
    "SELECT hpd311calls.created_date, \n",
    "       COUNT(*)\n",
    "  FROM hpd311calls \n",
    " WHERE hpd311calls.complaint_type = 'HEAT/HOT WATER'\n",
    " GROUP BY hpd311calls.created_date;\n",
    "\"\"\"\n",
    "\n",
    "# Query database and save results as df\n",
    "df = pd.read_sql(query, engine)\n",
    "\n",
    "# View first 5 records\n",
    "print(df.head())"
   ]
  },
  {
   "cell_type": "markdown",
   "id": "1b68439b-ba74-4935-b776-4e0c91af1d2e",
   "metadata": {},
   "source": [
    "- Modify the query to join `tmax` and `tmin` from the `weather` table. (There is only one record per date in `weather`, so we do not need SQL's `MAX` and `MIN` functions here.) Join the tables on `created_date` in `hpd311calls` and `date` in `weather`."
   ]
  },
  {
   "cell_type": "code",
   "execution_count": 28,
   "id": "9b977b23-42a0-4131-b3be-70616a4b6564",
   "metadata": {},
   "outputs": [
    {
     "name": "stdout",
     "output_type": "stream",
     "text": [
      "  created_date  COUNT(*)  tmax  tmin\n",
      "0   01/01/2018      4597    19     7\n",
      "1   01/02/2018      4362    26    13\n",
      "2   01/03/2018      3045    30    16\n",
      "3   01/04/2018      3374    29    19\n",
      "4   01/05/2018      4333    19     9\n"
     ]
    }
   ],
   "source": [
    "# Modify query to join tmax and tmin from weather by date\n",
    "query = \"\"\"\n",
    "SELECT hpd311calls.created_date, \n",
    "\t   COUNT(*), \n",
    "       weather.tmax,\n",
    "       weather.tmin\n",
    "  FROM hpd311calls \n",
    "  JOIN weather\n",
    "       ON hpd311calls.created_date = weather.date\n",
    " WHERE hpd311calls.complaint_type = 'HEAT/HOT WATER' \n",
    " GROUP BY hpd311calls.created_date;\n",
    " \"\"\"\n",
    "\n",
    "# Query database and save results as df\n",
    "df = pd.read_sql(query, engine)\n",
    "\n",
    "# View first 5 records\n",
    "print(df.head())"
   ]
  },
  {
   "cell_type": "markdown",
   "id": "b59fd650-e056-4612-a6a5-68ff046a3dda",
   "metadata": {},
   "source": [
    "*While SQL joins can only be used in databases, there are analagous `pandas operations to combine datasets.*"
   ]
  }
 ],
 "metadata": {
  "kernelspec": {
   "display_name": "Python 3",
   "language": "python",
   "name": "python3"
  },
  "language_info": {
   "codemirror_mode": {
    "name": "ipython",
    "version": 3
   },
   "file_extension": ".py",
   "mimetype": "text/x-python",
   "name": "python",
   "nbconvert_exporter": "python",
   "pygments_lexer": "ipython3",
   "version": "3.8.8"
  }
 },
 "nbformat": 4,
 "nbformat_minor": 5
}
