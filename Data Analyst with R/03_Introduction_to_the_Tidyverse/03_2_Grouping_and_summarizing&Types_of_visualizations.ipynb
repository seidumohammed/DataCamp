{
 "cells": [
  {
   "cell_type": "markdown",
   "id": "40cf9da9-95bb-4eaa-a629-926c73d1635a",
   "metadata": {},
   "source": [
    "# 3. Grouping and summarizing\n",
    "So far you've been answering questions about individual country-year pairs, but you may be interested in aggregations of the data, such as the average life expectancy of all countries within each year. Here you'll learn to use the group by and summarize verbs, which collapse large datasets into manageable summaries."
   ]
  },
  {
   "cell_type": "code",
   "execution_count": 2,
   "id": "3beabf1a-0db4-4ee9-8e31-addbc0f890f0",
   "metadata": {},
   "outputs": [
    {
     "name": "stderr",
     "output_type": "stream",
     "text": [
      "Warning message:\n",
      "\"package 'dplyr' was built under R version 3.6.3\"\n",
      "Attaching package: 'dplyr'\n",
      "\n",
      "The following objects are masked from 'package:stats':\n",
      "\n",
      "    filter, lag\n",
      "\n",
      "The following objects are masked from 'package:base':\n",
      "\n",
      "    intersect, setdiff, setequal, union\n",
      "\n"
     ]
    }
   ],
   "source": [
    "library(gapminder)\n",
    "library(dplyr)"
   ]
  },
  {
   "cell_type": "markdown",
   "id": "7636e7bb-f08d-4ce6-992a-80dc0bdae34f",
   "metadata": {},
   "source": [
    "## The summarize verb\n",
    "you'll return to the topic of data transformation with `dplyr` to learn more ways to explore your data.\n",
    "\n",
    "### Data transformation and visualization\n",
    "Analyses will usually involve a cycle between these steps of data transformation and visualization, as well as additional components of the data science workflow, like modeling. Once you've learned these new verbs, you'll be able to create a much larger variety of informative visualizations with `ggplot2`. \n",
    "\n",
    "### Extracting data\n",
    "Use filter verb to pull out individual observations, such as statistics for the United States in 2007."
   ]
  },
  {
   "cell_type": "code",
   "execution_count": 6,
   "id": "d5c11b84-048e-4edd-bfec-762b517509ed",
   "metadata": {},
   "outputs": [
    {
     "data": {
      "text/html": [
       "<table>\n",
       "<thead><tr><th scope=col>country</th><th scope=col>continent</th><th scope=col>year</th><th scope=col>lifeExp</th><th scope=col>pop</th><th scope=col>gdpPercap</th></tr></thead>\n",
       "<tbody>\n",
       "\t<tr><td>United States</td><td>Americas     </td><td>2007         </td><td>78.242       </td><td>301139947    </td><td>42951.65     </td></tr>\n",
       "</tbody>\n",
       "</table>\n"
      ],
      "text/latex": [
       "\\begin{tabular}{r|llllll}\n",
       " country & continent & year & lifeExp & pop & gdpPercap\\\\\n",
       "\\hline\n",
       "\t United States & Americas      & 2007          & 78.242        & 301139947     & 42951.65     \\\\\n",
       "\\end{tabular}\n"
      ],
      "text/markdown": [
       "\n",
       "| country | continent | year | lifeExp | pop | gdpPercap |\n",
       "|---|---|---|---|---|---|\n",
       "| United States | Americas      | 2007          | 78.242        | 301139947     | 42951.65      |\n",
       "\n"
      ],
      "text/plain": [
       "  country       continent year lifeExp pop       gdpPercap\n",
       "1 United States Americas  2007 78.242  301139947 42951.65 "
      ]
     },
     "metadata": {},
     "output_type": "display_data"
    }
   ],
   "source": [
    "gapminder_US_2007 <- gapminder %>%\n",
    "    filter(country == \"United States\", year == 2007)\n",
    "gapminder_US_2007"
   ]
  },
  {
   "cell_type": "markdown",
   "id": "b7889215-7224-4e6e-bac7-10e0f58c3492",
   "metadata": {},
   "source": [
    "### The summarize verb\n",
    "For example, suppose you want to know the average life expectancy across all countries and years in the dataset. You would do this with the `summarize` verb. Take your gapminder data, pipe it into summarize, and specify that you're creating a summary column called `meanLifeExp`."
   ]
  },
  {
   "cell_type": "code",
   "execution_count": 7,
   "id": "58df55f4-cbe8-4ea3-8c9a-8143feed42d6",
   "metadata": {},
   "outputs": [
    {
     "data": {
      "text/html": [
       "<table>\n",
       "<thead><tr><th scope=col>meanLifeExp</th></tr></thead>\n",
       "<tbody>\n",
       "\t<tr><td>59.47444</td></tr>\n",
       "</tbody>\n",
       "</table>\n"
      ],
      "text/latex": [
       "\\begin{tabular}{r|l}\n",
       " meanLifeExp\\\\\n",
       "\\hline\n",
       "\t 59.47444\\\\\n",
       "\\end{tabular}\n"
      ],
      "text/markdown": [
       "\n",
       "| meanLifeExp |\n",
       "|---|\n",
       "| 59.47444 |\n",
       "\n"
      ],
      "text/plain": [
       "  meanLifeExp\n",
       "1 59.47444   "
      ]
     },
     "metadata": {},
     "output_type": "display_data"
    }
   ],
   "source": [
    "gapminder %>%\n",
    "    summarize(meanLifeExp = mean(lifeExp))"
   ]
  },
  {
   "cell_type": "markdown",
   "id": "82f4052c-59bf-4cba-871a-c2a59dcde159",
   "metadata": {},
   "source": [
    "This is calling the function mean on the variable lifeExp. The mean function takes the average of a set of values, and R comes with many built-in functions like this. Notice that summarize collapses the entire table down into one row. In the output, we see the answer to our question: the mean life expectancy was about 59.47 years.\n",
    "\n",
    "If you think about it, it doesn't really make sense to summarize across all countries and across all years. It may make more sense to ask questions about averages in a particular year, such as 2007."
   ]
  },
  {
   "cell_type": "code",
   "execution_count": 8,
   "id": "d9c3950f-6e23-42f8-a342-adf2a52e6c88",
   "metadata": {},
   "outputs": [
    {
     "data": {
      "text/html": [
       "<table>\n",
       "<thead><tr><th scope=col>meanLifeExp</th></tr></thead>\n",
       "<tbody>\n",
       "\t<tr><td>67.00742</td></tr>\n",
       "</tbody>\n",
       "</table>\n"
      ],
      "text/latex": [
       "\\begin{tabular}{r|l}\n",
       " meanLifeExp\\\\\n",
       "\\hline\n",
       "\t 67.00742\\\\\n",
       "\\end{tabular}\n"
      ],
      "text/markdown": [
       "\n",
       "| meanLifeExp |\n",
       "|---|\n",
       "| 67.00742 |\n",
       "\n"
      ],
      "text/plain": [
       "  meanLifeExp\n",
       "1 67.00742   "
      ]
     },
     "metadata": {},
     "output_type": "display_data"
    }
   ],
   "source": [
    "gapminder %>%\n",
    "    filter(year == 2007) %>%\n",
    "    summarize(meanLifeExp = mean(lifeExp))"
   ]
  },
  {
   "cell_type": "markdown",
   "id": "91384bb2-f942-4755-b7d2-5d418727055a",
   "metadata": {},
   "source": [
    "### Summarizing into multiple columns\n",
    "For example, suppose that along with finding the average life expectancy in 2007, you want to find the total population in that year."
   ]
  },
  {
   "cell_type": "code",
   "execution_count": 9,
   "id": "3f74ba12-42b9-479b-a2ca-e52676aec0c8",
   "metadata": {},
   "outputs": [
    {
     "data": {
      "text/html": [
       "<table>\n",
       "<thead><tr><th scope=col>meanLifeExp</th><th scope=col>totalPop</th></tr></thead>\n",
       "<tbody>\n",
       "\t<tr><td>67.00742  </td><td>6251013179</td></tr>\n",
       "</tbody>\n",
       "</table>\n"
      ],
      "text/latex": [
       "\\begin{tabular}{r|ll}\n",
       " meanLifeExp & totalPop\\\\\n",
       "\\hline\n",
       "\t 67.00742   & 6251013179\\\\\n",
       "\\end{tabular}\n"
      ],
      "text/markdown": [
       "\n",
       "| meanLifeExp | totalPop |\n",
       "|---|---|\n",
       "| 67.00742   | 6251013179 |\n",
       "\n"
      ],
      "text/plain": [
       "  meanLifeExp totalPop  \n",
       "1 67.00742    6251013179"
      ]
     },
     "metadata": {},
     "output_type": "display_data"
    }
   ],
   "source": [
    "gapminder %>%\n",
    "    filter(year == 2007) %>%\n",
    "    summarize(meanLifeExp = mean(lifeExp),\n",
    "             totalPop = sum(pop))"
   ]
  },
  {
   "cell_type": "markdown",
   "id": "c7accd71-b81b-4ac9-b9ce-6b59d4d12bb7",
   "metadata": {},
   "source": [
    "`mean` and `sum` are just two of the built-in functions you could use to summarize a variable within a dataset. \n",
    "\n",
    "Another example is `median`: the `median` represents the point in a set of numbers where half the numbers are above that point and half of the numbers are below. Two others are `min`, for minimum, and `max`, for maximum. "
   ]
  },
  {
   "cell_type": "markdown",
   "id": "6d894828-7b19-4570-a06f-b65a34ae887a",
   "metadata": {},
   "source": [
    "## Exercise"
   ]
  },
  {
   "cell_type": "code",
   "execution_count": 10,
   "id": "4cf74a47-fcde-41b6-8f43-60fe6f61febb",
   "metadata": {},
   "outputs": [
    {
     "data": {
      "text/html": [
       "<table>\n",
       "<thead><tr><th scope=col>medianLifeExp</th></tr></thead>\n",
       "<tbody>\n",
       "\t<tr><td>60.7125</td></tr>\n",
       "</tbody>\n",
       "</table>\n"
      ],
      "text/latex": [
       "\\begin{tabular}{r|l}\n",
       " medianLifeExp\\\\\n",
       "\\hline\n",
       "\t 60.7125\\\\\n",
       "\\end{tabular}\n"
      ],
      "text/markdown": [
       "\n",
       "| medianLifeExp |\n",
       "|---|\n",
       "| 60.7125 |\n",
       "\n"
      ],
      "text/plain": [
       "  medianLifeExp\n",
       "1 60.7125      "
      ]
     },
     "metadata": {},
     "output_type": "display_data"
    }
   ],
   "source": [
    "# Summarizing the median life expectancy\n",
    "# Summarize to find the median life expectancy\n",
    "gapminder %>%\n",
    "    summarize(medianLifeExp = median(lifeExp))"
   ]
  },
  {
   "cell_type": "code",
   "execution_count": 11,
   "id": "211da0e6-e3f3-49c8-a7f5-f70378d84cd5",
   "metadata": {},
   "outputs": [
    {
     "data": {
      "text/html": [
       "<table>\n",
       "<thead><tr><th scope=col>medianLifeExp</th></tr></thead>\n",
       "<tbody>\n",
       "\t<tr><td>48.3605</td></tr>\n",
       "</tbody>\n",
       "</table>\n"
      ],
      "text/latex": [
       "\\begin{tabular}{r|l}\n",
       " medianLifeExp\\\\\n",
       "\\hline\n",
       "\t 48.3605\\\\\n",
       "\\end{tabular}\n"
      ],
      "text/markdown": [
       "\n",
       "| medianLifeExp |\n",
       "|---|\n",
       "| 48.3605 |\n",
       "\n"
      ],
      "text/plain": [
       "  medianLifeExp\n",
       "1 48.3605      "
      ]
     },
     "metadata": {},
     "output_type": "display_data"
    }
   ],
   "source": [
    "# Summarizing the median life expectancy in 1957\n",
    "# Filter for 1957 then summarize the median life expectancy\n",
    "gapminder %>%\n",
    "    filter(year == 1957) %>%\n",
    "    summarize(medianLifeExp = median(lifeExp))"
   ]
  },
  {
   "cell_type": "code",
   "execution_count": 12,
   "id": "65f3618f-e229-4d55-9599-3ead2d005a90",
   "metadata": {},
   "outputs": [
    {
     "data": {
      "text/html": [
       "<table>\n",
       "<thead><tr><th scope=col>medianLifeExp</th><th scope=col>maxGdpPercap</th></tr></thead>\n",
       "<tbody>\n",
       "\t<tr><td>48.3605 </td><td>113523.1</td></tr>\n",
       "</tbody>\n",
       "</table>\n"
      ],
      "text/latex": [
       "\\begin{tabular}{r|ll}\n",
       " medianLifeExp & maxGdpPercap\\\\\n",
       "\\hline\n",
       "\t 48.3605  & 113523.1\\\\\n",
       "\\end{tabular}\n"
      ],
      "text/markdown": [
       "\n",
       "| medianLifeExp | maxGdpPercap |\n",
       "|---|---|\n",
       "| 48.3605  | 113523.1 |\n",
       "\n"
      ],
      "text/plain": [
       "  medianLifeExp maxGdpPercap\n",
       "1 48.3605       113523.1    "
      ]
     },
     "metadata": {},
     "output_type": "display_data"
    }
   ],
   "source": [
    "# Summarizing multiple variables in 1957\n",
    "# Filter for 1957 then summarize the median life expectancy and the maximum GDP per capita\n",
    "gapminder %>%\n",
    "    filter(year == 1957) %>%\n",
    "    summarize(medianLifeExp = median(lifeExp), \n",
    "              maxGdpPercap = max(gdpPercap))"
   ]
  },
  {
   "cell_type": "markdown",
   "id": "a4bac6bd-05ed-47da-a389-5b726de6b94c",
   "metadata": {},
   "source": [
    "---\n",
    "## The group_by verb\n",
    "What if we weren't interested just in the average for the year 2007, but for each of the years in the dataset?\n",
    "\n",
    "We can use the `group_by` verb, which tells `dplyr` to summarize within groups instead of summarizing the entire dataset.\n",
    "\n",
    "### Summarizing by year\n"
   ]
  },
  {
   "cell_type": "code",
   "execution_count": 13,
   "id": "d00fd326-5dd9-4971-beb7-6dbd7c7780f3",
   "metadata": {},
   "outputs": [
    {
     "data": {
      "text/html": [
       "<table>\n",
       "<thead><tr><th scope=col>year</th><th scope=col>meanLifeExp</th><th scope=col>totalPop</th></tr></thead>\n",
       "<tbody>\n",
       "\t<tr><td>1952      </td><td>49.05762  </td><td>2406957150</td></tr>\n",
       "\t<tr><td>1957      </td><td>51.50740  </td><td>2664404580</td></tr>\n",
       "\t<tr><td>1962      </td><td>53.60925  </td><td>2899782974</td></tr>\n",
       "\t<tr><td>1967      </td><td>55.67829  </td><td>3217478384</td></tr>\n",
       "\t<tr><td>1972      </td><td>57.64739  </td><td>3576977158</td></tr>\n",
       "\t<tr><td>1977      </td><td>59.57016  </td><td>3930045807</td></tr>\n",
       "\t<tr><td>1982      </td><td>61.53320  </td><td>4289436840</td></tr>\n",
       "\t<tr><td>1987      </td><td>63.21261  </td><td>4691477418</td></tr>\n",
       "\t<tr><td>1992      </td><td>64.16034  </td><td>5110710260</td></tr>\n",
       "\t<tr><td>1997      </td><td>65.01468  </td><td>5515204472</td></tr>\n",
       "\t<tr><td>2002      </td><td>65.69492  </td><td>5886977579</td></tr>\n",
       "\t<tr><td>2007      </td><td>67.00742  </td><td>6251013179</td></tr>\n",
       "</tbody>\n",
       "</table>\n"
      ],
      "text/latex": [
       "\\begin{tabular}{r|lll}\n",
       " year & meanLifeExp & totalPop\\\\\n",
       "\\hline\n",
       "\t 1952       & 49.05762   & 2406957150\\\\\n",
       "\t 1957       & 51.50740   & 2664404580\\\\\n",
       "\t 1962       & 53.60925   & 2899782974\\\\\n",
       "\t 1967       & 55.67829   & 3217478384\\\\\n",
       "\t 1972       & 57.64739   & 3576977158\\\\\n",
       "\t 1977       & 59.57016   & 3930045807\\\\\n",
       "\t 1982       & 61.53320   & 4289436840\\\\\n",
       "\t 1987       & 63.21261   & 4691477418\\\\\n",
       "\t 1992       & 64.16034   & 5110710260\\\\\n",
       "\t 1997       & 65.01468   & 5515204472\\\\\n",
       "\t 2002       & 65.69492   & 5886977579\\\\\n",
       "\t 2007       & 67.00742   & 6251013179\\\\\n",
       "\\end{tabular}\n"
      ],
      "text/markdown": [
       "\n",
       "| year | meanLifeExp | totalPop |\n",
       "|---|---|---|\n",
       "| 1952       | 49.05762   | 2406957150 |\n",
       "| 1957       | 51.50740   | 2664404580 |\n",
       "| 1962       | 53.60925   | 2899782974 |\n",
       "| 1967       | 55.67829   | 3217478384 |\n",
       "| 1972       | 57.64739   | 3576977158 |\n",
       "| 1977       | 59.57016   | 3930045807 |\n",
       "| 1982       | 61.53320   | 4289436840 |\n",
       "| 1987       | 63.21261   | 4691477418 |\n",
       "| 1992       | 64.16034   | 5110710260 |\n",
       "| 1997       | 65.01468   | 5515204472 |\n",
       "| 2002       | 65.69492   | 5886977579 |\n",
       "| 2007       | 67.00742   | 6251013179 |\n",
       "\n"
      ],
      "text/plain": [
       "   year meanLifeExp totalPop  \n",
       "1  1952 49.05762    2406957150\n",
       "2  1957 51.50740    2664404580\n",
       "3  1962 53.60925    2899782974\n",
       "4  1967 55.67829    3217478384\n",
       "5  1972 57.64739    3576977158\n",
       "6  1977 59.57016    3930045807\n",
       "7  1982 61.53320    4289436840\n",
       "8  1987 63.21261    4691477418\n",
       "9  1992 64.16034    5110710260\n",
       "10 1997 65.01468    5515204472\n",
       "11 2002 65.69492    5886977579\n",
       "12 2007 67.00742    6251013179"
      ]
     },
     "metadata": {},
     "output_type": "display_data"
    }
   ],
   "source": [
    "gapminder %>%\n",
    "    group_by(year) %>%\n",
    "    summarize(meanLifeExp = mean(lifeExp), \n",
    "              totalPop = sum(pop))"
   ]
  },
  {
   "cell_type": "markdown",
   "id": "c130908e-7be8-41fe-99be-4304d072a70d",
   "metadata": {},
   "source": [
    "### Summarizing by continent\n",
    "Suppose you're interested in the average life expectancy and the total population in 2007 within each continent. You can find this by first filtering for the year 2007, grouping by continent (instead of year), and then performing your summary."
   ]
  },
  {
   "cell_type": "code",
   "execution_count": 15,
   "id": "4137e701-25f1-4aa4-bd20-9b6bd4dc6cae",
   "metadata": {},
   "outputs": [
    {
     "data": {
      "text/html": [
       "<table>\n",
       "<thead><tr><th scope=col>continent</th><th scope=col>meanLifeExp</th><th scope=col>totalPop</th></tr></thead>\n",
       "<tbody>\n",
       "\t<tr><td>Africa    </td><td>54.80604  </td><td> 929539692</td></tr>\n",
       "\t<tr><td>Americas  </td><td>73.60812  </td><td> 898871184</td></tr>\n",
       "\t<tr><td>Asia      </td><td>70.72848  </td><td>3811953827</td></tr>\n",
       "\t<tr><td>Europe    </td><td>77.64860  </td><td> 586098529</td></tr>\n",
       "\t<tr><td>Oceania   </td><td>80.71950  </td><td>  24549947</td></tr>\n",
       "</tbody>\n",
       "</table>\n"
      ],
      "text/latex": [
       "\\begin{tabular}{r|lll}\n",
       " continent & meanLifeExp & totalPop\\\\\n",
       "\\hline\n",
       "\t Africa     & 54.80604   &  929539692\\\\\n",
       "\t Americas   & 73.60812   &  898871184\\\\\n",
       "\t Asia       & 70.72848   & 3811953827\\\\\n",
       "\t Europe     & 77.64860   &  586098529\\\\\n",
       "\t Oceania    & 80.71950   &   24549947\\\\\n",
       "\\end{tabular}\n"
      ],
      "text/markdown": [
       "\n",
       "| continent | meanLifeExp | totalPop |\n",
       "|---|---|---|\n",
       "| Africa     | 54.80604   |  929539692 |\n",
       "| Americas   | 73.60812   |  898871184 |\n",
       "| Asia       | 70.72848   | 3811953827 |\n",
       "| Europe     | 77.64860   |  586098529 |\n",
       "| Oceania    | 80.71950   |   24549947 |\n",
       "\n"
      ],
      "text/plain": [
       "  continent meanLifeExp totalPop  \n",
       "1 Africa    54.80604     929539692\n",
       "2 Americas  73.60812     898871184\n",
       "3 Asia      70.72848    3811953827\n",
       "4 Europe    77.64860     586098529\n",
       "5 Oceania   80.71950      24549947"
      ]
     },
     "metadata": {},
     "output_type": "display_data"
    }
   ],
   "source": [
    "gapminder %>%\n",
    "    filter(year == 2007) %>%\n",
    "    group_by(continent) %>%\n",
    "    summarize(meanLifeExp = mean(lifeExp), \n",
    "              totalPop = sum(pop))"
   ]
  },
  {
   "cell_type": "markdown",
   "id": "ff4a1476-f138-4bf8-a10a-8daa58b91cae",
   "metadata": {},
   "source": [
    "### Summarizing by continent and year\n",
    "To do so, you can summarize by both year and continent, by adding year comma continent within the group by. "
   ]
  },
  {
   "cell_type": "code",
   "execution_count": 17,
   "id": "5849aff5-3db5-4141-8eda-685e9f0192aa",
   "metadata": {},
   "outputs": [
    {
     "name": "stderr",
     "output_type": "stream",
     "text": [
      "`summarise()` has grouped output by 'year'. You can override using the `.groups` argument.\n"
     ]
    },
    {
     "data": {
      "text/html": [
       "<table>\n",
       "<thead><tr><th scope=col>year</th><th scope=col>continent</th><th scope=col>totalPop</th><th scope=col>meanLifeExp</th></tr></thead>\n",
       "<tbody>\n",
       "\t<tr><td>1952      </td><td>Africa    </td><td> 237640501</td><td>39.13550  </td></tr>\n",
       "\t<tr><td>1952      </td><td>Americas  </td><td> 345152446</td><td>53.27984  </td></tr>\n",
       "\t<tr><td>1952      </td><td>Asia      </td><td>1395357351</td><td>46.31439  </td></tr>\n",
       "\t<tr><td>1952      </td><td>Europe    </td><td> 418120846</td><td>64.40850  </td></tr>\n",
       "\t<tr><td>1952      </td><td>Oceania   </td><td>  10686006</td><td>69.25500  </td></tr>\n",
       "\t<tr><td>1957      </td><td>Africa    </td><td> 264837738</td><td>41.26635  </td></tr>\n",
       "\t<tr><td>1957      </td><td>Americas  </td><td> 386953916</td><td>55.96028  </td></tr>\n",
       "\t<tr><td>1957      </td><td>Asia      </td><td>1562780599</td><td>49.31854  </td></tr>\n",
       "\t<tr><td>1957      </td><td>Europe    </td><td> 437890351</td><td>66.70307  </td></tr>\n",
       "\t<tr><td>1957      </td><td>Oceania   </td><td>  11941976</td><td>70.29500  </td></tr>\n",
       "\t<tr><td>1962      </td><td>Africa    </td><td> 296516865</td><td>43.31944  </td></tr>\n",
       "\t<tr><td>1962      </td><td>Americas  </td><td> 433270254</td><td>58.39876  </td></tr>\n",
       "\t<tr><td>1962      </td><td>Asia      </td><td>1696357182</td><td>51.56322  </td></tr>\n",
       "\t<tr><td>1962      </td><td>Europe    </td><td> 460355155</td><td>68.53923  </td></tr>\n",
       "\t<tr><td>1962      </td><td>Oceania   </td><td>  13283518</td><td>71.08500  </td></tr>\n",
       "\t<tr><td>1967      </td><td>Africa    </td><td> 335289489</td><td>45.33454  </td></tr>\n",
       "\t<tr><td>1967      </td><td>Americas  </td><td> 480746623</td><td>60.41092  </td></tr>\n",
       "\t<tr><td>1967      </td><td>Asia      </td><td>1905662900</td><td>54.66364  </td></tr>\n",
       "\t<tr><td>1967      </td><td>Europe    </td><td> 481178958</td><td>69.73760  </td></tr>\n",
       "\t<tr><td>1967      </td><td>Oceania   </td><td>  14600414</td><td>71.31000  </td></tr>\n",
       "\t<tr><td>1972      </td><td>Africa    </td><td> 379879541</td><td>47.45094  </td></tr>\n",
       "\t<tr><td>1972      </td><td>Americas  </td><td> 529384210</td><td>62.39492  </td></tr>\n",
       "\t<tr><td>1972      </td><td>Asia      </td><td>2150972248</td><td>57.31927  </td></tr>\n",
       "\t<tr><td>1972      </td><td>Europe    </td><td> 500635059</td><td>70.77503  </td></tr>\n",
       "\t<tr><td>1972      </td><td>Oceania   </td><td>  16106100</td><td>71.91000  </td></tr>\n",
       "\t<tr><td>1977      </td><td>Africa    </td><td> 433061021</td><td>49.58042  </td></tr>\n",
       "\t<tr><td>1977      </td><td>Americas  </td><td> 578067699</td><td>64.39156  </td></tr>\n",
       "\t<tr><td>1977      </td><td>Asia      </td><td>2384513556</td><td>59.61056  </td></tr>\n",
       "\t<tr><td>1977      </td><td>Europe    </td><td> 517164531</td><td>71.93777  </td></tr>\n",
       "\t<tr><td>1977      </td><td>Oceania   </td><td>  17239000</td><td>72.85500  </td></tr>\n",
       "\t<tr><td>1982      </td><td>Africa    </td><td> 499348587</td><td>51.59287  </td></tr>\n",
       "\t<tr><td>1982      </td><td>Americas  </td><td> 630290920</td><td>66.22884  </td></tr>\n",
       "\t<tr><td>1982      </td><td>Asia      </td><td>2610135582</td><td>62.61794  </td></tr>\n",
       "\t<tr><td>1982      </td><td>Europe    </td><td> 531266901</td><td>72.80640  </td></tr>\n",
       "\t<tr><td>1982      </td><td>Oceania   </td><td>  18394850</td><td>74.29000  </td></tr>\n",
       "\t<tr><td>1987      </td><td>Africa    </td><td> 574834110</td><td>53.34479  </td></tr>\n",
       "\t<tr><td>1987      </td><td>Americas  </td><td> 682753971</td><td>68.09072  </td></tr>\n",
       "\t<tr><td>1987      </td><td>Asia      </td><td>2871220762</td><td>64.85118  </td></tr>\n",
       "\t<tr><td>1987      </td><td>Europe    </td><td> 543094160</td><td>73.64217  </td></tr>\n",
       "\t<tr><td>1987      </td><td>Oceania   </td><td>  19574415</td><td>75.32000  </td></tr>\n",
       "\t<tr><td>1992      </td><td>Africa    </td><td> 659081517</td><td>53.62958  </td></tr>\n",
       "\t<tr><td>1992      </td><td>Americas  </td><td> 739274104</td><td>69.56836  </td></tr>\n",
       "\t<tr><td>1992      </td><td>Asia      </td><td>3133292191</td><td>66.53721  </td></tr>\n",
       "\t<tr><td>1992      </td><td>Europe    </td><td> 558142797</td><td>74.44010  </td></tr>\n",
       "\t<tr><td>1992      </td><td>Oceania   </td><td>  20919651</td><td>76.94500  </td></tr>\n",
       "\t<tr><td>1997      </td><td>Africa    </td><td> 743832984</td><td>53.59827  </td></tr>\n",
       "\t<tr><td>1997      </td><td>Americas  </td><td> 796900410</td><td>71.15048  </td></tr>\n",
       "\t<tr><td>1997      </td><td>Asia      </td><td>3383285500</td><td>68.02052  </td></tr>\n",
       "\t<tr><td>1997      </td><td>Europe    </td><td> 568944148</td><td>75.50517  </td></tr>\n",
       "\t<tr><td>1997      </td><td>Oceania   </td><td>  22241430</td><td>78.19000  </td></tr>\n",
       "\t<tr><td>2002      </td><td>Africa    </td><td> 833723916</td><td>53.32523  </td></tr>\n",
       "\t<tr><td>2002      </td><td>Americas  </td><td> 849772762</td><td>72.42204  </td></tr>\n",
       "\t<tr><td>2002      </td><td>Asia      </td><td>3601802203</td><td>69.23388  </td></tr>\n",
       "\t<tr><td>2002      </td><td>Europe    </td><td> 578223869</td><td>76.70060  </td></tr>\n",
       "\t<tr><td>2002      </td><td>Oceania   </td><td>  23454829</td><td>79.74000  </td></tr>\n",
       "\t<tr><td>2007      </td><td>Africa    </td><td> 929539692</td><td>54.80604  </td></tr>\n",
       "\t<tr><td>2007      </td><td>Americas  </td><td> 898871184</td><td>73.60812  </td></tr>\n",
       "\t<tr><td>2007      </td><td>Asia      </td><td>3811953827</td><td>70.72848  </td></tr>\n",
       "\t<tr><td>2007      </td><td>Europe    </td><td> 586098529</td><td>77.64860  </td></tr>\n",
       "\t<tr><td>2007      </td><td>Oceania   </td><td>  24549947</td><td>80.71950  </td></tr>\n",
       "</tbody>\n",
       "</table>\n"
      ],
      "text/latex": [
       "\\begin{tabular}{r|llll}\n",
       " year & continent & totalPop & meanLifeExp\\\\\n",
       "\\hline\n",
       "\t 1952       & Africa     &  237640501 & 39.13550  \\\\\n",
       "\t 1952       & Americas   &  345152446 & 53.27984  \\\\\n",
       "\t 1952       & Asia       & 1395357351 & 46.31439  \\\\\n",
       "\t 1952       & Europe     &  418120846 & 64.40850  \\\\\n",
       "\t 1952       & Oceania    &   10686006 & 69.25500  \\\\\n",
       "\t 1957       & Africa     &  264837738 & 41.26635  \\\\\n",
       "\t 1957       & Americas   &  386953916 & 55.96028  \\\\\n",
       "\t 1957       & Asia       & 1562780599 & 49.31854  \\\\\n",
       "\t 1957       & Europe     &  437890351 & 66.70307  \\\\\n",
       "\t 1957       & Oceania    &   11941976 & 70.29500  \\\\\n",
       "\t 1962       & Africa     &  296516865 & 43.31944  \\\\\n",
       "\t 1962       & Americas   &  433270254 & 58.39876  \\\\\n",
       "\t 1962       & Asia       & 1696357182 & 51.56322  \\\\\n",
       "\t 1962       & Europe     &  460355155 & 68.53923  \\\\\n",
       "\t 1962       & Oceania    &   13283518 & 71.08500  \\\\\n",
       "\t 1967       & Africa     &  335289489 & 45.33454  \\\\\n",
       "\t 1967       & Americas   &  480746623 & 60.41092  \\\\\n",
       "\t 1967       & Asia       & 1905662900 & 54.66364  \\\\\n",
       "\t 1967       & Europe     &  481178958 & 69.73760  \\\\\n",
       "\t 1967       & Oceania    &   14600414 & 71.31000  \\\\\n",
       "\t 1972       & Africa     &  379879541 & 47.45094  \\\\\n",
       "\t 1972       & Americas   &  529384210 & 62.39492  \\\\\n",
       "\t 1972       & Asia       & 2150972248 & 57.31927  \\\\\n",
       "\t 1972       & Europe     &  500635059 & 70.77503  \\\\\n",
       "\t 1972       & Oceania    &   16106100 & 71.91000  \\\\\n",
       "\t 1977       & Africa     &  433061021 & 49.58042  \\\\\n",
       "\t 1977       & Americas   &  578067699 & 64.39156  \\\\\n",
       "\t 1977       & Asia       & 2384513556 & 59.61056  \\\\\n",
       "\t 1977       & Europe     &  517164531 & 71.93777  \\\\\n",
       "\t 1977       & Oceania    &   17239000 & 72.85500  \\\\\n",
       "\t 1982       & Africa     &  499348587 & 51.59287  \\\\\n",
       "\t 1982       & Americas   &  630290920 & 66.22884  \\\\\n",
       "\t 1982       & Asia       & 2610135582 & 62.61794  \\\\\n",
       "\t 1982       & Europe     &  531266901 & 72.80640  \\\\\n",
       "\t 1982       & Oceania    &   18394850 & 74.29000  \\\\\n",
       "\t 1987       & Africa     &  574834110 & 53.34479  \\\\\n",
       "\t 1987       & Americas   &  682753971 & 68.09072  \\\\\n",
       "\t 1987       & Asia       & 2871220762 & 64.85118  \\\\\n",
       "\t 1987       & Europe     &  543094160 & 73.64217  \\\\\n",
       "\t 1987       & Oceania    &   19574415 & 75.32000  \\\\\n",
       "\t 1992       & Africa     &  659081517 & 53.62958  \\\\\n",
       "\t 1992       & Americas   &  739274104 & 69.56836  \\\\\n",
       "\t 1992       & Asia       & 3133292191 & 66.53721  \\\\\n",
       "\t 1992       & Europe     &  558142797 & 74.44010  \\\\\n",
       "\t 1992       & Oceania    &   20919651 & 76.94500  \\\\\n",
       "\t 1997       & Africa     &  743832984 & 53.59827  \\\\\n",
       "\t 1997       & Americas   &  796900410 & 71.15048  \\\\\n",
       "\t 1997       & Asia       & 3383285500 & 68.02052  \\\\\n",
       "\t 1997       & Europe     &  568944148 & 75.50517  \\\\\n",
       "\t 1997       & Oceania    &   22241430 & 78.19000  \\\\\n",
       "\t 2002       & Africa     &  833723916 & 53.32523  \\\\\n",
       "\t 2002       & Americas   &  849772762 & 72.42204  \\\\\n",
       "\t 2002       & Asia       & 3601802203 & 69.23388  \\\\\n",
       "\t 2002       & Europe     &  578223869 & 76.70060  \\\\\n",
       "\t 2002       & Oceania    &   23454829 & 79.74000  \\\\\n",
       "\t 2007       & Africa     &  929539692 & 54.80604  \\\\\n",
       "\t 2007       & Americas   &  898871184 & 73.60812  \\\\\n",
       "\t 2007       & Asia       & 3811953827 & 70.72848  \\\\\n",
       "\t 2007       & Europe     &  586098529 & 77.64860  \\\\\n",
       "\t 2007       & Oceania    &   24549947 & 80.71950  \\\\\n",
       "\\end{tabular}\n"
      ],
      "text/markdown": [
       "\n",
       "| year | continent | totalPop | meanLifeExp |\n",
       "|---|---|---|---|\n",
       "| 1952       | Africa     |  237640501 | 39.13550   |\n",
       "| 1952       | Americas   |  345152446 | 53.27984   |\n",
       "| 1952       | Asia       | 1395357351 | 46.31439   |\n",
       "| 1952       | Europe     |  418120846 | 64.40850   |\n",
       "| 1952       | Oceania    |   10686006 | 69.25500   |\n",
       "| 1957       | Africa     |  264837738 | 41.26635   |\n",
       "| 1957       | Americas   |  386953916 | 55.96028   |\n",
       "| 1957       | Asia       | 1562780599 | 49.31854   |\n",
       "| 1957       | Europe     |  437890351 | 66.70307   |\n",
       "| 1957       | Oceania    |   11941976 | 70.29500   |\n",
       "| 1962       | Africa     |  296516865 | 43.31944   |\n",
       "| 1962       | Americas   |  433270254 | 58.39876   |\n",
       "| 1962       | Asia       | 1696357182 | 51.56322   |\n",
       "| 1962       | Europe     |  460355155 | 68.53923   |\n",
       "| 1962       | Oceania    |   13283518 | 71.08500   |\n",
       "| 1967       | Africa     |  335289489 | 45.33454   |\n",
       "| 1967       | Americas   |  480746623 | 60.41092   |\n",
       "| 1967       | Asia       | 1905662900 | 54.66364   |\n",
       "| 1967       | Europe     |  481178958 | 69.73760   |\n",
       "| 1967       | Oceania    |   14600414 | 71.31000   |\n",
       "| 1972       | Africa     |  379879541 | 47.45094   |\n",
       "| 1972       | Americas   |  529384210 | 62.39492   |\n",
       "| 1972       | Asia       | 2150972248 | 57.31927   |\n",
       "| 1972       | Europe     |  500635059 | 70.77503   |\n",
       "| 1972       | Oceania    |   16106100 | 71.91000   |\n",
       "| 1977       | Africa     |  433061021 | 49.58042   |\n",
       "| 1977       | Americas   |  578067699 | 64.39156   |\n",
       "| 1977       | Asia       | 2384513556 | 59.61056   |\n",
       "| 1977       | Europe     |  517164531 | 71.93777   |\n",
       "| 1977       | Oceania    |   17239000 | 72.85500   |\n",
       "| 1982       | Africa     |  499348587 | 51.59287   |\n",
       "| 1982       | Americas   |  630290920 | 66.22884   |\n",
       "| 1982       | Asia       | 2610135582 | 62.61794   |\n",
       "| 1982       | Europe     |  531266901 | 72.80640   |\n",
       "| 1982       | Oceania    |   18394850 | 74.29000   |\n",
       "| 1987       | Africa     |  574834110 | 53.34479   |\n",
       "| 1987       | Americas   |  682753971 | 68.09072   |\n",
       "| 1987       | Asia       | 2871220762 | 64.85118   |\n",
       "| 1987       | Europe     |  543094160 | 73.64217   |\n",
       "| 1987       | Oceania    |   19574415 | 75.32000   |\n",
       "| 1992       | Africa     |  659081517 | 53.62958   |\n",
       "| 1992       | Americas   |  739274104 | 69.56836   |\n",
       "| 1992       | Asia       | 3133292191 | 66.53721   |\n",
       "| 1992       | Europe     |  558142797 | 74.44010   |\n",
       "| 1992       | Oceania    |   20919651 | 76.94500   |\n",
       "| 1997       | Africa     |  743832984 | 53.59827   |\n",
       "| 1997       | Americas   |  796900410 | 71.15048   |\n",
       "| 1997       | Asia       | 3383285500 | 68.02052   |\n",
       "| 1997       | Europe     |  568944148 | 75.50517   |\n",
       "| 1997       | Oceania    |   22241430 | 78.19000   |\n",
       "| 2002       | Africa     |  833723916 | 53.32523   |\n",
       "| 2002       | Americas   |  849772762 | 72.42204   |\n",
       "| 2002       | Asia       | 3601802203 | 69.23388   |\n",
       "| 2002       | Europe     |  578223869 | 76.70060   |\n",
       "| 2002       | Oceania    |   23454829 | 79.74000   |\n",
       "| 2007       | Africa     |  929539692 | 54.80604   |\n",
       "| 2007       | Americas   |  898871184 | 73.60812   |\n",
       "| 2007       | Asia       | 3811953827 | 70.72848   |\n",
       "| 2007       | Europe     |  586098529 | 77.64860   |\n",
       "| 2007       | Oceania    |   24549947 | 80.71950   |\n",
       "\n"
      ],
      "text/plain": [
       "   year continent totalPop   meanLifeExp\n",
       "1  1952 Africa     237640501 39.13550   \n",
       "2  1952 Americas   345152446 53.27984   \n",
       "3  1952 Asia      1395357351 46.31439   \n",
       "4  1952 Europe     418120846 64.40850   \n",
       "5  1952 Oceania     10686006 69.25500   \n",
       "6  1957 Africa     264837738 41.26635   \n",
       "7  1957 Americas   386953916 55.96028   \n",
       "8  1957 Asia      1562780599 49.31854   \n",
       "9  1957 Europe     437890351 66.70307   \n",
       "10 1957 Oceania     11941976 70.29500   \n",
       "11 1962 Africa     296516865 43.31944   \n",
       "12 1962 Americas   433270254 58.39876   \n",
       "13 1962 Asia      1696357182 51.56322   \n",
       "14 1962 Europe     460355155 68.53923   \n",
       "15 1962 Oceania     13283518 71.08500   \n",
       "16 1967 Africa     335289489 45.33454   \n",
       "17 1967 Americas   480746623 60.41092   \n",
       "18 1967 Asia      1905662900 54.66364   \n",
       "19 1967 Europe     481178958 69.73760   \n",
       "20 1967 Oceania     14600414 71.31000   \n",
       "21 1972 Africa     379879541 47.45094   \n",
       "22 1972 Americas   529384210 62.39492   \n",
       "23 1972 Asia      2150972248 57.31927   \n",
       "24 1972 Europe     500635059 70.77503   \n",
       "25 1972 Oceania     16106100 71.91000   \n",
       "26 1977 Africa     433061021 49.58042   \n",
       "27 1977 Americas   578067699 64.39156   \n",
       "28 1977 Asia      2384513556 59.61056   \n",
       "29 1977 Europe     517164531 71.93777   \n",
       "30 1977 Oceania     17239000 72.85500   \n",
       "31 1982 Africa     499348587 51.59287   \n",
       "32 1982 Americas   630290920 66.22884   \n",
       "33 1982 Asia      2610135582 62.61794   \n",
       "34 1982 Europe     531266901 72.80640   \n",
       "35 1982 Oceania     18394850 74.29000   \n",
       "36 1987 Africa     574834110 53.34479   \n",
       "37 1987 Americas   682753971 68.09072   \n",
       "38 1987 Asia      2871220762 64.85118   \n",
       "39 1987 Europe     543094160 73.64217   \n",
       "40 1987 Oceania     19574415 75.32000   \n",
       "41 1992 Africa     659081517 53.62958   \n",
       "42 1992 Americas   739274104 69.56836   \n",
       "43 1992 Asia      3133292191 66.53721   \n",
       "44 1992 Europe     558142797 74.44010   \n",
       "45 1992 Oceania     20919651 76.94500   \n",
       "46 1997 Africa     743832984 53.59827   \n",
       "47 1997 Americas   796900410 71.15048   \n",
       "48 1997 Asia      3383285500 68.02052   \n",
       "49 1997 Europe     568944148 75.50517   \n",
       "50 1997 Oceania     22241430 78.19000   \n",
       "51 2002 Africa     833723916 53.32523   \n",
       "52 2002 Americas   849772762 72.42204   \n",
       "53 2002 Asia      3601802203 69.23388   \n",
       "54 2002 Europe     578223869 76.70060   \n",
       "55 2002 Oceania     23454829 79.74000   \n",
       "56 2007 Africa     929539692 54.80604   \n",
       "57 2007 Americas   898871184 73.60812   \n",
       "58 2007 Asia      3811953827 70.72848   \n",
       "59 2007 Europe     586098529 77.64860   \n",
       "60 2007 Oceania     24549947 80.71950   "
      ]
     },
     "metadata": {},
     "output_type": "display_data"
    }
   ],
   "source": [
    "gapminder %>%\n",
    "    group_by(year, continent) %>%\n",
    "    summarize(totalPop = sum(pop), \n",
    "              meanLifeExp = mean(lifeExp))"
   ]
  },
  {
   "cell_type": "markdown",
   "id": "62185332-424c-4967-8d0b-b4807cda20ad",
   "metadata": {},
   "source": [
    "Now the output has one row for each combination of a year and continent. For example, we see the total population and average life expectancy in 1952 for Africa, the Americas, Asia, Europe, and Oceania, followed by each of the continent-level summaries for 1957."
   ]
  },
  {
   "cell_type": "markdown",
   "id": "9d74439a-8ca9-41b1-a4ef-7064101bcfca",
   "metadata": {},
   "source": [
    "## Exercise"
   ]
  },
  {
   "cell_type": "code",
   "execution_count": 18,
   "id": "ffa088b7-b299-4863-a706-61d7e22240ac",
   "metadata": {},
   "outputs": [
    {
     "data": {
      "text/html": [
       "<table>\n",
       "<thead><tr><th scope=col>year</th><th scope=col>medianLifeExp</th><th scope=col>maxGdpPercap</th></tr></thead>\n",
       "<tbody>\n",
       "\t<tr><td>1952     </td><td>45.1355  </td><td>108382.35</td></tr>\n",
       "\t<tr><td>1957     </td><td>48.3605  </td><td>113523.13</td></tr>\n",
       "\t<tr><td>1962     </td><td>50.8810  </td><td> 95458.11</td></tr>\n",
       "\t<tr><td>1967     </td><td>53.8250  </td><td> 80894.88</td></tr>\n",
       "\t<tr><td>1972     </td><td>56.5300  </td><td>109347.87</td></tr>\n",
       "\t<tr><td>1977     </td><td>59.6720  </td><td> 59265.48</td></tr>\n",
       "\t<tr><td>1982     </td><td>62.4415  </td><td> 33693.18</td></tr>\n",
       "\t<tr><td>1987     </td><td>65.8340  </td><td> 31540.97</td></tr>\n",
       "\t<tr><td>1992     </td><td>67.7030  </td><td> 34932.92</td></tr>\n",
       "\t<tr><td>1997     </td><td>69.3940  </td><td> 41283.16</td></tr>\n",
       "\t<tr><td>2002     </td><td>70.8255  </td><td> 44683.98</td></tr>\n",
       "\t<tr><td>2007     </td><td>71.9355  </td><td> 49357.19</td></tr>\n",
       "</tbody>\n",
       "</table>\n"
      ],
      "text/latex": [
       "\\begin{tabular}{r|lll}\n",
       " year & medianLifeExp & maxGdpPercap\\\\\n",
       "\\hline\n",
       "\t 1952      & 45.1355   & 108382.35\\\\\n",
       "\t 1957      & 48.3605   & 113523.13\\\\\n",
       "\t 1962      & 50.8810   &  95458.11\\\\\n",
       "\t 1967      & 53.8250   &  80894.88\\\\\n",
       "\t 1972      & 56.5300   & 109347.87\\\\\n",
       "\t 1977      & 59.6720   &  59265.48\\\\\n",
       "\t 1982      & 62.4415   &  33693.18\\\\\n",
       "\t 1987      & 65.8340   &  31540.97\\\\\n",
       "\t 1992      & 67.7030   &  34932.92\\\\\n",
       "\t 1997      & 69.3940   &  41283.16\\\\\n",
       "\t 2002      & 70.8255   &  44683.98\\\\\n",
       "\t 2007      & 71.9355   &  49357.19\\\\\n",
       "\\end{tabular}\n"
      ],
      "text/markdown": [
       "\n",
       "| year | medianLifeExp | maxGdpPercap |\n",
       "|---|---|---|\n",
       "| 1952      | 45.1355   | 108382.35 |\n",
       "| 1957      | 48.3605   | 113523.13 |\n",
       "| 1962      | 50.8810   |  95458.11 |\n",
       "| 1967      | 53.8250   |  80894.88 |\n",
       "| 1972      | 56.5300   | 109347.87 |\n",
       "| 1977      | 59.6720   |  59265.48 |\n",
       "| 1982      | 62.4415   |  33693.18 |\n",
       "| 1987      | 65.8340   |  31540.97 |\n",
       "| 1992      | 67.7030   |  34932.92 |\n",
       "| 1997      | 69.3940   |  41283.16 |\n",
       "| 2002      | 70.8255   |  44683.98 |\n",
       "| 2007      | 71.9355   |  49357.19 |\n",
       "\n"
      ],
      "text/plain": [
       "   year medianLifeExp maxGdpPercap\n",
       "1  1952 45.1355       108382.35   \n",
       "2  1957 48.3605       113523.13   \n",
       "3  1962 50.8810        95458.11   \n",
       "4  1967 53.8250        80894.88   \n",
       "5  1972 56.5300       109347.87   \n",
       "6  1977 59.6720        59265.48   \n",
       "7  1982 62.4415        33693.18   \n",
       "8  1987 65.8340        31540.97   \n",
       "9  1992 67.7030        34932.92   \n",
       "10 1997 69.3940        41283.16   \n",
       "11 2002 70.8255        44683.98   \n",
       "12 2007 71.9355        49357.19   "
      ]
     },
     "metadata": {},
     "output_type": "display_data"
    }
   ],
   "source": [
    "# Summarizing by year\n",
    "# Find median life expectancy and maximum GDP per capita in each year\n",
    "gapminder %>%\n",
    "    group_by(year) %>%\n",
    "    summarize(medianLifeExp = median(lifeExp), \n",
    "              maxGdpPercap = max(gdpPercap))"
   ]
  },
  {
   "cell_type": "markdown",
   "id": "cb56bed6-73f2-4254-982a-27c2b21499fc",
   "metadata": {},
   "source": [
    "*Notice that median life expectancy across countries is generally going up over time, but maximum GDP per capita is not.*"
   ]
  },
  {
   "cell_type": "code",
   "execution_count": 19,
   "id": "a01e24c7-3201-4260-8d36-f4f7c7e1005a",
   "metadata": {},
   "outputs": [
    {
     "data": {
      "text/html": [
       "<table>\n",
       "<thead><tr><th scope=col>continent</th><th scope=col>medianLifeExp</th><th scope=col>maxGdpPercap</th></tr></thead>\n",
       "<tbody>\n",
       "\t<tr><td>Africa    </td><td>40.5925   </td><td>  5487.104</td></tr>\n",
       "\t<tr><td>Americas  </td><td>56.0740   </td><td> 14847.127</td></tr>\n",
       "\t<tr><td>Asia      </td><td>48.2840   </td><td>113523.133</td></tr>\n",
       "\t<tr><td>Europe    </td><td>67.6500   </td><td> 17909.490</td></tr>\n",
       "\t<tr><td>Oceania   </td><td>70.2950   </td><td> 12247.395</td></tr>\n",
       "</tbody>\n",
       "</table>\n"
      ],
      "text/latex": [
       "\\begin{tabular}{r|lll}\n",
       " continent & medianLifeExp & maxGdpPercap\\\\\n",
       "\\hline\n",
       "\t Africa     & 40.5925    &   5487.104\\\\\n",
       "\t Americas   & 56.0740    &  14847.127\\\\\n",
       "\t Asia       & 48.2840    & 113523.133\\\\\n",
       "\t Europe     & 67.6500    &  17909.490\\\\\n",
       "\t Oceania    & 70.2950    &  12247.395\\\\\n",
       "\\end{tabular}\n"
      ],
      "text/markdown": [
       "\n",
       "| continent | medianLifeExp | maxGdpPercap |\n",
       "|---|---|---|\n",
       "| Africa     | 40.5925    |   5487.104 |\n",
       "| Americas   | 56.0740    |  14847.127 |\n",
       "| Asia       | 48.2840    | 113523.133 |\n",
       "| Europe     | 67.6500    |  17909.490 |\n",
       "| Oceania    | 70.2950    |  12247.395 |\n",
       "\n"
      ],
      "text/plain": [
       "  continent medianLifeExp maxGdpPercap\n",
       "1 Africa    40.5925         5487.104  \n",
       "2 Americas  56.0740        14847.127  \n",
       "3 Asia      48.2840       113523.133  \n",
       "4 Europe    67.6500        17909.490  \n",
       "5 Oceania   70.2950        12247.395  "
      ]
     },
     "metadata": {},
     "output_type": "display_data"
    }
   ],
   "source": [
    "# Summarizing by continent\n",
    "# Find median life expectancy and maximum GDP per capita in each continent in 1957\n",
    "gapminder %>%\n",
    "    filter(year == 1957) %>%\n",
    "    group_by(continent) %>%\n",
    "    summarize(medianLifeExp = median(lifeExp), \n",
    "              maxGdpPercap = max(gdpPercap))"
   ]
  },
  {
   "cell_type": "code",
   "execution_count": 26,
   "id": "aced8e3a-b596-42a4-8858-0722f4b5bc9f",
   "metadata": {},
   "outputs": [
    {
     "data": {
      "text/html": [
       "<table>\n",
       "<thead><tr><th scope=col>continent</th><th scope=col>medianLifeExp</th><th scope=col>maxGdpPercap</th></tr></thead>\n",
       "<tbody>\n",
       "\t<tr><td>Africa  </td><td>52.9265 </td><td>13206.48</td></tr>\n",
       "\t<tr><td>Americas</td><td>72.8990 </td><td>42951.65</td></tr>\n",
       "\t<tr><td>Asia    </td><td>72.3960 </td><td>47306.99</td></tr>\n",
       "\t<tr><td>Europe  </td><td>78.6085 </td><td>49357.19</td></tr>\n",
       "\t<tr><td>Oceania </td><td>80.7195 </td><td>34435.37</td></tr>\n",
       "</tbody>\n",
       "</table>\n"
      ],
      "text/latex": [
       "\\begin{tabular}{r|lll}\n",
       " continent & medianLifeExp & maxGdpPercap\\\\\n",
       "\\hline\n",
       "\t Africa   & 52.9265  & 13206.48\\\\\n",
       "\t Americas & 72.8990  & 42951.65\\\\\n",
       "\t Asia     & 72.3960  & 47306.99\\\\\n",
       "\t Europe   & 78.6085  & 49357.19\\\\\n",
       "\t Oceania  & 80.7195  & 34435.37\\\\\n",
       "\\end{tabular}\n"
      ],
      "text/markdown": [
       "\n",
       "| continent | medianLifeExp | maxGdpPercap |\n",
       "|---|---|---|\n",
       "| Africa   | 52.9265  | 13206.48 |\n",
       "| Americas | 72.8990  | 42951.65 |\n",
       "| Asia     | 72.3960  | 47306.99 |\n",
       "| Europe   | 78.6085  | 49357.19 |\n",
       "| Oceania  | 80.7195  | 34435.37 |\n",
       "\n"
      ],
      "text/plain": [
       "  continent medianLifeExp maxGdpPercap\n",
       "1 Africa    52.9265       13206.48    \n",
       "2 Americas  72.8990       42951.65    \n",
       "3 Asia      72.3960       47306.99    \n",
       "4 Europe    78.6085       49357.19    \n",
       "5 Oceania   80.7195       34435.37    "
      ]
     },
     "metadata": {},
     "output_type": "display_data"
    }
   ],
   "source": [
    "# Find median life expectancy and maximum GDP per capita in each continent in 2007\n",
    "gapminder %>%\n",
    "    filter(year == 2007) %>%\n",
    "    group_by(continent) %>%\n",
    "    summarize(medianLifeExp = median(lifeExp), \n",
    "              maxGdpPercap = max(gdpPercap))"
   ]
  },
  {
   "cell_type": "code",
   "execution_count": 27,
   "id": "c82e6d41-7870-4091-86ef-f48b53d83c72",
   "metadata": {},
   "outputs": [
    {
     "name": "stderr",
     "output_type": "stream",
     "text": [
      "`summarise()` has grouped output by 'continent'. You can override using the `.groups` argument.\n"
     ]
    },
    {
     "data": {
      "text/html": [
       "<table>\n",
       "<thead><tr><th scope=col>continent</th><th scope=col>year</th><th scope=col>medianLifeExp</th><th scope=col>maxGdpPercap</th></tr></thead>\n",
       "<tbody>\n",
       "\t<tr><td>Africa    </td><td>1952      </td><td>38.8330   </td><td>  4725.296</td></tr>\n",
       "\t<tr><td>Africa    </td><td>1957      </td><td>40.5925   </td><td>  5487.104</td></tr>\n",
       "\t<tr><td>Africa    </td><td>1962      </td><td>42.6305   </td><td>  6757.031</td></tr>\n",
       "\t<tr><td>Africa    </td><td>1967      </td><td>44.6985   </td><td> 18772.752</td></tr>\n",
       "\t<tr><td>Africa    </td><td>1972      </td><td>47.0315   </td><td> 21011.497</td></tr>\n",
       "\t<tr><td>Africa    </td><td>1977      </td><td>49.2725   </td><td> 21951.212</td></tr>\n",
       "\t<tr><td>Africa    </td><td>1982      </td><td>50.7560   </td><td> 17364.275</td></tr>\n",
       "\t<tr><td>Africa    </td><td>1987      </td><td>51.6395   </td><td> 11864.408</td></tr>\n",
       "\t<tr><td>Africa    </td><td>1992      </td><td>52.4290   </td><td> 13522.158</td></tr>\n",
       "\t<tr><td>Africa    </td><td>1997      </td><td>52.7590   </td><td> 14722.842</td></tr>\n",
       "\t<tr><td>Africa    </td><td>2002      </td><td>51.2355   </td><td> 12521.714</td></tr>\n",
       "\t<tr><td>Africa    </td><td>2007      </td><td>52.9265   </td><td> 13206.485</td></tr>\n",
       "\t<tr><td>Americas  </td><td>1952      </td><td>54.7450   </td><td> 13990.482</td></tr>\n",
       "\t<tr><td>Americas  </td><td>1957      </td><td>56.0740   </td><td> 14847.127</td></tr>\n",
       "\t<tr><td>Americas  </td><td>1962      </td><td>58.2990   </td><td> 16173.146</td></tr>\n",
       "\t<tr><td>Americas  </td><td>1967      </td><td>60.5230   </td><td> 19530.366</td></tr>\n",
       "\t<tr><td>Americas  </td><td>1972      </td><td>63.4410   </td><td> 21806.036</td></tr>\n",
       "\t<tr><td>Americas  </td><td>1977      </td><td>66.3530   </td><td> 24072.632</td></tr>\n",
       "\t<tr><td>Americas  </td><td>1982      </td><td>67.4050   </td><td> 25009.559</td></tr>\n",
       "\t<tr><td>Americas  </td><td>1987      </td><td>69.4980   </td><td> 29884.350</td></tr>\n",
       "\t<tr><td>Americas  </td><td>1992      </td><td>69.8620   </td><td> 32003.932</td></tr>\n",
       "\t<tr><td>Americas  </td><td>1997      </td><td>72.1460   </td><td> 35767.433</td></tr>\n",
       "\t<tr><td>Americas  </td><td>2002      </td><td>72.0470   </td><td> 39097.100</td></tr>\n",
       "\t<tr><td>Americas  </td><td>2007      </td><td>72.8990   </td><td> 42951.653</td></tr>\n",
       "\t<tr><td>Asia      </td><td>1952      </td><td>44.8690   </td><td>108382.353</td></tr>\n",
       "\t<tr><td>Asia      </td><td>1957      </td><td>48.2840   </td><td>113523.133</td></tr>\n",
       "\t<tr><td>Asia      </td><td>1962      </td><td>49.3250   </td><td> 95458.112</td></tr>\n",
       "\t<tr><td>Asia      </td><td>1967      </td><td>53.6550   </td><td> 80894.883</td></tr>\n",
       "\t<tr><td>Asia      </td><td>1972      </td><td>56.9500   </td><td>109347.867</td></tr>\n",
       "\t<tr><td>Asia      </td><td>1977      </td><td>60.7650   </td><td> 59265.477</td></tr>\n",
       "\t<tr><td>Asia      </td><td>1982      </td><td>63.7390   </td><td> 33693.175</td></tr>\n",
       "\t<tr><td>Asia      </td><td>1987      </td><td>66.2950   </td><td> 28118.430</td></tr>\n",
       "\t<tr><td>Asia      </td><td>1992      </td><td>68.6900   </td><td> 34932.920</td></tr>\n",
       "\t<tr><td>Asia      </td><td>1997      </td><td>70.2650   </td><td> 40300.620</td></tr>\n",
       "\t<tr><td>Asia      </td><td>2002      </td><td>71.0280   </td><td> 36023.105</td></tr>\n",
       "\t<tr><td>Asia      </td><td>2007      </td><td>72.3960   </td><td> 47306.990</td></tr>\n",
       "\t<tr><td>Europe    </td><td>1952      </td><td>65.9000   </td><td> 14734.233</td></tr>\n",
       "\t<tr><td>Europe    </td><td>1957      </td><td>67.6500   </td><td> 17909.490</td></tr>\n",
       "\t<tr><td>Europe    </td><td>1962      </td><td>69.5250   </td><td> 20431.093</td></tr>\n",
       "\t<tr><td>Europe    </td><td>1967      </td><td>70.6100   </td><td> 22966.144</td></tr>\n",
       "\t<tr><td>Europe    </td><td>1972      </td><td>70.8850   </td><td> 27195.113</td></tr>\n",
       "\t<tr><td>Europe    </td><td>1977      </td><td>72.3350   </td><td> 26982.291</td></tr>\n",
       "\t<tr><td>Europe    </td><td>1982      </td><td>73.4900   </td><td> 28397.715</td></tr>\n",
       "\t<tr><td>Europe    </td><td>1987      </td><td>74.8150   </td><td> 31540.975</td></tr>\n",
       "\t<tr><td>Europe    </td><td>1992      </td><td>75.4510   </td><td> 33965.661</td></tr>\n",
       "\t<tr><td>Europe    </td><td>1997      </td><td>76.1160   </td><td> 41283.164</td></tr>\n",
       "\t<tr><td>Europe    </td><td>2002      </td><td>77.5365   </td><td> 44683.975</td></tr>\n",
       "\t<tr><td>Europe    </td><td>2007      </td><td>78.6085   </td><td> 49357.190</td></tr>\n",
       "\t<tr><td>Oceania   </td><td>1952      </td><td>69.2550   </td><td> 10556.576</td></tr>\n",
       "\t<tr><td>Oceania   </td><td>1957      </td><td>70.2950   </td><td> 12247.395</td></tr>\n",
       "\t<tr><td>Oceania   </td><td>1962      </td><td>71.0850   </td><td> 13175.678</td></tr>\n",
       "\t<tr><td>Oceania   </td><td>1967      </td><td>71.3100   </td><td> 14526.125</td></tr>\n",
       "\t<tr><td>Oceania   </td><td>1972      </td><td>71.9100   </td><td> 16788.629</td></tr>\n",
       "\t<tr><td>Oceania   </td><td>1977      </td><td>72.8550   </td><td> 18334.198</td></tr>\n",
       "\t<tr><td>Oceania   </td><td>1982      </td><td>74.2900   </td><td> 19477.009</td></tr>\n",
       "\t<tr><td>Oceania   </td><td>1987      </td><td>75.3200   </td><td> 21888.889</td></tr>\n",
       "\t<tr><td>Oceania   </td><td>1992      </td><td>76.9450   </td><td> 23424.767</td></tr>\n",
       "\t<tr><td>Oceania   </td><td>1997      </td><td>78.1900   </td><td> 26997.937</td></tr>\n",
       "\t<tr><td>Oceania   </td><td>2002      </td><td>79.7400   </td><td> 30687.755</td></tr>\n",
       "\t<tr><td>Oceania   </td><td>2007      </td><td>80.7195   </td><td> 34435.367</td></tr>\n",
       "</tbody>\n",
       "</table>\n"
      ],
      "text/latex": [
       "\\begin{tabular}{r|llll}\n",
       " continent & year & medianLifeExp & maxGdpPercap\\\\\n",
       "\\hline\n",
       "\t Africa     & 1952       & 38.8330    &   4725.296\\\\\n",
       "\t Africa     & 1957       & 40.5925    &   5487.104\\\\\n",
       "\t Africa     & 1962       & 42.6305    &   6757.031\\\\\n",
       "\t Africa     & 1967       & 44.6985    &  18772.752\\\\\n",
       "\t Africa     & 1972       & 47.0315    &  21011.497\\\\\n",
       "\t Africa     & 1977       & 49.2725    &  21951.212\\\\\n",
       "\t Africa     & 1982       & 50.7560    &  17364.275\\\\\n",
       "\t Africa     & 1987       & 51.6395    &  11864.408\\\\\n",
       "\t Africa     & 1992       & 52.4290    &  13522.158\\\\\n",
       "\t Africa     & 1997       & 52.7590    &  14722.842\\\\\n",
       "\t Africa     & 2002       & 51.2355    &  12521.714\\\\\n",
       "\t Africa     & 2007       & 52.9265    &  13206.485\\\\\n",
       "\t Americas   & 1952       & 54.7450    &  13990.482\\\\\n",
       "\t Americas   & 1957       & 56.0740    &  14847.127\\\\\n",
       "\t Americas   & 1962       & 58.2990    &  16173.146\\\\\n",
       "\t Americas   & 1967       & 60.5230    &  19530.366\\\\\n",
       "\t Americas   & 1972       & 63.4410    &  21806.036\\\\\n",
       "\t Americas   & 1977       & 66.3530    &  24072.632\\\\\n",
       "\t Americas   & 1982       & 67.4050    &  25009.559\\\\\n",
       "\t Americas   & 1987       & 69.4980    &  29884.350\\\\\n",
       "\t Americas   & 1992       & 69.8620    &  32003.932\\\\\n",
       "\t Americas   & 1997       & 72.1460    &  35767.433\\\\\n",
       "\t Americas   & 2002       & 72.0470    &  39097.100\\\\\n",
       "\t Americas   & 2007       & 72.8990    &  42951.653\\\\\n",
       "\t Asia       & 1952       & 44.8690    & 108382.353\\\\\n",
       "\t Asia       & 1957       & 48.2840    & 113523.133\\\\\n",
       "\t Asia       & 1962       & 49.3250    &  95458.112\\\\\n",
       "\t Asia       & 1967       & 53.6550    &  80894.883\\\\\n",
       "\t Asia       & 1972       & 56.9500    & 109347.867\\\\\n",
       "\t Asia       & 1977       & 60.7650    &  59265.477\\\\\n",
       "\t Asia       & 1982       & 63.7390    &  33693.175\\\\\n",
       "\t Asia       & 1987       & 66.2950    &  28118.430\\\\\n",
       "\t Asia       & 1992       & 68.6900    &  34932.920\\\\\n",
       "\t Asia       & 1997       & 70.2650    &  40300.620\\\\\n",
       "\t Asia       & 2002       & 71.0280    &  36023.105\\\\\n",
       "\t Asia       & 2007       & 72.3960    &  47306.990\\\\\n",
       "\t Europe     & 1952       & 65.9000    &  14734.233\\\\\n",
       "\t Europe     & 1957       & 67.6500    &  17909.490\\\\\n",
       "\t Europe     & 1962       & 69.5250    &  20431.093\\\\\n",
       "\t Europe     & 1967       & 70.6100    &  22966.144\\\\\n",
       "\t Europe     & 1972       & 70.8850    &  27195.113\\\\\n",
       "\t Europe     & 1977       & 72.3350    &  26982.291\\\\\n",
       "\t Europe     & 1982       & 73.4900    &  28397.715\\\\\n",
       "\t Europe     & 1987       & 74.8150    &  31540.975\\\\\n",
       "\t Europe     & 1992       & 75.4510    &  33965.661\\\\\n",
       "\t Europe     & 1997       & 76.1160    &  41283.164\\\\\n",
       "\t Europe     & 2002       & 77.5365    &  44683.975\\\\\n",
       "\t Europe     & 2007       & 78.6085    &  49357.190\\\\\n",
       "\t Oceania    & 1952       & 69.2550    &  10556.576\\\\\n",
       "\t Oceania    & 1957       & 70.2950    &  12247.395\\\\\n",
       "\t Oceania    & 1962       & 71.0850    &  13175.678\\\\\n",
       "\t Oceania    & 1967       & 71.3100    &  14526.125\\\\\n",
       "\t Oceania    & 1972       & 71.9100    &  16788.629\\\\\n",
       "\t Oceania    & 1977       & 72.8550    &  18334.198\\\\\n",
       "\t Oceania    & 1982       & 74.2900    &  19477.009\\\\\n",
       "\t Oceania    & 1987       & 75.3200    &  21888.889\\\\\n",
       "\t Oceania    & 1992       & 76.9450    &  23424.767\\\\\n",
       "\t Oceania    & 1997       & 78.1900    &  26997.937\\\\\n",
       "\t Oceania    & 2002       & 79.7400    &  30687.755\\\\\n",
       "\t Oceania    & 2007       & 80.7195    &  34435.367\\\\\n",
       "\\end{tabular}\n"
      ],
      "text/markdown": [
       "\n",
       "| continent | year | medianLifeExp | maxGdpPercap |\n",
       "|---|---|---|---|\n",
       "| Africa     | 1952       | 38.8330    |   4725.296 |\n",
       "| Africa     | 1957       | 40.5925    |   5487.104 |\n",
       "| Africa     | 1962       | 42.6305    |   6757.031 |\n",
       "| Africa     | 1967       | 44.6985    |  18772.752 |\n",
       "| Africa     | 1972       | 47.0315    |  21011.497 |\n",
       "| Africa     | 1977       | 49.2725    |  21951.212 |\n",
       "| Africa     | 1982       | 50.7560    |  17364.275 |\n",
       "| Africa     | 1987       | 51.6395    |  11864.408 |\n",
       "| Africa     | 1992       | 52.4290    |  13522.158 |\n",
       "| Africa     | 1997       | 52.7590    |  14722.842 |\n",
       "| Africa     | 2002       | 51.2355    |  12521.714 |\n",
       "| Africa     | 2007       | 52.9265    |  13206.485 |\n",
       "| Americas   | 1952       | 54.7450    |  13990.482 |\n",
       "| Americas   | 1957       | 56.0740    |  14847.127 |\n",
       "| Americas   | 1962       | 58.2990    |  16173.146 |\n",
       "| Americas   | 1967       | 60.5230    |  19530.366 |\n",
       "| Americas   | 1972       | 63.4410    |  21806.036 |\n",
       "| Americas   | 1977       | 66.3530    |  24072.632 |\n",
       "| Americas   | 1982       | 67.4050    |  25009.559 |\n",
       "| Americas   | 1987       | 69.4980    |  29884.350 |\n",
       "| Americas   | 1992       | 69.8620    |  32003.932 |\n",
       "| Americas   | 1997       | 72.1460    |  35767.433 |\n",
       "| Americas   | 2002       | 72.0470    |  39097.100 |\n",
       "| Americas   | 2007       | 72.8990    |  42951.653 |\n",
       "| Asia       | 1952       | 44.8690    | 108382.353 |\n",
       "| Asia       | 1957       | 48.2840    | 113523.133 |\n",
       "| Asia       | 1962       | 49.3250    |  95458.112 |\n",
       "| Asia       | 1967       | 53.6550    |  80894.883 |\n",
       "| Asia       | 1972       | 56.9500    | 109347.867 |\n",
       "| Asia       | 1977       | 60.7650    |  59265.477 |\n",
       "| Asia       | 1982       | 63.7390    |  33693.175 |\n",
       "| Asia       | 1987       | 66.2950    |  28118.430 |\n",
       "| Asia       | 1992       | 68.6900    |  34932.920 |\n",
       "| Asia       | 1997       | 70.2650    |  40300.620 |\n",
       "| Asia       | 2002       | 71.0280    |  36023.105 |\n",
       "| Asia       | 2007       | 72.3960    |  47306.990 |\n",
       "| Europe     | 1952       | 65.9000    |  14734.233 |\n",
       "| Europe     | 1957       | 67.6500    |  17909.490 |\n",
       "| Europe     | 1962       | 69.5250    |  20431.093 |\n",
       "| Europe     | 1967       | 70.6100    |  22966.144 |\n",
       "| Europe     | 1972       | 70.8850    |  27195.113 |\n",
       "| Europe     | 1977       | 72.3350    |  26982.291 |\n",
       "| Europe     | 1982       | 73.4900    |  28397.715 |\n",
       "| Europe     | 1987       | 74.8150    |  31540.975 |\n",
       "| Europe     | 1992       | 75.4510    |  33965.661 |\n",
       "| Europe     | 1997       | 76.1160    |  41283.164 |\n",
       "| Europe     | 2002       | 77.5365    |  44683.975 |\n",
       "| Europe     | 2007       | 78.6085    |  49357.190 |\n",
       "| Oceania    | 1952       | 69.2550    |  10556.576 |\n",
       "| Oceania    | 1957       | 70.2950    |  12247.395 |\n",
       "| Oceania    | 1962       | 71.0850    |  13175.678 |\n",
       "| Oceania    | 1967       | 71.3100    |  14526.125 |\n",
       "| Oceania    | 1972       | 71.9100    |  16788.629 |\n",
       "| Oceania    | 1977       | 72.8550    |  18334.198 |\n",
       "| Oceania    | 1982       | 74.2900    |  19477.009 |\n",
       "| Oceania    | 1987       | 75.3200    |  21888.889 |\n",
       "| Oceania    | 1992       | 76.9450    |  23424.767 |\n",
       "| Oceania    | 1997       | 78.1900    |  26997.937 |\n",
       "| Oceania    | 2002       | 79.7400    |  30687.755 |\n",
       "| Oceania    | 2007       | 80.7195    |  34435.367 |\n",
       "\n"
      ],
      "text/plain": [
       "   continent year medianLifeExp maxGdpPercap\n",
       "1  Africa    1952 38.8330         4725.296  \n",
       "2  Africa    1957 40.5925         5487.104  \n",
       "3  Africa    1962 42.6305         6757.031  \n",
       "4  Africa    1967 44.6985        18772.752  \n",
       "5  Africa    1972 47.0315        21011.497  \n",
       "6  Africa    1977 49.2725        21951.212  \n",
       "7  Africa    1982 50.7560        17364.275  \n",
       "8  Africa    1987 51.6395        11864.408  \n",
       "9  Africa    1992 52.4290        13522.158  \n",
       "10 Africa    1997 52.7590        14722.842  \n",
       "11 Africa    2002 51.2355        12521.714  \n",
       "12 Africa    2007 52.9265        13206.485  \n",
       "13 Americas  1952 54.7450        13990.482  \n",
       "14 Americas  1957 56.0740        14847.127  \n",
       "15 Americas  1962 58.2990        16173.146  \n",
       "16 Americas  1967 60.5230        19530.366  \n",
       "17 Americas  1972 63.4410        21806.036  \n",
       "18 Americas  1977 66.3530        24072.632  \n",
       "19 Americas  1982 67.4050        25009.559  \n",
       "20 Americas  1987 69.4980        29884.350  \n",
       "21 Americas  1992 69.8620        32003.932  \n",
       "22 Americas  1997 72.1460        35767.433  \n",
       "23 Americas  2002 72.0470        39097.100  \n",
       "24 Americas  2007 72.8990        42951.653  \n",
       "25 Asia      1952 44.8690       108382.353  \n",
       "26 Asia      1957 48.2840       113523.133  \n",
       "27 Asia      1962 49.3250        95458.112  \n",
       "28 Asia      1967 53.6550        80894.883  \n",
       "29 Asia      1972 56.9500       109347.867  \n",
       "30 Asia      1977 60.7650        59265.477  \n",
       "31 Asia      1982 63.7390        33693.175  \n",
       "32 Asia      1987 66.2950        28118.430  \n",
       "33 Asia      1992 68.6900        34932.920  \n",
       "34 Asia      1997 70.2650        40300.620  \n",
       "35 Asia      2002 71.0280        36023.105  \n",
       "36 Asia      2007 72.3960        47306.990  \n",
       "37 Europe    1952 65.9000        14734.233  \n",
       "38 Europe    1957 67.6500        17909.490  \n",
       "39 Europe    1962 69.5250        20431.093  \n",
       "40 Europe    1967 70.6100        22966.144  \n",
       "41 Europe    1972 70.8850        27195.113  \n",
       "42 Europe    1977 72.3350        26982.291  \n",
       "43 Europe    1982 73.4900        28397.715  \n",
       "44 Europe    1987 74.8150        31540.975  \n",
       "45 Europe    1992 75.4510        33965.661  \n",
       "46 Europe    1997 76.1160        41283.164  \n",
       "47 Europe    2002 77.5365        44683.975  \n",
       "48 Europe    2007 78.6085        49357.190  \n",
       "49 Oceania   1952 69.2550        10556.576  \n",
       "50 Oceania   1957 70.2950        12247.395  \n",
       "51 Oceania   1962 71.0850        13175.678  \n",
       "52 Oceania   1967 71.3100        14526.125  \n",
       "53 Oceania   1972 71.9100        16788.629  \n",
       "54 Oceania   1977 72.8550        18334.198  \n",
       "55 Oceania   1982 74.2900        19477.009  \n",
       "56 Oceania   1987 75.3200        21888.889  \n",
       "57 Oceania   1992 76.9450        23424.767  \n",
       "58 Oceania   1997 78.1900        26997.937  \n",
       "59 Oceania   2002 79.7400        30687.755  \n",
       "60 Oceania   2007 80.7195        34435.367  "
      ]
     },
     "metadata": {},
     "output_type": "display_data"
    }
   ],
   "source": [
    "# Summarizing by continent and year\n",
    "# Find median life expectancy and maximum GDP per capita in each continent/year combination\n",
    "gapminder %>%\n",
    "    group_by(continent, year) %>%\n",
    "    summarize(medianLifeExp = median(lifeExp), maxGdpPercap = max(gdpPercap))"
   ]
  },
  {
   "cell_type": "markdown",
   "id": "a12ba342-24cb-4844-af76-8fc654296640",
   "metadata": {},
   "source": [
    "---\n",
    "## Visualizing summarized data\n",
    "Now you'll learn how to turn those summaries into informative visualizations, by returning to the ggplot2 package from Chapter 2.\n",
    "\n",
    "### Summarizing by year\n",
    "Now instead of viewing the summarized data as a table, let's save it as an object called `by_year`, so you can visualize the data using `ggplot2`."
   ]
  },
  {
   "cell_type": "code",
   "execution_count": 28,
   "id": "44ecc25d-5ffb-43a3-94d3-aba8835a5b29",
   "metadata": {},
   "outputs": [
    {
     "data": {
      "text/html": [
       "<table>\n",
       "<thead><tr><th scope=col>year</th><th scope=col>totalPop</th><th scope=col>meanLifeExp</th></tr></thead>\n",
       "<tbody>\n",
       "\t<tr><td>1952      </td><td>2406957150</td><td>49.05762  </td></tr>\n",
       "\t<tr><td>1957      </td><td>2664404580</td><td>51.50740  </td></tr>\n",
       "\t<tr><td>1962      </td><td>2899782974</td><td>53.60925  </td></tr>\n",
       "\t<tr><td>1967      </td><td>3217478384</td><td>55.67829  </td></tr>\n",
       "\t<tr><td>1972      </td><td>3576977158</td><td>57.64739  </td></tr>\n",
       "\t<tr><td>1977      </td><td>3930045807</td><td>59.57016  </td></tr>\n",
       "\t<tr><td>1982      </td><td>4289436840</td><td>61.53320  </td></tr>\n",
       "\t<tr><td>1987      </td><td>4691477418</td><td>63.21261  </td></tr>\n",
       "\t<tr><td>1992      </td><td>5110710260</td><td>64.16034  </td></tr>\n",
       "\t<tr><td>1997      </td><td>5515204472</td><td>65.01468  </td></tr>\n",
       "\t<tr><td>2002      </td><td>5886977579</td><td>65.69492  </td></tr>\n",
       "\t<tr><td>2007      </td><td>6251013179</td><td>67.00742  </td></tr>\n",
       "</tbody>\n",
       "</table>\n"
      ],
      "text/latex": [
       "\\begin{tabular}{r|lll}\n",
       " year & totalPop & meanLifeExp\\\\\n",
       "\\hline\n",
       "\t 1952       & 2406957150 & 49.05762  \\\\\n",
       "\t 1957       & 2664404580 & 51.50740  \\\\\n",
       "\t 1962       & 2899782974 & 53.60925  \\\\\n",
       "\t 1967       & 3217478384 & 55.67829  \\\\\n",
       "\t 1972       & 3576977158 & 57.64739  \\\\\n",
       "\t 1977       & 3930045807 & 59.57016  \\\\\n",
       "\t 1982       & 4289436840 & 61.53320  \\\\\n",
       "\t 1987       & 4691477418 & 63.21261  \\\\\n",
       "\t 1992       & 5110710260 & 64.16034  \\\\\n",
       "\t 1997       & 5515204472 & 65.01468  \\\\\n",
       "\t 2002       & 5886977579 & 65.69492  \\\\\n",
       "\t 2007       & 6251013179 & 67.00742  \\\\\n",
       "\\end{tabular}\n"
      ],
      "text/markdown": [
       "\n",
       "| year | totalPop | meanLifeExp |\n",
       "|---|---|---|\n",
       "| 1952       | 2406957150 | 49.05762   |\n",
       "| 1957       | 2664404580 | 51.50740   |\n",
       "| 1962       | 2899782974 | 53.60925   |\n",
       "| 1967       | 3217478384 | 55.67829   |\n",
       "| 1972       | 3576977158 | 57.64739   |\n",
       "| 1977       | 3930045807 | 59.57016   |\n",
       "| 1982       | 4289436840 | 61.53320   |\n",
       "| 1987       | 4691477418 | 63.21261   |\n",
       "| 1992       | 5110710260 | 64.16034   |\n",
       "| 1997       | 5515204472 | 65.01468   |\n",
       "| 2002       | 5886977579 | 65.69492   |\n",
       "| 2007       | 6251013179 | 67.00742   |\n",
       "\n"
      ],
      "text/plain": [
       "   year totalPop   meanLifeExp\n",
       "1  1952 2406957150 49.05762   \n",
       "2  1957 2664404580 51.50740   \n",
       "3  1962 2899782974 53.60925   \n",
       "4  1967 3217478384 55.67829   \n",
       "5  1972 3576977158 57.64739   \n",
       "6  1977 3930045807 59.57016   \n",
       "7  1982 4289436840 61.53320   \n",
       "8  1987 4691477418 63.21261   \n",
       "9  1992 5110710260 64.16034   \n",
       "10 1997 5515204472 65.01468   \n",
       "11 2002 5886977579 65.69492   \n",
       "12 2007 6251013179 67.00742   "
      ]
     },
     "metadata": {},
     "output_type": "display_data"
    }
   ],
   "source": [
    "by_year <- gapminder %>%\n",
    "    group_by(year) %>%\n",
    "    summarize(totalPop = sum(pop),\n",
    "             meanLifeExp = mean(lifeExp))\n",
    "\n",
    "by_year"
   ]
  },
  {
   "cell_type": "markdown",
   "id": "fb2a09c1-069f-48e4-b2ea-c6bff99c4d46",
   "metadata": {},
   "source": [
    "### Visualizing population over time\n",
    "You would construct the graph with the three steps of `ggplot2`: the data, which is `by_year`. The aesthetics, which puts year on the x-axis and total population on the y-axis. And the type of graph, which in this case is a scatter plot, represented by `geom_point`. Notice that the steps are the same as when you were graphing countries in a scatter plot, even though it's a new dataset. "
   ]
  },
  {
   "cell_type": "code",
   "execution_count": 31,
   "id": "9e1553bd-98ee-44d6-a42a-f45f471e3df9",
   "metadata": {},
   "outputs": [],
   "source": [
    "library(ggplot2)"
   ]
  },
  {
   "cell_type": "code",
   "execution_count": 32,
   "id": "e97e6ad6-c049-43f8-ac6c-8528175a6b7f",
   "metadata": {},
   "outputs": [
    {
     "data": {
      "image/png": "[encoded data removed]",
      "text/plain": [
       "plot without title"
      ]
     },
     "metadata": {},
     "output_type": "display_data"
    }
   ],
   "source": [
    "ggplot(by_year, aes(x = year, y = totalPop)) +\n",
    "    geom_point()"
   ]
  },
  {
   "cell_type": "markdown",
   "id": "dcbf8405-54f9-4555-8c17-718c87009a65",
   "metadata": {},
   "source": [
    "The resulting graph of population by year shows the change in the total population, which is going up over time. `ggplot2` puts the y-axis is in scientific notation, since showing it with nine zeros would be hard to read. \n",
    "\n",
    "The global starts a little under 3 times 10 to the 9th power- that's three billion- and goes up to more than 6 billion. You might notice that the graph is a little misleading because it doesn't include zero: you don't have a sense of how much the population grew relative to where it was when it started. This is a good time to introduce another graphing option.\n",
    "\n",
    "### Starting y-axis at zero\n",
    "By adding `expand_limits(y = 0)` to the end of the ggplot call, you can specify that you want the y-axis to start at zero. "
   ]
  },
  {
   "cell_type": "code",
   "execution_count": 33,
   "id": "3ca6f88d-d76a-45d8-a375-3c5ad44e651d",
   "metadata": {},
   "outputs": [
    {
     "data": {
      "image/png": "[encoded data removed]",
      "text/plain": [
       "plot without title"
      ]
     },
     "metadata": {},
     "output_type": "display_data"
    }
   ],
   "source": [
    "ggplot(by_year, aes(x = year, y = totalPop)) +\n",
    "    geom_point() +\n",
    "    expand_limits(y = 0)"
   ]
  },
  {
   "cell_type": "markdown",
   "id": "92ade581-6547-447d-8a60-f96ed3155d6e",
   "metadata": {},
   "source": [
    "Now the graph makes it clearer that the population is almost tripling during this time. You could have created other graphs of summarized data, such as a graph of the average life expectancy over time, by changing the y aesthetic.\n",
    "\n",
    "### Summarizing by year and continent & Visualizing population by year and continent\n"
   ]
  },
  {
   "cell_type": "code",
   "execution_count": 34,
   "id": "e660dccc-106a-4e58-9fed-f6b80d592e59",
   "metadata": {},
   "outputs": [
    {
     "name": "stderr",
     "output_type": "stream",
     "text": [
      "`summarise()` has grouped output by 'year'. You can override using the `.groups` argument.\n"
     ]
    }
   ],
   "source": [
    "by_year_continent <- gapminder %>%\n",
    "    group_by(year, continent) %>%\n",
    "    summarize(totalPop = sum(pop), \n",
    "              meanLifeExp = mean(lifeExp))"
   ]
  },
  {
   "cell_type": "markdown",
   "id": "512b7c31-a190-4c5a-9859-907e53601c28",
   "metadata": {},
   "source": [
    " By setting color equals continent, you can show five separate trends on the same graph. "
   ]
  },
  {
   "cell_type": "code",
   "execution_count": 35,
   "id": "5188754f-1eab-487d-b706-b7e5c8d69efe",
   "metadata": {},
   "outputs": [
    {
     "data": {
      "image/png": "[encoded data removed]",
      "text/plain": [
       "plot without title"
      ]
     },
     "metadata": {},
     "output_type": "display_data"
    }
   ],
   "source": [
    "ggplot(by_year_continent, aes(x = year, y = totalPop, color = continent)) +\n",
    "    geom_point() +\n",
    "    expand_limits(y = 0)"
   ]
  },
  {
   "cell_type": "markdown",
   "id": "03bfb05e-3263-4387-b20f-feab3f3e7f61",
   "metadata": {},
   "source": [
    "This lets us see that Asia was always the most populated continent and has been growing the most rapidly, that Europe has a slower rate of growth, and that Africa has grown to surpass both Europe and the Americas in terms of population."
   ]
  },
  {
   "cell_type": "markdown",
   "id": "205a2c13-ef67-4340-9200-7edcae7d7877",
   "metadata": {},
   "source": [
    "## Exercise"
   ]
  },
  {
   "cell_type": "code",
   "execution_count": 36,
   "id": "7407b942-3f55-4e50-a360-3a92d84e0ca6",
   "metadata": {},
   "outputs": [],
   "source": [
    "by_year_2 <- gapminder %>%\n",
    "  group_by(year) %>%\n",
    "  summarize(medianLifeExp = median(lifeExp), \n",
    "            maxGdpPercap = max(gdpPercap))"
   ]
  },
  {
   "cell_type": "code",
   "execution_count": 37,
   "id": "15b12f9c-12fa-458a-a513-e90dc712c7e8",
   "metadata": {},
   "outputs": [
    {
     "data": {
      "image/png": "[encoded data removed]",
      "text/plain": [
       "plot without title"
      ]
     },
     "metadata": {},
     "output_type": "display_data"
    }
   ],
   "source": [
    "# Visualizing median life expectancy over time\n",
    "# Create a scatter plot showing the change in medianLifeExp over time\n",
    "ggplot(by_year_2, aes(x = year, y = medianLifeExp)) +\n",
    "  geom_point() +\n",
    "  expand_limits(y = 0)"
   ]
  },
  {
   "cell_type": "markdown",
   "id": "74c29997-9143-4062-bcbc-81b5451dfa37",
   "metadata": {},
   "source": [
    "*It looks like median life expectancy across countries is increasing over time.*"
   ]
  },
  {
   "cell_type": "code",
   "execution_count": 38,
   "id": "6f62304d-05b5-48a3-9681-db493e3b6160",
   "metadata": {},
   "outputs": [
    {
     "name": "stderr",
     "output_type": "stream",
     "text": [
      "`summarise()` has grouped output by 'continent'. You can override using the `.groups` argument.\n"
     ]
    },
    {
     "data": {
      "image/png": "[encoded data removed]",
      "text/plain": [
       "plot without title"
      ]
     },
     "metadata": {},
     "output_type": "display_data"
    }
   ],
   "source": [
    "# Visualizing median GDP per capita per continent over time\n",
    "# Summarize medianGdpPercap within each continent within each year: by_year_continent\n",
    "by_year_continent_2 <- gapminder %>%\n",
    "    group_by(continent, year) %>%\n",
    "    summarize(medianGdpPercap = median(gdpPercap))\n",
    "\n",
    "# Plot the change in medianGdpPercap in each continent over time\n",
    "ggplot(by_year_continent_2, aes(x = year, y = medianGdpPercap, color = continent)) +\n",
    "    geom_point() +\n",
    "    expand_limits(y = 0)"
   ]
  },
  {
   "cell_type": "code",
   "execution_count": 39,
   "id": "1134072f-de3f-440b-83be-906f5e1c861f",
   "metadata": {},
   "outputs": [
    {
     "data": {
      "image/png": "[encoded data removed]",
      "text/plain": [
       "plot without title"
      ]
     },
     "metadata": {},
     "output_type": "display_data"
    }
   ],
   "source": [
    "# Comparing median life expectancy and median GDP per continent in 2007\n",
    "# Summarize the median GDP and median life expectancy per continent in 2007\n",
    "by_continent_2007 <- gapminder %>%\n",
    "  filter(year == 2007) %>%\n",
    "  group_by(continent) %>%\n",
    "  summarize(medianGdpPercap = median(gdpPercap),\n",
    "            medianLifeExp = median(lifeExp))\n",
    "\n",
    "# Use a scatter plot to compare the median GDP and median life expectancy\n",
    "ggplot(by_continent_2007, aes(x = medianGdpPercap, y = medianLifeExp, color = continent)) +\n",
    "  geom_point()"
   ]
  },
  {
   "cell_type": "markdown",
   "id": "df8de268-3019-4d6a-8dd2-fd219c6e7d6a",
   "metadata": {},
   "source": [
    "---\n",
    "---\n",
    "# 4. Types of visualizations\n",
    "In this chapter, you'll learn how to create line plots, bar plots, histograms, and boxplots. You'll see how each plot requires different methods of data manipulation and preparation, and you’ll understand how each of these plot types plays a different role in data analysis.\n",
    "\n",
    "## Line plots\n",
    "### Types of plots\n",
    "In this chapter, you'll learn to make four more types of graphs. You'll make line plots, which are useful for showing change over time. You'll create bar plots, which are good at comparing statistics for each of several categories. You'll learn to make histograms, which describe the distribution of a one-dimensional numeric variable. And you'll make box plots, which compare the distribution of a numeric variable among several categories.\n",
    "\n",
    "### Scatter vs line plot\n",
    "`geom_point()` vs `geom_line()`"
   ]
  },
  {
   "cell_type": "code",
   "execution_count": 41,
   "id": "4cf1e22b-f06f-4b27-8b1f-8771cc37c96c",
   "metadata": {},
   "outputs": [
    {
     "data": {
      "image/png": "[encoded data removed]",
      "text/plain": [
       "plot without title"
      ]
     },
     "metadata": {},
     "output_type": "display_data"
    }
   ],
   "source": [
    "ggplot(by_year_continent, aes(x = year, y = meanLifeExp, color = continent)) +\n",
    "    geom_line()"
   ]
  },
  {
   "cell_type": "markdown",
   "id": "1239013b-17d8-4138-9017-f98fa4fa7196",
   "metadata": {},
   "source": [
    "## Exercise"
   ]
  },
  {
   "cell_type": "code",
   "execution_count": 42,
   "id": "81fa6e57-e88f-4fc5-bca3-f1939513db54",
   "metadata": {},
   "outputs": [
    {
     "data": {
      "image/png": "[encoded data removed]",
      "text/plain": [
       "plot without title"
      ]
     },
     "metadata": {},
     "output_type": "display_data"
    }
   ],
   "source": [
    "# Visualizing median GDP per capita over time\n",
    "# Summarize the median gdpPercap by year, then save it as by_year\n",
    "by_year <- gapminder %>%\n",
    "    group_by(year) %>%\n",
    "    summarize(medianGdpPercap = median(gdpPercap))\n",
    "\n",
    "# Create a line plot showing the change in medianGdpPercap over time\n",
    "ggplot(by_year, aes(x= year, y = medianGdpPercap)) +\n",
    "    geom_line() +\n",
    "    expand_limits(y = 0)"
   ]
  },
  {
   "cell_type": "markdown",
   "id": "928ad62a-36f1-44cb-bb15-7518451e319a",
   "metadata": {},
   "source": [
    "*Looks like median GDP per capita across countries has gone up over time.*"
   ]
  },
  {
   "cell_type": "code",
   "execution_count": 43,
   "id": "22f01390-2990-40aa-a323-1fd0bbbd016e",
   "metadata": {},
   "outputs": [
    {
     "name": "stderr",
     "output_type": "stream",
     "text": [
      "`summarise()` has grouped output by 'year'. You can override using the `.groups` argument.\n"
     ]
    },
    {
     "data": {
      "image/png": "[encoded data removed]",
      "text/plain": [
       "plot without title"
      ]
     },
     "metadata": {},
     "output_type": "display_data"
    }
   ],
   "source": [
    "# Visualizing median GDP per capita by continent over time\n",
    "# Summarize the median gdpPercap by year & continent, save as by_year_continent\n",
    "by_year_continent <- gapminder %>%\n",
    "    group_by(year, continent) %>%\n",
    "    summarize(medianGdpPercap = median(gdpPercap))\n",
    "\n",
    "# Create a line plot showing the change in medianGdpPercap by continent over time\n",
    "ggplot(by_year_continent, aes(x = year, y = medianGdpPercap, color = continent)) + \n",
    "    geom_line() +\n",
    "    expand_limits(y = 0)"
   ]
  },
  {
   "cell_type": "markdown",
   "id": "82ad377a-2fe0-446d-b3c0-edc8214b22b3",
   "metadata": {},
   "source": [
    "---\n",
    "## Bar plots\n",
    "Bar plots are useful for comparing values across discrete categories, such as continents.\n",
    "\n",
    "### Summarizing by continent\n",
    "For example, this code finds the average life expectancy within each continent in the year 2007. That creates a table that looks like this, with one observation for each continent. Instead of just printing the table, you might want to represent the summary visually."
   ]
  },
  {
   "cell_type": "code",
   "execution_count": 45,
   "id": "e8723f10-a023-4a93-a55e-4e3afcd43fae",
   "metadata": {},
   "outputs": [
    {
     "data": {
      "text/html": [
       "<table>\n",
       "<thead><tr><th scope=col>continent</th><th scope=col>meanLifeExp</th></tr></thead>\n",
       "<tbody>\n",
       "\t<tr><td>Africa  </td><td>54.80604</td></tr>\n",
       "\t<tr><td>Americas</td><td>73.60812</td></tr>\n",
       "\t<tr><td>Asia    </td><td>70.72848</td></tr>\n",
       "\t<tr><td>Europe  </td><td>77.64860</td></tr>\n",
       "\t<tr><td>Oceania </td><td>80.71950</td></tr>\n",
       "</tbody>\n",
       "</table>\n"
      ],
      "text/latex": [
       "\\begin{tabular}{r|ll}\n",
       " continent & meanLifeExp\\\\\n",
       "\\hline\n",
       "\t Africa   & 54.80604\\\\\n",
       "\t Americas & 73.60812\\\\\n",
       "\t Asia     & 70.72848\\\\\n",
       "\t Europe   & 77.64860\\\\\n",
       "\t Oceania  & 80.71950\\\\\n",
       "\\end{tabular}\n"
      ],
      "text/markdown": [
       "\n",
       "| continent | meanLifeExp |\n",
       "|---|---|\n",
       "| Africa   | 54.80604 |\n",
       "| Americas | 73.60812 |\n",
       "| Asia     | 70.72848 |\n",
       "| Europe   | 77.64860 |\n",
       "| Oceania  | 80.71950 |\n",
       "\n"
      ],
      "text/plain": [
       "  continent meanLifeExp\n",
       "1 Africa    54.80604   \n",
       "2 Americas  73.60812   \n",
       "3 Asia      70.72848   \n",
       "4 Europe    77.64860   \n",
       "5 Oceania   80.71950   "
      ]
     },
     "metadata": {},
     "output_type": "display_data"
    }
   ],
   "source": [
    "by_continent <- gapminder %>%\n",
    "    filter(year == 2007) %>%\n",
    "    group_by(continent) %>%\n",
    "    summarize(meanLifeExp = mean(lifeExp))\n",
    "\n",
    "by_continent"
   ]
  },
  {
   "cell_type": "markdown",
   "id": "7ae31e2e-a816-40e5-85d3-0c86625e8dda",
   "metadata": {},
   "source": [
    "### Bar plot\n",
    "This kind of plot represents the data using one bar for each continent, with the height of the bar representing the mean life expectancy."
   ]
  },
  {
   "cell_type": "code",
   "execution_count": 46,
   "id": "ea7b27d6-4aa9-4a8e-a753-f985d0a840cd",
   "metadata": {},
   "outputs": [
    {
     "data": {
      "image/png": "[encoded data removed]",
      "text/plain": [
       "plot without title"
      ]
     },
     "metadata": {},
     "output_type": "display_data"
    }
   ],
   "source": [
    "ggplot(by_continent, aes(x = continent, y = meanLifeExp)) +\n",
    "    geom_col()"
   ]
  },
  {
   "cell_type": "markdown",
   "id": "6bbd1b60-8843-4301-b89d-b65e04ed62e6",
   "metadata": {},
   "source": [
    "This makes it easy to see which continents have higher life expectancy than others. Notice that unlike scatter plots or line plots, bar plots always start at zero."
   ]
  },
  {
   "cell_type": "markdown",
   "id": "13f28dfc-ad04-411a-973a-dc0fbc2103ed",
   "metadata": {},
   "source": [
    "## Exercise"
   ]
  },
  {
   "cell_type": "code",
   "execution_count": 47,
   "id": "1b750c61-43c7-41c9-8ed4-e18e97098000",
   "metadata": {},
   "outputs": [
    {
     "data": {
      "image/png": "[encoded data removed]",
      "text/plain": [
       "plot without title"
      ]
     },
     "metadata": {},
     "output_type": "display_data"
    }
   ],
   "source": [
    "# Visualizing median GDP per capita by continent\n",
    "\n",
    "# Summarize the median gdpPercap by continent in 1952\n",
    "by_continent_1952 <- gapminder %>%\n",
    "    filter(year == 1952) %>%\n",
    "    group_by(continent) %>%\n",
    "    summarize(medianGdpPercap = median(gdpPercap))\n",
    "\n",
    "# Create a bar plot showing medianGdp by continent\n",
    "ggplot(by_continent_1952, aes(x = continent, y = medianGdpPercap)) + \n",
    "    geom_col()"
   ]
  },
  {
   "cell_type": "code",
   "execution_count": 48,
   "id": "af6d2b42-995b-499b-a1cc-a8fb36f7cf0e",
   "metadata": {},
   "outputs": [
    {
     "data": {
      "image/png": "[encoded data removed]",
      "text/plain": [
       "plot without title"
      ]
     },
     "metadata": {},
     "output_type": "display_data"
    }
   ],
   "source": [
    "# Visualizing GDP per capita by country in Oceania\n",
    "# Filter for observations in the Oceania continent in 1952\n",
    "oceania_1952 <- gapminder %>%\n",
    "    filter(continent == \"Oceania\", year == 1952)\n",
    "\n",
    "# Create a bar plot of gdpPercap by country\n",
    "ggplot(oceania_1952, aes(x = country, y = gdpPercap)) +\n",
    "    geom_col()"
   ]
  },
  {
   "cell_type": "markdown",
   "id": "8a7543e3-16ae-4ffe-87dd-0841e6a7fb3f",
   "metadata": {},
   "source": [
    "*Looks like the GDP per capita of these two countries was similar in 1952.*"
   ]
  },
  {
   "cell_type": "markdown",
   "id": "7a2ab2ef-be55-42e7-a3e8-19c167a535f7",
   "metadata": {},
   "source": [
    "---\n",
    "## Histograms\n",
    "A histogram shows a distribution. In this case, it's the distribution of life expectancy across countries in the year 2007. "
   ]
  },
  {
   "cell_type": "code",
   "execution_count": 51,
   "id": "d5712e95-2d3a-42f2-b138-1447a459cfe7",
   "metadata": {},
   "outputs": [
    {
     "name": "stderr",
     "output_type": "stream",
     "text": [
      "`stat_bin()` using `bins = 30`. Pick better value with `binwidth`.\n"
     ]
    },
    {
     "data": {
      "image/png": "[encoded data removed]",
      "text/plain": [
       "plot without title"
      ]
     },
     "metadata": {},
     "output_type": "display_data"
    }
   ],
   "source": [
    "expectancy_2007 <- gapminder %>%\n",
    "    filter(year == 2007)\n",
    "\n",
    "ggplot(expectancy_2007, aes(x = lifeExp)) +\n",
    "    geom_histogram()"
   ]
  },
  {
   "cell_type": "markdown",
   "id": "f15aca8a-2bb1-4592-aaab-05ba385056c7",
   "metadata": {},
   "source": [
    "Every bar represents a bin of life expectancies, and the height represents how many countries fall into that bin. This lets you get a sense of the distribution based on the histogram's shape. We can see that most countries have a life expectancy between 70 to 80 years, but that another set of countries have life expectancies between 40 and 65.\n",
    "\n",
    "It has only one aesthetic: the x-axis, the variable whose distribution you are examining. The width of each bin in the histogram is chosen automatically, and it has a large effect on how the histogram communicates the distribution. \n",
    "\n",
    "### Adjusting bin width\n",
    "You may need to customize that width. It is possible to do so with the binwidth option, which is set inside the parentheses of the geom underscore histogram layer. Setting binwidth equals 5 means that each of the bars in the histograms represents a width of five years."
   ]
  },
  {
   "cell_type": "code",
   "execution_count": 52,
   "id": "155d20de-a344-4d29-9307-47415fee8610",
   "metadata": {},
   "outputs": [
    {
     "data": {
      "image/png": "[encoded data removed]",
      "text/plain": [
       "plot without title"
      ]
     },
     "metadata": {},
     "output_type": "display_data"
    }
   ],
   "source": [
    "ggplot(expectancy_2007, aes(x = lifeExp)) +\n",
    "    geom_histogram(binwidth = 5)"
   ]
  },
  {
   "cell_type": "markdown",
   "id": "388e6365-90f4-49af-b9a3-189b4946706d",
   "metadata": {},
   "source": [
    "Setting a wide binwidth like this makes the histogram a bit blockier, which focuses on the general shape more than the small details. \n",
    "\n",
    " In some cases, you may need to put the x-axis of a histogram on a log scale for it to be understandable.\n",
    " "
   ]
  },
  {
   "cell_type": "markdown",
   "id": "77d8c55c-7460-45a3-92aa-c341fa0bf77f",
   "metadata": {},
   "source": [
    "## Exercise"
   ]
  },
  {
   "cell_type": "code",
   "execution_count": 53,
   "id": "fbc58eac-a091-404b-a422-e18b2db493c8",
   "metadata": {},
   "outputs": [
    {
     "data": {
      "image/png": "[encoded data removed]",
      "text/plain": [
       "plot without title"
      ]
     },
     "metadata": {},
     "output_type": "display_data"
    }
   ],
   "source": [
    "# Visualizing population\n",
    "\n",
    "gapminder_1952 <- gapminder %>%\n",
    "  filter(year == 1952) %>%\n",
    "  mutate(pop_by_mil = pop / 1000000)\n",
    "\n",
    "# Create a histogram of population (pop_by_mil)\n",
    "ggplot(gapminder_1952, aes(x = pop_by_mil)) +\n",
    "  geom_histogram(bins = 50)"
   ]
  },
  {
   "cell_type": "markdown",
   "id": "ac7551c1-10e5-4136-a3cc-84275d389fa5",
   "metadata": {},
   "source": [
    "*Notice that most of the distribution is in the smallest (leftmost) bins.*"
   ]
  },
  {
   "cell_type": "code",
   "execution_count": 55,
   "id": "13d0dada-3cfe-4572-aff4-ee3b2f594425",
   "metadata": {},
   "outputs": [
    {
     "name": "stderr",
     "output_type": "stream",
     "text": [
      "`stat_bin()` using `bins = 30`. Pick better value with `binwidth`.\n"
     ]
    },
    {
     "data": {
      "image/png": "[encoded data removed]",
      "text/plain": [
       "plot without title"
      ]
     },
     "metadata": {},
     "output_type": "display_data"
    }
   ],
   "source": [
    "# Visualizing population with x-axis on a log scale\n",
    "\n",
    "gapminder_1952 <- gapminder %>%\n",
    "  filter(year == 1952)\n",
    "\n",
    "# Create a histogram of population (pop), with x on a log scale\n",
    "ggplot(gapminder_1952, aes(x = pop)) +\n",
    "  geom_histogram() +\n",
    "  scale_x_log10()"
   ]
  },
  {
   "cell_type": "markdown",
   "id": "ca86cc04-ea85-4266-8f25-d3680886979c",
   "metadata": {},
   "source": [
    "*Notice that on a log scale, the distribution of country populations is approximately symmetrical.*"
   ]
  },
  {
   "cell_type": "markdown",
   "id": "407c1a7a-df6b-4869-8241-d2e2ef1f4496",
   "metadata": {},
   "source": [
    "---\n",
    "## Boxplots\n",
    "Recall that we used a histogram when we wanted to examine the distribution of one variable, such as life expectancy, across all countries. Notice that a histogram combines all the life expectancies across all continents, without distinguishing them. But what if your goal is to compare the distribution of life expectancies among continents?\n",
    "\n",
    "### Box plots\n",
    "This is a box plot, which shows the distribution of life expectancies within each continent, so that you can compare them."
   ]
  },
  {
   "cell_type": "code",
   "execution_count": 56,
   "id": "3a7991ba-b081-40a5-998c-94b9d0cf2de6",
   "metadata": {},
   "outputs": [
    {
     "data": {
      "image/png": "[encoded data removed]",
      "text/plain": [
       "plot without title"
      ]
     },
     "metadata": {},
     "output_type": "display_data"
    }
   ],
   "source": [
    "ggplot(expectancy_2007, aes(x = continent, y = lifeExp)) +\n",
    "    geom_boxplot()"
   ]
  },
  {
   "cell_type": "markdown",
   "id": "24c6d543-0526-409d-a41a-4530ba40095a",
   "metadata": {},
   "source": [
    "A box plot takes a bit of practice to interpret, so here's what each of the components means. \n",
    "\n",
    "- The black line in the middle of each white box is the **median** of that continent's distribution. \n",
    "- The top and bottom of each box represent the 75th percentile and the 25th percentile of that group, meaning half of the distribution lies within that box. \n",
    "- The lines going up and down from the box, called \"whiskers\", cover additional countries. \n",
    "- The two dots below the whiskers for Asia and the Americas represent outliers: countries with unusually low life expectancy relative to the rest of the distribution. \n",
    "\n",
    "So there's a lot that this plot tells us about differences in life expectancy across continents. We can see that the median life expectancy of Europe is one of the highest, and that the two countries in Oceana (Australia and New Zealand) both have very high values. We can also see that the distribution for Africa is unusually low, with about half of its countries having a life expectancy between 50 and 60 years.\n",
    "\n",
    "### Histogram vs box plot\n",
    "A boxplot helps give more context to the shape of the earlier histogram, where there were two bumps: one for countries between 65 and 80 representing most of Europe, Asia, and the Americas, and another, lower distribution."
   ]
  },
  {
   "cell_type": "markdown",
   "id": "34695d04-bb7f-4fa7-b832-b03c4c138826",
   "metadata": {},
   "source": [
    "## Exercise"
   ]
  },
  {
   "cell_type": "code",
   "execution_count": 57,
   "id": "ece27e5f-4dff-465b-8f4c-35c037440a10",
   "metadata": {},
   "outputs": [
    {
     "data": {
      "image/png": "[encoded data removed]",
      "text/plain": [
       "plot without title"
      ]
     },
     "metadata": {},
     "output_type": "display_data"
    }
   ],
   "source": [
    "# Comparing GDP per capita across continents\n",
    "\n",
    "gapminder_1952 <- gapminder %>%\n",
    "  filter(year == 1952)\n",
    "\n",
    "# Create a boxplot comparing gdpPercap among continents\n",
    "ggplot(gapminder_1952, aes(x = continent, y = gdpPercap)) +\n",
    "  geom_boxplot() +\n",
    "  scale_y_log10()"
   ]
  },
  {
   "cell_type": "code",
   "execution_count": 58,
   "id": "7b46e45d-2f9b-4792-80a9-3f7a5873aa5b",
   "metadata": {},
   "outputs": [
    {
     "data": {
      "image/png": "[encoded data removed]",
      "text/plain": [
       "plot without title"
      ]
     },
     "metadata": {},
     "output_type": "display_data"
    }
   ],
   "source": [
    "# Adding a title to your graph\n",
    "\n",
    "gapminder_1952 <- gapminder %>%\n",
    "  filter(year == 1952)\n",
    "\n",
    "# Add a title to this graph: \"Comparing GDP per capita across continents\"\n",
    "ggplot(gapminder_1952, aes(x = continent, y = gdpPercap)) +\n",
    "  geom_boxplot() +\n",
    "  scale_y_log10() + \n",
    "  ggtitle(\"Comparing GDP per capita across continents\")"
   ]
  }
 ],
 "metadata": {
  "kernelspec": {
   "display_name": "R",
   "language": "R",
   "name": "ir"
  },
  "language_info": {
   "codemirror_mode": "r",
   "file_extension": ".r",
   "mimetype": "text/x-r-source",
   "name": "R",
   "pygments_lexer": "r",
   "version": "3.6.1"
  }
 },
 "nbformat": 4,
 "nbformat_minor": 5
}
