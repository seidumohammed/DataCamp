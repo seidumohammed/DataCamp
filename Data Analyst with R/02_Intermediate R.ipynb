{
 "cells": [
  {
   "cell_type": "code",
   "execution_count": 1,
   "id": "b9482a40-954c-4bca-9404-91176f927b8c",
   "metadata": {},
   "outputs": [
    {
     "data": {
      "text/html": [
       "<table>\n",
       "<tbody>\n",
       "\t<tr><td>16</td><td>9 </td><td>13</td><td> 5</td><td>2 </td><td>17</td><td>14</td></tr>\n",
       "\t<tr><td>17</td><td>7 </td><td> 5</td><td>16</td><td>8 </td><td>13</td><td>14</td></tr>\n",
       "</tbody>\n",
       "</table>\n"
      ],
      "text/latex": [
       "\\begin{tabular}{lllllll}\n",
       "\t 16 & 9  & 13 &  5 & 2  & 17 & 14\\\\\n",
       "\t 17 & 7  &  5 & 16 & 8  & 13 & 14\\\\\n",
       "\\end{tabular}\n"
      ],
      "text/markdown": [
       "\n",
       "| 16 | 9  | 13 |  5 | 2  | 17 | 14 |\n",
       "| 17 | 7  |  5 | 16 | 8  | 13 | 14 |\n",
       "\n"
      ],
      "text/plain": [
       "     [,1] [,2] [,3] [,4] [,5] [,6] [,7]\n",
       "[1,] 16   9    13    5   2    17   14  \n",
       "[2,] 17   7     5   16   8    13   14  "
      ]
     },
     "metadata": {},
     "output_type": "display_data"
    }
   ],
   "source": [
    "# The social data has been created for you\n",
    "linkedin <- c(16, 9, 13, 5, 2, 17, 14)\n",
    "facebook <- c(17, 7, 5, 16, 8, 13, 14)\n",
    "views <- matrix(c(linkedin, facebook), nrow = 2, byrow = TRUE)\n",
    "views"
   ]
  },
  {
   "cell_type": "code",
   "execution_count": 2,
   "id": "92443c6f-8b7a-4783-a9f2-0e3b5b0b886c",
   "metadata": {},
   "outputs": [
    {
     "data": {
      "text/html": [
       "<table>\n",
       "<tbody>\n",
       "\t<tr><td>FALSE</td><td>FALSE</td><td> TRUE</td><td>FALSE</td><td>FALSE</td><td>FALSE</td><td>FALSE</td></tr>\n",
       "\t<tr><td>FALSE</td><td>FALSE</td><td>FALSE</td><td>FALSE</td><td>FALSE</td><td> TRUE</td><td>FALSE</td></tr>\n",
       "</tbody>\n",
       "</table>\n"
      ],
      "text/latex": [
       "\\begin{tabular}{lllllll}\n",
       "\t FALSE & FALSE &  TRUE & FALSE & FALSE & FALSE & FALSE\\\\\n",
       "\t FALSE & FALSE & FALSE & FALSE & FALSE &  TRUE & FALSE\\\\\n",
       "\\end{tabular}\n"
      ],
      "text/markdown": [
       "\n",
       "| FALSE | FALSE |  TRUE | FALSE | FALSE | FALSE | FALSE |\n",
       "| FALSE | FALSE | FALSE | FALSE | FALSE |  TRUE | FALSE |\n",
       "\n"
      ],
      "text/plain": [
       "     [,1]  [,2]  [,3]  [,4]  [,5]  [,6]  [,7] \n",
       "[1,] FALSE FALSE  TRUE FALSE FALSE FALSE FALSE\n",
       "[2,] FALSE FALSE FALSE FALSE FALSE  TRUE FALSE"
      ]
     },
     "metadata": {},
     "output_type": "display_data"
    },
    {
     "data": {
      "text/html": [
       "<table>\n",
       "<tbody>\n",
       "\t<tr><td>FALSE</td><td>TRUE </td><td>TRUE </td><td> TRUE</td><td>TRUE </td><td>FALSE</td><td>TRUE </td></tr>\n",
       "\t<tr><td>FALSE</td><td>TRUE </td><td>TRUE </td><td>FALSE</td><td>TRUE </td><td> TRUE</td><td>TRUE </td></tr>\n",
       "</tbody>\n",
       "</table>\n"
      ],
      "text/latex": [
       "\\begin{tabular}{lllllll}\n",
       "\t FALSE & TRUE  & TRUE  &  TRUE & TRUE  & FALSE & TRUE \\\\\n",
       "\t FALSE & TRUE  & TRUE  & FALSE & TRUE  &  TRUE & TRUE \\\\\n",
       "\\end{tabular}\n"
      ],
      "text/markdown": [
       "\n",
       "| FALSE | TRUE  | TRUE  |  TRUE | TRUE  | FALSE | TRUE  |\n",
       "| FALSE | TRUE  | TRUE  | FALSE | TRUE  |  TRUE | TRUE  |\n",
       "\n"
      ],
      "text/plain": [
       "     [,1]  [,2] [,3] [,4]  [,5] [,6]  [,7]\n",
       "[1,] FALSE TRUE TRUE  TRUE TRUE FALSE TRUE\n",
       "[2,] FALSE TRUE TRUE FALSE TRUE  TRUE TRUE"
      ]
     },
     "metadata": {},
     "output_type": "display_data"
    }
   ],
   "source": [
    "# When does views equal 13?\n",
    "views == 13\n",
    "\n",
    "# When is views less than or equal to 14?\n",
    "views <= 14"
   ]
  },
  {
   "cell_type": "code",
   "execution_count": 3,
   "id": "452e7e6d-50c4-46b1-8b66-2ae235a9e3d0",
   "metadata": {},
   "outputs": [
    {
     "data": {
      "text/html": [
       "14"
      ],
      "text/latex": [
       "14"
      ],
      "text/markdown": [
       "14"
      ],
      "text/plain": [
       "[1] 14"
      ]
     },
     "metadata": {},
     "output_type": "display_data"
    }
   ],
   "source": [
    "# The linkedin and last variable are already defined for you\n",
    "linkedin <- c(16, 9, 13, 5, 2, 17, 14)\n",
    "last <- tail(linkedin, 1)\n",
    "last"
   ]
  },
  {
   "cell_type": "code",
   "execution_count": 4,
   "id": "3932fda8-67ea-4ab3-89e1-bbc246f4efd6",
   "metadata": {},
   "outputs": [
    {
     "data": {
      "text/html": [
       "TRUE"
      ],
      "text/latex": [
       "TRUE"
      ],
      "text/markdown": [
       "TRUE"
      ],
      "text/plain": [
       "[1] TRUE"
      ]
     },
     "metadata": {},
     "output_type": "display_data"
    },
    {
     "data": {
      "text/html": [
       "FALSE"
      ],
      "text/latex": [
       "FALSE"
      ],
      "text/markdown": [
       "FALSE"
      ],
      "text/plain": [
       "[1] FALSE"
      ]
     },
     "metadata": {},
     "output_type": "display_data"
    }
   ],
   "source": [
    "# Is last under 5 or above 10?\n",
    "last < 5 | last > 10\n",
    "\n",
    "# Is last between 15 (exclusive) and 20 (inclusive)?\n",
    "last > 15 & last <= 20"
   ]
  },
  {
   "cell_type": "code",
   "execution_count": 5,
   "id": "4616434c-4dbc-4e8f-8ae7-31759fc8dfdd",
   "metadata": {},
   "outputs": [
    {
     "data": {
      "text/html": [
       "<ol class=list-inline>\n",
       "\t<li>FALSE</li>\n",
       "\t<li>FALSE</li>\n",
       "\t<li>TRUE</li>\n",
       "\t<li>FALSE</li>\n",
       "\t<li>FALSE</li>\n",
       "\t<li>FALSE</li>\n",
       "\t<li>FALSE</li>\n",
       "</ol>\n"
      ],
      "text/latex": [
       "\\begin{enumerate*}\n",
       "\\item FALSE\n",
       "\\item FALSE\n",
       "\\item TRUE\n",
       "\\item FALSE\n",
       "\\item FALSE\n",
       "\\item FALSE\n",
       "\\item FALSE\n",
       "\\end{enumerate*}\n"
      ],
      "text/markdown": [
       "1. FALSE\n",
       "2. FALSE\n",
       "3. TRUE\n",
       "4. FALSE\n",
       "5. FALSE\n",
       "6. FALSE\n",
       "7. FALSE\n",
       "\n",
       "\n"
      ],
      "text/plain": [
       "[1] FALSE FALSE  TRUE FALSE FALSE FALSE FALSE"
      ]
     },
     "metadata": {},
     "output_type": "display_data"
    },
    {
     "data": {
      "text/html": [
       "<ol class=list-inline>\n",
       "\t<li>TRUE</li>\n",
       "\t<li>FALSE</li>\n",
       "\t<li>TRUE</li>\n",
       "\t<li>TRUE</li>\n",
       "\t<li>FALSE</li>\n",
       "\t<li>TRUE</li>\n",
       "\t<li>TRUE</li>\n",
       "</ol>\n"
      ],
      "text/latex": [
       "\\begin{enumerate*}\n",
       "\\item TRUE\n",
       "\\item FALSE\n",
       "\\item TRUE\n",
       "\\item TRUE\n",
       "\\item FALSE\n",
       "\\item TRUE\n",
       "\\item TRUE\n",
       "\\end{enumerate*}\n"
      ],
      "text/markdown": [
       "1. TRUE\n",
       "2. FALSE\n",
       "3. TRUE\n",
       "4. TRUE\n",
       "5. FALSE\n",
       "6. TRUE\n",
       "7. TRUE\n",
       "\n",
       "\n"
      ],
      "text/plain": [
       "[1]  TRUE FALSE  TRUE  TRUE FALSE  TRUE  TRUE"
      ]
     },
     "metadata": {},
     "output_type": "display_data"
    },
    {
     "data": {
      "text/html": [
       "<table>\n",
       "<tbody>\n",
       "\t<tr><td>FALSE</td><td>FALSE</td><td> TRUE</td><td>FALSE</td><td>FALSE</td><td>FALSE</td><td>TRUE </td></tr>\n",
       "\t<tr><td>FALSE</td><td>FALSE</td><td>FALSE</td><td>FALSE</td><td>FALSE</td><td> TRUE</td><td>TRUE </td></tr>\n",
       "</tbody>\n",
       "</table>\n"
      ],
      "text/latex": [
       "\\begin{tabular}{lllllll}\n",
       "\t FALSE & FALSE &  TRUE & FALSE & FALSE & FALSE & TRUE \\\\\n",
       "\t FALSE & FALSE & FALSE & FALSE & FALSE &  TRUE & TRUE \\\\\n",
       "\\end{tabular}\n"
      ],
      "text/markdown": [
       "\n",
       "| FALSE | FALSE |  TRUE | FALSE | FALSE | FALSE | TRUE  |\n",
       "| FALSE | FALSE | FALSE | FALSE | FALSE |  TRUE | TRUE  |\n",
       "\n"
      ],
      "text/plain": [
       "     [,1]  [,2]  [,3]  [,4]  [,5]  [,6]  [,7]\n",
       "[1,] FALSE FALSE  TRUE FALSE FALSE FALSE TRUE\n",
       "[2,] FALSE FALSE FALSE FALSE FALSE  TRUE TRUE"
      ]
     },
     "metadata": {},
     "output_type": "display_data"
    }
   ],
   "source": [
    "# linkedin exceeds 10 but facebook below 10\n",
    "linkedin > 10 & facebook < 10\n",
    "\n",
    "# When were one or both visited at least 12 times?\n",
    "linkedin >= 12 | facebook >= 12\n",
    "\n",
    "# When is views between 11 (exclusive) and 14 (inclusive)?\n",
    "views > 11 & views <= 14"
   ]
  },
  {
   "cell_type": "code",
   "execution_count": 6,
   "id": "461126c8-b9ba-4b47-8904-68359dad28ce",
   "metadata": {},
   "outputs": [
    {
     "data": {
      "text/html": [
       "FALSE"
      ],
      "text/latex": [
       "FALSE"
      ],
      "text/markdown": [
       "FALSE"
      ],
      "text/plain": [
       "[1] FALSE"
      ]
     },
     "metadata": {},
     "output_type": "display_data"
    }
   ],
   "source": [
    "x <- 5\n",
    "y <- 7\n",
    "!(!(x < 4) & !!!(y > 12))"
   ]
  },
  {
   "cell_type": "code",
   "execution_count": 7,
   "id": "76a6b115-137e-4b26-8d8f-9e2ef76d6ebc",
   "metadata": {},
   "outputs": [
    {
     "name": "stdout",
     "output_type": "stream",
     "text": [
      "[1] \"Showing LinkedIn information\"\n"
     ]
    }
   ],
   "source": [
    "# Variables related to your last day of recordings\n",
    "medium <- \"LinkedIn\"\n",
    "num_views <- 14\n",
    "\n",
    "# Examine the if statement for medium\n",
    "if (medium == \"LinkedIn\") {\n",
    "  print(\"Showing LinkedIn information\")\n",
    "}\n",
    "\n",
    "# Write the if statement for num_views\n",
    "if (num_views > 15) {\n",
    "  print(\"You are popular!\")\n",
    "}"
   ]
  },
  {
   "cell_type": "code",
   "execution_count": 8,
   "id": "3e260254-ba3b-4f08-827d-323ed516ff2e",
   "metadata": {},
   "outputs": [
    {
     "name": "stdout",
     "output_type": "stream",
     "text": [
      "[1] \"Showing LinkedIn information\"\n",
      "[1] \"Try to be more visible!\"\n"
     ]
    }
   ],
   "source": [
    "# Control structure for medium\n",
    "if (medium == \"LinkedIn\") {\n",
    "  print(\"Showing LinkedIn information\")\n",
    "} else {\n",
    "  print(\"Unknown medium\")\n",
    "}\n",
    "\n",
    "# Control structure for num_views\n",
    "if (num_views > 15) {\n",
    "  print(\"You're popular!\")\n",
    "} else {\n",
    "  print(\"Try to be more visible!\")\n",
    "}"
   ]
  },
  {
   "cell_type": "code",
   "execution_count": 9,
   "id": "d7bda135-2a63-4080-b365-d78ec7166f26",
   "metadata": {},
   "outputs": [
    {
     "name": "stdout",
     "output_type": "stream",
     "text": [
      "[1] \"Showing LinkedIn information\"\n",
      "[1] \"Your number of views is average\"\n"
     ]
    }
   ],
   "source": [
    "# Control structure for medium\n",
    "if (medium == \"LinkedIn\") {\n",
    "  print(\"Showing LinkedIn information\")\n",
    "} else if (medium == \"Facebook\") {\n",
    "  # Add code to print correct string when condition is TRUE\n",
    "  print(\"Showing Facebook information\")\n",
    "} else {\n",
    "  print(\"Unknown medium\")\n",
    "}\n",
    "\n",
    "# Control structure for num_views\n",
    "if (num_views > 15) {\n",
    "  print(\"You're popular!\")\n",
    "} else if (num_views <= 15 & num_views > 10) {\n",
    "  # Add code to print correct string when condition is TRUE\n",
    "  print(\"Your number of views is average\")\n",
    "} else {\n",
    "  print(\"Try to be more visible!\")\n",
    "}"
   ]
  },
  {
   "cell_type": "code",
   "execution_count": 10,
   "id": "bb591184-6edd-4c03-b54a-66439f9d141b",
   "metadata": {},
   "outputs": [
    {
     "data": {
      "text/html": [
       "24"
      ],
      "text/latex": [
       "24"
      ],
      "text/markdown": [
       "24"
      ],
      "text/plain": [
       "[1] 24"
      ]
     },
     "metadata": {},
     "output_type": "display_data"
    }
   ],
   "source": [
    "# Variables related to your last day of recordings\n",
    "li <- 15\n",
    "fb <- 9\n",
    "\n",
    "# Code the control-flow construct\n",
    "if (li >= 15 & fb >= 15) {\n",
    "  sms <- 2 * (li + fb)\n",
    "} else if (li < 10 & fb < 10) {\n",
    "  sms <- 0.5 * (li + fb)\n",
    "} else {\n",
    "  sms <- li + fb\n",
    "}\n",
    "\n",
    "# Print the resulting sms to the console\n",
    "sms"
   ]
  },
  {
   "cell_type": "markdown",
   "id": "557e35bd-65ec-4a78-ad07-20b48a8e9cab",
   "metadata": {},
   "source": [
    "---"
   ]
  },
  {
   "cell_type": "code",
   "execution_count": 11,
   "id": "91d0cd3f-a224-4bd4-bc9b-7c2629b717bc",
   "metadata": {},
   "outputs": [
    {
     "name": "stdout",
     "output_type": "stream",
     "text": [
      "[1] \"Slow down!\"\n",
      "[1] \"Slow down!\"\n",
      "[1] \"Slow down!\"\n",
      "[1] \"Slow down!\"\n",
      "[1] \"Slow down!\"\n"
     ]
    },
    {
     "data": {
      "text/html": [
       "29"
      ],
      "text/latex": [
       "29"
      ],
      "text/markdown": [
       "29"
      ],
      "text/plain": [
       "[1] 29"
      ]
     },
     "metadata": {},
     "output_type": "display_data"
    }
   ],
   "source": [
    "# Initialize the speed variable\n",
    "speed <- 64\n",
    "\n",
    "# Code the while loop\n",
    "while (speed > 30) {\n",
    "  print(\"Slow down!\")\n",
    "  speed <- speed - 7\n",
    "}\n",
    "\n",
    "# Print out the speed variable\n",
    "speed"
   ]
  },
  {
   "cell_type": "code",
   "execution_count": 12,
   "id": "218337e2-f73a-458d-911b-4512233ccbd8",
   "metadata": {},
   "outputs": [
    {
     "name": "stdout",
     "output_type": "stream",
     "text": [
      "[1] \"Your speed is 64\"\n",
      "[1] \"Slow down big time!\"\n",
      "[1] \"Your speed is 53\"\n",
      "[1] \"Slow down big time!\"\n",
      "[1] \"Your speed is 42\"\n",
      "[1] \"Slow down!\"\n",
      "[1] \"Your speed is 36\"\n",
      "[1] \"Slow down!\"\n"
     ]
    }
   ],
   "source": [
    "# Initialize the speed variable\n",
    "speed <- 64\n",
    "\n",
    "# Extend/adapt the while loop\n",
    "while (speed > 30) {\n",
    "  print(paste(\"Your speed is\",speed))\n",
    "  if (speed > 48) {\n",
    "    print(\"Slow down big time!\")\n",
    "    speed <- speed - 11\n",
    "  } else {\n",
    "    print(\"Slow down!\")\n",
    "    speed <- speed - 6\n",
    "  }\n",
    "}"
   ]
  },
  {
   "cell_type": "code",
   "execution_count": 13,
   "id": "b202b980-7576-42cc-aac2-6092166e76c0",
   "metadata": {},
   "outputs": [
    {
     "name": "stdout",
     "output_type": "stream",
     "text": [
      "[1] \"Your speed is 88\"\n"
     ]
    }
   ],
   "source": [
    "# Initialize the speed variable\n",
    "speed <- 88\n",
    "\n",
    "while (speed > 30) {\n",
    "  print(paste(\"Your speed is\", speed))\n",
    "  \n",
    "  # Break the while loop when speed exceeds 80\n",
    "  if (speed > 80) {\n",
    "    break\n",
    "  }\n",
    "  \n",
    "  if (speed > 48) {\n",
    "    print(\"Slow down big time!\")\n",
    "    speed <- speed - 11\n",
    "  } else {\n",
    "    print(\"Slow down!\")\n",
    "    speed <- speed - 6\n",
    "  }\n",
    "}"
   ]
  },
  {
   "cell_type": "code",
   "execution_count": 14,
   "id": "490fe87f-fa6e-4f3c-8fec-f0ff22b3ff93",
   "metadata": {},
   "outputs": [
    {
     "name": "stdout",
     "output_type": "stream",
     "text": [
      "[1] 3\n",
      "[1] 6\n",
      "[1] 9\n",
      "[1] 12\n",
      "[1] 15\n",
      "[1] 18\n",
      "[1] 21\n",
      "[1] 24\n"
     ]
    }
   ],
   "source": [
    "# Initialize i as 1 \n",
    "i <- 1\n",
    "\n",
    "# Code the while loop\n",
    "while (i <= 10) {\n",
    "  print(i * 3)\n",
    "  if ((i * 3) %% 8 == 0) {\n",
    "    break\n",
    "  }\n",
    "  i <- i + 1\n",
    "}"
   ]
  },
  {
   "cell_type": "code",
   "execution_count": 15,
   "id": "c0bbf46a-3045-43ab-95b8-4aaff7ca9dbb",
   "metadata": {},
   "outputs": [
    {
     "name": "stdout",
     "output_type": "stream",
     "text": [
      "[1] 16\n",
      "[1] 9\n",
      "[1] 13\n",
      "[1] 5\n",
      "[1] 2\n",
      "[1] 17\n",
      "[1] 14\n"
     ]
    }
   ],
   "source": [
    "# The linkedin vector has already been defined for you\n",
    "linkedin <- c(16, 9, 13, 5, 2, 17, 14)\n",
    "\n",
    "# Loop version 1\n",
    "for (li in linkedin) {\n",
    "    print(li)\n",
    "}"
   ]
  },
  {
   "cell_type": "code",
   "execution_count": 16,
   "id": "97ee7c5f-a3eb-4926-930b-d858fb61d5ca",
   "metadata": {},
   "outputs": [
    {
     "name": "stdout",
     "output_type": "stream",
     "text": [
      "[1] 16\n",
      "[1] 9\n",
      "[1] 13\n",
      "[1] 5\n",
      "[1] 2\n",
      "[1] 17\n",
      "[1] 14\n"
     ]
    }
   ],
   "source": [
    "# Loop version 2\n",
    "for (i in 1:length(linkedin)) {\n",
    "    print(linkedin[i])\n",
    "}"
   ]
  },
  {
   "cell_type": "code",
   "execution_count": 17,
   "id": "4f16a65d-f13a-4081-837d-abde06761cc4",
   "metadata": {},
   "outputs": [
    {
     "name": "stdout",
     "output_type": "stream",
     "text": [
      "[1] 8405837\n",
      "[1] \"Manhattan\"     \"Bronx\"         \"Brooklyn\"      \"Queens\"       \n",
      "[5] \"Staten Island\"\n",
      "[1] FALSE\n"
     ]
    }
   ],
   "source": [
    "# The nyc list is already specified\n",
    "nyc <- list(pop = 8405837, \n",
    "            boroughs = c(\"Manhattan\", \"Bronx\", \"Brooklyn\", \"Queens\", \"Staten Island\"), \n",
    "            capital = FALSE)\n",
    "\n",
    "# Loop version 1\n",
    "for (n in nyc) {\n",
    "    print(n)\n",
    "}"
   ]
  },
  {
   "cell_type": "code",
   "execution_count": 18,
   "id": "101ecad9-d9f8-488d-b2c8-f77c9b929efa",
   "metadata": {},
   "outputs": [
    {
     "name": "stdout",
     "output_type": "stream",
     "text": [
      "[1] 8405837\n",
      "[1] \"Manhattan\"     \"Bronx\"         \"Brooklyn\"      \"Queens\"       \n",
      "[5] \"Staten Island\"\n",
      "[1] FALSE\n"
     ]
    }
   ],
   "source": [
    "# Loop version 2\n",
    "for (i in 1:length(nyc)) {\n",
    "    print(nyc[[i]])\n",
    "}"
   ]
  },
  {
   "cell_type": "code",
   "execution_count": 19,
   "id": "f1547279-d153-4022-aa83-be46e0a8b99b",
   "metadata": {},
   "outputs": [],
   "source": [
    "first_row <- c(\"O\", NA, \"X\")\n",
    "seconde_row <- c(NA, \"O\", \"O\")\n",
    "third_row <- c(\"X\", NA, \"X\" )\n",
    "\n",
    "# Create box_office\n",
    "rows <- c(first_row, seconde_row, third_row)\n",
    "\n",
    "# Construct star_wars_matrix\n",
    "ttt <- matrix(rows, byrow=TRUE, nrow=3)"
   ]
  },
  {
   "cell_type": "code",
   "execution_count": 20,
   "id": "786d031f-5916-4f34-90d3-a24aba418c7f",
   "metadata": {},
   "outputs": [
    {
     "name": "stdout",
     "output_type": "stream",
     "text": [
      "[1] \"On row 1 and column 1 the board contains O\"\n",
      "[1] \"On row 1 and column 2 the board contains NA\"\n",
      "[1] \"On row 1 and column 3 the board contains X\"\n",
      "[1] \"On row 2 and column 1 the board contains NA\"\n",
      "[1] \"On row 2 and column 2 the board contains O\"\n",
      "[1] \"On row 2 and column 3 the board contains O\"\n",
      "[1] \"On row 3 and column 1 the board contains X\"\n",
      "[1] \"On row 3 and column 2 the board contains NA\"\n",
      "[1] \"On row 3 and column 3 the board contains X\"\n"
     ]
    }
   ],
   "source": [
    "# define the double for loop\n",
    "for (i in 1:nrow(ttt)) {\n",
    "  for (j in 1:ncol(ttt)) {\n",
    "    print(paste(\"On row\", i, \"and column\", j, \"the board contains\", ttt[i,j]))\n",
    "  }\n",
    "}"
   ]
  },
  {
   "cell_type": "code",
   "execution_count": 21,
   "id": "1586eaed-8c7c-4790-8743-81c9e0694e9f",
   "metadata": {},
   "outputs": [
    {
     "name": "stdout",
     "output_type": "stream",
     "text": [
      "[1] \"You're popular!\"\n",
      "[1] 16\n",
      "[1] \"Be more visible!\"\n",
      "[1] 9\n",
      "[1] \"You're popular!\"\n",
      "[1] 13\n",
      "[1] \"Be more visible!\"\n",
      "[1] 5\n",
      "[1] \"Be more visible!\"\n",
      "[1] 2\n",
      "[1] \"You're popular!\"\n",
      "[1] 17\n",
      "[1] \"You're popular!\"\n",
      "[1] 14\n"
     ]
    }
   ],
   "source": [
    "# The linkedin vector has already been defined for you\n",
    "linkedin <- c(16, 9, 13, 5, 2, 17, 14)\n",
    "\n",
    "# Code the for loop with conditionals\n",
    "for (li in linkedin) {\n",
    "  if (li > 10) {\n",
    "    print(\"You're popular!\")\n",
    "  } else {\n",
    "    print(\"Be more visible!\")\n",
    "  }\n",
    "  print(li)\n",
    "}"
   ]
  },
  {
   "cell_type": "code",
   "execution_count": 22,
   "id": "028f7143-bfd6-4c87-8b8d-9f18f2b41812",
   "metadata": {},
   "outputs": [
    {
     "name": "stdout",
     "output_type": "stream",
     "text": [
      "[1] \"You're popular!\"\n",
      "[1] 16\n",
      "[1] \"Be more visible!\"\n",
      "[1] 9\n",
      "[1] \"You're popular!\"\n",
      "[1] 13\n",
      "[1] \"Be more visible!\"\n",
      "[1] 5\n",
      "[1] \"Be more visible!\"\n",
      "[1] \"This is too embarrassing!\"\n",
      "[1] \"You're popular!\"\n",
      "[1] \"This is ridiculous, I'm outta here!\"\n"
     ]
    }
   ],
   "source": [
    "# The linkedin vector has already been defined for you\n",
    "linkedin <- c(16, 9, 13, 5, 2, 17, 14)\n",
    "\n",
    "# Adapt/extend the for loop\n",
    "for (li in linkedin) {\n",
    "  if (li > 10) {\n",
    "    print(\"You're popular!\")\n",
    "  } else {\n",
    "    print(\"Be more visible!\")\n",
    "  }\n",
    "  \n",
    "  # Add if statement with break\n",
    "  if (li > 16) {\n",
    "    print(\"This is ridiculous, I'm outta here!\")\n",
    "    break\n",
    "  } \n",
    "  # Add if statement with next\n",
    "  if (li < 5) {\n",
    "    print(\"This is too embarrassing!\")\n",
    "    next\n",
    "  }   \n",
    "  \n",
    "  print(li)\n",
    "}"
   ]
  },
  {
   "cell_type": "code",
   "execution_count": 23,
   "id": "13155058-9ffa-4720-b500-a46069dd9acd",
   "metadata": {},
   "outputs": [
    {
     "data": {
      "text/html": [
       "5"
      ],
      "text/latex": [
       "5"
      ],
      "text/markdown": [
       "5"
      ],
      "text/plain": [
       "[1] 5"
      ]
     },
     "metadata": {},
     "output_type": "display_data"
    }
   ],
   "source": [
    "# Pre-defined variables\n",
    "rquote <- \"r's internals are irrefutably intriguing\"\n",
    "chars <- strsplit(rquote, split = \"\")[[1]]\n",
    "\n",
    "# Initialize rcount\n",
    "rcount <- 0\n",
    "\n",
    "# Finish the for loop\n",
    "for (char in chars) {\n",
    "  if (char == \"r\") {\n",
    "      rcount <- rcount + 1\n",
    "  }\n",
    "  if (char == \"u\") {\n",
    "      break\n",
    "  }  \n",
    "}\n",
    "\n",
    "# Print out rcount\n",
    "rcount"
   ]
  },
  {
   "cell_type": "markdown",
   "id": "5536a81c-c623-401b-9dc2-a066fcb53a3f",
   "metadata": {},
   "source": [
    "---"
   ]
  },
  {
   "cell_type": "code",
   "execution_count": 24,
   "id": "1017a410-2a8f-41aa-bd72-0d30c4b5c813",
   "metadata": {},
   "outputs": [
    {
     "data": {
      "text/html": [
       "2.62995563967658"
      ],
      "text/latex": [
       "2.62995563967658"
      ],
      "text/markdown": [
       "2.62995563967658"
      ],
      "text/plain": [
       "[1] 2.629956"
      ]
     },
     "metadata": {},
     "output_type": "display_data"
    }
   ],
   "source": [
    "sd(c(1, 5, 6, 7))"
   ]
  },
  {
   "cell_type": "code",
   "execution_count": 25,
   "id": "1a537440-10c6-4a9a-8c40-0deeccc09c84",
   "metadata": {},
   "outputs": [
    {
     "data": {
      "text/html": [
       "&lt;NA&gt;"
      ],
      "text/latex": [
       "<NA>"
      ],
      "text/markdown": [
       "&lt;NA&gt;"
      ],
      "text/plain": [
       "[1] NA"
      ]
     },
     "metadata": {},
     "output_type": "display_data"
    }
   ],
   "source": [
    "values <- c(1, 5, 6, NA)\n",
    "sd(values)"
   ]
  },
  {
   "cell_type": "code",
   "execution_count": 26,
   "id": "f5e207e1-404d-4e35-bc18-bea474b94861",
   "metadata": {},
   "outputs": [
    {
     "data": {
      "text/html": [
       "2.64575131106459"
      ],
      "text/latex": [
       "2.64575131106459"
      ],
      "text/markdown": [
       "2.64575131106459"
      ],
      "text/plain": [
       "[1] 2.645751"
      ]
     },
     "metadata": {},
     "output_type": "display_data"
    }
   ],
   "source": [
    "sd(values, TRUE)"
   ]
  },
  {
   "cell_type": "code",
   "execution_count": 27,
   "id": "82a3ea86-9c05-4304-b0b7-f13a651cfc3b",
   "metadata": {},
   "outputs": [
    {
     "data": {
      "text/html": [
       "2.64575131106459"
      ],
      "text/latex": [
       "2.64575131106459"
      ],
      "text/markdown": [
       "2.64575131106459"
      ],
      "text/plain": [
       "[1] 2.645751"
      ]
     },
     "metadata": {},
     "output_type": "display_data"
    }
   ],
   "source": [
    "sd(values, na.rm = TRUE)"
   ]
  },
  {
   "cell_type": "code",
   "execution_count": 28,
   "id": "74ac3a8f-5643-4e97-938e-f11facb63918",
   "metadata": {},
   "outputs": [
    {
     "data": {
      "text/html": [
       "<pre class=language-r><code>function (x, na.rm = FALSE) \n",
       "NULL</code></pre>"
      ],
      "text/latex": [
       "\\begin{minted}{r}\n",
       "function (x, na.rm = FALSE) \n",
       "NULL\n",
       "\\end{minted}"
      ],
      "text/markdown": [
       "```r\n",
       "function (x, na.rm = FALSE) \n",
       "NULL\n",
       "```"
      ],
      "text/plain": [
       "function (x, na.rm = FALSE) \n",
       "NULL"
      ]
     },
     "metadata": {},
     "output_type": "display_data"
    }
   ],
   "source": [
    "args(sd)"
   ]
  },
  {
   "cell_type": "code",
   "execution_count": 29,
   "id": "3543bab0-6cd8-495f-8853-3d5b8f609a21",
   "metadata": {},
   "outputs": [
    {
     "data": {
      "text/html": [
       "\n",
       "<table width=\"100%\" summary=\"page for mean {base}\"><tr><td>mean {base}</td><td style=\"text-align: right;\">R Documentation</td></tr></table>\n",
       "\n",
       "<h2>Arithmetic Mean</h2>\n",
       "\n",
       "<h3>Description</h3>\n",
       "\n",
       "<p>Generic function for the (trimmed) arithmetic mean.\n",
       "</p>\n",
       "\n",
       "\n",
       "<h3>Usage</h3>\n",
       "\n",
       "<pre>\n",
       "mean(x, ...)\n",
       "\n",
       "## Default S3 method:\n",
       "mean(x, trim = 0, na.rm = FALSE, ...)\n",
       "</pre>\n",
       "\n",
       "\n",
       "<h3>Arguments</h3>\n",
       "\n",
       "<table summary=\"R argblock\">\n",
       "<tr valign=\"top\"><td><code>x</code></td>\n",
       "<td>\n",
       "<p>An <span style=\"font-family: Courier New, Courier; color: #666666;\"><b>R</b></span> object.  Currently there are methods for\n",
       "numeric/logical vectors and date,\n",
       "date-time and time interval objects.  Complex vectors\n",
       "are allowed for <code>trim = 0</code>, only.</p>\n",
       "</td></tr>\n",
       "<tr valign=\"top\"><td><code>trim</code></td>\n",
       "<td>\n",
       "<p>the fraction (0 to 0.5) of observations to be\n",
       "trimmed from each end of <code>x</code> before the mean is computed.\n",
       "Values of trim outside that range are taken as the nearest endpoint.\n",
       "</p>\n",
       "</td></tr>\n",
       "<tr valign=\"top\"><td><code>na.rm</code></td>\n",
       "<td>\n",
       "<p>a logical value indicating whether <code>NA</code>\n",
       "values should be stripped before the computation proceeds.</p>\n",
       "</td></tr>\n",
       "<tr valign=\"top\"><td><code>...</code></td>\n",
       "<td>\n",
       "<p>further arguments passed to or from other methods.</p>\n",
       "</td></tr>\n",
       "</table>\n",
       "\n",
       "\n",
       "<h3>Value</h3>\n",
       "\n",
       "<p>If <code>trim</code> is zero (the default), the arithmetic mean of the\n",
       "values in <code>x</code> is computed, as a numeric or complex vector of\n",
       "length one.  If <code>x</code> is not logical (coerced to numeric), numeric\n",
       "(including integer) or complex, <code>NA_real_</code> is returned, with a warning.\n",
       "</p>\n",
       "<p>If <code>trim</code> is non-zero, a symmetrically trimmed mean is computed\n",
       "with a fraction of <code>trim</code> observations deleted from each end\n",
       "before the mean is computed.\n",
       "</p>\n",
       "\n",
       "\n",
       "<h3>References</h3>\n",
       "\n",
       "<p>Becker, R. A., Chambers, J. M. and Wilks, A. R. (1988)\n",
       "<em>The New S Language</em>.\n",
       "Wadsworth &amp; Brooks/Cole.\n",
       "</p>\n",
       "\n",
       "\n",
       "<h3>See Also</h3>\n",
       "\n",
       "<p><code>weighted.mean</code>, <code>mean.POSIXct</code>,\n",
       "<code>colMeans</code> for row and column means.\n",
       "</p>\n",
       "\n",
       "\n",
       "<h3>Examples</h3>\n",
       "\n",
       "<pre>\n",
       "x &lt;- c(0:10, 50)\n",
       "xm &lt;- mean(x)\n",
       "c(xm, mean(x, trim = 0.10))\n",
       "</pre>\n",
       "\n",
       "<hr /><div style=\"text-align: center;\">[Package <em>base</em> version 3.6.1 ]</div>"
      ],
      "text/latex": [
       "\\inputencoding{utf8}\n",
       "\\HeaderA{mean}{Arithmetic Mean}{mean}\n",
       "\\methaliasA{mean.default}{mean}{mean.default}\n",
       "\\keyword{univar}{mean}\n",
       "%\n",
       "\\begin{Description}\\relax\n",
       "Generic function for the (trimmed) arithmetic mean.\n",
       "\\end{Description}\n",
       "%\n",
       "\\begin{Usage}\n",
       "\\begin{verbatim}\n",
       "mean(x, ...)\n",
       "\n",
       "## Default S3 method:\n",
       "mean(x, trim = 0, na.rm = FALSE, ...)\n",
       "\\end{verbatim}\n",
       "\\end{Usage}\n",
       "%\n",
       "\\begin{Arguments}\n",
       "\\begin{ldescription}\n",
       "\\item[\\code{x}] An \\R{} object.  Currently there are methods for\n",
       "numeric/logical vectors and \\LinkA{date}{Dates},\n",
       "\\LinkA{date-time}{date.Rdash.time} and \\LinkA{time interval}{time interval} objects.  Complex vectors\n",
       "are allowed for \\code{trim = 0}, only.\n",
       "\\item[\\code{trim}] the fraction (0 to 0.5) of observations to be\n",
       "trimmed from each end of \\code{x} before the mean is computed.\n",
       "Values of trim outside that range are taken as the nearest endpoint.\n",
       "\n",
       "\\item[\\code{na.rm}] a logical value indicating whether \\code{NA}\n",
       "values should be stripped before the computation proceeds.\n",
       "\\item[\\code{...}] further arguments passed to or from other methods.\n",
       "\\end{ldescription}\n",
       "\\end{Arguments}\n",
       "%\n",
       "\\begin{Value}\n",
       "If \\code{trim} is zero (the default), the arithmetic mean of the\n",
       "values in \\code{x} is computed, as a numeric or complex vector of\n",
       "length one.  If \\code{x} is not logical (coerced to numeric), numeric\n",
       "(including integer) or complex, \\code{NA\\_real\\_} is returned, with a warning.\n",
       "\n",
       "If \\code{trim} is non-zero, a symmetrically trimmed mean is computed\n",
       "with a fraction of \\code{trim} observations deleted from each end\n",
       "before the mean is computed.\n",
       "\\end{Value}\n",
       "%\n",
       "\\begin{References}\\relax\n",
       "Becker, R. A., Chambers, J. M. and Wilks, A. R. (1988)\n",
       "\\emph{The New S Language}.\n",
       "Wadsworth \\& Brooks/Cole.\n",
       "\\end{References}\n",
       "%\n",
       "\\begin{SeeAlso}\\relax\n",
       "\\code{\\LinkA{weighted.mean}{weighted.mean}}, \\code{\\LinkA{mean.POSIXct}{mean.POSIXct}},\n",
       "\\code{\\LinkA{colMeans}{colMeans}} for row and column means.\n",
       "\\end{SeeAlso}\n",
       "%\n",
       "\\begin{Examples}\n",
       "\\begin{ExampleCode}\n",
       "x <- c(0:10, 50)\n",
       "xm <- mean(x)\n",
       "c(xm, mean(x, trim = 0.10))\n",
       "\\end{ExampleCode}\n",
       "\\end{Examples}"
      ],
      "text/plain": [
       "mean                   package:base                    R Documentation\n",
       "\n",
       "_\bA_\br_\bi_\bt_\bh_\bm_\be_\bt_\bi_\bc _\bM_\be_\ba_\bn\n",
       "\n",
       "_\bD_\be_\bs_\bc_\br_\bi_\bp_\bt_\bi_\bo_\bn:\n",
       "\n",
       "     Generic function for the (trimmed) arithmetic mean.\n",
       "\n",
       "_\bU_\bs_\ba_\bg_\be:\n",
       "\n",
       "     mean(x, ...)\n",
       "     \n",
       "     ## Default S3 method:\n",
       "     mean(x, trim = 0, na.rm = FALSE, ...)\n",
       "     \n",
       "_\bA_\br_\bg_\bu_\bm_\be_\bn_\bt_\bs:\n",
       "\n",
       "       x: An R object.  Currently there are methods for numeric/logical\n",
       "          vectors and date, date-time and time interval objects.\n",
       "          Complex vectors are allowed for 'trim = 0', only.\n",
       "\n",
       "    trim: the fraction (0 to 0.5) of observations to be trimmed from\n",
       "          each end of 'x' before the mean is computed.  Values of trim\n",
       "          outside that range are taken as the nearest endpoint.\n",
       "\n",
       "   na.rm: a logical value indicating whether 'NA' values should be\n",
       "          stripped before the computation proceeds.\n",
       "\n",
       "     ...: further arguments passed to or from other methods.\n",
       "\n",
       "_\bV_\ba_\bl_\bu_\be:\n",
       "\n",
       "     If 'trim' is zero (the default), the arithmetic mean of the values\n",
       "     in 'x' is computed, as a numeric or complex vector of length one.\n",
       "     If 'x' is not logical (coerced to numeric), numeric (including\n",
       "     integer) or complex, 'NA_real_' is returned, with a warning.\n",
       "\n",
       "     If 'trim' is non-zero, a symmetrically trimmed mean is computed\n",
       "     with a fraction of 'trim' observations deleted from each end\n",
       "     before the mean is computed.\n",
       "\n",
       "_\bR_\be_\bf_\be_\br_\be_\bn_\bc_\be_\bs:\n",
       "\n",
       "     Becker, R. A., Chambers, J. M. and Wilks, A. R. (1988) _The New S\n",
       "     Language_.  Wadsworth & Brooks/Cole.\n",
       "\n",
       "_\bS_\be_\be _\bA_\bl_\bs_\bo:\n",
       "\n",
       "     'weighted.mean', 'mean.POSIXct', 'colMeans' for row and column\n",
       "     means.\n",
       "\n",
       "_\bE_\bx_\ba_\bm_\bp_\bl_\be_\bs:\n",
       "\n",
       "     x <- c(0:10, 50)\n",
       "     xm <- mean(x)\n",
       "     c(xm, mean(x, trim = 0.10))\n",
       "     "
      ]
     },
     "metadata": {},
     "output_type": "display_data"
    }
   ],
   "source": [
    "# Consult the documentation on the mean() function\n",
    "help(mean)"
   ]
  },
  {
   "cell_type": "code",
   "execution_count": 30,
   "id": "65cfd6f9-ffac-4fe0-be8c-21a240c60baa",
   "metadata": {},
   "outputs": [
    {
     "data": {
      "text/html": [
       "<pre class=language-r><code>function (x, ...) \n",
       "NULL</code></pre>"
      ],
      "text/latex": [
       "\\begin{minted}{r}\n",
       "function (x, ...) \n",
       "NULL\n",
       "\\end{minted}"
      ],
      "text/markdown": [
       "```r\n",
       "function (x, ...) \n",
       "NULL\n",
       "```"
      ],
      "text/plain": [
       "function (x, ...) \n",
       "NULL"
      ]
     },
     "metadata": {},
     "output_type": "display_data"
    }
   ],
   "source": [
    "# Inspect the arguments of the mean() function\n",
    "args(mean)"
   ]
  },
  {
   "cell_type": "code",
   "execution_count": 31,
   "id": "e12cbb94-0af3-4652-8a36-761c4a379f4b",
   "metadata": {},
   "outputs": [
    {
     "data": {
      "text/html": [
       "10.8571428571429"
      ],
      "text/latex": [
       "10.8571428571429"
      ],
      "text/markdown": [
       "10.8571428571429"
      ],
      "text/plain": [
       "[1] 10.85714"
      ]
     },
     "metadata": {},
     "output_type": "display_data"
    },
    {
     "data": {
      "text/html": [
       "11.4285714285714"
      ],
      "text/latex": [
       "11.4285714285714"
      ],
      "text/markdown": [
       "11.4285714285714"
      ],
      "text/plain": [
       "[1] 11.42857"
      ]
     },
     "metadata": {},
     "output_type": "display_data"
    }
   ],
   "source": [
    "# The linkedin and facebook vectors\n",
    "linkedin <- c(16, 9, 13, 5, 2, 17, 14)\n",
    "facebook <- c(17, 7, 5, 16, 8, 13, 14)\n",
    "\n",
    "# Calculate average number of views\n",
    "avg_li <- mean(linkedin)\n",
    "avg_fb <- mean(facebook)\n",
    "\n",
    "# Inspect avg_li and avg_fb\n",
    "avg_li\n",
    "avg_fb"
   ]
  },
  {
   "cell_type": "code",
   "execution_count": 32,
   "id": "7c63da56-f468-4e44-9732-cecf0821df8d",
   "metadata": {},
   "outputs": [
    {
     "data": {
      "text/html": [
       "22.2857142857143"
      ],
      "text/latex": [
       "22.2857142857143"
      ],
      "text/markdown": [
       "22.2857142857143"
      ],
      "text/plain": [
       "[1] 22.28571"
      ]
     },
     "metadata": {},
     "output_type": "display_data"
    },
    {
     "data": {
      "text/html": [
       "22.6"
      ],
      "text/latex": [
       "22.6"
      ],
      "text/markdown": [
       "22.6"
      ],
      "text/plain": [
       "[1] 22.6"
      ]
     },
     "metadata": {},
     "output_type": "display_data"
    }
   ],
   "source": [
    "# The linkedin and facebook vectors\n",
    "linkedin <- c(16, 9, 13, 5, 2, 17, 14)\n",
    "facebook <- c(17, 7, 5, 16, 8, 13, 14)\n",
    "\n",
    "# Calculate the mean of the sum\n",
    "avg_sum <- mean(linkedin + facebook)\n",
    "\n",
    "# Calculate the trimmed mean of the sum\n",
    "avg_sum_trimmed <- mean(linkedin + facebook, trim = 0.2)\n",
    "\n",
    "# Inspect both new variables\n",
    "avg_sum\n",
    "avg_sum_trimmed"
   ]
  },
  {
   "cell_type": "code",
   "execution_count": 33,
   "id": "5daf6419-3758-46ce-9904-25c17ef23b05",
   "metadata": {
    "jupyter": {
     "source_hidden": true
    },
    "tags": []
   },
   "outputs": [
    {
     "data": {
      "text/html": [
       "&lt;NA&gt;"
      ],
      "text/latex": [
       "<NA>"
      ],
      "text/markdown": [
       "&lt;NA&gt;"
      ],
      "text/plain": [
       "[1] NA"
      ]
     },
     "metadata": {},
     "output_type": "display_data"
    },
    {
     "data": {
      "text/html": [
       "12.3333333333333"
      ],
      "text/latex": [
       "12.3333333333333"
      ],
      "text/markdown": [
       "12.3333333333333"
      ],
      "text/plain": [
       "[1] 12.33333"
      ]
     },
     "metadata": {},
     "output_type": "display_data"
    }
   ],
   "source": [
    "# The linkedin and facebook vectors have already been created for you\n",
    "linkedin <- c(16, 9, 13, 5, NA, 17, 14)\n",
    "facebook <- c(17, NA, 5, 16, 8, 13, 14)\n",
    "\n",
    "# Basic average of linkedin\n",
    "mean(linkedin)\n",
    "\n",
    "# Advanced average of linkedin\n",
    "mean(linkedin, na.rm = TRUE)"
   ]
  },
  {
   "cell_type": "code",
   "execution_count": 34,
   "id": "8b3dd025-7f91-4dbf-a8c0-bbc0d16dad26",
   "metadata": {},
   "outputs": [
    {
     "data": {
      "text/html": [
       "4.8"
      ],
      "text/latex": [
       "4.8"
      ],
      "text/markdown": [
       "4.8"
      ],
      "text/plain": [
       "[1] 4.8"
      ]
     },
     "metadata": {},
     "output_type": "display_data"
    }
   ],
   "source": [
    "# The linkedin and facebook vectors\n",
    "linkedin <- c(16, 9, 13, 5, NA, 17, 14)\n",
    "facebook <- c(17, NA, 5, 16, 8, 13, 14)\n",
    "\n",
    "# Calculate the mean absolute deviation\n",
    "mean(abs(linkedin - facebook), na.rm=TRUE)"
   ]
  },
  {
   "cell_type": "code",
   "execution_count": 35,
   "id": "017beae3-bacc-4a3b-9730-a3f4d0c7e67d",
   "metadata": {},
   "outputs": [
    {
     "data": {
      "text/html": [
       "18"
      ],
      "text/latex": [
       "18"
      ],
      "text/markdown": [
       "18"
      ],
      "text/plain": [
       "[1] 18"
      ]
     },
     "metadata": {},
     "output_type": "display_data"
    }
   ],
   "source": [
    "triple <- function(x) {\n",
    "    3 * x\n",
    "}\n",
    "\n",
    "triple(6)"
   ]
  },
  {
   "cell_type": "code",
   "execution_count": 36,
   "id": "cc8e5a1d-e945-4b9e-8005-c9969f1f82fe",
   "metadata": {},
   "outputs": [
    {
     "data": {
      "text/html": [
       "18"
      ],
      "text/latex": [
       "18"
      ],
      "text/markdown": [
       "18"
      ],
      "text/plain": [
       "[1] 18"
      ]
     },
     "metadata": {},
     "output_type": "display_data"
    }
   ],
   "source": [
    "triple <- function(x) {\n",
    "    y <- 3 * x\n",
    "    return(y)\n",
    "}\n",
    "\n",
    "triple(6)"
   ]
  },
  {
   "cell_type": "code",
   "execution_count": 37,
   "id": "dbb8300b-b1b6-432c-9cb1-154de865920c",
   "metadata": {},
   "outputs": [
    {
     "data": {
      "text/html": [
       "10"
      ],
      "text/latex": [
       "10"
      ],
      "text/markdown": [
       "10"
      ],
      "text/plain": [
       "[1] 10"
      ]
     },
     "metadata": {},
     "output_type": "display_data"
    }
   ],
   "source": [
    "math <- function(a, b) {\n",
    "    a*b + a/b\n",
    "}\n",
    "\n",
    "math(4, 2)"
   ]
  },
  {
   "cell_type": "code",
   "execution_count": 38,
   "id": "4b9f8c3a-2244-4ad5-af00-b7baaac969bb",
   "metadata": {},
   "outputs": [
    {
     "data": {
      "text/html": [
       "8"
      ],
      "text/latex": [
       "8"
      ],
      "text/markdown": [
       "8"
      ],
      "text/plain": [
       "[1] 8"
      ]
     },
     "metadata": {},
     "output_type": "display_data"
    }
   ],
   "source": [
    "math <- function(a, b = 1) {\n",
    "    a*b + a/b\n",
    "}\n",
    "\n",
    "math(4)"
   ]
  },
  {
   "cell_type": "code",
   "execution_count": 39,
   "id": "f5deb23e-df3c-48b0-9011-732572aa8e07",
   "metadata": {},
   "outputs": [
    {
     "data": {
      "text/html": [
       "Inf"
      ],
      "text/latex": [
       "Inf"
      ],
      "text/markdown": [
       "Inf"
      ],
      "text/plain": [
       "[1] Inf"
      ]
     },
     "metadata": {},
     "output_type": "display_data"
    }
   ],
   "source": [
    "math(4, 0)"
   ]
  },
  {
   "cell_type": "code",
   "execution_count": 40,
   "id": "0e250d33-e287-4c46-a476-5ef11b40780f",
   "metadata": {},
   "outputs": [
    {
     "data": {
      "text/html": [
       "0"
      ],
      "text/latex": [
       "0"
      ],
      "text/markdown": [
       "0"
      ],
      "text/plain": [
       "[1] 0"
      ]
     },
     "metadata": {},
     "output_type": "display_data"
    }
   ],
   "source": [
    "math <- function(a, b = 1) {\n",
    "    if(b == 0) {\n",
    "        return(0)\n",
    "    }\n",
    "    a*b + a/b\n",
    "}\n",
    "\n",
    "math(4, 0)"
   ]
  },
  {
   "cell_type": "code",
   "execution_count": 41,
   "id": "76e8f94a-89b8-4712-a5c4-40a93cea8b55",
   "metadata": {},
   "outputs": [
    {
     "data": {
      "text/html": [
       "144"
      ],
      "text/latex": [
       "144"
      ],
      "text/markdown": [
       "144"
      ],
      "text/plain": [
       "[1] 144"
      ]
     },
     "metadata": {},
     "output_type": "display_data"
    }
   ],
   "source": [
    "# Create a function pow_two()\n",
    "pow_two <- function(x) {\n",
    "    x ^ 2\n",
    "}\n",
    "\n",
    "# Use the function\n",
    "pow_two(12)"
   ]
  },
  {
   "cell_type": "code",
   "execution_count": 42,
   "id": "d6f77ab5-f979-4ff1-9d2d-96783bd0e14d",
   "metadata": {},
   "outputs": [
    {
     "data": {
      "text/html": [
       "5"
      ],
      "text/latex": [
       "5"
      ],
      "text/markdown": [
       "5"
      ],
      "text/plain": [
       "[1] 5"
      ]
     },
     "metadata": {},
     "output_type": "display_data"
    }
   ],
   "source": [
    "# Create a function sum_abs()\n",
    "sum_abs <- function(a, b) {\n",
    "    abs(a) + abs(b)\n",
    "}\n",
    "\n",
    "# Use the function\n",
    "sum_abs(-2, 3)"
   ]
  },
  {
   "cell_type": "code",
   "execution_count": 43,
   "id": "591b1f55-b053-428c-b235-aa44cbbf1f37",
   "metadata": {},
   "outputs": [
    {
     "name": "stdout",
     "output_type": "stream",
     "text": [
      "[1] \"Hi there!\"\n"
     ]
    },
    {
     "data": {
      "text/html": [
       "TRUE"
      ],
      "text/latex": [
       "TRUE"
      ],
      "text/markdown": [
       "TRUE"
      ],
      "text/plain": [
       "[1] TRUE"
      ]
     },
     "metadata": {},
     "output_type": "display_data"
    }
   ],
   "source": [
    "# Define the function hello()\n",
    "hello <- function() {\n",
    "    print(\"Hi there!\")\n",
    "    return(TRUE)\n",
    "}\n",
    "\n",
    "# Call the function hello()\n",
    "hello()"
   ]
  },
  {
   "cell_type": "code",
   "execution_count": 44,
   "id": "9a31fb69-95a3-46fd-9d89-3dc9afd07fa6",
   "metadata": {},
   "outputs": [
    {
     "name": "stdout",
     "output_type": "stream",
     "text": [
      "[1] \"4 to the power two equals 16\"\n"
     ]
    },
    {
     "data": {
      "text/html": [
       "16"
      ],
      "text/latex": [
       "16"
      ],
      "text/markdown": [
       "16"
      ],
      "text/plain": [
       "[1] 16"
      ]
     },
     "metadata": {},
     "output_type": "display_data"
    }
   ],
   "source": [
    "# Finish the pow_two() function\n",
    "pow_two <- function(x, print_info = TRUE) {\n",
    "  y <- x ^ 2\n",
    "  if (print_info == TRUE) {\n",
    "    print(paste(x, \"to the power two equals\", y))\n",
    "  }  \n",
    "  return(y)\n",
    "}\n",
    "\n",
    "pow_two(4)"
   ]
  },
  {
   "cell_type": "code",
   "execution_count": 45,
   "id": "dae40bc6-dd5d-4a9d-b71c-6410b86692ed",
   "metadata": {},
   "outputs": [
    {
     "data": {
      "text/html": [
       "16"
      ],
      "text/latex": [
       "16"
      ],
      "text/markdown": [
       "16"
      ],
      "text/plain": [
       "[1] 16"
      ]
     },
     "metadata": {},
     "output_type": "display_data"
    }
   ],
   "source": [
    "pow_two(4, FALSE)"
   ]
  },
  {
   "cell_type": "markdown",
   "id": "9dcdf2f1-55d5-403a-afc3-a158061aa246",
   "metadata": {},
   "source": [
    "## Function scoping\n",
    "It implies that variables that are defined inside a function are not accessible outside that function. Try running the following code and see if you understand the results:"
   ]
  },
  {
   "cell_type": "code",
   "execution_count": 46,
   "id": "7ff322e3-a5ea-45ff-98f5-92dae686f2f0",
   "metadata": {},
   "outputs": [
    {
     "data": {
      "text/html": [
       "16"
      ],
      "text/latex": [
       "16"
      ],
      "text/markdown": [
       "16"
      ],
      "text/plain": [
       "[1] 16"
      ]
     },
     "metadata": {},
     "output_type": "display_data"
    },
    {
     "data": {
      "text/html": [
       "<pre class=language-r><code>.Primitive(\"c\")</code></pre>"
      ],
      "text/latex": [
       "\\begin{minted}{r}\n",
       ".Primitive(\"c\")\n",
       "\\end{minted}"
      ],
      "text/markdown": [
       "```r\n",
       ".Primitive(\"c\")\n",
       "```"
      ],
      "text/plain": [
       "function (...)  .Primitive(\"c\")"
      ]
     },
     "metadata": {},
     "output_type": "display_data"
    }
   ],
   "source": [
    "pow_two <- function(c) {\n",
    "  d <- c ^ 2\n",
    "  return(d)\n",
    "}\n",
    "pow_two(4)\n",
    "#d\n",
    "c"
   ]
  },
  {
   "cell_type": "markdown",
   "id": "3b0cca4d-fec2-4b6f-abd3-5ca8fb14c1a0",
   "metadata": {},
   "source": [
    "`y` was defined inside the `pow_two()` function and therefore it is not accessible outside of that function. This is also true for the function's arguments of course - `x` in this case.\n",
    "\n",
    "Which statement is correct about the following chunk of code? "
   ]
  },
  {
   "cell_type": "code",
   "execution_count": 47,
   "id": "ac05c75a-ec03-4ca2-8fc6-7ac81a4d25dd",
   "metadata": {},
   "outputs": [
    {
     "data": {
      "text/html": [
       "9"
      ],
      "text/latex": [
       "9"
      ],
      "text/markdown": [
       "9"
      ],
      "text/plain": [
       "[1] 9"
      ]
     },
     "metadata": {},
     "output_type": "display_data"
    }
   ],
   "source": [
    "two_dice <- function() {\n",
    "  possibilities <- 1:6\n",
    "  dice1 <- sample(possibilities, size = 1)\n",
    "  dice2 <- sample(possibilities, size = 1)\n",
    "  dice1 + dice2\n",
    "}\n",
    "\n",
    "res <- two_dice()\n",
    "res"
   ]
  },
  {
   "cell_type": "markdown",
   "id": "32e2d1d9-e354-4fd2-8a4b-6f5921d7f650",
   "metadata": {},
   "source": [
    "Whatever the way of calling the `two_dice()` function, R won't have access to `dice1` and `dice2` outside the function."
   ]
  },
  {
   "cell_type": "markdown",
   "id": "b07f1b7d-bb97-47d5-9204-1bb7469ea52b",
   "metadata": {},
   "source": [
    "## R passes arguments by value\n",
    "R passes arguments by value. What does this mean? Simply put, it means that an R function cannot change the variable that you input to that function. Let's look at a simple example:"
   ]
  },
  {
   "cell_type": "code",
   "execution_count": 48,
   "id": "2daaee9b-9ad8-4264-a019-17d063d435a8",
   "metadata": {},
   "outputs": [
    {
     "data": {
      "text/html": [
       "15"
      ],
      "text/latex": [
       "15"
      ],
      "text/markdown": [
       "15"
      ],
      "text/plain": [
       "[1] 15"
      ]
     },
     "metadata": {},
     "output_type": "display_data"
    },
    {
     "data": {
      "text/html": [
       "5"
      ],
      "text/latex": [
       "5"
      ],
      "text/markdown": [
       "5"
      ],
      "text/plain": [
       "[1] 5"
      ]
     },
     "metadata": {},
     "output_type": "display_data"
    }
   ],
   "source": [
    "triple <- function(x) {\n",
    "  x <- 3*x\n",
    "  x\n",
    "}\n",
    "a <- 5\n",
    "triple(a)\n",
    "a"
   ]
  },
  {
   "cell_type": "markdown",
   "id": "d0605d19-cdc4-42a4-8c66-987dc5a3fbf5",
   "metadata": {},
   "source": [
    "Inside the `triple()` function, the argument `x` gets overwritten with its value times three. Afterwards this new `x` is returned. If you call this function with a variable a set equal to 5, you obtain 15. But did the value of a change? If R were to pass `a` to `triple()` *by reference*, the override of the `x` inside the function would ripple through to the variable `a`, outside the function. However, R passes *by value*, so the R objects you pass to `a` function can never change unless you do an explicit assignment. a remains equal to 5, even after calling `triple(a)`."
   ]
  },
  {
   "cell_type": "code",
   "execution_count": 49,
   "id": "421c726e-5ac6-4a97-8590-a32b5de5a5d7",
   "metadata": {},
   "outputs": [],
   "source": [
    "increment <- function(x, inc = 1) {\n",
    "  x <- x + inc\n",
    "  x\n",
    "}\n",
    "count <- 5\n",
    "a <- increment(count, 2)\n",
    "b <- increment(count)\n",
    "count <- increment(count, 2)"
   ]
  },
  {
   "cell_type": "code",
   "execution_count": 50,
   "id": "38ccbfae-0925-4b62-ba3d-3e87d3edd7cb",
   "metadata": {},
   "outputs": [
    {
     "data": {
      "text/html": [
       "7"
      ],
      "text/latex": [
       "7"
      ],
      "text/markdown": [
       "7"
      ],
      "text/plain": [
       "[1] 7"
      ]
     },
     "metadata": {},
     "output_type": "display_data"
    }
   ],
   "source": [
    "a"
   ]
  },
  {
   "cell_type": "code",
   "execution_count": 51,
   "id": "c883bf40-c0c5-4d7f-bc8c-6a2fe8e5d6e9",
   "metadata": {},
   "outputs": [
    {
     "data": {
      "text/html": [
       "6"
      ],
      "text/latex": [
       "6"
      ],
      "text/markdown": [
       "6"
      ],
      "text/plain": [
       "[1] 6"
      ]
     },
     "metadata": {},
     "output_type": "display_data"
    }
   ],
   "source": [
    "b"
   ]
  },
  {
   "cell_type": "code",
   "execution_count": 52,
   "id": "b4516504-b424-4cc0-b280-7e18226541c7",
   "metadata": {},
   "outputs": [
    {
     "data": {
      "text/html": [
       "7"
      ],
      "text/latex": [
       "7"
      ],
      "text/markdown": [
       "7"
      ],
      "text/plain": [
       "[1] 7"
      ]
     },
     "metadata": {},
     "output_type": "display_data"
    }
   ],
   "source": [
    "count"
   ]
  },
  {
   "cell_type": "markdown",
   "id": "dfb1348f-99f0-4b8e-9a36-8797a1258b07",
   "metadata": {},
   "source": [
    "Given that R passes arguments *by value* and not *by reference*, the value of `count` is not changed after the first two calls of `increment()`. Only in the final expression, where `count` is re-assigned explicitly, does the value of `count` change."
   ]
  },
  {
   "cell_type": "code",
   "execution_count": 53,
   "id": "58632a29-d844-4b3a-8cac-a25bc14dfcb0",
   "metadata": {},
   "outputs": [
    {
     "name": "stdout",
     "output_type": "stream",
     "text": [
      "[1] \"You're popular!\"\n"
     ]
    },
    {
     "data": {
      "text/html": [
       "16"
      ],
      "text/latex": [
       "16"
      ],
      "text/markdown": [
       "16"
      ],
      "text/plain": [
       "[1] 16"
      ]
     },
     "metadata": {},
     "output_type": "display_data"
    },
    {
     "name": "stdout",
     "output_type": "stream",
     "text": [
      "[1] \"Try to be more visible!\"\n"
     ]
    },
    {
     "data": {
      "text/html": [
       "0"
      ],
      "text/latex": [
       "0"
      ],
      "text/markdown": [
       "0"
      ],
      "text/plain": [
       "[1] 0"
      ]
     },
     "metadata": {},
     "output_type": "display_data"
    }
   ],
   "source": [
    "linkedin <- c(16, 9, 13, 5, 2, 17, 14)\n",
    "facebook <- c(17, 7, 5, 16, 8, 13, 14)\n",
    "\n",
    "# Define the interpret function\n",
    "interpret <- function(num_views) {\n",
    "  if (num_views > 15) {\n",
    "    print(\"You're popular!\")\n",
    "    return(num_views)\n",
    "  } else {\n",
    "    print(\"Try to be more visible!\")\n",
    "    return(0)\n",
    "  }\n",
    "}\n",
    "\n",
    "# Call the interpret function twice\n",
    "interpret(linkedin[1])\n",
    "interpret(facebook[2])"
   ]
  },
  {
   "cell_type": "code",
   "execution_count": 54,
   "id": "f494f8c2-081c-4e18-9097-126899cb32a7",
   "metadata": {},
   "outputs": [
    {
     "name": "stdout",
     "output_type": "stream",
     "text": [
      "[1] \"You're popular!\"\n",
      "[1] \"Try to be more visible!\"\n",
      "[1] \"Try to be more visible!\"\n",
      "[1] \"Try to be more visible!\"\n",
      "[1] \"Try to be more visible!\"\n",
      "[1] \"You're popular!\"\n",
      "[1] \"Try to be more visible!\"\n"
     ]
    },
    {
     "data": {
      "text/html": [
       "33"
      ],
      "text/latex": [
       "33"
      ],
      "text/markdown": [
       "33"
      ],
      "text/plain": [
       "[1] 33"
      ]
     },
     "metadata": {},
     "output_type": "display_data"
    },
    {
     "name": "stdout",
     "output_type": "stream",
     "text": [
      "[1] \"You're popular!\"\n",
      "[1] \"Try to be more visible!\"\n",
      "[1] \"Try to be more visible!\"\n",
      "[1] \"You're popular!\"\n",
      "[1] \"Try to be more visible!\"\n",
      "[1] \"Try to be more visible!\"\n",
      "[1] \"Try to be more visible!\"\n"
     ]
    },
    {
     "data": {
      "text/html": [
       "33"
      ],
      "text/latex": [
       "33"
      ],
      "text/markdown": [
       "33"
      ],
      "text/plain": [
       "[1] 33"
      ]
     },
     "metadata": {},
     "output_type": "display_data"
    }
   ],
   "source": [
    "# Define the interpret_all() function\n",
    "# views: vector with data to interpret\n",
    "# return_sum: return total number of views on popular days?\n",
    "interpret_all <- function(views, return_sum = TRUE) {\n",
    "  count <- 0\n",
    "\n",
    "  for (v in views) {\n",
    "    count <- count + interpret(v)\n",
    "  }\n",
    "\n",
    "  if (return_sum) {\n",
    "    return(count)\n",
    "  } else {\n",
    "    return(NULL)\n",
    "  }\n",
    "}\n",
    "\n",
    "# Call the interpret_all() function on both linkedin and facebook\n",
    "interpret_all(linkedin)\n",
    "interpret_all(facebook)"
   ]
  },
  {
   "cell_type": "markdown",
   "id": "3a92bf85-465b-4ede-b345-34d3e8fa9c1a",
   "metadata": {},
   "source": [
    "Have a look at the results; it appears that the sum of views on popular days are the same for Facebook and LinkedIn, what a coincidence."
   ]
  },
  {
   "cell_type": "code",
   "execution_count": 55,
   "id": "faaeae17-837e-4267-8bcd-9fa2053f877f",
   "metadata": {},
   "outputs": [],
   "source": [
    "#install.packages(\"ggplot2\")"
   ]
  },
  {
   "cell_type": "code",
   "execution_count": 56,
   "id": "0bdedca9-ce43-4458-9b35-987232ea144e",
   "metadata": {},
   "outputs": [
    {
     "data": {
      "image/png": "[encoded data removed]",
      "text/plain": [
       "plot without title"
      ]
     },
     "metadata": {},
     "output_type": "display_data"
    }
   ],
   "source": [
    "# Load the ggplot2 package\n",
    "library(\"ggplot2\")\n",
    "\n",
    "# Retry the qplot() function\n",
    "qplot(mtcars$wt, mtcars$hp)"
   ]
  },
  {
   "cell_type": "code",
   "execution_count": 57,
   "id": "babcc800-6146-4b86-bff9-ea0dcacbea02",
   "metadata": {},
   "outputs": [
    {
     "data": {
      "text/html": [
       "<ol class=list-inline>\n",
       "\t<li>'.GlobalEnv'</li>\n",
       "\t<li>'package:ggplot2'</li>\n",
       "\t<li>'jupyter:irkernel'</li>\n",
       "\t<li>'package:stats'</li>\n",
       "\t<li>'package:graphics'</li>\n",
       "\t<li>'package:grDevices'</li>\n",
       "\t<li>'package:utils'</li>\n",
       "\t<li>'package:datasets'</li>\n",
       "\t<li>'package:methods'</li>\n",
       "\t<li>'Autoloads'</li>\n",
       "\t<li>'package:base'</li>\n",
       "</ol>\n"
      ],
      "text/latex": [
       "\\begin{enumerate*}\n",
       "\\item '.GlobalEnv'\n",
       "\\item 'package:ggplot2'\n",
       "\\item 'jupyter:irkernel'\n",
       "\\item 'package:stats'\n",
       "\\item 'package:graphics'\n",
       "\\item 'package:grDevices'\n",
       "\\item 'package:utils'\n",
       "\\item 'package:datasets'\n",
       "\\item 'package:methods'\n",
       "\\item 'Autoloads'\n",
       "\\item 'package:base'\n",
       "\\end{enumerate*}\n"
      ],
      "text/markdown": [
       "1. '.GlobalEnv'\n",
       "2. 'package:ggplot2'\n",
       "3. 'jupyter:irkernel'\n",
       "4. 'package:stats'\n",
       "5. 'package:graphics'\n",
       "6. 'package:grDevices'\n",
       "7. 'package:utils'\n",
       "8. 'package:datasets'\n",
       "9. 'package:methods'\n",
       "10. 'Autoloads'\n",
       "11. 'package:base'\n",
       "\n",
       "\n"
      ],
      "text/plain": [
       " [1] \".GlobalEnv\"        \"package:ggplot2\"   \"jupyter:irkernel\" \n",
       " [4] \"package:stats\"     \"package:graphics\"  \"package:grDevices\"\n",
       " [7] \"package:utils\"     \"package:datasets\"  \"package:methods\"  \n",
       "[10] \"Autoloads\"         \"package:base\"     "
      ]
     },
     "metadata": {},
     "output_type": "display_data"
    }
   ],
   "source": [
    "# Check out the currently attached packages again\n",
    "search()"
   ]
  },
  {
   "cell_type": "markdown",
   "id": "f9d2639b-a1d4-4cd9-b95e-4063188b07c3",
   "metadata": {},
   "source": [
    "## Different ways to load a package\n",
    "The `library()` and `require()` functions are not very picky when it comes down to argument types: both `library(rjson)` and `library(\"rjson\")` work perfectly fine for loading a package.\n",
    "\n",
    "Have a look at some more code chunks that (attempt to) load one or more packages:\n",
    "```r\n",
    "# Chunk 1\n",
    "library(data.table)\n",
    "require(rjson)\n",
    "\n",
    "# Chunk 2\n",
    "library(\"data.table\")\n",
    "require(rjson)\n",
    "\n",
    "# Chunk 3\n",
    "library(data.table)\n",
    "require(rjson, character.only = TRUE)\n",
    "\n",
    "# Chunk 4\n",
    "library(c(\"data.table\", \"rjson\"))\n",
    "```\n",
    "Select the option that lists all of the chunks that do not generate an error. The console is yours to experiment in.\n",
    "\n",
    "1. ~Only (1)~\n",
    "\n",
    "2. **(1) and (2)**\n",
    "\n",
    "3. ~(1), (2) and (3)~\n",
    "\n",
    "4. ~All of them are valid~\n",
    "\n",
    "**Answer: 2** Indeed, only chunk 1 and chunk 2 are correct."
   ]
  },
  {
   "cell_type": "markdown",
   "id": "9c8041bc-e351-46e0-8bce-f3f3497e9272",
   "metadata": {},
   "source": [
    "---"
   ]
  },
  {
   "cell_type": "markdown",
   "id": "98be0de5-34a1-45d8-b59a-1867204ec7eb",
   "metadata": {},
   "source": [
    "## lapply"
   ]
  },
  {
   "cell_type": "code",
   "execution_count": 58,
   "id": "95ed7411-138f-4f20-b2c8-354be337027a",
   "metadata": {},
   "outputs": [],
   "source": [
    "nyc <- list(pop = 8405837,\n",
    "           boroughs = c('Manhattan', 'Bronx', 'Brooklyn', 'Queens', 'Staten Island'),\n",
    "           capital = FALSE)"
   ]
  },
  {
   "cell_type": "code",
   "execution_count": 59,
   "id": "f98aa18c-693d-4546-936a-171ac95c51a6",
   "metadata": {},
   "outputs": [
    {
     "name": "stdout",
     "output_type": "stream",
     "text": [
      "[1] \"numeric\"\n",
      "[1] \"character\"\n",
      "[1] \"logical\"\n"
     ]
    }
   ],
   "source": [
    "for(info in nyc) {\n",
    "    print(class(info))\n",
    "}"
   ]
  },
  {
   "cell_type": "code",
   "execution_count": 60,
   "id": "449febc8-e65a-42a8-986f-d10d2d20935c",
   "metadata": {},
   "outputs": [
    {
     "data": {
      "text/html": [
       "<dl>\n",
       "\t<dt>$pop</dt>\n",
       "\t\t<dd>'numeric'</dd>\n",
       "\t<dt>$boroughs</dt>\n",
       "\t\t<dd>'character'</dd>\n",
       "\t<dt>$capital</dt>\n",
       "\t\t<dd>'logical'</dd>\n",
       "</dl>\n"
      ],
      "text/latex": [
       "\\begin{description}\n",
       "\\item[\\$pop] 'numeric'\n",
       "\\item[\\$boroughs] 'character'\n",
       "\\item[\\$capital] 'logical'\n",
       "\\end{description}\n"
      ],
      "text/markdown": [
       "$pop\n",
       ":   'numeric'\n",
       "$boroughs\n",
       ":   'character'\n",
       "$capital\n",
       ":   'logical'\n",
       "\n",
       "\n"
      ],
      "text/plain": [
       "$pop\n",
       "[1] \"numeric\"\n",
       "\n",
       "$boroughs\n",
       "[1] \"character\"\n",
       "\n",
       "$capital\n",
       "[1] \"logical\"\n"
      ]
     },
     "metadata": {},
     "output_type": "display_data"
    }
   ],
   "source": [
    "lapply(nyc, class)"
   ]
  },
  {
   "cell_type": "code",
   "execution_count": 62,
   "id": "634e7ccd-c5bd-44a5-b9b8-6c35589f952e",
   "metadata": {},
   "outputs": [],
   "source": [
    "cities <- c('New York', 'Paris', 'London', 'Tokyo', 'Rio de Janeiro', 'Cape Town')"
   ]
  },
  {
   "cell_type": "code",
   "execution_count": 63,
   "id": "56cb7ebe-aa34-4cdf-bd9f-834678011476",
   "metadata": {},
   "outputs": [],
   "source": [
    "num_chars <- c()\n",
    "for(i in 1:length(cities)) {\n",
    "    num_chars[i] <- nchar(cities[i])\n",
    "}"
   ]
  },
  {
   "cell_type": "code",
   "execution_count": 65,
   "id": "06e5a4e0-2d3e-4354-bbfb-6761a423494e",
   "metadata": {},
   "outputs": [
    {
     "data": {
      "text/html": [
       "<ol class=list-inline>\n",
       "\t<li>8</li>\n",
       "\t<li>5</li>\n",
       "\t<li>6</li>\n",
       "\t<li>5</li>\n",
       "\t<li>14</li>\n",
       "\t<li>9</li>\n",
       "</ol>\n"
      ],
      "text/latex": [
       "\\begin{enumerate*}\n",
       "\\item 8\n",
       "\\item 5\n",
       "\\item 6\n",
       "\\item 5\n",
       "\\item 14\n",
       "\\item 9\n",
       "\\end{enumerate*}\n"
      ],
      "text/markdown": [
       "1. 8\n",
       "2. 5\n",
       "3. 6\n",
       "4. 5\n",
       "5. 14\n",
       "6. 9\n",
       "\n",
       "\n"
      ],
      "text/plain": [
       "[1]  8  5  6  5 14  9"
      ]
     },
     "metadata": {},
     "output_type": "display_data"
    }
   ],
   "source": [
    "num_chars"
   ]
  },
  {
   "cell_type": "code",
   "execution_count": 66,
   "id": "1202973c-7659-467d-b48c-63b9bdefb6d1",
   "metadata": {},
   "outputs": [
    {
     "data": {
      "text/html": [
       "<ol>\n",
       "\t<li>8</li>\n",
       "\t<li>5</li>\n",
       "\t<li>6</li>\n",
       "\t<li>5</li>\n",
       "\t<li>14</li>\n",
       "\t<li>9</li>\n",
       "</ol>\n"
      ],
      "text/latex": [
       "\\begin{enumerate}\n",
       "\\item 8\n",
       "\\item 5\n",
       "\\item 6\n",
       "\\item 5\n",
       "\\item 14\n",
       "\\item 9\n",
       "\\end{enumerate}\n"
      ],
      "text/markdown": [
       "1. 8\n",
       "2. 5\n",
       "3. 6\n",
       "4. 5\n",
       "5. 14\n",
       "6. 9\n",
       "\n",
       "\n"
      ],
      "text/plain": [
       "[[1]]\n",
       "[1] 8\n",
       "\n",
       "[[2]]\n",
       "[1] 5\n",
       "\n",
       "[[3]]\n",
       "[1] 6\n",
       "\n",
       "[[4]]\n",
       "[1] 5\n",
       "\n",
       "[[5]]\n",
       "[1] 14\n",
       "\n",
       "[[6]]\n",
       "[1] 9\n"
      ]
     },
     "metadata": {},
     "output_type": "display_data"
    }
   ],
   "source": [
    "lapply(cities, nchar)"
   ]
  },
  {
   "cell_type": "code",
   "execution_count": 67,
   "id": "78daa336-834f-4f73-9e2a-d0d9fbcf3939",
   "metadata": {},
   "outputs": [
    {
     "data": {
      "text/html": [
       "<ol class=list-inline>\n",
       "\t<li>8</li>\n",
       "\t<li>5</li>\n",
       "\t<li>6</li>\n",
       "\t<li>5</li>\n",
       "\t<li>14</li>\n",
       "\t<li>9</li>\n",
       "</ol>\n"
      ],
      "text/latex": [
       "\\begin{enumerate*}\n",
       "\\item 8\n",
       "\\item 5\n",
       "\\item 6\n",
       "\\item 5\n",
       "\\item 14\n",
       "\\item 9\n",
       "\\end{enumerate*}\n"
      ],
      "text/markdown": [
       "1. 8\n",
       "2. 5\n",
       "3. 6\n",
       "4. 5\n",
       "5. 14\n",
       "6. 9\n",
       "\n",
       "\n"
      ],
      "text/plain": [
       "[1]  8  5  6  5 14  9"
      ]
     },
     "metadata": {},
     "output_type": "display_data"
    }
   ],
   "source": [
    "unlist(lapply(cities, nchar))"
   ]
  },
  {
   "cell_type": "code",
   "execution_count": 70,
   "id": "83dd49b4-0d40-44a0-98d2-7d04d5d9610f",
   "metadata": {},
   "outputs": [],
   "source": [
    "oil_prices <- list(2.37, 2.49, 2.18, 2.22, 2.47, 2.32)"
   ]
  },
  {
   "cell_type": "code",
   "execution_count": 71,
   "id": "95cde44c-8761-41f7-a12e-1726f3f70047",
   "metadata": {},
   "outputs": [],
   "source": [
    "triple <- function(x) {\n",
    "    3 * x\n",
    "}\n",
    "\n",
    "result <- lapply(oil_prices, triple)"
   ]
  },
  {
   "cell_type": "code",
   "execution_count": 72,
   "id": "871ada31-748f-4c3f-8364-a3b7fc97261b",
   "metadata": {},
   "outputs": [
    {
     "name": "stdout",
     "output_type": "stream",
     "text": [
      "List of 6\n",
      " $ : num 7.11\n",
      " $ : num 7.47\n",
      " $ : num 6.54\n",
      " $ : num 6.66\n",
      " $ : num 7.41\n",
      " $ : num 6.96\n"
     ]
    }
   ],
   "source": [
    "str(result)"
   ]
  },
  {
   "cell_type": "code",
   "execution_count": 73,
   "id": "87b6831b-76ed-4b3f-9ed7-0e3ae3216270",
   "metadata": {},
   "outputs": [
    {
     "data": {
      "text/html": [
       "<ol class=list-inline>\n",
       "\t<li>7.11</li>\n",
       "\t<li>7.47</li>\n",
       "\t<li>6.54</li>\n",
       "\t<li>6.66</li>\n",
       "\t<li>7.41</li>\n",
       "\t<li>6.96</li>\n",
       "</ol>\n"
      ],
      "text/latex": [
       "\\begin{enumerate*}\n",
       "\\item 7.11\n",
       "\\item 7.47\n",
       "\\item 6.54\n",
       "\\item 6.66\n",
       "\\item 7.41\n",
       "\\item 6.96\n",
       "\\end{enumerate*}\n"
      ],
      "text/markdown": [
       "1. 7.11\n",
       "2. 7.47\n",
       "3. 6.54\n",
       "4. 6.66\n",
       "5. 7.41\n",
       "6. 6.96\n",
       "\n",
       "\n"
      ],
      "text/plain": [
       "[1] 7.11 7.47 6.54 6.66 7.41 6.96"
      ]
     },
     "metadata": {},
     "output_type": "display_data"
    }
   ],
   "source": [
    "unlist(result)"
   ]
  },
  {
   "cell_type": "code",
   "execution_count": 81,
   "id": "ecf78b61-e425-402c-9b61-546b5f9af798",
   "metadata": {},
   "outputs": [],
   "source": [
    "multiply <- function(x, factor) {\n",
    "    x * factor\n",
    "}"
   ]
  },
  {
   "cell_type": "code",
   "execution_count": 84,
   "id": "4dbc9c09-21db-4cfe-a626-3bb67d08ad1d",
   "metadata": {},
   "outputs": [
    {
     "data": {
      "text/html": [
       "<ol class=list-inline>\n",
       "\t<li>7.11</li>\n",
       "\t<li>7.47</li>\n",
       "\t<li>6.54</li>\n",
       "\t<li>6.66</li>\n",
       "\t<li>7.41</li>\n",
       "\t<li>6.96</li>\n",
       "</ol>\n"
      ],
      "text/latex": [
       "\\begin{enumerate*}\n",
       "\\item 7.11\n",
       "\\item 7.47\n",
       "\\item 6.54\n",
       "\\item 6.66\n",
       "\\item 7.41\n",
       "\\item 6.96\n",
       "\\end{enumerate*}\n"
      ],
      "text/markdown": [
       "1. 7.11\n",
       "2. 7.47\n",
       "3. 6.54\n",
       "4. 6.66\n",
       "5. 7.41\n",
       "6. 6.96\n",
       "\n",
       "\n"
      ],
      "text/plain": [
       "[1] 7.11 7.47 6.54 6.66 7.41 6.96"
      ]
     },
     "metadata": {},
     "output_type": "display_data"
    }
   ],
   "source": [
    "time3 <- lapply(oil_prices, multiply, factor=3)\n",
    "unlist(time3)"
   ]
  },
  {
   "cell_type": "code",
   "execution_count": 86,
   "id": "36a22f5a-3a2e-4a0a-85ce-cabb3e8a232f",
   "metadata": {},
   "outputs": [
    {
     "data": {
      "text/html": [
       "<ol class=list-inline>\n",
       "\t<li>11.85</li>\n",
       "\t<li>12.45</li>\n",
       "\t<li>10.9</li>\n",
       "\t<li>11.1</li>\n",
       "\t<li>12.35</li>\n",
       "\t<li>11.6</li>\n",
       "</ol>\n"
      ],
      "text/latex": [
       "\\begin{enumerate*}\n",
       "\\item 11.85\n",
       "\\item 12.45\n",
       "\\item 10.9\n",
       "\\item 11.1\n",
       "\\item 12.35\n",
       "\\item 11.6\n",
       "\\end{enumerate*}\n"
      ],
      "text/markdown": [
       "1. 11.85\n",
       "2. 12.45\n",
       "3. 10.9\n",
       "4. 11.1\n",
       "5. 12.35\n",
       "6. 11.6\n",
       "\n",
       "\n"
      ],
      "text/plain": [
       "[1] 11.85 12.45 10.90 11.10 12.35 11.60"
      ]
     },
     "metadata": {},
     "output_type": "display_data"
    }
   ],
   "source": [
    "time5 <- lapply(oil_prices, multiply, factor=5)\n",
    "unlist(time5)"
   ]
  },
  {
   "cell_type": "markdown",
   "id": "157c4445-81a7-4897-8826-6e806526b14e",
   "metadata": {},
   "source": [
    "```r\n",
    "lapply(X, FUN, ...)\n",
    "```\n",
    "To put it generally, `lapply` takes a vector or list `X`, and applies the function `FUN` to each of its members. If `FUN` requires additional arguments, you pass them after you've specified `X` and `FUN` (`...`). The output of `lapply()` is a list, the same length as `X`, where each element is the result of applying `FUN` on the corresponding element of `X`."
   ]
  },
  {
   "cell_type": "code",
   "execution_count": 87,
   "id": "09bc36d4-a88d-417f-82a2-646751b6a547",
   "metadata": {},
   "outputs": [
    {
     "name": "stdout",
     "output_type": "stream",
     "text": [
      "List of 4\n",
      " $ : chr [1:2] \"gauss\" \"1777\"\n",
      " $ : chr [1:2] \"bayes\" \"1702\"\n",
      " $ : chr [1:2] \"pascal\" \"1623\"\n",
      " $ : chr [1:2] \"pearson\" \"1857\"\n"
     ]
    }
   ],
   "source": [
    "# The vector pioneers has already been created for you\n",
    "pioneers <- c(\"GAUSS:1777\", \"BAYES:1702\", \"PASCAL:1623\", \"PEARSON:1857\")\n",
    "\n",
    "# Split names from birth year\n",
    "split_math <- strsplit(pioneers, split = \":\")\n",
    "\n",
    "# Convert to lowercase strings: split_low\n",
    "split_low <- lapply(split_math, tolower)\n",
    "\n",
    "# Take a look at the structure of split_low\n",
    "str(split_low)"
   ]
  },
  {
   "cell_type": "code",
   "execution_count": 89,
   "id": "6f00f7d7-6b73-40ae-8d1d-987b69200308",
   "metadata": {},
   "outputs": [
    {
     "data": {
      "text/html": [
       "<ol>\n",
       "\t<li>'gauss'</li>\n",
       "\t<li>'bayes'</li>\n",
       "\t<li>'pascal'</li>\n",
       "\t<li>'pearson'</li>\n",
       "</ol>\n"
      ],
      "text/latex": [
       "\\begin{enumerate}\n",
       "\\item 'gauss'\n",
       "\\item 'bayes'\n",
       "\\item 'pascal'\n",
       "\\item 'pearson'\n",
       "\\end{enumerate}\n"
      ],
      "text/markdown": [
       "1. 'gauss'\n",
       "2. 'bayes'\n",
       "3. 'pascal'\n",
       "4. 'pearson'\n",
       "\n",
       "\n"
      ],
      "text/plain": [
       "[[1]]\n",
       "[1] \"gauss\"\n",
       "\n",
       "[[2]]\n",
       "[1] \"bayes\"\n",
       "\n",
       "[[3]]\n",
       "[1] \"pascal\"\n",
       "\n",
       "[[4]]\n",
       "[1] \"pearson\"\n"
      ]
     },
     "metadata": {},
     "output_type": "display_data"
    }
   ],
   "source": [
    "# Write function select_first()\n",
    "select_first <- function(x) {\n",
    "  x[1]\n",
    "}\n",
    "\n",
    "# Apply select_first() over split_low: names\n",
    "names <- lapply(split_low, select_first)\n",
    "names"
   ]
  },
  {
   "cell_type": "code",
   "execution_count": 90,
   "id": "7584a2bb-7fb2-4b21-be7a-d1e74ecc15b5",
   "metadata": {},
   "outputs": [
    {
     "data": {
      "text/html": [
       "<ol>\n",
       "\t<li>'1777'</li>\n",
       "\t<li>'1702'</li>\n",
       "\t<li>'1623'</li>\n",
       "\t<li>'1857'</li>\n",
       "</ol>\n"
      ],
      "text/latex": [
       "\\begin{enumerate}\n",
       "\\item '1777'\n",
       "\\item '1702'\n",
       "\\item '1623'\n",
       "\\item '1857'\n",
       "\\end{enumerate}\n"
      ],
      "text/markdown": [
       "1. '1777'\n",
       "2. '1702'\n",
       "3. '1623'\n",
       "4. '1857'\n",
       "\n",
       "\n"
      ],
      "text/plain": [
       "[[1]]\n",
       "[1] \"1777\"\n",
       "\n",
       "[[2]]\n",
       "[1] \"1702\"\n",
       "\n",
       "[[3]]\n",
       "[1] \"1623\"\n",
       "\n",
       "[[4]]\n",
       "[1] \"1857\"\n"
      ]
     },
     "metadata": {},
     "output_type": "display_data"
    }
   ],
   "source": [
    "# Write function select_second()\n",
    "select_second <- function(x) {\n",
    "  x[2]\n",
    "}\n",
    "\n",
    "# Apply select_second() over split_low: years\n",
    "years <- lapply(split_low, select_second)\n",
    "years"
   ]
  },
  {
   "cell_type": "markdown",
   "id": "fbda5cde-5396-4565-8732-9878a8d5f707",
   "metadata": {},
   "source": [
    "## lapply and anonymous functions"
   ]
  },
  {
   "cell_type": "code",
   "execution_count": 93,
   "id": "5eb1ab26-6bce-4f41-93d8-b0bf714a3ee0",
   "metadata": {},
   "outputs": [
    {
     "data": {
      "text/html": [
       "<ol>\n",
       "\t<li>'gauss'</li>\n",
       "\t<li>'bayes'</li>\n",
       "\t<li>'pascal'</li>\n",
       "\t<li>'pearson'</li>\n",
       "</ol>\n"
      ],
      "text/latex": [
       "\\begin{enumerate}\n",
       "\\item 'gauss'\n",
       "\\item 'bayes'\n",
       "\\item 'pascal'\n",
       "\\item 'pearson'\n",
       "\\end{enumerate}\n"
      ],
      "text/markdown": [
       "1. 'gauss'\n",
       "2. 'bayes'\n",
       "3. 'pascal'\n",
       "4. 'pearson'\n",
       "\n",
       "\n"
      ],
      "text/plain": [
       "[[1]]\n",
       "[1] \"gauss\"\n",
       "\n",
       "[[2]]\n",
       "[1] \"bayes\"\n",
       "\n",
       "[[3]]\n",
       "[1] \"pascal\"\n",
       "\n",
       "[[4]]\n",
       "[1] \"pearson\"\n"
      ]
     },
     "metadata": {},
     "output_type": "display_data"
    }
   ],
   "source": [
    "# Transform: use anonymous function inside lapply\n",
    "names <- lapply(split_low, function(x){x[1]})\n",
    "names"
   ]
  },
  {
   "cell_type": "code",
   "execution_count": 94,
   "id": "ee650fd3-28ed-4f55-b545-1c163df51fb5",
   "metadata": {},
   "outputs": [
    {
     "data": {
      "text/html": [
       "<ol>\n",
       "\t<li>'1777'</li>\n",
       "\t<li>'1702'</li>\n",
       "\t<li>'1623'</li>\n",
       "\t<li>'1857'</li>\n",
       "</ol>\n"
      ],
      "text/latex": [
       "\\begin{enumerate}\n",
       "\\item '1777'\n",
       "\\item '1702'\n",
       "\\item '1623'\n",
       "\\item '1857'\n",
       "\\end{enumerate}\n"
      ],
      "text/markdown": [
       "1. '1777'\n",
       "2. '1702'\n",
       "3. '1623'\n",
       "4. '1857'\n",
       "\n",
       "\n"
      ],
      "text/plain": [
       "[[1]]\n",
       "[1] \"1777\"\n",
       "\n",
       "[[2]]\n",
       "[1] \"1702\"\n",
       "\n",
       "[[3]]\n",
       "[1] \"1623\"\n",
       "\n",
       "[[4]]\n",
       "[1] \"1857\"\n"
      ]
     },
     "metadata": {},
     "output_type": "display_data"
    }
   ],
   "source": [
    "# Transform: use anonymous function inside lapply\n",
    "years <- lapply(split_low, function(x){x[2]})\n",
    "years"
   ]
  },
  {
   "cell_type": "markdown",
   "id": "06a05eb1-ecb6-41dc-aabe-08317fb4d126",
   "metadata": {},
   "source": [
    "## Use lapply with additional arguments\n",
    "```r\n",
    "multiply <- function(x, factor) {\n",
    "  x * factor\n",
    "}\n",
    "lapply(list(1,2,3), multiply, factor = 3)\n",
    "```"
   ]
  },
  {
   "cell_type": "code",
   "execution_count": 95,
   "id": "99434c3a-f13a-4b5a-8e09-2a2a0e4c7573",
   "metadata": {},
   "outputs": [],
   "source": [
    "# Generic select function\n",
    "select_el <- function(x, index) {\n",
    "  x[index]\n",
    "}\n",
    "\n",
    "# Use lapply() twice on split_low: names and years\n",
    "names <- lapply(split_low, select_el, index=1)\n",
    "years <- lapply(split_low, select_el, index=2)"
   ]
  },
  {
   "cell_type": "code",
   "execution_count": 96,
   "id": "90e5def9-8d44-4e1f-b51d-a94610582783",
   "metadata": {},
   "outputs": [
    {
     "data": {
      "text/html": [
       "<ol>\n",
       "\t<li>'gauss'</li>\n",
       "\t<li>'bayes'</li>\n",
       "\t<li>'pascal'</li>\n",
       "\t<li>'pearson'</li>\n",
       "</ol>\n"
      ],
      "text/latex": [
       "\\begin{enumerate}\n",
       "\\item 'gauss'\n",
       "\\item 'bayes'\n",
       "\\item 'pascal'\n",
       "\\item 'pearson'\n",
       "\\end{enumerate}\n"
      ],
      "text/markdown": [
       "1. 'gauss'\n",
       "2. 'bayes'\n",
       "3. 'pascal'\n",
       "4. 'pearson'\n",
       "\n",
       "\n"
      ],
      "text/plain": [
       "[[1]]\n",
       "[1] \"gauss\"\n",
       "\n",
       "[[2]]\n",
       "[1] \"bayes\"\n",
       "\n",
       "[[3]]\n",
       "[1] \"pascal\"\n",
       "\n",
       "[[4]]\n",
       "[1] \"pearson\"\n"
      ]
     },
     "metadata": {},
     "output_type": "display_data"
    },
    {
     "data": {
      "text/html": [
       "<ol>\n",
       "\t<li>'1777'</li>\n",
       "\t<li>'1702'</li>\n",
       "\t<li>'1623'</li>\n",
       "\t<li>'1857'</li>\n",
       "</ol>\n"
      ],
      "text/latex": [
       "\\begin{enumerate}\n",
       "\\item '1777'\n",
       "\\item '1702'\n",
       "\\item '1623'\n",
       "\\item '1857'\n",
       "\\end{enumerate}\n"
      ],
      "text/markdown": [
       "1. '1777'\n",
       "2. '1702'\n",
       "3. '1623'\n",
       "4. '1857'\n",
       "\n",
       "\n"
      ],
      "text/plain": [
       "[[1]]\n",
       "[1] \"1777\"\n",
       "\n",
       "[[2]]\n",
       "[1] \"1702\"\n",
       "\n",
       "[[3]]\n",
       "[1] \"1623\"\n",
       "\n",
       "[[4]]\n",
       "[1] \"1857\"\n"
      ]
     },
     "metadata": {},
     "output_type": "display_data"
    }
   ],
   "source": [
    "names\n",
    "years"
   ]
  },
  {
   "cell_type": "code",
   "execution_count": 97,
   "id": "b857caa8-289e-4fae-9300-88d9b2d2d777",
   "metadata": {},
   "outputs": [
    {
     "data": {
      "text/html": [
       "<ol>\n",
       "\t<li>'1777'</li>\n",
       "\t<li>'1702'</li>\n",
       "\t<li>NULL</li>\n",
       "\t<li>NULL</li>\n",
       "</ol>\n"
      ],
      "text/latex": [
       "\\begin{enumerate}\n",
       "\\item '1777'\n",
       "\\item '1702'\n",
       "\\item NULL\n",
       "\\item NULL\n",
       "\\end{enumerate}\n"
      ],
      "text/markdown": [
       "1. '1777'\n",
       "2. '1702'\n",
       "3. NULL\n",
       "4. NULL\n",
       "\n",
       "\n"
      ],
      "text/plain": [
       "[[1]]\n",
       "[1] \"1777\"\n",
       "\n",
       "[[2]]\n",
       "[1] \"1702\"\n",
       "\n",
       "[[3]]\n",
       "NULL\n",
       "\n",
       "[[4]]\n",
       "NULL\n"
      ]
     },
     "metadata": {},
     "output_type": "display_data"
    }
   ],
   "source": [
    "lapply(split_low, function(x) {\n",
    "  if (nchar(x[1]) > 5) {\n",
    "    return(NULL)\n",
    "  } else {\n",
    "    return(x[2])\n",
    "  }\n",
    "})"
   ]
  },
  {
   "cell_type": "markdown",
   "id": "0af02b97-eda1-47db-a1fc-9558462d59bc",
   "metadata": {},
   "source": [
    "`lapply()` *always returns a list, no matter the input.*"
   ]
  },
  {
   "cell_type": "markdown",
   "id": "2f5a5148-c7c1-44f2-8d25-61502fcda225",
   "metadata": {},
   "source": [
    "---\n",
    "## sapply\n",
    "\n",
    "### lapply()\n",
    "- Apply function over list or vector\n",
    "- Function can return R objects of different classes\n",
    "- List necessary to store heterogeneous content\n",
    "- However, often homogeneous content"
   ]
  },
  {
   "cell_type": "markdown",
   "id": "16ba491f-e53c-4d91-a84e-10598955d610",
   "metadata": {},
   "source": [
    "### Cities: lapply()"
   ]
  },
  {
   "cell_type": "code",
   "execution_count": 98,
   "id": "e2e89703-15e9-472e-891a-917a15edc8d3",
   "metadata": {},
   "outputs": [
    {
     "name": "stdout",
     "output_type": "stream",
     "text": [
      "List of 6\n",
      " $ : int 8\n",
      " $ : int 5\n",
      " $ : int 6\n",
      " $ : int 5\n",
      " $ : int 14\n",
      " $ : int 9\n"
     ]
    }
   ],
   "source": [
    "cities <- c('New York', 'Paris', 'London', 'Tokyo', 'Rio de Janeiro', 'Cape Town')\n",
    "result <- lapply(cities, nchar)\n",
    "str(result)"
   ]
  },
  {
   "cell_type": "code",
   "execution_count": 99,
   "id": "881c191b-bdfe-456a-80d0-31f65b289632",
   "metadata": {},
   "outputs": [
    {
     "data": {
      "text/html": [
       "<ol class=list-inline>\n",
       "\t<li>8</li>\n",
       "\t<li>5</li>\n",
       "\t<li>6</li>\n",
       "\t<li>5</li>\n",
       "\t<li>14</li>\n",
       "\t<li>9</li>\n",
       "</ol>\n"
      ],
      "text/latex": [
       "\\begin{enumerate*}\n",
       "\\item 8\n",
       "\\item 5\n",
       "\\item 6\n",
       "\\item 5\n",
       "\\item 14\n",
       "\\item 9\n",
       "\\end{enumerate*}\n"
      ],
      "text/markdown": [
       "1. 8\n",
       "2. 5\n",
       "3. 6\n",
       "4. 5\n",
       "5. 14\n",
       "6. 9\n",
       "\n",
       "\n"
      ],
      "text/plain": [
       "[1]  8  5  6  5 14  9"
      ]
     },
     "metadata": {},
     "output_type": "display_data"
    }
   ],
   "source": [
    "unlist(lapply(cities, nchar))"
   ]
  },
  {
   "cell_type": "markdown",
   "id": "573999bc-363b-4f9c-b3d0-6c24fee3add8",
   "metadata": {},
   "source": [
    "### Cities: sapply()"
   ]
  },
  {
   "cell_type": "code",
   "execution_count": 100,
   "id": "63eb063c-8d6c-4322-9c25-4b7b2c2f41d0",
   "metadata": {},
   "outputs": [
    {
     "data": {
      "text/html": [
       "<dl class=dl-horizontal>\n",
       "\t<dt>New York</dt>\n",
       "\t\t<dd>8</dd>\n",
       "\t<dt>Paris</dt>\n",
       "\t\t<dd>5</dd>\n",
       "\t<dt>London</dt>\n",
       "\t\t<dd>6</dd>\n",
       "\t<dt>Tokyo</dt>\n",
       "\t\t<dd>5</dd>\n",
       "\t<dt>Rio de Janeiro</dt>\n",
       "\t\t<dd>14</dd>\n",
       "\t<dt>Cape Town</dt>\n",
       "\t\t<dd>9</dd>\n",
       "</dl>\n"
      ],
      "text/latex": [
       "\\begin{description*}\n",
       "\\item[New York] 8\n",
       "\\item[Paris] 5\n",
       "\\item[London] 6\n",
       "\\item[Tokyo] 5\n",
       "\\item[Rio de Janeiro] 14\n",
       "\\item[Cape Town] 9\n",
       "\\end{description*}\n"
      ],
      "text/markdown": [
       "New York\n",
       ":   8Paris\n",
       ":   5London\n",
       ":   6Tokyo\n",
       ":   5Rio de Janeiro\n",
       ":   14Cape Town\n",
       ":   9\n",
       "\n"
      ],
      "text/plain": [
       "      New York          Paris         London          Tokyo Rio de Janeiro \n",
       "             8              5              6              5             14 \n",
       "     Cape Town \n",
       "             9 "
      ]
     },
     "metadata": {},
     "output_type": "display_data"
    }
   ],
   "source": [
    "sapply(cities, nchar)"
   ]
  },
  {
   "cell_type": "code",
   "execution_count": 101,
   "id": "38c07a75-c52a-4646-be54-19b2fd9ba1a0",
   "metadata": {},
   "outputs": [
    {
     "data": {
      "text/html": [
       "<ol class=list-inline>\n",
       "\t<li>8</li>\n",
       "\t<li>5</li>\n",
       "\t<li>6</li>\n",
       "\t<li>5</li>\n",
       "\t<li>14</li>\n",
       "\t<li>9</li>\n",
       "</ol>\n"
      ],
      "text/latex": [
       "\\begin{enumerate*}\n",
       "\\item 8\n",
       "\\item 5\n",
       "\\item 6\n",
       "\\item 5\n",
       "\\item 14\n",
       "\\item 9\n",
       "\\end{enumerate*}\n"
      ],
      "text/markdown": [
       "1. 8\n",
       "2. 5\n",
       "3. 6\n",
       "4. 5\n",
       "5. 14\n",
       "6. 9\n",
       "\n",
       "\n"
      ],
      "text/plain": [
       "[1]  8  5  6  5 14  9"
      ]
     },
     "metadata": {},
     "output_type": "display_data"
    }
   ],
   "source": [
    "sapply(cities, nchar, USE.NAMES = FALSE)"
   ]
  },
  {
   "cell_type": "code",
   "execution_count": 103,
   "id": "2bb01b25-bcd9-4bff-9b1f-d8714783554b",
   "metadata": {},
   "outputs": [
    {
     "data": {
      "text/html": [
       "<dl class=dl-horizontal>\n",
       "\t<dt>first</dt>\n",
       "\t\t<dd>'e'</dd>\n",
       "\t<dt>last</dt>\n",
       "\t\t<dd>'Y'</dd>\n",
       "</dl>\n"
      ],
      "text/latex": [
       "\\begin{description*}\n",
       "\\item[first] 'e'\n",
       "\\item[last] 'Y'\n",
       "\\end{description*}\n"
      ],
      "text/markdown": [
       "first\n",
       ":   'e'last\n",
       ":   'Y'\n",
       "\n"
      ],
      "text/plain": [
       "first  last \n",
       "  \"e\"   \"Y\" "
      ]
     },
     "metadata": {},
     "output_type": "display_data"
    }
   ],
   "source": [
    "first_and_last <- function(name) {\n",
    "    name <- gsub(\" \", \"\", name)\n",
    "    letters <- strsplit(name, split=\"\")[[1]]\n",
    "    c(first = min(letters), last = max(letters))\n",
    "}\n",
    "\n",
    "first_and_last(\"New York\")"
   ]
  },
  {
   "cell_type": "code",
   "execution_count": 104,
   "id": "bb09e2ba-591e-40d5-ab95-5c29d97c87ac",
   "metadata": {},
   "outputs": [
    {
     "data": {
      "text/html": [
       "<table>\n",
       "<thead><tr><th></th><th scope=col>New York</th><th scope=col>Paris</th><th scope=col>London</th><th scope=col>Tokyo</th><th scope=col>Rio de Janeiro</th><th scope=col>Cape Town</th></tr></thead>\n",
       "<tbody>\n",
       "\t<tr><th scope=row>first</th><td>e</td><td>a</td><td>d</td><td>k</td><td>a</td><td>a</td></tr>\n",
       "\t<tr><th scope=row>last</th><td>Y</td><td>s</td><td>o</td><td>y</td><td>R</td><td>w</td></tr>\n",
       "</tbody>\n",
       "</table>\n"
      ],
      "text/latex": [
       "\\begin{tabular}{r|llllll}\n",
       "  & New York & Paris & London & Tokyo & Rio de Janeiro & Cape Town\\\\\n",
       "\\hline\n",
       "\tfirst & e & a & d & k & a & a\\\\\n",
       "\tlast & Y & s & o & y & R & w\\\\\n",
       "\\end{tabular}\n"
      ],
      "text/markdown": [
       "\n",
       "| <!--/--> | New York | Paris | London | Tokyo | Rio de Janeiro | Cape Town |\n",
       "|---|---|---|---|---|---|---|\n",
       "| first | e | a | d | k | a | a |\n",
       "| last | Y | s | o | y | R | w |\n",
       "\n"
      ],
      "text/plain": [
       "      New York Paris London Tokyo Rio de Janeiro Cape Town\n",
       "first e        a     d      k     a              a        \n",
       "last  Y        s     o      y     R              w        "
      ]
     },
     "metadata": {},
     "output_type": "display_data"
    }
   ],
   "source": [
    "sapply(cities, first_and_last)"
   ]
  },
  {
   "cell_type": "code",
   "execution_count": 106,
   "id": "e83970c1-67ab-4d84-8946-c939beabc355",
   "metadata": {},
   "outputs": [
    {
     "data": {
      "text/html": [
       "<ol class=list-inline>\n",
       "\t<li>'L'</li>\n",
       "\t<li>'o'</li>\n",
       "\t<li>'n'</li>\n",
       "\t<li>'d'</li>\n",
       "</ol>\n"
      ],
      "text/latex": [
       "\\begin{enumerate*}\n",
       "\\item 'L'\n",
       "\\item 'o'\n",
       "\\item 'n'\n",
       "\\item 'd'\n",
       "\\end{enumerate*}\n"
      ],
      "text/markdown": [
       "1. 'L'\n",
       "2. 'o'\n",
       "3. 'n'\n",
       "4. 'd'\n",
       "\n",
       "\n"
      ],
      "text/plain": [
       "[1] \"L\" \"o\" \"n\" \"d\""
      ]
     },
     "metadata": {},
     "output_type": "display_data"
    }
   ],
   "source": [
    "unique_letters <- function(name) {\n",
    "    name <- gsub(\" \", \"\", name)\n",
    "    letters <- strsplit(name, split=\"\")[[1]]\n",
    "    unique(letters)\n",
    "}\n",
    "\n",
    "unique_letters('London')"
   ]
  },
  {
   "cell_type": "code",
   "execution_count": 107,
   "id": "de6bfde2-b884-438f-99d1-e79ba400fa7a",
   "metadata": {},
   "outputs": [
    {
     "data": {
      "text/html": [
       "<ol>\n",
       "\t<li><ol class=list-inline>\n",
       "\t<li>'N'</li>\n",
       "\t<li>'e'</li>\n",
       "\t<li>'w'</li>\n",
       "\t<li>'Y'</li>\n",
       "\t<li>'o'</li>\n",
       "\t<li>'r'</li>\n",
       "\t<li>'k'</li>\n",
       "</ol>\n",
       "</li>\n",
       "\t<li><ol class=list-inline>\n",
       "\t<li>'P'</li>\n",
       "\t<li>'a'</li>\n",
       "\t<li>'r'</li>\n",
       "\t<li>'i'</li>\n",
       "\t<li>'s'</li>\n",
       "</ol>\n",
       "</li>\n",
       "\t<li><ol class=list-inline>\n",
       "\t<li>'L'</li>\n",
       "\t<li>'o'</li>\n",
       "\t<li>'n'</li>\n",
       "\t<li>'d'</li>\n",
       "</ol>\n",
       "</li>\n",
       "\t<li><ol class=list-inline>\n",
       "\t<li>'T'</li>\n",
       "\t<li>'o'</li>\n",
       "\t<li>'k'</li>\n",
       "\t<li>'y'</li>\n",
       "</ol>\n",
       "</li>\n",
       "\t<li><ol class=list-inline>\n",
       "\t<li>'R'</li>\n",
       "\t<li>'i'</li>\n",
       "\t<li>'o'</li>\n",
       "\t<li>'d'</li>\n",
       "\t<li>'e'</li>\n",
       "\t<li>'J'</li>\n",
       "\t<li>'a'</li>\n",
       "\t<li>'n'</li>\n",
       "\t<li>'r'</li>\n",
       "</ol>\n",
       "</li>\n",
       "\t<li><ol class=list-inline>\n",
       "\t<li>'C'</li>\n",
       "\t<li>'a'</li>\n",
       "\t<li>'p'</li>\n",
       "\t<li>'e'</li>\n",
       "\t<li>'T'</li>\n",
       "\t<li>'o'</li>\n",
       "\t<li>'w'</li>\n",
       "\t<li>'n'</li>\n",
       "</ol>\n",
       "</li>\n",
       "</ol>\n"
      ],
      "text/latex": [
       "\\begin{enumerate}\n",
       "\\item \\begin{enumerate*}\n",
       "\\item 'N'\n",
       "\\item 'e'\n",
       "\\item 'w'\n",
       "\\item 'Y'\n",
       "\\item 'o'\n",
       "\\item 'r'\n",
       "\\item 'k'\n",
       "\\end{enumerate*}\n",
       "\n",
       "\\item \\begin{enumerate*}\n",
       "\\item 'P'\n",
       "\\item 'a'\n",
       "\\item 'r'\n",
       "\\item 'i'\n",
       "\\item 's'\n",
       "\\end{enumerate*}\n",
       "\n",
       "\\item \\begin{enumerate*}\n",
       "\\item 'L'\n",
       "\\item 'o'\n",
       "\\item 'n'\n",
       "\\item 'd'\n",
       "\\end{enumerate*}\n",
       "\n",
       "\\item \\begin{enumerate*}\n",
       "\\item 'T'\n",
       "\\item 'o'\n",
       "\\item 'k'\n",
       "\\item 'y'\n",
       "\\end{enumerate*}\n",
       "\n",
       "\\item \\begin{enumerate*}\n",
       "\\item 'R'\n",
       "\\item 'i'\n",
       "\\item 'o'\n",
       "\\item 'd'\n",
       "\\item 'e'\n",
       "\\item 'J'\n",
       "\\item 'a'\n",
       "\\item 'n'\n",
       "\\item 'r'\n",
       "\\end{enumerate*}\n",
       "\n",
       "\\item \\begin{enumerate*}\n",
       "\\item 'C'\n",
       "\\item 'a'\n",
       "\\item 'p'\n",
       "\\item 'e'\n",
       "\\item 'T'\n",
       "\\item 'o'\n",
       "\\item 'w'\n",
       "\\item 'n'\n",
       "\\end{enumerate*}\n",
       "\n",
       "\\end{enumerate}\n"
      ],
      "text/markdown": [
       "1. 1. 'N'\n",
       "2. 'e'\n",
       "3. 'w'\n",
       "4. 'Y'\n",
       "5. 'o'\n",
       "6. 'r'\n",
       "7. 'k'\n",
       "\n",
       "\n",
       "\n",
       "2. 1. 'P'\n",
       "2. 'a'\n",
       "3. 'r'\n",
       "4. 'i'\n",
       "5. 's'\n",
       "\n",
       "\n",
       "\n",
       "3. 1. 'L'\n",
       "2. 'o'\n",
       "3. 'n'\n",
       "4. 'd'\n",
       "\n",
       "\n",
       "\n",
       "4. 1. 'T'\n",
       "2. 'o'\n",
       "3. 'k'\n",
       "4. 'y'\n",
       "\n",
       "\n",
       "\n",
       "5. 1. 'R'\n",
       "2. 'i'\n",
       "3. 'o'\n",
       "4. 'd'\n",
       "5. 'e'\n",
       "6. 'J'\n",
       "7. 'a'\n",
       "8. 'n'\n",
       "9. 'r'\n",
       "\n",
       "\n",
       "\n",
       "6. 1. 'C'\n",
       "2. 'a'\n",
       "3. 'p'\n",
       "4. 'e'\n",
       "5. 'T'\n",
       "6. 'o'\n",
       "7. 'w'\n",
       "8. 'n'\n",
       "\n",
       "\n",
       "\n",
       "\n",
       "\n"
      ],
      "text/plain": [
       "[[1]]\n",
       "[1] \"N\" \"e\" \"w\" \"Y\" \"o\" \"r\" \"k\"\n",
       "\n",
       "[[2]]\n",
       "[1] \"P\" \"a\" \"r\" \"i\" \"s\"\n",
       "\n",
       "[[3]]\n",
       "[1] \"L\" \"o\" \"n\" \"d\"\n",
       "\n",
       "[[4]]\n",
       "[1] \"T\" \"o\" \"k\" \"y\"\n",
       "\n",
       "[[5]]\n",
       "[1] \"R\" \"i\" \"o\" \"d\" \"e\" \"J\" \"a\" \"n\" \"r\"\n",
       "\n",
       "[[6]]\n",
       "[1] \"C\" \"a\" \"p\" \"e\" \"T\" \"o\" \"w\" \"n\"\n"
      ]
     },
     "metadata": {},
     "output_type": "display_data"
    }
   ],
   "source": [
    "lapply(cities, unique_letters)"
   ]
  },
  {
   "cell_type": "code",
   "execution_count": 108,
   "id": "497d44b3-db95-49ee-a7cd-bfde2983ea24",
   "metadata": {},
   "outputs": [
    {
     "data": {
      "text/html": [
       "<dl>\n",
       "\t<dt>$`New York`</dt>\n",
       "\t\t<dd><ol class=list-inline>\n",
       "\t<li>'N'</li>\n",
       "\t<li>'e'</li>\n",
       "\t<li>'w'</li>\n",
       "\t<li>'Y'</li>\n",
       "\t<li>'o'</li>\n",
       "\t<li>'r'</li>\n",
       "\t<li>'k'</li>\n",
       "</ol>\n",
       "</dd>\n",
       "\t<dt>$Paris</dt>\n",
       "\t\t<dd><ol class=list-inline>\n",
       "\t<li>'P'</li>\n",
       "\t<li>'a'</li>\n",
       "\t<li>'r'</li>\n",
       "\t<li>'i'</li>\n",
       "\t<li>'s'</li>\n",
       "</ol>\n",
       "</dd>\n",
       "\t<dt>$London</dt>\n",
       "\t\t<dd><ol class=list-inline>\n",
       "\t<li>'L'</li>\n",
       "\t<li>'o'</li>\n",
       "\t<li>'n'</li>\n",
       "\t<li>'d'</li>\n",
       "</ol>\n",
       "</dd>\n",
       "\t<dt>$Tokyo</dt>\n",
       "\t\t<dd><ol class=list-inline>\n",
       "\t<li>'T'</li>\n",
       "\t<li>'o'</li>\n",
       "\t<li>'k'</li>\n",
       "\t<li>'y'</li>\n",
       "</ol>\n",
       "</dd>\n",
       "\t<dt>$`Rio de Janeiro`</dt>\n",
       "\t\t<dd><ol class=list-inline>\n",
       "\t<li>'R'</li>\n",
       "\t<li>'i'</li>\n",
       "\t<li>'o'</li>\n",
       "\t<li>'d'</li>\n",
       "\t<li>'e'</li>\n",
       "\t<li>'J'</li>\n",
       "\t<li>'a'</li>\n",
       "\t<li>'n'</li>\n",
       "\t<li>'r'</li>\n",
       "</ol>\n",
       "</dd>\n",
       "\t<dt>$`Cape Town`</dt>\n",
       "\t\t<dd><ol class=list-inline>\n",
       "\t<li>'C'</li>\n",
       "\t<li>'a'</li>\n",
       "\t<li>'p'</li>\n",
       "\t<li>'e'</li>\n",
       "\t<li>'T'</li>\n",
       "\t<li>'o'</li>\n",
       "\t<li>'w'</li>\n",
       "\t<li>'n'</li>\n",
       "</ol>\n",
       "</dd>\n",
       "</dl>\n"
      ],
      "text/latex": [
       "\\begin{description}\n",
       "\\item[\\$`New York`] \\begin{enumerate*}\n",
       "\\item 'N'\n",
       "\\item 'e'\n",
       "\\item 'w'\n",
       "\\item 'Y'\n",
       "\\item 'o'\n",
       "\\item 'r'\n",
       "\\item 'k'\n",
       "\\end{enumerate*}\n",
       "\n",
       "\\item[\\$Paris] \\begin{enumerate*}\n",
       "\\item 'P'\n",
       "\\item 'a'\n",
       "\\item 'r'\n",
       "\\item 'i'\n",
       "\\item 's'\n",
       "\\end{enumerate*}\n",
       "\n",
       "\\item[\\$London] \\begin{enumerate*}\n",
       "\\item 'L'\n",
       "\\item 'o'\n",
       "\\item 'n'\n",
       "\\item 'd'\n",
       "\\end{enumerate*}\n",
       "\n",
       "\\item[\\$Tokyo] \\begin{enumerate*}\n",
       "\\item 'T'\n",
       "\\item 'o'\n",
       "\\item 'k'\n",
       "\\item 'y'\n",
       "\\end{enumerate*}\n",
       "\n",
       "\\item[\\$`Rio de Janeiro`] \\begin{enumerate*}\n",
       "\\item 'R'\n",
       "\\item 'i'\n",
       "\\item 'o'\n",
       "\\item 'd'\n",
       "\\item 'e'\n",
       "\\item 'J'\n",
       "\\item 'a'\n",
       "\\item 'n'\n",
       "\\item 'r'\n",
       "\\end{enumerate*}\n",
       "\n",
       "\\item[\\$`Cape Town`] \\begin{enumerate*}\n",
       "\\item 'C'\n",
       "\\item 'a'\n",
       "\\item 'p'\n",
       "\\item 'e'\n",
       "\\item 'T'\n",
       "\\item 'o'\n",
       "\\item 'w'\n",
       "\\item 'n'\n",
       "\\end{enumerate*}\n",
       "\n",
       "\\end{description}\n"
      ],
      "text/markdown": [
       "$`New York`\n",
       ":   1. 'N'\n",
       "2. 'e'\n",
       "3. 'w'\n",
       "4. 'Y'\n",
       "5. 'o'\n",
       "6. 'r'\n",
       "7. 'k'\n",
       "\n",
       "\n",
       "\n",
       "$Paris\n",
       ":   1. 'P'\n",
       "2. 'a'\n",
       "3. 'r'\n",
       "4. 'i'\n",
       "5. 's'\n",
       "\n",
       "\n",
       "\n",
       "$London\n",
       ":   1. 'L'\n",
       "2. 'o'\n",
       "3. 'n'\n",
       "4. 'd'\n",
       "\n",
       "\n",
       "\n",
       "$Tokyo\n",
       ":   1. 'T'\n",
       "2. 'o'\n",
       "3. 'k'\n",
       "4. 'y'\n",
       "\n",
       "\n",
       "\n",
       "$`Rio de Janeiro`\n",
       ":   1. 'R'\n",
       "2. 'i'\n",
       "3. 'o'\n",
       "4. 'd'\n",
       "5. 'e'\n",
       "6. 'J'\n",
       "7. 'a'\n",
       "8. 'n'\n",
       "9. 'r'\n",
       "\n",
       "\n",
       "\n",
       "$`Cape Town`\n",
       ":   1. 'C'\n",
       "2. 'a'\n",
       "3. 'p'\n",
       "4. 'e'\n",
       "5. 'T'\n",
       "6. 'o'\n",
       "7. 'w'\n",
       "8. 'n'\n",
       "\n",
       "\n",
       "\n",
       "\n",
       "\n"
      ],
      "text/plain": [
       "$`New York`\n",
       "[1] \"N\" \"e\" \"w\" \"Y\" \"o\" \"r\" \"k\"\n",
       "\n",
       "$Paris\n",
       "[1] \"P\" \"a\" \"r\" \"i\" \"s\"\n",
       "\n",
       "$London\n",
       "[1] \"L\" \"o\" \"n\" \"d\"\n",
       "\n",
       "$Tokyo\n",
       "[1] \"T\" \"o\" \"k\" \"y\"\n",
       "\n",
       "$`Rio de Janeiro`\n",
       "[1] \"R\" \"i\" \"o\" \"d\" \"e\" \"J\" \"a\" \"n\" \"r\"\n",
       "\n",
       "$`Cape Town`\n",
       "[1] \"C\" \"a\" \"p\" \"e\" \"T\" \"o\" \"w\" \"n\"\n"
      ]
     },
     "metadata": {},
     "output_type": "display_data"
    }
   ],
   "source": [
    "sapply(cities, unique_letters)"
   ]
  },
  {
   "cell_type": "markdown",
   "id": "10e98a67-0c04-4f80-b5f5-90697bc5ae37",
   "metadata": {},
   "source": [
    "`lapply()` returns a list, while `sapply()` returns a vector that is a simplified version of this list."
   ]
  },
  {
   "cell_type": "code",
   "execution_count": 118,
   "id": "3cac96db-b377-478f-8bdd-3373a9952b2d",
   "metadata": {},
   "outputs": [],
   "source": [
    "temp <- list(c(3, 7, 9, 6, -1), c(6, 9, 12, 13, 5), c(4, 8, 3, -1, -3), \n",
    "             c(1, 4, 7, 2, -2) ,c(5, 7, 9, 4, 2), c(-3, 5, 8, 9, 4), c(3, 6, 9, 4, 1))"
   ]
  },
  {
   "cell_type": "code",
   "execution_count": 125,
   "id": "e49bd096-b3b6-409c-9aea-e37aad7596b3",
   "metadata": {},
   "outputs": [
    {
     "name": "stdout",
     "output_type": "stream",
     "text": [
      "List of 7\n",
      " $ : num -1\n",
      " $ : num 5\n",
      " $ : num -3\n",
      " $ : num -2\n",
      " $ : num 2\n",
      " $ : num -3\n",
      " $ : num 1\n"
     ]
    }
   ],
   "source": [
    "# Use lapply() to find each day's minimum temperature\n",
    "str(lapply(temp, min))"
   ]
  },
  {
   "cell_type": "code",
   "execution_count": 126,
   "id": "81a984d7-e640-4133-9844-d0428ff28e08",
   "metadata": {},
   "outputs": [
    {
     "name": "stdout",
     "output_type": "stream",
     "text": [
      " num [1:7] -1 5 -3 -2 2 -3 1\n"
     ]
    }
   ],
   "source": [
    "# Use sapply() to find each day's minimum temperature\n",
    "str(sapply(temp, min))"
   ]
  },
  {
   "cell_type": "code",
   "execution_count": 127,
   "id": "07c2c022-9a6a-44cc-b0b0-3928f865f7ce",
   "metadata": {},
   "outputs": [
    {
     "name": "stdout",
     "output_type": "stream",
     "text": [
      "List of 7\n",
      " $ : num 9\n",
      " $ : num 13\n",
      " $ : num 8\n",
      " $ : num 7\n",
      " $ : num 9\n",
      " $ : num 9\n",
      " $ : num 9\n"
     ]
    }
   ],
   "source": [
    "# Use lapply() to find each day's maximum temperature\n",
    "str(lapply(temp, max))"
   ]
  },
  {
   "cell_type": "code",
   "execution_count": 128,
   "id": "f6361301-f9a7-49f5-9ffb-b960e149491b",
   "metadata": {},
   "outputs": [
    {
     "name": "stdout",
     "output_type": "stream",
     "text": [
      " num [1:7] 9 13 8 7 9 9 9\n"
     ]
    }
   ],
   "source": [
    "# Use sapply() to find each day's maximum temperature\n",
    "str(sapply(temp, max))"
   ]
  },
  {
   "cell_type": "code",
   "execution_count": 131,
   "id": "6aaaf0fd-66e3-4e2c-96b7-b17074696b3c",
   "metadata": {},
   "outputs": [
    {
     "name": "stdout",
     "output_type": "stream",
     "text": [
      " num [1:7] 4 9 2.5 2.5 5.5 3 5\n"
     ]
    }
   ],
   "source": [
    "# Finish function definition of extremes_avg\n",
    "extremes_avg <- function(x) {\n",
    "  ( min(x) + max(x) ) / 2\n",
    "}\n",
    "\n",
    "# Apply extremes_avg() over temp using sapply()\n",
    "str(sapply(temp, extremes_avg))"
   ]
  },
  {
   "cell_type": "code",
   "execution_count": 132,
   "id": "9e57ffe2-b50a-4faa-8d5b-ed376dbb4910",
   "metadata": {},
   "outputs": [
    {
     "name": "stdout",
     "output_type": "stream",
     "text": [
      "List of 7\n",
      " $ : num 4\n",
      " $ : num 9\n",
      " $ : num 2.5\n",
      " $ : num 2.5\n",
      " $ : num 5.5\n",
      " $ : num 3\n",
      " $ : num 5\n"
     ]
    }
   ],
   "source": [
    "# Apply extremes_avg() over temp using lapply()\n",
    "str(lapply(temp, extremes_avg))"
   ]
  },
  {
   "cell_type": "code",
   "execution_count": 133,
   "id": "336de763-9a08-4dec-ae21-d06a0b0ce2a7",
   "metadata": {},
   "outputs": [],
   "source": [
    "# Create a function that returns min and max of a vector: extremes\n",
    "extremes <- function(x) {\n",
    "  c(min = min(x), max = max(x))\n",
    "}"
   ]
  },
  {
   "cell_type": "code",
   "execution_count": 134,
   "id": "af7eb837-234f-4a42-8f5d-eb458cd00a5c",
   "metadata": {},
   "outputs": [
    {
     "data": {
      "text/html": [
       "<table>\n",
       "<tbody>\n",
       "\t<tr><th scope=row>min</th><td>-1</td><td> 5</td><td>-3</td><td>-2</td><td>2 </td><td>-3</td><td>1 </td></tr>\n",
       "\t<tr><th scope=row>max</th><td> 9</td><td>13</td><td> 8</td><td> 7</td><td>9 </td><td> 9</td><td>9 </td></tr>\n",
       "</tbody>\n",
       "</table>\n"
      ],
      "text/latex": [
       "\\begin{tabular}{r|lllllll}\n",
       "\tmin & -1 &  5 & -3 & -2 & 2  & -3 & 1 \\\\\n",
       "\tmax &  9 & 13 &  8 &  7 & 9  &  9 & 9 \\\\\n",
       "\\end{tabular}\n"
      ],
      "text/markdown": [
       "\n",
       "| min | -1 |  5 | -3 | -2 | 2  | -3 | 1  |\n",
       "| max |  9 | 13 |  8 |  7 | 9  |  9 | 9  |\n",
       "\n"
      ],
      "text/plain": [
       "    [,1] [,2] [,3] [,4] [,5] [,6] [,7]\n",
       "min -1    5   -3   -2   2    -3   1   \n",
       "max  9   13    8    7   9     9   9   "
      ]
     },
     "metadata": {},
     "output_type": "display_data"
    }
   ],
   "source": [
    "# Apply extremes() over temp with sapply()\n",
    "sapply(temp, extremes)"
   ]
  },
  {
   "cell_type": "code",
   "execution_count": 135,
   "id": "24f31404-347d-4823-8cc6-ceccda5d79d9",
   "metadata": {},
   "outputs": [
    {
     "data": {
      "text/html": [
       "<ol>\n",
       "\t<li><dl class=dl-horizontal>\n",
       "\t<dt>min</dt>\n",
       "\t\t<dd>-1</dd>\n",
       "\t<dt>max</dt>\n",
       "\t\t<dd>9</dd>\n",
       "</dl>\n",
       "</li>\n",
       "\t<li><dl class=dl-horizontal>\n",
       "\t<dt>min</dt>\n",
       "\t\t<dd>5</dd>\n",
       "\t<dt>max</dt>\n",
       "\t\t<dd>13</dd>\n",
       "</dl>\n",
       "</li>\n",
       "\t<li><dl class=dl-horizontal>\n",
       "\t<dt>min</dt>\n",
       "\t\t<dd>-3</dd>\n",
       "\t<dt>max</dt>\n",
       "\t\t<dd>8</dd>\n",
       "</dl>\n",
       "</li>\n",
       "\t<li><dl class=dl-horizontal>\n",
       "\t<dt>min</dt>\n",
       "\t\t<dd>-2</dd>\n",
       "\t<dt>max</dt>\n",
       "\t\t<dd>7</dd>\n",
       "</dl>\n",
       "</li>\n",
       "\t<li><dl class=dl-horizontal>\n",
       "\t<dt>min</dt>\n",
       "\t\t<dd>2</dd>\n",
       "\t<dt>max</dt>\n",
       "\t\t<dd>9</dd>\n",
       "</dl>\n",
       "</li>\n",
       "\t<li><dl class=dl-horizontal>\n",
       "\t<dt>min</dt>\n",
       "\t\t<dd>-3</dd>\n",
       "\t<dt>max</dt>\n",
       "\t\t<dd>9</dd>\n",
       "</dl>\n",
       "</li>\n",
       "\t<li><dl class=dl-horizontal>\n",
       "\t<dt>min</dt>\n",
       "\t\t<dd>1</dd>\n",
       "\t<dt>max</dt>\n",
       "\t\t<dd>9</dd>\n",
       "</dl>\n",
       "</li>\n",
       "</ol>\n"
      ],
      "text/latex": [
       "\\begin{enumerate}\n",
       "\\item \\begin{description*}\n",
       "\\item[min] -1\n",
       "\\item[max] 9\n",
       "\\end{description*}\n",
       "\n",
       "\\item \\begin{description*}\n",
       "\\item[min] 5\n",
       "\\item[max] 13\n",
       "\\end{description*}\n",
       "\n",
       "\\item \\begin{description*}\n",
       "\\item[min] -3\n",
       "\\item[max] 8\n",
       "\\end{description*}\n",
       "\n",
       "\\item \\begin{description*}\n",
       "\\item[min] -2\n",
       "\\item[max] 7\n",
       "\\end{description*}\n",
       "\n",
       "\\item \\begin{description*}\n",
       "\\item[min] 2\n",
       "\\item[max] 9\n",
       "\\end{description*}\n",
       "\n",
       "\\item \\begin{description*}\n",
       "\\item[min] -3\n",
       "\\item[max] 9\n",
       "\\end{description*}\n",
       "\n",
       "\\item \\begin{description*}\n",
       "\\item[min] 1\n",
       "\\item[max] 9\n",
       "\\end{description*}\n",
       "\n",
       "\\end{enumerate}\n"
      ],
      "text/markdown": [
       "1. min\n",
       ":   -1max\n",
       ":   9\n",
       "\n",
       "\n",
       "2. min\n",
       ":   5max\n",
       ":   13\n",
       "\n",
       "\n",
       "3. min\n",
       ":   -3max\n",
       ":   8\n",
       "\n",
       "\n",
       "4. min\n",
       ":   -2max\n",
       ":   7\n",
       "\n",
       "\n",
       "5. min\n",
       ":   2max\n",
       ":   9\n",
       "\n",
       "\n",
       "6. min\n",
       ":   -3max\n",
       ":   9\n",
       "\n",
       "\n",
       "7. min\n",
       ":   1max\n",
       ":   9\n",
       "\n",
       "\n",
       "\n",
       "\n"
      ],
      "text/plain": [
       "[[1]]\n",
       "min max \n",
       " -1   9 \n",
       "\n",
       "[[2]]\n",
       "min max \n",
       "  5  13 \n",
       "\n",
       "[[3]]\n",
       "min max \n",
       " -3   8 \n",
       "\n",
       "[[4]]\n",
       "min max \n",
       " -2   7 \n",
       "\n",
       "[[5]]\n",
       "min max \n",
       "  2   9 \n",
       "\n",
       "[[6]]\n",
       "min max \n",
       " -3   9 \n",
       "\n",
       "[[7]]\n",
       "min max \n",
       "  1   9 \n"
      ]
     },
     "metadata": {},
     "output_type": "display_data"
    }
   ],
   "source": [
    "# Apply extremes() over temp with lapply()\n",
    "lapply(temp, extremes)"
   ]
  },
  {
   "cell_type": "markdown",
   "id": "ddad1809-46e9-425c-97c6-44d61916bba6",
   "metadata": {},
   "source": [
    "*See how* `sapply()` *did a great job at simplifying the rather uninformative 'list of vectors' that* `lapply()` *returns.*"
   ]
  },
  {
   "cell_type": "code",
   "execution_count": 143,
   "id": "10bae566-0793-4255-9595-6cc0c7fdc2d3",
   "metadata": {},
   "outputs": [],
   "source": [
    "# Definition of below_zero()\n",
    "below_zero <- function(x) {\n",
    "  return(x[x < 0])\n",
    "}\n",
    "\n",
    "# Apply below_zero over temp using sapply(): freezing_s\n",
    "freezing_s <- sapply(temp, below_zero)\n",
    "\n",
    "# Apply below_zero over temp using lapply(): freezing_l\n",
    "freezing_l <- lapply(temp, below_zero)"
   ]
  },
  {
   "cell_type": "code",
   "execution_count": 141,
   "id": "2f784b30-44ed-4f43-a21f-dc336e2d2aba",
   "metadata": {},
   "outputs": [
    {
     "data": {
      "text/html": [
       "<ol>\n",
       "\t<li>-1</li>\n",
       "\t<li></li>\n",
       "\t<li><ol class=list-inline>\n",
       "\t<li>-1</li>\n",
       "\t<li>-3</li>\n",
       "</ol>\n",
       "</li>\n",
       "\t<li>-2</li>\n",
       "\t<li></li>\n",
       "\t<li>-3</li>\n",
       "\t<li></li>\n",
       "</ol>\n"
      ],
      "text/latex": [
       "\\begin{enumerate}\n",
       "\\item -1\n",
       "\\item \n",
       "\\item \\begin{enumerate*}\n",
       "\\item -1\n",
       "\\item -3\n",
       "\\end{enumerate*}\n",
       "\n",
       "\\item -2\n",
       "\\item \n",
       "\\item -3\n",
       "\\item \n",
       "\\end{enumerate}\n"
      ],
      "text/markdown": [
       "1. -1\n",
       "2. \n",
       "3. 1. -1\n",
       "2. -3\n",
       "\n",
       "\n",
       "\n",
       "4. -2\n",
       "5. \n",
       "6. -3\n",
       "7. \n",
       "\n",
       "\n"
      ],
      "text/plain": [
       "[[1]]\n",
       "[1] -1\n",
       "\n",
       "[[2]]\n",
       "numeric(0)\n",
       "\n",
       "[[3]]\n",
       "[1] -1 -3\n",
       "\n",
       "[[4]]\n",
       "[1] -2\n",
       "\n",
       "[[5]]\n",
       "numeric(0)\n",
       "\n",
       "[[6]]\n",
       "[1] -3\n",
       "\n",
       "[[7]]\n",
       "numeric(0)\n"
      ]
     },
     "metadata": {},
     "output_type": "display_data"
    }
   ],
   "source": [
    "freezing_s"
   ]
  },
  {
   "cell_type": "code",
   "execution_count": 142,
   "id": "5933020a-0fad-4d90-a27f-41d4fa7d92ec",
   "metadata": {},
   "outputs": [
    {
     "data": {
      "text/html": [
       "<ol>\n",
       "\t<li>-1</li>\n",
       "\t<li></li>\n",
       "\t<li><ol class=list-inline>\n",
       "\t<li>-1</li>\n",
       "\t<li>-3</li>\n",
       "</ol>\n",
       "</li>\n",
       "\t<li>-2</li>\n",
       "\t<li></li>\n",
       "\t<li>-3</li>\n",
       "\t<li></li>\n",
       "</ol>\n"
      ],
      "text/latex": [
       "\\begin{enumerate}\n",
       "\\item -1\n",
       "\\item \n",
       "\\item \\begin{enumerate*}\n",
       "\\item -1\n",
       "\\item -3\n",
       "\\end{enumerate*}\n",
       "\n",
       "\\item -2\n",
       "\\item \n",
       "\\item -3\n",
       "\\item \n",
       "\\end{enumerate}\n"
      ],
      "text/markdown": [
       "1. -1\n",
       "2. \n",
       "3. 1. -1\n",
       "2. -3\n",
       "\n",
       "\n",
       "\n",
       "4. -2\n",
       "5. \n",
       "6. -3\n",
       "7. \n",
       "\n",
       "\n"
      ],
      "text/plain": [
       "[[1]]\n",
       "[1] -1\n",
       "\n",
       "[[2]]\n",
       "numeric(0)\n",
       "\n",
       "[[3]]\n",
       "[1] -1 -3\n",
       "\n",
       "[[4]]\n",
       "[1] -2\n",
       "\n",
       "[[5]]\n",
       "numeric(0)\n",
       "\n",
       "[[6]]\n",
       "[1] -3\n",
       "\n",
       "[[7]]\n",
       "numeric(0)\n"
      ]
     },
     "metadata": {},
     "output_type": "display_data"
    }
   ],
   "source": [
    "freezing_l"
   ]
  },
  {
   "cell_type": "code",
   "execution_count": 144,
   "id": "a3b2c05a-e48e-4d7c-b976-eb79c72e823f",
   "metadata": {},
   "outputs": [
    {
     "data": {
      "text/html": [
       "TRUE"
      ],
      "text/latex": [
       "TRUE"
      ],
      "text/markdown": [
       "TRUE"
      ],
      "text/plain": [
       "[1] TRUE"
      ]
     },
     "metadata": {},
     "output_type": "display_data"
    }
   ],
   "source": [
    "# Are freezing_s and freezing_l identical?\n",
    "identical(freezing_s, freezing_l)"
   ]
  },
  {
   "cell_type": "markdown",
   "id": "0d3cbf3a-4e97-4862-b0fd-9a7fdcbedecc",
   "metadata": {},
   "source": [
    "Given that the length of the output of `below_zero()` changes for different input vectors, `sapply()` is not able to nicely convert the output of `lapply()` to a nicely formatted matrix. Instead, the output values of `sapply()` and `lapply()` are exactly the same, as shown by the `TRUE` output of `identical()`."
   ]
  },
  {
   "cell_type": "markdown",
   "id": "485433dd-e510-4447-ba64-a7b50d2cfffa",
   "metadata": {},
   "source": [
    "## sapply with functions that return NULL"
   ]
  },
  {
   "cell_type": "code",
   "execution_count": 146,
   "id": "ec2f09f8-dc58-4949-85e9-b9df0f0e8b06",
   "metadata": {},
   "outputs": [],
   "source": [
    "# Definition of print_info()\n",
    "print_info <- function(x) {\n",
    "  cat(\"The average temperature is\", mean(x), \"\\n\")\n",
    "}"
   ]
  },
  {
   "cell_type": "code",
   "execution_count": 147,
   "id": "12aea6e8-5f82-4ea3-bbb4-b55c1e400993",
   "metadata": {},
   "outputs": [
    {
     "name": "stdout",
     "output_type": "stream",
     "text": [
      "The average temperature is 4.8 \n",
      "The average temperature is 9 \n",
      "The average temperature is 2.2 \n",
      "The average temperature is 2.4 \n",
      "The average temperature is 5.4 \n",
      "The average temperature is 4.6 \n",
      "The average temperature is 4.6 \n"
     ]
    },
    {
     "data": {
      "text/html": [
       "<ol>\n",
       "\t<li>NULL</li>\n",
       "\t<li>NULL</li>\n",
       "\t<li>NULL</li>\n",
       "\t<li>NULL</li>\n",
       "\t<li>NULL</li>\n",
       "\t<li>NULL</li>\n",
       "\t<li>NULL</li>\n",
       "</ol>\n"
      ],
      "text/latex": [
       "\\begin{enumerate}\n",
       "\\item NULL\n",
       "\\item NULL\n",
       "\\item NULL\n",
       "\\item NULL\n",
       "\\item NULL\n",
       "\\item NULL\n",
       "\\item NULL\n",
       "\\end{enumerate}\n"
      ],
      "text/markdown": [
       "1. NULL\n",
       "2. NULL\n",
       "3. NULL\n",
       "4. NULL\n",
       "5. NULL\n",
       "6. NULL\n",
       "7. NULL\n",
       "\n",
       "\n"
      ],
      "text/plain": [
       "[[1]]\n",
       "NULL\n",
       "\n",
       "[[2]]\n",
       "NULL\n",
       "\n",
       "[[3]]\n",
       "NULL\n",
       "\n",
       "[[4]]\n",
       "NULL\n",
       "\n",
       "[[5]]\n",
       "NULL\n",
       "\n",
       "[[6]]\n",
       "NULL\n",
       "\n",
       "[[7]]\n",
       "NULL\n"
      ]
     },
     "metadata": {},
     "output_type": "display_data"
    }
   ],
   "source": [
    "# Apply print_info() over temp using sapply()\n",
    "sapply(temp, print_info)"
   ]
  },
  {
   "cell_type": "code",
   "execution_count": 148,
   "id": "cfee69ca-2d08-4fbb-8f3b-790476a2e838",
   "metadata": {},
   "outputs": [
    {
     "name": "stdout",
     "output_type": "stream",
     "text": [
      "The average temperature is 4.8 \n",
      "The average temperature is 9 \n",
      "The average temperature is 2.2 \n",
      "The average temperature is 2.4 \n",
      "The average temperature is 5.4 \n",
      "The average temperature is 4.6 \n",
      "The average temperature is 4.6 \n"
     ]
    },
    {
     "data": {
      "text/html": [
       "<ol>\n",
       "\t<li>NULL</li>\n",
       "\t<li>NULL</li>\n",
       "\t<li>NULL</li>\n",
       "\t<li>NULL</li>\n",
       "\t<li>NULL</li>\n",
       "\t<li>NULL</li>\n",
       "\t<li>NULL</li>\n",
       "</ol>\n"
      ],
      "text/latex": [
       "\\begin{enumerate}\n",
       "\\item NULL\n",
       "\\item NULL\n",
       "\\item NULL\n",
       "\\item NULL\n",
       "\\item NULL\n",
       "\\item NULL\n",
       "\\item NULL\n",
       "\\end{enumerate}\n"
      ],
      "text/markdown": [
       "1. NULL\n",
       "2. NULL\n",
       "3. NULL\n",
       "4. NULL\n",
       "5. NULL\n",
       "6. NULL\n",
       "7. NULL\n",
       "\n",
       "\n"
      ],
      "text/plain": [
       "[[1]]\n",
       "NULL\n",
       "\n",
       "[[2]]\n",
       "NULL\n",
       "\n",
       "[[3]]\n",
       "NULL\n",
       "\n",
       "[[4]]\n",
       "NULL\n",
       "\n",
       "[[5]]\n",
       "NULL\n",
       "\n",
       "[[6]]\n",
       "NULL\n",
       "\n",
       "[[7]]\n",
       "NULL\n"
      ]
     },
     "metadata": {},
     "output_type": "display_data"
    }
   ],
   "source": [
    "# Apply print_info() over temp using lapply()\n",
    "lapply(temp, print_info)"
   ]
  },
  {
   "cell_type": "markdown",
   "id": "f4cf0476-7d03-4faf-8820-e0790e6aba07",
   "metadata": {},
   "source": [
    "Notice here that, surprisingly, `sapply()` does not simplify the list of `NULL`'s. That's because the 'vector-version' of a list of `NULL`'s would simply be a `NULL`, which is no longer a vector with the same length as the input."
   ]
  },
  {
   "cell_type": "code",
   "execution_count": 149,
   "id": "2f6a076c-50a9-4f4e-8dc8-5c8e045fae4c",
   "metadata": {},
   "outputs": [
    {
     "data": {
      "text/html": [
       "<table>\n",
       "<tbody>\n",
       "\t<tr><th scope=row>min</th><td>0.04820106</td><td>0.1144158 </td></tr>\n",
       "\t<tr><th scope=row>mean</th><td>0.47937148</td><td>0.4203087 </td></tr>\n",
       "\t<tr><th scope=row>max</th><td>0.99563925</td><td>0.9556277 </td></tr>\n",
       "</tbody>\n",
       "</table>\n"
      ],
      "text/latex": [
       "\\begin{tabular}{r|ll}\n",
       "\tmin & 0.04820106 & 0.1144158 \\\\\n",
       "\tmean & 0.47937148 & 0.4203087 \\\\\n",
       "\tmax & 0.99563925 & 0.9556277 \\\\\n",
       "\\end{tabular}\n"
      ],
      "text/markdown": [
       "\n",
       "| min | 0.04820106 | 0.1144158  |\n",
       "| mean | 0.47937148 | 0.4203087  |\n",
       "| max | 0.99563925 | 0.9556277  |\n",
       "\n"
      ],
      "text/plain": [
       "     [,1]       [,2]     \n",
       "min  0.04820106 0.1144158\n",
       "mean 0.47937148 0.4203087\n",
       "max  0.99563925 0.9556277"
      ]
     },
     "metadata": {},
     "output_type": "display_data"
    }
   ],
   "source": [
    "sapply(list(runif (10), runif (10)), \n",
    "       function(x) c(min = min(x), mean = mean(x), max = max(x)))"
   ]
  },
  {
   "cell_type": "markdown",
   "id": "8c1e5cd4-57a1-4cd0-89c1-eaed850fd7be",
   "metadata": {},
   "source": [
    "---\n",
    "## vapply"
   ]
  },
  {
   "cell_type": "markdown",
   "id": "692b8fbd-1185-4059-b22b-fcc103dfaca2",
   "metadata": {},
   "source": [
    "### Recap\n",
    "- `lapply()`\n",
    "    - apply function over list or vector\n",
    "    - output =list\n",
    "- `sapply()`\n",
    "    - apply function over list or vector\n",
    "    - **try to simplify** list to array\n",
    "- `vapply()`\n",
    "    - apply function over list or vector\n",
    "    - **explicity specify** output format"
   ]
  },
  {
   "cell_type": "code",
   "execution_count": 150,
   "id": "64d116cf-c8c5-4200-9180-3ed93a24db69",
   "metadata": {},
   "outputs": [
    {
     "data": {
      "text/html": [
       "<dl class=dl-horizontal>\n",
       "\t<dt>New York</dt>\n",
       "\t\t<dd>8</dd>\n",
       "\t<dt>Paris</dt>\n",
       "\t\t<dd>5</dd>\n",
       "\t<dt>London</dt>\n",
       "\t\t<dd>6</dd>\n",
       "\t<dt>Tokyo</dt>\n",
       "\t\t<dd>5</dd>\n",
       "\t<dt>Rio de Janeiro</dt>\n",
       "\t\t<dd>14</dd>\n",
       "\t<dt>Cape Town</dt>\n",
       "\t\t<dd>9</dd>\n",
       "</dl>\n"
      ],
      "text/latex": [
       "\\begin{description*}\n",
       "\\item[New York] 8\n",
       "\\item[Paris] 5\n",
       "\\item[London] 6\n",
       "\\item[Tokyo] 5\n",
       "\\item[Rio de Janeiro] 14\n",
       "\\item[Cape Town] 9\n",
       "\\end{description*}\n"
      ],
      "text/markdown": [
       "New York\n",
       ":   8Paris\n",
       ":   5London\n",
       ":   6Tokyo\n",
       ":   5Rio de Janeiro\n",
       ":   14Cape Town\n",
       ":   9\n",
       "\n"
      ],
      "text/plain": [
       "      New York          Paris         London          Tokyo Rio de Janeiro \n",
       "             8              5              6              5             14 \n",
       "     Cape Town \n",
       "             9 "
      ]
     },
     "metadata": {},
     "output_type": "display_data"
    }
   ],
   "source": [
    "sapply(cities, nchar)"
   ]
  },
  {
   "cell_type": "markdown",
   "id": "ef1ef717-3ca1-411f-b7b0-ebfe221c2539",
   "metadata": {},
   "source": [
    "```r\n",
    "vapply(X, FUN, FUN.VALUE, ..., USE.NAMES = TRUE)\n",
    "```"
   ]
  },
  {
   "cell_type": "code",
   "execution_count": 155,
   "id": "5757307c-7c88-4ffe-ab44-f8d385bf56c1",
   "metadata": {},
   "outputs": [
    {
     "data": {
      "text/html": [
       "<dl class=dl-horizontal>\n",
       "\t<dt>New York</dt>\n",
       "\t\t<dd>8</dd>\n",
       "\t<dt>Paris</dt>\n",
       "\t\t<dd>5</dd>\n",
       "\t<dt>London</dt>\n",
       "\t\t<dd>6</dd>\n",
       "\t<dt>Tokyo</dt>\n",
       "\t\t<dd>5</dd>\n",
       "\t<dt>Rio de Janeiro</dt>\n",
       "\t\t<dd>14</dd>\n",
       "\t<dt>Cape Town</dt>\n",
       "\t\t<dd>9</dd>\n",
       "</dl>\n"
      ],
      "text/latex": [
       "\\begin{description*}\n",
       "\\item[New York] 8\n",
       "\\item[Paris] 5\n",
       "\\item[London] 6\n",
       "\\item[Tokyo] 5\n",
       "\\item[Rio de Janeiro] 14\n",
       "\\item[Cape Town] 9\n",
       "\\end{description*}\n"
      ],
      "text/markdown": [
       "New York\n",
       ":   8Paris\n",
       ":   5London\n",
       ":   6Tokyo\n",
       ":   5Rio de Janeiro\n",
       ":   14Cape Town\n",
       ":   9\n",
       "\n"
      ],
      "text/plain": [
       "      New York          Paris         London          Tokyo Rio de Janeiro \n",
       "             8              5              6              5             14 \n",
       "     Cape Town \n",
       "             9 "
      ]
     },
     "metadata": {},
     "output_type": "display_data"
    }
   ],
   "source": [
    "vapply(cities, nchar, numeric(1))\n",
    "\n",
    "#numeric(1) tells the vapply function that nchar() should return a single numeric value"
   ]
  },
  {
   "cell_type": "code",
   "execution_count": 156,
   "id": "26e61bef-3242-44b2-80eb-1ab736ec86da",
   "metadata": {},
   "outputs": [
    {
     "data": {
      "text/html": [
       "<table>\n",
       "<thead><tr><th></th><th scope=col>New York</th><th scope=col>Paris</th><th scope=col>London</th><th scope=col>Tokyo</th><th scope=col>Rio de Janeiro</th><th scope=col>Cape Town</th></tr></thead>\n",
       "<tbody>\n",
       "\t<tr><th scope=row>first</th><td>e</td><td>a</td><td>d</td><td>k</td><td>a</td><td>a</td></tr>\n",
       "\t<tr><th scope=row>last</th><td>Y</td><td>s</td><td>o</td><td>y</td><td>R</td><td>w</td></tr>\n",
       "</tbody>\n",
       "</table>\n"
      ],
      "text/latex": [
       "\\begin{tabular}{r|llllll}\n",
       "  & New York & Paris & London & Tokyo & Rio de Janeiro & Cape Town\\\\\n",
       "\\hline\n",
       "\tfirst & e & a & d & k & a & a\\\\\n",
       "\tlast & Y & s & o & y & R & w\\\\\n",
       "\\end{tabular}\n"
      ],
      "text/markdown": [
       "\n",
       "| <!--/--> | New York | Paris | London | Tokyo | Rio de Janeiro | Cape Town |\n",
       "|---|---|---|---|---|---|---|\n",
       "| first | e | a | d | k | a | a |\n",
       "| last | Y | s | o | y | R | w |\n",
       "\n"
      ],
      "text/plain": [
       "      New York Paris London Tokyo Rio de Janeiro Cape Town\n",
       "first e        a     d      k     a              a        \n",
       "last  Y        s     o      y     R              w        "
      ]
     },
     "metadata": {},
     "output_type": "display_data"
    }
   ],
   "source": [
    "sapply(cities, first_and_last)"
   ]
  },
  {
   "cell_type": "code",
   "execution_count": 160,
   "id": "7b34f0c4-e04e-473b-bfdc-0abc183d1de1",
   "metadata": {},
   "outputs": [
    {
     "data": {
      "text/html": [
       "<table>\n",
       "<thead><tr><th></th><th scope=col>New York</th><th scope=col>Paris</th><th scope=col>London</th><th scope=col>Tokyo</th><th scope=col>Rio de Janeiro</th><th scope=col>Cape Town</th></tr></thead>\n",
       "<tbody>\n",
       "\t<tr><th scope=row>first</th><td>e</td><td>a</td><td>d</td><td>k</td><td>a</td><td>a</td></tr>\n",
       "\t<tr><th scope=row>last</th><td>Y</td><td>s</td><td>o</td><td>y</td><td>R</td><td>w</td></tr>\n",
       "</tbody>\n",
       "</table>\n"
      ],
      "text/latex": [
       "\\begin{tabular}{r|llllll}\n",
       "  & New York & Paris & London & Tokyo & Rio de Janeiro & Cape Town\\\\\n",
       "\\hline\n",
       "\tfirst & e & a & d & k & a & a\\\\\n",
       "\tlast & Y & s & o & y & R & w\\\\\n",
       "\\end{tabular}\n"
      ],
      "text/markdown": [
       "\n",
       "| <!--/--> | New York | Paris | London | Tokyo | Rio de Janeiro | Cape Town |\n",
       "|---|---|---|---|---|---|---|\n",
       "| first | e | a | d | k | a | a |\n",
       "| last | Y | s | o | y | R | w |\n",
       "\n"
      ],
      "text/plain": [
       "      New York Paris London Tokyo Rio de Janeiro Cape Town\n",
       "first e        a     d      k     a              a        \n",
       "last  Y        s     o      y     R              w        "
      ]
     },
     "metadata": {},
     "output_type": "display_data"
    }
   ],
   "source": [
    "vapply(cities, first_and_last, character(2))"
   ]
  },
  {
   "cell_type": "code",
   "execution_count": 161,
   "id": "2484e780-dacb-4df7-83ed-80e336a982b6",
   "metadata": {},
   "outputs": [
    {
     "data": {
      "text/html": [
       "<dl>\n",
       "\t<dt>$`New York`</dt>\n",
       "\t\t<dd><ol class=list-inline>\n",
       "\t<li>'N'</li>\n",
       "\t<li>'e'</li>\n",
       "\t<li>'w'</li>\n",
       "\t<li>'Y'</li>\n",
       "\t<li>'o'</li>\n",
       "\t<li>'r'</li>\n",
       "\t<li>'k'</li>\n",
       "</ol>\n",
       "</dd>\n",
       "\t<dt>$Paris</dt>\n",
       "\t\t<dd><ol class=list-inline>\n",
       "\t<li>'P'</li>\n",
       "\t<li>'a'</li>\n",
       "\t<li>'r'</li>\n",
       "\t<li>'i'</li>\n",
       "\t<li>'s'</li>\n",
       "</ol>\n",
       "</dd>\n",
       "\t<dt>$London</dt>\n",
       "\t\t<dd><ol class=list-inline>\n",
       "\t<li>'L'</li>\n",
       "\t<li>'o'</li>\n",
       "\t<li>'n'</li>\n",
       "\t<li>'d'</li>\n",
       "</ol>\n",
       "</dd>\n",
       "\t<dt>$Tokyo</dt>\n",
       "\t\t<dd><ol class=list-inline>\n",
       "\t<li>'T'</li>\n",
       "\t<li>'o'</li>\n",
       "\t<li>'k'</li>\n",
       "\t<li>'y'</li>\n",
       "</ol>\n",
       "</dd>\n",
       "\t<dt>$`Rio de Janeiro`</dt>\n",
       "\t\t<dd><ol class=list-inline>\n",
       "\t<li>'R'</li>\n",
       "\t<li>'i'</li>\n",
       "\t<li>'o'</li>\n",
       "\t<li>'d'</li>\n",
       "\t<li>'e'</li>\n",
       "\t<li>'J'</li>\n",
       "\t<li>'a'</li>\n",
       "\t<li>'n'</li>\n",
       "\t<li>'r'</li>\n",
       "</ol>\n",
       "</dd>\n",
       "\t<dt>$`Cape Town`</dt>\n",
       "\t\t<dd><ol class=list-inline>\n",
       "\t<li>'C'</li>\n",
       "\t<li>'a'</li>\n",
       "\t<li>'p'</li>\n",
       "\t<li>'e'</li>\n",
       "\t<li>'T'</li>\n",
       "\t<li>'o'</li>\n",
       "\t<li>'w'</li>\n",
       "\t<li>'n'</li>\n",
       "</ol>\n",
       "</dd>\n",
       "</dl>\n"
      ],
      "text/latex": [
       "\\begin{description}\n",
       "\\item[\\$`New York`] \\begin{enumerate*}\n",
       "\\item 'N'\n",
       "\\item 'e'\n",
       "\\item 'w'\n",
       "\\item 'Y'\n",
       "\\item 'o'\n",
       "\\item 'r'\n",
       "\\item 'k'\n",
       "\\end{enumerate*}\n",
       "\n",
       "\\item[\\$Paris] \\begin{enumerate*}\n",
       "\\item 'P'\n",
       "\\item 'a'\n",
       "\\item 'r'\n",
       "\\item 'i'\n",
       "\\item 's'\n",
       "\\end{enumerate*}\n",
       "\n",
       "\\item[\\$London] \\begin{enumerate*}\n",
       "\\item 'L'\n",
       "\\item 'o'\n",
       "\\item 'n'\n",
       "\\item 'd'\n",
       "\\end{enumerate*}\n",
       "\n",
       "\\item[\\$Tokyo] \\begin{enumerate*}\n",
       "\\item 'T'\n",
       "\\item 'o'\n",
       "\\item 'k'\n",
       "\\item 'y'\n",
       "\\end{enumerate*}\n",
       "\n",
       "\\item[\\$`Rio de Janeiro`] \\begin{enumerate*}\n",
       "\\item 'R'\n",
       "\\item 'i'\n",
       "\\item 'o'\n",
       "\\item 'd'\n",
       "\\item 'e'\n",
       "\\item 'J'\n",
       "\\item 'a'\n",
       "\\item 'n'\n",
       "\\item 'r'\n",
       "\\end{enumerate*}\n",
       "\n",
       "\\item[\\$`Cape Town`] \\begin{enumerate*}\n",
       "\\item 'C'\n",
       "\\item 'a'\n",
       "\\item 'p'\n",
       "\\item 'e'\n",
       "\\item 'T'\n",
       "\\item 'o'\n",
       "\\item 'w'\n",
       "\\item 'n'\n",
       "\\end{enumerate*}\n",
       "\n",
       "\\end{description}\n"
      ],
      "text/markdown": [
       "$`New York`\n",
       ":   1. 'N'\n",
       "2. 'e'\n",
       "3. 'w'\n",
       "4. 'Y'\n",
       "5. 'o'\n",
       "6. 'r'\n",
       "7. 'k'\n",
       "\n",
       "\n",
       "\n",
       "$Paris\n",
       ":   1. 'P'\n",
       "2. 'a'\n",
       "3. 'r'\n",
       "4. 'i'\n",
       "5. 's'\n",
       "\n",
       "\n",
       "\n",
       "$London\n",
       ":   1. 'L'\n",
       "2. 'o'\n",
       "3. 'n'\n",
       "4. 'd'\n",
       "\n",
       "\n",
       "\n",
       "$Tokyo\n",
       ":   1. 'T'\n",
       "2. 'o'\n",
       "3. 'k'\n",
       "4. 'y'\n",
       "\n",
       "\n",
       "\n",
       "$`Rio de Janeiro`\n",
       ":   1. 'R'\n",
       "2. 'i'\n",
       "3. 'o'\n",
       "4. 'd'\n",
       "5. 'e'\n",
       "6. 'J'\n",
       "7. 'a'\n",
       "8. 'n'\n",
       "9. 'r'\n",
       "\n",
       "\n",
       "\n",
       "$`Cape Town`\n",
       ":   1. 'C'\n",
       "2. 'a'\n",
       "3. 'p'\n",
       "4. 'e'\n",
       "5. 'T'\n",
       "6. 'o'\n",
       "7. 'w'\n",
       "8. 'n'\n",
       "\n",
       "\n",
       "\n",
       "\n",
       "\n"
      ],
      "text/plain": [
       "$`New York`\n",
       "[1] \"N\" \"e\" \"w\" \"Y\" \"o\" \"r\" \"k\"\n",
       "\n",
       "$Paris\n",
       "[1] \"P\" \"a\" \"r\" \"i\" \"s\"\n",
       "\n",
       "$London\n",
       "[1] \"L\" \"o\" \"n\" \"d\"\n",
       "\n",
       "$Tokyo\n",
       "[1] \"T\" \"o\" \"k\" \"y\"\n",
       "\n",
       "$`Rio de Janeiro`\n",
       "[1] \"R\" \"i\" \"o\" \"d\" \"e\" \"J\" \"a\" \"n\" \"r\"\n",
       "\n",
       "$`Cape Town`\n",
       "[1] \"C\" \"a\" \"p\" \"e\" \"T\" \"o\" \"w\" \"n\"\n"
      ]
     },
     "metadata": {},
     "output_type": "display_data"
    }
   ],
   "source": [
    "sapply(cities, unique_letters)"
   ]
  },
  {
   "cell_type": "code",
   "execution_count": null,
   "id": "b980e422-1cbf-4763-a6d2-8ac9050cb339",
   "metadata": {},
   "outputs": [],
   "source": [
    "vapply(cities, unique_letters, character(4))\n",
    "## error occures"
   ]
  },
  {
   "cell_type": "markdown",
   "id": "3c59a834-5af3-47d2-b2f5-223dd8d89c63",
   "metadata": {},
   "source": [
    "The `unique_letters` function returns vectors of different sizes. So, when call this `unique_letters()` function and apply it over the `cities` vector using `sapply`, an error occurs.\n",
    "\n",
    "This stresses our main point: `vapply()` is safer than `sapply()` if you want to simplify the result that `lapply()` generates."
   ]
  },
  {
   "cell_type": "code",
   "execution_count": 168,
   "id": "41272f10-28a8-4fe4-b78f-edfd792e0954",
   "metadata": {},
   "outputs": [
    {
     "data": {
      "text/html": [
       "<table>\n",
       "<tbody>\n",
       "\t<tr><th scope=row>min</th><td>-1.0</td><td> 5  </td><td>-3.0</td><td>-2.0</td><td>2.0 </td><td>-3.0</td><td>1.0 </td></tr>\n",
       "\t<tr><th scope=row>mean</th><td> 4.8</td><td> 9  </td><td> 2.2</td><td> 2.4</td><td>5.4 </td><td> 4.6</td><td>4.6 </td></tr>\n",
       "\t<tr><th scope=row>max</th><td> 9.0</td><td>13  </td><td> 8.0</td><td> 7.0</td><td>9.0 </td><td> 9.0</td><td>9.0 </td></tr>\n",
       "</tbody>\n",
       "</table>\n"
      ],
      "text/latex": [
       "\\begin{tabular}{r|lllllll}\n",
       "\tmin & -1.0 &  5   & -3.0 & -2.0 & 2.0  & -3.0 & 1.0 \\\\\n",
       "\tmean &  4.8 &  9   &  2.2 &  2.4 & 5.4  &  4.6 & 4.6 \\\\\n",
       "\tmax &  9.0 & 13   &  8.0 &  7.0 & 9.0  &  9.0 & 9.0 \\\\\n",
       "\\end{tabular}\n"
      ],
      "text/markdown": [
       "\n",
       "| min | -1.0 |  5   | -3.0 | -2.0 | 2.0  | -3.0 | 1.0  |\n",
       "| mean |  4.8 |  9   |  2.2 |  2.4 | 5.4  |  4.6 | 4.6  |\n",
       "| max |  9.0 | 13   |  8.0 |  7.0 | 9.0  |  9.0 | 9.0  |\n",
       "\n"
      ],
      "text/plain": [
       "     [,1] [,2] [,3] [,4] [,5] [,6] [,7]\n",
       "min  -1.0  5   -3.0 -2.0 2.0  -3.0 1.0 \n",
       "mean  4.8  9    2.2  2.4 5.4   4.6 4.6 \n",
       "max   9.0 13    8.0  7.0 9.0   9.0 9.0 "
      ]
     },
     "metadata": {},
     "output_type": "display_data"
    }
   ],
   "source": [
    "# Definition of basics()\n",
    "basics <- function(x) {\n",
    "  c(min = min(x), mean = mean(x), max = max(x))\n",
    "}\n",
    "\n",
    "# Apply basics() over temp using vapply()\n",
    "vapply(temp, basics, numeric(3))"
   ]
  },
  {
   "cell_type": "markdown",
   "id": "e19b5957-e190-4274-83f6-40bf01299947",
   "metadata": {},
   "source": [
    "*Notice how, just as with* `sapply()`, `vapply()` *neatly transfers the names that you specify in the* `basics()` *function to the row names of the matrix that it returns.*"
   ]
  },
  {
   "cell_type": "code",
   "execution_count": 169,
   "id": "0564a7a4-746b-474c-a60c-82ef621c1cde",
   "metadata": {},
   "outputs": [
    {
     "data": {
      "text/html": [
       "<table>\n",
       "<tbody>\n",
       "\t<tr><th scope=row>min</th><td>-1.0</td><td> 5  </td><td>-3.0</td><td>-2.0</td><td>2.0 </td><td>-3.0</td><td>1.0 </td></tr>\n",
       "\t<tr><th scope=row>mean</th><td> 4.8</td><td> 9  </td><td> 2.2</td><td> 2.4</td><td>5.4 </td><td> 4.6</td><td>4.6 </td></tr>\n",
       "\t<tr><th scope=row>median</th><td> 6.0</td><td> 9  </td><td> 3.0</td><td> 2.0</td><td>5.0 </td><td> 5.0</td><td>4.0 </td></tr>\n",
       "\t<tr><th scope=row>max</th><td> 9.0</td><td>13  </td><td> 8.0</td><td> 7.0</td><td>9.0 </td><td> 9.0</td><td>9.0 </td></tr>\n",
       "</tbody>\n",
       "</table>\n"
      ],
      "text/latex": [
       "\\begin{tabular}{r|lllllll}\n",
       "\tmin & -1.0 &  5   & -3.0 & -2.0 & 2.0  & -3.0 & 1.0 \\\\\n",
       "\tmean &  4.8 &  9   &  2.2 &  2.4 & 5.4  &  4.6 & 4.6 \\\\\n",
       "\tmedian &  6.0 &  9   &  3.0 &  2.0 & 5.0  &  5.0 & 4.0 \\\\\n",
       "\tmax &  9.0 & 13   &  8.0 &  7.0 & 9.0  &  9.0 & 9.0 \\\\\n",
       "\\end{tabular}\n"
      ],
      "text/markdown": [
       "\n",
       "| min | -1.0 |  5   | -3.0 | -2.0 | 2.0  | -3.0 | 1.0  |\n",
       "| mean |  4.8 |  9   |  2.2 |  2.4 | 5.4  |  4.6 | 4.6  |\n",
       "| median |  6.0 |  9   |  3.0 |  2.0 | 5.0  |  5.0 | 4.0  |\n",
       "| max |  9.0 | 13   |  8.0 |  7.0 | 9.0  |  9.0 | 9.0  |\n",
       "\n"
      ],
      "text/plain": [
       "       [,1] [,2] [,3] [,4] [,5] [,6] [,7]\n",
       "min    -1.0  5   -3.0 -2.0 2.0  -3.0 1.0 \n",
       "mean    4.8  9    2.2  2.4 5.4   4.6 4.6 \n",
       "median  6.0  9    3.0  2.0 5.0   5.0 4.0 \n",
       "max     9.0 13    8.0  7.0 9.0   9.0 9.0 "
      ]
     },
     "metadata": {},
     "output_type": "display_data"
    }
   ],
   "source": [
    "# Definition of the basics() function\n",
    "basics <- function(x) {\n",
    "  c(min = min(x), mean = mean(x), median = median(x), max = max(x))\n",
    "}\n",
    "\n",
    "# Apply basics() over temp using vapply()\n",
    "vapply(temp, basics, numeric(4))"
   ]
  },
  {
   "cell_type": "code",
   "execution_count": 172,
   "id": "45bfff68-898f-4c0f-ba22-09964bc9d7b4",
   "metadata": {},
   "outputs": [
    {
     "data": {
      "text/html": [
       "<ol class=list-inline>\n",
       "\t<li>4.8</li>\n",
       "\t<li>9</li>\n",
       "\t<li>2.2</li>\n",
       "\t<li>2.4</li>\n",
       "\t<li>5.4</li>\n",
       "\t<li>4.6</li>\n",
       "\t<li>4.6</li>\n",
       "</ol>\n"
      ],
      "text/latex": [
       "\\begin{enumerate*}\n",
       "\\item 4.8\n",
       "\\item 9\n",
       "\\item 2.2\n",
       "\\item 2.4\n",
       "\\item 5.4\n",
       "\\item 4.6\n",
       "\\item 4.6\n",
       "\\end{enumerate*}\n"
      ],
      "text/markdown": [
       "1. 4.8\n",
       "2. 9\n",
       "3. 2.2\n",
       "4. 2.4\n",
       "5. 5.4\n",
       "6. 4.6\n",
       "7. 4.6\n",
       "\n",
       "\n"
      ],
      "text/plain": [
       "[1] 4.8 9.0 2.2 2.4 5.4 4.6 4.6"
      ]
     },
     "metadata": {},
     "output_type": "display_data"
    }
   ],
   "source": [
    "vapply(temp, mean, numeric(1))"
   ]
  },
  {
   "cell_type": "code",
   "execution_count": 171,
   "id": "e83534e3-f9b7-4771-bdfc-e501da2b9845",
   "metadata": {},
   "outputs": [
    {
     "data": {
      "text/html": [
       "<ol class=list-inline>\n",
       "\t<li>FALSE</li>\n",
       "\t<li>TRUE</li>\n",
       "\t<li>FALSE</li>\n",
       "\t<li>FALSE</li>\n",
       "\t<li>TRUE</li>\n",
       "\t<li>FALSE</li>\n",
       "\t<li>FALSE</li>\n",
       "</ol>\n"
      ],
      "text/latex": [
       "\\begin{enumerate*}\n",
       "\\item FALSE\n",
       "\\item TRUE\n",
       "\\item FALSE\n",
       "\\item FALSE\n",
       "\\item TRUE\n",
       "\\item FALSE\n",
       "\\item FALSE\n",
       "\\end{enumerate*}\n"
      ],
      "text/markdown": [
       "1. FALSE\n",
       "2. TRUE\n",
       "3. FALSE\n",
       "4. FALSE\n",
       "5. TRUE\n",
       "6. FALSE\n",
       "7. FALSE\n",
       "\n",
       "\n"
      ],
      "text/plain": [
       "[1] FALSE  TRUE FALSE FALSE  TRUE FALSE FALSE"
      ]
     },
     "metadata": {},
     "output_type": "display_data"
    }
   ],
   "source": [
    "vapply(temp, function(x, y) { mean(x) > y }, y = 5, logical(1))"
   ]
  },
  {
   "cell_type": "markdown",
   "id": "e07947e6-035f-46ad-af40-ea2eba3f2310",
   "metadata": {},
   "source": [
    "---\n",
    "---\n",
    "# Utilities\n",
    "Mastering R programming is not only about understanding its programming concepts. Having a solid understanding of a wide range of R functions is also important. This chapter introduces you to many useful functions for data structure manipulation, regular expressions, and working with times and dates."
   ]
  },
  {
   "cell_type": "markdown",
   "id": "aed10463-d48c-428d-adf0-711c3f28d5f2",
   "metadata": {},
   "source": [
    "## Mathemetical utilites"
   ]
  },
  {
   "cell_type": "code",
   "execution_count": 173,
   "id": "c73d3571-e97d-4127-8bbc-9de4ab681481",
   "metadata": {},
   "outputs": [
    {
     "data": {
      "text/html": [
       "16"
      ],
      "text/latex": [
       "16"
      ],
      "text/markdown": [
       "16"
      ],
      "text/plain": [
       "[1] 16"
      ]
     },
     "metadata": {},
     "output_type": "display_data"
    }
   ],
   "source": [
    "v1 <- c(1.1, -7.1, 5.4, -2.7)\n",
    "v2 <- c(-3.6, 4.1, 5.8, -8.0)"
   ]
  },
  {
   "cell_type": "code",
   "execution_count": 181,
   "id": "167e61b8-a494-4a57-9238-7d71876a12f7",
   "metadata": {},
   "outputs": [
    {
     "data": {
      "text/html": [
       "<ol class=list-inline>\n",
       "\t<li>1.1</li>\n",
       "\t<li>7.1</li>\n",
       "\t<li>5.4</li>\n",
       "\t<li>2.7</li>\n",
       "</ol>\n"
      ],
      "text/latex": [
       "\\begin{enumerate*}\n",
       "\\item 1.1\n",
       "\\item 7.1\n",
       "\\item 5.4\n",
       "\\item 2.7\n",
       "\\end{enumerate*}\n"
      ],
      "text/markdown": [
       "1. 1.1\n",
       "2. 7.1\n",
       "3. 5.4\n",
       "4. 2.7\n",
       "\n",
       "\n"
      ],
      "text/plain": [
       "[1] 1.1 7.1 5.4 2.7"
      ]
     },
     "metadata": {},
     "output_type": "display_data"
    }
   ],
   "source": [
    "abs(c(1.1, -7.1, 5.4, -2.7))"
   ]
  },
  {
   "cell_type": "code",
   "execution_count": 182,
   "id": "069f9444-c637-40ea-8932-b1cd9129256c",
   "metadata": {},
   "outputs": [
    {
     "data": {
      "text/html": [
       "<ol class=list-inline>\n",
       "\t<li>3.6</li>\n",
       "\t<li>4.1</li>\n",
       "\t<li>5.8</li>\n",
       "\t<li>8</li>\n",
       "</ol>\n"
      ],
      "text/latex": [
       "\\begin{enumerate*}\n",
       "\\item 3.6\n",
       "\\item 4.1\n",
       "\\item 5.8\n",
       "\\item 8\n",
       "\\end{enumerate*}\n"
      ],
      "text/markdown": [
       "1. 3.6\n",
       "2. 4.1\n",
       "3. 5.8\n",
       "4. 8\n",
       "\n",
       "\n"
      ],
      "text/plain": [
       "[1] 3.6 4.1 5.8 8.0"
      ]
     },
     "metadata": {},
     "output_type": "display_data"
    }
   ],
   "source": [
    "abs(c(-3.6, 4.1, 5.8, -8.0))"
   ]
  },
  {
   "cell_type": "code",
   "execution_count": 186,
   "id": "61a25f53-8e56-4415-bb09-a2c13d701142",
   "metadata": {},
   "outputs": [
    {
     "data": {
      "text/html": [
       "<ol class=list-inline>\n",
       "\t<li>1</li>\n",
       "\t<li>-7</li>\n",
       "\t<li>5</li>\n",
       "\t<li>-3</li>\n",
       "</ol>\n"
      ],
      "text/latex": [
       "\\begin{enumerate*}\n",
       "\\item 1\n",
       "\\item -7\n",
       "\\item 5\n",
       "\\item -3\n",
       "\\end{enumerate*}\n"
      ],
      "text/markdown": [
       "1. 1\n",
       "2. -7\n",
       "3. 5\n",
       "4. -3\n",
       "\n",
       "\n"
      ],
      "text/plain": [
       "[1]  1 -7  5 -3"
      ]
     },
     "metadata": {},
     "output_type": "display_data"
    },
    {
     "data": {
      "text/html": [
       "<ol class=list-inline>\n",
       "\t<li>-4</li>\n",
       "\t<li>4</li>\n",
       "\t<li>6</li>\n",
       "\t<li>-8</li>\n",
       "</ol>\n"
      ],
      "text/latex": [
       "\\begin{enumerate*}\n",
       "\\item -4\n",
       "\\item 4\n",
       "\\item 6\n",
       "\\item -8\n",
       "\\end{enumerate*}\n"
      ],
      "text/markdown": [
       "1. -4\n",
       "2. 4\n",
       "3. 6\n",
       "4. -8\n",
       "\n",
       "\n"
      ],
      "text/plain": [
       "[1] -4  4  6 -8"
      ]
     },
     "metadata": {},
     "output_type": "display_data"
    }
   ],
   "source": [
    "round(v1)\n",
    "round(v2)"
   ]
  },
  {
   "cell_type": "code",
   "execution_count": 183,
   "id": "981719f5-2a8f-4ec8-b17e-b5e041674d13",
   "metadata": {},
   "outputs": [
    {
     "data": {
      "text/html": [
       "-4"
      ],
      "text/latex": [
       "-4"
      ],
      "text/markdown": [
       "-4"
      ],
      "text/plain": [
       "[1] -4"
      ]
     },
     "metadata": {},
     "output_type": "display_data"
    }
   ],
   "source": [
    "mean(c(sum(round(v1))), sum(round(v2)))"
   ]
  },
  {
   "cell_type": "code",
   "execution_count": 192,
   "id": "ed632aae-6da4-4ae7-a6ba-d02e615086b5",
   "metadata": {},
   "outputs": [
    {
     "data": {
      "text/html": [
       "19"
      ],
      "text/latex": [
       "19"
      ],
      "text/markdown": [
       "19"
      ],
      "text/plain": [
       "[1] 19"
      ]
     },
     "metadata": {},
     "output_type": "display_data"
    }
   ],
   "source": [
    "mean(c(sum(round(abs(v1))), sum(round(abs(v2)))))"
   ]
  },
  {
   "cell_type": "markdown",
   "id": "fe0afb1a-aa73-431c-b316-caae88f2c115",
   "metadata": {},
   "source": [
    "## Functions for data structures\n",
    "### seq()\n",
    "`seq(` generates a sequence of numbers. \n",
    "\n",
    "- The first two arguments tell R the limits of the sequence. That is, where to start and end the sequence, respectively. \n",
    "- The `by` argument specifies the increment value for the sequence on each step. \n",
    "    - For instance, `seq(1, 10, by = 3)` would generate a sequence starting at 1, going to 10, with steps of size 3. "
   ]
  },
  {
   "cell_type": "code",
   "execution_count": 196,
   "id": "77354f17-4149-4edb-ac31-4a6dd023d19a",
   "metadata": {},
   "outputs": [
    {
     "data": {
      "text/html": [
       "<ol class=list-inline>\n",
       "\t<li>1</li>\n",
       "\t<li>4</li>\n",
       "\t<li>7</li>\n",
       "\t<li>10</li>\n",
       "</ol>\n"
      ],
      "text/latex": [
       "\\begin{enumerate*}\n",
       "\\item 1\n",
       "\\item 4\n",
       "\\item 7\n",
       "\\item 10\n",
       "\\end{enumerate*}\n"
      ],
      "text/markdown": [
       "1. 1\n",
       "2. 4\n",
       "3. 7\n",
       "4. 10\n",
       "\n",
       "\n"
      ],
      "text/plain": [
       "[1]  1  4  7 10"
      ]
     },
     "metadata": {},
     "output_type": "display_data"
    }
   ],
   "source": [
    "seq(1, 10, by = 3)"
   ]
  },
  {
   "cell_type": "markdown",
   "id": "711737fe-533b-4196-98ae-5a0471e5272a",
   "metadata": {},
   "source": [
    "### rep()\n",
    "The `rep()` function has the ability to replicate its input, which typically is a vector or a list. \n",
    "\n",
    "Using the `times` argument, can specify how the replication should happen. If the `times` argument is a vector of length 1, it tells `rep()` how often the entire structure should be repeated.\n",
    "\n",
    "This is the case in our example, which results in a vector of length 8."
   ]
  },
  {
   "cell_type": "code",
   "execution_count": 198,
   "id": "880ff370-e21f-4c8e-884d-ce8fdab9bf95",
   "metadata": {},
   "outputs": [
    {
     "data": {
      "text/html": [
       "<ol class=list-inline>\n",
       "\t<li>1</li>\n",
       "\t<li>4</li>\n",
       "\t<li>7</li>\n",
       "\t<li>10</li>\n",
       "\t<li>1</li>\n",
       "\t<li>4</li>\n",
       "\t<li>7</li>\n",
       "\t<li>10</li>\n",
       "</ol>\n"
      ],
      "text/latex": [
       "\\begin{enumerate*}\n",
       "\\item 1\n",
       "\\item 4\n",
       "\\item 7\n",
       "\\item 10\n",
       "\\item 1\n",
       "\\item 4\n",
       "\\item 7\n",
       "\\item 10\n",
       "\\end{enumerate*}\n"
      ],
      "text/markdown": [
       "1. 1\n",
       "2. 4\n",
       "3. 7\n",
       "4. 10\n",
       "5. 1\n",
       "6. 4\n",
       "7. 7\n",
       "8. 10\n",
       "\n",
       "\n"
      ],
      "text/plain": [
       "[1]  1  4  7 10  1  4  7 10"
      ]
     },
     "metadata": {},
     "output_type": "display_data"
    }
   ],
   "source": [
    "rep(seq(1, 10, by = 3), times = 2)"
   ]
  },
  {
   "cell_type": "markdown",
   "id": "bc067a38-7435-4f73-8e39-e787444b4e67",
   "metadata": {},
   "source": [
    "Instead of repeating the entire vector, **every element gets repeated**."
   ]
  },
  {
   "cell_type": "markdown",
   "id": "4cf67711-6999-469d-99c0-3d9184832487",
   "metadata": {},
   "source": [
    "### sort()\n",
    "The `sort()` function is a generic function for sorting an input vector. It works as expected, sorting the input vector in ascending order. \n"
   ]
  },
  {
   "cell_type": "code",
   "execution_count": 199,
   "id": "118348be-2879-46fa-9792-de61b50fc22c",
   "metadata": {},
   "outputs": [
    {
     "data": {
      "text/html": [
       "<ol class=list-inline>\n",
       "\t<li>1</li>\n",
       "\t<li>2</li>\n",
       "\t<li>3</li>\n",
       "\t<li>4</li>\n",
       "\t<li>5</li>\n",
       "\t<li>6</li>\n",
       "\t<li>7</li>\n",
       "\t<li>8</li>\n",
       "</ol>\n"
      ],
      "text/latex": [
       "\\begin{enumerate*}\n",
       "\\item 1\n",
       "\\item 2\n",
       "\\item 3\n",
       "\\item 4\n",
       "\\item 5\n",
       "\\item 6\n",
       "\\item 7\n",
       "\\item 8\n",
       "\\end{enumerate*}\n"
      ],
      "text/markdown": [
       "1. 1\n",
       "2. 2\n",
       "3. 3\n",
       "4. 4\n",
       "5. 5\n",
       "6. 6\n",
       "7. 7\n",
       "8. 8\n",
       "\n",
       "\n"
      ],
      "text/plain": [
       "[1] 1 2 3 4 5 6 7 8"
      ]
     },
     "metadata": {},
     "output_type": "display_data"
    }
   ],
   "source": [
    "sort(c(8, 6, 5, 2, 7, 4, 3, 1))"
   ]
  },
  {
   "cell_type": "markdown",
   "id": "238cf6fe-b7cb-4bfa-88b2-8d8d0e2c47af",
   "metadata": {},
   "source": [
    "By setting the `decreasing` argument, which is `FALSE` by default, to `TRUE`, can reverse the order of arranging."
   ]
  },
  {
   "cell_type": "code",
   "execution_count": 200,
   "id": "61759434-50e9-4fa1-9234-05b3bcb55bdb",
   "metadata": {},
   "outputs": [
    {
     "data": {
      "text/html": [
       "<ol class=list-inline>\n",
       "\t<li>8</li>\n",
       "\t<li>7</li>\n",
       "\t<li>6</li>\n",
       "\t<li>5</li>\n",
       "\t<li>4</li>\n",
       "\t<li>3</li>\n",
       "\t<li>2</li>\n",
       "\t<li>1</li>\n",
       "</ol>\n"
      ],
      "text/latex": [
       "\\begin{enumerate*}\n",
       "\\item 8\n",
       "\\item 7\n",
       "\\item 6\n",
       "\\item 5\n",
       "\\item 4\n",
       "\\item 3\n",
       "\\item 2\n",
       "\\item 1\n",
       "\\end{enumerate*}\n"
      ],
      "text/markdown": [
       "1. 8\n",
       "2. 7\n",
       "3. 6\n",
       "4. 5\n",
       "5. 4\n",
       "6. 3\n",
       "7. 2\n",
       "8. 1\n",
       "\n",
       "\n"
      ],
      "text/plain": [
       "[1] 8 7 6 5 4 3 2 1"
      ]
     },
     "metadata": {},
     "output_type": "display_data"
    }
   ],
   "source": [
    "sort(c(8, 6, 5, 2, 7, 4, 3, 1), decreasing = TRUE)"
   ]
  },
  {
   "cell_type": "markdown",
   "id": "2a78975f-4333-48d1-a128-ea1e812745ac",
   "metadata": {},
   "source": [
    "### str()\n",
    "Remember that the str() function is to inspect the structure of the list. It's a great function to see the contents of the data structures in a concise way."
   ]
  },
  {
   "cell_type": "code",
   "execution_count": 201,
   "id": "1dce5d75-8a9e-41b4-af64-d1d76fb3d598",
   "metadata": {},
   "outputs": [],
   "source": [
    "li <- list(log = TRUE,\n",
    "          ch = 'hello', \n",
    "          int_vec = sort(rep(seq(8, 2, by = -2), times = 2)))"
   ]
  },
  {
   "cell_type": "code",
   "execution_count": 202,
   "id": "9ad40ae6-8ca5-421f-a3c7-d6d3a061aaf0",
   "metadata": {},
   "outputs": [
    {
     "name": "stdout",
     "output_type": "stream",
     "text": [
      "List of 3\n",
      " $ log    : logi TRUE\n",
      " $ ch     : chr \"hello\"\n",
      " $ int_vec: num [1:8] 2 2 4 4 6 6 8 8\n"
     ]
    }
   ],
   "source": [
    "str(li)"
   ]
  },
  {
   "cell_type": "markdown",
   "id": "b5922426-6fa4-451a-bab2-d073ffc10f0e",
   "metadata": {},
   "source": [
    "### is.*\\(), as.*\\()\n",
    "\n",
    "The is `.` functions are functions you can use to check the type of your data structure. They return a logical. Because `li` is a list, `is.list` of `li` returns `TRUE`. On the other hand, `is.list` on a vector returns `FALSE`. Instead of `is.` function, R also provides the `as.` functions. These can be used to convert vectors to lists, for example. "
   ]
  },
  {
   "cell_type": "code",
   "execution_count": 203,
   "id": "77ce77e5-e9f9-4251-844c-903d6aeda443",
   "metadata": {},
   "outputs": [
    {
     "data": {
      "text/html": [
       "TRUE"
      ],
      "text/latex": [
       "TRUE"
      ],
      "text/markdown": [
       "TRUE"
      ],
      "text/plain": [
       "[1] TRUE"
      ]
     },
     "metadata": {},
     "output_type": "display_data"
    }
   ],
   "source": [
    "is.list(li)"
   ]
  },
  {
   "cell_type": "code",
   "execution_count": 204,
   "id": "b6a2989d-f5eb-4d84-8f6d-566420543163",
   "metadata": {},
   "outputs": [
    {
     "data": {
      "text/html": [
       "FALSE"
      ],
      "text/latex": [
       "FALSE"
      ],
      "text/markdown": [
       "FALSE"
      ],
      "text/plain": [
       "[1] FALSE"
      ]
     },
     "metadata": {},
     "output_type": "display_data"
    }
   ],
   "source": [
    "is.list(c(1, 2, 3))"
   ]
  },
  {
   "cell_type": "code",
   "execution_count": 205,
   "id": "7327f054-0e18-4f74-95ee-98c3a9805fe9",
   "metadata": {},
   "outputs": [
    {
     "data": {
      "text/html": [
       "TRUE"
      ],
      "text/latex": [
       "TRUE"
      ],
      "text/markdown": [
       "TRUE"
      ],
      "text/plain": [
       "[1] TRUE"
      ]
     },
     "metadata": {},
     "output_type": "display_data"
    }
   ],
   "source": [
    "li2 <- as.list(c(1, 2, 3))\n",
    "is.list(li2)"
   ]
  },
  {
   "cell_type": "markdown",
   "id": "2efaf562-3cec-48bf-881f-90255e136fc8",
   "metadata": {},
   "source": [
    "Now, calling `is.list` on `li2` will return `TRUE` as the vector was converted to a list using `as.list()`."
   ]
  },
  {
   "cell_type": "markdown",
   "id": "7466650c-330f-4c6d-8a2c-56f528efbdb1",
   "metadata": {},
   "source": [
    "### unlist()\n",
    "There might be some cases in which want to convert the list to a vector. In these cases, might use the `unlist` function. R flattens the entire list structure and returns a single vector. "
   ]
  },
  {
   "cell_type": "code",
   "execution_count": 206,
   "id": "078a1051-534c-408e-b472-1bff6943111c",
   "metadata": {},
   "outputs": [
    {
     "data": {
      "text/html": [
       "<dl class=dl-horizontal>\n",
       "\t<dt>log</dt>\n",
       "\t\t<dd>'TRUE'</dd>\n",
       "\t<dt>ch</dt>\n",
       "\t\t<dd>'hello'</dd>\n",
       "\t<dt>int_vec1</dt>\n",
       "\t\t<dd>'2'</dd>\n",
       "\t<dt>int_vec2</dt>\n",
       "\t\t<dd>'2'</dd>\n",
       "\t<dt>int_vec3</dt>\n",
       "\t\t<dd>'4'</dd>\n",
       "\t<dt>int_vec4</dt>\n",
       "\t\t<dd>'4'</dd>\n",
       "\t<dt>int_vec5</dt>\n",
       "\t\t<dd>'6'</dd>\n",
       "\t<dt>int_vec6</dt>\n",
       "\t\t<dd>'6'</dd>\n",
       "\t<dt>int_vec7</dt>\n",
       "\t\t<dd>'8'</dd>\n",
       "\t<dt>int_vec8</dt>\n",
       "\t\t<dd>'8'</dd>\n",
       "</dl>\n"
      ],
      "text/latex": [
       "\\begin{description*}\n",
       "\\item[log] 'TRUE'\n",
       "\\item[ch] 'hello'\n",
       "\\item[int\\textbackslash{}\\_vec1] '2'\n",
       "\\item[int\\textbackslash{}\\_vec2] '2'\n",
       "\\item[int\\textbackslash{}\\_vec3] '4'\n",
       "\\item[int\\textbackslash{}\\_vec4] '4'\n",
       "\\item[int\\textbackslash{}\\_vec5] '6'\n",
       "\\item[int\\textbackslash{}\\_vec6] '6'\n",
       "\\item[int\\textbackslash{}\\_vec7] '8'\n",
       "\\item[int\\textbackslash{}\\_vec8] '8'\n",
       "\\end{description*}\n"
      ],
      "text/markdown": [
       "log\n",
       ":   'TRUE'ch\n",
       ":   'hello'int_vec1\n",
       ":   '2'int_vec2\n",
       ":   '2'int_vec3\n",
       ":   '4'int_vec4\n",
       ":   '4'int_vec5\n",
       ":   '6'int_vec6\n",
       ":   '6'int_vec7\n",
       ":   '8'int_vec8\n",
       ":   '8'\n",
       "\n"
      ],
      "text/plain": [
       "     log       ch int_vec1 int_vec2 int_vec3 int_vec4 int_vec5 int_vec6 \n",
       "  \"TRUE\"  \"hello\"      \"2\"      \"2\"      \"4\"      \"4\"      \"6\"      \"6\" \n",
       "int_vec7 int_vec8 \n",
       "     \"8\"      \"8\" "
      ]
     },
     "metadata": {},
     "output_type": "display_data"
    }
   ],
   "source": [
    "unlist(li)"
   ]
  },
  {
   "cell_type": "markdown",
   "id": "c4878773-c229-4184-b1d1-73abd005e013",
   "metadata": {},
   "source": [
    "Notice the **coercion** here. Because vectors can only contain a single atomic type, the logical `TRUE` and the numerical vector are all coerced to **character strings**. Also notice how R tries to come up with meaningful names for all vector elements."
   ]
  },
  {
   "cell_type": "markdown",
   "id": "9bf8018e-3610-4ba9-babf-2b4bb0bc1d47",
   "metadata": {},
   "source": [
    "### append(), rev()\n",
    "The `append()` function allows to add elements to a vector or a list in a very readable way. In combination with the `rev()` function, which reverses elements in a data structure, can create a new version of `li` that contains the same data in the different order. \n",
    "\n",
    "The `rev()` function first reverses the list, placing the `int_vec` vector first and the log value, `TRUE` last.\n",
    "\n",
    "Afterwards, `append()` concatenates the original vector `li` and its reversed version to create a list of 6 elements, double `li`'s length. "
   ]
  },
  {
   "cell_type": "code",
   "execution_count": 211,
   "id": "345fe922-9ce1-4907-9a56-7d855880c6a2",
   "metadata": {},
   "outputs": [
    {
     "name": "stdout",
     "output_type": "stream",
     "text": [
      "List of 3\n",
      " $ log    : logi TRUE\n",
      " $ ch     : chr \"hello\"\n",
      " $ int_vec: num [1:8] 2 2 4 4 6 6 8 8\n"
     ]
    }
   ],
   "source": [
    "str(li)"
   ]
  },
  {
   "cell_type": "code",
   "execution_count": 210,
   "id": "b9b6adf0-8e34-4b93-8d15-13d58c36f5c7",
   "metadata": {},
   "outputs": [
    {
     "name": "stdout",
     "output_type": "stream",
     "text": [
      "List of 3\n",
      " $ int_vec: num [1:8] 2 2 4 4 6 6 8 8\n",
      " $ ch     : chr \"hello\"\n",
      " $ log    : logi TRUE\n"
     ]
    }
   ],
   "source": [
    "str(rev(li))"
   ]
  },
  {
   "cell_type": "code",
   "execution_count": 209,
   "id": "3b4fd9ce-5c9d-48db-a280-8d6984187950",
   "metadata": {},
   "outputs": [
    {
     "name": "stdout",
     "output_type": "stream",
     "text": [
      "List of 6\n",
      " $ log    : logi TRUE\n",
      " $ ch     : chr \"hello\"\n",
      " $ int_vec: num [1:8] 2 2 4 4 6 6 8 8\n",
      " $ int_vec: num [1:8] 2 2 4 4 6 6 8 8\n",
      " $ ch     : chr \"hello\"\n",
      " $ log    : logi TRUE\n"
     ]
    }
   ],
   "source": [
    "str(append(li, rev(li)))"
   ]
  },
  {
   "cell_type": "markdown",
   "id": "18cedaa9-d234-42f2-afb4-b052155156ac",
   "metadata": {},
   "source": [
    "## Exercise"
   ]
  },
  {
   "cell_type": "code",
   "execution_count": 212,
   "id": "38e7c015-e462-4f93-b36e-5bf1e91aa579",
   "metadata": {},
   "outputs": [
    {
     "data": {
      "text/html": [
       "29"
      ],
      "text/latex": [
       "29"
      ],
      "text/markdown": [
       "29"
      ],
      "text/plain": [
       "[1] 29"
      ]
     },
     "metadata": {},
     "output_type": "display_data"
    }
   ],
   "source": [
    "errors <- c(1.9, -2.6, 4.0, -9.5, -3.4, 7.3)\n",
    "\n",
    "# Sum of absolute rounded values of errors\n",
    "sum(round(abs(errors)))"
   ]
  },
  {
   "cell_type": "code",
   "execution_count": 213,
   "id": "07cf1c04-9a28-42bb-8ae4-633958672d88",
   "metadata": {},
   "outputs": [
    {
     "data": {
      "text/html": [
       "<ol class=list-inline>\n",
       "\t<li>1.5</li>\n",
       "\t<li>2.5</li>\n",
       "\t<li>8.4</li>\n",
       "\t<li>3.7</li>\n",
       "\t<li>6.3</li>\n",
       "</ol>\n"
      ],
      "text/latex": [
       "\\begin{enumerate*}\n",
       "\\item 1.5\n",
       "\\item 2.5\n",
       "\\item 8.4\n",
       "\\item 3.7\n",
       "\\item 6.3\n",
       "\\end{enumerate*}\n"
      ],
      "text/markdown": [
       "1. 1.5\n",
       "2. 2.5\n",
       "3. 8.4\n",
       "4. 3.7\n",
       "5. 6.3\n",
       "\n",
       "\n"
      ],
      "text/plain": [
       "[1] 1.5 2.5 8.4 3.7 6.3"
      ]
     },
     "metadata": {},
     "output_type": "display_data"
    },
    {
     "data": {
      "text/html": [
       "<ol class=list-inline>\n",
       "\t<li>6.3</li>\n",
       "\t<li>3.7</li>\n",
       "\t<li>8.4</li>\n",
       "\t<li>2.5</li>\n",
       "\t<li>1.5</li>\n",
       "</ol>\n"
      ],
      "text/latex": [
       "\\begin{enumerate*}\n",
       "\\item 6.3\n",
       "\\item 3.7\n",
       "\\item 8.4\n",
       "\\item 2.5\n",
       "\\item 1.5\n",
       "\\end{enumerate*}\n"
      ],
      "text/markdown": [
       "1. 6.3\n",
       "2. 3.7\n",
       "3. 8.4\n",
       "4. 2.5\n",
       "5. 1.5\n",
       "\n",
       "\n"
      ],
      "text/plain": [
       "[1] 6.3 3.7 8.4 2.5 1.5"
      ]
     },
     "metadata": {},
     "output_type": "display_data"
    }
   ],
   "source": [
    "vec1 <- c(1.5, 2.5, 8.4, 3.7, 6.3)\n",
    "vec2 <- rev(vec1)\n",
    "\n",
    "vec1\n",
    "vec2"
   ]
  },
  {
   "cell_type": "code",
   "execution_count": 214,
   "id": "fb999fe6-162e-4426-ade8-a789e6faf0d4",
   "metadata": {},
   "outputs": [
    {
     "data": {
      "text/html": [
       "4.48"
      ],
      "text/latex": [
       "4.48"
      ],
      "text/markdown": [
       "4.48"
      ],
      "text/plain": [
       "[1] 4.48"
      ]
     },
     "metadata": {},
     "output_type": "display_data"
    }
   ],
   "source": [
    "mean(c(abs(vec1), abs(vec2)))"
   ]
  },
  {
   "cell_type": "code",
   "execution_count": 215,
   "id": "b428a03d-b57e-4ac1-bfcc-c36457ba53e6",
   "metadata": {},
   "outputs": [
    {
     "data": {
      "text/html": [
       "<ol class=list-inline>\n",
       "\t<li>17</li>\n",
       "\t<li>17</li>\n",
       "\t<li>16</li>\n",
       "\t<li>16</li>\n",
       "\t<li>14</li>\n",
       "\t<li>14</li>\n",
       "\t<li>13</li>\n",
       "\t<li>13</li>\n",
       "\t<li>9</li>\n",
       "\t<li>8</li>\n",
       "\t<li>7</li>\n",
       "\t<li>5</li>\n",
       "\t<li>5</li>\n",
       "\t<li>2</li>\n",
       "</ol>\n"
      ],
      "text/latex": [
       "\\begin{enumerate*}\n",
       "\\item 17\n",
       "\\item 17\n",
       "\\item 16\n",
       "\\item 16\n",
       "\\item 14\n",
       "\\item 14\n",
       "\\item 13\n",
       "\\item 13\n",
       "\\item 9\n",
       "\\item 8\n",
       "\\item 7\n",
       "\\item 5\n",
       "\\item 5\n",
       "\\item 2\n",
       "\\end{enumerate*}\n"
      ],
      "text/markdown": [
       "1. 17\n",
       "2. 17\n",
       "3. 16\n",
       "4. 16\n",
       "5. 14\n",
       "6. 14\n",
       "7. 13\n",
       "8. 13\n",
       "9. 9\n",
       "10. 8\n",
       "11. 7\n",
       "12. 5\n",
       "13. 5\n",
       "14. 2\n",
       "\n",
       "\n"
      ],
      "text/plain": [
       " [1] 17 17 16 16 14 14 13 13  9  8  7  5  5  2"
      ]
     },
     "metadata": {},
     "output_type": "display_data"
    }
   ],
   "source": [
    "linkedin <- list(16, 9, 13, 5, 2, 17, 14)\n",
    "facebook <- list(17, 7, 5, 16, 8, 13, 14)\n",
    "\n",
    "# Convert linkedin and facebook to a vector: li_vec and fb_vec\n",
    "li_vec <- unlist(linkedin)\n",
    "fb_vec <- unlist(facebook)\n",
    "\n",
    "# Append fb_vec to li_vec: social_vec\n",
    "social_vec <- append(li_vec, fb_vec)\n",
    "\n",
    "# Sort social_vec\n",
    "sort(social_vec, decreasing = TRUE)"
   ]
  },
  {
   "cell_type": "code",
   "execution_count": 216,
   "id": "09b79fee-85f9-483c-a660-dba82ac6e90e",
   "metadata": {},
   "outputs": [
    {
     "data": {
      "text/html": [
       "87029"
      ],
      "text/latex": [
       "87029"
      ],
      "text/markdown": [
       "87029"
      ],
      "text/plain": [
       "[1] 87029"
      ]
     },
     "metadata": {},
     "output_type": "display_data"
    }
   ],
   "source": [
    "# Create first sequence: seq1\n",
    "seq1 <- seq(1, 500, by = 3)\n",
    "\n",
    "# Create second sequence: seq2\n",
    "seq2 <- seq(1200, 900, by = -7)\n",
    "\n",
    "# Calculate total sum of the sequences\n",
    "sum(seq1, seq2)"
   ]
  },
  {
   "cell_type": "markdown",
   "id": "417ebe94-c118-47d9-8b37-ab8395c17238",
   "metadata": {},
   "source": [
    "---\n",
    "## Regular Expressions\n",
    "- Sequence of (meta)characters\n",
    "- Pattern existence\n",
    "- Pattern replacement\n",
    "- Pattern extraction\n",
    "- `grep()`, `grepl()`\n",
    "- `sub()`, `gsub()`"
   ]
  },
  {
   "cell_type": "code",
   "execution_count": 217,
   "id": "09333dee-cd21-405e-a93e-fa9ebb7869bc",
   "metadata": {},
   "outputs": [],
   "source": [
    "animals <- c('cat', 'moose', 'impala', 'ant', 'kiwi')"
   ]
  },
  {
   "cell_type": "markdown",
   "id": "1a4e8114-3e11-4496-8c57-a79d2c53ebc0",
   "metadata": {},
   "source": [
    "### grepl()\n",
    "```r\n",
    "grepl(pattern = <regex>, x = <string>)\n",
    "```\n",
    "\n",
    "The first argument of `grepl()` is the pattern, while the second is the character vector where matches are sought.\n",
    "\n",
    "With the `grepl()` function, can determine, for example, which of these animals has an \"a\" in their name. "
   ]
  },
  {
   "cell_type": "code",
   "execution_count": 218,
   "id": "6082532b-0944-4726-b199-74be6f139d12",
   "metadata": {},
   "outputs": [
    {
     "data": {
      "text/html": [
       "<ol class=list-inline>\n",
       "\t<li>TRUE</li>\n",
       "\t<li>FALSE</li>\n",
       "\t<li>TRUE</li>\n",
       "\t<li>TRUE</li>\n",
       "\t<li>FALSE</li>\n",
       "</ol>\n"
      ],
      "text/latex": [
       "\\begin{enumerate*}\n",
       "\\item TRUE\n",
       "\\item FALSE\n",
       "\\item TRUE\n",
       "\\item TRUE\n",
       "\\item FALSE\n",
       "\\end{enumerate*}\n"
      ],
      "text/markdown": [
       "1. TRUE\n",
       "2. FALSE\n",
       "3. TRUE\n",
       "4. TRUE\n",
       "5. FALSE\n",
       "\n",
       "\n"
      ],
      "text/plain": [
       "[1]  TRUE FALSE  TRUE  TRUE FALSE"
      ]
     },
     "metadata": {},
     "output_type": "display_data"
    }
   ],
   "source": [
    "grepl(pattern = 'a', x = animals)"
   ]
  },
  {
   "cell_type": "markdown",
   "id": "e0649f2b-144c-47f0-afc1-10c2784ad67a",
   "metadata": {},
   "source": [
    "What if want to match for strings that **start** with an \"a\"? "
   ]
  },
  {
   "cell_type": "code",
   "execution_count": 219,
   "id": "dc7ddaf8-432e-4b53-b968-1ee8fd8310bb",
   "metadata": {},
   "outputs": [
    {
     "data": {
      "text/html": [
       "<ol class=list-inline>\n",
       "\t<li>FALSE</li>\n",
       "\t<li>FALSE</li>\n",
       "\t<li>FALSE</li>\n",
       "\t<li>TRUE</li>\n",
       "\t<li>FALSE</li>\n",
       "</ol>\n"
      ],
      "text/latex": [
       "\\begin{enumerate*}\n",
       "\\item FALSE\n",
       "\\item FALSE\n",
       "\\item FALSE\n",
       "\\item TRUE\n",
       "\\item FALSE\n",
       "\\end{enumerate*}\n"
      ],
      "text/markdown": [
       "1. FALSE\n",
       "2. FALSE\n",
       "3. FALSE\n",
       "4. TRUE\n",
       "5. FALSE\n",
       "\n",
       "\n"
      ],
      "text/plain": [
       "[1] FALSE FALSE FALSE  TRUE FALSE"
      ]
     },
     "metadata": {},
     "output_type": "display_data"
    }
   ],
   "source": [
    "grepl(pattern = '^a', x = animals)"
   ]
  },
  {
   "cell_type": "markdown",
   "id": "c833bbea-740b-4f9e-87a4-ebcd3d2adb7f",
   "metadata": {},
   "source": [
    "What if want to match for strings that **end** with an \"a\"?"
   ]
  },
  {
   "cell_type": "code",
   "execution_count": 221,
   "id": "4d3ec242-84c3-4ceb-bbb2-439614a4745b",
   "metadata": {},
   "outputs": [
    {
     "data": {
      "text/html": [
       "<ol class=list-inline>\n",
       "\t<li>FALSE</li>\n",
       "\t<li>FALSE</li>\n",
       "\t<li>TRUE</li>\n",
       "\t<li>FALSE</li>\n",
       "\t<li>FALSE</li>\n",
       "</ol>\n"
      ],
      "text/latex": [
       "\\begin{enumerate*}\n",
       "\\item FALSE\n",
       "\\item FALSE\n",
       "\\item TRUE\n",
       "\\item FALSE\n",
       "\\item FALSE\n",
       "\\end{enumerate*}\n"
      ],
      "text/markdown": [
       "1. FALSE\n",
       "2. FALSE\n",
       "3. TRUE\n",
       "4. FALSE\n",
       "5. FALSE\n",
       "\n",
       "\n"
      ],
      "text/plain": [
       "[1] FALSE FALSE  TRUE FALSE FALSE"
      ]
     },
     "metadata": {},
     "output_type": "display_data"
    }
   ],
   "source": [
    "grepl(pattern = 'a$', x = animals)"
   ]
  },
  {
   "cell_type": "markdown",
   "id": "d4163c51-ba58-4a62-9aa5-5a9f9811a1ab",
   "metadata": {},
   "source": [
    "## grep()\n",
    "Apart from the `grepl()` function, there is also the `grep()` function. This function returns a vector of indices of the elements of x that yield a match. That's quite different from `grepl`. Compare the `grepl` command, that gives a vector of logicals, with the `grep` command."
   ]
  },
  {
   "cell_type": "code",
   "execution_count": 222,
   "id": "ed3c82a8-b037-4f48-9ec6-10da807549b9",
   "metadata": {},
   "outputs": [
    {
     "data": {
      "text/html": [
       "<ol class=list-inline>\n",
       "\t<li>1</li>\n",
       "\t<li>3</li>\n",
       "\t<li>4</li>\n",
       "</ol>\n"
      ],
      "text/latex": [
       "\\begin{enumerate*}\n",
       "\\item 1\n",
       "\\item 3\n",
       "\\item 4\n",
       "\\end{enumerate*}\n"
      ],
      "text/markdown": [
       "1. 1\n",
       "2. 3\n",
       "3. 4\n",
       "\n",
       "\n"
      ],
      "text/plain": [
       "[1] 1 3 4"
      ]
     },
     "metadata": {},
     "output_type": "display_data"
    }
   ],
   "source": [
    "grep(pattern = 'a', x = animals)"
   ]
  },
  {
   "cell_type": "markdown",
   "id": "6efb8081-34e2-4cec-9d57-9cba5e8728ec",
   "metadata": {},
   "source": [
    "However different, they are obviously related: `grep` simply gives the indices of the `TRUE` elements that the `grepl` function returns. One way in which can compare `grep` and `grepl` would be using the `which()` function given a logical vector as input, this function returns the indices for which that vector is `TRUE`. "
   ]
  },
  {
   "cell_type": "code",
   "execution_count": 223,
   "id": "9cfdf613-b4d9-49f3-a519-c2d455434301",
   "metadata": {},
   "outputs": [
    {
     "data": {
      "text/html": [
       "<ol class=list-inline>\n",
       "\t<li>1</li>\n",
       "\t<li>3</li>\n",
       "\t<li>4</li>\n",
       "</ol>\n"
      ],
      "text/latex": [
       "\\begin{enumerate*}\n",
       "\\item 1\n",
       "\\item 3\n",
       "\\item 4\n",
       "\\end{enumerate*}\n"
      ],
      "text/markdown": [
       "1. 1\n",
       "2. 3\n",
       "3. 4\n",
       "\n",
       "\n"
      ],
      "text/plain": [
       "[1] 1 3 4"
      ]
     },
     "metadata": {},
     "output_type": "display_data"
    }
   ],
   "source": [
    "which(grepl(pattern = 'a', x = animals))"
   ]
  },
  {
   "cell_type": "code",
   "execution_count": 224,
   "id": "7a4741e9-effd-42c8-8f97-12a8b1009af3",
   "metadata": {},
   "outputs": [
    {
     "data": {
      "text/html": [
       "4"
      ],
      "text/latex": [
       "4"
      ],
      "text/markdown": [
       "4"
      ],
      "text/plain": [
       "[1] 4"
      ]
     },
     "metadata": {},
     "output_type": "display_data"
    }
   ],
   "source": [
    "grep(pattern = '^a', x = animals)"
   ]
  },
  {
   "cell_type": "code",
   "execution_count": 225,
   "id": "c485d069-8070-417f-b6da-3a2b062f1322",
   "metadata": {},
   "outputs": [
    {
     "data": {
      "text/html": [
       "3"
      ],
      "text/latex": [
       "3"
      ],
      "text/markdown": [
       "3"
      ],
      "text/plain": [
       "[1] 3"
      ]
     },
     "metadata": {},
     "output_type": "display_data"
    }
   ],
   "source": [
    "grep(pattern = 'a$', x = animals)"
   ]
  },
  {
   "cell_type": "markdown",
   "id": "14e3791d-c381-4edc-814e-50034f69be4b",
   "metadata": {},
   "source": [
    "## sub(), gsub()\n",
    "R also provides some functions to directly replace these matches with other strings.\n",
    "\n",
    "`sub()` function basically takes three arguments: pattern, replacement, and x. \n",
    "\n",
    "```r\n",
    "sub(pattern = <regex>, replacement = <str>, x = <str>)\n",
    "```"
   ]
  },
  {
   "cell_type": "code",
   "execution_count": 226,
   "id": "dbe10a8d-4db2-4e06-be5d-cc643efd60a1",
   "metadata": {},
   "outputs": [
    {
     "data": {
      "text/html": [
       "<ol class=list-inline>\n",
       "\t<li>'cot'</li>\n",
       "\t<li>'moose'</li>\n",
       "\t<li>'impola'</li>\n",
       "\t<li>'ont'</li>\n",
       "\t<li>'kiwi'</li>\n",
       "</ol>\n"
      ],
      "text/latex": [
       "\\begin{enumerate*}\n",
       "\\item 'cot'\n",
       "\\item 'moose'\n",
       "\\item 'impola'\n",
       "\\item 'ont'\n",
       "\\item 'kiwi'\n",
       "\\end{enumerate*}\n"
      ],
      "text/markdown": [
       "1. 'cot'\n",
       "2. 'moose'\n",
       "3. 'impola'\n",
       "4. 'ont'\n",
       "5. 'kiwi'\n",
       "\n",
       "\n"
      ],
      "text/plain": [
       "[1] \"cot\"    \"moose\"  \"impola\" \"ont\"    \"kiwi\"  "
      ]
     },
     "metadata": {},
     "output_type": "display_data"
    }
   ],
   "source": [
    "sub(pattern = 'a', replacement = 'o', x = animals)"
   ]
  },
  {
   "cell_type": "markdown",
   "id": "4b4430e1-4259-4f74-8544-5d3e76f82bc5",
   "metadata": {},
   "source": [
    "As expect, the \"cat\" string gets converted to \"cot\", so the \"a\" is replaced with an \"o\". In \"moose\" there were no \"a\"'s so nothing got replaced. \n",
    "\n",
    "In \"impala\" however, there are two \"a\"s, but only the first \"a\" has been replaced with an \"o\", because the `sub()` function **only looks for the first match in the string**, and if it finds it, replaces it with the replacement argument, and immediately stops looking. \n",
    "\n",
    "If want to replace every single match of a pattern in a string with the replacement argument, you should try the `gsub()` function instead."
   ]
  },
  {
   "cell_type": "code",
   "execution_count": 227,
   "id": "4c04522b-91ed-4980-9af3-99b0650a6fd0",
   "metadata": {},
   "outputs": [
    {
     "data": {
      "text/html": [
       "<ol class=list-inline>\n",
       "\t<li>'cot'</li>\n",
       "\t<li>'moose'</li>\n",
       "\t<li>'impolo'</li>\n",
       "\t<li>'ont'</li>\n",
       "\t<li>'kiwi'</li>\n",
       "</ol>\n"
      ],
      "text/latex": [
       "\\begin{enumerate*}\n",
       "\\item 'cot'\n",
       "\\item 'moose'\n",
       "\\item 'impolo'\n",
       "\\item 'ont'\n",
       "\\item 'kiwi'\n",
       "\\end{enumerate*}\n"
      ],
      "text/markdown": [
       "1. 'cot'\n",
       "2. 'moose'\n",
       "3. 'impolo'\n",
       "4. 'ont'\n",
       "5. 'kiwi'\n",
       "\n",
       "\n"
      ],
      "text/plain": [
       "[1] \"cot\"    \"moose\"  \"impolo\" \"ont\"    \"kiwi\"  "
      ]
     },
     "metadata": {},
     "output_type": "display_data"
    }
   ],
   "source": [
    "gsub(pattern = 'a', replacement = 'o', x = animals)"
   ]
  },
  {
   "cell_type": "markdown",
   "id": "ea919b47-ebe1-4633-bc84-94c0398ea586",
   "metadata": {},
   "source": [
    "There is one last metacharacter, the vertical bar(`|`) or the `OR` metacharacter. Its meaning is quite similar to the `or` operator to combine logicals.\n",
    "\n",
    "For example, want to replace every \"a\" or \"i\" with an underscore(`_`) for the animals character vector. It is straightforward to use the pattern \"a\" vertical bar(`|`) \"i\" inside `gsub`."
   ]
  },
  {
   "cell_type": "code",
   "execution_count": 228,
   "id": "ea9c88d3-895e-43bb-9561-c0491158b2e1",
   "metadata": {},
   "outputs": [
    {
     "data": {
      "text/html": [
       "<ol class=list-inline>\n",
       "\t<li>'c_t'</li>\n",
       "\t<li>'moose'</li>\n",
       "\t<li>'_mp_l_'</li>\n",
       "\t<li>'_nt'</li>\n",
       "\t<li>'k_w_'</li>\n",
       "</ol>\n"
      ],
      "text/latex": [
       "\\begin{enumerate*}\n",
       "\\item 'c\\_t'\n",
       "\\item 'moose'\n",
       "\\item '\\_mp\\_l\\_'\n",
       "\\item '\\_nt'\n",
       "\\item 'k\\_w\\_'\n",
       "\\end{enumerate*}\n"
      ],
      "text/markdown": [
       "1. 'c_t'\n",
       "2. 'moose'\n",
       "3. '_mp_l_'\n",
       "4. '_nt'\n",
       "5. 'k_w_'\n",
       "\n",
       "\n"
      ],
      "text/plain": [
       "[1] \"c_t\"    \"moose\"  \"_mp_l_\" \"_nt\"    \"k_w_\"  "
      ]
     },
     "metadata": {},
     "output_type": "display_data"
    }
   ],
   "source": [
    "gsub(pattern = 'a|i', replacement = '_', x = animals)"
   ]
  },
  {
   "cell_type": "code",
   "execution_count": 229,
   "id": "66eff645-6469-4a39-b417-3b38bd67392b",
   "metadata": {},
   "outputs": [
    {
     "data": {
      "text/html": [
       "<ol class=list-inline>\n",
       "\t<li>'c_t'</li>\n",
       "\t<li>'m__se'</li>\n",
       "\t<li>'_mp_l_'</li>\n",
       "\t<li>'_nt'</li>\n",
       "\t<li>'k_w_'</li>\n",
       "</ol>\n"
      ],
      "text/latex": [
       "\\begin{enumerate*}\n",
       "\\item 'c\\_t'\n",
       "\\item 'm\\_\\_se'\n",
       "\\item '\\_mp\\_l\\_'\n",
       "\\item '\\_nt'\n",
       "\\item 'k\\_w\\_'\n",
       "\\end{enumerate*}\n"
      ],
      "text/markdown": [
       "1. 'c_t'\n",
       "2. 'm__se'\n",
       "3. '_mp_l_'\n",
       "4. '_nt'\n",
       "5. 'k_w_'\n",
       "\n",
       "\n"
      ],
      "text/plain": [
       "[1] \"c_t\"    \"m__se\"  \"_mp_l_\" \"_nt\"    \"k_w_\"  "
      ]
     },
     "metadata": {},
     "output_type": "display_data"
    }
   ],
   "source": [
    "gsub(pattern = 'a|i|o', replacement = '_', x = animals)"
   ]
  },
  {
   "cell_type": "markdown",
   "id": "2f180ef9-7799-4ffb-973a-60b67645524f",
   "metadata": {},
   "source": [
    "## Exercise"
   ]
  },
  {
   "cell_type": "code",
   "execution_count": 230,
   "id": "52d71c1f-3620-4d12-8441-f4e79f778cf0",
   "metadata": {},
   "outputs": [],
   "source": [
    "emails <- c(\"john.doe@ivyleague.edu\", \"education@world.gov\", \"dalai.lama@peace.org\",\n",
    "            \"invalid.edu\", \"quant@bigdatacollege.edu\", \"cookie.monster@sesame.tv\")"
   ]
  },
  {
   "cell_type": "code",
   "execution_count": 231,
   "id": "fb47127a-762e-4fbc-96b6-f4557319d682",
   "metadata": {},
   "outputs": [
    {
     "data": {
      "text/html": [
       "<ol class=list-inline>\n",
       "\t<li>TRUE</li>\n",
       "\t<li>TRUE</li>\n",
       "\t<li>FALSE</li>\n",
       "\t<li>TRUE</li>\n",
       "\t<li>TRUE</li>\n",
       "\t<li>FALSE</li>\n",
       "</ol>\n"
      ],
      "text/latex": [
       "\\begin{enumerate*}\n",
       "\\item TRUE\n",
       "\\item TRUE\n",
       "\\item FALSE\n",
       "\\item TRUE\n",
       "\\item TRUE\n",
       "\\item FALSE\n",
       "\\end{enumerate*}\n"
      ],
      "text/markdown": [
       "1. TRUE\n",
       "2. TRUE\n",
       "3. FALSE\n",
       "4. TRUE\n",
       "5. TRUE\n",
       "6. FALSE\n",
       "\n",
       "\n"
      ],
      "text/plain": [
       "[1]  TRUE  TRUE FALSE  TRUE  TRUE FALSE"
      ]
     },
     "metadata": {},
     "output_type": "display_data"
    }
   ],
   "source": [
    "# Use grepl() to match for \"edu\"\n",
    "grepl(pattern = 'edu', x = emails)"
   ]
  },
  {
   "cell_type": "code",
   "execution_count": 232,
   "id": "e6763d9d-73a3-48b4-94d1-c85134da40c3",
   "metadata": {},
   "outputs": [
    {
     "data": {
      "text/html": [
       "<ol class=list-inline>\n",
       "\t<li>'john.doe@ivyleague.edu'</li>\n",
       "\t<li>'education@world.gov'</li>\n",
       "\t<li>'invalid.edu'</li>\n",
       "\t<li>'quant@bigdatacollege.edu'</li>\n",
       "</ol>\n"
      ],
      "text/latex": [
       "\\begin{enumerate*}\n",
       "\\item 'john.doe@ivyleague.edu'\n",
       "\\item 'education@world.gov'\n",
       "\\item 'invalid.edu'\n",
       "\\item 'quant@bigdatacollege.edu'\n",
       "\\end{enumerate*}\n"
      ],
      "text/markdown": [
       "1. 'john.doe@ivyleague.edu'\n",
       "2. 'education@world.gov'\n",
       "3. 'invalid.edu'\n",
       "4. 'quant@bigdatacollege.edu'\n",
       "\n",
       "\n"
      ],
      "text/plain": [
       "[1] \"john.doe@ivyleague.edu\"   \"education@world.gov\"     \n",
       "[3] \"invalid.edu\"              \"quant@bigdatacollege.edu\""
      ]
     },
     "metadata": {},
     "output_type": "display_data"
    }
   ],
   "source": [
    "# Use grep() to match for \"edu\", save result to hits\n",
    "hits <- grep(pattern = 'edu', x = emails)\n",
    "\n",
    "# Subset emails using hits\n",
    "emails[hits]"
   ]
  },
  {
   "cell_type": "code",
   "execution_count": 236,
   "id": "878a4486-f87c-44ae-afb0-b6c3227325cd",
   "metadata": {},
   "outputs": [
    {
     "data": {
      "text/html": [
       "<ol class=list-inline>\n",
       "\t<li>TRUE</li>\n",
       "\t<li>FALSE</li>\n",
       "\t<li>FALSE</li>\n",
       "\t<li>FALSE</li>\n",
       "\t<li>TRUE</li>\n",
       "\t<li>FALSE</li>\n",
       "</ol>\n"
      ],
      "text/latex": [
       "\\begin{enumerate*}\n",
       "\\item TRUE\n",
       "\\item FALSE\n",
       "\\item FALSE\n",
       "\\item FALSE\n",
       "\\item TRUE\n",
       "\\item FALSE\n",
       "\\end{enumerate*}\n"
      ],
      "text/markdown": [
       "1. TRUE\n",
       "2. FALSE\n",
       "3. FALSE\n",
       "4. FALSE\n",
       "5. TRUE\n",
       "6. FALSE\n",
       "\n",
       "\n"
      ],
      "text/plain": [
       "[1]  TRUE FALSE FALSE FALSE  TRUE FALSE"
      ]
     },
     "metadata": {},
     "output_type": "display_data"
    },
    {
     "data": {
      "text/html": [
       "<ol class=list-inline>\n",
       "\t<li>'john.doe@ivyleague.edu'</li>\n",
       "\t<li>'quant@bigdatacollege.edu'</li>\n",
       "</ol>\n"
      ],
      "text/latex": [
       "\\begin{enumerate*}\n",
       "\\item 'john.doe@ivyleague.edu'\n",
       "\\item 'quant@bigdatacollege.edu'\n",
       "\\end{enumerate*}\n"
      ],
      "text/markdown": [
       "1. 'john.doe@ivyleague.edu'\n",
       "2. 'quant@bigdatacollege.edu'\n",
       "\n",
       "\n"
      ],
      "text/plain": [
       "[1] \"john.doe@ivyleague.edu\"   \"quant@bigdatacollege.edu\""
      ]
     },
     "metadata": {},
     "output_type": "display_data"
    }
   ],
   "source": [
    "# Use grepl() to match for .edu addresses more robustly\n",
    "grepl(pattern = '@.*\\\\.edu', x = emails)\n",
    "\n",
    "# Use grep() to match for .edu addresses more robustly, save result to hits\n",
    "hits <- grep(pattern = '@.*\\\\.edu', x = emails)\n",
    "\n",
    "# Subset emails using hits\n",
    "emails[hits]"
   ]
  },
  {
   "cell_type": "code",
   "execution_count": 237,
   "id": "ebb43615-847a-46c7-a1d0-c91b4f8e0f41",
   "metadata": {},
   "outputs": [
    {
     "data": {
      "text/html": [
       "<ol class=list-inline>\n",
       "\t<li>'john.doe@datacamp.edu'</li>\n",
       "\t<li>'education@world.gov'</li>\n",
       "\t<li>'dalai.lama@peace.org'</li>\n",
       "\t<li>'invalid.edu'</li>\n",
       "\t<li>'quant@datacamp.edu'</li>\n",
       "\t<li>'cookie.monster@sesame.tv'</li>\n",
       "</ol>\n"
      ],
      "text/latex": [
       "\\begin{enumerate*}\n",
       "\\item 'john.doe@datacamp.edu'\n",
       "\\item 'education@world.gov'\n",
       "\\item 'dalai.lama@peace.org'\n",
       "\\item 'invalid.edu'\n",
       "\\item 'quant@datacamp.edu'\n",
       "\\item 'cookie.monster@sesame.tv'\n",
       "\\end{enumerate*}\n"
      ],
      "text/markdown": [
       "1. 'john.doe@datacamp.edu'\n",
       "2. 'education@world.gov'\n",
       "3. 'dalai.lama@peace.org'\n",
       "4. 'invalid.edu'\n",
       "5. 'quant@datacamp.edu'\n",
       "6. 'cookie.monster@sesame.tv'\n",
       "\n",
       "\n"
      ],
      "text/plain": [
       "[1] \"john.doe@datacamp.edu\"    \"education@world.gov\"     \n",
       "[3] \"dalai.lama@peace.org\"     \"invalid.edu\"             \n",
       "[5] \"quant@datacamp.edu\"       \"cookie.monster@sesame.tv\""
      ]
     },
     "metadata": {},
     "output_type": "display_data"
    }
   ],
   "source": [
    "# Use sub() to convert the email domains to datacamp.edu\n",
    "sub(pattern = '@.*\\\\.edu$', '@datacamp.edu', x = emails)"
   ]
  },
  {
   "cell_type": "markdown",
   "id": "e208af2c-437f-47e8-a41f-211497c59a75",
   "metadata": {},
   "source": [
    "*Notice how only the valid .edu addresses are changed while the other emails remain unchanged.* "
   ]
  },
  {
   "cell_type": "markdown",
   "id": "ee3a8855-c6b1-4d11-9e7e-4dcbbea174ad",
   "metadata": {},
   "source": [
    "Regular expressions are a typical concept that can be learned by doing and by seeing other examples.\n",
    "\n",
    "- `.*`: It can be read as \"any character that is matched zero or more times\".\n",
    "- `\\\\s`: Match a space. The \"s\" is normally a character, escaping it (`\\\\`) makes it a metacharacter.\n",
    "- `[0-9]+`: Match the numbers 0 to 9, at least once (+).\n",
    "- `([0-9]+)`: The parentheses are used to make parts of the matching string available to define the replacement. The `\\\\1` in the `replacement` argument of `sub()` gets set to the string that is captured by the regular expression `[0-9]+`."
   ]
  },
  {
   "cell_type": "code",
   "execution_count": 238,
   "id": "c01dff6d-a965-4ab5-afa5-a601929aca2e",
   "metadata": {},
   "outputs": [
    {
     "data": {
      "text/html": [
       "<ol class=list-inline>\n",
       "\t<li>'Won 1 Oscar.'</li>\n",
       "\t<li>'24'</li>\n",
       "\t<li>'2'</li>\n",
       "\t<li>'3'</li>\n",
       "\t<li>'2'</li>\n",
       "\t<li>'1'</li>\n",
       "</ol>\n"
      ],
      "text/latex": [
       "\\begin{enumerate*}\n",
       "\\item 'Won 1 Oscar.'\n",
       "\\item '24'\n",
       "\\item '2'\n",
       "\\item '3'\n",
       "\\item '2'\n",
       "\\item '1'\n",
       "\\end{enumerate*}\n"
      ],
      "text/markdown": [
       "1. 'Won 1 Oscar.'\n",
       "2. '24'\n",
       "3. '2'\n",
       "4. '3'\n",
       "5. '2'\n",
       "6. '1'\n",
       "\n",
       "\n"
      ],
      "text/plain": [
       "[1] \"Won 1 Oscar.\" \"24\"           \"2\"            \"3\"            \"2\"           \n",
       "[6] \"1\"           "
      ]
     },
     "metadata": {},
     "output_type": "display_data"
    }
   ],
   "source": [
    "awards <- c(\"Won 1 Oscar.\",\n",
    "  \"Won 1 Oscar. Another 9 wins & 24 nominations.\",\n",
    "  \"1 win and 2 nominations.\",\n",
    "  \"2 wins & 3 nominations.\",\n",
    "  \"Nominated for 2 Golden Globes. 1 more win & 2 nominations.\",\n",
    "  \"4 wins & 1 nomination.\")\n",
    "\n",
    "sub(\".*\\\\s([0-9]+)\\\\snomination.*$\", \"\\\\1\", awards)"
   ]
  },
  {
   "cell_type": "markdown",
   "id": "49d7eb2d-7367-470f-80b8-28a530f305a4",
   "metadata": {},
   "source": [
    "The `([0-9]+)` selects the entire number that comes before the word `'nomination'` in the string, and the entire match gets replaced by this number because of the `\\\\1` that reference to the content inside the parentheses. "
   ]
  },
  {
   "cell_type": "markdown",
   "id": "9dea2ddf-f1ae-48be-9660-f15b799526d2",
   "metadata": {},
   "source": [
    "## Times & Dates"
   ]
  },
  {
   "cell_type": "code",
   "execution_count": 239,
   "id": "3caca4d1-f3e0-462f-96ab-456ed1e3dd2d",
   "metadata": {},
   "outputs": [
    {
     "data": {
      "text/html": [
       "<time datetime=\"2021-11-13\">2021-11-13</time>"
      ],
      "text/latex": [
       "2021-11-13"
      ],
      "text/markdown": [
       "2021-11-13"
      ],
      "text/plain": [
       "[1] \"2021-11-13\""
      ]
     },
     "metadata": {},
     "output_type": "display_data"
    }
   ],
   "source": [
    "today <- Sys.Date()\n",
    "today"
   ]
  },
  {
   "cell_type": "code",
   "execution_count": 240,
   "id": "e7b36ce6-e0c1-4dc5-9176-ff7b564aa2e4",
   "metadata": {},
   "outputs": [
    {
     "data": {
      "text/html": [
       "'Date'"
      ],
      "text/latex": [
       "'Date'"
      ],
      "text/markdown": [
       "'Date'"
      ],
      "text/plain": [
       "[1] \"Date\""
      ]
     },
     "metadata": {},
     "output_type": "display_data"
    }
   ],
   "source": [
    "class(today)"
   ]
  },
  {
   "cell_type": "code",
   "execution_count": 242,
   "id": "baa4f5e5-ef13-458b-ab0b-6caba9b6928e",
   "metadata": {},
   "outputs": [
    {
     "data": {
      "text/plain": [
       "[1] \"2021-11-13 21:54:33 EST\""
      ]
     },
     "metadata": {},
     "output_type": "display_data"
    }
   ],
   "source": [
    "now <- Sys.time()\n",
    "now"
   ]
  },
  {
   "cell_type": "code",
   "execution_count": 243,
   "id": "dd11a19f-9b22-4fa9-afaf-4f9de658192a",
   "metadata": {},
   "outputs": [
    {
     "data": {
      "text/html": [
       "<ol class=list-inline>\n",
       "\t<li>'POSIXct'</li>\n",
       "\t<li>'POSIXt'</li>\n",
       "</ol>\n"
      ],
      "text/latex": [
       "\\begin{enumerate*}\n",
       "\\item 'POSIXct'\n",
       "\\item 'POSIXt'\n",
       "\\end{enumerate*}\n"
      ],
      "text/markdown": [
       "1. 'POSIXct'\n",
       "2. 'POSIXt'\n",
       "\n",
       "\n"
      ],
      "text/plain": [
       "[1] \"POSIXct\" \"POSIXt\" "
      ]
     },
     "metadata": {},
     "output_type": "display_data"
    }
   ],
   "source": [
    "class(now)"
   ]
  },
  {
   "cell_type": "markdown",
   "id": "23578952-1358-4a04-acec-2d5d0ae5d0c3",
   "metadata": {},
   "source": [
    "The important class here is `POSIXct`. Apart from providing rich functionality for calculus and formatting, this class makes sure that the dates and times in R are compatible accross different operating systems, according to the `POSIX` standard."
   ]
  },
  {
   "cell_type": "code",
   "execution_count": 244,
   "id": "36fd4c4f-8362-4026-ab9c-58628bbe1bc0",
   "metadata": {},
   "outputs": [
    {
     "data": {
      "text/html": [
       "<time datetime=\"1971-05-14\">1971-05-14</time>"
      ],
      "text/latex": [
       "1971-05-14"
      ],
      "text/markdown": [
       "1971-05-14"
      ],
      "text/plain": [
       "[1] \"1971-05-14\""
      ]
     },
     "metadata": {},
     "output_type": "display_data"
    }
   ],
   "source": [
    "my_date <- as.Date('1971-05-14')\n",
    "my_date"
   ]
  },
  {
   "cell_type": "code",
   "execution_count": 246,
   "id": "63fdb66c-6099-410f-be50-bdde8a6bec85",
   "metadata": {},
   "outputs": [
    {
     "data": {
      "text/html": [
       "'Date'"
      ],
      "text/latex": [
       "'Date'"
      ],
      "text/markdown": [
       "'Date'"
      ],
      "text/plain": [
       "[1] \"Date\""
      ]
     },
     "metadata": {},
     "output_type": "display_data"
    }
   ],
   "source": [
    "class(my_date)"
   ]
  },
  {
   "cell_type": "code",
   "execution_count": 247,
   "id": "7fb56953-e5c3-481d-97f3-b7e65a86127b",
   "metadata": {},
   "outputs": [
    {
     "ename": "ERROR",
     "evalue": "Error in charToDate(x): character string is not in a standard unambiguous format\n",
     "output_type": "error",
     "traceback": [
      "Error in charToDate(x): character string is not in a standard unambiguous format\nTraceback:\n",
      "1. as.Date(\"1971-14-05\")",
      "2. as.Date.character(\"1971-14-05\")",
      "3. charToDate(x)",
      "4. stop(\"character string is not in a standard unambiguous format\")"
     ]
    }
   ],
   "source": [
    "my_date <- as.Date('1971-14-05')"
   ]
  },
  {
   "cell_type": "markdown",
   "id": "0d6352f2-600a-4aeb-a609-77e9f9cb4b01",
   "metadata": {},
   "source": [
    "For the second example, R failed because the date couldn't be inferred. \n",
    "\n",
    "This can be fixed by setting the format argument of `as.Date()` explicitly."
   ]
  },
  {
   "cell_type": "code",
   "execution_count": 248,
   "id": "3d3d6948-0d9d-4180-a3f4-98912a1040a9",
   "metadata": {},
   "outputs": [
    {
     "data": {
      "text/html": [
       "<time datetime=\"1971-05-14\">1971-05-14</time>"
      ],
      "text/latex": [
       "1971-05-14"
      ],
      "text/markdown": [
       "1971-05-14"
      ],
      "text/plain": [
       "[1] \"1971-05-14\""
      ]
     },
     "metadata": {},
     "output_type": "display_data"
    }
   ],
   "source": [
    "my_date <- as.Date('1971-14-05', format = '%Y-%d-%m')\n",
    "my_date"
   ]
  },
  {
   "cell_type": "code",
   "execution_count": 249,
   "id": "a2a0051b-bd71-41d3-86fd-fae4787a06a2",
   "metadata": {},
   "outputs": [
    {
     "data": {
      "text/plain": [
       "[1] \"1971-05-14 11:25:15 EDT\""
      ]
     },
     "metadata": {},
     "output_type": "display_data"
    }
   ],
   "source": [
    "my_time <- as.POSIXct('1971-05-14 11:25:15')\n",
    "my_time"
   ]
  },
  {
   "cell_type": "markdown",
   "id": "9e94a89e-7ead-4539-9d43-2498dcdc6ec7",
   "metadata": {},
   "source": [
    "The cool thing about R objects from the Date and POSIXct classes is that they can be calculated with them."
   ]
  },
  {
   "cell_type": "code",
   "execution_count": 250,
   "id": "96e28ea6-bb22-406e-9812-7ef8a3b81ac8",
   "metadata": {},
   "outputs": [
    {
     "data": {
      "text/html": [
       "<time datetime=\"1971-05-14\">1971-05-14</time>"
      ],
      "text/latex": [
       "1971-05-14"
      ],
      "text/markdown": [
       "1971-05-14"
      ],
      "text/plain": [
       "[1] \"1971-05-14\""
      ]
     },
     "metadata": {},
     "output_type": "display_data"
    }
   ],
   "source": [
    "my_date"
   ]
  },
  {
   "cell_type": "code",
   "execution_count": 251,
   "id": "7fd34fa5-5439-471d-9698-5366cdde9f23",
   "metadata": {},
   "outputs": [
    {
     "data": {
      "text/html": [
       "<time datetime=\"1971-05-15\">1971-05-15</time>"
      ],
      "text/latex": [
       "1971-05-15"
      ],
      "text/markdown": [
       "1971-05-15"
      ],
      "text/plain": [
       "[1] \"1971-05-15\""
      ]
     },
     "metadata": {},
     "output_type": "display_data"
    }
   ],
   "source": [
    "my_date + 1"
   ]
  },
  {
   "cell_type": "code",
   "execution_count": 252,
   "id": "a4c38223-42d2-492b-9490-5f6f6cda7141",
   "metadata": {},
   "outputs": [
    {
     "data": {
      "text/plain": [
       "Time difference of 10000 days"
      ]
     },
     "metadata": {},
     "output_type": "display_data"
    }
   ],
   "source": [
    "my_date2 <- as.Date('1998-09-29')\n",
    "my_date2 - my_date"
   ]
  },
  {
   "cell_type": "code",
   "execution_count": 253,
   "id": "5b485b20-c5a4-4dec-8602-8fb212fbf717",
   "metadata": {},
   "outputs": [
    {
     "data": {
      "text/plain": [
       "[1] \"1971-05-14 11:25:15 EDT\""
      ]
     },
     "metadata": {},
     "output_type": "display_data"
    }
   ],
   "source": [
    "my_time"
   ]
  },
  {
   "cell_type": "code",
   "execution_count": 254,
   "id": "f9feaf4c-9a43-433a-9401-3a68c419e69e",
   "metadata": {},
   "outputs": [
    {
     "data": {
      "text/plain": [
       "[1] \"1971-05-14 11:25:16 EDT\""
      ]
     },
     "metadata": {},
     "output_type": "display_data"
    }
   ],
   "source": [
    "my_time + 1"
   ]
  },
  {
   "cell_type": "code",
   "execution_count": 255,
   "id": "f022e475-db9d-4c2c-be9c-a2c8bff253f4",
   "metadata": {},
   "outputs": [
    {
     "data": {
      "text/plain": [
       "Time difference of 1157.407 days"
      ]
     },
     "metadata": {},
     "output_type": "display_data"
    }
   ],
   "source": [
    "my_time2 <- as.POSIXct('1974-07-14 21:11:55')\n",
    "my_time2 - my_time"
   ]
  },
  {
   "cell_type": "code",
   "execution_count": 256,
   "id": "50871812-8562-4592-a5e0-3f167be1c871",
   "metadata": {},
   "outputs": [
    {
     "data": {
      "text/html": [
       "<time datetime=\"1971-05-14\">1971-05-14</time>"
      ],
      "text/latex": [
       "1971-05-14"
      ],
      "text/markdown": [
       "1971-05-14"
      ],
      "text/plain": [
       "[1] \"1971-05-14\""
      ]
     },
     "metadata": {},
     "output_type": "display_data"
    }
   ],
   "source": [
    "my_date"
   ]
  },
  {
   "cell_type": "code",
   "execution_count": 257,
   "id": "46ddd353-f88f-4eb4-9e2e-dbb6ad0233ec",
   "metadata": {},
   "outputs": [
    {
     "data": {
      "text/html": [
       "498"
      ],
      "text/latex": [
       "498"
      ],
      "text/markdown": [
       "498"
      ],
      "text/plain": [
       "[1] 498"
      ]
     },
     "metadata": {},
     "output_type": "display_data"
    }
   ],
   "source": [
    "unclass(my_date)"
   ]
  },
  {
   "cell_type": "markdown",
   "id": "c4cc5f20-cc9a-4b06-be2c-e1445832e23b",
   "metadata": {},
   "source": [
    "The number is 498, because the 14th of May in 1971 is exactly 498 days from the first of January in 1970."
   ]
  },
  {
   "cell_type": "code",
   "execution_count": 258,
   "id": "cc8b05cf-07cb-48ec-96f9-1518e78abef7",
   "metadata": {},
   "outputs": [
    {
     "data": {
      "text/plain": [
       "[1] \"1971-05-14 11:25:15 EDT\""
      ]
     },
     "metadata": {},
     "output_type": "display_data"
    }
   ],
   "source": [
    "my_time"
   ]
  },
  {
   "cell_type": "code",
   "execution_count": 259,
   "id": "ad274ea8-7388-4689-856b-d0ec04d4163e",
   "metadata": {},
   "outputs": [
    {
     "data": {
      "text/html": [
       "43082715"
      ],
      "text/latex": [
       "43082715"
      ],
      "text/markdown": [
       "43082715"
      ],
      "text/plain": [
       "[1] 43082715\n",
       "attr(,\"tzone\")\n",
       "[1] \"\""
      ]
     },
     "metadata": {},
     "output_type": "display_data"
    }
   ],
   "source": [
    "unclass(my_time)"
   ]
  },
  {
   "cell_type": "markdown",
   "id": "a06a8d25-b34c-4ad9-864d-92a61980d053",
   "metadata": {},
   "source": [
    " The same holds for the POSIXct objects, which are actually simple numerics that hold the number of seconds since the first of January in 1970 at midnight."
   ]
  },
  {
   "cell_type": "markdown",
   "id": "9d537c04-9955-4c47-a5a5-e2e36736f050",
   "metadata": {},
   "source": [
    "## Exercise"
   ]
  },
  {
   "cell_type": "code",
   "execution_count": 262,
   "id": "2c1786b4-d1f3-42ad-8fa9-8b5bbcde16ec",
   "metadata": {},
   "outputs": [
    {
     "data": {
      "text/html": [
       "18944"
      ],
      "text/latex": [
       "18944"
      ],
      "text/markdown": [
       "18944"
      ],
      "text/plain": [
       "[1] 18944"
      ]
     },
     "metadata": {},
     "output_type": "display_data"
    }
   ],
   "source": [
    "# Get the current date: today\n",
    "today <- Sys.Date()\n",
    "\n",
    "# See what today looks like under the hood\n",
    "unclass(today)"
   ]
  },
  {
   "cell_type": "code",
   "execution_count": 263,
   "id": "6ff2b3e1-d2e0-4e84-b28b-afb328c18637",
   "metadata": {},
   "outputs": [
    {
     "data": {
      "text/html": [
       "1636859341.61945"
      ],
      "text/latex": [
       "1636859341.61945"
      ],
      "text/markdown": [
       "1636859341.61945"
      ],
      "text/plain": [
       "[1] 1636859342"
      ]
     },
     "metadata": {},
     "output_type": "display_data"
    }
   ],
   "source": [
    "# Get the current time: now\n",
    "now <- Sys.time()\n",
    "\n",
    "# See what now looks like under the hood\n",
    "unclass(now)"
   ]
  },
  {
   "cell_type": "markdown",
   "id": "4f078b06-9891-4b84-a1cc-be0686cea896",
   "metadata": {},
   "source": [
    "To create a Date object from a simple character string in R, the character string has to obey a format that can be defined using a set of symbols (the examples correspond to 13 January, 1982):\n",
    "\n",
    "- `%Y`: 4-digit year (1982)\n",
    "- `%y`: 2-digit year (82)\n",
    "- `%m`: 2-digit month (01)\n",
    "- `%d`: 2-digit day of the month (13)\n",
    "- `%A`: weekday (Wednesday)\n",
    "- `%a`: abbreviated weekday (Wed)\n",
    "- `%B`: month (January)\n",
    "- `%b`: abbreviated month (Jan)"
   ]
  },
  {
   "cell_type": "markdown",
   "id": "947d8917-4bb7-4467-982f-a6d3ff06f6ca",
   "metadata": {},
   "source": [
    "```r\n",
    "today <- Sys.Date()\n",
    "format(Sys.Date(), format = \"%d %b, %Y\")\n",
    "format(Sys.Date(), format = \"Today is a %A!\")\n",
    "```\n",
    "```\n",
    "'14 November, 2021'\n",
    "'Today is a Sunday!'\n",
    "```\n",
    "\n",
    "```r\n",
    "# Definition of character strings representing dates\n",
    "str1 <- \"May 23, '96\"\n",
    "str2 <- \"2012-03-15\"\n",
    "str3 <- \"30/January/2006\"\n",
    "\n",
    "# Convert the strings to dates: date1, date2, date3\n",
    "date1 <- as.Date(str1, format = \"%b %d, '%y\")\n",
    "date2 <- as.Date(str2, format = \"%Y-%m-%d\")\n",
    "date3 <- as.Date(str3, format = \"%d/%B/%Y\")\n",
    "\n",
    "# Convert dates to formatted strings\n",
    "format(date1, \"%A\")\n",
    "format(date2, \"%d\")\n",
    "format(date3, \"%b %Y\")\n",
    "```\n",
    "```\n",
    "\"Thursday\"\n",
    "\"15\"\n",
    "\"Jan 2006\"\n",
    "```"
   ]
  },
  {
   "cell_type": "markdown",
   "id": "66bce485-9851-4bb2-a4fa-c24a000865e2",
   "metadata": {},
   "source": [
    "Similar to working with dates, `as.POSIXct()` can be used to convert from a character string to a `POSIXct` object, and `format()` to convert from a `POSIXct` object to a character string.\n",
    "\n",
    "- `%H`: hours as a decimal number (00-23)\n",
    "- `%I`: hours as a decimal number (01-12)\n",
    "- `%M`: minutes as a decimal number\n",
    "- `%S`: seconds as a decimal number\n",
    "- `%T`: shorthand notation for the typical format %H:%M:%S\n",
    "- `%p`: AM/PM indicator"
   ]
  },
  {
   "cell_type": "markdown",
   "id": "8035f108-1d77-47cd-882d-930453379999",
   "metadata": {},
   "source": [
    "```r\n",
    "# Definition of character strings representing times\n",
    "str1 <- \"May 23, '96 hours:23 minutes:01 seconds:45\"\n",
    "str2 <- \"2012-3-12 14:23:08\"\n",
    "\n",
    "# Convert the strings to POSIXct objects: time1, time2\n",
    "time1 <- as.POSIXct(str1, format = \"%B %d, '%y hours:%H minutes:%M seconds:%S\")\n",
    "time2 <- as.POSIXct(str2, format = \"%Y-%m-%d %H:%M:%S\")\n",
    "\n",
    "# Convert times to formatted strings\n",
    "format(time1, \"%M\")\n",
    "format(time2, \"%I:%M %p\")\n",
    "```\n",
    "```\n",
    "\"01\"\n",
    "\"02:23 PM\"\n",
    "```"
   ]
  },
  {
   "cell_type": "code",
   "execution_count": 272,
   "id": "3d0f14b2-37a3-4e89-92a6-27304143a5a5",
   "metadata": {},
   "outputs": [
    {
     "data": {
      "text/html": [
       "NA"
      ],
      "text/latex": [
       "NA"
      ],
      "text/markdown": [
       "NA"
      ],
      "text/plain": [
       "[1] NA"
      ]
     },
     "metadata": {},
     "output_type": "display_data"
    },
    {
     "data": {
      "text/html": [
       "'02:23 오후'"
      ],
      "text/latex": [
       "'02:23 오후'"
      ],
      "text/markdown": [
       "'02:23 오후'"
      ],
      "text/plain": [
       "[1] \"02:23 오후\""
      ]
     },
     "metadata": {},
     "output_type": "display_data"
    }
   ],
   "source": [
    "# Definition of character strings representing times\n",
    "str1 <- \"May 23, '96 hours:23 minutes:01 seconds:45\"\n",
    "str2 <- \"2012-3-12 14:23:08\"\n",
    "\n",
    "# Convert the strings to POSIXct objects: time1, time2\n",
    "time1 <- as.POSIXct(str1, format = \"%B %d, '%y hours:%H minutes:%M seconds:%S\")\n",
    "time2 <- as.POSIXct(str2, format = \"%Y-%m-%d %H:%M:%S\")\n",
    "\n",
    "# Convert times to formatted strings\n",
    "format(time1, \"%M\")\n",
    "format(time2, \"%I:%M %p\")"
   ]
  },
  {
   "cell_type": "code",
   "execution_count": 273,
   "id": "8774da87-3d94-45d6-bf1c-097e7b525037",
   "metadata": {},
   "outputs": [],
   "source": [
    "day1 <- as.Date(\"2021-10-27\")\n",
    "day2 <- as.Date(\"2021-10-29\")\n",
    "day3 <- as.Date(\"2021-11-03\")\n",
    "day4 <- as.Date(\"2021-11-09\")\n",
    "day5 <- as.Date(\"2021-11-14\")"
   ]
  },
  {
   "cell_type": "code",
   "execution_count": 279,
   "id": "0b22dae8-d256-4852-b485-d073eb575bd5",
   "metadata": {},
   "outputs": [
    {
     "data": {
      "text/plain": [
       "Time difference of 18 days"
      ]
     },
     "metadata": {},
     "output_type": "display_data"
    }
   ],
   "source": [
    "day5 - day1"
   ]
  },
  {
   "cell_type": "code",
   "execution_count": 274,
   "id": "2323ebeb-621e-4a10-a1ec-603a5e8e8a28",
   "metadata": {},
   "outputs": [],
   "source": [
    "# Create vector pizza\n",
    "pizza <- c(day1, day2, day3, day4, day5)"
   ]
  },
  {
   "cell_type": "code",
   "execution_count": 277,
   "id": "efb0d3a9-bf19-4b8c-8dca-8d8f8aede235",
   "metadata": {},
   "outputs": [
    {
     "data": {
      "text/plain": [
       "Time differences in days\n",
       "[1] 2 5 6 5"
      ]
     },
     "metadata": {},
     "output_type": "display_data"
    }
   ],
   "source": [
    "# Create differences between consecutive pizza days: day_diff\n",
    "day_diff <- diff(pizza)\n",
    "day_diff"
   ]
  },
  {
   "cell_type": "code",
   "execution_count": 278,
   "id": "1f2c81da-4b0c-43f3-aa76-f1dd0c096284",
   "metadata": {},
   "outputs": [
    {
     "data": {
      "text/plain": [
       "Time difference of 4.5 days"
      ]
     },
     "metadata": {},
     "output_type": "display_data"
    }
   ],
   "source": [
    "# Average period between two consecutive pizza days\n",
    "mean(day_diff)"
   ]
  },
  {
   "cell_type": "code",
   "execution_count": 285,
   "id": "d96181fb-36bb-4b9d-a54a-73e595378f55",
   "metadata": {},
   "outputs": [],
   "source": [
    "login1 <- as.POSIXct(\"2021-10-31 10:18:04 UTC\")\n",
    "login2 <- as.POSIXct(\"2021-11-05 09:14:18 UTC\")\n",
    "login3 <- as.POSIXct(\"2021-11-05 12:21:51 UTC\")\n",
    "login4 <- as.POSIXct(\"2021-11-05 12:37:24 UTC\")\n",
    "login5 <- as.POSIXct(\"2021-11-07 21:37:55 UTC\")\n",
    "\n",
    "logout1 <- as.POSIXct(\"2021-10-31 10:56:29 UTC\")\n",
    "logout2 <- as.POSIXct(\"2021-11-05 09:14:52 UTC\")\n",
    "logout3 <- as.POSIXct(\"2021-11-05 12:35:48 UTC\")\n",
    "logout4 <- as.POSIXct(\"2021-11-05 13:17:22 UTC\")\n",
    "logout5 <- as.POSIXct(\"2021-11-07 22:08:47 UTC\")\n",
    "\n",
    "login <- c(login1, login2, login3, login4, login5)\n",
    "logout <- c(logout1, logout2, logout3, logout4, logout5)"
   ]
  },
  {
   "cell_type": "code",
   "execution_count": 286,
   "id": "32570c54-35b5-4c55-9093-2f48c279baa0",
   "metadata": {},
   "outputs": [
    {
     "data": {
      "text/plain": [
       "Time differences in secs\n",
       "[1] 2305   34  837 2398 1852"
      ]
     },
     "metadata": {},
     "output_type": "display_data"
    }
   ],
   "source": [
    "# Calculate the difference between login and logout: time_online\n",
    "time_online = logout - login\n",
    "# Inspect the variable time_online\n",
    "time_online"
   ]
  },
  {
   "cell_type": "code",
   "execution_count": 287,
   "id": "0d56fd0a-caa2-4e04-82cd-bdbefd7fa14e",
   "metadata": {},
   "outputs": [
    {
     "data": {
      "text/plain": [
       "Time difference of 7426 secs"
      ]
     },
     "metadata": {},
     "output_type": "display_data"
    }
   ],
   "source": [
    "# Calculate the total time online\n",
    "sum(time_online)"
   ]
  },
  {
   "cell_type": "code",
   "execution_count": 288,
   "id": "f2543984-0ace-4180-9def-b62aaf665fb0",
   "metadata": {},
   "outputs": [
    {
     "data": {
      "text/plain": [
       "Time difference of 1485.2 secs"
      ]
     },
     "metadata": {},
     "output_type": "display_data"
    }
   ],
   "source": [
    "# Calculate the average time online\n",
    "mean(time_online)"
   ]
  },
  {
   "cell_type": "markdown",
   "id": "ea04438f-1054-4629-a9c3-b1c85e0ec8a4",
   "metadata": {},
   "source": [
    "A vector `astro` contains character strings representing the dates on which the 4 astronomical seasons start. Similarly, a vector `meteo` contains the meteorological beginnings of a season.\n",
    "\n",
    "```\n",
    "astro\n",
    "       spring        summer          fall        winter \n",
    "\"20-Mar-2015\" \"25-Jun-2015\" \"23-Sep-2015\" \"22-Dec-2015\" \n",
    "```\n",
    "\n",
    "```\n",
    "meteo\n",
    "       spring            summer              fall            winter \n",
    "\"March 1, 15\"      \"June 1, 15\" \"September 1, 15\"  \"December 1, 15\" \n",
    "```"
   ]
  },
  {
   "cell_type": "markdown",
   "id": "5f95f8eb-6881-4000-a679-6b76f6330289",
   "metadata": {},
   "source": [
    "```r\n",
    "# Convert astro to vector of Date objects: astro_dates\n",
    "astro_dates <- as.Date(astro, format = '%d-%b-%Y')\n",
    "\n",
    "# Convert meteo to vector of Date objects: meteo_dates\n",
    "meteo_dates <- as.Date(meteo, format = '%B %d, %y')\n",
    "\n",
    "# Calculate the maximum absolute difference between astro_dates and meteo_dates\n",
    "max(abs(astro_dates - meteo_dates))\n",
    "```\n",
    "```\n",
    "Time difference of 24 days\n",
    "```"
   ]
  }
 ],
 "metadata": {
  "kernelspec": {
   "display_name": "R",
   "language": "R",
   "name": "ir"
  },
  "language_info": {
   "codemirror_mode": "r",
   "file_extension": ".r",
   "mimetype": "text/x-r-source",
   "name": "R",
   "pygments_lexer": "r",
   "version": "3.6.1"
  }
 },
 "nbformat": 4,
 "nbformat_minor": 5
}
