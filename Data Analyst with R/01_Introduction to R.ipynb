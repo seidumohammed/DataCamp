{
 "cells": [
  {
   "cell_type": "code",
   "execution_count": 1,
   "id": "b042a632-a2e1-4106-acf9-35921038a3ec",
   "metadata": {},
   "outputs": [],
   "source": [
    "# Poker winnings from Monday to Friday\n",
    "poker_vector <- c(140, -50, 20, -120, 240)\n",
    "\n",
    "# Roulette winnings from Monday to Friday\n",
    "roulette_vector <- c(-24, -50, 100, -350, 10)"
   ]
  },
  {
   "cell_type": "code",
   "execution_count": 3,
   "id": "271f8cf0-60cb-41de-bad0-1363ab47693d",
   "metadata": {},
   "outputs": [],
   "source": [
    "# Assign days as names of poker_vector\n",
    "names(poker_vector) <- c(\"Monday\", \"Tuesday\", \"Wednesday\", \"Thursday\", \"Friday\")\n",
    "\n",
    "# Assign days as names of roulette_vector\n",
    "names(roulette_vector) <- c(\"Monday\", \"Tuesday\", \"Wednesday\", \"Thursday\", \"Friday\")"
   ]
  },
  {
   "cell_type": "code",
   "execution_count": 5,
   "id": "f1191770-6ced-4552-8c65-21119b9b8b45",
   "metadata": {},
   "outputs": [
    {
     "data": {
      "text/html": [
       "<dl class=dl-horizontal>\n",
       "\t<dt>Monday</dt>\n",
       "\t\t<dd>140</dd>\n",
       "\t<dt>Tuesday</dt>\n",
       "\t\t<dd>-50</dd>\n",
       "\t<dt>Wednesday</dt>\n",
       "\t\t<dd>20</dd>\n",
       "\t<dt>Thursday</dt>\n",
       "\t\t<dd>-120</dd>\n",
       "\t<dt>Friday</dt>\n",
       "\t\t<dd>240</dd>\n",
       "</dl>\n"
      ],
      "text/latex": [
       "\\begin{description*}\n",
       "\\item[Monday] 140\n",
       "\\item[Tuesday] -50\n",
       "\\item[Wednesday] 20\n",
       "\\item[Thursday] -120\n",
       "\\item[Friday] 240\n",
       "\\end{description*}\n"
      ],
      "text/markdown": [
       "Monday\n",
       ":   140Tuesday\n",
       ":   -50Wednesday\n",
       ":   20Thursday\n",
       ":   -120Friday\n",
       ":   240\n",
       "\n"
      ],
      "text/plain": [
       "   Monday   Tuesday Wednesday  Thursday    Friday \n",
       "      140       -50        20      -120       240 "
      ]
     },
     "metadata": {},
     "output_type": "display_data"
    }
   ],
   "source": [
    "poker_vector"
   ]
  },
  {
   "cell_type": "code",
   "execution_count": 6,
   "id": "ef2ddb93-3a6e-4e33-a545-c155b1b267a8",
   "metadata": {},
   "outputs": [
    {
     "data": {
      "text/html": [
       "<dl class=dl-horizontal>\n",
       "\t<dt>Monday</dt>\n",
       "\t\t<dd>-24</dd>\n",
       "\t<dt>Tuesday</dt>\n",
       "\t\t<dd>-50</dd>\n",
       "\t<dt>Wednesday</dt>\n",
       "\t\t<dd>100</dd>\n",
       "\t<dt>Thursday</dt>\n",
       "\t\t<dd>-350</dd>\n",
       "\t<dt>Friday</dt>\n",
       "\t\t<dd>10</dd>\n",
       "</dl>\n"
      ],
      "text/latex": [
       "\\begin{description*}\n",
       "\\item[Monday] -24\n",
       "\\item[Tuesday] -50\n",
       "\\item[Wednesday] 100\n",
       "\\item[Thursday] -350\n",
       "\\item[Friday] 10\n",
       "\\end{description*}\n"
      ],
      "text/markdown": [
       "Monday\n",
       ":   -24Tuesday\n",
       ":   -50Wednesday\n",
       ":   100Thursday\n",
       ":   -350Friday\n",
       ":   10\n",
       "\n"
      ],
      "text/plain": [
       "   Monday   Tuesday Wednesday  Thursday    Friday \n",
       "      -24       -50       100      -350        10 "
      ]
     },
     "metadata": {},
     "output_type": "display_data"
    }
   ],
   "source": [
    "roulette_vector"
   ]
  },
  {
   "cell_type": "code",
   "execution_count": 7,
   "id": "565d9c15-15c7-451d-ab56-45b918fd1497",
   "metadata": {},
   "outputs": [],
   "source": [
    "# Poker winnings from Monday to Friday\n",
    "poker_vector <- c(140, -50, 20, -120, 240)\n",
    "\n",
    "# Roulette winnings from Monday to Friday\n",
    "roulette_vector <- c(-24, -50, 100, -350, 10)\n",
    "\n",
    "# The variable days_vector\n",
    "days_vector <- c(\"Monday\", \"Tuesday\", \"Wednesday\", \"Thursday\", \"Friday\")\n",
    " \n",
    "# Assign the names of the day to roulette_vector and poker_vector\n",
    "names(poker_vector) <- days_vector\n",
    "names(roulette_vector) <- days_vector"
   ]
  },
  {
   "cell_type": "code",
   "execution_count": 8,
   "id": "f7c20556-dd09-484d-9328-b463bdd8e4ea",
   "metadata": {},
   "outputs": [
    {
     "data": {
      "text/html": [
       "<dl class=dl-horizontal>\n",
       "\t<dt>Monday</dt>\n",
       "\t\t<dd>140</dd>\n",
       "\t<dt>Tuesday</dt>\n",
       "\t\t<dd>-50</dd>\n",
       "\t<dt>Wednesday</dt>\n",
       "\t\t<dd>20</dd>\n",
       "\t<dt>Thursday</dt>\n",
       "\t\t<dd>-120</dd>\n",
       "\t<dt>Friday</dt>\n",
       "\t\t<dd>240</dd>\n",
       "</dl>\n"
      ],
      "text/latex": [
       "\\begin{description*}\n",
       "\\item[Monday] 140\n",
       "\\item[Tuesday] -50\n",
       "\\item[Wednesday] 20\n",
       "\\item[Thursday] -120\n",
       "\\item[Friday] 240\n",
       "\\end{description*}\n"
      ],
      "text/markdown": [
       "Monday\n",
       ":   140Tuesday\n",
       ":   -50Wednesday\n",
       ":   20Thursday\n",
       ":   -120Friday\n",
       ":   240\n",
       "\n"
      ],
      "text/plain": [
       "   Monday   Tuesday Wednesday  Thursday    Friday \n",
       "      140       -50        20      -120       240 "
      ]
     },
     "metadata": {},
     "output_type": "display_data"
    }
   ],
   "source": [
    "poker_vector"
   ]
  },
  {
   "cell_type": "code",
   "execution_count": 9,
   "id": "2f4bb31a-d8b5-461b-9c82-d935ccafe39c",
   "metadata": {},
   "outputs": [
    {
     "data": {
      "text/html": [
       "<dl class=dl-horizontal>\n",
       "\t<dt>Monday</dt>\n",
       "\t\t<dd>-24</dd>\n",
       "\t<dt>Tuesday</dt>\n",
       "\t\t<dd>-50</dd>\n",
       "\t<dt>Wednesday</dt>\n",
       "\t\t<dd>100</dd>\n",
       "\t<dt>Thursday</dt>\n",
       "\t\t<dd>-350</dd>\n",
       "\t<dt>Friday</dt>\n",
       "\t\t<dd>10</dd>\n",
       "</dl>\n"
      ],
      "text/latex": [
       "\\begin{description*}\n",
       "\\item[Monday] -24\n",
       "\\item[Tuesday] -50\n",
       "\\item[Wednesday] 100\n",
       "\\item[Thursday] -350\n",
       "\\item[Friday] 10\n",
       "\\end{description*}\n"
      ],
      "text/markdown": [
       "Monday\n",
       ":   -24Tuesday\n",
       ":   -50Wednesday\n",
       ":   100Thursday\n",
       ":   -350Friday\n",
       ":   10\n",
       "\n"
      ],
      "text/plain": [
       "   Monday   Tuesday Wednesday  Thursday    Friday \n",
       "      -24       -50       100      -350        10 "
      ]
     },
     "metadata": {},
     "output_type": "display_data"
    }
   ],
   "source": [
    "roulette_vector"
   ]
  },
  {
   "cell_type": "code",
   "execution_count": 10,
   "id": "29a5abd2-e24d-4c6a-a8b8-826610cb871d",
   "metadata": {},
   "outputs": [
    {
     "data": {
      "text/html": [
       "<ol class=list-inline>\n",
       "\t<li>5</li>\n",
       "\t<li>7</li>\n",
       "\t<li>9</li>\n",
       "</ol>\n"
      ],
      "text/latex": [
       "\\begin{enumerate*}\n",
       "\\item 5\n",
       "\\item 7\n",
       "\\item 9\n",
       "\\end{enumerate*}\n"
      ],
      "text/markdown": [
       "1. 5\n",
       "2. 7\n",
       "3. 9\n",
       "\n",
       "\n"
      ],
      "text/plain": [
       "[1] 5 7 9"
      ]
     },
     "metadata": {},
     "output_type": "display_data"
    }
   ],
   "source": [
    "A_vector <- c(1, 2, 3)\n",
    "B_vector <- c(4, 5, 6)\n",
    "\n",
    "# Take the sum of A_vector and B_vector\n",
    "total_vector <-A_vector + B_vector\n",
    "  \n",
    "# Print out total_vector\n",
    "total_vector"
   ]
  },
  {
   "cell_type": "code",
   "execution_count": 11,
   "id": "13a20313-d5be-435f-88ce-e4faa31ef510",
   "metadata": {},
   "outputs": [
    {
     "data": {
      "text/html": [
       "<dl class=dl-horizontal>\n",
       "\t<dt>Monday</dt>\n",
       "\t\t<dd>116</dd>\n",
       "\t<dt>Tuesday</dt>\n",
       "\t\t<dd>-100</dd>\n",
       "\t<dt>Wednesday</dt>\n",
       "\t\t<dd>120</dd>\n",
       "\t<dt>Thursday</dt>\n",
       "\t\t<dd>-470</dd>\n",
       "\t<dt>Friday</dt>\n",
       "\t\t<dd>250</dd>\n",
       "</dl>\n"
      ],
      "text/latex": [
       "\\begin{description*}\n",
       "\\item[Monday] 116\n",
       "\\item[Tuesday] -100\n",
       "\\item[Wednesday] 120\n",
       "\\item[Thursday] -470\n",
       "\\item[Friday] 250\n",
       "\\end{description*}\n"
      ],
      "text/markdown": [
       "Monday\n",
       ":   116Tuesday\n",
       ":   -100Wednesday\n",
       ":   120Thursday\n",
       ":   -470Friday\n",
       ":   250\n",
       "\n"
      ],
      "text/plain": [
       "   Monday   Tuesday Wednesday  Thursday    Friday \n",
       "      116      -100       120      -470       250 "
      ]
     },
     "metadata": {},
     "output_type": "display_data"
    }
   ],
   "source": [
    "# Assign to total_daily how much you won/lost on each day\n",
    "total_daily <- poker_vector + roulette_vector\n",
    "total_daily"
   ]
  },
  {
   "cell_type": "code",
   "execution_count": 12,
   "id": "89a3c9bd-1743-4158-abdd-8a7cce28a97a",
   "metadata": {},
   "outputs": [
    {
     "data": {
      "text/html": [
       "-84"
      ],
      "text/latex": [
       "-84"
      ],
      "text/markdown": [
       "-84"
      ],
      "text/plain": [
       "[1] -84"
      ]
     },
     "metadata": {},
     "output_type": "display_data"
    }
   ],
   "source": [
    "# Poker and roulette winnings from Monday to Friday:\n",
    "poker_vector <- c(140, -50, 20, -120, 240)\n",
    "roulette_vector <- c(-24, -50, 100, -350, 10)\n",
    "days_vector <- c(\"Monday\", \"Tuesday\", \"Wednesday\", \"Thursday\", \"Friday\")\n",
    "names(poker_vector) <- days_vector\n",
    "names(roulette_vector) <- days_vector\n",
    "\n",
    "# Total winnings with poker\n",
    "total_poker <- sum(poker_vector)\n",
    "\n",
    "# Total winnings with roulette\n",
    "total_roulette <- sum(roulette_vector)\n",
    "\n",
    "# Total winnings overall\n",
    "total_week <-total_poker + total_roulette\n",
    "\n",
    "# Print out total_week\n",
    "total_week"
   ]
  },
  {
   "cell_type": "code",
   "execution_count": 13,
   "id": "8d3a1d22-9427-49aa-8d7a-834618855609",
   "metadata": {},
   "outputs": [
    {
     "data": {
      "text/html": [
       "TRUE"
      ],
      "text/latex": [
       "TRUE"
      ],
      "text/markdown": [
       "TRUE"
      ],
      "text/plain": [
       "[1] TRUE"
      ]
     },
     "metadata": {},
     "output_type": "display_data"
    }
   ],
   "source": [
    "# Check if you realized higher total gains in poker than in roulette \n",
    "total_poker > total_roulette"
   ]
  },
  {
   "cell_type": "code",
   "execution_count": 14,
   "id": "7a53150d-e136-40ce-862a-069fbc330015",
   "metadata": {},
   "outputs": [
    {
     "data": {
      "text/html": [
       "<strong>Wednesday:</strong> 20"
      ],
      "text/latex": [
       "\\textbf{Wednesday:} 20"
      ],
      "text/markdown": [
       "**Wednesday:** 20"
      ],
      "text/plain": [
       "Wednesday \n",
       "       20 "
      ]
     },
     "metadata": {},
     "output_type": "display_data"
    }
   ],
   "source": [
    "# Define a new variable based on a selection\n",
    "poker_wednesday <- poker_vector[3]\n",
    "poker_wednesday"
   ]
  },
  {
   "cell_type": "code",
   "execution_count": 15,
   "id": "08e7a576-0aca-42dc-b6d6-8e934a04eb08",
   "metadata": {},
   "outputs": [
    {
     "data": {
      "text/html": [
       "<dl class=dl-horizontal>\n",
       "\t<dt>Tuesday</dt>\n",
       "\t\t<dd>-50</dd>\n",
       "\t<dt>Wednesday</dt>\n",
       "\t\t<dd>20</dd>\n",
       "\t<dt>Thursday</dt>\n",
       "\t\t<dd>-120</dd>\n",
       "</dl>\n"
      ],
      "text/latex": [
       "\\begin{description*}\n",
       "\\item[Tuesday] -50\n",
       "\\item[Wednesday] 20\n",
       "\\item[Thursday] -120\n",
       "\\end{description*}\n"
      ],
      "text/markdown": [
       "Tuesday\n",
       ":   -50Wednesday\n",
       ":   20Thursday\n",
       ":   -120\n",
       "\n"
      ],
      "text/plain": [
       "  Tuesday Wednesday  Thursday \n",
       "      -50        20      -120 "
      ]
     },
     "metadata": {},
     "output_type": "display_data"
    }
   ],
   "source": [
    "# Define a new variable based on a selection\n",
    "poker_midweek <- poker_vector[c(2, 3, 4)]\n",
    "poker_midweek"
   ]
  },
  {
   "cell_type": "code",
   "execution_count": 16,
   "id": "1444c876-64b6-44d4-bb34-400fb993e54e",
   "metadata": {},
   "outputs": [
    {
     "data": {
      "text/html": [
       "<dl class=dl-horizontal>\n",
       "\t<dt>Tuesday</dt>\n",
       "\t\t<dd>-50</dd>\n",
       "\t<dt>Wednesday</dt>\n",
       "\t\t<dd>100</dd>\n",
       "\t<dt>Thursday</dt>\n",
       "\t\t<dd>-350</dd>\n",
       "\t<dt>Friday</dt>\n",
       "\t\t<dd>10</dd>\n",
       "</dl>\n"
      ],
      "text/latex": [
       "\\begin{description*}\n",
       "\\item[Tuesday] -50\n",
       "\\item[Wednesday] 100\n",
       "\\item[Thursday] -350\n",
       "\\item[Friday] 10\n",
       "\\end{description*}\n"
      ],
      "text/markdown": [
       "Tuesday\n",
       ":   -50Wednesday\n",
       ":   100Thursday\n",
       ":   -350Friday\n",
       ":   10\n",
       "\n"
      ],
      "text/plain": [
       "  Tuesday Wednesday  Thursday    Friday \n",
       "      -50       100      -350        10 "
      ]
     },
     "metadata": {},
     "output_type": "display_data"
    }
   ],
   "source": [
    "# Assign to roulette_selection_vector the roulette results from Tuesday up to Friday\n",
    "roulette_selection_vector <- roulette_vector[2:5]\n",
    "roulette_selection_vector"
   ]
  },
  {
   "cell_type": "code",
   "execution_count": 17,
   "id": "334ab35d-1878-4f5b-a306-674aac61290e",
   "metadata": {},
   "outputs": [
    {
     "data": {
      "text/html": [
       "36.6666666666667"
      ],
      "text/latex": [
       "36.6666666666667"
      ],
      "text/markdown": [
       "36.6666666666667"
      ],
      "text/plain": [
       "[1] 36.66667"
      ]
     },
     "metadata": {},
     "output_type": "display_data"
    }
   ],
   "source": [
    "# Select poker results for Monday, Tuesday and Wednesday\n",
    "poker_start <- poker_vector[c(\"Monday\", \"Tuesday\", \"Wednesday\")]\n",
    "  \n",
    "# Calculate the average of the elements in poker_start\n",
    "mean(poker_start)"
   ]
  },
  {
   "cell_type": "code",
   "execution_count": 18,
   "id": "0b43ca7f-adde-42d6-aaa9-548ade9b4d59",
   "metadata": {},
   "outputs": [
    {
     "data": {
      "text/html": [
       "<dl class=dl-horizontal>\n",
       "\t<dt>Monday</dt>\n",
       "\t\t<dd>TRUE</dd>\n",
       "\t<dt>Tuesday</dt>\n",
       "\t\t<dd>FALSE</dd>\n",
       "\t<dt>Wednesday</dt>\n",
       "\t\t<dd>TRUE</dd>\n",
       "\t<dt>Thursday</dt>\n",
       "\t\t<dd>FALSE</dd>\n",
       "\t<dt>Friday</dt>\n",
       "\t\t<dd>TRUE</dd>\n",
       "</dl>\n"
      ],
      "text/latex": [
       "\\begin{description*}\n",
       "\\item[Monday] TRUE\n",
       "\\item[Tuesday] FALSE\n",
       "\\item[Wednesday] TRUE\n",
       "\\item[Thursday] FALSE\n",
       "\\item[Friday] TRUE\n",
       "\\end{description*}\n"
      ],
      "text/markdown": [
       "Monday\n",
       ":   TRUETuesday\n",
       ":   FALSEWednesday\n",
       ":   TRUEThursday\n",
       ":   FALSEFriday\n",
       ":   TRUE\n",
       "\n"
      ],
      "text/plain": [
       "   Monday   Tuesday Wednesday  Thursday    Friday \n",
       "     TRUE     FALSE      TRUE     FALSE      TRUE "
      ]
     },
     "metadata": {},
     "output_type": "display_data"
    }
   ],
   "source": [
    "# Which days did you make money on poker?\n",
    "selection_vector <- poker_vector > 0\n",
    "  \n",
    "# Print out selection_vector\n",
    "selection_vector"
   ]
  },
  {
   "cell_type": "code",
   "execution_count": 19,
   "id": "b03bffdc-453f-4b2f-9cff-66495dc54bb6",
   "metadata": {},
   "outputs": [
    {
     "data": {
      "text/html": [
       "<dl class=dl-horizontal>\n",
       "\t<dt>Monday</dt>\n",
       "\t\t<dd>140</dd>\n",
       "\t<dt>Wednesday</dt>\n",
       "\t\t<dd>20</dd>\n",
       "\t<dt>Friday</dt>\n",
       "\t\t<dd>240</dd>\n",
       "</dl>\n"
      ],
      "text/latex": [
       "\\begin{description*}\n",
       "\\item[Monday] 140\n",
       "\\item[Wednesday] 20\n",
       "\\item[Friday] 240\n",
       "\\end{description*}\n"
      ],
      "text/markdown": [
       "Monday\n",
       ":   140Wednesday\n",
       ":   20Friday\n",
       ":   240\n",
       "\n"
      ],
      "text/plain": [
       "   Monday Wednesday    Friday \n",
       "      140        20       240 "
      ]
     },
     "metadata": {},
     "output_type": "display_data"
    }
   ],
   "source": [
    "# Select from poker_vector these days\n",
    "poker_winning_days <- poker_vector[selection_vector]\n",
    "poker_winning_days"
   ]
  },
  {
   "cell_type": "code",
   "execution_count": 20,
   "id": "9faf3721-0d7e-4c84-8e0d-8b2ffd421b45",
   "metadata": {},
   "outputs": [
    {
     "data": {
      "text/html": [
       "<dl class=dl-horizontal>\n",
       "\t<dt>Wednesday</dt>\n",
       "\t\t<dd>100</dd>\n",
       "\t<dt>Friday</dt>\n",
       "\t\t<dd>10</dd>\n",
       "</dl>\n"
      ],
      "text/latex": [
       "\\begin{description*}\n",
       "\\item[Wednesday] 100\n",
       "\\item[Friday] 10\n",
       "\\end{description*}\n"
      ],
      "text/markdown": [
       "Wednesday\n",
       ":   100Friday\n",
       ":   10\n",
       "\n"
      ],
      "text/plain": [
       "Wednesday    Friday \n",
       "      100        10 "
      ]
     },
     "metadata": {},
     "output_type": "display_data"
    }
   ],
   "source": [
    "# Which days did you make money on roulette?\n",
    "selection_vector <- roulette_vector > 0\n",
    "\n",
    "# Select from roulette_vector these days\n",
    "roulette_winning_days <- roulette_vector[selection_vector]\n",
    "roulette_winning_days"
   ]
  },
  {
   "cell_type": "markdown",
   "id": "41850b81-ae69-44a0-9a43-bbdb7dcc4b3a",
   "metadata": {},
   "source": [
    "---"
   ]
  },
  {
   "cell_type": "code",
   "execution_count": 21,
   "id": "f6a9d56b-ca53-4e53-85e5-6f2d2ef15ab3",
   "metadata": {},
   "outputs": [
    {
     "data": {
      "text/html": [
       "<table>\n",
       "<tbody>\n",
       "\t<tr><td>1</td><td>2</td><td>3</td></tr>\n",
       "\t<tr><td>4</td><td>5</td><td>6</td></tr>\n",
       "\t<tr><td>7</td><td>8</td><td>9</td></tr>\n",
       "</tbody>\n",
       "</table>\n"
      ],
      "text/latex": [
       "\\begin{tabular}{lll}\n",
       "\t 1 & 2 & 3\\\\\n",
       "\t 4 & 5 & 6\\\\\n",
       "\t 7 & 8 & 9\\\\\n",
       "\\end{tabular}\n"
      ],
      "text/markdown": [
       "\n",
       "| 1 | 2 | 3 |\n",
       "| 4 | 5 | 6 |\n",
       "| 7 | 8 | 9 |\n",
       "\n"
      ],
      "text/plain": [
       "     [,1] [,2] [,3]\n",
       "[1,] 1    2    3   \n",
       "[2,] 4    5    6   \n",
       "[3,] 7    8    9   "
      ]
     },
     "metadata": {},
     "output_type": "display_data"
    }
   ],
   "source": [
    "# Construct a matrix with 3 rows that contain the numbers 1 up to 9\n",
    "matrix(1:9, byrow=TRUE, nrow=3)"
   ]
  },
  {
   "cell_type": "code",
   "execution_count": 23,
   "id": "de5516bf-c193-4a80-a839-1853dc18984b",
   "metadata": {},
   "outputs": [
    {
     "data": {
      "text/html": [
       "<table>\n",
       "<tbody>\n",
       "\t<tr><td>460.998</td><td>314.4  </td></tr>\n",
       "\t<tr><td>290.475</td><td>247.9  </td></tr>\n",
       "\t<tr><td>309.306</td><td>165.8  </td></tr>\n",
       "</tbody>\n",
       "</table>\n"
      ],
      "text/latex": [
       "\\begin{tabular}{ll}\n",
       "\t 460.998 & 314.4  \\\\\n",
       "\t 290.475 & 247.9  \\\\\n",
       "\t 309.306 & 165.8  \\\\\n",
       "\\end{tabular}\n"
      ],
      "text/markdown": [
       "\n",
       "| 460.998 | 314.4   |\n",
       "| 290.475 | 247.9   |\n",
       "| 309.306 | 165.8   |\n",
       "\n"
      ],
      "text/plain": [
       "     [,1]    [,2] \n",
       "[1,] 460.998 314.4\n",
       "[2,] 290.475 247.9\n",
       "[3,] 309.306 165.8"
      ]
     },
     "metadata": {},
     "output_type": "display_data"
    }
   ],
   "source": [
    "# Box office Star Wars (in millions!)\n",
    "new_hope <- c(460.998, 314.4)\n",
    "empire_strikes <- c(290.475, 247.900)\n",
    "return_jedi <- c(309.306, 165.8)\n",
    "\n",
    "# Create box_office\n",
    "box_office <- c(new_hope, empire_strikes, return_jedi)\n",
    "\n",
    "# Construct star_wars_matrix\n",
    "star_wars_matrix <- matrix(box_office, byrow=TRUE, nrow=3)\n",
    "\n",
    "star_wars_matrix"
   ]
  },
  {
   "cell_type": "code",
   "execution_count": 25,
   "id": "9bdfa190-f536-4a6c-a0a8-80741baa5201",
   "metadata": {},
   "outputs": [
    {
     "data": {
      "text/html": [
       "<table>\n",
       "<thead><tr><th></th><th scope=col>US</th><th scope=col>non-US</th></tr></thead>\n",
       "<tbody>\n",
       "\t<tr><th scope=row>A New Hope</th><td>460.998</td><td>314.4  </td></tr>\n",
       "\t<tr><th scope=row>The Empire Strikes Back</th><td>290.475</td><td>247.9  </td></tr>\n",
       "\t<tr><th scope=row>Return of the Jedi</th><td>309.306</td><td>165.8  </td></tr>\n",
       "</tbody>\n",
       "</table>\n"
      ],
      "text/latex": [
       "\\begin{tabular}{r|ll}\n",
       "  & US & non-US\\\\\n",
       "\\hline\n",
       "\tA New Hope & 460.998 & 314.4  \\\\\n",
       "\tThe Empire Strikes Back & 290.475 & 247.9  \\\\\n",
       "\tReturn of the Jedi & 309.306 & 165.8  \\\\\n",
       "\\end{tabular}\n"
      ],
      "text/markdown": [
       "\n",
       "| <!--/--> | US | non-US |\n",
       "|---|---|---|\n",
       "| A New Hope | 460.998 | 314.4   |\n",
       "| The Empire Strikes Back | 290.475 | 247.9   |\n",
       "| Return of the Jedi | 309.306 | 165.8   |\n",
       "\n"
      ],
      "text/plain": [
       "                        US      non-US\n",
       "A New Hope              460.998 314.4 \n",
       "The Empire Strikes Back 290.475 247.9 \n",
       "Return of the Jedi      309.306 165.8 "
      ]
     },
     "metadata": {},
     "output_type": "display_data"
    }
   ],
   "source": [
    "# Vectors region and titles, used for naming\n",
    "region <- c(\"US\", \"non-US\")\n",
    "titles <- c(\"A New Hope\", \"The Empire Strikes Back\", \"Return of the Jedi\")\n",
    "\n",
    "# Name the columns with region\n",
    "colnames(star_wars_matrix) <- region\n",
    "\n",
    "# Name the rows with titles\n",
    "rownames(star_wars_matrix) <- titles\n",
    "\n",
    "# Print out star_wars_matrix\n",
    "star_wars_matrix"
   ]
  },
  {
   "cell_type": "code",
   "execution_count": 26,
   "id": "619dab0b-dc06-4245-aae3-ed3c45d6130f",
   "metadata": {},
   "outputs": [
    {
     "data": {
      "text/html": [
       "<dl class=dl-horizontal>\n",
       "\t<dt>A New Hope</dt>\n",
       "\t\t<dd>775.398</dd>\n",
       "\t<dt>The Empire Strikes Back</dt>\n",
       "\t\t<dd>538.375</dd>\n",
       "\t<dt>Return of the Jedi</dt>\n",
       "\t\t<dd>475.106</dd>\n",
       "</dl>\n"
      ],
      "text/latex": [
       "\\begin{description*}\n",
       "\\item[A New Hope] 775.398\n",
       "\\item[The Empire Strikes Back] 538.375\n",
       "\\item[Return of the Jedi] 475.106\n",
       "\\end{description*}\n"
      ],
      "text/markdown": [
       "A New Hope\n",
       ":   775.398The Empire Strikes Back\n",
       ":   538.375Return of the Jedi\n",
       ":   475.106\n",
       "\n"
      ],
      "text/plain": [
       "             A New Hope The Empire Strikes Back      Return of the Jedi \n",
       "                775.398                 538.375                 475.106 "
      ]
     },
     "metadata": {},
     "output_type": "display_data"
    }
   ],
   "source": [
    "# Calculate worldwide box office figures\n",
    "worldwide_vector <- rowSums(star_wars_matrix)\n",
    "\n",
    "worldwide_vector"
   ]
  },
  {
   "cell_type": "code",
   "execution_count": 27,
   "id": "c5c17551-74d2-4461-b631-772d06502b9f",
   "metadata": {},
   "outputs": [
    {
     "data": {
      "text/html": [
       "<table>\n",
       "<thead><tr><th></th><th scope=col>US</th><th scope=col>non-US</th><th scope=col>worldwide_vector</th></tr></thead>\n",
       "<tbody>\n",
       "\t<tr><th scope=row>A New Hope</th><td>460.998</td><td>314.4  </td><td>775.398</td></tr>\n",
       "\t<tr><th scope=row>The Empire Strikes Back</th><td>290.475</td><td>247.9  </td><td>538.375</td></tr>\n",
       "\t<tr><th scope=row>Return of the Jedi</th><td>309.306</td><td>165.8  </td><td>475.106</td></tr>\n",
       "</tbody>\n",
       "</table>\n"
      ],
      "text/latex": [
       "\\begin{tabular}{r|lll}\n",
       "  & US & non-US & worldwide\\_vector\\\\\n",
       "\\hline\n",
       "\tA New Hope & 460.998 & 314.4   & 775.398\\\\\n",
       "\tThe Empire Strikes Back & 290.475 & 247.9   & 538.375\\\\\n",
       "\tReturn of the Jedi & 309.306 & 165.8   & 475.106\\\\\n",
       "\\end{tabular}\n"
      ],
      "text/markdown": [
       "\n",
       "| <!--/--> | US | non-US | worldwide_vector |\n",
       "|---|---|---|---|\n",
       "| A New Hope | 460.998 | 314.4   | 775.398 |\n",
       "| The Empire Strikes Back | 290.475 | 247.9   | 538.375 |\n",
       "| Return of the Jedi | 309.306 | 165.8   | 475.106 |\n",
       "\n"
      ],
      "text/plain": [
       "                        US      non-US worldwide_vector\n",
       "A New Hope              460.998 314.4  775.398         \n",
       "The Empire Strikes Back 290.475 247.9  538.375         \n",
       "Return of the Jedi      309.306 165.8  475.106         "
      ]
     },
     "metadata": {},
     "output_type": "display_data"
    }
   ],
   "source": [
    "# Bind the new variable worldwide_vector as a column to star_wars_matrix\n",
    "all_wars_matrix <- cbind(star_wars_matrix, worldwide_vector)\n",
    "\n",
    "all_wars_matrix"
   ]
  },
  {
   "cell_type": "code",
   "execution_count": 28,
   "id": "d058c776-7caa-42ab-83e0-c7a3d8558d1d",
   "metadata": {},
   "outputs": [
    {
     "data": {
      "text/html": [
       "<table>\n",
       "<thead><tr><th></th><th scope=col>US</th><th scope=col>non-US</th></tr></thead>\n",
       "<tbody>\n",
       "\t<tr><th scope=row>The Phantom Menace</th><td>474.5</td><td>552.5</td></tr>\n",
       "\t<tr><th scope=row>Attack of the Clones</th><td>310.7</td><td>338.7</td></tr>\n",
       "\t<tr><th scope=row>Revenge of the Sith</th><td>380.3</td><td>468.5</td></tr>\n",
       "</tbody>\n",
       "</table>\n"
      ],
      "text/latex": [
       "\\begin{tabular}{r|ll}\n",
       "  & US & non-US\\\\\n",
       "\\hline\n",
       "\tThe Phantom Menace & 474.5 & 552.5\\\\\n",
       "\tAttack of the Clones & 310.7 & 338.7\\\\\n",
       "\tRevenge of the Sith & 380.3 & 468.5\\\\\n",
       "\\end{tabular}\n"
      ],
      "text/markdown": [
       "\n",
       "| <!--/--> | US | non-US |\n",
       "|---|---|---|\n",
       "| The Phantom Menace | 474.5 | 552.5 |\n",
       "| Attack of the Clones | 310.7 | 338.7 |\n",
       "| Revenge of the Sith | 380.3 | 468.5 |\n",
       "\n"
      ],
      "text/plain": [
       "                     US    non-US\n",
       "The Phantom Menace   474.5 552.5 \n",
       "Attack of the Clones 310.7 338.7 \n",
       "Revenge of the Sith  380.3 468.5 "
      ]
     },
     "metadata": {},
     "output_type": "display_data"
    }
   ],
   "source": [
    "# Box office Star Wars prequels trilogy (in millions)\n",
    "phantom_menace <- c(474.5, 552.5)\n",
    "attack_clones <- c(310.7, 338.7)\n",
    "revenge_sith <- c(380.3, 468.5)\n",
    "\n",
    "# Create box_office2\n",
    "box_office2 <- c(phantom_menace, attack_clones, revenge_sith)\n",
    "\n",
    "# Construct star_wars_matrix\n",
    "star_wars_matrix2 <- matrix(box_office2, byrow=TRUE, nrow=3)\n",
    "\n",
    "titles2 <- c(\"The Phantom Menace\", \"Attack of the Clones\", \"Revenge of the Sith\")\n",
    "# Name the columns with region\n",
    "colnames(star_wars_matrix2) <- region\n",
    "\n",
    "# Name the rows with titles\n",
    "rownames(star_wars_matrix2) <- titles2\n",
    "\n",
    "# Print out star_wars_matrix\n",
    "star_wars_matrix2"
   ]
  },
  {
   "cell_type": "code",
   "execution_count": 29,
   "id": "447ae419-c89d-49e8-8f03-3518811b1736",
   "metadata": {},
   "outputs": [
    {
     "data": {
      "text/html": [
       "<table>\n",
       "<thead><tr><th></th><th scope=col>US</th><th scope=col>non-US</th></tr></thead>\n",
       "<tbody>\n",
       "\t<tr><th scope=row>A New Hope</th><td>460.998</td><td>314.4  </td></tr>\n",
       "\t<tr><th scope=row>The Empire Strikes Back</th><td>290.475</td><td>247.9  </td></tr>\n",
       "\t<tr><th scope=row>Return of the Jedi</th><td>309.306</td><td>165.8  </td></tr>\n",
       "\t<tr><th scope=row>The Phantom Menace</th><td>474.500</td><td>552.5  </td></tr>\n",
       "\t<tr><th scope=row>Attack of the Clones</th><td>310.700</td><td>338.7  </td></tr>\n",
       "\t<tr><th scope=row>Revenge of the Sith</th><td>380.300</td><td>468.5  </td></tr>\n",
       "</tbody>\n",
       "</table>\n"
      ],
      "text/latex": [
       "\\begin{tabular}{r|ll}\n",
       "  & US & non-US\\\\\n",
       "\\hline\n",
       "\tA New Hope & 460.998 & 314.4  \\\\\n",
       "\tThe Empire Strikes Back & 290.475 & 247.9  \\\\\n",
       "\tReturn of the Jedi & 309.306 & 165.8  \\\\\n",
       "\tThe Phantom Menace & 474.500 & 552.5  \\\\\n",
       "\tAttack of the Clones & 310.700 & 338.7  \\\\\n",
       "\tRevenge of the Sith & 380.300 & 468.5  \\\\\n",
       "\\end{tabular}\n"
      ],
      "text/markdown": [
       "\n",
       "| <!--/--> | US | non-US |\n",
       "|---|---|---|\n",
       "| A New Hope | 460.998 | 314.4   |\n",
       "| The Empire Strikes Back | 290.475 | 247.9   |\n",
       "| Return of the Jedi | 309.306 | 165.8   |\n",
       "| The Phantom Menace | 474.500 | 552.5   |\n",
       "| Attack of the Clones | 310.700 | 338.7   |\n",
       "| Revenge of the Sith | 380.300 | 468.5   |\n",
       "\n"
      ],
      "text/plain": [
       "                        US      non-US\n",
       "A New Hope              460.998 314.4 \n",
       "The Empire Strikes Back 290.475 247.9 \n",
       "Return of the Jedi      309.306 165.8 \n",
       "The Phantom Menace      474.500 552.5 \n",
       "Attack of the Clones    310.700 338.7 \n",
       "Revenge of the Sith     380.300 468.5 "
      ]
     },
     "metadata": {},
     "output_type": "display_data"
    }
   ],
   "source": [
    "# Combine both Star Wars trilogies in one matrix\n",
    "all_star_wars_matrix <- rbind(star_wars_matrix, star_wars_matrix2)\n",
    "\n",
    "all_star_wars_matrix"
   ]
  },
  {
   "cell_type": "code",
   "execution_count": 30,
   "id": "60d8eaf4-e808-4e13-9cfc-e42bef62fb23",
   "metadata": {},
   "outputs": [
    {
     "data": {
      "text/html": [
       "<dl class=dl-horizontal>\n",
       "\t<dt>US</dt>\n",
       "\t\t<dd>2226.279</dd>\n",
       "\t<dt>non-US</dt>\n",
       "\t\t<dd>2087.8</dd>\n",
       "</dl>\n"
      ],
      "text/latex": [
       "\\begin{description*}\n",
       "\\item[US] 2226.279\n",
       "\\item[non-US] 2087.8\n",
       "\\end{description*}\n"
      ],
      "text/markdown": [
       "US\n",
       ":   2226.279non-US\n",
       ":   2087.8\n",
       "\n"
      ],
      "text/plain": [
       "      US   non-US \n",
       "2226.279 2087.800 "
      ]
     },
     "metadata": {},
     "output_type": "display_data"
    }
   ],
   "source": [
    "# Total revenue for US and non-US\n",
    "total_revenue_vector <- colSums(all_star_wars_matrix)\n",
    "  \n",
    "# Print out total_revenue_vector\n",
    "total_revenue_vector"
   ]
  },
  {
   "cell_type": "code",
   "execution_count": 31,
   "id": "a29a8189-dc37-4f1c-ab6a-df360c6d94d6",
   "metadata": {},
   "outputs": [
    {
     "data": {
      "text/html": [
       "347.966666666667"
      ],
      "text/latex": [
       "347.966666666667"
      ],
      "text/markdown": [
       "347.966666666667"
      ],
      "text/plain": [
       "[1] 347.9667"
      ]
     },
     "metadata": {},
     "output_type": "display_data"
    },
    {
     "data": {
      "text/html": [
       "281.15"
      ],
      "text/latex": [
       "281.15"
      ],
      "text/markdown": [
       "281.15"
      ],
      "text/plain": [
       "[1] 281.15"
      ]
     },
     "metadata": {},
     "output_type": "display_data"
    }
   ],
   "source": [
    "# Select the non-US revenue for all movies\n",
    "non_us_all <- all_star_wars_matrix[,2]\n",
    "  \n",
    "# Average non-US revenue\n",
    "mean(non_us_all)\n",
    "  \n",
    "# Select the non-US revenue for first two movies\n",
    "non_us_some <- non_us_all[1:2]\n",
    "  \n",
    "# Average non-US revenue for first two movies\n",
    "mean(non_us_some)"
   ]
  },
  {
   "cell_type": "code",
   "execution_count": 32,
   "id": "96da0faa-e882-4913-88f9-c4ab80ee4ad0",
   "metadata": {},
   "outputs": [
    {
     "data": {
      "text/html": [
       "<table>\n",
       "<thead><tr><th></th><th scope=col>US</th><th scope=col>non-US</th></tr></thead>\n",
       "<tbody>\n",
       "\t<tr><th scope=row>A New Hope</th><td>92.1996</td><td> 62.88 </td></tr>\n",
       "\t<tr><th scope=row>The Empire Strikes Back</th><td>58.0950</td><td> 49.58 </td></tr>\n",
       "\t<tr><th scope=row>Return of the Jedi</th><td>61.8612</td><td> 33.16 </td></tr>\n",
       "\t<tr><th scope=row>The Phantom Menace</th><td>94.9000</td><td>110.50 </td></tr>\n",
       "\t<tr><th scope=row>Attack of the Clones</th><td>62.1400</td><td> 67.74 </td></tr>\n",
       "\t<tr><th scope=row>Revenge of the Sith</th><td>76.0600</td><td> 93.70 </td></tr>\n",
       "</tbody>\n",
       "</table>\n"
      ],
      "text/latex": [
       "\\begin{tabular}{r|ll}\n",
       "  & US & non-US\\\\\n",
       "\\hline\n",
       "\tA New Hope & 92.1996 &  62.88 \\\\\n",
       "\tThe Empire Strikes Back & 58.0950 &  49.58 \\\\\n",
       "\tReturn of the Jedi & 61.8612 &  33.16 \\\\\n",
       "\tThe Phantom Menace & 94.9000 & 110.50 \\\\\n",
       "\tAttack of the Clones & 62.1400 &  67.74 \\\\\n",
       "\tRevenge of the Sith & 76.0600 &  93.70 \\\\\n",
       "\\end{tabular}\n"
      ],
      "text/markdown": [
       "\n",
       "| <!--/--> | US | non-US |\n",
       "|---|---|---|\n",
       "| A New Hope | 92.1996 |  62.88  |\n",
       "| The Empire Strikes Back | 58.0950 |  49.58  |\n",
       "| Return of the Jedi | 61.8612 |  33.16  |\n",
       "| The Phantom Menace | 94.9000 | 110.50  |\n",
       "| Attack of the Clones | 62.1400 |  67.74  |\n",
       "| Revenge of the Sith | 76.0600 |  93.70  |\n",
       "\n"
      ],
      "text/plain": [
       "                        US      non-US\n",
       "A New Hope              92.1996  62.88\n",
       "The Empire Strikes Back 58.0950  49.58\n",
       "Return of the Jedi      61.8612  33.16\n",
       "The Phantom Menace      94.9000 110.50\n",
       "Attack of the Clones    62.1400  67.74\n",
       "Revenge of the Sith     76.0600  93.70"
      ]
     },
     "metadata": {},
     "output_type": "display_data"
    }
   ],
   "source": [
    "# Estimate the visitors (Assume that the price of a ticket was 5 dollars.)\n",
    "visitors <- all_star_wars_matrix / 5\n",
    "  \n",
    "# Print the estimate to the console\n",
    "visitors"
   ]
  },
  {
   "cell_type": "code",
   "execution_count": 34,
   "id": "e656634e-6874-4791-a5e4-852ff241e471",
   "metadata": {},
   "outputs": [
    {
     "data": {
      "text/html": [
       "<table>\n",
       "<thead><tr><th></th><th scope=col>US</th><th scope=col>non-US</th></tr></thead>\n",
       "<tbody>\n",
       "\t<tr><th scope=row>A New Hope</th><td>5.0</td><td>5.0</td></tr>\n",
       "\t<tr><th scope=row>The Empire Strikes Back</th><td>6.0</td><td>6.0</td></tr>\n",
       "\t<tr><th scope=row>Return of the Jedi</th><td>7.0</td><td>7.0</td></tr>\n",
       "\t<tr><th scope=row>The Phantom Menace</th><td>4.0</td><td>4.0</td></tr>\n",
       "\t<tr><th scope=row>Attack of the Clones</th><td>4.5</td><td>4.5</td></tr>\n",
       "\t<tr><th scope=row>Revenge of the Sith</th><td>4.9</td><td>4.9</td></tr>\n",
       "</tbody>\n",
       "</table>\n"
      ],
      "text/latex": [
       "\\begin{tabular}{r|ll}\n",
       "  & US & non-US\\\\\n",
       "\\hline\n",
       "\tA New Hope & 5.0 & 5.0\\\\\n",
       "\tThe Empire Strikes Back & 6.0 & 6.0\\\\\n",
       "\tReturn of the Jedi & 7.0 & 7.0\\\\\n",
       "\tThe Phantom Menace & 4.0 & 4.0\\\\\n",
       "\tAttack of the Clones & 4.5 & 4.5\\\\\n",
       "\tRevenge of the Sith & 4.9 & 4.9\\\\\n",
       "\\end{tabular}\n"
      ],
      "text/markdown": [
       "\n",
       "| <!--/--> | US | non-US |\n",
       "|---|---|---|\n",
       "| A New Hope | 5.0 | 5.0 |\n",
       "| The Empire Strikes Back | 6.0 | 6.0 |\n",
       "| Return of the Jedi | 7.0 | 7.0 |\n",
       "| The Phantom Menace | 4.0 | 4.0 |\n",
       "| Attack of the Clones | 4.5 | 4.5 |\n",
       "| Revenge of the Sith | 4.9 | 4.9 |\n",
       "\n"
      ],
      "text/plain": [
       "                        US  non-US\n",
       "A New Hope              5.0 5.0   \n",
       "The Empire Strikes Back 6.0 6.0   \n",
       "Return of the Jedi      7.0 7.0   \n",
       "The Phantom Menace      4.0 4.0   \n",
       "Attack of the Clones    4.5 4.5   \n",
       "Revenge of the Sith     4.9 4.9   "
      ]
     },
     "metadata": {},
     "output_type": "display_data"
    }
   ],
   "source": [
    "# Ticket price Star Wars Two trilogies\n",
    "tp_new_hope <- c(5.0, 5.0)\n",
    "tp_empire_strikes <- c(6.0, 6.0)\n",
    "tp_return_jedi <- c(7.0, 7.0)\n",
    "tp_phantom_menace <- c(4.0, 4.0)\n",
    "tp_attack_clones <- c(4.5, 4.5)\n",
    "tp_revenge_sith <- c(4.9, 4.9)\n",
    "\n",
    "# Create ticket_prices\n",
    "ticket_prices <- c(tp_new_hope, tp_empire_strikes, tp_return_jedi,\n",
    "                   tp_phantom_menace, tp_attack_clones, tp_revenge_sith)\n",
    "\n",
    "# Construct star_wars_matrix\n",
    "ticket_prices_matrix <- matrix(ticket_prices, byrow=TRUE, nrow=6)\n",
    "\n",
    "all_titles <- c(\"A New Hope\", \"The Empire Strikes Back\", \"Return of the Jedi\", \"The Phantom Menace\", \"Attack of the Clones\", \"Revenge of the Sith\")\n",
    "# Name the columns with region\n",
    "colnames(ticket_prices_matrix) <- region\n",
    "\n",
    "# Name the rows with titles\n",
    "rownames(ticket_prices_matrix) <- all_titles\n",
    "\n",
    "# Print out star_wars_matrix\n",
    "ticket_prices_matrix"
   ]
  },
  {
   "cell_type": "code",
   "execution_count": 35,
   "id": "db7fbce4-8f6b-474f-acc9-d8f62d6e47fb",
   "metadata": {},
   "outputs": [
    {
     "data": {
      "text/html": [
       "<table>\n",
       "<thead><tr><th></th><th scope=col>US</th><th scope=col>non-US</th></tr></thead>\n",
       "<tbody>\n",
       "\t<tr><th scope=row>A New Hope</th><td> 92.19960</td><td> 62.88000</td></tr>\n",
       "\t<tr><th scope=row>The Empire Strikes Back</th><td> 48.41250</td><td> 41.31667</td></tr>\n",
       "\t<tr><th scope=row>Return of the Jedi</th><td> 44.18657</td><td> 23.68571</td></tr>\n",
       "\t<tr><th scope=row>The Phantom Menace</th><td>118.62500</td><td>138.12500</td></tr>\n",
       "\t<tr><th scope=row>Attack of the Clones</th><td> 69.04444</td><td> 75.26667</td></tr>\n",
       "\t<tr><th scope=row>Revenge of the Sith</th><td> 77.61224</td><td> 95.61224</td></tr>\n",
       "</tbody>\n",
       "</table>\n"
      ],
      "text/latex": [
       "\\begin{tabular}{r|ll}\n",
       "  & US & non-US\\\\\n",
       "\\hline\n",
       "\tA New Hope &  92.19960 &  62.88000\\\\\n",
       "\tThe Empire Strikes Back &  48.41250 &  41.31667\\\\\n",
       "\tReturn of the Jedi &  44.18657 &  23.68571\\\\\n",
       "\tThe Phantom Menace & 118.62500 & 138.12500\\\\\n",
       "\tAttack of the Clones &  69.04444 &  75.26667\\\\\n",
       "\tRevenge of the Sith &  77.61224 &  95.61224\\\\\n",
       "\\end{tabular}\n"
      ],
      "text/markdown": [
       "\n",
       "| <!--/--> | US | non-US |\n",
       "|---|---|---|\n",
       "| A New Hope |  92.19960 |  62.88000 |\n",
       "| The Empire Strikes Back |  48.41250 |  41.31667 |\n",
       "| Return of the Jedi |  44.18657 |  23.68571 |\n",
       "| The Phantom Menace | 118.62500 | 138.12500 |\n",
       "| Attack of the Clones |  69.04444 |  75.26667 |\n",
       "| Revenge of the Sith |  77.61224 |  95.61224 |\n",
       "\n"
      ],
      "text/plain": [
       "                        US        non-US   \n",
       "A New Hope               92.19960  62.88000\n",
       "The Empire Strikes Back  48.41250  41.31667\n",
       "Return of the Jedi       44.18657  23.68571\n",
       "The Phantom Menace      118.62500 138.12500\n",
       "Attack of the Clones     69.04444  75.26667\n",
       "Revenge of the Sith      77.61224  95.61224"
      ]
     },
     "metadata": {},
     "output_type": "display_data"
    }
   ],
   "source": [
    "# Estimated number of visitors (in million)\n",
    "visitors <- all_star_wars_matrix / ticket_prices_matrix\n",
    "\n",
    "visitors"
   ]
  },
  {
   "cell_type": "code",
   "execution_count": 36,
   "id": "824676fe-0843-4ce1-ba6c-bb8f51e4cb70",
   "metadata": {},
   "outputs": [
    {
     "data": {
      "text/html": [
       "75.0133934618292"
      ],
      "text/latex": [
       "75.0133934618292"
      ],
      "text/markdown": [
       "75.0133934618292"
      ],
      "text/plain": [
       "[1] 75.01339"
      ]
     },
     "metadata": {},
     "output_type": "display_data"
    }
   ],
   "source": [
    "# US visitors\n",
    "us_visitors <- visitors[,1]\n",
    "\n",
    "# Average number of US visitors (in million)\n",
    "mean(us_visitors)"
   ]
  },
  {
   "cell_type": "markdown",
   "id": "8ad63a46-8d35-4235-a1bd-1bdd4a70a7fa",
   "metadata": {},
   "source": [
    "---"
   ]
  },
  {
   "cell_type": "code",
   "execution_count": 37,
   "id": "83132f11-4401-4873-a675-d5cda260f901",
   "metadata": {},
   "outputs": [
    {
     "data": {
      "text/html": [
       "<ol class=list-inline>\n",
       "\t<li>Male</li>\n",
       "\t<li>Female</li>\n",
       "\t<li>Female</li>\n",
       "\t<li>Male</li>\n",
       "\t<li>Male</li>\n",
       "</ol>\n",
       "\n",
       "<details>\n",
       "\t<summary style=display:list-item;cursor:pointer>\n",
       "\t\t<strong>Levels</strong>:\n",
       "\t</summary>\n",
       "\t<ol class=list-inline>\n",
       "\t\t<li>'Female'</li>\n",
       "\t\t<li>'Male'</li>\n",
       "\t</ol>\n",
       "</details>"
      ],
      "text/latex": [
       "\\begin{enumerate*}\n",
       "\\item Male\n",
       "\\item Female\n",
       "\\item Female\n",
       "\\item Male\n",
       "\\item Male\n",
       "\\end{enumerate*}\n",
       "\n",
       "\\emph{Levels}: \\begin{enumerate*}\n",
       "\\item 'Female'\n",
       "\\item 'Male'\n",
       "\\end{enumerate*}\n"
      ],
      "text/markdown": [
       "1. Male\n",
       "2. Female\n",
       "3. Female\n",
       "4. Male\n",
       "5. Male\n",
       "\n",
       "\n",
       "\n",
       "**Levels**: 1. 'Female'\n",
       "2. 'Male'\n",
       "\n",
       "\n"
      ],
      "text/plain": [
       "[1] Male   Female Female Male   Male  \n",
       "Levels: Female Male"
      ]
     },
     "metadata": {},
     "output_type": "display_data"
    }
   ],
   "source": [
    "# Sex vector\n",
    "sex_vector <- c(\"Male\", \"Female\", \"Female\", \"Male\", \"Male\")\n",
    "\n",
    "# Convert sex_vector to a factor\n",
    "factor_sex_vector <- factor(sex_vector)\n",
    "\n",
    "# Print out factor_sex_vector\n",
    "factor_sex_vector"
   ]
  },
  {
   "cell_type": "code",
   "execution_count": 38,
   "id": "40b87959-36bd-4400-a877-5dd47ab01b23",
   "metadata": {},
   "outputs": [
    {
     "data": {
      "text/html": [
       "\n",
       "<table width=\"100%\" summary=\"page for factor {base}\"><tr><td>factor {base}</td><td style=\"text-align: right;\">R Documentation</td></tr></table>\n",
       "\n",
       "<h2>Factors</h2>\n",
       "\n",
       "<h3>Description</h3>\n",
       "\n",
       "<p>The function <code>factor</code> is used to encode a vector as a factor (the\n",
       "terms &lsquo;category&rsquo; and &lsquo;enumerated type&rsquo; are also used for\n",
       "factors).  If argument <code>ordered</code> is <code>TRUE</code>, the factor\n",
       "levels are assumed to be ordered.  For compatibility with S there is\n",
       "also a function <code>ordered</code>.\n",
       "</p>\n",
       "<p><code>is.factor</code>, <code>is.ordered</code>, <code>as.factor</code> and <code>as.ordered</code>\n",
       "are the membership and coercion functions for these classes.\n",
       "</p>\n",
       "\n",
       "\n",
       "<h3>Usage</h3>\n",
       "\n",
       "<pre>\n",
       "factor(x = character(), levels, labels = levels,\n",
       "       exclude = NA, ordered = is.ordered(x), nmax = NA)\n",
       "\n",
       "ordered(x, ...)\n",
       "\n",
       "is.factor(x)\n",
       "is.ordered(x)\n",
       "\n",
       "as.factor(x)\n",
       "as.ordered(x)\n",
       "\n",
       "addNA(x, ifany = FALSE)\n",
       "</pre>\n",
       "\n",
       "\n",
       "<h3>Arguments</h3>\n",
       "\n",
       "<table summary=\"R argblock\">\n",
       "<tr valign=\"top\"><td><code>x</code></td>\n",
       "<td>\n",
       "<p>a vector of data, usually taking a small number of distinct\n",
       "values.</p>\n",
       "</td></tr>\n",
       "<tr valign=\"top\"><td><code>levels</code></td>\n",
       "<td>\n",
       "<p>an optional vector of the unique values (as character strings)\n",
       "that <code>x</code> might have taken.  The default is the unique set of\n",
       "values taken by <code>as.character(x)</code>, sorted into\n",
       "increasing order <em>of <code>x</code></em>.  Note that this set can be\n",
       "specified as smaller than <code>sort(unique(x))</code>.</p>\n",
       "</td></tr>\n",
       "<tr valign=\"top\"><td><code>labels</code></td>\n",
       "<td>\n",
       "<p><em>either</em> an optional character vector of\n",
       "labels for the levels (in the same order as <code>levels</code> after\n",
       "removing those in <code>exclude</code>), <em>or</em> a character string of\n",
       "length 1.  Duplicated values in <code>labels</code> can be used to map\n",
       "different values of <code>x</code> to the same factor level.</p>\n",
       "</td></tr>\n",
       "<tr valign=\"top\"><td><code>exclude</code></td>\n",
       "<td>\n",
       "<p>a vector of values to be excluded when forming the\n",
       "set of levels.  This may be factor with the same level set as <code>x</code>\n",
       "or should be a <code>character</code>.</p>\n",
       "</td></tr>\n",
       "<tr valign=\"top\"><td><code>ordered</code></td>\n",
       "<td>\n",
       "<p>logical flag to determine if the levels should be regarded\n",
       "as ordered (in the order given).</p>\n",
       "</td></tr>\n",
       "<tr valign=\"top\"><td><code>nmax</code></td>\n",
       "<td>\n",
       "<p>an upper bound on the number of levels; see &lsquo;Details&rsquo;.</p>\n",
       "</td></tr>\n",
       "<tr valign=\"top\"><td><code>...</code></td>\n",
       "<td>\n",
       "<p>(in <code>ordered(.)</code>): any of the above, apart from\n",
       "<code>ordered</code> itself.</p>\n",
       "</td></tr>\n",
       "<tr valign=\"top\"><td><code>ifany</code></td>\n",
       "<td>\n",
       "<p>only add an <code>NA</code> level if it is used, i.e.\n",
       "if <code>any(is.na(x))</code>.</p>\n",
       "</td></tr>\n",
       "</table>\n",
       "\n",
       "\n",
       "<h3>Details</h3>\n",
       "\n",
       "<p>The type of the vector <code>x</code> is not restricted; it only must have\n",
       "an <code>as.character</code> method and be sortable (by\n",
       "<code>order</code>).\n",
       "</p>\n",
       "<p>Ordered factors differ from factors only in their class, but methods\n",
       "and the model-fitting functions treat the two classes quite differently.\n",
       "</p>\n",
       "<p>The encoding of the vector happens as follows.  First all the values\n",
       "in <code>exclude</code> are removed from <code>levels</code>. If <code>x[i]</code>\n",
       "equals <code>levels[j]</code>, then the <code>i</code>-th element of the result is\n",
       "<code>j</code>.  If no match is found for <code>x[i]</code> in <code>levels</code>\n",
       "(which will happen for excluded values) then the <code>i</code>-th element\n",
       "of the result is set to <code>NA</code>.\n",
       "</p>\n",
       "<p>Normally the &lsquo;levels&rsquo; used as an attribute of the result are\n",
       "the reduced set of levels after removing those in <code>exclude</code>, but\n",
       "this can be altered by supplying <code>labels</code>.  This should either\n",
       "be a set of new labels for the levels, or a character string, in\n",
       "which case the levels are that character string with a sequence\n",
       "number appended.\n",
       "</p>\n",
       "<p><code>factor(x, exclude = NULL)</code> applied to a factor without\n",
       "<code>NA</code>s is a no-operation unless there are unused levels: in\n",
       "that case, a factor with the reduced level set is returned.  If\n",
       "<code>exclude</code> is used, since <span style=\"font-family: Courier New, Courier; color: #666666;\"><b>R</b></span> version 3.4.0, excluding non-existing\n",
       "character levels is equivalent to excluding nothing, and when\n",
       "<code>exclude</code> is a <code>character</code> vector, that <em>is</em>\n",
       "applied to the levels of <code>x</code>.\n",
       "Alternatively, <code>exclude</code> can be factor with the same level set as\n",
       "<code>x</code> and will exclude the levels present in <code>exclude</code>.\n",
       "</p>\n",
       "<p>The codes of a factor may contain <code>NA</code>.  For a numeric\n",
       "<code>x</code>, set <code>exclude = NULL</code> to make <code>NA</code> an extra\n",
       "level (prints as <code>&lt;NA&gt;</code>); by default, this is the last level.\n",
       "</p>\n",
       "<p>If <code>NA</code> is a level, the way to set a code to be missing (as\n",
       "opposed to the code of the missing level) is to\n",
       "use <code>is.na</code> on the left-hand-side of an assignment (as in\n",
       "<code>is.na(f)[i] &lt;- TRUE</code>; indexing inside <code>is.na</code> does not work).\n",
       "Under those circumstances missing values are currently printed as\n",
       "<code>&lt;NA&gt;</code>, i.e., identical to entries of level <code>NA</code>.\n",
       "</p>\n",
       "<p><code>is.factor</code> is generic: you can write methods to handle\n",
       "specific classes of objects, see InternalMethods.\n",
       "</p>\n",
       "<p>Where <code>levels</code> is not supplied, <code>unique</code> is called.\n",
       "Since factors typically have quite a small number of levels, for large\n",
       "vectors <code>x</code> it is helpful to supply <code>nmax</code> as an upper bound\n",
       "on the number of unique values.\n",
       "</p>\n",
       "\n",
       "\n",
       "<h3>Value</h3>\n",
       "\n",
       "<p><code>factor</code> returns an object of class <code>\"factor\"</code> which has a\n",
       "set of integer codes the length of <code>x</code> with a <code>\"levels\"</code>\n",
       "attribute of mode <code>character</code> and unique\n",
       "(<code>!anyDuplicated(.)</code>) entries.  If argument <code>ordered</code>\n",
       "is true (or <code>ordered()</code> is used) the result has class\n",
       "<code>c(\"ordered\", \"factor\")</code>.\n",
       "Undocumentedly for a long time, <code>factor(x)</code> loses all\n",
       "<code>attributes(x)</code> but <code>\"names\"</code>, and resets\n",
       "<code>\"levels\"</code> and <code>\"class\"</code>.\n",
       "</p>\n",
       "<p>Applying <code>factor</code> to an ordered or unordered factor returns a\n",
       "factor (of the same type) with just the levels which occur: see also\n",
       "<code>[.factor</code> for a more transparent way to achieve this.\n",
       "</p>\n",
       "<p><code>is.factor</code> returns <code>TRUE</code> or <code>FALSE</code> depending on\n",
       "whether its argument is of type factor or not.  Correspondingly,\n",
       "<code>is.ordered</code> returns <code>TRUE</code> when its argument is an ordered\n",
       "factor and <code>FALSE</code> otherwise.\n",
       "</p>\n",
       "<p><code>as.factor</code> coerces its argument to a factor.\n",
       "It is an abbreviated (sometimes faster) form of <code>factor</code>.\n",
       "</p>\n",
       "<p><code>as.ordered(x)</code> returns <code>x</code> if this is ordered, and\n",
       "<code>ordered(x)</code> otherwise.\n",
       "</p>\n",
       "<p><code>addNA</code> modifies a factor by turning <code>NA</code> into an extra\n",
       "level (so that <code>NA</code> values are counted in tables, for instance).\n",
       "</p>\n",
       "<p><code>.valid.factor(object)</code> checks the validity of a factor,\n",
       "currently only <code>levels(object)</code>, and returns <code>TRUE</code> if it is\n",
       "valid, otherwise a string describing the validity problem.  This\n",
       "function is used for <code>validObject(&lt;factor&gt;)</code>.\n",
       "</p>\n",
       "\n",
       "\n",
       "<h3>Warning</h3>\n",
       "\n",
       "<p>The interpretation of a factor depends on both the codes and the\n",
       "<code>\"levels\"</code> attribute.  Be careful only to compare factors with\n",
       "the same set of levels (in the same order).  In particular,\n",
       "<code>as.numeric</code> applied to a factor is meaningless, and may\n",
       "happen by implicit coercion.  To transform a factor <code>f</code> to\n",
       "approximately its original numeric values,\n",
       "<code>as.numeric(levels(f))[f]</code> is recommended and slightly more\n",
       "efficient than <code>as.numeric(as.character(f))</code>.\n",
       "</p>\n",
       "<p>The levels of a factor are by default sorted, but the sort order\n",
       "may well depend on the locale at the time of creation, and should\n",
       "not be assumed to be ASCII.\n",
       "</p>\n",
       "<p>There are some anomalies associated with factors that have\n",
       "<code>NA</code> as a level.  It is suggested to use them sparingly, e.g.,\n",
       "only for tabulation purposes.\n",
       "</p>\n",
       "\n",
       "\n",
       "<h3>Comparison operators and group generic methods</h3>\n",
       "\n",
       "<p>There are <code>\"factor\"</code> and <code>\"ordered\"</code> methods for the\n",
       "group generic <code>Ops</code> which\n",
       "provide methods for the Comparison operators,\n",
       "and for the <code>min</code>, <code>max</code>, and\n",
       "<code>range</code> generics in <code>Summary</code>\n",
       "of <code>\"ordered\"</code>.  (The rest of the groups and the\n",
       "<code>Math</code> group generate an error as they\n",
       "are not meaningful for factors.)\n",
       "</p>\n",
       "<p>Only <code>==</code> and <code>!=</code> can be used for factors: a factor can\n",
       "only be compared to another factor with an identical set of levels\n",
       "(not necessarily in the same ordering) or to a character vector.\n",
       "Ordered factors are compared in the same way, but the general dispatch\n",
       "mechanism precludes comparing ordered and unordered factors.\n",
       "</p>\n",
       "<p>All the comparison operators are available for ordered factors.\n",
       "Collation is done by the levels of the operands: if both operands are\n",
       "ordered factors they must have the same level set.\n",
       "</p>\n",
       "\n",
       "\n",
       "<h3>Note</h3>\n",
       "\n",
       "<p>In earlier versions of <span style=\"font-family: Courier New, Courier; color: #666666;\"><b>R</b></span>, storing character data as a factor was more\n",
       "space efficient if there is even a small proportion of\n",
       "repeats.  However, identical character strings now share storage, so\n",
       "the difference is small in most cases.  (Integer values are stored\n",
       "in 4 bytes whereas each reference to a character string needs a\n",
       "pointer of 4 or 8 bytes.)\n",
       "</p>\n",
       "\n",
       "\n",
       "<h3>References</h3>\n",
       "\n",
       "<p>Chambers, J. M. and Hastie, T. J. (1992)\n",
       "<em>Statistical Models in S</em>.\n",
       "Wadsworth &amp; Brooks/Cole.\n",
       "</p>\n",
       "\n",
       "\n",
       "<h3>See Also</h3>\n",
       "\n",
       "<p><code>[.factor</code> for subsetting of factors.\n",
       "</p>\n",
       "<p><code>gl</code> for construction of balanced factors and\n",
       "<code>C</code> for factors with specified contrasts.\n",
       "<code>levels</code> and <code>nlevels</code> for accessing the\n",
       "levels, and <code>unclass</code> to get integer codes.\n",
       "</p>\n",
       "\n",
       "\n",
       "<h3>Examples</h3>\n",
       "\n",
       "<pre>\n",
       "(ff &lt;- factor(substring(\"statistics\", 1:10, 1:10), levels = letters))\n",
       "as.integer(ff)      # the internal codes\n",
       "(f. &lt;- factor(ff))  # drops the levels that do not occur\n",
       "ff[, drop = TRUE]   # the same, more transparently\n",
       "\n",
       "factor(letters[1:20], labels = \"letter\")\n",
       "\n",
       "class(ordered(4:1)) # \"ordered\", inheriting from \"factor\"\n",
       "z &lt;- factor(LETTERS[3:1], ordered = TRUE)\n",
       "## and \"relational\" methods work:\n",
       "stopifnot(sort(z)[c(1,3)] == range(z), min(z) &lt; max(z))\n",
       "\n",
       "\n",
       "## suppose you want \"NA\" as a level, and to allow missing values.\n",
       "(x &lt;- factor(c(1, 2, NA), exclude = NULL))\n",
       "is.na(x)[2] &lt;- TRUE\n",
       "x  # [1] 1    &lt;NA&gt; &lt;NA&gt;\n",
       "is.na(x)\n",
       "# [1] FALSE  TRUE FALSE\n",
       "\n",
       "## More rational, since R 3.4.0 :\n",
       "factor(c(1:2, NA), exclude =  \"\" ) # keeps &lt;NA&gt; , as\n",
       "factor(c(1:2, NA), exclude = NULL) # always did\n",
       "## exclude = &lt;character&gt;\n",
       "z # ordered levels 'A &lt; B &lt; C'\n",
       "factor(z, exclude = \"C\") # does exclude\n",
       "factor(z, exclude = \"B\") # ditto\n",
       "\n",
       "## Now, labels maybe duplicated:\n",
       "## factor() with duplicated labels allowing to \"merge levels\"\n",
       "x &lt;- c(\"Man\", \"Male\", \"Man\", \"Lady\", \"Female\")\n",
       "## Map from 4 different values to only two levels:\n",
       "(xf &lt;- factor(x, levels = c(\"Male\", \"Man\" , \"Lady\",   \"Female\"),\n",
       "                 labels = c(\"Male\", \"Male\", \"Female\", \"Female\")))\n",
       "#&gt; [1] Male   Male   Male   Female Female\n",
       "#&gt; Levels: Male Female\n",
       "\n",
       "## Using addNA()\n",
       "Month &lt;- airquality$Month\n",
       "table(addNA(Month))\n",
       "table(addNA(Month, ifany = TRUE))\n",
       "</pre>\n",
       "\n",
       "<hr /><div style=\"text-align: center;\">[Package <em>base</em> version 3.6.1 ]</div>"
      ],
      "text/latex": [
       "\\inputencoding{utf8}\n",
       "\\HeaderA{factor}{Factors}{factor}\n",
       "\\aliasA{.valid.factor}{factor}{.valid.factor}\n",
       "\\aliasA{addNA}{factor}{addNA}\n",
       "\\aliasA{as.factor}{factor}{as.factor}\n",
       "\\aliasA{as.ordered}{factor}{as.ordered}\n",
       "\\aliasA{is.factor}{factor}{is.factor}\n",
       "\\aliasA{is.na<\\Rdash{}.factor}{factor}{is.na<.Rdash..factor}\n",
       "\\aliasA{is.ordered}{factor}{is.ordered}\n",
       "\\aliasA{Math.factor}{factor}{Math.factor}\n",
       "\\aliasA{Ops.factor}{factor}{Ops.factor}\n",
       "\\aliasA{Ops.ordered}{factor}{Ops.ordered}\n",
       "\\aliasA{ordered}{factor}{ordered}\n",
       "\\aliasA{Summary.factor}{factor}{Summary.factor}\n",
       "\\aliasA{Summary.ordered}{factor}{Summary.ordered}\n",
       "\\keyword{category}{factor}\n",
       "\\keyword{NA}{factor}\n",
       "%\n",
       "\\begin{Description}\\relax\n",
       "The function \\code{factor} is used to encode a vector as a factor (the\n",
       "terms `category' and `enumerated type' are also used for\n",
       "factors).  If argument \\code{ordered} is \\code{TRUE}, the factor\n",
       "levels are assumed to be ordered.  For compatibility with S there is\n",
       "also a function \\code{ordered}.\n",
       "\n",
       "\\code{is.factor}, \\code{is.ordered}, \\code{as.factor} and \\code{as.ordered}\n",
       "are the membership and coercion functions for these classes.\n",
       "\\end{Description}\n",
       "%\n",
       "\\begin{Usage}\n",
       "\\begin{verbatim}\n",
       "factor(x = character(), levels, labels = levels,\n",
       "       exclude = NA, ordered = is.ordered(x), nmax = NA)\n",
       "\n",
       "ordered(x, ...)\n",
       "\n",
       "is.factor(x)\n",
       "is.ordered(x)\n",
       "\n",
       "as.factor(x)\n",
       "as.ordered(x)\n",
       "\n",
       "addNA(x, ifany = FALSE)\n",
       "\\end{verbatim}\n",
       "\\end{Usage}\n",
       "%\n",
       "\\begin{Arguments}\n",
       "\\begin{ldescription}\n",
       "\\item[\\code{x}] a vector of data, usually taking a small number of distinct\n",
       "values.\n",
       "\\item[\\code{levels}] an optional vector of the unique values (as character strings)\n",
       "that \\code{x} might have taken.  The default is the unique set of\n",
       "values taken by \\code{\\LinkA{as.character}{as.character}(x)}, sorted into\n",
       "increasing order \\emph{of \\code{x}}.  Note that this set can be\n",
       "specified as smaller than \\code{sort(unique(x))}.\n",
       "\\item[\\code{labels}] \\emph{either} an optional character vector of\n",
       "labels for the levels (in the same order as \\code{levels} after\n",
       "removing those in \\code{exclude}), \\emph{or} a character string of\n",
       "length 1.  Duplicated values in \\code{labels} can be used to map\n",
       "different values of \\code{x} to the same factor level.\n",
       "\\item[\\code{exclude}] a vector of values to be excluded when forming the\n",
       "set of levels.  This may be factor with the same level set as \\code{x}\n",
       "or should be a \\code{character}.\n",
       "\\item[\\code{ordered}] logical flag to determine if the levels should be regarded\n",
       "as ordered (in the order given).\n",
       "\\item[\\code{nmax}] an upper bound on the number of levels; see `Details'.\n",
       "\\item[\\code{...}] (in \\code{ordered(.)}): any of the above, apart from\n",
       "\\code{ordered} itself.\n",
       "\\item[\\code{ifany}] only add an \\code{NA} level if it is used, i.e.\n",
       "if \\code{any(is.na(x))}.\n",
       "\\end{ldescription}\n",
       "\\end{Arguments}\n",
       "%\n",
       "\\begin{Details}\\relax\n",
       "The type of the vector \\code{x} is not restricted; it only must have\n",
       "an \\code{\\LinkA{as.character}{as.character}} method and be sortable (by\n",
       "\\code{\\LinkA{order}{order}}).\n",
       "\n",
       "Ordered factors differ from factors only in their class, but methods\n",
       "and the model-fitting functions treat the two classes quite differently.\n",
       "\n",
       "The encoding of the vector happens as follows.  First all the values\n",
       "in \\code{exclude} are removed from \\code{levels}. If \\code{x[i]}\n",
       "equals \\code{levels[j]}, then the \\code{i}-th element of the result is\n",
       "\\code{j}.  If no match is found for \\code{x[i]} in \\code{levels}\n",
       "(which will happen for excluded values) then the \\code{i}-th element\n",
       "of the result is set to \\code{\\LinkA{NA}{NA}}.\n",
       "\n",
       "Normally the `levels' used as an attribute of the result are\n",
       "the reduced set of levels after removing those in \\code{exclude}, but\n",
       "this can be altered by supplying \\code{labels}.  This should either\n",
       "be a set of new labels for the levels, or a character string, in\n",
       "which case the levels are that character string with a sequence\n",
       "number appended.\n",
       "\n",
       "\\code{factor(x, exclude = NULL)} applied to a factor without\n",
       "\\code{\\LinkA{NA}{NA}}s is a no-operation unless there are unused levels: in\n",
       "that case, a factor with the reduced level set is returned.  If\n",
       "\\code{exclude} is used, since \\R{} version 3.4.0, excluding non-existing\n",
       "character levels is equivalent to excluding nothing, and when\n",
       "\\code{exclude} is a \\code{\\LinkA{character}{character}} vector, that \\emph{is}\n",
       "applied to the levels of \\code{x}.\n",
       "Alternatively, \\code{exclude} can be factor with the same level set as\n",
       "\\code{x} and will exclude the levels present in \\code{exclude}.\n",
       "\n",
       "The codes of a factor may contain \\code{\\LinkA{NA}{NA}}.  For a numeric\n",
       "\\code{x}, set \\code{exclude = NULL} to make \\code{\\LinkA{NA}{NA}} an extra\n",
       "level (prints as \\code{<NA>}); by default, this is the last level.\n",
       "\n",
       "If \\code{NA} is a level, the way to set a code to be missing (as\n",
       "opposed to the code of the missing level) is to\n",
       "use \\code{\\LinkA{is.na}{is.na}} on the left-hand-side of an assignment (as in\n",
       "\\code{is.na(f)[i] <- TRUE}; indexing inside \\code{is.na} does not work).\n",
       "Under those circumstances missing values are currently printed as\n",
       "\\code{<NA>}, i.e., identical to entries of level \\code{NA}.\n",
       "\n",
       "\\code{is.factor} is generic: you can write methods to handle\n",
       "specific classes of objects, see \\LinkA{InternalMethods}{InternalMethods}.\n",
       "\n",
       "Where \\code{levels} is not supplied, \\code{\\LinkA{unique}{unique}} is called.\n",
       "Since factors typically have quite a small number of levels, for large\n",
       "vectors \\code{x} it is helpful to supply \\code{nmax} as an upper bound\n",
       "on the number of unique values.\n",
       "\\end{Details}\n",
       "%\n",
       "\\begin{Value}\n",
       "\\code{factor} returns an object of class \\code{\"factor\"} which has a\n",
       "set of integer codes the length of \\code{x} with a \\code{\"levels\"}\n",
       "attribute of mode \\code{\\LinkA{character}{character}} and unique\n",
       "(\\code{!\\LinkA{anyDuplicated}{anyDuplicated}(.)}) entries.  If argument \\code{ordered}\n",
       "is true (or \\code{ordered()} is used) the result has class\n",
       "\\code{c(\"ordered\", \"factor\")}.\n",
       "Undocumentedly for a long time, \\code{factor(x)} loses all\n",
       "\\code{\\LinkA{attributes}{attributes}(x)} but \\code{\"names\"}, and resets\n",
       "\\code{\"levels\"} and \\code{\"class\"}.\n",
       "\n",
       "Applying \\code{factor} to an ordered or unordered factor returns a\n",
       "factor (of the same type) with just the levels which occur: see also\n",
       "\\code{\\LinkA{[.factor}{[.factor}} for a more transparent way to achieve this.\n",
       "\n",
       "\\code{is.factor} returns \\code{TRUE} or \\code{FALSE} depending on\n",
       "whether its argument is of type factor or not.  Correspondingly,\n",
       "\\code{is.ordered} returns \\code{TRUE} when its argument is an ordered\n",
       "factor and \\code{FALSE} otherwise.\n",
       "\n",
       "\\code{as.factor} coerces its argument to a factor.\n",
       "It is an abbreviated (sometimes faster) form of \\code{factor}.\n",
       "\n",
       "\\code{as.ordered(x)} returns \\code{x} if this is ordered, and\n",
       "\\code{ordered(x)} otherwise.\n",
       "\n",
       "\\code{addNA} modifies a factor by turning \\code{NA} into an extra\n",
       "level (so that \\code{NA} values are counted in tables, for instance).\n",
       "\n",
       "\\code{.valid.factor(object)} checks the validity of a factor,\n",
       "currently only \\code{levels(object)}, and returns \\code{TRUE} if it is\n",
       "valid, otherwise a string describing the validity problem.  This\n",
       "function is used for \\code{\\LinkA{validObject}{validObject}(<factor>)}.\n",
       "\\end{Value}\n",
       "%\n",
       "\\begin{Section}{Warning}\n",
       "The interpretation of a factor depends on both the codes and the\n",
       "\\code{\"levels\"} attribute.  Be careful only to compare factors with\n",
       "the same set of levels (in the same order).  In particular,\n",
       "\\code{as.numeric} applied to a factor is meaningless, and may\n",
       "happen by implicit coercion.  To transform a factor \\code{f} to\n",
       "approximately its original numeric values,\n",
       "\\code{as.numeric(levels(f))[f]} is recommended and slightly more\n",
       "efficient than \\code{as.numeric(as.character(f))}.\n",
       "\n",
       "The levels of a factor are by default sorted, but the sort order\n",
       "may well depend on the locale at the time of creation, and should\n",
       "not be assumed to be ASCII.\n",
       "\n",
       "There are some anomalies associated with factors that have\n",
       "\\code{NA} as a level.  It is suggested to use them sparingly, e.g.,\n",
       "only for tabulation purposes.\n",
       "\\end{Section}\n",
       "%\n",
       "\\begin{Section}{Comparison operators and group generic methods}\n",
       "There are \\code{\"factor\"} and \\code{\"ordered\"} methods for the\n",
       "\\LinkA{group generic}{group generic} \\code{\\LinkA{Ops}{S3groupGeneric}} which\n",
       "provide methods for the \\LinkA{Comparison}{Comparison} operators,\n",
       "and for the \\code{\\LinkA{min}{min}}, \\code{\\LinkA{max}{max}}, and\n",
       "\\code{\\LinkA{range}{range}} generics in \\code{\\LinkA{Summary}{S3groupGeneric}}\n",
       "of \\code{\"ordered\"}.  (The rest of the groups and the\n",
       "\\code{\\LinkA{Math}{S3groupGeneric}} group generate an error as they\n",
       "are not meaningful for factors.)\n",
       "\n",
       "Only \\code{==} and \\code{!=} can be used for factors: a factor can\n",
       "only be compared to another factor with an identical set of levels\n",
       "(not necessarily in the same ordering) or to a character vector.\n",
       "Ordered factors are compared in the same way, but the general dispatch\n",
       "mechanism precludes comparing ordered and unordered factors.\n",
       "\n",
       "All the comparison operators are available for ordered factors.\n",
       "Collation is done by the levels of the operands: if both operands are\n",
       "ordered factors they must have the same level set.\n",
       "\\end{Section}\n",
       "%\n",
       "\\begin{Note}\\relax\n",
       "In earlier versions of \\R{}, storing character data as a factor was more\n",
       "space efficient if there is even a small proportion of\n",
       "repeats.  However, identical character strings now share storage, so\n",
       "the difference is small in most cases.  (Integer values are stored\n",
       "in 4 bytes whereas each reference to a character string needs a\n",
       "pointer of 4 or 8 bytes.)\n",
       "\\end{Note}\n",
       "%\n",
       "\\begin{References}\\relax\n",
       "Chambers, J. M. and Hastie, T. J. (1992)\n",
       "\\emph{Statistical Models in S}.\n",
       "Wadsworth \\& Brooks/Cole.\n",
       "\\end{References}\n",
       "%\n",
       "\\begin{SeeAlso}\\relax\n",
       "\\code{\\LinkA{[.factor}{[.factor}} for subsetting of factors.\n",
       "\n",
       "\\code{\\LinkA{gl}{gl}} for construction of balanced factors and\n",
       "\\code{\\LinkA{C}{C}} for factors with specified contrasts.\n",
       "\\code{\\LinkA{levels}{levels}} and \\code{\\LinkA{nlevels}{nlevels}} for accessing the\n",
       "levels, and \\code{\\LinkA{unclass}{unclass}} to get integer codes.\n",
       "\\end{SeeAlso}\n",
       "%\n",
       "\\begin{Examples}\n",
       "\\begin{ExampleCode}\n",
       "(ff <- factor(substring(\"statistics\", 1:10, 1:10), levels = letters))\n",
       "as.integer(ff)      # the internal codes\n",
       "(f. <- factor(ff))  # drops the levels that do not occur\n",
       "ff[, drop = TRUE]   # the same, more transparently\n",
       "\n",
       "factor(letters[1:20], labels = \"letter\")\n",
       "\n",
       "class(ordered(4:1)) # \"ordered\", inheriting from \"factor\"\n",
       "z <- factor(LETTERS[3:1], ordered = TRUE)\n",
       "## and \"relational\" methods work:\n",
       "stopifnot(sort(z)[c(1,3)] == range(z), min(z) < max(z))\n",
       "\n",
       "\n",
       "## suppose you want \"NA\" as a level, and to allow missing values.\n",
       "(x <- factor(c(1, 2, NA), exclude = NULL))\n",
       "is.na(x)[2] <- TRUE\n",
       "x  # [1] 1    <NA> <NA>\n",
       "is.na(x)\n",
       "# [1] FALSE  TRUE FALSE\n",
       "\n",
       "## More rational, since R 3.4.0 :\n",
       "factor(c(1:2, NA), exclude =  \"\" ) # keeps <NA> , as\n",
       "factor(c(1:2, NA), exclude = NULL) # always did\n",
       "## exclude = <character>\n",
       "z # ordered levels 'A < B < C'\n",
       "factor(z, exclude = \"C\") # does exclude\n",
       "factor(z, exclude = \"B\") # ditto\n",
       "\n",
       "## Now, labels maybe duplicated:\n",
       "## factor() with duplicated labels allowing to \"merge levels\"\n",
       "x <- c(\"Man\", \"Male\", \"Man\", \"Lady\", \"Female\")\n",
       "## Map from 4 different values to only two levels:\n",
       "(xf <- factor(x, levels = c(\"Male\", \"Man\" , \"Lady\",   \"Female\"),\n",
       "                 labels = c(\"Male\", \"Male\", \"Female\", \"Female\")))\n",
       "#> [1] Male   Male   Male   Female Female\n",
       "#> Levels: Male Female\n",
       "\n",
       "## Using addNA()\n",
       "Month <- airquality$Month\n",
       "table(addNA(Month))\n",
       "table(addNA(Month, ifany = TRUE))\n",
       "\\end{ExampleCode}\n",
       "\\end{Examples}"
      ],
      "text/plain": [
       "factor                  package:base                   R Documentation\n",
       "\n",
       "_\bF_\ba_\bc_\bt_\bo_\br_\bs\n",
       "\n",
       "_\bD_\be_\bs_\bc_\br_\bi_\bp_\bt_\bi_\bo_\bn:\n",
       "\n",
       "     The function 'factor' is used to encode a vector as a factor (the\n",
       "     terms 'category' and 'enumerated type' are also used for factors).\n",
       "     If argument 'ordered' is 'TRUE', the factor levels are assumed to\n",
       "     be ordered.  For compatibility with S there is also a function\n",
       "     'ordered'.\n",
       "\n",
       "     'is.factor', 'is.ordered', 'as.factor' and 'as.ordered' are the\n",
       "     membership and coercion functions for these classes.\n",
       "\n",
       "_\bU_\bs_\ba_\bg_\be:\n",
       "\n",
       "     factor(x = character(), levels, labels = levels,\n",
       "            exclude = NA, ordered = is.ordered(x), nmax = NA)\n",
       "     \n",
       "     ordered(x, ...)\n",
       "     \n",
       "     is.factor(x)\n",
       "     is.ordered(x)\n",
       "     \n",
       "     as.factor(x)\n",
       "     as.ordered(x)\n",
       "     \n",
       "     addNA(x, ifany = FALSE)\n",
       "     \n",
       "_\bA_\br_\bg_\bu_\bm_\be_\bn_\bt_\bs:\n",
       "\n",
       "       x: a vector of data, usually taking a small number of distinct\n",
       "          values.\n",
       "\n",
       "  levels: an optional vector of the unique values (as character\n",
       "          strings) that 'x' might have taken.  The default is the\n",
       "          unique set of values taken by 'as.character(x)', sorted into\n",
       "          increasing order _of 'x'_.  Note that this set can be\n",
       "          specified as smaller than 'sort(unique(x))'.\n",
       "\n",
       "  labels: _either_ an optional character vector of labels for the\n",
       "          levels (in the same order as 'levels' after removing those in\n",
       "          'exclude'), _or_ a character string of length 1.  Duplicated\n",
       "          values in 'labels' can be used to map different values of 'x'\n",
       "          to the same factor level.\n",
       "\n",
       " exclude: a vector of values to be excluded when forming the set of\n",
       "          levels.  This may be factor with the same level set as 'x' or\n",
       "          should be a 'character'.\n",
       "\n",
       " ordered: logical flag to determine if the levels should be regarded as\n",
       "          ordered (in the order given).\n",
       "\n",
       "    nmax: an upper bound on the number of levels; see 'Details'.\n",
       "\n",
       "     ...: (in 'ordered(.)'): any of the above, apart from 'ordered'\n",
       "          itself.\n",
       "\n",
       "   ifany: only add an 'NA' level if it is used, i.e.  if\n",
       "          'any(is.na(x))'.\n",
       "\n",
       "_\bD_\be_\bt_\ba_\bi_\bl_\bs:\n",
       "\n",
       "     The type of the vector 'x' is not restricted; it only must have an\n",
       "     'as.character' method and be sortable (by 'order').\n",
       "\n",
       "     Ordered factors differ from factors only in their class, but\n",
       "     methods and the model-fitting functions treat the two classes\n",
       "     quite differently.\n",
       "\n",
       "     The encoding of the vector happens as follows.  First all the\n",
       "     values in 'exclude' are removed from 'levels'. If 'x[i]' equals\n",
       "     'levels[j]', then the 'i'-th element of the result is 'j'.  If no\n",
       "     match is found for 'x[i]' in 'levels' (which will happen for\n",
       "     excluded values) then the 'i'-th element of the result is set to\n",
       "     'NA'.\n",
       "\n",
       "     Normally the 'levels' used as an attribute of the result are the\n",
       "     reduced set of levels after removing those in 'exclude', but this\n",
       "     can be altered by supplying 'labels'.  This should either be a set\n",
       "     of new labels for the levels, or a character string, in which case\n",
       "     the levels are that character string with a sequence number\n",
       "     appended.\n",
       "\n",
       "     'factor(x, exclude = NULL)' applied to a factor without 'NA's is a\n",
       "     no-operation unless there are unused levels: in that case, a\n",
       "     factor with the reduced level set is returned.  If 'exclude' is\n",
       "     used, since R version 3.4.0, excluding non-existing character\n",
       "     levels is equivalent to excluding nothing, and when 'exclude' is a\n",
       "     'character' vector, that _is_ applied to the levels of 'x'.\n",
       "     Alternatively, 'exclude' can be factor with the same level set as\n",
       "     'x' and will exclude the levels present in 'exclude'.\n",
       "\n",
       "     The codes of a factor may contain 'NA'.  For a numeric 'x', set\n",
       "     'exclude = NULL' to make 'NA' an extra level (prints as '<NA>');\n",
       "     by default, this is the last level.\n",
       "\n",
       "     If 'NA' is a level, the way to set a code to be missing (as\n",
       "     opposed to the code of the missing level) is to use 'is.na' on the\n",
       "     left-hand-side of an assignment (as in 'is.na(f)[i] <- TRUE';\n",
       "     indexing inside 'is.na' does not work).  Under those circumstances\n",
       "     missing values are currently printed as '<NA>', i.e., identical to\n",
       "     entries of level 'NA'.\n",
       "\n",
       "     'is.factor' is generic: you can write methods to handle specific\n",
       "     classes of objects, see InternalMethods.\n",
       "\n",
       "     Where 'levels' is not supplied, 'unique' is called.  Since factors\n",
       "     typically have quite a small number of levels, for large vectors\n",
       "     'x' it is helpful to supply 'nmax' as an upper bound on the number\n",
       "     of unique values.\n",
       "\n",
       "_\bV_\ba_\bl_\bu_\be:\n",
       "\n",
       "     'factor' returns an object of class '\"factor\"' which has a set of\n",
       "     integer codes the length of 'x' with a '\"levels\"' attribute of\n",
       "     mode 'character' and unique ('!anyDuplicated(.)') entries.  If\n",
       "     argument 'ordered' is true (or 'ordered()' is used) the result has\n",
       "     class 'c(\"ordered\", \"factor\")'.  Undocumentedly for a long time,\n",
       "     'factor(x)' loses all 'attributes(x)' but '\"names\"', and resets\n",
       "     '\"levels\"' and '\"class\"'.\n",
       "\n",
       "     Applying 'factor' to an ordered or unordered factor returns a\n",
       "     factor (of the same type) with just the levels which occur: see\n",
       "     also '[.factor' for a more transparent way to achieve this.\n",
       "\n",
       "     'is.factor' returns 'TRUE' or 'FALSE' depending on whether its\n",
       "     argument is of type factor or not.  Correspondingly, 'is.ordered'\n",
       "     returns 'TRUE' when its argument is an ordered factor and 'FALSE'\n",
       "     otherwise.\n",
       "\n",
       "     'as.factor' coerces its argument to a factor.  It is an\n",
       "     abbreviated (sometimes faster) form of 'factor'.\n",
       "\n",
       "     'as.ordered(x)' returns 'x' if this is ordered, and 'ordered(x)'\n",
       "     otherwise.\n",
       "\n",
       "     'addNA' modifies a factor by turning 'NA' into an extra level (so\n",
       "     that 'NA' values are counted in tables, for instance).\n",
       "\n",
       "     '.valid.factor(object)' checks the validity of a factor, currently\n",
       "     only 'levels(object)', and returns 'TRUE' if it is valid,\n",
       "     otherwise a string describing the validity problem.  This function\n",
       "     is used for 'validObject(<factor>)'.\n",
       "\n",
       "_\bW_\ba_\br_\bn_\bi_\bn_\bg:\n",
       "\n",
       "     The interpretation of a factor depends on both the codes and the\n",
       "     '\"levels\"' attribute.  Be careful only to compare factors with the\n",
       "     same set of levels (in the same order).  In particular,\n",
       "     'as.numeric' applied to a factor is meaningless, and may happen by\n",
       "     implicit coercion.  To transform a factor 'f' to approximately its\n",
       "     original numeric values, 'as.numeric(levels(f))[f]' is recommended\n",
       "     and slightly more efficient than 'as.numeric(as.character(f))'.\n",
       "\n",
       "     The levels of a factor are by default sorted, but the sort order\n",
       "     may well depend on the locale at the time of creation, and should\n",
       "     not be assumed to be ASCII.\n",
       "\n",
       "     There are some anomalies associated with factors that have 'NA' as\n",
       "     a level.  It is suggested to use them sparingly, e.g., only for\n",
       "     tabulation purposes.\n",
       "\n",
       "_\bC_\bo_\bm_\bp_\ba_\br_\bi_\bs_\bo_\bn _\bo_\bp_\be_\br_\ba_\bt_\bo_\br_\bs _\ba_\bn_\bd _\bg_\br_\bo_\bu_\bp _\bg_\be_\bn_\be_\br_\bi_\bc _\bm_\be_\bt_\bh_\bo_\bd_\bs:\n",
       "\n",
       "     There are '\"factor\"' and '\"ordered\"' methods for the group generic\n",
       "     'Ops' which provide methods for the Comparison operators, and for\n",
       "     the 'min', 'max', and 'range' generics in 'Summary' of\n",
       "     '\"ordered\"'.  (The rest of the groups and the 'Math' group\n",
       "     generate an error as they are not meaningful for factors.)\n",
       "\n",
       "     Only '==' and '!=' can be used for factors: a factor can only be\n",
       "     compared to another factor with an identical set of levels (not\n",
       "     necessarily in the same ordering) or to a character vector.\n",
       "     Ordered factors are compared in the same way, but the general\n",
       "     dispatch mechanism precludes comparing ordered and unordered\n",
       "     factors.\n",
       "\n",
       "     All the comparison operators are available for ordered factors.\n",
       "     Collation is done by the levels of the operands: if both operands\n",
       "     are ordered factors they must have the same level set.\n",
       "\n",
       "_\bN_\bo_\bt_\be:\n",
       "\n",
       "     In earlier versions of R, storing character data as a factor was\n",
       "     more space efficient if there is even a small proportion of\n",
       "     repeats.  However, identical character strings now share storage,\n",
       "     so the difference is small in most cases.  (Integer values are\n",
       "     stored in 4 bytes whereas each reference to a character string\n",
       "     needs a pointer of 4 or 8 bytes.)\n",
       "\n",
       "_\bR_\be_\bf_\be_\br_\be_\bn_\bc_\be_\bs:\n",
       "\n",
       "     Chambers, J. M. and Hastie, T. J. (1992) _Statistical Models in\n",
       "     S_.  Wadsworth & Brooks/Cole.\n",
       "\n",
       "_\bS_\be_\be _\bA_\bl_\bs_\bo:\n",
       "\n",
       "     '[.factor' for subsetting of factors.\n",
       "\n",
       "     'gl' for construction of balanced factors and 'C' for factors with\n",
       "     specified contrasts.  'levels' and 'nlevels' for accessing the\n",
       "     levels, and 'unclass' to get integer codes.\n",
       "\n",
       "_\bE_\bx_\ba_\bm_\bp_\bl_\be_\bs:\n",
       "\n",
       "     (ff <- factor(substring(\"statistics\", 1:10, 1:10), levels = letters))\n",
       "     as.integer(ff)      # the internal codes\n",
       "     (f. <- factor(ff))  # drops the levels that do not occur\n",
       "     ff[, drop = TRUE]   # the same, more transparently\n",
       "     \n",
       "     factor(letters[1:20], labels = \"letter\")\n",
       "     \n",
       "     class(ordered(4:1)) # \"ordered\", inheriting from \"factor\"\n",
       "     z <- factor(LETTERS[3:1], ordered = TRUE)\n",
       "     ## and \"relational\" methods work:\n",
       "     stopifnot(sort(z)[c(1,3)] == range(z), min(z) < max(z))\n",
       "     \n",
       "     \n",
       "     ## suppose you want \"NA\" as a level, and to allow missing values.\n",
       "     (x <- factor(c(1, 2, NA), exclude = NULL))\n",
       "     is.na(x)[2] <- TRUE\n",
       "     x  # [1] 1    <NA> <NA>\n",
       "     is.na(x)\n",
       "     # [1] FALSE  TRUE FALSE\n",
       "     \n",
       "     ## More rational, since R 3.4.0 :\n",
       "     factor(c(1:2, NA), exclude =  \"\" ) # keeps <NA> , as\n",
       "     factor(c(1:2, NA), exclude = NULL) # always did\n",
       "     ## exclude = <character>\n",
       "     z # ordered levels 'A < B < C'\n",
       "     factor(z, exclude = \"C\") # does exclude\n",
       "     factor(z, exclude = \"B\") # ditto\n",
       "     \n",
       "     ## Now, labels maybe duplicated:\n",
       "     ## factor() with duplicated labels allowing to \"merge levels\"\n",
       "     x <- c(\"Man\", \"Male\", \"Man\", \"Lady\", \"Female\")\n",
       "     ## Map from 4 different values to only two levels:\n",
       "     (xf <- factor(x, levels = c(\"Male\", \"Man\" , \"Lady\",   \"Female\"),\n",
       "                      labels = c(\"Male\", \"Male\", \"Female\", \"Female\")))\n",
       "     #> [1] Male   Male   Male   Female Female\n",
       "     #> Levels: Male Female\n",
       "     \n",
       "     ## Using addNA()\n",
       "     Month <- airquality$Month\n",
       "     table(addNA(Month))\n",
       "     table(addNA(Month, ifany = TRUE))\n",
       "     "
      ]
     },
     "metadata": {},
     "output_type": "display_data"
    }
   ],
   "source": [
    "?factor"
   ]
  },
  {
   "cell_type": "markdown",
   "id": "716d3675-1131-4460-8171-24e5b6445666",
   "metadata": {},
   "source": [
    "## What's a factor and why would you use it?\n",
    "There are two types of categorical variables: a **nominal categorical variable** and an **ordinal categorical variable**.\n",
    "\n",
    "A **nominal variable** is a categorical variable **without** an implied order. This means that it is impossible to say that 'one is worth more than the other'. For example, think of the categorical variable `animals_vector` with the categories `\"Elephant\"`, `\"Giraffe\"`, `\"Donkey\"` and `\"Horse\"`. Here, it is impossible to say that one stands above or below the other. \n",
    "\n",
    "In contrast, **ordinal variables** do have a **natural ordering**. Consider for example the categorical variable `temperature_vector` with the categories: `\"Low\"`, `\"Medium\"` and `\"High\"`. Here it is obvious that `\"Medium\"` stands above `\"Low\"`, and `\"High\"` stands above `\"Medium\"`. (Low < Medium < High)"
   ]
  },
  {
   "cell_type": "code",
   "execution_count": 39,
   "id": "9fdfcf8d-b596-4387-9689-f49332783f58",
   "metadata": {},
   "outputs": [
    {
     "data": {
      "text/html": [
       "<ol class=list-inline>\n",
       "\t<li>Elephant</li>\n",
       "\t<li>Giraffe</li>\n",
       "\t<li>Donkey</li>\n",
       "\t<li>Horse</li>\n",
       "</ol>\n",
       "\n",
       "<details>\n",
       "\t<summary style=display:list-item;cursor:pointer>\n",
       "\t\t<strong>Levels</strong>:\n",
       "\t</summary>\n",
       "\t<ol class=list-inline>\n",
       "\t\t<li>'Donkey'</li>\n",
       "\t\t<li>'Elephant'</li>\n",
       "\t\t<li>'Giraffe'</li>\n",
       "\t\t<li>'Horse'</li>\n",
       "\t</ol>\n",
       "</details>"
      ],
      "text/latex": [
       "\\begin{enumerate*}\n",
       "\\item Elephant\n",
       "\\item Giraffe\n",
       "\\item Donkey\n",
       "\\item Horse\n",
       "\\end{enumerate*}\n",
       "\n",
       "\\emph{Levels}: \\begin{enumerate*}\n",
       "\\item 'Donkey'\n",
       "\\item 'Elephant'\n",
       "\\item 'Giraffe'\n",
       "\\item 'Horse'\n",
       "\\end{enumerate*}\n"
      ],
      "text/markdown": [
       "1. Elephant\n",
       "2. Giraffe\n",
       "3. Donkey\n",
       "4. Horse\n",
       "\n",
       "\n",
       "\n",
       "**Levels**: 1. 'Donkey'\n",
       "2. 'Elephant'\n",
       "3. 'Giraffe'\n",
       "4. 'Horse'\n",
       "\n",
       "\n"
      ],
      "text/plain": [
       "[1] Elephant Giraffe  Donkey   Horse   \n",
       "Levels: Donkey Elephant Giraffe Horse"
      ]
     },
     "metadata": {},
     "output_type": "display_data"
    },
    {
     "data": {
      "text/html": [
       "<ol class=list-inline>\n",
       "\t<li>High</li>\n",
       "\t<li>Low</li>\n",
       "\t<li>High</li>\n",
       "\t<li>Low</li>\n",
       "\t<li>Medium</li>\n",
       "</ol>\n",
       "\n",
       "<details>\n",
       "\t<summary style=display:list-item;cursor:pointer>\n",
       "\t\t<strong>Levels</strong>:\n",
       "\t</summary>\n",
       "\t<ol class=list-inline>\n",
       "\t\t<li>'Low'</li>\n",
       "\t\t<li>'Medium'</li>\n",
       "\t\t<li>'High'</li>\n",
       "\t</ol>\n",
       "</details>"
      ],
      "text/latex": [
       "\\begin{enumerate*}\n",
       "\\item High\n",
       "\\item Low\n",
       "\\item High\n",
       "\\item Low\n",
       "\\item Medium\n",
       "\\end{enumerate*}\n",
       "\n",
       "\\emph{Levels}: \\begin{enumerate*}\n",
       "\\item 'Low'\n",
       "\\item 'Medium'\n",
       "\\item 'High'\n",
       "\\end{enumerate*}\n"
      ],
      "text/markdown": [
       "1. High\n",
       "2. Low\n",
       "3. High\n",
       "4. Low\n",
       "5. Medium\n",
       "\n",
       "\n",
       "\n",
       "**Levels**: 1. 'Low'\n",
       "2. 'Medium'\n",
       "3. 'High'\n",
       "\n",
       "\n"
      ],
      "text/plain": [
       "[1] High   Low    High   Low    Medium\n",
       "Levels: Low < Medium < High"
      ]
     },
     "metadata": {},
     "output_type": "display_data"
    }
   ],
   "source": [
    "# Animals\n",
    "animals_vector <- c(\"Elephant\", \"Giraffe\", \"Donkey\", \"Horse\")\n",
    "factor_animals_vector <- factor(animals_vector)\n",
    "factor_animals_vector\n",
    "\n",
    "# Temperature\n",
    "temperature_vector <- c(\"High\", \"Low\", \"High\",\"Low\", \"Medium\")\n",
    "factor_temperature_vector <- factor(temperature_vector, order = TRUE, levels = c(\"Low\", \"Medium\", \"High\"))\n",
    "factor_temperature_vector"
   ]
  },
  {
   "cell_type": "markdown",
   "id": "f910cec0-cd5c-400b-a6a2-1d768bda6342",
   "metadata": {},
   "source": [
    "## Factor levels\n",
    "Sometimes you will want to change the names of these levels for clarity or other reasons. R allows you to do this with the function `levels()`:\n",
    "```r\n",
    "levels(factor_vector) <- c(\"name1\", \"name2\",...)\n",
    "```\n",
    "A good illustration is the raw data that is provided to you by a survey. A common question for every questionnaire is the sex of the respondent. Here, for simplicity, just two categories were recorded, `\"M\"` and `\"F\"`. (You usually need more categories for survey data; either way, you use a factor to store the categorical data.)\n",
    "```r\n",
    "survey_vector <- c(\"M\", \"F\", \"F\", \"M\", \"M\")\n",
    "```\n",
    "Recording the sex with the abbreviations `\"M\"` and `\"F\"` can be convenient if you are collecting data with pen and paper, but it can introduce confusion when analyzing the data. At that point, you will often want to change the factor levels to `\"Male\"` and `\"Female\"` instead of `\"M\"` and `\"F\"` for clarity.\n",
    "\n",
    "**Watch out**: the order with which you assign the levels is important. If you type `levels(factor_survey_vector)`, you'll see that it outputs `[1] \"F\" \"M\"`. If you don't specify the levels of the factor when creating the vector, `R` will automatically assign them **alphabetically**. To correctly map `\"F\"` to `\"Female\"` and `\"M\"` to `\"Male\"`, the levels should be set to `c(\"Female\", \"Male\")`, in this order.\n"
   ]
  },
  {
   "cell_type": "code",
   "execution_count": 41,
   "id": "fbbef088-5866-40c8-aa01-5d4d836928bb",
   "metadata": {},
   "outputs": [
    {
     "data": {
      "text/html": [
       "<ol class=list-inline>\n",
       "\t<li>M</li>\n",
       "\t<li>F</li>\n",
       "\t<li>F</li>\n",
       "\t<li>M</li>\n",
       "\t<li>M</li>\n",
       "</ol>\n",
       "\n",
       "<details>\n",
       "\t<summary style=display:list-item;cursor:pointer>\n",
       "\t\t<strong>Levels</strong>:\n",
       "\t</summary>\n",
       "\t<ol class=list-inline>\n",
       "\t\t<li>'F'</li>\n",
       "\t\t<li>'M'</li>\n",
       "\t</ol>\n",
       "</details>"
      ],
      "text/latex": [
       "\\begin{enumerate*}\n",
       "\\item M\n",
       "\\item F\n",
       "\\item F\n",
       "\\item M\n",
       "\\item M\n",
       "\\end{enumerate*}\n",
       "\n",
       "\\emph{Levels}: \\begin{enumerate*}\n",
       "\\item 'F'\n",
       "\\item 'M'\n",
       "\\end{enumerate*}\n"
      ],
      "text/markdown": [
       "1. M\n",
       "2. F\n",
       "3. F\n",
       "4. M\n",
       "5. M\n",
       "\n",
       "\n",
       "\n",
       "**Levels**: 1. 'F'\n",
       "2. 'M'\n",
       "\n",
       "\n"
      ],
      "text/plain": [
       "[1] M F F M M\n",
       "Levels: F M"
      ]
     },
     "metadata": {},
     "output_type": "display_data"
    }
   ],
   "source": [
    "# Code to build factor_survey_vector\n",
    "survey_vector <- c(\"M\", \"F\", \"F\", \"M\", \"M\")\n",
    "factor_survey_vector <- factor(survey_vector)\n",
    "factor_survey_vector"
   ]
  },
  {
   "cell_type": "code",
   "execution_count": 42,
   "id": "741e5efe-0d30-4a08-b034-69e8f46c46d5",
   "metadata": {},
   "outputs": [
    {
     "data": {
      "text/html": [
       "<ol class=list-inline>\n",
       "\t<li>Male</li>\n",
       "\t<li>Female</li>\n",
       "\t<li>Female</li>\n",
       "\t<li>Male</li>\n",
       "\t<li>Male</li>\n",
       "</ol>\n",
       "\n",
       "<details>\n",
       "\t<summary style=display:list-item;cursor:pointer>\n",
       "\t\t<strong>Levels</strong>:\n",
       "\t</summary>\n",
       "\t<ol class=list-inline>\n",
       "\t\t<li>'Female'</li>\n",
       "\t\t<li>'Male'</li>\n",
       "\t</ol>\n",
       "</details>"
      ],
      "text/latex": [
       "\\begin{enumerate*}\n",
       "\\item Male\n",
       "\\item Female\n",
       "\\item Female\n",
       "\\item Male\n",
       "\\item Male\n",
       "\\end{enumerate*}\n",
       "\n",
       "\\emph{Levels}: \\begin{enumerate*}\n",
       "\\item 'Female'\n",
       "\\item 'Male'\n",
       "\\end{enumerate*}\n"
      ],
      "text/markdown": [
       "1. Male\n",
       "2. Female\n",
       "3. Female\n",
       "4. Male\n",
       "5. Male\n",
       "\n",
       "\n",
       "\n",
       "**Levels**: 1. 'Female'\n",
       "2. 'Male'\n",
       "\n",
       "\n"
      ],
      "text/plain": [
       "[1] Male   Female Female Male   Male  \n",
       "Levels: Female Male"
      ]
     },
     "metadata": {},
     "output_type": "display_data"
    }
   ],
   "source": [
    "\n",
    "# Specify the levels of factor_survey_vector\n",
    "levels(factor_survey_vector) <- c(\"Female\", \"Male\")\n",
    "\n",
    "factor_survey_vector"
   ]
  },
  {
   "cell_type": "markdown",
   "id": "dad357c4-436a-4ae3-83af-97c0f0990b11",
   "metadata": {},
   "source": [
    "## Summarizing a factor\n",
    "After finishing this course, one of your favorite functions in R will be `summary()`. This will give you a quick overview of the contents of a variable:\n",
    "```r\n",
    "summary(my_var)\n",
    "```\n",
    "Going back to our survey, you would like to know how many `\"Male\"` responses you have in your study, and how many `\"Female\"` responses. The `summary()` function gives you the answer to this question."
   ]
  },
  {
   "cell_type": "code",
   "execution_count": 43,
   "id": "9c3216b5-86af-48e8-b968-c4c044174f27",
   "metadata": {},
   "outputs": [
    {
     "data": {
      "text/plain": [
       "   Length     Class      Mode \n",
       "        5 character character "
      ]
     },
     "metadata": {},
     "output_type": "display_data"
    }
   ],
   "source": [
    "# Generate summary for survey_vector\n",
    "summary(survey_vector)"
   ]
  },
  {
   "cell_type": "code",
   "execution_count": 44,
   "id": "2388de31-4787-4b0f-8920-fea540af7220",
   "metadata": {},
   "outputs": [
    {
     "data": {
      "text/html": [
       "<dl class=dl-horizontal>\n",
       "\t<dt>Female</dt>\n",
       "\t\t<dd>2</dd>\n",
       "\t<dt>Male</dt>\n",
       "\t\t<dd>3</dd>\n",
       "</dl>\n"
      ],
      "text/latex": [
       "\\begin{description*}\n",
       "\\item[Female] 2\n",
       "\\item[Male] 3\n",
       "\\end{description*}\n"
      ],
      "text/markdown": [
       "Female\n",
       ":   2Male\n",
       ":   3\n",
       "\n"
      ],
      "text/plain": [
       "Female   Male \n",
       "     2      3 "
      ]
     },
     "metadata": {},
     "output_type": "display_data"
    }
   ],
   "source": [
    "# Generate summary for factor_survey_vector\n",
    "summary(factor_survey_vector)"
   ]
  },
  {
   "cell_type": "markdown",
   "id": "6cf55722-8319-406e-8c41-8f409e144f5f",
   "metadata": {},
   "source": [
    "*Have a look at the output. The fact that you identified* `\"Male\"` *and* `\"Female\"` *as factor levels in* `factor_survey_vector` *enables R to show the number of elements for each category.*"
   ]
  },
  {
   "cell_type": "markdown",
   "id": "9cc15647-641f-4898-b07c-fb6cd8131f0d",
   "metadata": {},
   "source": [
    "## Battle of the sexes\n",
    "You might wonder what happens when you try to compare elements of a factor. In `factor_survey_vector` you have a factor with two levels: `\"Male\"` and `\"Female\"`. But how does R value these relative to each other?"
   ]
  },
  {
   "cell_type": "code",
   "execution_count": 45,
   "id": "c2bbe323-6302-466b-85cc-09251ab1e852",
   "metadata": {},
   "outputs": [
    {
     "name": "stderr",
     "output_type": "stream",
     "text": [
      "Warning message in Ops.factor(male, female):\n",
      "\"'>' not meaningful for factors\""
     ]
    },
    {
     "data": {
      "text/html": [
       "&lt;NA&gt;"
      ],
      "text/latex": [
       "<NA>"
      ],
      "text/markdown": [
       "&lt;NA&gt;"
      ],
      "text/plain": [
       "[1] NA"
      ]
     },
     "metadata": {},
     "output_type": "display_data"
    }
   ],
   "source": [
    "# Male\n",
    "male <- factor_survey_vector[1]\n",
    "\n",
    "# Female\n",
    "female <- factor_survey_vector[2]\n",
    "\n",
    "# Battle of the sexes: Male 'larger' than female?\n",
    "male > female"
   ]
  },
  {
   "cell_type": "markdown",
   "id": "bd6e5948-dd67-485b-b99e-38543462e3f9",
   "metadata": {},
   "source": [
    "*By default, R returns* `NA` *when you try to compare values in a factor, since the idea doesn't make sense.*"
   ]
  },
  {
   "cell_type": "markdown",
   "id": "25615566-0305-4529-8d7c-a69cc2500c8f",
   "metadata": {},
   "source": [
    "## Ordered factors\n",
    "Since `\"Male\"` and `\"Female\"` are unordered (or nominal) factor levels, R returns a warning message, telling you that the greater than operator is not meaningful. As seen before, R attaches an equal value to the levels for such factors.\n",
    "\n",
    "But this is not always the case. Sometimes you will also deal with factors that do have a natural ordering between its categories. If this is the case, we have to make sure that we pass this information to R…\n",
    "\n",
    "Let us say that you are leading a research team of five data analysts and that you want to evaluate their performance. To do this, you track their speed, evaluate each analyst as `\"slow\"`, `\"medium\"` or `\"fast\"`, and save the results in `speed_vector`."
   ]
  },
  {
   "cell_type": "code",
   "execution_count": 46,
   "id": "63eeee60-034f-4235-935c-456fc13730d3",
   "metadata": {},
   "outputs": [],
   "source": [
    "# Create speed_vector\n",
    "speed_vector <- c('medium', 'slow', 'slow', 'medium', 'fast')"
   ]
  },
  {
   "cell_type": "markdown",
   "id": "e65120cb-4604-484d-a344-b58de8551510",
   "metadata": {},
   "source": [
    "`speed_vector` should be converted to an ordinal factor since its categories have a natural ordering. By default, the function `factor()` transforms `speed_vector` into an unordered factor. To create an ordered factor, you have to add two additional arguments: `ordered` and `levels`.\n",
    "```r\n",
    "factor(some_vector,\n",
    "       ordered = TRUE,\n",
    "       levels = c(\"lev1\", \"lev2\" ...))\n",
    "```\n",
    "By setting the argument `ordered` to `TRUE` in the function `factor()`, you indicate that the factor is ordered. With the argument `levels` you give the values of the factor in the correct order."
   ]
  },
  {
   "cell_type": "code",
   "execution_count": 47,
   "id": "c18cf2f2-57f9-403f-8b0d-f36201105f9d",
   "metadata": {},
   "outputs": [
    {
     "data": {
      "text/html": [
       "<ol class=list-inline>\n",
       "\t<li>medium</li>\n",
       "\t<li>slow</li>\n",
       "\t<li>slow</li>\n",
       "\t<li>medium</li>\n",
       "\t<li>fast</li>\n",
       "</ol>\n",
       "\n",
       "<details>\n",
       "\t<summary style=display:list-item;cursor:pointer>\n",
       "\t\t<strong>Levels</strong>:\n",
       "\t</summary>\n",
       "\t<ol class=list-inline>\n",
       "\t\t<li>'slow'</li>\n",
       "\t\t<li>'medium'</li>\n",
       "\t\t<li>'fast'</li>\n",
       "\t</ol>\n",
       "</details>"
      ],
      "text/latex": [
       "\\begin{enumerate*}\n",
       "\\item medium\n",
       "\\item slow\n",
       "\\item slow\n",
       "\\item medium\n",
       "\\item fast\n",
       "\\end{enumerate*}\n",
       "\n",
       "\\emph{Levels}: \\begin{enumerate*}\n",
       "\\item 'slow'\n",
       "\\item 'medium'\n",
       "\\item 'fast'\n",
       "\\end{enumerate*}\n"
      ],
      "text/markdown": [
       "1. medium\n",
       "2. slow\n",
       "3. slow\n",
       "4. medium\n",
       "5. fast\n",
       "\n",
       "\n",
       "\n",
       "**Levels**: 1. 'slow'\n",
       "2. 'medium'\n",
       "3. 'fast'\n",
       "\n",
       "\n"
      ],
      "text/plain": [
       "[1] medium slow   slow   medium fast  \n",
       "Levels: slow < medium < fast"
      ]
     },
     "metadata": {},
     "output_type": "display_data"
    },
    {
     "data": {
      "text/html": [
       "<dl class=dl-horizontal>\n",
       "\t<dt>slow</dt>\n",
       "\t\t<dd>2</dd>\n",
       "\t<dt>medium</dt>\n",
       "\t\t<dd>2</dd>\n",
       "\t<dt>fast</dt>\n",
       "\t\t<dd>1</dd>\n",
       "</dl>\n"
      ],
      "text/latex": [
       "\\begin{description*}\n",
       "\\item[slow] 2\n",
       "\\item[medium] 2\n",
       "\\item[fast] 1\n",
       "\\end{description*}\n"
      ],
      "text/markdown": [
       "slow\n",
       ":   2medium\n",
       ":   2fast\n",
       ":   1\n",
       "\n"
      ],
      "text/plain": [
       "  slow medium   fast \n",
       "     2      2      1 "
      ]
     },
     "metadata": {},
     "output_type": "display_data"
    }
   ],
   "source": [
    "# Convert speed_vector to ordered factor vector\n",
    "factor_speed_vector <- factor(speed_vector, ordered=TRUE, levels = c('slow', 'medium', 'fast'))\n",
    "\n",
    "# Print factor_speed_vector\n",
    "factor_speed_vector\n",
    "\n",
    "summary(factor_speed_vector)"
   ]
  },
  {
   "cell_type": "markdown",
   "id": "0607ab6e-ebe7-45b3-b792-c176427d6b9c",
   "metadata": {},
   "source": [
    "## Comparing ordered factors\n",
    "Having a bad day at work, 'data analyst number two' enters your office and starts complaining that 'data analyst number five' is slowing down the entire project. Since you know that 'data analyst number two' has the reputation of being a smarty-pants, you first decide to check if his statement is true.\n",
    "\n",
    "The fact that `factor_speed_vector` is now ordered enables us to compare different elements (the data analysts in this case). You can simply do this by using the well-known operators."
   ]
  },
  {
   "cell_type": "code",
   "execution_count": 48,
   "id": "5e4fa9a5-460c-43de-80cc-2d29c8d88c83",
   "metadata": {},
   "outputs": [
    {
     "data": {
      "text/html": [
       "FALSE"
      ],
      "text/latex": [
       "FALSE"
      ],
      "text/markdown": [
       "FALSE"
      ],
      "text/plain": [
       "[1] FALSE"
      ]
     },
     "metadata": {},
     "output_type": "display_data"
    }
   ],
   "source": [
    "# Factor value for second data analyst\n",
    "da2 <- factor_speed_vector[2]\n",
    "\n",
    "# Factor value for fifth data analyst\n",
    "da5 <- factor_speed_vector[5]\n",
    "\n",
    "# Is data analyst 2 faster than data analyst 5?\n",
    "da2 > da5"
   ]
  },
  {
   "cell_type": "markdown",
   "id": "1d70a2d4-b46e-4fcc-b540-3e88b362a8fc",
   "metadata": {},
   "source": [
    "---"
   ]
  },
  {
   "cell_type": "markdown",
   "id": "d902a421-0e44-42c9-8fc7-0a14f3de0db3",
   "metadata": {},
   "source": [
    "# Data frame"
   ]
  },
  {
   "cell_type": "code",
   "execution_count": 49,
   "id": "d973bd0d-e7c2-4db9-9330-37ae17691b8e",
   "metadata": {},
   "outputs": [
    {
     "data": {
      "text/html": [
       "<table>\n",
       "<thead><tr><th></th><th scope=col>mpg</th><th scope=col>cyl</th><th scope=col>disp</th><th scope=col>hp</th><th scope=col>drat</th><th scope=col>wt</th><th scope=col>qsec</th><th scope=col>vs</th><th scope=col>am</th><th scope=col>gear</th><th scope=col>carb</th></tr></thead>\n",
       "<tbody>\n",
       "\t<tr><th scope=row>Mazda RX4</th><td>21.0 </td><td>6    </td><td>160.0</td><td>110  </td><td>3.90 </td><td>2.620</td><td>16.46</td><td>0    </td><td>1    </td><td>4    </td><td>4    </td></tr>\n",
       "\t<tr><th scope=row>Mazda RX4 Wag</th><td>21.0 </td><td>6    </td><td>160.0</td><td>110  </td><td>3.90 </td><td>2.875</td><td>17.02</td><td>0    </td><td>1    </td><td>4    </td><td>4    </td></tr>\n",
       "\t<tr><th scope=row>Datsun 710</th><td>22.8 </td><td>4    </td><td>108.0</td><td> 93  </td><td>3.85 </td><td>2.320</td><td>18.61</td><td>1    </td><td>1    </td><td>4    </td><td>1    </td></tr>\n",
       "\t<tr><th scope=row>Hornet 4 Drive</th><td>21.4 </td><td>6    </td><td>258.0</td><td>110  </td><td>3.08 </td><td>3.215</td><td>19.44</td><td>1    </td><td>0    </td><td>3    </td><td>1    </td></tr>\n",
       "\t<tr><th scope=row>Hornet Sportabout</th><td>18.7 </td><td>8    </td><td>360.0</td><td>175  </td><td>3.15 </td><td>3.440</td><td>17.02</td><td>0    </td><td>0    </td><td>3    </td><td>2    </td></tr>\n",
       "\t<tr><th scope=row>Valiant</th><td>18.1 </td><td>6    </td><td>225.0</td><td>105  </td><td>2.76 </td><td>3.460</td><td>20.22</td><td>1    </td><td>0    </td><td>3    </td><td>1    </td></tr>\n",
       "\t<tr><th scope=row>Duster 360</th><td>14.3 </td><td>8    </td><td>360.0</td><td>245  </td><td>3.21 </td><td>3.570</td><td>15.84</td><td>0    </td><td>0    </td><td>3    </td><td>4    </td></tr>\n",
       "\t<tr><th scope=row>Merc 240D</th><td>24.4 </td><td>4    </td><td>146.7</td><td> 62  </td><td>3.69 </td><td>3.190</td><td>20.00</td><td>1    </td><td>0    </td><td>4    </td><td>2    </td></tr>\n",
       "\t<tr><th scope=row>Merc 230</th><td>22.8 </td><td>4    </td><td>140.8</td><td> 95  </td><td>3.92 </td><td>3.150</td><td>22.90</td><td>1    </td><td>0    </td><td>4    </td><td>2    </td></tr>\n",
       "\t<tr><th scope=row>Merc 280</th><td>19.2 </td><td>6    </td><td>167.6</td><td>123  </td><td>3.92 </td><td>3.440</td><td>18.30</td><td>1    </td><td>0    </td><td>4    </td><td>4    </td></tr>\n",
       "\t<tr><th scope=row>Merc 280C</th><td>17.8 </td><td>6    </td><td>167.6</td><td>123  </td><td>3.92 </td><td>3.440</td><td>18.90</td><td>1    </td><td>0    </td><td>4    </td><td>4    </td></tr>\n",
       "\t<tr><th scope=row>Merc 450SE</th><td>16.4 </td><td>8    </td><td>275.8</td><td>180  </td><td>3.07 </td><td>4.070</td><td>17.40</td><td>0    </td><td>0    </td><td>3    </td><td>3    </td></tr>\n",
       "\t<tr><th scope=row>Merc 450SL</th><td>17.3 </td><td>8    </td><td>275.8</td><td>180  </td><td>3.07 </td><td>3.730</td><td>17.60</td><td>0    </td><td>0    </td><td>3    </td><td>3    </td></tr>\n",
       "\t<tr><th scope=row>Merc 450SLC</th><td>15.2 </td><td>8    </td><td>275.8</td><td>180  </td><td>3.07 </td><td>3.780</td><td>18.00</td><td>0    </td><td>0    </td><td>3    </td><td>3    </td></tr>\n",
       "\t<tr><th scope=row>Cadillac Fleetwood</th><td>10.4 </td><td>8    </td><td>472.0</td><td>205  </td><td>2.93 </td><td>5.250</td><td>17.98</td><td>0    </td><td>0    </td><td>3    </td><td>4    </td></tr>\n",
       "\t<tr><th scope=row>Lincoln Continental</th><td>10.4 </td><td>8    </td><td>460.0</td><td>215  </td><td>3.00 </td><td>5.424</td><td>17.82</td><td>0    </td><td>0    </td><td>3    </td><td>4    </td></tr>\n",
       "\t<tr><th scope=row>Chrysler Imperial</th><td>14.7 </td><td>8    </td><td>440.0</td><td>230  </td><td>3.23 </td><td>5.345</td><td>17.42</td><td>0    </td><td>0    </td><td>3    </td><td>4    </td></tr>\n",
       "\t<tr><th scope=row>Fiat 128</th><td>32.4 </td><td>4    </td><td> 78.7</td><td> 66  </td><td>4.08 </td><td>2.200</td><td>19.47</td><td>1    </td><td>1    </td><td>4    </td><td>1    </td></tr>\n",
       "\t<tr><th scope=row>Honda Civic</th><td>30.4 </td><td>4    </td><td> 75.7</td><td> 52  </td><td>4.93 </td><td>1.615</td><td>18.52</td><td>1    </td><td>1    </td><td>4    </td><td>2    </td></tr>\n",
       "\t<tr><th scope=row>Toyota Corolla</th><td>33.9 </td><td>4    </td><td> 71.1</td><td> 65  </td><td>4.22 </td><td>1.835</td><td>19.90</td><td>1    </td><td>1    </td><td>4    </td><td>1    </td></tr>\n",
       "\t<tr><th scope=row>Toyota Corona</th><td>21.5 </td><td>4    </td><td>120.1</td><td> 97  </td><td>3.70 </td><td>2.465</td><td>20.01</td><td>1    </td><td>0    </td><td>3    </td><td>1    </td></tr>\n",
       "\t<tr><th scope=row>Dodge Challenger</th><td>15.5 </td><td>8    </td><td>318.0</td><td>150  </td><td>2.76 </td><td>3.520</td><td>16.87</td><td>0    </td><td>0    </td><td>3    </td><td>2    </td></tr>\n",
       "\t<tr><th scope=row>AMC Javelin</th><td>15.2 </td><td>8    </td><td>304.0</td><td>150  </td><td>3.15 </td><td>3.435</td><td>17.30</td><td>0    </td><td>0    </td><td>3    </td><td>2    </td></tr>\n",
       "\t<tr><th scope=row>Camaro Z28</th><td>13.3 </td><td>8    </td><td>350.0</td><td>245  </td><td>3.73 </td><td>3.840</td><td>15.41</td><td>0    </td><td>0    </td><td>3    </td><td>4    </td></tr>\n",
       "\t<tr><th scope=row>Pontiac Firebird</th><td>19.2 </td><td>8    </td><td>400.0</td><td>175  </td><td>3.08 </td><td>3.845</td><td>17.05</td><td>0    </td><td>0    </td><td>3    </td><td>2    </td></tr>\n",
       "\t<tr><th scope=row>Fiat X1-9</th><td>27.3 </td><td>4    </td><td> 79.0</td><td> 66  </td><td>4.08 </td><td>1.935</td><td>18.90</td><td>1    </td><td>1    </td><td>4    </td><td>1    </td></tr>\n",
       "\t<tr><th scope=row>Porsche 914-2</th><td>26.0 </td><td>4    </td><td>120.3</td><td> 91  </td><td>4.43 </td><td>2.140</td><td>16.70</td><td>0    </td><td>1    </td><td>5    </td><td>2    </td></tr>\n",
       "\t<tr><th scope=row>Lotus Europa</th><td>30.4 </td><td>4    </td><td> 95.1</td><td>113  </td><td>3.77 </td><td>1.513</td><td>16.90</td><td>1    </td><td>1    </td><td>5    </td><td>2    </td></tr>\n",
       "\t<tr><th scope=row>Ford Pantera L</th><td>15.8 </td><td>8    </td><td>351.0</td><td>264  </td><td>4.22 </td><td>3.170</td><td>14.50</td><td>0    </td><td>1    </td><td>5    </td><td>4    </td></tr>\n",
       "\t<tr><th scope=row>Ferrari Dino</th><td>19.7 </td><td>6    </td><td>145.0</td><td>175  </td><td>3.62 </td><td>2.770</td><td>15.50</td><td>0    </td><td>1    </td><td>5    </td><td>6    </td></tr>\n",
       "\t<tr><th scope=row>Maserati Bora</th><td>15.0 </td><td>8    </td><td>301.0</td><td>335  </td><td>3.54 </td><td>3.570</td><td>14.60</td><td>0    </td><td>1    </td><td>5    </td><td>8    </td></tr>\n",
       "\t<tr><th scope=row>Volvo 142E</th><td>21.4 </td><td>4    </td><td>121.0</td><td>109  </td><td>4.11 </td><td>2.780</td><td>18.60</td><td>1    </td><td>1    </td><td>4    </td><td>2    </td></tr>\n",
       "</tbody>\n",
       "</table>\n"
      ],
      "text/latex": [
       "\\begin{tabular}{r|lllllllllll}\n",
       "  & mpg & cyl & disp & hp & drat & wt & qsec & vs & am & gear & carb\\\\\n",
       "\\hline\n",
       "\tMazda RX4 & 21.0  & 6     & 160.0 & 110   & 3.90  & 2.620 & 16.46 & 0     & 1     & 4     & 4    \\\\\n",
       "\tMazda RX4 Wag & 21.0  & 6     & 160.0 & 110   & 3.90  & 2.875 & 17.02 & 0     & 1     & 4     & 4    \\\\\n",
       "\tDatsun 710 & 22.8  & 4     & 108.0 &  93   & 3.85  & 2.320 & 18.61 & 1     & 1     & 4     & 1    \\\\\n",
       "\tHornet 4 Drive & 21.4  & 6     & 258.0 & 110   & 3.08  & 3.215 & 19.44 & 1     & 0     & 3     & 1    \\\\\n",
       "\tHornet Sportabout & 18.7  & 8     & 360.0 & 175   & 3.15  & 3.440 & 17.02 & 0     & 0     & 3     & 2    \\\\\n",
       "\tValiant & 18.1  & 6     & 225.0 & 105   & 2.76  & 3.460 & 20.22 & 1     & 0     & 3     & 1    \\\\\n",
       "\tDuster 360 & 14.3  & 8     & 360.0 & 245   & 3.21  & 3.570 & 15.84 & 0     & 0     & 3     & 4    \\\\\n",
       "\tMerc 240D & 24.4  & 4     & 146.7 &  62   & 3.69  & 3.190 & 20.00 & 1     & 0     & 4     & 2    \\\\\n",
       "\tMerc 230 & 22.8  & 4     & 140.8 &  95   & 3.92  & 3.150 & 22.90 & 1     & 0     & 4     & 2    \\\\\n",
       "\tMerc 280 & 19.2  & 6     & 167.6 & 123   & 3.92  & 3.440 & 18.30 & 1     & 0     & 4     & 4    \\\\\n",
       "\tMerc 280C & 17.8  & 6     & 167.6 & 123   & 3.92  & 3.440 & 18.90 & 1     & 0     & 4     & 4    \\\\\n",
       "\tMerc 450SE & 16.4  & 8     & 275.8 & 180   & 3.07  & 4.070 & 17.40 & 0     & 0     & 3     & 3    \\\\\n",
       "\tMerc 450SL & 17.3  & 8     & 275.8 & 180   & 3.07  & 3.730 & 17.60 & 0     & 0     & 3     & 3    \\\\\n",
       "\tMerc 450SLC & 15.2  & 8     & 275.8 & 180   & 3.07  & 3.780 & 18.00 & 0     & 0     & 3     & 3    \\\\\n",
       "\tCadillac Fleetwood & 10.4  & 8     & 472.0 & 205   & 2.93  & 5.250 & 17.98 & 0     & 0     & 3     & 4    \\\\\n",
       "\tLincoln Continental & 10.4  & 8     & 460.0 & 215   & 3.00  & 5.424 & 17.82 & 0     & 0     & 3     & 4    \\\\\n",
       "\tChrysler Imperial & 14.7  & 8     & 440.0 & 230   & 3.23  & 5.345 & 17.42 & 0     & 0     & 3     & 4    \\\\\n",
       "\tFiat 128 & 32.4  & 4     &  78.7 &  66   & 4.08  & 2.200 & 19.47 & 1     & 1     & 4     & 1    \\\\\n",
       "\tHonda Civic & 30.4  & 4     &  75.7 &  52   & 4.93  & 1.615 & 18.52 & 1     & 1     & 4     & 2    \\\\\n",
       "\tToyota Corolla & 33.9  & 4     &  71.1 &  65   & 4.22  & 1.835 & 19.90 & 1     & 1     & 4     & 1    \\\\\n",
       "\tToyota Corona & 21.5  & 4     & 120.1 &  97   & 3.70  & 2.465 & 20.01 & 1     & 0     & 3     & 1    \\\\\n",
       "\tDodge Challenger & 15.5  & 8     & 318.0 & 150   & 2.76  & 3.520 & 16.87 & 0     & 0     & 3     & 2    \\\\\n",
       "\tAMC Javelin & 15.2  & 8     & 304.0 & 150   & 3.15  & 3.435 & 17.30 & 0     & 0     & 3     & 2    \\\\\n",
       "\tCamaro Z28 & 13.3  & 8     & 350.0 & 245   & 3.73  & 3.840 & 15.41 & 0     & 0     & 3     & 4    \\\\\n",
       "\tPontiac Firebird & 19.2  & 8     & 400.0 & 175   & 3.08  & 3.845 & 17.05 & 0     & 0     & 3     & 2    \\\\\n",
       "\tFiat X1-9 & 27.3  & 4     &  79.0 &  66   & 4.08  & 1.935 & 18.90 & 1     & 1     & 4     & 1    \\\\\n",
       "\tPorsche 914-2 & 26.0  & 4     & 120.3 &  91   & 4.43  & 2.140 & 16.70 & 0     & 1     & 5     & 2    \\\\\n",
       "\tLotus Europa & 30.4  & 4     &  95.1 & 113   & 3.77  & 1.513 & 16.90 & 1     & 1     & 5     & 2    \\\\\n",
       "\tFord Pantera L & 15.8  & 8     & 351.0 & 264   & 4.22  & 3.170 & 14.50 & 0     & 1     & 5     & 4    \\\\\n",
       "\tFerrari Dino & 19.7  & 6     & 145.0 & 175   & 3.62  & 2.770 & 15.50 & 0     & 1     & 5     & 6    \\\\\n",
       "\tMaserati Bora & 15.0  & 8     & 301.0 & 335   & 3.54  & 3.570 & 14.60 & 0     & 1     & 5     & 8    \\\\\n",
       "\tVolvo 142E & 21.4  & 4     & 121.0 & 109   & 4.11  & 2.780 & 18.60 & 1     & 1     & 4     & 2    \\\\\n",
       "\\end{tabular}\n"
      ],
      "text/markdown": [
       "\n",
       "| <!--/--> | mpg | cyl | disp | hp | drat | wt | qsec | vs | am | gear | carb |\n",
       "|---|---|---|---|---|---|---|---|---|---|---|---|\n",
       "| Mazda RX4 | 21.0  | 6     | 160.0 | 110   | 3.90  | 2.620 | 16.46 | 0     | 1     | 4     | 4     |\n",
       "| Mazda RX4 Wag | 21.0  | 6     | 160.0 | 110   | 3.90  | 2.875 | 17.02 | 0     | 1     | 4     | 4     |\n",
       "| Datsun 710 | 22.8  | 4     | 108.0 |  93   | 3.85  | 2.320 | 18.61 | 1     | 1     | 4     | 1     |\n",
       "| Hornet 4 Drive | 21.4  | 6     | 258.0 | 110   | 3.08  | 3.215 | 19.44 | 1     | 0     | 3     | 1     |\n",
       "| Hornet Sportabout | 18.7  | 8     | 360.0 | 175   | 3.15  | 3.440 | 17.02 | 0     | 0     | 3     | 2     |\n",
       "| Valiant | 18.1  | 6     | 225.0 | 105   | 2.76  | 3.460 | 20.22 | 1     | 0     | 3     | 1     |\n",
       "| Duster 360 | 14.3  | 8     | 360.0 | 245   | 3.21  | 3.570 | 15.84 | 0     | 0     | 3     | 4     |\n",
       "| Merc 240D | 24.4  | 4     | 146.7 |  62   | 3.69  | 3.190 | 20.00 | 1     | 0     | 4     | 2     |\n",
       "| Merc 230 | 22.8  | 4     | 140.8 |  95   | 3.92  | 3.150 | 22.90 | 1     | 0     | 4     | 2     |\n",
       "| Merc 280 | 19.2  | 6     | 167.6 | 123   | 3.92  | 3.440 | 18.30 | 1     | 0     | 4     | 4     |\n",
       "| Merc 280C | 17.8  | 6     | 167.6 | 123   | 3.92  | 3.440 | 18.90 | 1     | 0     | 4     | 4     |\n",
       "| Merc 450SE | 16.4  | 8     | 275.8 | 180   | 3.07  | 4.070 | 17.40 | 0     | 0     | 3     | 3     |\n",
       "| Merc 450SL | 17.3  | 8     | 275.8 | 180   | 3.07  | 3.730 | 17.60 | 0     | 0     | 3     | 3     |\n",
       "| Merc 450SLC | 15.2  | 8     | 275.8 | 180   | 3.07  | 3.780 | 18.00 | 0     | 0     | 3     | 3     |\n",
       "| Cadillac Fleetwood | 10.4  | 8     | 472.0 | 205   | 2.93  | 5.250 | 17.98 | 0     | 0     | 3     | 4     |\n",
       "| Lincoln Continental | 10.4  | 8     | 460.0 | 215   | 3.00  | 5.424 | 17.82 | 0     | 0     | 3     | 4     |\n",
       "| Chrysler Imperial | 14.7  | 8     | 440.0 | 230   | 3.23  | 5.345 | 17.42 | 0     | 0     | 3     | 4     |\n",
       "| Fiat 128 | 32.4  | 4     |  78.7 |  66   | 4.08  | 2.200 | 19.47 | 1     | 1     | 4     | 1     |\n",
       "| Honda Civic | 30.4  | 4     |  75.7 |  52   | 4.93  | 1.615 | 18.52 | 1     | 1     | 4     | 2     |\n",
       "| Toyota Corolla | 33.9  | 4     |  71.1 |  65   | 4.22  | 1.835 | 19.90 | 1     | 1     | 4     | 1     |\n",
       "| Toyota Corona | 21.5  | 4     | 120.1 |  97   | 3.70  | 2.465 | 20.01 | 1     | 0     | 3     | 1     |\n",
       "| Dodge Challenger | 15.5  | 8     | 318.0 | 150   | 2.76  | 3.520 | 16.87 | 0     | 0     | 3     | 2     |\n",
       "| AMC Javelin | 15.2  | 8     | 304.0 | 150   | 3.15  | 3.435 | 17.30 | 0     | 0     | 3     | 2     |\n",
       "| Camaro Z28 | 13.3  | 8     | 350.0 | 245   | 3.73  | 3.840 | 15.41 | 0     | 0     | 3     | 4     |\n",
       "| Pontiac Firebird | 19.2  | 8     | 400.0 | 175   | 3.08  | 3.845 | 17.05 | 0     | 0     | 3     | 2     |\n",
       "| Fiat X1-9 | 27.3  | 4     |  79.0 |  66   | 4.08  | 1.935 | 18.90 | 1     | 1     | 4     | 1     |\n",
       "| Porsche 914-2 | 26.0  | 4     | 120.3 |  91   | 4.43  | 2.140 | 16.70 | 0     | 1     | 5     | 2     |\n",
       "| Lotus Europa | 30.4  | 4     |  95.1 | 113   | 3.77  | 1.513 | 16.90 | 1     | 1     | 5     | 2     |\n",
       "| Ford Pantera L | 15.8  | 8     | 351.0 | 264   | 4.22  | 3.170 | 14.50 | 0     | 1     | 5     | 4     |\n",
       "| Ferrari Dino | 19.7  | 6     | 145.0 | 175   | 3.62  | 2.770 | 15.50 | 0     | 1     | 5     | 6     |\n",
       "| Maserati Bora | 15.0  | 8     | 301.0 | 335   | 3.54  | 3.570 | 14.60 | 0     | 1     | 5     | 8     |\n",
       "| Volvo 142E | 21.4  | 4     | 121.0 | 109   | 4.11  | 2.780 | 18.60 | 1     | 1     | 4     | 2     |\n",
       "\n"
      ],
      "text/plain": [
       "                    mpg  cyl disp  hp  drat wt    qsec  vs am gear carb\n",
       "Mazda RX4           21.0 6   160.0 110 3.90 2.620 16.46 0  1  4    4   \n",
       "Mazda RX4 Wag       21.0 6   160.0 110 3.90 2.875 17.02 0  1  4    4   \n",
       "Datsun 710          22.8 4   108.0  93 3.85 2.320 18.61 1  1  4    1   \n",
       "Hornet 4 Drive      21.4 6   258.0 110 3.08 3.215 19.44 1  0  3    1   \n",
       "Hornet Sportabout   18.7 8   360.0 175 3.15 3.440 17.02 0  0  3    2   \n",
       "Valiant             18.1 6   225.0 105 2.76 3.460 20.22 1  0  3    1   \n",
       "Duster 360          14.3 8   360.0 245 3.21 3.570 15.84 0  0  3    4   \n",
       "Merc 240D           24.4 4   146.7  62 3.69 3.190 20.00 1  0  4    2   \n",
       "Merc 230            22.8 4   140.8  95 3.92 3.150 22.90 1  0  4    2   \n",
       "Merc 280            19.2 6   167.6 123 3.92 3.440 18.30 1  0  4    4   \n",
       "Merc 280C           17.8 6   167.6 123 3.92 3.440 18.90 1  0  4    4   \n",
       "Merc 450SE          16.4 8   275.8 180 3.07 4.070 17.40 0  0  3    3   \n",
       "Merc 450SL          17.3 8   275.8 180 3.07 3.730 17.60 0  0  3    3   \n",
       "Merc 450SLC         15.2 8   275.8 180 3.07 3.780 18.00 0  0  3    3   \n",
       "Cadillac Fleetwood  10.4 8   472.0 205 2.93 5.250 17.98 0  0  3    4   \n",
       "Lincoln Continental 10.4 8   460.0 215 3.00 5.424 17.82 0  0  3    4   \n",
       "Chrysler Imperial   14.7 8   440.0 230 3.23 5.345 17.42 0  0  3    4   \n",
       "Fiat 128            32.4 4    78.7  66 4.08 2.200 19.47 1  1  4    1   \n",
       "Honda Civic         30.4 4    75.7  52 4.93 1.615 18.52 1  1  4    2   \n",
       "Toyota Corolla      33.9 4    71.1  65 4.22 1.835 19.90 1  1  4    1   \n",
       "Toyota Corona       21.5 4   120.1  97 3.70 2.465 20.01 1  0  3    1   \n",
       "Dodge Challenger    15.5 8   318.0 150 2.76 3.520 16.87 0  0  3    2   \n",
       "AMC Javelin         15.2 8   304.0 150 3.15 3.435 17.30 0  0  3    2   \n",
       "Camaro Z28          13.3 8   350.0 245 3.73 3.840 15.41 0  0  3    4   \n",
       "Pontiac Firebird    19.2 8   400.0 175 3.08 3.845 17.05 0  0  3    2   \n",
       "Fiat X1-9           27.3 4    79.0  66 4.08 1.935 18.90 1  1  4    1   \n",
       "Porsche 914-2       26.0 4   120.3  91 4.43 2.140 16.70 0  1  5    2   \n",
       "Lotus Europa        30.4 4    95.1 113 3.77 1.513 16.90 1  1  5    2   \n",
       "Ford Pantera L      15.8 8   351.0 264 4.22 3.170 14.50 0  1  5    4   \n",
       "Ferrari Dino        19.7 6   145.0 175 3.62 2.770 15.50 0  1  5    6   \n",
       "Maserati Bora       15.0 8   301.0 335 3.54 3.570 14.60 0  1  5    8   \n",
       "Volvo 142E          21.4 4   121.0 109 4.11 2.780 18.60 1  1  4    2   "
      ]
     },
     "metadata": {},
     "output_type": "display_data"
    }
   ],
   "source": [
    "# Print out built-in R data frame\n",
    "mtcars "
   ]
  },
  {
   "cell_type": "markdown",
   "id": "d74046b2-6b9d-4105-a434-9f2c3149b14a",
   "metadata": {},
   "source": [
    "The function `head()` enables you to show the first observations of a data frame. Similarly, the function `tail()` prints out the last observations in your data set.\n",
    "\n",
    "Both `head()` and `tail()` print a top line called the 'header', which contains the names of the different variables in your data set."
   ]
  },
  {
   "cell_type": "code",
   "execution_count": 50,
   "id": "3357ca81-3de8-4ed7-86ec-78db77e50ed3",
   "metadata": {},
   "outputs": [
    {
     "data": {
      "text/html": [
       "<table>\n",
       "<thead><tr><th></th><th scope=col>mpg</th><th scope=col>cyl</th><th scope=col>disp</th><th scope=col>hp</th><th scope=col>drat</th><th scope=col>wt</th><th scope=col>qsec</th><th scope=col>vs</th><th scope=col>am</th><th scope=col>gear</th><th scope=col>carb</th></tr></thead>\n",
       "<tbody>\n",
       "\t<tr><th scope=row>Mazda RX4</th><td>21.0 </td><td>6    </td><td>160  </td><td>110  </td><td>3.90 </td><td>2.620</td><td>16.46</td><td>0    </td><td>1    </td><td>4    </td><td>4    </td></tr>\n",
       "\t<tr><th scope=row>Mazda RX4 Wag</th><td>21.0 </td><td>6    </td><td>160  </td><td>110  </td><td>3.90 </td><td>2.875</td><td>17.02</td><td>0    </td><td>1    </td><td>4    </td><td>4    </td></tr>\n",
       "\t<tr><th scope=row>Datsun 710</th><td>22.8 </td><td>4    </td><td>108  </td><td> 93  </td><td>3.85 </td><td>2.320</td><td>18.61</td><td>1    </td><td>1    </td><td>4    </td><td>1    </td></tr>\n",
       "\t<tr><th scope=row>Hornet 4 Drive</th><td>21.4 </td><td>6    </td><td>258  </td><td>110  </td><td>3.08 </td><td>3.215</td><td>19.44</td><td>1    </td><td>0    </td><td>3    </td><td>1    </td></tr>\n",
       "\t<tr><th scope=row>Hornet Sportabout</th><td>18.7 </td><td>8    </td><td>360  </td><td>175  </td><td>3.15 </td><td>3.440</td><td>17.02</td><td>0    </td><td>0    </td><td>3    </td><td>2    </td></tr>\n",
       "\t<tr><th scope=row>Valiant</th><td>18.1 </td><td>6    </td><td>225  </td><td>105  </td><td>2.76 </td><td>3.460</td><td>20.22</td><td>1    </td><td>0    </td><td>3    </td><td>1    </td></tr>\n",
       "</tbody>\n",
       "</table>\n"
      ],
      "text/latex": [
       "\\begin{tabular}{r|lllllllllll}\n",
       "  & mpg & cyl & disp & hp & drat & wt & qsec & vs & am & gear & carb\\\\\n",
       "\\hline\n",
       "\tMazda RX4 & 21.0  & 6     & 160   & 110   & 3.90  & 2.620 & 16.46 & 0     & 1     & 4     & 4    \\\\\n",
       "\tMazda RX4 Wag & 21.0  & 6     & 160   & 110   & 3.90  & 2.875 & 17.02 & 0     & 1     & 4     & 4    \\\\\n",
       "\tDatsun 710 & 22.8  & 4     & 108   &  93   & 3.85  & 2.320 & 18.61 & 1     & 1     & 4     & 1    \\\\\n",
       "\tHornet 4 Drive & 21.4  & 6     & 258   & 110   & 3.08  & 3.215 & 19.44 & 1     & 0     & 3     & 1    \\\\\n",
       "\tHornet Sportabout & 18.7  & 8     & 360   & 175   & 3.15  & 3.440 & 17.02 & 0     & 0     & 3     & 2    \\\\\n",
       "\tValiant & 18.1  & 6     & 225   & 105   & 2.76  & 3.460 & 20.22 & 1     & 0     & 3     & 1    \\\\\n",
       "\\end{tabular}\n"
      ],
      "text/markdown": [
       "\n",
       "| <!--/--> | mpg | cyl | disp | hp | drat | wt | qsec | vs | am | gear | carb |\n",
       "|---|---|---|---|---|---|---|---|---|---|---|---|\n",
       "| Mazda RX4 | 21.0  | 6     | 160   | 110   | 3.90  | 2.620 | 16.46 | 0     | 1     | 4     | 4     |\n",
       "| Mazda RX4 Wag | 21.0  | 6     | 160   | 110   | 3.90  | 2.875 | 17.02 | 0     | 1     | 4     | 4     |\n",
       "| Datsun 710 | 22.8  | 4     | 108   |  93   | 3.85  | 2.320 | 18.61 | 1     | 1     | 4     | 1     |\n",
       "| Hornet 4 Drive | 21.4  | 6     | 258   | 110   | 3.08  | 3.215 | 19.44 | 1     | 0     | 3     | 1     |\n",
       "| Hornet Sportabout | 18.7  | 8     | 360   | 175   | 3.15  | 3.440 | 17.02 | 0     | 0     | 3     | 2     |\n",
       "| Valiant | 18.1  | 6     | 225   | 105   | 2.76  | 3.460 | 20.22 | 1     | 0     | 3     | 1     |\n",
       "\n"
      ],
      "text/plain": [
       "                  mpg  cyl disp hp  drat wt    qsec  vs am gear carb\n",
       "Mazda RX4         21.0 6   160  110 3.90 2.620 16.46 0  1  4    4   \n",
       "Mazda RX4 Wag     21.0 6   160  110 3.90 2.875 17.02 0  1  4    4   \n",
       "Datsun 710        22.8 4   108   93 3.85 2.320 18.61 1  1  4    1   \n",
       "Hornet 4 Drive    21.4 6   258  110 3.08 3.215 19.44 1  0  3    1   \n",
       "Hornet Sportabout 18.7 8   360  175 3.15 3.440 17.02 0  0  3    2   \n",
       "Valiant           18.1 6   225  105 2.76 3.460 20.22 1  0  3    1   "
      ]
     },
     "metadata": {},
     "output_type": "display_data"
    }
   ],
   "source": [
    "# Call head() on mtcars\n",
    "head(mtcars)"
   ]
  },
  {
   "cell_type": "markdown",
   "id": "43614ae0-0877-48b7-b360-0cf2e49bbf77",
   "metadata": {},
   "source": [
    "The function `str()` shows you the structure of your data set. For a data frame it tells you:\n",
    "\n",
    "    The total number of observations (e.g. 32 car types)\n",
    "    The total number of variables (e.g. 11 car features)\n",
    "    A full list of the variables names (e.g. mpg, cyl … )\n",
    "    The data type of each variable (e.g. num)\n",
    "    The first observations"
   ]
  },
  {
   "cell_type": "code",
   "execution_count": 51,
   "id": "0a28ccce-dedb-4aca-85eb-dcab2995811d",
   "metadata": {},
   "outputs": [
    {
     "name": "stdout",
     "output_type": "stream",
     "text": [
      "'data.frame':\t32 obs. of  11 variables:\n",
      " $ mpg : num  21 21 22.8 21.4 18.7 18.1 14.3 24.4 22.8 19.2 ...\n",
      " $ cyl : num  6 6 4 6 8 6 8 4 4 6 ...\n",
      " $ disp: num  160 160 108 258 360 ...\n",
      " $ hp  : num  110 110 93 110 175 105 245 62 95 123 ...\n",
      " $ drat: num  3.9 3.9 3.85 3.08 3.15 2.76 3.21 3.69 3.92 3.92 ...\n",
      " $ wt  : num  2.62 2.88 2.32 3.21 3.44 ...\n",
      " $ qsec: num  16.5 17 18.6 19.4 17 ...\n",
      " $ vs  : num  0 0 1 1 0 1 0 1 1 1 ...\n",
      " $ am  : num  1 1 1 0 0 0 0 0 0 0 ...\n",
      " $ gear: num  4 4 4 3 3 3 3 4 4 4 ...\n",
      " $ carb: num  4 4 1 1 2 1 4 2 2 4 ...\n"
     ]
    }
   ],
   "source": [
    "# Investigate the structure of mtcars\n",
    "str(mtcars)"
   ]
  },
  {
   "cell_type": "markdown",
   "id": "a09fa83f-16b8-4cf2-851e-3f22d6695181",
   "metadata": {},
   "source": [
    "## Creating a data frame\n",
    "As a first goal, you want to construct a data frame that describes the main characteristics of eight planets in our solar system. According to your good friend Buzz, the main features of a planet are:\n",
    "\n",
    "    The type of planet (Terrestrial or Gas Giant).\n",
    "    The planet's diameter relative to the diameter of the Earth.\n",
    "    The planet's rotation across the sun relative to that of the Earth.\n",
    "    If the planet has rings or not (TRUE or FALSE).\n",
    "    \n",
    "After doing some high-quality research on [Wikipedia](http://en.wikipedia.org/wiki/Planet), you feel confident enough to create the necessary vectors: `name`, `type`, `diameter`, `rotation` and `rings`; these vectors have already been coded up in the editor. The first element in each of these vectors correspond to the first observation."
   ]
  },
  {
   "cell_type": "code",
   "execution_count": 53,
   "id": "c4055ae2-4df8-4bea-a99d-9d1b33d5b520",
   "metadata": {},
   "outputs": [
    {
     "data": {
      "text/html": [
       "<table>\n",
       "<thead><tr><th scope=col>name</th><th scope=col>type</th><th scope=col>diameter</th><th scope=col>rotation</th><th scope=col>rings</th></tr></thead>\n",
       "<tbody>\n",
       "\t<tr><td>Mercury           </td><td>Terrestrial planet</td><td> 0.382            </td><td>  58.64           </td><td>FALSE             </td></tr>\n",
       "\t<tr><td>Venus             </td><td>Terrestrial planet</td><td> 0.949            </td><td>-243.02           </td><td>FALSE             </td></tr>\n",
       "\t<tr><td>Earth             </td><td>Terrestrial planet</td><td> 1.000            </td><td>   1.00           </td><td>FALSE             </td></tr>\n",
       "\t<tr><td>Mars              </td><td>Terrestrial planet</td><td> 0.532            </td><td>   1.03           </td><td>FALSE             </td></tr>\n",
       "\t<tr><td>Jupiter           </td><td>Gas giant         </td><td>11.209            </td><td>   0.41           </td><td> TRUE             </td></tr>\n",
       "\t<tr><td>Saturn            </td><td>Gas giant         </td><td> 9.449            </td><td>   0.43           </td><td> TRUE             </td></tr>\n",
       "\t<tr><td>Uranus            </td><td>Gas giant         </td><td> 4.007            </td><td>  -0.72           </td><td> TRUE             </td></tr>\n",
       "\t<tr><td>Neptune           </td><td>Gas giant         </td><td> 3.883            </td><td>   0.67           </td><td> TRUE             </td></tr>\n",
       "</tbody>\n",
       "</table>\n"
      ],
      "text/latex": [
       "\\begin{tabular}{r|lllll}\n",
       " name & type & diameter & rotation & rings\\\\\n",
       "\\hline\n",
       "\t Mercury            & Terrestrial planet &  0.382             &   58.64            & FALSE             \\\\\n",
       "\t Venus              & Terrestrial planet &  0.949             & -243.02            & FALSE             \\\\\n",
       "\t Earth              & Terrestrial planet &  1.000             &    1.00            & FALSE             \\\\\n",
       "\t Mars               & Terrestrial planet &  0.532             &    1.03            & FALSE             \\\\\n",
       "\t Jupiter            & Gas giant          & 11.209             &    0.41            &  TRUE             \\\\\n",
       "\t Saturn             & Gas giant          &  9.449             &    0.43            &  TRUE             \\\\\n",
       "\t Uranus             & Gas giant          &  4.007             &   -0.72            &  TRUE             \\\\\n",
       "\t Neptune            & Gas giant          &  3.883             &    0.67            &  TRUE             \\\\\n",
       "\\end{tabular}\n"
      ],
      "text/markdown": [
       "\n",
       "| name | type | diameter | rotation | rings |\n",
       "|---|---|---|---|---|\n",
       "| Mercury            | Terrestrial planet |  0.382             |   58.64            | FALSE              |\n",
       "| Venus              | Terrestrial planet |  0.949             | -243.02            | FALSE              |\n",
       "| Earth              | Terrestrial planet |  1.000             |    1.00            | FALSE              |\n",
       "| Mars               | Terrestrial planet |  0.532             |    1.03            | FALSE              |\n",
       "| Jupiter            | Gas giant          | 11.209             |    0.41            |  TRUE              |\n",
       "| Saturn             | Gas giant          |  9.449             |    0.43            |  TRUE              |\n",
       "| Uranus             | Gas giant          |  4.007             |   -0.72            |  TRUE              |\n",
       "| Neptune            | Gas giant          |  3.883             |    0.67            |  TRUE              |\n",
       "\n"
      ],
      "text/plain": [
       "  name    type               diameter rotation rings\n",
       "1 Mercury Terrestrial planet  0.382     58.64  FALSE\n",
       "2 Venus   Terrestrial planet  0.949   -243.02  FALSE\n",
       "3 Earth   Terrestrial planet  1.000      1.00  FALSE\n",
       "4 Mars    Terrestrial planet  0.532      1.03  FALSE\n",
       "5 Jupiter Gas giant          11.209      0.41   TRUE\n",
       "6 Saturn  Gas giant           9.449      0.43   TRUE\n",
       "7 Uranus  Gas giant           4.007     -0.72   TRUE\n",
       "8 Neptune Gas giant           3.883      0.67   TRUE"
      ]
     },
     "metadata": {},
     "output_type": "display_data"
    }
   ],
   "source": [
    "# Definition of vectors\n",
    "name <- c(\"Mercury\", \"Venus\", \"Earth\", \n",
    "          \"Mars\", \"Jupiter\", \"Saturn\", \n",
    "          \"Uranus\", \"Neptune\")\n",
    "type <- c(\"Terrestrial planet\", \n",
    "          \"Terrestrial planet\", \n",
    "          \"Terrestrial planet\", \n",
    "          \"Terrestrial planet\", \"Gas giant\", \n",
    "          \"Gas giant\", \"Gas giant\", \"Gas giant\")\n",
    "diameter <- c(0.382, 0.949, 1, 0.532, \n",
    "              11.209, 9.449, 4.007, 3.883)\n",
    "rotation <- c(58.64, -243.02, 1, 1.03, \n",
    "              0.41, 0.43, -0.72, 0.67)\n",
    "rings <- c(FALSE, FALSE, FALSE, FALSE, TRUE, TRUE, TRUE, TRUE)\n",
    "\n",
    "# Create a data frame from the vectors\n",
    "planets_df <- data.frame(name, type, diameter, rotation, rings)\n",
    "\n",
    "planets_df"
   ]
  },
  {
   "cell_type": "code",
   "execution_count": 54,
   "id": "66c975f8-eaa2-4866-921a-14ee094db707",
   "metadata": {},
   "outputs": [
    {
     "name": "stdout",
     "output_type": "stream",
     "text": [
      "'data.frame':\t8 obs. of  5 variables:\n",
      " $ name    : Factor w/ 8 levels \"Earth\",\"Jupiter\",..: 4 8 1 3 2 6 7 5\n",
      " $ type    : Factor w/ 2 levels \"Gas giant\",\"Terrestrial planet\": 2 2 2 2 1 1 1 1\n",
      " $ diameter: num  0.382 0.949 1 0.532 11.209 ...\n",
      " $ rotation: num  58.64 -243.02 1 1.03 0.41 ...\n",
      " $ rings   : logi  FALSE FALSE FALSE FALSE TRUE TRUE ...\n"
     ]
    }
   ],
   "source": [
    "# Check the structure of planets_df\n",
    "str(planets_df)"
   ]
  },
  {
   "cell_type": "markdown",
   "id": "78ef5ce5-9ab4-4252-99ca-d6993aeb6808",
   "metadata": {},
   "source": [
    "## Selection of data frame elements\n",
    "Similar to vectors and matrices, you select elements from a data frame with the help of square brackets `[ ]`. By using a comma, you can indicate what to select from the rows and the columns respectively. For example:\n",
    "\n",
    "`my_df[1,2]` selects the value at the first row and second column in `my_df`.\n",
    "`my_df[1:3,2:4]` selects rows 1, 2, 3 and columns 2, 3, 4 in `my_df`.\n",
    "Sometimes you want to select all elements of a row or column. For example, `my_df[1, ]` selects all elements of the first row. "
   ]
  },
  {
   "cell_type": "code",
   "execution_count": 55,
   "id": "3da24911-3b15-47ec-8d0f-faa12e31bf68",
   "metadata": {},
   "outputs": [
    {
     "data": {
      "text/html": [
       "0.382"
      ],
      "text/latex": [
       "0.382"
      ],
      "text/markdown": [
       "0.382"
      ],
      "text/plain": [
       "[1] 0.382"
      ]
     },
     "metadata": {},
     "output_type": "display_data"
    }
   ],
   "source": [
    "# Print out diameter of Mercury (row 1, column 3)\n",
    "planets_df[1, 3]"
   ]
  },
  {
   "cell_type": "code",
   "execution_count": 56,
   "id": "b671fce0-654f-4670-a9a2-7da1f55fcd65",
   "metadata": {},
   "outputs": [
    {
     "data": {
      "text/html": [
       "<table>\n",
       "<thead><tr><th></th><th scope=col>name</th><th scope=col>type</th><th scope=col>diameter</th><th scope=col>rotation</th><th scope=col>rings</th></tr></thead>\n",
       "<tbody>\n",
       "\t<tr><th scope=row>4</th><td>Mars              </td><td>Terrestrial planet</td><td>0.532             </td><td>1.03              </td><td>FALSE             </td></tr>\n",
       "</tbody>\n",
       "</table>\n"
      ],
      "text/latex": [
       "\\begin{tabular}{r|lllll}\n",
       "  & name & type & diameter & rotation & rings\\\\\n",
       "\\hline\n",
       "\t4 & Mars               & Terrestrial planet & 0.532              & 1.03               & FALSE             \\\\\n",
       "\\end{tabular}\n"
      ],
      "text/markdown": [
       "\n",
       "| <!--/--> | name | type | diameter | rotation | rings |\n",
       "|---|---|---|---|---|---|\n",
       "| 4 | Mars               | Terrestrial planet | 0.532              | 1.03               | FALSE              |\n",
       "\n"
      ],
      "text/plain": [
       "  name type               diameter rotation rings\n",
       "4 Mars Terrestrial planet 0.532    1.03     FALSE"
      ]
     },
     "metadata": {},
     "output_type": "display_data"
    }
   ],
   "source": [
    "# Print out data for Mars (entire fourth row)\n",
    "planets_df[4,]"
   ]
  },
  {
   "cell_type": "markdown",
   "id": "e19ff418-7e06-4132-b1c7-5601837dcf27",
   "metadata": {},
   "source": [
    "Instead of using numerics to select elements of a data frame, you can also use the variable names to select columns of a data frame.\n",
    "\n",
    "Suppose you want to select the first three elements of the `type` column. One way to do this is\n",
    "```r\n",
    "planets_df[1:3,2]\n",
    "```\n",
    "A possible disadvantage of this approach is that you have to know (or look up) the column number of `type`, which gets hard if you have a lot of variables. It is often easier to just make use of the variable name:\n",
    "```r\n",
    "planets_df[1:3,\"type\"]\n",
    "```"
   ]
  },
  {
   "cell_type": "code",
   "execution_count": 57,
   "id": "efdafc3f-bcc8-4abf-a1a6-6023623a9a50",
   "metadata": {},
   "outputs": [
    {
     "data": {
      "text/html": [
       "<ol class=list-inline>\n",
       "\t<li>0.382</li>\n",
       "\t<li>0.949</li>\n",
       "\t<li>1</li>\n",
       "\t<li>0.532</li>\n",
       "\t<li>11.209</li>\n",
       "</ol>\n"
      ],
      "text/latex": [
       "\\begin{enumerate*}\n",
       "\\item 0.382\n",
       "\\item 0.949\n",
       "\\item 1\n",
       "\\item 0.532\n",
       "\\item 11.209\n",
       "\\end{enumerate*}\n"
      ],
      "text/markdown": [
       "1. 0.382\n",
       "2. 0.949\n",
       "3. 1\n",
       "4. 0.532\n",
       "5. 11.209\n",
       "\n",
       "\n"
      ],
      "text/plain": [
       "[1]  0.382  0.949  1.000  0.532 11.209"
      ]
     },
     "metadata": {},
     "output_type": "display_data"
    }
   ],
   "source": [
    "# Select first 5 values of diameter column\n",
    "planets_df[1:5, 'diameter']"
   ]
  },
  {
   "cell_type": "markdown",
   "id": "355917f8-4fed-4fa4-b238-69c0a8519a15",
   "metadata": {},
   "source": [
    "## Only planets with rings\n",
    "You will often want to select an entire column, namely one specific variable from a data frame. If you want to select all elements of the variable `diameter`, for example, both of these will do the trick:\n",
    "```r\n",
    "planets_df[,3]\n",
    "planets_df[,\"diameter\"]\n",
    "```\n",
    "However, there is a short-cut. If your columns have names, you can use the `$` sign:\n",
    "```r\n",
    "planets_df$diameter\n",
    "```"
   ]
  },
  {
   "cell_type": "code",
   "execution_count": 58,
   "id": "9c45a729-339e-4c6c-81ff-dd262e234285",
   "metadata": {},
   "outputs": [
    {
     "data": {
      "text/html": [
       "<ol class=list-inline>\n",
       "\t<li>FALSE</li>\n",
       "\t<li>FALSE</li>\n",
       "\t<li>FALSE</li>\n",
       "\t<li>FALSE</li>\n",
       "\t<li>TRUE</li>\n",
       "\t<li>TRUE</li>\n",
       "\t<li>TRUE</li>\n",
       "\t<li>TRUE</li>\n",
       "</ol>\n"
      ],
      "text/latex": [
       "\\begin{enumerate*}\n",
       "\\item FALSE\n",
       "\\item FALSE\n",
       "\\item FALSE\n",
       "\\item FALSE\n",
       "\\item TRUE\n",
       "\\item TRUE\n",
       "\\item TRUE\n",
       "\\item TRUE\n",
       "\\end{enumerate*}\n"
      ],
      "text/markdown": [
       "1. FALSE\n",
       "2. FALSE\n",
       "3. FALSE\n",
       "4. FALSE\n",
       "5. TRUE\n",
       "6. TRUE\n",
       "7. TRUE\n",
       "8. TRUE\n",
       "\n",
       "\n"
      ],
      "text/plain": [
       "[1] FALSE FALSE FALSE FALSE  TRUE  TRUE  TRUE  TRUE"
      ]
     },
     "metadata": {},
     "output_type": "display_data"
    }
   ],
   "source": [
    "# Select the rings variable from planets_df\n",
    "rings_vector <- planets_df$rings\n",
    "  \n",
    "# Print out rings_vector\n",
    "rings_vector"
   ]
  },
  {
   "cell_type": "markdown",
   "id": "70004c71-3c99-425d-a003-bfacd39de635",
   "metadata": {},
   "source": [
    "You probably remember from high school that some planets in our solar system have rings and others do not. Unfortunately you can not recall their names. Could R help you out?\n",
    "\n",
    "If you type `rings_vector` in the console, you get:\n",
    "```r\n",
    "[1] FALSE FALSE FALSE FALSE  TRUE  TRUE  TRUE  TRUE\n",
    "```\n",
    "This means that the first four observations (or planets) do not have a ring (`FALSE`), but the other four do (`TRUE`). However, you do not get a nice overview of the names of these planets, their diameter, etc. \n",
    "\n",
    "Let's try to use `rings_vector` to select the data for the four planets with rings."
   ]
  },
  {
   "cell_type": "code",
   "execution_count": 59,
   "id": "c89252e2-715d-4885-ab71-0ad0a50ad98a",
   "metadata": {},
   "outputs": [
    {
     "data": {
      "text/html": [
       "<table>\n",
       "<thead><tr><th></th><th scope=col>name</th><th scope=col>type</th><th scope=col>diameter</th><th scope=col>rotation</th><th scope=col>rings</th></tr></thead>\n",
       "<tbody>\n",
       "\t<tr><th scope=row>5</th><td>Jupiter  </td><td>Gas giant</td><td>11.209   </td><td> 0.41    </td><td>TRUE     </td></tr>\n",
       "\t<tr><th scope=row>6</th><td>Saturn   </td><td>Gas giant</td><td> 9.449   </td><td> 0.43    </td><td>TRUE     </td></tr>\n",
       "\t<tr><th scope=row>7</th><td>Uranus   </td><td>Gas giant</td><td> 4.007   </td><td>-0.72    </td><td>TRUE     </td></tr>\n",
       "\t<tr><th scope=row>8</th><td>Neptune  </td><td>Gas giant</td><td> 3.883   </td><td> 0.67    </td><td>TRUE     </td></tr>\n",
       "</tbody>\n",
       "</table>\n"
      ],
      "text/latex": [
       "\\begin{tabular}{r|lllll}\n",
       "  & name & type & diameter & rotation & rings\\\\\n",
       "\\hline\n",
       "\t5 & Jupiter   & Gas giant & 11.209    &  0.41     & TRUE     \\\\\n",
       "\t6 & Saturn    & Gas giant &  9.449    &  0.43     & TRUE     \\\\\n",
       "\t7 & Uranus    & Gas giant &  4.007    & -0.72     & TRUE     \\\\\n",
       "\t8 & Neptune   & Gas giant &  3.883    &  0.67     & TRUE     \\\\\n",
       "\\end{tabular}\n"
      ],
      "text/markdown": [
       "\n",
       "| <!--/--> | name | type | diameter | rotation | rings |\n",
       "|---|---|---|---|---|---|\n",
       "| 5 | Jupiter   | Gas giant | 11.209    |  0.41     | TRUE      |\n",
       "| 6 | Saturn    | Gas giant |  9.449    |  0.43     | TRUE      |\n",
       "| 7 | Uranus    | Gas giant |  4.007    | -0.72     | TRUE      |\n",
       "| 8 | Neptune   | Gas giant |  3.883    |  0.67     | TRUE      |\n",
       "\n"
      ],
      "text/plain": [
       "  name    type      diameter rotation rings\n",
       "5 Jupiter Gas giant 11.209    0.41    TRUE \n",
       "6 Saturn  Gas giant  9.449    0.43    TRUE \n",
       "7 Uranus  Gas giant  4.007   -0.72    TRUE \n",
       "8 Neptune Gas giant  3.883    0.67    TRUE "
      ]
     },
     "metadata": {},
     "output_type": "display_data"
    }
   ],
   "source": [
    "# Adapt the code to select all columns for planets with rings\n",
    "planets_df[rings_vector, ]"
   ]
  },
  {
   "cell_type": "markdown",
   "id": "5ac7f976-e245-4a75-aa44-ca9350b97c44",
   "metadata": {},
   "source": [
    "## Only planets with rings but shorter\n",
    "So what exactly did you learn in the previous exercises? You selected a subset from a data frame (`planets_df`) based on whether or not a certain condition was true (rings or no rings), and you managed to pull out all relevant data. Pretty awesome! By now, NASA is probably already flirting with your CV ;-).\n",
    "\n",
    "Now, let us move up one level and use the function `subset()`. You should see the `subset()` function as a short-cut to do exactly the same as what you did in the previous exercises.\n",
    "```r\n",
    "subset(my_df, subset = some_condition)\n",
    "```\n",
    "The first argument of `subset()` specifies the data set for which you want a subset. By adding the second argument, you give R the necessary information and conditions to select the correct subset.\n",
    "\n",
    "The code below will give the exact same result as you got in the previous exercise, but this time, you didn't need the `rings_vector`.\n",
    "```r\n",
    "subset(planets_df, subset = rings)\n",
    "```"
   ]
  },
  {
   "cell_type": "code",
   "execution_count": 60,
   "id": "9fec7641-2fd4-4b64-93c4-4c6ec1deb468",
   "metadata": {},
   "outputs": [
    {
     "data": {
      "text/html": [
       "<table>\n",
       "<thead><tr><th></th><th scope=col>name</th><th scope=col>type</th><th scope=col>diameter</th><th scope=col>rotation</th><th scope=col>rings</th></tr></thead>\n",
       "<tbody>\n",
       "\t<tr><th scope=row>1</th><td>Mercury           </td><td>Terrestrial planet</td><td>0.382             </td><td>  58.64           </td><td>FALSE             </td></tr>\n",
       "\t<tr><th scope=row>2</th><td>Venus             </td><td>Terrestrial planet</td><td>0.949             </td><td>-243.02           </td><td>FALSE             </td></tr>\n",
       "\t<tr><th scope=row>4</th><td>Mars              </td><td>Terrestrial planet</td><td>0.532             </td><td>   1.03           </td><td>FALSE             </td></tr>\n",
       "</tbody>\n",
       "</table>\n"
      ],
      "text/latex": [
       "\\begin{tabular}{r|lllll}\n",
       "  & name & type & diameter & rotation & rings\\\\\n",
       "\\hline\n",
       "\t1 & Mercury            & Terrestrial planet & 0.382              &   58.64            & FALSE             \\\\\n",
       "\t2 & Venus              & Terrestrial planet & 0.949              & -243.02            & FALSE             \\\\\n",
       "\t4 & Mars               & Terrestrial planet & 0.532              &    1.03            & FALSE             \\\\\n",
       "\\end{tabular}\n"
      ],
      "text/markdown": [
       "\n",
       "| <!--/--> | name | type | diameter | rotation | rings |\n",
       "|---|---|---|---|---|---|\n",
       "| 1 | Mercury            | Terrestrial planet | 0.382              |   58.64            | FALSE              |\n",
       "| 2 | Venus              | Terrestrial planet | 0.949              | -243.02            | FALSE              |\n",
       "| 4 | Mars               | Terrestrial planet | 0.532              |    1.03            | FALSE              |\n",
       "\n"
      ],
      "text/plain": [
       "  name    type               diameter rotation rings\n",
       "1 Mercury Terrestrial planet 0.382      58.64  FALSE\n",
       "2 Venus   Terrestrial planet 0.949    -243.02  FALSE\n",
       "4 Mars    Terrestrial planet 0.532       1.03  FALSE"
      ]
     },
     "metadata": {},
     "output_type": "display_data"
    }
   ],
   "source": [
    "# Select planets with diameter < 1\n",
    "subset(planets_df, subset = diameter < 1)"
   ]
  },
  {
   "cell_type": "markdown",
   "id": "ea13c4a4-9373-4868-9c8b-6f1da8e71961",
   "metadata": {},
   "source": [
    "*Not only is the* `subset()` *function more concise, it is probably also more understandable for people who read your code.*"
   ]
  },
  {
   "cell_type": "markdown",
   "id": "c780c2e5-08d5-4806-82dc-b9374698bf8d",
   "metadata": {},
   "source": [
    "## Sorting\n",
    "Making and creating rankings is one of mankind's favorite affairs. These rankings can be useful (best universities in the world), entertaining (most influential movie stars) or pointless (best 007 look-a-like).\n",
    "\n",
    "In data analysis you can sort your data according to a certain variable in the data set. In R, this is done with the help of the function `order()`.\n",
    "\n",
    "`order()` is a function that gives you the ranked position of each element when it is applied on a variable, such as a vector for example:"
   ]
  },
  {
   "cell_type": "code",
   "execution_count": 61,
   "id": "ac531876-8fdd-4cb2-b6f7-fb26a7d8e80e",
   "metadata": {},
   "outputs": [
    {
     "data": {
      "text/html": [
       "<ol class=list-inline>\n",
       "\t<li>2</li>\n",
       "\t<li>1</li>\n",
       "\t<li>3</li>\n",
       "</ol>\n"
      ],
      "text/latex": [
       "\\begin{enumerate*}\n",
       "\\item 2\n",
       "\\item 1\n",
       "\\item 3\n",
       "\\end{enumerate*}\n"
      ],
      "text/markdown": [
       "1. 2\n",
       "2. 1\n",
       "3. 3\n",
       "\n",
       "\n"
      ],
      "text/plain": [
       "[1] 2 1 3"
      ]
     },
     "metadata": {},
     "output_type": "display_data"
    }
   ],
   "source": [
    "a <- c(100, 10, 1000)\n",
    "order(a)"
   ]
  },
  {
   "cell_type": "markdown",
   "id": "364b0203-ca3d-468d-ac0b-7ace17e2cb2f",
   "metadata": {},
   "source": [
    "10, which is the second element in `a`, is the smallest element, so 2 comes first in the output of `order(a)`. 100, which is the first element in a is the second smallest element, so 1 comes second in the output of `order(a)`.\n",
    "\n",
    "This means we can use the output of `order(a)` to reshuffle `a`:"
   ]
  },
  {
   "cell_type": "code",
   "execution_count": 62,
   "id": "85013da7-248a-42de-94df-d56932a3c6f1",
   "metadata": {},
   "outputs": [
    {
     "data": {
      "text/html": [
       "<ol class=list-inline>\n",
       "\t<li>10</li>\n",
       "\t<li>100</li>\n",
       "\t<li>1000</li>\n",
       "</ol>\n"
      ],
      "text/latex": [
       "\\begin{enumerate*}\n",
       "\\item 10\n",
       "\\item 100\n",
       "\\item 1000\n",
       "\\end{enumerate*}\n"
      ],
      "text/markdown": [
       "1. 10\n",
       "2. 100\n",
       "3. 1000\n",
       "\n",
       "\n"
      ],
      "text/plain": [
       "[1]   10  100 1000"
      ]
     },
     "metadata": {},
     "output_type": "display_data"
    }
   ],
   "source": [
    "a[order(a)]"
   ]
  },
  {
   "cell_type": "markdown",
   "id": "89529ad6-8108-486f-bd40-d2f6ffdb4194",
   "metadata": {},
   "source": [
    "A sort on the `diameter` column."
   ]
  },
  {
   "cell_type": "code",
   "execution_count": 63,
   "id": "11adee4c-e5f5-4ad7-9c91-71f97f7875b2",
   "metadata": {},
   "outputs": [
    {
     "data": {
      "text/html": [
       "<table>\n",
       "<thead><tr><th></th><th scope=col>name</th><th scope=col>type</th><th scope=col>diameter</th><th scope=col>rotation</th><th scope=col>rings</th></tr></thead>\n",
       "<tbody>\n",
       "\t<tr><th scope=row>1</th><td>Mercury           </td><td>Terrestrial planet</td><td> 0.382            </td><td>  58.64           </td><td>FALSE             </td></tr>\n",
       "\t<tr><th scope=row>4</th><td>Mars              </td><td>Terrestrial planet</td><td> 0.532            </td><td>   1.03           </td><td>FALSE             </td></tr>\n",
       "\t<tr><th scope=row>2</th><td>Venus             </td><td>Terrestrial planet</td><td> 0.949            </td><td>-243.02           </td><td>FALSE             </td></tr>\n",
       "\t<tr><th scope=row>3</th><td>Earth             </td><td>Terrestrial planet</td><td> 1.000            </td><td>   1.00           </td><td>FALSE             </td></tr>\n",
       "\t<tr><th scope=row>8</th><td>Neptune           </td><td>Gas giant         </td><td> 3.883            </td><td>   0.67           </td><td> TRUE             </td></tr>\n",
       "\t<tr><th scope=row>7</th><td>Uranus            </td><td>Gas giant         </td><td> 4.007            </td><td>  -0.72           </td><td> TRUE             </td></tr>\n",
       "\t<tr><th scope=row>6</th><td>Saturn            </td><td>Gas giant         </td><td> 9.449            </td><td>   0.43           </td><td> TRUE             </td></tr>\n",
       "\t<tr><th scope=row>5</th><td>Jupiter           </td><td>Gas giant         </td><td>11.209            </td><td>   0.41           </td><td> TRUE             </td></tr>\n",
       "</tbody>\n",
       "</table>\n"
      ],
      "text/latex": [
       "\\begin{tabular}{r|lllll}\n",
       "  & name & type & diameter & rotation & rings\\\\\n",
       "\\hline\n",
       "\t1 & Mercury            & Terrestrial planet &  0.382             &   58.64            & FALSE             \\\\\n",
       "\t4 & Mars               & Terrestrial planet &  0.532             &    1.03            & FALSE             \\\\\n",
       "\t2 & Venus              & Terrestrial planet &  0.949             & -243.02            & FALSE             \\\\\n",
       "\t3 & Earth              & Terrestrial planet &  1.000             &    1.00            & FALSE             \\\\\n",
       "\t8 & Neptune            & Gas giant          &  3.883             &    0.67            &  TRUE             \\\\\n",
       "\t7 & Uranus             & Gas giant          &  4.007             &   -0.72            &  TRUE             \\\\\n",
       "\t6 & Saturn             & Gas giant          &  9.449             &    0.43            &  TRUE             \\\\\n",
       "\t5 & Jupiter            & Gas giant          & 11.209             &    0.41            &  TRUE             \\\\\n",
       "\\end{tabular}\n"
      ],
      "text/markdown": [
       "\n",
       "| <!--/--> | name | type | diameter | rotation | rings |\n",
       "|---|---|---|---|---|---|\n",
       "| 1 | Mercury            | Terrestrial planet |  0.382             |   58.64            | FALSE              |\n",
       "| 4 | Mars               | Terrestrial planet |  0.532             |    1.03            | FALSE              |\n",
       "| 2 | Venus              | Terrestrial planet |  0.949             | -243.02            | FALSE              |\n",
       "| 3 | Earth              | Terrestrial planet |  1.000             |    1.00            | FALSE              |\n",
       "| 8 | Neptune            | Gas giant          |  3.883             |    0.67            |  TRUE              |\n",
       "| 7 | Uranus             | Gas giant          |  4.007             |   -0.72            |  TRUE              |\n",
       "| 6 | Saturn             | Gas giant          |  9.449             |    0.43            |  TRUE              |\n",
       "| 5 | Jupiter            | Gas giant          | 11.209             |    0.41            |  TRUE              |\n",
       "\n"
      ],
      "text/plain": [
       "  name    type               diameter rotation rings\n",
       "1 Mercury Terrestrial planet  0.382     58.64  FALSE\n",
       "4 Mars    Terrestrial planet  0.532      1.03  FALSE\n",
       "2 Venus   Terrestrial planet  0.949   -243.02  FALSE\n",
       "3 Earth   Terrestrial planet  1.000      1.00  FALSE\n",
       "8 Neptune Gas giant           3.883      0.67   TRUE\n",
       "7 Uranus  Gas giant           4.007     -0.72   TRUE\n",
       "6 Saturn  Gas giant           9.449      0.43   TRUE\n",
       "5 Jupiter Gas giant          11.209      0.41   TRUE"
      ]
     },
     "metadata": {},
     "output_type": "display_data"
    }
   ],
   "source": [
    "# Use order() to create positions\n",
    "positions <- order(planets_df$diameter)\n",
    "\n",
    "# Use positions to sort planets_df\n",
    "planets_df[positions, ]"
   ]
  },
  {
   "cell_type": "markdown",
   "id": "a7d21a05-5ae4-410c-a0db-e59a6554d3b8",
   "metadata": {},
   "source": [
    "---\n",
    "**Vectors** (one dimensional array): can hold numeric, character or logical values. The elements in a vector all have the same data type.\n",
    "\n",
    "**Matrices** (two dimensional array): can hold numeric, character or logical values. The elements in a matrix all have the same data type.\n",
    "\n",
    "**Data frames** (two-dimensional objects): can hold numeric, character or logical values. Within a column all elements have the same data type, but different columns can be of different data type."
   ]
  },
  {
   "cell_type": "markdown",
   "id": "51000cc4-3b1a-4835-86fb-2818496b8799",
   "metadata": {},
   "source": [
    "## Lists, why would you need them?\n",
    "A **list** in R is similar to your to-do list at work or school: the different items on that list most likely differ in length, characteristic, and type of activity that has to be done.\n",
    "\n",
    "A list in R allows you to gather a variety of objects under one name (that is, the name of the list) in an ordered way. These objects can be matrices, vectors, data frames, even other lists, etc. It is not even required that these objects are related to each other in any way."
   ]
  },
  {
   "cell_type": "markdown",
   "id": "3d582d99-2145-4b88-948b-2de39573e946",
   "metadata": {},
   "source": [
    "## Creating a list\n",
    "Let us create our first list! To construct a list you use the function `list():`\n",
    "```r\n",
    "my_list <- list(comp1, comp2 ...)\n",
    "```\n",
    "The arguments to the list function are the list components. Remember, these components can be matrices, vectors, other lists, …"
   ]
  },
  {
   "cell_type": "code",
   "execution_count": 66,
   "id": "d2011bb9-14a2-4d03-bc18-dcde9ed675c4",
   "metadata": {},
   "outputs": [],
   "source": [
    "# Vector with numerics from 1 up to 10\n",
    "my_vector <- 1:10 \n",
    "\n",
    "# Matrix with numerics from 1 up to 9\n",
    "my_matrix <- matrix(1:9, ncol = 3)\n",
    "\n",
    "# First 10 elements of the built-in data frame mtcars\n",
    "my_df <- mtcars[1:10,]\n",
    "\n",
    "# Construct list with these different elements:\n",
    "my_list <- list(my_vector, my_matrix, my_df)"
   ]
  },
  {
   "cell_type": "markdown",
   "id": "1f659203-bfb7-4e98-a18d-1af87ed663e0",
   "metadata": {},
   "source": [
    "## Creating a named list\n",
    "Well done, you're on a roll!\n",
    "\n",
    "Just like on your to-do list, you want to avoid not knowing or remembering what the components of your list stand for. That is why you should give names to them:\n",
    "```r\n",
    "my_list <- list(name1 = your_comp1, \n",
    "                name2 = your_comp2)\n",
    "```\n",
    "This creates a list with components that are named `name1`, `name2`, and so on. If you want to name your lists after you've created them, you can use the `names()` function as you did with vectors. The following commands are fully equivalent to the assignment above:\n",
    "```r\n",
    "my_list <- list(your_comp1, your_comp2)\n",
    "names(my_list) <- c(\"name1\", \"name2\")\n",
    "```"
   ]
  },
  {
   "cell_type": "code",
   "execution_count": 67,
   "id": "14d0926e-52b0-48fc-9d9f-4c2f544b57b5",
   "metadata": {},
   "outputs": [
    {
     "data": {
      "text/html": [
       "<dl>\n",
       "\t<dt>$vec</dt>\n",
       "\t\t<dd><ol class=list-inline>\n",
       "\t<li>1</li>\n",
       "\t<li>2</li>\n",
       "\t<li>3</li>\n",
       "\t<li>4</li>\n",
       "\t<li>5</li>\n",
       "\t<li>6</li>\n",
       "\t<li>7</li>\n",
       "\t<li>8</li>\n",
       "\t<li>9</li>\n",
       "\t<li>10</li>\n",
       "</ol>\n",
       "</dd>\n",
       "\t<dt>$mat</dt>\n",
       "\t\t<dd><table>\n",
       "<tbody>\n",
       "\t<tr><td>1</td><td>4</td><td>7</td></tr>\n",
       "\t<tr><td>2</td><td>5</td><td>8</td></tr>\n",
       "\t<tr><td>3</td><td>6</td><td>9</td></tr>\n",
       "</tbody>\n",
       "</table>\n",
       "</dd>\n",
       "\t<dt>$df</dt>\n",
       "\t\t<dd><table>\n",
       "<thead><tr><th></th><th scope=col>mpg</th><th scope=col>cyl</th><th scope=col>disp</th><th scope=col>hp</th><th scope=col>drat</th><th scope=col>wt</th><th scope=col>qsec</th><th scope=col>vs</th><th scope=col>am</th><th scope=col>gear</th><th scope=col>carb</th></tr></thead>\n",
       "<tbody>\n",
       "\t<tr><th scope=row>Mazda RX4</th><td>21.0 </td><td>6    </td><td>160.0</td><td>110  </td><td>3.90 </td><td>2.620</td><td>16.46</td><td>0    </td><td>1    </td><td>4    </td><td>4    </td></tr>\n",
       "\t<tr><th scope=row>Mazda RX4 Wag</th><td>21.0 </td><td>6    </td><td>160.0</td><td>110  </td><td>3.90 </td><td>2.875</td><td>17.02</td><td>0    </td><td>1    </td><td>4    </td><td>4    </td></tr>\n",
       "\t<tr><th scope=row>Datsun 710</th><td>22.8 </td><td>4    </td><td>108.0</td><td> 93  </td><td>3.85 </td><td>2.320</td><td>18.61</td><td>1    </td><td>1    </td><td>4    </td><td>1    </td></tr>\n",
       "\t<tr><th scope=row>Hornet 4 Drive</th><td>21.4 </td><td>6    </td><td>258.0</td><td>110  </td><td>3.08 </td><td>3.215</td><td>19.44</td><td>1    </td><td>0    </td><td>3    </td><td>1    </td></tr>\n",
       "\t<tr><th scope=row>Hornet Sportabout</th><td>18.7 </td><td>8    </td><td>360.0</td><td>175  </td><td>3.15 </td><td>3.440</td><td>17.02</td><td>0    </td><td>0    </td><td>3    </td><td>2    </td></tr>\n",
       "\t<tr><th scope=row>Valiant</th><td>18.1 </td><td>6    </td><td>225.0</td><td>105  </td><td>2.76 </td><td>3.460</td><td>20.22</td><td>1    </td><td>0    </td><td>3    </td><td>1    </td></tr>\n",
       "\t<tr><th scope=row>Duster 360</th><td>14.3 </td><td>8    </td><td>360.0</td><td>245  </td><td>3.21 </td><td>3.570</td><td>15.84</td><td>0    </td><td>0    </td><td>3    </td><td>4    </td></tr>\n",
       "\t<tr><th scope=row>Merc 240D</th><td>24.4 </td><td>4    </td><td>146.7</td><td> 62  </td><td>3.69 </td><td>3.190</td><td>20.00</td><td>1    </td><td>0    </td><td>4    </td><td>2    </td></tr>\n",
       "\t<tr><th scope=row>Merc 230</th><td>22.8 </td><td>4    </td><td>140.8</td><td> 95  </td><td>3.92 </td><td>3.150</td><td>22.90</td><td>1    </td><td>0    </td><td>4    </td><td>2    </td></tr>\n",
       "\t<tr><th scope=row>Merc 280</th><td>19.2 </td><td>6    </td><td>167.6</td><td>123  </td><td>3.92 </td><td>3.440</td><td>18.30</td><td>1    </td><td>0    </td><td>4    </td><td>4    </td></tr>\n",
       "</tbody>\n",
       "</table>\n",
       "</dd>\n",
       "</dl>\n"
      ],
      "text/latex": [
       "\\begin{description}\n",
       "\\item[\\$vec] \\begin{enumerate*}\n",
       "\\item 1\n",
       "\\item 2\n",
       "\\item 3\n",
       "\\item 4\n",
       "\\item 5\n",
       "\\item 6\n",
       "\\item 7\n",
       "\\item 8\n",
       "\\item 9\n",
       "\\item 10\n",
       "\\end{enumerate*}\n",
       "\n",
       "\\item[\\$mat] \\begin{tabular}{lll}\n",
       "\t 1 & 4 & 7\\\\\n",
       "\t 2 & 5 & 8\\\\\n",
       "\t 3 & 6 & 9\\\\\n",
       "\\end{tabular}\n",
       "\n",
       "\\item[\\$df] \\begin{tabular}{r|lllllllllll}\n",
       "  & mpg & cyl & disp & hp & drat & wt & qsec & vs & am & gear & carb\\\\\n",
       "\\hline\n",
       "\tMazda RX4 & 21.0  & 6     & 160.0 & 110   & 3.90  & 2.620 & 16.46 & 0     & 1     & 4     & 4    \\\\\n",
       "\tMazda RX4 Wag & 21.0  & 6     & 160.0 & 110   & 3.90  & 2.875 & 17.02 & 0     & 1     & 4     & 4    \\\\\n",
       "\tDatsun 710 & 22.8  & 4     & 108.0 &  93   & 3.85  & 2.320 & 18.61 & 1     & 1     & 4     & 1    \\\\\n",
       "\tHornet 4 Drive & 21.4  & 6     & 258.0 & 110   & 3.08  & 3.215 & 19.44 & 1     & 0     & 3     & 1    \\\\\n",
       "\tHornet Sportabout & 18.7  & 8     & 360.0 & 175   & 3.15  & 3.440 & 17.02 & 0     & 0     & 3     & 2    \\\\\n",
       "\tValiant & 18.1  & 6     & 225.0 & 105   & 2.76  & 3.460 & 20.22 & 1     & 0     & 3     & 1    \\\\\n",
       "\tDuster 360 & 14.3  & 8     & 360.0 & 245   & 3.21  & 3.570 & 15.84 & 0     & 0     & 3     & 4    \\\\\n",
       "\tMerc 240D & 24.4  & 4     & 146.7 &  62   & 3.69  & 3.190 & 20.00 & 1     & 0     & 4     & 2    \\\\\n",
       "\tMerc 230 & 22.8  & 4     & 140.8 &  95   & 3.92  & 3.150 & 22.90 & 1     & 0     & 4     & 2    \\\\\n",
       "\tMerc 280 & 19.2  & 6     & 167.6 & 123   & 3.92  & 3.440 & 18.30 & 1     & 0     & 4     & 4    \\\\\n",
       "\\end{tabular}\n",
       "\n",
       "\\end{description}\n"
      ],
      "text/markdown": [
       "$vec\n",
       ":   1. 1\n",
       "2. 2\n",
       "3. 3\n",
       "4. 4\n",
       "5. 5\n",
       "6. 6\n",
       "7. 7\n",
       "8. 8\n",
       "9. 9\n",
       "10. 10\n",
       "\n",
       "\n",
       "\n",
       "$mat\n",
       ":   \n",
       "| 1 | 4 | 7 |\n",
       "| 2 | 5 | 8 |\n",
       "| 3 | 6 | 9 |\n",
       "\n",
       "\n",
       "$df\n",
       ":   \n",
       "| <!--/--> | mpg | cyl | disp | hp | drat | wt | qsec | vs | am | gear | carb |\n",
       "|---|---|---|---|---|---|---|---|---|---|---|---|\n",
       "| Mazda RX4 | 21.0  | 6     | 160.0 | 110   | 3.90  | 2.620 | 16.46 | 0     | 1     | 4     | 4     |\n",
       "| Mazda RX4 Wag | 21.0  | 6     | 160.0 | 110   | 3.90  | 2.875 | 17.02 | 0     | 1     | 4     | 4     |\n",
       "| Datsun 710 | 22.8  | 4     | 108.0 |  93   | 3.85  | 2.320 | 18.61 | 1     | 1     | 4     | 1     |\n",
       "| Hornet 4 Drive | 21.4  | 6     | 258.0 | 110   | 3.08  | 3.215 | 19.44 | 1     | 0     | 3     | 1     |\n",
       "| Hornet Sportabout | 18.7  | 8     | 360.0 | 175   | 3.15  | 3.440 | 17.02 | 0     | 0     | 3     | 2     |\n",
       "| Valiant | 18.1  | 6     | 225.0 | 105   | 2.76  | 3.460 | 20.22 | 1     | 0     | 3     | 1     |\n",
       "| Duster 360 | 14.3  | 8     | 360.0 | 245   | 3.21  | 3.570 | 15.84 | 0     | 0     | 3     | 4     |\n",
       "| Merc 240D | 24.4  | 4     | 146.7 |  62   | 3.69  | 3.190 | 20.00 | 1     | 0     | 4     | 2     |\n",
       "| Merc 230 | 22.8  | 4     | 140.8 |  95   | 3.92  | 3.150 | 22.90 | 1     | 0     | 4     | 2     |\n",
       "| Merc 280 | 19.2  | 6     | 167.6 | 123   | 3.92  | 3.440 | 18.30 | 1     | 0     | 4     | 4     |\n",
       "\n",
       "\n",
       "\n",
       "\n"
      ],
      "text/plain": [
       "$vec\n",
       " [1]  1  2  3  4  5  6  7  8  9 10\n",
       "\n",
       "$mat\n",
       "     [,1] [,2] [,3]\n",
       "[1,]    1    4    7\n",
       "[2,]    2    5    8\n",
       "[3,]    3    6    9\n",
       "\n",
       "$df\n",
       "                   mpg cyl  disp  hp drat    wt  qsec vs am gear carb\n",
       "Mazda RX4         21.0   6 160.0 110 3.90 2.620 16.46  0  1    4    4\n",
       "Mazda RX4 Wag     21.0   6 160.0 110 3.90 2.875 17.02  0  1    4    4\n",
       "Datsun 710        22.8   4 108.0  93 3.85 2.320 18.61  1  1    4    1\n",
       "Hornet 4 Drive    21.4   6 258.0 110 3.08 3.215 19.44  1  0    3    1\n",
       "Hornet Sportabout 18.7   8 360.0 175 3.15 3.440 17.02  0  0    3    2\n",
       "Valiant           18.1   6 225.0 105 2.76 3.460 20.22  1  0    3    1\n",
       "Duster 360        14.3   8 360.0 245 3.21 3.570 15.84  0  0    3    4\n",
       "Merc 240D         24.4   4 146.7  62 3.69 3.190 20.00  1  0    4    2\n",
       "Merc 230          22.8   4 140.8  95 3.92 3.150 22.90  1  0    4    2\n",
       "Merc 280          19.2   6 167.6 123 3.92 3.440 18.30  1  0    4    4\n"
      ]
     },
     "metadata": {},
     "output_type": "display_data"
    }
   ],
   "source": [
    "# Adapt list() call to give the components names\n",
    "my_list <- list(vec=my_vector, mat=my_matrix, df=my_df)\n",
    "\n",
    "# Print out my_list\n",
    "my_list"
   ]
  },
  {
   "cell_type": "markdown",
   "id": "d1ea9e50-2cba-4e8c-ae0a-2c22909f53af",
   "metadata": {},
   "source": [
    "## Creating a named list (2)\n",
    "Being a huge movie fan (remember your job at LucasFilms), you decide to start storing information on good movies with the help of lists.\n",
    "\n",
    "Start by creating a list for the movie \"The Shining\". "
   ]
  },
  {
   "cell_type": "code",
   "execution_count": 71,
   "id": "05930b5d-bce1-4f15-af06-c75e27452c56",
   "metadata": {},
   "outputs": [],
   "source": [
    "mov <- \"The Shining\"\n",
    "act <- c(\"Jack Nicholson\", \"Shelley Duvall\", \"Danny Lloyd\", \"Scatman Crothers\", \"Barry Nelson\")\n",
    "\n",
    "scores <- c(4.5, 4.0, 5.0)\n",
    "sources <- c(\"IMDb1\", \"IMDb2\", \"IMDb3\")\n",
    "comments <- c(\"Best Horror Film I Have Ever Seen\", \"A truly brilliant and scary film from Stanley Kubrick\", \"A masterpiece of psychological horror\")\n",
    "\n",
    "rev <- data.frame(scores, sources, comments)\n"
   ]
  },
  {
   "cell_type": "code",
   "execution_count": 72,
   "id": "5f8fcd13-2bda-4eaf-872c-f05fc5ec4008",
   "metadata": {},
   "outputs": [],
   "source": [
    "shining_list <- list(moviename = mov, actors = act, reviews = rev)"
   ]
  },
  {
   "cell_type": "markdown",
   "id": "38fd323a-d9a7-4dc3-972b-5611b5d876a1",
   "metadata": {},
   "source": [
    "## Selecting elements from a list\n",
    "Your list will often be built out of numerous elements and components. Therefore, getting a single element, multiple elements, or a component out of it is not always straightforward.\n",
    "\n",
    "One way to select a component is using the numbered position of that component. For example, to \"grab\" the first component of `shining_list` you type\n",
    "```r\n",
    "shining_list[[1]]\n",
    "```\n",
    "A quick way to check this out is typing it in the console. Important to remember: to select elements from vectors, you use single square brackets: `[ ]`. Don't mix them up.\n",
    "\n",
    "You can also refer to the names of the components, with `[[ ]]` or with the `$` sign. Both will select the data frame representing the reviews:\n",
    "```r\n",
    "shining_list[[\"reviews\"]]\n",
    "shining_list$reviews\n",
    "```\n",
    "Besides selecting components, you often need to select specific elements out of these components. For example, with `shining_list[[2]][1]` you select from the second component, `actors` (`shining_list[[2]]`), the first element (`[1]`). When you type this in the console, you will see the answer is Jack Nicholson."
   ]
  },
  {
   "cell_type": "code",
   "execution_count": 75,
   "id": "e2c4a2da-5295-4075-8e3a-90fe1dcf5ca8",
   "metadata": {},
   "outputs": [
    {
     "data": {
      "text/html": [
       "<ol class=list-inline>\n",
       "\t<li>'Jack Nicholson'</li>\n",
       "\t<li>'Shelley Duvall'</li>\n",
       "\t<li>'Danny Lloyd'</li>\n",
       "\t<li>'Scatman Crothers'</li>\n",
       "\t<li>'Barry Nelson'</li>\n",
       "</ol>\n"
      ],
      "text/latex": [
       "\\begin{enumerate*}\n",
       "\\item 'Jack Nicholson'\n",
       "\\item 'Shelley Duvall'\n",
       "\\item 'Danny Lloyd'\n",
       "\\item 'Scatman Crothers'\n",
       "\\item 'Barry Nelson'\n",
       "\\end{enumerate*}\n"
      ],
      "text/markdown": [
       "1. 'Jack Nicholson'\n",
       "2. 'Shelley Duvall'\n",
       "3. 'Danny Lloyd'\n",
       "4. 'Scatman Crothers'\n",
       "5. 'Barry Nelson'\n",
       "\n",
       "\n"
      ],
      "text/plain": [
       "[1] \"Jack Nicholson\"   \"Shelley Duvall\"   \"Danny Lloyd\"      \"Scatman Crothers\"\n",
       "[5] \"Barry Nelson\"    "
      ]
     },
     "metadata": {},
     "output_type": "display_data"
    }
   ],
   "source": [
    "# Print out the vector representing the actors\n",
    "shining_list$actors"
   ]
  },
  {
   "cell_type": "code",
   "execution_count": 76,
   "id": "8590b9a2-2631-4256-9a3a-444fd9bc4ec5",
   "metadata": {},
   "outputs": [
    {
     "data": {
      "text/html": [
       "'Shelley Duvall'"
      ],
      "text/latex": [
       "'Shelley Duvall'"
      ],
      "text/markdown": [
       "'Shelley Duvall'"
      ],
      "text/plain": [
       "[1] \"Shelley Duvall\""
      ]
     },
     "metadata": {},
     "output_type": "display_data"
    }
   ],
   "source": [
    "# Print the second element of the vector representing the actors\n",
    "shining_list[[2]][2]"
   ]
  },
  {
   "cell_type": "code",
   "execution_count": 78,
   "id": "4e0f3e05-5ee6-4985-9d9d-a8eba95756e6",
   "metadata": {},
   "outputs": [
    {
     "data": {
      "text/html": [
       "<ol>\n",
       "\t<li>'The Departed'</li>\n",
       "\t<li><ol class=list-inline>\n",
       "\t<li>'Leonardo DiCaprio'</li>\n",
       "\t<li>'Matt Damon'</li>\n",
       "\t<li>'Jack Nicholson'</li>\n",
       "\t<li>'Mark Wahlberg'</li>\n",
       "\t<li>'Vera Farmiga'</li>\n",
       "\t<li>'Martin Sheen'</li>\n",
       "</ol>\n",
       "</li>\n",
       "\t<li><table>\n",
       "<thead><tr><th scope=col>scores</th><th scope=col>comments</th></tr></thead>\n",
       "<tbody>\n",
       "\t<tr><td>4.6                   </td><td>I would watch it again</td></tr>\n",
       "\t<tr><td>5.0                   </td><td>Amazing!              </td></tr>\n",
       "\t<tr><td>4.8                   </td><td>I liked it            </td></tr>\n",
       "\t<tr><td>5.0                   </td><td>One of the best movies</td></tr>\n",
       "\t<tr><td>4.2                   </td><td>Fascinating plot      </td></tr>\n",
       "</tbody>\n",
       "</table>\n",
       "</li>\n",
       "\t<li>4.72</li>\n",
       "</ol>\n"
      ],
      "text/latex": [
       "\\begin{enumerate}\n",
       "\\item 'The Departed'\n",
       "\\item \\begin{enumerate*}\n",
       "\\item 'Leonardo DiCaprio'\n",
       "\\item 'Matt Damon'\n",
       "\\item 'Jack Nicholson'\n",
       "\\item 'Mark Wahlberg'\n",
       "\\item 'Vera Farmiga'\n",
       "\\item 'Martin Sheen'\n",
       "\\end{enumerate*}\n",
       "\n",
       "\\item \\begin{tabular}{r|ll}\n",
       " scores & comments\\\\\n",
       "\\hline\n",
       "\t 4.6                    & I would watch it again\\\\\n",
       "\t 5.0                    & Amazing!              \\\\\n",
       "\t 4.8                    & I liked it            \\\\\n",
       "\t 5.0                    & One of the best movies\\\\\n",
       "\t 4.2                    & Fascinating plot      \\\\\n",
       "\\end{tabular}\n",
       "\n",
       "\\item 4.72\n",
       "\\end{enumerate}\n"
      ],
      "text/markdown": [
       "1. 'The Departed'\n",
       "2. 1. 'Leonardo DiCaprio'\n",
       "2. 'Matt Damon'\n",
       "3. 'Jack Nicholson'\n",
       "4. 'Mark Wahlberg'\n",
       "5. 'Vera Farmiga'\n",
       "6. 'Martin Sheen'\n",
       "\n",
       "\n",
       "\n",
       "3. \n",
       "| scores | comments |\n",
       "|---|---|\n",
       "| 4.6                    | I would watch it again |\n",
       "| 5.0                    | Amazing!               |\n",
       "| 4.8                    | I liked it             |\n",
       "| 5.0                    | One of the best movies |\n",
       "| 4.2                    | Fascinating plot       |\n",
       "\n",
       "\n",
       "4. 4.72\n",
       "\n",
       "\n"
      ],
      "text/plain": [
       "[[1]]\n",
       "[1] \"The Departed\"\n",
       "\n",
       "[[2]]\n",
       "[1] \"Leonardo DiCaprio\" \"Matt Damon\"        \"Jack Nicholson\"   \n",
       "[4] \"Mark Wahlberg\"     \"Vera Farmiga\"      \"Martin Sheen\"     \n",
       "\n",
       "[[3]]\n",
       "  scores               comments\n",
       "1    4.6 I would watch it again\n",
       "2    5.0               Amazing!\n",
       "3    4.8             I liked it\n",
       "4    5.0 One of the best movies\n",
       "5    4.2       Fascinating plot\n",
       "\n",
       "[[4]]\n",
       "[1] 4.72\n"
      ]
     },
     "metadata": {},
     "output_type": "display_data"
    }
   ],
   "source": [
    "movie_title <- \"The Departed\"\n",
    "movie_actors <- c(\"Leonardo DiCaprio\", \"Matt Damon\", \"Jack Nicholson\", \"Mark Wahlberg\", \"Vera Farmiga\", \"Martin Sheen\")\n",
    "\n",
    "# Use the table from the exercise to define the comments and scores vectors\n",
    "scores <- c(4.6, 5, 4.8, 5, 4.2)\n",
    "comments <- c(\"I would watch it again\", \"Amazing!\", \"I liked it\", \"One of the best movies\", \"Fascinating plot\")\n",
    "\n",
    "# Save the average of the scores vector as avg_review  \n",
    "avg_review <- mean(scores)\n",
    "\n",
    "# Combine scores and comments into the reviews_df data frame\n",
    "reviews_df <- data.frame(scores, comments)\n",
    "\n",
    "# Create and print out a list, called departed_list\n",
    "departed_list <- list(movie_title, movie_actors, reviews_df, avg_review)\n",
    "\n",
    "departed_list"
   ]
  },
  {
   "cell_type": "code",
   "execution_count": null,
   "id": "5e945b97-b54e-4221-837b-eebcd6e49e3e",
   "metadata": {},
   "outputs": [],
   "source": []
  }
 ],
 "metadata": {
  "kernelspec": {
   "display_name": "R",
   "language": "R",
   "name": "ir"
  },
  "language_info": {
   "codemirror_mode": "r",
   "file_extension": ".r",
   "mimetype": "text/x-r-source",
   "name": "R",
   "pygments_lexer": "r",
   "version": "3.6.1"
  }
 },
 "nbformat": 4,
 "nbformat_minor": 5
}
